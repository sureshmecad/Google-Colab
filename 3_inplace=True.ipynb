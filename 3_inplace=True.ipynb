{
  "nbformat": 4,
  "nbformat_minor": 0,
  "metadata": {
    "colab": {
      "name": "3_inplace=True.ipynb",
      "provenance": [],
      "collapsed_sections": [],
      "authorship_tag": "ABX9TyOutSiO54ViDR8mDPcT8rAj",
      "include_colab_link": true
    },
    "kernelspec": {
      "name": "python3",
      "display_name": "Python 3"
    },
    "language_info": {
      "name": "python"
    }
  },
  "cells": [
    {
      "cell_type": "markdown",
      "metadata": {
        "id": "view-in-github",
        "colab_type": "text"
      },
      "source": [
        "<a href=\"https://colab.research.google.com/github/sureshmecad/Google-Colab/blob/master/3_inplace%3DTrue.ipynb\" target=\"_parent\"><img src=\"https://colab.research.google.com/assets/colab-badge.svg\" alt=\"Open In Colab\"/></a>"
      ]
    },
    {
      "cell_type": "markdown",
      "metadata": {
        "id": "q8UC9JZqxH8a"
      },
      "source": [
        "- https://www.aboutdatablog.com/post/learn-how-to-use-pandas-inplace-parameter-once-and-for-all"
      ]
    },
    {
      "cell_type": "markdown",
      "metadata": {
        "id": "bTnP8QndxbQJ"
      },
      "source": [
        "#### **Functions that use inplace paarmeter**"
      ]
    },
    {
      "cell_type": "markdown",
      "metadata": {
        "id": "tYMOiy5PxcyZ"
      },
      "source": [
        "- Let’s have a look at some examples of **functions that use inplace**:\n",
        "\n",
        " - fillna()\n",
        "\n",
        " - dropna()\n",
        "\n",
        " - sort_values()\n",
        "\n",
        " - reset_index()\n",
        "\n",
        " - sort_index()\n",
        "\n",
        " - rename()\n"
      ]
    },
    {
      "cell_type": "code",
      "metadata": {
        "id": "-skC-PAKx83N"
      },
      "source": [
        "import pandas as pd\n",
        "import numpy as np"
      ],
      "execution_count": 1,
      "outputs": []
    },
    {
      "cell_type": "code",
      "metadata": {
        "colab": {
          "base_uri": "https://localhost:8080/",
          "height": 202
        },
        "id": "KUl8WgeMw9yL",
        "outputId": "b1297f50-27fd-4a58-93fe-f0c512c70a53"
      },
      "source": [
        "client_dictionary = {'name': ['Michael', 'Ana', 'Sean', 'Carl', 'Bob'], \n",
        "                     'second name': [None, 'Angel', 'Ben', 'Frank', 'Daniel'],\n",
        "                     'birth place': ['New York', 'New York', 'Los Angeles', 'New York', 'New York'],\n",
        "                     'age': [10, 35, 56, None, 28],\n",
        "                     'number of children': [0, None, 2, 1, 1]}\n",
        "\n",
        "df = pd.DataFrame(client_dictionary)\n",
        "df.head()"
      ],
      "execution_count": 2,
      "outputs": [
        {
          "output_type": "execute_result",
          "data": {
            "text/html": [
              "<div>\n",
              "<style scoped>\n",
              "    .dataframe tbody tr th:only-of-type {\n",
              "        vertical-align: middle;\n",
              "    }\n",
              "\n",
              "    .dataframe tbody tr th {\n",
              "        vertical-align: top;\n",
              "    }\n",
              "\n",
              "    .dataframe thead th {\n",
              "        text-align: right;\n",
              "    }\n",
              "</style>\n",
              "<table border=\"1\" class=\"dataframe\">\n",
              "  <thead>\n",
              "    <tr style=\"text-align: right;\">\n",
              "      <th></th>\n",
              "      <th>name</th>\n",
              "      <th>second name</th>\n",
              "      <th>birth place</th>\n",
              "      <th>age</th>\n",
              "      <th>number of children</th>\n",
              "    </tr>\n",
              "  </thead>\n",
              "  <tbody>\n",
              "    <tr>\n",
              "      <th>0</th>\n",
              "      <td>Michael</td>\n",
              "      <td>None</td>\n",
              "      <td>New York</td>\n",
              "      <td>10.0</td>\n",
              "      <td>0.0</td>\n",
              "    </tr>\n",
              "    <tr>\n",
              "      <th>1</th>\n",
              "      <td>Ana</td>\n",
              "      <td>Angel</td>\n",
              "      <td>New York</td>\n",
              "      <td>35.0</td>\n",
              "      <td>NaN</td>\n",
              "    </tr>\n",
              "    <tr>\n",
              "      <th>2</th>\n",
              "      <td>Sean</td>\n",
              "      <td>Ben</td>\n",
              "      <td>Los Angeles</td>\n",
              "      <td>56.0</td>\n",
              "      <td>2.0</td>\n",
              "    </tr>\n",
              "    <tr>\n",
              "      <th>3</th>\n",
              "      <td>Carl</td>\n",
              "      <td>Frank</td>\n",
              "      <td>New York</td>\n",
              "      <td>NaN</td>\n",
              "      <td>1.0</td>\n",
              "    </tr>\n",
              "    <tr>\n",
              "      <th>4</th>\n",
              "      <td>Bob</td>\n",
              "      <td>Daniel</td>\n",
              "      <td>New York</td>\n",
              "      <td>28.0</td>\n",
              "      <td>1.0</td>\n",
              "    </tr>\n",
              "  </tbody>\n",
              "</table>\n",
              "</div>"
            ],
            "text/plain": [
              "      name second name  birth place   age  number of children\n",
              "0  Michael        None     New York  10.0                 0.0\n",
              "1      Ana       Angel     New York  35.0                 NaN\n",
              "2     Sean         Ben  Los Angeles  56.0                 2.0\n",
              "3     Carl       Frank     New York   NaN                 1.0\n",
              "4      Bob      Daniel     New York  28.0                 1.0"
            ]
          },
          "metadata": {
            "tags": []
          },
          "execution_count": 2
        }
      ]
    },
    {
      "cell_type": "markdown",
      "metadata": {
        "id": "JXWMRzS1yOJ1"
      },
      "source": [
        "- We have created a data frame with five rows with the following columns: name, second name, birthplace, and number of children. Note that there are some missing values in age, second name, and children column (NaNs).\n",
        "\n",
        "- We will now demonstrate how dropna() function works with inplace parameter. Because we would like to examine two different variants we are going to create two copies of our original data frame."
      ]
    },
    {
      "cell_type": "code",
      "metadata": {
        "id": "nNKhX4gcx811"
      },
      "source": [
        "df_1 = df.copy()\n",
        "df_2 = df.copy()"
      ],
      "execution_count": 3,
      "outputs": []
    },
    {
      "cell_type": "markdown",
      "metadata": {
        "id": "nnxySUbJyc5w"
      },
      "source": [
        "#### **dropna() with inplace = True**"
      ]
    },
    {
      "cell_type": "markdown",
      "metadata": {
        "id": "HtHDxL5qyc4f"
      },
      "source": [
        "- Let’s start with the variation where **inplace=True**. The code below **drops all missing rows with missing values.**"
      ]
    },
    {
      "cell_type": "code",
      "metadata": {
        "id": "CvdYsI4Sy1NI"
      },
      "source": [
        "df_1.dropna(inplace=True)"
      ],
      "execution_count": 4,
      "outputs": []
    },
    {
      "cell_type": "markdown",
      "metadata": {
        "id": "VquzkODVy_-c"
      },
      "source": [
        "- If you run this in Jupyter notebook you will see that the **cell has no output**. This is because function with **inplace=True** does **not return anything.** It modifies an existing data frame with the desired operation and does it ‘in place’, that is on the original data frame.\n",
        "\n",
        "- If you run head() function on the data frame you should see that two rows are dropped."
      ]
    },
    {
      "cell_type": "code",
      "metadata": {
        "colab": {
          "base_uri": "https://localhost:8080/",
          "height": 110
        },
        "id": "-FN1RZSSy1OS",
        "outputId": "98c49744-c215-4553-958b-6e81d4a9cc99"
      },
      "source": [
        "df_1.head()"
      ],
      "execution_count": 5,
      "outputs": [
        {
          "output_type": "execute_result",
          "data": {
            "text/html": [
              "<div>\n",
              "<style scoped>\n",
              "    .dataframe tbody tr th:only-of-type {\n",
              "        vertical-align: middle;\n",
              "    }\n",
              "\n",
              "    .dataframe tbody tr th {\n",
              "        vertical-align: top;\n",
              "    }\n",
              "\n",
              "    .dataframe thead th {\n",
              "        text-align: right;\n",
              "    }\n",
              "</style>\n",
              "<table border=\"1\" class=\"dataframe\">\n",
              "  <thead>\n",
              "    <tr style=\"text-align: right;\">\n",
              "      <th></th>\n",
              "      <th>name</th>\n",
              "      <th>second name</th>\n",
              "      <th>birth place</th>\n",
              "      <th>age</th>\n",
              "      <th>number of children</th>\n",
              "    </tr>\n",
              "  </thead>\n",
              "  <tbody>\n",
              "    <tr>\n",
              "      <th>2</th>\n",
              "      <td>Sean</td>\n",
              "      <td>Ben</td>\n",
              "      <td>Los Angeles</td>\n",
              "      <td>56.0</td>\n",
              "      <td>2.0</td>\n",
              "    </tr>\n",
              "    <tr>\n",
              "      <th>4</th>\n",
              "      <td>Bob</td>\n",
              "      <td>Daniel</td>\n",
              "      <td>New York</td>\n",
              "      <td>28.0</td>\n",
              "      <td>1.0</td>\n",
              "    </tr>\n",
              "  </tbody>\n",
              "</table>\n",
              "</div>"
            ],
            "text/plain": [
              "   name second name  birth place   age  number of children\n",
              "2  Sean         Ben  Los Angeles  56.0                 2.0\n",
              "4   Bob      Daniel     New York  28.0                 1.0"
            ]
          },
          "metadata": {
            "tags": []
          },
          "execution_count": 5
        }
      ]
    },
    {
      "cell_type": "markdown",
      "metadata": {
        "id": "qnq2MMEoy_9A"
      },
      "source": [
        "#### **dropna() with inplace = False (default)**"
      ]
    },
    {
      "cell_type": "markdown",
      "metadata": {
        "id": "PDEfGxZ7zrtC"
      },
      "source": [
        "- Now let’s run the same code with **inplace = False.** Note that we are now going to use df_2 version of data frame this time."
      ]
    },
    {
      "cell_type": "code",
      "metadata": {
        "colab": {
          "base_uri": "https://localhost:8080/",
          "height": 110
        },
        "id": "YZiOO9TQzlVc",
        "outputId": "c422104d-20cc-4dbf-a399-b520f0570a9a"
      },
      "source": [
        "df_2.dropna(inplace=False)"
      ],
      "execution_count": 6,
      "outputs": [
        {
          "output_type": "execute_result",
          "data": {
            "text/html": [
              "<div>\n",
              "<style scoped>\n",
              "    .dataframe tbody tr th:only-of-type {\n",
              "        vertical-align: middle;\n",
              "    }\n",
              "\n",
              "    .dataframe tbody tr th {\n",
              "        vertical-align: top;\n",
              "    }\n",
              "\n",
              "    .dataframe thead th {\n",
              "        text-align: right;\n",
              "    }\n",
              "</style>\n",
              "<table border=\"1\" class=\"dataframe\">\n",
              "  <thead>\n",
              "    <tr style=\"text-align: right;\">\n",
              "      <th></th>\n",
              "      <th>name</th>\n",
              "      <th>second name</th>\n",
              "      <th>birth place</th>\n",
              "      <th>age</th>\n",
              "      <th>number of children</th>\n",
              "    </tr>\n",
              "  </thead>\n",
              "  <tbody>\n",
              "    <tr>\n",
              "      <th>2</th>\n",
              "      <td>Sean</td>\n",
              "      <td>Ben</td>\n",
              "      <td>Los Angeles</td>\n",
              "      <td>56.0</td>\n",
              "      <td>2.0</td>\n",
              "    </tr>\n",
              "    <tr>\n",
              "      <th>4</th>\n",
              "      <td>Bob</td>\n",
              "      <td>Daniel</td>\n",
              "      <td>New York</td>\n",
              "      <td>28.0</td>\n",
              "      <td>1.0</td>\n",
              "    </tr>\n",
              "  </tbody>\n",
              "</table>\n",
              "</div>"
            ],
            "text/plain": [
              "   name second name  birth place   age  number of children\n",
              "2  Sean         Ben  Los Angeles  56.0                 2.0\n",
              "4   Bob      Daniel     New York  28.0                 1.0"
            ]
          },
          "metadata": {
            "tags": []
          },
          "execution_count": 6
        }
      ]
    },
    {
      "cell_type": "markdown",
      "metadata": {
        "id": "N1QrwdX8z9Ej"
      },
      "source": [
        "- If you run this code in Jupyter notebook you will see that **there is an output** (the screenshot above). The function with **inplace = False** returns a **data frame with dropped rows.**\n",
        "\n",
        "- Remember that when **inplace was set to True nothing was returned** but the **original data frame was modified.**\n",
        "\n",
        "- So what happens with the original data frame this time? Let’s call head() function to check."
      ]
    },
    {
      "cell_type": "code",
      "metadata": {
        "colab": {
          "base_uri": "https://localhost:8080/",
          "height": 202
        },
        "id": "4nbhrsWs0Unj",
        "outputId": "efb7788a-3845-44ad-df07-575fb2f95802"
      },
      "source": [
        "df_2.head()"
      ],
      "execution_count": 7,
      "outputs": [
        {
          "output_type": "execute_result",
          "data": {
            "text/html": [
              "<div>\n",
              "<style scoped>\n",
              "    .dataframe tbody tr th:only-of-type {\n",
              "        vertical-align: middle;\n",
              "    }\n",
              "\n",
              "    .dataframe tbody tr th {\n",
              "        vertical-align: top;\n",
              "    }\n",
              "\n",
              "    .dataframe thead th {\n",
              "        text-align: right;\n",
              "    }\n",
              "</style>\n",
              "<table border=\"1\" class=\"dataframe\">\n",
              "  <thead>\n",
              "    <tr style=\"text-align: right;\">\n",
              "      <th></th>\n",
              "      <th>name</th>\n",
              "      <th>second name</th>\n",
              "      <th>birth place</th>\n",
              "      <th>age</th>\n",
              "      <th>number of children</th>\n",
              "    </tr>\n",
              "  </thead>\n",
              "  <tbody>\n",
              "    <tr>\n",
              "      <th>0</th>\n",
              "      <td>Michael</td>\n",
              "      <td>None</td>\n",
              "      <td>New York</td>\n",
              "      <td>10.0</td>\n",
              "      <td>0.0</td>\n",
              "    </tr>\n",
              "    <tr>\n",
              "      <th>1</th>\n",
              "      <td>Ana</td>\n",
              "      <td>Angel</td>\n",
              "      <td>New York</td>\n",
              "      <td>35.0</td>\n",
              "      <td>NaN</td>\n",
              "    </tr>\n",
              "    <tr>\n",
              "      <th>2</th>\n",
              "      <td>Sean</td>\n",
              "      <td>Ben</td>\n",
              "      <td>Los Angeles</td>\n",
              "      <td>56.0</td>\n",
              "      <td>2.0</td>\n",
              "    </tr>\n",
              "    <tr>\n",
              "      <th>3</th>\n",
              "      <td>Carl</td>\n",
              "      <td>Frank</td>\n",
              "      <td>New York</td>\n",
              "      <td>NaN</td>\n",
              "      <td>1.0</td>\n",
              "    </tr>\n",
              "    <tr>\n",
              "      <th>4</th>\n",
              "      <td>Bob</td>\n",
              "      <td>Daniel</td>\n",
              "      <td>New York</td>\n",
              "      <td>28.0</td>\n",
              "      <td>1.0</td>\n",
              "    </tr>\n",
              "  </tbody>\n",
              "</table>\n",
              "</div>"
            ],
            "text/plain": [
              "      name second name  birth place   age  number of children\n",
              "0  Michael        None     New York  10.0                 0.0\n",
              "1      Ana       Angel     New York  35.0                 NaN\n",
              "2     Sean         Ben  Los Angeles  56.0                 2.0\n",
              "3     Carl       Frank     New York   NaN                 1.0\n",
              "4      Bob      Daniel     New York  28.0                 1.0"
            ]
          },
          "metadata": {
            "tags": []
          },
          "execution_count": 7
        }
      ]
    },
    {
      "cell_type": "markdown",
      "metadata": {
        "id": "gnHLFxgcz9DW"
      },
      "source": [
        "- The original data frame is unchanged! So what happened?\n",
        "\n",
        "- When you use **inplace=True** the new object is created and changed instead of the original data frame. If you wanted to update the original data frame to reflect the dropped rows you would have to reassign the result to the original data frame as shown in the code below."
      ]
    },
    {
      "cell_type": "code",
      "metadata": {
        "id": "gVcScoXQ0qt9"
      },
      "source": [
        "df_2 = df_2.dropna(inplace=False)"
      ],
      "execution_count": 8,
      "outputs": []
    },
    {
      "cell_type": "code",
      "metadata": {
        "colab": {
          "base_uri": "https://localhost:8080/",
          "height": 110
        },
        "id": "K2javItx4SkE",
        "outputId": "36d4abce-afe5-47b1-9db5-eaf8688128c5"
      },
      "source": [
        "df_2"
      ],
      "execution_count": 12,
      "outputs": [
        {
          "output_type": "execute_result",
          "data": {
            "text/html": [
              "<div>\n",
              "<style scoped>\n",
              "    .dataframe tbody tr th:only-of-type {\n",
              "        vertical-align: middle;\n",
              "    }\n",
              "\n",
              "    .dataframe tbody tr th {\n",
              "        vertical-align: top;\n",
              "    }\n",
              "\n",
              "    .dataframe thead th {\n",
              "        text-align: right;\n",
              "    }\n",
              "</style>\n",
              "<table border=\"1\" class=\"dataframe\">\n",
              "  <thead>\n",
              "    <tr style=\"text-align: right;\">\n",
              "      <th></th>\n",
              "      <th>name</th>\n",
              "      <th>second name</th>\n",
              "      <th>birth place</th>\n",
              "      <th>age</th>\n",
              "      <th>number of children</th>\n",
              "    </tr>\n",
              "  </thead>\n",
              "  <tbody>\n",
              "    <tr>\n",
              "      <th>2</th>\n",
              "      <td>Sean</td>\n",
              "      <td>Ben</td>\n",
              "      <td>Los Angeles</td>\n",
              "      <td>56.0</td>\n",
              "      <td>2.0</td>\n",
              "    </tr>\n",
              "    <tr>\n",
              "      <th>4</th>\n",
              "      <td>Bob</td>\n",
              "      <td>Daniel</td>\n",
              "      <td>New York</td>\n",
              "      <td>28.0</td>\n",
              "      <td>1.0</td>\n",
              "    </tr>\n",
              "  </tbody>\n",
              "</table>\n",
              "</div>"
            ],
            "text/plain": [
              "   name second name  birth place   age  number of children\n",
              "2  Sean         Ben  Los Angeles  56.0                 2.0\n",
              "4   Bob      Daniel     New York  28.0                 1.0"
            ]
          },
          "metadata": {
            "tags": []
          },
          "execution_count": 12
        }
      ]
    },
    {
      "cell_type": "markdown",
      "metadata": {
        "id": "5D6i98yB00OF"
      },
      "source": [
        "- But wait! This is exactly what we were doing when using inplace=True. Yes, this last line of code is equivalent to the following line:"
      ]
    },
    {
      "cell_type": "code",
      "metadata": {
        "id": "iMSJHUFN06Jf"
      },
      "source": [
        "df_2.dropna(inplace=True)"
      ],
      "execution_count": null,
      "outputs": []
    },
    {
      "cell_type": "markdown",
      "metadata": {
        "id": "bTVoV-7t00M8"
      },
      "source": [
        "### **Common mistakes**\n",
        "\n",
        " - **using inplace = True with a slice of the dataframe**"
      ]
    },
    {
      "cell_type": "markdown",
      "metadata": {
        "id": "XJfgSrMl1ewF"
      },
      "source": [
        "- I have noticed that several times. Let’s go back to our data frame example from the beginning of this article. There are free columns that have None values: second name, age, and number of children.\n",
        "\n",
        "- What do we do if we just want to drop None’s from the **second name and age column** and **leave the number of children column unchanged?**\n",
        "\n",
        "- I have seen people try to do the following:"
      ]
    },
    {
      "cell_type": "markdown",
      "metadata": {
        "id": "Tx3tOIHi15nL"
      },
      "source": [
        "### **This is probably something you do not want to do!**\n",
        "\n",
        "#### **In fact, this should throw the following warning.**"
      ]
    },
    {
      "cell_type": "code",
      "metadata": {
        "colab": {
          "base_uri": "https://localhost:8080/"
        },
        "id": "Ymuq8QI-1Yho",
        "outputId": "5604a593-f51f-4f17-8ae4-b209aa778a40"
      },
      "source": [
        "df[['second name', 'age']].dropna(inplace=True)"
      ],
      "execution_count": 9,
      "outputs": [
        {
          "output_type": "stream",
          "text": [
            "/usr/local/lib/python3.7/dist-packages/ipykernel_launcher.py:1: SettingWithCopyWarning: \n",
            "A value is trying to be set on a copy of a slice from a DataFrame\n",
            "\n",
            "See the caveats in the documentation: https://pandas.pydata.org/pandas-docs/stable/user_guide/indexing.html#returning-a-view-versus-a-copy\n",
            "  \"\"\"Entry point for launching an IPython kernel.\n"
          ],
          "name": "stderr"
        }
      ]
    },
    {
      "cell_type": "markdown",
      "metadata": {
        "id": "6AEMqUDU2LtT"
      },
      "source": [
        "- This warning is shown because **pandas designers are nice** and they actually try to warn you from doing something that you probably do not want to do. The code is changing the slice of the data frame that has only two columns not the original data frame. The reason for this is that you have chosen a slice of the data frame and you apply dropna() to this slice and not the original data frame.\n",
        "\n",
        "- In order to correct it use **dropna() on the whole data frame with subset parameter.**"
      ]
    },
    {
      "cell_type": "code",
      "metadata": {
        "colab": {
          "base_uri": "https://localhost:8080/",
          "height": 141
        },
        "id": "jO9et4I42dqZ",
        "outputId": "dc2143aa-5bb5-4a77-ead0-09cf5e100253"
      },
      "source": [
        "df.dropna(inplace=True, subset=['second name', 'age'])\n",
        "df.head()"
      ],
      "execution_count": 10,
      "outputs": [
        {
          "output_type": "execute_result",
          "data": {
            "text/html": [
              "<div>\n",
              "<style scoped>\n",
              "    .dataframe tbody tr th:only-of-type {\n",
              "        vertical-align: middle;\n",
              "    }\n",
              "\n",
              "    .dataframe tbody tr th {\n",
              "        vertical-align: top;\n",
              "    }\n",
              "\n",
              "    .dataframe thead th {\n",
              "        text-align: right;\n",
              "    }\n",
              "</style>\n",
              "<table border=\"1\" class=\"dataframe\">\n",
              "  <thead>\n",
              "    <tr style=\"text-align: right;\">\n",
              "      <th></th>\n",
              "      <th>name</th>\n",
              "      <th>second name</th>\n",
              "      <th>birth place</th>\n",
              "      <th>age</th>\n",
              "      <th>number of children</th>\n",
              "    </tr>\n",
              "  </thead>\n",
              "  <tbody>\n",
              "    <tr>\n",
              "      <th>1</th>\n",
              "      <td>Ana</td>\n",
              "      <td>Angel</td>\n",
              "      <td>New York</td>\n",
              "      <td>35.0</td>\n",
              "      <td>NaN</td>\n",
              "    </tr>\n",
              "    <tr>\n",
              "      <th>2</th>\n",
              "      <td>Sean</td>\n",
              "      <td>Ben</td>\n",
              "      <td>Los Angeles</td>\n",
              "      <td>56.0</td>\n",
              "      <td>2.0</td>\n",
              "    </tr>\n",
              "    <tr>\n",
              "      <th>4</th>\n",
              "      <td>Bob</td>\n",
              "      <td>Daniel</td>\n",
              "      <td>New York</td>\n",
              "      <td>28.0</td>\n",
              "      <td>1.0</td>\n",
              "    </tr>\n",
              "  </tbody>\n",
              "</table>\n",
              "</div>"
            ],
            "text/plain": [
              "   name second name  birth place   age  number of children\n",
              "1   Ana       Angel     New York  35.0                 NaN\n",
              "2  Sean         Ben  Los Angeles  56.0                 2.0\n",
              "4   Bob      Daniel     New York  28.0                 1.0"
            ]
          },
          "metadata": {
            "tags": []
          },
          "execution_count": 10
        }
      ]
    },
    {
      "cell_type": "markdown",
      "metadata": {
        "id": "DWbm0K3E2LsJ"
      },
      "source": [
        "- This should result in **rows with null values** in **second name and age column** being dropped from the data frame."
      ]
    },
    {
      "cell_type": "markdown",
      "metadata": {
        "id": "Mserz4e23F_B"
      },
      "source": [
        "#### **assigning variable value to the result of inplace = True**"
      ]
    },
    {
      "cell_type": "code",
      "metadata": {
        "id": "N98Gdj5h3MBS"
      },
      "source": [
        "df = df.dropna(inplace=True)"
      ],
      "execution_count": 11,
      "outputs": []
    },
    {
      "cell_type": "markdown",
      "metadata": {
        "id": "8I2K0eJz3Roe"
      },
      "source": [
        "- This is again something you never should do! You just reassigning None to value of df. Remember when you use inplace=True then nothing is returned. Therefore the result on this code will assign None to df."
      ]
    }
  ]
}