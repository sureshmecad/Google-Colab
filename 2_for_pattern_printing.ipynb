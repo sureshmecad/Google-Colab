{
  "nbformat": 4,
  "nbformat_minor": 0,
  "metadata": {
    "colab": {
      "name": "2_for_pattern-printing.ipynb",
      "provenance": [],
      "collapsed_sections": [],
      "authorship_tag": "ABX9TyMTcsYwjNpJ5yN8hSZjDEmY",
      "include_colab_link": true
    },
    "kernelspec": {
      "name": "python3",
      "display_name": "Python 3"
    },
    "language_info": {
      "name": "python"
    }
  },
  "cells": [
    {
      "cell_type": "markdown",
      "metadata": {
        "id": "view-in-github",
        "colab_type": "text"
      },
      "source": [
        "<a href=\"https://colab.research.google.com/github/sureshmecad/Google-Colab/blob/master/2_for_pattern_printing.ipynb\" target=\"_parent\"><img src=\"https://colab.research.google.com/assets/colab-badge.svg\" alt=\"Open In Colab\"/></a>"
      ]
    },
    {
      "cell_type": "markdown",
      "metadata": {
        "id": "bCMMEUjOwq2n"
      },
      "source": [
        "- https://www.youtube.com/watch?v=k8SXsT5TLxQ ---> Printing Patterns ---> Telsuko\n",
        "\n",
        "- https://www.youtube.com/watch?v=gDQG2RicE5A ---> Star Pattern ---> Amulya"
      ]
    },
    {
      "cell_type": "markdown",
      "metadata": {
        "id": "RDLwF4ipwv_3"
      },
      "source": [
        "-----------------"
      ]
    },
    {
      "cell_type": "code",
      "metadata": {
        "colab": {
          "base_uri": "https://localhost:8080/"
        },
        "id": "ABTgL85ivW6p",
        "outputId": "a247d5b9-e003-4f50-a1d6-a3376541bf7a"
      },
      "source": [
        "for i in range(5):\n",
        "  print(\"#\", end=' ')"
      ],
      "execution_count": 2,
      "outputs": [
        {
          "output_type": "stream",
          "name": "stdout",
          "text": [
            "# # # # # "
          ]
        }
      ]
    },
    {
      "cell_type": "markdown",
      "metadata": {
        "id": "YdKUoQve02sA"
      },
      "source": [
        "### **Square**"
      ]
    },
    {
      "cell_type": "code",
      "metadata": {
        "colab": {
          "base_uri": "https://localhost:8080/"
        },
        "id": "YFz7R5-e0DlR",
        "outputId": "b9b9b37f-95a6-410d-cb66-9398246c2858"
      },
      "source": [
        "for i in range(5):\n",
        "  print(\"# \"*4)"
      ],
      "execution_count": 9,
      "outputs": [
        {
          "output_type": "stream",
          "name": "stdout",
          "text": [
            "# # # # \n",
            "# # # # \n",
            "# # # # \n",
            "# # # # \n",
            "# # # # \n"
          ]
        }
      ]
    },
    {
      "cell_type": "markdown",
      "metadata": {
        "id": "h7KQll5Dw86X"
      },
      "source": [
        "- i ---> row\n",
        "\n",
        "- j ---> column"
      ]
    },
    {
      "cell_type": "code",
      "metadata": {
        "colab": {
          "base_uri": "https://localhost:8080/"
        },
        "id": "oRC1Y2FnvyBE",
        "outputId": "5a854fea-9ac6-4068-8e72-4fa8c5ead660"
      },
      "source": [
        "for i in range(5):\n",
        "  for j in range(5):\n",
        "    print(\"#\", end=' ')\n",
        "\n",
        "  print()"
      ],
      "execution_count": 5,
      "outputs": [
        {
          "output_type": "stream",
          "name": "stdout",
          "text": [
            "# # # # # \n",
            "# # # # # \n",
            "# # # # # \n",
            "# # # # # \n",
            "# # # # # \n"
          ]
        }
      ]
    },
    {
      "cell_type": "markdown",
      "metadata": {
        "id": "s51fJaqMxWj3"
      },
      "source": [
        "### **Right Triangle**"
      ]
    },
    {
      "cell_type": "code",
      "metadata": {
        "colab": {
          "base_uri": "https://localhost:8080/"
        },
        "id": "xqCmMLFE1E8B",
        "outputId": "106448ad-7f35-439f-92a7-80b7eb81aa95"
      },
      "source": [
        "for i in range(5):\n",
        "  print(\"# \"*(i+1))"
      ],
      "execution_count": 13,
      "outputs": [
        {
          "output_type": "stream",
          "name": "stdout",
          "text": [
            "# \n",
            "# # \n",
            "# # # \n",
            "# # # # \n",
            "# # # # # \n"
          ]
        }
      ]
    },
    {
      "cell_type": "code",
      "metadata": {
        "colab": {
          "base_uri": "https://localhost:8080/"
        },
        "id": "4BUZ5Ml7vyAG",
        "outputId": "7ad760d0-3d85-4681-9787-993bf3e1d9bd"
      },
      "source": [
        "for i in range(5):\n",
        "  for j in range(i+1):\n",
        "    print(\"#\", end=' ')\n",
        "\n",
        "  print()"
      ],
      "execution_count": 6,
      "outputs": [
        {
          "output_type": "stream",
          "name": "stdout",
          "text": [
            "# \n",
            "# # \n",
            "# # # \n",
            "# # # # \n",
            "# # # # # \n"
          ]
        }
      ]
    },
    {
      "cell_type": "code",
      "metadata": {
        "colab": {
          "base_uri": "https://localhost:8080/"
        },
        "id": "TJl-la5vxcS2",
        "outputId": "3638d5eb-50df-4016-a6de-b06a42c3ff58"
      },
      "source": [
        "for i in range(5):\n",
        "  for j in range(4-i):\n",
        "    print(\"#\", end=' ')\n",
        "\n",
        "  print()"
      ],
      "execution_count": 7,
      "outputs": [
        {
          "output_type": "stream",
          "name": "stdout",
          "text": [
            "# # # # \n",
            "# # # \n",
            "# # \n",
            "# \n",
            "\n"
          ]
        }
      ]
    },
    {
      "cell_type": "markdown",
      "metadata": {
        "id": "F5uqJ1lExbhv"
      },
      "source": [
        "### **Left Triangle**"
      ]
    },
    {
      "cell_type": "code",
      "metadata": {
        "colab": {
          "base_uri": "https://localhost:8080/"
        },
        "id": "JbNnTw849zLM",
        "outputId": "b3dfa626-e312-4ff3-a2bc-ec3027637c8f"
      },
      "source": [
        "num=5\n",
        "for i in range(1,num+1):\n",
        "  print(\"  \"*(num-i)+\"* \"*i)"
      ],
      "execution_count": 28,
      "outputs": [
        {
          "output_type": "stream",
          "name": "stdout",
          "text": [
            "        * \n",
            "      * * \n",
            "    * * * \n",
            "  * * * * \n",
            "* * * * * \n"
          ]
        }
      ]
    },
    {
      "cell_type": "markdown",
      "metadata": {
        "id": "Kfx3AygKycHo"
      },
      "source": [
        "### **Pyramid**"
      ]
    },
    {
      "cell_type": "code",
      "metadata": {
        "colab": {
          "base_uri": "https://localhost:8080/"
        },
        "id": "-LsRk6iiAtfo",
        "outputId": "7c5f054a-26f8-4a7a-a163-90ad57a6df0e"
      },
      "source": [
        "num=5\n",
        "for i in range(1,num+1):\n",
        "  print(\" \"*(num-i)+\"* \"*i)"
      ],
      "execution_count": 45,
      "outputs": [
        {
          "output_type": "stream",
          "name": "stdout",
          "text": [
            "    * \n",
            "   * * \n",
            "  * * * \n",
            " * * * * \n",
            "* * * * * \n"
          ]
        }
      ]
    },
    {
      "cell_type": "markdown",
      "metadata": {
        "id": "Rdg316lMBtf6"
      },
      "source": [
        "### **Diamond**"
      ]
    },
    {
      "cell_type": "code",
      "metadata": {
        "colab": {
          "base_uri": "https://localhost:8080/"
        },
        "id": "VaSJroIHBvzK",
        "outputId": "738251fd-c825-405f-d160-a30441b888d9"
      },
      "source": [
        "num=5\n",
        "for i in range(1,num+1):\n",
        "  print(\" \"*(num-i)+\"* \"*i)\n",
        "\n",
        "for i in range(num,0,-1):\n",
        "  print(\" \"*(num-i)+\"* \"*i)"
      ],
      "execution_count": 46,
      "outputs": [
        {
          "output_type": "stream",
          "name": "stdout",
          "text": [
            "    * \n",
            "   * * \n",
            "  * * * \n",
            " * * * * \n",
            "* * * * * \n",
            "* * * * * \n",
            " * * * * \n",
            "  * * * \n",
            "   * * \n",
            "    * \n"
          ]
        }
      ]
    },
    {
      "cell_type": "code",
      "metadata": {
        "colab": {
          "base_uri": "https://localhost:8080/"
        },
        "id": "DeZmcJZSCO5h",
        "outputId": "41bd25cb-a470-490d-cc3b-f29719ca8fa2"
      },
      "source": [
        "num=5\n",
        "for i in range(1,num+1):\n",
        "  print(\" \"*(num-i)+\"* \"*i)\n",
        "\n",
        "for i in range(num-1,0,-1):\n",
        "  print(\" \"*(num-i)+\"* \"*i)"
      ],
      "execution_count": 47,
      "outputs": [
        {
          "output_type": "stream",
          "name": "stdout",
          "text": [
            "    * \n",
            "   * * \n",
            "  * * * \n",
            " * * * * \n",
            "* * * * * \n",
            " * * * * \n",
            "  * * * \n",
            "   * * \n",
            "    * \n"
          ]
        }
      ]
    },
    {
      "cell_type": "code",
      "metadata": {
        "colab": {
          "base_uri": "https://localhost:8080/"
        },
        "id": "JEHgh7JmCaZq",
        "outputId": "4b2b433c-8353-4e22-ecbd-26a72920e052"
      },
      "source": [
        "for i in range(num-1,0,-1):\n",
        "  print(\" \"*(num-i)+\"* \"*i)"
      ],
      "execution_count": 48,
      "outputs": [
        {
          "output_type": "stream",
          "name": "stdout",
          "text": [
            " * * * * \n",
            "  * * * \n",
            "   * * \n",
            "    * \n"
          ]
        }
      ]
    },
    {
      "cell_type": "code",
      "metadata": {
        "colab": {
          "base_uri": "https://localhost:8080/"
        },
        "id": "qaGVRr22Ci67",
        "outputId": "52b2cadc-9567-4da8-9ea9-57c68fe0ab72"
      },
      "source": [
        "for i in range(num-1,0,-1):\n",
        "  print(\"  \"*(num-i)+\"* \"*i)"
      ],
      "execution_count": 49,
      "outputs": [
        {
          "output_type": "stream",
          "name": "stdout",
          "text": [
            "  * * * * \n",
            "    * * * \n",
            "      * * \n",
            "        * \n"
          ]
        }
      ]
    },
    {
      "cell_type": "code",
      "metadata": {
        "colab": {
          "base_uri": "https://localhost:8080/"
        },
        "id": "Br1bUO8ICtqT",
        "outputId": "353480a4-e883-48fa-8f65-f62e106dfda8"
      },
      "source": [
        "for i in range(num-1,0,-1):\n",
        "  print(\"* \"*i)"
      ],
      "execution_count": 50,
      "outputs": [
        {
          "output_type": "stream",
          "name": "stdout",
          "text": [
            "* * * * \n",
            "* * * \n",
            "* * \n",
            "* \n"
          ]
        }
      ]
    },
    {
      "cell_type": "code",
      "metadata": {
        "colab": {
          "base_uri": "https://localhost:8080/"
        },
        "id": "hwXwz-lzDEZS",
        "outputId": "4045f860-1e45-4119-ab68-87f01fbb723f"
      },
      "source": [
        "for i in range(1,num+1):\n",
        "  print(\"* \"*i)\n",
        "for i in range(num,0,-1):\n",
        "  print(\"* \"*i)"
      ],
      "execution_count": 51,
      "outputs": [
        {
          "output_type": "stream",
          "name": "stdout",
          "text": [
            "* \n",
            "* * \n",
            "* * * \n",
            "* * * * \n",
            "* * * * * \n",
            "* * * * * \n",
            "* * * * \n",
            "* * * \n",
            "* * \n",
            "* \n"
          ]
        }
      ]
    },
    {
      "cell_type": "code",
      "metadata": {
        "colab": {
          "base_uri": "https://localhost:8080/"
        },
        "id": "0jbxB9njDbYC",
        "outputId": "7b6086ae-29c6-48a6-8a19-b69b66cd24a3"
      },
      "source": [
        "for i in range(1,num+1):\n",
        "  print(\"* \"*i)\n",
        "for i in range(num-1,0,-1):\n",
        "  print(\"* \"*i)"
      ],
      "execution_count": 52,
      "outputs": [
        {
          "output_type": "stream",
          "name": "stdout",
          "text": [
            "* \n",
            "* * \n",
            "* * * \n",
            "* * * * \n",
            "* * * * * \n",
            "* * * * \n",
            "* * * \n",
            "* * \n",
            "* \n"
          ]
        }
      ]
    },
    {
      "cell_type": "code",
      "metadata": {
        "colab": {
          "base_uri": "https://localhost:8080/"
        },
        "id": "mLLOLaimEBOr",
        "outputId": "21cee29e-c53d-4c94-a16c-cfc0ecddd416"
      },
      "source": [
        "num=5\n",
        "for i in range(1,num+1):\n",
        "  print(\"  \"*(num-i)+\"* \"*i)\n",
        "\n",
        "for i in range(num-1,0,-1):\n",
        "  print(\"  \"*(num-i)+\"* \"*i)"
      ],
      "execution_count": 54,
      "outputs": [
        {
          "output_type": "stream",
          "name": "stdout",
          "text": [
            "        * \n",
            "      * * \n",
            "    * * * \n",
            "  * * * * \n",
            "* * * * * \n",
            "  * * * * \n",
            "    * * * \n",
            "      * * \n",
            "        * \n"
          ]
        }
      ]
    }
  ]
}