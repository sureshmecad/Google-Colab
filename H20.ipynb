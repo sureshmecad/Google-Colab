{
  "nbformat": 4,
  "nbformat_minor": 0,
  "metadata": {
    "colab": {
      "name": "H20.ipynb",
      "provenance": [],
      "authorship_tag": "ABX9TyM6bPSQsVmfKSYPFYGTHhMO",
      "include_colab_link": true
    },
    "kernelspec": {
      "name": "python3",
      "display_name": "Python 3"
    },
    "language_info": {
      "name": "python"
    }
  },
  "cells": [
    {
      "cell_type": "markdown",
      "metadata": {
        "id": "view-in-github",
        "colab_type": "text"
      },
      "source": [
        "<a href=\"https://colab.research.google.com/github/sureshmecad/Google-Colab/blob/master/H20.ipynb\" target=\"_parent\"><img src=\"https://colab.research.google.com/assets/colab-badge.svg\" alt=\"Open In Colab\"/></a>"
      ]
    },
    {
      "cell_type": "code",
      "metadata": {
        "id": "xTApGJPAvIg_"
      },
      "source": [
        "pip install -U h2o"
      ],
      "execution_count": null,
      "outputs": []
    },
    {
      "cell_type": "code",
      "metadata": {
        "id": "00O2Ia-ZvN1K"
      },
      "source": [
        "import h2o\n",
        "from h2o.automl import H2OAutoML"
      ],
      "execution_count": null,
      "outputs": []
    },
    {
      "cell_type": "code",
      "metadata": {
        "id": "BfWF3qP9vN5J"
      },
      "source": [
        "h2o.init(max_mem_size='16G')"
      ],
      "execution_count": null,
      "outputs": []
    },
    {
      "cell_type": "code",
      "metadata": {
        "id": "MjKwfC7yvN85"
      },
      "source": [
        "train = h2o.import_file(\"train.csv\")"
      ],
      "execution_count": null,
      "outputs": []
    },
    {
      "cell_type": "code",
      "metadata": {
        "id": "OZykZNE2vOA5"
      },
      "source": [
        "x = train.columns\n",
        "y = \"response\"\n",
        "x.remove(x)"
      ],
      "execution_count": null,
      "outputs": []
    },
    {
      "cell_type": "code",
      "metadata": {
        "id": "z6LGhcUZvXAT"
      },
      "source": [
        "train[y] = train[y].asfactor()"
      ],
      "execution_count": null,
      "outputs": []
    },
    {
      "cell_type": "code",
      "metadata": {
        "id": "CLX-7_CTvXIK"
      },
      "source": [
        "aml = H20AutoML(max_runtime_secs = 30)\n",
        "aml.train(x = x, y = y, training_frame=train)"
      ],
      "execution_count": null,
      "outputs": []
    },
    {
      "cell_type": "code",
      "metadata": {
        "id": "srP1z12tvbqL"
      },
      "source": [
        "lb = aml.leaderboard\n",
        "lb"
      ],
      "execution_count": null,
      "outputs": []
    },
    {
      "cell_type": "code",
      "metadata": {
        "id": "qi2yKHrvve4j"
      },
      "source": [
        ""
      ],
      "execution_count": null,
      "outputs": []
    }
  ]
}