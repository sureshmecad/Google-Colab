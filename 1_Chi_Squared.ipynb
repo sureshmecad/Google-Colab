{
  "nbformat": 4,
  "nbformat_minor": 0,
  "metadata": {
    "colab": {
      "name": "1_Chi-Squared.ipynb",
      "provenance": [],
      "collapsed_sections": [],
      "authorship_tag": "ABX9TyO6EPFlHd2qeAvQxJxbtiMM",
      "include_colab_link": true
    },
    "kernelspec": {
      "name": "python3",
      "display_name": "Python 3"
    },
    "language_info": {
      "name": "python"
    }
  },
  "cells": [
    {
      "cell_type": "markdown",
      "metadata": {
        "id": "view-in-github",
        "colab_type": "text"
      },
      "source": [
        "<a href=\"https://colab.research.google.com/github/sureshmecad/Google-Colab/blob/master/1_Chi_Squared.ipynb\" target=\"_parent\"><img src=\"https://colab.research.google.com/assets/colab-badge.svg\" alt=\"Open In Colab\"/></a>"
      ]
    },
    {
      "cell_type": "markdown",
      "metadata": {
        "id": "RT6HfcUtUISI"
      },
      "source": [
        "- We can always opt for **z-tests, t-tests or ANOVA** when we’re dealing with **continuous variables.**\n",
        "\n",
        "- **categorical features chi-square test** to be quite helpful.\n",
        "\n",
        "- **A Chi-Square test** is a test of statistical significance for **categorical variables.**"
      ]
    },
    {
      "cell_type": "markdown",
      "metadata": {
        "id": "NKkzdbEiWds_"
      },
      "source": [
        "--------------"
      ]
    },
    {
      "cell_type": "code",
      "metadata": {
        "id": "GgGZa18VMrQP"
      },
      "source": [
        "# Load libraries\n",
        "from sklearn.datasets import load_iris\n",
        "from sklearn.feature_selection import SelectKBest\n",
        "from sklearn.feature_selection import chi2"
      ],
      "execution_count": 1,
      "outputs": []
    },
    {
      "cell_type": "code",
      "metadata": {
        "id": "BsbstShpNk6A"
      },
      "source": [
        "import numpy as np\n",
        "import pandas as pd"
      ],
      "execution_count": 2,
      "outputs": []
    },
    {
      "cell_type": "markdown",
      "metadata": {
        "id": "7WiVUGrGNIiQ"
      },
      "source": [
        "#### **Load Data**"
      ]
    },
    {
      "cell_type": "code",
      "metadata": {
        "id": "gz0K9VBzNK13"
      },
      "source": [
        "# Load iris data\n",
        "iris = load_iris()\n",
        "\n",
        "# Create features and target\n",
        "X = iris.data\n",
        "y = iris.target"
      ],
      "execution_count": 3,
      "outputs": []
    },
    {
      "cell_type": "code",
      "metadata": {
        "id": "pPGO04k9NQPP"
      },
      "source": [
        "# Convert to categorical data by converting data to integers\n",
        "X = X.astype(int)"
      ],
      "execution_count": 4,
      "outputs": []
    },
    {
      "cell_type": "markdown",
      "metadata": {
        "id": "rWJNouCfN7SO"
      },
      "source": [
        "#### **Compare Chi-Squared Statistics**"
      ]
    },
    {
      "cell_type": "code",
      "metadata": {
        "id": "7vilFTMQN0GH"
      },
      "source": [
        "# Select two features with highest chi-squared statistics\n",
        "chi2_selector = SelectKBest(chi2, k=2)\n",
        "X_kbest = chi2_selector.fit_transform(X, y)"
      ],
      "execution_count": 5,
      "outputs": []
    },
    {
      "cell_type": "markdown",
      "metadata": {
        "id": "Nl5wdh1_OFs_"
      },
      "source": [
        "#### **View Results**"
      ]
    },
    {
      "cell_type": "code",
      "metadata": {
        "colab": {
          "base_uri": "https://localhost:8080/"
        },
        "id": "OOJPUbSoOH5n",
        "outputId": "8632717d-8ed3-4fd4-abfa-e7d82ea6cfcc"
      },
      "source": [
        "# Show results\n",
        "print('Original number of features:', X.shape[1])\n",
        "print('Reduced number of features:', X_kbest.shape[1])"
      ],
      "execution_count": 6,
      "outputs": [
        {
          "output_type": "stream",
          "text": [
            "Original number of features: 4\n",
            "Reduced number of features: 2\n"
          ],
          "name": "stdout"
        }
      ]
    }
  ]
}