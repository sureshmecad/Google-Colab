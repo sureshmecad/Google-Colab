{
  "nbformat": 4,
  "nbformat_minor": 0,
  "metadata": {
    "colab": {
      "name": "1_Feature-Importance-Method.ipynb",
      "provenance": [],
      "collapsed_sections": [],
      "authorship_tag": "ABX9TyMuqbrwTuXXbedZ6LkMLto9",
      "include_colab_link": true
    },
    "kernelspec": {
      "name": "python3",
      "display_name": "Python 3"
    },
    "language_info": {
      "name": "python"
    }
  },
  "cells": [
    {
      "cell_type": "markdown",
      "metadata": {
        "id": "view-in-github",
        "colab_type": "text"
      },
      "source": [
        "<a href=\"https://colab.research.google.com/github/sureshmecad/Google-Colab/blob/master/1_Feature_Importance_Method.ipynb\" target=\"_parent\"><img src=\"https://colab.research.google.com/assets/colab-badge.svg\" alt=\"Open In Colab\"/></a>"
      ]
    },
    {
      "cell_type": "markdown",
      "metadata": {
        "id": "heqZOlryPeYL"
      },
      "source": [
        "### **Feature Importance**\n",
        "\n",
        "##### **1) Random Forest Classifier**\n",
        "\n",
        "##### **2) ExtraTreesClassifier**"
      ]
    },
    {
      "cell_type": "markdown",
      "metadata": {
        "id": "XG1vdtXlP2SI"
      },
      "source": [
        "------------------"
      ]
    },
    {
      "cell_type": "code",
      "metadata": {
        "id": "in6xxZDJI8Dm"
      },
      "source": [
        "# Read Data\n",
        "import numpy as np\n",
        "import pandas as pd\n",
        "\n",
        "# Visualization\n",
        "import seaborn as sns                  # Visualization using seaborn\n",
        "import matplotlib.pyplot as plt        # Visualization using matplotlib\n",
        "%matplotlib inline\n",
        "\n",
        "import warnings                        # Ignore Warnings\n",
        "warnings.filterwarnings(\"ignore\")"
      ],
      "execution_count": null,
      "outputs": []
    },
    {
      "cell_type": "code",
      "metadata": {
        "colab": {
          "base_uri": "https://localhost:8080/"
        },
        "id": "4i7uBMiOJLvz",
        "outputId": "b846e9ff-6ae4-4718-b08e-97aa645e385c"
      },
      "source": [
        "from google.colab import drive\n",
        "drive.mount('/content/drive')"
      ],
      "execution_count": null,
      "outputs": [
        {
          "output_type": "stream",
          "text": [
            "Mounted at /content/drive\n"
          ],
          "name": "stdout"
        }
      ]
    },
    {
      "cell_type": "code",
      "metadata": {
        "id": "dg8fvqbtJLsU"
      },
      "source": [
        "Android = pd.read_csv(\"/content/drive/MyDrive/TMLC/Android.zip\")"
      ],
      "execution_count": null,
      "outputs": []
    },
    {
      "cell_type": "code",
      "metadata": {
        "colab": {
          "base_uri": "https://localhost:8080/",
          "height": 522
        },
        "id": "mLw-6yQ3JLo7",
        "outputId": "8621c55d-3e8c-4c82-fbaf-36dc51227ae6"
      },
      "source": [
        "Android.head(3)"
      ],
      "execution_count": null,
      "outputs": [
        {
          "output_type": "execute_result",
          "data": {
            "text/html": [
              "<div>\n",
              "<style scoped>\n",
              "    .dataframe tbody tr th:only-of-type {\n",
              "        vertical-align: middle;\n",
              "    }\n",
              "\n",
              "    .dataframe tbody tr th {\n",
              "        vertical-align: top;\n",
              "    }\n",
              "\n",
              "    .dataframe thead th {\n",
              "        text-align: right;\n",
              "    }\n",
              "</style>\n",
              "<table border=\"1\" class=\"dataframe\">\n",
              "  <thead>\n",
              "    <tr style=\"text-align: right;\">\n",
              "      <th></th>\n",
              "      <th>App</th>\n",
              "      <th>Package</th>\n",
              "      <th>Category</th>\n",
              "      <th>Description</th>\n",
              "      <th>Rating</th>\n",
              "      <th>Number of ratings</th>\n",
              "      <th>Price</th>\n",
              "      <th>Related apps</th>\n",
              "      <th>Dangerous permissions count</th>\n",
              "      <th>Safe permissions count</th>\n",
              "      <th>Default : Access DRM content. (S)</th>\n",
              "      <th>Default : Access Email provider data (S)</th>\n",
              "      <th>Default : Access all system downloads (S)</th>\n",
              "      <th>Default : Access download manager. (S)</th>\n",
              "      <th>Default : Advanced download manager functions. (S)</th>\n",
              "      <th>Default : Audio File Access (S)</th>\n",
              "      <th>Default : Install DRM content. (S)</th>\n",
              "      <th>Default : Modify Google service configuration (S)</th>\n",
              "      <th>Default : Modify Google settings (S)</th>\n",
              "      <th>Default : Move application resources (S)</th>\n",
              "      <th>Default : Read Google settings (S)</th>\n",
              "      <th>Default : Send download notifications. (S)</th>\n",
              "      <th>Default : Voice Search Shortcuts (S)</th>\n",
              "      <th>Default : access SurfaceFlinger (S)</th>\n",
              "      <th>Default : access checkin properties (S)</th>\n",
              "      <th>Default : access the cache filesystem (S)</th>\n",
              "      <th>Default : access to passwords for Google accounts (S)</th>\n",
              "      <th>Default : act as an account authenticator (S)</th>\n",
              "      <th>Default : bind to a wallpaper (S)</th>\n",
              "      <th>Default : bind to an input method (S)</th>\n",
              "      <th>Default : change screen orientation (S)</th>\n",
              "      <th>Default : coarse (network-based) location (S)</th>\n",
              "      <th>Default : control location update notifications (S)</th>\n",
              "      <th>Default : control system backup and restore (S)</th>\n",
              "      <th>Default : delete applications (S)</th>\n",
              "      <th>Default : delete other applications' caches (S)</th>\n",
              "      <th>Default : delete other applications' data (S)</th>\n",
              "      <th>Default : directly call any phone numbers (S)</th>\n",
              "      <th>Default : directly install applications (S)</th>\n",
              "      <th>Default : disable or modify status bar (S)</th>\n",
              "      <th>...</th>\n",
              "      <th>Your accounts : access other Google services (D)</th>\n",
              "      <th>Your accounts : act as an account authenticator (D)</th>\n",
              "      <th>Your accounts : act as the AccountManagerService (S)</th>\n",
              "      <th>Your accounts : contacts data in Google accounts (D)</th>\n",
              "      <th>Your accounts : discover known accounts (S)</th>\n",
              "      <th>Your accounts : manage the accounts list (D)</th>\n",
              "      <th>Your accounts : read Google service configuration (S)</th>\n",
              "      <th>Your accounts : use the authentication credentials of an account (D)</th>\n",
              "      <th>Your accounts : view configured accounts (S)</th>\n",
              "      <th>Your location : access extra location provider commands (S)</th>\n",
              "      <th>Your location : coarse (network-based) location (D)</th>\n",
              "      <th>Your location : fine (GPS) location (D)</th>\n",
              "      <th>Your location : mock location sources for testing (D)</th>\n",
              "      <th>Your messages : Read Email attachments (D)</th>\n",
              "      <th>Your messages : Send Gmail (S)</th>\n",
              "      <th>Your messages : edit SMS or MMS (D)</th>\n",
              "      <th>Your messages : modify Gmail (D)</th>\n",
              "      <th>Your messages : read Gmail (D)</th>\n",
              "      <th>Your messages : read Gmail attachment previews (D)</th>\n",
              "      <th>Your messages : read SMS or MMS (D)</th>\n",
              "      <th>Your messages : read instant messages (D)</th>\n",
              "      <th>Your messages : receive MMS (D)</th>\n",
              "      <th>Your messages : receive SMS (D)</th>\n",
              "      <th>Your messages : receive WAP (D)</th>\n",
              "      <th>Your messages : send SMS-received broadcast (S)</th>\n",
              "      <th>Your messages : send WAP-PUSH-received broadcast (S)</th>\n",
              "      <th>Your messages : write instant messages (D)</th>\n",
              "      <th>Your personal information : add or modify calendar events and send email to guests (D)</th>\n",
              "      <th>Your personal information : choose widgets (S)</th>\n",
              "      <th>Your personal information : read Browser's history and bookmarks (D)</th>\n",
              "      <th>Your personal information : read calendar events (D)</th>\n",
              "      <th>Your personal information : read contact data (D)</th>\n",
              "      <th>Your personal information : read sensitive log data (D)</th>\n",
              "      <th>Your personal information : read user defined dictionary (D)</th>\n",
              "      <th>Your personal information : retrieve system internal state (S)</th>\n",
              "      <th>Your personal information : set alarm in alarm clock (S)</th>\n",
              "      <th>Your personal information : write Browser's history and bookmarks (D)</th>\n",
              "      <th>Your personal information : write contact data (D)</th>\n",
              "      <th>Your personal information : write to user defined dictionary (S)</th>\n",
              "      <th>Class</th>\n",
              "    </tr>\n",
              "  </thead>\n",
              "  <tbody>\n",
              "    <tr>\n",
              "      <th>0</th>\n",
              "      <td>Canada Post Corporation</td>\n",
              "      <td>com.canadapost.android</td>\n",
              "      <td>Business</td>\n",
              "      <td>Canada Post Mobile App gives you access to som...</td>\n",
              "      <td>3.1</td>\n",
              "      <td>77</td>\n",
              "      <td>0.0</td>\n",
              "      <td>{com.adaffix.pub.ca.android, com.kevinquan.gas...</td>\n",
              "      <td>7.0</td>\n",
              "      <td>1</td>\n",
              "      <td>0</td>\n",
              "      <td>0</td>\n",
              "      <td>0</td>\n",
              "      <td>0</td>\n",
              "      <td>0</td>\n",
              "      <td>0</td>\n",
              "      <td>0</td>\n",
              "      <td>0</td>\n",
              "      <td>0</td>\n",
              "      <td>0</td>\n",
              "      <td>0</td>\n",
              "      <td>0</td>\n",
              "      <td>0</td>\n",
              "      <td>0</td>\n",
              "      <td>0</td>\n",
              "      <td>0</td>\n",
              "      <td>0</td>\n",
              "      <td>0</td>\n",
              "      <td>0</td>\n",
              "      <td>0</td>\n",
              "      <td>0</td>\n",
              "      <td>0</td>\n",
              "      <td>0</td>\n",
              "      <td>0</td>\n",
              "      <td>0</td>\n",
              "      <td>0</td>\n",
              "      <td>0</td>\n",
              "      <td>0</td>\n",
              "      <td>0</td>\n",
              "      <td>0</td>\n",
              "      <td>...</td>\n",
              "      <td>0</td>\n",
              "      <td>0</td>\n",
              "      <td>0</td>\n",
              "      <td>0</td>\n",
              "      <td>0</td>\n",
              "      <td>0</td>\n",
              "      <td>0</td>\n",
              "      <td>0</td>\n",
              "      <td>0</td>\n",
              "      <td>0</td>\n",
              "      <td>0</td>\n",
              "      <td>1</td>\n",
              "      <td>0</td>\n",
              "      <td>0</td>\n",
              "      <td>0</td>\n",
              "      <td>0</td>\n",
              "      <td>0</td>\n",
              "      <td>0</td>\n",
              "      <td>0</td>\n",
              "      <td>0</td>\n",
              "      <td>0</td>\n",
              "      <td>0</td>\n",
              "      <td>0</td>\n",
              "      <td>0</td>\n",
              "      <td>0</td>\n",
              "      <td>0</td>\n",
              "      <td>0</td>\n",
              "      <td>0</td>\n",
              "      <td>0</td>\n",
              "      <td>0</td>\n",
              "      <td>0</td>\n",
              "      <td>1</td>\n",
              "      <td>0</td>\n",
              "      <td>0</td>\n",
              "      <td>0</td>\n",
              "      <td>0</td>\n",
              "      <td>0</td>\n",
              "      <td>1</td>\n",
              "      <td>0</td>\n",
              "      <td>0</td>\n",
              "    </tr>\n",
              "    <tr>\n",
              "      <th>1</th>\n",
              "      <td>Word Farm</td>\n",
              "      <td>com.realcasualgames.words</td>\n",
              "      <td>Brain &amp; Puzzle</td>\n",
              "      <td>Speed and strategy combine in this exciting wo...</td>\n",
              "      <td>4.3</td>\n",
              "      <td>199</td>\n",
              "      <td>0.0</td>\n",
              "      <td>{air.com.zubawing.FastWordLite, com.joybits.do...</td>\n",
              "      <td>3.0</td>\n",
              "      <td>2</td>\n",
              "      <td>0</td>\n",
              "      <td>0</td>\n",
              "      <td>0</td>\n",
              "      <td>0</td>\n",
              "      <td>0</td>\n",
              "      <td>0</td>\n",
              "      <td>0</td>\n",
              "      <td>0</td>\n",
              "      <td>0</td>\n",
              "      <td>0</td>\n",
              "      <td>0</td>\n",
              "      <td>0</td>\n",
              "      <td>0</td>\n",
              "      <td>0</td>\n",
              "      <td>0</td>\n",
              "      <td>0</td>\n",
              "      <td>0</td>\n",
              "      <td>0</td>\n",
              "      <td>0</td>\n",
              "      <td>0</td>\n",
              "      <td>0</td>\n",
              "      <td>0</td>\n",
              "      <td>0</td>\n",
              "      <td>0</td>\n",
              "      <td>0</td>\n",
              "      <td>0</td>\n",
              "      <td>0</td>\n",
              "      <td>0</td>\n",
              "      <td>0</td>\n",
              "      <td>0</td>\n",
              "      <td>...</td>\n",
              "      <td>0</td>\n",
              "      <td>0</td>\n",
              "      <td>0</td>\n",
              "      <td>0</td>\n",
              "      <td>1</td>\n",
              "      <td>0</td>\n",
              "      <td>0</td>\n",
              "      <td>0</td>\n",
              "      <td>0</td>\n",
              "      <td>0</td>\n",
              "      <td>0</td>\n",
              "      <td>0</td>\n",
              "      <td>0</td>\n",
              "      <td>0</td>\n",
              "      <td>0</td>\n",
              "      <td>0</td>\n",
              "      <td>0</td>\n",
              "      <td>0</td>\n",
              "      <td>0</td>\n",
              "      <td>0</td>\n",
              "      <td>0</td>\n",
              "      <td>0</td>\n",
              "      <td>0</td>\n",
              "      <td>0</td>\n",
              "      <td>0</td>\n",
              "      <td>0</td>\n",
              "      <td>0</td>\n",
              "      <td>0</td>\n",
              "      <td>0</td>\n",
              "      <td>0</td>\n",
              "      <td>0</td>\n",
              "      <td>0</td>\n",
              "      <td>0</td>\n",
              "      <td>0</td>\n",
              "      <td>0</td>\n",
              "      <td>0</td>\n",
              "      <td>0</td>\n",
              "      <td>0</td>\n",
              "      <td>0</td>\n",
              "      <td>0</td>\n",
              "    </tr>\n",
              "    <tr>\n",
              "      <th>2</th>\n",
              "      <td>Fortunes of War FREE</td>\n",
              "      <td>fortunesofwar.free</td>\n",
              "      <td>Cards &amp; Casino</td>\n",
              "      <td>Fortunes of War is a fast-paced, easy to learn...</td>\n",
              "      <td>4.1</td>\n",
              "      <td>243</td>\n",
              "      <td>0.0</td>\n",
              "      <td>{com.kevinquan.condado, hu.monsta.pazaak, net....</td>\n",
              "      <td>1.0</td>\n",
              "      <td>1</td>\n",
              "      <td>0</td>\n",
              "      <td>0</td>\n",
              "      <td>0</td>\n",
              "      <td>0</td>\n",
              "      <td>0</td>\n",
              "      <td>0</td>\n",
              "      <td>0</td>\n",
              "      <td>0</td>\n",
              "      <td>0</td>\n",
              "      <td>0</td>\n",
              "      <td>0</td>\n",
              "      <td>0</td>\n",
              "      <td>0</td>\n",
              "      <td>0</td>\n",
              "      <td>0</td>\n",
              "      <td>0</td>\n",
              "      <td>0</td>\n",
              "      <td>0</td>\n",
              "      <td>0</td>\n",
              "      <td>0</td>\n",
              "      <td>0</td>\n",
              "      <td>0</td>\n",
              "      <td>0</td>\n",
              "      <td>0</td>\n",
              "      <td>0</td>\n",
              "      <td>0</td>\n",
              "      <td>0</td>\n",
              "      <td>0</td>\n",
              "      <td>0</td>\n",
              "      <td>0</td>\n",
              "      <td>...</td>\n",
              "      <td>0</td>\n",
              "      <td>0</td>\n",
              "      <td>0</td>\n",
              "      <td>0</td>\n",
              "      <td>0</td>\n",
              "      <td>0</td>\n",
              "      <td>0</td>\n",
              "      <td>0</td>\n",
              "      <td>0</td>\n",
              "      <td>0</td>\n",
              "      <td>0</td>\n",
              "      <td>0</td>\n",
              "      <td>0</td>\n",
              "      <td>0</td>\n",
              "      <td>0</td>\n",
              "      <td>0</td>\n",
              "      <td>0</td>\n",
              "      <td>0</td>\n",
              "      <td>0</td>\n",
              "      <td>0</td>\n",
              "      <td>0</td>\n",
              "      <td>0</td>\n",
              "      <td>0</td>\n",
              "      <td>0</td>\n",
              "      <td>0</td>\n",
              "      <td>0</td>\n",
              "      <td>0</td>\n",
              "      <td>0</td>\n",
              "      <td>0</td>\n",
              "      <td>0</td>\n",
              "      <td>0</td>\n",
              "      <td>0</td>\n",
              "      <td>0</td>\n",
              "      <td>0</td>\n",
              "      <td>0</td>\n",
              "      <td>0</td>\n",
              "      <td>0</td>\n",
              "      <td>0</td>\n",
              "      <td>0</td>\n",
              "      <td>0</td>\n",
              "    </tr>\n",
              "  </tbody>\n",
              "</table>\n",
              "<p>3 rows × 184 columns</p>\n",
              "</div>"
            ],
            "text/plain": [
              "                       App  ... Class\n",
              "0  Canada Post Corporation  ...     0\n",
              "1                Word Farm  ...     0\n",
              "2     Fortunes of War FREE  ...     0\n",
              "\n",
              "[3 rows x 184 columns]"
            ]
          },
          "metadata": {
            "tags": []
          },
          "execution_count": 4
        }
      ]
    },
    {
      "cell_type": "code",
      "metadata": {
        "id": "PJ_nKsoDJaXk"
      },
      "source": [
        "Android['Related apps'] = Android['Related apps'].fillna(Android['Related apps'].mode()[0])\n",
        "\n",
        "Android['Dangerous permissions count'] = Android['Dangerous permissions count'].fillna(Android['Dangerous permissions count'].median())\n",
        "\n",
        "Android['Description'] = Android['Description'].fillna(Android['Description'].mode()[0])\n",
        "\n",
        "Android['App'] = Android['App'].fillna(Android['App'].mode()[0])"
      ],
      "execution_count": null,
      "outputs": []
    },
    {
      "cell_type": "code",
      "metadata": {
        "id": "Y4P2LbTxJaUL"
      },
      "source": [
        "List = ['App', 'Package', 'Category', 'Description', 'Related apps', 'Class']"
      ],
      "execution_count": null,
      "outputs": []
    },
    {
      "cell_type": "code",
      "metadata": {
        "id": "6RLTc2KcJaQr"
      },
      "source": [
        "X = Android.drop(columns=List)\n",
        "y = Android['Class']"
      ],
      "execution_count": null,
      "outputs": []
    },
    {
      "cell_type": "markdown",
      "metadata": {
        "id": "1fwJBZJFP8N6"
      },
      "source": [
        "### **1) Random Forest Classifier**"
      ]
    },
    {
      "cell_type": "code",
      "metadata": {
        "id": "PvC7ZzxBJaNb"
      },
      "source": [
        "# Feature importance is inbuilt with Tree Based Classifiers\n",
        "from sklearn.ensemble import RandomForestClassifier"
      ],
      "execution_count": null,
      "outputs": []
    },
    {
      "cell_type": "code",
      "metadata": {
        "id": "9JMTkq3lJuaM"
      },
      "source": [
        "# FEATURE IMPORTANCE FEATURE SELECTION\n",
        "import numpy as np\n",
        "np.random.seed(42)"
      ],
      "execution_count": null,
      "outputs": []
    },
    {
      "cell_type": "code",
      "metadata": {
        "colab": {
          "base_uri": "https://localhost:8080/"
        },
        "id": "gyLQ39jDJuYz",
        "outputId": "6aa7bf17-0ae3-495c-9de4-b38b477a5839"
      },
      "source": [
        "# instantiate RandomForestClassifier\n",
        "rf_model = RandomForestClassifier()\n",
        "rf_model.fit(X,y)"
      ],
      "execution_count": null,
      "outputs": [
        {
          "output_type": "execute_result",
          "data": {
            "text/plain": [
              "RandomForestClassifier(bootstrap=True, ccp_alpha=0.0, class_weight=None,\n",
              "                       criterion='gini', max_depth=None, max_features='auto',\n",
              "                       max_leaf_nodes=None, max_samples=None,\n",
              "                       min_impurity_decrease=0.0, min_impurity_split=None,\n",
              "                       min_samples_leaf=1, min_samples_split=2,\n",
              "                       min_weight_fraction_leaf=0.0, n_estimators=100,\n",
              "                       n_jobs=None, oob_score=False, random_state=None,\n",
              "                       verbose=0, warm_start=False)"
            ]
          },
          "metadata": {
            "tags": []
          },
          "execution_count": 10
        }
      ]
    },
    {
      "cell_type": "code",
      "metadata": {
        "id": "W5VznS-SJuWk"
      },
      "source": [
        "feat_importances = pd.Series(rf_model.feature_importances_, index=X.columns)"
      ],
      "execution_count": null,
      "outputs": []
    },
    {
      "cell_type": "code",
      "metadata": {
        "id": "LPglBx36JuTE"
      },
      "source": [
        "# determine 20 most important features\n",
        "df_imp_feat = feat_importances.nlargest(20)"
      ],
      "execution_count": null,
      "outputs": []
    },
    {
      "cell_type": "code",
      "metadata": {
        "colab": {
          "base_uri": "https://localhost:8080/",
          "height": 700
        },
        "id": "hkWD9KcKJ14r",
        "outputId": "50ffa9ee-43a6-4bfe-9393-dd2dce27c34c"
      },
      "source": [
        "# plot 20 most important features\n",
        "# feat_importances.nlargest(20).plot(kind='barh')\n",
        "\n",
        "plt.figure(figsize=(11,12))\n",
        "df_imp_feat.plot(kind='barh')\n",
        "plt.show()"
      ],
      "execution_count": null,
      "outputs": [
        {
          "output_type": "display_data",
          "data": {
            "image/png": "[encoded data removed]",
            "text/plain": [
              "<Figure size 792x864 with 1 Axes>"
            ]
          },
          "metadata": {
            "tags": [],
            "needs_background": "light"
          }
        }
      ]
    },
    {
      "cell_type": "code",
      "metadata": {
        "colab": {
          "base_uri": "https://localhost:8080/"
        },
        "id": "sdr7bEjvJ11M",
        "outputId": "ac265348-d5d0-460a-ea41-7a0daa911be7"
      },
      "source": [
        "print(df_imp_feat)"
      ],
      "execution_count": null,
      "outputs": [
        {
          "output_type": "stream",
          "text": [
            "Number of ratings                                                                  0.464837\n",
            "Rating                                                                             0.179456\n",
            "Price                                                                              0.075859\n",
            "Dangerous permissions count                                                        0.034599\n",
            "Safe permissions count                                                             0.025920\n",
            "Your location : fine (GPS) location (D)                                            0.012969\n",
            "Storage : modify/delete USB storage contents modify/delete SD card contents (D)    0.011472\n",
            "Phone calls : read phone state and identity (D)                                    0.010527\n",
            "System tools : prevent device from sleeping (D)                                    0.010351\n",
            "Network communication : view network state (S)                                     0.010340\n",
            "Hardware controls : control vibrator (S)                                           0.008897\n",
            "Your location : coarse (network-based) location (D)                                0.008547\n",
            "Network communication : view Wi-Fi state (S)                                       0.007826\n",
            "System tools : automatically start at boot (S)                                     0.006542\n",
            "Services that cost you money : directly call phone numbers (D)                     0.006527\n",
            "Hardware controls : take pictures and videos (D)                                   0.006120\n",
            "System tools : set wallpaper (S)                                                   0.006114\n",
            "Your personal information : read contact data (D)                                  0.005670\n",
            "System tools : retrieve running applications (D)                                   0.005051\n",
            "Your accounts : discover known accounts (S)                                        0.004842\n",
            "dtype: float64\n"
          ],
          "name": "stdout"
        }
      ]
    },
    {
      "cell_type": "markdown",
      "metadata": {
        "id": "reJW3P5DQD-6"
      },
      "source": [
        "### **2) ExtraTreesClassifier**"
      ]
    },
    {
      "cell_type": "code",
      "metadata": {
        "id": "RCwVxv6KQH-L"
      },
      "source": [
        "from sklearn.ensemble import ExtraTreesClassifier"
      ],
      "execution_count": 17,
      "outputs": []
    },
    {
      "cell_type": "code",
      "metadata": {
        "colab": {
          "base_uri": "https://localhost:8080/"
        },
        "id": "7CzyAypQQT9j",
        "outputId": "6b2ecffe-6a54-4dbc-f8b3-034189657826"
      },
      "source": [
        "# feature extraction\n",
        "model = ExtraTreesClassifier(n_estimators=10)\n",
        "model.fit(X, y)\n",
        "print(model.feature_importances_)"
      ],
      "execution_count": 18,
      "outputs": [
        {
          "output_type": "stream",
          "text": [
            "[1.73511662e-01 4.91856899e-01 6.49374972e-02 2.40061167e-02\n",
            " 1.88308098e-02 1.92111280e-04 1.16612815e-04 0.00000000e+00\n",
            " 2.48014993e-04 5.05615951e-06 1.39774710e-05 1.62323238e-04\n",
            " 0.00000000e+00 3.95155203e-05 8.48137983e-06 9.04505107e-07\n",
            " 1.23409237e-04 2.86615049e-05 1.91643713e-04 1.60712175e-04\n",
            " 0.00000000e+00 0.00000000e+00 0.00000000e+00 5.17994119e-04\n",
            " 1.13837222e-04 8.66762171e-04 0.00000000e+00 5.31469310e-04\n",
            " 5.85862920e-05 4.61557809e-04 3.12394632e-04 2.95121632e-04\n",
            " 6.79430057e-04 7.61255611e-04 7.27162525e-04 0.00000000e+00\n",
            " 1.29664971e-04 1.70368371e-04 3.33363913e-05 2.73473939e-04\n",
            " 0.00000000e+00 9.18215640e-05 0.00000000e+00 0.00000000e+00\n",
            " 1.14970882e-03 6.16385399e-04 2.47063315e-04 0.00000000e+00\n",
            " 2.14998859e-05 3.70694122e-06 0.00000000e+00 5.64397789e-05\n",
            " 8.02483479e-04 1.56978988e-04 2.71743910e-05 1.91539144e-04\n",
            " 0.00000000e+00 4.37394948e-05 6.81122216e-05 0.00000000e+00\n",
            " 0.00000000e+00 2.85262647e-05 0.00000000e+00 0.00000000e+00\n",
            " 8.65430486e-06 0.00000000e+00 0.00000000e+00 7.06088593e-05\n",
            " 0.00000000e+00 1.17404373e-05 1.34085570e-04 3.28391448e-03\n",
            " 2.31420364e-03 9.28385784e-03 4.42560915e-03 5.52001304e-03\n",
            " 5.14505280e-04 1.71394775e-06 2.79929120e-04 2.11452122e-03\n",
            " 0.00000000e+00 4.37424813e-03 2.67084680e-05 3.66182380e-03\n",
            " 8.29059621e-03 2.15988188e-02 9.18331589e-04 9.25027033e-04\n",
            " 9.67629465e-03 6.22993993e-03 3.88334419e-03 1.22813243e-02\n",
            " 8.39036732e-04 6.59364353e-03 1.41689673e-03 2.80777945e-03\n",
            " 0.00000000e+00 2.52556130e-03 1.13437998e-03 3.95931195e-04\n",
            " 2.41358967e-03 1.45262932e-03 3.26022379e-04 5.36274730e-05\n",
            " 3.11470698e-05 3.22607516e-03 5.19682422e-04 2.98299991e-04\n",
            " 3.00153621e-05 4.31529836e-03 2.28738886e-03 8.99238289e-03\n",
            " 1.10850763e-04 6.90648828e-04 3.30644621e-04 1.50368617e-05\n",
            " 1.07902115e-04 4.58005268e-03 5.92526149e-05 1.59432393e-03\n",
            " 5.88725204e-04 3.32661753e-05 4.25485359e-03 9.33576763e-04\n",
            " 3.59092378e-04 2.27753308e-05 6.03954381e-04 0.00000000e+00\n",
            " 1.57872091e-05 4.02471249e-05 1.24551478e-04 2.55348403e-05\n",
            " 3.36748856e-05 2.05682081e-06 6.86828769e-05 0.00000000e+00\n",
            " 5.29550502e-05 3.79901257e-05 0.00000000e+00 3.79949359e-04\n",
            " 5.63824800e-04 2.40119407e-04 3.78596828e-05 4.69804868e-03\n",
            " 8.09507843e-04 7.25526396e-05 1.18314610e-03 7.98661361e-04\n",
            " 2.08450517e-03 6.21300399e-03 1.10935194e-02 2.74979110e-03\n",
            " 1.09473299e-04 0.00000000e+00 1.36394785e-03 3.30775698e-05\n",
            " 3.20591024e-04 0.00000000e+00 2.16002444e-03 2.32695376e-05\n",
            " 8.44830718e-04 2.58173021e-03 2.11168675e-04 1.44455529e-04\n",
            " 3.92255574e-05 0.00000000e+00 9.99932411e-04 1.19918797e-04\n",
            " 4.46304629e-03 1.63229617e-03 5.30444205e-03 2.81971954e-03\n",
            " 1.96369261e-04 7.22442528e-05 1.33965180e-04 4.43912530e-03\n",
            " 2.88209655e-03 1.32918326e-04]\n"
          ],
          "name": "stdout"
        }
      ]
    },
    {
      "cell_type": "code",
      "metadata": {
        "id": "_BiIRnzlQk9c"
      },
      "source": [
        "feat_importances1 = pd.Series(model.feature_importances_, index=X.columns)"
      ],
      "execution_count": 19,
      "outputs": []
    },
    {
      "cell_type": "code",
      "metadata": {
        "id": "PnNLBxgeQk50"
      },
      "source": [
        "# determine 20 most important features\n",
        "df_imp_feat1 = feat_importances1.nlargest(20)"
      ],
      "execution_count": 20,
      "outputs": []
    },
    {
      "cell_type": "code",
      "metadata": {
        "colab": {
          "base_uri": "https://localhost:8080/",
          "height": 700
        },
        "id": "Wfnr9fhpQ1S8",
        "outputId": "26474510-fc03-438b-cef2-84a816c80e8b"
      },
      "source": [
        "# plot 20 most important features\n",
        "# feat_importances.nlargest(20).plot(kind='barh')\n",
        "\n",
        "plt.figure(figsize=(11,12))\n",
        "df_imp_feat1.plot(kind='barh')\n",
        "plt.show()"
      ],
      "execution_count": 21,
      "outputs": [
        {
          "output_type": "display_data",
          "data": {
            "image/png": "[encoded data removed]",
            "text/plain": [
              "<Figure size 792x864 with 1 Axes>"
            ]
          },
          "metadata": {
            "tags": [],
            "needs_background": "light"
          }
        }
      ]
    },
    {
      "cell_type": "code",
      "metadata": {
        "colab": {
          "base_uri": "https://localhost:8080/"
        },
        "id": "WAj-WFKHQ1Ql",
        "outputId": "84b30d8f-83b3-4aed-fbbd-aed7e47d5c84"
      },
      "source": [
        "print(df_imp_feat1)"
      ],
      "execution_count": 22,
      "outputs": [
        {
          "output_type": "stream",
          "text": [
            "Number of ratings                                                                  0.491857\n",
            "Rating                                                                             0.173512\n",
            "Price                                                                              0.064937\n",
            "Dangerous permissions count                                                        0.024006\n",
            "Network communication : view network state (S)                                     0.021599\n",
            "Safe permissions count                                                             0.018831\n",
            "Storage : modify/delete USB storage contents modify/delete SD card contents (D)    0.012281\n",
            "Your location : fine (GPS) location (D)                                            0.011094\n",
            "Phone calls : read phone state and identity (D)                                    0.009676\n",
            "Hardware controls : control vibrator (S)                                           0.009284\n",
            "System tools : prevent device from sleeping (D)                                    0.008992\n",
            "Network communication : view Wi-Fi state (S)                                       0.008291\n",
            "System tools : automatically start at boot (S)                                     0.006594\n",
            "Services that cost you money : directly call phone numbers (D)                     0.006230\n",
            "Your location : coarse (network-based) location (D)                                0.006213\n",
            "Hardware controls : take pictures and videos (D)                                   0.005520\n",
            "Your personal information : read contact data (D)                                  0.005304\n",
            "Your accounts : discover known accounts (S)                                        0.004698\n",
            "System tools : retrieve running applications (D)                                   0.004580\n",
            "Your personal information : read Browser's history and bookmarks (D)               0.004463\n",
            "dtype: float64\n"
          ],
          "name": "stdout"
        }
      ]
    }
  ]
}