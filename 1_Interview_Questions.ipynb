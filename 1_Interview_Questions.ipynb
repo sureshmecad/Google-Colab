{
  "nbformat": 4,
  "nbformat_minor": 0,
  "metadata": {
    "colab": {
      "name": "1. Interview_Questions.ipynb",
      "provenance": [],
      "authorship_tag": "ABX9TyMqec/eM6iGca6fRLkztG8B",
      "include_colab_link": true
    },
    "kernelspec": {
      "name": "python3",
      "display_name": "Python 3"
    }
  },
  "cells": [
    {
      "cell_type": "markdown",
      "metadata": {
        "id": "view-in-github",
        "colab_type": "text"
      },
      "source": [
        "<a href=\"https://colab.research.google.com/github/sureshmecad/Google-Colab/blob/master/1_Interview_Questions.ipynb\" target=\"_parent\"><img src=\"https://colab.research.google.com/assets/colab-badge.svg\" alt=\"Open In Colab\"/></a>"
      ]
    },
    {
      "cell_type": "markdown",
      "metadata": {
        "id": "wDyyTMmACnur"
      },
      "source": [
        "## Interview Questions"
      ]
    },
    {
      "cell_type": "markdown",
      "metadata": {
        "id": "NCE8nKXVCsWJ"
      },
      "source": [
        "### 1. For Loop"
      ]
    },
    {
      "cell_type": "code",
      "metadata": {
        "id": "u5SLnUDfCpGS",
        "outputId": "6c666339-da84-43c4-d6d9-d2d7d31854a8",
        "colab": {
          "base_uri": "https://localhost:8080/",
          "height": 34
        }
      },
      "source": [
        "# What is the output?\n",
        "\n",
        "word1 = \"welcome\"\n",
        "word2 = \"home\"\n",
        "r = []\n",
        "for x in word1:\n",
        "  if x in word2:\n",
        "    r.append(x)\n",
        "print(r[2]+r[1]+r[2])"
      ],
      "execution_count": 1,
      "outputs": [
        {
          "output_type": "stream",
          "text": [
            "mom\n"
          ],
          "name": "stdout"
        }
      ]
    },
    {
      "cell_type": "code",
      "metadata": {
        "id": "Hdvd1VU6CpJ6",
        "outputId": "942d600a-63c9-42a6-82df-91c405c202e1",
        "colab": {
          "base_uri": "https://localhost:8080/",
          "height": 34
        }
      },
      "source": [
        "# What is the output of this code?\n",
        "\n",
        "lst = [1, 2, 3, 4, 5]\n",
        "for i in range(1,6):\n",
        "  lst[i:i] = [i]\n",
        "print(lst)"
      ],
      "execution_count": 2,
      "outputs": [
        {
          "output_type": "stream",
          "text": [
            "[1, 1, 2, 3, 4, 5, 2, 3, 4, 5]\n"
          ],
          "name": "stdout"
        }
      ]
    },
    {
      "cell_type": "code",
      "metadata": {
        "id": "mrRkSyfaCpNq",
        "outputId": "2c4da105-ea83-4a2b-b037-9b33aa969abf",
        "colab": {
          "base_uri": "https://localhost:8080/",
          "height": 34
        }
      },
      "source": [
        "# What is the output of this code?\n",
        "\n",
        "num1 = [1,3,4,5]\n",
        "num2 = num1\n",
        "num2[0] = 5\n",
        "print(num1[0])"
      ],
      "execution_count": 3,
      "outputs": [
        {
          "output_type": "stream",
          "text": [
            "5\n"
          ],
          "name": "stdout"
        }
      ]
    },
    {
      "cell_type": "code",
      "metadata": {
        "id": "TQQi_XR7DCnt",
        "outputId": "0f33e00b-2cb6-4ca9-b170-cfeb08e6bbd5",
        "colab": {
          "base_uri": "https://localhost:8080/",
          "height": 34
        }
      },
      "source": [
        "# What is the output of this code?\n",
        "\n",
        "li = list()\n",
        "for i in range(1,5):\n",
        "  li.append(i+2)\n",
        "print(li)"
      ],
      "execution_count": 4,
      "outputs": [
        {
          "output_type": "stream",
          "text": [
            "[3, 4, 5, 6]\n"
          ],
          "name": "stdout"
        }
      ]
    },
    {
      "cell_type": "markdown",
      "metadata": {
        "id": "zgD4EE0XDI36"
      },
      "source": [
        "### AttributeError: 'dict' object has no attribute 'append'\n",
        "\n",
        "li = {}\n",
        "for i in range(1,5):\n",
        "  li.append(i+2)\n",
        "print(li)\n",
        "\n",
        "### AttributeError: 'tuple' object has no attribute 'append'\n",
        "\n",
        "li = ()\n",
        "for i in range(1,5):\n",
        "  li.append(i+2)\n",
        "print(li)"
      ]
    },
    {
      "cell_type": "code",
      "metadata": {
        "id": "-1siuKljDCrj",
        "outputId": "27498b4f-036d-4755-80da-8d2425fbcc80",
        "colab": {
          "base_uri": "https://localhost:8080/",
          "height": 34
        }
      },
      "source": [
        "list = [2, 33, 222, 14, 25]\n",
        "list[-1]"
      ],
      "execution_count": 5,
      "outputs": [
        {
          "output_type": "execute_result",
          "data": {
            "text/plain": [
              "25"
            ]
          },
          "metadata": {
            "tags": []
          },
          "execution_count": 5
        }
      ]
    },
    {
      "cell_type": "code",
      "metadata": {
        "id": "GpoMV8KoDCvi",
        "outputId": "2f8e3c2c-2c7b-472c-be2b-2106a3919964",
        "colab": {
          "base_uri": "https://localhost:8080/",
          "height": 34
        }
      },
      "source": [
        "list1 = [11,2,23]\n",
        "list2 = [11,2,2]\n",
        "print(list1 < list2)"
      ],
      "execution_count": 6,
      "outputs": [
        {
          "output_type": "stream",
          "text": [
            "False\n"
          ],
          "name": "stdout"
        }
      ]
    },
    {
      "cell_type": "code",
      "metadata": {
        "id": "Sq745t7rDCzb",
        "outputId": "5a749fca-a0e7-43b6-c8ae-a36f0b24bf8b",
        "colab": {
          "base_uri": "https://localhost:8080/",
          "height": 34
        }
      },
      "source": [
        "list1 = [11,2,23]\n",
        "list2 = [11,2,2]\n",
        "print(list1 > list2)"
      ],
      "execution_count": 7,
      "outputs": [
        {
          "output_type": "stream",
          "text": [
            "True\n"
          ],
          "name": "stdout"
        }
      ]
    },
    {
      "cell_type": "code",
      "metadata": {
        "id": "3bbWt6rKDC3j",
        "outputId": "4191c58b-a003-4ee3-9693-1f5d33a89fde",
        "colab": {
          "base_uri": "https://localhost:8080/",
          "height": 34
        }
      },
      "source": [
        "# What is the output of this code?\n",
        "\n",
        "for i in range(4):\n",
        "  if(i==2):\n",
        "    print('n', end=\"\")\n",
        "  elif(i==1):\n",
        "    print('e', end=\"\")\n",
        "  else:\n",
        "    print('t', end=\"\")"
      ],
      "execution_count": 8,
      "outputs": [
        {
          "output_type": "stream",
          "text": [
            "tent"
          ],
          "name": "stdout"
        }
      ]
    },
    {
      "cell_type": "code",
      "metadata": {
        "id": "K51GrgwMDC7S",
        "outputId": "482fe32b-1a45-4748-a049-7b006ffcb322",
        "colab": {
          "base_uri": "https://localhost:8080/",
          "height": 34
        }
      },
      "source": [
        "# What is the output of this code?\n",
        "\n",
        "x,y = 0, True\n",
        "x = x+1\n",
        "y = int(True)\n",
        "print(id(x) == id(y))"
      ],
      "execution_count": 9,
      "outputs": [
        {
          "output_type": "stream",
          "text": [
            "True\n"
          ],
          "name": "stdout"
        }
      ]
    },
    {
      "cell_type": "code",
      "metadata": {
        "id": "80W7Ge2nDa6N",
        "outputId": "cf2fd33f-6400-4da6-98d7-bcdbbe72730c",
        "colab": {
          "base_uri": "https://localhost:8080/",
          "height": 34
        }
      },
      "source": [
        "# What is the output of the following statement?\n",
        "\n",
        "x = '24' + '16'\n",
        "print(x)"
      ],
      "execution_count": 10,
      "outputs": [
        {
          "output_type": "stream",
          "text": [
            "2416\n"
          ],
          "name": "stdout"
        }
      ]
    },
    {
      "cell_type": "markdown",
      "metadata": {
        "id": "dNKRDF_YrT7w"
      },
      "source": [
        "### 2. List"
      ]
    },
    {
      "cell_type": "markdown",
      "metadata": {
        "id": "oHWeVw-rxNvZ"
      },
      "source": [
        "### Which method is used to add an element at the end of a list?\n",
        "\n",
        "A. insert()         B. removeLast()\n",
        "C. append()         D. None of these"
      ]
    },
    {
      "cell_type": "code",
      "metadata": {
        "id": "Ru_yfR3mwtCZ",
        "outputId": "cc5c38ec-88ef-4cdc-ced0-f1f937b103a1",
        "colab": {
          "base_uri": "https://localhost:8080/",
          "height": 34
        }
      },
      "source": [
        "List = [1,2,3,4,5]\n",
        "List.append(6)\n",
        "List"
      ],
      "execution_count": 16,
      "outputs": [
        {
          "output_type": "execute_result",
          "data": {
            "text/plain": [
              "[1, 2, 3, 4, 5, 6]"
            ]
          },
          "metadata": {
            "tags": []
          },
          "execution_count": 16
        }
      ]
    },
    {
      "cell_type": "markdown",
      "metadata": {
        "id": "XtuNlQdMrYkv"
      },
      "source": [
        "### 3. Tupple"
      ]
    },
    {
      "cell_type": "markdown",
      "metadata": {
        "id": "9j06PZKNrY_n"
      },
      "source": [
        "### 4. Dictionary"
      ]
    },
    {
      "cell_type": "markdown",
      "metadata": {
        "id": "3Rc7-TBrDm2e"
      },
      "source": [
        "### 5. Python Arithmetic Operators\n",
        "-   +       Addition\n",
        "-   -       Subtraction\n",
        "-   *       Multiplication\n",
        "-   /       Division\n",
        "-   %       Modulus\n",
        "-   **      Exponentiation\n",
        "-  //       Floor division"
      ]
    },
    {
      "cell_type": "code",
      "metadata": {
        "id": "QHuLClaZDa-L",
        "outputId": "5828f67f-20ae-4d7e-9724-590278e0237c",
        "colab": {
          "base_uri": "https://localhost:8080/",
          "height": 34
        }
      },
      "source": [
        "# What is the output of the following statement?\n",
        "# Floor Division (Arithmetic Operation)\n",
        "\n",
        "x = 8\n",
        "y = 2\n",
        "print(x // y)"
      ],
      "execution_count": 11,
      "outputs": [
        {
          "output_type": "stream",
          "text": [
            "4\n"
          ],
          "name": "stdout"
        }
      ]
    },
    {
      "cell_type": "code",
      "metadata": {
        "id": "NmgUQLl4DbBj",
        "outputId": "e400d9fe-2406-4d19-af50-893d1ff80b5e",
        "colab": {
          "base_uri": "https://localhost:8080/",
          "height": 34
        }
      },
      "source": [
        "a = \"(hello, python, learning)\"\n",
        "b = tuple(a)\n",
        "len(b)"
      ],
      "execution_count": 12,
      "outputs": [
        {
          "output_type": "execute_result",
          "data": {
            "text/plain": [
              "25"
            ]
          },
          "metadata": {
            "tags": []
          },
          "execution_count": 12
        }
      ]
    },
    {
      "cell_type": "code",
      "metadata": {
        "id": "tAxSAcqVDbF0",
        "outputId": "b60957e8-5a09-47d8-9d6e-053066543b6a",
        "colab": {
          "base_uri": "https://localhost:8080/",
          "height": 34
        }
      },
      "source": [
        "b = \"Hello, World!\"\n",
        "print(b[2:5:2]*2)"
      ],
      "execution_count": 13,
      "outputs": [
        {
          "output_type": "stream",
          "text": [
            "lolo\n"
          ],
          "name": "stdout"
        }
      ]
    },
    {
      "cell_type": "markdown",
      "metadata": {
        "id": "BEi3cX39D-DA"
      },
      "source": [
        "## 6. Python Comparison Operators\n",
        "==          Equal\n",
        "!=          Not equal\n",
        ">           Greater than\n",
        "<           Less than\n",
        ">=          Greater than or equal to\n",
        "<=          Less than or equal to"
      ]
    },
    {
      "cell_type": "code",
      "metadata": {
        "id": "Qa0gor29DbJr",
        "outputId": "cc08501d-c4f5-4ff8-d083-abb35988a5ec",
        "colab": {
          "base_uri": "https://localhost:8080/",
          "height": 34
        }
      },
      "source": [
        "num1 = 3**5\n",
        "num2 = 3**5.0\n",
        "print(num1 == num2)"
      ],
      "execution_count": 14,
      "outputs": [
        {
          "output_type": "stream",
          "text": [
            "True\n"
          ],
          "name": "stdout"
        }
      ]
    },
    {
      "cell_type": "markdown",
      "metadata": {
        "id": "HeUBD35jC_tp"
      },
      "source": [
        "----------------------------------"
      ]
    },
    {
      "cell_type": "markdown",
      "metadata": {
        "id": "JAykkkNgC4yJ"
      },
      "source": [
        "### 7. Def Function"
      ]
    },
    {
      "cell_type": "code",
      "metadata": {
        "id": "Ubmvc6KyKvHU",
        "outputId": "705f7dd2-d0a9-4553-886b-82a6943058bb",
        "colab": {
          "base_uri": "https://localhost:8080/",
          "height": 51
        }
      },
      "source": [
        "x = 5\n",
        "def add():\n",
        "  x = 3\n",
        "  x = x + 5\n",
        "  print(x)\n",
        "\n",
        "add()\n",
        "print(x)"
      ],
      "execution_count": null,
      "outputs": [
        {
          "output_type": "stream",
          "text": [
            "8\n",
            "5\n"
          ],
          "name": "stdout"
        }
      ]
    },
    {
      "cell_type": "code",
      "metadata": {
        "id": "8GN-sn5NLYJk",
        "outputId": "efdbaadc-f41e-4c29-c8cf-a15a8aed6a8d",
        "colab": {
          "base_uri": "https://localhost:8080/",
          "height": 34
        }
      },
      "source": [
        "def add():\n",
        "  x = 3\n",
        "  x = x + 5\n",
        "  print(x)\n",
        "\n",
        "add()"
      ],
      "execution_count": null,
      "outputs": [
        {
          "output_type": "stream",
          "text": [
            "8\n"
          ],
          "name": "stdout"
        }
      ]
    },
    {
      "cell_type": "markdown",
      "metadata": {
        "id": "FX5OJtH2C98h"
      },
      "source": [
        "-----------------------------"
      ]
    },
    {
      "cell_type": "code",
      "metadata": {
        "id": "lTjdJ72wNpnL"
      },
      "source": [
        ""
      ],
      "execution_count": null,
      "outputs": []
    }
  ]
}