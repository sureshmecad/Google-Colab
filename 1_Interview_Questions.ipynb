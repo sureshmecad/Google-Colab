{
  "nbformat": 4,
  "nbformat_minor": 0,
  "metadata": {
    "colab": {
      "name": "1. Interview_Questions.ipynb",
      "provenance": [],
      "authorship_tag": "ABX9TyN5mMP1MwOGaCv1QHtdA1j5",
      "include_colab_link": true
    },
    "kernelspec": {
      "name": "python3",
      "display_name": "Python 3"
    }
  },
  "cells": [
    {
      "cell_type": "markdown",
      "metadata": {
        "id": "view-in-github",
        "colab_type": "text"
      },
      "source": [
        "<a href=\"https://colab.research.google.com/github/sureshmecad/Google-Colab/blob/master/1_Interview_Questions.ipynb\" target=\"_parent\"><img src=\"https://colab.research.google.com/assets/colab-badge.svg\" alt=\"Open In Colab\"/></a>"
      ]
    },
    {
      "cell_type": "markdown",
      "metadata": {
        "id": "wDyyTMmACnur"
      },
      "source": [
        "## Interview Questions"
      ]
    },
    {
      "cell_type": "markdown",
      "metadata": {
        "id": "NCE8nKXVCsWJ"
      },
      "source": [
        "### 1. For Loop"
      ]
    },
    {
      "cell_type": "code",
      "metadata": {
        "id": "u5SLnUDfCpGS",
        "colab": {
          "base_uri": "https://localhost:8080/",
          "height": 34
        },
        "outputId": "6c666339-da84-43c4-d6d9-d2d7d31854a8"
      },
      "source": [
        "# What is the output?\n",
        "\n",
        "word1 = \"welcome\"\n",
        "word2 = \"home\"\n",
        "r = []\n",
        "for x in word1:\n",
        "  if x in word2:\n",
        "    r.append(x)\n",
        "print(r[2]+r[1]+r[2])"
      ],
      "execution_count": null,
      "outputs": [
        {
          "output_type": "stream",
          "text": [
            "mom\n"
          ],
          "name": "stdout"
        }
      ]
    },
    {
      "cell_type": "code",
      "metadata": {
        "id": "Hdvd1VU6CpJ6",
        "colab": {
          "base_uri": "https://localhost:8080/",
          "height": 34
        },
        "outputId": "942d600a-63c9-42a6-82df-91c405c202e1"
      },
      "source": [
        "# What is the output of this code?\n",
        "\n",
        "lst = [1, 2, 3, 4, 5]\n",
        "for i in range(1,6):\n",
        "  lst[i:i] = [i]\n",
        "print(lst)"
      ],
      "execution_count": null,
      "outputs": [
        {
          "output_type": "stream",
          "text": [
            "[1, 1, 2, 3, 4, 5, 2, 3, 4, 5]\n"
          ],
          "name": "stdout"
        }
      ]
    },
    {
      "cell_type": "code",
      "metadata": {
        "id": "mrRkSyfaCpNq",
        "colab": {
          "base_uri": "https://localhost:8080/",
          "height": 34
        },
        "outputId": "2c4da105-ea83-4a2b-b037-9b33aa969abf"
      },
      "source": [
        "# What is the output of this code?\n",
        "\n",
        "num1 = [1,3,4,5]\n",
        "num2 = num1\n",
        "num2[0] = 5\n",
        "print(num1[0])"
      ],
      "execution_count": null,
      "outputs": [
        {
          "output_type": "stream",
          "text": [
            "5\n"
          ],
          "name": "stdout"
        }
      ]
    },
    {
      "cell_type": "code",
      "metadata": {
        "id": "TQQi_XR7DCnt",
        "colab": {
          "base_uri": "https://localhost:8080/",
          "height": 34
        },
        "outputId": "0f33e00b-2cb6-4ca9-b170-cfeb08e6bbd5"
      },
      "source": [
        "# What is the output of this code?\n",
        "\n",
        "li = list()\n",
        "for i in range(1,5):\n",
        "  li.append(i+2)\n",
        "print(li)"
      ],
      "execution_count": null,
      "outputs": [
        {
          "output_type": "stream",
          "text": [
            "[3, 4, 5, 6]\n"
          ],
          "name": "stdout"
        }
      ]
    },
    {
      "cell_type": "markdown",
      "metadata": {
        "id": "zgD4EE0XDI36"
      },
      "source": [
        "### AttributeError: 'dict' object has no attribute 'append'\n",
        "\n",
        "li = {}\n",
        "for i in range(1,5):\n",
        "  li.append(i+2)\n",
        "print(li)\n",
        "\n",
        "### AttributeError: 'tuple' object has no attribute 'append'\n",
        "\n",
        "li = ()\n",
        "for i in range(1,5):\n",
        "  li.append(i+2)\n",
        "print(li)"
      ]
    },
    {
      "cell_type": "code",
      "metadata": {
        "id": "-1siuKljDCrj",
        "colab": {
          "base_uri": "https://localhost:8080/",
          "height": 34
        },
        "outputId": "27498b4f-036d-4755-80da-8d2425fbcc80"
      },
      "source": [
        "list = [2, 33, 222, 14, 25]\n",
        "list[-1]"
      ],
      "execution_count": null,
      "outputs": [
        {
          "output_type": "execute_result",
          "data": {
            "text/plain": [
              "25"
            ]
          },
          "metadata": {
            "tags": []
          },
          "execution_count": 5
        }
      ]
    },
    {
      "cell_type": "code",
      "metadata": {
        "id": "GpoMV8KoDCvi",
        "colab": {
          "base_uri": "https://localhost:8080/",
          "height": 34
        },
        "outputId": "2f8e3c2c-2c7b-472c-be2b-2106a3919964"
      },
      "source": [
        "list1 = [11,2,23]\n",
        "list2 = [11,2,2]\n",
        "print(list1 < list2)"
      ],
      "execution_count": null,
      "outputs": [
        {
          "output_type": "stream",
          "text": [
            "False\n"
          ],
          "name": "stdout"
        }
      ]
    },
    {
      "cell_type": "code",
      "metadata": {
        "id": "Sq745t7rDCzb",
        "colab": {
          "base_uri": "https://localhost:8080/",
          "height": 34
        },
        "outputId": "5a749fca-a0e7-43b6-c8ae-a36f0b24bf8b"
      },
      "source": [
        "list1 = [11,2,23]\n",
        "list2 = [11,2,2]\n",
        "print(list1 > list2)"
      ],
      "execution_count": null,
      "outputs": [
        {
          "output_type": "stream",
          "text": [
            "True\n"
          ],
          "name": "stdout"
        }
      ]
    },
    {
      "cell_type": "code",
      "metadata": {
        "id": "3bbWt6rKDC3j",
        "colab": {
          "base_uri": "https://localhost:8080/",
          "height": 34
        },
        "outputId": "4191c58b-a003-4ee3-9693-1f5d33a89fde"
      },
      "source": [
        "# What is the output of this code?\n",
        "\n",
        "for i in range(4):\n",
        "  if(i==2):\n",
        "    print('n', end=\"\")\n",
        "  elif(i==1):\n",
        "    print('e', end=\"\")\n",
        "  else:\n",
        "    print('t', end=\"\")"
      ],
      "execution_count": null,
      "outputs": [
        {
          "output_type": "stream",
          "text": [
            "tent"
          ],
          "name": "stdout"
        }
      ]
    },
    {
      "cell_type": "code",
      "metadata": {
        "id": "K51GrgwMDC7S",
        "colab": {
          "base_uri": "https://localhost:8080/",
          "height": 34
        },
        "outputId": "482fe32b-1a45-4748-a049-7b006ffcb322"
      },
      "source": [
        "# What is the output of this code?\n",
        "\n",
        "x,y = 0, True\n",
        "x = x+1\n",
        "y = int(True)\n",
        "print(id(x) == id(y))"
      ],
      "execution_count": null,
      "outputs": [
        {
          "output_type": "stream",
          "text": [
            "True\n"
          ],
          "name": "stdout"
        }
      ]
    },
    {
      "cell_type": "code",
      "metadata": {
        "id": "80W7Ge2nDa6N",
        "colab": {
          "base_uri": "https://localhost:8080/",
          "height": 34
        },
        "outputId": "cf2fd33f-6400-4da6-98d7-bcdbbe72730c"
      },
      "source": [
        "# What is the output of the following statement?\n",
        "\n",
        "x = '24' + '16'\n",
        "print(x)"
      ],
      "execution_count": null,
      "outputs": [
        {
          "output_type": "stream",
          "text": [
            "2416\n"
          ],
          "name": "stdout"
        }
      ]
    },
    {
      "cell_type": "markdown",
      "metadata": {
        "id": "_qicY1f-58Xo"
      },
      "source": [
        "-----------------------------------------------"
      ]
    },
    {
      "cell_type": "markdown",
      "metadata": {
        "id": "TiAG1QAs5WPo"
      },
      "source": [
        "### 2. if else"
      ]
    },
    {
      "cell_type": "code",
      "metadata": {
        "id": "PULOvTws5cO8",
        "colab": {
          "base_uri": "https://localhost:8080/",
          "height": 34
        },
        "outputId": "a4b3f1dd-3d9c-4bbe-ce3c-d9b7a1732485"
      },
      "source": [
        "# What is the output of this code?\n",
        "\n",
        "m=2;\n",
        "n=[1,2,3];\n",
        "if n[m]==m:\n",
        "  print(\"2\");\n",
        "else:\n",
        "  print(\"3\");"
      ],
      "execution_count": null,
      "outputs": [
        {
          "output_type": "stream",
          "text": [
            "3\n"
          ],
          "name": "stdout"
        }
      ]
    },
    {
      "cell_type": "markdown",
      "metadata": {
        "id": "b9FWHdVH5-PQ"
      },
      "source": [
        "------------------------------------------"
      ]
    },
    {
      "cell_type": "markdown",
      "metadata": {
        "id": "dNKRDF_YrT7w"
      },
      "source": [
        "### 3. List"
      ]
    },
    {
      "cell_type": "markdown",
      "metadata": {
        "id": "oHWeVw-rxNvZ"
      },
      "source": [
        "### Which method is used to add an element at the end of a list?\n",
        "\n",
        "A. insert()         B. removeLast()\n",
        "C. append()         D. None of these"
      ]
    },
    {
      "cell_type": "code",
      "metadata": {
        "id": "Ru_yfR3mwtCZ",
        "colab": {
          "base_uri": "https://localhost:8080/",
          "height": 34
        },
        "outputId": "cc5c38ec-88ef-4cdc-ced0-f1f937b103a1"
      },
      "source": [
        "List = [1,2,3,4,5]\n",
        "List.append(6)\n",
        "List"
      ],
      "execution_count": null,
      "outputs": [
        {
          "output_type": "execute_result",
          "data": {
            "text/plain": [
              "[1, 2, 3, 4, 5, 6]"
            ]
          },
          "metadata": {
            "tags": []
          },
          "execution_count": 16
        }
      ]
    },
    {
      "cell_type": "markdown",
      "metadata": {
        "id": "z7Qlk7bqpyxf"
      },
      "source": [
        "#### a. append"
      ]
    },
    {
      "cell_type": "code",
      "metadata": {
        "id": "QfesaehWp27d",
        "colab": {
          "base_uri": "https://localhost:8080/",
          "height": 34
        },
        "outputId": "8f36a365-0dc6-4d63-8faf-f1dea19df475"
      },
      "source": [
        "list2 = [3,4,5,7,9]\n",
        "list2.append([34,5])\n",
        "print(list2)"
      ],
      "execution_count": null,
      "outputs": [
        {
          "output_type": "stream",
          "text": [
            "[3, 4, 5, 7, 9, [34, 5]]\n"
          ],
          "name": "stdout"
        }
      ]
    },
    {
      "cell_type": "markdown",
      "metadata": {
        "id": "Xml8k7Zgpaxe"
      },
      "source": [
        "#### b. extend"
      ]
    },
    {
      "cell_type": "code",
      "metadata": {
        "id": "cwj5-KMYpPdg",
        "colab": {
          "base_uri": "https://localhost:8080/",
          "height": 34
        },
        "outputId": "ccb353a9-85ce-4b5f-bff7-173f5a7c5640"
      },
      "source": [
        "list1 = [3,4,5,7,9]\n",
        "list1.extend([34,5])\n",
        "print(list1)"
      ],
      "execution_count": null,
      "outputs": [
        {
          "output_type": "stream",
          "text": [
            "[3, 4, 5, 7, 9, 34, 5]\n"
          ],
          "name": "stdout"
        }
      ]
    },
    {
      "cell_type": "markdown",
      "metadata": {
        "id": "0bqEmJUsb5vg"
      },
      "source": [
        "### c. pop"
      ]
    },
    {
      "cell_type": "code",
      "metadata": {
        "id": "GjqQVxoyb9FG",
        "colab": {
          "base_uri": "https://localhost:8080/",
          "height": 34
        },
        "outputId": "42240792-bd06-4e90-c508-749e7495ce1c"
      },
      "source": [
        "# pop() removes the element at the position specified in the parameter.\n",
        "\n",
        "list1 = [3,4,5,7,9,1]\n",
        "list1.pop(1)\n",
        "print(list1)"
      ],
      "execution_count": null,
      "outputs": [
        {
          "output_type": "stream",
          "text": [
            "[3, 5, 7, 9, 1]\n"
          ],
          "name": "stdout"
        }
      ]
    },
    {
      "cell_type": "code",
      "metadata": {
        "id": "M7GAW5nrcbRv",
        "colab": {
          "base_uri": "https://localhost:8080/",
          "height": 34
        },
        "outputId": "7d990ac9-160f-4a8d-eb86-71cd8100a290"
      },
      "source": [
        "list1 = [3,4,5,7,9,1]\n",
        "list1.pop()\n",
        "print(list1)"
      ],
      "execution_count": null,
      "outputs": [
        {
          "output_type": "stream",
          "text": [
            "[3, 4, 5, 7, 9]\n"
          ],
          "name": "stdout"
        }
      ]
    },
    {
      "cell_type": "markdown",
      "metadata": {
        "id": "XtuNlQdMrYkv"
      },
      "source": [
        "### 4. Tupple"
      ]
    },
    {
      "cell_type": "code",
      "metadata": {
        "id": "NmgUQLl4DbBj",
        "colab": {
          "base_uri": "https://localhost:8080/",
          "height": 34
        },
        "outputId": "e400d9fe-2406-4d19-af50-893d1ff80b5e"
      },
      "source": [
        "a = \"(hello, python, learning)\"\n",
        "b = tuple(a)\n",
        "len(b)"
      ],
      "execution_count": null,
      "outputs": [
        {
          "output_type": "execute_result",
          "data": {
            "text/plain": [
              "25"
            ]
          },
          "metadata": {
            "tags": []
          },
          "execution_count": 12
        }
      ]
    },
    {
      "cell_type": "markdown",
      "metadata": {
        "id": "9j06PZKNrY_n"
      },
      "source": [
        "### 5. Dictionary"
      ]
    },
    {
      "cell_type": "markdown",
      "metadata": {
        "id": "3EYJiGfE7V66"
      },
      "source": [
        "### 6. String"
      ]
    },
    {
      "cell_type": "code",
      "metadata": {
        "id": "EgnUZN2b7ZFu",
        "colab": {
          "base_uri": "https://localhost:8080/",
          "height": 35
        },
        "outputId": "3cc0323d-f6ff-4f58-bb2c-fa20735cebef"
      },
      "source": [
        "a = ['gg','ca']\n",
        "max(a)"
      ],
      "execution_count": null,
      "outputs": [
        {
          "output_type": "execute_result",
          "data": {
            "application/vnd.google.colaboratory.intrinsic+json": {
              "type": "string"
            },
            "text/plain": [
              "'gg'"
            ]
          },
          "metadata": {
            "tags": []
          },
          "execution_count": 5
        }
      ]
    },
    {
      "cell_type": "code",
      "metadata": {
        "id": "IG8OZO8A7jiB",
        "colab": {
          "base_uri": "https://localhost:8080/",
          "height": 180
        },
        "outputId": "4bb913f4-0bf1-403a-cc48-d8807f15f3d9"
      },
      "source": [
        "a = ['gg',0]\n",
        "max(a)"
      ],
      "execution_count": null,
      "outputs": [
        {
          "output_type": "error",
          "ename": "TypeError",
          "evalue": "ignored",
          "traceback": [
            "\u001b[0;31m---------------------------------------------------------------------------\u001b[0m",
            "\u001b[0;31mTypeError\u001b[0m                                 Traceback (most recent call last)",
            "\u001b[0;32m<ipython-input-6-1bb0236a3336>\u001b[0m in \u001b[0;36m<module>\u001b[0;34m()\u001b[0m\n\u001b[1;32m      1\u001b[0m \u001b[0ma\u001b[0m \u001b[0;34m=\u001b[0m \u001b[0;34m[\u001b[0m\u001b[0;34m'gg'\u001b[0m\u001b[0;34m,\u001b[0m\u001b[0;36m0\u001b[0m\u001b[0;34m]\u001b[0m\u001b[0;34m\u001b[0m\u001b[0;34m\u001b[0m\u001b[0m\n\u001b[0;32m----> 2\u001b[0;31m \u001b[0mmax\u001b[0m\u001b[0;34m(\u001b[0m\u001b[0ma\u001b[0m\u001b[0;34m)\u001b[0m\u001b[0;34m\u001b[0m\u001b[0;34m\u001b[0m\u001b[0m\n\u001b[0m",
            "\u001b[0;31mTypeError\u001b[0m: '>' not supported between instances of 'int' and 'str'"
          ]
        }
      ]
    },
    {
      "cell_type": "markdown",
      "metadata": {
        "id": "3Rc7-TBrDm2e"
      },
      "source": [
        "### 6. Python Arithmetic Operators\n",
        "+       Addition\n",
        "-       Subtraction\n",
        "*       Multiplication\n",
        "\n",
        "/       Division\n",
        "\n",
        "%       Modulus\n",
        "\n",
        "**      Exponentiation\n",
        "\n",
        "//      Floor division"
      ]
    },
    {
      "cell_type": "markdown",
      "metadata": {
        "id": "ZAJYwOmd8lUE"
      },
      "source": [
        "#### i) Addition"
      ]
    },
    {
      "cell_type": "code",
      "metadata": {
        "id": "77DdQdfO8pzM",
        "colab": {
          "base_uri": "https://localhost:8080/",
          "height": 34
        },
        "outputId": "6152348e-2a67-47b2-9cb8-1417ed5a461e"
      },
      "source": [
        "a = input()"
      ],
      "execution_count": null,
      "outputs": [
        {
          "output_type": "stream",
          "text": [
            "10\n"
          ],
          "name": "stdout"
        }
      ]
    },
    {
      "cell_type": "code",
      "metadata": {
        "id": "sAf86SFN8w2c",
        "colab": {
          "base_uri": "https://localhost:8080/",
          "height": 163
        },
        "outputId": "b0dc7e6a-fc40-4f89-c75e-47f0c2736218"
      },
      "source": [
        "print(a+2)"
      ],
      "execution_count": null,
      "outputs": [
        {
          "output_type": "error",
          "ename": "TypeError",
          "evalue": "ignored",
          "traceback": [
            "\u001b[0;31m---------------------------------------------------------------------------\u001b[0m",
            "\u001b[0;31mTypeError\u001b[0m                                 Traceback (most recent call last)",
            "\u001b[0;32m<ipython-input-15-8dc697c55f48>\u001b[0m in \u001b[0;36m<module>\u001b[0;34m()\u001b[0m\n\u001b[0;32m----> 1\u001b[0;31m \u001b[0mprint\u001b[0m\u001b[0;34m(\u001b[0m\u001b[0ma\u001b[0m\u001b[0;34m+\u001b[0m\u001b[0;36m2\u001b[0m\u001b[0;34m)\u001b[0m\u001b[0;34m\u001b[0m\u001b[0;34m\u001b[0m\u001b[0m\n\u001b[0m",
            "\u001b[0;31mTypeError\u001b[0m: must be str, not int"
          ]
        }
      ]
    },
    {
      "cell_type": "markdown",
      "metadata": {
        "id": "hVOEurm-rIHi"
      },
      "source": [
        "#### iii). Multiplication"
      ]
    },
    {
      "cell_type": "code",
      "metadata": {
        "id": "tAxSAcqVDbF0",
        "colab": {
          "base_uri": "https://localhost:8080/",
          "height": 34
        },
        "outputId": "b60957e8-5a09-47d8-9d6e-053066543b6a"
      },
      "source": [
        "b = \"Hello, World!\"\n",
        "print(b[2:5:2]*2)"
      ],
      "execution_count": null,
      "outputs": [
        {
          "output_type": "stream",
          "text": [
            "lolo\n"
          ],
          "name": "stdout"
        }
      ]
    },
    {
      "cell_type": "code",
      "metadata": {
        "id": "A6jDwwSP8k2o",
        "colab": {
          "base_uri": "https://localhost:8080/",
          "height": 35
        },
        "outputId": "186b3745-63fd-4688-c92c-40cca397ddde"
      },
      "source": [
        "a = 'hi'*3\n",
        "a"
      ],
      "execution_count": null,
      "outputs": [
        {
          "output_type": "execute_result",
          "data": {
            "application/vnd.google.colaboratory.intrinsic+json": {
              "type": "string"
            },
            "text/plain": [
              "'hihihi'"
            ]
          },
          "metadata": {
            "tags": []
          },
          "execution_count": 10
        }
      ]
    },
    {
      "cell_type": "code",
      "metadata": {
        "id": "3VaIwTB98BbS",
        "colab": {
          "base_uri": "https://localhost:8080/",
          "height": 35
        },
        "outputId": "0d790e20-8fc2-4a55-c5ca-3452ca9eefb3"
      },
      "source": [
        "a = ('hi')*3\n",
        "a"
      ],
      "execution_count": null,
      "outputs": [
        {
          "output_type": "execute_result",
          "data": {
            "application/vnd.google.colaboratory.intrinsic+json": {
              "type": "string"
            },
            "text/plain": [
              "'hihihi'"
            ]
          },
          "metadata": {
            "tags": []
          },
          "execution_count": 7
        }
      ]
    },
    {
      "cell_type": "code",
      "metadata": {
        "id": "kwFjJ0t68WAq",
        "colab": {
          "base_uri": "https://localhost:8080/",
          "height": 34
        },
        "outputId": "fe7c7d58-8980-4ea0-c185-6163ac7138ae"
      },
      "source": [
        "a = ['hi']*3\n",
        "a"
      ],
      "execution_count": null,
      "outputs": [
        {
          "output_type": "execute_result",
          "data": {
            "text/plain": [
              "['hi', 'hi', 'hi']"
            ]
          },
          "metadata": {
            "tags": []
          },
          "execution_count": 9
        }
      ]
    },
    {
      "cell_type": "markdown",
      "metadata": {
        "id": "_88iuPavrSdz"
      },
      "source": [
        "#### vii). Floor Division"
      ]
    },
    {
      "cell_type": "code",
      "metadata": {
        "id": "4QPR4Wyjxefb",
        "colab": {
          "base_uri": "https://localhost:8080/",
          "height": 34
        },
        "outputId": "9ebba962-a838-4265-8c39-e64c18cb4ddd"
      },
      "source": [
        "quotient = 7 // 3     # This is the integer division operator\n",
        "print(quotient)"
      ],
      "execution_count": null,
      "outputs": [
        {
          "output_type": "stream",
          "text": [
            "2\n"
          ],
          "name": "stdout"
        }
      ]
    },
    {
      "cell_type": "code",
      "metadata": {
        "id": "QHuLClaZDa-L",
        "colab": {
          "base_uri": "https://localhost:8080/",
          "height": 34
        },
        "outputId": "5828f67f-20ae-4d7e-9724-590278e0237c"
      },
      "source": [
        "# What is the output of the following statement?\n",
        "# Floor Division (Arithmetic Operation)\n",
        "\n",
        "x = 8\n",
        "y = 2\n",
        "print(x // y)"
      ],
      "execution_count": null,
      "outputs": [
        {
          "output_type": "stream",
          "text": [
            "4\n"
          ],
          "name": "stdout"
        }
      ]
    },
    {
      "cell_type": "markdown",
      "metadata": {
        "id": "kkdE3-7mr259"
      },
      "source": [
        "#### v). Modulus\n",
        "- Reminder"
      ]
    },
    {
      "cell_type": "code",
      "metadata": {
        "id": "KvE7wdKRs2di",
        "colab": {
          "base_uri": "https://localhost:8080/",
          "height": 34
        },
        "outputId": "d4435127-f96a-4245-c02f-1c77ab279400"
      },
      "source": [
        "remainder = 7 % 3\n",
        "print(remainder)"
      ],
      "execution_count": null,
      "outputs": [
        {
          "output_type": "stream",
          "text": [
            "1\n"
          ],
          "name": "stdout"
        }
      ]
    },
    {
      "cell_type": "code",
      "metadata": {
        "id": "WPOKHTeWqgEY",
        "colab": {
          "base_uri": "https://localhost:8080/",
          "height": 129
        },
        "outputId": "986913b5-e893-466a-c3a6-75cadff6c52d"
      },
      "source": [
        "1a = 1.0\n",
        "print(1a%2)"
      ],
      "execution_count": null,
      "outputs": [
        {
          "output_type": "error",
          "ename": "SyntaxError",
          "evalue": "ignored",
          "traceback": [
            "\u001b[0;36m  File \u001b[0;32m\"<ipython-input-13-7e25bcee54f9>\"\u001b[0;36m, line \u001b[0;32m1\u001b[0m\n\u001b[0;31m    1a = 1.0\u001b[0m\n\u001b[0m     ^\u001b[0m\n\u001b[0;31mSyntaxError\u001b[0m\u001b[0;31m:\u001b[0m invalid syntax\n"
          ]
        }
      ]
    },
    {
      "cell_type": "markdown",
      "metadata": {
        "id": "5BGpa5uy8HNU"
      },
      "source": [
        "- **Variables** can't start with a **number**"
      ]
    },
    {
      "cell_type": "markdown",
      "metadata": {
        "id": "BEi3cX39D-DA"
      },
      "source": [
        "## 6. Python Comparison Operators\n",
        "==          Equal\n",
        "!=          Not equal\n",
        ">           Greater than\n",
        "<           Less than\n",
        ">=          Greater than or equal to\n",
        "<=          Less than or equal to"
      ]
    },
    {
      "cell_type": "code",
      "metadata": {
        "id": "Qa0gor29DbJr",
        "colab": {
          "base_uri": "https://localhost:8080/",
          "height": 34
        },
        "outputId": "cc08501d-c4f5-4ff8-d083-abb35988a5ec"
      },
      "source": [
        "num1 = 3**5\n",
        "num2 = 3**5.0\n",
        "print(num1 == num2)"
      ],
      "execution_count": null,
      "outputs": [
        {
          "output_type": "stream",
          "text": [
            "True\n"
          ],
          "name": "stdout"
        }
      ]
    },
    {
      "cell_type": "markdown",
      "metadata": {
        "id": "HeUBD35jC_tp"
      },
      "source": [
        "----------------------------------"
      ]
    },
    {
      "cell_type": "markdown",
      "metadata": {
        "id": "JAykkkNgC4yJ"
      },
      "source": [
        "### 7. Def Function"
      ]
    },
    {
      "cell_type": "code",
      "metadata": {
        "id": "Ubmvc6KyKvHU",
        "colab": {
          "base_uri": "https://localhost:8080/",
          "height": 51
        },
        "outputId": "705f7dd2-d0a9-4553-886b-82a6943058bb"
      },
      "source": [
        "x = 5\n",
        "def add():\n",
        "  x = 3\n",
        "  x = x + 5\n",
        "  print(x)\n",
        "\n",
        "add()\n",
        "print(x)"
      ],
      "execution_count": null,
      "outputs": [
        {
          "output_type": "stream",
          "text": [
            "8\n",
            "5\n"
          ],
          "name": "stdout"
        }
      ]
    },
    {
      "cell_type": "code",
      "metadata": {
        "id": "8GN-sn5NLYJk",
        "colab": {
          "base_uri": "https://localhost:8080/",
          "height": 34
        },
        "outputId": "efdbaadc-f41e-4c29-c8cf-a15a8aed6a8d"
      },
      "source": [
        "def add():\n",
        "  x = 3\n",
        "  x = x + 5\n",
        "  print(x)\n",
        "\n",
        "add()"
      ],
      "execution_count": null,
      "outputs": [
        {
          "output_type": "stream",
          "text": [
            "8\n"
          ],
          "name": "stdout"
        }
      ]
    },
    {
      "cell_type": "markdown",
      "metadata": {
        "id": "FX5OJtH2C98h"
      },
      "source": [
        "-----------------------------"
      ]
    },
    {
      "cell_type": "code",
      "metadata": {
        "id": "v6pWy62c61gO",
        "colab": {
          "base_uri": "https://localhost:8080/",
          "height": 197
        },
        "outputId": "45bc779b-1264-4c19-9ab7-0c8b9319442f"
      },
      "source": [
        "# What is the output of below code?\n",
        "\n",
        "t = ('ML', 'Data', 'Science')\n",
        "print(t.index('data'))"
      ],
      "execution_count": null,
      "outputs": [
        {
          "output_type": "error",
          "ename": "ValueError",
          "evalue": "ignored",
          "traceback": [
            "\u001b[0;31m---------------------------------------------------------------------------\u001b[0m",
            "\u001b[0;31mValueError\u001b[0m                                Traceback (most recent call last)",
            "\u001b[0;32m<ipython-input-4-6c7dee1ccf47>\u001b[0m in \u001b[0;36m<module>\u001b[0;34m()\u001b[0m\n\u001b[1;32m      2\u001b[0m \u001b[0;34m\u001b[0m\u001b[0m\n\u001b[1;32m      3\u001b[0m \u001b[0mt\u001b[0m \u001b[0;34m=\u001b[0m \u001b[0;34m(\u001b[0m\u001b[0;34m'ML'\u001b[0m\u001b[0;34m,\u001b[0m \u001b[0;34m'Data'\u001b[0m\u001b[0;34m,\u001b[0m \u001b[0;34m'Science'\u001b[0m\u001b[0;34m)\u001b[0m\u001b[0;34m\u001b[0m\u001b[0;34m\u001b[0m\u001b[0m\n\u001b[0;32m----> 4\u001b[0;31m \u001b[0mprint\u001b[0m\u001b[0;34m(\u001b[0m\u001b[0mt\u001b[0m\u001b[0;34m.\u001b[0m\u001b[0mindex\u001b[0m\u001b[0;34m(\u001b[0m\u001b[0;34m'data'\u001b[0m\u001b[0;34m)\u001b[0m\u001b[0;34m)\u001b[0m\u001b[0;34m\u001b[0m\u001b[0;34m\u001b[0m\u001b[0m\n\u001b[0m",
            "\u001b[0;31mValueError\u001b[0m: tuple.index(x): x not in tuple"
          ]
        }
      ]
    },
    {
      "cell_type": "code",
      "metadata": {
        "id": "lTjdJ72wNpnL",
        "colab": {
          "base_uri": "https://localhost:8080/",
          "height": 34
        },
        "outputId": "cd3396bc-ef7e-494f-bba5-48d4f164ccbd"
      },
      "source": [
        "# What is the output of below code?\n",
        "\n",
        "t = ('ML', 'Data', 'Science')\n",
        "print(t.index('Data'))"
      ],
      "execution_count": null,
      "outputs": [
        {
          "output_type": "stream",
          "text": [
            "1\n"
          ],
          "name": "stdout"
        }
      ]
    },
    {
      "cell_type": "markdown",
      "metadata": {
        "id": "NrE48jlLME3w"
      },
      "source": [
        "---------------------------"
      ]
    },
    {
      "cell_type": "markdown",
      "metadata": {
        "id": "JgiDZerkL4Dn"
      },
      "source": [
        "![2.JPG](data:image/jpeg;base64,/9j/4AAQSkZJRgABAQEAYABgAAD/4REiRXhpZgAATU0AKgAAAAgABAE7AAIAAAAdAAAISodpAAQAAAABAAAIaJydAAEAAAA6AAAQ4OocAAcAAAgMAAAAPgAAAAAc6gAAAAgAAAAAAAAAAAAAAAAAAAAAAAAAAAAAAAAAAAAAAAAAAAAAAAAAAAAAAAAAAAAAAAAAAAAAAAAAAAAAAAAAAAAAAAAAAAAAAAAAAAAAAAAAAAAAAAAAAAAAAAAAAAAAAAAAAAAAAAAAAAAAAAAAAAAAAAAAAAAAAAAAAAAAAAAAAAAAAAAAAAAAAAAAAAAAAAAAAAAAAAAAAAAAAAAAAAAAAAAAAAAAAAAAAAAAAAAAAAAAAAAAAAAAAAAAAAAAAAAAAAAAAAAAAAAAAAAAAAAAAAAAAAAAAAAAAAAAAAAAAAAAAAAAAAAAAAAAAAAAAAAAAAAAAAAAAAAAAAAAAAAAAAAAAAAAAAAAAAAAAAAAAAAAAAAAAAAAAAAAAAAAAAAAAAAAAAAAAAAAAAAAAAAAAAAAAAAAAAAAAAAAAAAAAAAAAAAAAAAAAAAAAAAAAAAAAAAAAAAAAAAAAAAAAAAAAAAAAAAAAAAAAAAAAAAAAAAAAAAAAAAAAAAAAAAAAAAAAAAAAAAAAAAAAAAAAAAAAAAAAAAAAAAAAAAAAAAAAAAAAAAAAAAAAAAAAAAAAAAAAAAAAAAAAAAAAAAAAAAAAAAAAAAAAAAAAAAAAAAAAAAAAAAAAAAAAAAAAAAAAAAAAAAAAAAAAAAAAAAAAAAAAAAAAAAAAAAAAAAAAAAAAAAAAAAAAAAAAAAAAAAAAAAAAAAAAAAAAAAAAAAAAAAAAAAAAAAAAAAAAAAAAAAAAAAAAAAAAAAAAAAAAAAAAAAAAAAAAAAAAAAAAAAAAAAAAAAAAAAAAAAAAAAAAAAAAAAAAAAAAAAAAAAAAAAAAAAAAAAAAAAAAAAAAAAAAAAAAAAAAAAAAAAAAAAAAAAAAAAAAAAAAAAAAAAAAAAAAAAAAAAAAAAAAAAAAAAAAAAAAAAAAAAAAAAAAAAAAAAAAAAAAAAAAAAAAAAAAAAAAAAAAAAAAAAAAAAAAAAAAAAAAAAAAAAAAAAAAAAAAAAAAAAAAAAAAAAAAAAAAAAAAAAAAAAAAAAAAAAAAAAAAAAAAAAAAAAAAAAAAAAAAAAAAAAAAAAAAAAAAAAAAAAAAAAAAAAAAAAAAAAAAAAAAAAAAAAAAAAAAAAAAAAAAAAAAAAAAAAAAAAAAAAAAAAAAAAAAAAAAAAAAAAAAAAAAAAAAAAAAAAAAAAAAAAAAAAAAAAAAAAAAAAAAAAAAAAAAAAAAAAAAAAAAAAAAAAAAAAAAAAAAAAAAAAAAAAAAAAAAAAAAAAAAAAAAAAAAAAAAAAAAAAAAAAAAAAAAAAAAAAAAAAAAAAAAAAAAAAAAAAAAAAAAAAAAAAAAAAAAAAAAAAAAAAAAAAAAAAAAAAAAAAAAAAAAAAAAAAAAAAAAAAAAAAAAAAAAAAAAAAAAAAAAAAAAAAAAAAAAAAAAAAAAAAAAAAAAAAAAAAAAAAAAAAAAAAAAAAAAAAAAAAAAAAAAAAAAAAAAAAAAAAAAAAAAAAAAAAAAAAAAAAAAAAAAAAAAAAAAAAAAAAAAAAAAAAAAAAAAAAAAAAAAAAAAAAAAAAAAAAAAAAAAAAAAAAAAAAAAAAAAAAAAAAAAAAAAAAAAAAAAAAAAAAAAAAAAAAAAAAAAAAAAAAAAAAAAAAAAAAAAAAAAAAAAAAAAAAAAAAAAAAAAAAAAAAAAAAAAAAAAAAAAAAAAAAAAAAAAAAAAAAAAAAAAAAAAAAAAAAAAAAAAAAAAAAAAAAAAAAAAAAAAAAAAAAAAAAAAAAAAAAAAAAAAAAAAAAAAAAAAAAAAAAAAAAAAAAAAAAAAAAAAAAAAAAAAAAAAAAAAAAAAAAAAAAAAAAAAAAAAAAAAAAAAAAAAAAAAAAAAAAAAAAAAAAAAAAAAAAAAAAAAAAAAAAAAAAAAAAAAAAAAAAAAAAAAAAAAAAAAAAAAAAAAAAAAAAAAAAAAAAAAAAAAAAAAAAAAAAAAAAAAAAAAAAAAAAAAAAAAAAAAAAAAAAAAAAAAAAAAAAAAAAAAAAAAAAAAAAAAAAAAAAAAAAAAAAAAAAAAAAAAAAAAAAAAAAAAAAAAAAAAAAAAAAAAAAAAAAAAAAAAAAAAAAAAAAAAAAAAAAAAAAAAAAAAAAAAAAAAAAAAAAAAAAAAAAAAAAAAAAAAAAAAAAAAAAAAAAAAAAAAAAAAAAAAAAAAAAAAAAAAAAAAAAAAAAAAAAAAAAAAAAAAAAAAAAAAAAAAAAAAAAAAAAAAAAAAAAAAAAAAAAAAAAAAAAAAAAAAAAAAAAAAAAAAAAAAAAAAAAAAAAAAAAAAAAAAAAAAAAAAAAAAAAAAAAAAAAAAAAAAAAAAAAAAAAAAAAAAAAAAAAAAAAAAAAAAAAAAAAAAAAAAAAAAAAAAAAAAAAAAAAAAAAAAAAAAAAAAAAAAAAAAAAAAAAAAAAAAAAAAAAAAAAAAAAAAAAAAAAAAAAAAAAAAAAAAAAAAAAAAAAAAAAAAAAAAAAAAAAAAAAAAAAAAAAAAAAAAAAAAAAAAAAAAAAAAAAAAAAAAAAAAAAAAAAAAAAAAAAAAAAAAAAAAAAAAAAAAAAAAAAAAAAAAAAAAAAAAAAAAAAAAAAAAAAAAAAAAAAAAAAAAAAAAAAAAAAAAAAAAAAAAAAAAAAAAAAAAAAAAAAAAAAAAAAAAAAAAAAAAAAAAAAAAAAAAAAAAAAAAAAAAAAAAAAAAAAAAAAAAAAAAAAAAAAAAAAAAAAAAAAAAAAAAAAAAEFudWdhbnRpIFN1cmVzaCAoQ29uc3VsdGFudCkAAAAFkAMAAgAAABQAABC2kAQAAgAAABQAABDKkpEAAgAAAAM4NQAAkpIAAgAAAAM4NQAA6hwABwAACAwAAAiqAAAAABzqAAAACAAAAAAAAAAAAAAAAAAAAAAAAAAAAAAAAAAAAAAAAAAAAAAAAAAAAAAAAAAAAAAAAAAAAAAAAAAAAAAAAAAAAAAAAAAAAAAAAAAAAAAAAAAAAAAAAAAAAAAAAAAAAAAAAAAAAAAAAAAAAAAAAAAAAAAAAAAAAAAAAAAAAAAAAAAAAAAAAAAAAAAAAAAAAAAAAAAAAAAAAAAAAAAAAAAAAAAAAAAAAAAAAAAAAAAAAAAAAAAAAAAAAAAAAAAAAAAAAAAAAAAAAAAAAAAAAAAAAAAAAAAAAAAAAAAAAAAAAAAAAAAAAAAAAAAAAAAAAAAAAAAAAAAAAAAAAAAAAAAAAAAAAAAAAAAAAAAAAAAAAAAAAAAAAAAAAAAAAAAAAAAAAAAAAAAAAAAAAAAAAAAAAAAAAAAAAAAAAAAAAAAAAAAAAAAAAAAAAAAAAAAAAAAAAAAAAAAAAAAAAAAAAAAAAAAAAAAAAAAAAAAAAAAAAAAAAAAAAAAAAAAAAAAAAAAAAAAAAAAAAAAAAAAAAAAAAAAAAAAAAAAAAAAAAAAAAAAAAAAAAAAAAAAAAAAAAAAAAAAAAAAAAAAAAAAAAAAAAAAAAAAAAAAAAAAAAAAAAAAAAAAAAAAAAAAAAAAAAAAAAAAAAAAAAAAAAAAAAAAAAAAAAAAAAAAAAAAAAAAAAAAAAAAAAAAAAAAAAAAAAAAAAAAAAAAAAAAAAAAAAAAAAAAAAAAAAAAAAAAAAAAAAAAAAAAAAAAAAAAAAAAAAAAAAAAAAAAAAAAAAAAAAAAAAAAAAAAAAAAAAAAAAAAAAAAAAAAAAAAAAAAAAAAAAAAAAAAAAAAAAAAAAAAAAAAAAAAAAAAAAAAAAAAAAAAAAAAAAAAAAAAAAAAAAAAAAAAAAAAAAAAAAAAAAAAAAAAAAAAAAAAAAAAAAAAAAAAAAAAAAAAAAAAAAAAAAAAAAAAAAAAAAAAAAAAAAAAAAAAAAAAAAAAAAAAAAAAAAAAAAAAAAAAAAAAAAAAAAAAAAAAAAAAAAAAAAAAAAAAAAAAAAAAAAAAAAAAAAAAAAAAAAAAAAAAAAAAAAAAAAAAAAAAAAAAAAAAAAAAAAAAAAAAAAAAAAAAAAAAAAAAAAAAAAAAAAAAAAAAAAAAAAAAAAAAAAAAAAAAAAAAAAAAAAAAAAAAAAAAAAAAAAAAAAAAAAAAAAAAAAAAAAAAAAAAAAAAAAAAAAAAAAAAAAAAAAAAAAAAAAAAAAAAAAAAAAAAAAAAAAAAAAAAAAAAAAAAAAAAAAAAAAAAAAAAAAAAAAAAAAAAAAAAAAAAAAAAAAAAAAAAAAAAAAAAAAAAAAAAAAAAAAAAAAAAAAAAAAAAAAAAAAAAAAAAAAAAAAAAAAAAAAAAAAAAAAAAAAAAAAAAAAAAAAAAAAAAAAAAAAAAAAAAAAAAAAAAAAAAAAAAAAAAAAAAAAAAAAAAAAAAAAAAAAAAAAAAAAAAAAAAAAAAAAAAAAAAAAAAAAAAAAAAAAAAAAAAAAAAAAAAAAAAAAAAAAAAAAAAAAAAAAAAAAAAAAAAAAAAAAAAAAAAAAAAAAAAAAAAAAAAAAAAAAAAAAAAAAAAAAAAAAAAAAAAAAAAAAAAAAAAAAAAAAAAAAAAAAAAAAAAAAAAAAAAAAAAAAAAAAAAAAAAAAAAAAAAAAAAAAAAAAAAAAAAAAAAAAAAAAAAAAAAAAAAAAAAAAAAAAAAAAAAAAAAAAAAAAAAAAAAAAAAAAAAAAAAAAAAAAAAAAAAAAAAAAAAAAAAAAAAAAAAAAAAAAAAAAAAAAAAAAAAAAAAAAAAAAAAAAAAAAAAAAAAAAAAAAAAAAAAAAAAAAAAAAAAAAAAAAAAAAAAAAAAAAAAAAAAAAAAAAAAAAAAAAAAAAAAAAAAAAAAAAAAAAAAAAAAAAAAAAAAAAAAAAAAAAAAAAAAAAAAAAAAAAAAAAAAAAAAAAAAAAAAAAAAAAAAAAAAAAAAAAAAAAAAAAAAAAAAAAAAAAAAAAAAAAAAAAAAAAAAAAAAAAAAAAAAAAAAAAAAAAAAAAAAAAAAAAAAAAAAAAAAAAAAAAAAAAAAAAAAAAAAAAAAAAAAAAAAAAAAAAAAAAAAAAAAAAAAAAAAAAAAAAAAAAAAAAAAAAAAAAAAAAAAAAAAAAAAAAAAAAAAAAAAAAAAAAAAAAAAAAAAAAAAAAAAAAAAAAAAAAAAAAAAAAAAAAAAAAAAAAAAAAAAAAAAAAAAAAAAAAAAAAAAAAAAAAAAAAAAAAAAAAAAAAAAAAAAAAAAAAAAAAAAAAAAAAAAAAAAAAAAAAAAAAAAAAAAAAAAAAAAAAAAAAAAAAAAAAAAAAAAAAAAAAAAAAAAAAAAAAAAAAAAAAAAAAAAAAAAAAAAAAAAAAAAAAAAAAAAAAAAAAAAAAAAAAAAAAAAAAAAAAAAAAAAAAAAAAAAAAAAAAAAAAAAAAAAAAAAAAAAAAAAAAAAAAAAAAAAAAAAAAAAAAAAAAAAAAAAAAAAAAAAAAAAAAAAAAAAAAAAAAAAAAAAAAAAAAAAAAAAAAAAAAAAAAAAAAAAAAAAAAAAAAAAAAAAAAAAAAAAAAAAAAAAAAAAAAAAAAAAAAAAAAAAAAAAAAAAAAAAAAAAAAAAAAAAAAAAAAAAAAAAAAAAAAAAAAAAAAAAAAAAAAAAAAAAAAAAAAAAAAAAAAAAAAAAAAAAAAAAAAAAAAAAAAAAAAAAAAAAAAAAAAAAAMjAyMTowMjowOSAxMjo1ODozNwAyMDIxOjAyOjA5IDEyOjU4OjM3AAAAQQBuAHUAZwBhAG4AdABpACAAUwB1AHIAZQBzAGgAIAAoAEMAbwBuAHMAdQBsAHQAYQBuAHQAKQAAAP/hCy9odHRwOi8vbnMuYWRvYmUuY29tL3hhcC8xLjAvADw/eHBhY2tldCBiZWdpbj0n77u/JyBpZD0nVzVNME1wQ2VoaUh6cmVTek5UY3prYzlkJz8+DQo8eDp4bXBtZXRhIHhtbG5zOng9ImFkb2JlOm5zOm1ldGEvIj48cmRmOlJERiB4bWxuczpyZGY9Imh0dHA6Ly93d3cudzMub3JnLzE5OTkvMDIvMjItcmRmLXN5bnRheC1ucyMiPjxyZGY6RGVzY3JpcHRpb24gcmRmOmFib3V0PSJ1dWlkOmZhZjViZGQ1LWJhM2QtMTFkYS1hZDMxLWQzM2Q3NTE4MmYxYiIgeG1sbnM6ZGM9Imh0dHA6Ly9wdXJsLm9yZy9kYy9lbGVtZW50cy8xLjEvIi8+PHJkZjpEZXNjcmlwdGlvbiByZGY6YWJvdXQ9InV1aWQ6ZmFmNWJkZDUtYmEzZC0xMWRhLWFkMzEtZDMzZDc1MTgyZjFiIiB4bWxuczp4bXA9Imh0dHA6Ly9ucy5hZG9iZS5jb20veGFwLzEuMC8iPjx4bXA6Q3JlYXRlRGF0ZT4yMDIxLTAyLTA5VDEyOjU4OjM3Ljg0NTwveG1wOkNyZWF0ZURhdGU+PC9yZGY6RGVzY3JpcHRpb24+PHJkZjpEZXNjcmlwdGlvbiByZGY6YWJvdXQ9InV1aWQ6ZmFmNWJkZDUtYmEzZC0xMWRhLWFkMzEtZDMzZDc1MTgyZjFiIiB4bWxuczpkYz0iaHR0cDovL3B1cmwub3JnL2RjL2VsZW1lbnRzLzEuMS8iPjxkYzpjcmVhdG9yPjxyZGY6U2VxIHhtbG5zOnJkZj0iaHR0cDovL3d3dy53My5vcmcvMTk5OS8wMi8yMi1yZGYtc3ludGF4LW5zIyI+PHJkZjpsaT5BbnVnYW50aSBTdXJlc2ggKENvbnN1bHRhbnQpPC9yZGY6bGk+PC9yZGY6U2VxPg0KCQkJPC9kYzpjcmVhdG9yPjwvcmRmOkRlc2NyaXB0aW9uPjwvcmRmOlJERj48L3g6eG1wbWV0YT4NCiAgICAgICAgICAgICAgICAgICAgICAgICAgICAgICAgICAgICAgICAgICAgICAgICAgICAgICAgICAgICAgICAgICAgICAgICAgICAgICAgICAgICAgICAgICAgICAgICAgICAKICAgICAgICAgICAgICAgICAgICAgICAgICAgICAgICAgICAgICAgICAgICAgICAgICAgICAgICAgICAgICAgICAgICAgICAgICAgICAgICAgICAgICAgICAgICAgICAgICAgIAogICAgICAgICAgICAgICAgICAgICAgICAgICAgICAgICAgICAgICAgICAgICAgICAgICAgICAgICAgICAgICAgICAgICAgICAgICAgICAgICAgICAgICAgICAgICAgICAgICAgCiAgICAgICAgICAgICAgICAgICAgICAgICAgICAgICAgICAgICAgICAgICAgICAgICAgICAgICAgICAgICAgICAgICAgICAgICAgICAgICAgICAgICAgICAgICAgICAgICAgICAKICAgICAgICAgICAgICAgICAgICAgICAgICAgICAgICAgICAgICAgICAgICAgICAgICAgICAgICAgICAgICAgICAgICAgICAgICAgICAgICAgICAgICAgICAgICAgICAgICAgIAogICAgICAgICAgICAgICAgICAgICAgICAgICAgICAgICAgICAgICAgICAgICAgICAgICAgICAgICAgICAgICAgICAgICAgICAgICAgICAgICAgICAgICAgICAgICAgICAgICAgCiAgICAgICAgICAgICAgICAgICAgICAgICAgICAgICAgICAgICAgICAgICAgICAgICAgICAgICAgICAgICAgICAgICAgICAgICAgICAgICAgICAgICAgICAgICAgICAgICAgICAKICAgICAgICAgICAgICAgICAgICAgICAgICAgICAgICAgICAgICAgICAgICAgICAgICAgICAgICAgICAgICAgICAgICAgICAgICAgICAgICAgICAgICAgICAgICAgICAgICAgIAogICAgICAgICAgICAgICAgICAgICAgICAgICAgICAgICAgICAgICAgICAgICAgICAgICAgICAgICAgICAgICAgICAgICAgICAgICAgICAgICAgICAgICAgICAgICAgICAgICAgCiAgICAgICAgICAgICAgICAgICAgICAgICAgICAgICAgICAgICAgICAgICAgICAgICAgICAgICAgICAgICAgICAgICAgICAgICAgICAgICAgICAgICAgICAgICAgICAgICAgICAKICAgICAgICAgICAgICAgICAgICAgICAgICAgICAgICAgICAgICAgICAgICAgICAgICAgICAgICAgICAgICAgICAgICAgICAgICAgICAgICAgICAgICAgICAgICAgICAgICAgIAogICAgICAgICAgICAgICAgICAgICAgICAgICAgICAgICAgICAgICAgICAgICAgICAgICAgICAgICAgICAgICAgICAgICAgICAgICAgICAgICAgICAgICAgICAgICAgICAgICAgCiAgICAgICAgICAgICAgICAgICAgICAgICAgICAgICAgICAgICAgICAgICAgICAgICAgICAgICAgICAgICAgICAgICAgICAgICAgICAgICAgICAgICAgICAgICAgICAgICAgICAKICAgICAgICAgICAgICAgICAgICAgICAgICAgICAgICAgICAgICAgICAgICAgICAgICAgICAgICAgICAgICAgICAgICAgICAgICAgICAgICAgICAgICAgICAgICAgICAgICAgIAogICAgICAgICAgICAgICAgICAgICAgICAgICAgICAgICAgICAgICAgICAgICAgICAgICAgICAgICAgICAgICAgICAgICAgICAgICAgICAgICAgICAgICAgICAgICAgICAgICAgCiAgICAgICAgICAgICAgICAgICAgICAgICAgICAgICAgICAgICAgICAgICAgICAgICAgICAgICAgICAgICAgICAgICAgICAgICAgICAgICAgICAgICAgICAgICAgICAgICAgICAKICAgICAgICAgICAgICAgICAgICAgICAgICAgICAgICAgICAgICAgICAgICAgICAgICAgICAgICAgICAgICAgICAgICAgICAgICAgICAgICAgICAgICAgICAgICAgICAgICAgIAogICAgICAgICAgICAgICAgICAgICAgICAgICAgICAgICAgICAgICAgICAgICAgICAgICAgICAgICAgICAgICAgICAgICAgICAgICAgICAgICAgICAgICAgICAgICAgICAgICAgCiAgICAgICAgICAgICAgICAgICAgICAgICAgICAgICAgICAgICAgICAgICAgICAgICAgICAgICAgICAgICAgICAgICAgICAgICAgICAgICAgICAgICAgICAgICAgICAgICAgICAKICAgICAgICAgICAgICAgICAgICAgICAgICAgICAgICAgICAgICAgICAgICAgICAgICAgICAgICAgICAgICAgICAgICAgICAgICAgICAgICAgICAgICAgICAgICAgICAgICAgIAogICAgICAgICAgICAgICAgICAgICAgICAgICAgPD94cGFja2V0IGVuZD0ndyc/Pv/bAEMABwUFBgUEBwYFBggHBwgKEQsKCQkKFQ8QDBEYFRoZGBUYFxseJyEbHSUdFxgiLiIlKCkrLCsaIC8zLyoyJyorKv/bAEMBBwgICgkKFAsLFCocGBwqKioqKioqKioqKioqKioqKioqKioqKioqKioqKioqKioqKioqKioqKioqKioqKioqKv/AABEIAo8C3QMBIgACEQEDEQH/xAAfAAABBQEBAQEBAQAAAAAAAAAAAQIDBAUGBwgJCgv/xAC1EAACAQMDAgQDBQUEBAAAAX0BAgMABBEFEiExQQYTUWEHInEUMoGRoQgjQrHBFVLR8CQzYnKCCQoWFxgZGiUmJygpKjQ1Njc4OTpDREVGR0hJSlNUVVZXWFlaY2RlZmdoaWpzdHV2d3h5eoOEhYaHiImKkpOUlZaXmJmaoqOkpaanqKmqsrO0tba3uLm6wsPExcbHyMnK0tPU1dbX2Nna4eLj5OXm5+jp6vHy8/T19vf4+fr/xAAfAQADAQEBAQEBAQEBAAAAAAAAAQIDBAUGBwgJCgv/xAC1EQACAQIEBAMEBwUEBAABAncAAQIDEQQFITEGEkFRB2FxEyIygQgUQpGhscEJIzNS8BVictEKFiQ04SXxFxgZGiYnKCkqNTY3ODk6Q0RFRkdISUpTVFVWV1hZWmNkZWZnaGlqc3R1dnd4eXqCg4SFhoeIiYqSk5SVlpeYmZqio6Slpqeoqaqys7S1tre4ubrCw8TFxsfIycrS09TV1tfY2dri4+Tl5ufo6ery8/T19vf4+fr/2gAMAwEAAhEDEQA/APpGiiigAoorhfFnxY0PwwxhgSbVLkEhktcFIz6M/b8AaTkluJtLc7qivA7r49+IrmQnRtFsREF3ZmWSQ/Thl5q1p/x+1GDa2u6FCYzgFrdmjI/Bt2fzFJSTVyedHuVFc54Z8d6H4qAj065Md3s3m0uBslA9QO49xmujqr3LCiiigAooooAKKKKACiiigAooooAKKKKACiiigAooooAKKKKACiiigAooooAKKKKACiiigAooooAKKKKACiiigAooooAKKKKACiiigAooooAKKKKACiiigAooooAKKKKACiiigAooooAKKKKACiiigAooooAKKKKACiiigAooooAKKKKACiiigAooooAKKKKACiiigAooooAKKKKACiiigAooooAKKKKACiiqWs340vRLy+OP3ELOM9zjgfnik2krsDyf4u/Ea5hnm8N+HpWjZBtvrmP7wyPuKe3ufw9a8Yglu48SRuflOSK6428Ul0z3d2JbiQmRm4yxJyTinfYoNp8iKJgw+YEdR/SvAqYrnldo4pc0nchsbC21DSBdandiKJiQFVgo+tclrMtzoGoCCYrcWcv+rduQwrcj0G0tdNms3vpvMkn81mAysakdOTzVvU9CgufCI0yO6SZFkMyzyRLlOOx6gfjXtUa1OnFLm+Vj3o4eTpKyMm01SzSWC6tJJ7S6QhlnikwyMPSvov4deOYfF2lNDLMj6jaKBPtGPMHZwPfvjv8AUV88aLY6Vf2W1NreWSFIyPxz7+9dd4Ami8N+M7S5jk4lPkyqMH5GOD07d/wrjjWUK/JqeVK8anKfRlY994v8NaXePaan4h0qzuUxvhuL2ON1zyMqWBFbFeRaRoek658fvF8etaZZ6gkdpbsi3dusoQ4HIDA4Nemiz1i1u7e+tY7qyniubeVd0c0Lh0ceoI4IqWvDvD2rW/w08c+PLOyWSXQdOtkvUs0bPlSNt+QZ6Z3Y+gHpVjwd8cbrWvFthpuqHR5oNTYpGmnrcLLaNjIEplUK/p8nfmiwXPaaK8G1D9oaeHWJ5rSPSRplvcGI2My3H22dQcF1cL5S56gE9q6278d+LNQ+IV54b8J2GkTRrp8V3Dc37yII9wBy20ksDnAAA9c0WYXPTKK8t034mavqngLU72RtB0fWtJvjZXT6lM62bMvUrtJYkjIC5JyO9WfhZ8Tbnxvf6np2o/2fNPZKkiXWmpMkMqNxjbKA4IPr1oswud3qmt6VokUcmtanZ6dHIdqNd3CRBj6AsRmk0vXtI1xZG0XVbLUREQJDaXCS7M9M7ScV538ZreG71bwRb3UMc8MushZI5FDK4IGQQeCKyviLoOn+C/HPg7W/CFlDpl5c362c0FmgijniYjOUXA6E8+4znAwWC57RRWJ4t1W60jRfPssCVpQm8rnYCCc4/DH41U8F63e6xb3Q1BhI0LLtkChc5zxxxxj9ajmV7HG8bSWJWF15mr+R01FFFUdoUUUUAFFFFABRRRQAUUUUAFFFFABRRRQAUUUUAFFFFABRRRQAUUUUAFFFFABRRRQAUUUUAFFFFABRRRQAUUUUAFFFFABRRRQAUUUUAFFFFABRRRQAUUUUAFFFFABRRRQAUUUUAFFFFABRRRQAUUUUAFFFFABRRRQAUUUUAFFFFABRRRQAUUUUAFFFFABXLfEvP/Cu9TAzyIgcDPHmpmupqvf2q3unz2zYxIhUZ9e361MleLQ1a+p8t/YHjQN5crBB8rbTkVVuy0bCUyNbBR1YEbjmvap4oNOhnublQiwIWcsBxivmPxP4luPEfiC6u5HbYz/ulzwq9h+VctDBwqN3NZUqUVsdtpOr7rK6ZUjuRFJjd9avWTtqVvJCw8rzVKKCOmRjNcv8OtSsrbU5rHVnVILkAo8hwoYep7Zr1trfRdMtjdzz28ESrnzGcYP09fwqa1H2VTlitD1MPUgqPKeP6bo+o+H9Vm0zUGVZGCmMo/BGMg/ka6a00PxDZXUdxBbzSqRgEEY59/xrjPF2v/2z4kub23LCAkLFng7VGAf0r0f4Ca3c6n4kbR52eWLy/NGTnYFIz9Bzj6kV31MMpR9o9zzv3fNqrn0vXnepfDfXm8can4k8N+M/7Fl1FEjli/stLj5VAAGXb2zwBXolULLWLa/1G9sod6zWThZAwHORkEc9P8KaTabXQ5W11OY0f4W6Np/hrVdMvp7nUrjWl/4mOoTsPOmbHUH+EA5IHOPejwp4K8ReHbq2hvvGs+qaPaIUgsHsI4zjGFDSglmAB6Hrx6V09hrFtqV7e21tvLWTiORyPlYn+6e+MEfUVfokpRdmCs9UedWfwy1jQtSuB4V8aXOlaNdXP2iXTTYxzEFj84SVjlAe2Bx15rnbzSdU1X9oLXI9C16bQ7yPSoStwkCTqRlQQyNweOhyCDz7V6+l7G+pS2IVvNiiWUnA24YkD8flNWKHdbhozzCb4LW//CH2ml2utzRanBqH9pPqUtssomn6FmiJwRjoM8d81ueFfAVz4e8X6n4gv/EE2r3OpW8cUvnW6RkMmMkbMADjhQox6nrXZ1DFdQzXM0Eb5lgKiRcH5cjI/Slqw0OV8f8Age58ZrpL2Gs/2Rc6XdfaYpvsony2MD5SwHHvmqejfDa5XxRB4h8ZeI7jxJqNmpWzD2yW8NvnqwjXI3e/HuDgEd5RRcYyWKOeJo5o1kjbhkdcg/hSQW0FrF5drDHCmc7Y0CjP0FSUUhcqvzW1CiiigYUUUUAFFFFABRRRQAUUUUAFFFFABRRRQAUUUUAFFFFABRRRQAUUUUAFFFFABRRRQAUUUUAFFFFABRRRQAUUUUAFFFFABRRRQAUUUUAFFFFABRRRQAUUUUAFFFFABRRRQAUUUUAFFFFABRRRQAUUUUAFFFFABRRRQAUUUUAFFFFABRRRQAUUUUAFFFFABRRRQBxPxH8Nyar4ZvxZ+YDNHiUR9cdyP618lan4Yu9H1n7I2JzLzEY+S34V911xHib4VaB4jvZL9BJp9+8TRefbnjDfeO08ZIyMjHWim3Cd1sbKceS0lr0PkO5sprUIZk2h87SDkHBwataNo2o6/dNbWXzlF3sXfCqucZJP1r2u9/Z41WTSbTT7bWrJkt5JJGmkjdWcsRgbRnHA9etavgz4FX/hrVBeXOtWsgYlZIhbtIrJnIxkjB4Bzzj3rsdWNtNyLo8O1TwTrFndW1rHALuS8cpb/ZT5nmn0GK+kvg38MR8PvD7zajtk1q+ANyynIhUdI1PfHUnufYCu00zw5pekmN7SzhWaNSqy+WAwB6gemcdq1KwnUclYTdwrkZ7TULS8vtS0+2ke5+2PGEKkeZG6IA3uFcA59A1ddRSp1HB7GUo8xx0ukXFpFf28cM81uPsvnbFO64QZMuP7xOTkDrkjvRLZ5hvm0awnt9NbyPMtkt2gMuH/AHu2MgHlMA8fNjAzXY0Vt9Yl1/rb/Ij2SOIlsWZtXbw/p81lBJawhALV4hJh2LhUO0528Y4J/HNKulmTSbpLaPMU09tutrfS5rNVxINzBWJzx1I/u121FP6zL8vwt/kHsUcR4issXDw6fpMcTWwj+zNFp0kjEBt2Y5FIWLBzxyT+Iqxf6X5eo62bTT2W4uBE6yQwFTJHx5qiQDAY4PGQTXX0UliZJJf10/yD2SucZdWEUtnqf9habPa2klkY3hW0aDzJd3BVCASQM5YDuOTjjrbS0t7K2WG0gjgjHOyNQoyep+tTUVnOq5qxcYKLuFFFFYlhRRRQAUUUUAFFFFABRRRQAUUUUAFFFFABRRRQAUUUUAFFFFABRRRQAUUUUAFFFFABRRRQAUUUUAFFFFABRRRQAUUUUAFFFFABRRRQAUUUUAFFFFABRRRQAUUUUAFFFFABRRRQAUUUUAFFFFABRRRQAUUUUAFFFFABRRRQAUUUUAFFFFABRRRQAUUUUAFFFFABRRRQAUUUUAFFFFABRRRQAUUUUAFFFFABRRRQAUUUUAFFFFABRRRQAUUUUAFFFFABRRRQAUUUUAFFFFABRRRQAUUUUAFFFFABRRRQAUUUUAFFFFABRRRQAUUUUAFFFFABRRRQAUUUUAFFFFABRRRQAUUUUAFFFFABRRRQAUUUUAFFFFABRRRQAUUUUAFFFFABRRRQAUUUUAFFFFABRRRQAUUUUAFFFFABRRRQAUUUUAFFFFABRRRQAUUUUAFFFFABRRRQAUUUUAFFFFABRRRQAUUUUAFFFFABRRRQAUUUUAFFFFABRRRQAUUUUAFFFFABRRRQAUUUUAFFFFABRRRQAUUUUAFFFFABRRRQAUUUUAFFFFABRRRQAUUUUAFFFFABRRRQAUUUUAFFFFABRRRQAUUUUAFFFFABRRRQAUUUUAFFFFABRRRQAUUUUAFFFFABRRRQAUUUUAFFFFABRRRQAUUUUAFFFFABRRRQAUUUUAFFFFABRRRQAUUUUAFFFFABRRRQAUUUUAFFFFABRRRQAUUUUAFFFFABRRRQAUUUUAFFFFABRRRQAUUUUAFFFFABRRRQAUUUUAFFFFABRRRQAUUUUAFFFFABRRRQAUUUUAFFFFABRRRQAUUUUAFFFFABRRRQAUUUUAFFFFABRRRQAUUUUAFFFFABRRRQAUUUUAFFFFABRRRQAUUUUAFFFFABRRRQAUUUUAFFFFABRRRQAUUUUAFFFFABQSACScAdSaK5f4kTSQfD3VHhcoxWNSR6NIoI/EEihmtGn7WpGn3aX3mo3ijQEYq2uaarA4IN3Hx+tJ/wlXh7/oO6Z/4GR/41800Vnzs+p/sCl/Oz6W/4Srw9/wBB3TP/AAMj/wAaP+Eq8Pf9B3TP/AyP/GvmmijnYf2BS/nZ9Lf8JV4e/wCg7pn/AIGR/wCNH/CVeHv+g7pn/gZH/jXzTRRzsP7Apfzs+lv+Eq8Pf9B3TP8AwMj/AMaP+Eq8Pf8AQd0z/wADI/8AGvmmijnYf2BS/nZ9Lf8ACVeHv+g7pn/gZH/jR/wlXh7/AKDumf8AgZH/AI1800Uc7D+wKX87Ppb/AISrw9/0HdM/8DI/8aP+Eq8Pf9B3TP8AwMj/AMa+aaKOdh/YFL+dn0t/wlXh7/oO6Z/4GR/40f8ACVeHv+g7pn/gZH/jXzTRRzsP7Apfzs+lv+Eq8Pf9B3TP/AyP/Gj/AISrw9/0HdM/8DI/8a+aaKOdh/YFL+dn0t/wlXh7/oO6Z/4GR/40f8JV4e/6Dumf+Bkf+NfNNFHOw/sCl/Oz6W/4Srw9/wBB3TP/AAMj/wAaP+Eq8Pf9B3TP/AyP/GvmmijnYf2BS/nZ9Lf8JV4e/wCg7pn/AIGR/wCNH/CVeHv+g7pn/gZH/jXzTRRzsP7Apfzs+lv+Eq8Pf9B3TP8AwMj/AMaP+Eq8Pf8AQd0z/wADI/8AGvmmijnYf2BS/nZ9Lf8ACVeHv+g7pn/gZH/jR/wlXh7/AKDumf8AgZH/AI1800Uc7D+wKX87Ppb/AISrw9/0HdM/8DI/8aP+Eq8Pf9B3TP8AwMj/AMa+aaKOdh/YFL+dn0t/wlXh7/oO6Z/4GR/40f8ACVeHv+g7pn/gZH/jXzTRRzsP7Apfzs+lv+Eq8Pf9B3TP/AyP/Gj/AISrw9/0HdM/8DI/8a+aaKOdh/YFL+dn0t/wlXh7/oO6Z/4GR/40f8JV4e/6Dumf+Bkf+NfNNFHOw/sCl/Oz6W/4Srw9/wBB3TP/AAMj/wAaP+Eq8Pf9B3TP/AyP/GvmmijnYf2BS/nZ9Lf8JV4e/wCg7pn/AIGR/wCNH/CVeHv+g7pn/gZH/jXzTRRzsP7Apfzs+lv+Eq8Pf9B3TP8AwMj/AMaP+Eq8Pf8AQd0z/wADI/8AGvmmijnYf2BS/nZ9Lf8ACVeHv+g7pn/gZH/jR/wlXh7/AKDumf8AgZH/AI1800Uc7D+wKX87Ppb/AISrw9/0HdM/8DI/8aP+Eq8Pf9B3TP8AwMj/AMa+aaKOdh/YFL+dn0t/wlXh7/oO6Z/4GR/40f8ACVeHv+g7pn/gZH/jXzTRRzsP7Apfzs+lv+Eq8Pf9B3TP/AyP/Gj/AISrw9/0HdM/8DI/8a+aaKOdh/YFL+dn0t/wlXh7/oO6Z/4GR/40f8JV4e/6Dumf+Bkf+NfNNFHOw/sCl/Oz6W/4Srw9/wBB3TP/AAMj/wAaP+Eq8Pf9B3TP/AyP/GvmmijnYf2BS/nZ9Lf8JV4e/wCg7pn/AIGR/wCNH/CVeHv+g7pn/gZH/jXzTRRzsP7Apfzs+lv+Eq8Pf9B3TP8AwMj/AMaP+Eq8Pf8AQd0z/wADI/8AGvmmijnYf2BS/nZ9Lf8ACVeHv+g7pn/gZH/jR/wlXh7/AKDumf8AgZH/AI1800Uc7D+wKX87Ppb/AISrw9/0HdM/8DI/8aP+Eq8Pf9B3TP8AwMj/AMa+aaKOdh/YFL+dn0t/wlXh7/oO6Z/4GR/40f8ACVeHv+g7pn/gZH/jXzTRRzsP7Apfzs+lv+Eq8Pf9B3TP/AyP/Gj/AISrw9/0HdM/8DI/8a+aaKOdh/YFL+dn0t/wlXh7/oO6Z/4GR/40f8JV4e/6Dumf+Bkf+NfNNFHOw/sCl/Oz6W/4Srw9/wBB3TP/AAMj/wAaP+Eq8Pf9B3TP/AyP/GvmmijnYf2BS/nZ9Lf8JV4e/wCg7pn/AIGR/wCNH/CVeHv+g7pn/gZH/jXzTRRzsP7Apfzs+lv+Eq8Pf9B3TP8AwMj/AMaP+Eq8Pf8AQd0z/wADI/8AGvmmijnYf2BS/nZ9Lf8ACVeHv+g7pn/gZH/jR/wlXh7/AKDumf8AgZH/AI1800Uc7D+wKX87Ppb/AISrw9/0HdM/8DI/8aP+Eq8Pf9B3TP8AwMj/AMa+aaKOdh/YFL+dn0t/wlXh7/oO6Z/4GR/40f8ACVeHv+g7pn/gZH/jXzTRRzsP7Apfzs+lv+Eq8Pf9B3TP/AyP/Gj/AISrw9/0HdM/8DI/8a+aaKOdh/YFL+dn0t/wlXh7/oO6Z/4GR/40f8JV4e/6Dumf+Bkf+NfNNFHOw/sCl/Oz6W/4Srw9/wBB3TP/AAMj/wAaP+Eq8Pf9B3TP/AyP/GvmmijnYf2BS/nZ9Lf8JV4e/wCg7pn/AIGR/wCNH/CVeHv+g7pn/gZH/jXzTRRzsP7Apfzs+l18UaA7BV1zTWYnAAu4+f1rUBBAIOQehFfKlfQfw3mkn+HulvM5dgsign0WRgB+AAFOMrnmZjlkcHTVSMr3djqKKKKs8QK5T4m/8k61P/tl/wCjUrq65T4m/wDJOtT/AO2X/o1KT2OrB/7zT/xL8z5/ooorA/Rwoq1BaLJEHdjz0xUv2GP+8/5igh1Ip2KFFX/sMf8Aef8AMUfYY/7z/mKBe0iUKKv/AGGP+8/5iqjxbbjyge4AP1oKU09iOir/ANhj/vN+Yo+wx/3n/MUE+0iUKKv/AGGP+8/5ij7DH/ef8xQHtIlCir/2GP8AvP8AmKPsMf8Aef8AMUB7SJQoq/8AYY/7z/mKPsMf95/zFAe0iUKKv/YY/wC8/wCYo+wx/wB5/wAxQHtIlCir/wBhj/vP+Ypktmixsys2QM80D9pEp0UUUFhRRRQAUUUUAFFFFABRRRQAUUUUAFFFFABRRRQAUUUUAFFFFABRRRQAUUUUAFFFFABRRRQAUUUUAFFFFABRRRQAUUUUAFFFFABRRRQAUUUUAFFFFABRRRQAUUUUAFFFFABRRRQAUUUUAFFbWk+ENe1uDztM02WWLtIxVFP0LEA/hTNZ8K614fjjk1exa3SRtqPvVwT1xlSadmY+3pc/JzK/a6uZFFXdS0e/0doV1K2a3aeMSxqxBJU98A8fQ81SpGsZKSvF3QUUUUDCiiigAooooAKKKKACvoD4Zf8AJOtM/wC2v/o16+f6+gPhl/yTrTP+2v8A6NerhueDn3+7R/xL8mdXRRRWp8YFcp8Tf+Sdan/2y/8ARqV1dcp8Tf8AknWp/wDbL/0alJ7HVg/95p/4l+Z8/wBFFFYH6OaVp/x6p+P866vQdD0290Nr7UBeu/2xbZUtXUcMAc4KnNcpaf8AHqn4/wA66DTvE11pfh+bTrEyQSyziX7RHLtIGMbcY/XNNW6nm4mNSStT3uaN34DuodRaCO+tESSZorUXEhV58egAP05xzWhpfhjT30WB76zzdeRdmX94w+eNsL0OOKybHxckVvZDUdPN7c2Ds9vObgqQWOfmGDu556ipbfxu8VosU1kJJNlwrOJdoYzNuJxg4x6Zp6HnzjjJR5e3ou/n6fM5WqEv/IQH+8v9Kv1Ql/5CA/3l/pUntU92aUKCSdEPRmAOPrW5qHhph4xl0TSiz7Su1pmHA2BiWIHQZPasKJ/LmR8Z2sDj1rqj4ztU186zbaVJHePgSE3mVZdu0jGwY4A5zTVjhrOspXpq+j+/S36mdN4YlgaBpNR08W1wjNHdeY3lnacFfu5z7YqxP4KvbWO6luryxhhtlRmlZ3KsHHykYUk/lmrcXjhIboyizu5VMTIDPqLSSRknqjMvy+nAqHWfGn9r2F3bGxMX2lYRvM+8r5Z/3ec09DnUsW5JW0+Xf/IhuvBd9a2s0zXdlI0EAuHhSRt/lnvgqP50zQ9J0+60W/1DUhduLV40WO1dVLbzjupzVifxl50t4/2HH2rTxZY877uBjd93n6frVHSfElzo2k3trZb45rpkK3CSbTHtPPGOc9OtGhdsTKm1Le68u1zQ1jwTPaXTf2dMs8HnxwhXJ8xC4BG4AY79R+VX7TwTZQf2a17ew3Ekl60E8SSNscA4KqQoOR35FV/CusNp1tqmpajeRS+YgKRyzBpZJgflO3Oe/Wqen+LVtLGzhurFriWzujcxyifZkk5II2nPenoYS+tNOCd7dVpfT9GSX3gq8N//AMS2S1nhmu3gRYpSfJIycOSOwHqelQJ4Mvpp7RLW7sriO6keJZ4pGKK6qWIOVz0B7VasvHMljGyxWKktevdNul4KsCCmMeh6/pTbfxjBYS2S6fpXk2trM85ia4LM7spX723gAHpiloXfGJWt+Xn5+n6mVq2gXGk2tvcvPbXMFwWVZLdywDKcEHIFZE3+ok/3T/Ktq+137Z4ftdM+z7Ps88kvm787txJxjHGM+tYs3+ok/wB0/wAqTO6j7S37ze//AAxlUUUUj0QooooAKKKKACiiigAooooAKKKKACiiigAooooAKKKKACiiigAooooAKKKKACiiigAooooAKKKKACiiigAooooAKKKKACiiigAooooAKKKKACiiigAooooAKKKKACiiigAooooAK6PwPokGs+IP9P5srSJri4H95V/h/E1zldf8OLqFdcutOuHEa6lavbq57Men9aa3OXFylGhJx3sQ+L9V17U1gu72Ga00m4GbKFeItg6cDjOPX+VXPCVilnpLeI/EDyNplk5NpasxInm7YXpwe/8AhUGmazL4dlufDfiu0a50wuVlgP3oW/vxn9f1qPXdVm8Ya1aaXoVu0djBiGztgMYHdzj/ACBT8zj5ZOHsUkob8y25f831+8p+MItV/tz7XrbI817EtxGY2yoQ9FH06Vnafb6fN5h1O+ktFXGwRW/ms5J543KAB9foDW/8RLqF9fgsLZxIum2qWzOO7jrVHw02lQLc3V/c20d7Ft+yR3ccjRZzy7bFbOOwPHrS6nRSnL6rGVunRfd3Lp8ErbT34v8AUSkFpNFCr29v5rv5mCpKll2jBGcnrwM1mPoCweL/AOw7u8WMfaBAbhE3AZ6HGR6jPPFbdpq8UcF6v/CRx2+qz3STPqccU2JY8cx5CBhg842gHgVgeIb21u/El1daUPLgZwYyqeXkgAFgB0yQT+NPQmjKvKbjN9O3XTy9f8kWrPwpc3N7qttJJ5T6d8mNufNlL7EQZIxuPerA8LWEmrHR4da36oBt2/Zv3BlHWMSbs56jOzGa1tV8Z2a21hdaWxe+nuYrvUY9pUb41VQmSMEEgniqME+hWnig6+mqiSFZDdJZeRIJy5OfLJ27BgnruPAo0M1UxLTlK600Vuq76bX28ioPD2ljQZtTl1O9QQTi3kiNgm4SYz/z26e/6U3UPDllYS2lqdRuHvbuGKWNPsiiIF+gL+ZkfXbRJrNvceENQt5ZAt5c6kLkRBT93acnOMdTWlr2qw6rb2kVt4nEFktpDFNZkXH3lHzHYE2H8+cUaFc2IU7Nu1309Oy9f8zG1rRrDSJbm0GpTS31s4R4mtNiMe+19xJx7gZrFrqtV1Czk8Ny2l5q0WtXiSqLKdIZBJDGCdwd3UEgg8LlsGuVpM6sPKbh797/ANeSCvoD4Zf8k60z/tr/AOjXr5/r6A+GX/JOtM/7a/8Ao16qG55Off7tH/EvyZ1dFFFanxgVynxN/wCSdan/ANsv/RqV1dcp8Tf+Sdan/wBsv/RqUnsdWD/3mn/iX5nz/RRRWB+jk0V1JEm1cEe4p/26X+6n5Gq1FBPKmWft0v8AdT8jR9ul/up+RqtRQHJHsWft0v8AdT8jUDSM0m8n5s5zTaKBqKWxZ+3S+i/lR9ul/up+RqtRQLkj2LP26X+6n5Gj7dL/AHU/I1WooDkj2LP26X+6n5Gj7dL/AHU/I1WooDkj2LP26X+6n5Gj7dL/AHU/I1WooDkj2LP26X+6n5Gj7dL/AHU/I1WooDkj2LP26X+6n5GmvdyOhU7QD1wKgooDlj2CiiigoKKKKACiiigAooooAKKKKACiiigAooooAKKKKACiiigAooooAKKKKACiiigAooooAKKKKACiiigAooooAKKKKACiiigAooooAKKKKACiiigAooooAKKKKACiiigAooooAKKKKAClR2jdXRirKchgcEH1pKKAOvHjqLULNIPFWh2+svGNqXHmGGXHoWUc/pTX8cR2Nm8HhbRbfRjIu2ScSGaYj0DsOK5KindnJ9TodtO13b7r2/AVmZ2LOSzMckk5JNJRRSOsKKKKACiiigAooooAKKKKACvoD4Zf8k60z/tr/wCjXr5/r6A+GX/JOtM/7a/+jXq4bng59/u0f8S/JnV0UUVqfGBXKfE3/knWp/8AbL/0aldXXKfE3/knWp/9sv8A0alJ7HVg/wDeaf8AiX5nz/RRRWB+jhRRRQAUUUUAFFFFABRRRQAUUUUAFFFFABRRRQAUUUUAFFFFABRRRQAUUUUAFFFFABRRRQAUUUUAFFFFABRRRQAUUUUAFFFFABRRRQAUUUUAFFFFABRRRQAUUUUAFFFFABRRRQAUUUUAFFFFABRRRQAUUUUAFFFFABRRRQAUUUUAFFFFABRRRQAUUUUAFFFFABRRRQAUUUUAFFFFABRRRQAUUUUAFFFFABX0B8Mv+SdaZ/21/wDRr18/19AfDL/knWmf9tf/AEa9XDc8HPv92j/iX5M6uiiitT4wK5T4m/8AJOtT/wC2X/o1K6uuU+Jv/JOtT/7Zf+jUpPY6sH/vNP8AxL8z5/ooorA/RwooooAKKKKACiiigAooooAKKKKACiiigAooooAKKKKACiiigAooooAKKKKACiiigAooooAKKKKACiiigAooooAKKKKACiiigAooooAKKKKACiiigAooooAKKKKACiiigAooooAKKKKACiiigAooooAKKKKACiiigAooooAKKKKACiiigAooooAKKKKACiiigAooooAKKKKACiiigAooooAKKKKACiiigAr6A+GX/JOtM/7a/wDo16+f6+gPhl/yTrTP+2v/AKNerhueDn3+7R/xL8mdXRRRWp8YFcp8Tf8AknWp/wDbL/0aldXXKfE3/knWp/8AbL/0alJ7HVg/95p/4l+Z8/0UUVgfo4UUUUAFFFFABRRRQAUUUUAFFFFABRRRQAUUUUAFFFFABRRRQAVo2/h7Wru3We00i/nhcZWSK2dlb6EDms6vZbWK6m+D2nJY6tDpEvy4uZrkwKBuPG4evpTSucOMxMsOo26u2p5BdWdzYXBgvreW2mAyY5kKMPwNQ16DpnhGDxJHrQv9Yl1DWLFQY54LoTRSgplfmZcnnI61CvgrSLXwnpOo6rdXsd3qUqqEhAYBSc5CBSxO336mizEsdSXuy30Wi7q/3HCVqXXhvVrLRYNXubTZY3GPLl8xDuz04ByOnpXcS/DbTLvQr260sazaXFshZBqUSosuBngAAgfX8q1Luxi1P4aeFrG4Z1iuJoY2KEBgCD0zT5TnnmULx9n3s7+lzx+ivRv+Fe6V/wALH/4R/wC0Xn2T7H5+/enmbvTO3GPwqnp/hDRpdS1O2uU1u6NrdmCKOwgDnaP4ncrtH6UuVnR/aFFq6vsnt0ZwtFepReDNI8M+PtIjnku7iC8Ba2R1QlZBjIkyORg9hnNT+KPDNh4o+IosLWS6guljWS7kZVMSxADATvu5HXinysy/tOk5pJe61e55NRXpGrfDjTl0PUbvR21aKbTySVv4QqzgDJKfKCR71zvw+j06XxlZpqaTOS/7hYwpUv8A7ee30pW1N442nOlKpDXl6GJpelXms6gllpsPnXDglU3Bc4GTySBTNQsLnS7+Wyv4/KuIW2yJuDYPXqMivYrgaavxktBbi6F+Iz5wbb5O3yzjbjnP1qnqfg7QfFPibXFhvr5NVgIeQbVEKkjgAYyenPIp8pxRzRc6c1aLin3td2+75HkNFeh6N8OrM+HINU1w6nK9y4EdvpsQdkUn7zcHjv2/GsDxv4VHhTWUt4Zmmtpo/MiZxhgOhB96Vna53U8bRqVfZReuv4bnN0V6BoXw+s5vC8Ws60dTl+0EeVb6bEHcKTjceD9asP8ADzRbHxhHpGp3t4IL6LfZSqyq24dUfKnJ9CMU+VmbzGgpON3pfp23+483orvta8C6X4a0TzNXurhtRuLhorWGF1Cld2AzZUnpyeR1ArS1PwF4Q0jVdPsb7UNUEuoELEqGM4OcZJ28DJA6UcrF/aNDRq7ve1lvbc8vor0zT/hhYSeLNS0q+u7kw28CTQSRMqsQxI+bKn07Uyx+Heg6tqjJpOrXNxZ2kZ+2OqgsZM/dT5fYnvRysTzPDq+r0Se3fY82or0q5+GVlc2lld6VPqFpFLcCGaPU4gsignG4DA/D1zUfiLwHoekf6NE+rx3LtGkVzPGrWzlmAxuVeMZ7kUcrHHMsPKSim7vyPOa1NV8N6tolrb3GqWbQRXIzExdW3cZ7E4/Gu08S+AdD8O6ZKztrMs627Olwsatb7wOFbC5XJ9fzqfXPA0l3/wAI9aW+q6hcG8HzfbJ/MSBQgJKjAx9PpRysj+0aUnGUXaLvuuyvoeYUV6XH4D8K3uuXWgWOp6kNUt49xeRUMRPGRgAE4yO/41X07wDpCeFLzVNeur2GWynkjlFuVIIVscArnJ+tHKy/7RoW69OnfY88qxZafe6jKY9Ps57uRRkpBEzkD1wBXVeMfCGmaNoWm6xol1czWt7jC3O3cMruB4A7A8VJ8Nta0zRLvUpdVvfsfmwCOJ9jMck9QFB6cUra2ZpLFc2Hdair+Xzscre6NqemxrJqOnXdojHarTwMgJ9ASKZaade6h5n2CzuLryxufyYmfYPU4HFdf4y8P6ra6Da6m3iOfXdMkYFXkd/kJHB2lj7jPWtCP/ikPhKzn5NQ1s4HqqEfp8v6tTsZfXL0ouFnKTt1+e+uiOGg0HWLq3FxbaVfTQkZEkds7KR9QMVQIKsQwIIOCD2r1TwHfeJ9Y1WDU7u7a20SyiMbqTsiYBcYA7nPJbt+lcL4wvrTUfF+o3enYNvJLlCBgNgAE/iQT+NJrS5dHEznXlSklor6dPJ+Zi0V33hfwbomtWFm1wuuST3GfMltoAsERz3Zl5/DNW9L+GdjN4s1XSdRu7nyrSJJYZISqllbP3sg+nanysU8woQclK/u+XnY82qS2t5bu6itrdd8sziNFyBlicAZPvXeT+B9CvvCN7qvh29vpZ7JyjrcBAHKkZwAMjOcjmtCHwZ4e8M6poker6henVbiVHjESr5QYMCAQRnGcDrRysUsxo2dr310trornnusaLqGg3ws9Wt/s85QPs3q3ynODlSR2ptlo2p6lG0mnadd3aKdrNBAzgH0JArrvi9/yOyf9ekf82q34O1bS4vA8+jv4gbRtQvLrcsyI5KAbe4wBkDHUUW1sL63U+qwrKN27dHp3el3ocFe6fe6dKI9Qs57SRhkJPEyEj1wRSrp189g18lncNaKcNcCJjGD6FsYrovGnh3WdM1y1ttR1CXVWuVAtp5HZi3ONvzE45Pr3ra+IM0egeG9K8J2jDMaCa6I/ibtn6nJ/AUrFrF83s1Czcvust2cHb6dfXdvLPa2dxPDCMyyRxMyp9SBgfjU50DWRa/aTpN8INu7zfsz7ceucYxXd6tKfBfw1sNNiATUNScTzg9QvBIP/jq/nWv4I1HxBcSXfiPxPfNBpDQnZHKdqHngqvYAZGe+e9Oxz1MfUVN1Ypct2lrq/T11PHavy6DrENqbmbSr6O3A3GV7ZwgHrnGKjvrmOTWrm6tFCxNcNJEpHRdxIFeraDrt9p/hm88S+LtRMkF8uy0sh0PXAC9Bn+QyTSSudGKxFSjGMoxvfp1v2R49RSscsSAFBPQdqSkd4UUUUAFFFFABRRRQAUUUUAFFFFABRRRQAUUUUAFFFFABRRRQAV9AfDL/AJJ1pn/bX/0a9fP9fQHwy/5J1pn/AG1/9GvVw3PBz7/do/4l+TOrooorU+MCuU+Jv/JOtT/7Zf8Ao1K6uuU+Jv8AyTrU/wDtl/6NSk9jqwf+80/8S/M+f6KKKwP0cKKKKACiiigAooooAKKKKACiiigAooooAKKKKACiiigAooooAK9Ag8YeG7rwHaeHtZh1UeTgu9osfJBJGCzdOfSvP6KadjCth4V0ubo7q3c7DQPEuj+F/F4vNJTUJNLeExzJcbDKSe4AIU8gfrWlf/Eaym8Y6VqFrZTf2bp8ZRYZFUOCwwSACRkDGOfWvPaKLsxlgaM588tXa39eZ6ufidoKrqXlx6zKb1Tjz2RljJBG1V3fKv51iy+PrJPCeiafa29wbzTZYpHLqojfbnIByTz9K4KinzMzjluHjsn338rHqo+I3hX/AISZddNhqn2wweQ/CbVX2G7k/lVa2+I+jnTtQsrmHVLdbi6eeOaydUkILZwTu4PbjPFeZ0UczJ/svD269OvbY9A8Q/EGw1HXdB1HT7W5A0wsZEnwN2dvQgnPQ8mrNx8RNGh8XR6/plrqBllj8m7hn2KhTsVwT8wI78V5tRRzMv8As7D8qjZ2Sa36PU77XfGej3ljff2ddeJDcXQISO5vCIYsnnChzkdeDkVyGhan/Y2vWeo+X5gt5Q5TOMjvVCilc3p4anTg6a2Z6PceOfDb+NrXxFBb6oJVUpOjLHtI24G0buv1NM0f4gaVp/i/XNVmt7xoNQCiJURSy4/vDdj8ia87op8zMP7OocvK77W36Xuei6f8RLCTw2mlav8A2ratA37m50uUI5XJwDkjscY5Fcp4p1i31jVEksZL97aOMIn2+cyyZ7nJJxn0FYtFK7NaWDpUpucP6uegaL8QLKPwnFousf2pbm34iudLlCPt7A5I/qKSz8YeHYfFKapdrrV3FawhbVLqQTMJOdzks/Hbgcd64CijmZm8vo3k1dc1+vfc9C1Xx1pninQ4rXVrW4TU4rgvbyxIpRRu4BO4HpweO2a6vxxqPh7Sta0e7160vJ7iBDJbm22lTgjhgSOhwRivE0co6upwynIPvWlrPiLVPEEkL6vdfaGgUrGfLVNoP+6BT5jnllsfaQ5HaKvfXv2O20z4nWieKdU1TUrW4EVzCkMEcAViqqT97JHrnisbwZ42j8M398LqCaWyvTlhEQJEPOCOR6+tcfRS5mdP1DD8so20aS+7Y7y+8V+HrhYITL4kvbczh51vb0n5BkgKA+Mg4OTzx1q/cfETRE8PSaTBDq2oRTtiRtRkUssZPIBByeOn8680op8zJeX0Xa99Ndz01PiLomm6LeWelx6xdmdSsceoyKyRAjGAck49uag1L4l2pk0OfSra483TsiZZ1VVkUqFIBBNec0UczEstw6d2r/PurHpcfjzwrZa5da/YaZqR1S4j2lJWQRA8ZPBJ5wO1Zq+O7WXwHqOk3kVw2oXsskpkVV8sFm3dS2f0rhqKOZjWX0Fbd2t17bfI67xB4ssdW8D6Po1vFcLcWO3zGkVQhwhXggk9T6CsjQZfD6C5TxJb3siuq+TJZlQ0Z5z94genXNZFFK50Rw8IU3Ti2k3ffXe56HdeJdI8QR6T4Y01G07RopVaea+lVCVXJxnOBn1z1rJ+I2vQ6z4jENi6PY2MYhhMZBVvUgjt0H4VyVFFzKngqdKopx6X+97v1PStU8aeEtW0K10mRNdtLS3UDyrRYVD4H8WWOa8/1L7B/aEv9kfafseR5X2rb5nQZzt4656VVoobuXQwsMP8DZ6dY/EnRk0fSYLq31SGbTwoMdm6rFLgY+b5gSO+PWnW/wAS9Hh8W6jqjW18YLq2jhRRGm4Fc5yN2Mc+teX0U+ZnM8sw7vo9fPzudnovjKy0zwdrOlvHc/ar2Z5IXRVKrkKBkk56j0NbFz4+8M6vPpmoazpl+dRsMECEp5ZPHqcnkZHArzSildmksBRlJy1v691Y6Tx34itPE/iJb+wjmjiECx4nUBsgk9ifWjRLnwfHYQjX7LUnu45CzNasuyRewIZv5Yrm6KL6myw8VSVKLaS7M9SsPFGm+KfHEOp6lJBp+naTCTbx3Myq0jnvgnk8dBnoK5vT7u28U/Ej7frN1DbWjTGZjcShFCL91ck/Tj61yNFO5jHAwp35HbSy8l/wXqdV4t8Q2+t+O/tc2ZtOt5VjVU53RKfmx255/St/xH4w8I+Jlgjvf+EggggXCQWywrH9cEnmvNqKV2U8FStC11yqysSXPkfapfsnmfZ958rzcb9ueN2OM464rob/AFvSLnwTZ6bHFqJ1CBgS8twzQDrnahYgcHso+tc1RSOidJT5b9NQooooNQooooAKKKKACiiigAooooAKKKKACiiigAooooAKKKKACiiigAr6A+GX/JOtM/7a/wDo16+f6+gPhl/yTrTP+2v/AKNerhueDn3+7R/xL8mdXRRRWp8YFcp8Tf8AknWp/wDbL/0aldXXKfE3/knWp/8AbL/0alJ7HVg/95p/4l+Z8/0UUVgfo4UUUUAFFFFABRRRQAUUUUAFFFFABRRRQAUUUUAFFFFABRRRQAUUUUAFFFFABRRRQAUUUUAFFFFABRRRQAUUUUAFFFFABRRRQAUUUUAFFFFABRRRQAUUUUAFFFFABRRRQAUUUUAFFFFABRRRQAUUUUAFFFFABRRRQAUUUUAFFFFABRRRQAUUUUAFFFFABRRRQAUUUUAFFFFABRRRQAUUUUAFFFFABRRRQAV9AfDL/knWmf8AbX/0a9fP9fQHwy/5J1pn/bX/ANGvVw3PBz7/AHaP+Jfkzq6KKK1PjArlPib/AMk61P8A7Zf+jUrq65T4m/8AJOtT/wC2X/o1KT2OrB/7zT/xL8z5/ooorA/RwooooAKKKKACiiigAooooAKKKKACiiigAooooAKKKKACiiigAooooAKKKKACiiigAooooAKKKKACiiigAooooAKKKKACiiigAooooAKKKKACiiigAooooAKKKKACiiigAooooAKKKKACiiigAooooAKKKKACiiigAooooAKKKKACiiigAooooAKKKKACiiigAooooAKKKKACiiigAooooAKKKKACiiigAr6A+GX/ACTrTP8Atr/6Nevn+voD4Zf8k60z/tr/AOjXq4bng59/u0f8S/JnV0UUVqfGBXKfE3/knWp/9sv/AEaldXXKfE3/AJJ1qf8A2y/9GpSex1YP/eaf+JfmfP8ARRRWB+jhRRRQAUUUUAFFFFABRRRQAUUUUAFFFFABRRRQAUUUUAFFFFABRRRQAUUUUAFFFFABRRRQAUUUUAFFFFABRRRQAUUUUAFFFFABRRRQAUUUUAFFFFABRRRQAUUUUAFFFFABRRRQAUUUUAFFFFABRRRQAUUUUAFFFFABRRRQAUUUUAFFFFABRRRQAUUUUAFFFFABRRRQAUUUUAFFFFABRRRQAUUUUAFFFFABX0B8Mv8AknWmf9tf/Rr18/19AfDL/knWmf8AbX/0a9XDc8HPv92j/iX5M6uiiitT4wK5T4m/8k61P/tl/wCjUrq65T4m/wDJOtT/AO2X/o1KT2OrB/7zT/xL8z5/ooorA/RworOuv+Plvw/lUVBm6lma1FZNFAvaeRrUVk0UB7TyNaiui0//AJBtt/1xT+QqxTMvrHkcrRXVUUB9Y8jlaK6qigPrHkcrRXVUUB9Y8jlaK6qigPrHkcrRXVUUB9Y8jlaK6qigPrHkcrRXVUUB9Y8jlaK6qigPrHkcrRXVUUB9Y8jlaK6qigPrHkcrRXVUUB9Y8jlaK6qigPrHkcrRXVUUB9Y8jlaK6qigPrHkcrRXVUUB9Y8jlaK6qigPrHkcrRXVUUB9Y8jlaK6qigPrHkcrRXVUUB9Y8jlaK6qigPrHkcrRXVUUB9Y8jlaK6qigPrHkcrRXVUUB9Y8jlaK6qigPrHkcrRXVUUB9Y8jlaK6qigPrHkcrRXVUUB9Y8jlaK6qigPrHkcrRXVUUB9Y8jlaK6qigPrHkcrRXVUUB9Y8jlaK6qigPrHkcrRXVUUB9Y8jlaK6qigPrHkcrRXVUUB9Y8jlaK6qigPrHkcrRXVUUB9Y8jlaK39T/AOQdL+H8xWBSNqc+dXCvoD4Zf8k60z/tr/6Nevn+voD4Zf8AJOtM/wC2v/o16uG54uff7tH/ABL8mdXRRRWp8YFcp8Tf+Sdan/2y/wDRqV1dcp8Tf+Sdan/2y/8ARqUnsdWD/wB5p/4l+Z8/0UUVgfo5nXX/AB8t+H8qiqW6/wCPlvw/lUVBzS3YUUUUCCiiigDuNP8A+Qbbf9cU/kKsVX0//kG23/XFP5CrFM5XuFFFFABRRRQAUUUUAFFFFABRRRQAUUUUAFFFFABRRRQAUUUUAFFFFABRRRQAUUUUAFFFFABRRRQAUUUUAFFFFABRRRQAUUUUAFFFFABRRRQAUUUUAFFFFABRRRQAUUUUAFFFFABRRRQAUUUUAFFFFABRRRQAUUUUAFFFFABRRRQAUUUUAFFFFABRRRQAUUUUAFFFFAFTU/8AkHS/h/MVgVv6n/yDpfw/mKwKR2Yf4Qr6A+GX/JOtM/7a/wDo16+f6+gPhl/yTrTP+2v/AKNerhueTn3+7R/xL8mdXRRRWp8YFcp8Tf8AknWp/wDbL/0aldXXKfE3/knWp/8AbL/0alJ7HVg/95p/4l+Z8/0UUVgfo5nXX/Hy34fyqKpbr/j5b8P5VFQc0t2FFFFAgooooA7jT/8AkG23/XFP5CrFV9P/AOQbbf8AXFP5CrFM5XuFFFFABRRRQAUUUUAFFFFABRRRQAUUUUAFFFFABRRRQAUUUUAFFFFABRRRQAUUUUAFFFFABRRRQAUUUUAa2l6VZalNb2w1B0u58hUFvlFPOAW3A847A9azJIminaF8blYqeeMg4ro7CBdN02G60yWzm1CdCTLNdxJ9lB4wqsw+YjuelY2nC2j1qEaqQ1usv74qdwI78jqPpTOaFRtyd7pfeaOoeGls7a7aK7eaazaNJUMG1SXxja2456+grEkhkgmMVwjRSKcMsikFfqOtdvFeLNeSReIb7T5dPjlDWnlTISjA/KFCZKrjg7h+tctqazXGuym7mgLzy5MkcyugBP8AeBxgU2Z4erNvln9/9fj2Jxo1rcWN5Pp1+87Wah5Fkt/LVlJwSp3E/mBUOlaXFf217cXFy8EVpGHbZEHLZOMAFh/OtTU4vsOnzWGkSWZtOGnuPtsLS3OOfuhsgeigZqnb2d/YzzppusW0bKqFjBfCISA54BJUHHcds0BGpJwb5vTbbTcyrhYFmItZJJI+zSRhD+QJ/nUVbPim4trnWd9tJHKwiRZpYx8skgHzMPX61jUjppycoJsKKKKRoFFFFABRRRQAUUUUAFFFFABRRRQAUUUUAFFFFABRRRQAUUUUAFFFFABRRRQAUUUUAFFFFABRRRQAUUUUAFFFFABRRRQBU1P/AJB0v4fzFYFb+p/8g6X8P5isCkdmH+EK+gPhl/yTrTP+2v8A6Nevn+voD4Zf8k60z/tr/wCjXq4bnk59/u0f8S/JnV0UUVqfGBXKfE3/AJJ1qf8A2y/9GpXV1ynxN/5J1qf/AGy/9GpSex1YP/eaf+JfmfP9FFFYH6OZ11/x8t+H8qiqW6/4+W/D+VRUHNLdhRRRQIKKKKAO40//AJBtt/1xT+QqxVfT/wDkG23/AFxT+QqxTOV7hRRRQAUUUUAFFFFABRRRQAUUUUAFFFFABRRRQAUUUUAFFFFABRRRQAUUUUAFFFFABRRRQAUUUUAFFFFAEkMLTybEKA4z88ioPzYgVb/sS/yAIkOQGBEyENnpg55zjpVa1jSa8ijldURnAZmOAB35rUh1KR9XmYXCRWwbcchT8q8ALn+LHHFMxqSmn7pky28sKRtKu0SDcoJ5IzjOOop9jAtzqFvBISFllVGK9QCQK0dYS0mhF3FPulcrhBKrDG3oFHK46c1S0n/kNWX/AF8R/wDoQoBTcqbZUq1/Z119lNwIwYwu84dSwX125zj3xVWtVYhaaWzW0kLyXEX71jOgKL12hc5zxz+lBU5NWsZVFFFI0CiiigAooooAKKKKACiiigAooooAKKKKACiiigAooooAKKKKACiiigAooooAKKKKACiiigAooooAKKKKACiiigAooooAKKKKAKmp/wDIOl/D+YrArf1P/kHS/h/MVgUjsw/whX0B8Mv+SdaZ/wBtf/Rr18/19AfDL/knWmf9tf8A0a9XDc8nPv8Ado/4l+TOrooorU+MCuU+Jv8AyTrU/wDtl/6NSurrlPib/wAk61P/ALZf+jUpPY6sH/vNP/EvzPn+iiisD9HM66/4+W/D+VRVLdf8fLfh/KoqDmluwooooEFFFFAHcaf/AMg22/64p/IVYqvp/wDyDbb/AK4p/IVYpnK9wooooAKKKKACiiigAooooAKKKKACiiigAooooAKKKKACiiigAooooAKKKKACiiigAooooAKKKKACiiigAooooAKfFK8EySxHa8bBlOM4IORTKKBBRRRQMKKKKACiiigAooooAKKKKACiiigAooooAKKKKACiiigAooooAKKKKACiiigAooooAKKKKACiiigAooooAKKKKACiiigAooooAKKKKAKmp/8AIOl/D+YrArf1P/kHS/h/MVgUjsw/whX0B8Mv+SdaZ/21/wDRr18/19AfDL/knWmf9tf/AEa9XDc8nPv92j/iX5M6uiiitT4wK5T4m/8AJOtT/wC2X/o1K6uuU+Jv/JOtT/7Zf+jUpPY6sH/vNP8AxL8z5/ooorA/RzOuv+Plvw/lUVWp55EmZVbAGOw9Ki+1Tf3/ANBQc7tcioqX7VN/f/QUfapv7/6CgWhFRUv2qb+/+go+1Tf3/wBBQGh2en/8g22/64p/IVYrhPtU39/9BR9qm/v/AKCmZezXc7uiuE+1Tf3/ANBR9qm/v/oKA9mu53dFcJ9qm/v/AKCj7VN/f/QUB7Ndzu6K4T7VN/f/AEFH2qb+/wDoKA9mu53dFcJ9qm/v/oKPtU39/wDQUB7Ndzu6K4T7VN/f/QUfapv7/wCgoD2a7nd0Vwn2qb+/+go+1Tf3/wBBQHs13O7orhPtU39/9BR9qm/v/oKA9mu53dFcJ9qm/v8A6Cj7VN/f/QUB7Ndzu6K4T7VN/f8A0FH2qb+/+goD2a7nd0Vwn2qb+/8AoKPtU39/9BQHs13O7orhPtU39/8AQUfapv7/AOgoD2a7nd0Vwn2qb+/+go+1Tf3/ANBQHs13O7orhPtU39/9BR9qm/v/AKCgPZrud3RXCfapv7/6Cj7VN/f/AEFAezXc7uiuE+1Tf3/0FH2qb+/+goD2a7nd0Vwn2qb+/wDoKPtU39/9BQHs13O7orhPtU39/wDQUfapv7/6CgPZrud3RXCfapv7/wCgo+1Tf3/0FAezXc7uiuE+1Tf3/wBBR9qm/v8A6CgPZrud3RXCfapv7/6Cj7VN/f8A0FAezXc7uiuE+1Tf3/0FH2qb+/8AoKA9mu53dFcJ9qm/v/oKPtU39/8AQUB7Ndzu6K4T7VN/f/QUfapv7/6CgPZrud3RXCfapv7/AOgo+1Tf3/0FAezXc7uiuE+1Tf3/ANBR9qm/v/oKA9mu53dFcJ9qm/v/AKCj7VN/f/QUB7Ndzu6K4T7VN/f/AEFH2qb+/wDoKA9mu53dFcJ9qm/v/oKPtU39/wDQUB7Ndzu6K4T7VN/f/QUfapv7/wCgoD2a7nd0Vwn2qb+/+go+1Tf3/wBBQHs13O7orhPtU39/9BR9qm/v/oKA9mu53dFcJ9qm/v8A6Cj7VN/f/QUB7Ndzu6K4T7VN/f8A0FXNJc3OqRRTncjZyOmflJ7UA6aXU6+iqn9mWn/PL/x4/wCNH9mWn/PL/wAeP+NBnaPf+vvLdFVP7MtP+eX/AI8f8aP7MtP+eX/jx/xoC0e/9feW6Kqf2Zaf88v/AB4/40f2Zaf88v8Ax4/40BaPf+vvLdFVP7MtP+eX/jx/xo/sy0/55f8Ajx/xoC0e/wDX3hqf/IOl/D+YrArYvrG3hspJI49rDGDuPqKx6R10LcugV9AfDL/knWmf9tf/AEa9fP8AX0B8Mv8AknWmf9tf/Rr1cNzyM+/3aP8AiX5M6uiiitT4wK5T4m/8k61P/tl/6NSurrlPib/yTrU/+2X/AKNSk9jqwf8AvNP/ABL8z5/ooorA/RzOuv8Aj5b8P5VFUt1/x8t+H8qioOaW7CiiigQUUUUAFFFFABRRRQAUUUUAFFFFABRRRQAUUUUAFFFFABRRRQAUUUUAFFFFABRRRQAUUUUAFFFFABRRRQAUUUUAFFFFABRRRQAUUUUAFFFFABRRRQAUUUUAFFFFABRRRQAUUUUAFFFFABRRRQAUUUUAFFFFABRRRQAUUUUAFFFFABRRRQAUUUUAFaGhf8hqD/gX/oJrPrQ0L/kNQf8AAv8A0E0ClszsKKKKZzBRRRQAUUUUAFFFFAFTU/8AkHS/h/MVgVv6n/yDpfw/mKwKR2Yf4Qr6A+GX/JOtM/7a/wDo16+f6+gPhl/yTrTP+2v/AKNerhueTn3+7R/xL8mdXRRRWp8YFcp8Tf8AknWp/wDbL/0aldXXKfE3/knWp/8AbL/0alJ7HVg/95p/4l+Z8/0UUVgfo5nXX/Hy34fyqKpbr/j5b8P5VFQc0t2FFFFAgooooAKKKKACiiigAooooAKKKKACiiigAooooAKKKKACiiigAooooAKKKKACiiigAooooAKKKKACiiigAooooAKKKKANiy8K6vqNvFLaW8T+erNDG1zEssoXOSsZYM3Q9B2qjp+m3eqalFp9jD5l1KxVIywXJ9MkgDp3rpNAgg8KLZ+JdXctM6tJp1jH96Y8je56KgJ+p/Cs7SLvWdN1uDxBa6c88jPLLGzwOY5OCHI24yBk5weKZy+1m+a1vLprroZ+oaTc6WVF09qxYkYgvIpiCPUIxx+NP0vQ7/WFnawijZLcKZZJZ0iRNxwuWcgZJ4AzW1r+nWT+D9M12CxGnXN3NJE8CSO6ShefMG8lh6dTV7QpLbQfAUmpX9i2r2uo3iwyWhk8uOPyzuDMwBO49hwMdc9KLakuvL2d473t+OvX9Tj7+wutLv5rK/hMNxC22RCQcH6jg1Np2j3mqJM9oIRHBt8ySe4jhVc5wNzsBk4PHtXb+ObSOz0GTULiJ57rXLlJ4Zbi1CS2sSoP3ZOMBugwDyADXJ6DoS6mtxe6hcfY9Ls8G5uNu5iT91EX+Jj+Q6n3Lajp1+ejz7f12330KOp6ZeaPfvZalA0FxHjKEg8HkEEcEe4qpWx4o11fEGtG6hhMFvHEkEEbHLCNBgZPc9/xrHpHRTcnBOa1CiiigsKKKKACiiigAooooAKKKKACiiigAooooAKKKKACiiigAooooAKKKKACiiigAooooAK0NC/5DUH/AAL/ANBNZ9aGhf8AIag/4F/6CaBS2Z2FFFFM5gooooAKKKKACiiigCpqf/IOl/D+YrArf1P/AJB0v4fzFYFI7MP8IV9AfDL/AJJ1pn/bX/0a9fP9fQHwy/5J1pn/AG1/9GvVw3PJz7/do/4l+TOrooorU+MCuU+Jv/JOtT/7Zf8Ao1K6uuU+Jv8AyTrU/wDtl/6NSk9jqwf+80/8S/M+f6KKKwP0czrr/j5b8P5VFUt1/wAfLfh/KoqDmluwooooEFFFFABRRRQAUUUUAFFFFABRRRQAUUUUAFFFFABRRRQAUUUUAFFFFABRRRQAUUUUAFFFFABRRRQAUUUUAFFFFABRRVvSoGudYtIUjSRnmUbJDhW56H2oE3ZXLNv4n160t0gtdb1KCGMbUjju5FVR6AA4FRJrurxyRyR6peq8bO6Mtw4KMxyxBzwSScnvXaXWqQAi8muJAEmuYIru4jO+2lI+UAAE7BjqOfYUh1FrS/sLVVa7u7i2jee4WQx7gN3L7lyy7eSDgnAqrHD7Vfyf19xw19qN7qc4n1K8uLuYLtElxK0jAemSenJqzol7qsGoR2ujajcWMl5IkRaGdowxJwN23sM1o+JdPlSNJ4ZIfsVuFjjhQsGjDDcCwIAy3JOCazfD3/IzaX/1+Rf+hil1OhSjKk2kR/21qnlXMX9pXnl3RLXCee2Jie7DPzfjS2GtarpaOmmaleWaucstvO0YY+pwRmqNdEl9cWXh2SLUrgyJdW4S0suyjdnzSOg6HB6n9aBzUUrWvcx77U77VJll1K9uLyRRtV7iVpCB6ZJqrXTaxef23oLaiJbuFYZ0hFrLP5kROzqgwMHg5HPWuZoKpu8dreQUUUUjQKKKKACiiigAooooAKKKKACiiigAooooAKKKKACiiigAooooAKKKKACiiigAooooAK0NC/5DUH/Av/QTWfWhoX/Iag/4F/6CaBS2Z2FFFFM5gooooAKKKKACiiigCpqf/IOl/D+YrArf1P8A5B0v4fzFYFI7MP8ACFfQHwy/5J1pn/bX/wBGvXz/AF9AfDL/AJJ1pn/bX/0a9XDc8nPv92j/AIl+TOrooorU+MCuU+Jv/JOtT/7Zf+jUrq65T4m/8k61P/tl/wCjUpPY6sH/ALzT/wAS/M+f6KKKwP0czrr/AI+W/D+VRVLdf8fLfh/KoqDmluwooooEFFFFABRRRQAUUUUAFFFFABRRRQAUUUUAFFFFABRRRQAUUUUAFFFFABRRRQAUUUUAFFFFABRRRQAUUUUAFFFFABShirBlJBByCO1JRQBdbWdTedJn1G7aWMEJIZ2LKD1AOeKgN5ctNLK1xMZJlKyOXOXB6gnuKhooJ5YrZE8t9dz28dvPdTSQxf6uN5CVT6A8Cl0+7+wana3mzzPs8yS7M43bWBxnt0qvRQHKrWCrn9r6l9l+y/2hdfZ9uzyvObZt9MZxj2qnRQNpPcsXWoXt8qi9u57gJ90Sys+36ZPFV6KKASS0QUUUUDCiiigAooooAKKKKACiiigAooooAKKKKACiiigAooooAKKKKACiiigAooooAKKKKACtDQv+Q1B/wL/0E1n1oaF/yGoP+Bf+gmgUtmdhRRRTOYKKKKACiiigAooooAqan/yDpfw/mKwK39T/AOQdL+H8xWBSOzD/AAhX0B8Mv+SdaZ/21/8ARr18/wBfQHwy/wCSdaZ/21/9GvVw3PJz7/do/wCJfkzq6KKK1PjArlPib/yTrU/+2X/o1K6uuU+Jv/JOtT/7Zf8Ao1KT2OrB/wC80/8AEvzPn+iiisD9HM66/wCPlvw/lUVdFBokd5Cs7SYL9tp7HHr7U/8A4RqH/nr/AOOn/Gg5ZSjd6nNUV0v/AAjUP/PX/wAdP+NH/CNQ/wDPX/x0/wCNAuaPc5qiul/4RqH/AJ6/+On/ABo/4RqH/nr/AOOn/GgOaPc5qiul/wCEah/56/8Ajp/xo/4RqH/nr/46f8aA5o9zmqK6X/hGof8Anr/46f8AGj/hGof+ev8A46f8aA5o9zmqK6X/AIRqH/nr/wCOn/Gj/hGof+ev/jp/xoDmj3Oaorpf+Eah/wCev/jp/wAaP+Eah/56/wDjp/xoDmj3Oaorpf8AhGof+ev/AI6f8aP+Eah/56/+On/GgOaPc5qiul/4RqH/AJ6/+On/ABo/4RqH/nr/AOOn/GgOaPc5qiul/wCEah/56/8Ajp/xo/4RqH/nr/46f8aA5o9zmqK6X/hGof8Anr/46f8AGj/hGof+ev8A46f8aA5o9zmqK6X/AIRqH/nr/wCOn/Gj/hGof+ev/jp/xoDmj3Oaorpf+Eah/wCev/jp/wAaP+Eah/56/wDjp/xoDmj3Oaorpf8AhGof+ev/AI6f8aP+Eah/56/+On/GgOaPc5qiul/4RqH/AJ6/+On/ABo/4RqH/nr/AOOn/GgOaPc5qiul/wCEah/56/8Ajp/xo/4RqH/nr/46f8aA5o9zmqK6X/hGof8Anr/46f8AGj/hGof+ev8A46f8aA5o9zmqK6X/AIRqH/nr/wCOn/Gj/hGof+ev/jp/xoDmj3Oaorpf+Eah/wCev/jp/wAaP+Eah/56/wDjp/xoDmj3Oaorpf8AhGof+ev/AI6f8aP+Eah/56/+On/GgOaPc5qiul/4RqH/AJ6/+On/ABo/4RqH/nr/AOOn/GgOaPc5qiul/wCEah/56/8Ajp/xo/4RqH/nr/46f8aA5o9zmqK6X/hGof8Anr/46f8AGj/hGof+ev8A46f8aA5o9zmqK6X/AIRqH/nr/wCOn/Gj/hGof+ev/jp/xoDmj3Oaorpf+Eah/wCev/jp/wAaP+Eah/56/wDjp/xoDmj3Oaorpf8AhGof+ev/AI6f8aP+Eah/56/+On/GgOaPc5qiul/4RqH/AJ6/+On/ABo/4RqH/nr/AOOn/GgOaPc5qiul/wCEah/56/8Ajp/xo/4RqH/nr/46f8aA5o9zmqK6X/hGof8Anr/46f8AGj/hGof+ev8A46f8aA5o9zmqK6X/AIRqH/nr/wCOn/Gj/hGof+ev/jp/xoDmj3Oaorpf+Eah/wCev/jp/wAaP+Eah/56/wDjp/xoDmj3Oaorpf8AhGof+ev/AI6f8aP+Eah/56/+On/GgOaPc5qiul/4RqH/AJ6/+On/ABo/4RqH/nr/AOOn/GgOaPc5qiul/wCEah/56/8Ajp/xo/4RqH/nr/46f8aA5o9zmqK6X/hGof8Anr/46f8AGj/hGof+ev8A46f8aA5o9zmqK6X/AIRqH/nr/wCOn/Gj/hGof+ev/jp/xoDmj3OarQ0L/kNQf8C/9BNav/CNQ/8APX/x0/41JBoQtpllgn2uvQ7M44x3NAnKLW5r0VU+z3f/AD+/+QhR9nu/+f3/AMhCmY8q7/mW6KqfZ7v/AJ/f/IQo+z3f/P7/AOQhQHKu/wCZboqp9nu/+f3/AMhCj7Pd/wDP7/5CFAcq7/mW6KqfZ7v/AJ/f/IQo+z3f/P7/AOQhQHKu/wCYan/yDpfw/mKwK2L6G4SykMl15i8ZXywM8jvWPSOugrRCvoD4Zf8AJOtM/wC2v/o16+f6+gPhl/yTrTP+2v8A6NerhueRn3+7R/xL8mdXRRRWp8YFcp8Tf+Sdan/2y/8ARqV1dcp8Tf8AknWp/wDbL/0alJ7HVg/95p/4l+Z8/wBFFFYH6Ob+mf8AIOi/H+Zq3VTTP+QdF+P8zVumebP4mFFFFBIUUUUAFFFFABRRRQAUUUUAFFFFABRRRQAUUUUAFFFFABRRRQAUUUUAFFFFABRRRQAUUUUAFFFFABRRRQAUUUUAFFFFABRRRQAUUUUAFFFFABRRRQAUUUUAFFFFABRRRQAUUUUAFFFFABRRRQAUUUUAFFFFABRRRQAUUUUAFFFFABRRRQAUUUUAFFFFABRRRQAUUUUAFFFFABRRRQBU1P8A5B0v4fzFYFb+p/8AIOl/D+YrApHZh/hCvoD4Zf8AJOtM/wC2v/o16+f6+gPhl/yTrTP+2v8A6NerhueTn3+7R/xL8mdXRRRWp8YFcp8Tf+Sdan/2y/8ARqV1dcp8Tf8AknWp/wDbL/0alJ7HVg/95p/4l+Z8/wBFFFYH6Ob+mf8AIOi/H+Zq3VTTP+QdF+P8zVumebP4mFFFFBIUUUUAFFFFABRRRQAUUUUAFFFFABRRRQAUUUUAFFFFABRRRQAUUUUAFFFFABRRRQAUUUUAFFFFABRRRQAUUUUAFFFFABRVixnltr2KWCcW0iniYgnZkYzwCfyFdHqsFzqemaPFG41KZ5Gj+2luHOc7MnDcf7QFOxjOrySSez/r+tTlKK76/K61DeWOn3f213miDWwJAtFXAZo8j5hngkYwO3esG2jvYdYu7Lw7dyw2sUu6S4LhNqrxudxj5Rzx0PpRYxhieaLurNd/+GOforV1+6s7vxHPPaqDbs4yVGN543Nj3Oa1dYuX1+1v73T9Su2t4SjSWM4Kqq8AEYYg8j2osae1a5W1a/4eRytFFFI6AooooAKKKKACiiigAooooAKKKKACiiigAooooAKKKKACiiigAooooAKKKKACiiigAooooAKKKKACiiigAooooAKKKKACiiigCpqf/IOl/D+YrArf1P8A5B0v4fzFYFI7MP8ACFfQHwy/5J1pn/bX/wBGvXz/AF9AfDL/AJJ1pn/bX/0a9XDc8nPv92j/AIl+TOrooorU+MCuU+Jv/JOtT/7Zf+jUrq65T4m/8k61P/tl/wCjUpPY6sH/ALzT/wAS/M+f6KKKwP0c39M/5B0X4/zNW6qaZ/yDovx/mat0zzZ/EwooooJCiiigAooooAKKKKACiiigAooooAKKKKACiiigAooooAKKKKACiiigAooooAKKKKACiiigAooooAKKKKACiiigAooooAntLkWs3mNbw3ClSpjmBKnI9iCD7g1dfX7oLapZpFZR2rmSJIVJAc9WJYkk/U1BpcEU00zTpvSGFpSmcbsdsitSO00vFu80So10ilYiZCAckHbjnOcYycUzmqOCl7yuQR+Jp7e6e5s7Gytp5WzJIkbMWHcYZiAD3wBSR66z28llHpNmYZ5hIYU84bn6DGJM/h0qrqll9jaNY4JBGowZ2U4lbrwemB049Kj0n/kNWX/XxH/6EKNQ9nTceZL+kS/2ogikji02xjV2RvuMxXac4BZiQD3FPn1uSSzntbaztbKO4YNN9nVsvjkD5mOBnsMVmVtrYWrQrbeT++az+0CfechuuMdMY46UDmoRs2jEooopHQFFFFABRRRQAUUUUAFFFFABRRRQAUUUUAFFFFABRRRQAUUUUAFFFFABRRRQAUUUUAFFFFABRRRQAUUUUAFFFFABRRRQAUUUUAVNT/5B0v4fzFYFb+p/8g6X8P5isCkdmH+EK+gPhl/yTrTP+2v/AKNevn+voD4Zf8k60z/tr/6NerhueTn3+7R/xL8mdXRRRWp8YFcp8Tf+Sdan/wBsv/RqV1dcp8Tf+Sdan/2y/wDRqUnsdWD/AN5p/wCJfmfP9FFFYH6Ob+mf8g6L8f5mrdVNM/5B0X4/zNW6Z5s/iYUUUUEhRRRQAUUUUAFFFFABRRRQAUUUUAFFFFABRRRQAUUUUAFFFFABRRRQAUUUUAFFFFABRRRQAUUUUAFFFFABRRRQAUUUUAT2l29nP5kaq+VKsjjKsD1BqY6pN9oWZUjUxx+XEoBxEMdRz19zmqVFBDhFu7RdudUmurUQOkaj5dzqDl9owM84/ICotPlSDU7WWU7UjmRmOM4AYE1XooDkSVkFXv7Wm+yeT5cW7yvJ87ad+zP3euPbpVGigbipbhRRRQUFFFFABRRRQAUUUUAFFFFABRRRQAUUUUAFFFFABRRRQAUUUUAFFFFABRRRQAUUUUAFFFFABRRRQAUUUUAFFFFABRRRQAUUUUAVNT/5B0v4fzFYFb+p/wDIOl/D+YrApHZh/hCvoD4Zf8k60z/tr/6Nevn+voD4Zf8AJOtM/wC2v/o16uG55Off7tH/ABL8mdXRRRWp8YFcp8Tf+Sdan/2y/wDRqV1dcp8Tf+Sdan/2y/8ARqUnsdWD/wB5p/4l+Z8/0UUVgfo5v6Z/yDovx/mat1gwa3HZwrA0eSnfce5z6e9P/wCElh/55f8Ajx/wpnDKnJyZt0VkQa6LmZYoINzt0G/GeM9xVz7Rd/8APl/5FFBHI1/w6LdFVPtF3/z5f+RRR9ou/wDny/8AIooFyP8Apot0VU+0Xf8Az5f+RRR9ou/+fL/yKKA5H/TRboqp9ou/+fL/AMiij7Rd/wDPl/5FFAcj/pot0VU+0Xf/AD5f+RRR9ou/+fL/AMiigOR/00W6KqfaLv8A58v/ACKKPtF3/wA+X/kUUByP+mi3RVT7Rd/8+X/kUUfaLv8A58v/ACKKA5H/AE0W6KqfaLv/AJ8v/Ioo+0Xf/Pl/5FFAcj/pot0VU+0Xf/Pl/wCRRR9ou/8Any/8iigOR/00W6KqfaLv/ny/8iij7Rd/8+X/AJFFAcj/AKaLdFVPtF3/AM+X/kUUfaLv/ny/8iigOR/00W6KqfaLv/ny/wDIoo+0Xf8Az5f+RRQHI/6aLdFVPtF3/wA+X/kUUfaLv/ny/wDIooDkf9NFuiqn2i7/AOfL/wAiij7Rd/8APl/5FFAcj/pot0VU+0Xf/Pl/5FFH2i7/AOfL/wAiigOR/wBNFuiqn2i7/wCfL/yKKPtF3/z5f+RRQHI/6aLdFVPtF3/z5f8AkUUfaLv/AJ8v/IooDkf9NFuiqn2i7/58v/Ioo+0Xf/Pl/wCRRQHI/wCmi3RVT7Rd/wDPl/5FFH2i7/58v/IooDkf9NFuiqn2i7/58v8AyKKPtF3/AM+X/kUUByP+mi3RVT7Rd/8APl/5FFH2i7/58v8AyKKA5H/TRboqp9ou/wDny/8AIoo+0Xf/AD5f+RRQHI/6aLdFVPtF3/z5f+RRR9ou/wDny/8AIooDkf8ATRboqp9ou/8Any/8iij7Rd/8+X/kUUByP+mi3RVT7Rd/8+X/AJFFH2i7/wCfL/yKKA5H/TRboqp9ou/+fL/yKKPtF3/z5f8AkUUByP8Apot0VU+0Xf8Az5f+RRR9ou/+fL/yKKA5H/TRboqp9ou/+fL/AMiij7Rd/wDPl/5FFAcj/pot0VU+0Xf/AD5f+RRR9ou/+fL/AMiigOR/00W6KqfaLv8A58v/ACKKPtF3/wA+X/kUUByP+mi3RVT7Rd/8+X/kUUfaLv8A58v/ACKKA5H/AE0W6KqfaLv/AJ8v/Ioo+0Xf/Pl/5FFAcj/pot0VU+0Xf/Pl/wCRRR9ou/8Any/8iigOR/00W6KqfaLv/ny/8iij7Rd/8+X/AJFFAcj/AKaLdFVPtF3/AM+X/kUUfaLv/ny/8iigOR/00W6KqfaLv/ny/wDIoo+0Xf8Az5f+RRQHI/6aLdFVPtF3/wA+X/kUUfaLv/ny/wDIooDkf9NFuiqn2i7/AOfL/wAiij7Rd/8APl/5FFAcj/pot0VU+0Xf/Pl/5FFH2i7/AOfL/wAiigOR/wBNFuiqn2i7/wCfL/yKKPtF3/z5f+RRQHI/6aDU/wDkHS/h/MVgVsX01w9lIJLXy14y3mA45HasekddBWiFfQHwy/5J1pn/AG1/9GvXz/X0B8Mv+SdaZ/21/wDRr1cNzyM+/wB2j/iX5M6uiiitT4wK5T4m/wDJOtT/AO2X/o1K6uuU+Jv/ACTrU/8Atl/6NSk9jqwf+80/8S/M+f6KKKwP0czrr/j5b8P5VFUt1/x8t+H8qioOaW7NDQv+Q1B/wL/0E12FcfoX/Iag/wCBf+gmuwpnPU3CiiqV7rOnae228vIon/uk5b8hzTs2YzqQgrzdi7RUFre217CJbSeOZD3Rs/8A6qnoaa3FCpCorwafoFFFFI0CiiigAooooAKKKKACiiigAooooAKKKKACiiigAooooAKKKKACiiigAooooAKKKKACiiigAooooAKKKKACiiigAooooAKKKKACiiigAooooAKKKKACiiigAooooAKKKKACiiigAooooAKKKKACiiigAooooAKKKKACiiigAooooAKKKKACiiigAooooAKKKKAKmp/8g6X8P5isCt/U/wDkHS/h/MVgUjsw/wAIV9AfDL/knWmf9tf/AEa9fP8AX0B8Mv8AknWmf9tf/Rr1cNzyc+/3aP8AiX5M6uiiitT4wK5T4m/8k61P/tl/6NSurrlPib/yTrU/+2X/AKNSk9jqwf8AvNP/ABL8z5/ooorA/RzOuv8Aj5b8P5VFUt1/x8t+H8qioOaW7NDQv+Q1B/wL/wBBNdhXH6F/yGoP+Bf+gmuwpnPU3M3Xb+TTtEvLqABnghZ1B9a8007Q9b1iSOaKyup3m+cyBDhgf4ia9RuIUuoJIZkV45VKMrdCCMYqexS004WPlxTyXJTG23TO1VXGcnA/DNXi5Oioxij4rDVHj6s6lR9dPJHmul2Fz4Q8XRW17uR5nCMEyUcN2z3IJ6deK9Ljc9DS3djp01na3EEPSYyFJoyGRwCOh75PWohxitsK3WovmOfEVngMXGdN+q8ixRRRXMfdBRRRQAUUUUAFFFFABRRRQAUUUUAFFFFABRRRQAUUUUAFFFFABRRRQAUUUUAFFFFABRRRQAUUUUAFFS20kUVwr3EAuI1zmMsVDcccjnrWtqlnajw/YX6Wq2VxPI6mJGYq6Do4DEkenWmZyqKMkmtzEorpLDT7afQbZrOys77UJHk8yKW5KuFHTCCRSeh6A03w7pC6hBfP9gW5uI2RYopXaOMZbDZYEc46An86LGTxEEm309O9u5ztFberaRFDc311ZgCxtbhYvLcsGJI5AyO3PXnFT31jajw/NdXGm/2XciVfsyF3zMh68OTnAI+YYFFh+3i0rdTnaKKKR0BRRRQAUUUUAFFFFABRRRQAUUUUAFFFFABRRRQAUUUUAFFFFABRRRQAUUUUAFFFFABRRRQAUUUUAFFFFABRRRQAUUUUAFFFFAFTU/8AkHS/h/MVgVv6n/yDpfw/mKwKR2Yf4Qr6A+GX/JOtM/7a/wDo16+f6+gPhl/yTrTP+2v/AKNerhueTn3+7R/xL8mdXRRRWp8YFcp8Tf8AknWp/wDbL/0aldXXKfE3/knWp/8AbL/0alJ7HVg/95p/4l+Z8/0UUVgfo5nXX/Hy34fyqKpbr/j5b8P5VFQc0t2aGhf8hqD/AIF/6Ca7CuP0L/kNQf8AAv8A0E12FM56m4+302e6V3TCxqcFjTZI7vT9SkiglUqpGUPJGRkHFT2l5JaSEpyrfeQ9GFWrk6VcWrfY0FnKzHIZCwG45Y5HJ7n61WIbrU7dUfOU8uWFrOUE2n+Ay30+41azkmaUFhL5aE9Mgcj+VULixuLSby7mIoex7H6GuggvNI0oFtPMrsVCsighW2jCnB6HHcdc1kX19LfTb5eFBO1B0Wtqc/Y0+RGH9l/Wa6q1FZL8fIrUUUVzn04UUUUAFFFFABRRRQAUUUUAFFFFABRRRQAUUUUAFFFFABRRRQAUUUUAFFFFABRRRQAUUUUAFFFFAF7R5rG31KObVInlgQE7EUNlu2QSMjPbNWru60+/1Fbm/vtQudzYkH2dIyF9F+dgMemMVlwJE8mLiVokwTuVNx+mMj+da0Xh7zZmVbliu1GUrFkgMM5YZ+Uce9M56nJGXNJ20DTbrRrC9gvd180kDs4h8tNr4J2fNu44xng96e+sWeoaW9pqAnt2+0tcLJAgkDFs5BUsvTsc1lXlp9jZI3fdKV3OoHCegz645p2mIsmrWaSKGVp0DKwyCNw4oE6cGue5t6nrunarYwW0zX0a27j5tqO1wMAbnORhsDH8VVTqVhZ6Je2Fg11cfa3U/wCkRqixgHOQAxy3bPFYlXFsFbSZLwXClo2CmIKeM+pP9M0XD2MIJLpf8f8AhynRRRSOkKKKKACiiigAooooAKKKKACiiigAooooAKKKKACiiigAooooAKKKKACiiigAooooAKKKKACiiigAooooAKKKKACiiigAooooAqan/wAg6X8P5isCt/U/+QdL+H8xWBSOzD/CFfQHwy/5J1pn/bX/ANGvXz/X0B8Mv+SdaZ/21/8ARr1cNzyc+/3aP+Jfkzq6KKK1PjArlPib/wAk61P/ALZf+jUrq65T4m/8k61P/tl/6NSk9jqwf+80/wDEvzPn+iiisD9HM66/4+W/D+VRVLdf8fLfh/KoqDmluzstC8OQSXlpfwSP9llgATc4LeecrsyB0zk9OldILCymuprK3abz41O2VmG2RlHI24yOhxya4jw/qrxtZ2KocxXTXKyFuh8vGMfhmu0bVIRLLcw2ey6lUgv5mVUkYYquOCeepPWq0POqRqqX5Eh0mD+1mtd8mwW/m5yM5259OlSXej28Fi0uJ4yIUkWV2Gx2PVQMDn8TUJ1lCTMLYi6MHk+Z5ny9MbtuOuPfFNk1jzlkjlgLRPCsZTzOjL0YHH6UaGVqt0RRWAuNOSaDcZvPETqTxz90/wBKtX1hp+nMvmm4mEjEKEdV2qDgkkg5yc4HHFVdM1NtNaUiMSCRcAE4ww5B/ClTUIZLWKG+t2n8liUdJdhIJyQeDkZ+lBclU5vIty6bZW0d0ZVuJDbqjqyyqokDnjjacdfeobzT4rewhnjtbphJErmYuPLQk9D8v9e9RS6o0y3geID7SEA2nAQKeBj8Kbc3kFzbwq8EgmhiESuJRtOO+3b7+tAoxqJq/wDWn+ZSooopHSFFFFABRRRQAUUUUAFFFFABRRRQAUUUUAFFFFABRRRQAUUUUAFFFFABRRRQAUUUUAFFFFAE9nJHFcB5JZocA7ZIRllP5j+dXJr+1l1Nblo3dY4xjcoBlcfxNj369elZlFBDgm7s1NR1C1vLRQkJFwSpZjGq445+Yctk+tVtJ/5DVl/18R/+hCqlFMSglHlQVchu0j0m4tSG3yurKQOBiqdFIppPcKKKKCgooooAKKKKACiiigAooooAKKKKACiiigAooooAKKKKACiiigAooooAKKKKACiiigAooooAKKKKACiiigAooooAKKKKACiiigCpqf8AyDpfw/mKwK39T/5B0v4fzFYFI7MP8IV9AfDL/knWmf8AbX/0a9fP9fQHwy/5J1pn/bX/ANGvVw3PJz7/AHaP+Jfkzq6KKK1PjArlPib/AMk61P8A7Zf+jUrq65T4m/8AJOtT/wC2X/o1KT2OrB/7zT/xL8z5/ooorA/RzOuv+Plvw/lUVWp4JHmZlXIOO49Ki+yzf3P1FBztO5b0L/kNQf8AAv8A0E12FchpKG21SKWcbUXOT1x8pHauk/tO0/56/wDjp/wpmM4yb2LdFVP7TtP+ev8A46f8KP7TtP8Anr/46f8ACgz5Jdi3RVT+07T/AJ6/+On/AAo/tO0/56/+On/CgOSXYt0VU/tO0/56/wDjp/wo/tO0/wCev/jp/wAKA5Jdi3RVT+07T/nr/wCOn/Cj+07T/nr/AOOn/CgOSXYt0VU/tO0/56/+On/Cj+07T/nr/wCOn/CgOSXYt0VU/tO0/wCev/jp/wAKP7TtP+ev/jp/woDkl2LdFVP7TtP+ev8A46f8KP7TtP8Anr/46f8ACgOSXYt0VU/tO0/56/8Ajp/wo/tO0/56/wDjp/woDkl2LdFVP7TtP+ev/jp/wo/tO0/56/8Ajp/woDkl2LdFVP7TtP8Anr/46f8ACj+07T/nr/46f8KA5Jdi3RVT+07T/nr/AOOn/Cj+07T/AJ6/+On/AAoDkl2LdFVP7TtP+ev/AI6f8KP7TtP+ev8A46f8KA5Jdi3RVT+07T/nr/46f8KP7TtP+ev/AI6f8KA5Jdi3RVT+07T/AJ6/+On/AAo/tO0/56/+On/CgOSXYt0VU/tO0/56/wDjp/wo/tO0/wCev/jp/wAKA5Jdi3RVT+07T/nr/wCOn/Cj+07T/nr/AOOn/CgOSXYt0VU/tO0/56/+On/Cj+07T/nr/wCOn/CgOSXYt0VU/tO0/wCev/jp/wAKP7TtP+ev/jp/woDkl2LdFVP7TtP+ev8A46f8KP7TtP8Anr/46f8ACgOSXYt0VU/tO0/56/8Ajp/wo/tO0/56/wDjp/woDkl2LdFVP7TtP+ev/jp/wo/tO0/56/8Ajp/woDkl2LdFVP7TtP8Anr/46f8ACj+07T/nr/46f8KA5Jdi3RVT+07T/nr/AOOn/Cj+07T/AJ6/+On/AAoDkl2LdFVP7TtP+ev/AI6f8KP7TtP+ev8A46f8KA5Jdi3RVT+07T/nr/46f8KP7TtP+ev/AI6f8KA5Jdi3RVT+07T/AJ6/+On/AAo/tO0/56/+On/CgOSXYt0VU/tO0/56/wDjp/wo/tO0/wCev/jp/wAKA5Jdi3RVT+07T/nr/wCOn/Cj+07T/nr/AOOn/CgOSXYt0VU/tO0/56/+On/Cj+07T/nr/wCOn/CgOSXYt0VU/tO0/wCev/jp/wAKP7TtP+ev/jp/woDkl2LdFVP7TtP+ev8A46f8KP7TtP8Anr/46f8ACgOSXYt0VU/tO0/56/8Ajp/wo/tO0/56/wDjp/woDkl2LdFVP7TtP+ev/jp/wo/tO0/56/8Ajp/woDkl2LdFVP7TtP8Anr/46f8ACj+07T/nr/46f8KA5Jdi3RVT+07T/nr/AOOn/Cj+07T/AJ6/+On/AAoDkl2LdFVP7TtP+ev/AI6f8KP7TtP+ev8A46f8KA5Jdi3RVT+07T/nr/46f8KP7TtP+ev/AI6f8KA5Jdi3RVT+07T/AJ6/+On/AAo/tO0/56/+On/CgOSXYt0VU/tO0/56/wDjp/wo/tO0/wCev/jp/wAKA5Jdg1P/AJB0v4fzFYFbF9fW81lJHHJuY4wNp9RWPSOugmo6hX0B8Mv+SdaZ/wBtf/Rr18/19AfDL/knWmf9tf8A0a9XDc8jPv8Ado/4l+TOrooorU+MCuU+Jv8AyTrU/wDtl/6NSurrlfiWpb4d6oFBJxEePaVKT2OrB/7zT/xL8z5+ooorA/RwooooAKKKKACiiigAooooAKKKKACiiigAooooAKKKKACiiigAooooAKKKKACiiigAooooAKKKKACiiigAooooAKKKKACiiigAooooAKKKKACiiigAooooAKKKKACiiigAooooAKKKKACiiigAooooAKKKKACiiigAooooAKKKKACiiigAooooAKKKKACiiigAooooAKKKKACiiigAooooAKKKKACiiigAr6A+GX/JOtM/7a/+jXr5/r6B+Gilfh3pYYEHEp595Xq4bng59/u0f8S/JnVUUUVqfGBTJ4Irm3kguI1likUq6OMhgeoIp9FAbHKt8NPCLMSdIGSc8XEo/wDZqT/hWXhH/oE/+TMv/wAXXV0UrI6vrmJ/5+S+9nKf8Ky8I/8AQJ/8mZf/AIuj/hWXhH/oE/8AkzL/APF11dFFkH1zE/8APyX3s5T/AIVl4R/6BP8A5My//F0f8Ky8I/8AQJ/8mZf/AIuuroosg+uYn/n5L72cp/wrLwj/ANAn/wAmZf8A4uj/AIVl4R/6BP8A5My//F11dFFkH1zE/wDPyX3s5T/hWXhH/oE/+TMv/wAXR/wrLwj/ANAn/wAmZf8A4uuroosg+uYn/n5L72cp/wAKy8I/9An/AMmZf/i6P+FZeEf+gT/5My//ABddXRRZB9cxP/PyX3s5T/hWXhH/AKBP/kzL/wDF0f8ACsvCP/QJ/wDJmX/4uuroosg+uYn/AJ+S+9nKf8Ky8I/9An/yZl/+Lo/4Vl4R/wCgT/5My/8AxddXRRZB9cxP/PyX3s5T/hWXhH/oE/8AkzL/APF0f8Ky8I/9An/yZl/+Lrq6KLIPrmJ/5+S+9nKf8Ky8I/8AQJ/8mZf/AIuj/hWXhH/oE/8AkzL/APF11dFFkH1zE/8APyX3s5T/AIVl4R/6BP8A5My//F0f8Ky8I/8AQJ/8mZf/AIuuroosg+uYn/n5L72cp/wrLwj/ANAn/wAmZf8A4uj/AIVl4R/6BP8A5My//F11dFFkH1zE/wDPyX3s5T/hWXhH/oE/+TMv/wAXR/wrLwj/ANAn/wAmZf8A4uuroosg+uYn/n5L72cp/wAKy8I/9An/AMmZf/i6P+FZeEf+gT/5My//ABddXRRZB9cxP/PyX3s5T/hWXhH/AKBP/kzL/wDF0f8ACsvCP/QJ/wDJmX/4uuroosg+uYn/AJ+S+9nKf8Ky8I/9An/yZl/+Lo/4Vl4R/wCgT/5My/8AxddXRRZB9cxP/PyX3s5T/hWXhH/oE/8AkzL/APF0f8Ky8I/9An/yZl/+Lrq6KLIPrmJ/5+S+9nKf8Ky8I/8AQJ/8mZf/AIuj/hWXhH/oE/8AkzL/APF11dFFkH1zE/8APyX3s5T/AIVl4R/6BP8A5My//F0f8Ky8I/8AQJ/8mZf/AIuuroosg+uYn/n5L72cp/wrLwj/ANAn/wAmZf8A4uj/AIVl4R/6BP8A5My//F11dFFkH1zE/wDPyX3s5T/hWXhH/oE/+TMv/wAXR/wrLwj/ANAn/wAmZf8A4uuroosg+uYn/n5L72cp/wAKy8I/9An/AMmZf/i6P+FZeEf+gT/5My//ABddXRRZB9cxP/PyX3s5T/hWXhH/AKBP/kzL/wDF0f8ACsvCP/QJ/wDJmX/4uuroosg+uYn/AJ+S+9nKf8Ky8I/9An/yZl/+Lo/4Vl4R/wCgT/5My/8AxddXRRZB9cxP/PyX3s5T/hWXhH/oE/8AkzL/APF0f8Ky8I/9An/yZl/+Lrq6KLIPrmJ/5+S+9nKf8Ky8I/8AQJ/8mZf/AIuj/hWXhH/oE/8AkzL/APF11dFFkH1zE/8APyX3s5T/AIVl4R/6BP8A5My//F0f8Ky8I/8AQJ/8mZf/AIuuroosg+uYn/n5L72cp/wrLwj/ANAn/wAmZf8A4uj/AIVl4R/6BP8A5My//F11dFFkH1zE/wDPyX3s5T/hWXhH/oE/+TMv/wAXR/wrLwj/ANAn/wAmZf8A4uuroosg+uYn/n5L72cp/wAKy8I/9An/AMmZf/i6P+FZeEf+gT/5My//ABddXRRZB9cxP/PyX3s5T/hWXhH/AKBP/kzL/wDF0f8ACsvCP/QJ/wDJmX/4uuroosg+uYn/AJ+S+9nKf8Ky8I/9An/yZl/+Lo/4Vl4R/wCgT/5My/8AxddXRRZB9cxP/PyX3s5T/hWXhH/oE/8AkzL/APF0f8Ky8I/9An/yZl/+Lrq6KLIPrmJ/5+S+9nKf8Ky8I/8AQJ/8mZf/AIuj/hWXhH/oE/8AkzL/APF11dFFkH1zE/8APyX3s5T/AIVl4R/6BP8A5My//F0f8Ky8I/8AQJ/8mZf/AIuuroosg+uYn/n5L72cp/wrLwj/ANAn/wAmZf8A4uj/AIVl4R/6BP8A5My//F11dFFkH1zE/wDPyX3s5T/hWXhH/oE/+TMv/wAXR/wrLwj/ANAn/wAmZf8A4uuroosg+uYn/n5L72cp/wAKy8I/9An/AMmZf/i6P+FZeEf+gT/5My//ABddXRRZB9cxP/PyX3s5T/hWXhH/AKBP/kzL/wDF0f8ACsvCP/QJ/wDJmX/4uuroosg+uYn/AJ+S+9nKf8Ky8I/9An/yZl/+Lo/4Vl4R/wCgT/5My/8AxddXRRZB9cxP/PyX3s5T/hWXhH/oE/8AkzL/APF0f8Ky8I/9An/yZl/+Lrq6KLIPrmJ/5+S+9nKf8Ky8I/8AQJ/8mZf/AIuj/hWXhH/oE/8AkzL/APF11dFFkH1zE/8APyX3s5T/AIVl4R/6BP8A5My//F0f8Ky8I/8AQJ/8mZf/AIuuroosg+uYn/n5L72cqvw08IqwI0gZBzzcSn/2aunggitreOC3jWKKNQqIgwFA6ACn0UWRlUr1av8AEk36u4UUUUzI/9k=)"
      ]
    },
    {
      "cell_type": "code",
      "metadata": {
        "colab": {
          "base_uri": "https://localhost:8080/"
        },
        "id": "tOU_xr3rLnvp",
        "outputId": "0151bc73-d5d7-436a-e5e3-d5f55d8c1223"
      },
      "source": [
        "5/2"
      ],
      "execution_count": 1,
      "outputs": [
        {
          "output_type": "execute_result",
          "data": {
            "text/plain": [
              "2.5"
            ]
          },
          "metadata": {
            "tags": []
          },
          "execution_count": 1
        }
      ]
    },
    {
      "cell_type": "code",
      "metadata": {
        "colab": {
          "base_uri": "https://localhost:8080/"
        },
        "id": "MjsFNHgrL8jD",
        "outputId": "0e216277-095c-45c8-d814-7b17fca51299"
      },
      "source": [
        "5//2"
      ],
      "execution_count": 2,
      "outputs": [
        {
          "output_type": "execute_result",
          "data": {
            "text/plain": [
              "2"
            ]
          },
          "metadata": {
            "tags": []
          },
          "execution_count": 2
        }
      ]
    },
    {
      "cell_type": "code",
      "metadata": {
        "colab": {
          "base_uri": "https://localhost:8080/"
        },
        "id": "bFEaYwW7MAzC",
        "outputId": "7d73c97a-32fc-432b-94d1-49c614b86b8f"
      },
      "source": [
        "5%2"
      ],
      "execution_count": 3,
      "outputs": [
        {
          "output_type": "execute_result",
          "data": {
            "text/plain": [
              "1"
            ]
          },
          "metadata": {
            "tags": []
          },
          "execution_count": 3
        }
      ]
    },
    {
      "cell_type": "markdown",
      "metadata": {
        "id": "nt-76alMMH3p"
      },
      "source": [
        "--------------"
      ]
    },
    {
      "cell_type": "code",
      "metadata": {
        "id": "7rpKMfhQMK5T"
      },
      "source": [
        ""
      ],
      "execution_count": null,
      "outputs": []
    }
  ]
}