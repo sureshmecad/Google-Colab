{
  "nbformat": 4,
  "nbformat_minor": 0,
  "metadata": {
    "colab": {
      "name": "2_Chi-Squared-Scipy.ipynb",
      "provenance": [],
      "collapsed_sections": [],
      "authorship_tag": "ABX9TyNQB8wNbnsQeXnI5jyTjk0C",
      "include_colab_link": true
    },
    "kernelspec": {
      "name": "python3",
      "display_name": "Python 3"
    },
    "language_info": {
      "name": "python"
    }
  },
  "cells": [
    {
      "cell_type": "markdown",
      "metadata": {
        "id": "view-in-github",
        "colab_type": "text"
      },
      "source": [
        "<a href=\"https://colab.research.google.com/github/sureshmecad/Google-Colab/blob/master/2_Chi_Squared_Scipy.ipynb\" target=\"_parent\"><img src=\"https://colab.research.google.com/assets/colab-badge.svg\" alt=\"Open In Colab\"/></a>"
      ]
    },
    {
      "cell_type": "markdown",
      "metadata": {
        "id": "XaxC1lz6wbgo"
      },
      "source": [
        "- from scipy.stats import chi2_contingency\n",
        "\n",
        "- scipy.stats.chisquare"
      ]
    },
    {
      "cell_type": "code",
      "metadata": {
        "colab": {
          "base_uri": "https://localhost:8080/"
        },
        "id": "J9gjspJowT4J",
        "outputId": "f4ed0777-613a-47eb-9b72-845a8deb8d2b"
      },
      "source": [
        "import numpy as np\n",
        "\n",
        "### Contingency table\n",
        "tab = np.array([[6,20],[13,5]])\n",
        "\n",
        "### SciPy\n",
        "from scipy.stats import chi2_contingency\n",
        "\n",
        "chi_val, p_val, dof, exp_val = chi2_contingency(tab)\n",
        "\n",
        "print(\"Chi square test\\nChi squared = %f\\np           = %f\\nDOF         = %d\"%(chi_val, p_val, dof))"
      ],
      "execution_count": 1,
      "outputs": [
        {
          "output_type": "stream",
          "text": [
            "Chi square test\n",
            "Chi squared = 8.563275\n",
            "p           = 0.003430\n",
            "DOF         = 1\n"
          ],
          "name": "stdout"
        }
      ]
    }
  ]
}