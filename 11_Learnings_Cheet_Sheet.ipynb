{
  "nbformat": 4,
  "nbformat_minor": 0,
  "metadata": {
    "colab": {
      "name": "11_Learnings_Cheet_Sheet.ipynb",
      "provenance": [],
      "authorship_tag": "ABX9TyOUwdPjRr1i5eTMcqoNsL8q",
      "include_colab_link": true
    },
    "kernelspec": {
      "name": "python3",
      "display_name": "Python 3"
    }
  },
  "cells": [
    {
      "cell_type": "markdown",
      "metadata": {
        "id": "view-in-github",
        "colab_type": "text"
      },
      "source": [
        "<a href=\"https://colab.research.google.com/github/sureshmecad/Google-Colab/blob/master/11_Learnings_Cheet_Sheet.ipynb\" target=\"_parent\"><img src=\"https://colab.research.google.com/assets/colab-badge.svg\" alt=\"Open In Colab\"/></a>"
      ]
    },
    {
      "cell_type": "markdown",
      "metadata": {
        "id": "90VYDItFALe5"
      },
      "source": [
        "- By default, Pandas displays only first 10 and last 10 features\r\n",
        "\r\n",
        "- Since our dataset has 81 features, we need to see all the 81 features to perform EDA. This can be done using pd.set_option"
      ]
    },
    {
      "cell_type": "code",
      "metadata": {
        "id": "BMAgWI_QGLdl"
      },
      "source": [
        "pd.set_option('display.max_rows', 500)\r\n",
        "pd.set_option('display.max_columns', 500)\r\n",
        "pd.set_option('display.width', 1000)"
      ],
      "execution_count": null,
      "outputs": []
    },
    {
      "cell_type": "markdown",
      "metadata": {
        "id": "vYwY3kcOYBmJ"
      },
      "source": [
        "-----------------"
      ]
    },
    {
      "cell_type": "code",
      "metadata": {
        "id": "kkiq2YkL__Rv"
      },
      "source": [
        "# Skip Warnings\r\n",
        "import warnings\r\n",
        "warnings.filterwarnings('ignore')\r\n",
        "warnings.filterwarnings(action = 'ignore', category = DeprecationWarning)\r\n",
        "warnings.filterwarnings(action = 'ignore', category = FutureWarning)\r\n",
        "\r\n",
        "warnings.simplefilter(action='ignore')"
      ],
      "execution_count": null,
      "outputs": []
    },
    {
      "cell_type": "markdown",
      "metadata": {
        "id": "G88PZv6wna9g"
      },
      "source": [
        "----------------------"
      ]
    },
    {
      "cell_type": "code",
      "metadata": {
        "id": "gzAzL6GUnZp8"
      },
      "source": [
        "sns.set_style('whitegrid')"
      ],
      "execution_count": null,
      "outputs": []
    },
    {
      "cell_type": "markdown",
      "metadata": {
        "id": "UXOVPquFxyeB"
      },
      "source": [
        "--------------------"
      ]
    },
    {
      "cell_type": "code",
      "metadata": {
        "id": "TG0lfxxrn2U3"
      },
      "source": [
        "import matplotlib.pyplot as plt\r\n",
        "import matplotlib.patches as mpatches\r\n",
        "import matplotlib.gridspec as gridspec "
      ],
      "execution_count": null,
      "outputs": []
    },
    {
      "cell_type": "markdown",
      "metadata": {
        "id": "DwVs51P7Xwqw"
      },
      "source": [
        "--------"
      ]
    },
    {
      "cell_type": "markdown",
      "metadata": {
        "id": "fiVmaWQlxzkh"
      },
      "source": [
        "✔️ When to use Accuracy? (Important!)\r\n",
        "\r\n",
        "Accuracy is good measure when the target variable class in the data are nearly balanced. example Survived(60%-yes, 40% no)"
      ]
    },
    {
      "cell_type": "code",
      "metadata": {
        "id": "QL9VNY3eAQyx",
        "colab": {
          "base_uri": "https://localhost:8080/"
        },
        "outputId": "ed554ee1-36b2-44ba-a803-fe4321da9ab9"
      },
      "source": [
        "2**2**3**1"
      ],
      "execution_count": 1,
      "outputs": [
        {
          "output_type": "execute_result",
          "data": {
            "text/plain": [
              "256"
            ]
          },
          "metadata": {
            "tags": []
          },
          "execution_count": 1
        }
      ]
    },
    {
      "cell_type": "markdown",
      "metadata": {
        "id": "ej-ks5bWhAp5"
      },
      "source": [
        "---------------"
      ]
    },
    {
      "cell_type": "markdown",
      "metadata": {
        "id": "M8l5uGBHhDKB"
      },
      "source": [
        "- After adding a feature in feature space, whether that feature is **important or unimportant** features the **R-squared** always **increase.**\r\n",
        "\r\n",
        "-  If you add more and more **useless variables** to a model, **adjusted r-squared** will **decrease.**\r\n",
        "\r\n",
        "- If you add more **useful variables**, **adjusted r-squared** will **increase.**\r\n",
        "\r\n",
        "- The adjusted R-squared can be negative, but it's usually not. **Adjusted R2 will always be less than or equal to R2.**"
      ]
    },
    {
      "cell_type": "markdown",
      "metadata": {
        "id": "jjXcZUr1mPaN"
      },
      "source": [
        "---------"
      ]
    },
    {
      "cell_type": "markdown",
      "metadata": {
        "id": "N-rH78wAmPOF"
      },
      "source": [
        "----> Hyperparameter:\r\n",
        "\r\n",
        " 1. Naive Bayes has no hyper-parameters\r\n"
      ]
    },
    {
      "cell_type": "markdown",
      "metadata": {
        "id": "SpeMub4YmR5v"
      },
      "source": [
        "----------------"
      ]
    },
    {
      "cell_type": "markdown",
      "metadata": {
        "id": "wWedqJGSNSaY"
      },
      "source": [
        "- **KNN** can be used in both **Regression & Classification**"
      ]
    },
    {
      "cell_type": "markdown",
      "metadata": {
        "id": "SIfyuPAANe33"
      },
      "source": [
        "---------"
      ]
    },
    {
      "cell_type": "code",
      "metadata": {
        "id": "-GCwwgo5hFkG"
      },
      "source": [
        ""
      ],
      "execution_count": null,
      "outputs": []
    }
  ]
}