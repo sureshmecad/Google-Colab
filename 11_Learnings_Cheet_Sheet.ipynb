{
  "nbformat": 4,
  "nbformat_minor": 0,
  "metadata": {
    "colab": {
      "name": "11_Learnings_Cheet_Sheet.ipynb",
      "provenance": [],
      "authorship_tag": "ABX9TyPqpiCoWBVviZXQc99d7hAi",
      "include_colab_link": true
    },
    "kernelspec": {
      "name": "python3",
      "display_name": "Python 3"
    }
  },
  "cells": [
    {
      "cell_type": "markdown",
      "metadata": {
        "id": "view-in-github",
        "colab_type": "text"
      },
      "source": [
        "<a href=\"https://colab.research.google.com/github/sureshmecad/Google-Colab/blob/master/11_Learnings_Cheet_Sheet.ipynb\" target=\"_parent\"><img src=\"https://colab.research.google.com/assets/colab-badge.svg\" alt=\"Open In Colab\"/></a>"
      ]
    },
    {
      "cell_type": "markdown",
      "metadata": {
        "id": "90VYDItFALe5"
      },
      "source": [
        "- By default, Pandas displays only first 10 and last 10 features\r\n",
        "\r\n",
        "- Since our dataset has 81 features, we need to see all the 81 features to perform EDA. This can be done using pd.set_option"
      ]
    },
    {
      "cell_type": "code",
      "metadata": {
        "id": "BMAgWI_QGLdl"
      },
      "source": [
        "pd.set_option('display.max_rows', 500)\r\n",
        "pd.set_option('display.max_columns', 500)\r\n",
        "pd.set_option('display.width', 1000)"
      ],
      "execution_count": null,
      "outputs": []
    },
    {
      "cell_type": "code",
      "metadata": {
        "id": "kkiq2YkL__Rv"
      },
      "source": [
        "# Skip Warnings\r\n",
        "import warnings\r\n",
        "warnings.filterwarnings('ignore')\r\n",
        "warnings.filterwarnings(action = 'ignore', category = DeprecationWarning)\r\n",
        "warnings.filterwarnings(action = 'ignore', category = FutureWarning)"
      ],
      "execution_count": null,
      "outputs": []
    },
    {
      "cell_type": "code",
      "metadata": {
        "id": "QL9VNY3eAQyx"
      },
      "source": [
        ""
      ],
      "execution_count": null,
      "outputs": []
    },
    {
      "cell_type": "code",
      "metadata": {
        "id": "rcmsho2DAQ6o"
      },
      "source": [
        ""
      ],
      "execution_count": null,
      "outputs": []
    }
  ]
}