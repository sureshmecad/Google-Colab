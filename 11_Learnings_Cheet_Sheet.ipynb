{
  "nbformat": 4,
  "nbformat_minor": 0,
  "metadata": {
    "colab": {
      "name": "11_Learnings_Cheet_Sheet.ipynb",
      "provenance": [],
      "authorship_tag": "ABX9TyMM7nwEqCkcQv8TdPCfBdah",
      "include_colab_link": true
    },
    "kernelspec": {
      "name": "python3",
      "display_name": "Python 3"
    }
  },
  "cells": [
    {
      "cell_type": "markdown",
      "metadata": {
        "id": "view-in-github",
        "colab_type": "text"
      },
      "source": [
        "<a href=\"https://colab.research.google.com/github/sureshmecad/Google-Colab/blob/master/11_Learnings_Cheet_Sheet.ipynb\" target=\"_parent\"><img src=\"https://colab.research.google.com/assets/colab-badge.svg\" alt=\"Open In Colab\"/></a>"
      ]
    },
    {
      "cell_type": "markdown",
      "metadata": {
        "id": "90VYDItFALe5"
      },
      "source": [
        "- By default, Pandas displays only first 10 and last 10 features\n",
        "\n",
        "- Since our dataset has 81 features, we need to see all the 81 features to perform EDA. This can be done using pd.set_option"
      ]
    },
    {
      "cell_type": "code",
      "metadata": {
        "id": "BMAgWI_QGLdl"
      },
      "source": [
        "pd.set_option('display.max_rows', 500)\n",
        "pd.set_option('display.max_columns', 500)\n",
        "pd.set_option('display.width', 1000)"
      ],
      "execution_count": null,
      "outputs": []
    },
    {
      "cell_type": "markdown",
      "metadata": {
        "id": "vYwY3kcOYBmJ"
      },
      "source": [
        "-----------------"
      ]
    },
    {
      "cell_type": "code",
      "metadata": {
        "id": "uH8Kg42b8FZ5"
      },
      "source": [
        "blue = sns.color_palette('viridis')[1]\n",
        "green = sns.color_palette('viridis')[4]\n",
        "plt.rcParams['figure.figsize'] = (15,4)\n",
        "plt.rcParams['figure.dpi'] = 200\n",
        "plt.style.use('fivethirtyeight')"
      ],
      "execution_count": null,
      "outputs": []
    },
    {
      "cell_type": "code",
      "metadata": {
        "id": "kkiq2YkL__Rv"
      },
      "source": [
        "# Skip Warnings\n",
        "import warnings\n",
        "warnings.filterwarnings('ignore')\n",
        "warnings.filterwarnings(action = 'ignore', category = DeprecationWarning)\n",
        "warnings.filterwarnings(action = 'ignore', category = FutureWarning)\n",
        "\n",
        "warnings.simplefilter(action='ignore')"
      ],
      "execution_count": null,
      "outputs": []
    },
    {
      "cell_type": "markdown",
      "metadata": {
        "id": "G88PZv6wna9g"
      },
      "source": [
        "----------------------"
      ]
    },
    {
      "cell_type": "markdown",
      "metadata": {
        "id": "5hN-YHG1VwIe"
      },
      "source": [
        "## Seaborn"
      ]
    },
    {
      "cell_type": "code",
      "metadata": {
        "colab": {
          "base_uri": "https://localhost:8080/",
          "height": 76
        },
        "id": "g6nuuSJ_74nO",
        "outputId": "afbfdb52-bb75-480e-cb72-0a0ae19647fc"
      },
      "source": [
        "import matplotlib.pyplot as plt\n",
        "import seaborn as sns\n",
        "sns.color_palette('viridis')"
      ],
      "execution_count": null,
      "outputs": [
        {
          "output_type": "execute_result",
          "data": {
            "text/html": [
              "<svg  width=\"330\" height=\"55\"><rect x=\"0\" y=\"0\" width=\"55\" height=\"55\" style=\"fill:#46327e;stroke-width:2;stroke:rgb(255,255,255)\"/><rect x=\"55\" y=\"0\" width=\"55\" height=\"55\" style=\"fill:#365c8d;stroke-width:2;stroke:rgb(255,255,255)\"/><rect x=\"110\" y=\"0\" width=\"55\" height=\"55\" style=\"fill:#277f8e;stroke-width:2;stroke:rgb(255,255,255)\"/><rect x=\"165\" y=\"0\" width=\"55\" height=\"55\" style=\"fill:#1fa187;stroke-width:2;stroke:rgb(255,255,255)\"/><rect x=\"220\" y=\"0\" width=\"55\" height=\"55\" style=\"fill:#4ac16d;stroke-width:2;stroke:rgb(255,255,255)\"/><rect x=\"275\" y=\"0\" width=\"55\" height=\"55\" style=\"fill:#a0da39;stroke-width:2;stroke:rgb(255,255,255)\"/></svg>"
            ],
            "text/plain": [
              "[(0.275191, 0.194905, 0.496005),\n",
              " (0.212395, 0.359683, 0.55171),\n",
              " (0.153364, 0.497, 0.557724),\n",
              " (0.122312, 0.633153, 0.530398),\n",
              " (0.288921, 0.758394, 0.428426),\n",
              " (0.626579, 0.854645, 0.223353)]"
            ]
          },
          "metadata": {
            "tags": []
          },
          "execution_count": 4
        }
      ]
    },
    {
      "cell_type": "code",
      "metadata": {
        "id": "gzAzL6GUnZp8"
      },
      "source": [
        "sns.set_style('whitegrid')"
      ],
      "execution_count": null,
      "outputs": []
    },
    {
      "cell_type": "code",
      "metadata": {
        "id": "uqXzbj7-VjD1"
      },
      "source": [
        "plt.figure(figsize=(10,10))\n",
        "p=sns.light_palette(color='blue',n_colors=16,reverse=True)\n",
        "sns.countplot(y='release_year',data=show,palette=p,order=show['release_year'].value_counts().index[:15])\n",
        "plt.ylabel(\"Year of Release\")"
      ],
      "execution_count": null,
      "outputs": []
    },
    {
      "cell_type": "code",
      "metadata": {
        "id": "09jM_4VZVrcM"
      },
      "source": [
        "plt.figure(figsize=(10,10))\n",
        "p=sns.light_palette(color='red',n_colors=16,reverse=True)\n",
        "sns.countplot(y='Added_Year',data=show,palette=p,order=show['Added_Year'].value_counts().index[:15])\n",
        "plt.ylabel('Year of Addition on Netflix')"
      ],
      "execution_count": null,
      "outputs": []
    },
    {
      "cell_type": "code",
      "metadata": {
        "id": "69M1FAtBgCUn"
      },
      "source": [
        "pl.figure(figsize=(12,10))\n",
        "sns.countplot(x = \"rating\", data=dt_movies, palette=\"Set1\", order=dt['rating'].value_counts().index[:15])"
      ],
      "execution_count": null,
      "outputs": []
    },
    {
      "cell_type": "markdown",
      "metadata": {
        "id": "UXOVPquFxyeB"
      },
      "source": [
        "--------------------"
      ]
    },
    {
      "cell_type": "code",
      "metadata": {
        "id": "o9O5rspjuU76"
      },
      "source": [
        "import plotly.express as px\n",
        "import matplotlib.pyplot as plt\n",
        "import seaborn as sns"
      ],
      "execution_count": 7,
      "outputs": []
    },
    {
      "cell_type": "code",
      "metadata": {
        "id": "UVeFIFtKt4hC"
      },
      "source": [
        "# Defining all our palette colours.\n",
        "primary_blue = \"#496595\"\n",
        "primary_blue2 = \"#85a1c1\"\n",
        "primary_blue3 = \"#3f4d63\"\n",
        "primary_grey = \"#c6ccd8\"\n",
        "primary_black = \"#202022\"\n",
        "primary_bgcolor = \"#f4f0ea\"\n",
        "\n",
        "primary_green = px.colors.qualitative.Plotly[2]\n",
        "\n",
        "plt.rcParams['axes.facecolor'] = primary_bgcolor"
      ],
      "execution_count": 5,
      "outputs": []
    },
    {
      "cell_type": "code",
      "metadata": {
        "colab": {
          "base_uri": "https://localhost:8080/",
          "height": 89
        },
        "id": "uqcHhakLt4XQ",
        "outputId": "1230f89a-d23c-4497-c983-3933a7b5f97c"
      },
      "source": [
        "colors = [primary_blue, primary_blue2, primary_blue3, primary_grey, primary_black, primary_bgcolor, primary_green]\n",
        "sns.palplot(sns.color_palette(colors))"
      ],
      "execution_count": 8,
      "outputs": [
        {
          "output_type": "display_data",
          "data": {
            "image/png": "[encoded data removed]",
            "text/plain": [
              "<Figure size 504x72 with 1 Axes>"
            ]
          },
          "metadata": {
            "tags": [],
            "needs_background": "light"
          }
        }
      ]
    },
    {
      "cell_type": "code",
      "metadata": {
        "id": "s66mwK43t4M4"
      },
      "source": [
        ""
      ],
      "execution_count": null,
      "outputs": []
    },
    {
      "cell_type": "code",
      "metadata": {
        "id": "XDwFI86Zt4AS"
      },
      "source": [
        ""
      ],
      "execution_count": null,
      "outputs": []
    },
    {
      "cell_type": "markdown",
      "metadata": {
        "id": "LS96E092VfCr"
      },
      "source": [
        "## Matplotlib"
      ]
    },
    {
      "cell_type": "code",
      "metadata": {
        "id": "TG0lfxxrn2U3"
      },
      "source": [
        "import matplotlib.pyplot as plt\n",
        "import matplotlib.patches as mpatches\n",
        "import matplotlib.gridspec as gridspec "
      ],
      "execution_count": null,
      "outputs": []
    },
    {
      "cell_type": "code",
      "metadata": {
        "id": "rcbzcHV6lKAA"
      },
      "source": [
        "plt.figure(figsize=(8,6))\n",
        "sns.countplot(x='type', data=US)\n",
        "\n",
        "# Get current axis on current figure\n",
        "ax = plt.gca()\n",
        "\n",
        "# ylim max value to be set\n",
        "y_max = US['type'].value_counts().max() \n",
        "ax.set_ylim([0, 2000])\n",
        "\n",
        "# Iterate through the list of axes' patches\n",
        "for p in ax.patches:\n",
        "    ax.text(p.get_x() + p.get_width()/2., p.get_height(), '%d' % int(p.get_height()), \n",
        "            fontsize=12, color='black', ha='center', va='bottom')\n",
        "\n",
        "\n",
        "plt.title('Comparison of Total TV Shows & Movies',size='15')\n",
        "plt.show()"
      ],
      "execution_count": null,
      "outputs": []
    },
    {
      "cell_type": "markdown",
      "metadata": {
        "id": "DwVs51P7Xwqw"
      },
      "source": [
        "--------"
      ]
    },
    {
      "cell_type": "code",
      "metadata": {
        "id": "O06nucg1uM4i"
      },
      "source": [
        "plt.rcParams['figure.dpi'] = 120\n",
        "plt.rcParams['axes.spines.top'] = False\n",
        "plt.rcParams['axes.spines.right'] = False\n",
        "plt.rcParams['font.family'] = 'serif'"
      ],
      "execution_count": null,
      "outputs": []
    },
    {
      "cell_type": "markdown",
      "metadata": {
        "id": "pAvTa918uOG4"
      },
      "source": [
        "----------------"
      ]
    },
    {
      "cell_type": "markdown",
      "metadata": {
        "id": "fiVmaWQlxzkh"
      },
      "source": [
        "✔️ When to use Accuracy? (Important!)\n",
        "\n",
        "Accuracy is good measure when the target variable class in the data are nearly balanced. example Survived(60%-yes, 40% no)"
      ]
    },
    {
      "cell_type": "markdown",
      "metadata": {
        "id": "ej-ks5bWhAp5"
      },
      "source": [
        "---------------"
      ]
    },
    {
      "cell_type": "markdown",
      "metadata": {
        "id": "M8l5uGBHhDKB"
      },
      "source": [
        "- After adding a feature in feature space, whether that feature is **important or unimportant** features the **R-squared** always **increase.**\n",
        "\n",
        "-  If you add more and more **useless variables** to a model, **adjusted r-squared** will **decrease.**\n",
        "\n",
        "- If you add more **useful variables**, **adjusted r-squared** will **increase.**\n",
        "\n",
        "- The adjusted R-squared can be negative, but it's usually not. **Adjusted R2 will always be less than or equal to R2.**"
      ]
    },
    {
      "cell_type": "markdown",
      "metadata": {
        "id": "jjXcZUr1mPaN"
      },
      "source": [
        "---------"
      ]
    },
    {
      "cell_type": "markdown",
      "metadata": {
        "id": "N-rH78wAmPOF"
      },
      "source": [
        "----> Hyperparameter:\n",
        "\n",
        " 1. Naive Bayes has no hyper-parameters\n"
      ]
    },
    {
      "cell_type": "markdown",
      "metadata": {
        "id": "SpeMub4YmR5v"
      },
      "source": [
        "----------------"
      ]
    },
    {
      "cell_type": "markdown",
      "metadata": {
        "id": "wWedqJGSNSaY"
      },
      "source": [
        "- **KNN** can be used in both **Regression & Classification**"
      ]
    },
    {
      "cell_type": "markdown",
      "metadata": {
        "id": "SIfyuPAANe33"
      },
      "source": [
        "---------"
      ]
    },
    {
      "cell_type": "code",
      "metadata": {
        "id": "-GCwwgo5hFkG"
      },
      "source": [
        "#date_added is broken down into month,year and day and then dropped along with show_id\n",
        "show['Added_Year']=show['date_added'].apply(lambda x: x.split(', ')[-1])\n",
        "show['Added_Month']=show['date_added'].apply(lambda x: x.split(' ')[0])\n",
        "show['Added_Day']=show['date_added'].apply(lambda x:x.lstrip().split(' ')[1])\n",
        "show['Added_Day']=show['Added_Day'].apply(lambda x:x.split(',')[0])"
      ],
      "execution_count": null,
      "outputs": []
    },
    {
      "cell_type": "code",
      "metadata": {
        "id": "-yqpHlC0Y-EX"
      },
      "source": [
        "# 93 min (refer Netflix Kaggle)\n",
        "#removing 'min' from each values of duration column\n",
        "movies['duration']=movies['duration'].str.replace(' min',' ').astype(int)"
      ],
      "execution_count": null,
      "outputs": []
    },
    {
      "cell_type": "code",
      "metadata": {
        "id": "TII7CXlEaEV6"
      },
      "source": [
        "import re\n",
        "dt['duration'] = dt['duration'].map(lambda x : re.sub('[^0-9]','',x))\n",
        "dt['duration'] = pd.to_numeric(dt['duration'])"
      ],
      "execution_count": null,
      "outputs": []
    },
    {
      "cell_type": "code",
      "metadata": {
        "id": "37fB7QZ7f7Gw"
      },
      "source": [
        "dt_shows_country = pd.DataFrame({'country':dt_shows['country'].value_counts()})\n",
        "dt_shows_country[:11]"
      ],
      "execution_count": null,
      "outputs": []
    },
    {
      "cell_type": "markdown",
      "metadata": {
        "id": "NVOYxCjITkSH"
      },
      "source": [
        "------------"
      ]
    },
    {
      "cell_type": "markdown",
      "metadata": {
        "id": "N0mhI0J4Tt54"
      },
      "source": [
        "## Missing Values"
      ]
    },
    {
      "cell_type": "code",
      "metadata": {
        "id": "dHuKMDtDTsyd"
      },
      "source": [
        "show.isnull().sum()/len(show)*100.0"
      ],
      "execution_count": null,
      "outputs": []
    },
    {
      "cell_type": "code",
      "metadata": {
        "id": "D9W7cNfxT3SX"
      },
      "source": [
        "#replacing the missing values which are greater in number with unknown and dropping the less number of values\n",
        "show['director']=show['director'].fillna('Unknown')\n",
        "show=show.dropna()"
      ],
      "execution_count": null,
      "outputs": []
    },
    {
      "cell_type": "markdown",
      "metadata": {
        "id": "LxshdhNNTx3H"
      },
      "source": [
        "---------------"
      ]
    },
    {
      "cell_type": "markdown",
      "metadata": {
        "id": "5DKC6qgwwAuU"
      },
      "source": [
        "Ref: https://www.kaggle.com/subinium/tps-apr-highlighting-the-data"
      ]
    },
    {
      "cell_type": "code",
      "metadata": {
        "id": "Q-ElgZDBv4Nl"
      },
      "source": [
        "nan_data = (train_df.isna().sum().sort_values(ascending=False) / len(train_df) * 100)[:6]\n",
        "fig, ax = plt.subplots(1,1,figsize=(7, 5))\n",
        "\n",
        "ax.bar(nan_data.index, 100, color=primary_grey, width=0.6)\n",
        "\n",
        "bar = ax.bar(\n",
        "    nan_data.index, \n",
        "    nan_data, \n",
        "    color=primary_blue, \n",
        "    width=0.6\n",
        ")\n",
        "ax.bar_label(bar, fmt='%.01f %%')\n",
        "ax.spines.left.set_visible(False)\n",
        "ax.set_yticks([])\n",
        "ax.set_title('Null Data Ratio', fontweight='bold')\n",
        "\n",
        "plt.show()"
      ],
      "execution_count": null,
      "outputs": []
    },
    {
      "cell_type": "markdown",
      "metadata": {
        "id": "_egNwy_kv5cT"
      },
      "source": [
        "--------------"
      ]
    },
    {
      "cell_type": "markdown",
      "metadata": {
        "id": "jV9C-3VzUOrR"
      },
      "source": [
        "## Data Type"
      ]
    },
    {
      "cell_type": "code",
      "metadata": {
        "id": "HeAuTc2LUPPJ"
      },
      "source": [
        "# 10  Added_Year    6643 non-null   object\n",
        "show['Added_Year']=show['Added_Year'].astype(int)"
      ],
      "execution_count": null,
      "outputs": []
    },
    {
      "cell_type": "markdown",
      "metadata": {
        "id": "hrdsz9OrUcBx"
      },
      "source": [
        "-----------"
      ]
    },
    {
      "cell_type": "markdown",
      "metadata": {
        "id": "aLuEaJanFGGY"
      },
      "source": [
        "## Normalisation"
      ]
    },
    {
      "cell_type": "markdown",
      "metadata": {
        "id": "Wx-Dc9QvFLJv"
      },
      "source": [
        "### Why do we do column normalization?\n",
        "\n",
        "- In real-world data is collected in various formats. For example; height can be in centimeters or meters and weight can be in kgs and pounds. So to avoid this confusion that particular represents what can be done using column normalization\n",
        "\n",
        "  - data is converted to scale independent form.\n",
        "\n",
        "  - to make matrix scale-independent"
      ]
    },
    {
      "cell_type": "markdown",
      "metadata": {
        "id": "G1ygssLzu4pY"
      },
      "source": [
        "-----------------"
      ]
    },
    {
      "cell_type": "markdown",
      "metadata": {
        "id": "GRzj0ArTu9M3"
      },
      "source": [
        "## Combine the small categories into a single category named \"Other\""
      ]
    },
    {
      "cell_type": "code",
      "metadata": {
        "id": "UtexbeaZFKu1",
        "colab": {
          "base_uri": "https://localhost:8080/",
          "height": 390
        },
        "outputId": "073e44d9-0d44-4765-dd02-003bbeb7a6d7"
      },
      "source": [
        "import pandas as pd\n",
        "d = {\"class\": [\"A\", \"A\", \"A\", \"A\", \"A\", \"B\", \"B\", \"C\", \"D\", \"E\", \"F\"]}\n",
        "df = pd.DataFrame(d)\n",
        "df"
      ],
      "execution_count": null,
      "outputs": [
        {
          "output_type": "execute_result",
          "data": {
            "text/html": [
              "<div>\n",
              "<style scoped>\n",
              "    .dataframe tbody tr th:only-of-type {\n",
              "        vertical-align: middle;\n",
              "    }\n",
              "\n",
              "    .dataframe tbody tr th {\n",
              "        vertical-align: top;\n",
              "    }\n",
              "\n",
              "    .dataframe thead th {\n",
              "        text-align: right;\n",
              "    }\n",
              "</style>\n",
              "<table border=\"1\" class=\"dataframe\">\n",
              "  <thead>\n",
              "    <tr style=\"text-align: right;\">\n",
              "      <th></th>\n",
              "      <th>class</th>\n",
              "    </tr>\n",
              "  </thead>\n",
              "  <tbody>\n",
              "    <tr>\n",
              "      <th>0</th>\n",
              "      <td>A</td>\n",
              "    </tr>\n",
              "    <tr>\n",
              "      <th>1</th>\n",
              "      <td>A</td>\n",
              "    </tr>\n",
              "    <tr>\n",
              "      <th>2</th>\n",
              "      <td>A</td>\n",
              "    </tr>\n",
              "    <tr>\n",
              "      <th>3</th>\n",
              "      <td>A</td>\n",
              "    </tr>\n",
              "    <tr>\n",
              "      <th>4</th>\n",
              "      <td>A</td>\n",
              "    </tr>\n",
              "    <tr>\n",
              "      <th>5</th>\n",
              "      <td>B</td>\n",
              "    </tr>\n",
              "    <tr>\n",
              "      <th>6</th>\n",
              "      <td>B</td>\n",
              "    </tr>\n",
              "    <tr>\n",
              "      <th>7</th>\n",
              "      <td>C</td>\n",
              "    </tr>\n",
              "    <tr>\n",
              "      <th>8</th>\n",
              "      <td>D</td>\n",
              "    </tr>\n",
              "    <tr>\n",
              "      <th>9</th>\n",
              "      <td>E</td>\n",
              "    </tr>\n",
              "    <tr>\n",
              "      <th>10</th>\n",
              "      <td>F</td>\n",
              "    </tr>\n",
              "  </tbody>\n",
              "</table>\n",
              "</div>"
            ],
            "text/plain": [
              "   class\n",
              "0      A\n",
              "1      A\n",
              "2      A\n",
              "3      A\n",
              "4      A\n",
              "5      B\n",
              "6      B\n",
              "7      C\n",
              "8      D\n",
              "9      E\n",
              "10     F"
            ]
          },
          "metadata": {
            "tags": []
          },
          "execution_count": 2
        }
      ]
    },
    {
      "cell_type": "code",
      "metadata": {
        "colab": {
          "base_uri": "https://localhost:8080/"
        },
        "id": "PkvBKePdv2yw",
        "outputId": "e52c8a1e-26e3-4a9c-d6bb-f0760679d148"
      },
      "source": [
        "df[\"class\"].value_counts()"
      ],
      "execution_count": null,
      "outputs": [
        {
          "output_type": "execute_result",
          "data": {
            "text/plain": [
              "A    5\n",
              "B    2\n",
              "C    1\n",
              "F    1\n",
              "E    1\n",
              "D    1\n",
              "Name: class, dtype: int64"
            ]
          },
          "metadata": {
            "tags": []
          },
          "execution_count": 5
        }
      ]
    },
    {
      "cell_type": "code",
      "metadata": {
        "colab": {
          "base_uri": "https://localhost:8080/"
        },
        "id": "RWfxAiukvsp8",
        "outputId": "a8bd196c-1251-41ad-90cf-d1811b2ec8d2"
      },
      "source": [
        "# Step 1: count the frequencies\n",
        "frequencies = df[\"class\"].value_counts(normalize = True)\n",
        "print(frequencies)"
      ],
      "execution_count": null,
      "outputs": [
        {
          "output_type": "stream",
          "text": [
            "A    0.454545\n",
            "B    0.181818\n",
            "C    0.090909\n",
            "F    0.090909\n",
            "E    0.090909\n",
            "D    0.090909\n",
            "Name: class, dtype: float64\n"
          ],
          "name": "stdout"
        }
      ]
    },
    {
      "cell_type": "code",
      "metadata": {
        "colab": {
          "base_uri": "https://localhost:8080/"
        },
        "id": "cEVYwrC8vstU",
        "outputId": "6f6157e2-50f8-4152-8899-6b3f07a27a60"
      },
      "source": [
        "# Step 2: establish your threshold and filter the smaller categories\n",
        "threshold = 0.1\n",
        "small_categories = frequencies[frequencies < threshold].index\n",
        "print(small_categories)"
      ],
      "execution_count": null,
      "outputs": [
        {
          "output_type": "stream",
          "text": [
            "Index(['C', 'F', 'E', 'D'], dtype='object')\n"
          ],
          "name": "stdout"
        }
      ]
    },
    {
      "cell_type": "code",
      "metadata": {
        "colab": {
          "base_uri": "https://localhost:8080/"
        },
        "id": "8jntIVajvsxV",
        "outputId": "2dd9aef9-ffca-42a7-cd13-6b747fbfbd2f"
      },
      "source": [
        "# Step 3: replace the values\n",
        "df[\"class\"] = df[\"class\"].replace(small_categories, \"Other\")\n",
        "df[\"class\"].value_counts(normalize = True)"
      ],
      "execution_count": null,
      "outputs": [
        {
          "output_type": "execute_result",
          "data": {
            "text/plain": [
              "A        0.454545\n",
              "Other    0.363636\n",
              "B        0.181818\n",
              "Name: class, dtype: float64"
            ]
          },
          "metadata": {
            "tags": []
          },
          "execution_count": 7
        }
      ]
    },
    {
      "cell_type": "markdown",
      "metadata": {
        "id": "o0Baf12Pwb7k"
      },
      "source": [
        "---------------"
      ]
    },
    {
      "cell_type": "markdown",
      "metadata": {
        "id": "-_73XlaK86oD"
      },
      "source": [
        "<h1 style=color:blue align=\"left\"> Correlation </h1>"
      ]
    },
    {
      "cell_type": "markdown",
      "metadata": {
        "id": "XHbVNZVp9yEc"
      },
      "source": [
        "- About the correlation, we are going to check 2 points of view:\n",
        "\n",
        " - The correlation between the continuos variables\n",
        " - The correlation between this continuos features and the target\n",
        "\n",
        "- As we can see, the variables are not high correlation and also, no high correlation with the class, so we are not going to delete any variable.\n",
        "\n",
        "- https://www.kaggle.com/andreshg/tps-apr-data-visualization-and-automl"
      ]
    },
    {
      "cell_type": "markdown",
      "metadata": {
        "id": "NMa3XxTL-YGm"
      },
      "source": [
        "### i) The correlation between the continuos variables\n",
        " - a. Correlation\n",
        " - b. Pearson Correlation\n",
        " - c. Spearman Correlation"
      ]
    },
    {
      "cell_type": "code",
      "metadata": {
        "id": "R_qjaDBI-Ze5"
      },
      "source": [
        "plt.figure(figsize=(10,8))\n",
        "sns.heatmap(train.corr(), annot=True, cbar=False, fmt='.1g', linewidth=0.1);"
      ],
      "execution_count": null,
      "outputs": []
    },
    {
      "cell_type": "code",
      "metadata": {
        "id": "5dO83lOM-kLj"
      },
      "source": [
        "plt.figure(figsize=(10,8))\n",
        "sns.heatmap(train.corr(method='pearson'), cbar=False, annot=True, fmt='.1', linewidth=0.2);"
      ],
      "execution_count": null,
      "outputs": []
    },
    {
      "cell_type": "code",
      "metadata": {
        "id": "4BpCEZWG-m9U"
      },
      "source": [
        "plt.figure(figsize=(10,8))\n",
        "sns.heatmap(train.corr(method='spearman'), cbar=False, annot=True, fmt='.1', linewidth=0.2);"
      ],
      "execution_count": null,
      "outputs": []
    },
    {
      "cell_type": "markdown",
      "metadata": {
        "id": "UrXN-cIZ9aPq"
      },
      "source": [
        "<h3 style=color:blue align=\"left\"> ii)The correlation between the continuos variables </h3>"
      ]
    },
    {
      "cell_type": "code",
      "metadata": {
        "id": "lOOH2MRr87IS"
      },
      "source": [
        "corr = train_df[pure_num_cols].corr().abs()\n",
        "mask = np.triu(np.ones_like(corr, dtype=np.bool))\n",
        "\n",
        "fig, ax = plt.subplots(figsize=(12, 12), facecolor=primary_bgcolor)\n",
        "ax.text(-1.1, 0.16, 'Correlation between the Continuous Features', fontsize=20, fontweight='bold', fontfamily='serif')\n",
        "ax.text(-1.1, 0.3, 'There is no features that pass 0.4 correlation within each other', fontsize=13, fontweight='light', fontfamily='serif')\n",
        "\n",
        "\n",
        "# plot heatmap\n",
        "sns.heatmap(corr, mask=mask, annot=True, fmt=\".2f\", cmap='coolwarm',\n",
        "            cbar_kws={\"shrink\": .8}, vmin=0, vmax=1)\n",
        "# yticks\n",
        "plt.yticks(rotation=0)\n",
        "plt.show()"
      ],
      "execution_count": null,
      "outputs": []
    },
    {
      "cell_type": "markdown",
      "metadata": {
        "id": "XHlYFW_I9PUK"
      },
      "source": [
        "<h3 style=color:blue align=\"left\"> iii) The correlation between this continuos features and the target </h3>"
      ]
    },
    {
      "cell_type": "code",
      "metadata": {
        "id": "ynVn7gbp-tWU"
      },
      "source": [
        "train.corr()['Survived']"
      ],
      "execution_count": null,
      "outputs": []
    },
    {
      "cell_type": "code",
      "metadata": {
        "id": "P8Ubba6m9PlK"
      },
      "source": [
        "fig = plt.figure(figsize=(12, 8), facecolor=primary_bgcolor)\n",
        "gs = fig.add_gridspec(1, 1)\n",
        "ax0 = fig.add_subplot(gs[0, 0])\n",
        "\n",
        "ax0.set_facecolor(primary_bgcolor)\n",
        "ax0.text(-1.1, 0.26, 'Correlation of Continuous Features with Target', fontsize=20, fontweight='bold', fontfamily='serif')\n",
        "ax0.text(-1.1, 0.24, 'There is no features that pass 0.3 correlation with target', fontsize=13, fontweight='light', fontfamily='serif')\n",
        "\n",
        "chart_df = pd.DataFrame(train_df[pure_num_cols].corrwith(train_df[target_column]))\n",
        "chart_df.columns = ['corr']\n",
        "sns.barplot(x=chart_df.index, y=chart_df['corr'], ax=ax0, color=primary_blue, zorder=3, edgecolor='black', linewidth=1.5)\n",
        "ax0.grid(which='major', axis='y', zorder=0, color='gray', linestyle=':', dashes=(1,5))\n",
        "ax0.set_ylabel('')\n",
        "\n",
        "for s in [\"top\",\"right\", 'left']:\n",
        "    ax0.spines[s].set_visible(False)\n",
        "\n",
        "plt.show()"
      ],
      "execution_count": null,
      "outputs": []
    },
    {
      "cell_type": "markdown",
      "metadata": {
        "id": "1giG43ne_DeT"
      },
      "source": [
        "-----------------------"
      ]
    }
  ]
}