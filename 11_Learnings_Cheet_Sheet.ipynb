{
  "nbformat": 4,
  "nbformat_minor": 0,
  "metadata": {
    "colab": {
      "name": "11_Learnings_Cheet_Sheet.ipynb",
      "provenance": [],
      "authorship_tag": "ABX9TyMr3rCmVL5a69ZjD75G3W20",
      "include_colab_link": true
    },
    "kernelspec": {
      "name": "python3",
      "display_name": "Python 3"
    }
  },
  "cells": [
    {
      "cell_type": "markdown",
      "metadata": {
        "id": "view-in-github",
        "colab_type": "text"
      },
      "source": [
        "<a href=\"https://colab.research.google.com/github/sureshmecad/Google-Colab/blob/master/11_Learnings_Cheet_Sheet.ipynb\" target=\"_parent\"><img src=\"https://colab.research.google.com/assets/colab-badge.svg\" alt=\"Open In Colab\"/></a>"
      ]
    },
    {
      "cell_type": "markdown",
      "metadata": {
        "id": "90VYDItFALe5"
      },
      "source": [
        "- By default, Pandas displays only first 10 and last 10 features\r\n",
        "\r\n",
        "- Since our dataset has 81 features, we need to see all the 81 features to perform EDA. This can be done using pd.set_option"
      ]
    },
    {
      "cell_type": "code",
      "metadata": {
        "id": "BMAgWI_QGLdl"
      },
      "source": [
        "pd.set_option('display.max_rows', 500)\r\n",
        "pd.set_option('display.max_columns', 500)\r\n",
        "pd.set_option('display.width', 1000)"
      ],
      "execution_count": null,
      "outputs": []
    },
    {
      "cell_type": "markdown",
      "metadata": {
        "id": "vYwY3kcOYBmJ"
      },
      "source": [
        "-----------------"
      ]
    },
    {
      "cell_type": "code",
      "metadata": {
        "id": "uH8Kg42b8FZ5"
      },
      "source": [
        "blue = sns.color_palette('viridis')[1]\r\n",
        "green = sns.color_palette('viridis')[4]\r\n",
        "plt.rcParams['figure.figsize'] = (15,4)\r\n",
        "plt.rcParams['figure.dpi'] = 200\r\n",
        "plt.style.use('fivethirtyeight')"
      ],
      "execution_count": null,
      "outputs": []
    },
    {
      "cell_type": "code",
      "metadata": {
        "id": "kkiq2YkL__Rv"
      },
      "source": [
        "# Skip Warnings\r\n",
        "import warnings\r\n",
        "warnings.filterwarnings('ignore')\r\n",
        "warnings.filterwarnings(action = 'ignore', category = DeprecationWarning)\r\n",
        "warnings.filterwarnings(action = 'ignore', category = FutureWarning)\r\n",
        "\r\n",
        "warnings.simplefilter(action='ignore')"
      ],
      "execution_count": null,
      "outputs": []
    },
    {
      "cell_type": "markdown",
      "metadata": {
        "id": "G88PZv6wna9g"
      },
      "source": [
        "----------------------"
      ]
    },
    {
      "cell_type": "markdown",
      "metadata": {
        "id": "5hN-YHG1VwIe"
      },
      "source": [
        "## Seaborn"
      ]
    },
    {
      "cell_type": "code",
      "metadata": {
        "colab": {
          "base_uri": "https://localhost:8080/",
          "height": 76
        },
        "id": "g6nuuSJ_74nO",
        "outputId": "afbfdb52-bb75-480e-cb72-0a0ae19647fc"
      },
      "source": [
        "import matplotlib.pyplot as plt\r\n",
        "import seaborn as sns\r\n",
        "sns.color_palette('viridis')"
      ],
      "execution_count": null,
      "outputs": [
        {
          "output_type": "execute_result",
          "data": {
            "text/html": [
              "<svg  width=\"330\" height=\"55\"><rect x=\"0\" y=\"0\" width=\"55\" height=\"55\" style=\"fill:#46327e;stroke-width:2;stroke:rgb(255,255,255)\"/><rect x=\"55\" y=\"0\" width=\"55\" height=\"55\" style=\"fill:#365c8d;stroke-width:2;stroke:rgb(255,255,255)\"/><rect x=\"110\" y=\"0\" width=\"55\" height=\"55\" style=\"fill:#277f8e;stroke-width:2;stroke:rgb(255,255,255)\"/><rect x=\"165\" y=\"0\" width=\"55\" height=\"55\" style=\"fill:#1fa187;stroke-width:2;stroke:rgb(255,255,255)\"/><rect x=\"220\" y=\"0\" width=\"55\" height=\"55\" style=\"fill:#4ac16d;stroke-width:2;stroke:rgb(255,255,255)\"/><rect x=\"275\" y=\"0\" width=\"55\" height=\"55\" style=\"fill:#a0da39;stroke-width:2;stroke:rgb(255,255,255)\"/></svg>"
            ],
            "text/plain": [
              "[(0.275191, 0.194905, 0.496005),\n",
              " (0.212395, 0.359683, 0.55171),\n",
              " (0.153364, 0.497, 0.557724),\n",
              " (0.122312, 0.633153, 0.530398),\n",
              " (0.288921, 0.758394, 0.428426),\n",
              " (0.626579, 0.854645, 0.223353)]"
            ]
          },
          "metadata": {
            "tags": []
          },
          "execution_count": 4
        }
      ]
    },
    {
      "cell_type": "code",
      "metadata": {
        "id": "gzAzL6GUnZp8"
      },
      "source": [
        "sns.set_style('whitegrid')"
      ],
      "execution_count": null,
      "outputs": []
    },
    {
      "cell_type": "code",
      "metadata": {
        "id": "uqXzbj7-VjD1"
      },
      "source": [
        "plt.figure(figsize=(10,10))\r\n",
        "p=sns.light_palette(color='blue',n_colors=16,reverse=True)\r\n",
        "sns.countplot(y='release_year',data=show,palette=p,order=show['release_year'].value_counts().index[:15])\r\n",
        "plt.ylabel(\"Year of Release\")"
      ],
      "execution_count": null,
      "outputs": []
    },
    {
      "cell_type": "code",
      "metadata": {
        "id": "09jM_4VZVrcM"
      },
      "source": [
        "plt.figure(figsize=(10,10))\r\n",
        "p=sns.light_palette(color='red',n_colors=16,reverse=True)\r\n",
        "sns.countplot(y='Added_Year',data=show,palette=p,order=show['Added_Year'].value_counts().index[:15])\r\n",
        "plt.ylabel('Year of Addition on Netflix')"
      ],
      "execution_count": null,
      "outputs": []
    },
    {
      "cell_type": "code",
      "metadata": {
        "id": "69M1FAtBgCUn"
      },
      "source": [
        "pl.figure(figsize=(12,10))\r\n",
        "sns.countplot(x = \"rating\", data=dt_movies, palette=\"Set1\", order=dt['rating'].value_counts().index[:15])"
      ],
      "execution_count": null,
      "outputs": []
    },
    {
      "cell_type": "markdown",
      "metadata": {
        "id": "UXOVPquFxyeB"
      },
      "source": [
        "--------------------"
      ]
    },
    {
      "cell_type": "markdown",
      "metadata": {
        "id": "LS96E092VfCr"
      },
      "source": [
        "## Matplotlib"
      ]
    },
    {
      "cell_type": "code",
      "metadata": {
        "id": "TG0lfxxrn2U3"
      },
      "source": [
        "import matplotlib.pyplot as plt\r\n",
        "import matplotlib.patches as mpatches\r\n",
        "import matplotlib.gridspec as gridspec "
      ],
      "execution_count": null,
      "outputs": []
    },
    {
      "cell_type": "code",
      "metadata": {
        "id": "rcbzcHV6lKAA"
      },
      "source": [
        "plt.figure(figsize=(8,6))\r\n",
        "sns.countplot(x='type', data=US)\r\n",
        "\r\n",
        "# Get current axis on current figure\r\n",
        "ax = plt.gca()\r\n",
        "\r\n",
        "# ylim max value to be set\r\n",
        "y_max = US['type'].value_counts().max() \r\n",
        "ax.set_ylim([0, 2000])\r\n",
        "\r\n",
        "# Iterate through the list of axes' patches\r\n",
        "for p in ax.patches:\r\n",
        "    ax.text(p.get_x() + p.get_width()/2., p.get_height(), '%d' % int(p.get_height()), \r\n",
        "            fontsize=12, color='black', ha='center', va='bottom')\r\n",
        "\r\n",
        "\r\n",
        "plt.title('Comparison of Total TV Shows & Movies',size='15')\r\n",
        "plt.show()"
      ],
      "execution_count": null,
      "outputs": []
    },
    {
      "cell_type": "markdown",
      "metadata": {
        "id": "DwVs51P7Xwqw"
      },
      "source": [
        "--------"
      ]
    },
    {
      "cell_type": "markdown",
      "metadata": {
        "id": "fiVmaWQlxzkh"
      },
      "source": [
        "✔️ When to use Accuracy? (Important!)\r\n",
        "\r\n",
        "Accuracy is good measure when the target variable class in the data are nearly balanced. example Survived(60%-yes, 40% no)"
      ]
    },
    {
      "cell_type": "markdown",
      "metadata": {
        "id": "ej-ks5bWhAp5"
      },
      "source": [
        "---------------"
      ]
    },
    {
      "cell_type": "markdown",
      "metadata": {
        "id": "M8l5uGBHhDKB"
      },
      "source": [
        "- After adding a feature in feature space, whether that feature is **important or unimportant** features the **R-squared** always **increase.**\r\n",
        "\r\n",
        "-  If you add more and more **useless variables** to a model, **adjusted r-squared** will **decrease.**\r\n",
        "\r\n",
        "- If you add more **useful variables**, **adjusted r-squared** will **increase.**\r\n",
        "\r\n",
        "- The adjusted R-squared can be negative, but it's usually not. **Adjusted R2 will always be less than or equal to R2.**"
      ]
    },
    {
      "cell_type": "markdown",
      "metadata": {
        "id": "jjXcZUr1mPaN"
      },
      "source": [
        "---------"
      ]
    },
    {
      "cell_type": "markdown",
      "metadata": {
        "id": "N-rH78wAmPOF"
      },
      "source": [
        "----> Hyperparameter:\r\n",
        "\r\n",
        " 1. Naive Bayes has no hyper-parameters\r\n"
      ]
    },
    {
      "cell_type": "markdown",
      "metadata": {
        "id": "SpeMub4YmR5v"
      },
      "source": [
        "----------------"
      ]
    },
    {
      "cell_type": "markdown",
      "metadata": {
        "id": "wWedqJGSNSaY"
      },
      "source": [
        "- **KNN** can be used in both **Regression & Classification**"
      ]
    },
    {
      "cell_type": "markdown",
      "metadata": {
        "id": "SIfyuPAANe33"
      },
      "source": [
        "---------"
      ]
    },
    {
      "cell_type": "code",
      "metadata": {
        "id": "-GCwwgo5hFkG"
      },
      "source": [
        "#date_added is broken down into month,year and day and then dropped along with show_id\r\n",
        "show['Added_Year']=show['date_added'].apply(lambda x: x.split(', ')[-1])\r\n",
        "show['Added_Month']=show['date_added'].apply(lambda x: x.split(' ')[0])\r\n",
        "show['Added_Day']=show['date_added'].apply(lambda x:x.lstrip().split(' ')[1])\r\n",
        "show['Added_Day']=show['Added_Day'].apply(lambda x:x.split(',')[0])"
      ],
      "execution_count": null,
      "outputs": []
    },
    {
      "cell_type": "code",
      "metadata": {
        "id": "-yqpHlC0Y-EX"
      },
      "source": [
        "# 93 min (refer Netflix Kaggle)\r\n",
        "#removing 'min' from each values of duration column\r\n",
        "movies['duration']=movies['duration'].str.replace(' min',' ').astype(int)"
      ],
      "execution_count": null,
      "outputs": []
    },
    {
      "cell_type": "code",
      "metadata": {
        "id": "TII7CXlEaEV6"
      },
      "source": [
        "import re\r\n",
        "dt['duration'] = dt['duration'].map(lambda x : re.sub('[^0-9]','',x))\r\n",
        "dt['duration'] = pd.to_numeric(dt['duration'])"
      ],
      "execution_count": null,
      "outputs": []
    },
    {
      "cell_type": "code",
      "metadata": {
        "id": "37fB7QZ7f7Gw"
      },
      "source": [
        "dt_shows_country = pd.DataFrame({'country':dt_shows['country'].value_counts()})\r\n",
        "dt_shows_country[:11]"
      ],
      "execution_count": null,
      "outputs": []
    },
    {
      "cell_type": "markdown",
      "metadata": {
        "id": "NVOYxCjITkSH"
      },
      "source": [
        "------------"
      ]
    },
    {
      "cell_type": "markdown",
      "metadata": {
        "id": "N0mhI0J4Tt54"
      },
      "source": [
        "## Missing Values"
      ]
    },
    {
      "cell_type": "code",
      "metadata": {
        "id": "dHuKMDtDTsyd"
      },
      "source": [
        "show.isnull().sum()/len(show)*100.0"
      ],
      "execution_count": null,
      "outputs": []
    },
    {
      "cell_type": "code",
      "metadata": {
        "id": "D9W7cNfxT3SX"
      },
      "source": [
        "#replacing the missing values which are greater in number with unknown and dropping the less number of values\r\n",
        "show['director']=show['director'].fillna('Unknown')\r\n",
        "show=show.dropna()"
      ],
      "execution_count": null,
      "outputs": []
    },
    {
      "cell_type": "markdown",
      "metadata": {
        "id": "LxshdhNNTx3H"
      },
      "source": [
        "---------------"
      ]
    },
    {
      "cell_type": "markdown",
      "metadata": {
        "id": "jV9C-3VzUOrR"
      },
      "source": [
        "## Data Type"
      ]
    },
    {
      "cell_type": "code",
      "metadata": {
        "id": "HeAuTc2LUPPJ"
      },
      "source": [
        "# 10  Added_Year    6643 non-null   object\r\n",
        "show['Added_Year']=show['Added_Year'].astype(int)"
      ],
      "execution_count": null,
      "outputs": []
    },
    {
      "cell_type": "markdown",
      "metadata": {
        "id": "hrdsz9OrUcBx"
      },
      "source": [
        "-----------"
      ]
    },
    {
      "cell_type": "markdown",
      "metadata": {
        "id": "aLuEaJanFGGY"
      },
      "source": [
        "## Normalisation"
      ]
    },
    {
      "cell_type": "markdown",
      "metadata": {
        "id": "Wx-Dc9QvFLJv"
      },
      "source": [
        "### Why do we do column normalization?\r\n",
        "\r\n",
        "- In real-world data is collected in various formats. For example; height can be in centimeters or meters and weight can be in kgs and pounds. So to avoid this confusion that particular represents what can be done using column normalization\r\n",
        "\r\n",
        "  - data is converted to scale independent form.\r\n",
        "\r\n",
        "  - to make matrix scale-independent"
      ]
    },
    {
      "cell_type": "code",
      "metadata": {
        "id": "UtexbeaZFKu1"
      },
      "source": [
        ""
      ],
      "execution_count": null,
      "outputs": []
    }
  ]
}