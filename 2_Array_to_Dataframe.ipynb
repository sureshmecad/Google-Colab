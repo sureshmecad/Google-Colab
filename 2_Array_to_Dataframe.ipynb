{
  "nbformat": 4,
  "nbformat_minor": 0,
  "metadata": {
    "colab": {
      "name": "2_Array-to-Dataframe.ipynb",
      "provenance": [],
      "collapsed_sections": [],
      "authorship_tag": "ABX9TyOIPAxifdr+2aQMyUx4oLfe",
      "include_colab_link": true
    },
    "kernelspec": {
      "name": "python3",
      "display_name": "Python 3"
    },
    "language_info": {
      "name": "python"
    }
  },
  "cells": [
    {
      "cell_type": "markdown",
      "metadata": {
        "id": "view-in-github",
        "colab_type": "text"
      },
      "source": [
        "<a href=\"https://colab.research.google.com/github/sureshmecad/Google-Colab/blob/master/2_Array_to_Dataframe.ipynb\" target=\"_parent\"><img src=\"https://colab.research.google.com/assets/colab-badge.svg\" alt=\"Open In Colab\"/></a>"
      ]
    },
    {
      "cell_type": "markdown",
      "metadata": {
        "id": "yp802x_diEsO"
      },
      "source": [
        "- https://www.geeksforgeeks.org/create-a-dataframe-from-a-numpy-array-and-specify-the-index-column-and-column-headers/"
      ]
    },
    {
      "cell_type": "markdown",
      "metadata": {
        "id": "4_r-j3Y1iErW"
      },
      "source": [
        "---------------------"
      ]
    },
    {
      "cell_type": "code",
      "metadata": {
        "id": "orAeNx6-iVXY"
      },
      "source": [
        "# importiong the modules\n",
        "import pandas as pd\n",
        "import numpy as np"
      ],
      "execution_count": 1,
      "outputs": []
    },
    {
      "cell_type": "code",
      "metadata": {
        "colab": {
          "base_uri": "https://localhost:8080/"
        },
        "id": "nWEoT5ikh-hf",
        "outputId": "b2287358-766f-40cb-b106-f4130c31c5fa"
      },
      "source": [
        "# creating the Numpy array\n",
        "array = np.array([[1, 1, 1], [2, 4, 8], [3, 9, 27], \n",
        "                  [4, 16, 64], [5, 25, 125], [6, 36, 216], \n",
        "                  [7, 49, 343]])\n",
        "print(array)  \n",
        "# creating a list of index names\n",
        "index_values = ['first', 'second', 'third',\n",
        "                'fourth', 'fifth', 'sixth', 'seventh']\n",
        "   \n",
        "# creating a list of column names\n",
        "column_values = ['number', 'squares', 'cubes']\n",
        "  \n",
        "# creating the dataframe\n",
        "df = pd.DataFrame(data = array, \n",
        "                  index = index_values, \n",
        "                  columns = column_values)\n",
        "  \n",
        "# displaying the dataframe\n",
        "print(df)"
      ],
      "execution_count": 3,
      "outputs": [
        {
          "output_type": "stream",
          "name": "stdout",
          "text": [
            "[[  1   1   1]\n",
            " [  2   4   8]\n",
            " [  3   9  27]\n",
            " [  4  16  64]\n",
            " [  5  25 125]\n",
            " [  6  36 216]\n",
            " [  7  49 343]]\n",
            "         number  squares  cubes\n",
            "first         1        1      1\n",
            "second        2        4      8\n",
            "third         3        9     27\n",
            "fourth        4       16     64\n",
            "fifth         5       25    125\n",
            "sixth         6       36    216\n",
            "seventh       7       49    343\n"
          ]
        }
      ]
    },
    {
      "cell_type": "code",
      "metadata": {
        "colab": {
          "base_uri": "https://localhost:8080/"
        },
        "id": "A364-GRYibx6",
        "outputId": "ff4a3aba-11b3-4e10-f507-82019e25844d"
      },
      "source": [
        "# creating the Numpy array\n",
        "array = np.array([['Aditya', 20], ['Samruddhi', 15],\n",
        "                  ['Rohan', 21], ['Anantha', 20], \n",
        "                  ['Abhinandan', 21]])\n",
        "print(array)  \n",
        "# creating a list of index names\n",
        "index_values = ['A', 'B', 'C', 'D', 'E']\n",
        "   \n",
        "# creating a list of column names\n",
        "column_values = ['Names', 'Age']\n",
        "  \n",
        "# creating the dataframe\n",
        "df = pd.DataFrame(data = array, \n",
        "                  index = index_values, \n",
        "                  columns = column_values)\n",
        "  \n",
        "# displaying the dataframe\n",
        "print(df)"
      ],
      "execution_count": 4,
      "outputs": [
        {
          "output_type": "stream",
          "name": "stdout",
          "text": [
            "[['Aditya' '20']\n",
            " ['Samruddhi' '15']\n",
            " ['Rohan' '21']\n",
            " ['Anantha' '20']\n",
            " ['Abhinandan' '21']]\n",
            "        Names Age\n",
            "A      Aditya  20\n",
            "B   Samruddhi  15\n",
            "C       Rohan  21\n",
            "D     Anantha  20\n",
            "E  Abhinandan  21\n"
          ]
        }
      ]
    },
    {
      "cell_type": "code",
      "metadata": {
        "colab": {
          "base_uri": "https://localhost:8080/"
        },
        "id": "wEjbGqv9jZDa",
        "outputId": "eb11da60-7f4c-433d-a28f-a27f68145f03"
      },
      "source": [
        "# creating the Numpy array\n",
        "array = np.array([['CEO', 20, 5], ['CTO', 22, 4.5], \n",
        "                  ['CFO', 21, 3], ['CMO', 24, 2]])\n",
        "  \n",
        "# creating a list of index names\n",
        "index_values = [1, 2, 3, 4]\n",
        "   \n",
        "# creating a list of column names\n",
        "column_values = ['Names', 'Age', \n",
        "                 'Net worth in Millions']\n",
        "  \n",
        "# creating the dataframe\n",
        "df = pd.DataFrame(data = array, \n",
        "                  index = index_values, \n",
        "                  columns = column_values)\n",
        "  \n",
        "# displaying the dataframe\n",
        "print(df)"
      ],
      "execution_count": 5,
      "outputs": [
        {
          "output_type": "stream",
          "name": "stdout",
          "text": [
            "  Names Age Net worth in Millions\n",
            "1   CEO  20                     5\n",
            "2   CTO  22                   4.5\n",
            "3   CFO  21                     3\n",
            "4   CMO  24                     2\n"
          ]
        }
      ]
    }
  ]
}