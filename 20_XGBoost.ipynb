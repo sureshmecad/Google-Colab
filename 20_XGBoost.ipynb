{
  "nbformat": 4,
  "nbformat_minor": 0,
  "metadata": {
    "colab": {
      "name": "20_XGBoost.ipynb",
      "provenance": [],
      "authorship_tag": "ABX9TyMxnbeD3BDHtNdSPTqPB5Tq",
      "include_colab_link": true
    },
    "kernelspec": {
      "name": "python3",
      "display_name": "Python 3"
    }
  },
  "cells": [
    {
      "cell_type": "markdown",
      "metadata": {
        "id": "view-in-github",
        "colab_type": "text"
      },
      "source": [
        "<a href=\"https://colab.research.google.com/github/sureshmecad/Google-Colab/blob/master/20_XGBoost.ipynb\" target=\"_parent\"><img src=\"https://colab.research.google.com/assets/colab-badge.svg\" alt=\"Open In Colab\"/></a>"
      ]
    },
    {
      "cell_type": "markdown",
      "metadata": {
        "id": "MRSS4uHPLznP"
      },
      "source": [
        "### When to Use XGBoost?\r\n",
        "\r\n",
        "- we have large number of observations in training data.\r\n",
        "- number features are smaller than number of observations in training data.\r\n",
        "- data has mixture numerical and categorical features or just numeric features.\r\n",
        "- model performance metrics are to be considered.\r\n",
        "\r\n",
        "### When to NOT use XGBoost?\r\n",
        "\r\n",
        "- number of observations in training data is significantly smaller than the number of features\r\n",
        "- image recognition\r\n",
        "- computer vision\r\n",
        "- natural language processing"
      ]
    },
    {
      "cell_type": "code",
      "metadata": {
        "id": "RSL-2tLDLldf"
      },
      "source": [
        ""
      ],
      "execution_count": null,
      "outputs": []
    }
  ]
}