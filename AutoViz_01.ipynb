{
  "nbformat": 4,
  "nbformat_minor": 0,
  "metadata": {
    "colab": {
      "name": "AutoViz_01.ipynb",
      "provenance": [],
      "authorship_tag": "ABX9TyMnMDZHP4QVRO0j3vVIyESW",
      "include_colab_link": true
    },
    "kernelspec": {
      "display_name": "Python 3",
      "name": "python3"
    },
    "language_info": {
      "name": "python"
    }
  },
  "cells": [
    {
      "cell_type": "markdown",
      "metadata": {
        "id": "view-in-github",
        "colab_type": "text"
      },
      "source": [
        "<a href=\"https://colab.research.google.com/github/sureshmecad/Google-Colab/blob/master/AutoViz_01.ipynb\" target=\"_parent\"><img src=\"https://colab.research.google.com/assets/colab-badge.svg\" alt=\"Open In Colab\"/></a>"
      ]
    },
    {
      "cell_type": "markdown",
      "metadata": {
        "id": "tlIW2LU8I1zP"
      },
      "source": [
        "https://www.kaggle.com/gvyshnya/mar-21-tpc-express-eda-with-autoviz"
      ]
    },
    {
      "cell_type": "code",
      "metadata": {
        "id": "XdJfPp1r6-E7"
      },
      "source": [
        "!pip install AutoViz\n",
        "!pip install xlrd"
      ],
      "execution_count": null,
      "outputs": []
    },
    {
      "cell_type": "code",
      "metadata": {
        "colab": {
          "background_save": true
        },
        "id": "mvYbP6D81_Z7"
      },
      "source": [
        "import pandas as pd"
      ],
      "execution_count": null,
      "outputs": []
    },
    {
      "cell_type": "code",
      "metadata": {
        "colab": {
          "background_save": true
        },
        "id": "YFL2HqIY2CiC"
      },
      "source": [
        "train = pd.read_csv(\"train.csv.zip\")\n",
        "train.head()"
      ],
      "execution_count": null,
      "outputs": []
    },
    {
      "cell_type": "code",
      "metadata": {
        "colab": {
          "background_save": true
        },
        "id": "tazwgkAT3wHl"
      },
      "source": [
        "from autoviz.AutoViz_Class import AutoViz_Class\n",
        "\n",
        "AV = AutoViz_Class()\n",
        "dftc = AV.AutoViz(\n",
        "    filename='', \n",
        "    sep='' , \n",
        "    depVar='target', \n",
        "    dfte=df_train, \n",
        "    header=0, \n",
        "    verbose=1, \n",
        "    lowess=False, \n",
        "    chart_format='png', \n",
        "    max_rows_analyzed=300000, \n",
        "    max_cols_analyzed=30\n",
        ")"
      ],
      "execution_count": null,
      "outputs": []
    }
  ]
}