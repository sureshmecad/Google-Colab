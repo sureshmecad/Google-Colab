{
  "nbformat": 4,
  "nbformat_minor": 0,
  "metadata": {
    "colab": {
      "name": "1_for_break.ipynb",
      "provenance": [],
      "collapsed_sections": [],
      "authorship_tag": "ABX9TyNSUi+M3F4NTKY4ky3MGvwy",
      "include_colab_link": true
    },
    "kernelspec": {
      "name": "python3",
      "display_name": "Python 3"
    },
    "language_info": {
      "name": "python"
    }
  },
  "cells": [
    {
      "cell_type": "markdown",
      "metadata": {
        "id": "view-in-github",
        "colab_type": "text"
      },
      "source": [
        "<a href=\"https://colab.research.google.com/github/sureshmecad/Google-Colab/blob/master/1_for_break.ipynb\" target=\"_parent\"><img src=\"https://colab.research.google.com/assets/colab-badge.svg\" alt=\"Open In Colab\"/></a>"
      ]
    },
    {
      "cell_type": "markdown",
      "metadata": {
        "id": "1YIw5VQ0-gv0"
      },
      "source": [
        "- This **for...else statement** can be used with the **break** keyword to run the **else** block only when the **break** keyword was not executed. Let's take an example:"
      ]
    },
    {
      "cell_type": "code",
      "metadata": {
        "colab": {
          "base_uri": "https://localhost:8080/"
        },
        "id": "UtYYF4ZQ_J0n",
        "outputId": "f239ab6e-7fdb-4da1-f320-0a1f6cb6f5d0"
      },
      "source": [
        "# program to display student's marks from record\n",
        "\n",
        "student_name = 'Jules'\n",
        "\n",
        "marks = {'James': 90, 'Jules': 55, 'Arthur': 77}\n",
        "\n",
        "for student in marks:\n",
        "    if student == student_name:\n",
        "        print(marks[student])\n",
        "        break\n",
        "else:\n",
        "    print('No entry with that name found.')"
      ],
      "execution_count": null,
      "outputs": [
        {
          "output_type": "stream",
          "name": "stdout",
          "text": [
            "55\n"
          ]
        }
      ]
    },
    {
      "cell_type": "code",
      "metadata": {
        "colab": {
          "base_uri": "https://localhost:8080/"
        },
        "id": "LwiJQAXX-YwX",
        "outputId": "6bddd187-f3a7-443d-bd7e-33e79dcf6b77"
      },
      "source": [
        "# program to display student's marks from record\n",
        "\n",
        "student_name = 'Soyuj'\n",
        "\n",
        "marks = {'James': 90, 'Jules': 55, 'Arthur': 77}\n",
        "\n",
        "for student in marks:\n",
        "    if student == student_name:\n",
        "        print(marks[student])\n",
        "        break\n",
        "else:\n",
        "    print('No entry with that name found.')"
      ],
      "execution_count": null,
      "outputs": [
        {
          "output_type": "stream",
          "name": "stdout",
          "text": [
            "No entry with that name found.\n"
          ]
        }
      ]
    },
    {
      "cell_type": "markdown",
      "metadata": {
        "id": "3dTZVqkgAXgV"
      },
      "source": [
        "------------------"
      ]
    },
    {
      "cell_type": "code",
      "metadata": {
        "colab": {
          "base_uri": "https://localhost:8080/"
        },
        "id": "iVfVVI4WAYPF",
        "outputId": "22143078-f20e-41d7-d927-a9298086402f"
      },
      "source": [
        "CityList = ['Hyderabad', 'Vizag', 'Bangalore', 'Chennai']\n",
        "\n",
        "for city in CityList:\n",
        "  print(city)\n",
        "  if city == \"Bangalore\":\n",
        "    break"
      ],
      "execution_count": null,
      "outputs": [
        {
          "output_type": "stream",
          "name": "stdout",
          "text": [
            "Hyderabad\n",
            "Vizag\n",
            "Bangalore\n"
          ]
        }
      ]
    },
    {
      "cell_type": "markdown",
      "metadata": {
        "id": "SPBjU_FuAgkV"
      },
      "source": [
        "## **Search for lost car key in home and when found stop searching** "
      ]
    },
    {
      "cell_type": "code",
      "metadata": {
        "colab": {
          "base_uri": "https://localhost:8080/"
        },
        "id": "9alUSZ4jXtoM",
        "outputId": "13ce8a02-053c-49a0-e36a-8962de618fe7"
      },
      "source": [
        "key_location = \"chair\"\n",
        "\n",
        "locations = [\"garage\", \"living room\", \"chair\", \"closet\"]\n",
        "\n",
        "for i in locations:\n",
        "  if i==key_location:\n",
        "    print(\"key is found in\",i)\n",
        "    break\n",
        "  else:\n",
        "    print(\"key is not found in\",i)"
      ],
      "execution_count": null,
      "outputs": [
        {
          "output_type": "stream",
          "name": "stdout",
          "text": [
            "key is not found in garage\n",
            "key is not found in living room\n",
            "key is found in chair\n"
          ]
        }
      ]
    },
    {
      "cell_type": "markdown",
      "metadata": {
        "id": "yWwFmKhRBRtd"
      },
      "source": [
        "----------------------------"
      ]
    }
  ]
}