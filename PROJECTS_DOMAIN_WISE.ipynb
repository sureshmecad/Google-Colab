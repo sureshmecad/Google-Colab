{
  "nbformat": 4,
  "nbformat_minor": 0,
  "metadata": {
    "colab": {
      "name": "PROJECTS_DOMAIN_WISE.ipynb",
      "provenance": [],
      "authorship_tag": "ABX9TyOiRlmftg5u1zv7eQHeY6dt",
      "include_colab_link": true
    },
    "kernelspec": {
      "name": "python3",
      "display_name": "Python 3"
    }
  },
  "cells": [
    {
      "cell_type": "markdown",
      "metadata": {
        "id": "view-in-github",
        "colab_type": "text"
      },
      "source": [
        "<a href=\"https://colab.research.google.com/github/sureshmecad/Google-Colab/blob/master/PROJECTS_DOMAIN_WISE.ipynb\" target=\"_parent\"><img src=\"https://colab.research.google.com/assets/colab-badge.svg\" alt=\"Open In Colab\"/></a>"
      ]
    },
    {
      "cell_type": "markdown",
      "metadata": {
        "id": "m_j51xdb3QPc"
      },
      "source": [
        "## PROJECTS Domain Wise:\r\n"
      ]
    },
    {
      "cell_type": "markdown",
      "metadata": {
        "id": "yL2f6pmz3TS7"
      },
      "source": [
        "### 1. BANKING"
      ]
    },
    {
      "cell_type": "markdown",
      "metadata": {
        "id": "uxF_rZaQ3Wsb"
      },
      "source": [
        "### a. Customer Segmentation\r\n",
        "\r\n",
        "https://medium.com/analytics-vidhya/credit-card-customers-segmentation-bc3c5c87ddc"
      ]
    },
    {
      "cell_type": "markdown",
      "metadata": {
        "id": "d9VCOEsI_aqG"
      },
      "source": [
        "## 2. Marketing"
      ]
    },
    {
      "cell_type": "markdown",
      "metadata": {
        "id": "ETmmGjsP_eY2"
      },
      "source": [
        "a. Top-up & No Top-up Service (Imbalance Data)\r\n",
        "\r\n",
        "https://towardsdatascience.com/balancing-your-data-bd97123a7aaf"
      ]
    },
    {
      "cell_type": "markdown",
      "metadata": {
        "id": "KxAr6QLrANQX"
      },
      "source": [
        "## 3. Automotive"
      ]
    },
    {
      "cell_type": "markdown",
      "metadata": {
        "id": "IHDVHHaXAQ1W"
      },
      "source": [
        "a. http://mlr.cs.umass.edu/ml/machine-learning-databases/autos/imports-85.data"
      ]
    },
    {
      "cell_type": "markdown",
      "metadata": {
        "id": "i4DMaZpI9au-"
      },
      "source": [
        "## 8. Other"
      ]
    },
    {
      "cell_type": "markdown",
      "metadata": {
        "id": "CJiRthq19gzt"
      },
      "source": [
        "a. Bike Sharing"
      ]
    },
    {
      "cell_type": "markdown",
      "metadata": {
        "id": "peWBCxeN9fl-"
      },
      "source": [
        "------------"
      ]
    }
  ]
}