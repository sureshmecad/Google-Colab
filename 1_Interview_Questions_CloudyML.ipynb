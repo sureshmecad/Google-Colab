{
  "nbformat": 4,
  "nbformat_minor": 0,
  "metadata": {
    "colab": {
      "name": "1_Interview-Questions_CloudyML.ipynb",
      "provenance": [],
      "collapsed_sections": [],
      "authorship_tag": "ABX9TyOcJg3savO7BSTWOKlE5lwP",
      "include_colab_link": true
    },
    "kernelspec": {
      "name": "python3",
      "display_name": "Python 3"
    },
    "language_info": {
      "name": "python"
    }
  },
  "cells": [
    {
      "cell_type": "markdown",
      "metadata": {
        "id": "view-in-github",
        "colab_type": "text"
      },
      "source": [
        "<a href=\"https://colab.research.google.com/github/sureshmecad/Google-Colab/blob/master/1_Interview_Questions_CloudyML.ipynb\" target=\"_parent\"><img src=\"https://colab.research.google.com/assets/colab-badge.svg\" alt=\"Open In Colab\"/></a>"
      ]
    },
    {
      "cell_type": "markdown",
      "metadata": {
        "id": "PB1cDecrZLrO"
      },
      "source": [
        "#### **Question 1**"
      ]
    },
    {
      "cell_type": "markdown",
      "metadata": {
        "id": "qCDpSzq3ZF5k"
      },
      "source": [
        "##### **You have a list of 3 numbers, return their minimum difference. Using Python**"
      ]
    },
    {
      "cell_type": "markdown",
      "metadata": {
        "id": "VntMkS65ZYC1"
      },
      "source": [
        "##### **Solution #1 -  Using List Comprehension**"
      ]
    },
    {
      "cell_type": "code",
      "metadata": {
        "colab": {
          "base_uri": "https://localhost:8080/"
        },
        "id": "2Ltht_SJY2EH",
        "outputId": "28c124b2-5211-4630-e8f6-1bd3bd35af2d"
      },
      "source": [
        "t = [1, 3, 6]\n",
        "v = [t[i+1]-t[i] for i in range(len(t)-1)]\n",
        "v"
      ],
      "execution_count": 1,
      "outputs": [
        {
          "output_type": "execute_result",
          "data": {
            "text/plain": [
              "[2, 3]"
            ]
          },
          "metadata": {
            "tags": []
          },
          "execution_count": 1
        }
      ]
    },
    {
      "cell_type": "markdown",
      "metadata": {
        "id": "2ofbfOcvZji_"
      },
      "source": [
        "##### **Solution #2 -  Using Numpy**"
      ]
    },
    {
      "cell_type": "code",
      "metadata": {
        "colab": {
          "base_uri": "https://localhost:8080/"
        },
        "id": "XERguWs1Zojv",
        "outputId": "6b427cb4-bd32-448e-901a-bb57f5ac9c7e"
      },
      "source": [
        "import numpy as np\n",
        "\n",
        "t = [1, 3, 6]\n",
        "v = np.diff(t)\n",
        "v"
      ],
      "execution_count": 3,
      "outputs": [
        {
          "output_type": "execute_result",
          "data": {
            "text/plain": [
              "array([2, 3])"
            ]
          },
          "metadata": {
            "tags": []
          },
          "execution_count": 3
        }
      ]
    }
  ]
}