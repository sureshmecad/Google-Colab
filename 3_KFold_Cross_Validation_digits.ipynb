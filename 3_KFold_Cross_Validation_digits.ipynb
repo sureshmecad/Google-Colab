{
  "nbformat": 4,
  "nbformat_minor": 0,
  "metadata": {
    "colab": {
      "name": "3_KFold-Cross-Validation_digits.ipynb",
      "provenance": [],
      "collapsed_sections": [],
      "authorship_tag": "ABX9TyMIpJWG7AsVl4jIob8pxXda",
      "include_colab_link": true
    },
    "kernelspec": {
      "name": "python3",
      "display_name": "Python 3"
    },
    "language_info": {
      "name": "python"
    }
  },
  "cells": [
    {
      "cell_type": "markdown",
      "metadata": {
        "id": "view-in-github",
        "colab_type": "text"
      },
      "source": [
        "<a href=\"https://colab.research.google.com/github/sureshmecad/Google-Colab/blob/master/3_KFold_Cross_Validation_digits.ipynb\" target=\"_parent\"><img src=\"https://colab.research.google.com/assets/colab-badge.svg\" alt=\"Open In Colab\"/></a>"
      ]
    },
    {
      "cell_type": "markdown",
      "metadata": {
        "id": "70mLj89wYIzV"
      },
      "source": [
        "- https://www.youtube.com/watch?v=gJo0uNL-5Qw&t=1244s ---> code basics"
      ]
    },
    {
      "cell_type": "markdown",
      "metadata": {
        "id": "xrFP1dWbYO_k"
      },
      "source": [
        "---------------------------"
      ]
    },
    {
      "cell_type": "code",
      "metadata": {
        "id": "vTb8tGLjbIB-"
      },
      "source": [
        "from sklearn.linear_model import LogisticRegression\n",
        "from sklearn.svm import SVC\n",
        "from sklearn.ensemble import RandomForestClassifier\n",
        "import numpy as np\n",
        "from sklearn.datasets import load_digits\n",
        "import matplotlib.pyplot as plt"
      ],
      "execution_count": 1,
      "outputs": []
    },
    {
      "cell_type": "code",
      "metadata": {
        "id": "SKGDSZSUlFc3"
      },
      "source": [
        "digits = load_digits()"
      ],
      "execution_count": 2,
      "outputs": []
    },
    {
      "cell_type": "markdown",
      "metadata": {
        "id": "Eh5WiWiMsRpy"
      },
      "source": [
        "#### **Option 1**\n",
        "\n",
        "##### **Use all availble data for training and test on same dataset**\n",
        "\n",
        "#### **Option 2**\n",
        "\n",
        "##### **Split available dataset into training and test sets**\n",
        "\n",
        "#### **Option 3**\n",
        "\n",
        "##### **K Fold Cross Validation**"
      ]
    },
    {
      "cell_type": "markdown",
      "metadata": {
        "id": "Y4H8JihKsbXq"
      },
      "source": [
        "---------------------"
      ]
    },
    {
      "cell_type": "markdown",
      "metadata": {
        "id": "xRcl48YesJAG"
      },
      "source": [
        "### **1) Split available dataset into training and test sets**"
      ]
    },
    {
      "cell_type": "markdown",
      "metadata": {
        "id": "bj2mAcFqqos5"
      },
      "source": [
        "### **iteration 1**"
      ]
    },
    {
      "cell_type": "code",
      "metadata": {
        "id": "o9y8uo4zlK-X"
      },
      "source": [
        "from sklearn.model_selection import train_test_split\n",
        "X_train, X_test, y_train, y_test = train_test_split(digits.data,digits.target,test_size=0.3)"
      ],
      "execution_count": 3,
      "outputs": []
    },
    {
      "cell_type": "markdown",
      "metadata": {
        "id": "kNTFe1JWlPXq"
      },
      "source": [
        "##### **Logistic Regression**"
      ]
    },
    {
      "cell_type": "code",
      "metadata": {
        "id": "bJz-sIiflJz2",
        "colab": {
          "base_uri": "https://localhost:8080/"
        },
        "outputId": "d4538eef-a21d-4850-eaf1-fde1c2c7eda9"
      },
      "source": [
        "lr = LogisticRegression(solver='liblinear',multi_class='ovr')\n",
        "lr.fit(X_train, y_train)\n",
        "lr.score(X_test, y_test)"
      ],
      "execution_count": 4,
      "outputs": [
        {
          "output_type": "execute_result",
          "data": {
            "text/plain": [
              "0.937037037037037"
            ]
          },
          "metadata": {},
          "execution_count": 4
        }
      ]
    },
    {
      "cell_type": "markdown",
      "metadata": {
        "id": "7mqMkbD2lX9L"
      },
      "source": [
        "##### **SVM**"
      ]
    },
    {
      "cell_type": "code",
      "metadata": {
        "id": "lXygqw7NlJqm",
        "colab": {
          "base_uri": "https://localhost:8080/"
        },
        "outputId": "1f2f8a73-b6e9-4670-d461-74fce6f11b0a"
      },
      "source": [
        "svm = SVC(gamma='auto')\n",
        "svm.fit(X_train, y_train)\n",
        "svm.score(X_test, y_test)"
      ],
      "execution_count": 5,
      "outputs": [
        {
          "output_type": "execute_result",
          "data": {
            "text/plain": [
              "0.4703703703703704"
            ]
          },
          "metadata": {},
          "execution_count": 5
        }
      ]
    },
    {
      "cell_type": "markdown",
      "metadata": {
        "id": "pbWvMbhmld5z"
      },
      "source": [
        "##### **Random Forest**"
      ]
    },
    {
      "cell_type": "code",
      "metadata": {
        "id": "FTuX9apOlJge",
        "colab": {
          "base_uri": "https://localhost:8080/"
        },
        "outputId": "b59d282b-91eb-4237-d3e8-e8c41e3f2fa4"
      },
      "source": [
        "rf = RandomForestClassifier(n_estimators=40)\n",
        "rf.fit(X_train, y_train)\n",
        "rf.score(X_test, y_test)"
      ],
      "execution_count": 6,
      "outputs": [
        {
          "output_type": "execute_result",
          "data": {
            "text/plain": [
              "0.9629629629629629"
            ]
          },
          "metadata": {},
          "execution_count": 6
        }
      ]
    },
    {
      "cell_type": "markdown",
      "metadata": {
        "id": "_2sgRc_Iqw1o"
      },
      "source": [
        "### **iteration 2**"
      ]
    },
    {
      "cell_type": "code",
      "metadata": {
        "id": "MJrmU0KwqyqP"
      },
      "source": [
        "from sklearn.model_selection import train_test_split\n",
        "X_train, X_test, y_train, y_test = train_test_split(digits.data, digits.target, test_size=0.3)"
      ],
      "execution_count": 7,
      "outputs": []
    },
    {
      "cell_type": "markdown",
      "metadata": {
        "id": "Kvill5EFrJzk"
      },
      "source": [
        "##### **Logistic Regression**"
      ]
    },
    {
      "cell_type": "code",
      "metadata": {
        "colab": {
          "base_uri": "https://localhost:8080/"
        },
        "id": "XXTYC31Rq6yc",
        "outputId": "4c56e329-c25a-425b-a8c2-2ace18b9edfe"
      },
      "source": [
        "lr = LogisticRegression(solver='liblinear',multi_class='ovr')\n",
        "lr.fit(X_train, y_train)\n",
        "lr.score(X_test, y_test)"
      ],
      "execution_count": 8,
      "outputs": [
        {
          "output_type": "execute_result",
          "data": {
            "text/plain": [
              "0.9611111111111111"
            ]
          },
          "metadata": {},
          "execution_count": 8
        }
      ]
    },
    {
      "cell_type": "markdown",
      "metadata": {
        "id": "9vh_BuaqrM1k"
      },
      "source": [
        "##### **SVM**"
      ]
    },
    {
      "cell_type": "code",
      "metadata": {
        "colab": {
          "base_uri": "https://localhost:8080/"
        },
        "id": "NTXhagwcq6xB",
        "outputId": "896cbc04-2cd8-4b7d-c745-720f2dbf3a02"
      },
      "source": [
        "svm = SVC(gamma='auto')\n",
        "svm.fit(X_train, y_train)\n",
        "svm.score(X_test, y_test)"
      ],
      "execution_count": 9,
      "outputs": [
        {
          "output_type": "execute_result",
          "data": {
            "text/plain": [
              "0.4759259259259259"
            ]
          },
          "metadata": {},
          "execution_count": 9
        }
      ]
    },
    {
      "cell_type": "markdown",
      "metadata": {
        "id": "b8L6Z6UzrP9c"
      },
      "source": [
        "##### **Random Forest**"
      ]
    },
    {
      "cell_type": "code",
      "metadata": {
        "colab": {
          "base_uri": "https://localhost:8080/"
        },
        "id": "HbiWxe_hq6tg",
        "outputId": "e3d1d189-dfcf-4060-a49f-3f9b9a4e6946"
      },
      "source": [
        "rf = RandomForestClassifier(n_estimators=40)\n",
        "rf.fit(X_train, y_train)\n",
        "rf.score(X_test, y_test)"
      ],
      "execution_count": 10,
      "outputs": [
        {
          "output_type": "execute_result",
          "data": {
            "text/plain": [
              "0.9555555555555556"
            ]
          },
          "metadata": {},
          "execution_count": 10
        }
      ]
    },
    {
      "cell_type": "markdown",
      "metadata": {
        "id": "L_Vzd-5TrcmI"
      },
      "source": [
        "- for **each iteration** of train_test_split **accuracy** will get **change** because of **change in random sample**."
      ]
    },
    {
      "cell_type": "markdown",
      "metadata": {
        "id": "QFSwLkfXlu0s"
      },
      "source": [
        "### **2) KFold cross validation**"
      ]
    },
    {
      "cell_type": "markdown",
      "metadata": {
        "id": "_-mRWd9mly6z"
      },
      "source": [
        "##### **Basic example**"
      ]
    },
    {
      "cell_type": "code",
      "metadata": {
        "id": "Qz2Rm81ulJW-",
        "colab": {
          "base_uri": "https://localhost:8080/"
        },
        "outputId": "69237a93-6499-4af2-d990-da6604d613c8"
      },
      "source": [
        "from sklearn.model_selection import KFold\n",
        "kf = KFold(n_splits=3)\n",
        "kf"
      ],
      "execution_count": 11,
      "outputs": [
        {
          "output_type": "execute_result",
          "data": {
            "text/plain": [
              "KFold(n_splits=3, random_state=None, shuffle=False)"
            ]
          },
          "metadata": {},
          "execution_count": 11
        }
      ]
    },
    {
      "cell_type": "code",
      "metadata": {
        "id": "qvhZNntrlJVu",
        "colab": {
          "base_uri": "https://localhost:8080/"
        },
        "outputId": "4c5bf62c-bef5-4b26-e13f-d8aa719bcfba"
      },
      "source": [
        "for train_index, test_index in kf.split([1,2,3,4,5,6,7,8,9]):\n",
        "    print(train_index, test_index)"
      ],
      "execution_count": 12,
      "outputs": [
        {
          "output_type": "stream",
          "name": "stdout",
          "text": [
            "[3 4 5 6 7 8] [0 1 2]\n",
            "[0 1 2 6 7 8] [3 4 5]\n",
            "[0 1 2 3 4 5] [6 7 8]\n"
          ]
        }
      ]
    },
    {
      "cell_type": "markdown",
      "metadata": {
        "id": "brU-OQ4It9bi"
      },
      "source": [
        "![1.JPG](data:image/jpeg;base64,/9j/4AAQSkZJRgABAQEAYABgAAD/4REiRXhpZgAATU0AKgAAAAgABAE7AAIAAAAdAAAISodpAAQAAAABAAAIaJydAAEAAAA6AAAQ4OocAAcAAAgMAAAAPgAAAAAc6gAAAAgAAAAAAAAAAAAAAAAAAAAAAAAAAAAAAAAAAAAAAAAAAAAAAAAAAAAAAAAAAAAAAAAAAAAAAAAAAAAAAAAAAAAAAAAAAAAAAAAAAAAAAAAAAAAAAAAAAAAAAAAAAAAAAAAAAAAAAAAAAAAAAAAAAAAAAAAAAAAAAAAAAAAAAAAAAAAAAAAAAAAAAAAAAAAAAAAAAAAAAAAAAAAAAAAAAAAAAAAAAAAAAAAAAAAAAAAAAAAAAAAAAAAAAAAAAAAAAAAAAAAAAAAAAAAAAAAAAAAAAAAAAAAAAAAAAAAAAAAAAAAAAAAAAAAAAAAAAAAAAAAAAAAAAAAAAAAAAAAAAAAAAAAAAAAAAAAAAAAAAAAAAAAAAAAAAAAAAAAAAAAAAAAAAAAAAAAAAAAAAAAAAAAAAAAAAAAAAAAAAAAAAAAAAAAAAAAAAAAAAAAAAAAAAAAAAAAAAAAAAAAAAAAAAAAAAAAAAAAAAAAAAAAAAAAAAAAAAAAAAAAAAAAAAAAAAAAAAAAAAAAAAAAAAAAAAAAAAAAAAAAAAAAAAAAAAAAAAAAAAAAAAAAAAAAAAAAAAAAAAAAAAAAAAAAAAAAAAAAAAAAAAAAAAAAAAAAAAAAAAAAAAAAAAAAAAAAAAAAAAAAAAAAAAAAAAAAAAAAAAAAAAAAAAAAAAAAAAAAAAAAAAAAAAAAAAAAAAAAAAAAAAAAAAAAAAAAAAAAAAAAAAAAAAAAAAAAAAAAAAAAAAAAAAAAAAAAAAAAAAAAAAAAAAAAAAAAAAAAAAAAAAAAAAAAAAAAAAAAAAAAAAAAAAAAAAAAAAAAAAAAAAAAAAAAAAAAAAAAAAAAAAAAAAAAAAAAAAAAAAAAAAAAAAAAAAAAAAAAAAAAAAAAAAAAAAAAAAAAAAAAAAAAAAAAAAAAAAAAAAAAAAAAAAAAAAAAAAAAAAAAAAAAAAAAAAAAAAAAAAAAAAAAAAAAAAAAAAAAAAAAAAAAAAAAAAAAAAAAAAAAAAAAAAAAAAAAAAAAAAAAAAAAAAAAAAAAAAAAAAAAAAAAAAAAAAAAAAAAAAAAAAAAAAAAAAAAAAAAAAAAAAAAAAAAAAAAAAAAAAAAAAAAAAAAAAAAAAAAAAAAAAAAAAAAAAAAAAAAAAAAAAAAAAAAAAAAAAAAAAAAAAAAAAAAAAAAAAAAAAAAAAAAAAAAAAAAAAAAAAAAAAAAAAAAAAAAAAAAAAAAAAAAAAAAAAAAAAAAAAAAAAAAAAAAAAAAAAAAAAAAAAAAAAAAAAAAAAAAAAAAAAAAAAAAAAAAAAAAAAAAAAAAAAAAAAAAAAAAAAAAAAAAAAAAAAAAAAAAAAAAAAAAAAAAAAAAAAAAAAAAAAAAAAAAAAAAAAAAAAAAAAAAAAAAAAAAAAAAAAAAAAAAAAAAAAAAAAAAAAAAAAAAAAAAAAAAAAAAAAAAAAAAAAAAAAAAAAAAAAAAAAAAAAAAAAAAAAAAAAAAAAAAAAAAAAAAAAAAAAAAAAAAAAAAAAAAAAAAAAAAAAAAAAAAAAAAAAAAAAAAAAAAAAAAAAAAAAAAAAAAAAAAAAAAAAAAAAAAAAAAAAAAAAAAAAAAAAAAAAAAAAAAAAAAAAAAAAAAAAAAAAAAAAAAAAAAAAAAAAAAAAAAAAAAAAAAAAAAAAAAAAAAAAAAAAAAAAAAAAAAAAAAAAAAAAAAAAAAAAAAAAAAAAAAAAAAAAAAAAAAAAAAAAAAAAAAAAAAAAAAAAAAAAAAAAAAAAAAAAAAAAAAAAAAAAAAAAAAAAAAAAAAAAAAAAAAAAAAAAAAAAAAAAAAAAAAAAAAAAAAAAAAAAAAAAAAAAAAAAAAAAAAAAAAAAAAAAAAAAAAAAAAAAAAAAAAAAAAAAAAAAAAAAAAAAAAAAAAAAAAAAAAAAAAAAAAAAAAAAAAAAAAAAAAAAAAAAAAAAAAAAAAAAAAAAAAAAAAAAAAAAAAAAAAAAAAAAAAAAAAAAAAAAAAAAAAAAAAAAAAAAAAAAAAAAAAAAAAAAAAAAAAAAAAAAAAAAAAAAAAAAAAAAAAAAAAAAAAAAAAAAAAAAAAAAAAAAAAAAAAAAAAAAAAAAAAAAAAAAAAAAAAAAAAAAAAAAAAAAAAAAAAAAAAAAAAAAAAAAAAAAAAAAAAAAAAAAAAAAAAAAAAAAAAAAAAAAAAAAAAAAAAAAAAAAAAAAAAAAAAAAAAAAAAAAAAAAAAAAAAAAAAAAAAAAAAAAAAAAAAAAAAAAAAAAAAAAAAAAAAAAAAAAAAAAAAAAAAAAAAAAAAAAAAAAAAAAAAAAAAAAAAAAAAAAAAAAAAAAAAAAAAAAAAAAAAAAAAAAAAAAAAAAAAAAAAAAAAAAAAAAAAAAAAAAAAAAAAAAAAAAAAAAAAAAAAAAAAAAAAAAAAAAAAAAAAAAAAAAAAAAAAAAAAAAAAAAAAAAAAAAAAAAAAAAAAAAAAAAAAAAAAAAAAAAAAAAAAAAAAAAAAAAAAAAAAAAAAAAAAAAAAAAAAAAAAAAAAAAAAAAAAAAAAAAAAAAAAAAAAAAAAAAAAAAAAAAAAAAAAAAAAAAAAAAAAAAAAAAAAAAAAAAAAAAAAAAAAAAAAAAAAAAAAAAAAAAAAAAAAAAAAAAAAAAAAAAAAAAAAAAAAAAAAAAAAAAAAAAAAAAAAAAAAAAAAAAAAAAAAAAAAAAAAAAAAAAAAAAAAAAAAAAAAAAAAAAAAAAAAAAAAAAAAAAAAAAAAAAEFudWdhbnRpIFN1cmVzaCAoQ29uc3VsdGFudCkAAAAFkAMAAgAAABQAABC2kAQAAgAAABQAABDKkpEAAgAAAAM2MQAAkpIAAgAAAAM2MQAA6hwABwAACAwAAAiqAAAAABzqAAAACAAAAAAAAAAAAAAAAAAAAAAAAAAAAAAAAAAAAAAAAAAAAAAAAAAAAAAAAAAAAAAAAAAAAAAAAAAAAAAAAAAAAAAAAAAAAAAAAAAAAAAAAAAAAAAAAAAAAAAAAAAAAAAAAAAAAAAAAAAAAAAAAAAAAAAAAAAAAAAAAAAAAAAAAAAAAAAAAAAAAAAAAAAAAAAAAAAAAAAAAAAAAAAAAAAAAAAAAAAAAAAAAAAAAAAAAAAAAAAAAAAAAAAAAAAAAAAAAAAAAAAAAAAAAAAAAAAAAAAAAAAAAAAAAAAAAAAAAAAAAAAAAAAAAAAAAAAAAAAAAAAAAAAAAAAAAAAAAAAAAAAAAAAAAAAAAAAAAAAAAAAAAAAAAAAAAAAAAAAAAAAAAAAAAAAAAAAAAAAAAAAAAAAAAAAAAAAAAAAAAAAAAAAAAAAAAAAAAAAAAAAAAAAAAAAAAAAAAAAAAAAAAAAAAAAAAAAAAAAAAAAAAAAAAAAAAAAAAAAAAAAAAAAAAAAAAAAAAAAAAAAAAAAAAAAAAAAAAAAAAAAAAAAAAAAAAAAAAAAAAAAAAAAAAAAAAAAAAAAAAAAAAAAAAAAAAAAAAAAAAAAAAAAAAAAAAAAAAAAAAAAAAAAAAAAAAAAAAAAAAAAAAAAAAAAAAAAAAAAAAAAAAAAAAAAAAAAAAAAAAAAAAAAAAAAAAAAAAAAAAAAAAAAAAAAAAAAAAAAAAAAAAAAAAAAAAAAAAAAAAAAAAAAAAAAAAAAAAAAAAAAAAAAAAAAAAAAAAAAAAAAAAAAAAAAAAAAAAAAAAAAAAAAAAAAAAAAAAAAAAAAAAAAAAAAAAAAAAAAAAAAAAAAAAAAAAAAAAAAAAAAAAAAAAAAAAAAAAAAAAAAAAAAAAAAAAAAAAAAAAAAAAAAAAAAAAAAAAAAAAAAAAAAAAAAAAAAAAAAAAAAAAAAAAAAAAAAAAAAAAAAAAAAAAAAAAAAAAAAAAAAAAAAAAAAAAAAAAAAAAAAAAAAAAAAAAAAAAAAAAAAAAAAAAAAAAAAAAAAAAAAAAAAAAAAAAAAAAAAAAAAAAAAAAAAAAAAAAAAAAAAAAAAAAAAAAAAAAAAAAAAAAAAAAAAAAAAAAAAAAAAAAAAAAAAAAAAAAAAAAAAAAAAAAAAAAAAAAAAAAAAAAAAAAAAAAAAAAAAAAAAAAAAAAAAAAAAAAAAAAAAAAAAAAAAAAAAAAAAAAAAAAAAAAAAAAAAAAAAAAAAAAAAAAAAAAAAAAAAAAAAAAAAAAAAAAAAAAAAAAAAAAAAAAAAAAAAAAAAAAAAAAAAAAAAAAAAAAAAAAAAAAAAAAAAAAAAAAAAAAAAAAAAAAAAAAAAAAAAAAAAAAAAAAAAAAAAAAAAAAAAAAAAAAAAAAAAAAAAAAAAAAAAAAAAAAAAAAAAAAAAAAAAAAAAAAAAAAAAAAAAAAAAAAAAAAAAAAAAAAAAAAAAAAAAAAAAAAAAAAAAAAAAAAAAAAAAAAAAAAAAAAAAAAAAAAAAAAAAAAAAAAAAAAAAAAAAAAAAAAAAAAAAAAAAAAAAAAAAAAAAAAAAAAAAAAAAAAAAAAAAAAAAAAAAAAAAAAAAAAAAAAAAAAAAAAAAAAAAAAAAAAAAAAAAAAAAAAAAAAAAAAAAAAAAAAAAAAAAAAAAAAAAAAAAAAAAAAAAAAAAAAAAAAAAAAAAAAAAAAAAAAAAAAAAAAAAAAAAAAAAAAAAAAAAAAAAAAAAAAAAAAAAAAAAAAAAAAAAAAAAAAAAAAAAAAAAAAAAAAAAAAAAAAAAAAAAAAAAAAAAAAAAAAAAAAAAAAAAAAAAAAAAAAAAAAAAAAAAAAAAAAAAAAAAAAAAAAAAAAAAAAAAAAAAAAAAAAAAAAAAAAAAAAAAAAAAAAAAAAAAAAAAAAAAAAAAAAAAAAAAAAAAAAAAAAAAAAAAAAAAAAAAAAAAAAAAAAAAAAAAAAAAAAAAAAAAAAAAAAAAAAAAAAAAAAAAAAAAAAAAAAAAAAAAAAAAAAAAAAAAAAAAAAAAAAAAAAAAAAAAAAAAAAAAAAAAAAAAAAAAAAAAAAAAAAAAAAAAAAAAAAAAAAAAAAAAAAAAAAAAAAAAAAAAAAAAAAAAAAAAAAAAAAAAAAAAAAAAAAAAAAAAAAAAAAAAAAAAAAAAAAAAAAAAAAAAAAAAAAAAAAAAAAAAAAAAAAAAAAAAAAAAAAAAAAAAAAAAAAAAAAAAAAAAAAAAAAAAAAAAAAAAAAAAAAAAAAAAAAAAAAAAAAAAAAAAAAAAAAAAAAAAAAAAAAAAAAAAAAAAAAAAAAAAAAAAAAAAAAAAAAAAAAAAAAAAAAAAAAAAAAAAAAAAAAAAAAAAAAAAAAAAAAAAAAAAAAAAAAAAAAAAAAAAAAAAAAAAAAAAAAAAAAAAAAAAAAAAAAAAAAAAAAAAAAAAAAAAAAAAAAAAAAAAAAAAAAAAAAAAAAAAAAAAAAAAAAAAAAAAAAAAAAAAAAAAAAAAAAAAAAAAAAAAAAAAAAAAAAAAAAAAAAAAAAAAAAAAAAAAAAAAAAAAAAAAAAAAAAAAAAAAAAAAAAAAAAAAAAAAAAAAAAAAAAAAAAAAAAAAAAAAAAAAAAAAAAAAAAAAAAAAAAAAAAAAAAAAAAAAAAAAAAAAAAAAAAAAAAAAAAAAAAAAAAAAAAAAAAAAAAAAAAAAAAAAAAAAAAAAAAAAAAAAAAAAAAAAAAAAAAAAAAAAAAAAAAAAAMjAyMTowOToxNCAyMDowMDozMQAyMDIxOjA5OjE0IDIwOjAwOjMxAAAAQQBuAHUAZwBhAG4AdABpACAAUwB1AHIAZQBzAGgAIAAoAEMAbwBuAHMAdQBsAHQAYQBuAHQAKQAAAP/hCy9odHRwOi8vbnMuYWRvYmUuY29tL3hhcC8xLjAvADw/eHBhY2tldCBiZWdpbj0n77u/JyBpZD0nVzVNME1wQ2VoaUh6cmVTek5UY3prYzlkJz8+DQo8eDp4bXBtZXRhIHhtbG5zOng9ImFkb2JlOm5zOm1ldGEvIj48cmRmOlJERiB4bWxuczpyZGY9Imh0dHA6Ly93d3cudzMub3JnLzE5OTkvMDIvMjItcmRmLXN5bnRheC1ucyMiPjxyZGY6RGVzY3JpcHRpb24gcmRmOmFib3V0PSJ1dWlkOmZhZjViZGQ1LWJhM2QtMTFkYS1hZDMxLWQzM2Q3NTE4MmYxYiIgeG1sbnM6ZGM9Imh0dHA6Ly9wdXJsLm9yZy9kYy9lbGVtZW50cy8xLjEvIi8+PHJkZjpEZXNjcmlwdGlvbiByZGY6YWJvdXQ9InV1aWQ6ZmFmNWJkZDUtYmEzZC0xMWRhLWFkMzEtZDMzZDc1MTgyZjFiIiB4bWxuczp4bXA9Imh0dHA6Ly9ucy5hZG9iZS5jb20veGFwLzEuMC8iPjx4bXA6Q3JlYXRlRGF0ZT4yMDIxLTA5LTE0VDIwOjAwOjMxLjYwNzwveG1wOkNyZWF0ZURhdGU+PC9yZGY6RGVzY3JpcHRpb24+PHJkZjpEZXNjcmlwdGlvbiByZGY6YWJvdXQ9InV1aWQ6ZmFmNWJkZDUtYmEzZC0xMWRhLWFkMzEtZDMzZDc1MTgyZjFiIiB4bWxuczpkYz0iaHR0cDovL3B1cmwub3JnL2RjL2VsZW1lbnRzLzEuMS8iPjxkYzpjcmVhdG9yPjxyZGY6U2VxIHhtbG5zOnJkZj0iaHR0cDovL3d3dy53My5vcmcvMTk5OS8wMi8yMi1yZGYtc3ludGF4LW5zIyI+PHJkZjpsaT5BbnVnYW50aSBTdXJlc2ggKENvbnN1bHRhbnQpPC9yZGY6bGk+PC9yZGY6U2VxPg0KCQkJPC9kYzpjcmVhdG9yPjwvcmRmOkRlc2NyaXB0aW9uPjwvcmRmOlJERj48L3g6eG1wbWV0YT4NCiAgICAgICAgICAgICAgICAgICAgICAgICAgICAgICAgICAgICAgICAgICAgICAgICAgICAgICAgICAgICAgICAgICAgICAgICAgICAgICAgICAgICAgICAgICAgICAgICAgICAKICAgICAgICAgICAgICAgICAgICAgICAgICAgICAgICAgICAgICAgICAgICAgICAgICAgICAgICAgICAgICAgICAgICAgICAgICAgICAgICAgICAgICAgICAgICAgICAgICAgIAogICAgICAgICAgICAgICAgICAgICAgICAgICAgICAgICAgICAgICAgICAgICAgICAgICAgICAgICAgICAgICAgICAgICAgICAgICAgICAgICAgICAgICAgICAgICAgICAgICAgCiAgICAgICAgICAgICAgICAgICAgICAgICAgICAgICAgICAgICAgICAgICAgICAgICAgICAgICAgICAgICAgICAgICAgICAgICAgICAgICAgICAgICAgICAgICAgICAgICAgICAKICAgICAgICAgICAgICAgICAgICAgICAgICAgICAgICAgICAgICAgICAgICAgICAgICAgICAgICAgICAgICAgICAgICAgICAgICAgICAgICAgICAgICAgICAgICAgICAgICAgIAogICAgICAgICAgICAgICAgICAgICAgICAgICAgICAgICAgICAgICAgICAgICAgICAgICAgICAgICAgICAgICAgICAgICAgICAgICAgICAgICAgICAgICAgICAgICAgICAgICAgCiAgICAgICAgICAgICAgICAgICAgICAgICAgICAgICAgICAgICAgICAgICAgICAgICAgICAgICAgICAgICAgICAgICAgICAgICAgICAgICAgICAgICAgICAgICAgICAgICAgICAKICAgICAgICAgICAgICAgICAgICAgICAgICAgICAgICAgICAgICAgICAgICAgICAgICAgICAgICAgICAgICAgICAgICAgICAgICAgICAgICAgICAgICAgICAgICAgICAgICAgIAogICAgICAgICAgICAgICAgICAgICAgICAgICAgICAgICAgICAgICAgICAgICAgICAgICAgICAgICAgICAgICAgICAgICAgICAgICAgICAgICAgICAgICAgICAgICAgICAgICAgCiAgICAgICAgICAgICAgICAgICAgICAgICAgICAgICAgICAgICAgICAgICAgICAgICAgICAgICAgICAgICAgICAgICAgICAgICAgICAgICAgICAgICAgICAgICAgICAgICAgICAKICAgICAgICAgICAgICAgICAgICAgICAgICAgICAgICAgICAgICAgICAgICAgICAgICAgICAgICAgICAgICAgICAgICAgICAgICAgICAgICAgICAgICAgICAgICAgICAgICAgIAogICAgICAgICAgICAgICAgICAgICAgICAgICAgICAgICAgICAgICAgICAgICAgICAgICAgICAgICAgICAgICAgICAgICAgICAgICAgICAgICAgICAgICAgICAgICAgICAgICAgCiAgICAgICAgICAgICAgICAgICAgICAgICAgICAgICAgICAgICAgICAgICAgICAgICAgICAgICAgICAgICAgICAgICAgICAgICAgICAgICAgICAgICAgICAgICAgICAgICAgICAKICAgICAgICAgICAgICAgICAgICAgICAgICAgICAgICAgICAgICAgICAgICAgICAgICAgICAgICAgICAgICAgICAgICAgICAgICAgICAgICAgICAgICAgICAgICAgICAgICAgIAogICAgICAgICAgICAgICAgICAgICAgICAgICAgICAgICAgICAgICAgICAgICAgICAgICAgICAgICAgICAgICAgICAgICAgICAgICAgICAgICAgICAgICAgICAgICAgICAgICAgCiAgICAgICAgICAgICAgICAgICAgICAgICAgICAgICAgICAgICAgICAgICAgICAgICAgICAgICAgICAgICAgICAgICAgICAgICAgICAgICAgICAgICAgICAgICAgICAgICAgICAKICAgICAgICAgICAgICAgICAgICAgICAgICAgICAgICAgICAgICAgICAgICAgICAgICAgICAgICAgICAgICAgICAgICAgICAgICAgICAgICAgICAgICAgICAgICAgICAgICAgIAogICAgICAgICAgICAgICAgICAgICAgICAgICAgICAgICAgICAgICAgICAgICAgICAgICAgICAgICAgICAgICAgICAgICAgICAgICAgICAgICAgICAgICAgICAgICAgICAgICAgCiAgICAgICAgICAgICAgICAgICAgICAgICAgICAgICAgICAgICAgICAgICAgICAgICAgICAgICAgICAgICAgICAgICAgICAgICAgICAgICAgICAgICAgICAgICAgICAgICAgICAKICAgICAgICAgICAgICAgICAgICAgICAgICAgICAgICAgICAgICAgICAgICAgICAgICAgICAgICAgICAgICAgICAgICAgICAgICAgICAgICAgICAgICAgICAgICAgICAgICAgIAogICAgICAgICAgICAgICAgICAgICAgICAgICAgPD94cGFja2V0IGVuZD0ndyc/Pv/bAEMABwUFBgUEBwYFBggHBwgKEQsKCQkKFQ8QDBEYFRoZGBUYFxseJyEbHSUdFxgiLiIlKCkrLCsaIC8zLyoyJyorKv/bAEMBBwgICgkKFAsLFCocGBwqKioqKioqKioqKioqKioqKioqKioqKioqKioqKioqKioqKioqKioqKioqKioqKioqKv/AABEIALQDDwMBIgACEQEDEQH/xAAfAAABBQEBAQEBAQAAAAAAAAAAAQIDBAUGBwgJCgv/xAC1EAACAQMDAgQDBQUEBAAAAX0BAgMABBEFEiExQQYTUWEHInEUMoGRoQgjQrHBFVLR8CQzYnKCCQoWFxgZGiUmJygpKjQ1Njc4OTpDREVGR0hJSlNUVVZXWFlaY2RlZmdoaWpzdHV2d3h5eoOEhYaHiImKkpOUlZaXmJmaoqOkpaanqKmqsrO0tba3uLm6wsPExcbHyMnK0tPU1dbX2Nna4eLj5OXm5+jp6vHy8/T19vf4+fr/xAAfAQADAQEBAQEBAQEBAAAAAAAAAQIDBAUGBwgJCgv/xAC1EQACAQIEBAMEBwUEBAABAncAAQIDEQQFITEGEkFRB2FxEyIygQgUQpGhscEJIzNS8BVictEKFiQ04SXxFxgZGiYnKCkqNTY3ODk6Q0RFRkdISUpTVFVWV1hZWmNkZWZnaGlqc3R1dnd4eXqCg4SFhoeIiYqSk5SVlpeYmZqio6Slpqeoqaqys7S1tre4ubrCw8TFxsfIycrS09TV1tfY2dri4+Tl5ufo6ery8/T19vf4+fr/2gAMAwEAAhEDEQA/APoy5uYLO2kuLyeO3gjG55ZXCqg9STwKyf8AhNfC3/Qy6P8A+B8X/wAVXN/HT/kiXiP/AK4x/wDo1K2/+FceCP8AoTfD/wD4K4P/AImgCz/wmvhb/oZdH/8AA+L/AOKo/wCE18Lf9DLo/wD4Hxf/ABVVv+FceCP+hN8P/wDgrg/+Jo/4Vx4I/wChN8P/APgrg/8AiaALP/Ca+Fv+hl0f/wAD4v8A4qj/AITXwt/0Muj/APgfF/8AFVW/4Vx4I/6E3w//AOCuD/4mj/hXHgj/AKE3w/8A+CuD/wCJoAs/8Jr4W/6GXR//AAPi/wDiqP8AhNfC3/Qy6P8A+B8X/wAVVb/hXHgj/oTfD/8A4K4P/iaP+FceCP8AoTfD/wD4K4P/AImgCz/wmvhb/oZdH/8AA+L/AOKo/wCE18Lf9DLo/wD4Hxf/ABVVv+FceCP+hN8P/wDgrg/+Jo/4Vx4I/wChN8P/APgrg/8AiaALP/Ca+Fv+hl0f/wAD4v8A4qj/AITXwt/0Muj/APgfF/8AFVW/4Vx4I/6E3w//AOCuD/4mj/hXHgj/AKE3w/8A+CuD/wCJoAs/8Jr4W/6GXR//AAPi/wDiqP8AhNfC3/Qy6P8A+B8X/wAVVb/hXHgj/oTfD/8A4K4P/iaP+FceCP8AoTfD/wD4K4P/AImgCz/wmvhb/oZdH/8AA+L/AOKo/wCE18Lf9DLo/wD4Hxf/ABVVv+FceCP+hN8P/wDgrg/+Jo/4Vx4I/wChN8P/APgrg/8AiaALP/Ca+Fv+hl0f/wAD4v8A4qj/AITXwt/0Muj/APgfF/8AFVW/4Vx4I/6E3w//AOCuD/4mj/hXPgf/AKE3w/8A+CuD/wCJoAs/8Jr4W/6GXR//AAPi/wDiqP8AhNfC3/Qy6P8A+B8X/wAVVX/hXPgf/oTfD/8A4K4P/iaP+Fc+B/8AoTfD/wD4K4P/AImgC1/wmvhb/oZdH/8AA+L/AOKo/wCE18Lf9DLo/wD4Hxf/ABVVf+Fc+B/+hN8P/wDgrg/+Jo/4Vz4H/wChN8P/APgrg/8AiaALX/Ca+Fv+hl0f/wAD4v8A4qj/AITXwt/0Muj/APgfF/8AFVV/4Vz4H/6E3w//AOCuD/4mj/hXPgf/AKE3w/8A+CuD/wCJoAtf8Jr4W/6GXR//AAPi/wDiqP8AhNfC3/Qy6P8A+B8X/wAVVX/hXPgf/oTfD/8A4K4P/iaP+Fc+B/8AoTfD/wD4K4P/AImgC1/wmvhb/oZdH/8AA+L/AOKo/wCE18Lf9DLo/wD4Hxf/ABVVf+Fc+B/+hN8P/wDgrg/+Jo/4Vz4H/wChN8P/APgrg/8AiaALX/Ca+Fv+hl0f/wAD4v8A4qj/AITXwt/0Muj/APgfF/8AFVV/4Vz4H/6E3w//AOCuD/4mj/hXPgf/AKE3w/8A+CuD/wCJoAtf8Jr4W/6GXR//AAPi/wDiqP8AhNfC3/Qy6P8A+B8X/wAVVX/hXPgf/oTfD/8A4K4P/iaP+Fc+B/8AoTfD/wD4K4P/AImgC1/wmvhb/oZdH/8AA+L/AOKo/wCE18Lf9DLo/wD4Hxf/ABVVf+Fc+B/+hN8P/wDgrg/+Jo/4Vz4H/wChN8P/APgrg/8AiaALX/Ca+Fv+hl0f/wAD4v8A4qj/AITXwt/0Muj/APgfF/8AFVV/4Vz4H/6E3w//AOCuD/4mj/hXPgf/AKE3w/8A+CuD/wCJoAtf8Jr4W/6GXR//AAPi/wDiqP8AhNfC3/Qy6P8A+B8X/wAVVX/hXPgf/oTfD/8A4K4P/iaP+Fc+B/8AoTfD/wD4K4P/AImgC1/wmvhb/oZdH/8AA+L/AOKo/wCE18Lf9DLo/wD4Hxf/ABVVf+Fc+B/+hN8P/wDgrg/+Jo/4Vz4H/wChN8P/APgrg/8AiaALX/Ca+Fv+hl0f/wAD4v8A4qj/AITXwt/0Muj/APgfF/8AFVV/4Vz4H/6E3w//AOCuD/4mj/hXPgf/AKE3w/8A+CuD/wCJoAtf8Jr4W/6GXR//AAPi/wDiqP8AhNfC3/Qy6P8A+B8X/wAVVX/hXPgf/oTfD/8A4K4P/iaP+Fc+B/8AoTfD/wD4K4P/AImgC1/wmvhb/oZdH/8AA+L/AOKo/wCE18Lf9DLo/wD4Hxf/ABVVf+Fc+B/+hN8P/wDgrg/+Jo/4Vz4H/wChN8P/APgrg/8AiaALX/Ca+Fv+hl0f/wAD4v8A4qj/AITXwt/0Muj/APgfF/8AFVV/4Vz4H/6E3w//AOCuD/4mj/hXPgf/AKE3w/8A+CuD/wCJoAtf8Jr4W/6GXR//AAPi/wDiqP8AhNfC3/Qy6P8A+B8X/wAVVX/hXPgf/oTfD/8A4K4P/iaP+Fc+B/8AoTfD/wD4K4P/AImgC1/wmvhb/oZdH/8AA+L/AOKo/wCE18Lf9DLo/wD4Hxf/ABVVf+Fc+B/+hN8P/wDgrg/+Jo/4Vz4H/wChN8P/APgrg/8AiaALX/Ca+Fv+hl0f/wAD4v8A4qj/AITXwt/0Muj/APgfF/8AFVV/4Vz4H/6E3w//AOCuD/4mj/hXPgf/AKE3w/8A+CuD/wCJoAtf8Jr4W/6GXR//AAPi/wDiqP8AhNfC3/Qy6P8A+B8X/wAVVX/hXPgf/oTfD/8A4K4P/iaP+Fc+B/8AoTfD/wD4K4P/AImgC1/wmvhb/oZdH/8AA+L/AOKo/wCE18Lf9DLo/wD4Hxf/ABVVf+Fc+B/+hN8P/wDgrg/+Jo/4Vz4H/wChN8P/APgrg/8AiaALX/Ca+Fv+hl0f/wAD4v8A4qj/AITXwt/0Muj/APgfF/8AFVV/4Vz4H/6E3w//AOCuD/4mj/hXPgf/AKE3w/8A+CuD/wCJoAtf8Jr4W/6GXR//AAPi/wDiqP8AhNfC3/Qy6P8A+B8X/wAVVX/hXPgf/oTfD/8A4K4P/iaP+Fc+B/8AoTfD/wD4K4P/AImgC1/wmvhb/oZdH/8AA+L/AOKo/wCE18Lf9DLo/wD4Hxf/ABVVf+Fc+B/+hN8P/wDgrg/+Jo/4Vz4H/wChN8P/APgrg/8AiaALX/Ca+Fv+hl0f/wAD4v8A4qj/AITXwt/0Muj/APgfF/8AFVV/4Vz4H/6E3w//AOCuD/4mj/hXPgf/AKE3w/8A+CuD/wCJoAtf8Jr4W/6GXR//AAPi/wDiqP8AhNfC3/Qy6P8A+B8X/wAVVX/hXPgf/oTfD/8A4K4P/iaP+Fc+B/8AoTfD/wD4K4P/AImgC1/wmvhb/oZdH/8AA+L/AOKo/wCE18Lf9DLo/wD4Hxf/ABVVf+Fc+B/+hN8P/wDgrg/+Jo/4Vz4H/wChN8P/APgrg/8AiaALX/Ca+Fv+hl0f/wAD4v8A4qj/AITXwt/0Muj/APgfF/8AFVV/4Vz4H/6E3w//AOCuD/4mj/hXPgf/AKE3w/8A+CuD/wCJoAtf8Jr4W/6GXR//AAPi/wDiqP8AhNfC3/Qy6P8A+B8X/wAVVX/hXPgf/oTfD/8A4K4P/iaP+Fc+B/8AoTfD/wD4K4P/AImgC1/wmvhb/oZdH/8AA+L/AOKo/wCE18Lf9DLo/wD4Hxf/ABVVf+Fc+B/+hN8P/wDgrg/+Jo/4Vz4H/wChN8P/APgrg/8AiaALX/Ca+Fv+hl0f/wAD4v8A4qj/AITXwt/0Muj/APgfF/8AFVV/4Vz4H/6E3w//AOCuD/4mj/hXPgf/AKE3w/8A+CuD/wCJoAtf8Jr4W/6GXR//AAPi/wDiqP8AhNfC3/Qy6P8A+B8X/wAVVX/hXPgf/oTfD/8A4K4P/iaP+Fc+B/8AoTfD/wD4K4P/AImgC1/wmvhb/oZdH/8AA+L/AOKo/wCE18Lf9DLo/wD4Hxf/ABVVf+Fc+B/+hN8P/wDgrg/+Jo/4Vz4H/wChN8P/APgrg/8AiaALX/Ca+Fv+hl0f/wAD4v8A4qj/AITXwt/0Muj/APgfF/8AFVV/4Vz4H/6E3w//AOCuD/4mj/hXPgf/AKE3w/8A+CuD/wCJoAtf8Jr4W/6GXR//AAPi/wDiqP8AhNfC3/Qy6P8A+B8X/wAVVX/hXPgf/oTfD/8A4K4P/iaP+Fc+B/8AoTfD/wD4K4P/AImgC1/wmvhb/oZdH/8AA+L/AOKo/wCE18Lf9DLo/wD4Hxf/ABVVf+Fc+B/+hN8P/wDgrg/+Jo/4Vz4H/wChN8P/APgrg/8AiaALX/Ca+Fv+hl0f/wAD4v8A4qj/AITXwt/0Muj/APgfF/8AFVV/4Vz4H/6E3w//AOCuD/4mj/hXPgf/AKE3w/8A+CuD/wCJoAtf8Jr4W/6GXR//AAPi/wDiqP8AhNfC3/Qy6P8A+B8X/wAVVX/hXPgf/oTfD/8A4K4P/iaP+Fc+B/8AoTfD/wD4K4P/AImgC1/wmvhb/oZdH/8AA+L/AOKo/wCE18Lf9DLo/wD4Hxf/ABVVf+Fc+B/+hN8P/wDgrg/+Jo/4Vz4H/wChN8P/APgrg/8AiaALX/Ca+Fv+hl0f/wAD4v8A4qj/AITXwt/0Muj/APgfF/8AFVV/4Vz4H/6E3w//AOCuD/4mj/hXPgf/AKE3w/8A+CuD/wCJoAv2vivw9e3UdtZa9plxPIcJFFeRuzH0ABya1q8o8f8AhPw5oWp+B7nQ9A0vTbh/FNpG0tnZxwuylJSVJUA4yAcewr1egDz/AOOn/JEvEf8A1xj/APRqV6BXn/x0/wCSJeI/+uMf/o1K9AoAKKKKACiiigAooooAKKKKACiiigAooooAKKKKACo5u1SZqObtQBFRRRQAUUUUAFFFFABRRRQAUUUUAFFFFABRRRQAUUUUAFFFFABRRRQAUUUUAFFFFABRRRQAUUUUAFFFFABRRRQAUUUUAFFFFABRRRQAUUUUAFFFFABRRRQAUUYooAKKKKACiiigAooooAKKKKACiiigAooooAKKKKACiiigAooooAKKKKACiiigAooooAKKKKACiiigAooooAKKKKAOD+KH/H34G/7Gy0/9FzV6LXnXxQ/4+/A3/Y2Wn/ouavRaAPP/AI6f8kS8R/8AXGP/ANGpXoFef/HT/kiXiP8A64x/+jUr0CgAooooAKKKKACiiigAooooAKKKKACiiigArKvfENlp15Lb3xaApHvRnHEo7hfUjj861aguLO2u2iNzCkphcSR7hna3rSd7aGVVVHH927PzMzSra6vrz+19SDxEgrb2xP8Aq0Pdh/ePH0rWm7VJUc3ahKyClTVONt+77kVch4Zt573xNrV/c6pqMn2a9eCK1NyfIVcD+D15rr65jweR/aHiLkf8hOTjPstM1MG88V62viOS1j1O3t7lZ9sWiPYBpZ4+PnWXd933xxitjxzazjS4NUttT1GyngliHlW1yUjfJ5DL/FWPP4T1ww3OjrpdhPbXN39pOrvc4lRuPm8vbywx/eroPGy+X4PEbPuZZYVLH+LDDmgDooiWgjJ5JQEn8KfTIf8Aj3i/3F/lT6AMjxLrT6Fo011FZXV24jcr9ni3iMhSQz88L71heFL+NNMk1jUZ9dj3RB5P7Rf9yS3P7ofU4FdRrFrJfaFf2kGPNuLaSJNxwNzKQM/nWVcaBPdeBrfSHdUuYYoSMHKl4yrAZ9CVxmu2lOmqXI9G2rvyOunKn7NQel3q/Isad4mttQvPszWd9ZSspeMXkHl+aP8AZ5Oagj8Z6dLInlW989u0piN2sH7lHB24Zs8c8dKjtbPWtU1W1vNbs7awWyVjGkFx5xkcgjJOBgYPTmtDw9p82maQLa6CeZ50j/KcjDOSP0NE40YXdtdNE/Xr9xM1Tj019fXr16GpXC+K/H134f8AFem6bb6Fq93DK+Jnt7ISCYbScRtuGSO/413Vcz4u0zVbi40rVNAtoLy806cyfZZ5/JWVSpBG/BwefQ1w7NM5XdxaW46/8cafplpYyXtjqUVxfqfs9ibf/SHYfwbM/e6nGexp1p4ztr7QLnU7fStXL2shjlsGtQLpSDj7m7+tRyabq2p61oWq3tpb2j2qv9phS48zYT/dbA3fkKj+IOg6h4g8PRWumQw3QS5WS4sZpfKS8jAOY2fBwCSD0PSld637/wCRSsy3o3i+01q3vWh0/Ure5sgGlsrmAJPhs7SFDHOcHHNZngPU3voNcvbi91aZftsh+y6nb+VJZgf8swNx4FZ3gnwfqPhbUNa1O30LTNN+2wxCDTLS4+RXQHOZMd89cVN4WtPF9vqOrLrOg2FpbalLJP50Op+a0bN0XbsGfrmnK6fu9vx/r+tQ0t8/0/4P9WL2k/EvRdZvLSKztdSW2vG8uC/ltttu8n/PPfn73tiuvrgbfwbqsXgrwlpbC3+06Re2891iT5dqE7tpxyea73cv99f++hWkoxWid9WJqzOK+IGrva3GkWKXOs6aJr+DN9ZWvmQtlv8AVO24bQ3TvWx4h8X6d4Zmsre+jup7m93C2gtYvMeVlAJAGRzzWN8QLLxRq32K08P6PZXdtBdQ3bXE+oeSS0bZ2bdh68c5/Crb6VrOqeJfDWs39nbWbWMdwLuBLnzdhdQF2ttG7p6Cpirq1+r/AC0/KxUkt/Ini8d6TJ4fbVGivIisvkGxkhxdedxiPy8/eORxnuKyPD3i99Q8Ua7dahDqWl2FpaI4ttTi8po+TlguT1Heq1x4Q1+0vr/VtNhtbi7XWWvra2ln2LNE0caEM2DtPynsadL4O8Qa5/wkE2umxhfVrVEggT94kLKSfLc8bx6njrjHFTrZtdv0X63Xy++JrVK/X9X/AMD+tt3SvHNnqt49r/ZerWUvlmSAXlsE+1AAn91hjuOBntxTo/HekTWVnPAl3JNeXBto7NIczq4PzbkzwAAWJ9Oa57wZ4Sl0TUTcv4A0PSbiGArHeWd9vaV8Yxt2DYD9TjPepbPwfrOm+Iv+Eut4bWXXL6TZqNqZtsRh+6oRscFRhs45xjjNXpzJdP8Ag/r17b6Atnf+tP69dvNegUVx154m1KT4m6fomjSWl1YLG39qxKMy2rbSUYnsD8o/GuxqeifcfWxxvxB8aXfhO1tvsGlahdyTSqDNBaiWNV3AFScjDHtWrF4stjoMmq3mnanpyI21ba9txHNIewVc85+tN8Z6Pd634daDTfLN3FKk0KSNtVyrA4J7ZA61j+I9E1rxp4PEWs6Np9tfQ3AmSwkuvtEE4GRtZ9q4yD6cGpu+V97/AIaf8HQPt36W/HX/AIGpq6b40sNQtbuaez1DTHtE8ySDUIRHIV9QoY5HQfiKXRvFy60kzx6BrtokUfmK13ZhBMPRMMcn2rC8M+F20vT9TK+ANF0ieaLy1htr/wAxboHqrtsG0fgaf4J8P67pmuSXF1YpoWlJB5UekW+o/aoN2R86DYvl4wc9c57Ve7a8vx1/4AtbfP8Ay/4JH4V+It3rWq3Vnd+HNdQC8aGKU6eESBQTgSndwR3rv65DT7LxFofii9is9LtLzSL+5Nw94975ckO7JYeXtO7B9xXXbl/vr/30KmPwRvvYb+JnFeO9Xkg1XQ9PS51nTBLfxE3lna74Js5/cu+4YB+h6Vr+IvGOneGrq0tLyG8ubu9VjbW9pD5jylcZAGRzyKxvH1n4q1W40+DQNFsbu1s7uK98+fUfKLsmcpt2HHXrn8KvHSdY1Hxb4e1y+tLe0+x2lxHdQJceZ5bvswFOBuHynniqirq1+r/LT8rf8OVJK/yJ4/HOkP4bOsOt1Eol+z/Y5IsXHndotmfvnjjNYOgeMn1Dxzr82oRanpOmWWmwS/Z9Ui8ny/mk3SBcnggDn2pk3g3XYLe9u7FbWS9TX21O2gklwk0Xy/IzY+Qnb1wcUh8HeIteu/Elz4hNjaf21pkdrFDEfNFuVL/Kx43j5hzxnPTimrJN+X6L/g/cNJap/wBa/hobunePLHULw2p0vV7OVo2ktxd2wT7WFGSIsMdxxg9uoqWHx1pFxa6fJbLdTS6hMYYrVIszIwPzF1z8oUck+lcx4P8ACE+iaity/wAPdB025t4WEd7aX+5pGxgDbs+UN3OTjNWtN8H6xo/iEeKbWK1n1fUpNurW7S7Y/L6L5bYOCo56fN04oVuZLp/wdPv69t9CLpp9/wCv689vT0CuP8c6pJbzabZRz6tpwkuoma+s7bfCfnA8p23DG7p3612Fcf45tPEmpx29noek2l1Ak0Vw08995R3I4bZt2nrjrnvXZgOX6xHmtbzaX56fIid+R23sa2veKrHw9c29tdQ3dzdXIPkW9pF5kkpHUKMjkAE/SrWi6zb67pq3lrHNENxVobhNkkbA4IZex4rOjsdUvtf0rVr+1gtGgidZ4Un83YTnGGwM9R2FWPD2l3OmHUPtWz/SLkypsbPy+9OpToRo2XxrfW/Vq33WYXbem3/Av+eg7xVcTWnhTUZ7aVoZo4SUkQ4Kn1FZuj+L7aWKw09Ib7UrxbGOW6mtovMSJjGGw7Z4Zuw75rW8R6fLqvhu+sLcIZbiIooc4U59TXPeFvDWqeDZbHT9Kgt5NFlhX7TC0202coX5mj4O8M2cjjrmuCO7T8v1/r7hy3TXn+hy0PiO68X/ABBvLa4tfG2mW1m8KQQ2SfZ1jyu5jcYJ6kcexr12ue0TRLzT/F/iLUrjy/s+ovAYNr5bCR7Tkduanuv+Ej/4S6y+xiz/ALA8lvtRf/XeZkbdvtjNVpaMV/TtqXP4m15foQ654vt9E1GOxXS9V1S5ZN7JptsJjEOxbLDGaZrHjfTtDksYLy11B7u/haW2tIYN00m3GU25+/8AN09jWR420TVdT1RJtH8N21xcLFsi1dNV+y3NvnGdn7tv/r1l61/wkGkeMfCEdnbw69qsOmXCSm5ufs4kIMe5921uc+3ephqte/8An/wBpXb9P0Opjv7Txx4YuTZ3Gq6UY5HjlCP9muYXTqpxnFQeAtSupfhjpuoX73WoXH2be7f6yaU/1NNs7LxHpWgXt3Fp1nfaxqNw0stmbvyooVbPyiTadxHrgZ9qreBbXxXoPg3+y9T0OxS4sIAtr5Wo7xctzwx2fJ9eafSXTb/gj05V6/hr/wAAd4C1WS9stdvpLvWL0rfy4s7+28ua1wB+5VdxyB25HWqXhX4kXms63qNleeHNcCJqBt4ZV08KlumBgStu4IySfbFWPBFp4t07WtUOuaFY2tpqV3JeGaHUvNaIsBhNuwZ6dcj6VYsbDxFoHizUBp2lWl9pWqXn2qa7kvvKkgLYDAR7TuwAD1GaatzLtb8dP6/4cTtaVu5c1i8vNR8V2ugabcvapAi3l9NGcN5eTsQf7xVgaz/Ftvc6l438O6XHq2p6fbTLO8osLkwtIVTIDEdRVuecaP8AEoTXZCWurWiW8Mh6CVGY7SffcAKbrfHxQ8M5IH7q66n/AKZ0qaV4/P77P8tPz63M6jspW/u/mv8Ag/l0L3im81bS9Dkn0gwqLeEu88/zt8o6be+cdc1r2E73Om208mN8sSu2BxkjNZfiu21S/wBFnsNJs4JzdRtG7y3Hl+XkdQMHNQ/2pPoHg2W58QGz0lrSIRpK8/mR524UscDGT2pXtFtmau66ir6rzsbtyZxayG0VWn2nyw5wC3bJrCsLzWbXxFFp2rXVveLcW/m/uYPL8g56Hk5HbPFQ+ENV8Rav8P4NQ1W1hTWJVkKoV8uNvmIRsc4BXaffNHh21120vGk1bS7bzbgk3F6t7vb2AXb06cZptOM2n0FUkrx3+V/xt+vqdRXJa/rN/puqiK21yzMrunl6abTMjAkZ+fd6ZPSmaB4m1HWviBq1pbS2l54dtoQIbm3XmOcEBo2buepxWhq0Os6qJtOOmWkVnIQPtbXO5lAOc+Xt68etTro0VWV4uP5X/T+rnQAkgZGD3GelZut6qdMtF8hPOu528u3i/vNjP5AAmud8a+IdR0C30nTfDU9rcavLNGps5l3STwDh2Ueo65rc1Xw5Fql6t2b6/tZ44zGv2W42DB7dD6U2rq62vb+v67lScktN7CeFdRu9U0IXGotG1ws0kbGNdqna2OlWtcvJdP0K8u7baJYY9yllyAc+lc7p9r/wg3hK/udV1XyWDSOj3c++JCT8vYcnjPvV7whqWval4Itb7XbOEatIhLQr+7R/Q98A0T969iKPMqcefcj8LavNqsxZ/EdjqQEeXt4LXy2Qn33H+VdPXPWenajfeIYtW1eztrA2sTRxxQS+aX3YyS2BjGOmO9UdF8S6jrHxC1OytZLW78P2sKqtxAvzRzjO5Gb16cU92l6/1/XoTRvGGv66/J6/1cTUfFDtq8tvHrVhpEEEhiDXEXmtOw68ZG0Dj1zmuvXlRznjqO9cnPomqW0up2un2NpPbam5d7qSba8W7qNuDux9RVbxXrt/4cj0PR/Dk1vc6nLcxJJaTLukkt8/O4HbA79qlPRJ9bfj/kOmpc8m/wBem3lr5fO50up22qzlG0vVILFVHz+ba+bu/HcMVU8LXmo3+nzT6lPHcKZisEscPlb0HfGT3zVjX7W/v9INpp7LG85VJpC+0xofvEepp95c2Ph3w+8s9zBY2trFjzpjhE46mi6im2Vyc1VWv+Nvu29S1fSzQafPLaxedMkZaOP+8ccCuW0HXtQvtZhgOow6hGysbmKO0ETWhxwGO4554pPDNxr/AIr+GztrwjstRvEkRXij2qVJIVgM9CMVLp+i6nJqmmy3enWmnJpyFBLBP5jTAjGMYGB379apK0tf60/rzM6rk5R5b/0/L9dDrBya46513Vzb32qx3tnbWVlLtNo8O53A65fI2k9uDSaB4pv9c+IWrWdnLa3nh61gXy7q3XOyfdho2buwHOPeptV8OzatrMhOi2FurkBtSMu+UrjkbMDBI4znjrSs7p9y690rLe/n28v66Mi8cQSX3hOPWbPVNT06WFI5Y1sroxK+4jhwB8wwa0tXXUZvCcN5pl08V7bQpcDus2FBZWHfIzj0ODUXjWJLfwFdwx4CRpGignsGUCrF/qkOj+CBeXDABbNFQH+J2UKq/ixA/GovaU+Xyt66/wDANoXvHm36/gWdP1yC/wDDMWs7GSJrfzpIwMsmFyy+5HIo8Pa9Z+JtCt9W00TLbXGdgmTa3HHIqt4fs72x8FwQ+Wsd+1uZPLkOQkrDO0+wY4qx4cGsjQLceJhajU8Hzhaf6vrxitXuyV8KOX+KH/H34G/7Gy0/9FzV6LXnXxQ/4+/A3/Y2Wn/ouavRako8/wDjp/yRLxH/ANcY/wD0alegV5/8dP8AkiXiP/rjH/6NSvQKACiiigAooooAKKKKACiiigAooooAKKKKACsOSSNL9nDKLoTEYY87P8K3KTauc4GfpQBm6PqEt6ZVmkjkaMjPlr8o/HPNX5u1PChfugD6CmTdqAIqyofDGiW+uSazBpkEeoyZ33Kg72z1zWrRQAVl6p4Z0XW7u3utX02C7ntiDC8oJKEelalFAAAAABwAMAUUUUAFFFFABRRRQAUUVkah4msNNvHtJVuZ7lFDGG2gMjbcZ3YHb3qXJR3Gk3sa9FY83inTIbW1mLTP9rTdBHHEWdz/AHdv972pP+EitbnRri7tor7MZaN41tmM0bepTrSdSKT8gUWbNFYGj6pHZeC49S1HUJr2KOPzJLl4irsP92prTxTp97M0cEd2G8syx77cjz1HUx/3uo6U+aPcLPc2GUMpVhkEYI9a5FvhP4Dd2Z/C9gWY5J2tyfzqbQ/GDanfXNvPp9+u26aKJlsmCovbeex9ak1W/vdQ8V22haVcNbLbqt1fzL94IT8iD/ew2fpRFqVmuoO8U79P+GNzTtOs9J06Gw023S2tYF2RQp91B6CrNcJ4p+Ij+HvGel6Qmk6pcwTLKbhoNOeUybQNvlEfexzn04rbu/GemWGmWN5fRX1v9vDeRbS2rLOzD+Dy+oY9h3q78y5g5baHQUVzdr43sLzRbnUbew1dzayiKay+wP8Aalbj/ll1xz1qfSfFtnq9heXUNlqcL2eTLaXNm0dwQBn5Yzyc9B6mkI3aK47wFqsmoWet3tzqd/eot4xWC+s2t5bNdgPl7Scn1/GpdO+JOg6pqkFnZrftHcSNFHetaMLZnXOV83pnjGPWjsutk/vDu+iv+B1YVQxIVQT1IHJpaK4vx1rclpeaXp8F9qmlvLco7XlvYtLA65x5buOFJo3aXd2E3ZNvodpRWJ4i8XaX4Zmgg1H7TJcXOfs9vawGWSYj+FVHJPU49BUcPjTR5vDja0zzw26uYzDNCUmDg42eWed2e1LmVrj23N+iuE0Pxr/afi3VZLhNT0/TrS0V/I1K1a3KtxyFbk5/rWzpXjWw1aaWFbDVrOWOMyrHfWLwtMo6mMH734UJ3V/X8G1+gf1+Cf6nQsoZSrDKsMEeorkW+E/gN2LN4WsCWOSdrc/rV638caNd6dZXds1zL9tnNulukBMySD7wdOq7Twc9DXQ07ahfSxW0/T7TStPhsdNt0trWBQkUSdEHoKs0Vxnj/wAcy+EBpy22nXt09zdxRyPDZPMnlk/MoI/jPYUXu9eo4xvsdnRWDD4vsZPD76vcWmpWUSyeUtveWbRTyv2VIzyxPbHWjSfGGm6tBduYr3Tns08yaDUbZreRU7PtbnacHn2NNq24JNm9RXN6X42tdWW5aDR9eiW3iMu640ySMSgZ4Qn7xOOAOtYvhT4lNr2qXtnc6LrMey9MMMn9lyIkabVP71jwrZJ69sUJNu39diW0lf8Arud9RRXFePNaktbzStPt7/U9KeW7iZry3sWlgdd4HlPIOFLdPxpLVpd2kPo32O1orC8Q+MNL8NXMNrfi6lurhcwW1pbmWSbHUKo5JGM49KanjTR38NjWy86W7MYxC8JE5cHGzy+u7PalzK1w23N+iuH8OeMG1fxVrMk6alY2FrAjC31K2NuyHAyQrc1raX41sNVupLdLHVbV1QvH9ssXiFwB/wA8yfv57Y60J3X9d2v0EdFRXOweOdFuNKtr6Frlxc3JtUtxAfPEoJBUx9QRg5+lJf6lc6H4utFu52l0zVmFvGrf8sJwMgD/AGSAxPvin1sD0OjqvJp9pNqEN9LbxvdQIyRTEfMitjIH1wPyqxRQMKKKKACiiigCG6s7a+jWO8gSZFcSKrjOGByD9RWdrfhXQvEjW7a9pdvfm2JMJmBJjJ9MH2rXooAREWONUQbVUBVA7AUMqsuHUMPRhkUtFAB9KKKKAECqudqqueTgYzS0UUAJtUsGKqWHQ45H40tFFACFVYYZQw9CM0tFFABSBVXO1VXPJwMZpaKACk2qWDFV3Doccj8aWigApCoYYYBh6EZpaKADp04+lFFFACKqrnYqrk5O0YzS0UUAZOteFdC8Rvbvrul29+1s26EzAnYfUc1elsLScW4mt45BbNuhDDPlnGMj8KsUUbbAFFFFAHB/FD/j78Df9jZaf+i5q9Frzr4of8ffgb/sbLT/ANFzV6LQB5/8dP8AkiXiP/rjH/6NSvQK8/8Ajp/yRLxH/wBcY/8A0alegUAFFFFABRRRQAUUUUAFFFFABRRRQAUUUUAFFFFABUc3apKjm7UARUUUUAFFFFABRRRQAUUUUAFFFFABXI3NxqEHjq9/szTVvna1VWLTrHs4HPI5rrqhWzt0vXu1iUXEihWk7kDtWc4OTWu3+TX6jTsn/XUwLXQLu2vdJlby3FuZJJyDjaznOFHpWzqUl1DZSHTrJbud8qY/NEWcjruNXKKfIrNLqF9bnG22la3L4GutFutNjt5vJ2RP9qVxIcj06dK15tLuW8QaRdoiCG0t5I5TuAwW24wO/Q1t0U4xUUgbv+P4nPWFvqula1eRxaetzZXlyZzc/aVQx7uo2Hk4xVbzhpPxMmN4QkOr2kcdtIehkjLFlz6neMDvzXVVXvLC11BI1vYFmEUglj3fwsOhFOK5bf1oEndPz/4c57xfp2qtqej61oViuo3WmPIDZtcLB5iyAAne3Axtpb3T9W1q/wDDmo3Wnx2clpJJJdW7XCy+SSAAAwGG6dRXUUUW0t53Btv7rfn/AJnKfEHRtS1nQo4NItUvB9pR7qyM4g+1RgjKmTtxmsXwR4X1TwteaxqMHh62sEurdTbaZDe7yHU/daQkjJ/vdOenFei0U4+7e3UmSUrX6HAeEoPFkN9raaz4ZjsYNUlacTLqccvlHywoUqBk8r196lXwpqi+CdG0xYYlubS+E0qiQABfNLZB7nFd1TXRZI2RxlWBVh6g072tbpb/AMl2JcE7p9b/APk25IVYscA9a4f4hQ+J9QS2sdB8PR38McyTtcPqCQ8qwO3awz261LJ8JvA8sjvJoSlnJLH7VPyT1/jrqbGxttMsYrOxi8q3hXbGm4naPqcml2fVWf3FNXTi9mmjnzYarqniXRNYvtOjszbxuJ4TOspiY5xggc/UViah4S1tYZ7yztobi7ttW/tC2tWmCrcLhl2ljwvDZ59K9DoqVFKXMv61T/Qa8/60a/Jnm2oeEvEnin+3Jtat7Oy/tKzSKC183zfKKlTtdlI3Zx1GMU7wX4XOkas143w7tdFuorZgl3Fq4n3tx8gX+EH17Yr0eiqilFWX9b/5hutf62/yPPNP8K63pevp4tisYZdWv2Md/p63CrHFETkFW6F1xgkfezWtqXii/T4iaXoej/Y7y0dHOpKp3TWvTYTg/KD83Uc4rraYsMSStKkUayOMM4UBm+p70bNdl/VhW37v+rj657xrpF5q+hw/2ZGs13ZXcd5DA0gQTMhJ2bjwM5610NFBSdjg/FGja1438Gxrqnh+3tr21u0nGmTXolS5VOdvmJjaT0z2pvhTw0ml2GqyJ4At9HuJ4NnkLqgn+2Dn5C38A56n1rvqKNNV3F1T7HA+DdG16w15XbSpvDujQxFRpv8AaSXcLsc/MoADKQeTkkHirmkW3iLQPE+pW8OjR3ul6je/aft4vUjMIKqpUxkZYjbnj1rsqR0WRGRxlWGCPUU7vp6fqLlX9dB+xvQ1w3xCg8T6gtrY6B4ejv4Ip4rlrh9QSHlHDbNrDPIHX3qZ/hN4HkdnfQlLOSzH7VPyT1/jrqbCwttMsIrKwi8m3hXbGm4ttH1JJpLo+qB63XRmBHYapqPivSNbv9OjsvJt3WeEzrKYmJbABA54I5FYV14T1y3t1vrO0huryy1V72CzadUW4VlKkFjwpw2efSvRKKlRSlzLz/Fp/oNef9aNfkzz2Twt4h8QHX59chtbP+1LZEht0k8zyipU7HYH5s7eoxwag8F+Ev7H1VbmX4eWulXNtARHfQ6t5wkcDGFQ52g++cV6TRTSUfh0/p/5/wCYrXVnr/S/yPOrbwnrlj4iHjSKygl1u6byrvTVnVYlgJ42sePMGBlu/PHNbnieQ3/iPQNJtQHmjuvtk/8A0zhVSpP1yy11NV4bC1gvJ7uGBVuLjHmyd2wMD/Iqk9l0X9W/X+tG222+r/r8ixRRRSAKKKKACiiigAooooAKKKKACiiigAooooAKKKKACiiigAooooAKKKKACiiigAooooAKKKKACiiigAooooA4P4of8ffgb/sbLT/0XNXotedfFD/j78Df9jZaf+i5q9FoA8/+On/JEvEf/XGP/wBGpXoFef8Ax0/5Il4j/wCuMf8A6NSvQKACiiigAooooAKKKKACiiigAooooAKKKKACiiigAqOUE4wM1JRQBX2n0P5UbT6H8qsUUAV9p9D+VG0+h/KrFFAFfafQ/lRtPofyqxRQBX2n0P5UbT6H8qsUUAV9p9D+VG0+h/KrFFAFfafQ/lRtPofyqxRQBX2n0P5UbT6H8qsUUAV9p9D+VG0+h/KrFFAFfafQ/lRtPofyqxRQBX2n0P5UbT6H8qsUUAV9p9D+VG0+h/KrFFAFfafQ/lRtPofyqxRQBX2n0P5UbT6H8qsUdKAK+0+h/KjafQ/lT3uoY1BaQfhzUf8AaFv/AHz/AN8mvPqZngaUuWpWin5yX+ZahJ7IXafQ/lRtPofypP7Qt/75/wC+TUX9qJ/zzb865aufZXStzV469nf8rjVKb6E20+h/KjafQ/lU0b+ZGrgY3DNOr2ITjOKlHZmexX2n0P5UbT6H8qsUVQFfafQ/lRtPofyqxRQBX2n0P5UbT6H8qsUUAV9p9D+VG0+h/KrFFAFfafQ/lRtPofyqxRQBX2n0P5UbT6H8qsUUAV9p9D+VG0+h/KrFFAFfafQ/lRtPofyqxRQBX2n0P5UbT6H8qsUUAV9p9D+VG0+h/KrFFAFfafQ/lRtPofyqxRQBX2n0P5UbT6H8qsUUAV9p9D+VG0+h/KrFFAFfafQ/lRtPofyqxRQBX2n0P5UbT6H8qsUUAV9p9D+VG0+h/KrFFAFfafQ/lRtPofyqxRQBX2n0P5UbT6H8qsUUAV9p9D+VG0+h/KrFFAFfafQ/lRtPofyqxRQBX2n0P5UbT6H8qsUUAV9p9D+VG0+h/KrFFAFfafQ/lRtPofyqxRQB518UARd+Bcj/AJmy0/8ARc1ei15/8Vf+PnwL/wBjbaf+i5q9AoA8/wDjp/yRLxH/ANcY/wD0alegV5/8dP8AkiXiP/rjH/6NSvQKACiiigAooooAKKKOlABRSK6t91gfoaWgAooooAKKKKACiiigAooooAKKKKACiigkKpLHAHJJ7UAFFcNrfxFK6t/Y/hCx/tvUV+/sOIo/Yt0qq0PxM1t/nn0/QI8YKoBKW/HmsHXje0U36f57HrQyqtyqdaUaaevvOzt/hV5fgdL4w8RN4Z0E30dpLdytLHFHDEyqzMzBRy3HeqLeJ7mz0L+0tXt7iyKj95Aqee6c46Rg5/CsXxfY3+neArK31fUDqF0NRti0xULn98vHFbWpzRQafK01+mngrtFy7KNhPQ/Nx+dfnnFOMxFLFU405Sjfe0mvy0672bMIU4KbjdNLr31euuvQNF8X2+vxytp1xKTC210mt2iZTjP3XANaf264/wCen6CuF8IgxeItSQX/APbPmxpI+p4HzsAFCfKAnA/u+nPNdXeyTxWM8lpF506xkxx5A3NjgZPvXyeJx+Np1uSFedtN5Pr934pGkIxfREc/i+0t9dg0eW+H2+dSyRBM9s8kDA455rT+3XH/AD0/QV48lzrFl4h0Sa+8LXw1C4umknka5gPmsUb5VIb7qg8Z7D1r1gHKgkYPp6VrjMXjsPycuIk7r+e+t7aWexMVGUmrfgZus+PbHQr2O0v7i4NxIhkWOC0kmO0d/kU461qWWtPf2UV1bySeVKoZfMiKNg+qkAj8a4/xRYwR6wmpx+Kv7Du1t2jCfuT5q5B6OCeoHStfwrfXuo+GbO61RQLh0BZgpXf/ALWDyM9cUquOxaw8asK879fflvrsrL82PljzWsrG1d6ybG1e5vLpIIYxl5JCAAPrVHRfF8Ovxyvp0lziIgN59o8PX03qM9O1c98Q1mbSLDy2jSD7fGbl5VBRY8NksDxjOKPC+oXba5d2B1o69apEkgu9kYEbHPy5jAU/zGKqOLxrwrq+3nf/ABS6W/rdfMcoxTWn9bHaNqFwiljIcAZOFzXML8UtHNxFC1xfRNLIIkMumzIpYnAG4oBXQVys8v8AwkfjJLOP5rDRyJZz/DJOfur9UwSf96s8LmWLnze1rVLJXuptW/O93ZBKEUtEjshf3BGRJ+grK1PxtZ6HeQw6jPcM8mDst7SSdgPUhFJH41drgtdl8zx9LHBq0Xh+aOxjP22V9v2jLNhMN8uB1JHzDP0rbLcdja2Jip1p2WvxPut99PkwlCKi3Y9Fu9fc+Hk1XQbCTWVkAZIoZEjJXPJy5A49OtT+HtZTxBoNtqccD263AJ8qQgshBIIJHHUVjeC7uC4+Hlq0VslmPKceUrEjO48jdzg9efWpfh1/yIWnf9tP/RjV+3KUG5qLvZr9f8jytbr5/hY0by9mhnkCvhV5xgelc74b8Y6h4hjlnbTLiytAzLFPLJGwl2sVOApJHQ9a29T/ANdP9P6VxfhWOaX4ZyR2pKzut2sZHZjJJj9a/GMZj8XGviEqslapZe9LRXltZ+R6cYRbgrb/APANhfHOl3esf2eLyUzBigk8hxET6CTGwnt168Vs+Y/99vzrxyV5tV8I2VtLcRw3ENxClvpUDgy+Ysw3yyAc9mPpgg9a9gXIQbuuOa87MVUptSdSTbbTu77W1v5/PbdlQs+xlav4n0jQ5oYdSuvLkmcIqqjOQT0ztB2j3PFa1cR8SrnTbbRV86e0hu3nhzvdVkZRIvryRXZ29xBdwLNazRzRN9142DKfxFcNWjGNCFVJ63T7aW2+8q/v8vkv1Ir+/t9MspLu9k8uGMZY4JP4Acn8Kp6R4j0/XYJ30t5JHg4eKWJonB7ZVwCM+tS65qenaNpE1/rMkcdrAAzNIM89se+aw/Cc8GparfaxLd2Zu75U22kE6O0MSjC7tpOW5GewPSnToxlh5VJJ6bPp00tbtre+mnccnax1HhTxPNrVze6fe6RcaXdaesW9JpUk3hwSCChI7V0tcb4Y/wCSgeJf+uNn/wCgPU+v+HfEeo6q1xpfiV7C2KgCARKcHuc4r96w8rYWlKMd4x0X+Fdzjp0YVK0oTmoru7+XZM6uivPLnwv47s4xPp/ioXU0bAiGaJQrj06UQ+Otb8NXCW/j3S/Kt3+5qFqN6D/eA6Vft0vjTR3f2VKor4apGo+ybT+SaV/keh0VUsNVsNUgWbTruG4RxkGNwf07VbrdNNXR5Moyg+WSswooopkhRRRQAUUUUAFFFFABRUTXUCPseeNW/ulwDUoOelA2mtwooJwCT2rn9E8YWGtRanKAbWLTpzDLJOwCnBPzZ7DjvUuSTSZrChUqQlOCula/z0R0FFY//CW6B/0GLP8A7/Cj/hLdA/6DFn/3+FL2kO5f1XEfyP7mbFFZUXijQppVji1azZ3OFUTLya1apST2ZlOlUp6Ti16hRWXq3iXRtDH/ABNdRgtjjO1n+b8hzWG/xX8GIxU6ypP+zDIR+YWolVpxdpSSOilgMXWjzUqUpLyTZ2FFcovxN8HsQBrcGT0+Vv8ACr0Pjbw3Pny9ZtDjk5kA/nQqtN7SX3jll+Mh8VKS/wC3X/kbtFMimjnhWWB1kjcZV1OQR9agvtSstMjWTULqG2RjhTK4XJ9s1d0lc5FCUpcqWpaorH/4S3QP+gxZ/wDf4Uf8JboH/QYs/wDv8Kn2kO5v9VxH8j+5mxRWP/wlmgf9Biz/AO/wo/4S3QP+gxZ/9/hR7SHcPquI/kf3M2KKp2Or6dqZYafewXJT7wikDEVcqk09UYShKD5ZKzCiiimSFFFFABRRRQAUUUUAFFFFABRRRQAUUUUAef8AxV/4+fAv/Y22n/ouavQK8/8Air/x8+Bf+xttP/Rc1egUAef/AB0/5Il4j/64x/8Ao1K9Arz/AOOn/JEvEf8A1xj/APRqVLqul/EDVNXuWsdYstMsUfFugj3M6+pOKznNxWiudeFw8a8mpVFBLq7/AKJs7uo5riG2jMlxLHEg6tIwUD8TXAN4L8aXBU3XjFgcYbyosflxXO6t4Uj0/wAZaLpOt6pqGtQ6i7eatxcMqr0xgA1jKvNK/J956lDK8NUny/WE3Zu0U3old72Wx3J+Jnhc6kLKHUDNIXEZMULsoYnGMgV1YYFQw6EZrP0/w/pOl26Q2GnW0Kp02xDP1z1zWjjI5raHP9u3yPLxMsK2lh1JL+807/clb8TlvE3je10fT1OlINUvppDDBBbnd8/+0R0FYEPgnxV4ijW48V+JJ7TzPm+yWPybB/dJGKZ8PbS3tPH3iq1ggVI4ZlZBj7uQM4r0usIR9uuae3Y9fEVllcvY4ZLmsnzNJvVJpK90rX6as8v8QeBJvDOkTa14e12/iurJPM2TzF0kA6gg13XhfVn13wvYalKu17iIMw9+hqj8QbmK18BarJO4RTAVBPcngCneAbaS08B6TFMNriAHH15H86cIqFbljtYjE1p4rLVWr6yU7J9bWu156/cdFWRD4p0WfWp9JS/iF7AQHiY4OSM8Z61r14D4k0l7jxV4l1m0BMmkzxTAoevK5H608RVlSScVczyjL6OOnOFWTjZKz820lf7z36uY1PxRPp/j7StCECNBfROxkJO4MPStrR9Rj1fRbS/hIK3EKycdiRnFcT45BtPiP4R1FuI1leFv+BDiqrTagpR7r8zHL8PGeJlRqrXln96i7fij0CeQw28kgUuUUttHU4HSuD8EfE638S6lcadqcS2F4JSLeI5y6+h/2h6V3sn+rb6GvA10mS40HXtZsU/07SdW89ZF+9sy24fyrLEVJwlFx89DuyfB4bFUasays/dUZdm3b7m7XPfq5ew8U3F38Qr/AEBrdBBbQLIsoJ3EnPWtrRdVg1vRbXUbU/u7iMOB6Z7Vwui3EcPxe8SXNzKkcMFum92OAo5rSpOzg09G/wBDjweFUliI1I+9GP3PmSPSKRmVFLOwVQMkk4ArgZfilHe3TQeGNFvtW2tjz0QLG30JNVJrHxn47nS21mA+HtHU5ljjkBlnHpkdBQ8RF6Q1f9dSo5RWh72Japx63av8o7t+VjW1n4oaJpty9pp6z6tdrwYrJC+0+56VjnTvGnjxh/asp8PaQxz5ELfvpB7nt9K7bRvDujeGrNYdLtIbZQMF8Dc31Y8mrjarp6thr62B9DMv+NS6cp/xZfJGkcZQw/8AuNK7/mlq/ktl+JT8P+GdL8MWItdJtliB++55Zz6knmtaqq6pYP8AcvrZvpMp/rUy3MDkBZo2J6YcV0R5UrRPJrSrVJudW7b3bOV8fWF5reiix0poEuoriKZTc7vLOxw2Dt57U2KzfUNJSDxHa2NxKeZYkTzIic8YDj6dazfibuk0gRJPNCs15bxs0ErRttMiggMpyODUer3B8OaVY6VpMrJPdSmGCa5kMpj4LMxZiScKCRmvxrOa9fGYqSlLVTklpayj5/8AAOmmlHbtd/j/AME3rSytbC3EFjbQ20IORHDGEUfgOKnri/C3iG7l8ST6Ld6hJq0XkGeG/eBId5DbWUBQMgHPNdm2dp2Y3Y4z0zXzuIozo1OWbu3rf/h9fvNovoNeCKSRJJIkZ4zlGZQSp9j2p9clpd/ri+P59O1W8hkt3szOkEMYCxEOoGGxuOQec11tKtSlSaTd7q+nmCabZTvNH0zUZUl1DTrS6kT7jzwK5X6Ejirg46Vg+IoNXeNp7DWo9JtoIy7v5KSFyOx3jAH05q14a1C41Tw3Y3t6gSeaFXfAwCSOoHbNVKnL2Kqc11tbXT9Pu+Y+poTwRXMDw3MSTROMPHIoZWHoQetR2en2enQmLT7SC1jJyUgiCKT64ArL8Wa4+haSksBhFxcTLBCZydgZgTk45xwaqeDNUXUYrn/io5NbZCufMshbGLr22qSD6+1UqFX6u6v2fn/lb72vIUmk0mdPUcVvDAXMEMcZkYu5RQNzHucdT709gSpCnaSODjpXDahD4m0zV9LtYvFcl5Nd3HNu9hCo8lSN5yBkYBFTQo+2bipJet9evRP8Rydlc7qql9pWnans/tKwtbzZ9z7RCsm36ZHFWx05rifGGuXunazHA2sS6LZeSHS4htY7gyvk5VlIJUDA5xjnrRhaU6tTlpuz+f6Xf3IHors6bVYtRXSzFoEdkJ+FVbrcsYXv90Z6VseEdJuNC8K2WnXkkck8KtvaLO0ksW4zz3rlLa0n8ReCYF8QNLHO6b3a0uDESQTg7oyOoxwDW/8AD2WWbwHprTyyTPtdS8rlmIDsBknk8Cv0jgqPJHEQvqnG/wD5N169ehw4lpuD9f0LmoRPJcTBVPzDGce1ct4Q0bXtEs3sNVFi9rG7tA9t5m87nLfMGGO/au+uWKWsrL1VGI/KvP8A4c4h0I6k0t3PdXUkwla4vJJV4lYDarEheAOlcubZPgsLKpPE13FVHf4b6tt9/UqNSUuVJbf8A2o9Fsor5r2LTbdLtvvXCwKJD9Wxmrflv/cb8q4yPxXq1r44g09PEUmph5mE9lLYJCkKbSQRJtG7HA4Jr0D+1H/55r+deHVy/KYKLqYqWq0vB7G3PU5muX8THufDthqswkvdJtbuVVwHnt1cgemWFX7PRBa24htYIbWJPuxxqFUfQDiud8Y+L9Ut4JLHw75cd6kZnnnZd4gjHseCxOBg9jmt7R9cnu9DsbmdFaWa3jkc9MkqCeK7qWDyGlSjPEV5yXazS+61195EpVeayWpNdaBHfQGG9it7iI9Y5U3qfwIqta+EbLTmeXS7DT7WZlI3xQKmfYlRnFZnjvxLqOl+FJ7rS5Tazqyjzkh84oCeTswc1V8HeIm1SC9R/Er670Uh7MWrwgj0CqefWu2NLhv2LqJz5P8At+3TfT8yW6yaTNTwnoWt6frWran4gk08y3ywoiWJcqojBHO8Dk5rq64LwJALDxj4l0+Ce7ktYVtXjS5upJyhZWJwXJIziu9r9Ew1WlWoU50fgaVvS2hyzTU2pb/8AKjuLaC7gaG6hjmiYYZJFDA/gakorcSbTujhr34T6JJM02kz3mkSOcsbSdlBP0zxVNvB3jHQB5vhvxPJeqvJt9QAYv7A4OK9ForneHp7pW9ND1o5xjEuWpLnXaSUvz1/E89tvibPpc62vjbRbjSpc4NxGu+H8xmu207V9P1eHzdNvIblMZJjcHH1Hapruzt763aC8gjniYYZJFDA/ga4fU/hhaW9ydQ8K6hNoNyBlvKc+W/+8PSl++p/3l9z/wAi75di906UvK8o/d8S/E76ivI7j4ja54L1KK08TXNjrUL9ZrIgOo+mAM16ZoeuWXiHS49Q012eGQfxKVIPpzVU68Kj5Vv2MMZleJwkFVmrwe0ls/1XzRheKvEut+HdUge10RtR0t4/3jwHMiPk8Y9OlY4+JuqTqfsnhDUiw6+YAB/OvRaKJU5t3U7fcOljMLGmo1MOpNdbyV/VI88XxR8QNR/5B/hSC2iYcS3MwBH4ZrF06Xxr4q8Rajol94gjsBZBTKLWIAkHHRsZ4zXrtec+Dv8AkrXin/cT+lYVKbUopybu/wBPI9XCYynOlXnTowi4RutLu/Ml9pvuSp8IdM2hrnVdTnm/ila4YFj+ddtpenR6VpsNlDJJIkS7Q0rlmP1Jq3RXTClCDvFHiYnMMVioqNabaQ2T/Vt9DXmvw3sLbVLTxTZ38Qmtp79ldG6MMmvRryZbexnlc4VI2Yn8K4f4QxN/wiE2oTfK99dySkH0zxWdRXqxXqdmEk6eX15p21gl63b/AEND/hVvg7/oDR/99t/jR/wq3wd/0Bo/++2/xrrutNeRIkLyMqKOrMcAVfsaX8q+45v7Tx//AD+l/wCBP/M5i1+G3hOzuo7i30iJZYmDISzHBHsTXU9OlZ2k69pmuic6VdLcrbyGORlBwG9MnrWjVwjBL3EvkYYqriak7YmUm1/Ne6+88t8C6JpvibWde1TXrVLy9W9aNRN8wRABgAGvQB4b0MAAaNp+P+vVP8K4bR7y38I/FXWrDUJUt7bVEW6t2c4UHnIz+FeiwXltdRiS2uIpUP8AEjgj9K58Ooctnvd3PXzepiPbqcG+Rxi472tZaL0ehmyeEvD8r7n0Wxz7W6j+QqhN8OPCc6kSaNb8nPy5H8q6RZ4nbCSox9AwNPrd06b3SPKjjcXT+GpJfNkNpaw2NpHbWsYihiXaiL0ArK8ReEtK8Uta/wBsRNKls5ZUDkBsjHOK26KpxjJcrWhjTr1aVT2sJNS79Tkf+FW+Dv8AoDR/99t/jR/wq3wd/wBAaP8A77b/ABrrqKj2FL+VfcdX9qY//n9L/wACf+Z43qHgnw/D8XNO0mPT1Wxltmd4dxwxH45rtv8AhVvg7/oDR/8Afbf41j6r/wAl10r/AK82r0auejRptzvFbnr5jmGMhDDuNWSvBN6vuzI0Pwro3hsynRrFLYy43lSST+da9FFdkYqKskfOVatStPnqSbfd6sKKKKZmFFFFABRRRQAUUUUAFFFFABRRRQAUUUUAef8AxV/4+fAv/Y22n/ouavQK8/8Air/x8+Bf+xttP/Rc1egUAef/AB0/5Il4j/64x/8Ao1K9Arz/AOOn/JEvEf8A1xj/APRqV6BQAV5z4z/5Kn4U/wCujfzFejV5z4z/AOSp+FP+ujfzFc+I+D5r8z2cl/3mX+Cf/pLPRqKKK6Dxjzvwa5/4Wz4xTtujP6Cu51LVLPSLGS81G4SCCNSzMx/l61514b+3zeKvHF5o+xrtiEgZh8pcKMCuYufB3j/WdRivtet1vwjbhbTzYjB/3Rx+FedGtKnC0Yttt/mfZVsuo4vFc1arGEYxgmm9X7i2vp8zqLO2v/ijq0eo6ir2vhm1k3W1sww10w/ib2r05EWONUjUKqgBVA4A9K88svG+seH7y0sPF2grYWkzLDBc2rZjDdAMdhXogIZQQcg9DXRh+Wzd9ep5Gbe2UoRcUqa+BJpq3XVbvu9yrqd9HpmlXN7MQEgiZzn2FcF8PtLa78E6xql6mZdbeaYqw5C8ha0fi1cPF4BuYUcJ9okjiY55wXGa6bRbWO38OWNtGAI1tUTA9Nooa561n0X5hTl9Wy3nW9SdvlCz/Fv8DmPhJMz+AYIJGzJbTSQt+DnFQ/F2AnwpbXsZ2y2V7HMrD8Qf51H8MWNpqHiXSZPlNtqDNGvcoxJzVz4tf8k9u/8AfT+dZb4T0X5Hf8OfpraU0/lLX8mddBOLrT4516Sxhx+IzXnnwzjSW18VRyKGRr1wQe/3q7jQ/wDkV7H/AK9U/wDQRXF/Ctd48TL/AHtQcf8AoVaT1qQ+f5HJh0oYTFJdHH/0osfBp3bwCEYkrHdyomT2BHFUfDtnbar8SvGVrfQrLDJsjdGGQw+arXwukOlT614YnG2Wwu2eMn+NGJ5/Sk8LAxfF3xOhwPMVH+vWsYawpJ97fgz0sQ3HE46cdLxUk/Jyi0zD1DTfiPpep3Np4aijh0tJD9mSFI1Xb2qjdH4uJCTIszJ/EYhHuA/OvbaK0eFT2m/vOKGfyilzYem33cdX5t33PBLS8068lI8aa/4it51zvhlQpH+G01uaP4e+FOu3y2dnLJNdP90SXEqmQ/jxXrNxZWt4uLu3imGMYkQN/Oud8Q+ANH1yzjjgiTTLmFxJDdWkYR0P4YrP6rKPRS9VqdazylWduadK/wDLJcq+Sim18zMb4O+EQp8m1uImP8S3L/41GfhHpiuWt9V1OH+7tuG+X9arzaf458H/AOlWOonxHYx/623uBiYj1B56fWtrRPiV4d1kwwNdfYr2Q7fstypVg3p6VSjQvyyjyszqVs2UPa0K7qw7pt29U9V91jl/F2kp4d8LW9m19NcpHqFuxnupMn/Wr3J4FafinQIvFWjxC2ljaWCUTQNvOxyOqkr/AAkZB9ia0/H02m6fobXOr6c2q280qR/ZFhWQuxIC4DEA84qvYXVjp3htLl7L+xbSJCxt5EVPJGf7qkj8vWvyTN6dfCYqTs1JTk1s7qVmvPa33nke0dafPJ3bWv4/5lDQtD1CPV/7W1tbOCeO2+yQW1iWMUceQepAOc+1dIc4OOvbNZ2jeINL8QQPNpF2tyiHDEKykH6EA1pdOtfP4iVSVT94rNdNrFRtbR3OKTSvF48bHWXh0XyDCbbYLiXd5e4Hd9zG7jp0rtazbXxBpV9q8+l2l7HLe2675YVzlR656HrWlVYipObipx5bLtbToCSu2jkvFukeI9W1C1XTRps2lxjdNaXcskfnP2yVU5Uc/KeDx6V0Olf2h/Z6DV4rWK5GQUtHZowO2CwB/Sq+seJdI8P+V/a96tsZT8gKs2fyBrQgniubeOe3dZIpFDI6nIYHvTqTqOhGMoWj0dnr38mGnMZPijRJNa06EW3lG6tJ1uYFnz5bOuQA2M8c1Bomlar/AGxPq+vm1S6eMQpDZszIqjPJZgCSfpxWvqWp2mkWL3mozeTbx/efaTj8ACag0fX9M1+3efSLtbmNG2sQpUg/QgGnGpXWHaUfd2vba/S/mErX1/rqaNYmnaNcp4kv9X1KSOR5MRWqISRFEM+vRjnnHoK26oz6zp9tqtvps91Gl5cAtFCfvMB1NY05VEpRgt1r6b/8ON2tqXq5TV9D1mPxLNq+hppt2bq1W2lh1FmUIqlj8pVTnO7kH0rq6xNY8YaDoN4tpq2opb3DJ5gj2Mx25xn5QfQ1phXVU7Uo8za2tfT5A9tSTw9oX/CO+DI7W6vYQsKsC7sEUEknAz25wK0fhyQfAGmkEEYkwR3/AHjVDeXemah4O+1y6JJ4jspHDrbR26SFhx822QgcVseGL2w1Hw3Z3WkWhsrN1Pl25jCeXgkEbRwOQelfsnDeEhSwbxCT56lnL197p03PMrSvNK+iv+hfu/8Ajxn/AOubfyrzv4fXEUnhCGKGaN5UlnygcEr++fqB0r0a5IFrKW6BDn8q848IXekX891daN4ak0tXZg121tHGLghyDgqSTyD1r5/jPWMFbzv9/wDn07G1DdMJtL8Q63dxxa4mmW1lBMJo3tJHklYqcgHcoC+5B9q6qsmTxTo0WtJpL3yfbn4WJVZv1AwPzrWr86ryqNRU48q6aW+Z2JK77nJa78P9P1Z9QuoZ76C9vVG8x30scbsBgblU4OB7Vs+G9GXQNAtdPEssrRRgO0kzSfNjnBbnGeg7Cq2q+NfD+i3z2ep6iILhACyGJ2wCMjkKRWnpup2esWEd7ps63FtJnZIoIB/OtatTFugo1b8mlr3ttpZ+gmo89+ompNqC2Eh0iO2ku/4FuXZUP1Kgn9KyND0e/i1a61rXjaJfToIvLtCTGiL/ALTAEk+44rZv7+10uxlvL+YQ28Qy7kE4H0HNUdK8S6P4hhuP7JuVvRCMSIEZTyOmGAzms6bqqjJxj7uzdvwvsU7dSPwXPDcfEDxU9vLHKnl2fzRsGH3H9Kv+JPGl3ompNZ2nh++viqq3mxgbDntnNU/h3eaRJdatZ6X4ck0K4tzEbiJ7aOIybgxU/ITnoetdzX7dlEZPLaMV7tlbp0/DXc5Y1adPESlVhzrtdroux52vjvxbe4/svwXM3OC08oQD9aH1L4my4aPStPhBH3DJnH6V6JRXo+xk95v8Dr/tGhF+5hoL15n+bPPP+Eh+I1oMTeFra8xgZin2596P+Fg+IrbaNQ8G3kZLYPlsG/rXodFHsprab/D/ACD+0MNL48NH5OS/9uPPW+Iutzy+Xp3g+/kcj5RKVXn86xNeg8QX2lz61471B9J06EEx6XZyYeQ9lYjGcn3r0LxJ4r0zwvp7XOoTAv0jgQ5eRvQCuR0PwtfeMtTHiPxmsiQ7w1lppY7Y1HILCuepGUnyc3M/uS9T1sHWpUofWfZKlBddZSl5Ru7LzdtO5nfDn4fRPqFxretaNFb20qj7HZzHzSg/vHPXPvXq8MEVtEIreJIo16IihQPwFOACqAoAAGAB2pa6qVGNKPLE8LMMwrY+s6lR+iu7JL1/PqFFFFbHnBXnPg7/AJK14p/3E/pXo1ec+Dv+SteKf9xP6Vz1vjh6/oz2cu/3fFf4F/6VE9GoooroPGOc+IF4bDwDq06nDiAqvuSQKzNO8JDVPhpo+lm9ubBkhjkaS2cqxbbyD7c0nxcVz4AnKfdWaNn/AN3NdZpLpJo9o8WNjQqVx0xiuZxU6zT7HuRqzw+XU503Zubf3JW/NnDN8LL0HEPjbXI0AwF85jj/AMepV+FDy/JqfivWL6An5opJmCn/AMer0Oin9WpdvzM/7bx/8/4R/OxR0fRrDQdOSx0q3W3gToq9z6k9zV6iit0klZHlTnKpJzm7t9TL1nw1pHiBUGr2MVzs+6zryPxrlpfhLpCS50q/1DTYictDBcMFJ/Ou9orOVGnN3kjroZji8PHlpVGl26fdseet8JLVFJs9e1W2lPIkWdiQfzpmjeJ9X8Ka7H4e8byCaGc7bLUwPlk9Fb3r0WsbxVoFn4k8P3NlexhvkLROPvRuBwQfrWUqCh71LR/gzvpZpLEP2WO9+D62XNHzT/TZmyDkZHIorjvhhq11qfg6NL5zLNZyvbmVurhTgH8uK7Gt6c1OKkup5eKw8sNXnRlvF2CiiirOY851X/kuulf9ebV6NXnOq/8AJddK/wCvNq9Grnobz9f8j2c0/h4f/r2vzYUUUV0HjBRRRQAUUUUAFFFFABRRRQAUUUUAFFFFABRRRQB5/wDFX/j58C/9jbaf+i5q9Arz/wCKv/Hz4F/7G20/9FzV6BQB5/8AHT/kiXiP/rjH/wCjUr0CvP8A46f8kS8R/wDXGP8A9GpXoFABXnXjJGPxS8KEKxG9skD6V6LTGhjeRJHRWdM7WI5XPXFZ1Ic8beh24LFfVarqWvpJfemh9R3MwtrWWdhkRoXI+gzUlQ3cJuLKaEdZI2UZ9xirexyRtzK+xw/wigP/AAjd7fPy99fSSkn06AfpXfVyvw70S+0Dwv8AYtTRUlE7soBz8pPFdVWVBONKKZ6ObVI1cdVnF3V9PTocX8U9Ou73wh51jGZWs5kuGiHV1Ugn/Gt/w1rNrr/h201CxbMUkYBB6qRwR+Yq9fSRR2MzXDrHHsIZmOAOK4X4SOI/C+oOz4hW9lKsem3cefpUP3a/qvyN4/vsraa1pyVvPm3X4I5n4n3Umo+O4rKCGTUPsVsHWzjY48wsMFh+Nblto3xNe0hca3p8AZARF5WPL4+707dKPh88epfEHxNqtqnm2rsI47jbwSMZAP4V6XWNKkqjdRt6voenj8wlg408HGnF8kVdySerSb0e2r169zzHwzHeaZ8Zb+21GZJZrjTI3leNdqvINuSB+dbPxa/5J7d/76fzqj4gItPjX4deIYa6tpEkPrjp/Kr3xa/5J7d/76fzotajUj2v/mCl7TMMFWf2lD8G4/odJoQ3eGbAetqg/wDHRXEfDd5NN8VeJtFuU/erdeeHU8FSTXcaB/yLmnf9e0f/AKCK4jUANL+OOny2uVOo2rJOvY4xg1pU05J9v1OLB/vPrWH/AJk384u/5XE8TSHwh8TLLxJMp/s7UIvsly4HEbcYY1LcMNN+N9pcg4g1SwMYx0ZlIwf1rsPEejQ6/wCH7vTrhFcTRkLu/hbsR6GvFoNbuYdS8N2erxtDf+Hb4W8xZv8AWRv0+v3axrfupeTaa9ev+Z6WWr69RuvijCUJecbNxfyaUX8j3yigHIBor0T40KKKKACsLX/B2i+I7WWO/soxLJyLhFAkU9iG61u0VMoqStJGtGtUoTU6UmmuqOB+IVmNP8G6XaLJJKIb62QPI2WOJV6msz4gTz2sOkzpbm6t0vB50OcBiRhNx7APtJPbGa6rx7oeo694fjg0ZYHuobmKdUuJCiNscMQWAJHT0qzb6JLqOjCLX4LdZJVInt0Pmx/TJAz+VfB51lONxGOVehT5orzS+yl1a8zaFVXfO91/n/mcDokN5/wsx57m9W7mfTP9J8k/uom8z5UX6DHPU9a7pgGUhgCCMEHvVvS/CujaJam30mxhs4iclIECKT64FaC2VuqkGMMD13DNeXV4Sx+Iqptxikrfd5JfqWsRFanmFmLG0+KZhszbwxDTGxHGVADGRSeB3ruxaTsoIjbB5FRR+A/CcV6LyPw5pi3IfzPOFqobd1znHWugr13wbRqWdas20raJL563MvrDTdl/WxwPiS+i064WytreGbWr6IpDE7Kp2d2Zj0QcfjjitDw5ocmk+HbOxiYTiCIIZExtJA5x6D2rW1bwl4e124W41nRbG+mUbRJcQK7AemSKvabpdjo9ktnpVpDZ2yElYoUCqM+wrb/U7Bul7N1Jb36fLp0QPESvojF1Gzu/sEqwziylZcJO6hgh9cEgH6VyfhOO4tvFOt2t9cpqV2EheS+jTZvB3bUKDKjHPQnOecV6Hquj6drln9k1ixgvrfcG8q4jDrkdDg/WnabpVho1ktnpNnDZ2ykkRQIEUE+wqP8AU7DxpSp06rV+6T6r0fyvYHiG7XRiXUj29pLMkLzMikrGg5Y+grymLUrq28SaVe3/AIb1r+0bieR52aKM5HGEQ7/ur+HWve3RZFw6hh6EVWl0yxmmilmtIXkhJMbsgJTPXHpXNR4RqYdyUaikmuqaez00b0HKupK1jHU7lBwRkdD2rk/EGi3Y16TWdM8SRaTMbQQvHLbJKGVSzA8kEfeNek/ZoP8Ankn/AHzWZqHhLw9q15Hd6notjd3EQASWaBWZQDkYJFc+F4NxFKpeVZJdfdv+D0LeJVmrGf4O1O61jwJHfahAILiZHLoOnGRn8cZ/GnfDr/kQtO/7af8Aoxq1NcOpxaQ66DZ2t1ckBViuZzCgXoeQrdvaq/g/SrrRfCdlYah5f2mIN5nlMWUEsW4JAz1r9AwWGjhcP7GOytb8f8zhk25Jvz/Q1rnm1lz/AHD/ACrz3wjuTwQvkDDhrgoAO/mPivQ5VLwug6spArlPBWkazpenyabrthYJDE8hhuLe4MjSbnZvmUqNvB9TXkZ7lU80w6pU2k009fJS0/FGtOp7Oak/P9DzvRLvVdF0K21K31C1aOW8Ky6TFbqXdnmKsxk+9kZ3dO2Oleo1JF4L8PQasdUh0q2S/bOblYwJDkY+916Vp/2db+jfnXx2M4Vx9eXNHlvr1t8tFrbu9X1OiNaMTifFmqvZafFY2fzX+pSfZ7dc46jLHPbChjn1xWppmnxaXpdvZQZKwxhNx6sQOWPuetbb6Fp8t1HcyW6tPECEkIyyg+hqf+zrf0b8655cI5j7JU48vd6vV/d0X6l/WIXOC8eyKvh1Y9hMss6JE/nGIRP1DFh0Awfr071T8Li7i8bXVpql0uq3b26vHexfKuwEZQxj5UPI6HnGa9GudI0+9sZLO9tIrm3kGHjmQMGHoQetRaZoOl+H7WaPw/plpYiT5jHBGI1du2cCvawfCc40OTEVEvRX7dXa23az6mVSvzW5f61v/XbcwvDyKnxK8VBFCjy7ToP9h66+uU8K6XrkPiLWtW8QW1natfiFY4rW4aYAIGBJJVfWrHjPR9a1fTYF8O6kbC6hmEm7cQGA7HFfeytTglBbJaL0IpQjWr8spKKfV7LQ6GSVIl3SuqKO7HArmNR+JPhbTWkSXVI5ZUBzFCCzfSsQfDbUtbkD+MvEd1fRf8+kBKR/z/pXUab4M8PaTAIrLSbVcDBdowWb6nvWPNWlsrev/APS9jltD+JUdR9oqy++Wr+45J/jDA0DNa+H9Ukcj92GiwrHtz6UNcfEXxJBBbfZodDgnOZLlHJkRPQDHBr0gAKoCjAHQClpexnL45/doP8AtHDUtcPh0n3k3L7lovvTOO0T4Z6PpeoR6jeyT6pqCci4u3Lc+uD3rsaKK2hCMFaKsediMVXxUuetJyf9bdgoooqzmCiiigArznwd/wAla8U/7if0r0aqNro1hZ6pdahbW6pdXePOkA5bArKpBylFrozvwuJjRpVoSXxxsvvT/QvUUUVqcBleKNK/tvwvqGndDcQlR9eo/lXEeDPiRo2n+FrTT9fuGs76zQQSRyRnPy8Zr0yqk2k6fcSmSeygkdurNGCTWE6cnNTg9T08Ni6MaEsPiItxvzKzs07We6e/6HKN8W/CisQLqVsHqIjg1Uk+MWiElbPT9Vum/wBi24/nXZ/2JpY6afbf9+hVyONIl2xoqL6KMUuWu95L7v8Agmvt8sjtRk/Wf+UTmvCvjaLxTcTRRaZfWnlKCXuIwqn26109FVdTS8l0u4TTJUhu2jIhkdcqrdiRWsVKMfed2cFWVKrV/dR5Ivu72+ZaorzsWHxTgx5Wp6RPk8iRCMfpSHUPifbLiXTdOuCT1jcjH6Vl7fvF/ceh/ZV/gr03/wBvW/NI9FqlrGoW2laPc3l9KsUMUbFmY+3T61xa678RRDtPh20L/wB/zz/LFQDwh4m8XajBL45ubeLTYG3rYWpJEh/2zSdZtWhF39LFU8thTlz4mrFRW9pKTfkkur87F/4SW8kfg1riRGRLu5kmj3DBKljiu5pkMMdvCkMCLHHGoVVUYAA7U+tacOSCj2PPxuI+tYmde1uZ3CiiitDkPOdV/wCS66V/15tXo1ec6r/yXXSv+vNq9Grnobz9f8j2c0/h4f8A69r82FFFFdB4wUUUUAFFFFABRRRQAUUUUAFFFFABRRRQAUUUUAef/FX/AI+fAv8A2Ntp/wCi5q9Arz/4q/8AHz4F/wCxttP/AEXNXoFAHn/x0/5Il4j/AOuMf/o1K9Arkvil4fv/ABT8Mda0bR41kvbqJViR3ChiHVsZPA4BrM/4Sz4k/wDRMrf/AMKOL/43QB6BRXn/APwlnxJ/6Jlb/wDhRxf/ABuj/hLPiT/0TK3/APCji/8AjdAHoFFef/8ACWfEn/omVv8A+FHF/wDG6P8AhLPiT/0TK3/8KOL/AON0AegUV5//AMJZ8Sf+iZW//hRxf/G6P+Es+JP/AETK3/8ACji/+N0AdlrGj2Wu6a9jqcImt3IJU+xyKqyeH7e38LT6NoyrZRvC8cewcKWB5/WuX/4Sz4k/9Eyt/wDwo4v/AI3R/wAJZ8Sf+iZW/wD4UcX/AMbqXCLd7G8cRVhFQUtE726X72On8JaCPDPhez0oOsjQKdzqMbmJyT+tbNef/wDCWfEn/omVv/4UcX/xuj/hLPiT/wBEyt//AAo4v/jdEYqKUUTVqzrVJVJu7bu/VnS614XtNa1TTdRld4rnT5C8ciHkgjlfpWhqel2esafJZajCs0EmNyN7HNcV/wAJZ8Sf+iZW/wD4UcX/AMbo/wCEs+JP/RMrf/wo4v8A43RyR103K+sVbQXM/d28tb6fM72GJIIUihUJGihVUdAB2qpPo1hc6tb6nNbo93bqVjkI5UH/APVXG/8ACWfEn/omVv8A+FHF/wDG6P8AhLPiT/0TK3/8KOL/AON02k9zONScW3F2b/U9ArgfiF8PoNcspNR0a1jXWFdXD5x5gHUfWm/8JZ8Sf+iZW/8A4UcX/wAbo/4Sz4k/9Eyt/wDwo4v/AI3UVKcakeWR0YPGVsHWVai7Nfj5PyO6tGlazhNwgjlKDeoOcGpq8/8A+Es+JP8A0TK3/wDCji/+N0f8JZ8Sf+iZW/8A4UcX/wAbrQ5W7u56BRXn/wDwlnxJ/wCiZW//AIUcX/xuj/hLPiT/ANEyt/8Awo4v/jdAj0CivP8A/hLPiT/0TK3/APCji/8AjdH/AAlnxJ/6Jlb/APhRxf8AxugD0CivP/8AhLPiT/0TK3/8KOL/AON0f8JZ8Sf+iZW//hRxf/G6APQKK8//AOEs+JP/AETK3/8ACji/+N0f8JZ8Sf8AomVv/wCFHF/8boA9Aorz/wD4Sz4k/wDRMrf/AMKOL/43R/wlnxJ/6Jlb/wDhRxf/ABugD0CivP8A/hLPiT/0TK3/APCji/8AjdH/AAlnxJ/6Jlb/APhRxf8AxugD0CivP/8AhLPiT/0TK3/8KOL/AON0f8JZ8Sf+iZW//hRxf/G6APQKK8//AOEs+JP/AETK3/8ACji/+N0f8JZ8Sf8AomVv/wCFHF/8boA9Aorz/wD4Sz4k/wDRMrf/AMKOL/43R/wlnxJ/6Jlb/wDhRxf/ABugD0CivP8A/hLPiT/0TK3/APCji/8AjdH/AAlnxJ/6Jlb/APhRxf8AxugD0CivP/8AhLPiT/0TK3/8KOL/AON0f8JZ8Sf+iZW//hRxf/G6APQKK8//AOEs+JP/AETK3/8ACji/+N0f8JZ8Sf8AomVv/wCFHF/8boA9Aorz/wD4Sz4k/wDRMrf/AMKOL/43R/wlnxJ/6Jlb/wDhRxf/ABugD0CivP8A/hLPiT/0TK3/APCji/8AjdH/AAlnxJ/6Jlb/APhRxf8AxugD0CivP/8AhLPiT/0TK3/8KOL/AON0f8JZ8Sf+iZW//hRxf/G6APQKK8//AOEs+JP/AETK3/8ACji/+N0f8JZ8Sf8AomVv/wCFHF/8boA9Aorz/wD4Sz4k/wDRMrf/AMKOL/43R/wlnxJ/6Jlb/wDhRxf/ABugD0CivP8A/hLPiT/0TK3/APCji/8AjdH/AAlnxJ/6Jlb/APhRxf8AxugD0CivP/8AhLPiT/0TK3/8KOL/AON0f8JZ8Sf+iZW//hRxf/G6APQKK8//AOEs+JP/AETK3/8ACji/+N0f8JZ8Sf8AomVv/wCFHF/8boA9Aorz/wD4Sz4k/wDRMrf/AMKOL/43R/wlnxJ/6Jlb/wDhRxf/ABugD0CivP8A/hLPiT/0TK3/APCji/8AjdH/AAlnxJ/6Jlb/APhRxf8AxugD0CivP/8AhLPiT/0TK3/8KOL/AON0f8JZ8Sf+iZW//hRxf/G6APQKK8//AOEs+JP/AETK3/8ACji/+N0f8JZ8Sf8AomVv/wCFHF/8boA9Aorz/wD4Sz4k/wDRMrf/AMKOL/43R/wlnxJ/6Jlb/wDhRxf/ABugD0CivP8A/hLPiT/0TK3/APCji/8AjdH/AAlnxJ/6Jlb/APhRxf8AxugD0CivP/8AhLPiT/0TK3/8KOL/AON0f8JZ8Sf+iZW//hRxf/G6APQKK8//AOEs+JP/AETK3/8ACji/+N0f8JZ8Sf8AomVv/wCFHF/8boA9Aorz/wD4Sz4k/wDRMrf/AMKOL/43R/wlnxJ/6Jlb/wDhRxf/ABugDpbjwvaXHi628QO7i4t4TEqA/Kc96268/wD+Es+JP/RMrf8A8KOL/wCN0f8ACWfEn/omVv8A+FHF/wDG6lRSvY1qVqlRRU3flVl5I9Aorz//AISz4k/9Eyt//Cji/wDjdH/CWfEn/omVv/4UcX/xuqMj0CivP/8AhLPiT/0TK3/8KOL/AON0f8JZ8Sf+iZW//hRxf/G6APQKK8//AOEs+JP/AETK3/8ACji/+N0f8JZ8Sf8AomVv/wCFHF/8boA9Aorz/wD4Sz4k/wDRMrf/AMKOL/43R/wlnxJ/6Jlb/wDhRxf/ABugD0CivP8A/hLPiT/0TK3/APCji/8AjdH/AAlnxJ/6Jlb/APhRxf8AxugD0CivP/8AhLPiT/0TK3/8KOL/AON0f8JZ8Sf+iZW//hRxf/G6APQKK8//AOEs+JP/AETK3/8ACji/+N0f8JZ8Sf8AomVv/wCFHF/8boA9Aorz/wD4Sz4k/wDRMrf/AMKOL/43R/wlnxJ/6Jlb/wDhRxf/ABugA+Kv/Hz4F/7G20/9FzV6BXlWrR+PfGOs+GY9T8FwaNaaZrUGozXI1mO4O1FdSuwKD/H+leq0AFFFFABRRRQAUUUUAFFFFABRRRQAUUUUAFFFFABRRRQAUUUUAFFFFABRRRQAUUUUAFFFFABRRRQAUUUUAFFFFABRRRQAUUUUAFFFFABRRRQAUUUUAFFFFABRRRQAUUUUAFFFFABRRRQAUUUUAFFFFABRRRQAUUUUAFFFFABRRRQAUUUUAFFFFABRRRQAUUUUAFFFFABRRRQAUUUUAFFFFABRRRQAUUUUAFFFFABRRRQAUUUUAFFFFABRRRQAUUUUAFFFFAH/2Q==)"
      ]
    },
    {
      "cell_type": "markdown",
      "metadata": {
        "id": "pe1H-VJ6nhxp"
      },
      "source": [
        "##### **Use KFold for our digits example**"
      ]
    },
    {
      "cell_type": "code",
      "metadata": {
        "id": "JA-mSLNelJOA"
      },
      "source": [
        "def get_score(model, X_train, X_test, y_train, y_test):\n",
        "    model.fit(X_train, y_train)\n",
        "    return model.score(X_test, y_test)"
      ],
      "execution_count": 13,
      "outputs": []
    },
    {
      "cell_type": "code",
      "metadata": {
        "id": "K20v5F36nm4a"
      },
      "source": [
        "from sklearn.model_selection import StratifiedKFold\n",
        "folds = StratifiedKFold(n_splits=3)\n",
        "\n",
        "scores_logistic = []\n",
        "scores_svm = []\n",
        "scores_rf = []\n",
        "\n",
        "for train_index, test_index in folds.split(digits.data,digits.target):\n",
        "    X_train, X_test, y_train, y_test = digits.data[train_index], digits.data[test_index], \\\n",
        "                                       digits.target[train_index], digits.target[test_index]\n",
        "    scores_logistic.append(get_score(LogisticRegression(solver='liblinear',multi_class='ovr'), X_train, X_test, y_train, y_test))  \n",
        "    scores_svm.append(get_score(SVC(gamma='auto'), X_train, X_test, y_train, y_test))\n",
        "    scores_rf.append(get_score(RandomForestClassifier(n_estimators=40), X_train, X_test, y_train, y_test))"
      ],
      "execution_count": 14,
      "outputs": []
    },
    {
      "cell_type": "code",
      "metadata": {
        "colab": {
          "base_uri": "https://localhost:8080/"
        },
        "id": "3Wtf8Lw3nmyZ",
        "outputId": "4df1828b-5a62-4762-de7a-5225f60a52a6"
      },
      "source": [
        "scores_logistic"
      ],
      "execution_count": 15,
      "outputs": [
        {
          "output_type": "execute_result",
          "data": {
            "text/plain": [
              "[0.8948247078464107, 0.9532554257095158, 0.9098497495826378]"
            ]
          },
          "metadata": {},
          "execution_count": 15
        }
      ]
    },
    {
      "cell_type": "code",
      "metadata": {
        "colab": {
          "base_uri": "https://localhost:8080/"
        },
        "id": "iqh7Xsnbnmp4",
        "outputId": "8ff88b75-d578-4868-8c28-da2b391cdcd7"
      },
      "source": [
        "scores_svm"
      ],
      "execution_count": 16,
      "outputs": [
        {
          "output_type": "execute_result",
          "data": {
            "text/plain": [
              "[0.3806343906510851, 0.41068447412353926, 0.5125208681135225]"
            ]
          },
          "metadata": {},
          "execution_count": 16
        }
      ]
    },
    {
      "cell_type": "code",
      "metadata": {
        "colab": {
          "base_uri": "https://localhost:8080/"
        },
        "id": "SqJ_IAm-nmgo",
        "outputId": "8ca82d32-2741-4cd7-8138-1cde787dd99d"
      },
      "source": [
        "scores_rf"
      ],
      "execution_count": 17,
      "outputs": [
        {
          "output_type": "execute_result",
          "data": {
            "text/plain": [
              "[0.9215358931552587, 0.9565943238731218, 0.9232053422370617]"
            ]
          },
          "metadata": {},
          "execution_count": 17
        }
      ]
    },
    {
      "cell_type": "markdown",
      "metadata": {
        "id": "PKVB4-lIn2bg"
      },
      "source": [
        "### **cross_val_score function**\n",
        "\n",
        "- The above code can be replace with **cross_val_score**."
      ]
    },
    {
      "cell_type": "code",
      "metadata": {
        "id": "0VHdebYunzhQ"
      },
      "source": [
        "from sklearn.model_selection import cross_val_score"
      ],
      "execution_count": 18,
      "outputs": []
    },
    {
      "cell_type": "markdown",
      "metadata": {
        "id": "imjC76trn9fY"
      },
      "source": [
        "##### **Logistic regression model performance using cross_val_score**"
      ]
    },
    {
      "cell_type": "code",
      "metadata": {
        "colab": {
          "base_uri": "https://localhost:8080/"
        },
        "id": "ANonu25TnzbQ",
        "outputId": "b2aeee8c-036e-4c56-9a37-16edac1b7b4f"
      },
      "source": [
        "cross_val_score(LogisticRegression(solver='liblinear',multi_class='ovr'), digits.data, digits.target,cv=3)"
      ],
      "execution_count": 19,
      "outputs": [
        {
          "output_type": "execute_result",
          "data": {
            "text/plain": [
              "array([0.89482471, 0.95325543, 0.90984975])"
            ]
          },
          "metadata": {},
          "execution_count": 19
        }
      ]
    },
    {
      "cell_type": "markdown",
      "metadata": {
        "id": "cM9RfFbCoDsI"
      },
      "source": [
        "##### **svm model performance using cross_val_score**"
      ]
    },
    {
      "cell_type": "code",
      "metadata": {
        "colab": {
          "base_uri": "https://localhost:8080/"
        },
        "id": "-sxWqNyInzS_",
        "outputId": "575109d4-0288-4aa0-8a7f-3453fd18fefd"
      },
      "source": [
        "cross_val_score(SVC(gamma='auto'), digits.data, digits.target,cv=3)"
      ],
      "execution_count": 20,
      "outputs": [
        {
          "output_type": "execute_result",
          "data": {
            "text/plain": [
              "array([0.38063439, 0.41068447, 0.51252087])"
            ]
          },
          "metadata": {},
          "execution_count": 20
        }
      ]
    },
    {
      "cell_type": "markdown",
      "metadata": {
        "id": "O4fZKpcooJqB"
      },
      "source": [
        "##### **random forest performance using cross_val_score**"
      ]
    },
    {
      "cell_type": "code",
      "metadata": {
        "colab": {
          "base_uri": "https://localhost:8080/"
        },
        "id": "3MUiZ24ZnzJI",
        "outputId": "076ad764-fb00-411e-843d-e0db76bd0cf6"
      },
      "source": [
        "cross_val_score(RandomForestClassifier(n_estimators=40),digits.data, digits.target,cv=3)"
      ],
      "execution_count": 21,
      "outputs": [
        {
          "output_type": "execute_result",
          "data": {
            "text/plain": [
              "array([0.93989983, 0.93656093, 0.92153589])"
            ]
          },
          "metadata": {},
          "execution_count": 21
        }
      ]
    },
    {
      "cell_type": "markdown",
      "metadata": {
        "id": "Mx5vRO8IoRSw"
      },
      "source": [
        "- cross_val_score uses stratifield kfold by default"
      ]
    },
    {
      "cell_type": "markdown",
      "metadata": {
        "id": "FUotthEOoVTI"
      },
      "source": [
        "#### **Parameter tunning using k fold cross validation**"
      ]
    },
    {
      "cell_type": "code",
      "metadata": {
        "colab": {
          "base_uri": "https://localhost:8080/"
        },
        "id": "L0uvu_QdXYgT",
        "outputId": "4d48ebf8-728b-4740-e4ca-120c14402514"
      },
      "source": [
        "cross_val_score(RandomForestClassifier(n_estimators=5), digits.data, digits.target, cv=3)"
      ],
      "execution_count": 27,
      "outputs": [
        {
          "output_type": "execute_result",
          "data": {
            "text/plain": [
              "array([0.83973289, 0.86143573, 0.85308848])"
            ]
          },
          "metadata": {},
          "execution_count": 27
        }
      ]
    },
    {
      "cell_type": "code",
      "metadata": {
        "colab": {
          "base_uri": "https://localhost:8080/"
        },
        "id": "IubxSLivoSbB",
        "outputId": "56f9f6c0-e11e-47ba-ce60-e919ba9829a9"
      },
      "source": [
        "scores1 = cross_val_score(RandomForestClassifier(n_estimators=5),digits.data, digits.target, cv=10)\n",
        "np.average(scores1)"
      ],
      "execution_count": 22,
      "outputs": [
        {
          "output_type": "execute_result",
          "data": {
            "text/plain": [
              "0.8803848541278709"
            ]
          },
          "metadata": {},
          "execution_count": 22
        }
      ]
    },
    {
      "cell_type": "code",
      "metadata": {
        "colab": {
          "base_uri": "https://localhost:8080/"
        },
        "id": "QVUHXDWRoZmg",
        "outputId": "c4ec5f6e-1f6a-47ed-905d-e0d520f387fa"
      },
      "source": [
        "scores2 = cross_val_score(RandomForestClassifier(n_estimators=20),digits.data, digits.target, cv=10)\n",
        "np.average(scores2)"
      ],
      "execution_count": 23,
      "outputs": [
        {
          "output_type": "execute_result",
          "data": {
            "text/plain": [
              "0.9315456238361266"
            ]
          },
          "metadata": {},
          "execution_count": 23
        }
      ]
    },
    {
      "cell_type": "code",
      "metadata": {
        "colab": {
          "base_uri": "https://localhost:8080/"
        },
        "id": "RpTl8H8aoZlY",
        "outputId": "e0f7e36b-08c2-4e31-f451-76863f3a599c"
      },
      "source": [
        "scores3 = cross_val_score(RandomForestClassifier(n_estimators=30),digits.data, digits.target, cv=10)\n",
        "np.average(scores3)"
      ],
      "execution_count": 24,
      "outputs": [
        {
          "output_type": "execute_result",
          "data": {
            "text/plain": [
              "0.9465580384854126"
            ]
          },
          "metadata": {},
          "execution_count": 24
        }
      ]
    },
    {
      "cell_type": "code",
      "metadata": {
        "colab": {
          "base_uri": "https://localhost:8080/"
        },
        "id": "TfneCO-roZdW",
        "outputId": "edd29a1c-8e88-4262-871b-c58f26c7d550"
      },
      "source": [
        "scores4 = cross_val_score(RandomForestClassifier(n_estimators=40),digits.data, digits.target, cv=10)\n",
        "np.average(scores4)"
      ],
      "execution_count": 25,
      "outputs": [
        {
          "output_type": "execute_result",
          "data": {
            "text/plain": [
              "0.945477963997517"
            ]
          },
          "metadata": {},
          "execution_count": 25
        }
      ]
    },
    {
      "cell_type": "markdown",
      "metadata": {
        "id": "jissqgXqoh0Y"
      },
      "source": [
        "- Here we used cross_val_score to fine tune our random forest classifier and figured that having around 40 trees in random forest gives best result."
      ]
    }
  ]
}