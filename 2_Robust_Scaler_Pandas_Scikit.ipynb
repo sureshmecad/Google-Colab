{
  "nbformat": 4,
  "nbformat_minor": 0,
  "metadata": {
    "colab": {
      "name": "2_Robust-Scaler_Pandas-Scikit.ipynb",
      "provenance": [],
      "collapsed_sections": [],
      "authorship_tag": "ABX9TyMWo/M7TNx6ynlvHiurErDX",
      "include_colab_link": true
    },
    "kernelspec": {
      "name": "python3",
      "display_name": "Python 3"
    },
    "language_info": {
      "name": "python"
    }
  },
  "cells": [
    {
      "cell_type": "markdown",
      "metadata": {
        "id": "view-in-github",
        "colab_type": "text"
      },
      "source": [
        "<a href=\"https://colab.research.google.com/github/sureshmecad/Google-Colab/blob/master/2_Robust_Scaler_Pandas_Scikit.ipynb\" target=\"_parent\"><img src=\"https://colab.research.google.com/assets/colab-badge.svg\" alt=\"Open In Colab\"/></a>"
      ]
    },
    {
      "cell_type": "markdown",
      "metadata": {
        "id": "hLIJlnBbMD83"
      },
      "source": [
        "- Let’s see **how outliers** affect the results after scaling the data with **robust scaling**.\n",
        "\n",
        "- The following data set contains 10 data points, one of them being an **outlier (variable1 = 30).**"
      ]
    },
    {
      "cell_type": "markdown",
      "metadata": {
        "id": "RqGOjkqiMD73"
      },
      "source": [
        "- On the contrary, if we apply robust scaling, both variables have the same values (-1.00,-1.00) after the transformation, because both features have the same median and interquartile range, being the outlier the value that is shifted."
      ]
    },
    {
      "cell_type": "markdown",
      "metadata": {
        "id": "GJhe3Lw7NQUX"
      },
      "source": [
        "----------------------"
      ]
    },
    {
      "cell_type": "code",
      "metadata": {
        "id": "MdkMMdpzNGE6"
      },
      "source": [
        "import pandas as pd\n",
        "\n",
        "import matplotlib.pyplot as plt\n",
        "import seaborn as sns"
      ],
      "execution_count": 1,
      "outputs": []
    },
    {
      "cell_type": "code",
      "metadata": {
        "colab": {
          "base_uri": "https://localhost:8080/",
          "height": 202
        },
        "id": "Hz5qn_GUN68j",
        "outputId": "acd0ea04-d75b-4038-87eb-f1666addda2b"
      },
      "source": [
        "import pandas as pd\n",
        "\n",
        "# data frame containing the odometer reading (km) and the fuel economy (km/l) of second-hand cars\n",
        "df_cars = pd.DataFrame([[120000, 11], [250000, 11.5], [175000, 15.8], [350000, 17], [400000, 10]],\n",
        "                       columns=['odometer_reading', 'fuel_economy'])\n",
        "\n",
        "df_cars"
      ],
      "execution_count": 5,
      "outputs": [
        {
          "output_type": "execute_result",
          "data": {
            "text/html": [
              "<div>\n",
              "<style scoped>\n",
              "    .dataframe tbody tr th:only-of-type {\n",
              "        vertical-align: middle;\n",
              "    }\n",
              "\n",
              "    .dataframe tbody tr th {\n",
              "        vertical-align: top;\n",
              "    }\n",
              "\n",
              "    .dataframe thead th {\n",
              "        text-align: right;\n",
              "    }\n",
              "</style>\n",
              "<table border=\"1\" class=\"dataframe\">\n",
              "  <thead>\n",
              "    <tr style=\"text-align: right;\">\n",
              "      <th></th>\n",
              "      <th>odometer_reading</th>\n",
              "      <th>fuel_economy</th>\n",
              "    </tr>\n",
              "  </thead>\n",
              "  <tbody>\n",
              "    <tr>\n",
              "      <th>0</th>\n",
              "      <td>120000</td>\n",
              "      <td>11.0</td>\n",
              "    </tr>\n",
              "    <tr>\n",
              "      <th>1</th>\n",
              "      <td>250000</td>\n",
              "      <td>11.5</td>\n",
              "    </tr>\n",
              "    <tr>\n",
              "      <th>2</th>\n",
              "      <td>175000</td>\n",
              "      <td>15.8</td>\n",
              "    </tr>\n",
              "    <tr>\n",
              "      <th>3</th>\n",
              "      <td>350000</td>\n",
              "      <td>17.0</td>\n",
              "    </tr>\n",
              "    <tr>\n",
              "      <th>4</th>\n",
              "      <td>400000</td>\n",
              "      <td>10.0</td>\n",
              "    </tr>\n",
              "  </tbody>\n",
              "</table>\n",
              "</div>"
            ],
            "text/plain": [
              "   odometer_reading  fuel_economy\n",
              "0            120000          11.0\n",
              "1            250000          11.5\n",
              "2            175000          15.8\n",
              "3            350000          17.0\n",
              "4            400000          10.0"
            ]
          },
          "metadata": {},
          "execution_count": 5
        }
      ]
    },
    {
      "cell_type": "code",
      "metadata": {
        "colab": {
          "base_uri": "https://localhost:8080/",
          "height": 434
        },
        "id": "3tpDgueaPhT7",
        "outputId": "da9483d8-6885-49a1-ac4e-cc8a837ab602"
      },
      "source": [
        "plt.figure(figsize=(8,6))\n",
        "# scatter plot of the data after applying min-max scaling\n",
        "sns.scatterplot(x='odometer_reading', y='fuel_economy', data=df_cars, s=100, color='salmon')\n",
        "\n",
        "# xticks and yticks\n",
        "plt.xticks(fontsize=14)\n",
        "plt.yticks(fontsize=14)\n",
        "\n",
        "# labels and title\n",
        "plt.xlabel('odometer_reading', fontsize=14)\n",
        "plt.ylabel('fuel_economy', fontsize=14)\n",
        "plt.title('The scaling', fontsize=20)"
      ],
      "execution_count": 9,
      "outputs": [
        {
          "output_type": "execute_result",
          "data": {
            "text/plain": [
              "Text(0.5, 1.0, 'The scaling')"
            ]
          },
          "metadata": {},
          "execution_count": 9
        },
        {
          "output_type": "display_data",
          "data": {
            "image/png": "[encoded data removed]",
            "text/plain": [
              "<Figure size 576x432 with 1 Axes>"
            ]
          },
          "metadata": {
            "needs_background": "light"
          }
        }
      ]
    },
    {
      "cell_type": "markdown",
      "metadata": {
        "id": "fvpEbryyN2A_"
      },
      "source": [
        "### **PANDAS**"
      ]
    },
    {
      "cell_type": "code",
      "metadata": {
        "colab": {
          "base_uri": "https://localhost:8080/",
          "height": 202
        },
        "id": "9W0hSRMVN5YP",
        "outputId": "a3592492-c475-4214-8733-b9ba22c26f1e"
      },
      "source": [
        "# apply the robust scaling in Pandas using the .median() and .quantile() methods\n",
        "def robust_scaling(df):\n",
        "    # copy the dataframe\n",
        "    df_robust = df.copy()\n",
        "    # apply robust scaling\n",
        "    for column in df_robust.columns:\n",
        "        df_robust[column] = (df_robust[column] - df_robust[column].median())  / (df_robust[column].quantile(0.75) - df_robust[column].quantile(0.25))\n",
        "    return df_robust\n",
        "    \n",
        "# call the robust_scaling function\n",
        "df_cars_robust = robust_scaling(df_cars)\n",
        "\n",
        "df_cars_robust"
      ],
      "execution_count": 6,
      "outputs": [
        {
          "output_type": "execute_result",
          "data": {
            "text/html": [
              "<div>\n",
              "<style scoped>\n",
              "    .dataframe tbody tr th:only-of-type {\n",
              "        vertical-align: middle;\n",
              "    }\n",
              "\n",
              "    .dataframe tbody tr th {\n",
              "        vertical-align: top;\n",
              "    }\n",
              "\n",
              "    .dataframe thead th {\n",
              "        text-align: right;\n",
              "    }\n",
              "</style>\n",
              "<table border=\"1\" class=\"dataframe\">\n",
              "  <thead>\n",
              "    <tr style=\"text-align: right;\">\n",
              "      <th></th>\n",
              "      <th>odometer_reading</th>\n",
              "      <th>fuel_economy</th>\n",
              "    </tr>\n",
              "  </thead>\n",
              "  <tbody>\n",
              "    <tr>\n",
              "      <th>0</th>\n",
              "      <td>-0.742857</td>\n",
              "      <td>-0.104167</td>\n",
              "    </tr>\n",
              "    <tr>\n",
              "      <th>1</th>\n",
              "      <td>0.000000</td>\n",
              "      <td>0.000000</td>\n",
              "    </tr>\n",
              "    <tr>\n",
              "      <th>2</th>\n",
              "      <td>-0.428571</td>\n",
              "      <td>0.895833</td>\n",
              "    </tr>\n",
              "    <tr>\n",
              "      <th>3</th>\n",
              "      <td>0.571429</td>\n",
              "      <td>1.145833</td>\n",
              "    </tr>\n",
              "    <tr>\n",
              "      <th>4</th>\n",
              "      <td>0.857143</td>\n",
              "      <td>-0.312500</td>\n",
              "    </tr>\n",
              "  </tbody>\n",
              "</table>\n",
              "</div>"
            ],
            "text/plain": [
              "   odometer_reading  fuel_economy\n",
              "0         -0.742857     -0.104167\n",
              "1          0.000000      0.000000\n",
              "2         -0.428571      0.895833\n",
              "3          0.571429      1.145833\n",
              "4          0.857143     -0.312500"
            ]
          },
          "metadata": {},
          "execution_count": 6
        }
      ]
    },
    {
      "cell_type": "markdown",
      "metadata": {
        "id": "oargTkwyOV0C"
      },
      "source": [
        "- The **median** is defined as the midpoint of the distribution, meaning 50% of the values of the distribution are smaller than the median.\n",
        "\n",
        "- In **Pandas**, we can calculate it with the **.median() or the .quantile(0.5)** methods.\n",
        "\n",
        "- The **first quartile** is the median of the **lower half** of the data set **(25%** of the values lie below the first quartile) and can be calculated with the **.quantile(0.25)** method.\n",
        "\n",
        "- The **third quartile** represents the median of the **upper half** of the data set **(75%** of the values lie below the third quartile) and can be calculated with the **.quantile(0.75)** method."
      ]
    },
    {
      "cell_type": "markdown",
      "metadata": {
        "id": "8tWjW_gsN1_o"
      },
      "source": [
        "### **SCIKIT**"
      ]
    },
    {
      "cell_type": "code",
      "metadata": {
        "colab": {
          "base_uri": "https://localhost:8080/",
          "height": 202
        },
        "id": "U3-O7-AQN67X",
        "outputId": "0f5e15ca-6956-4486-89dd-416a348a4dad"
      },
      "source": [
        "from sklearn.preprocessing import RobustScaler\n",
        "\n",
        "# create a scaler object\n",
        "scaler = RobustScaler()\n",
        "\n",
        "# fit and transform the data\n",
        "df_robust = pd.DataFrame(scaler.fit_transform(df_cars), columns=df_cars.columns)\n",
        "\n",
        "df_robust"
      ],
      "execution_count": 7,
      "outputs": [
        {
          "output_type": "execute_result",
          "data": {
            "text/html": [
              "<div>\n",
              "<style scoped>\n",
              "    .dataframe tbody tr th:only-of-type {\n",
              "        vertical-align: middle;\n",
              "    }\n",
              "\n",
              "    .dataframe tbody tr th {\n",
              "        vertical-align: top;\n",
              "    }\n",
              "\n",
              "    .dataframe thead th {\n",
              "        text-align: right;\n",
              "    }\n",
              "</style>\n",
              "<table border=\"1\" class=\"dataframe\">\n",
              "  <thead>\n",
              "    <tr style=\"text-align: right;\">\n",
              "      <th></th>\n",
              "      <th>odometer_reading</th>\n",
              "      <th>fuel_economy</th>\n",
              "    </tr>\n",
              "  </thead>\n",
              "  <tbody>\n",
              "    <tr>\n",
              "      <th>0</th>\n",
              "      <td>-0.742857</td>\n",
              "      <td>-0.104167</td>\n",
              "    </tr>\n",
              "    <tr>\n",
              "      <th>1</th>\n",
              "      <td>0.000000</td>\n",
              "      <td>0.000000</td>\n",
              "    </tr>\n",
              "    <tr>\n",
              "      <th>2</th>\n",
              "      <td>-0.428571</td>\n",
              "      <td>0.895833</td>\n",
              "    </tr>\n",
              "    <tr>\n",
              "      <th>3</th>\n",
              "      <td>0.571429</td>\n",
              "      <td>1.145833</td>\n",
              "    </tr>\n",
              "    <tr>\n",
              "      <th>4</th>\n",
              "      <td>0.857143</td>\n",
              "      <td>-0.312500</td>\n",
              "    </tr>\n",
              "  </tbody>\n",
              "</table>\n",
              "</div>"
            ],
            "text/plain": [
              "   odometer_reading  fuel_economy\n",
              "0         -0.742857     -0.104167\n",
              "1          0.000000      0.000000\n",
              "2         -0.428571      0.895833\n",
              "3          0.571429      1.145833\n",
              "4          0.857143     -0.312500"
            ]
          },
          "metadata": {},
          "execution_count": 7
        }
      ]
    },
    {
      "cell_type": "markdown",
      "metadata": {
        "id": "ou-VLjaYQxfp"
      },
      "source": [
        "- As shown above, we obtain the **same results** as before 🙌"
      ]
    },
    {
      "cell_type": "markdown",
      "metadata": {
        "id": "80yEJtssQcGw"
      },
      "source": [
        "- The following plot shows the results after transforming the data with **robust scaling**."
      ]
    },
    {
      "cell_type": "code",
      "metadata": {
        "colab": {
          "base_uri": "https://localhost:8080/",
          "height": 434
        },
        "id": "jwn8c-MQPRXJ",
        "outputId": "f1a7a867-b3f6-4c6a-bc32-a7bee21aab32"
      },
      "source": [
        "plt.figure(figsize=(8,6))\n",
        "# scatter plot of the data after applying min-max scaling\n",
        "sns.scatterplot(x='odometer_reading', y='fuel_economy', data=df_robust, s=100, color='salmon')\n",
        "\n",
        "# xticks and yticks\n",
        "plt.xticks(fontsize=14)\n",
        "plt.yticks(fontsize=14)\n",
        "\n",
        "# labels and title\n",
        "plt.xlabel('odometer_reading', fontsize=14)\n",
        "plt.ylabel('fuel_economy', fontsize=14)\n",
        "plt.title('The Robust scaling', fontsize=20)"
      ],
      "execution_count": 10,
      "outputs": [
        {
          "output_type": "execute_result",
          "data": {
            "text/plain": [
              "Text(0.5, 1.0, 'The Robust scaling')"
            ]
          },
          "metadata": {},
          "execution_count": 10
        },
        {
          "output_type": "display_data",
          "data": {
            "image/png": "[encoded data removed]",
            "text/plain": [
              "<Figure size 576x432 with 1 Axes>"
            ]
          },
          "metadata": {
            "needs_background": "light"
          }
        }
      ]
    },
    {
      "cell_type": "markdown",
      "metadata": {
        "id": "M8aBmdx3Nwnt"
      },
      "source": [
        "### **Outliers**"
      ]
    },
    {
      "cell_type": "code",
      "metadata": {
        "colab": {
          "base_uri": "https://localhost:8080/",
          "height": 294
        },
        "id": "COt4shw8NEQh",
        "outputId": "b6f27409-b11f-4452-9002-abd45ab9886c"
      },
      "source": [
        "# the data frame contains one outlier\n",
        "df_data = pd.DataFrame({'variable1':[1,2,3,4,5,6,7,30], 'variable2':[1,2,3,4,5,6,7,8]})\n",
        "\n",
        "df_data"
      ],
      "execution_count": 2,
      "outputs": [
        {
          "output_type": "execute_result",
          "data": {
            "text/html": [
              "<div>\n",
              "<style scoped>\n",
              "    .dataframe tbody tr th:only-of-type {\n",
              "        vertical-align: middle;\n",
              "    }\n",
              "\n",
              "    .dataframe tbody tr th {\n",
              "        vertical-align: top;\n",
              "    }\n",
              "\n",
              "    .dataframe thead th {\n",
              "        text-align: right;\n",
              "    }\n",
              "</style>\n",
              "<table border=\"1\" class=\"dataframe\">\n",
              "  <thead>\n",
              "    <tr style=\"text-align: right;\">\n",
              "      <th></th>\n",
              "      <th>variable1</th>\n",
              "      <th>variable2</th>\n",
              "    </tr>\n",
              "  </thead>\n",
              "  <tbody>\n",
              "    <tr>\n",
              "      <th>0</th>\n",
              "      <td>1</td>\n",
              "      <td>1</td>\n",
              "    </tr>\n",
              "    <tr>\n",
              "      <th>1</th>\n",
              "      <td>2</td>\n",
              "      <td>2</td>\n",
              "    </tr>\n",
              "    <tr>\n",
              "      <th>2</th>\n",
              "      <td>3</td>\n",
              "      <td>3</td>\n",
              "    </tr>\n",
              "    <tr>\n",
              "      <th>3</th>\n",
              "      <td>4</td>\n",
              "      <td>4</td>\n",
              "    </tr>\n",
              "    <tr>\n",
              "      <th>4</th>\n",
              "      <td>5</td>\n",
              "      <td>5</td>\n",
              "    </tr>\n",
              "    <tr>\n",
              "      <th>5</th>\n",
              "      <td>6</td>\n",
              "      <td>6</td>\n",
              "    </tr>\n",
              "    <tr>\n",
              "      <th>6</th>\n",
              "      <td>7</td>\n",
              "      <td>7</td>\n",
              "    </tr>\n",
              "    <tr>\n",
              "      <th>7</th>\n",
              "      <td>30</td>\n",
              "      <td>8</td>\n",
              "    </tr>\n",
              "  </tbody>\n",
              "</table>\n",
              "</div>"
            ],
            "text/plain": [
              "   variable1  variable2\n",
              "0          1          1\n",
              "1          2          2\n",
              "2          3          3\n",
              "3          4          4\n",
              "4          5          5\n",
              "5          6          6\n",
              "6          7          7\n",
              "7         30          8"
            ]
          },
          "metadata": {},
          "execution_count": 2
        }
      ]
    },
    {
      "cell_type": "code",
      "metadata": {
        "colab": {
          "base_uri": "https://localhost:8080/",
          "height": 294
        },
        "id": "JsoM428UHiHi",
        "outputId": "371f460b-60d0-42fc-faca-5d8e720b2b4e"
      },
      "source": [
        "from sklearn.preprocessing import RobustScaler\n",
        "\n",
        "# create a scaler object\n",
        "scaler = RobustScaler()\n",
        "\n",
        "# fit and transform the data\n",
        "df_robust = pd.DataFrame(scaler.fit_transform(df_data), columns=df_data.columns)\n",
        "\n",
        "df_robust"
      ],
      "execution_count": 3,
      "outputs": [
        {
          "output_type": "execute_result",
          "data": {
            "text/html": [
              "<div>\n",
              "<style scoped>\n",
              "    .dataframe tbody tr th:only-of-type {\n",
              "        vertical-align: middle;\n",
              "    }\n",
              "\n",
              "    .dataframe tbody tr th {\n",
              "        vertical-align: top;\n",
              "    }\n",
              "\n",
              "    .dataframe thead th {\n",
              "        text-align: right;\n",
              "    }\n",
              "</style>\n",
              "<table border=\"1\" class=\"dataframe\">\n",
              "  <thead>\n",
              "    <tr style=\"text-align: right;\">\n",
              "      <th></th>\n",
              "      <th>variable1</th>\n",
              "      <th>variable2</th>\n",
              "    </tr>\n",
              "  </thead>\n",
              "  <tbody>\n",
              "    <tr>\n",
              "      <th>0</th>\n",
              "      <td>-1.000000</td>\n",
              "      <td>-1.000000</td>\n",
              "    </tr>\n",
              "    <tr>\n",
              "      <th>1</th>\n",
              "      <td>-0.714286</td>\n",
              "      <td>-0.714286</td>\n",
              "    </tr>\n",
              "    <tr>\n",
              "      <th>2</th>\n",
              "      <td>-0.428571</td>\n",
              "      <td>-0.428571</td>\n",
              "    </tr>\n",
              "    <tr>\n",
              "      <th>3</th>\n",
              "      <td>-0.142857</td>\n",
              "      <td>-0.142857</td>\n",
              "    </tr>\n",
              "    <tr>\n",
              "      <th>4</th>\n",
              "      <td>0.142857</td>\n",
              "      <td>0.142857</td>\n",
              "    </tr>\n",
              "    <tr>\n",
              "      <th>5</th>\n",
              "      <td>0.428571</td>\n",
              "      <td>0.428571</td>\n",
              "    </tr>\n",
              "    <tr>\n",
              "      <th>6</th>\n",
              "      <td>0.714286</td>\n",
              "      <td>0.714286</td>\n",
              "    </tr>\n",
              "    <tr>\n",
              "      <th>7</th>\n",
              "      <td>7.285714</td>\n",
              "      <td>1.000000</td>\n",
              "    </tr>\n",
              "  </tbody>\n",
              "</table>\n",
              "</div>"
            ],
            "text/plain": [
              "   variable1  variable2\n",
              "0  -1.000000  -1.000000\n",
              "1  -0.714286  -0.714286\n",
              "2  -0.428571  -0.428571\n",
              "3  -0.142857  -0.142857\n",
              "4   0.142857   0.142857\n",
              "5   0.428571   0.428571\n",
              "6   0.714286   0.714286\n",
              "7   7.285714   1.000000"
            ]
          },
          "metadata": {},
          "execution_count": 3
        }
      ]
    },
    {
      "cell_type": "code",
      "metadata": {
        "colab": {
          "base_uri": "https://localhost:8080/",
          "height": 325
        },
        "id": "0r3sNowjNmPS",
        "outputId": "4b77ece6-a268-44a4-d81c-f1e349227885"
      },
      "source": [
        "# scatter plot of the data after applying min-max scaling\n",
        "sns.scatterplot(x='variable1', y='variable2', data=df_robust, s=100, color='salmon')\n",
        "\n",
        "# xticks and yticks\n",
        "plt.xticks(fontsize=14)\n",
        "plt.yticks(fontsize=14)\n",
        "\n",
        "# labels and title\n",
        "plt.xlabel('variable1', fontsize=14)\n",
        "plt.ylabel('variable2', fontsize=14)\n",
        "plt.title('The robust scaling', fontsize=20)"
      ],
      "execution_count": 4,
      "outputs": [
        {
          "output_type": "execute_result",
          "data": {
            "text/plain": [
              "Text(0.5, 1.0, 'The robust scaling')"
            ]
          },
          "metadata": {},
          "execution_count": 4
        },
        {
          "output_type": "display_data",
          "data": {
            "image/png": "[encoded data removed]",
            "text/plain": [
              "<Figure size 432x288 with 1 Axes>"
            ]
          },
          "metadata": {
            "needs_background": "light"
          }
        }
      ]
    }
  ]
}