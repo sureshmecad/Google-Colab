{
  "nbformat": 4,
  "nbformat_minor": 0,
  "metadata": {
    "colab": {
      "name": "1_Interview-Que_Outliers.ipynb",
      "provenance": [],
      "collapsed_sections": [],
      "authorship_tag": "ABX9TyNieBnGPOvC6vfe11givuwg",
      "include_colab_link": true
    },
    "kernelspec": {
      "name": "python3",
      "display_name": "Python 3"
    },
    "language_info": {
      "name": "python"
    }
  },
  "cells": [
    {
      "cell_type": "markdown",
      "metadata": {
        "id": "view-in-github",
        "colab_type": "text"
      },
      "source": [
        "<a href=\"https://colab.research.google.com/github/sureshmecad/Google-Colab/blob/master/1_Interview_Que_Outliers.ipynb\" target=\"_parent\"><img src=\"https://colab.research.google.com/assets/colab-badge.svg\" alt=\"Open In Colab\"/></a>"
      ]
    },
    {
      "cell_type": "markdown",
      "metadata": {
        "id": "HxgUCtug5dyP"
      },
      "source": [
        "### **What are some ways I can make my model more robust to outliers?**"
      ]
    },
    {
      "cell_type": "markdown",
      "metadata": {
        "id": "84WZ-cBT5g3w"
      },
      "source": [
        "---------------------"
      ]
    },
    {
      "cell_type": "markdown",
      "metadata": {
        "id": "PvdapVaB5nJP"
      },
      "source": [
        "- There are several ways to make a model more robust to outliers, from different points of view (data preparation or model building). An outlier in the question and answer is assumed being **unwanted, unexpected, or a must-be-wrong** value to the human’s knowledge so far (e.g. **no one is 200 years old**) rather than a rare event which is possible but rare.\n",
        "\n",
        "- Outliers are usually defined in relation to the distribution. Thus **outliers could be removed** in the pre-processing step (before any learning step), by using\n",
        "\n",
        " - standard deviations (Mean +/- 2*SD), it can be used for normality.\n",
        " - interquartile ranges Q1 - Q3, Q1 - is the \"middle\" value in the first half of the rank-ordered data set, Q3 - is the \"middle\" value in the second half of the rank-ordered data set. It can be used for not normal/unknown as threshold levels.\n",
        "\n",
        "- Moreover, **data transformation** (e.g. **log transformation**) may help if data have a noticeable tail. When outliers related to the sensitivity of the collecting instrument which may not precisely record small values, Winsorization may be useful. This type of transformation has the same effect as clipping signals (i.e. replaces extreme data values with less extreme values). Another option to reduce the influence of outliers is using mean absolute difference rather mean squared error.\n",
        "\n",
        "- For model building, some models are resistant to outliers (e.g. tree-based approaches) or non-parametric tests. Similar to the median effect, tree models divide each node into two in each split. Thus, at each split, all data points in a bucket could be equally treated regardless of extreme values they may have."
      ]
    },
    {
      "cell_type": "markdown",
      "metadata": {
        "id": "aqEVL17f-Gtx"
      },
      "source": [
        "---------------------"
      ]
    },
    {
      "cell_type": "markdown",
      "metadata": {
        "id": "lo6drSNi-EzR"
      },
      "source": [
        "- **Outlier** is an observation that is numerically **distant from the rest of the data** or in a simple word it is the value which is **out of the range.**"
      ]
    },
    {
      "cell_type": "markdown",
      "metadata": {
        "id": "RQ1SxS9q9FO3"
      },
      "source": [
        "#### **Outlier detection**\n",
        "\n",
        " - Standard Deviation\n",
        " \n",
        " - Percentile\n",
        " \n",
        " - IQR\n",
        " \n",
        " - Z score\n",
        " \n",
        " - Skewness\n",
        " \n",
        " - Visualization"
      ]
    },
    {
      "cell_type": "markdown",
      "metadata": {
        "id": "M6gOkIav93Io"
      },
      "source": [
        "#### **Outlier treatment**\n",
        "\n",
        " - Log transformation\n",
        " \n",
        " - Replacing Outliers with Median Values\n",
        " \n",
        " - Quantile-based Flooring and Capping\n",
        " \n",
        " - trimming"
      ]
    }
  ]
}