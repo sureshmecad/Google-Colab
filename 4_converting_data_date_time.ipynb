{
  "nbformat": 4,
  "nbformat_minor": 0,
  "metadata": {
    "colab": {
      "name": "4_converting_data_date-time.ipynb",
      "provenance": [],
      "collapsed_sections": [],
      "authorship_tag": "ABX9TyPA1+ynwL0vLOASrO1yROsX",
      "include_colab_link": true
    },
    "kernelspec": {
      "name": "python3",
      "display_name": "Python 3"
    },
    "language_info": {
      "name": "python"
    }
  },
  "cells": [
    {
      "cell_type": "markdown",
      "metadata": {
        "id": "view-in-github",
        "colab_type": "text"
      },
      "source": [
        "<a href=\"https://colab.research.google.com/github/sureshmecad/Google-Colab/blob/master/4_converting_data_date_time.ipynb\" target=\"_parent\"><img src=\"https://colab.research.google.com/assets/colab-badge.svg\" alt=\"Open In Colab\"/></a>"
      ]
    },
    {
      "cell_type": "code",
      "metadata": {
        "colab": {
          "base_uri": "https://localhost:8080/"
        },
        "id": "qvlCy13L1vDe",
        "outputId": "604a29e5-10d6-44f9-dd5f-97716845f362"
      },
      "source": [
        "from google.colab import drive\n",
        "drive.mount('/content/drive')"
      ],
      "execution_count": 1,
      "outputs": [
        {
          "output_type": "stream",
          "name": "stdout",
          "text": [
            "Mounted at /content/drive\n"
          ]
        }
      ]
    },
    {
      "cell_type": "code",
      "metadata": {
        "id": "tXQOZSLx2GTS"
      },
      "source": [
        "import pandas as pd"
      ],
      "execution_count": 2,
      "outputs": []
    },
    {
      "cell_type": "code",
      "metadata": {
        "colab": {
          "base_uri": "https://localhost:8080/",
          "height": 202
        },
        "id": "ljD1zI_P2PpK",
        "outputId": "57b7b8ec-45e9-4b65-e5e1-2ba4ef74a1ed"
      },
      "source": [
        "df = pd.read_csv(\"/content/drive/MyDrive/Datasets/No-show-Issue-300k.csv.zip\", sep=\";\")\n",
        "df.head()"
      ],
      "execution_count": 4,
      "outputs": [
        {
          "output_type": "execute_result",
          "data": {
            "text/html": [
              "<div>\n",
              "<style scoped>\n",
              "    .dataframe tbody tr th:only-of-type {\n",
              "        vertical-align: middle;\n",
              "    }\n",
              "\n",
              "    .dataframe tbody tr th {\n",
              "        vertical-align: top;\n",
              "    }\n",
              "\n",
              "    .dataframe thead th {\n",
              "        text-align: right;\n",
              "    }\n",
              "</style>\n",
              "<table border=\"1\" class=\"dataframe\">\n",
              "  <thead>\n",
              "    <tr style=\"text-align: right;\">\n",
              "      <th></th>\n",
              "      <th>Age</th>\n",
              "      <th>Gender</th>\n",
              "      <th>AppointmentRegistration</th>\n",
              "      <th>ApointmentData</th>\n",
              "      <th>DayOfTheWeek</th>\n",
              "      <th>Status</th>\n",
              "      <th>Diabetes</th>\n",
              "      <th>Alcoolism</th>\n",
              "      <th>HiperTension</th>\n",
              "      <th>Handcap</th>\n",
              "      <th>Smokes</th>\n",
              "      <th>Scholarship</th>\n",
              "      <th>Tuberculosis</th>\n",
              "      <th>Sms_Reminder</th>\n",
              "      <th>AwaitingTime</th>\n",
              "    </tr>\n",
              "  </thead>\n",
              "  <tbody>\n",
              "    <tr>\n",
              "      <th>0</th>\n",
              "      <td>17</td>\n",
              "      <td>F</td>\n",
              "      <td>2014-03-26T14:11:55Z</td>\n",
              "      <td>2014-04-09T00:00:00Z</td>\n",
              "      <td>Wednesday</td>\n",
              "      <td>Show-Up</td>\n",
              "      <td>0</td>\n",
              "      <td>0</td>\n",
              "      <td>0</td>\n",
              "      <td>0</td>\n",
              "      <td>0</td>\n",
              "      <td>0</td>\n",
              "      <td>0</td>\n",
              "      <td>1</td>\n",
              "      <td>-14</td>\n",
              "    </tr>\n",
              "    <tr>\n",
              "      <th>1</th>\n",
              "      <td>21</td>\n",
              "      <td>F</td>\n",
              "      <td>2014-04-09T08:57:02Z</td>\n",
              "      <td>2014-04-17T00:00:00Z</td>\n",
              "      <td>Thursday</td>\n",
              "      <td>No-Show</td>\n",
              "      <td>0</td>\n",
              "      <td>0</td>\n",
              "      <td>0</td>\n",
              "      <td>0</td>\n",
              "      <td>0</td>\n",
              "      <td>0</td>\n",
              "      <td>0</td>\n",
              "      <td>0</td>\n",
              "      <td>-8</td>\n",
              "    </tr>\n",
              "    <tr>\n",
              "      <th>2</th>\n",
              "      <td>61</td>\n",
              "      <td>F</td>\n",
              "      <td>2015-10-07T07:26:45Z</td>\n",
              "      <td>2015-10-08T00:00:00Z</td>\n",
              "      <td>Thursday</td>\n",
              "      <td>Show-Up</td>\n",
              "      <td>1</td>\n",
              "      <td>0</td>\n",
              "      <td>1</td>\n",
              "      <td>0</td>\n",
              "      <td>0</td>\n",
              "      <td>1</td>\n",
              "      <td>0</td>\n",
              "      <td>0</td>\n",
              "      <td>-1</td>\n",
              "    </tr>\n",
              "    <tr>\n",
              "      <th>3</th>\n",
              "      <td>55</td>\n",
              "      <td>F</td>\n",
              "      <td>2015-11-13T07:19:33Z</td>\n",
              "      <td>2015-11-17T00:00:00Z</td>\n",
              "      <td>Tuesday</td>\n",
              "      <td>Show-Up</td>\n",
              "      <td>0</td>\n",
              "      <td>0</td>\n",
              "      <td>1</td>\n",
              "      <td>0</td>\n",
              "      <td>0</td>\n",
              "      <td>0</td>\n",
              "      <td>0</td>\n",
              "      <td>1</td>\n",
              "      <td>-4</td>\n",
              "    </tr>\n",
              "    <tr>\n",
              "      <th>4</th>\n",
              "      <td>9</td>\n",
              "      <td>F</td>\n",
              "      <td>2014-05-06T09:06:16Z</td>\n",
              "      <td>2014-06-12T00:00:00Z</td>\n",
              "      <td>Thursday</td>\n",
              "      <td>No-Show</td>\n",
              "      <td>0</td>\n",
              "      <td>0</td>\n",
              "      <td>0</td>\n",
              "      <td>1</td>\n",
              "      <td>0</td>\n",
              "      <td>0</td>\n",
              "      <td>0</td>\n",
              "      <td>1</td>\n",
              "      <td>-37</td>\n",
              "    </tr>\n",
              "  </tbody>\n",
              "</table>\n",
              "</div>"
            ],
            "text/plain": [
              "   Age Gender AppointmentRegistration  ... Tuberculosis Sms_Reminder AwaitingTime\n",
              "0   17      F    2014-03-26T14:11:55Z  ...            0            1          -14\n",
              "1   21      F    2014-04-09T08:57:02Z  ...            0            0           -8\n",
              "2   61      F    2015-10-07T07:26:45Z  ...            0            0           -1\n",
              "3   55      F    2015-11-13T07:19:33Z  ...            0            1           -4\n",
              "4    9      F    2014-05-06T09:06:16Z  ...            0            1          -37\n",
              "\n",
              "[5 rows x 15 columns]"
            ]
          },
          "metadata": {},
          "execution_count": 4
        }
      ]
    },
    {
      "cell_type": "markdown",
      "metadata": {
        "id": "OV4BmA1924nJ"
      },
      "source": [
        "- Many times you will have to **deal with dates.** The problem is what variable category do dates fall into? are they **integers? are they string or are they alphanumeric.** Well if you have worked with **SQL** you would know, **date-time is itself a type.**\n",
        "\n",
        "- Converting such data to date-time format makes it very easy to play around with dates.\n",
        "\n",
        "- The data we have used above has dates in it. So let’s get to it."
      ]
    },
    {
      "cell_type": "code",
      "metadata": {
        "colab": {
          "base_uri": "https://localhost:8080/"
        },
        "id": "5LzfZH573jEj",
        "outputId": "25283965-600f-427e-ac67-f1612ea091cb"
      },
      "source": [
        "df.info()"
      ],
      "execution_count": 5,
      "outputs": [
        {
          "output_type": "stream",
          "name": "stdout",
          "text": [
            "<class 'pandas.core.frame.DataFrame'>\n",
            "RangeIndex: 300000 entries, 0 to 299999\n",
            "Data columns (total 15 columns):\n",
            " #   Column                   Non-Null Count   Dtype \n",
            "---  ------                   --------------   ----- \n",
            " 0   Age                      300000 non-null  int64 \n",
            " 1   Gender                   300000 non-null  object\n",
            " 2   AppointmentRegistration  300000 non-null  object\n",
            " 3   ApointmentData           300000 non-null  object\n",
            " 4   DayOfTheWeek             300000 non-null  object\n",
            " 5   Status                   300000 non-null  object\n",
            " 6   Diabetes                 300000 non-null  int64 \n",
            " 7   Alcoolism                300000 non-null  int64 \n",
            " 8   HiperTension             300000 non-null  int64 \n",
            " 9   Handcap                  300000 non-null  int64 \n",
            " 10  Smokes                   300000 non-null  int64 \n",
            " 11  Scholarship              300000 non-null  int64 \n",
            " 12  Tuberculosis             300000 non-null  int64 \n",
            " 13  Sms_Reminder             300000 non-null  int64 \n",
            " 14  AwaitingTime             300000 non-null  int64 \n",
            "dtypes: int64(10), object(5)\n",
            "memory usage: 34.3+ MB\n"
          ]
        }
      ]
    },
    {
      "cell_type": "code",
      "metadata": {
        "id": "ot1wUomj3G-z"
      },
      "source": [
        "# convert to datetime format\n",
        "df[\"AppointmentRegistration\"] = pd.to_datetime(df[\"AppointmentRegistration\"])"
      ],
      "execution_count": 6,
      "outputs": []
    },
    {
      "cell_type": "code",
      "metadata": {
        "colab": {
          "base_uri": "https://localhost:8080/",
          "height": 202
        },
        "id": "6_mW6YUT3zIL",
        "outputId": "6cff57da-ba54-41bf-8721-f6c22a622928"
      },
      "source": [
        "df.head()"
      ],
      "execution_count": 7,
      "outputs": [
        {
          "output_type": "execute_result",
          "data": {
            "text/html": [
              "<div>\n",
              "<style scoped>\n",
              "    .dataframe tbody tr th:only-of-type {\n",
              "        vertical-align: middle;\n",
              "    }\n",
              "\n",
              "    .dataframe tbody tr th {\n",
              "        vertical-align: top;\n",
              "    }\n",
              "\n",
              "    .dataframe thead th {\n",
              "        text-align: right;\n",
              "    }\n",
              "</style>\n",
              "<table border=\"1\" class=\"dataframe\">\n",
              "  <thead>\n",
              "    <tr style=\"text-align: right;\">\n",
              "      <th></th>\n",
              "      <th>Age</th>\n",
              "      <th>Gender</th>\n",
              "      <th>AppointmentRegistration</th>\n",
              "      <th>ApointmentData</th>\n",
              "      <th>DayOfTheWeek</th>\n",
              "      <th>Status</th>\n",
              "      <th>Diabetes</th>\n",
              "      <th>Alcoolism</th>\n",
              "      <th>HiperTension</th>\n",
              "      <th>Handcap</th>\n",
              "      <th>Smokes</th>\n",
              "      <th>Scholarship</th>\n",
              "      <th>Tuberculosis</th>\n",
              "      <th>Sms_Reminder</th>\n",
              "      <th>AwaitingTime</th>\n",
              "    </tr>\n",
              "  </thead>\n",
              "  <tbody>\n",
              "    <tr>\n",
              "      <th>0</th>\n",
              "      <td>17</td>\n",
              "      <td>F</td>\n",
              "      <td>2014-03-26 14:11:55+00:00</td>\n",
              "      <td>2014-04-09T00:00:00Z</td>\n",
              "      <td>Wednesday</td>\n",
              "      <td>Show-Up</td>\n",
              "      <td>0</td>\n",
              "      <td>0</td>\n",
              "      <td>0</td>\n",
              "      <td>0</td>\n",
              "      <td>0</td>\n",
              "      <td>0</td>\n",
              "      <td>0</td>\n",
              "      <td>1</td>\n",
              "      <td>-14</td>\n",
              "    </tr>\n",
              "    <tr>\n",
              "      <th>1</th>\n",
              "      <td>21</td>\n",
              "      <td>F</td>\n",
              "      <td>2014-04-09 08:57:02+00:00</td>\n",
              "      <td>2014-04-17T00:00:00Z</td>\n",
              "      <td>Thursday</td>\n",
              "      <td>No-Show</td>\n",
              "      <td>0</td>\n",
              "      <td>0</td>\n",
              "      <td>0</td>\n",
              "      <td>0</td>\n",
              "      <td>0</td>\n",
              "      <td>0</td>\n",
              "      <td>0</td>\n",
              "      <td>0</td>\n",
              "      <td>-8</td>\n",
              "    </tr>\n",
              "    <tr>\n",
              "      <th>2</th>\n",
              "      <td>61</td>\n",
              "      <td>F</td>\n",
              "      <td>2015-10-07 07:26:45+00:00</td>\n",
              "      <td>2015-10-08T00:00:00Z</td>\n",
              "      <td>Thursday</td>\n",
              "      <td>Show-Up</td>\n",
              "      <td>1</td>\n",
              "      <td>0</td>\n",
              "      <td>1</td>\n",
              "      <td>0</td>\n",
              "      <td>0</td>\n",
              "      <td>1</td>\n",
              "      <td>0</td>\n",
              "      <td>0</td>\n",
              "      <td>-1</td>\n",
              "    </tr>\n",
              "    <tr>\n",
              "      <th>3</th>\n",
              "      <td>55</td>\n",
              "      <td>F</td>\n",
              "      <td>2015-11-13 07:19:33+00:00</td>\n",
              "      <td>2015-11-17T00:00:00Z</td>\n",
              "      <td>Tuesday</td>\n",
              "      <td>Show-Up</td>\n",
              "      <td>0</td>\n",
              "      <td>0</td>\n",
              "      <td>1</td>\n",
              "      <td>0</td>\n",
              "      <td>0</td>\n",
              "      <td>0</td>\n",
              "      <td>0</td>\n",
              "      <td>1</td>\n",
              "      <td>-4</td>\n",
              "    </tr>\n",
              "    <tr>\n",
              "      <th>4</th>\n",
              "      <td>9</td>\n",
              "      <td>F</td>\n",
              "      <td>2014-05-06 09:06:16+00:00</td>\n",
              "      <td>2014-06-12T00:00:00Z</td>\n",
              "      <td>Thursday</td>\n",
              "      <td>No-Show</td>\n",
              "      <td>0</td>\n",
              "      <td>0</td>\n",
              "      <td>0</td>\n",
              "      <td>1</td>\n",
              "      <td>0</td>\n",
              "      <td>0</td>\n",
              "      <td>0</td>\n",
              "      <td>1</td>\n",
              "      <td>-37</td>\n",
              "    </tr>\n",
              "  </tbody>\n",
              "</table>\n",
              "</div>"
            ],
            "text/plain": [
              "   Age Gender  ... Sms_Reminder AwaitingTime\n",
              "0   17      F  ...            1          -14\n",
              "1   21      F  ...            0           -8\n",
              "2   61      F  ...            0           -1\n",
              "3   55      F  ...            1           -4\n",
              "4    9      F  ...            1          -37\n",
              "\n",
              "[5 rows x 15 columns]"
            ]
          },
          "metadata": {},
          "execution_count": 7
        }
      ]
    },
    {
      "cell_type": "markdown",
      "metadata": {
        "id": "sbYuDzm14Ap7"
      },
      "source": [
        "- we have used the **pandas to_datetime** function to convert the **ScheduledDay column** from **object** to a **DateTime type**.\n",
        "\n",
        "- Now python knows that this column contains dates. It will be much easier for us to use these dates in processing now."
      ]
    },
    {
      "cell_type": "code",
      "metadata": {
        "colab": {
          "base_uri": "https://localhost:8080/"
        },
        "id": "_AU2SZ7U4Ujt",
        "outputId": "bfb0536f-e701-4a12-f744-b38167c467c6"
      },
      "source": [
        "# extracting the day month and year from the date\n",
        "\n",
        "print(\"Day:\", df[\"AppointmentRegistration\"][0].day)\n",
        "print(\"Month:\", df[\"AppointmentRegistration\"][0].month)\n",
        "print(\"Year:\", df[\"AppointmentRegistration\"][0].year)"
      ],
      "execution_count": 8,
      "outputs": [
        {
          "output_type": "stream",
          "name": "stdout",
          "text": [
            "Day: 26\n",
            "Month: 3\n",
            "Year: 2014\n"
          ]
        }
      ]
    }
  ]
}