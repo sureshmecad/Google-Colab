{
  "nbformat": 4,
  "nbformat_minor": 5,
  "metadata": {
    "kernelspec": {
      "display_name": "Python 3",
      "language": "python",
      "name": "python3"
    },
    "language_info": {
      "codemirror_mode": {
        "name": "ipython",
        "version": 3
      },
      "file_extension": ".py",
      "mimetype": "text/x-python",
      "name": "python",
      "nbconvert_exporter": "python",
      "pygments_lexer": "ipython3",
      "version": "3.8.5"
    },
    "colab": {
      "name": "5_Pandas_CloudyML.ipynb",
      "provenance": [],
      "collapsed_sections": [
        "MGJEcOlgTj5E",
        "opZzTgioTj5F",
        "V7eY8IDXTj5I"
      ],
      "include_colab_link": true
    }
  },
  "cells": [
    {
      "cell_type": "markdown",
      "metadata": {
        "id": "view-in-github",
        "colab_type": "text"
      },
      "source": [
        "<a href=\"https://colab.research.google.com/github/sureshmecad/Google-Colab/blob/master/5_Pandas_CloudyML.ipynb\" target=\"_parent\"><img src=\"https://colab.research.google.com/assets/colab-badge.svg\" alt=\"Open In Colab\"/></a>"
      ]
    },
    {
      "cell_type": "markdown",
      "metadata": {
        "id": "PANBxgY3Tj4t"
      },
      "source": [
        "# <center><u>Pandas <u> </center>"
      ],
      "id": "PANBxgY3Tj4t"
    },
    {
      "cell_type": "markdown",
      "metadata": {
        "id": "h3M-0VYJTj4u"
      },
      "source": [
        "## 1.[Pandas Series](https://pandas.pydata.org/pandas-docs/stable/reference/series.html)"
      ],
      "id": "h3M-0VYJTj4u"
    },
    {
      "cell_type": "markdown",
      "metadata": {
        "id": "SVaNxosZTj4v"
      },
      "source": [
        "resource - https://www.youtube.com/watch?v=m7gxnZx2vT4"
      ],
      "id": "SVaNxosZTj4v"
    },
    {
      "cell_type": "markdown",
      "metadata": {
        "id": "SYeUyq67Tj4v"
      },
      "source": [
        "<p style='text-align: right;'> 1*4=4 points</p>\n"
      ],
      "id": "SYeUyq67Tj4v"
    },
    {
      "cell_type": "markdown",
      "metadata": {
        "id": "B7kGnjDoTj4v"
      },
      "source": [
        "Import pandas and numpy with their aliases"
      ],
      "id": "B7kGnjDoTj4v"
    },
    {
      "cell_type": "code",
      "metadata": {
        "id": "WH36K915Tj4w"
      },
      "source": [
        "import numpy as np\n",
        "import pandas as pd"
      ],
      "id": "WH36K915Tj4w",
      "execution_count": 1,
      "outputs": []
    },
    {
      "cell_type": "markdown",
      "metadata": {
        "id": "w9Jxv3MPTj4w"
      },
      "source": [
        "Create a variable a = pd.Series([ 100, 200, 300, 400])"
      ],
      "id": "w9Jxv3MPTj4w"
    },
    {
      "cell_type": "code",
      "metadata": {
        "id": "NKFfE8vcTj4w"
      },
      "source": [
        "a = pd.Series([ 100, 200, 300, 400])"
      ],
      "id": "NKFfE8vcTj4w",
      "execution_count": 2,
      "outputs": []
    },
    {
      "cell_type": "markdown",
      "metadata": {
        "id": "q3dNZloETj4x"
      },
      "source": [
        "Print a, and data type"
      ],
      "id": "q3dNZloETj4x"
    },
    {
      "cell_type": "code",
      "metadata": {
        "colab": {
          "base_uri": "https://localhost:8080/"
        },
        "id": "Xs-5Zm08Tj4x",
        "outputId": "5c3358fe-c67b-4f5a-9334-5a232e61814b"
      },
      "source": [
        "print(a)\n",
        "print(type(a))"
      ],
      "id": "Xs-5Zm08Tj4x",
      "execution_count": 3,
      "outputs": [
        {
          "output_type": "stream",
          "text": [
            "0    100\n",
            "1    200\n",
            "2    300\n",
            "3    400\n",
            "dtype: int64\n",
            "<class 'pandas.core.series.Series'>\n"
          ],
          "name": "stdout"
        }
      ]
    },
    {
      "cell_type": "markdown",
      "metadata": {
        "id": "JB5izz0wTj4y"
      },
      "source": [
        "Using indexing access the element 300 from the series a."
      ],
      "id": "JB5izz0wTj4y"
    },
    {
      "cell_type": "code",
      "metadata": {
        "colab": {
          "base_uri": "https://localhost:8080/"
        },
        "id": "jf6Y1od-Tj4y",
        "outputId": "ec87f386-4c41-47d9-dcd4-41f789870ffe"
      },
      "source": [
        "a[2]"
      ],
      "id": "jf6Y1od-Tj4y",
      "execution_count": 4,
      "outputs": [
        {
          "output_type": "execute_result",
          "data": {
            "text/plain": [
              "300"
            ]
          },
          "metadata": {
            "tags": []
          },
          "execution_count": 4
        }
      ]
    },
    {
      "cell_type": "markdown",
      "metadata": {
        "id": "B6Yac7AQTj4y"
      },
      "source": [
        "What are the values of index for series a?"
      ],
      "id": "B6Yac7AQTj4y"
    },
    {
      "cell_type": "markdown",
      "metadata": {
        "id": "-BYDGuAuTj4y"
      },
      "source": [
        "<p style='text-align: right;'> 2*4 = 8 points</p>\n"
      ],
      "id": "-BYDGuAuTj4y"
    },
    {
      "cell_type": "code",
      "metadata": {
        "colab": {
          "base_uri": "https://localhost:8080/"
        },
        "id": "VJjFVrnnTj4z",
        "outputId": "a3d06d1e-d336-4783-a084-38a2b7257b30"
      },
      "source": [
        "range(0,4,1)"
      ],
      "id": "VJjFVrnnTj4z",
      "execution_count": 5,
      "outputs": [
        {
          "output_type": "execute_result",
          "data": {
            "text/plain": [
              "range(0, 4)"
            ]
          },
          "metadata": {
            "tags": []
          },
          "execution_count": 5
        }
      ]
    },
    {
      "cell_type": "markdown",
      "metadata": {
        "id": "m_p3a6MPTj4z"
      },
      "source": [
        "Change the index to  ['c', 'a', 'b', 'd']"
      ],
      "id": "m_p3a6MPTj4z"
    },
    {
      "cell_type": "code",
      "metadata": {
        "colab": {
          "base_uri": "https://localhost:8080/"
        },
        "id": "YJOH_f0HTj4z",
        "outputId": "cb093176-25b3-4e13-b3ce-2ec10ecf9ffd"
      },
      "source": [
        "a.index = ['c', 'a', 'b', 'd']\n",
        "a"
      ],
      "id": "YJOH_f0HTj4z",
      "execution_count": 6,
      "outputs": [
        {
          "output_type": "execute_result",
          "data": {
            "text/plain": [
              "c    100\n",
              "a    200\n",
              "b    300\n",
              "d    400\n",
              "dtype: int64"
            ]
          },
          "metadata": {
            "tags": []
          },
          "execution_count": 6
        }
      ]
    },
    {
      "cell_type": "markdown",
      "metadata": {
        "id": "mkX6Ah14Tj4z"
      },
      "source": [
        "Access the value in the series with index 'd'"
      ],
      "id": "mkX6Ah14Tj4z"
    },
    {
      "cell_type": "code",
      "metadata": {
        "colab": {
          "base_uri": "https://localhost:8080/"
        },
        "id": "rV01auX6Tj4z",
        "outputId": "589676cf-b3ea-4f10-e346-6464e7f4ef15"
      },
      "source": [
        "a['d']"
      ],
      "id": "rV01auX6Tj4z",
      "execution_count": 7,
      "outputs": [
        {
          "output_type": "execute_result",
          "data": {
            "text/plain": [
              "400"
            ]
          },
          "metadata": {
            "tags": []
          },
          "execution_count": 7
        }
      ]
    },
    {
      "cell_type": "markdown",
      "metadata": {
        "id": "eHnQuSQBTj40"
      },
      "source": [
        "Sort the values wrt to the index and print it"
      ],
      "id": "eHnQuSQBTj40"
    },
    {
      "cell_type": "code",
      "metadata": {
        "colab": {
          "base_uri": "https://localhost:8080/"
        },
        "id": "pzcB82cVTj40",
        "outputId": "5842907e-5007-4162-bdce-079f34cc0101"
      },
      "source": [
        "a.sort_index()"
      ],
      "id": "pzcB82cVTj40",
      "execution_count": 8,
      "outputs": [
        {
          "output_type": "execute_result",
          "data": {
            "text/plain": [
              "a    200\n",
              "b    300\n",
              "c    100\n",
              "d    400\n",
              "dtype: int64"
            ]
          },
          "metadata": {
            "tags": []
          },
          "execution_count": 8
        }
      ]
    },
    {
      "cell_type": "markdown",
      "metadata": {
        "id": "OqvjWQG1Tj40"
      },
      "source": [
        "Create a new Pandas Series b having index as 'e', 'f', and 'g' and value 800,450,100 and print it"
      ],
      "id": "OqvjWQG1Tj40"
    },
    {
      "cell_type": "markdown",
      "metadata": {
        "id": "DCXo4eqPTj40"
      },
      "source": [
        "<p style='text-align: right;'> 4*2=8 points</p>\n"
      ],
      "id": "DCXo4eqPTj40"
    },
    {
      "cell_type": "code",
      "metadata": {
        "colab": {
          "base_uri": "https://localhost:8080/"
        },
        "id": "qx4eXwr3Tj40",
        "outputId": "8da3c0e7-894f-4024-be4a-4429cd3a8632"
      },
      "source": [
        "b = pd.Series([800, 450, 100], index=['e', 'f', 'g'])\n",
        "b"
      ],
      "id": "qx4eXwr3Tj40",
      "execution_count": 9,
      "outputs": [
        {
          "output_type": "execute_result",
          "data": {
            "text/plain": [
              "e    800\n",
              "f    450\n",
              "g    100\n",
              "dtype: int64"
            ]
          },
          "metadata": {
            "tags": []
          },
          "execution_count": 9
        }
      ]
    },
    {
      "cell_type": "markdown",
      "metadata": {
        "id": "Y_z1oL_rTj41"
      },
      "source": [
        "Append b series at the end of a series"
      ],
      "id": "Y_z1oL_rTj41"
    },
    {
      "cell_type": "code",
      "metadata": {
        "colab": {
          "base_uri": "https://localhost:8080/"
        },
        "id": "7X_Gsg4_Tj41",
        "outputId": "2741c825-2e58-48a2-ca64-b04c1e5797f4"
      },
      "source": [
        "a = a.append(b)\n",
        "a"
      ],
      "id": "7X_Gsg4_Tj41",
      "execution_count": 10,
      "outputs": [
        {
          "output_type": "execute_result",
          "data": {
            "text/plain": [
              "c    100\n",
              "a    200\n",
              "b    300\n",
              "d    400\n",
              "e    800\n",
              "f    450\n",
              "g    100\n",
              "dtype: int64"
            ]
          },
          "metadata": {
            "tags": []
          },
          "execution_count": 10
        }
      ]
    },
    {
      "cell_type": "code",
      "metadata": {
        "colab": {
          "base_uri": "https://localhost:8080/"
        },
        "id": "Bf593PceTj41",
        "outputId": "038d8130-1444-4993-fff0-52d8534ed46d"
      },
      "source": [
        "#print a again after appending b into it\n",
        "a"
      ],
      "id": "Bf593PceTj41",
      "execution_count": 11,
      "outputs": [
        {
          "output_type": "execute_result",
          "data": {
            "text/plain": [
              "c    100\n",
              "a    200\n",
              "b    300\n",
              "d    400\n",
              "e    800\n",
              "f    450\n",
              "g    100\n",
              "dtype: int64"
            ]
          },
          "metadata": {
            "tags": []
          },
          "execution_count": 11
        }
      ]
    },
    {
      "cell_type": "markdown",
      "metadata": {
        "id": "RBJIDiJkTj41"
      },
      "source": [
        "Sort the values in descending order of a and print the index of the sorted series"
      ],
      "id": "RBJIDiJkTj41"
    },
    {
      "cell_type": "code",
      "metadata": {
        "id": "1aANEzGTTj41",
        "colab": {
          "base_uri": "https://localhost:8080/"
        },
        "outputId": "8074e4d9-163b-4932-ac3d-a43a395a4a2e"
      },
      "source": [
        "a=a.sort_values(ascending=False)\n",
        "a"
      ],
      "id": "1aANEzGTTj41",
      "execution_count": 12,
      "outputs": [
        {
          "output_type": "execute_result",
          "data": {
            "text/plain": [
              "e    800\n",
              "f    450\n",
              "d    400\n",
              "b    300\n",
              "a    200\n",
              "g    100\n",
              "c    100\n",
              "dtype: int64"
            ]
          },
          "metadata": {
            "tags": []
          },
          "execution_count": 12
        }
      ]
    },
    {
      "cell_type": "code",
      "metadata": {
        "id": "wNQbzqxhTj42",
        "colab": {
          "base_uri": "https://localhost:8080/"
        },
        "outputId": "9d44f1d2-0405-4202-8aae-74b1a0f0d8e5"
      },
      "source": [
        "# print index of a\n",
        "a.index\n"
      ],
      "id": "wNQbzqxhTj42",
      "execution_count": 13,
      "outputs": [
        {
          "output_type": "execute_result",
          "data": {
            "text/plain": [
              "Index(['e', 'f', 'd', 'b', 'a', 'g', 'c'], dtype='object')"
            ]
          },
          "metadata": {
            "tags": []
          },
          "execution_count": 13
        }
      ]
    },
    {
      "cell_type": "markdown",
      "metadata": {
        "id": "09nHpd9RTj42"
      },
      "source": [
        "## 2. [Pandas DataFrame](https://pandas.pydata.org/pandas-docs/stable/reference/api/pandas.DataFrame.html)\n",
        "\n",
        "Reference:-https://www.youtube.com/watch?v=KB-19V-cSs4"
      ],
      "id": "09nHpd9RTj42"
    },
    {
      "cell_type": "markdown",
      "metadata": {
        "id": "Bm0gCr2hTj42"
      },
      "source": [
        "<p style='text-align: right;'> 8*2 = 16 points</p>\n"
      ],
      "id": "Bm0gCr2hTj42"
    },
    {
      "cell_type": "markdown",
      "metadata": {
        "id": "XijGxUbaTj42"
      },
      "source": [
        "### Part 1"
      ],
      "id": "XijGxUbaTj42"
    },
    {
      "cell_type": "markdown",
      "metadata": {
        "id": "wdYCOxjYTj43"
      },
      "source": [
        "<p style='text-align: right;'> 5 points</p>\n"
      ],
      "id": "wdYCOxjYTj43"
    },
    {
      "cell_type": "markdown",
      "metadata": {
        "id": "Iur3AMH_Tj43"
      },
      "source": [
        "Create a pandas dataframe df from the series 'a' that we used in the last section, print the dataframe"
      ],
      "id": "Iur3AMH_Tj43"
    },
    {
      "cell_type": "code",
      "metadata": {
        "id": "7QTFaN9gTj43",
        "colab": {
          "base_uri": "https://localhost:8080/",
          "height": 266
        },
        "outputId": "7d46bc82-02b1-4610-cb88-e0ea97c08126"
      },
      "source": [
        "df = pd.DataFrame(a)\n",
        "df"
      ],
      "id": "7QTFaN9gTj43",
      "execution_count": 14,
      "outputs": [
        {
          "output_type": "execute_result",
          "data": {
            "text/html": [
              "<div>\n",
              "<style scoped>\n",
              "    .dataframe tbody tr th:only-of-type {\n",
              "        vertical-align: middle;\n",
              "    }\n",
              "\n",
              "    .dataframe tbody tr th {\n",
              "        vertical-align: top;\n",
              "    }\n",
              "\n",
              "    .dataframe thead th {\n",
              "        text-align: right;\n",
              "    }\n",
              "</style>\n",
              "<table border=\"1\" class=\"dataframe\">\n",
              "  <thead>\n",
              "    <tr style=\"text-align: right;\">\n",
              "      <th></th>\n",
              "      <th>0</th>\n",
              "    </tr>\n",
              "  </thead>\n",
              "  <tbody>\n",
              "    <tr>\n",
              "      <th>e</th>\n",
              "      <td>800</td>\n",
              "    </tr>\n",
              "    <tr>\n",
              "      <th>f</th>\n",
              "      <td>450</td>\n",
              "    </tr>\n",
              "    <tr>\n",
              "      <th>d</th>\n",
              "      <td>400</td>\n",
              "    </tr>\n",
              "    <tr>\n",
              "      <th>b</th>\n",
              "      <td>300</td>\n",
              "    </tr>\n",
              "    <tr>\n",
              "      <th>a</th>\n",
              "      <td>200</td>\n",
              "    </tr>\n",
              "    <tr>\n",
              "      <th>g</th>\n",
              "      <td>100</td>\n",
              "    </tr>\n",
              "    <tr>\n",
              "      <th>c</th>\n",
              "      <td>100</td>\n",
              "    </tr>\n",
              "  </tbody>\n",
              "</table>\n",
              "</div>"
            ],
            "text/plain": [
              "     0\n",
              "e  800\n",
              "f  450\n",
              "d  400\n",
              "b  300\n",
              "a  200\n",
              "g  100\n",
              "c  100"
            ]
          },
          "metadata": {
            "tags": []
          },
          "execution_count": 14
        }
      ]
    },
    {
      "cell_type": "markdown",
      "metadata": {
        "id": "Lt7lLN4qTj43"
      },
      "source": [
        "Point to ponder! Don't you think series a and dataframe df looks alike? But there must be some difference between them. \n",
        "Hey buddy think and write your thoughts below."
      ],
      "id": "Lt7lLN4qTj43"
    },
    {
      "cell_type": "code",
      "metadata": {
        "id": "_IHgUvk8Tj43"
      },
      "source": [
        "# happy to know your comment\n",
        " \n",
        "# A Pandas Series is one dimensioned whereas a DataFrame is two dimensioned. Therefore, a single column DataFrame can have a name for its single column but a Series cannot have a column name. In fact, each column of a DataFrame can be converted to a series"
      ],
      "id": "_IHgUvk8Tj43",
      "execution_count": 15,
      "outputs": []
    },
    {
      "cell_type": "markdown",
      "metadata": {
        "id": "a2rNCqKLTj44"
      },
      "source": [
        "<p style='text-align: right;'> 2 + 1*4 = 6 points</p>\n"
      ],
      "id": "a2rNCqKLTj44"
    },
    {
      "cell_type": "markdown",
      "metadata": {
        "id": "3FImOk-wTj44"
      },
      "source": [
        "What is the shape of the datafarme <br>\n"
      ],
      "id": "3FImOk-wTj44"
    },
    {
      "cell_type": "code",
      "metadata": {
        "id": "bpeT13F-Tj44",
        "colab": {
          "base_uri": "https://localhost:8080/"
        },
        "outputId": "df7e7cce-117b-4f70-d3fa-02fc599fff2e"
      },
      "source": [
        "df.shape"
      ],
      "id": "bpeT13F-Tj44",
      "execution_count": 16,
      "outputs": [
        {
          "output_type": "execute_result",
          "data": {
            "text/plain": [
              "(7, 1)"
            ]
          },
          "metadata": {
            "tags": []
          },
          "execution_count": 16
        }
      ]
    },
    {
      "cell_type": "markdown",
      "metadata": {
        "id": "-k77ncJfTj44"
      },
      "source": [
        "Hey! remember shape (7,1) implies dataframe has 7 rows and 1 column. "
      ],
      "id": "-k77ncJfTj44"
    },
    {
      "cell_type": "markdown",
      "metadata": {
        "id": "XLOMnoMWTj44"
      },
      "source": [
        "What is the index of the dataframe, is it same as the series 'a' ?"
      ],
      "id": "XLOMnoMWTj44"
    },
    {
      "cell_type": "code",
      "metadata": {
        "id": "FzwhAXiLTj45",
        "colab": {
          "base_uri": "https://localhost:8080/"
        },
        "outputId": "4c961bcf-6660-49ed-e9f7-233730537abd"
      },
      "source": [
        "df.index"
      ],
      "id": "FzwhAXiLTj45",
      "execution_count": 17,
      "outputs": [
        {
          "output_type": "execute_result",
          "data": {
            "text/plain": [
              "Index(['e', 'f', 'd', 'b', 'a', 'g', 'c'], dtype='object')"
            ]
          },
          "metadata": {
            "tags": []
          },
          "execution_count": 17
        }
      ]
    },
    {
      "cell_type": "markdown",
      "metadata": {
        "id": "IjVDgqDuTj45"
      },
      "source": [
        "print the head and tail of the dataframe. <br>\n",
        "Additional - (what does head and tali represent?)"
      ],
      "id": "IjVDgqDuTj45"
    },
    {
      "cell_type": "code",
      "metadata": {
        "id": "Cd5EHxTpTj45",
        "colab": {
          "base_uri": "https://localhost:8080/",
          "height": 204
        },
        "outputId": "27b1e576-b259-42bb-bafb-380025baea64"
      },
      "source": [
        "#head\n",
        "# head prints first 5 rows of dataframe\n",
        "df.head()"
      ],
      "id": "Cd5EHxTpTj45",
      "execution_count": 18,
      "outputs": [
        {
          "output_type": "execute_result",
          "data": {
            "text/html": [
              "<div>\n",
              "<style scoped>\n",
              "    .dataframe tbody tr th:only-of-type {\n",
              "        vertical-align: middle;\n",
              "    }\n",
              "\n",
              "    .dataframe tbody tr th {\n",
              "        vertical-align: top;\n",
              "    }\n",
              "\n",
              "    .dataframe thead th {\n",
              "        text-align: right;\n",
              "    }\n",
              "</style>\n",
              "<table border=\"1\" class=\"dataframe\">\n",
              "  <thead>\n",
              "    <tr style=\"text-align: right;\">\n",
              "      <th></th>\n",
              "      <th>0</th>\n",
              "    </tr>\n",
              "  </thead>\n",
              "  <tbody>\n",
              "    <tr>\n",
              "      <th>e</th>\n",
              "      <td>800</td>\n",
              "    </tr>\n",
              "    <tr>\n",
              "      <th>f</th>\n",
              "      <td>450</td>\n",
              "    </tr>\n",
              "    <tr>\n",
              "      <th>d</th>\n",
              "      <td>400</td>\n",
              "    </tr>\n",
              "    <tr>\n",
              "      <th>b</th>\n",
              "      <td>300</td>\n",
              "    </tr>\n",
              "    <tr>\n",
              "      <th>a</th>\n",
              "      <td>200</td>\n",
              "    </tr>\n",
              "  </tbody>\n",
              "</table>\n",
              "</div>"
            ],
            "text/plain": [
              "     0\n",
              "e  800\n",
              "f  450\n",
              "d  400\n",
              "b  300\n",
              "a  200"
            ]
          },
          "metadata": {
            "tags": []
          },
          "execution_count": 18
        }
      ]
    },
    {
      "cell_type": "code",
      "metadata": {
        "id": "M39Zx7_vTj45",
        "colab": {
          "base_uri": "https://localhost:8080/",
          "height": 204
        },
        "outputId": "78af9484-d0e1-408d-ffbe-0d479877a8b6"
      },
      "source": [
        "#tail\n",
        "# tail prints last 5 rows of dataframe\n",
        "df.tail()"
      ],
      "id": "M39Zx7_vTj45",
      "execution_count": 19,
      "outputs": [
        {
          "output_type": "execute_result",
          "data": {
            "text/html": [
              "<div>\n",
              "<style scoped>\n",
              "    .dataframe tbody tr th:only-of-type {\n",
              "        vertical-align: middle;\n",
              "    }\n",
              "\n",
              "    .dataframe tbody tr th {\n",
              "        vertical-align: top;\n",
              "    }\n",
              "\n",
              "    .dataframe thead th {\n",
              "        text-align: right;\n",
              "    }\n",
              "</style>\n",
              "<table border=\"1\" class=\"dataframe\">\n",
              "  <thead>\n",
              "    <tr style=\"text-align: right;\">\n",
              "      <th></th>\n",
              "      <th>0</th>\n",
              "    </tr>\n",
              "  </thead>\n",
              "  <tbody>\n",
              "    <tr>\n",
              "      <th>d</th>\n",
              "      <td>400</td>\n",
              "    </tr>\n",
              "    <tr>\n",
              "      <th>b</th>\n",
              "      <td>300</td>\n",
              "    </tr>\n",
              "    <tr>\n",
              "      <th>a</th>\n",
              "      <td>200</td>\n",
              "    </tr>\n",
              "    <tr>\n",
              "      <th>g</th>\n",
              "      <td>100</td>\n",
              "    </tr>\n",
              "    <tr>\n",
              "      <th>c</th>\n",
              "      <td>100</td>\n",
              "    </tr>\n",
              "  </tbody>\n",
              "</table>\n",
              "</div>"
            ],
            "text/plain": [
              "     0\n",
              "d  400\n",
              "b  300\n",
              "a  200\n",
              "g  100\n",
              "c  100"
            ]
          },
          "metadata": {
            "tags": []
          },
          "execution_count": 19
        }
      ]
    },
    {
      "cell_type": "markdown",
      "metadata": {
        "id": "BLK_k_BLTj45"
      },
      "source": [
        "Rename the columns of the dataframe as 'points'"
      ],
      "id": "BLK_k_BLTj45"
    },
    {
      "cell_type": "markdown",
      "metadata": {
        "id": "kI3PFEpWTj45"
      },
      "source": [
        "<p style='text-align: right;'> 2 points</p>\n"
      ],
      "id": "kI3PFEpWTj45"
    },
    {
      "cell_type": "code",
      "metadata": {
        "id": "X-I4HOoiTj46",
        "colab": {
          "base_uri": "https://localhost:8080/",
          "height": 266
        },
        "outputId": "b8706780-22b3-49c0-b5cc-6c3033d3ed6e"
      },
      "source": [
        "df.columns = [\"points\"]\n",
        "df"
      ],
      "id": "X-I4HOoiTj46",
      "execution_count": 20,
      "outputs": [
        {
          "output_type": "execute_result",
          "data": {
            "text/html": [
              "<div>\n",
              "<style scoped>\n",
              "    .dataframe tbody tr th:only-of-type {\n",
              "        vertical-align: middle;\n",
              "    }\n",
              "\n",
              "    .dataframe tbody tr th {\n",
              "        vertical-align: top;\n",
              "    }\n",
              "\n",
              "    .dataframe thead th {\n",
              "        text-align: right;\n",
              "    }\n",
              "</style>\n",
              "<table border=\"1\" class=\"dataframe\">\n",
              "  <thead>\n",
              "    <tr style=\"text-align: right;\">\n",
              "      <th></th>\n",
              "      <th>points</th>\n",
              "    </tr>\n",
              "  </thead>\n",
              "  <tbody>\n",
              "    <tr>\n",
              "      <th>e</th>\n",
              "      <td>800</td>\n",
              "    </tr>\n",
              "    <tr>\n",
              "      <th>f</th>\n",
              "      <td>450</td>\n",
              "    </tr>\n",
              "    <tr>\n",
              "      <th>d</th>\n",
              "      <td>400</td>\n",
              "    </tr>\n",
              "    <tr>\n",
              "      <th>b</th>\n",
              "      <td>300</td>\n",
              "    </tr>\n",
              "    <tr>\n",
              "      <th>a</th>\n",
              "      <td>200</td>\n",
              "    </tr>\n",
              "    <tr>\n",
              "      <th>g</th>\n",
              "      <td>100</td>\n",
              "    </tr>\n",
              "    <tr>\n",
              "      <th>c</th>\n",
              "      <td>100</td>\n",
              "    </tr>\n",
              "  </tbody>\n",
              "</table>\n",
              "</div>"
            ],
            "text/plain": [
              "   points\n",
              "e     800\n",
              "f     450\n",
              "d     400\n",
              "b     300\n",
              "a     200\n",
              "g     100\n",
              "c     100"
            ]
          },
          "metadata": {
            "tags": []
          },
          "execution_count": 20
        }
      ]
    },
    {
      "cell_type": "markdown",
      "metadata": {
        "id": "a_ge5oMBTj46"
      },
      "source": [
        "Create another Series 'fruits', which contains random names of fruits from ['orange','mango','apple']. The series should contain 7 elements, randomly selected from ['orange','mango','apple']"
      ],
      "id": "a_ge5oMBTj46"
    },
    {
      "cell_type": "markdown",
      "metadata": {
        "id": "CWOIoEKHTj46"
      },
      "source": [
        "<p style='text-align: right;'> 5 points</p>\n"
      ],
      "id": "CWOIoEKHTj46"
    },
    {
      "cell_type": "code",
      "metadata": {
        "id": "92BGQOkSTj46",
        "colab": {
          "base_uri": "https://localhost:8080/"
        },
        "outputId": "cee6e727-f0eb-421c-a865-4bd0d2a5245d"
      },
      "source": [
        "#Create fruits array\n",
        "import random\n",
        "import numpy as np\n",
        "#fruits = ['orange','mango','apple']\n",
        "fruits_array = np.random.choice(['orange', 'mango', 'apple'], 7)\n",
        "fruits_array"
      ],
      "id": "92BGQOkSTj46",
      "execution_count": 21,
      "outputs": [
        {
          "output_type": "execute_result",
          "data": {
            "text/plain": [
              "array(['orange', 'orange', 'orange', 'mango', 'orange', 'apple', 'apple'],\n",
              "      dtype='<U6')"
            ]
          },
          "metadata": {
            "tags": []
          },
          "execution_count": 21
        }
      ]
    },
    {
      "cell_type": "markdown",
      "metadata": {
        "id": "tsKYe_FjTj46"
      },
      "source": [
        "The above output might vary based randomness"
      ],
      "id": "tsKYe_FjTj46"
    },
    {
      "cell_type": "code",
      "metadata": {
        "id": "EQm8-NWmTj47",
        "colab": {
          "base_uri": "https://localhost:8080/"
        },
        "outputId": "9a6e67b2-2012-4735-e5e2-49ee216bca72"
      },
      "source": [
        "#Create series fruits out of fruits array\n",
        "fruits = pd.Series(fruits_array)\n",
        "fruits"
      ],
      "id": "EQm8-NWmTj47",
      "execution_count": 22,
      "outputs": [
        {
          "output_type": "execute_result",
          "data": {
            "text/plain": [
              "0    orange\n",
              "1    orange\n",
              "2    orange\n",
              "3     mango\n",
              "4    orange\n",
              "5     apple\n",
              "6     apple\n",
              "dtype: object"
            ]
          },
          "metadata": {
            "tags": []
          },
          "execution_count": 22
        }
      ]
    },
    {
      "cell_type": "markdown",
      "metadata": {
        "id": "nJVSOFB_Tj47"
      },
      "source": [
        "Change the index of fruits to the index of dataframe df"
      ],
      "id": "nJVSOFB_Tj47"
    },
    {
      "cell_type": "markdown",
      "metadata": {
        "id": "_YEo7SvBTj47"
      },
      "source": [
        "<p style='text-align: right;'> 5 points</p>\n"
      ],
      "id": "_YEo7SvBTj47"
    },
    {
      "cell_type": "code",
      "metadata": {
        "id": "9ZCDDHJuTj47",
        "colab": {
          "base_uri": "https://localhost:8080/"
        },
        "outputId": "adf2087d-193a-4305-c3b9-829a4663ce75"
      },
      "source": [
        "fruits.index = ['e', 'f', 'd', 'b', 'a', 'g', 'c']\n",
        "fruits"
      ],
      "id": "9ZCDDHJuTj47",
      "execution_count": 23,
      "outputs": [
        {
          "output_type": "execute_result",
          "data": {
            "text/plain": [
              "e    orange\n",
              "f    orange\n",
              "d    orange\n",
              "b     mango\n",
              "a    orange\n",
              "g     apple\n",
              "c     apple\n",
              "dtype: object"
            ]
          },
          "metadata": {
            "tags": []
          },
          "execution_count": 23
        }
      ]
    },
    {
      "cell_type": "markdown",
      "metadata": {
        "id": "--NgNWDrTj47"
      },
      "source": [
        "Add this fruits series as a new column to the dataframe df with its column name as 'fruits' <br> print the head of the dataframe to verify"
      ],
      "id": "--NgNWDrTj47"
    },
    {
      "cell_type": "code",
      "metadata": {
        "id": "0RtavqECTj48",
        "colab": {
          "base_uri": "https://localhost:8080/",
          "height": 204
        },
        "outputId": "b3e5bb58-1789-4f5d-94b4-b76d3a416117"
      },
      "source": [
        "fruits = pd.DataFrame(fruits)\n",
        "fruits.columns = [\"fruits\"]\n",
        "df1 = pd.concat([fruits, df], axis=1)\n",
        "df1.head()"
      ],
      "id": "0RtavqECTj48",
      "execution_count": 24,
      "outputs": [
        {
          "output_type": "execute_result",
          "data": {
            "text/html": [
              "<div>\n",
              "<style scoped>\n",
              "    .dataframe tbody tr th:only-of-type {\n",
              "        vertical-align: middle;\n",
              "    }\n",
              "\n",
              "    .dataframe tbody tr th {\n",
              "        vertical-align: top;\n",
              "    }\n",
              "\n",
              "    .dataframe thead th {\n",
              "        text-align: right;\n",
              "    }\n",
              "</style>\n",
              "<table border=\"1\" class=\"dataframe\">\n",
              "  <thead>\n",
              "    <tr style=\"text-align: right;\">\n",
              "      <th></th>\n",
              "      <th>fruits</th>\n",
              "      <th>points</th>\n",
              "    </tr>\n",
              "  </thead>\n",
              "  <tbody>\n",
              "    <tr>\n",
              "      <th>e</th>\n",
              "      <td>orange</td>\n",
              "      <td>800</td>\n",
              "    </tr>\n",
              "    <tr>\n",
              "      <th>f</th>\n",
              "      <td>orange</td>\n",
              "      <td>450</td>\n",
              "    </tr>\n",
              "    <tr>\n",
              "      <th>d</th>\n",
              "      <td>orange</td>\n",
              "      <td>400</td>\n",
              "    </tr>\n",
              "    <tr>\n",
              "      <th>b</th>\n",
              "      <td>mango</td>\n",
              "      <td>300</td>\n",
              "    </tr>\n",
              "    <tr>\n",
              "      <th>a</th>\n",
              "      <td>orange</td>\n",
              "      <td>200</td>\n",
              "    </tr>\n",
              "  </tbody>\n",
              "</table>\n",
              "</div>"
            ],
            "text/plain": [
              "   fruits  points\n",
              "e  orange     800\n",
              "f  orange     450\n",
              "d  orange     400\n",
              "b   mango     300\n",
              "a  orange     200"
            ]
          },
          "metadata": {
            "tags": []
          },
          "execution_count": 24
        }
      ]
    },
    {
      "cell_type": "markdown",
      "metadata": {
        "id": "a19dCmdJTj48"
      },
      "source": [
        "<u>Bonus optional question:</u> <br>\n",
        "What if we had to changed the index of the dataframe? <br>\n",
        "Try to add any series to the dataframe with the origianl index (when index of series is not same as to the index of dataframe)\n",
        "\n",
        "Use series as pd.Series([100,200,300,400,500,600,700]) and try to add it to df with column name Bonus_number.\n",
        "\n",
        "Bonus marks: 5 points"
      ],
      "id": "a19dCmdJTj48"
    },
    {
      "cell_type": "code",
      "metadata": {
        "id": "gULrBJcDTj48",
        "colab": {
          "base_uri": "https://localhost:8080/",
          "height": 266
        },
        "outputId": "c1115fa9-c1a0-472b-81cd-f12d862e6f63"
      },
      "source": [
        "#bonus code here\n",
        "\n",
        "new = pd.Series([100,200,300,400,500,600,700])\n",
        "new.index = ['e', 'f', 'd', 'b', 'a', 'g', 'c']\n",
        "new = pd.DataFrame(new)\n",
        "new.columns = ['Bonus_number']\n",
        "df2 = pd.concat([df1, new], axis=1)\n",
        "df2\n"
      ],
      "id": "gULrBJcDTj48",
      "execution_count": 25,
      "outputs": [
        {
          "output_type": "execute_result",
          "data": {
            "text/html": [
              "<div>\n",
              "<style scoped>\n",
              "    .dataframe tbody tr th:only-of-type {\n",
              "        vertical-align: middle;\n",
              "    }\n",
              "\n",
              "    .dataframe tbody tr th {\n",
              "        vertical-align: top;\n",
              "    }\n",
              "\n",
              "    .dataframe thead th {\n",
              "        text-align: right;\n",
              "    }\n",
              "</style>\n",
              "<table border=\"1\" class=\"dataframe\">\n",
              "  <thead>\n",
              "    <tr style=\"text-align: right;\">\n",
              "      <th></th>\n",
              "      <th>fruits</th>\n",
              "      <th>points</th>\n",
              "      <th>Bonus_number</th>\n",
              "    </tr>\n",
              "  </thead>\n",
              "  <tbody>\n",
              "    <tr>\n",
              "      <th>e</th>\n",
              "      <td>orange</td>\n",
              "      <td>800</td>\n",
              "      <td>100</td>\n",
              "    </tr>\n",
              "    <tr>\n",
              "      <th>f</th>\n",
              "      <td>orange</td>\n",
              "      <td>450</td>\n",
              "      <td>200</td>\n",
              "    </tr>\n",
              "    <tr>\n",
              "      <th>d</th>\n",
              "      <td>orange</td>\n",
              "      <td>400</td>\n",
              "      <td>300</td>\n",
              "    </tr>\n",
              "    <tr>\n",
              "      <th>b</th>\n",
              "      <td>mango</td>\n",
              "      <td>300</td>\n",
              "      <td>400</td>\n",
              "    </tr>\n",
              "    <tr>\n",
              "      <th>a</th>\n",
              "      <td>orange</td>\n",
              "      <td>200</td>\n",
              "      <td>500</td>\n",
              "    </tr>\n",
              "    <tr>\n",
              "      <th>g</th>\n",
              "      <td>apple</td>\n",
              "      <td>100</td>\n",
              "      <td>600</td>\n",
              "    </tr>\n",
              "    <tr>\n",
              "      <th>c</th>\n",
              "      <td>apple</td>\n",
              "      <td>100</td>\n",
              "      <td>700</td>\n",
              "    </tr>\n",
              "  </tbody>\n",
              "</table>\n",
              "</div>"
            ],
            "text/plain": [
              "   fruits  points  Bonus_number\n",
              "e  orange     800           100\n",
              "f  orange     450           200\n",
              "d  orange     400           300\n",
              "b   mango     300           400\n",
              "a  orange     200           500\n",
              "g   apple     100           600\n",
              "c   apple     100           700"
            ]
          },
          "metadata": {
            "tags": []
          },
          "execution_count": 25
        }
      ]
    },
    {
      "cell_type": "markdown",
      "metadata": {
        "id": "kA9Nxvv_Tj48"
      },
      "source": [
        "### Part 2\n",
        "Reference:- https://www.youtube.com/watch?v=yPVQZZmheCg"
      ],
      "id": "kA9Nxvv_Tj48"
    },
    {
      "cell_type": "markdown",
      "metadata": {
        "id": "nXQivRmeTj48"
      },
      "source": [
        "Create a dataframe  d1 where the columns are  ‘city’ : [‘Chandigarh’, ‘Delhi’, ‘Kanpur’, ‘Chennai’, ‘Manali’ ] and ‘Temperature’ : [15, 22, 20, 26,-2] "
      ],
      "id": "nXQivRmeTj48"
    },
    {
      "cell_type": "markdown",
      "metadata": {
        "id": "ZxXXIic7Tj4-"
      },
      "source": [
        "<p style='text-align: right;'> 2*5=10 points</p>\n"
      ],
      "id": "ZxXXIic7Tj4-"
    },
    {
      "cell_type": "code",
      "metadata": {
        "id": "BkwwEc2KTj4-"
      },
      "source": [
        "dict = {'city' : ['Chandigarh', 'Delhi', 'Kanpur', 'Chennai', 'Manali'], 'Temperature' : [15, 22, 20, 26,-2]}\n",
        "d1 = pd.DataFrame(dict)"
      ],
      "id": "BkwwEc2KTj4-",
      "execution_count": 26,
      "outputs": []
    },
    {
      "cell_type": "markdown",
      "metadata": {
        "id": "iPlnc3f6Tj4-"
      },
      "source": [
        "Print d1"
      ],
      "id": "iPlnc3f6Tj4-"
    },
    {
      "cell_type": "code",
      "metadata": {
        "id": "YpkZZ-m2Tj4_",
        "colab": {
          "base_uri": "https://localhost:8080/",
          "height": 204
        },
        "outputId": "855e1282-f424-4003-95ab-5069a40e9688"
      },
      "source": [
        "d1"
      ],
      "id": "YpkZZ-m2Tj4_",
      "execution_count": 27,
      "outputs": [
        {
          "output_type": "execute_result",
          "data": {
            "text/html": [
              "<div>\n",
              "<style scoped>\n",
              "    .dataframe tbody tr th:only-of-type {\n",
              "        vertical-align: middle;\n",
              "    }\n",
              "\n",
              "    .dataframe tbody tr th {\n",
              "        vertical-align: top;\n",
              "    }\n",
              "\n",
              "    .dataframe thead th {\n",
              "        text-align: right;\n",
              "    }\n",
              "</style>\n",
              "<table border=\"1\" class=\"dataframe\">\n",
              "  <thead>\n",
              "    <tr style=\"text-align: right;\">\n",
              "      <th></th>\n",
              "      <th>city</th>\n",
              "      <th>Temperature</th>\n",
              "    </tr>\n",
              "  </thead>\n",
              "  <tbody>\n",
              "    <tr>\n",
              "      <th>0</th>\n",
              "      <td>Chandigarh</td>\n",
              "      <td>15</td>\n",
              "    </tr>\n",
              "    <tr>\n",
              "      <th>1</th>\n",
              "      <td>Delhi</td>\n",
              "      <td>22</td>\n",
              "    </tr>\n",
              "    <tr>\n",
              "      <th>2</th>\n",
              "      <td>Kanpur</td>\n",
              "      <td>20</td>\n",
              "    </tr>\n",
              "    <tr>\n",
              "      <th>3</th>\n",
              "      <td>Chennai</td>\n",
              "      <td>26</td>\n",
              "    </tr>\n",
              "    <tr>\n",
              "      <th>4</th>\n",
              "      <td>Manali</td>\n",
              "      <td>-2</td>\n",
              "    </tr>\n",
              "  </tbody>\n",
              "</table>\n",
              "</div>"
            ],
            "text/plain": [
              "         city  Temperature\n",
              "0  Chandigarh           15\n",
              "1       Delhi           22\n",
              "2      Kanpur           20\n",
              "3     Chennai           26\n",
              "4      Manali           -2"
            ]
          },
          "metadata": {
            "tags": []
          },
          "execution_count": 27
        }
      ]
    },
    {
      "cell_type": "markdown",
      "metadata": {
        "id": "krbGpWdaTj4_"
      },
      "source": [
        "What is the shape of d1."
      ],
      "id": "krbGpWdaTj4_"
    },
    {
      "cell_type": "code",
      "metadata": {
        "id": "z9r9drDwTj4_",
        "colab": {
          "base_uri": "https://localhost:8080/"
        },
        "outputId": "f46af801-0541-4f89-a641-81e8ce685d53"
      },
      "source": [
        "d1.shape"
      ],
      "id": "z9r9drDwTj4_",
      "execution_count": 28,
      "outputs": [
        {
          "output_type": "execute_result",
          "data": {
            "text/plain": [
              "(5, 2)"
            ]
          },
          "metadata": {
            "tags": []
          },
          "execution_count": 28
        }
      ]
    },
    {
      "cell_type": "markdown",
      "metadata": {
        "id": "QbwTbOISTj4_"
      },
      "source": [
        "Set city = d1['city']"
      ],
      "id": "QbwTbOISTj4_"
    },
    {
      "cell_type": "code",
      "metadata": {
        "id": "SWLl1D1bTj4_"
      },
      "source": [
        "city = d1['city']"
      ],
      "id": "SWLl1D1bTj4_",
      "execution_count": 29,
      "outputs": []
    },
    {
      "cell_type": "markdown",
      "metadata": {
        "id": "UMM3ZPMVTj4_"
      },
      "source": [
        "print city <br>\n",
        "What is the type of city."
      ],
      "id": "UMM3ZPMVTj4_"
    },
    {
      "cell_type": "code",
      "metadata": {
        "id": "HK8OT3HlTj4_",
        "colab": {
          "base_uri": "https://localhost:8080/"
        },
        "outputId": "c7a074f4-0eb2-42d3-f363-71b1e1467e26"
      },
      "source": [
        "print(city)\n",
        "print(type(city))"
      ],
      "id": "HK8OT3HlTj4_",
      "execution_count": 30,
      "outputs": [
        {
          "output_type": "stream",
          "text": [
            "0    Chandigarh\n",
            "1         Delhi\n",
            "2        Kanpur\n",
            "3       Chennai\n",
            "4        Manali\n",
            "Name: city, dtype: object\n",
            "<class 'pandas.core.series.Series'>\n"
          ],
          "name": "stdout"
        }
      ]
    },
    {
      "cell_type": "markdown",
      "metadata": {
        "id": "O9AWqQWpTj5A"
      },
      "source": [
        "Create another dataframe d2 where the columns are <br>\n",
        "'city' - ['Bengalaru','Coimbatore','Srirangam','Pondicherry'] <br>\n",
        "'Temperature' - [24,35,36,39]"
      ],
      "id": "O9AWqQWpTj5A"
    },
    {
      "cell_type": "markdown",
      "metadata": {
        "id": "BfLACPlTTj5A"
      },
      "source": [
        "<p style='text-align: right;'> 3+2+5 = 10 points</p>\n"
      ],
      "id": "BfLACPlTTj5A"
    },
    {
      "cell_type": "code",
      "metadata": {
        "id": "YUhb1G3QTj5A",
        "colab": {
          "base_uri": "https://localhost:8080/",
          "height": 173
        },
        "outputId": "88b8239b-f42c-47f2-e5b4-c95f54b04150"
      },
      "source": [
        "dict2 = {'city': ['Bengalaru','Coimbatore','Srirangam','Pondicherry'], 'Temperature': [24,35,36,39]}\n",
        "d2 = pd.DataFrame(dict2)\n",
        "d2"
      ],
      "id": "YUhb1G3QTj5A",
      "execution_count": 31,
      "outputs": [
        {
          "output_type": "execute_result",
          "data": {
            "text/html": [
              "<div>\n",
              "<style scoped>\n",
              "    .dataframe tbody tr th:only-of-type {\n",
              "        vertical-align: middle;\n",
              "    }\n",
              "\n",
              "    .dataframe tbody tr th {\n",
              "        vertical-align: top;\n",
              "    }\n",
              "\n",
              "    .dataframe thead th {\n",
              "        text-align: right;\n",
              "    }\n",
              "</style>\n",
              "<table border=\"1\" class=\"dataframe\">\n",
              "  <thead>\n",
              "    <tr style=\"text-align: right;\">\n",
              "      <th></th>\n",
              "      <th>city</th>\n",
              "      <th>Temperature</th>\n",
              "    </tr>\n",
              "  </thead>\n",
              "  <tbody>\n",
              "    <tr>\n",
              "      <th>0</th>\n",
              "      <td>Bengalaru</td>\n",
              "      <td>24</td>\n",
              "    </tr>\n",
              "    <tr>\n",
              "      <th>1</th>\n",
              "      <td>Coimbatore</td>\n",
              "      <td>35</td>\n",
              "    </tr>\n",
              "    <tr>\n",
              "      <th>2</th>\n",
              "      <td>Srirangam</td>\n",
              "      <td>36</td>\n",
              "    </tr>\n",
              "    <tr>\n",
              "      <th>3</th>\n",
              "      <td>Pondicherry</td>\n",
              "      <td>39</td>\n",
              "    </tr>\n",
              "  </tbody>\n",
              "</table>\n",
              "</div>"
            ],
            "text/plain": [
              "          city  Temperature\n",
              "0    Bengalaru           24\n",
              "1   Coimbatore           35\n",
              "2    Srirangam           36\n",
              "3  Pondicherry           39"
            ]
          },
          "metadata": {
            "tags": []
          },
          "execution_count": 31
        }
      ]
    },
    {
      "cell_type": "markdown",
      "metadata": {
        "id": "fummvsWQTj5A"
      },
      "source": [
        "print the shape of this dataframe"
      ],
      "id": "fummvsWQTj5A"
    },
    {
      "cell_type": "code",
      "metadata": {
        "id": "89PDpTzATj5A",
        "colab": {
          "base_uri": "https://localhost:8080/"
        },
        "outputId": "bad317ff-b06d-48a2-c7a6-3daadff76d1d"
      },
      "source": [
        "d2.shape"
      ],
      "id": "89PDpTzATj5A",
      "execution_count": 32,
      "outputs": [
        {
          "output_type": "execute_result",
          "data": {
            "text/plain": [
              "(4, 2)"
            ]
          },
          "metadata": {
            "tags": []
          },
          "execution_count": 32
        }
      ]
    },
    {
      "cell_type": "markdown",
      "metadata": {
        "id": "o9J-VwSjTj5A"
      },
      "source": [
        "merge the two dataframes together, save it in a new dataframe named 'd3'\n"
      ],
      "id": "o9J-VwSjTj5A"
    },
    {
      "cell_type": "code",
      "metadata": {
        "id": "lwoYCTrJTj5B",
        "colab": {
          "base_uri": "https://localhost:8080/",
          "height": 328
        },
        "outputId": "8ea04645-9ffb-4456-d453-82b07284b3df"
      },
      "source": [
        "d3 = pd.concat([d1, d2], axis=0)\n",
        "d3"
      ],
      "id": "lwoYCTrJTj5B",
      "execution_count": 33,
      "outputs": [
        {
          "output_type": "execute_result",
          "data": {
            "text/html": [
              "<div>\n",
              "<style scoped>\n",
              "    .dataframe tbody tr th:only-of-type {\n",
              "        vertical-align: middle;\n",
              "    }\n",
              "\n",
              "    .dataframe tbody tr th {\n",
              "        vertical-align: top;\n",
              "    }\n",
              "\n",
              "    .dataframe thead th {\n",
              "        text-align: right;\n",
              "    }\n",
              "</style>\n",
              "<table border=\"1\" class=\"dataframe\">\n",
              "  <thead>\n",
              "    <tr style=\"text-align: right;\">\n",
              "      <th></th>\n",
              "      <th>city</th>\n",
              "      <th>Temperature</th>\n",
              "    </tr>\n",
              "  </thead>\n",
              "  <tbody>\n",
              "    <tr>\n",
              "      <th>0</th>\n",
              "      <td>Chandigarh</td>\n",
              "      <td>15</td>\n",
              "    </tr>\n",
              "    <tr>\n",
              "      <th>1</th>\n",
              "      <td>Delhi</td>\n",
              "      <td>22</td>\n",
              "    </tr>\n",
              "    <tr>\n",
              "      <th>2</th>\n",
              "      <td>Kanpur</td>\n",
              "      <td>20</td>\n",
              "    </tr>\n",
              "    <tr>\n",
              "      <th>3</th>\n",
              "      <td>Chennai</td>\n",
              "      <td>26</td>\n",
              "    </tr>\n",
              "    <tr>\n",
              "      <th>4</th>\n",
              "      <td>Manali</td>\n",
              "      <td>-2</td>\n",
              "    </tr>\n",
              "    <tr>\n",
              "      <th>0</th>\n",
              "      <td>Bengalaru</td>\n",
              "      <td>24</td>\n",
              "    </tr>\n",
              "    <tr>\n",
              "      <th>1</th>\n",
              "      <td>Coimbatore</td>\n",
              "      <td>35</td>\n",
              "    </tr>\n",
              "    <tr>\n",
              "      <th>2</th>\n",
              "      <td>Srirangam</td>\n",
              "      <td>36</td>\n",
              "    </tr>\n",
              "    <tr>\n",
              "      <th>3</th>\n",
              "      <td>Pondicherry</td>\n",
              "      <td>39</td>\n",
              "    </tr>\n",
              "  </tbody>\n",
              "</table>\n",
              "</div>"
            ],
            "text/plain": [
              "          city  Temperature\n",
              "0   Chandigarh           15\n",
              "1        Delhi           22\n",
              "2       Kanpur           20\n",
              "3      Chennai           26\n",
              "4       Manali           -2\n",
              "0    Bengalaru           24\n",
              "1   Coimbatore           35\n",
              "2    Srirangam           36\n",
              "3  Pondicherry           39"
            ]
          },
          "metadata": {
            "tags": []
          },
          "execution_count": 33
        }
      ]
    },
    {
      "cell_type": "markdown",
      "metadata": {
        "id": "jPk5D1MWTj5B"
      },
      "source": [
        "# fun fact at high level\n",
        "\n",
        "1. .concat() simply stacks multiple DataFrame together either vertically, or stitches horizontally after aligning on index\n",
        "2. .merge() first aligns two DataFrame' selected common column(s) or index, and then pick up the remaining columns from the aligned rows of each DataFrame\n",
        "\n",
        "Do you know about join function? This interesting quest we give to you to find. "
      ],
      "id": "jPk5D1MWTj5B"
    },
    {
      "cell_type": "markdown",
      "metadata": {
        "id": "KP6-TdaBTj5B"
      },
      "source": [
        "Select the part of the dataframe such that it contains cities where temp is less then or equal to 20 <br>\n",
        "How many cities are there? "
      ],
      "id": "KP6-TdaBTj5B"
    },
    {
      "cell_type": "markdown",
      "metadata": {
        "id": "LRLIn37zTj5B"
      },
      "source": [
        "<p style='text-align: right;'> 5+5=10 points</p>\n"
      ],
      "id": "LRLIn37zTj5B"
    },
    {
      "cell_type": "code",
      "metadata": {
        "id": "Mb3XX4U1Tj5B",
        "colab": {
          "base_uri": "https://localhost:8080/",
          "height": 142
        },
        "outputId": "c178cd28-b7a6-4c81-9d55-06fd34fbd806"
      },
      "source": [
        "d3[(d3['Temperature']<= 20)]"
      ],
      "id": "Mb3XX4U1Tj5B",
      "execution_count": 34,
      "outputs": [
        {
          "output_type": "execute_result",
          "data": {
            "text/html": [
              "<div>\n",
              "<style scoped>\n",
              "    .dataframe tbody tr th:only-of-type {\n",
              "        vertical-align: middle;\n",
              "    }\n",
              "\n",
              "    .dataframe tbody tr th {\n",
              "        vertical-align: top;\n",
              "    }\n",
              "\n",
              "    .dataframe thead th {\n",
              "        text-align: right;\n",
              "    }\n",
              "</style>\n",
              "<table border=\"1\" class=\"dataframe\">\n",
              "  <thead>\n",
              "    <tr style=\"text-align: right;\">\n",
              "      <th></th>\n",
              "      <th>city</th>\n",
              "      <th>Temperature</th>\n",
              "    </tr>\n",
              "  </thead>\n",
              "  <tbody>\n",
              "    <tr>\n",
              "      <th>0</th>\n",
              "      <td>Chandigarh</td>\n",
              "      <td>15</td>\n",
              "    </tr>\n",
              "    <tr>\n",
              "      <th>2</th>\n",
              "      <td>Kanpur</td>\n",
              "      <td>20</td>\n",
              "    </tr>\n",
              "    <tr>\n",
              "      <th>4</th>\n",
              "      <td>Manali</td>\n",
              "      <td>-2</td>\n",
              "    </tr>\n",
              "  </tbody>\n",
              "</table>\n",
              "</div>"
            ],
            "text/plain": [
              "         city  Temperature\n",
              "0  Chandigarh           15\n",
              "2      Kanpur           20\n",
              "4      Manali           -2"
            ]
          },
          "metadata": {
            "tags": []
          },
          "execution_count": 34
        }
      ]
    },
    {
      "cell_type": "markdown",
      "metadata": {
        "id": "X2gQEH9HTj5C"
      },
      "source": [
        "Select the part of the dataframe such that it contains the cities where tempearature greater than or equal to 35"
      ],
      "id": "X2gQEH9HTj5C"
    },
    {
      "cell_type": "code",
      "metadata": {
        "id": "GYpJ101RTj5C",
        "colab": {
          "base_uri": "https://localhost:8080/",
          "height": 142
        },
        "outputId": "59413a9c-7724-4aa8-9ea9-458eb9d184cc"
      },
      "source": [
        "d3[(d3['Temperature']>= 35)]"
      ],
      "id": "GYpJ101RTj5C",
      "execution_count": 35,
      "outputs": [
        {
          "output_type": "execute_result",
          "data": {
            "text/html": [
              "<div>\n",
              "<style scoped>\n",
              "    .dataframe tbody tr th:only-of-type {\n",
              "        vertical-align: middle;\n",
              "    }\n",
              "\n",
              "    .dataframe tbody tr th {\n",
              "        vertical-align: top;\n",
              "    }\n",
              "\n",
              "    .dataframe thead th {\n",
              "        text-align: right;\n",
              "    }\n",
              "</style>\n",
              "<table border=\"1\" class=\"dataframe\">\n",
              "  <thead>\n",
              "    <tr style=\"text-align: right;\">\n",
              "      <th></th>\n",
              "      <th>city</th>\n",
              "      <th>Temperature</th>\n",
              "    </tr>\n",
              "  </thead>\n",
              "  <tbody>\n",
              "    <tr>\n",
              "      <th>1</th>\n",
              "      <td>Coimbatore</td>\n",
              "      <td>35</td>\n",
              "    </tr>\n",
              "    <tr>\n",
              "      <th>2</th>\n",
              "      <td>Srirangam</td>\n",
              "      <td>36</td>\n",
              "    </tr>\n",
              "    <tr>\n",
              "      <th>3</th>\n",
              "      <td>Pondicherry</td>\n",
              "      <td>39</td>\n",
              "    </tr>\n",
              "  </tbody>\n",
              "</table>\n",
              "</div>"
            ],
            "text/plain": [
              "          city  Temperature\n",
              "1   Coimbatore           35\n",
              "2    Srirangam           36\n",
              "3  Pondicherry           39"
            ]
          },
          "metadata": {
            "tags": []
          },
          "execution_count": 35
        }
      ]
    },
    {
      "cell_type": "markdown",
      "metadata": {
        "id": "79mHpn-eTj5C"
      },
      "source": [
        "## 3. Applying functions to columns and creating new columns\n",
        "\n",
        "Reference: https://www.youtube.com/watch?v=L0wMml__Gow"
      ],
      "id": "79mHpn-eTj5C"
    },
    {
      "cell_type": "markdown",
      "metadata": {
        "id": "YTRlOTgtTj5C"
      },
      "source": [
        "<p style='text-align: right;'> 20 points</p>\n"
      ],
      "id": "YTRlOTgtTj5C"
    },
    {
      "cell_type": "markdown",
      "metadata": {
        "id": "zNmfCCdlTj5C"
      },
      "source": [
        "We need to create another column in d3, which contains  a boolean value for each city to indicate whether it's a union territory or not. \n",
        "- HINT: Chandigarh, Pondicherry and Delhi are only 3 union territories here. \n"
      ],
      "id": "zNmfCCdlTj5C"
    },
    {
      "cell_type": "code",
      "metadata": {
        "id": "Ht8ZEvJOTj5C"
      },
      "source": [
        "# write function here\n"
      ],
      "id": "Ht8ZEvJOTj5C",
      "execution_count": 36,
      "outputs": []
    },
    {
      "cell_type": "code",
      "metadata": {
        "id": "X24Clnd-Tj5D"
      },
      "source": [
        "#print d3\n"
      ],
      "id": "X24Clnd-Tj5D",
      "execution_count": 37,
      "outputs": []
    },
    {
      "cell_type": "markdown",
      "metadata": {
        "id": "IDIB9DJvTj5D"
      },
      "source": [
        "The temperatures mentioned in ‘Temperature’ column are mentioned in Celsius, we need another column which contains the same in Fahrenheit. "
      ],
      "id": "IDIB9DJvTj5D"
    },
    {
      "cell_type": "markdown",
      "metadata": {
        "id": "jwV8DMORTj5D"
      },
      "source": [
        "HINT - \n",
        "- Define a function c_to_f which takes input temp in celsius and returns a value with temperature in Fahrenheit.\n",
        "- To check: c_to_f(10) should return 50. \n"
      ],
      "id": "jwV8DMORTj5D"
    },
    {
      "cell_type": "code",
      "metadata": {
        "id": "-VzHMqoiTj5D"
      },
      "source": [
        "# write function here\n"
      ],
      "id": "-VzHMqoiTj5D",
      "execution_count": 38,
      "outputs": []
    },
    {
      "cell_type": "code",
      "metadata": {
        "id": "GB--vApNTj5D"
      },
      "source": [
        "# check  function c_to_f(10)\n"
      ],
      "id": "GB--vApNTj5D",
      "execution_count": 39,
      "outputs": []
    },
    {
      "cell_type": "code",
      "metadata": {
        "id": "ecrW1uu4Tj5D"
      },
      "source": [
        "# apply function c_to_f to d3 to create a column 'temp_farenhiet'\n",
        "\n"
      ],
      "id": "ecrW1uu4Tj5D",
      "execution_count": 40,
      "outputs": []
    },
    {
      "cell_type": "markdown",
      "metadata": {
        "id": "MGJEcOlgTj5E"
      },
      "source": [
        "## 4. Indexing and selecting rows in DataFrame\n",
        "\n",
        "Reference:-https://www.youtube.com/watch?v=XKFRFDgA7ZY"
      ],
      "id": "MGJEcOlgTj5E"
    },
    {
      "cell_type": "markdown",
      "metadata": {
        "id": "Rq188Lb9Tj5E"
      },
      "source": [
        "<p style='text-align: right;'> 20 points</p>\n"
      ],
      "id": "Rq188Lb9Tj5E"
    },
    {
      "cell_type": "markdown",
      "metadata": {
        "id": "gryBESm2Tj5E"
      },
      "source": [
        "Select subset of the dataframe d3 such that it contains the cities which are union territories."
      ],
      "id": "gryBESm2Tj5E"
    },
    {
      "cell_type": "code",
      "metadata": {
        "id": "apicyagvTj5E"
      },
      "source": [
        ""
      ],
      "id": "apicyagvTj5E",
      "execution_count": 40,
      "outputs": []
    },
    {
      "cell_type": "markdown",
      "metadata": {
        "id": "dQlOdyb8Tj5E"
      },
      "source": [
        "Select a subset of the dataframe d3 such that it contains the cities which only have temperature above 90 Farenhiet."
      ],
      "id": "dQlOdyb8Tj5E"
    },
    {
      "cell_type": "code",
      "metadata": {
        "id": "a0bA1WmRTj5E"
      },
      "source": [
        ""
      ],
      "id": "a0bA1WmRTj5E",
      "execution_count": 40,
      "outputs": []
    },
    {
      "cell_type": "markdown",
      "metadata": {
        "id": "eW5Y3_9pTj5F"
      },
      "source": [
        "Select only the first three rows of the dataframe d3. \n"
      ],
      "id": "eW5Y3_9pTj5F"
    },
    {
      "cell_type": "code",
      "metadata": {
        "id": "CWdJxZpkTj5F"
      },
      "source": [
        ""
      ],
      "id": "CWdJxZpkTj5F",
      "execution_count": 40,
      "outputs": []
    },
    {
      "cell_type": "markdown",
      "metadata": {
        "id": "YBwia2cITj5F"
      },
      "source": [
        "Select all the rows and last two columns in the dataframe.\n",
        "\n",
        "\n"
      ],
      "id": "YBwia2cITj5F"
    },
    {
      "cell_type": "code",
      "metadata": {
        "id": "M0bKZ4oATj5F"
      },
      "source": [
        ""
      ],
      "id": "M0bKZ4oATj5F",
      "execution_count": 40,
      "outputs": []
    },
    {
      "cell_type": "markdown",
      "metadata": {
        "id": "opZzTgioTj5F"
      },
      "source": [
        "## 5. Reading csv file and group by\n",
        "\n",
        "Reference: https://www.youtube.com/watch?v=ENhGz1HkzvY <br>\n",
        "https://www.youtube.com/watch?v=nulx_VmV7dE"
      ],
      "id": "opZzTgioTj5F"
    },
    {
      "cell_type": "markdown",
      "metadata": {
        "id": "rdm-7ZiBTj5G"
      },
      "source": [
        "<p style='text-align: right;'> 2*2=4 points</p>\n"
      ],
      "id": "rdm-7ZiBTj5G"
    },
    {
      "cell_type": "markdown",
      "metadata": {
        "id": "9bPMTOBvTj5G"
      },
      "source": [
        "Read the file 'weather_data.csv' and store it in a pandas dataframe 'df' "
      ],
      "id": "9bPMTOBvTj5G"
    },
    {
      "cell_type": "code",
      "metadata": {
        "id": "ZuH9dd_eTj5G"
      },
      "source": [
        ""
      ],
      "id": "ZuH9dd_eTj5G",
      "execution_count": 40,
      "outputs": []
    },
    {
      "cell_type": "markdown",
      "metadata": {
        "id": "opKBgj3CTj5G"
      },
      "source": [
        "print the shape and head of the dataframe"
      ],
      "id": "opKBgj3CTj5G"
    },
    {
      "cell_type": "code",
      "metadata": {
        "id": "2X5FwELSTj5G"
      },
      "source": [
        ""
      ],
      "id": "2X5FwELSTj5G",
      "execution_count": 40,
      "outputs": []
    },
    {
      "cell_type": "markdown",
      "metadata": {
        "id": "ZaFF7VYDTj5G"
      },
      "source": [
        "Group the dataframe wrt to 'event' and save the resulting output in a variable named 'g'"
      ],
      "id": "ZaFF7VYDTj5G"
    },
    {
      "cell_type": "markdown",
      "metadata": {
        "id": "6oxOMGzWTj5G"
      },
      "source": [
        "<p style='text-align: right;'> 5*3 = 15 points</p>\n"
      ],
      "id": "6oxOMGzWTj5G"
    },
    {
      "cell_type": "code",
      "metadata": {
        "id": "E0T-hdYqTj5H"
      },
      "source": [
        ""
      ],
      "id": "E0T-hdYqTj5H",
      "execution_count": 40,
      "outputs": []
    },
    {
      "cell_type": "markdown",
      "metadata": {
        "id": "w1X4dJQuTj5H"
      },
      "source": [
        "Print g and  type(g)"
      ],
      "id": "w1X4dJQuTj5H"
    },
    {
      "cell_type": "code",
      "metadata": {
        "id": "WZlS_AyJTj5H"
      },
      "source": [
        ""
      ],
      "id": "WZlS_AyJTj5H",
      "execution_count": 40,
      "outputs": []
    },
    {
      "cell_type": "markdown",
      "metadata": {
        "id": "NoHGRUDnTj5H"
      },
      "source": [
        "Iterate over all the temperatures in g and print them "
      ],
      "id": "NoHGRUDnTj5H"
    },
    {
      "cell_type": "code",
      "metadata": {
        "id": "8TLrNXAkTj5H"
      },
      "source": [
        ""
      ],
      "id": "8TLrNXAkTj5H",
      "execution_count": 40,
      "outputs": []
    },
    {
      "cell_type": "markdown",
      "metadata": {
        "id": "B_8ENztFTj5H"
      },
      "source": [
        "Use the describle method on g to get the complete description on it."
      ],
      "id": "B_8ENztFTj5H"
    },
    {
      "cell_type": "code",
      "metadata": {
        "id": "uiwiZhu1Tj5I"
      },
      "source": [
        ""
      ],
      "id": "uiwiZhu1Tj5I",
      "execution_count": 40,
      "outputs": []
    },
    {
      "cell_type": "markdown",
      "metadata": {
        "id": "SfUehL76Tj5I"
      },
      "source": [
        "Create a new column in the dataframe df, named 'hot_temp' which contains True if temp is above 30, else False"
      ],
      "id": "SfUehL76Tj5I"
    },
    {
      "cell_type": "markdown",
      "metadata": {
        "id": "t7nfuNBbTj5I"
      },
      "source": [
        "<p style='text-align: right;'> 5 points</p>\n"
      ],
      "id": "t7nfuNBbTj5I"
    },
    {
      "cell_type": "code",
      "metadata": {
        "id": "D3lZwKz_Tj5I"
      },
      "source": [
        "#code here to filter df with above condition\n"
      ],
      "id": "D3lZwKz_Tj5I",
      "execution_count": 41,
      "outputs": []
    },
    {
      "cell_type": "code",
      "metadata": {
        "id": "Awg56g-BTj5I"
      },
      "source": [
        "# print df\n"
      ],
      "id": "Awg56g-BTj5I",
      "execution_count": 42,
      "outputs": []
    },
    {
      "cell_type": "markdown",
      "metadata": {
        "id": "V7eY8IDXTj5I"
      },
      "source": [
        "## Data Range\n",
        "\n",
        "Reference:-https://www.youtube.com/watch?v=dRxCvSbMEto"
      ],
      "id": "V7eY8IDXTj5I"
    },
    {
      "cell_type": "markdown",
      "metadata": {
        "id": "gqaTMfvJTj5J"
      },
      "source": [
        "<p style='text-align: right;'> 5*3 = 15 points</p>\n"
      ],
      "id": "gqaTMfvJTj5J"
    },
    {
      "cell_type": "markdown",
      "metadata": {
        "id": "71j4ZKIBTj5J"
      },
      "source": [
        "Create a pandas daterange where starting date is 1st of January,2020 and end date is 1st of April 2021, store it in a new variable named 'a'"
      ],
      "id": "71j4ZKIBTj5J"
    },
    {
      "cell_type": "code",
      "metadata": {
        "id": "dOdUdgguTj5J"
      },
      "source": [
        ""
      ],
      "id": "dOdUdgguTj5J",
      "execution_count": 42,
      "outputs": []
    },
    {
      "cell_type": "markdown",
      "metadata": {
        "id": "rrv6DlKYTj5J"
      },
      "source": [
        "print a"
      ],
      "id": "rrv6DlKYTj5J"
    },
    {
      "cell_type": "code",
      "metadata": {
        "id": "FgbHTOxLTj5J"
      },
      "source": [
        ""
      ],
      "id": "FgbHTOxLTj5J",
      "execution_count": 42,
      "outputs": []
    },
    {
      "cell_type": "markdown",
      "metadata": {
        "id": "SFE-HYMtTj5J"
      },
      "source": [
        "What is the len of a?"
      ],
      "id": "SFE-HYMtTj5J"
    },
    {
      "cell_type": "code",
      "metadata": {
        "id": "yKhSCTubTj5K"
      },
      "source": [
        ""
      ],
      "id": "yKhSCTubTj5K",
      "execution_count": 42,
      "outputs": []
    },
    {
      "cell_type": "markdown",
      "metadata": {
        "id": "2a1TsoudTj5K"
      },
      "source": [
        "What is the type of a?"
      ],
      "id": "2a1TsoudTj5K"
    },
    {
      "cell_type": "code",
      "metadata": {
        "id": "SC1xBR3lTj5K"
      },
      "source": [
        ""
      ],
      "id": "SC1xBR3lTj5K",
      "execution_count": 42,
      "outputs": []
    },
    {
      "cell_type": "markdown",
      "metadata": {
        "id": "gbUSqpa5Tj5K"
      },
      "source": [
        "________________\n",
        "# Hey high five! You solved the 4th milestone challenge too! Pawri to banti hai ;)\n",
        "________________\n",
        "\n",
        "# Its Feedback Time!\n",
        "\n",
        "We hope you’ve enjoyed this course so far. We’re committed to help you use \"AI for All\" course to its full potential, so that you have a great learning experience. And that’s why we need your help in form of a feedback here.\n",
        "\n",
        "**Please fill this feedback form**\n",
        " https://zfrmz.in/MtRG5oWXBdesm6rmSM7N"
      ],
      "id": "gbUSqpa5Tj5K"
    }
  ]
}