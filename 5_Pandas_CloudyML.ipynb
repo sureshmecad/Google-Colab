{
  "nbformat": 4,
  "nbformat_minor": 5,
  "metadata": {
    "kernelspec": {
      "display_name": "Python 3",
      "language": "python",
      "name": "python3"
    },
    "language_info": {
      "codemirror_mode": {
        "name": "ipython",
        "version": 3
      },
      "file_extension": ".py",
      "mimetype": "text/x-python",
      "name": "python",
      "nbconvert_exporter": "python",
      "pygments_lexer": "ipython3",
      "version": "3.8.5"
    },
    "colab": {
      "name": "5_Pandas_CloudyML.ipynb",
      "provenance": [],
      "collapsed_sections": [
        "09nHpd9RTj42",
        "XijGxUbaTj42",
        "kA9Nxvv_Tj48",
        "79mHpn-eTj5C",
        "MGJEcOlgTj5E",
        "opZzTgioTj5F",
        "V7eY8IDXTj5I"
      ],
      "include_colab_link": true
    }
  },
  "cells": [
    {
      "cell_type": "markdown",
      "metadata": {
        "id": "view-in-github",
        "colab_type": "text"
      },
      "source": [
        "<a href=\"https://colab.research.google.com/github/sureshmecad/Google-Colab/blob/master/5_Pandas_CloudyML.ipynb\" target=\"_parent\"><img src=\"https://colab.research.google.com/assets/colab-badge.svg\" alt=\"Open In Colab\"/></a>"
      ]
    },
    {
      "cell_type": "markdown",
      "metadata": {
        "id": "PANBxgY3Tj4t"
      },
      "source": [
        "# <center><u>Pandas <u> </center>"
      ],
      "id": "PANBxgY3Tj4t"
    },
    {
      "cell_type": "markdown",
      "metadata": {
        "id": "h3M-0VYJTj4u"
      },
      "source": [
        "## 1.[Pandas Series](https://pandas.pydata.org/pandas-docs/stable/reference/series.html)"
      ],
      "id": "h3M-0VYJTj4u"
    },
    {
      "cell_type": "markdown",
      "metadata": {
        "id": "SVaNxosZTj4v"
      },
      "source": [
        "resource - https://www.youtube.com/watch?v=m7gxnZx2vT4"
      ],
      "id": "SVaNxosZTj4v"
    },
    {
      "cell_type": "markdown",
      "metadata": {
        "id": "SYeUyq67Tj4v"
      },
      "source": [
        "<p style='text-align: right;'> 1*4=4 points</p>\n"
      ],
      "id": "SYeUyq67Tj4v"
    },
    {
      "cell_type": "markdown",
      "metadata": {
        "id": "B7kGnjDoTj4v"
      },
      "source": [
        "Import pandas and numpy with their aliases"
      ],
      "id": "B7kGnjDoTj4v"
    },
    {
      "cell_type": "code",
      "metadata": {
        "id": "WH36K915Tj4w"
      },
      "source": [
        ""
      ],
      "id": "WH36K915Tj4w",
      "execution_count": null,
      "outputs": []
    },
    {
      "cell_type": "markdown",
      "metadata": {
        "id": "w9Jxv3MPTj4w"
      },
      "source": [
        "Create a variable a = pd.Series([ 100, 200, 300, 400])"
      ],
      "id": "w9Jxv3MPTj4w"
    },
    {
      "cell_type": "code",
      "metadata": {
        "id": "NKFfE8vcTj4w"
      },
      "source": [
        ""
      ],
      "id": "NKFfE8vcTj4w",
      "execution_count": null,
      "outputs": []
    },
    {
      "cell_type": "markdown",
      "metadata": {
        "id": "q3dNZloETj4x"
      },
      "source": [
        "Print a, and data type"
      ],
      "id": "q3dNZloETj4x"
    },
    {
      "cell_type": "code",
      "metadata": {
        "id": "Xs-5Zm08Tj4x",
        "outputId": "860eef3d-a5c9-402f-bb54-298fd40c141f"
      },
      "source": [
        ""
      ],
      "id": "Xs-5Zm08Tj4x",
      "execution_count": null,
      "outputs": [
        {
          "output_type": "stream",
          "text": [
            "0    100\n",
            "1    200\n",
            "2    300\n",
            "3    400\n",
            "dtype: int64\n",
            "<class 'pandas.core.series.Series'>\n"
          ],
          "name": "stdout"
        }
      ]
    },
    {
      "cell_type": "markdown",
      "metadata": {
        "id": "JB5izz0wTj4y"
      },
      "source": [
        "Using indexing access the element 300 from the series a."
      ],
      "id": "JB5izz0wTj4y"
    },
    {
      "cell_type": "code",
      "metadata": {
        "id": "jf6Y1od-Tj4y",
        "outputId": "e77f7e87-8c3d-4f35-c84c-e0bb43f6e7bc"
      },
      "source": [
        ""
      ],
      "id": "jf6Y1od-Tj4y",
      "execution_count": null,
      "outputs": [
        {
          "output_type": "execute_result",
          "data": {
            "text/plain": [
              "300"
            ]
          },
          "metadata": {
            "tags": []
          },
          "execution_count": 5
        }
      ]
    },
    {
      "cell_type": "markdown",
      "metadata": {
        "id": "B6Yac7AQTj4y"
      },
      "source": [
        "What are the values of index for series a?"
      ],
      "id": "B6Yac7AQTj4y"
    },
    {
      "cell_type": "markdown",
      "metadata": {
        "id": "-BYDGuAuTj4y"
      },
      "source": [
        "<p style='text-align: right;'> 2*4 = 8 points</p>\n"
      ],
      "id": "-BYDGuAuTj4y"
    },
    {
      "cell_type": "code",
      "metadata": {
        "id": "VJjFVrnnTj4z",
        "outputId": "8701d777-9371-4da8-82d0-61b06c8f14dc"
      },
      "source": [
        ""
      ],
      "id": "VJjFVrnnTj4z",
      "execution_count": null,
      "outputs": [
        {
          "output_type": "execute_result",
          "data": {
            "text/plain": [
              "RangeIndex(start=0, stop=4, step=1)"
            ]
          },
          "metadata": {
            "tags": []
          },
          "execution_count": 6
        }
      ]
    },
    {
      "cell_type": "markdown",
      "metadata": {
        "id": "m_p3a6MPTj4z"
      },
      "source": [
        "Change the index to  ['c', 'a', 'b', 'd']"
      ],
      "id": "m_p3a6MPTj4z"
    },
    {
      "cell_type": "code",
      "metadata": {
        "id": "YJOH_f0HTj4z",
        "outputId": "a7454703-46fc-451b-805f-e58493648838"
      },
      "source": [
        ""
      ],
      "id": "YJOH_f0HTj4z",
      "execution_count": null,
      "outputs": [
        {
          "output_type": "stream",
          "text": [
            "c    100\n",
            "a    200\n",
            "b    300\n",
            "d    400\n",
            "dtype: int64\n"
          ],
          "name": "stdout"
        }
      ]
    },
    {
      "cell_type": "markdown",
      "metadata": {
        "id": "mkX6Ah14Tj4z"
      },
      "source": [
        "Access the value in the series with index 'd'"
      ],
      "id": "mkX6Ah14Tj4z"
    },
    {
      "cell_type": "code",
      "metadata": {
        "id": "rV01auX6Tj4z",
        "outputId": "fa312d5d-9a0a-41e6-a93c-61bcbc6b91e7"
      },
      "source": [
        ""
      ],
      "id": "rV01auX6Tj4z",
      "execution_count": null,
      "outputs": [
        {
          "output_type": "execute_result",
          "data": {
            "text/plain": [
              "400"
            ]
          },
          "metadata": {
            "tags": []
          },
          "execution_count": 8
        }
      ]
    },
    {
      "cell_type": "markdown",
      "metadata": {
        "id": "eHnQuSQBTj40"
      },
      "source": [
        "Sort the values wrt to the index and print it"
      ],
      "id": "eHnQuSQBTj40"
    },
    {
      "cell_type": "code",
      "metadata": {
        "id": "pzcB82cVTj40",
        "outputId": "2b4fc214-6275-49f2-8172-6cdffbf86627"
      },
      "source": [
        ""
      ],
      "id": "pzcB82cVTj40",
      "execution_count": null,
      "outputs": [
        {
          "output_type": "stream",
          "text": [
            "a    200\n",
            "b    300\n",
            "c    100\n",
            "d    400\n",
            "dtype: int64\n"
          ],
          "name": "stdout"
        }
      ]
    },
    {
      "cell_type": "markdown",
      "metadata": {
        "id": "OqvjWQG1Tj40"
      },
      "source": [
        "Create a new Pandas Series b having index as 'e', 'f', and 'g' and value 800,450,100 and print it"
      ],
      "id": "OqvjWQG1Tj40"
    },
    {
      "cell_type": "markdown",
      "metadata": {
        "id": "DCXo4eqPTj40"
      },
      "source": [
        "<p style='text-align: right;'> 4*2=8 points</p>\n"
      ],
      "id": "DCXo4eqPTj40"
    },
    {
      "cell_type": "code",
      "metadata": {
        "id": "qx4eXwr3Tj40",
        "outputId": "7d23e601-e758-49e7-a36a-f1059b77b3e3"
      },
      "source": [
        "b=# code here"
      ],
      "id": "qx4eXwr3Tj40",
      "execution_count": null,
      "outputs": [
        {
          "output_type": "stream",
          "text": [
            "e    800\n",
            "f    450\n",
            "g    100\n",
            "dtype: int64\n"
          ],
          "name": "stdout"
        }
      ]
    },
    {
      "cell_type": "markdown",
      "metadata": {
        "id": "Y_z1oL_rTj41"
      },
      "source": [
        "Append b series at the end of a series"
      ],
      "id": "Y_z1oL_rTj41"
    },
    {
      "cell_type": "code",
      "metadata": {
        "id": "7X_Gsg4_Tj41"
      },
      "source": [
        ""
      ],
      "id": "7X_Gsg4_Tj41",
      "execution_count": null,
      "outputs": []
    },
    {
      "cell_type": "code",
      "metadata": {
        "id": "Bf593PceTj41",
        "outputId": "78d40f5d-844b-4f54-90ea-d8eaa9fb3937"
      },
      "source": [
        "#print a again after appending b into it\n"
      ],
      "id": "Bf593PceTj41",
      "execution_count": null,
      "outputs": [
        {
          "output_type": "stream",
          "text": [
            "a    200\n",
            "b    300\n",
            "c    100\n",
            "d    400\n",
            "e    800\n",
            "f    450\n",
            "g    100\n",
            "dtype: int64\n"
          ],
          "name": "stdout"
        }
      ]
    },
    {
      "cell_type": "markdown",
      "metadata": {
        "id": "RBJIDiJkTj41"
      },
      "source": [
        "Sort the values in descending order of a and print the index of the sorted series"
      ],
      "id": "RBJIDiJkTj41"
    },
    {
      "cell_type": "code",
      "metadata": {
        "id": "1aANEzGTTj41"
      },
      "source": [
        "a=#code here"
      ],
      "id": "1aANEzGTTj41",
      "execution_count": null,
      "outputs": []
    },
    {
      "cell_type": "code",
      "metadata": {
        "id": "wNQbzqxhTj42",
        "outputId": "00675ba8-0f07-4d74-b050-76b4503f648b"
      },
      "source": [
        "# print index of a\n",
        "\n"
      ],
      "id": "wNQbzqxhTj42",
      "execution_count": null,
      "outputs": [
        {
          "output_type": "stream",
          "text": [
            "Index(['e', 'f', 'd', 'b', 'a', 'g', 'c'], dtype='object')\n"
          ],
          "name": "stdout"
        }
      ]
    },
    {
      "cell_type": "markdown",
      "metadata": {
        "id": "09nHpd9RTj42"
      },
      "source": [
        "## 2. [Pandas DataFrame](https://pandas.pydata.org/pandas-docs/stable/reference/api/pandas.DataFrame.html)\n",
        "\n",
        "Reference:-https://www.youtube.com/watch?v=KB-19V-cSs4"
      ],
      "id": "09nHpd9RTj42"
    },
    {
      "cell_type": "markdown",
      "metadata": {
        "id": "Bm0gCr2hTj42"
      },
      "source": [
        "<p style='text-align: right;'> 8*2 = 16 points</p>\n"
      ],
      "id": "Bm0gCr2hTj42"
    },
    {
      "cell_type": "markdown",
      "metadata": {
        "id": "XijGxUbaTj42"
      },
      "source": [
        "### Part 1"
      ],
      "id": "XijGxUbaTj42"
    },
    {
      "cell_type": "markdown",
      "metadata": {
        "id": "wdYCOxjYTj43"
      },
      "source": [
        "<p style='text-align: right;'> 5 points</p>\n"
      ],
      "id": "wdYCOxjYTj43"
    },
    {
      "cell_type": "markdown",
      "metadata": {
        "id": "Iur3AMH_Tj43"
      },
      "source": [
        "Create a pandas dataframe df from the series 'a' that we used in the last section, print the dataframe"
      ],
      "id": "Iur3AMH_Tj43"
    },
    {
      "cell_type": "code",
      "metadata": {
        "id": "7QTFaN9gTj43",
        "outputId": "eed486bf-6219-45b1-f2e3-a79b4a81ce97"
      },
      "source": [
        "df"
      ],
      "id": "7QTFaN9gTj43",
      "execution_count": null,
      "outputs": [
        {
          "output_type": "stream",
          "text": [
            "     0\n",
            "e  800\n",
            "f  450\n",
            "d  400\n",
            "b  300\n",
            "a  200\n",
            "g  100\n",
            "c  100\n"
          ],
          "name": "stdout"
        }
      ]
    },
    {
      "cell_type": "markdown",
      "metadata": {
        "id": "Lt7lLN4qTj43"
      },
      "source": [
        "Point to ponder! Don't you think series a and dataframe df looks alike? But there must be some difference between them. \n",
        "Hey buddy think and write your thoughts below."
      ],
      "id": "Lt7lLN4qTj43"
    },
    {
      "cell_type": "code",
      "metadata": {
        "id": "_IHgUvk8Tj43"
      },
      "source": [
        "# happy to know your comment\n",
        "\n"
      ],
      "id": "_IHgUvk8Tj43",
      "execution_count": null,
      "outputs": []
    },
    {
      "cell_type": "markdown",
      "metadata": {
        "id": "a2rNCqKLTj44"
      },
      "source": [
        "<p style='text-align: right;'> 2 + 1*4 = 6 points</p>\n"
      ],
      "id": "a2rNCqKLTj44"
    },
    {
      "cell_type": "markdown",
      "metadata": {
        "id": "3FImOk-wTj44"
      },
      "source": [
        "What is the shape of the datafarme <br>\n"
      ],
      "id": "3FImOk-wTj44"
    },
    {
      "cell_type": "code",
      "metadata": {
        "id": "bpeT13F-Tj44",
        "outputId": "61e45cf8-d928-45c8-d080-8c0b081cadae"
      },
      "source": [
        ""
      ],
      "id": "bpeT13F-Tj44",
      "execution_count": null,
      "outputs": [
        {
          "output_type": "execute_result",
          "data": {
            "text/plain": [
              "(7, 1)"
            ]
          },
          "metadata": {
            "tags": []
          },
          "execution_count": 16
        }
      ]
    },
    {
      "cell_type": "markdown",
      "metadata": {
        "id": "-k77ncJfTj44"
      },
      "source": [
        "Hey! remember shape (7,1) implies dataframe has 7 rows and 1 column. "
      ],
      "id": "-k77ncJfTj44"
    },
    {
      "cell_type": "markdown",
      "metadata": {
        "id": "XLOMnoMWTj44"
      },
      "source": [
        "What is the index of the dataframe, is it same as the series 'a' ?"
      ],
      "id": "XLOMnoMWTj44"
    },
    {
      "cell_type": "code",
      "metadata": {
        "id": "FzwhAXiLTj45",
        "outputId": "7aee3957-9956-4df3-decb-06ba2733b4e9"
      },
      "source": [
        ""
      ],
      "id": "FzwhAXiLTj45",
      "execution_count": null,
      "outputs": [
        {
          "output_type": "execute_result",
          "data": {
            "text/plain": [
              "Index(['e', 'f', 'd', 'b', 'a', 'g', 'c'], dtype='object')"
            ]
          },
          "metadata": {
            "tags": []
          },
          "execution_count": 17
        }
      ]
    },
    {
      "cell_type": "markdown",
      "metadata": {
        "id": "IjVDgqDuTj45"
      },
      "source": [
        "print the head and tail of the dataframe. <br>\n",
        "Additional - (what does head and tali represent?)"
      ],
      "id": "IjVDgqDuTj45"
    },
    {
      "cell_type": "code",
      "metadata": {
        "id": "Cd5EHxTpTj45",
        "outputId": "527ded27-03e0-4d6f-92f8-d7323f6e6bc2"
      },
      "source": [
        "#head\n"
      ],
      "id": "Cd5EHxTpTj45",
      "execution_count": null,
      "outputs": [
        {
          "output_type": "execute_result",
          "data": {
            "text/html": [
              "<div>\n",
              "<style scoped>\n",
              "    .dataframe tbody tr th:only-of-type {\n",
              "        vertical-align: middle;\n",
              "    }\n",
              "\n",
              "    .dataframe tbody tr th {\n",
              "        vertical-align: top;\n",
              "    }\n",
              "\n",
              "    .dataframe thead th {\n",
              "        text-align: right;\n",
              "    }\n",
              "</style>\n",
              "<table border=\"1\" class=\"dataframe\">\n",
              "  <thead>\n",
              "    <tr style=\"text-align: right;\">\n",
              "      <th></th>\n",
              "      <th>0</th>\n",
              "    </tr>\n",
              "  </thead>\n",
              "  <tbody>\n",
              "    <tr>\n",
              "      <th>e</th>\n",
              "      <td>800</td>\n",
              "    </tr>\n",
              "    <tr>\n",
              "      <th>f</th>\n",
              "      <td>450</td>\n",
              "    </tr>\n",
              "    <tr>\n",
              "      <th>d</th>\n",
              "      <td>400</td>\n",
              "    </tr>\n",
              "    <tr>\n",
              "      <th>b</th>\n",
              "      <td>300</td>\n",
              "    </tr>\n",
              "    <tr>\n",
              "      <th>a</th>\n",
              "      <td>200</td>\n",
              "    </tr>\n",
              "  </tbody>\n",
              "</table>\n",
              "</div>"
            ],
            "text/plain": [
              "     0\n",
              "e  800\n",
              "f  450\n",
              "d  400\n",
              "b  300\n",
              "a  200"
            ]
          },
          "metadata": {
            "tags": []
          },
          "execution_count": 18
        }
      ]
    },
    {
      "cell_type": "code",
      "metadata": {
        "id": "M39Zx7_vTj45",
        "outputId": "3064e942-b645-4c28-d4e4-cc8bbabd7399"
      },
      "source": [
        "#tail\n"
      ],
      "id": "M39Zx7_vTj45",
      "execution_count": null,
      "outputs": [
        {
          "output_type": "execute_result",
          "data": {
            "text/html": [
              "<div>\n",
              "<style scoped>\n",
              "    .dataframe tbody tr th:only-of-type {\n",
              "        vertical-align: middle;\n",
              "    }\n",
              "\n",
              "    .dataframe tbody tr th {\n",
              "        vertical-align: top;\n",
              "    }\n",
              "\n",
              "    .dataframe thead th {\n",
              "        text-align: right;\n",
              "    }\n",
              "</style>\n",
              "<table border=\"1\" class=\"dataframe\">\n",
              "  <thead>\n",
              "    <tr style=\"text-align: right;\">\n",
              "      <th></th>\n",
              "      <th>0</th>\n",
              "    </tr>\n",
              "  </thead>\n",
              "  <tbody>\n",
              "    <tr>\n",
              "      <th>d</th>\n",
              "      <td>400</td>\n",
              "    </tr>\n",
              "    <tr>\n",
              "      <th>b</th>\n",
              "      <td>300</td>\n",
              "    </tr>\n",
              "    <tr>\n",
              "      <th>a</th>\n",
              "      <td>200</td>\n",
              "    </tr>\n",
              "    <tr>\n",
              "      <th>g</th>\n",
              "      <td>100</td>\n",
              "    </tr>\n",
              "    <tr>\n",
              "      <th>c</th>\n",
              "      <td>100</td>\n",
              "    </tr>\n",
              "  </tbody>\n",
              "</table>\n",
              "</div>"
            ],
            "text/plain": [
              "     0\n",
              "d  400\n",
              "b  300\n",
              "a  200\n",
              "g  100\n",
              "c  100"
            ]
          },
          "metadata": {
            "tags": []
          },
          "execution_count": 19
        }
      ]
    },
    {
      "cell_type": "markdown",
      "metadata": {
        "id": "BLK_k_BLTj45"
      },
      "source": [
        "Rename the columns of the dataframe as 'points'"
      ],
      "id": "BLK_k_BLTj45"
    },
    {
      "cell_type": "markdown",
      "metadata": {
        "id": "kI3PFEpWTj45"
      },
      "source": [
        "<p style='text-align: right;'> 2 points</p>\n"
      ],
      "id": "kI3PFEpWTj45"
    },
    {
      "cell_type": "code",
      "metadata": {
        "id": "X-I4HOoiTj46",
        "outputId": "2806a1d4-acd2-45b4-a299-a2b743c70ca6"
      },
      "source": [
        ""
      ],
      "id": "X-I4HOoiTj46",
      "execution_count": null,
      "outputs": [
        {
          "output_type": "stream",
          "text": [
            "   points\n",
            "e     800\n",
            "f     450\n",
            "d     400\n",
            "b     300\n",
            "a     200\n",
            "g     100\n",
            "c     100\n"
          ],
          "name": "stdout"
        }
      ]
    },
    {
      "cell_type": "markdown",
      "metadata": {
        "id": "a_ge5oMBTj46"
      },
      "source": [
        "Create another Series 'fruits', which contains random names of fruits from ['orange','mango','apple']. The series should contain 7 elements, randomly selected from ['orange','mango','apple']"
      ],
      "id": "a_ge5oMBTj46"
    },
    {
      "cell_type": "markdown",
      "metadata": {
        "id": "CWOIoEKHTj46"
      },
      "source": [
        "<p style='text-align: right;'> 5 points</p>\n"
      ],
      "id": "CWOIoEKHTj46"
    },
    {
      "cell_type": "code",
      "metadata": {
        "id": "92BGQOkSTj46",
        "outputId": "7bcdb94e-b06a-4b62-cc59-308ebfa27a75"
      },
      "source": [
        "#Create fruits array\n"
      ],
      "id": "92BGQOkSTj46",
      "execution_count": null,
      "outputs": [
        {
          "output_type": "execute_result",
          "data": {
            "text/plain": [
              "array(['orange', 'orange', 'mango', 'mango', 'mango', 'mango', 'mango'],\n",
              "      dtype='<U6')"
            ]
          },
          "metadata": {
            "tags": []
          },
          "execution_count": 21
        }
      ]
    },
    {
      "cell_type": "markdown",
      "metadata": {
        "id": "tsKYe_FjTj46"
      },
      "source": [
        "The above output might vary based randomness"
      ],
      "id": "tsKYe_FjTj46"
    },
    {
      "cell_type": "code",
      "metadata": {
        "id": "EQm8-NWmTj47",
        "outputId": "f82a2018-9721-4fa0-e7d4-4d2695a13b40"
      },
      "source": [
        "#Create series fruits out of fruits array\n"
      ],
      "id": "EQm8-NWmTj47",
      "execution_count": null,
      "outputs": [
        {
          "output_type": "stream",
          "text": [
            "0    orange\n",
            "1    orange\n",
            "2     mango\n",
            "3     mango\n",
            "4     mango\n",
            "5     mango\n",
            "6     mango\n",
            "dtype: object\n"
          ],
          "name": "stdout"
        }
      ]
    },
    {
      "cell_type": "markdown",
      "metadata": {
        "id": "nJVSOFB_Tj47"
      },
      "source": [
        "Change the index of fruits to the index of dataframe df"
      ],
      "id": "nJVSOFB_Tj47"
    },
    {
      "cell_type": "markdown",
      "metadata": {
        "id": "_YEo7SvBTj47"
      },
      "source": [
        "<p style='text-align: right;'> 5 points</p>\n"
      ],
      "id": "_YEo7SvBTj47"
    },
    {
      "cell_type": "code",
      "metadata": {
        "id": "9ZCDDHJuTj47",
        "outputId": "8495ff42-4c89-46b7-b6d7-210f36e5f60f"
      },
      "source": [
        ""
      ],
      "id": "9ZCDDHJuTj47",
      "execution_count": null,
      "outputs": [
        {
          "output_type": "stream",
          "text": [
            "e    orange\n",
            "f    orange\n",
            "d     mango\n",
            "b     mango\n",
            "a     mango\n",
            "g     mango\n",
            "c     mango\n",
            "dtype: object\n"
          ],
          "name": "stdout"
        }
      ]
    },
    {
      "cell_type": "markdown",
      "metadata": {
        "id": "--NgNWDrTj47"
      },
      "source": [
        "Add this fruits series as a new column to the dataframe df with its column name as 'fruits' <br> print the head of the dataframe to verify"
      ],
      "id": "--NgNWDrTj47"
    },
    {
      "cell_type": "code",
      "metadata": {
        "id": "0RtavqECTj48",
        "outputId": "b223d37b-6ff8-48e2-8664-572bbd040bf2"
      },
      "source": [
        ""
      ],
      "id": "0RtavqECTj48",
      "execution_count": null,
      "outputs": [
        {
          "output_type": "execute_result",
          "data": {
            "text/html": [
              "<div>\n",
              "<style scoped>\n",
              "    .dataframe tbody tr th:only-of-type {\n",
              "        vertical-align: middle;\n",
              "    }\n",
              "\n",
              "    .dataframe tbody tr th {\n",
              "        vertical-align: top;\n",
              "    }\n",
              "\n",
              "    .dataframe thead th {\n",
              "        text-align: right;\n",
              "    }\n",
              "</style>\n",
              "<table border=\"1\" class=\"dataframe\">\n",
              "  <thead>\n",
              "    <tr style=\"text-align: right;\">\n",
              "      <th></th>\n",
              "      <th>points</th>\n",
              "      <th>fruits</th>\n",
              "    </tr>\n",
              "  </thead>\n",
              "  <tbody>\n",
              "    <tr>\n",
              "      <th>e</th>\n",
              "      <td>800</td>\n",
              "      <td>orange</td>\n",
              "    </tr>\n",
              "    <tr>\n",
              "      <th>f</th>\n",
              "      <td>450</td>\n",
              "      <td>orange</td>\n",
              "    </tr>\n",
              "    <tr>\n",
              "      <th>d</th>\n",
              "      <td>400</td>\n",
              "      <td>mango</td>\n",
              "    </tr>\n",
              "    <tr>\n",
              "      <th>b</th>\n",
              "      <td>300</td>\n",
              "      <td>mango</td>\n",
              "    </tr>\n",
              "    <tr>\n",
              "      <th>a</th>\n",
              "      <td>200</td>\n",
              "      <td>mango</td>\n",
              "    </tr>\n",
              "  </tbody>\n",
              "</table>\n",
              "</div>"
            ],
            "text/plain": [
              "   points  fruits\n",
              "e     800  orange\n",
              "f     450  orange\n",
              "d     400   mango\n",
              "b     300   mango\n",
              "a     200   mango"
            ]
          },
          "metadata": {
            "tags": []
          },
          "execution_count": 24
        }
      ]
    },
    {
      "cell_type": "markdown",
      "metadata": {
        "id": "a19dCmdJTj48"
      },
      "source": [
        "<u>Bonus optional question:</u> <br>\n",
        "What if we had to changed the index of the dataframe? <br>\n",
        "Try to add any series to the dataframe with the origianl index (when index of series is not same as to the index of dataframe)\n",
        "\n",
        "Use series as pd.Series([100,200,300,400,500,600,700]) and try to add it to df with column name Bonus_number.\n",
        "\n",
        "Bonus marks: 5 points"
      ],
      "id": "a19dCmdJTj48"
    },
    {
      "cell_type": "code",
      "metadata": {
        "id": "gULrBJcDTj48"
      },
      "source": [
        "#bonus code here\n",
        "\n",
        "\n"
      ],
      "id": "gULrBJcDTj48",
      "execution_count": null,
      "outputs": []
    },
    {
      "cell_type": "markdown",
      "metadata": {
        "id": "kA9Nxvv_Tj48"
      },
      "source": [
        "### Part 2\n",
        "Reference:- https://www.youtube.com/watch?v=yPVQZZmheCg"
      ],
      "id": "kA9Nxvv_Tj48"
    },
    {
      "cell_type": "markdown",
      "metadata": {
        "id": "nXQivRmeTj48"
      },
      "source": [
        "Create a dataframe  d1 where the columns are  ‘city’ : [‘Chandigarh’, ‘Delhi’, ‘Kanpur’, ‘Chennai’, ‘Manali’ ] and ‘Temperature’ : [15, 22, 20, 26,-2] "
      ],
      "id": "nXQivRmeTj48"
    },
    {
      "cell_type": "markdown",
      "metadata": {
        "id": "ZxXXIic7Tj4-"
      },
      "source": [
        "<p style='text-align: right;'> 2*5=10 points</p>\n"
      ],
      "id": "ZxXXIic7Tj4-"
    },
    {
      "cell_type": "code",
      "metadata": {
        "id": "BkwwEc2KTj4-"
      },
      "source": [
        ""
      ],
      "id": "BkwwEc2KTj4-",
      "execution_count": null,
      "outputs": []
    },
    {
      "cell_type": "markdown",
      "metadata": {
        "id": "iPlnc3f6Tj4-"
      },
      "source": [
        "Print d1"
      ],
      "id": "iPlnc3f6Tj4-"
    },
    {
      "cell_type": "code",
      "metadata": {
        "id": "YpkZZ-m2Tj4_",
        "outputId": "5360f21a-eaaa-43ca-e95e-87351200bdf5"
      },
      "source": [
        ""
      ],
      "id": "YpkZZ-m2Tj4_",
      "execution_count": null,
      "outputs": [
        {
          "output_type": "stream",
          "text": [
            "         city  Temperature\n",
            "0  Chandigarh           15\n",
            "1       Delhi           22\n",
            "2      Kanpur           20\n",
            "3     Chennai           26\n",
            "4      Manali           -2\n"
          ],
          "name": "stdout"
        }
      ]
    },
    {
      "cell_type": "markdown",
      "metadata": {
        "id": "krbGpWdaTj4_"
      },
      "source": [
        "What is the shape of d1."
      ],
      "id": "krbGpWdaTj4_"
    },
    {
      "cell_type": "code",
      "metadata": {
        "id": "z9r9drDwTj4_",
        "outputId": "71976244-d5b9-4bfc-a99f-9ee0ce6dd071"
      },
      "source": [
        ""
      ],
      "id": "z9r9drDwTj4_",
      "execution_count": null,
      "outputs": [
        {
          "output_type": "stream",
          "text": [
            "(5, 2)\n"
          ],
          "name": "stdout"
        }
      ]
    },
    {
      "cell_type": "markdown",
      "metadata": {
        "id": "QbwTbOISTj4_"
      },
      "source": [
        "Set city = d1['city']"
      ],
      "id": "QbwTbOISTj4_"
    },
    {
      "cell_type": "code",
      "metadata": {
        "id": "SWLl1D1bTj4_"
      },
      "source": [
        ""
      ],
      "id": "SWLl1D1bTj4_",
      "execution_count": null,
      "outputs": []
    },
    {
      "cell_type": "markdown",
      "metadata": {
        "id": "UMM3ZPMVTj4_"
      },
      "source": [
        "print city <br>\n",
        "What is the type of city."
      ],
      "id": "UMM3ZPMVTj4_"
    },
    {
      "cell_type": "code",
      "metadata": {
        "id": "HK8OT3HlTj4_",
        "outputId": "5db97f88-dc54-4a6f-a2e4-1b653211ed6b"
      },
      "source": [
        ""
      ],
      "id": "HK8OT3HlTj4_",
      "execution_count": null,
      "outputs": [
        {
          "output_type": "stream",
          "text": [
            "0    Chandigarh\n",
            "1         Delhi\n",
            "2        Kanpur\n",
            "3       Chennai\n",
            "4        Manali\n",
            "Name: city, dtype: object\n"
          ],
          "name": "stdout"
        },
        {
          "output_type": "execute_result",
          "data": {
            "text/plain": [
              "pandas.core.series.Series"
            ]
          },
          "metadata": {
            "tags": []
          },
          "execution_count": 29
        }
      ]
    },
    {
      "cell_type": "markdown",
      "metadata": {
        "id": "O9AWqQWpTj5A"
      },
      "source": [
        "Create another dataframe d2 where the columns are <br>\n",
        "'city' - ['Bengalaru','Coimbatore','Srirangam','Pondicherry'] <br>\n",
        "'Temperature' - [24,35,36,39]"
      ],
      "id": "O9AWqQWpTj5A"
    },
    {
      "cell_type": "markdown",
      "metadata": {
        "id": "BfLACPlTTj5A"
      },
      "source": [
        "<p style='text-align: right;'> 3+2+5 = 10 points</p>\n"
      ],
      "id": "BfLACPlTTj5A"
    },
    {
      "cell_type": "code",
      "metadata": {
        "id": "YUhb1G3QTj5A",
        "outputId": "eea6eb68-5892-45b7-fac0-0a400b40f93c"
      },
      "source": [
        ""
      ],
      "id": "YUhb1G3QTj5A",
      "execution_count": null,
      "outputs": [
        {
          "output_type": "stream",
          "text": [
            "          city  Temperature\n",
            "0    Bengaluru           24\n",
            "1   Coimbatore           35\n",
            "2    Srirangam           36\n",
            "3  Pondicherry           39\n"
          ],
          "name": "stdout"
        }
      ]
    },
    {
      "cell_type": "markdown",
      "metadata": {
        "id": "fummvsWQTj5A"
      },
      "source": [
        "print the shape of this dataframe"
      ],
      "id": "fummvsWQTj5A"
    },
    {
      "cell_type": "code",
      "metadata": {
        "id": "89PDpTzATj5A",
        "outputId": "df57e8f6-228e-4ed8-e5a4-a4bf89da37db"
      },
      "source": [
        ""
      ],
      "id": "89PDpTzATj5A",
      "execution_count": null,
      "outputs": [
        {
          "output_type": "execute_result",
          "data": {
            "text/plain": [
              "(4, 2)"
            ]
          },
          "metadata": {
            "tags": []
          },
          "execution_count": 31
        }
      ]
    },
    {
      "cell_type": "markdown",
      "metadata": {
        "id": "o9J-VwSjTj5A"
      },
      "source": [
        "merge the two dataframes together, save it in a new dataframe named 'd3'\n"
      ],
      "id": "o9J-VwSjTj5A"
    },
    {
      "cell_type": "code",
      "metadata": {
        "id": "lwoYCTrJTj5B",
        "outputId": "cff3dcad-82d9-46b1-a08f-3fa301a77a1a"
      },
      "source": [
        ""
      ],
      "id": "lwoYCTrJTj5B",
      "execution_count": null,
      "outputs": [
        {
          "output_type": "execute_result",
          "data": {
            "text/html": [
              "<div>\n",
              "<style scoped>\n",
              "    .dataframe tbody tr th:only-of-type {\n",
              "        vertical-align: middle;\n",
              "    }\n",
              "\n",
              "    .dataframe tbody tr th {\n",
              "        vertical-align: top;\n",
              "    }\n",
              "\n",
              "    .dataframe thead th {\n",
              "        text-align: right;\n",
              "    }\n",
              "</style>\n",
              "<table border=\"1\" class=\"dataframe\">\n",
              "  <thead>\n",
              "    <tr style=\"text-align: right;\">\n",
              "      <th></th>\n",
              "      <th>city</th>\n",
              "      <th>Temperature</th>\n",
              "    </tr>\n",
              "  </thead>\n",
              "  <tbody>\n",
              "    <tr>\n",
              "      <th>0</th>\n",
              "      <td>Chandigarh</td>\n",
              "      <td>15</td>\n",
              "    </tr>\n",
              "    <tr>\n",
              "      <th>1</th>\n",
              "      <td>Delhi</td>\n",
              "      <td>22</td>\n",
              "    </tr>\n",
              "    <tr>\n",
              "      <th>2</th>\n",
              "      <td>Kanpur</td>\n",
              "      <td>20</td>\n",
              "    </tr>\n",
              "    <tr>\n",
              "      <th>3</th>\n",
              "      <td>Chennai</td>\n",
              "      <td>26</td>\n",
              "    </tr>\n",
              "    <tr>\n",
              "      <th>4</th>\n",
              "      <td>Manali</td>\n",
              "      <td>-2</td>\n",
              "    </tr>\n",
              "    <tr>\n",
              "      <th>0</th>\n",
              "      <td>Bengaluru</td>\n",
              "      <td>24</td>\n",
              "    </tr>\n",
              "    <tr>\n",
              "      <th>1</th>\n",
              "      <td>Coimbatore</td>\n",
              "      <td>35</td>\n",
              "    </tr>\n",
              "    <tr>\n",
              "      <th>2</th>\n",
              "      <td>Srirangam</td>\n",
              "      <td>36</td>\n",
              "    </tr>\n",
              "    <tr>\n",
              "      <th>3</th>\n",
              "      <td>Pondicherry</td>\n",
              "      <td>39</td>\n",
              "    </tr>\n",
              "  </tbody>\n",
              "</table>\n",
              "</div>"
            ],
            "text/plain": [
              "          city  Temperature\n",
              "0   Chandigarh           15\n",
              "1        Delhi           22\n",
              "2       Kanpur           20\n",
              "3      Chennai           26\n",
              "4       Manali           -2\n",
              "0    Bengaluru           24\n",
              "1   Coimbatore           35\n",
              "2    Srirangam           36\n",
              "3  Pondicherry           39"
            ]
          },
          "metadata": {
            "tags": []
          },
          "execution_count": 33
        }
      ]
    },
    {
      "cell_type": "markdown",
      "metadata": {
        "id": "jPk5D1MWTj5B"
      },
      "source": [
        "# fun fact at high level\n",
        "\n",
        "1. .concat() simply stacks multiple DataFrame together either vertically, or stitches horizontally after aligning on index\n",
        "2. .merge() first aligns two DataFrame' selected common column(s) or index, and then pick up the remaining columns from the aligned rows of each DataFrame\n",
        "\n",
        "Do you know about join function? This interesting quest we give to you to find. "
      ],
      "id": "jPk5D1MWTj5B"
    },
    {
      "cell_type": "markdown",
      "metadata": {
        "id": "KP6-TdaBTj5B"
      },
      "source": [
        "Select the part of the dataframe such that it contains cities where temp is less then or equal to 20 <br>\n",
        "How many cities are there? "
      ],
      "id": "KP6-TdaBTj5B"
    },
    {
      "cell_type": "markdown",
      "metadata": {
        "id": "LRLIn37zTj5B"
      },
      "source": [
        "<p style='text-align: right;'> 5+5=10 points</p>\n"
      ],
      "id": "LRLIn37zTj5B"
    },
    {
      "cell_type": "code",
      "metadata": {
        "id": "Mb3XX4U1Tj5B",
        "outputId": "b9b2ff2e-90a5-4135-abcf-6131fd1dd6cb"
      },
      "source": [
        ""
      ],
      "id": "Mb3XX4U1Tj5B",
      "execution_count": null,
      "outputs": [
        {
          "output_type": "execute_result",
          "data": {
            "text/html": [
              "<div>\n",
              "<style scoped>\n",
              "    .dataframe tbody tr th:only-of-type {\n",
              "        vertical-align: middle;\n",
              "    }\n",
              "\n",
              "    .dataframe tbody tr th {\n",
              "        vertical-align: top;\n",
              "    }\n",
              "\n",
              "    .dataframe thead th {\n",
              "        text-align: right;\n",
              "    }\n",
              "</style>\n",
              "<table border=\"1\" class=\"dataframe\">\n",
              "  <thead>\n",
              "    <tr style=\"text-align: right;\">\n",
              "      <th></th>\n",
              "      <th>city</th>\n",
              "      <th>Temperature</th>\n",
              "    </tr>\n",
              "  </thead>\n",
              "  <tbody>\n",
              "    <tr>\n",
              "      <th>0</th>\n",
              "      <td>Chandigarh</td>\n",
              "      <td>15</td>\n",
              "    </tr>\n",
              "    <tr>\n",
              "      <th>2</th>\n",
              "      <td>Kanpur</td>\n",
              "      <td>20</td>\n",
              "    </tr>\n",
              "    <tr>\n",
              "      <th>4</th>\n",
              "      <td>Manali</td>\n",
              "      <td>-2</td>\n",
              "    </tr>\n",
              "  </tbody>\n",
              "</table>\n",
              "</div>"
            ],
            "text/plain": [
              "         city  Temperature\n",
              "0  Chandigarh           15\n",
              "2      Kanpur           20\n",
              "4      Manali           -2"
            ]
          },
          "metadata": {
            "tags": []
          },
          "execution_count": 36
        }
      ]
    },
    {
      "cell_type": "markdown",
      "metadata": {
        "id": "X2gQEH9HTj5C"
      },
      "source": [
        "Select the part of the dataframe such that it contains the cities where tempearature greater than or equal to 35"
      ],
      "id": "X2gQEH9HTj5C"
    },
    {
      "cell_type": "code",
      "metadata": {
        "id": "GYpJ101RTj5C",
        "outputId": "f62be5ef-2e76-46ca-f472-f3cd3a31844e"
      },
      "source": [
        ""
      ],
      "id": "GYpJ101RTj5C",
      "execution_count": null,
      "outputs": [
        {
          "output_type": "execute_result",
          "data": {
            "text/html": [
              "<div>\n",
              "<style scoped>\n",
              "    .dataframe tbody tr th:only-of-type {\n",
              "        vertical-align: middle;\n",
              "    }\n",
              "\n",
              "    .dataframe tbody tr th {\n",
              "        vertical-align: top;\n",
              "    }\n",
              "\n",
              "    .dataframe thead th {\n",
              "        text-align: right;\n",
              "    }\n",
              "</style>\n",
              "<table border=\"1\" class=\"dataframe\">\n",
              "  <thead>\n",
              "    <tr style=\"text-align: right;\">\n",
              "      <th></th>\n",
              "      <th>city</th>\n",
              "      <th>Temperature</th>\n",
              "    </tr>\n",
              "  </thead>\n",
              "  <tbody>\n",
              "    <tr>\n",
              "      <th>1</th>\n",
              "      <td>Coimbatore</td>\n",
              "      <td>35</td>\n",
              "    </tr>\n",
              "    <tr>\n",
              "      <th>2</th>\n",
              "      <td>Srirangam</td>\n",
              "      <td>36</td>\n",
              "    </tr>\n",
              "    <tr>\n",
              "      <th>3</th>\n",
              "      <td>Pondicherry</td>\n",
              "      <td>39</td>\n",
              "    </tr>\n",
              "  </tbody>\n",
              "</table>\n",
              "</div>"
            ],
            "text/plain": [
              "          city  Temperature\n",
              "1   Coimbatore           35\n",
              "2    Srirangam           36\n",
              "3  Pondicherry           39"
            ]
          },
          "metadata": {
            "tags": []
          },
          "execution_count": 37
        }
      ]
    },
    {
      "cell_type": "markdown",
      "metadata": {
        "id": "79mHpn-eTj5C"
      },
      "source": [
        "## 3. Applying functions to columns and creating new columns\n",
        "\n",
        "Reference: https://www.youtube.com/watch?v=L0wMml__Gow"
      ],
      "id": "79mHpn-eTj5C"
    },
    {
      "cell_type": "markdown",
      "metadata": {
        "id": "YTRlOTgtTj5C"
      },
      "source": [
        "<p style='text-align: right;'> 20 points</p>\n"
      ],
      "id": "YTRlOTgtTj5C"
    },
    {
      "cell_type": "markdown",
      "metadata": {
        "id": "zNmfCCdlTj5C"
      },
      "source": [
        "We need to create another column in d3, which contains  a boolean value for each city to indicate whether it's a union territory or not. \n",
        "- HINT: Chandigarh, Pondicherry and Delhi are only 3 union territories here. \n"
      ],
      "id": "zNmfCCdlTj5C"
    },
    {
      "cell_type": "code",
      "metadata": {
        "id": "Ht8ZEvJOTj5C"
      },
      "source": [
        "# write function here\n"
      ],
      "id": "Ht8ZEvJOTj5C",
      "execution_count": null,
      "outputs": []
    },
    {
      "cell_type": "code",
      "metadata": {
        "id": "X24Clnd-Tj5D",
        "outputId": "a99dc4c0-9a03-4349-dd96-62e175c7b753"
      },
      "source": [
        "#print d3\n"
      ],
      "id": "X24Clnd-Tj5D",
      "execution_count": null,
      "outputs": [
        {
          "output_type": "execute_result",
          "data": {
            "text/html": [
              "<div>\n",
              "<style scoped>\n",
              "    .dataframe tbody tr th:only-of-type {\n",
              "        vertical-align: middle;\n",
              "    }\n",
              "\n",
              "    .dataframe tbody tr th {\n",
              "        vertical-align: top;\n",
              "    }\n",
              "\n",
              "    .dataframe thead th {\n",
              "        text-align: right;\n",
              "    }\n",
              "</style>\n",
              "<table border=\"1\" class=\"dataframe\">\n",
              "  <thead>\n",
              "    <tr style=\"text-align: right;\">\n",
              "      <th></th>\n",
              "      <th>city</th>\n",
              "      <th>Temperature</th>\n",
              "      <th>is_ut</th>\n",
              "    </tr>\n",
              "  </thead>\n",
              "  <tbody>\n",
              "    <tr>\n",
              "      <th>0</th>\n",
              "      <td>Chandigarh</td>\n",
              "      <td>15</td>\n",
              "      <td>True</td>\n",
              "    </tr>\n",
              "    <tr>\n",
              "      <th>1</th>\n",
              "      <td>Delhi</td>\n",
              "      <td>22</td>\n",
              "      <td>True</td>\n",
              "    </tr>\n",
              "    <tr>\n",
              "      <th>2</th>\n",
              "      <td>Kanpur</td>\n",
              "      <td>20</td>\n",
              "      <td>False</td>\n",
              "    </tr>\n",
              "    <tr>\n",
              "      <th>3</th>\n",
              "      <td>Chennai</td>\n",
              "      <td>26</td>\n",
              "      <td>False</td>\n",
              "    </tr>\n",
              "    <tr>\n",
              "      <th>4</th>\n",
              "      <td>Manali</td>\n",
              "      <td>-2</td>\n",
              "      <td>False</td>\n",
              "    </tr>\n",
              "    <tr>\n",
              "      <th>0</th>\n",
              "      <td>Bengaluru</td>\n",
              "      <td>24</td>\n",
              "      <td>False</td>\n",
              "    </tr>\n",
              "    <tr>\n",
              "      <th>1</th>\n",
              "      <td>Coimbatore</td>\n",
              "      <td>35</td>\n",
              "      <td>False</td>\n",
              "    </tr>\n",
              "    <tr>\n",
              "      <th>2</th>\n",
              "      <td>Srirangam</td>\n",
              "      <td>36</td>\n",
              "      <td>False</td>\n",
              "    </tr>\n",
              "    <tr>\n",
              "      <th>3</th>\n",
              "      <td>Pondicherry</td>\n",
              "      <td>39</td>\n",
              "      <td>True</td>\n",
              "    </tr>\n",
              "  </tbody>\n",
              "</table>\n",
              "</div>"
            ],
            "text/plain": [
              "          city  Temperature  is_ut\n",
              "0   Chandigarh           15   True\n",
              "1        Delhi           22   True\n",
              "2       Kanpur           20  False\n",
              "3      Chennai           26  False\n",
              "4       Manali           -2  False\n",
              "0    Bengaluru           24  False\n",
              "1   Coimbatore           35  False\n",
              "2    Srirangam           36  False\n",
              "3  Pondicherry           39   True"
            ]
          },
          "metadata": {
            "tags": []
          },
          "execution_count": 41
        }
      ]
    },
    {
      "cell_type": "markdown",
      "metadata": {
        "id": "IDIB9DJvTj5D"
      },
      "source": [
        "The temperatures mentioned in ‘Temperature’ column are mentioned in Celsius, we need another column which contains the same in Fahrenheit. "
      ],
      "id": "IDIB9DJvTj5D"
    },
    {
      "cell_type": "markdown",
      "metadata": {
        "id": "jwV8DMORTj5D"
      },
      "source": [
        "HINT - \n",
        "- Define a function c_to_f which takes input temp in celsius and returns a value with temperature in Fahrenheit.\n",
        "- To check: c_to_f(10) should return 50. \n"
      ],
      "id": "jwV8DMORTj5D"
    },
    {
      "cell_type": "code",
      "metadata": {
        "id": "-VzHMqoiTj5D"
      },
      "source": [
        "# write function here\n"
      ],
      "id": "-VzHMqoiTj5D",
      "execution_count": null,
      "outputs": []
    },
    {
      "cell_type": "code",
      "metadata": {
        "id": "GB--vApNTj5D",
        "outputId": "ea154cc8-5385-4652-b3f2-21923254338d"
      },
      "source": [
        "# check  function c_to_f(10)\n"
      ],
      "id": "GB--vApNTj5D",
      "execution_count": null,
      "outputs": [
        {
          "output_type": "execute_result",
          "data": {
            "text/plain": [
              "50.0"
            ]
          },
          "metadata": {
            "tags": []
          },
          "execution_count": 48
        }
      ]
    },
    {
      "cell_type": "code",
      "metadata": {
        "id": "ecrW1uu4Tj5D",
        "outputId": "966814aa-07a0-4e93-8ae0-96ebb65af035"
      },
      "source": [
        "# apply function c_to_f to d3 to create a column 'temp_farenhiet'\n",
        "\n"
      ],
      "id": "ecrW1uu4Tj5D",
      "execution_count": null,
      "outputs": [
        {
          "output_type": "execute_result",
          "data": {
            "text/html": [
              "<div>\n",
              "<style scoped>\n",
              "    .dataframe tbody tr th:only-of-type {\n",
              "        vertical-align: middle;\n",
              "    }\n",
              "\n",
              "    .dataframe tbody tr th {\n",
              "        vertical-align: top;\n",
              "    }\n",
              "\n",
              "    .dataframe thead th {\n",
              "        text-align: right;\n",
              "    }\n",
              "</style>\n",
              "<table border=\"1\" class=\"dataframe\">\n",
              "  <thead>\n",
              "    <tr style=\"text-align: right;\">\n",
              "      <th></th>\n",
              "      <th>city</th>\n",
              "      <th>Temperature</th>\n",
              "      <th>is_ut</th>\n",
              "      <th>temp_farenhiet</th>\n",
              "    </tr>\n",
              "  </thead>\n",
              "  <tbody>\n",
              "    <tr>\n",
              "      <th>0</th>\n",
              "      <td>Chandigarh</td>\n",
              "      <td>15</td>\n",
              "      <td>True</td>\n",
              "      <td>59.0</td>\n",
              "    </tr>\n",
              "    <tr>\n",
              "      <th>1</th>\n",
              "      <td>Delhi</td>\n",
              "      <td>22</td>\n",
              "      <td>True</td>\n",
              "      <td>71.6</td>\n",
              "    </tr>\n",
              "    <tr>\n",
              "      <th>2</th>\n",
              "      <td>Kanpur</td>\n",
              "      <td>20</td>\n",
              "      <td>False</td>\n",
              "      <td>68.0</td>\n",
              "    </tr>\n",
              "    <tr>\n",
              "      <th>3</th>\n",
              "      <td>Chennai</td>\n",
              "      <td>26</td>\n",
              "      <td>False</td>\n",
              "      <td>78.8</td>\n",
              "    </tr>\n",
              "    <tr>\n",
              "      <th>4</th>\n",
              "      <td>Manali</td>\n",
              "      <td>-2</td>\n",
              "      <td>False</td>\n",
              "      <td>28.4</td>\n",
              "    </tr>\n",
              "    <tr>\n",
              "      <th>0</th>\n",
              "      <td>Bengaluru</td>\n",
              "      <td>24</td>\n",
              "      <td>False</td>\n",
              "      <td>75.2</td>\n",
              "    </tr>\n",
              "    <tr>\n",
              "      <th>1</th>\n",
              "      <td>Coimbatore</td>\n",
              "      <td>35</td>\n",
              "      <td>False</td>\n",
              "      <td>95.0</td>\n",
              "    </tr>\n",
              "    <tr>\n",
              "      <th>2</th>\n",
              "      <td>Srirangam</td>\n",
              "      <td>36</td>\n",
              "      <td>False</td>\n",
              "      <td>96.8</td>\n",
              "    </tr>\n",
              "    <tr>\n",
              "      <th>3</th>\n",
              "      <td>Pondicherry</td>\n",
              "      <td>39</td>\n",
              "      <td>True</td>\n",
              "      <td>102.2</td>\n",
              "    </tr>\n",
              "  </tbody>\n",
              "</table>\n",
              "</div>"
            ],
            "text/plain": [
              "          city  Temperature  is_ut  temp_farenhiet\n",
              "0   Chandigarh           15   True            59.0\n",
              "1        Delhi           22   True            71.6\n",
              "2       Kanpur           20  False            68.0\n",
              "3      Chennai           26  False            78.8\n",
              "4       Manali           -2  False            28.4\n",
              "0    Bengaluru           24  False            75.2\n",
              "1   Coimbatore           35  False            95.0\n",
              "2    Srirangam           36  False            96.8\n",
              "3  Pondicherry           39   True           102.2"
            ]
          },
          "metadata": {
            "tags": []
          },
          "execution_count": 50
        }
      ]
    },
    {
      "cell_type": "markdown",
      "metadata": {
        "id": "MGJEcOlgTj5E"
      },
      "source": [
        "## 4. Indexing and selecting rows in DataFrame\n",
        "\n",
        "Reference:-https://www.youtube.com/watch?v=XKFRFDgA7ZY"
      ],
      "id": "MGJEcOlgTj5E"
    },
    {
      "cell_type": "markdown",
      "metadata": {
        "id": "Rq188Lb9Tj5E"
      },
      "source": [
        "<p style='text-align: right;'> 20 points</p>\n"
      ],
      "id": "Rq188Lb9Tj5E"
    },
    {
      "cell_type": "markdown",
      "metadata": {
        "id": "gryBESm2Tj5E"
      },
      "source": [
        "Select subset of the dataframe d3 such that it contains the cities which are union territories."
      ],
      "id": "gryBESm2Tj5E"
    },
    {
      "cell_type": "code",
      "metadata": {
        "id": "apicyagvTj5E",
        "outputId": "92abb1da-a3c6-4214-c448-837654a770ac"
      },
      "source": [
        ""
      ],
      "id": "apicyagvTj5E",
      "execution_count": null,
      "outputs": [
        {
          "output_type": "execute_result",
          "data": {
            "text/html": [
              "<div>\n",
              "<style scoped>\n",
              "    .dataframe tbody tr th:only-of-type {\n",
              "        vertical-align: middle;\n",
              "    }\n",
              "\n",
              "    .dataframe tbody tr th {\n",
              "        vertical-align: top;\n",
              "    }\n",
              "\n",
              "    .dataframe thead th {\n",
              "        text-align: right;\n",
              "    }\n",
              "</style>\n",
              "<table border=\"1\" class=\"dataframe\">\n",
              "  <thead>\n",
              "    <tr style=\"text-align: right;\">\n",
              "      <th></th>\n",
              "      <th>city</th>\n",
              "      <th>Temperature</th>\n",
              "      <th>is_ut</th>\n",
              "      <th>temp_farenhiet</th>\n",
              "    </tr>\n",
              "  </thead>\n",
              "  <tbody>\n",
              "    <tr>\n",
              "      <th>0</th>\n",
              "      <td>Chandigarh</td>\n",
              "      <td>15</td>\n",
              "      <td>True</td>\n",
              "      <td>59.0</td>\n",
              "    </tr>\n",
              "    <tr>\n",
              "      <th>1</th>\n",
              "      <td>Delhi</td>\n",
              "      <td>22</td>\n",
              "      <td>True</td>\n",
              "      <td>71.6</td>\n",
              "    </tr>\n",
              "    <tr>\n",
              "      <th>3</th>\n",
              "      <td>Pondicherry</td>\n",
              "      <td>39</td>\n",
              "      <td>True</td>\n",
              "      <td>102.2</td>\n",
              "    </tr>\n",
              "  </tbody>\n",
              "</table>\n",
              "</div>"
            ],
            "text/plain": [
              "          city  Temperature  is_ut  temp_farenhiet\n",
              "0   Chandigarh           15   True            59.0\n",
              "1        Delhi           22   True            71.6\n",
              "3  Pondicherry           39   True           102.2"
            ]
          },
          "metadata": {
            "tags": []
          },
          "execution_count": 51
        }
      ]
    },
    {
      "cell_type": "markdown",
      "metadata": {
        "id": "dQlOdyb8Tj5E"
      },
      "source": [
        "Select a subset of the dataframe d3 such that it contains the cities which only have temperature above 90 Farenhiet."
      ],
      "id": "dQlOdyb8Tj5E"
    },
    {
      "cell_type": "code",
      "metadata": {
        "id": "a0bA1WmRTj5E",
        "outputId": "66c6db03-c099-468c-c12c-b002e4fa1903"
      },
      "source": [
        ""
      ],
      "id": "a0bA1WmRTj5E",
      "execution_count": null,
      "outputs": [
        {
          "output_type": "execute_result",
          "data": {
            "text/html": [
              "<div>\n",
              "<style scoped>\n",
              "    .dataframe tbody tr th:only-of-type {\n",
              "        vertical-align: middle;\n",
              "    }\n",
              "\n",
              "    .dataframe tbody tr th {\n",
              "        vertical-align: top;\n",
              "    }\n",
              "\n",
              "    .dataframe thead th {\n",
              "        text-align: right;\n",
              "    }\n",
              "</style>\n",
              "<table border=\"1\" class=\"dataframe\">\n",
              "  <thead>\n",
              "    <tr style=\"text-align: right;\">\n",
              "      <th></th>\n",
              "      <th>city</th>\n",
              "      <th>Temperature</th>\n",
              "      <th>is_ut</th>\n",
              "      <th>temp_farenhiet</th>\n",
              "    </tr>\n",
              "  </thead>\n",
              "  <tbody>\n",
              "    <tr>\n",
              "      <th>1</th>\n",
              "      <td>Coimbatore</td>\n",
              "      <td>35</td>\n",
              "      <td>False</td>\n",
              "      <td>95.0</td>\n",
              "    </tr>\n",
              "    <tr>\n",
              "      <th>2</th>\n",
              "      <td>Srirangam</td>\n",
              "      <td>36</td>\n",
              "      <td>False</td>\n",
              "      <td>96.8</td>\n",
              "    </tr>\n",
              "    <tr>\n",
              "      <th>3</th>\n",
              "      <td>Pondicherry</td>\n",
              "      <td>39</td>\n",
              "      <td>True</td>\n",
              "      <td>102.2</td>\n",
              "    </tr>\n",
              "  </tbody>\n",
              "</table>\n",
              "</div>"
            ],
            "text/plain": [
              "          city  Temperature  is_ut  temp_farenhiet\n",
              "1   Coimbatore           35  False            95.0\n",
              "2    Srirangam           36  False            96.8\n",
              "3  Pondicherry           39   True           102.2"
            ]
          },
          "metadata": {
            "tags": []
          },
          "execution_count": 52
        }
      ]
    },
    {
      "cell_type": "markdown",
      "metadata": {
        "id": "eW5Y3_9pTj5F"
      },
      "source": [
        "Select only the first three rows of the dataframe d3. \n"
      ],
      "id": "eW5Y3_9pTj5F"
    },
    {
      "cell_type": "code",
      "metadata": {
        "id": "CWdJxZpkTj5F",
        "outputId": "c4c84407-45a1-4039-fe46-1dd1d9e78d03"
      },
      "source": [
        ""
      ],
      "id": "CWdJxZpkTj5F",
      "execution_count": null,
      "outputs": [
        {
          "output_type": "execute_result",
          "data": {
            "text/html": [
              "<div>\n",
              "<style scoped>\n",
              "    .dataframe tbody tr th:only-of-type {\n",
              "        vertical-align: middle;\n",
              "    }\n",
              "\n",
              "    .dataframe tbody tr th {\n",
              "        vertical-align: top;\n",
              "    }\n",
              "\n",
              "    .dataframe thead th {\n",
              "        text-align: right;\n",
              "    }\n",
              "</style>\n",
              "<table border=\"1\" class=\"dataframe\">\n",
              "  <thead>\n",
              "    <tr style=\"text-align: right;\">\n",
              "      <th></th>\n",
              "      <th>city</th>\n",
              "      <th>Temperature</th>\n",
              "      <th>is_ut</th>\n",
              "      <th>temp_farenhiet</th>\n",
              "    </tr>\n",
              "  </thead>\n",
              "  <tbody>\n",
              "    <tr>\n",
              "      <th>0</th>\n",
              "      <td>Chandigarh</td>\n",
              "      <td>15</td>\n",
              "      <td>True</td>\n",
              "      <td>59.0</td>\n",
              "    </tr>\n",
              "    <tr>\n",
              "      <th>1</th>\n",
              "      <td>Delhi</td>\n",
              "      <td>22</td>\n",
              "      <td>True</td>\n",
              "      <td>71.6</td>\n",
              "    </tr>\n",
              "    <tr>\n",
              "      <th>2</th>\n",
              "      <td>Kanpur</td>\n",
              "      <td>20</td>\n",
              "      <td>False</td>\n",
              "      <td>68.0</td>\n",
              "    </tr>\n",
              "  </tbody>\n",
              "</table>\n",
              "</div>"
            ],
            "text/plain": [
              "         city  Temperature  is_ut  temp_farenhiet\n",
              "0  Chandigarh           15   True            59.0\n",
              "1       Delhi           22   True            71.6\n",
              "2      Kanpur           20  False            68.0"
            ]
          },
          "metadata": {
            "tags": []
          },
          "execution_count": 57
        }
      ]
    },
    {
      "cell_type": "markdown",
      "metadata": {
        "id": "YBwia2cITj5F"
      },
      "source": [
        "Select all the rows and last two columns in the dataframe.\n",
        "\n",
        "\n"
      ],
      "id": "YBwia2cITj5F"
    },
    {
      "cell_type": "code",
      "metadata": {
        "id": "M0bKZ4oATj5F",
        "outputId": "aabefb6e-ec9f-4b2e-e58b-b163441b989a"
      },
      "source": [
        ""
      ],
      "id": "M0bKZ4oATj5F",
      "execution_count": null,
      "outputs": [
        {
          "output_type": "execute_result",
          "data": {
            "text/html": [
              "<div>\n",
              "<style scoped>\n",
              "    .dataframe tbody tr th:only-of-type {\n",
              "        vertical-align: middle;\n",
              "    }\n",
              "\n",
              "    .dataframe tbody tr th {\n",
              "        vertical-align: top;\n",
              "    }\n",
              "\n",
              "    .dataframe thead th {\n",
              "        text-align: right;\n",
              "    }\n",
              "</style>\n",
              "<table border=\"1\" class=\"dataframe\">\n",
              "  <thead>\n",
              "    <tr style=\"text-align: right;\">\n",
              "      <th></th>\n",
              "      <th>is_ut</th>\n",
              "      <th>temp_farenhiet</th>\n",
              "    </tr>\n",
              "  </thead>\n",
              "  <tbody>\n",
              "    <tr>\n",
              "      <th>0</th>\n",
              "      <td>True</td>\n",
              "      <td>59.0</td>\n",
              "    </tr>\n",
              "    <tr>\n",
              "      <th>1</th>\n",
              "      <td>True</td>\n",
              "      <td>71.6</td>\n",
              "    </tr>\n",
              "    <tr>\n",
              "      <th>2</th>\n",
              "      <td>False</td>\n",
              "      <td>68.0</td>\n",
              "    </tr>\n",
              "    <tr>\n",
              "      <th>3</th>\n",
              "      <td>False</td>\n",
              "      <td>78.8</td>\n",
              "    </tr>\n",
              "    <tr>\n",
              "      <th>4</th>\n",
              "      <td>False</td>\n",
              "      <td>28.4</td>\n",
              "    </tr>\n",
              "    <tr>\n",
              "      <th>0</th>\n",
              "      <td>False</td>\n",
              "      <td>75.2</td>\n",
              "    </tr>\n",
              "    <tr>\n",
              "      <th>1</th>\n",
              "      <td>False</td>\n",
              "      <td>95.0</td>\n",
              "    </tr>\n",
              "    <tr>\n",
              "      <th>2</th>\n",
              "      <td>False</td>\n",
              "      <td>96.8</td>\n",
              "    </tr>\n",
              "    <tr>\n",
              "      <th>3</th>\n",
              "      <td>True</td>\n",
              "      <td>102.2</td>\n",
              "    </tr>\n",
              "  </tbody>\n",
              "</table>\n",
              "</div>"
            ],
            "text/plain": [
              "   is_ut  temp_farenhiet\n",
              "0   True            59.0\n",
              "1   True            71.6\n",
              "2  False            68.0\n",
              "3  False            78.8\n",
              "4  False            28.4\n",
              "0  False            75.2\n",
              "1  False            95.0\n",
              "2  False            96.8\n",
              "3   True           102.2"
            ]
          },
          "metadata": {
            "tags": []
          },
          "execution_count": 60
        }
      ]
    },
    {
      "cell_type": "markdown",
      "metadata": {
        "id": "opZzTgioTj5F"
      },
      "source": [
        "## 5. Reading csv file and group by\n",
        "\n",
        "Reference: https://www.youtube.com/watch?v=ENhGz1HkzvY <br>\n",
        "https://www.youtube.com/watch?v=nulx_VmV7dE"
      ],
      "id": "opZzTgioTj5F"
    },
    {
      "cell_type": "markdown",
      "metadata": {
        "id": "rdm-7ZiBTj5G"
      },
      "source": [
        "<p style='text-align: right;'> 2*2=4 points</p>\n"
      ],
      "id": "rdm-7ZiBTj5G"
    },
    {
      "cell_type": "markdown",
      "metadata": {
        "id": "9bPMTOBvTj5G"
      },
      "source": [
        "Read the file 'weather_data.csv' and store it in a pandas dataframe 'df' "
      ],
      "id": "9bPMTOBvTj5G"
    },
    {
      "cell_type": "code",
      "metadata": {
        "id": "ZuH9dd_eTj5G"
      },
      "source": [
        ""
      ],
      "id": "ZuH9dd_eTj5G",
      "execution_count": null,
      "outputs": []
    },
    {
      "cell_type": "markdown",
      "metadata": {
        "id": "opKBgj3CTj5G"
      },
      "source": [
        "print the shape and head of the dataframe"
      ],
      "id": "opKBgj3CTj5G"
    },
    {
      "cell_type": "code",
      "metadata": {
        "id": "2X5FwELSTj5G",
        "outputId": "49aaffbe-5aa8-4a31-ba66-4bdaf9b31595"
      },
      "source": [
        ""
      ],
      "id": "2X5FwELSTj5G",
      "execution_count": null,
      "outputs": [
        {
          "output_type": "stream",
          "text": [
            "(6, 4)\n"
          ],
          "name": "stdout"
        },
        {
          "output_type": "execute_result",
          "data": {
            "text/html": [
              "<div>\n",
              "<style scoped>\n",
              "    .dataframe tbody tr th:only-of-type {\n",
              "        vertical-align: middle;\n",
              "    }\n",
              "\n",
              "    .dataframe tbody tr th {\n",
              "        vertical-align: top;\n",
              "    }\n",
              "\n",
              "    .dataframe thead th {\n",
              "        text-align: right;\n",
              "    }\n",
              "</style>\n",
              "<table border=\"1\" class=\"dataframe\">\n",
              "  <thead>\n",
              "    <tr style=\"text-align: right;\">\n",
              "      <th></th>\n",
              "      <th>day</th>\n",
              "      <th>temperature</th>\n",
              "      <th>windspeed</th>\n",
              "      <th>event</th>\n",
              "    </tr>\n",
              "  </thead>\n",
              "  <tbody>\n",
              "    <tr>\n",
              "      <th>0</th>\n",
              "      <td>1/1/2017</td>\n",
              "      <td>32</td>\n",
              "      <td>6</td>\n",
              "      <td>Rain</td>\n",
              "    </tr>\n",
              "    <tr>\n",
              "      <th>1</th>\n",
              "      <td>1/2/2017</td>\n",
              "      <td>35</td>\n",
              "      <td>7</td>\n",
              "      <td>Sunny</td>\n",
              "    </tr>\n",
              "    <tr>\n",
              "      <th>2</th>\n",
              "      <td>1/3/2017</td>\n",
              "      <td>28</td>\n",
              "      <td>2</td>\n",
              "      <td>Snow</td>\n",
              "    </tr>\n",
              "    <tr>\n",
              "      <th>3</th>\n",
              "      <td>1/4/2017</td>\n",
              "      <td>24</td>\n",
              "      <td>7</td>\n",
              "      <td>Snow</td>\n",
              "    </tr>\n",
              "    <tr>\n",
              "      <th>4</th>\n",
              "      <td>1/5/2017</td>\n",
              "      <td>32</td>\n",
              "      <td>4</td>\n",
              "      <td>Rain</td>\n",
              "    </tr>\n",
              "  </tbody>\n",
              "</table>\n",
              "</div>"
            ],
            "text/plain": [
              "        day  temperature  windspeed  event\n",
              "0  1/1/2017           32          6   Rain\n",
              "1  1/2/2017           35          7  Sunny\n",
              "2  1/3/2017           28          2   Snow\n",
              "3  1/4/2017           24          7   Snow\n",
              "4  1/5/2017           32          4   Rain"
            ]
          },
          "metadata": {
            "tags": []
          },
          "execution_count": 63
        }
      ]
    },
    {
      "cell_type": "markdown",
      "metadata": {
        "id": "ZaFF7VYDTj5G"
      },
      "source": [
        "Group the dataframe wrt to 'event' and save the resulting output in a variable named 'g'"
      ],
      "id": "ZaFF7VYDTj5G"
    },
    {
      "cell_type": "markdown",
      "metadata": {
        "id": "6oxOMGzWTj5G"
      },
      "source": [
        "<p style='text-align: right;'> 5*3 = 15 points</p>\n"
      ],
      "id": "6oxOMGzWTj5G"
    },
    {
      "cell_type": "code",
      "metadata": {
        "id": "E0T-hdYqTj5H"
      },
      "source": [
        ""
      ],
      "id": "E0T-hdYqTj5H",
      "execution_count": null,
      "outputs": []
    },
    {
      "cell_type": "markdown",
      "metadata": {
        "id": "w1X4dJQuTj5H"
      },
      "source": [
        "Print g and  type(g)"
      ],
      "id": "w1X4dJQuTj5H"
    },
    {
      "cell_type": "code",
      "metadata": {
        "id": "WZlS_AyJTj5H",
        "outputId": "e23b9663-987a-4b05-b42d-939d9d3479db"
      },
      "source": [
        ""
      ],
      "id": "WZlS_AyJTj5H",
      "execution_count": null,
      "outputs": [
        {
          "output_type": "stream",
          "text": [
            "<pandas.core.groupby.generic.DataFrameGroupBy object at 0x7fd3580e09d0>\n",
            "<class 'pandas.core.groupby.generic.DataFrameGroupBy'>\n"
          ],
          "name": "stdout"
        }
      ]
    },
    {
      "cell_type": "markdown",
      "metadata": {
        "id": "NoHGRUDnTj5H"
      },
      "source": [
        "Iterate over all the temperatures in g and print them "
      ],
      "id": "NoHGRUDnTj5H"
    },
    {
      "cell_type": "code",
      "metadata": {
        "id": "8TLrNXAkTj5H",
        "outputId": "e59add6d-7ade-4ec5-d04f-88667f382a09"
      },
      "source": [
        ""
      ],
      "id": "8TLrNXAkTj5H",
      "execution_count": null,
      "outputs": [
        {
          "output_type": "stream",
          "text": [
            "('Rain',         day  temperature  windspeed event\n",
            "0  1/1/2017           32          6  Rain\n",
            "4  1/5/2017           32          4  Rain)\n",
            "('Snow',         day  temperature  windspeed event\n",
            "2  1/3/2017           28          2  Snow\n",
            "3  1/4/2017           24          7  Snow)\n",
            "('Sunny',         day  temperature  windspeed  event\n",
            "1  1/2/2017           35          7  Sunny\n",
            "5  1/6/2017           31          2  Sunny)\n"
          ],
          "name": "stdout"
        }
      ]
    },
    {
      "cell_type": "markdown",
      "metadata": {
        "id": "B_8ENztFTj5H"
      },
      "source": [
        "Use the describle method on g to get the complete description on it."
      ],
      "id": "B_8ENztFTj5H"
    },
    {
      "cell_type": "code",
      "metadata": {
        "id": "uiwiZhu1Tj5I",
        "outputId": "2f8968bf-2220-4f98-e290-a6df6ab55963"
      },
      "source": [
        ""
      ],
      "id": "uiwiZhu1Tj5I",
      "execution_count": null,
      "outputs": [
        {
          "output_type": "execute_result",
          "data": {
            "text/html": [
              "<div>\n",
              "<style scoped>\n",
              "    .dataframe tbody tr th:only-of-type {\n",
              "        vertical-align: middle;\n",
              "    }\n",
              "\n",
              "    .dataframe tbody tr th {\n",
              "        vertical-align: top;\n",
              "    }\n",
              "\n",
              "    .dataframe thead tr th {\n",
              "        text-align: left;\n",
              "    }\n",
              "\n",
              "    .dataframe thead tr:last-of-type th {\n",
              "        text-align: right;\n",
              "    }\n",
              "</style>\n",
              "<table border=\"1\" class=\"dataframe\">\n",
              "  <thead>\n",
              "    <tr>\n",
              "      <th></th>\n",
              "      <th colspan=\"8\" halign=\"left\">temperature</th>\n",
              "      <th colspan=\"8\" halign=\"left\">windspeed</th>\n",
              "    </tr>\n",
              "    <tr>\n",
              "      <th></th>\n",
              "      <th>count</th>\n",
              "      <th>mean</th>\n",
              "      <th>std</th>\n",
              "      <th>min</th>\n",
              "      <th>25%</th>\n",
              "      <th>50%</th>\n",
              "      <th>75%</th>\n",
              "      <th>max</th>\n",
              "      <th>count</th>\n",
              "      <th>mean</th>\n",
              "      <th>std</th>\n",
              "      <th>min</th>\n",
              "      <th>25%</th>\n",
              "      <th>50%</th>\n",
              "      <th>75%</th>\n",
              "      <th>max</th>\n",
              "    </tr>\n",
              "    <tr>\n",
              "      <th>event</th>\n",
              "      <th></th>\n",
              "      <th></th>\n",
              "      <th></th>\n",
              "      <th></th>\n",
              "      <th></th>\n",
              "      <th></th>\n",
              "      <th></th>\n",
              "      <th></th>\n",
              "      <th></th>\n",
              "      <th></th>\n",
              "      <th></th>\n",
              "      <th></th>\n",
              "      <th></th>\n",
              "      <th></th>\n",
              "      <th></th>\n",
              "      <th></th>\n",
              "    </tr>\n",
              "  </thead>\n",
              "  <tbody>\n",
              "    <tr>\n",
              "      <th>Rain</th>\n",
              "      <td>2.0</td>\n",
              "      <td>32.0</td>\n",
              "      <td>0.000000</td>\n",
              "      <td>32.0</td>\n",
              "      <td>32.0</td>\n",
              "      <td>32.0</td>\n",
              "      <td>32.0</td>\n",
              "      <td>32.0</td>\n",
              "      <td>2.0</td>\n",
              "      <td>5.0</td>\n",
              "      <td>1.414214</td>\n",
              "      <td>4.0</td>\n",
              "      <td>4.50</td>\n",
              "      <td>5.0</td>\n",
              "      <td>5.50</td>\n",
              "      <td>6.0</td>\n",
              "    </tr>\n",
              "    <tr>\n",
              "      <th>Snow</th>\n",
              "      <td>2.0</td>\n",
              "      <td>26.0</td>\n",
              "      <td>2.828427</td>\n",
              "      <td>24.0</td>\n",
              "      <td>25.0</td>\n",
              "      <td>26.0</td>\n",
              "      <td>27.0</td>\n",
              "      <td>28.0</td>\n",
              "      <td>2.0</td>\n",
              "      <td>4.5</td>\n",
              "      <td>3.535534</td>\n",
              "      <td>2.0</td>\n",
              "      <td>3.25</td>\n",
              "      <td>4.5</td>\n",
              "      <td>5.75</td>\n",
              "      <td>7.0</td>\n",
              "    </tr>\n",
              "    <tr>\n",
              "      <th>Sunny</th>\n",
              "      <td>2.0</td>\n",
              "      <td>33.0</td>\n",
              "      <td>2.828427</td>\n",
              "      <td>31.0</td>\n",
              "      <td>32.0</td>\n",
              "      <td>33.0</td>\n",
              "      <td>34.0</td>\n",
              "      <td>35.0</td>\n",
              "      <td>2.0</td>\n",
              "      <td>4.5</td>\n",
              "      <td>3.535534</td>\n",
              "      <td>2.0</td>\n",
              "      <td>3.25</td>\n",
              "      <td>4.5</td>\n",
              "      <td>5.75</td>\n",
              "      <td>7.0</td>\n",
              "    </tr>\n",
              "  </tbody>\n",
              "</table>\n",
              "</div>"
            ],
            "text/plain": [
              "      temperature                                               windspeed  \\\n",
              "            count  mean       std   min   25%   50%   75%   max     count   \n",
              "event                                                                       \n",
              "Rain          2.0  32.0  0.000000  32.0  32.0  32.0  32.0  32.0       2.0   \n",
              "Snow          2.0  26.0  2.828427  24.0  25.0  26.0  27.0  28.0       2.0   \n",
              "Sunny         2.0  33.0  2.828427  31.0  32.0  33.0  34.0  35.0       2.0   \n",
              "\n",
              "                                                 \n",
              "      mean       std  min   25%  50%   75%  max  \n",
              "event                                            \n",
              "Rain   5.0  1.414214  4.0  4.50  5.0  5.50  6.0  \n",
              "Snow   4.5  3.535534  2.0  3.25  4.5  5.75  7.0  \n",
              "Sunny  4.5  3.535534  2.0  3.25  4.5  5.75  7.0  "
            ]
          },
          "metadata": {
            "tags": []
          },
          "execution_count": 78
        }
      ]
    },
    {
      "cell_type": "markdown",
      "metadata": {
        "id": "SfUehL76Tj5I"
      },
      "source": [
        "Create a new column in the dataframe df, named 'hot_temp' which contains True if temp is above 30, else False"
      ],
      "id": "SfUehL76Tj5I"
    },
    {
      "cell_type": "markdown",
      "metadata": {
        "id": "t7nfuNBbTj5I"
      },
      "source": [
        "<p style='text-align: right;'> 5 points</p>\n"
      ],
      "id": "t7nfuNBbTj5I"
    },
    {
      "cell_type": "code",
      "metadata": {
        "id": "D3lZwKz_Tj5I"
      },
      "source": [
        "#code here to filter df with above condition\n"
      ],
      "id": "D3lZwKz_Tj5I",
      "execution_count": null,
      "outputs": []
    },
    {
      "cell_type": "code",
      "metadata": {
        "id": "Awg56g-BTj5I",
        "outputId": "1f82bac1-2a8d-477d-9409-dd8f0ce4dfdd"
      },
      "source": [
        "# print df\n"
      ],
      "id": "Awg56g-BTj5I",
      "execution_count": null,
      "outputs": [
        {
          "output_type": "execute_result",
          "data": {
            "text/html": [
              "<div>\n",
              "<style scoped>\n",
              "    .dataframe tbody tr th:only-of-type {\n",
              "        vertical-align: middle;\n",
              "    }\n",
              "\n",
              "    .dataframe tbody tr th {\n",
              "        vertical-align: top;\n",
              "    }\n",
              "\n",
              "    .dataframe thead th {\n",
              "        text-align: right;\n",
              "    }\n",
              "</style>\n",
              "<table border=\"1\" class=\"dataframe\">\n",
              "  <thead>\n",
              "    <tr style=\"text-align: right;\">\n",
              "      <th></th>\n",
              "      <th>day</th>\n",
              "      <th>temperature</th>\n",
              "      <th>windspeed</th>\n",
              "      <th>event</th>\n",
              "      <th>hot_temp</th>\n",
              "    </tr>\n",
              "  </thead>\n",
              "  <tbody>\n",
              "    <tr>\n",
              "      <th>0</th>\n",
              "      <td>1/1/2017</td>\n",
              "      <td>32</td>\n",
              "      <td>6</td>\n",
              "      <td>Rain</td>\n",
              "      <td>True</td>\n",
              "    </tr>\n",
              "    <tr>\n",
              "      <th>1</th>\n",
              "      <td>1/2/2017</td>\n",
              "      <td>35</td>\n",
              "      <td>7</td>\n",
              "      <td>Sunny</td>\n",
              "      <td>True</td>\n",
              "    </tr>\n",
              "    <tr>\n",
              "      <th>2</th>\n",
              "      <td>1/3/2017</td>\n",
              "      <td>28</td>\n",
              "      <td>2</td>\n",
              "      <td>Snow</td>\n",
              "      <td>False</td>\n",
              "    </tr>\n",
              "    <tr>\n",
              "      <th>3</th>\n",
              "      <td>1/4/2017</td>\n",
              "      <td>24</td>\n",
              "      <td>7</td>\n",
              "      <td>Snow</td>\n",
              "      <td>False</td>\n",
              "    </tr>\n",
              "    <tr>\n",
              "      <th>4</th>\n",
              "      <td>1/5/2017</td>\n",
              "      <td>32</td>\n",
              "      <td>4</td>\n",
              "      <td>Rain</td>\n",
              "      <td>True</td>\n",
              "    </tr>\n",
              "    <tr>\n",
              "      <th>5</th>\n",
              "      <td>1/6/2017</td>\n",
              "      <td>31</td>\n",
              "      <td>2</td>\n",
              "      <td>Sunny</td>\n",
              "      <td>True</td>\n",
              "    </tr>\n",
              "  </tbody>\n",
              "</table>\n",
              "</div>"
            ],
            "text/plain": [
              "        day  temperature  windspeed  event  hot_temp\n",
              "0  1/1/2017           32          6   Rain      True\n",
              "1  1/2/2017           35          7  Sunny      True\n",
              "2  1/3/2017           28          2   Snow     False\n",
              "3  1/4/2017           24          7   Snow     False\n",
              "4  1/5/2017           32          4   Rain      True\n",
              "5  1/6/2017           31          2  Sunny      True"
            ]
          },
          "metadata": {
            "tags": []
          },
          "execution_count": 81
        }
      ]
    },
    {
      "cell_type": "markdown",
      "metadata": {
        "id": "V7eY8IDXTj5I"
      },
      "source": [
        "## Data Range\n",
        "\n",
        "Reference:-https://www.youtube.com/watch?v=dRxCvSbMEto"
      ],
      "id": "V7eY8IDXTj5I"
    },
    {
      "cell_type": "markdown",
      "metadata": {
        "id": "gqaTMfvJTj5J"
      },
      "source": [
        "<p style='text-align: right;'> 5*3 = 15 points</p>\n"
      ],
      "id": "gqaTMfvJTj5J"
    },
    {
      "cell_type": "markdown",
      "metadata": {
        "id": "71j4ZKIBTj5J"
      },
      "source": [
        "Create a pandas daterange where starting date is 1st of January,2020 and end date is 1st of April 2021, store it in a new variable named 'a'"
      ],
      "id": "71j4ZKIBTj5J"
    },
    {
      "cell_type": "code",
      "metadata": {
        "id": "dOdUdgguTj5J"
      },
      "source": [
        ""
      ],
      "id": "dOdUdgguTj5J",
      "execution_count": null,
      "outputs": []
    },
    {
      "cell_type": "markdown",
      "metadata": {
        "id": "rrv6DlKYTj5J"
      },
      "source": [
        "print a"
      ],
      "id": "rrv6DlKYTj5J"
    },
    {
      "cell_type": "code",
      "metadata": {
        "id": "FgbHTOxLTj5J",
        "outputId": "c5f2852f-3bb2-4e3c-ea5f-4b8111476677"
      },
      "source": [
        ""
      ],
      "id": "FgbHTOxLTj5J",
      "execution_count": null,
      "outputs": [
        {
          "output_type": "execute_result",
          "data": {
            "text/plain": [
              "DatetimeIndex(['2020-01-01', '2020-01-02', '2020-01-03', '2020-01-04',\n",
              "               '2020-01-05', '2020-01-06', '2020-01-07', '2020-01-08',\n",
              "               '2020-01-09', '2020-01-10',\n",
              "               ...\n",
              "               '2020-12-26', '2020-12-27', '2020-12-28', '2020-12-29',\n",
              "               '2020-12-30', '2020-12-31', '2021-01-01', '2021-01-02',\n",
              "               '2021-01-03', '2021-01-04'],\n",
              "              dtype='datetime64[ns]', length=370, freq='D')"
            ]
          },
          "metadata": {
            "tags": []
          },
          "execution_count": 85
        }
      ]
    },
    {
      "cell_type": "markdown",
      "metadata": {
        "id": "SFE-HYMtTj5J"
      },
      "source": [
        "What is the len of a?"
      ],
      "id": "SFE-HYMtTj5J"
    },
    {
      "cell_type": "code",
      "metadata": {
        "id": "yKhSCTubTj5K",
        "outputId": "d228e27b-04d5-4e48-9de8-7552af86ae28"
      },
      "source": [
        ""
      ],
      "id": "yKhSCTubTj5K",
      "execution_count": null,
      "outputs": [
        {
          "output_type": "stream",
          "text": [
            "370\n"
          ],
          "name": "stdout"
        }
      ]
    },
    {
      "cell_type": "markdown",
      "metadata": {
        "id": "2a1TsoudTj5K"
      },
      "source": [
        "What is the type of a?"
      ],
      "id": "2a1TsoudTj5K"
    },
    {
      "cell_type": "code",
      "metadata": {
        "id": "SC1xBR3lTj5K",
        "outputId": "673e6011-58f3-4b5d-bc37-a28a41ed1128"
      },
      "source": [
        ""
      ],
      "id": "SC1xBR3lTj5K",
      "execution_count": null,
      "outputs": [
        {
          "output_type": "execute_result",
          "data": {
            "text/plain": [
              "pandas.core.indexes.datetimes.DatetimeIndex"
            ]
          },
          "metadata": {
            "tags": []
          },
          "execution_count": 87
        }
      ]
    },
    {
      "cell_type": "markdown",
      "metadata": {
        "id": "gbUSqpa5Tj5K"
      },
      "source": [
        "________________\n",
        "# Hey high five! You solved the 4th milestone challenge too! Pawri to banti hai ;)\n",
        "________________\n",
        "\n",
        "# Its Feedback Time!\n",
        "\n",
        "We hope you’ve enjoyed this course so far. We’re committed to help you use \"AI for All\" course to its full potential, so that you have a great learning experience. And that’s why we need your help in form of a feedback here.\n",
        "\n",
        "**Please fill this feedback form**\n",
        " https://zfrmz.in/MtRG5oWXBdesm6rmSM7N"
      ],
      "id": "gbUSqpa5Tj5K"
    }
  ]
}