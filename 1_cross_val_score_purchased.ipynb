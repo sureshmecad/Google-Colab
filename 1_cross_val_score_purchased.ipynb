{
  "nbformat": 4,
  "nbformat_minor": 0,
  "metadata": {
    "kernelspec": {
      "display_name": "Python 3",
      "language": "python",
      "name": "python3"
    },
    "language_info": {
      "codemirror_mode": {
        "name": "ipython",
        "version": 3
      },
      "file_extension": ".py",
      "mimetype": "text/x-python",
      "name": "python",
      "nbconvert_exporter": "python",
      "pygments_lexer": "ipython3",
      "version": "3.6.5"
    },
    "colab": {
      "name": "1_cross-val-score_purchased.ipynb",
      "provenance": [],
      "collapsed_sections": [],
      "include_colab_link": true
    }
  },
  "cells": [
    {
      "cell_type": "markdown",
      "metadata": {
        "id": "view-in-github",
        "colab_type": "text"
      },
      "source": [
        "<a href=\"https://colab.research.google.com/github/sureshmecad/Google-Colab/blob/master/1_cross_val_score_purchased.ipynb\" target=\"_parent\"><img src=\"https://colab.research.google.com/assets/colab-badge.svg\" alt=\"Open In Colab\"/></a>"
      ]
    },
    {
      "cell_type": "markdown",
      "metadata": {
        "id": "jN89mkQhaDHD"
      },
      "source": [
        "- https://www.youtube.com/watch?v=Bcw8S449QW4 ---> How to select the best model using cross validation"
      ]
    },
    {
      "cell_type": "markdown",
      "metadata": {
        "id": "Il3UMyjPaMbb"
      },
      "source": [
        "------------------------"
      ]
    },
    {
      "cell_type": "markdown",
      "metadata": {
        "id": "HGrMuIDdZNyN"
      },
      "source": [
        "### **Model Selection and Cross Validation**"
      ]
    },
    {
      "cell_type": "code",
      "metadata": {
        "colab": {
          "base_uri": "https://localhost:8080/"
        },
        "id": "EWsXWqzrZ2z9",
        "outputId": "50f86524-1549-4fcf-a626-8c93a1258af9"
      },
      "source": [
        "from google.colab import drive\n",
        "drive.mount('/content/drive')"
      ],
      "execution_count": 20,
      "outputs": [
        {
          "output_type": "stream",
          "name": "stdout",
          "text": [
            "Drive already mounted at /content/drive; to attempt to forcibly remount, call drive.mount(\"/content/drive\", force_remount=True).\n"
          ]
        }
      ]
    },
    {
      "cell_type": "code",
      "metadata": {
        "id": "1uvcUOLaZNyT"
      },
      "source": [
        "import numpy as np\n",
        "import pandas as pd"
      ],
      "execution_count": 3,
      "outputs": []
    },
    {
      "cell_type": "code",
      "metadata": {
        "id": "nxdfeMa3azWD"
      },
      "source": [
        "from sklearn.model_selection import train_test_split\n",
        "\n",
        "from sklearn.neighbors import KNeighborsClassifier\n",
        "from sklearn.linear_model import LogisticRegression\n",
        "\n",
        "from sklearn.metrics import accuracy_score"
      ],
      "execution_count": 21,
      "outputs": []
    },
    {
      "cell_type": "code",
      "metadata": {
        "colab": {
          "base_uri": "https://localhost:8080/",
          "height": 202
        },
        "id": "pHP_cMvwag7N",
        "outputId": "2f79e882-b94a-44ee-9d72-7517bd062972"
      },
      "source": [
        "df = pd.read_csv('/content/drive/MyDrive/Datasets/Purchased Data.zip')\n",
        "df.head()"
      ],
      "execution_count": 4,
      "outputs": [
        {
          "output_type": "execute_result",
          "data": {
            "text/html": [
              "<div>\n",
              "<style scoped>\n",
              "    .dataframe tbody tr th:only-of-type {\n",
              "        vertical-align: middle;\n",
              "    }\n",
              "\n",
              "    .dataframe tbody tr th {\n",
              "        vertical-align: top;\n",
              "    }\n",
              "\n",
              "    .dataframe thead th {\n",
              "        text-align: right;\n",
              "    }\n",
              "</style>\n",
              "<table border=\"1\" class=\"dataframe\">\n",
              "  <thead>\n",
              "    <tr style=\"text-align: right;\">\n",
              "      <th></th>\n",
              "      <th>User ID</th>\n",
              "      <th>Gender</th>\n",
              "      <th>Age</th>\n",
              "      <th>EstimatedSalary</th>\n",
              "      <th>Purchased</th>\n",
              "    </tr>\n",
              "  </thead>\n",
              "  <tbody>\n",
              "    <tr>\n",
              "      <th>0</th>\n",
              "      <td>15624510</td>\n",
              "      <td>Male</td>\n",
              "      <td>19</td>\n",
              "      <td>19000</td>\n",
              "      <td>0</td>\n",
              "    </tr>\n",
              "    <tr>\n",
              "      <th>1</th>\n",
              "      <td>15810944</td>\n",
              "      <td>Male</td>\n",
              "      <td>35</td>\n",
              "      <td>20000</td>\n",
              "      <td>0</td>\n",
              "    </tr>\n",
              "    <tr>\n",
              "      <th>2</th>\n",
              "      <td>15668575</td>\n",
              "      <td>Female</td>\n",
              "      <td>26</td>\n",
              "      <td>43000</td>\n",
              "      <td>0</td>\n",
              "    </tr>\n",
              "    <tr>\n",
              "      <th>3</th>\n",
              "      <td>15603246</td>\n",
              "      <td>Female</td>\n",
              "      <td>27</td>\n",
              "      <td>57000</td>\n",
              "      <td>0</td>\n",
              "    </tr>\n",
              "    <tr>\n",
              "      <th>4</th>\n",
              "      <td>15804002</td>\n",
              "      <td>Male</td>\n",
              "      <td>19</td>\n",
              "      <td>76000</td>\n",
              "      <td>0</td>\n",
              "    </tr>\n",
              "  </tbody>\n",
              "</table>\n",
              "</div>"
            ],
            "text/plain": [
              "    User ID  Gender  Age  EstimatedSalary  Purchased\n",
              "0  15624510    Male   19            19000          0\n",
              "1  15810944    Male   35            20000          0\n",
              "2  15668575  Female   26            43000          0\n",
              "3  15603246  Female   27            57000          0\n",
              "4  15804002    Male   19            76000          0"
            ]
          },
          "metadata": {},
          "execution_count": 4
        }
      ]
    },
    {
      "cell_type": "code",
      "metadata": {
        "id": "sBt-i32Tagvd"
      },
      "source": [
        "x = df[['Age','EstimatedSalary']]\n",
        "y = df['Purchased']"
      ],
      "execution_count": 5,
      "outputs": []
    },
    {
      "cell_type": "markdown",
      "metadata": {
        "id": "OLv0GKdBd1Q1"
      },
      "source": [
        "### **Knn (KNeighborsClassifier)**"
      ]
    },
    {
      "cell_type": "markdown",
      "metadata": {
        "id": "ROPC7rlyfBc5"
      },
      "source": [
        "##### **train_test_split method**\n",
        "\n",
        "##### **random_state=5, 3, 1, 2, 7**"
      ]
    },
    {
      "cell_type": "markdown",
      "metadata": {
        "id": "X1dyyYRecXc6"
      },
      "source": [
        "#### **iteration 1**"
      ]
    },
    {
      "cell_type": "code",
      "metadata": {
        "id": "y9eg2cRea4hz"
      },
      "source": [
        "x_train, x_test, y_train, y_test = train_test_split(x, y, random_state =5)"
      ],
      "execution_count": 7,
      "outputs": []
    },
    {
      "cell_type": "code",
      "metadata": {
        "colab": {
          "base_uri": "https://localhost:8080/"
        },
        "id": "LIMMsvJXZNyV",
        "outputId": "a30c360e-b79e-4699-a986-7e84d67c8f34"
      },
      "source": [
        "KNN = KNeighborsClassifier(n_neighbors=5)\n",
        "KNN.fit(x_train, y_train)\n",
        "y_pred = KNN.predict(x_test)\n",
        "accuracy_score(y_test, y_pred)"
      ],
      "execution_count": 9,
      "outputs": [
        {
          "output_type": "execute_result",
          "data": {
            "text/plain": [
              "0.77"
            ]
          },
          "metadata": {},
          "execution_count": 9
        }
      ]
    },
    {
      "cell_type": "code",
      "metadata": {
        "colab": {
          "base_uri": "https://localhost:8080/",
          "height": 202
        },
        "id": "56xjCB52ZNyX",
        "outputId": "defa834f-7977-48c3-b2a6-d76e6c7e2d3b"
      },
      "source": [
        "x_train.head()"
      ],
      "execution_count": 10,
      "outputs": [
        {
          "output_type": "execute_result",
          "data": {
            "text/html": [
              "<div>\n",
              "<style scoped>\n",
              "    .dataframe tbody tr th:only-of-type {\n",
              "        vertical-align: middle;\n",
              "    }\n",
              "\n",
              "    .dataframe tbody tr th {\n",
              "        vertical-align: top;\n",
              "    }\n",
              "\n",
              "    .dataframe thead th {\n",
              "        text-align: right;\n",
              "    }\n",
              "</style>\n",
              "<table border=\"1\" class=\"dataframe\">\n",
              "  <thead>\n",
              "    <tr style=\"text-align: right;\">\n",
              "      <th></th>\n",
              "      <th>Age</th>\n",
              "      <th>EstimatedSalary</th>\n",
              "    </tr>\n",
              "  </thead>\n",
              "  <tbody>\n",
              "    <tr>\n",
              "      <th>24</th>\n",
              "      <td>46</td>\n",
              "      <td>23000</td>\n",
              "    </tr>\n",
              "    <tr>\n",
              "      <th>33</th>\n",
              "      <td>28</td>\n",
              "      <td>44000</td>\n",
              "    </tr>\n",
              "    <tr>\n",
              "      <th>396</th>\n",
              "      <td>51</td>\n",
              "      <td>23000</td>\n",
              "    </tr>\n",
              "    <tr>\n",
              "      <th>273</th>\n",
              "      <td>39</td>\n",
              "      <td>106000</td>\n",
              "    </tr>\n",
              "    <tr>\n",
              "      <th>246</th>\n",
              "      <td>35</td>\n",
              "      <td>50000</td>\n",
              "    </tr>\n",
              "  </tbody>\n",
              "</table>\n",
              "</div>"
            ],
            "text/plain": [
              "     Age  EstimatedSalary\n",
              "24    46            23000\n",
              "33    28            44000\n",
              "396   51            23000\n",
              "273   39           106000\n",
              "246   35            50000"
            ]
          },
          "metadata": {},
          "execution_count": 10
        }
      ]
    },
    {
      "cell_type": "markdown",
      "metadata": {
        "id": "szwvRNVEceV6"
      },
      "source": [
        "#### **iteration 2**"
      ]
    },
    {
      "cell_type": "code",
      "metadata": {
        "id": "mEnd3Ls1cot9"
      },
      "source": [
        "x_train, x_test, y_train, y_test = train_test_split(x, y, random_state =3)"
      ],
      "execution_count": 11,
      "outputs": []
    },
    {
      "cell_type": "code",
      "metadata": {
        "colab": {
          "base_uri": "https://localhost:8080/"
        },
        "id": "4exj2Zg0cohU",
        "outputId": "80260e24-ca14-4d62-c21b-6682e5ac52b9"
      },
      "source": [
        "KNN = KNeighborsClassifier(n_neighbors=5)\n",
        "KNN.fit(x_train, y_train)\n",
        "y_pred = KNN.predict(x_test)\n",
        "accuracy_score(y_test, y_pred)"
      ],
      "execution_count": 12,
      "outputs": [
        {
          "output_type": "execute_result",
          "data": {
            "text/plain": [
              "0.81"
            ]
          },
          "metadata": {},
          "execution_count": 12
        }
      ]
    },
    {
      "cell_type": "code",
      "metadata": {
        "colab": {
          "base_uri": "https://localhost:8080/",
          "height": 202
        },
        "id": "EhKBURfTZNyZ",
        "outputId": "3b674bb0-1aaa-4d33-8d3a-bde3b2665f80"
      },
      "source": [
        "x_train.head()"
      ],
      "execution_count": 13,
      "outputs": [
        {
          "output_type": "execute_result",
          "data": {
            "text/html": [
              "<div>\n",
              "<style scoped>\n",
              "    .dataframe tbody tr th:only-of-type {\n",
              "        vertical-align: middle;\n",
              "    }\n",
              "\n",
              "    .dataframe tbody tr th {\n",
              "        vertical-align: top;\n",
              "    }\n",
              "\n",
              "    .dataframe thead th {\n",
              "        text-align: right;\n",
              "    }\n",
              "</style>\n",
              "<table border=\"1\" class=\"dataframe\">\n",
              "  <thead>\n",
              "    <tr style=\"text-align: right;\">\n",
              "      <th></th>\n",
              "      <th>Age</th>\n",
              "      <th>EstimatedSalary</th>\n",
              "    </tr>\n",
              "  </thead>\n",
              "  <tbody>\n",
              "    <tr>\n",
              "      <th>75</th>\n",
              "      <td>34</td>\n",
              "      <td>112000</td>\n",
              "    </tr>\n",
              "    <tr>\n",
              "      <th>14</th>\n",
              "      <td>18</td>\n",
              "      <td>82000</td>\n",
              "    </tr>\n",
              "    <tr>\n",
              "      <th>47</th>\n",
              "      <td>27</td>\n",
              "      <td>54000</td>\n",
              "    </tr>\n",
              "    <tr>\n",
              "      <th>46</th>\n",
              "      <td>25</td>\n",
              "      <td>79000</td>\n",
              "    </tr>\n",
              "    <tr>\n",
              "      <th>379</th>\n",
              "      <td>58</td>\n",
              "      <td>23000</td>\n",
              "    </tr>\n",
              "  </tbody>\n",
              "</table>\n",
              "</div>"
            ],
            "text/plain": [
              "     Age  EstimatedSalary\n",
              "75    34           112000\n",
              "14    18            82000\n",
              "47    27            54000\n",
              "46    25            79000\n",
              "379   58            23000"
            ]
          },
          "metadata": {},
          "execution_count": 13
        }
      ]
    },
    {
      "cell_type": "markdown",
      "metadata": {
        "id": "VvAE0NnsdMv5"
      },
      "source": [
        "#### **iteration 3**"
      ]
    },
    {
      "cell_type": "code",
      "metadata": {
        "id": "69qB41KodOJ3"
      },
      "source": [
        "x_train, x_test, y_train, y_test = train_test_split(x, y, random_state =1)"
      ],
      "execution_count": 14,
      "outputs": []
    },
    {
      "cell_type": "code",
      "metadata": {
        "colab": {
          "base_uri": "https://localhost:8080/"
        },
        "id": "Gu5M4wO6dOXP",
        "outputId": "e80752d8-6463-4f17-dfc2-232c7f48988d"
      },
      "source": [
        "KNN = KNeighborsClassifier(n_neighbors=5)\n",
        "KNN.fit(x_train, y_train)\n",
        "y_pred = KNN.predict(x_test)\n",
        "accuracy_score(y_test, y_pred)"
      ],
      "execution_count": 15,
      "outputs": [
        {
          "output_type": "execute_result",
          "data": {
            "text/plain": [
              "0.74"
            ]
          },
          "metadata": {},
          "execution_count": 15
        }
      ]
    },
    {
      "cell_type": "markdown",
      "metadata": {
        "id": "TTaNjtnNdMmy"
      },
      "source": [
        "#### **iteration 4**"
      ]
    },
    {
      "cell_type": "code",
      "metadata": {
        "id": "RjZP2aQkdQJv"
      },
      "source": [
        "x_train, x_test, y_train, y_test = train_test_split(x, y, random_state =2)"
      ],
      "execution_count": 16,
      "outputs": []
    },
    {
      "cell_type": "code",
      "metadata": {
        "colab": {
          "base_uri": "https://localhost:8080/"
        },
        "id": "u58KstFwdQai",
        "outputId": "f92869f2-72ae-43b6-f6f1-4ea637c081bd"
      },
      "source": [
        "KNN = KNeighborsClassifier(n_neighbors=5)\n",
        "KNN.fit(x_train, y_train)\n",
        "y_pred = KNN.predict(x_test)\n",
        "accuracy_score(y_test, y_pred)"
      ],
      "execution_count": 17,
      "outputs": [
        {
          "output_type": "execute_result",
          "data": {
            "text/plain": [
              "0.78"
            ]
          },
          "metadata": {},
          "execution_count": 17
        }
      ]
    },
    {
      "cell_type": "markdown",
      "metadata": {
        "id": "8LQrtnDsdMYQ"
      },
      "source": [
        "#### **iteration 5**"
      ]
    },
    {
      "cell_type": "code",
      "metadata": {
        "id": "Rtk-HzQiZNya"
      },
      "source": [
        "x_train, x_test, y_train, y_test = train_test_split(x, y, random_state =7)"
      ],
      "execution_count": 18,
      "outputs": []
    },
    {
      "cell_type": "code",
      "metadata": {
        "colab": {
          "base_uri": "https://localhost:8080/"
        },
        "id": "e_BoKhZGZNyb",
        "outputId": "a446d07d-0c28-4089-bc17-f3d931d61a6f"
      },
      "source": [
        "KNN = KNeighborsClassifier(n_neighbors=5)\n",
        "KNN.fit(x_train, y_train)\n",
        "y_pred = KNN.predict(x_test)\n",
        "accuracy_score(y_test, y_pred)"
      ],
      "execution_count": 19,
      "outputs": [
        {
          "output_type": "execute_result",
          "data": {
            "text/plain": [
              "0.77"
            ]
          },
          "metadata": {},
          "execution_count": 19
        }
      ]
    },
    {
      "cell_type": "markdown",
      "metadata": {
        "id": "IIYuXIIsfmrE"
      },
      "source": [
        "---------------------------"
      ]
    },
    {
      "cell_type": "markdown",
      "metadata": {
        "id": "oiX3iFu8fcy6"
      },
      "source": [
        "### **cross_val_score**"
      ]
    },
    {
      "cell_type": "code",
      "metadata": {
        "id": "2Jgc7i8C07xa"
      },
      "source": [
        "from sklearn.model_selection import cross_val_score"
      ],
      "execution_count": 22,
      "outputs": []
    },
    {
      "cell_type": "code",
      "metadata": {
        "colab": {
          "base_uri": "https://localhost:8080/"
        },
        "id": "EXo0eBJT1OyT",
        "outputId": "cf2c7e71-cad0-4d5d-bdf3-45cdced6157d"
      },
      "source": [
        "KNN = KNeighborsClassifier(n_neighbors=4)\n",
        "print(cross_val_score(KNN, x, y, cv=10, scoring ='accuracy'))"
      ],
      "execution_count": 24,
      "outputs": [
        {
          "output_type": "stream",
          "name": "stdout",
          "text": [
            "[0.725 0.9   0.9   0.9   0.8   0.7   0.775 0.775 0.75  0.7  ]\n"
          ]
        }
      ]
    },
    {
      "cell_type": "code",
      "metadata": {
        "colab": {
          "base_uri": "https://localhost:8080/"
        },
        "id": "1aWMvAuaZNyc",
        "outputId": "6b06b47d-33aa-44a6-9871-75c395b0da47"
      },
      "source": [
        "KNN = KNeighborsClassifier(n_neighbors=4)\n",
        "print(cross_val_score(KNN, x, y, cv=10, scoring ='accuracy').mean())"
      ],
      "execution_count": 25,
      "outputs": [
        {
          "output_type": "stream",
          "name": "stdout",
          "text": [
            "0.7925\n"
          ]
        }
      ]
    },
    {
      "cell_type": "code",
      "metadata": {
        "colab": {
          "base_uri": "https://localhost:8080/"
        },
        "id": "LFC3mo16ZNyd",
        "outputId": "59468b26-1344-49fb-8c45-3cb7092628d5"
      },
      "source": [
        "logreg = LogisticRegression()\n",
        "print (cross_val_score(logreg, x, y, cv=10, scoring = 'accuracy').mean())"
      ],
      "execution_count": 26,
      "outputs": [
        {
          "output_type": "stream",
          "name": "stdout",
          "text": [
            "0.6425000000000001\n"
          ]
        }
      ]
    }
  ]
}