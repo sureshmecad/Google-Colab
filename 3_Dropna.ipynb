{
  "nbformat": 4,
  "nbformat_minor": 0,
  "metadata": {
    "colab": {
      "name": "3_Dropna.ipynb",
      "provenance": [],
      "collapsed_sections": [],
      "authorship_tag": "ABX9TyM/AG8r2vG0iqudPMffcHqw",
      "include_colab_link": true
    },
    "kernelspec": {
      "name": "python3",
      "display_name": "Python 3"
    },
    "language_info": {
      "name": "python"
    }
  },
  "cells": [
    {
      "cell_type": "markdown",
      "metadata": {
        "id": "view-in-github",
        "colab_type": "text"
      },
      "source": [
        "<a href=\"https://colab.research.google.com/github/sureshmecad/Google-Colab/blob/master/3_Dropna.ipynb\" target=\"_parent\"><img src=\"https://colab.research.google.com/assets/colab-badge.svg\" alt=\"Open In Colab\"/></a>"
      ]
    },
    {
      "cell_type": "markdown",
      "metadata": {
        "id": "CtI60Z61EP2l"
      },
      "source": [
        "**Syntax**\n",
        "\n",
        "- **dropna(self, axis=0, how=\"any\", thresh=None, subset=None, inplace=False)**"
      ]
    },
    {
      "cell_type": "markdown",
      "metadata": {
        "id": "ChkG96PAEYgD"
      },
      "source": [
        "- **axis:** possible values are **{0 or ‘index’, 1 or ‘columns’}**\n",
        "  - default 0.\n",
        "  - If **0**, **drop rows** with null values.\n",
        "  - If **1, drop columns** with missing values.\n",
        "\n",
        "- **how:** possible values are **{‘any’, ‘all’}**\n",
        "  - default **‘any’**. If ‘any’, drop the row/column if **any of the values** is null.   \n",
        "  - If **‘all’**, drop the row/column if **all the values** are missing.\n",
        "\n",
        "- **thresh:** an int value to specify the threshold for the drop operation.\n",
        "\n",
        "- **subset:** specifies the rows/columns to look for null values.\n",
        "\n",
        "- **inplace:** a boolean value. If True, the source DataFrame is changed and None is returned."
      ]
    },
    {
      "cell_type": "markdown",
      "metadata": {
        "id": "D_8FTdQUFv_5"
      },
      "source": [
        "-----------------"
      ]
    },
    {
      "cell_type": "markdown",
      "metadata": {
        "id": "VIrgzIrVG86J"
      },
      "source": [
        "- **df.dropna() and df.dropna(axis=0) ---> both gives same result**\n",
        "\n",
        " - **df.dropna() --->  drop all rows with any NaN and NaT values**\n",
        "\n",
        " - **df.dropna(axis=0) --->  drop all rows with any NaN and NaT values**\n",
        "\n",
        "- **df.dropna(axis=1) --->  drop All Columns with Any Missing Value**"
      ]
    },
    {
      "cell_type": "markdown",
      "metadata": {
        "id": "Ue1QbhEuG6Rx"
      },
      "source": [
        "--------------"
      ]
    },
    {
      "cell_type": "code",
      "metadata": {
        "id": "7HJuePLID3yd"
      },
      "source": [
        "import numpy as np\n",
        "import pandas as pd"
      ],
      "execution_count": 3,
      "outputs": []
    },
    {
      "cell_type": "code",
      "metadata": {
        "colab": {
          "base_uri": "https://localhost:8080/"
        },
        "id": "38hVSCIYFtf7",
        "outputId": "d68e1da8-55be-4787-84eb-d1a480e4b72e"
      },
      "source": [
        "d1 = {'Name': ['Pankaj', 'Meghna', 'David', 'Lisa'], 'ID': [1, 2, 3, 4], 'Salary': [100, 200, np.nan, pd.NaT],\n",
        "      'Role': ['CEO', None, pd.NaT, pd.NaT]}\n",
        "\n",
        "df = pd.DataFrame(d1)\n",
        "\n",
        "print(df)"
      ],
      "execution_count": 4,
      "outputs": [
        {
          "output_type": "stream",
          "text": [
            "     Name  ID Salary  Role\n",
            "0  Pankaj   1    100   CEO\n",
            "1  Meghna   2    200  None\n",
            "2   David   3    NaN   NaT\n",
            "3    Lisa   4    NaT   NaT\n"
          ],
          "name": "stdout"
        }
      ]
    },
    {
      "cell_type": "markdown",
      "metadata": {
        "id": "L22hXbycF1DZ"
      },
      "source": [
        "##### **a) drop all rows with any NaN and NaT values (axis=0)**"
      ]
    },
    {
      "cell_type": "code",
      "metadata": {
        "colab": {
          "base_uri": "https://localhost:8080/"
        },
        "id": "lShDBHGHFtcD",
        "outputId": "f5efce00-03c1-417e-f371-c2fcc7e435f0"
      },
      "source": [
        "# drop all rows with any NaN and NaT values\n",
        "# This is the default behavior of dropna() function\n",
        "\n",
        "df1 = df.dropna()\n",
        "print(df1)"
      ],
      "execution_count": 5,
      "outputs": [
        {
          "output_type": "stream",
          "text": [
            "     Name  ID Salary Role\n",
            "0  Pankaj   1    100  CEO\n"
          ],
          "name": "stdout"
        }
      ]
    },
    {
      "cell_type": "markdown",
      "metadata": {
        "id": "UeDbyVx-GY7y"
      },
      "source": [
        "##### **b) Drop All Columns with Any Missing Value (axis=1)**"
      ]
    },
    {
      "cell_type": "code",
      "metadata": {
        "colab": {
          "base_uri": "https://localhost:8080/"
        },
        "id": "e8iElwxjFtYb",
        "outputId": "88964c0b-c855-4e02-c2d0-4d6d22ad54d4"
      },
      "source": [
        "# pass axis=1 to drop columns with the missing values\n",
        "\n",
        "df1 = df.dropna(axis=1)\n",
        "print(df1)"
      ],
      "execution_count": 6,
      "outputs": [
        {
          "output_type": "stream",
          "text": [
            "     Name  ID\n",
            "0  Pankaj   1\n",
            "1  Meghna   2\n",
            "2   David   3\n",
            "3    Lisa   4\n"
          ],
          "name": "stdout"
        }
      ]
    },
    {
      "cell_type": "markdown",
      "metadata": {
        "id": "KrgNau81IGCL"
      },
      "source": [
        "##### **c) Drop Row/Column Only if All the Values are Null**"
      ]
    },
    {
      "cell_type": "code",
      "metadata": {
        "colab": {
          "base_uri": "https://localhost:8080/"
        },
        "id": "LbT8cWiYIKXK",
        "outputId": "7a422cf1-fce3-446b-d0f6-7b379c0934a3"
      },
      "source": [
        "d2 = {'Name': ['Pankaj', 'Meghna', 'David', pd.NaT], 'ID': [1, 2, 3, pd.NaT], 'Salary': [100, 200, np.nan, pd.NaT],\n",
        "      'Role': [np.nan, np.nan, pd.NaT, pd.NaT]}\n",
        "\n",
        "df1 = pd.DataFrame(d2)\n",
        "\n",
        "print(df1)\n",
        "\n",
        "df2 = df1.dropna(how='all')           # axis=0 --> drops rows; gives same result\n",
        "print('\\n\\n', df2)\n",
        "\n",
        "df3 = df1.dropna(how='all', axis=1)   # axis=1 --> drops columns;\n",
        "print('\\n\\n', df3)"
      ],
      "execution_count": 9,
      "outputs": [
        {
          "output_type": "stream",
          "text": [
            "     Name   ID Salary Role\n",
            "0  Pankaj    1    100  NaT\n",
            "1  Meghna    2    200  NaT\n",
            "2   David    3    NaN  NaT\n",
            "3     NaT  NaT    NaT  NaT\n",
            "\n",
            "\n",
            "      Name ID Salary Role\n",
            "0  Pankaj  1    100  NaT\n",
            "1  Meghna  2    200  NaT\n",
            "2   David  3    NaN  NaT\n",
            "\n",
            "\n",
            "      Name   ID Salary\n",
            "0  Pankaj    1    100\n",
            "1  Meghna    2    200\n",
            "2   David    3    NaN\n",
            "3     NaT  NaT    NaT\n"
          ],
          "name": "stdout"
        }
      ]
    },
    {
      "cell_type": "markdown",
      "metadata": {
        "id": "61QV7oXcJzKk"
      },
      "source": [
        "##### **d) Drop Rows/Columns when the threshold of null values is crossed**"
      ]
    },
    {
      "cell_type": "code",
      "metadata": {
        "colab": {
          "base_uri": "https://localhost:8080/"
        },
        "id": "2ZKJnefjJ2tK",
        "outputId": "1e00e091-9198-4e80-8277-3f5fa30b590c"
      },
      "source": [
        "df4 = df1.dropna(thresh=2)\n",
        "print(df4)"
      ],
      "execution_count": 10,
      "outputs": [
        {
          "output_type": "stream",
          "text": [
            "     Name ID Salary Role\n",
            "0  Pankaj  1    100  NaT\n",
            "1  Meghna  2    200  NaT\n",
            "2   David  3    NaN  NaT\n"
          ],
          "name": "stdout"
        }
      ]
    },
    {
      "cell_type": "markdown",
      "metadata": {
        "id": "vs5D8dqAKFCM"
      },
      "source": [
        "##### **e) Define Labels to look for null values**"
      ]
    },
    {
      "cell_type": "code",
      "metadata": {
        "colab": {
          "base_uri": "https://localhost:8080/"
        },
        "id": "nMjd1Rq9KH20",
        "outputId": "37bd5f9d-b0fa-4f96-b1aa-3b55fd3d2d46"
      },
      "source": [
        "df5 = df1.dropna(subset=['ID'])\n",
        "print(df5)"
      ],
      "execution_count": 11,
      "outputs": [
        {
          "output_type": "stream",
          "text": [
            "     Name ID Salary Role\n",
            "0  Pankaj  1    100  NaT\n",
            "1  Meghna  2    200  NaT\n",
            "2   David  3    NaN  NaT\n"
          ],
          "name": "stdout"
        }
      ]
    },
    {
      "cell_type": "markdown",
      "metadata": {
        "id": "Vwv1ZNS8K5nc"
      },
      "source": [
        "- The **‘ID’** column is **not dropped** because the missing value is looked only in **index 1 and 2.**"
      ]
    },
    {
      "cell_type": "code",
      "metadata": {
        "colab": {
          "base_uri": "https://localhost:8080/"
        },
        "id": "RlZfSXJ0KhuD",
        "outputId": "547c40cd-936a-46cd-eebd-b78be6fd28b5"
      },
      "source": [
        "df6 = df1.dropna(subset=[1, 2], axis=1)\n",
        "print(df6)"
      ],
      "execution_count": 12,
      "outputs": [
        {
          "output_type": "stream",
          "text": [
            "     Name   ID\n",
            "0  Pankaj    1\n",
            "1  Meghna    2\n",
            "2   David    3\n",
            "3     NaT  NaT\n"
          ],
          "name": "stdout"
        }
      ]
    },
    {
      "cell_type": "markdown",
      "metadata": {
        "id": "4pGUv_jaLGTt"
      },
      "source": [
        "##### **f) Dropping Rows with NA inplace**"
      ]
    },
    {
      "cell_type": "markdown",
      "metadata": {
        "id": "aCdfwROeLQKk"
      },
      "source": [
        "- We can pass **inplace=True** to change the source DataFrame itself. It’s useful when the DataFrame size is huge and we want to save some memory."
      ]
    },
    {
      "cell_type": "code",
      "metadata": {
        "colab": {
          "base_uri": "https://localhost:8080/"
        },
        "id": "JBL1nB8hLJ7d",
        "outputId": "0153d31b-df9b-4a22-f031-d6b7f2555d3a"
      },
      "source": [
        "d3 = {'Name': ['Pankaj', 'Meghna'], 'ID': [1, 2], 'Salary': [100, pd.NaT]}\n",
        "\n",
        "df7 = pd.DataFrame(d3)\n",
        "\n",
        "print(df7)"
      ],
      "execution_count": 13,
      "outputs": [
        {
          "output_type": "stream",
          "text": [
            "     Name  ID Salary\n",
            "0  Pankaj   1    100\n",
            "1  Meghna   2    NaT\n"
          ],
          "name": "stdout"
        }
      ]
    },
    {
      "cell_type": "code",
      "metadata": {
        "colab": {
          "base_uri": "https://localhost:8080/"
        },
        "id": "bLkVJxLjLn6j",
        "outputId": "7c763aae-ce18-4cb8-e78b-47d886251646"
      },
      "source": [
        "df7.dropna(inplace=True)\n",
        "print(df7)"
      ],
      "execution_count": 14,
      "outputs": [
        {
          "output_type": "stream",
          "text": [
            "     Name  ID Salary\n",
            "0  Pankaj   1    100\n"
          ],
          "name": "stdout"
        }
      ]
    }
  ]
}