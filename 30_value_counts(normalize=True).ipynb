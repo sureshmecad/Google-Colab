{
  "nbformat": 4,
  "nbformat_minor": 0,
  "metadata": {
    "colab": {
      "name": "30_value_counts(normalize=True).ipynb",
      "provenance": [],
      "authorship_tag": "ABX9TyNSm/MsivbWfsp/hjUv5uny",
      "include_colab_link": true
    },
    "kernelspec": {
      "name": "python3",
      "display_name": "Python 3"
    },
    "language_info": {
      "name": "python"
    }
  },
  "cells": [
    {
      "cell_type": "markdown",
      "metadata": {
        "id": "view-in-github",
        "colab_type": "text"
      },
      "source": [
        "<a href=\"https://colab.research.google.com/github/sureshmecad/Google-Colab/blob/master/30_value_counts(normalize%3DTrue).ipynb\" target=\"_parent\"><img src=\"https://colab.research.google.com/assets/colab-badge.svg\" alt=\"Open In Colab\"/></a>"
      ]
    },
    {
      "cell_type": "markdown",
      "metadata": {
        "id": "iyUo1W3DGuFI"
      },
      "source": [
        "https://pandas.pydata.org/docs/reference/api/pandas.Series.value_counts.html#:~:text=With%20normalize%20set%20to%20True,by%20the%20sum%20of%20values.&text=Bins%20can%20be%20useful%20for,number%20of%20half%2Dopen%20bins."
      ]
    },
    {
      "cell_type": "markdown",
      "metadata": {
        "id": "JVoR-GPPI1zq"
      },
      "source": [
        "### Usage of normalize=True : refer below file in colab\n",
        "\n",
        "- 11_Learnings_Cheet_Sheet.ipynb\n",
        "\n",
        "- Combine the small categories into a single category named \"Other\""
      ]
    },
    {
      "cell_type": "markdown",
      "metadata": {
        "id": "7EBpB7OhJpK1"
      },
      "source": [
        "-------------"
      ]
    },
    {
      "cell_type": "markdown",
      "metadata": {
        "id": "I9ClUwSvGhO4"
      },
      "source": [
        "#### Series.value_counts(normalize=False, sort=True, ascending=False, bins=None, dropna=True)"
      ]
    },
    {
      "cell_type": "code",
      "metadata": {
        "id": "gt5jExuBHOhU"
      },
      "source": [
        "import numpy as np\n",
        "import pandas as pd"
      ],
      "execution_count": 4,
      "outputs": []
    },
    {
      "cell_type": "code",
      "metadata": {
        "colab": {
          "base_uri": "https://localhost:8080/"
        },
        "id": "HhTF8Gx8yf2_",
        "outputId": "de303134-8aa8-4673-f6bd-3bee91133459"
      },
      "source": [
        "index = pd.Index([3, 1, 2, 3, 4, np.nan])\n",
        "index\n"
      ],
      "execution_count": 5,
      "outputs": [
        {
          "output_type": "execute_result",
          "data": {
            "text/plain": [
              "Float64Index([3.0, 1.0, 2.0, 3.0, 4.0, nan], dtype='float64')"
            ]
          },
          "metadata": {
            "tags": []
          },
          "execution_count": 5
        }
      ]
    },
    {
      "cell_type": "code",
      "metadata": {
        "colab": {
          "base_uri": "https://localhost:8080/"
        },
        "id": "buvSyp2pHK_A",
        "outputId": "c4bf8906-778e-4424-e187-17c2df1fb359"
      },
      "source": [
        "index.value_counts()"
      ],
      "execution_count": 6,
      "outputs": [
        {
          "output_type": "execute_result",
          "data": {
            "text/plain": [
              "3.0    2\n",
              "4.0    1\n",
              "2.0    1\n",
              "1.0    1\n",
              "dtype: int64"
            ]
          },
          "metadata": {
            "tags": []
          },
          "execution_count": 6
        }
      ]
    },
    {
      "cell_type": "markdown",
      "metadata": {
        "id": "7M1zYmApHx0T"
      },
      "source": [
        "### 1. normalize=True\n",
        "- With normalize set to True, returns the relative **frequency** by **dividing all values by the sum of values.**"
      ]
    },
    {
      "cell_type": "code",
      "metadata": {
        "colab": {
          "base_uri": "https://localhost:8080/"
        },
        "id": "AlLsauqvHnDT",
        "outputId": "fd362d45-ea0b-4e28-a9cd-640d2eebe41d"
      },
      "source": [
        "s = pd.Series([3, 1, 2, 3, 4, np.nan])\n",
        "s"
      ],
      "execution_count": 7,
      "outputs": [
        {
          "output_type": "execute_result",
          "data": {
            "text/plain": [
              "0    3.0\n",
              "1    1.0\n",
              "2    2.0\n",
              "3    3.0\n",
              "4    4.0\n",
              "5    NaN\n",
              "dtype: float64"
            ]
          },
          "metadata": {
            "tags": []
          },
          "execution_count": 7
        }
      ]
    },
    {
      "cell_type": "code",
      "metadata": {
        "colab": {
          "base_uri": "https://localhost:8080/"
        },
        "id": "AxQuSMaOHtLt",
        "outputId": "89130312-2069-44fc-ec89-3fc83091d5e2"
      },
      "source": [
        "s.value_counts()"
      ],
      "execution_count": 8,
      "outputs": [
        {
          "output_type": "execute_result",
          "data": {
            "text/plain": [
              "3.0    2\n",
              "4.0    1\n",
              "2.0    1\n",
              "1.0    1\n",
              "dtype: int64"
            ]
          },
          "metadata": {
            "tags": []
          },
          "execution_count": 8
        }
      ]
    },
    {
      "cell_type": "code",
      "metadata": {
        "colab": {
          "base_uri": "https://localhost:8080/"
        },
        "id": "4JjAjbPcHm3E",
        "outputId": "6aa8ee8d-8b6c-46d4-8506-6706870b29da"
      },
      "source": [
        "s.value_counts(normalize=True)"
      ],
      "execution_count": 9,
      "outputs": [
        {
          "output_type": "execute_result",
          "data": {
            "text/plain": [
              "3.0    0.4\n",
              "4.0    0.2\n",
              "2.0    0.2\n",
              "1.0    0.2\n",
              "dtype: float64"
            ]
          },
          "metadata": {
            "tags": []
          },
          "execution_count": 9
        }
      ]
    },
    {
      "cell_type": "markdown",
      "metadata": {
        "id": "0JyIwOH0IV5w"
      },
      "source": [
        "### 2. dropna\n",
        "- With **dropna set to False** we can also see **NaN** index values"
      ]
    },
    {
      "cell_type": "code",
      "metadata": {
        "colab": {
          "base_uri": "https://localhost:8080/"
        },
        "id": "yMde9zm_IYYy",
        "outputId": "280cbf46-3f57-4cbb-9852-0ee7286e0ad0"
      },
      "source": [
        "s.value_counts(dropna=False)"
      ],
      "execution_count": 10,
      "outputs": [
        {
          "output_type": "execute_result",
          "data": {
            "text/plain": [
              "3.0    2\n",
              "NaN    1\n",
              "4.0    1\n",
              "2.0    1\n",
              "1.0    1\n",
              "dtype: int64"
            ]
          },
          "metadata": {
            "tags": []
          },
          "execution_count": 10
        }
      ]
    }
  ]
}