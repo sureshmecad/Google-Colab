{
  "nbformat": 4,
  "nbformat_minor": 0,
  "metadata": {
    "colab": {
      "name": "1_ANOVA.ipynb",
      "provenance": [],
      "collapsed_sections": [],
      "authorship_tag": "ABX9TyOiw4X4qp5iuf7QNHO1k5tx",
      "include_colab_link": true
    },
    "kernelspec": {
      "name": "python3",
      "display_name": "Python 3"
    },
    "language_info": {
      "name": "python"
    }
  },
  "cells": [
    {
      "cell_type": "markdown",
      "metadata": {
        "id": "view-in-github",
        "colab_type": "text"
      },
      "source": [
        "<a href=\"https://colab.research.google.com/github/sureshmecad/Google-Colab/blob/master/1_ANOVA.ipynb\" target=\"_parent\"><img src=\"https://colab.research.google.com/assets/colab-badge.svg\" alt=\"Open In Colab\"/></a>"
      ]
    },
    {
      "cell_type": "markdown",
      "metadata": {
        "id": "i8WJQVUXKQb7"
      },
      "source": [
        "**f_regression:** Used only for numeric targets and based on linear regression performance.\n",
        "\n",
        "**f_classif:** Used only for categorical targets and based on the Analysis of Variance (ANOVA) statistical test.\n",
        "\n",
        "**chi2:** Performs the chi-square statistic for categorical targets, which is less sensible to the nonlinear relationship between the predictive variable and its target."
      ]
    },
    {
      "cell_type": "markdown",
      "metadata": {
        "id": "Ssh8dGU0OD-d"
      },
      "source": [
        "-------------"
      ]
    },
    {
      "cell_type": "markdown",
      "metadata": {
        "id": "9CyLXveLGraC"
      },
      "source": [
        "**f_classif**\n",
        "\n",
        "ANOVA F-value between label/feature for classification tasks.\n",
        "\n",
        "**mutual_info_classif**\n",
        "\n",
        "Mutual information for a discrete target.\n",
        "\n",
        "**chi2**\n",
        "\n",
        "Chi-squared stats of non-negative features for classification tasks.\n",
        "\n",
        "**f_regression**\n",
        "\n",
        "F-value between label/feature for regression tasks.\n",
        "\n",
        "**mutual_info_regression**\n",
        "\n",
        "Mutual information for a continuous target.\n",
        "\n",
        "**SelectKBest**\n",
        "\n",
        "Select features based on the k highest scores.\n",
        "\n",
        "**SelectFpr**\n",
        "\n",
        "Select features based on a false positive rate test.\n",
        "\n",
        "**SelectFdr**\n",
        "\n",
        "Select features based on an estimated false discovery rate.\n",
        "\n",
        "**SelectFwe**\n",
        "\n",
        "Select features based on family-wise error rate.\n",
        "\n",
        "**GenericUnivariateSelect**\n",
        "\n",
        "Univariate feature selector with configurable mode."
      ]
    },
    {
      "cell_type": "markdown",
      "metadata": {
        "id": "r4tRkHT5OFUF"
      },
      "source": [
        "----------------"
      ]
    },
    {
      "cell_type": "code",
      "metadata": {
        "id": "mCKEcdA7EUdX"
      },
      "source": [
        "from sklearn.datasets import load_digits\n",
        "from sklearn.feature_selection import f_classif, SelectPercentile, chi2"
      ],
      "execution_count": 2,
      "outputs": []
    },
    {
      "cell_type": "code",
      "metadata": {
        "id": "nSxvbcciFh5m"
      },
      "source": [
        "X, y = load_digits(return_X_y=True)"
      ],
      "execution_count": 3,
      "outputs": []
    },
    {
      "cell_type": "code",
      "metadata": {
        "colab": {
          "base_uri": "https://localhost:8080/"
        },
        "id": "k7HBaRiaF1PH",
        "outputId": "29e23c0e-2d9a-4b41-8b09-524ac871635c"
      },
      "source": [
        "X.shape"
      ],
      "execution_count": 4,
      "outputs": [
        {
          "output_type": "execute_result",
          "data": {
            "text/plain": [
              "(1797, 64)"
            ]
          },
          "metadata": {
            "tags": []
          },
          "execution_count": 4
        }
      ]
    },
    {
      "cell_type": "code",
      "metadata": {
        "id": "dpez9NXtHJ15"
      },
      "source": [
        "X_new = SelectPercentile(chi2, percentile=10).fit_transform(X, y)"
      ],
      "execution_count": 5,
      "outputs": []
    },
    {
      "cell_type": "code",
      "metadata": {
        "colab": {
          "base_uri": "https://localhost:8080/"
        },
        "id": "ybqacbGUHQKK",
        "outputId": "846e7cfa-dd64-4b15-c990-39bfb767dece"
      },
      "source": [
        "X_new.shape"
      ],
      "execution_count": 6,
      "outputs": [
        {
          "output_type": "execute_result",
          "data": {
            "text/plain": [
              "(1797, 7)"
            ]
          },
          "metadata": {
            "tags": []
          },
          "execution_count": 6
        }
      ]
    }
  ]
}