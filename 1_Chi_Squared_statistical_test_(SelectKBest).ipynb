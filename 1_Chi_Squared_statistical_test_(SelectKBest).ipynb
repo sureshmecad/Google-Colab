{
  "nbformat": 4,
  "nbformat_minor": 0,
  "metadata": {
    "colab": {
      "name": "1_Chi-Squared statistical test (SelectKBest).ipynb",
      "provenance": [],
      "collapsed_sections": [],
      "include_colab_link": true
    },
    "kernelspec": {
      "display_name": "Python 3",
      "language": "python",
      "name": "python3"
    },
    "language_info": {
      "codemirror_mode": {
        "name": "ipython",
        "version": 3
      },
      "file_extension": ".py",
      "mimetype": "text/x-python",
      "name": "python",
      "nbconvert_exporter": "python",
      "pygments_lexer": "ipython3",
      "version": "3.8.5"
    }
  },
  "cells": [
    {
      "cell_type": "markdown",
      "metadata": {
        "id": "view-in-github",
        "colab_type": "text"
      },
      "source": [
        "<a href=\"https://colab.research.google.com/github/sureshmecad/Google-Colab/blob/master/1_Chi_Squared_statistical_test_(SelectKBest).ipynb\" target=\"_parent\"><img src=\"https://colab.research.google.com/assets/colab-badge.svg\" alt=\"Open In Colab\"/></a>"
      ]
    },
    {
      "cell_type": "markdown",
      "metadata": {
        "id": "LDKwupLyaA_E"
      },
      "source": [
        "## Chi-Squared statistical test (SelectKBest)\n",
        "\n",
        "<p style='text-align: right;'> 20 points</p>\n",
        "\n",
        "Chi2 is a measure of dependency between two variables. It gives us a goodness of fit measure because it measures how well an observed distribution of a particular feature fits with the distribution that is expected if two features are independent.\n",
        "\n",
        "Scikit-Learn offers a feature selection estimator named SelectKBest which select K numbers of features based on the statistical analysis.\n",
        "\n",
        "Reference link: https://chrisalbon.com/machine_learning/feature_selection/chi-squared_for_feature_selection/"
      ]
    },
    {
      "cell_type": "markdown",
      "metadata": {
        "id": "uNJsjHM2aA_E"
      },
      "source": [
        "The below mentioned function generate_feature_scores_df is used to get feature score for using it in  Chi-Squared statistical test explained below"
      ]
    },
    {
      "cell_type": "code",
      "metadata": {
        "id": "aQmJbkBjNP4C"
      },
      "source": [
        "import pandas as pd"
      ],
      "execution_count": 2,
      "outputs": []
    },
    {
      "cell_type": "code",
      "metadata": {
        "id": "nUDQoJ2aOBbQ"
      },
      "source": [
        "def get_selected_features(raw_df,processed_df):\n",
        "    selected_features=[]\n",
        "    for i in range(len(processed_df.columns)):\n",
        "        for j in range(len(raw_df.columns)):\n",
        "            if (processed_df.iloc[:,i].equals(raw_df.iloc[:,j])):\n",
        "                selected_features.append(raw_df.columns[j])\n",
        "    return selected_features"
      ],
      "execution_count": 15,
      "outputs": []
    },
    {
      "cell_type": "code",
      "metadata": {
        "id": "MHFWfPyUaA_E"
      },
      "source": [
        "def generate_feature_scores_df(X,Score):\n",
        "    feature_score = pd.DataFrame()\n",
        "    for i in range(X.shape[1]):\n",
        "        new = pd.DataFrame({\"Features\":X.columns[i],\"Score\":Score[i]},index=[i])\n",
        "        feature_score = pd.concat([feature_score,new])\n",
        "    return feature_score"
      ],
      "execution_count": 1,
      "outputs": []
    },
    {
      "cell_type": "markdown",
      "metadata": {
        "id": "AajeYGbQaA_E"
      },
      "source": [
        "Hey coder! lets use dataset - diabetes.csv from below link\n",
        "\n",
        "https://github.com/arupbhunia/Data-Pre-processing/blob/master/datasets/diabetes.csv"
      ]
    },
    {
      "cell_type": "code",
      "metadata": {
        "colab": {
          "base_uri": "https://localhost:8080/"
        },
        "id": "Fu279-rYTCVo",
        "outputId": "7f803cb8-9f4d-41b0-f428-1ddebd7152bb"
      },
      "source": [
        "from google.colab import drive\n",
        "drive.mount('/content/drive')"
      ],
      "execution_count": 4,
      "outputs": [
        {
          "output_type": "stream",
          "text": [
            "Mounted at /content/drive\n"
          ],
          "name": "stdout"
        }
      ]
    },
    {
      "cell_type": "code",
      "metadata": {
        "id": "uhb3n9AVaA_F",
        "colab": {
          "base_uri": "https://localhost:8080/",
          "height": 202
        },
        "outputId": "d19b6528-2bc7-459e-a33d-76241239baff"
      },
      "source": [
        "# create a data frame named diabetes and load the csv file again\n",
        "diabetes = pd.read_csv(\"/content/drive/MyDrive/CloudyML/diabetes.zip\")\n",
        "diabetes.head()"
      ],
      "execution_count": 5,
      "outputs": [
        {
          "output_type": "execute_result",
          "data": {
            "text/html": [
              "<div>\n",
              "<style scoped>\n",
              "    .dataframe tbody tr th:only-of-type {\n",
              "        vertical-align: middle;\n",
              "    }\n",
              "\n",
              "    .dataframe tbody tr th {\n",
              "        vertical-align: top;\n",
              "    }\n",
              "\n",
              "    .dataframe thead th {\n",
              "        text-align: right;\n",
              "    }\n",
              "</style>\n",
              "<table border=\"1\" class=\"dataframe\">\n",
              "  <thead>\n",
              "    <tr style=\"text-align: right;\">\n",
              "      <th></th>\n",
              "      <th>Pregnancies</th>\n",
              "      <th>Glucose</th>\n",
              "      <th>BloodPressure</th>\n",
              "      <th>SkinThickness</th>\n",
              "      <th>Insulin</th>\n",
              "      <th>BMI</th>\n",
              "      <th>DiabetesPedigreeFunction</th>\n",
              "      <th>Age</th>\n",
              "      <th>Outcome</th>\n",
              "    </tr>\n",
              "  </thead>\n",
              "  <tbody>\n",
              "    <tr>\n",
              "      <th>0</th>\n",
              "      <td>6</td>\n",
              "      <td>148</td>\n",
              "      <td>72</td>\n",
              "      <td>35</td>\n",
              "      <td>0</td>\n",
              "      <td>33.6</td>\n",
              "      <td>0.627</td>\n",
              "      <td>50</td>\n",
              "      <td>1</td>\n",
              "    </tr>\n",
              "    <tr>\n",
              "      <th>1</th>\n",
              "      <td>1</td>\n",
              "      <td>85</td>\n",
              "      <td>66</td>\n",
              "      <td>29</td>\n",
              "      <td>0</td>\n",
              "      <td>26.6</td>\n",
              "      <td>0.351</td>\n",
              "      <td>31</td>\n",
              "      <td>0</td>\n",
              "    </tr>\n",
              "    <tr>\n",
              "      <th>2</th>\n",
              "      <td>8</td>\n",
              "      <td>183</td>\n",
              "      <td>64</td>\n",
              "      <td>0</td>\n",
              "      <td>0</td>\n",
              "      <td>23.3</td>\n",
              "      <td>0.672</td>\n",
              "      <td>32</td>\n",
              "      <td>1</td>\n",
              "    </tr>\n",
              "    <tr>\n",
              "      <th>3</th>\n",
              "      <td>1</td>\n",
              "      <td>89</td>\n",
              "      <td>66</td>\n",
              "      <td>23</td>\n",
              "      <td>94</td>\n",
              "      <td>28.1</td>\n",
              "      <td>0.167</td>\n",
              "      <td>21</td>\n",
              "      <td>0</td>\n",
              "    </tr>\n",
              "    <tr>\n",
              "      <th>4</th>\n",
              "      <td>0</td>\n",
              "      <td>137</td>\n",
              "      <td>40</td>\n",
              "      <td>35</td>\n",
              "      <td>168</td>\n",
              "      <td>43.1</td>\n",
              "      <td>2.288</td>\n",
              "      <td>33</td>\n",
              "      <td>1</td>\n",
              "    </tr>\n",
              "  </tbody>\n",
              "</table>\n",
              "</div>"
            ],
            "text/plain": [
              "   Pregnancies  Glucose  BloodPressure  ...  DiabetesPedigreeFunction  Age  Outcome\n",
              "0            6      148             72  ...                     0.627   50        1\n",
              "1            1       85             66  ...                     0.351   31        0\n",
              "2            8      183             64  ...                     0.672   32        1\n",
              "3            1       89             66  ...                     0.167   21        0\n",
              "4            0      137             40  ...                     2.288   33        1\n",
              "\n",
              "[5 rows x 9 columns]"
            ]
          },
          "metadata": {
            "tags": []
          },
          "execution_count": 5
        }
      ]
    },
    {
      "cell_type": "code",
      "metadata": {
        "id": "s1LUxVw0aA_F"
      },
      "source": [
        "# assign features to X variable and 'outcome' to y variable from the dataframe diabetes\n",
        "X = diabetes.drop('Outcome', axis = 1)\n",
        "\n",
        "y = diabetes[\"Outcome\"]"
      ],
      "execution_count": 6,
      "outputs": []
    },
    {
      "cell_type": "code",
      "metadata": {
        "id": "uxzuaJ9JaA_F"
      },
      "source": [
        "#import chi2 and SelectKBest\n",
        "from sklearn.feature_selection import SelectKBest\n",
        "from sklearn.feature_selection import chi2"
      ],
      "execution_count": 7,
      "outputs": []
    },
    {
      "cell_type": "code",
      "metadata": {
        "id": "Noe8eZyHaA_F"
      },
      "source": [
        "# converting data cast to a float type.\n",
        "X = X.astype(float)"
      ],
      "execution_count": 8,
      "outputs": []
    },
    {
      "cell_type": "markdown",
      "metadata": {
        "id": "vEA_uRJAaA_F"
      },
      "source": [
        "Lets use SelectKBest to calculate the best feature score. Use Chi2 as Score Function and no.of feature i.e. k as 4\n"
      ]
    },
    {
      "cell_type": "code",
      "metadata": {
        "id": "sNAkcACHaA_G"
      },
      "source": [
        "# Initialise SelectKBest with above parameters \n",
        "chi2_test = SelectKBest(chi2, k=4)\n",
        "\n",
        "# fit it with X and Y\n",
        "chi2_model = chi2_test.fit(X, y)"
      ],
      "execution_count": 9,
      "outputs": []
    },
    {
      "cell_type": "code",
      "metadata": {
        "id": "QreYG4PnaA_G",
        "colab": {
          "base_uri": "https://localhost:8080/"
        },
        "outputId": "857febc4-6204-4e86-9f67-6a8ed98680eb"
      },
      "source": [
        "#print the scores of chi2_model\n",
        "chi2_model.scores_"
      ],
      "execution_count": 10,
      "outputs": [
        {
          "output_type": "execute_result",
          "data": {
            "text/plain": [
              "array([ 111.51969064, 1411.88704064,   17.60537322,   53.10803984,\n",
              "       2175.56527292,  127.66934333,    5.39268155,  181.30368904])"
            ]
          },
          "metadata": {
            "tags": []
          },
          "execution_count": 10
        }
      ]
    },
    {
      "cell_type": "code",
      "metadata": {
        "id": "O0zaMxTqaA_G",
        "colab": {
          "base_uri": "https://localhost:8080/",
          "height": 294
        },
        "outputId": "4dd9b4ac-aaf7-454a-f631-bc5acff11c6e"
      },
      "source": [
        "# use generate_feature_scores_df function to get features and their respective scores passing X and chi2_model.scores_ as paramter\n",
        "feature_score_df = generate_feature_scores_df(X, chi2_model.scores_)\n",
        "\n",
        "\n",
        "# return feature_score_df\n",
        "feature_score_df"
      ],
      "execution_count": 11,
      "outputs": [
        {
          "output_type": "execute_result",
          "data": {
            "text/html": [
              "<div>\n",
              "<style scoped>\n",
              "    .dataframe tbody tr th:only-of-type {\n",
              "        vertical-align: middle;\n",
              "    }\n",
              "\n",
              "    .dataframe tbody tr th {\n",
              "        vertical-align: top;\n",
              "    }\n",
              "\n",
              "    .dataframe thead th {\n",
              "        text-align: right;\n",
              "    }\n",
              "</style>\n",
              "<table border=\"1\" class=\"dataframe\">\n",
              "  <thead>\n",
              "    <tr style=\"text-align: right;\">\n",
              "      <th></th>\n",
              "      <th>Features</th>\n",
              "      <th>Score</th>\n",
              "    </tr>\n",
              "  </thead>\n",
              "  <tbody>\n",
              "    <tr>\n",
              "      <th>0</th>\n",
              "      <td>Pregnancies</td>\n",
              "      <td>111.519691</td>\n",
              "    </tr>\n",
              "    <tr>\n",
              "      <th>1</th>\n",
              "      <td>Glucose</td>\n",
              "      <td>1411.887041</td>\n",
              "    </tr>\n",
              "    <tr>\n",
              "      <th>2</th>\n",
              "      <td>BloodPressure</td>\n",
              "      <td>17.605373</td>\n",
              "    </tr>\n",
              "    <tr>\n",
              "      <th>3</th>\n",
              "      <td>SkinThickness</td>\n",
              "      <td>53.108040</td>\n",
              "    </tr>\n",
              "    <tr>\n",
              "      <th>4</th>\n",
              "      <td>Insulin</td>\n",
              "      <td>2175.565273</td>\n",
              "    </tr>\n",
              "    <tr>\n",
              "      <th>5</th>\n",
              "      <td>BMI</td>\n",
              "      <td>127.669343</td>\n",
              "    </tr>\n",
              "    <tr>\n",
              "      <th>6</th>\n",
              "      <td>DiabetesPedigreeFunction</td>\n",
              "      <td>5.392682</td>\n",
              "    </tr>\n",
              "    <tr>\n",
              "      <th>7</th>\n",
              "      <td>Age</td>\n",
              "      <td>181.303689</td>\n",
              "    </tr>\n",
              "  </tbody>\n",
              "</table>\n",
              "</div>"
            ],
            "text/plain": [
              "                   Features        Score\n",
              "0               Pregnancies   111.519691\n",
              "1                   Glucose  1411.887041\n",
              "2             BloodPressure    17.605373\n",
              "3             SkinThickness    53.108040\n",
              "4                   Insulin  2175.565273\n",
              "5                       BMI   127.669343\n",
              "6  DiabetesPedigreeFunction     5.392682\n",
              "7                       Age   181.303689"
            ]
          },
          "metadata": {
            "tags": []
          },
          "execution_count": 11
        }
      ]
    },
    {
      "cell_type": "markdown",
      "metadata": {
        "id": "tCvXxchxaA_G"
      },
      "source": [
        "Did you see the features and corresponding chi square scores? This is so easy right, higher the score better the feature. Just like higher the marks in assignment better the student of ours. "
      ]
    },
    {
      "cell_type": "code",
      "metadata": {
        "id": "lW4FgC-HaA_G"
      },
      "source": [
        "#Lets get X with selected features of chi2_model using tranform function so we will have X_new\n",
        "X_new = chi2_model.transform(X)"
      ],
      "execution_count": 12,
      "outputs": []
    },
    {
      "cell_type": "markdown",
      "metadata": {
        "id": "YFodvCyJaA_G"
      },
      "source": [
        "whaaaat! tranform()? , how is it different from fit_transform.You know buddy fit() can also confuse you. Hey you inquisitive learner we will tell you the difference.\n",
        "\n",
        "The fit() function calculates the values of these parameters. The transform function applies the values of the parameters on the actual data and gives the normalized value. The fit_transform() function performs both in the same step. Note that the same value is got whether we perform in 2 steps or in a single step.\n",
        "\n",
        "for more info on this refer: https://www.youtube.com/watch?v=BotYLBQfd5M"
      ]
    },
    {
      "cell_type": "code",
      "metadata": {
        "id": "Mj7gnXMpaA_H"
      },
      "source": [
        "# Convert X_new into a dataframe\n",
        "\n",
        "X_new = pd.DataFrame(X_new)"
      ],
      "execution_count": 13,
      "outputs": []
    },
    {
      "cell_type": "code",
      "metadata": {
        "id": "bA_V5NlgaA_H",
        "colab": {
          "base_uri": "https://localhost:8080/"
        },
        "outputId": "aef23772-3ec0-4711-c2b2-ec3742ee559f"
      },
      "source": [
        "#repeat the previous steps of calling get_selected_features function( pass X and X_new as score in the function)\n",
        "selected_features = get_selected_features(X, X_new)\n",
        "\n",
        "# return selected_features\n",
        "selected_features"
      ],
      "execution_count": 16,
      "outputs": [
        {
          "output_type": "execute_result",
          "data": {
            "text/plain": [
              "['Glucose', 'Insulin', 'BMI', 'Age']"
            ]
          },
          "metadata": {
            "tags": []
          },
          "execution_count": 16
        }
      ]
    },
    {
      "cell_type": "markdown",
      "metadata": {
        "id": "vqo_HUsTaA_H"
      },
      "source": [
        "Let have X with all features given in list selected_features and save this dataframe in variable chi2_best_features"
      ]
    },
    {
      "cell_type": "code",
      "metadata": {
        "id": "i-quyaPpaA_H",
        "colab": {
          "base_uri": "https://localhost:8080/",
          "height": 202
        },
        "outputId": "689e939b-3094-4bce-8043-8df7c541c486"
      },
      "source": [
        "chi2_best_features = pd.DataFrame(X_new)\n",
        "chi2_best_features.columns = selected_features\n",
        "\n",
        "# print chi2_best_features.head()\n",
        "chi2_best_features.head()"
      ],
      "execution_count": 17,
      "outputs": [
        {
          "output_type": "execute_result",
          "data": {
            "text/html": [
              "<div>\n",
              "<style scoped>\n",
              "    .dataframe tbody tr th:only-of-type {\n",
              "        vertical-align: middle;\n",
              "    }\n",
              "\n",
              "    .dataframe tbody tr th {\n",
              "        vertical-align: top;\n",
              "    }\n",
              "\n",
              "    .dataframe thead th {\n",
              "        text-align: right;\n",
              "    }\n",
              "</style>\n",
              "<table border=\"1\" class=\"dataframe\">\n",
              "  <thead>\n",
              "    <tr style=\"text-align: right;\">\n",
              "      <th></th>\n",
              "      <th>Glucose</th>\n",
              "      <th>Insulin</th>\n",
              "      <th>BMI</th>\n",
              "      <th>Age</th>\n",
              "    </tr>\n",
              "  </thead>\n",
              "  <tbody>\n",
              "    <tr>\n",
              "      <th>0</th>\n",
              "      <td>148.0</td>\n",
              "      <td>0.0</td>\n",
              "      <td>33.6</td>\n",
              "      <td>50.0</td>\n",
              "    </tr>\n",
              "    <tr>\n",
              "      <th>1</th>\n",
              "      <td>85.0</td>\n",
              "      <td>0.0</td>\n",
              "      <td>26.6</td>\n",
              "      <td>31.0</td>\n",
              "    </tr>\n",
              "    <tr>\n",
              "      <th>2</th>\n",
              "      <td>183.0</td>\n",
              "      <td>0.0</td>\n",
              "      <td>23.3</td>\n",
              "      <td>32.0</td>\n",
              "    </tr>\n",
              "    <tr>\n",
              "      <th>3</th>\n",
              "      <td>89.0</td>\n",
              "      <td>94.0</td>\n",
              "      <td>28.1</td>\n",
              "      <td>21.0</td>\n",
              "    </tr>\n",
              "    <tr>\n",
              "      <th>4</th>\n",
              "      <td>137.0</td>\n",
              "      <td>168.0</td>\n",
              "      <td>43.1</td>\n",
              "      <td>33.0</td>\n",
              "    </tr>\n",
              "  </tbody>\n",
              "</table>\n",
              "</div>"
            ],
            "text/plain": [
              "   Glucose  Insulin   BMI   Age\n",
              "0    148.0      0.0  33.6  50.0\n",
              "1     85.0      0.0  26.6  31.0\n",
              "2    183.0      0.0  23.3  32.0\n",
              "3     89.0     94.0  28.1  21.0\n",
              "4    137.0    168.0  43.1  33.0"
            ]
          },
          "metadata": {
            "tags": []
          },
          "execution_count": 17
        }
      ]
    },
    {
      "cell_type": "markdown",
      "metadata": {
        "id": "qlY6LFnraA_H"
      },
      "source": [
        "As you can see chi-squared test helps us to select  important independent features out of the original features that have the strongest relationship with the target feature.\n",
        "\n",
        "You did it well!"
      ]
    },
    {
      "cell_type": "markdown",
      "metadata": {
        "id": "rNxj_xiXaA_U"
      },
      "source": [
        "------------------------------"
      ]
    },
    {
      "cell_type": "code",
      "metadata": {
        "id": "Tb-V12zEM3iZ"
      },
      "source": [
        "from sklearn.feature_selection import SelectPercentile\n",
        "\n",
        "# use f_classif (the default) and SelectPercentile to select 50% of features:\n",
        "select = SelectPercentile(percentile=50)\n",
        "select.fit(X_train, y_train)\n",
        "\n",
        "# transform training set:\n",
        "X_train_selected = select.transform(X_train)\n",
        "\n",
        "print(X_train.shape)\n",
        "print(X_train_selected.shape)"
      ],
      "execution_count": null,
      "outputs": []
    },
    {
      "cell_type": "code",
      "metadata": {
        "id": "Zv4aRfGMM3fS"
      },
      "source": [
        "mask = select.get_support()\n",
        "print(mask)\n",
        "# visualize the mask. black is True, white is False\n",
        "plt.matshow(mask.reshape(1, -1), cmap='gray_r')"
      ],
      "execution_count": null,
      "outputs": []
    }
  ]
}