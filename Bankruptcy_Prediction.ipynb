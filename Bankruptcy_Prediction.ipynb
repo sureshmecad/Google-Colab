{
  "nbformat": 4,
  "nbformat_minor": 0,
  "metadata": {
    "kernelspec": {
      "display_name": "Python 3",
      "language": "python",
      "name": "python3"
    },
    "language_info": {
      "codemirror_mode": {
        "name": "ipython",
        "version": 3
      },
      "file_extension": ".py",
      "mimetype": "text/x-python",
      "name": "python",
      "nbconvert_exporter": "python",
      "pygments_lexer": "ipython3",
      "version": "3.6.3"
    },
    "nav_menu": {
      "height": "252px",
      "width": "333px"
    },
    "toc": {
      "navigate_menu": true,
      "number_sections": true,
      "sideBar": true,
      "threshold": 6,
      "toc_cell": false,
      "toc_section_display": "block",
      "toc_window_display": false
    },
    "colab": {
      "name": "Bankruptcy Prediction.ipynb",
      "provenance": [],
      "include_colab_link": true
    }
  },
  "cells": [
    {
      "cell_type": "markdown",
      "metadata": {
        "id": "view-in-github",
        "colab_type": "text"
      },
      "source": [
        "<a href=\"https://colab.research.google.com/github/sureshmecad/Google-Colab/blob/master/Bankruptcy_Prediction.ipynb\" target=\"_parent\"><img src=\"https://colab.research.google.com/assets/colab-badge.svg\" alt=\"Open In Colab\"/></a>"
      ]
    },
    {
      "cell_type": "markdown",
      "metadata": {
        "id": "o1pDk7LbCtux"
      },
      "source": [
        "# Week 12: Python Business Analytics"
      ]
    },
    {
      "cell_type": "markdown",
      "metadata": {
        "id": "Ci-SJQQLCweW"
      },
      "source": [
        "See the Repository for Future Work: https://github.com/firmai/python-business-analytics or\n",
        "\n",
        "\n",
        "Sign up to the mailing list:\n",
        "https://mailchi.mp/ec4942d52cc5/firmai"
      ]
    },
    {
      "cell_type": "markdown",
      "metadata": {
        "id": "MQbJboNoCiT-"
      },
      "source": [
        "# Bankuptcy Prediction Ensemble Models"
      ]
    },
    {
      "cell_type": "code",
      "metadata": {
        "id": "xEiHxOZECiUA"
      },
      "source": [
        "# To support both python 2 and python 3\n",
        "from __future__ import division, print_function, unicode_literals\n",
        "\n",
        "import warnings\n",
        "warnings.filterwarnings('ignore')\n",
        "\n",
        "# Common imports\n",
        "import numpy as np\n",
        "import os\n",
        "\n",
        "# to make this notebook's output stable across runs\n",
        "np.random.seed(42)\n",
        "\n",
        "# To plot pretty figures\n",
        "%matplotlib inline\n",
        "import matplotlib as mpl\n",
        "import matplotlib.pyplot as plt\n",
        "mpl.rc('axes', labelsize=14)\n",
        "mpl.rc('xtick', labelsize=12)\n",
        "mpl.rc('ytick', labelsize=12)\n",
        "\n",
        "# Where to save the figures\n",
        "PROJECT_ROOT_DIR = \"../..\"\n",
        "CHAPTER_ID = \"ensembles\"\n",
        "\n",
        "def image_path(fig_id):\n",
        "    return os.path.join(PROJECT_ROOT_DIR, \"images\", CHAPTER_ID, fig_id)\n",
        "\n",
        "def save_fig(fig_id, tight_layout=True):\n",
        "    path = os.path.join(PROJECT_ROOT_DIR, \"images\", CHAPTER_ID, fig_id + \".png\")\n",
        "    print(\"Saving figure\", fig_id)\n",
        "    if tight_layout:\n",
        "        plt.tight_layout()\n",
        "    try:\n",
        "        plt.savefig(path, format='png', dpi=300)\n",
        "    except:\n",
        "        plt.savefig(fig_id + \".png\", format='png', dpi=300)"
      ],
      "execution_count": null,
      "outputs": []
    },
    {
      "cell_type": "markdown",
      "metadata": {
        "id": "O_POrE0zCiUM"
      },
      "source": [
        "# Voting classifiers"
      ]
    },
    {
      "cell_type": "code",
      "metadata": {
        "id": "16KFyF3kCiUO"
      },
      "source": [
        "heads_proba = 0.51\n",
        "coin_tosses = (np.random.rand(10000, 10) < heads_proba).astype(np.int32)\n",
        "cumulative_heads_ratio = np.cumsum(coin_tosses, axis=0) / np.arange(1, 10001).reshape(-1, 1)"
      ],
      "execution_count": null,
      "outputs": []
    },
    {
      "cell_type": "code",
      "metadata": {
        "id": "k_MM11xcCiUV",
        "colab": {
          "base_uri": "https://localhost:8080/",
          "height": 278
        },
        "outputId": "48bd49df-159d-4d4a-9f43-3e27143c49bc"
      },
      "source": [
        "plt.figure(figsize=(8,3.5))\n",
        "plt.plot(cumulative_heads_ratio)\n",
        "plt.plot([0, 10000], [0.51, 0.51], \"k--\", linewidth=2, label=\"51%\")\n",
        "plt.plot([0, 10000], [0.5, 0.5], \"k-\", label=\"50%\")\n",
        "plt.xlabel(\"Number of coin tosses\")\n",
        "plt.ylabel(\"Heads ratio\")\n",
        "plt.legend(loc=\"lower right\")\n",
        "plt.axis([0, 10000, 0.42, 0.58])\n",
        "save_fig(\"law_of_large_numbers_plot\")\n",
        "plt.show()"
      ],
      "execution_count": null,
      "outputs": [
        {
          "output_type": "stream",
          "text": [
            "Saving figure law_of_large_numbers_plot\n"
          ],
          "name": "stdout"
        },
        {
          "output_type": "display_data",
          "data": {
            "image/png": "[encoded data removed]",
            "text/plain": [
              "<Figure size 576x252 with 1 Axes>"
            ]
          },
          "metadata": {
            "tags": []
          }
        }
      ]
    },
    {
      "cell_type": "code",
      "metadata": {
        "id": "BKe_bt9CCiUy"
      },
      "source": [
        "from sklearn.model_selection import train_test_split\n",
        "from sklearn.datasets import make_moons\n",
        "\n",
        "X, y = make_moons(n_samples=500, noise=0.30, random_state=42)\n",
        "X_train, X_test, y_train, y_test = train_test_split(X, y, random_state=42)"
      ],
      "execution_count": null,
      "outputs": []
    },
    {
      "cell_type": "code",
      "metadata": {
        "id": "2ABrYv8GCiU9"
      },
      "source": [
        "from sklearn.ensemble import RandomForestClassifier\n",
        "from sklearn.ensemble import VotingClassifier\n",
        "from sklearn.linear_model import LogisticRegression\n",
        "from sklearn.svm import SVC\n",
        "\n",
        "log_clf = LogisticRegression(solver=\"liblinear\", random_state=42)\n",
        "rnd_clf = RandomForestClassifier(n_estimators=10, random_state=42)\n",
        "svm_clf = SVC(gamma=\"auto\", random_state=42)\n",
        "\n",
        "voting_clf = VotingClassifier(\n",
        "    estimators=[('lr', log_clf), ('rf', rnd_clf), ('svc', svm_clf)],\n",
        "    voting='hard')"
      ],
      "execution_count": null,
      "outputs": []
    },
    {
      "cell_type": "code",
      "metadata": {
        "id": "Gwh5mVzpCiVG",
        "colab": {
          "base_uri": "https://localhost:8080/",
          "height": 502
        },
        "outputId": "e84510c1-16ec-4ee5-816b-914e2d292cb9"
      },
      "source": [
        "voting_clf.fit(X_train, y_train)"
      ],
      "execution_count": null,
      "outputs": [
        {
          "output_type": "execute_result",
          "data": {
            "text/plain": [
              "VotingClassifier(estimators=[('lr',\n",
              "                              LogisticRegression(C=1.0, class_weight=None,\n",
              "                                                 dual=False, fit_intercept=True,\n",
              "                                                 intercept_scaling=1,\n",
              "                                                 l1_ratio=None, max_iter=100,\n",
              "                                                 multi_class='warn',\n",
              "                                                 n_jobs=None, penalty='l2',\n",
              "                                                 random_state=42,\n",
              "                                                 solver='liblinear', tol=0.0001,\n",
              "                                                 verbose=0, warm_start=False)),\n",
              "                             ('rf',\n",
              "                              RandomForestClassifier(bootstrap=True,\n",
              "                                                     class_weight=None,\n",
              "                                                     criterion='gin...\n",
              "                                                     n_estimators=10,\n",
              "                                                     n_jobs=None,\n",
              "                                                     oob_score=False,\n",
              "                                                     random_state=42, verbose=0,\n",
              "                                                     warm_start=False)),\n",
              "                             ('svc',\n",
              "                              SVC(C=1.0, cache_size=200, class_weight=None,\n",
              "                                  coef0=0.0, decision_function_shape='ovr',\n",
              "                                  degree=3, gamma='auto', kernel='rbf',\n",
              "                                  max_iter=-1, probability=False,\n",
              "                                  random_state=42, shrinking=True, tol=0.001,\n",
              "                                  verbose=False))],\n",
              "                 flatten_transform=True, n_jobs=None, voting='hard',\n",
              "                 weights=None)"
            ]
          },
          "metadata": {
            "tags": []
          },
          "execution_count": 6
        }
      ]
    },
    {
      "cell_type": "code",
      "metadata": {
        "id": "CUst3fhKCiVR",
        "colab": {
          "base_uri": "https://localhost:8080/",
          "height": 86
        },
        "outputId": "ff299ec1-9cbb-4ec3-9e5d-ab16c59100e8"
      },
      "source": [
        "from sklearn.metrics import accuracy_score\n",
        "\n",
        "for clf in (log_clf, rnd_clf, svm_clf, voting_clf):\n",
        "    clf.fit(X_train, y_train)\n",
        "    y_pred = clf.predict(X_test)\n",
        "    print(clf.__class__.__name__, accuracy_score(y_test, y_pred))"
      ],
      "execution_count": null,
      "outputs": [
        {
          "output_type": "stream",
          "text": [
            "LogisticRegression 0.864\n",
            "RandomForestClassifier 0.872\n",
            "SVC 0.888\n",
            "VotingClassifier 0.896\n"
          ],
          "name": "stdout"
        }
      ]
    },
    {
      "cell_type": "code",
      "metadata": {
        "id": "q9OJfU84CiVh",
        "colab": {
          "base_uri": "https://localhost:8080/",
          "height": 502
        },
        "outputId": "d0428642-3f99-4782-eaba-79fcb5d6817e"
      },
      "source": [
        "log_clf = LogisticRegression(solver=\"liblinear\", random_state=42)\n",
        "rnd_clf = RandomForestClassifier(n_estimators=10, random_state=42)\n",
        "svm_clf = SVC(gamma=\"auto\", probability=True, random_state=42)\n",
        "\n",
        "voting_clf = VotingClassifier(\n",
        "    estimators=[('lr', log_clf), ('rf', rnd_clf), ('svc', svm_clf)],\n",
        "    voting='soft')\n",
        "voting_clf.fit(X_train, y_train)"
      ],
      "execution_count": null,
      "outputs": [
        {
          "output_type": "execute_result",
          "data": {
            "text/plain": [
              "VotingClassifier(estimators=[('lr',\n",
              "                              LogisticRegression(C=1.0, class_weight=None,\n",
              "                                                 dual=False, fit_intercept=True,\n",
              "                                                 intercept_scaling=1,\n",
              "                                                 l1_ratio=None, max_iter=100,\n",
              "                                                 multi_class='warn',\n",
              "                                                 n_jobs=None, penalty='l2',\n",
              "                                                 random_state=42,\n",
              "                                                 solver='liblinear', tol=0.0001,\n",
              "                                                 verbose=0, warm_start=False)),\n",
              "                             ('rf',\n",
              "                              RandomForestClassifier(bootstrap=True,\n",
              "                                                     class_weight=None,\n",
              "                                                     criterion='gin...\n",
              "                                                     n_estimators=10,\n",
              "                                                     n_jobs=None,\n",
              "                                                     oob_score=False,\n",
              "                                                     random_state=42, verbose=0,\n",
              "                                                     warm_start=False)),\n",
              "                             ('svc',\n",
              "                              SVC(C=1.0, cache_size=200, class_weight=None,\n",
              "                                  coef0=0.0, decision_function_shape='ovr',\n",
              "                                  degree=3, gamma='auto', kernel='rbf',\n",
              "                                  max_iter=-1, probability=True,\n",
              "                                  random_state=42, shrinking=True, tol=0.001,\n",
              "                                  verbose=False))],\n",
              "                 flatten_transform=True, n_jobs=None, voting='soft',\n",
              "                 weights=None)"
            ]
          },
          "metadata": {
            "tags": []
          },
          "execution_count": 8
        }
      ]
    },
    {
      "cell_type": "code",
      "metadata": {
        "id": "ERSkG-ttCiV0",
        "colab": {
          "base_uri": "https://localhost:8080/",
          "height": 86
        },
        "outputId": "4c010223-e2ed-4888-b03d-20e572256b32"
      },
      "source": [
        "from sklearn.metrics import accuracy_score\n",
        "\n",
        "for clf in (log_clf, rnd_clf, svm_clf, voting_clf):\n",
        "    clf.fit(X_train, y_train)\n",
        "    y_pred = clf.predict(X_test)\n",
        "    print(clf.__class__.__name__, accuracy_score(y_test, y_pred))"
      ],
      "execution_count": null,
      "outputs": [
        {
          "output_type": "stream",
          "text": [
            "LogisticRegression 0.864\n",
            "RandomForestClassifier 0.872\n",
            "SVC 0.888\n",
            "VotingClassifier 0.912\n"
          ],
          "name": "stdout"
        }
      ]
    },
    {
      "cell_type": "markdown",
      "metadata": {
        "id": "PJkiyPPvCiWF"
      },
      "source": [
        "# Bagging ensembles"
      ]
    },
    {
      "cell_type": "code",
      "metadata": {
        "id": "_OouZmQXCiWI"
      },
      "source": [
        "from sklearn.ensemble import BaggingClassifier\n",
        "from sklearn.tree import DecisionTreeClassifier\n",
        "\n",
        "bag_clf = BaggingClassifier(\n",
        "    DecisionTreeClassifier(random_state=42), n_estimators=500,\n",
        "    max_samples=100, bootstrap=True, n_jobs=-1, random_state=42)\n",
        "bag_clf.fit(X_train, y_train)\n",
        "y_pred = bag_clf.predict(X_test)"
      ],
      "execution_count": null,
      "outputs": []
    },
    {
      "cell_type": "code",
      "metadata": {
        "id": "pImCzp0OCiWc",
        "colab": {
          "base_uri": "https://localhost:8080/",
          "height": 34
        },
        "outputId": "1696bb5b-afde-4792-fc44-2460c7902afe"
      },
      "source": [
        "from sklearn.metrics import accuracy_score\n",
        "print(accuracy_score(y_test, y_pred))"
      ],
      "execution_count": null,
      "outputs": [
        {
          "output_type": "stream",
          "text": [
            "0.904\n"
          ],
          "name": "stdout"
        }
      ]
    },
    {
      "cell_type": "code",
      "metadata": {
        "id": "XKvReSfZCiWp",
        "colab": {
          "base_uri": "https://localhost:8080/",
          "height": 34
        },
        "outputId": "50fd941e-7805-40b6-b7b1-eedd73a026bd"
      },
      "source": [
        "tree_clf = DecisionTreeClassifier(random_state=42)\n",
        "tree_clf.fit(X_train, y_train)\n",
        "y_pred_tree = tree_clf.predict(X_test)\n",
        "print(accuracy_score(y_test, y_pred_tree))"
      ],
      "execution_count": null,
      "outputs": [
        {
          "output_type": "stream",
          "text": [
            "0.856\n"
          ],
          "name": "stdout"
        }
      ]
    },
    {
      "cell_type": "code",
      "metadata": {
        "id": "p1urKSwoCiXK"
      },
      "source": [
        "from matplotlib.colors import ListedColormap\n",
        "\n",
        "def plot_decision_boundary(clf, X, y, axes=[-1.5, 2.5, -1, 1.5], alpha=0.5, contour=True):\n",
        "    x1s = np.linspace(axes[0], axes[1], 100)\n",
        "    x2s = np.linspace(axes[2], axes[3], 100)\n",
        "    x1, x2 = np.meshgrid(x1s, x2s)\n",
        "    X_new = np.c_[x1.ravel(), x2.ravel()]\n",
        "    y_pred = clf.predict(X_new).reshape(x1.shape)\n",
        "    custom_cmap = ListedColormap(['#fafab0','#9898ff','#a0faa0'])\n",
        "    plt.contourf(x1, x2, y_pred, alpha=0.3, cmap=custom_cmap)\n",
        "    if contour:\n",
        "        custom_cmap2 = ListedColormap(['#7d7d58','#4c4c7f','#507d50'])\n",
        "        plt.contour(x1, x2, y_pred, cmap=custom_cmap2, alpha=0.8)\n",
        "    plt.plot(X[:, 0][y==0], X[:, 1][y==0], \"yo\", alpha=alpha)\n",
        "    plt.plot(X[:, 0][y==1], X[:, 1][y==1], \"bs\", alpha=alpha)\n",
        "    plt.axis(axes)\n",
        "    plt.xlabel(r\"$x_1$\", fontsize=18)\n",
        "    plt.ylabel(r\"$x_2$\", fontsize=18, rotation=0)"
      ],
      "execution_count": null,
      "outputs": []
    },
    {
      "cell_type": "code",
      "metadata": {
        "id": "ygeGJkNNCiXd",
        "colab": {
          "base_uri": "https://localhost:8080/",
          "height": 334
        },
        "outputId": "e4b42fdf-a3ea-48bc-edb9-f270fd087304"
      },
      "source": [
        "plt.figure(figsize=(11,4))\n",
        "plt.subplot(121)\n",
        "plot_decision_boundary(tree_clf, X, y)\n",
        "plt.title(\"Decision Tree\", fontsize=14)\n",
        "plt.subplot(122)\n",
        "plot_decision_boundary(bag_clf, X, y)\n",
        "plt.title(\"Decision Trees with Bagging\", fontsize=14)\n",
        "save_fig(\"decision_tree_without_and_with_bagging_plot\")\n",
        "plt.show()"
      ],
      "execution_count": null,
      "outputs": [
        {
          "output_type": "stream",
          "text": [
            "Saving figure decision_tree_without_and_with_bagging_plot\n"
          ],
          "name": "stdout"
        },
        {
          "output_type": "display_data",
          "data": {
            "image/png": "[encoded data removed]",
            "text/plain": [
              "<Figure size 792x288 with 2 Axes>"
            ]
          },
          "metadata": {
            "tags": []
          }
        }
      ]
    },
    {
      "cell_type": "markdown",
      "metadata": {
        "id": "y84O9csnCiXt"
      },
      "source": [
        "# Random Forests"
      ]
    },
    {
      "cell_type": "code",
      "metadata": {
        "id": "EZuuhxcUCiX_"
      },
      "source": [
        "bag_clf = BaggingClassifier(\n",
        "    DecisionTreeClassifier(splitter=\"random\", max_leaf_nodes=16, random_state=42),\n",
        "    n_estimators=500, max_samples=1.0, bootstrap=True, n_jobs=-1, random_state=42)"
      ],
      "execution_count": null,
      "outputs": []
    },
    {
      "cell_type": "code",
      "metadata": {
        "id": "5BneKOnsCiYO"
      },
      "source": [
        "bag_clf.fit(X_train, y_train)\n",
        "y_pred = bag_clf.predict(X_test)"
      ],
      "execution_count": null,
      "outputs": []
    },
    {
      "cell_type": "code",
      "metadata": {
        "id": "nUV1RunOCiYm"
      },
      "source": [
        "from sklearn.ensemble import RandomForestClassifier\n",
        "\n",
        "rnd_clf = RandomForestClassifier(n_estimators=500, max_leaf_nodes=16, n_jobs=-1, random_state=42)\n",
        "rnd_clf.fit(X_train, y_train)\n",
        "\n",
        "y_pred_rf = rnd_clf.predict(X_test)"
      ],
      "execution_count": null,
      "outputs": []
    },
    {
      "cell_type": "code",
      "metadata": {
        "id": "P-ZOWZOaCiY6",
        "colab": {
          "base_uri": "https://localhost:8080/",
          "height": 34
        },
        "outputId": "55b2d09b-6a53-4561-d96e-551d8c7792ec"
      },
      "source": [
        "np.sum(y_pred == y_pred_rf) / len(y_pred)  # almost identical predictions"
      ],
      "execution_count": null,
      "outputs": [
        {
          "output_type": "execute_result",
          "data": {
            "text/plain": [
              "0.976"
            ]
          },
          "metadata": {
            "tags": []
          },
          "execution_count": 18
        }
      ]
    },
    {
      "cell_type": "code",
      "metadata": {
        "id": "mudM1tu3CiZL",
        "colab": {
          "base_uri": "https://localhost:8080/",
          "height": 86
        },
        "outputId": "0597f3be-09b8-4045-b82c-0256963c1fb6"
      },
      "source": [
        "from sklearn.datasets import load_iris\n",
        "iris = load_iris()\n",
        "rnd_clf = RandomForestClassifier(n_estimators=500, n_jobs=-1, random_state=42)\n",
        "rnd_clf.fit(iris[\"data\"], iris[\"target\"])\n",
        "for name, score in zip(iris[\"feature_names\"], rnd_clf.feature_importances_):\n",
        "    print(name, score)"
      ],
      "execution_count": null,
      "outputs": [
        {
          "output_type": "stream",
          "text": [
            "sepal length (cm) 0.11249225099876375\n",
            "sepal width (cm) 0.02311928828251033\n",
            "petal length (cm) 0.4410304643639577\n",
            "petal width (cm) 0.4233579963547682\n"
          ],
          "name": "stdout"
        }
      ]
    },
    {
      "cell_type": "code",
      "metadata": {
        "id": "5eO6hYj4CiZU",
        "colab": {
          "base_uri": "https://localhost:8080/",
          "height": 34
        },
        "outputId": "e1895a46-3413-4550-a0a4-01076498b4cd"
      },
      "source": [
        "rnd_clf.feature_importances_"
      ],
      "execution_count": null,
      "outputs": [
        {
          "output_type": "execute_result",
          "data": {
            "text/plain": [
              "array([0.11249225, 0.02311929, 0.44103046, 0.423358  ])"
            ]
          },
          "metadata": {
            "tags": []
          },
          "execution_count": 20
        }
      ]
    },
    {
      "cell_type": "code",
      "metadata": {
        "id": "1LmjZvTRCiZd",
        "colab": {
          "base_uri": "https://localhost:8080/",
          "height": 302
        },
        "outputId": "d87ebc4a-91d8-4ce9-978b-46aac117c6dc"
      },
      "source": [
        "features = iris['feature_names']\n",
        "importances = rnd_clf.feature_importances_\n",
        "indices = np.argsort(importances)\n",
        "\n",
        "plt.title('Feature Importances')\n",
        "plt.barh(range(len(indices)), importances[indices], color='b', align='center')\n",
        "plt.yticks(range(len(indices)), [features[i] for i in indices])\n",
        "plt.xlabel('Relative Importance')\n",
        "plt.show()"
      ],
      "execution_count": null,
      "outputs": [
        {
          "output_type": "display_data",
          "data": {
            "image/png": "[encoded data removed]",
            "text/plain": [
              "<Figure size 432x288 with 1 Axes>"
            ]
          },
          "metadata": {
            "tags": []
          }
        }
      ]
    },
    {
      "cell_type": "code",
      "metadata": {
        "id": "DpLnpBSBCiZw",
        "colab": {
          "base_uri": "https://localhost:8080/",
          "height": 296
        },
        "outputId": "c7434059-0aea-4bd9-a87f-8c0389f4687c"
      },
      "source": [
        "plt.figure(figsize=(6, 4))\n",
        "\n",
        "for i in range(15):\n",
        "    tree_clf = DecisionTreeClassifier(max_leaf_nodes=16, random_state=42 + i)\n",
        "    indices_with_replacement = np.random.randint(0, len(X_train), len(X_train))\n",
        "    tree_clf.fit(X[indices_with_replacement], y[indices_with_replacement])\n",
        "    plot_decision_boundary(tree_clf, X, y, axes=[-1.5, 2.5, -1, 1.5], alpha=0.02, contour=False)\n",
        "\n",
        "plt.show()"
      ],
      "execution_count": null,
      "outputs": [
        {
          "output_type": "display_data",
          "data": {
            "image/png": "[encoded data removed]",
            "text/plain": [
              "<Figure size 432x288 with 1 Axes>"
            ]
          },
          "metadata": {
            "tags": []
          }
        }
      ]
    },
    {
      "cell_type": "markdown",
      "metadata": {
        "id": "MEf2FUrXCiZ4"
      },
      "source": [
        "### Applying a Random Forest and XGBoost model to Bankruptcy"
      ]
    },
    {
      "cell_type": "markdown",
      "metadata": {
        "id": "MlfqmnywCiZ6"
      },
      "source": [
        "The following datasets have been set up so that we can predict a bankruptcy one (df_1) and two (df_2) years in advance. "
      ]
    },
    {
      "cell_type": "code",
      "metadata": {
        "id": "6vOfzU9xCiZ8",
        "colab": {
          "base_uri": "https://localhost:8080/",
          "height": 52
        },
        "outputId": "3e229ee4-1f5c-4a39-bd3f-6e62a6cba8da"
      },
      "source": [
        "from pathlib import Path\n",
        "import pandas as pd\n",
        "import numpy as np\n",
        "\n",
        "github_p = \"https://raw.githubusercontent.com/Finance-781/FinML/master/Lecture%206%20-%20Ensembles/Inclass/\"\n",
        "\n",
        "my_file = Path(\"data/one_year.csv\") # Defines path\n",
        "if my_file.is_file():              # See if file exists\n",
        "    print(\"Local file found\")      \n",
        "    df_1 = pd.read_csv(\"data/one_year.csv\")\n",
        "    df_2 = pd.read_csv(\"data/two_year.csv\")\n",
        "else:\n",
        "    print(\"Be patient: loading from github (2 minutes)\")\n",
        "    df_1 = pd.read_csv(github_p+'data/one_year.csv')\n",
        "    df_2 = pd.read_csv(github_p+'data/two_year.csv')\n",
        "    print(\"Done\")\n",
        "\n"
      ],
      "execution_count": null,
      "outputs": [
        {
          "output_type": "stream",
          "text": [
            "Be patient: loading from github (2 minutes)\n",
            "Done\n"
          ],
          "name": "stdout"
        }
      ]
    },
    {
      "cell_type": "code",
      "metadata": {
        "id": "PTF0jlPLCiaE"
      },
      "source": [
        "## Lets put the files in a dictionary\n",
        "df = {}\n",
        "df[0] = df_1\n",
        "df[1] = df_2"
      ],
      "execution_count": null,
      "outputs": []
    },
    {
      "cell_type": "markdown",
      "metadata": {
        "id": "7r5vPUXuCiaY"
      },
      "source": [
        "### Dealing With Imbalanced Data"
      ]
    },
    {
      "cell_type": "markdown",
      "metadata": {
        "id": "BKX633UACiaa"
      },
      "source": [
        "Data Imbalance is a condition where the samples belonging to one or more 'majority' class labels of a labelled dataset heavily outnumber the sample belonging to the other 'minority' classes. It critically affects the modeling as the models won't have sufficient data belonging to minority classes to train on and this leads to biased models, ultimately leading to poor performance on test data."
      ]
    },
    {
      "cell_type": "code",
      "metadata": {
        "id": "px57XmNVCiad",
        "colab": {
          "base_uri": "https://localhost:8080/",
          "height": 260
        },
        "outputId": "5f9160e7-7155-4d0c-a3bd-3f1a36e4afe9"
      },
      "source": [
        "\n",
        "def check_data_imbalance(dfs):\n",
        "    for i in range(len(dfs)):\n",
        "        print('Dataset: '+str(i+1)+'year')\n",
        "        print(dfs[i].groupby('Y').size())\n",
        "        minority_percent = (dfs[i]['Y'].tolist().count(1) / len(dfs[i]['Y'].tolist()))*100\n",
        "        print('Minority (label 1) percentage: '+  str(minority_percent) + '%')\n",
        "        print('-'*64)\n",
        "        \n",
        "check_data_imbalance(df)\n",
        "\n"
      ],
      "execution_count": null,
      "outputs": [
        {
          "output_type": "stream",
          "text": [
            "Dataset: 1year\n",
            "Y\n",
            "0.0    6756\n",
            "1.0     271\n",
            "dtype: int64\n",
            "Minority (label 1) percentage: 3.856553294435748%\n",
            "----------------------------------------------------------------\n",
            "Dataset: 2year\n",
            "Y\n",
            "0.0    9773\n",
            "1.0     400\n",
            "dtype: int64\n",
            "Minority (label 1) percentage: 3.931976801336872%\n",
            "----------------------------------------------------------------\n"
          ],
          "name": "stdout"
        }
      ]
    },
    {
      "cell_type": "markdown",
      "metadata": {
        "id": "hLD4euNBCia1"
      },
      "source": [
        "#### Oversampling with SMOTE (Synthetic Minority Over Sampling Technique)"
      ]
    },
    {
      "cell_type": "code",
      "metadata": {
        "id": "In3bBl3HCia4",
        "colab": {
          "base_uri": "https://localhost:8080/",
          "height": 228
        },
        "outputId": "bcad45ed-2558-47fb-cf79-1b54d9a25efc"
      },
      "source": [
        "from collections import OrderedDict\n",
        "from imblearn.over_sampling import SMOTE \n",
        "from collections import Counter\n",
        "from xgboost import XGBClassifier\n",
        "\n",
        "def set_new_headers(dataframes):\n",
        "    cols = ['X' + str(i+1) for i in range(len(dataframes[0].columns)-1)]\n",
        "    cols.append('Y')\n",
        "    for df in dataframes:\n",
        "        df.columns = cols\n",
        "\n",
        "# Split the features and labels into separate dataframes for all the original dataframes\n",
        "def split_dataframes_features_labels(dfs):\n",
        "    feature_dfs = [dfs[i].iloc[:,0:64] for i in range(len(dfs))]\n",
        "    label_dfs = [dfs[i].iloc[:,64] for i in range(len(dfs))]\n",
        "    return feature_dfs, label_dfs\n",
        "\n",
        "# Performs the SMOTE oversampling fro given dataframes.\n",
        "def oversample_data_SMOTE(dfs, verbose=False):\n",
        "    smote = SMOTE(ratio='auto' , random_state=42, k_neighbors=10)\n",
        "    #Split the features and labels for each dataframe\n",
        "    feature_dfs, label_dfs = split_dataframes_features_labels(dfs)\n",
        "    resampled_feature_arrays = []\n",
        "    resampled_label_arrays = []\n",
        "    for i in range(len(dfs)):\n",
        "        if verbose: print('Dataset: ' + str(i+1) + 'year:')\n",
        "        if verbose: print('Original dataset shape {}'.format(Counter(label_dfs[i])))\n",
        "        dfi_features_res, dfi_label_res = smote.fit_sample(feature_dfs[i], label_dfs[i])\n",
        "        if verbose: print('Resampled dataset shape {}\\n'.format(Counter(dfi_label_res)))\n",
        "        # Append the resampled feature and label arrays of ith dataframe to their respective list of arrays    \n",
        "        resampled_feature_arrays.append(dfi_features_res)\n",
        "        resampled_label_arrays.append(dfi_label_res)        \n",
        "    return resampled_feature_arrays, resampled_label_arrays\n",
        "\n",
        "# Utility Function to convert the arrays of features and labels to pandas dataframes, and then join them.\n",
        "# Also re-assign the columns headers.\n",
        "def restructure_arrays_to_dataframes(feature_arrays, label_arrays):\n",
        "    resampled_dfs = []\n",
        "    for i in range(len(feature_arrays)):\n",
        "        feature_df = pd.DataFrame(data=feature_arrays[i])\n",
        "        label_df = pd.DataFrame(data=label_arrays[i])\n",
        "        # Must set the column header for label_df, otherwise it wont join with feature_df, as columns overlap (with col names '0')\n",
        "        label_df.columns=['Y'] \n",
        "        resampled_dfs.append(feature_df.join(label_df))\n",
        "    # re-assign the column headers for features and labels    \n",
        "    set_new_headers(resampled_dfs)    \n",
        "    return resampled_dfs\n",
        "\n",
        "# Perform SMOTE oversampling on all the imputed dataframes, and return them in a dictionary.\n",
        "def perform_oversampling(dfs):\n",
        "\n",
        "    smote_feature_arrays, smote_label_arrays = oversample_data_SMOTE(dfs, verbose=True)\n",
        "    oversampled_dataframes = restructure_arrays_to_dataframes(smote_feature_arrays, smote_label_arrays)\n",
        "    print('-'*100)\n",
        "    return oversampled_dataframes\n",
        "\n",
        "oversampled_df = perform_oversampling(df)"
      ],
      "execution_count": null,
      "outputs": [
        {
          "output_type": "stream",
          "text": [
            "/usr/local/lib/python3.6/dist-packages/sklearn/externals/six.py:31: DeprecationWarning: The module is deprecated in version 0.21 and will be removed in version 0.23 since we've dropped support for Python 2.7. Please rely on the official version of six (https://pypi.org/project/six/).\n",
            "  \"(https://pypi.org/project/six/).\", DeprecationWarning)\n"
          ],
          "name": "stderr"
        },
        {
          "output_type": "stream",
          "text": [
            "Dataset: 1year:\n",
            "Original dataset shape Counter({0.0: 6756, 1.0: 271})\n",
            "Resampled dataset shape Counter({0.0: 6756, 1.0: 6756})\n",
            "\n",
            "Dataset: 2year:\n",
            "Original dataset shape Counter({0.0: 9773, 1.0: 400})\n",
            "Resampled dataset shape Counter({0.0: 9773, 1.0: 9773})\n",
            "\n",
            "----------------------------------------------------------------------------------------------------\n"
          ],
          "name": "stdout"
        }
      ]
    },
    {
      "cell_type": "markdown",
      "metadata": {
        "id": "Q2AhvJxvCibD"
      },
      "source": [
        "### Building Classification Model"
      ]
    },
    {
      "cell_type": "markdown",
      "metadata": {
        "id": "MoCpTos5CibF"
      },
      "source": [
        "#### Cross-Validation"
      ]
    },
    {
      "cell_type": "code",
      "metadata": {
        "id": "pr6vmcsBCibG"
      },
      "source": [
        "def prepare_kfold_cv_data(k, X, y, verbose=False):\n",
        "    X = X.values\n",
        "    y = y.values\n",
        "    kf = KFold(n_splits=k, shuffle=False, random_state=42)\n",
        "    X_train = []\n",
        "    y_train = []\n",
        "    X_test = []\n",
        "    y_test = []\n",
        "    \n",
        "    for train_index, test_index in kf.split(X):\n",
        "        X_train.append(X[train_index])\n",
        "        y_train.append(y[train_index])\n",
        "        X_test.append(X[test_index])\n",
        "        y_test.append(y[test_index])\n",
        "    return X_train, y_train, X_test, y_test"
      ],
      "execution_count": null,
      "outputs": []
    },
    {
      "cell_type": "markdown",
      "metadata": {
        "id": "pYFtklx6CibP"
      },
      "source": [
        "#### Random Forest Model"
      ]
    },
    {
      "cell_type": "code",
      "metadata": {
        "id": "56paVfDiCibR"
      },
      "source": [
        "# Random Forest Classifier\n",
        "rf_classifier = RandomForestClassifier(n_estimators = 5, criterion = 'entropy')"
      ],
      "execution_count": null,
      "outputs": []
    },
    {
      "cell_type": "markdown",
      "metadata": {
        "id": "9BAfDevhCibf"
      },
      "source": [
        "#### XGBoost Model"
      ]
    },
    {
      "cell_type": "code",
      "metadata": {
        "id": "0Yr5XPirCibv"
      },
      "source": [
        "# eXtreme Gradient Boosting Classifier (XGBClassifier)\n",
        "xgb_classifier = XGBClassifier()"
      ],
      "execution_count": null,
      "outputs": []
    },
    {
      "cell_type": "code",
      "metadata": {
        "id": "8hyV0vklCib1"
      },
      "source": [
        "# creating a dictionary of models\n",
        "models_dictionary = OrderedDict()\n",
        "\n",
        "models_dictionary['Random Forest'] = rf_classifier\n",
        "models_dictionary['Extreme Gradient Boosting'] = xgb_classifier\n"
      ],
      "execution_count": null,
      "outputs": []
    },
    {
      "cell_type": "markdown",
      "metadata": {
        "id": "v8jZ91IECib_"
      },
      "source": [
        "#### Perform Data Modeling"
      ]
    },
    {
      "cell_type": "code",
      "metadata": {
        "id": "zHY2ZjKHCicB"
      },
      "source": [
        "import numpy\n"
      ],
      "execution_count": null,
      "outputs": []
    },
    {
      "cell_type": "code",
      "metadata": {
        "id": "Qe3-OMC-CicS"
      },
      "source": [
        "feature_dfs, label_dfs = split_dataframes_features_labels(oversampled_df) "
      ],
      "execution_count": null,
      "outputs": []
    },
    {
      "cell_type": "code",
      "metadata": {
        "id": "DDCMYYfJCicZ"
      },
      "source": [
        "from sklearn.model_selection import KFold\n",
        "from sklearn.metrics import accuracy_score\n",
        "from sklearn.metrics import precision_score\n",
        "from sklearn.metrics import recall_score\n",
        "from sklearn.metrics import classification_report\n",
        "from sklearn.metrics import confusion_matrix\n",
        "from sklearn.metrics import roc_curve\n",
        "from sklearn.metrics import precision_recall_curve\n",
        "from sklearn.metrics import roc_auc_score\n",
        "\n",
        "def perform_data_modeling(_models_, _imputers_, verbose=False, k_folds=5):\n",
        "    \n",
        "    # 2 Models\n",
        "    # 2 datasets (year_1, year_2)\n",
        "    # 7 metrics, averaged over all the K-Folds\n",
        "    model_results = OrderedDict()\n",
        "    \n",
        "    # Iterate over the models\n",
        "    for model_name, clf in _models_.items():\n",
        "        if verbose: print(\"-\"*120, \"\\n\", \"Model: \" + '\\033[1m' + model_name + '\\033[0m' + \" Classifier\")\n",
        "\n",
        "        # call the split_dataframes_features_labels function to get a list of features and labels for all the dataframes\n",
        "        feature_dfs, label_dfs = split_dataframes_features_labels(oversampled_df)            \n",
        "\n",
        "        year_results = OrderedDict()\n",
        "\n",
        "        # Iterate over dataframe_list individually\n",
        "        for df_index in range(len(oversampled_df)):\n",
        "            if verbose: print('\\t\\tDataset: ' + '\\033[1m' + str(df_index+1) + 'year' + '\\033[0m')\n",
        "\n",
        "            # Calling the 'prepare_kfold_cv_data' returns lists of features and labels \n",
        "            # for train and test sets respectively.\n",
        "            # The number of items in the list is equal to k_folds\n",
        "            X_train_list, y_train_list, X_test_list, y_test_list = prepare_kfold_cv_data(k_folds, feature_dfs[df_index], label_dfs[df_index], verbose)\n",
        "\n",
        "            metrics_results = OrderedDict()\n",
        "            accuracy_list = np.zeros([k_folds])\n",
        "            precision_list = np.zeros([k_folds,2])\n",
        "            recall_list = np.zeros([k_folds,2])\n",
        "            roc_au_list = np.zeros([k_folds,2])\n",
        "            TN_list = np.zeros([k_folds])\n",
        "            FP_list = np.zeros([k_folds])\n",
        "            FN_list = np.zeros([k_folds])\n",
        "            TP_list = np.zeros([k_folds])                \n",
        "\n",
        "            # Iterate over all the k-folds\n",
        "            for k_index in range(k_folds):\n",
        "                X_train = X_train_list[k_index]\n",
        "                y_train = y_train_list[k_index]\n",
        "                X_test = X_test_list[k_index]\n",
        "                y_test = y_test_list[k_index]\n",
        "\n",
        "\n",
        "                # Fit the model and \n",
        "                clf = clf.fit(X_train, y_train)\n",
        "                y_test_predicted = clf.predict(X_test)\n",
        "                \n",
        "                y_test_predicted_prob = clf.predict_proba(X_test)\n",
        "\n",
        "                #code for calculating accuracy \n",
        "                _accuracy_ = accuracy_score(y_test, y_test_predicted, normalize=True)\n",
        "                accuracy_list[k_index] = _accuracy_\n",
        "\n",
        "                #code for calculating recall \n",
        "                _recalls_ = recall_score(y_test, y_test_predicted, average=None)\n",
        "                recall_list[k_index] = _recalls_\n",
        "                \n",
        "                _roc_au_ = roc_auc_score(y_test, y_test_predicted)\n",
        "                roc_au_list[k_index] = _roc_au_\n",
        "\n",
        "                #code for calculating precision \n",
        "                _precisions_ = precision_score(y_test, y_test_predicted, average=None)\n",
        "                precision_list[k_index] = _precisions_\n",
        "\n",
        "                #code for calculating confusion matrix \n",
        "                _confusion_matrix_ = confusion_matrix(y_test, y_test_predicted)\n",
        "                TN_list[k_index] = _confusion_matrix_[0][0]\n",
        "                FP_list[k_index] = _confusion_matrix_[0][1]\n",
        "                FN_list[k_index] = _confusion_matrix_[1][0]\n",
        "                TP_list[k_index] = _confusion_matrix_[1][1]\n",
        "\n",
        "            # creating a metrics dictionary\n",
        "            metrics_results['Accuracy'] = np.mean(accuracy_list)\n",
        "            metrics_results['Precisions'] = np.mean(precision_list, axis=0)\n",
        "            metrics_results['Recalls'] = np.mean(recall_list, axis=0)\n",
        "            metrics_results['ROC AUC'] = np.mean(roc_au_list, axis=0)\n",
        "            metrics_results['TN'] = np.mean(TN_list)\n",
        "            metrics_results['FP'] = np.mean(FP_list)\n",
        "            metrics_results['FN'] = np.mean(FN_list)\n",
        "            metrics_results['TP'] = np.mean(TP_list)\n",
        "\n",
        "            if verbose:\n",
        "                print('\\t\\t\\tAccuracy:', metrics_results['Accuracy'])\n",
        "                print('\\t\\t\\tPrecision:', metrics_results['Precisions'])\n",
        "                print('\\t\\t\\tRecall:', metrics_results['Recalls'])\n",
        "                print('\\t\\t\\tRoc AUC:', metrics_results['ROC AUC'][0])\n",
        "\n",
        "            year_results[str(df_index+1)+'year'] = metrics_results   \n",
        "    \n",
        "            \n",
        "        model_results[model_name] = year_results  \n",
        "        \n",
        "    return model_results"
      ],
      "execution_count": null,
      "outputs": []
    },
    {
      "cell_type": "code",
      "metadata": {
        "id": "mSogbF8nCich"
      },
      "source": [
        "### Randomising Order\n",
        "oversampled_df[0] = oversampled_df[0].sample(len(oversampled_df[0]))\n",
        "oversampled_df[1] = oversampled_df[1].sample(len(oversampled_df[1]))"
      ],
      "execution_count": null,
      "outputs": []
    },
    {
      "cell_type": "code",
      "metadata": {
        "id": "FV8Zl0RKCicr",
        "colab": {
          "base_uri": "https://localhost:8080/",
          "height": 453
        },
        "outputId": "015a4d79-f2bb-4879-9ec4-ec16d2d377da"
      },
      "source": [
        "### We would expect XGBoost to perform better, so some hyperperamater tuning might be necessary. \n",
        "results = perform_data_modeling(models_dictionary, oversampled_df, verbose=True, k_folds=5)"
      ],
      "execution_count": null,
      "outputs": [
        {
          "output_type": "stream",
          "text": [
            "------------------------------------------------------------------------------------------------------------------------ \n",
            " Model: \u001b[1mRandom Forest\u001b[0m Classifier\n",
            "\t\tDataset: \u001b[1m1year\u001b[0m\n",
            "\t\t\tAccuracy: 0.9694341046615147\n",
            "\t\t\tPrecision: [0.97554328 0.96343702]\n",
            "\t\t\tRecall: [0.96304489 0.97588902]\n",
            "\t\t\tRoc AUC: 0.9694669590932747\n",
            "\t\tDataset: \u001b[1m2year\u001b[0m\n",
            "\t\t\tAccuracy: 0.9618337772561059\n",
            "\t\t\tPrecision: [0.96835929 0.95548048]\n",
            "\t\t\tRecall: [0.9548793  0.96877466]\n",
            "\t\t\tRoc AUC: 0.9618269791427349\n",
            "------------------------------------------------------------------------------------------------------------------------ \n",
            " Model: \u001b[1mExtreme Gradient Boosting\u001b[0m Classifier\n",
            "\t\tDataset: \u001b[1m1year\u001b[0m\n",
            "\t\t\tAccuracy: 0.9602569231818252\n",
            "\t\t\tPrecision: [0.95507422 0.96557487]\n",
            "\t\t\tRecall: [0.9660027  0.95458992]\n",
            "\t\t\tRoc AUC: 0.960296310199578\n",
            "\t\tDataset: \u001b[1m2year\u001b[0m\n",
            "\t\t\tAccuracy: 0.9477133560888735\n",
            "\t\t\tPrecision: [0.94128745 0.95431598]\n",
            "\t\t\tRecall: [0.95496429 0.94045467]\n",
            "\t\t\tRoc AUC: 0.9477094830044901\n"
          ],
          "name": "stdout"
        }
      ]
    },
    {
      "cell_type": "markdown",
      "metadata": {
        "id": "FTSSDaebDCKK"
      },
      "source": [
        "Credit: [Derek Snow](https://linkedin.com/company/firmai)"
      ]
    }
  ]
}