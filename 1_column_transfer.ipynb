{
  "nbformat": 4,
  "nbformat_minor": 0,
  "metadata": {
    "colab": {
      "name": "1_column-transfer.ipynb",
      "provenance": [],
      "collapsed_sections": [],
      "include_colab_link": true
    },
    "kernelspec": {
      "name": "python3",
      "display_name": "Python 3"
    },
    "language_info": {
      "name": "python"
    }
  },
  "cells": [
    {
      "cell_type": "markdown",
      "metadata": {
        "id": "view-in-github",
        "colab_type": "text"
      },
      "source": [
        "<a href=\"https://colab.research.google.com/github/sureshmecad/Google-Colab/blob/master/1_column_transfer.ipynb\" target=\"_parent\"><img src=\"https://colab.research.google.com/assets/colab-badge.svg\" alt=\"Open In Colab\"/></a>"
      ]
    },
    {
      "cell_type": "code",
      "metadata": {
        "colab": {
          "base_uri": "https://localhost:8080/"
        },
        "id": "OUjNiNMA-nJV",
        "outputId": "4ed3573e-e51d-4fbc-b547-3c375f55148c"
      },
      "source": [
        "from google.colab import drive\n",
        "drive.mount('/content/drive')"
      ],
      "execution_count": null,
      "outputs": [
        {
          "output_type": "stream",
          "name": "stdout",
          "text": [
            "Mounted at /content/drive\n"
          ]
        }
      ]
    },
    {
      "cell_type": "code",
      "metadata": {
        "id": "zpmznuah-17G"
      },
      "source": [
        "import numpy as np\n",
        "import pandas as pd\n",
        "\n",
        "import time\n",
        "from sklearn.model_selection import KFold, StratifiedKFold, cross_val_score, LeaveOneOut,RepeatedKFold, train_test_split\n",
        "from sklearn.preprocessing import OneHotEncoder, RobustScaler\n",
        "from sklearn.compose import ColumnTransformer\n",
        "from sklearn.pipeline import Pipeline\n",
        "from sklearn.ensemble import RandomForestClassifier"
      ],
      "execution_count": null,
      "outputs": []
    },
    {
      "cell_type": "code",
      "metadata": {
        "colab": {
          "base_uri": "https://localhost:8080/",
          "height": 305
        },
        "id": "JUW3MZLy_F39",
        "outputId": "74a4240e-ec90-48ac-94d4-69c5e57b3686"
      },
      "source": [
        "df = pd.read_csv(\"/content/drive/MyDrive/Datasets/Telco-Customer-Churn.zip\")\n",
        "df.head()"
      ],
      "execution_count": null,
      "outputs": [
        {
          "output_type": "execute_result",
          "data": {
            "text/html": [
              "<div>\n",
              "<style scoped>\n",
              "    .dataframe tbody tr th:only-of-type {\n",
              "        vertical-align: middle;\n",
              "    }\n",
              "\n",
              "    .dataframe tbody tr th {\n",
              "        vertical-align: top;\n",
              "    }\n",
              "\n",
              "    .dataframe thead th {\n",
              "        text-align: right;\n",
              "    }\n",
              "</style>\n",
              "<table border=\"1\" class=\"dataframe\">\n",
              "  <thead>\n",
              "    <tr style=\"text-align: right;\">\n",
              "      <th></th>\n",
              "      <th>customerID</th>\n",
              "      <th>gender</th>\n",
              "      <th>SeniorCitizen</th>\n",
              "      <th>Partner</th>\n",
              "      <th>Dependents</th>\n",
              "      <th>tenure</th>\n",
              "      <th>PhoneService</th>\n",
              "      <th>MultipleLines</th>\n",
              "      <th>InternetService</th>\n",
              "      <th>OnlineSecurity</th>\n",
              "      <th>OnlineBackup</th>\n",
              "      <th>DeviceProtection</th>\n",
              "      <th>TechSupport</th>\n",
              "      <th>StreamingTV</th>\n",
              "      <th>StreamingMovies</th>\n",
              "      <th>Contract</th>\n",
              "      <th>PaperlessBilling</th>\n",
              "      <th>PaymentMethod</th>\n",
              "      <th>MonthlyCharges</th>\n",
              "      <th>TotalCharges</th>\n",
              "      <th>Churn</th>\n",
              "    </tr>\n",
              "  </thead>\n",
              "  <tbody>\n",
              "    <tr>\n",
              "      <th>0</th>\n",
              "      <td>7590-VHVEG</td>\n",
              "      <td>Female</td>\n",
              "      <td>0</td>\n",
              "      <td>Yes</td>\n",
              "      <td>No</td>\n",
              "      <td>1</td>\n",
              "      <td>No</td>\n",
              "      <td>No phone service</td>\n",
              "      <td>DSL</td>\n",
              "      <td>No</td>\n",
              "      <td>Yes</td>\n",
              "      <td>No</td>\n",
              "      <td>No</td>\n",
              "      <td>No</td>\n",
              "      <td>No</td>\n",
              "      <td>Month-to-month</td>\n",
              "      <td>Yes</td>\n",
              "      <td>Electronic check</td>\n",
              "      <td>29.85</td>\n",
              "      <td>29.85</td>\n",
              "      <td>No</td>\n",
              "    </tr>\n",
              "    <tr>\n",
              "      <th>1</th>\n",
              "      <td>5575-GNVDE</td>\n",
              "      <td>Male</td>\n",
              "      <td>0</td>\n",
              "      <td>No</td>\n",
              "      <td>No</td>\n",
              "      <td>34</td>\n",
              "      <td>Yes</td>\n",
              "      <td>No</td>\n",
              "      <td>DSL</td>\n",
              "      <td>Yes</td>\n",
              "      <td>No</td>\n",
              "      <td>Yes</td>\n",
              "      <td>No</td>\n",
              "      <td>No</td>\n",
              "      <td>No</td>\n",
              "      <td>One year</td>\n",
              "      <td>No</td>\n",
              "      <td>Mailed check</td>\n",
              "      <td>56.95</td>\n",
              "      <td>1889.5</td>\n",
              "      <td>No</td>\n",
              "    </tr>\n",
              "    <tr>\n",
              "      <th>2</th>\n",
              "      <td>3668-QPYBK</td>\n",
              "      <td>Male</td>\n",
              "      <td>0</td>\n",
              "      <td>No</td>\n",
              "      <td>No</td>\n",
              "      <td>2</td>\n",
              "      <td>Yes</td>\n",
              "      <td>No</td>\n",
              "      <td>DSL</td>\n",
              "      <td>Yes</td>\n",
              "      <td>Yes</td>\n",
              "      <td>No</td>\n",
              "      <td>No</td>\n",
              "      <td>No</td>\n",
              "      <td>No</td>\n",
              "      <td>Month-to-month</td>\n",
              "      <td>Yes</td>\n",
              "      <td>Mailed check</td>\n",
              "      <td>53.85</td>\n",
              "      <td>108.15</td>\n",
              "      <td>Yes</td>\n",
              "    </tr>\n",
              "    <tr>\n",
              "      <th>3</th>\n",
              "      <td>7795-CFOCW</td>\n",
              "      <td>Male</td>\n",
              "      <td>0</td>\n",
              "      <td>No</td>\n",
              "      <td>No</td>\n",
              "      <td>45</td>\n",
              "      <td>No</td>\n",
              "      <td>No phone service</td>\n",
              "      <td>DSL</td>\n",
              "      <td>Yes</td>\n",
              "      <td>No</td>\n",
              "      <td>Yes</td>\n",
              "      <td>Yes</td>\n",
              "      <td>No</td>\n",
              "      <td>No</td>\n",
              "      <td>One year</td>\n",
              "      <td>No</td>\n",
              "      <td>Bank transfer (automatic)</td>\n",
              "      <td>42.30</td>\n",
              "      <td>1840.75</td>\n",
              "      <td>No</td>\n",
              "    </tr>\n",
              "    <tr>\n",
              "      <th>4</th>\n",
              "      <td>9237-HQITU</td>\n",
              "      <td>Female</td>\n",
              "      <td>0</td>\n",
              "      <td>No</td>\n",
              "      <td>No</td>\n",
              "      <td>2</td>\n",
              "      <td>Yes</td>\n",
              "      <td>No</td>\n",
              "      <td>Fiber optic</td>\n",
              "      <td>No</td>\n",
              "      <td>No</td>\n",
              "      <td>No</td>\n",
              "      <td>No</td>\n",
              "      <td>No</td>\n",
              "      <td>No</td>\n",
              "      <td>Month-to-month</td>\n",
              "      <td>Yes</td>\n",
              "      <td>Electronic check</td>\n",
              "      <td>70.70</td>\n",
              "      <td>151.65</td>\n",
              "      <td>Yes</td>\n",
              "    </tr>\n",
              "  </tbody>\n",
              "</table>\n",
              "</div>"
            ],
            "text/plain": [
              "   customerID  gender  SeniorCitizen  ... MonthlyCharges TotalCharges  Churn\n",
              "0  7590-VHVEG  Female              0  ...          29.85        29.85     No\n",
              "1  5575-GNVDE    Male              0  ...          56.95       1889.5     No\n",
              "2  3668-QPYBK    Male              0  ...          53.85       108.15    Yes\n",
              "3  7795-CFOCW    Male              0  ...          42.30      1840.75     No\n",
              "4  9237-HQITU  Female              0  ...          70.70       151.65    Yes\n",
              "\n",
              "[5 rows x 21 columns]"
            ]
          },
          "metadata": {},
          "execution_count": 4
        }
      ]
    },
    {
      "cell_type": "code",
      "metadata": {
        "colab": {
          "base_uri": "https://localhost:8080/"
        },
        "id": "nwSjA3NU_PKe",
        "outputId": "311b3014-b84b-42e5-ee0a-af32de28bd05"
      },
      "source": [
        "df.shape"
      ],
      "execution_count": null,
      "outputs": [
        {
          "output_type": "execute_result",
          "data": {
            "text/plain": [
              "(7043, 21)"
            ]
          },
          "metadata": {},
          "execution_count": 5
        }
      ]
    },
    {
      "cell_type": "code",
      "metadata": {
        "colab": {
          "base_uri": "https://localhost:8080/"
        },
        "id": "BrsG266HKQfs",
        "outputId": "8ccef750-4131-4e3b-f429-936a156efc68"
      },
      "source": [
        "df.info()"
      ],
      "execution_count": null,
      "outputs": [
        {
          "output_type": "stream",
          "name": "stdout",
          "text": [
            "<class 'pandas.core.frame.DataFrame'>\n",
            "RangeIndex: 7043 entries, 0 to 7042\n",
            "Data columns (total 20 columns):\n",
            " #   Column            Non-Null Count  Dtype  \n",
            "---  ------            --------------  -----  \n",
            " 0   gender            7043 non-null   object \n",
            " 1   SeniorCitizen     7043 non-null   int64  \n",
            " 2   Partner           7043 non-null   object \n",
            " 3   Dependents        7043 non-null   object \n",
            " 4   tenure            7043 non-null   int64  \n",
            " 5   PhoneService      7043 non-null   object \n",
            " 6   MultipleLines     7043 non-null   object \n",
            " 7   InternetService   7043 non-null   object \n",
            " 8   OnlineSecurity    7043 non-null   object \n",
            " 9   OnlineBackup      7043 non-null   object \n",
            " 10  DeviceProtection  7043 non-null   object \n",
            " 11  TechSupport       7043 non-null   object \n",
            " 12  StreamingTV       7043 non-null   object \n",
            " 13  StreamingMovies   7043 non-null   object \n",
            " 14  Contract          7043 non-null   object \n",
            " 15  PaperlessBilling  7043 non-null   object \n",
            " 16  PaymentMethod     7043 non-null   object \n",
            " 17  MonthlyCharges    7043 non-null   float64\n",
            " 18  TotalCharges      7043 non-null   object \n",
            " 19  Churn_label       7043 non-null   int64  \n",
            "dtypes: float64(1), int64(3), object(16)\n",
            "memory usage: 1.1+ MB\n"
          ]
        }
      ]
    },
    {
      "cell_type": "code",
      "metadata": {
        "colab": {
          "base_uri": "https://localhost:8080/"
        },
        "id": "86at4axw_Xd2",
        "outputId": "533668f7-0dbf-433f-f2a2-0da5098d7595"
      },
      "source": [
        "df['Churn'].value_counts()"
      ],
      "execution_count": null,
      "outputs": [
        {
          "output_type": "execute_result",
          "data": {
            "text/plain": [
              "No     5174\n",
              "Yes    1869\n",
              "Name: Churn, dtype: int64"
            ]
          },
          "metadata": {},
          "execution_count": 6
        }
      ]
    },
    {
      "cell_type": "code",
      "metadata": {
        "id": "ZVg19V4r_f0_"
      },
      "source": [
        "df['Churn_label'] = pd.factorize(df['Churn'])[0]"
      ],
      "execution_count": null,
      "outputs": []
    },
    {
      "cell_type": "code",
      "metadata": {
        "id": "gusXf-ak_8bu"
      },
      "source": [
        "df.drop(['customerID', 'Churn'], axis=1, inplace=True)"
      ],
      "execution_count": null,
      "outputs": []
    },
    {
      "cell_type": "code",
      "metadata": {
        "colab": {
          "base_uri": "https://localhost:8080/",
          "height": 288
        },
        "id": "Tgmtg3KEAL2g",
        "outputId": "6377066d-7499-4cff-b3b0-b25688846c7e"
      },
      "source": [
        "df.head()"
      ],
      "execution_count": null,
      "outputs": [
        {
          "output_type": "execute_result",
          "data": {
            "text/html": [
              "<div>\n",
              "<style scoped>\n",
              "    .dataframe tbody tr th:only-of-type {\n",
              "        vertical-align: middle;\n",
              "    }\n",
              "\n",
              "    .dataframe tbody tr th {\n",
              "        vertical-align: top;\n",
              "    }\n",
              "\n",
              "    .dataframe thead th {\n",
              "        text-align: right;\n",
              "    }\n",
              "</style>\n",
              "<table border=\"1\" class=\"dataframe\">\n",
              "  <thead>\n",
              "    <tr style=\"text-align: right;\">\n",
              "      <th></th>\n",
              "      <th>gender</th>\n",
              "      <th>SeniorCitizen</th>\n",
              "      <th>Partner</th>\n",
              "      <th>Dependents</th>\n",
              "      <th>tenure</th>\n",
              "      <th>PhoneService</th>\n",
              "      <th>MultipleLines</th>\n",
              "      <th>InternetService</th>\n",
              "      <th>OnlineSecurity</th>\n",
              "      <th>OnlineBackup</th>\n",
              "      <th>DeviceProtection</th>\n",
              "      <th>TechSupport</th>\n",
              "      <th>StreamingTV</th>\n",
              "      <th>StreamingMovies</th>\n",
              "      <th>Contract</th>\n",
              "      <th>PaperlessBilling</th>\n",
              "      <th>PaymentMethod</th>\n",
              "      <th>MonthlyCharges</th>\n",
              "      <th>TotalCharges</th>\n",
              "      <th>Churn_label</th>\n",
              "    </tr>\n",
              "  </thead>\n",
              "  <tbody>\n",
              "    <tr>\n",
              "      <th>0</th>\n",
              "      <td>Female</td>\n",
              "      <td>0</td>\n",
              "      <td>Yes</td>\n",
              "      <td>No</td>\n",
              "      <td>1</td>\n",
              "      <td>No</td>\n",
              "      <td>No phone service</td>\n",
              "      <td>DSL</td>\n",
              "      <td>No</td>\n",
              "      <td>Yes</td>\n",
              "      <td>No</td>\n",
              "      <td>No</td>\n",
              "      <td>No</td>\n",
              "      <td>No</td>\n",
              "      <td>Month-to-month</td>\n",
              "      <td>Yes</td>\n",
              "      <td>Electronic check</td>\n",
              "      <td>29.85</td>\n",
              "      <td>29.85</td>\n",
              "      <td>0</td>\n",
              "    </tr>\n",
              "    <tr>\n",
              "      <th>1</th>\n",
              "      <td>Male</td>\n",
              "      <td>0</td>\n",
              "      <td>No</td>\n",
              "      <td>No</td>\n",
              "      <td>34</td>\n",
              "      <td>Yes</td>\n",
              "      <td>No</td>\n",
              "      <td>DSL</td>\n",
              "      <td>Yes</td>\n",
              "      <td>No</td>\n",
              "      <td>Yes</td>\n",
              "      <td>No</td>\n",
              "      <td>No</td>\n",
              "      <td>No</td>\n",
              "      <td>One year</td>\n",
              "      <td>No</td>\n",
              "      <td>Mailed check</td>\n",
              "      <td>56.95</td>\n",
              "      <td>1889.5</td>\n",
              "      <td>0</td>\n",
              "    </tr>\n",
              "    <tr>\n",
              "      <th>2</th>\n",
              "      <td>Male</td>\n",
              "      <td>0</td>\n",
              "      <td>No</td>\n",
              "      <td>No</td>\n",
              "      <td>2</td>\n",
              "      <td>Yes</td>\n",
              "      <td>No</td>\n",
              "      <td>DSL</td>\n",
              "      <td>Yes</td>\n",
              "      <td>Yes</td>\n",
              "      <td>No</td>\n",
              "      <td>No</td>\n",
              "      <td>No</td>\n",
              "      <td>No</td>\n",
              "      <td>Month-to-month</td>\n",
              "      <td>Yes</td>\n",
              "      <td>Mailed check</td>\n",
              "      <td>53.85</td>\n",
              "      <td>108.15</td>\n",
              "      <td>1</td>\n",
              "    </tr>\n",
              "    <tr>\n",
              "      <th>3</th>\n",
              "      <td>Male</td>\n",
              "      <td>0</td>\n",
              "      <td>No</td>\n",
              "      <td>No</td>\n",
              "      <td>45</td>\n",
              "      <td>No</td>\n",
              "      <td>No phone service</td>\n",
              "      <td>DSL</td>\n",
              "      <td>Yes</td>\n",
              "      <td>No</td>\n",
              "      <td>Yes</td>\n",
              "      <td>Yes</td>\n",
              "      <td>No</td>\n",
              "      <td>No</td>\n",
              "      <td>One year</td>\n",
              "      <td>No</td>\n",
              "      <td>Bank transfer (automatic)</td>\n",
              "      <td>42.30</td>\n",
              "      <td>1840.75</td>\n",
              "      <td>0</td>\n",
              "    </tr>\n",
              "    <tr>\n",
              "      <th>4</th>\n",
              "      <td>Female</td>\n",
              "      <td>0</td>\n",
              "      <td>No</td>\n",
              "      <td>No</td>\n",
              "      <td>2</td>\n",
              "      <td>Yes</td>\n",
              "      <td>No</td>\n",
              "      <td>Fiber optic</td>\n",
              "      <td>No</td>\n",
              "      <td>No</td>\n",
              "      <td>No</td>\n",
              "      <td>No</td>\n",
              "      <td>No</td>\n",
              "      <td>No</td>\n",
              "      <td>Month-to-month</td>\n",
              "      <td>Yes</td>\n",
              "      <td>Electronic check</td>\n",
              "      <td>70.70</td>\n",
              "      <td>151.65</td>\n",
              "      <td>1</td>\n",
              "    </tr>\n",
              "  </tbody>\n",
              "</table>\n",
              "</div>"
            ],
            "text/plain": [
              "   gender  SeniorCitizen Partner  ... MonthlyCharges  TotalCharges Churn_label\n",
              "0  Female              0     Yes  ...          29.85         29.85           0\n",
              "1    Male              0      No  ...          56.95        1889.5           0\n",
              "2    Male              0      No  ...          53.85        108.15           1\n",
              "3    Male              0      No  ...          42.30       1840.75           0\n",
              "4  Female              0      No  ...          70.70        151.65           1\n",
              "\n",
              "[5 rows x 20 columns]"
            ]
          },
          "metadata": {},
          "execution_count": 11
        }
      ]
    },
    {
      "cell_type": "code",
      "metadata": {
        "id": "wchv4-hvAzk_"
      },
      "source": [
        "X = df.drop('Churn_label', axis=1)\n",
        "y = df['Churn_label']"
      ],
      "execution_count": null,
      "outputs": []
    },
    {
      "cell_type": "markdown",
      "metadata": {
        "id": "MbeWRLLLATRP"
      },
      "source": [
        "### **KFold**"
      ]
    },
    {
      "cell_type": "code",
      "metadata": {
        "id": "9g-lEX3ZlKW1"
      },
      "source": [
        "from sklearn.model_selection import KFold"
      ],
      "execution_count": null,
      "outputs": []
    },
    {
      "cell_type": "code",
      "metadata": {
        "id": "ndMACFlj7sw3"
      },
      "source": [
        "kf = KFold(n_splits=5)"
      ],
      "execution_count": null,
      "outputs": []
    },
    {
      "cell_type": "code",
      "metadata": {
        "colab": {
          "base_uri": "https://localhost:8080/"
        },
        "id": "MNvtzU63C1Hw",
        "outputId": "1a6b0396-4a4d-4817-ea99-adb3f18e35c2"
      },
      "source": [
        "7043/5  # each fold have 1409"
      ],
      "execution_count": null,
      "outputs": [
        {
          "output_type": "execute_result",
          "data": {
            "text/plain": [
              "1408.6"
            ]
          },
          "metadata": {},
          "execution_count": 19
        }
      ]
    },
    {
      "cell_type": "code",
      "metadata": {
        "colab": {
          "base_uri": "https://localhost:8080/"
        },
        "id": "AqhEsUMjDL--",
        "outputId": "c586bead-5d98-4f61-a906-8eec0c6625d6"
      },
      "source": [
        "1408.6*4"
      ],
      "execution_count": null,
      "outputs": [
        {
          "output_type": "execute_result",
          "data": {
            "text/plain": [
              "5634.4"
            ]
          },
          "metadata": {},
          "execution_count": 22
        }
      ]
    },
    {
      "cell_type": "markdown",
      "metadata": {
        "id": "7xcIRoXJHUCI"
      },
      "source": [
        "![1.JPG](data:image/jpeg;base64,/9j/4AAQSkZJRgABAQEAYABgAAD/4REiRXhpZgAATU0AKgAAAAgABAE7AAIAAAAdAAAISodpAAQAAAABAAAIaJydAAEAAAA6AAAQ4OocAAcAAAgMAAAAPgAAAAAc6gAAAAgAAAAAAAAAAAAAAAAAAAAAAAAAAAAAAAAAAAAAAAAAAAAAAAAAAAAAAAAAAAAAAAAAAAAAAAAAAAAAAAAAAAAAAAAAAAAAAAAAAAAAAAAAAAAAAAAAAAAAAAAAAAAAAAAAAAAAAAAAAAAAAAAAAAAAAAAAAAAAAAAAAAAAAAAAAAAAAAAAAAAAAAAAAAAAAAAAAAAAAAAAAAAAAAAAAAAAAAAAAAAAAAAAAAAAAAAAAAAAAAAAAAAAAAAAAAAAAAAAAAAAAAAAAAAAAAAAAAAAAAAAAAAAAAAAAAAAAAAAAAAAAAAAAAAAAAAAAAAAAAAAAAAAAAAAAAAAAAAAAAAAAAAAAAAAAAAAAAAAAAAAAAAAAAAAAAAAAAAAAAAAAAAAAAAAAAAAAAAAAAAAAAAAAAAAAAAAAAAAAAAAAAAAAAAAAAAAAAAAAAAAAAAAAAAAAAAAAAAAAAAAAAAAAAAAAAAAAAAAAAAAAAAAAAAAAAAAAAAAAAAAAAAAAAAAAAAAAAAAAAAAAAAAAAAAAAAAAAAAAAAAAAAAAAAAAAAAAAAAAAAAAAAAAAAAAAAAAAAAAAAAAAAAAAAAAAAAAAAAAAAAAAAAAAAAAAAAAAAAAAAAAAAAAAAAAAAAAAAAAAAAAAAAAAAAAAAAAAAAAAAAAAAAAAAAAAAAAAAAAAAAAAAAAAAAAAAAAAAAAAAAAAAAAAAAAAAAAAAAAAAAAAAAAAAAAAAAAAAAAAAAAAAAAAAAAAAAAAAAAAAAAAAAAAAAAAAAAAAAAAAAAAAAAAAAAAAAAAAAAAAAAAAAAAAAAAAAAAAAAAAAAAAAAAAAAAAAAAAAAAAAAAAAAAAAAAAAAAAAAAAAAAAAAAAAAAAAAAAAAAAAAAAAAAAAAAAAAAAAAAAAAAAAAAAAAAAAAAAAAAAAAAAAAAAAAAAAAAAAAAAAAAAAAAAAAAAAAAAAAAAAAAAAAAAAAAAAAAAAAAAAAAAAAAAAAAAAAAAAAAAAAAAAAAAAAAAAAAAAAAAAAAAAAAAAAAAAAAAAAAAAAAAAAAAAAAAAAAAAAAAAAAAAAAAAAAAAAAAAAAAAAAAAAAAAAAAAAAAAAAAAAAAAAAAAAAAAAAAAAAAAAAAAAAAAAAAAAAAAAAAAAAAAAAAAAAAAAAAAAAAAAAAAAAAAAAAAAAAAAAAAAAAAAAAAAAAAAAAAAAAAAAAAAAAAAAAAAAAAAAAAAAAAAAAAAAAAAAAAAAAAAAAAAAAAAAAAAAAAAAAAAAAAAAAAAAAAAAAAAAAAAAAAAAAAAAAAAAAAAAAAAAAAAAAAAAAAAAAAAAAAAAAAAAAAAAAAAAAAAAAAAAAAAAAAAAAAAAAAAAAAAAAAAAAAAAAAAAAAAAAAAAAAAAAAAAAAAAAAAAAAAAAAAAAAAAAAAAAAAAAAAAAAAAAAAAAAAAAAAAAAAAAAAAAAAAAAAAAAAAAAAAAAAAAAAAAAAAAAAAAAAAAAAAAAAAAAAAAAAAAAAAAAAAAAAAAAAAAAAAAAAAAAAAAAAAAAAAAAAAAAAAAAAAAAAAAAAAAAAAAAAAAAAAAAAAAAAAAAAAAAAAAAAAAAAAAAAAAAAAAAAAAAAAAAAAAAAAAAAAAAAAAAAAAAAAAAAAAAAAAAAAAAAAAAAAAAAAAAAAAAAAAAAAAAAAAAAAAAAAAAAAAAAAAAAAAAAAAAAAAAAAAAAAAAAAAAAAAAAAAAAAAAAAAAAAAAAAAAAAAAAAAAAAAAAAAAAAAAAAAAAAAAAAAAAAAAAAAAAAAAAAAAAAAAAAAAAAAAAAAAAAAAAAAAAAAAAAAAAAAAAAAAAAAAAAAAAAAAAAAAAAAAAAAAAAAAAAAAAAAAAAAAAAAAAAAAAAAAAAAAAAAAAAAAAAAAAAAAAAAAAAAAAAAAAAAAAAAAAAAAAAAAAAAAAAAAAAAAAAAAAAAAAAAAAAAAAAAAAAAAAAAAAAAAAAAAAAAAAAAAAAAAAAAAAAAAAAAAAAAAAAAAAAAAAAAAAAAAAAAAAAAAAAAAAAAAAAAAAAAAAAAAAAAAAAAAAAAAAAAAAAAAAAAAAAAAAAAAAAAAAAAAAAAAAAAAAAAAAAAAAAAAAAAAAAAAAAAAAAAAAAAAAAAAAAAAAAAAAAAAAAAAAAAAAAAAAAAAAAAAAAAAAAAAAAAAAAAAAAAAAAAAAAAAAAAAAAAAAAAAAAAAAAAAAAAAAAAAAAAAAAAAAAAAAAAAAAAAAAAAAAAAAAAAAAAAAAAAAAAAAAAAAAAAAAAAAAAAAAAAAAAAAAAAAAAAAAAAAAAAAAAAAAAAAAAAAAAAAAAAAAAAAAAAAAAAAAAAAAAAAAAAAAAAAAAAAAAAAAAAAAAAAAAAAAAAAAAAAAAAAAAAAAAAAAAAAAAAAAAAAAAAAAAAAAAAAAAAAAAAAAAAAAAAAAAAAAAAAAAAAAAAAAAAAAAAAAAAAAAAAAAAAAAAAAAAAAAAAAAAAAAAAAAAAAAAAAAAAAAAAAAAAAAAAAAAAAAAAAAAAAAAAAAAAAAAAAAAAAAAAAAAAAAAAAAAAAAAAAAAAAAAAAAAAAAAAAAAAAAAAAAAAAAAAAAAAAAAAAAAAAAAAAAAAAAAAAAAAAAAAAAAAAAAAAAAAAAAAAAAAAAAAAAAAAAAAAAAAAAAAAAAAAAAAAAAAAAAAAAAAAAAAAAAAAAAAAAAAAAAAAAAAAAAAAAAAAAAAAAAAAAAAAAAAAAAAAAAAEFudWdhbnRpIFN1cmVzaCAoQ29uc3VsdGFudCkAAAAFkAMAAgAAABQAABC2kAQAAgAAABQAABDKkpEAAgAAAAM2MgAAkpIAAgAAAAM2MgAA6hwABwAACAwAAAiqAAAAABzqAAAACAAAAAAAAAAAAAAAAAAAAAAAAAAAAAAAAAAAAAAAAAAAAAAAAAAAAAAAAAAAAAAAAAAAAAAAAAAAAAAAAAAAAAAAAAAAAAAAAAAAAAAAAAAAAAAAAAAAAAAAAAAAAAAAAAAAAAAAAAAAAAAAAAAAAAAAAAAAAAAAAAAAAAAAAAAAAAAAAAAAAAAAAAAAAAAAAAAAAAAAAAAAAAAAAAAAAAAAAAAAAAAAAAAAAAAAAAAAAAAAAAAAAAAAAAAAAAAAAAAAAAAAAAAAAAAAAAAAAAAAAAAAAAAAAAAAAAAAAAAAAAAAAAAAAAAAAAAAAAAAAAAAAAAAAAAAAAAAAAAAAAAAAAAAAAAAAAAAAAAAAAAAAAAAAAAAAAAAAAAAAAAAAAAAAAAAAAAAAAAAAAAAAAAAAAAAAAAAAAAAAAAAAAAAAAAAAAAAAAAAAAAAAAAAAAAAAAAAAAAAAAAAAAAAAAAAAAAAAAAAAAAAAAAAAAAAAAAAAAAAAAAAAAAAAAAAAAAAAAAAAAAAAAAAAAAAAAAAAAAAAAAAAAAAAAAAAAAAAAAAAAAAAAAAAAAAAAAAAAAAAAAAAAAAAAAAAAAAAAAAAAAAAAAAAAAAAAAAAAAAAAAAAAAAAAAAAAAAAAAAAAAAAAAAAAAAAAAAAAAAAAAAAAAAAAAAAAAAAAAAAAAAAAAAAAAAAAAAAAAAAAAAAAAAAAAAAAAAAAAAAAAAAAAAAAAAAAAAAAAAAAAAAAAAAAAAAAAAAAAAAAAAAAAAAAAAAAAAAAAAAAAAAAAAAAAAAAAAAAAAAAAAAAAAAAAAAAAAAAAAAAAAAAAAAAAAAAAAAAAAAAAAAAAAAAAAAAAAAAAAAAAAAAAAAAAAAAAAAAAAAAAAAAAAAAAAAAAAAAAAAAAAAAAAAAAAAAAAAAAAAAAAAAAAAAAAAAAAAAAAAAAAAAAAAAAAAAAAAAAAAAAAAAAAAAAAAAAAAAAAAAAAAAAAAAAAAAAAAAAAAAAAAAAAAAAAAAAAAAAAAAAAAAAAAAAAAAAAAAAAAAAAAAAAAAAAAAAAAAAAAAAAAAAAAAAAAAAAAAAAAAAAAAAAAAAAAAAAAAAAAAAAAAAAAAAAAAAAAAAAAAAAAAAAAAAAAAAAAAAAAAAAAAAAAAAAAAAAAAAAAAAAAAAAAAAAAAAAAAAAAAAAAAAAAAAAAAAAAAAAAAAAAAAAAAAAAAAAAAAAAAAAAAAAAAAAAAAAAAAAAAAAAAAAAAAAAAAAAAAAAAAAAAAAAAAAAAAAAAAAAAAAAAAAAAAAAAAAAAAAAAAAAAAAAAAAAAAAAAAAAAAAAAAAAAAAAAAAAAAAAAAAAAAAAAAAAAAAAAAAAAAAAAAAAAAAAAAAAAAAAAAAAAAAAAAAAAAAAAAAAAAAAAAAAAAAAAAAAAAAAAAAAAAAAAAAAAAAAAAAAAAAAAAAAAAAAAAAAAAAAAAAAAAAAAAAAAAAAAAAAAAAAAAAAAAAAAAAAAAAAAAAAAAAAAAAAAAAAAAAAAAAAAAAAAAAAAAAAAAAAAAAAAAAAAAAAAAAAAAAAAAAAAAAAAAAAAAAAAAAAAAAAAAAAAAAAAAAAAAAAAAAAAAAAAAAAAAAAAAAAAAAAAAAAAAAAAAAAAAAAAAAAAAAAAAAAAAAAAAAAAAAAAAAAAAAAAAAAAAAAAAAAAAAAAAAAAAAAAAAAAAAAAAAAAAAAAAAAAAAAAAAAAAAAAAAAAAAAAAAAAAAAAAAAAAAAAAAAAAAAAAAAAAAAAAAAAAAAAAAAAAAAAAAAAAAAAAAAAAAAAAAAAAAAAAAAAAAAAAAAAAAAAAAAAAAAAAAAAAAAAAAAAAAAAAAAAAAAAAAAAAAAAAAAAAAAAAAAAAAAAAAAAAAAAAAAAAAAAAAAAAAAAAAAAAAAAAAAAAAAAAAAAAAAAAAAAAAAAAAAAAAAAAAAAAAAAAAAAAAAAAAAAAAAAAAAAAAAAAAAAAAAAAAAAAAAAAAAAAAAAAAAAAAAAAAAAAAAAAAAAAAAAAAAAAAAAAAAAAAAAAAAAAAAAAAAAAAAAAAAAAAAAAAAAAAAAAAAAAAAAAAAAAAAAAAAAAAAAAAAAAAAAAAAAAAAAAAAAAAAAAAAAAAAAAAAAAAAAAAAAAAAAAAAAAAAAAAAAAAAAAAAAAAAAAAAAAAAAAAAAAAAAAAAAAAAAAAAAAAAAAAAAAAAAAAAAAAAAAAAAAAAAAAAAAAAAAAAAAAAAAAAAAAAAAAAAAAAAAAAAAAAAAAAAAAAAAAAAAAAAAAAAAAAAAAAAAAAAAAAAAAAAAAAAAAAAAAAAAAAAAAAAAAAAAAAAAAAAAAAAAAAAAAAAAAAAAAAAAAAAAAAAAAAAAAAAAAAAAAAAAAAAAAAAAAAAAAAAAAAAAAAAAAAAAAAAAAAAAAAAAAAAAAAAAAAAAAAAAAAAAAAAAAAAAAAAAAAAAAAAAAAAAAAAAAAAAAAAAAAAAAAAAAAAAAAAAAAAAAAAAAAAAAAAAAAAAAAAAAAAAAAAAAAAAAAAAAAAAAAAAAAAAAAAAAAAAAAAAAAAAAAAAAAAAAAAAAAAAAAAAAAAAAAAAAAAAAAAAAAAAAAAAAAAAAAAAAAAAAAAAAAAAAAAAAAAAAAAAAAAAAAAAAAAAAAAAAAAAAAAAAAAAAAAAAAAAAAAAAAAAAAAAAAAAAAAAAAAAAAAAAAAAAAAAAAAAAAAAAAAAAAAAAAAAAAAAAAAAAMjAyMTowOToxMyAxNzo1MzoxNQAyMDIxOjA5OjEzIDE3OjUzOjE1AAAAQQBuAHUAZwBhAG4AdABpACAAUwB1AHIAZQBzAGgAIAAoAEMAbwBuAHMAdQBsAHQAYQBuAHQAKQAAAP/hCy9odHRwOi8vbnMuYWRvYmUuY29tL3hhcC8xLjAvADw/eHBhY2tldCBiZWdpbj0n77u/JyBpZD0nVzVNME1wQ2VoaUh6cmVTek5UY3prYzlkJz8+DQo8eDp4bXBtZXRhIHhtbG5zOng9ImFkb2JlOm5zOm1ldGEvIj48cmRmOlJERiB4bWxuczpyZGY9Imh0dHA6Ly93d3cudzMub3JnLzE5OTkvMDIvMjItcmRmLXN5bnRheC1ucyMiPjxyZGY6RGVzY3JpcHRpb24gcmRmOmFib3V0PSJ1dWlkOmZhZjViZGQ1LWJhM2QtMTFkYS1hZDMxLWQzM2Q3NTE4MmYxYiIgeG1sbnM6ZGM9Imh0dHA6Ly9wdXJsLm9yZy9kYy9lbGVtZW50cy8xLjEvIi8+PHJkZjpEZXNjcmlwdGlvbiByZGY6YWJvdXQ9InV1aWQ6ZmFmNWJkZDUtYmEzZC0xMWRhLWFkMzEtZDMzZDc1MTgyZjFiIiB4bWxuczp4bXA9Imh0dHA6Ly9ucy5hZG9iZS5jb20veGFwLzEuMC8iPjx4bXA6Q3JlYXRlRGF0ZT4yMDIxLTA5LTEzVDE3OjUzOjE1LjYxNzwveG1wOkNyZWF0ZURhdGU+PC9yZGY6RGVzY3JpcHRpb24+PHJkZjpEZXNjcmlwdGlvbiByZGY6YWJvdXQ9InV1aWQ6ZmFmNWJkZDUtYmEzZC0xMWRhLWFkMzEtZDMzZDc1MTgyZjFiIiB4bWxuczpkYz0iaHR0cDovL3B1cmwub3JnL2RjL2VsZW1lbnRzLzEuMS8iPjxkYzpjcmVhdG9yPjxyZGY6U2VxIHhtbG5zOnJkZj0iaHR0cDovL3d3dy53My5vcmcvMTk5OS8wMi8yMi1yZGYtc3ludGF4LW5zIyI+PHJkZjpsaT5BbnVnYW50aSBTdXJlc2ggKENvbnN1bHRhbnQpPC9yZGY6bGk+PC9yZGY6U2VxPg0KCQkJPC9kYzpjcmVhdG9yPjwvcmRmOkRlc2NyaXB0aW9uPjwvcmRmOlJERj48L3g6eG1wbWV0YT4NCiAgICAgICAgICAgICAgICAgICAgICAgICAgICAgICAgICAgICAgICAgICAgICAgICAgICAgICAgICAgICAgICAgICAgICAgICAgICAgICAgICAgICAgICAgICAgICAgICAgICAKICAgICAgICAgICAgICAgICAgICAgICAgICAgICAgICAgICAgICAgICAgICAgICAgICAgICAgICAgICAgICAgICAgICAgICAgICAgICAgICAgICAgICAgICAgICAgICAgICAgIAogICAgICAgICAgICAgICAgICAgICAgICAgICAgICAgICAgICAgICAgICAgICAgICAgICAgICAgICAgICAgICAgICAgICAgICAgICAgICAgICAgICAgICAgICAgICAgICAgICAgCiAgICAgICAgICAgICAgICAgICAgICAgICAgICAgICAgICAgICAgICAgICAgICAgICAgICAgICAgICAgICAgICAgICAgICAgICAgICAgICAgICAgICAgICAgICAgICAgICAgICAKICAgICAgICAgICAgICAgICAgICAgICAgICAgICAgICAgICAgICAgICAgICAgICAgICAgICAgICAgICAgICAgICAgICAgICAgICAgICAgICAgICAgICAgICAgICAgICAgICAgIAogICAgICAgICAgICAgICAgICAgICAgICAgICAgICAgICAgICAgICAgICAgICAgICAgICAgICAgICAgICAgICAgICAgICAgICAgICAgICAgICAgICAgICAgICAgICAgICAgICAgCiAgICAgICAgICAgICAgICAgICAgICAgICAgICAgICAgICAgICAgICAgICAgICAgICAgICAgICAgICAgICAgICAgICAgICAgICAgICAgICAgICAgICAgICAgICAgICAgICAgICAKICAgICAgICAgICAgICAgICAgICAgICAgICAgICAgICAgICAgICAgICAgICAgICAgICAgICAgICAgICAgICAgICAgICAgICAgICAgICAgICAgICAgICAgICAgICAgICAgICAgIAogICAgICAgICAgICAgICAgICAgICAgICAgICAgICAgICAgICAgICAgICAgICAgICAgICAgICAgICAgICAgICAgICAgICAgICAgICAgICAgICAgICAgICAgICAgICAgICAgICAgCiAgICAgICAgICAgICAgICAgICAgICAgICAgICAgICAgICAgICAgICAgICAgICAgICAgICAgICAgICAgICAgICAgICAgICAgICAgICAgICAgICAgICAgICAgICAgICAgICAgICAKICAgICAgICAgICAgICAgICAgICAgICAgICAgICAgICAgICAgICAgICAgICAgICAgICAgICAgICAgICAgICAgICAgICAgICAgICAgICAgICAgICAgICAgICAgICAgICAgICAgIAogICAgICAgICAgICAgICAgICAgICAgICAgICAgICAgICAgICAgICAgICAgICAgICAgICAgICAgICAgICAgICAgICAgICAgICAgICAgICAgICAgICAgICAgICAgICAgICAgICAgCiAgICAgICAgICAgICAgICAgICAgICAgICAgICAgICAgICAgICAgICAgICAgICAgICAgICAgICAgICAgICAgICAgICAgICAgICAgICAgICAgICAgICAgICAgICAgICAgICAgICAKICAgICAgICAgICAgICAgICAgICAgICAgICAgICAgICAgICAgICAgICAgICAgICAgICAgICAgICAgICAgICAgICAgICAgICAgICAgICAgICAgICAgICAgICAgICAgICAgICAgIAogICAgICAgICAgICAgICAgICAgICAgICAgICAgICAgICAgICAgICAgICAgICAgICAgICAgICAgICAgICAgICAgICAgICAgICAgICAgICAgICAgICAgICAgICAgICAgICAgICAgCiAgICAgICAgICAgICAgICAgICAgICAgICAgICAgICAgICAgICAgICAgICAgICAgICAgICAgICAgICAgICAgICAgICAgICAgICAgICAgICAgICAgICAgICAgICAgICAgICAgICAKICAgICAgICAgICAgICAgICAgICAgICAgICAgICAgICAgICAgICAgICAgICAgICAgICAgICAgICAgICAgICAgICAgICAgICAgICAgICAgICAgICAgICAgICAgICAgICAgICAgIAogICAgICAgICAgICAgICAgICAgICAgICAgICAgICAgICAgICAgICAgICAgICAgICAgICAgICAgICAgICAgICAgICAgICAgICAgICAgICAgICAgICAgICAgICAgICAgICAgICAgCiAgICAgICAgICAgICAgICAgICAgICAgICAgICAgICAgICAgICAgICAgICAgICAgICAgICAgICAgICAgICAgICAgICAgICAgICAgICAgICAgICAgICAgICAgICAgICAgICAgICAKICAgICAgICAgICAgICAgICAgICAgICAgICAgICAgICAgICAgICAgICAgICAgICAgICAgICAgICAgICAgICAgICAgICAgICAgICAgICAgICAgICAgICAgICAgICAgICAgICAgIAogICAgICAgICAgICAgICAgICAgICAgICAgICAgPD94cGFja2V0IGVuZD0ndyc/Pv/bAEMABwUFBgUEBwYFBggHBwgKEQsKCQkKFQ8QDBEYFRoZGBUYFxseJyEbHSUdFxgiLiIlKCkrLCsaIC8zLyoyJyorKv/bAEMBBwgICgkKFAsLFCocGBwqKioqKioqKioqKioqKioqKioqKioqKioqKioqKioqKioqKioqKioqKioqKioqKioqKv/AABEIAOECogMBIgACEQEDEQH/xAAfAAABBQEBAQEBAQAAAAAAAAAAAQIDBAUGBwgJCgv/xAC1EAACAQMDAgQDBQUEBAAAAX0BAgMABBEFEiExQQYTUWEHInEUMoGRoQgjQrHBFVLR8CQzYnKCCQoWFxgZGiUmJygpKjQ1Njc4OTpDREVGR0hJSlNUVVZXWFlaY2RlZmdoaWpzdHV2d3h5eoOEhYaHiImKkpOUlZaXmJmaoqOkpaanqKmqsrO0tba3uLm6wsPExcbHyMnK0tPU1dbX2Nna4eLj5OXm5+jp6vHy8/T19vf4+fr/xAAfAQADAQEBAQEBAQEBAAAAAAAAAQIDBAUGBwgJCgv/xAC1EQACAQIEBAMEBwUEBAABAncAAQIDEQQFITEGEkFRB2FxEyIygQgUQpGhscEJIzNS8BVictEKFiQ04SXxFxgZGiYnKCkqNTY3ODk6Q0RFRkdISUpTVFVWV1hZWmNkZWZnaGlqc3R1dnd4eXqCg4SFhoeIiYqSk5SVlpeYmZqio6Slpqeoqaqys7S1tre4ubrCw8TFxsfIycrS09TV1tfY2dri4+Tl5ufo6ery8/T19vf4+fr/2gAMAwEAAhEDEQA/APpGiiigAooooAKKKKACiiigAooooAKKKy9d8Rab4bt7ebVpJ1W5m8iFbe1luHkfYz4CRqzfdRjnGOKANSiuV/4WR4f/ALmtf+E/f/8Axmj/AIWR4f8A7mtf+E/f/wDxmp5o9yuWXY6qiuV/4WR4f/ua1/4T9/8A/GaP+FkeH/7mtf8AhP3/AP8AGaOaPcOWXY6qiuV/4WR4f/ua1/4T9/8A/GaP+FkeH/7mtf8AhP3/AP8AGaOaPcOWXY6qiuV/4WR4f/ua1/4T9/8A/GaP+FkeH/7mtf8AhP3/AP8AGaOaPcOWXY6qiuV/4WR4f/ua1/4T9/8A/GaP+FkeH/7mtf8AhP3/AP8AGaOaPcOWXY6qiuV/4WR4f/ua1/4T9/8A/Ga6HTdQtdX0q01LT5fOtLyFJ4JNpXejqGU4IBGQRwRmmmnsJprcs0UUUxBRWNrnivSfDlza2+qPdeddpI8MVrYz3LMqFQ5IiRiADIgycfeFZ3/CyPD/APc1r/wn7/8A+M0rpDUW9jqqK5X/AIWR4f8A7mtf+E/f/wDxmj/hZHh/+5rX/hP3/wD8Zpc0e4+WXY6qiuV/4WR4f/ua1/4T9/8A/GaP+FkeH/7mtf8AhP3/AP8AGaOaPcOWXY6qiuV/4WR4f/ua1/4T9/8A/GaP+FkeH/7mtf8AhP3/AP8AGaOaPcOWXY6qiuV/4WR4f/ua1/4T9/8A/GaP+FkeH/7mtf8AhP3/AP8AGaOaPcOWXY6qiuV/4WR4f/ua1/4T9/8A/GaP+FkeH/7mtf8AhP3/AP8AGaOaPcOWXY6qiq2m6ha6vpVpqWny+daXkKTwSbSu9HUMpwQCMgjgjNWaokKKKKACiiigAooooAKKKKACiiigAooooAKKKKACiiigAooooAKKKKACiiigAooooAKKKKACiiigAooooAKKKxtc8V6T4cubW31R7rzrtJHhitbGe5ZlQqHJESMQAZEGTj7woA2aK5X/AIWR4f8A7mtf+E/f/wDxmj/hZHh/+5rX/hP3/wD8ZqeaPcrll2Oqorlf+FkeH/7mtf8AhP3/AP8AGaP+FkeH/wC5rX/hP3//AMZo5o9w5ZdjqqK5X/hZHh/+5rX/AIT9/wD/ABmj/hZHh/8Aua1/4T9//wDGaOaPcOWXY6qiuV/4WR4f/ua1/wCE/f8A/wAZo/4WR4f/ALmtf+E/f/8Axmjmj3Dll2Oqorlf+FkeH/7mtf8AhP3/AP8AGaP+FkeH/wC5rX/hP3//AMZo5o9w5ZdjqqK5X/hZHh/+5rX/AIT9/wD/ABmuh03ULXV9KtNS0+XzrS8hSeCTaV3o6hlOCARkEcEZppp7Caa3LNFFFMQUUUUAFFFFABRRRQAUUUUAFFFFABXH+Pv+P/wl/wBhp/8A0hu67CuP8ff8f/hL/sNP/wCkN3UVPgfoaU/jXqFFFeeza/q1r8PdJvdBBd5tSjgkbUL0ySFWuvL2lzG2Q3TOAVB4yRXkxjzNLzS+89eUlH7m/uPQqK47XfHn9h6jb6XcJpMGoNa/aZxfasLaBATtCpI0ZZ2JB/gHAycZAp58dNd6foFxoelm+k1wOIke4WNYSq5bewDfKMHJGenAOafJK1xc8U7f1/Wp11FclfeMrrSNcsLHWLHTrdb64SBETVA9z8x2hxCYxuTdxkNnByQDlRV0/Wteu28XR6rDAtnYSyxxvbXhEsWII3Cr+6H94tvJyCcYIANHK7OXlf7rf5hzLmUf66/5Hb0VyNn4lvZItL03QtM+3XT6XFezPfXxRYkYYUNIEYu5Ib+EdCSRT38bsfC9jqttpM0txdXgsWsWlVHjm3sjLuPBwynnjI59qbg07edv0EqkWr+V/wAL/kdXRWLoWuXWo3+o6fqdhHZXunvHvWG4M8bo67lZWKqexBBUdPesm/OpW3xR0RZNVne0u4bvFkgCRIEWPBIHLtkk5Jx6Ac5Si72/ra4+ZWujsKufDj/klnhT/sC2f/ohKp1c+HH/ACSzwp/2BbP/ANEJXXhepx4v7J0lFFFdpwnE+Kv+SjeH/wDsFaj/AOjbKpqh8Vf8lG8P/wDYK1H/ANG2VQ6xJ5WhX8hMg2W0jZifY4wp+63Y+h7V5mKdptnqYVXgkXKK4a81zXLeDwYuhwwyw6iFEq3t42+T/RncKz+Ux/h3bxySMYwSaXX/AIlW2iatfWQXTS2mxo9yt3qiW8khZd2yFCp8whcdSgJIGeuIdNp2NFUi1f0/E7iiuauPFVzLrdhpuh6Wt99tshfLcS3Pkxxx5A+b5WPcYwDknsOah1PxjNo/iKzsNRtLCKG9ult4R/aQN0wYlVk8jZgpu9HJAOSM5AlQk2l3/wCGH7SNm+3/AA51dFecXfiHXX07xcdWhRbPT7tYo3sdQaKaP5IWCKwhHB3klic8lcEYNdRqev30Wvro2h6ZFfXS232md7m6MEUSFiqjcEcliVbjHQHmhxat5/5XGppt+X+djforkE8cT3dpo/8AZujNLealLPbtbz3IiFtLDkOHbByoKtyATjBAOcVs+Hdak1qzuGurQWd1aXUlrPCsvmqHQ9VfAyCCDyAeelDi0CnFmtRXC+KrW60zXNJutK1jU5NVvtTRUs2uSYWt+PNXyQNuxUyd2NwJGWJxXdUre6mO+ti58OP+SWeFP+wLZ/8AohK6Sub+HH/JLPCn/YFs/wD0QldJXsniBXnvjzSdO1nx74dt9X0+1v4F0zUHWK6hWVQ3m2YyAwIzgkZ9zXoVcT4q/wCSjeH/APsFaj/6Ns6yq/AzWj/ERj/8IJ4R/wChV0T/AMF0X/xNH/CCeEf+hV0T/wAF0X/xNa2ozva6XdTxPGjxQu6tKCUUhScsByR645rnb3xtFpUfh5buCa8bV1BaaytJ3RR5TPuVQjE5K/c+8AcngGvNXNLb+v6seo+SO5c/4QTwj/0Kuif+C6L/AOJo/wCEE8I/9Cron/gui/8Aiak1HxdoulXTW97cyLJHGss3l20si26N0aVlUiMcHlyOAT2qTUPFGkaXf29jd3Tfa7lPMgghgkmeVc4yqopJA746Dk8Ue+HuLsV/+EE8I/8AQq6J/wCC6L/4mj/hBPCP/Qq6J/4Lov8A4mpm8V6Qmqpp7zTrNJN9nSRrSYQtLz8gm2+WW4Ixu6jHXisOXx8lxb66lnE9jPpc4iW4vrK5MLDEZLNhBtPzkBc5OA3Q0LnewnyR3/r+rGt/wgnhH/oVdE/8F0X/AMTR/wAIJ4R/6FXRP/BdF/8AE1Z1XxJpmjXENtfSytczIXSC2tpbiQqOrbI1Zgoz1IxUM/jHQYLCwvG1BXg1EH7IYY3kM5H8KqoJLf7OM5yMZFK8rXH7i0Gf8IJ4R/6FXRP/AAXRf/E0f8IJ4R/6FXRP/BdF/wDE1o6Tq9lrdj9r02Yyxb2jbdG0bI6nDKysAykEdCAawdc1vX9D1KzmlXTZrC71COzSzjVzcMr8CQSEhSQcsU2cKD83emuZy5bg+RR5rF3/AIQTwj/0Kuif+C6L/wCJrqvhx/ySzwp/2BrP/wBEpVOrnw4/5JZ4U/7A1n/6JSuvCtu9zjxaStY6Siiiuw4jz3x5pOnaz498PW+r6fa38K6ZqDrFdQrKobzbMZAYEZwSM+5qn/wgnhH/AKFXRP8AwXRf/E1seKv+SjeH/wDsFaj/AOjbKm6jO9rpd1PE8aPFC7q0oJRSFJywHJHrjmvNxMmpnp4aKcNjJ/4QTwj/ANCron/gui/+Jo/4QTwj/wBCron/AILov/iap3vjaLSo/Dy3cE142rqC01laTuijymfcqhGJyV+594A5PANaGo+LtF0q6a3vbmRZI41lm8u2lkW3RujSsqkRjg8uRwCe1ZtTTsapwauR/wDCCeEf+hV0T/wXRf8AxNH/AAgnhH/oVdE/8F0X/wATVjUPFGkaXf29jd3Tfa7lPMgghgkmeVc4yqopJA746Dk8U1vFekJqqae806zSTfZ0ka0mELS8/IJtvlluCMbuox14pLnew/cXYh/4QTwj/wBCron/AILov/iaP+EE8I/9Cron/gui/wDiayZfHyXFvryWkT2M+lziJbi+srkwsMRks2EGD85AXOTgN0NdBqviTTNGuIba+lla5mQukFtbS3EhUdW2RqzBRnqRih86t5h7jv5FX/hBPCP/AEKuif8Agui/+Jo/4QTwj/0Kuif+C6L/AOJp8/jHQYLCwvW1BXg1EH7IYY3kM5H8KqoJLf7OM5yMZFXtJ1ey1ux+16bMZYt7RtujaNkdThlZWAZSCOhANHvoFyPaxnf8IJ4R/wChV0T/AMF0X/xNH/CCeEf+hV0T/wAF0X/xNZniPxheaf4p0vS9Jt4JoXvIbfUZ5dx8nzfuImCPnIBY5zgY4+YV2NF5WvcPd5uWxc+HH/JLPCn/AGBbP/0QldJXN/Dj/klnhT/sC2f/AKISukr1zxgrifFX/JRvD/8A2CtR/wDRtlXbVxPir/ko3h//ALBWo/8Ao2yrKt/DZrR/iImoqnrEnlaFfyEyDZbSNmJ9jjCn7rdj6HtXJXmua5bweDF0OGGWHUQolW9vG3yf6M7hWfymP8O7eOSRjGCTXmRi5bf1v/kerKSjv5/hb/M7miuH1/4lW2iatfWQXTS2mxo9yt3qiW8khZd2yFCp8whcdSgJIGeuNO48VXMut2Gm6Hpa3322yF8txLc+THHHkD5vlY9xjAOSew5oUJO3n/w4OcVf+v63OlorlNT8YzaP4is7DUbSwihvbpbeEf2kDdMGJVZPI2YKbvRyQDkjOQMO78Q66+neLjq0KLZ6fdrFG9jqDRTR/JCwRWEI4O8ksTnkrgjBpxg5f16f5ilUjHf+t/8AI9HorA1PX76LX10bQ9Mivrpbb7TO9zdGCKJCxVRuCOSxKtxjoDzWenjie7tNH/s3RmlvNSlnt2t57kRC2lhyHDtg5UFW5AJxggHOKXK2rjcknZnX0Vk+Hdak1qzuGurQWd1aXUlrPCsvmqHQ9VfAyCCDyAeelefI/kfEa/ufEuq+MdNhh1FTasGkXSpUJQIhIUgZJ5yQvvmnGDcuX+un+YpTUY83y/P/ACPV6ufDj/klnhT/ALAtn/6ISqdXPhx/ySzwp/2BbP8A9EJXVhepyYv7J0lFFFdpwhRRRQAUUUUAFFFFABRRRQAUUUUAFcf4+/4//CX/AGGn/wDSG7rsK4n4km8EvhU6ZBBPdf202yO4mMSN/oN1nLhWI4z/AAn0461jXnGnSlOTskm39xdP416k1ctJ4Nk/4Qu30ODUVSa2ukuorprfcu9Z/OAKbhkdvvCtDf4x/wCgJof/AIOZv/kWjf4x/wCgJof/AIOZv/kWvl1nOAW1Zfees5Re5VuPD+q/2vFq+n6taW+oNaC1u/NsWkgnCsWVlQSqyEFm/jPDc5wDVuXRZ7rUtGv7y8jafTfNMnlwFVmLptOAWJUDrjLfXvSb/GP/AEBND/8ABzN/8i0b/GP/AEBND/8ABzN/8i0/7awH/P6Irx/q5iDwHdLeOItVt0s31VdUZRYfv5HEgfY8u/DL1A+UEALyQCDox+GbuK/14pqMP2LWdztC1qTJFIYljyH34K4TONueetWt/jH/AKAmh/8Ag5m/+RaN/jH/AKAmh/8Ag5m/+RaP7awDVvbR/q3+SC8b83X5+f8AmzPj8J3+n3FldaHq0NvcwafHYT/arMzRzrH9xgokQqwJb+IjDdOAakh8GpBoemaet9I72d+t/NcSRgtcSeYZH4BG3czH1wMdaub/ABj/ANATQ/8Awczf/ItG/wAY/wDQE0P/AMHM3/yLT/tvAt39tHv+orQtb5de1vyJrLR/sfiDVNT8/f8A2gsK+Vsx5flqR1zznd6DFZep+HdbvvFVlrFvrGnwpYCVYIH013O2QKG3MJxk/LwQB9DV7f4x/wCgJof/AIOZv/kWjf4x/wCgJof/AIOZv/kWks6wCd/bRHeLVv8AM2aufDj/AJJZ4U/7Atn/AOiErmt/jH/oCaH/AODmb/5Frpfhx/ySzwp/2BbP/wBEJXrZZjMPiuf2E1K1r2+ZyYpp2sdJRRRXrnEcT4q/5KN4f/7BWo/+jbKm6ha/btNubTf5f2iF4t+M7dwIzjv1rF+KuvXPh7xh4bu7OyivXew1CIxy3BhABktDncEb06Y79a5j/hZ+sf8AQt2P/g2f/wCR687EQcplxzTB4X3KtRKR0l54Wun0zw/Fp+pRQXWhshjmmtTKkuIWiOUDqRkNnhuPenP4f1W01q91DQtWtbYahse5hu7Fp18xV270KyoVyoUEHP3e3Ncz/wALP1j/AKFux/8ABs//AMj0f8LP1j/oW7H/AMGz/wDyPWb527v9BLOcsSsqq/E7VdGb/hKI9Ze43MtibQxeXjJLht2c+2MY/GufHgO6W8cRarbpZvqq6oyiw/fyOJA+x5d+GXqB8oIAXkgEHK/4WfrH/Qt2P/g2f/5Ho/4WfrH/AELdj/4Nn/8AkehKcWmv073/ADB5zljTTqrX17W/I277wXd3Z1+BNVhjstakWZo2tC0kMgWNch/MAK4j6bc89a0NR0G/fxANZ0PUobK5e2FtOl1am4jlUMWQgB0KsCzc5wQ3TpXKf8LP1j/oW7H/AMGz/wDyPR/ws/WP+hbsf/Bs/wD8j0rT08v+GD+2ss1/erX19TpNN8GppzaK630kz6bJcTTPJGN1zJMG3twfl+Zicc8YHvWlo2j/ANkPqLef53269e7+5t2bgo29Tn7vXjr0rif+Fn6x/wBC3Y/+DZ//AJHo/wCFn6x/0Ldj/wCDZ/8A5Hoam3f/ACBZzli/5er8fQ3ovDOu23iW+1eLWtOlkum2p9q0x5Ht4B0hRhOoA7k7eTyc8Y6uvNv+Fn6x/wBC3Y/+DZ//AJHo/wCFn6x/0Ldj/wCDZ/8A5HocZNW/yGs6y1Nv2q/E9V+HH/JLPCn/AGBbP/0QldJXN/Dj/klnhT/sC2f/AKISukr1iArifFX/ACUbw/8A9grUf/RtnXbV5x8RddsPD3jnw7d6rJLHC+nahGpit5JjuMlofuopPQHnGKyq6wZpTlGM1KTsi3q8El1od9bwLullt5ERcgZYqQBzXL3ml6ra6V4Olg02W8m0h0N1bQyxhwPszxnBdlU4Zh/F9Kn/AOFneFv+fq+/8FN3/wDGqP8AhZ3hb/n6vv8AwU3f/wAarzYqUen9a/5nbLE4aW9Rdeq62/yMvUfDU3/CTazc3ui6xqlnqnlyL/ZurG2CYjEbRyRmeNW+7nI3ZDEcYretdGmtvGlpdw2vl2MGj/ZFYyBijeYpCcnJ+UdfbrVX/hZ3hb/n6vv/AAU3f/xqj/hZ3hb/AJ+r7/wU3f8A8ap+/ppt/lYTxGFf/Lxfeu6f6GNqOjeJNT1iE31lqFw9vrMc8dwL6OO0S1WUMAsSuC7hcZ8xCchsN0Bl1TRdamt/F+nQaTNIuqXKXNrcrNEI3AjhUqQXDBso3Vccda1P+FneFv8An6vv/BTd/wDxqj/hZ3hb/n6vv/BTd/8AxqqTmla39af5ClXwsm26i+9ef+ZLf2+paZ42fWrTSZtVt7qwS1ZbaSJZYGR2Yf6x1BVt56HIKjjms7RPDWq2U/hya6t40aG6vrq7SKQFbfz97Kg9cFgOO+e1XP8AhZ3hb/n6vv8AwU3f/wAao/4Wd4W/5+r7/wAFN3/8aqVzpWsN4jDN39ovvRo+GtOutPk1o3kXli61SW4h+YHdGyoAeDx0PB5rntf0q+1bUlk07wo2nauL1P8AifJNAuIVfliyv5rhoxt2FcfNg8DNaH/CzvC3/P1ff+Cm7/8AjVH/AAs7wt/z9X3/AIKbv/41QuZNO21vwB4nDNNe0Wt+q6nW1c+HH/JLPCn/AGBrP/0SlcN/ws7wt/z9X3/gpu//AI1Xc/Dj/klnhT/sDWf/AKJSurCpq9zHEVqdW3s5J27O50lFFFdhynE+Kv8Ako3h/wD7BWo/+jbKodXgkutDvreBd0stvIiLkDLFSAOaqfETXbDw9458O3eqySxwvp2oRqYreSY7jJZn7qKT0B5xisn/AIWd4W/5+r7/AMFN3/8AGq83ExcptHdQxFGlG05pPzaILvS9VtNK8GywabLeTaQ6G6toZYw4H2V4zguyqcMw/i+lUtR8NTDxNrNze6LrGqWeqeXIv9m6sbYLiMRtHJGZ41b7ucjdkMRxitT/AIWd4W/5+r7/AMFN3/8AGqP+FneFv+fq+/8ABTd//Gqlubd7DVfCpJKotLdV0LVro01t40tLyG28uxg0f7IrGQMUbzFITk7j8o6+3Wuc1HRvEmp6xCb+y1C4e31mOeO4F9HHaJarKGAWJXBdwuM+YhOQ2G6A7P8Aws7wt/z9X3/gpu//AI1R/wALO8Lf8/V9/wCCm7/+NUk5pp22/wA7g6+FacfaLXzXa39eZl6poutTW/jDToNJmkXVLlLm1uVmiEbgRwqUILhg2UbquOOtbN/b6lpnjd9atNJm1W2urBLVltpIllgZHZh/rHUFWDnocgqOOai/4Wd4W/5+r7/wU3f/AMao/wCFneFv+fq+/wDBTd//ABql7+mm2n4WH9Yw2v7xa+a73/Mp6J4a1Wyn8OTXVvGrQ3V9dXaRSArb+fvZUHrgsBx3z2rd8M6ddafJrRvIvLF1qktxD8wO6MqgB4PHQ8Hms7/hZ3hb/n6vv/BTd/8Axqj/AIWd4W/5+r7/AMFN3/8AGqHzN3t5fjcFiMMv+Xi3vuu1jlta+HXjEXkUmleLvNgk1gXxibTYQ1uSxPml2bMmwYG3uAAAAMV6qAQoBOTjk+tcn/ws7wt/z9X3/gpu/wD41R/ws7wt/wA/V9/4Kbv/AONUPncVFr8PT/IaxGFUnJVF96/z8zufhx/ySzwp/wBgWz/9EJXSVzfw4/5JZ4U/7Atn/wCiErpK9Y84K4nxV/yUbw//ANgrUf8A0bZV21eW/FXXrnw94w8N3dnZRXrvYahEY5bgwgAyWhzuCN6dMd+tZ1dYMaqwov2lR2S3NrULX7dptzab/L+0QvFvxnbuBGcd+tYV54Wun0zw/Fp+pRQXWhshjmmtTKkuIWiOUDqRkNnhuPeub/4WfrH/AELdj/4Nn/8Akej/AIWfrH/Qt2P/AINn/wDkevNUZLYp51lr3qr8ep0z+H9VtNavdQ0LVrW2GobHuYbuxadfMVdu9CsqFcqFBBz93tzV9dGb/hKI9Ze43MtibQxeXjJLht2c+2MY/GuK/wCFn6x/0Ldj/wCDZ/8A5Ho/4WfrH/Qt2P8A4Nn/APkei0v6t6C/trLf+fq/H1NUeA7pbxxFqtulm+qrqjKLD9/I4kD7Hl34ZeoHyggBeSAQZr7wXd3Z1+BNVhjstakWZo2tC0kMgWNch/MAK4j6bc89axP+Fn6x/wBC3Y/+DZ//AJHo/wCFn6x/0Ldj/wCDZ/8A5HprnW36eX+SE84yx71V+Pn/AJs6vUdBv38QDWdD1KGyuXthbTpdWpuI5VDFkIAdCrAs3OcEN06VBpvg1NObRXW+kmfTZLiaZ5IxuuZJg29uD8vzMTjnjA965v8A4WfrH/Qt2P8A4Nn/APkej/hZ+sf9C3Y/+DZ//kelaaVv8hvOssbu6q/E7bRtH/sh9Rbz/O+3Xr3f3NuzcFG3qc/d68delZeq+G9Y1xWstU1q2bSWuBK8ENgUmdFfesZkMhXGQoJCAkDtnNc7/wALP1j/AKFux/8ABs//AMj0f8LP1j/oW7H/AMGz/wDyPQlJNPt6dAedZa017Va+vU9Jq58OP+SWeFP+wLZ/+iEryr/hZ+sf9C3Y/wDg2f8A+R69V+HH/JLPCn/YFs//AEQldWGi1e4Sx2Gxf8CfNbf5nSUUUV2EhRRRQAUUUUAFFFFABRRRQAUUUUAFcl43/wCQr4Q/7DT/APpBd11tcl43/wCQr4Q/7DT/APpBd15ubf8AIur/AOCX/pLLp/Gi5RRRX4AeqFFFVNWhe40e7iiuJLV2iYCaIKWTjqNwI/MGnFXkkNK7sW6K8q0vUNX0H4T+D4dMu728udXFrAhCW/mW0ZgLssQYIhOEIBkLdcnd0O5BP43PhvWYktbz7Wkkf9nzXxsxcSRtjzOImMW9fm2kgA5XIODn06mXSg3+8ja9tXbra9u19/RmUZ3S03O5ory7Xro674Gs3ttf1ZpYddsYpxd2sMNxC5nh+SRPKADJuDDAweM7h19MtongtY4pbiS5dFCtNKFDSH1O0Bc/QAe1c9fCuhBSk9btWs+lu68ylK7t/W7X6EtFFFcZQUz4cf8AJLPCn/YFs/8A0QlPpnw4/wCSWeFP+wLZ/wDohK/SOBf+Yj/tz/2448V0Okooor9JOM8d+N3/ACMnhj/r0v8A/wBDta8+r0H43f8AIyeGP+vS/wD/AEO1rz6uGv8AGfAZ9/vr9EFFFFYHhhRWJcW8j+MrZlu5ox9jkbaoTGA8eV5UnB79/Qiolu7opf3N3qbwQRXRgiWKBWIG4Dpglm5wMfiDV8p1LDNpNS3S79Xa2xuzTRW8RknkSKNeruwAH4mn1y7394LDVIrjzWMDQtGbuOIvhiOoT5T0yOM81pXTXk+vCzgvWtYfs3msUjVmLbiOCwIH5H8KHG2g5YVx3a/TZPt5mtRVHRrqW80a2nuCGlZcOwGNxBxnHbOKvVL0djmnFwk4voFFFFIk9/8Ahx/ySzwp/wBgWz/9EJXSVzfw4/5JZ4U/7Atn/wCiErpK9U/Wwrx343f8jJ4Y/wCvS/8A/Q7WvYq8d+N3/IyeGP8Ar0v/AP0O1rOp8DPOzT/cqnoefUUUV5x+ahRRWNcNff8ACWQRQ3UaQG1dzG0bHIDoD/EBnng4454OaaV3Y0p0+dtXto39xs0ViJqV9J9umeWxtba2maFXmDc4IG4ncAMZ6dz3Wqc2qvd6XqUV3HFcfZ2iILW8kKuGIxlGOeCDznB4qlFs3jhJt/d+Nvl17nT0Vl3V1ftrAsbE28Y8jzTJMjNj5iMYBGfzGPerGlXj3+lQXMqqkki/OqngEHBx7ZFK2lzGVGUYc7/q/wDwxcoooqTIK9/+HH/JLPCn/YGs/wD0SleAV7/8OP8AklnhT/sDWf8A6JSuvD9T63hv/l7/ANu/qdJRRRXUfXHjvxu/5GTwx/16X/8A6Ha159XoPxu/5GTwx/16X/8A6Ha159XDX+M+Az7/AH1+iCiiisDwworGuGvv+Esgihuo0gNq7mNo2OQHQH+IDPPBxxzwc01NSvpPt0zy2NrbW0zQq8wbnBA3E7gBjPTue61XLodP1dtJprVfm7G3RXMTaq93pepRXccVx9naIgtbyQq4YjGUY54IPOcHitO6ur9tYFjYm3jHkeaZJkZsfMRjAIz+Yx703FocsLOOj/rRP169jUoqnpV49/pUFzKipJIvzqp4BBwce2RVypejsc8ouEnF7oKKKKRJ7/8ADj/klnhT/sC2f/ohK6Sub+HH/JLPCn/YFs//AEQldJXqn62FeO/G7/kZPDH/AF6X/wD6Ha17FXjvxu/5GTwx/wBel/8A+h2tZ1PgZ52af7lU9Dz6iiivOPzUKKKxLi3kfxlbMt3NGPscjbVCYwHjyvKk4Pfv6EVSV3Y0pU1UbV7WTf3G3TJporeIyTyJFGvV3YAD8TWEt3dFL+5u9TeCCK6MESxQKxA3AdMEs3OBj8Qarvf3gsNUiuPNYwNC0Zu44i+GI6hPlPTI4zzTUbnTHByb3XTv1t5eZ1FFZN015Prws4L1rWH7N5rFI1Zi24jgsCB+R/CrGjXUt5o1tPcENKy4dgMbiDjOO2cUraXMJUXGHPft+N/8i9RRRUmIV7/8OP8AklnhT/sC2f8A6ISvAK9/+HH/ACSzwp/2BbP/ANEJXXh+p9bw3/y9/wC3f1OkooorqPrgooooAKKKKACiiigAooooAKKKKACuS8b/APIV8If9hp//AEgu662vNvjVdXdlo3h24067ks7lNa+SeNEZlzaXIPDqy8gkcg9a48fRlXwlWjHeUZL700TKrGjF1ZbR1fyOoorw3/hKfFv/AENd9/4C2n/xmj/hKfFv/Q133/gLaf8Axmvyr/VHHfzw++X/AMicf+s2A8/uPcqQgMpVgCCMEHvXh3/CU+Lf+hrvv/AW0/8AjNH/AAlPi3/oa77/AMBbT/4zR/qjjv54ffL/AORH/rNgPP7j1OHwToUGgjRUtpzYK6SRRPeTOYGTBUxsXLR4wMbCMVOnhjTk02Wx8zUHilcOXk1O5eVSOm2UyF16dFYDr6mvJf8AhKfFv/Q133/gLaf/ABmj/hKfFv8A0Nd9/wCAtp/8Zrd8NZq960d7/FLfv8O5P+suX+f3Hq58H6I2hzaS9tK9rPMLiVnupWleUMGDmYt5m4FVwd2RgDpWtbW6WlrHbxNIyRKFUyytI5A9WYlmPuSTXiX/AAlPi3/oa77/AMBbT/4zR/wlPi3/AKGu+/8AAW0/+M1E+FsymrSqxfXeW/f4R/6y5eu/3HuVFeG/8JT4t/6Gu+/8BbT/AOM0f8JT4t/6Gu+/8BbT/wCM1n/qjjv54ffL/wCRD/WbAef3HuVM+HH/ACSzwp/2BbP/ANEJXiH/AAlPi3/oa77/AMBbT/4zXt/w4/5JZ4U/7Atn/wCiEr7DhnKK+We19tJPm5bWv0v3S7m9LM8Pj7+xv7u913/4Y6SiiivsTc8d+N3/ACMnhj/r0v8A/wBDta8+r1r4j+HIvE/jfw5ZT3t1ZLHp2oSiS18vcSJLQYO9GGPm9M8Dmsb/AIVDYf8AQx65+dr/APGK+XzPO8HgsQ6NZu9l0PncwyPFY6v7ak1bzb/yPPqK9B/4VDYf9DHrn52v/wAYo/4VDYf9DHrn52v/AMYrzf8AWfLf5n9zPP8A9Vsd/NH73/keaz6fb3N1Dcyq4mhBCOkrJwSCQdpGRwODkU19MtJLeaB4sxzSea43EHfnO4HOQcgHivTP+FQ2H/Qx65+dr/8AGKP+FQ2H/Qx65+dr/wDGKf8ArRl38z+5mi4azFWtOOnm/wDI8vTRbFI508pmFxt81nldmfb0yxOeP/rVa+zRfa/tO399s8vdk/dznGOnWvRv+FQ2H/Qx65+dr/8AGKP+FQ2H/Qx65+dr/wDGKP8AWjLv5n9zB8NZjLecfvf+R5zbW0VpbrBbrsjT7q5JxznvUteg/wDCobD/AKGPXPztf/jFH/CobD/oY9c/O1/+MUv9aMt/mf3Mh8L49u7lH73/AJHn1Feg/wDCobD/AKGPXPztf/jFH/CobD/oY9c/O1/+MUf6z5b/ADP7mL/VbHfzR+9/5HffDj/klnhT/sC2f/ohK6Sub+HH/JLPCn/YFs//AEQldJX3R9kFeO/G7/kZPDH/AF6X/wD6Ha17FXiP7QP9pf254W/sb7L5/wBnvt32rdt27rbpt5znH61FT4GcGYx5sJUV7aHFUVz/APxWP/UD/wDI1H/FY/8AUD/8jVwcvmfn31X+/H7zoKp3GnrPqEF4k80MsKlP3e3DqSCVOQf7o6YNZf8AxWP/AFA//I1H/FY/9QP/AMjU1G3UqOHcXdVI/eaEmjwSWk8BeVRNP9o3gjcj5DAjjHBA65qP+womjuhPc3Mz3WzzJHK5+Q8YAUAfl+uTVP8A4rH/AKgf/kaj/isf+oH/AORqLPuaKFRbVY/f6eXkvuNj7JH/AGh9sy3meV5WM8Yzn86LK0jsLOO2hLMkecFjzyc/1rH/AOKx/wCoH/5Go/4rH/qB/wDkaly+ZDoSas6kfvOgorn/APisf+oH/wCRqP8Aisf+oH/5Go5fMj6r/fj950Fe/wDw4/5JZ4U/7A1n/wCiUr5g/wCKx/6gf/kavp/4cf8AJLPCn/YGs/8A0SldNBWufUcP0vZ+095PbZ+p0lFFFdJ9QeO/G7/kZPDH/Xpf/wDodrXn1dr+0D/aX9ueFv7G+y+f9nvt32rdt27rbpt5znH615V/xWP/AFA//I1cdaN5nxGdUOfFt8yWi3Z0FFc//wAVj/1A/wDyNR/xWP8A1A//ACNWPL5njfVf78fvNS409Z9QgvEnmhlhUp+724dSQSpyD/dHTBqOTR4JLSeAvKomn+0bwRuR9wYEcY4IHXNZ/wDxWP8A1A//ACNR/wAVj/1A/wDyNTs+5qqc1a1SOnn8+xc/sKJo7oT3NzM91s8yRyufkPGAFAH5frk1c+yR/wBofbMt5nleVjPGM5/Osf8A4rH/AKgf/kaj/isf+oH/AORqLPuEqc5b1I/f6f5I2LK0jsLOO2hLMkecFjzyc/1qxXP/APFY/wDUD/8AI1H/ABWP/UD/API1Ll8zOWHcm26kfvOgorn/APisf+oH/wCRqP8Aisf+oH/5Go5fMX1X+/H7z6f+HH/JLPCn/YFs/wD0QldJXN/Dj/klnhT/ALAtn/6ISukr0j9QCvHfjd/yMnhj/r0v/wD0O1r2KvF/jvBJP4g8LrFdS2xFrfnfEEJPz2vHzKR+lZ1PgZ5+ZK+DqLyOEorP/s66/wCg1ff98Qf/ABuj+zrr/oNX3/fEH/xuuCy7n5z7OP8AOvx/yNCq0+n29zdQ3MquJoQQjpKycEgkHaRkcDg5FQf2ddf9Bq+/74g/+N0f2ddf9Bq+/wC+IP8A43Rt1KjFRd4zS+//ACJX0y0kt5oHizHNJ5rjcQd+c7gc5ByAeKjTRbFI508pmFxt81nldmfb0yxOeP8A61J/Z11/0Gr7/viD/wCN0f2ddf8AQavv++IP/jdP5lqUkrKr/wClf5Fv7NF9r+07f32zy92T93OcY6daLa2itLdYLddkafdXJOOc96qf2ddf9Bq+/wC+IP8A43R/Z11/0Gr7/viD/wCN0vmRypqzmvx/yNCis/8As66/6DV9/wB8Qf8Axuj+zrr/AKDV9/3xB/8AG6LLuT7OP86/H/I0K9/+HH/JLPCn/YFs/wD0QlfOH9nXX/Qavv8AviD/AON19H/Dj/klnhT/ALAtn/6ISunD9T6vh2Kj7Wzv8Pfz7o6Siiiuo+rCiiigAooooAKKKKACiiigAooooAK8y+OP/Iv+H/8AsND/ANJLmvTa8y+OP/Iv+H/+w0P/AEkuaifws5Md/ulX/C/yZ5TRRRXmn5eFUL7WbHTbq3gvLiOJpyQpd1UKACcnJ4HGM+pFX6ydYLRX+l3PlTSRQzuZDFE0hUGJwDhQTjJFVGzeptQjGc7S7P8ALQvC+tDN5IuoTLgnZ5g3cdePao11S0uLWeWwube7MKFiI51IHBwCe2cdTWdbW8lvp+szRWQkuJZpWVJEx5wx8oOeo/8Ar1TRbq6vbuc/a5vM02RC0lqYVD5zsUEBu/fPXqeafKrHVHDU3fXb+v61X+W82pWsNvHJe3NvblkViHmXAz7nqPfvVlHWSNXjYMjDKspyCPWsaxtG/ta0lmtz+705UDun3WzyM9jjtVnQIng0K2iljaNkBGxlwR8xxx9KJJIxq0oRjeL10/G/+X4mlRRRUHKFe/8Aw4/5JZ4U/wCwLZ/+iErwCvf/AIcf8ks8Kf8AYFs//RCV14fqfW8N/wDL3/t39TpKKKK6j6447xD/AMlK0D/sEaj/AOjrKtCs/wAQ/wDJStA/7BGo/wDo6yrQr8b4v/5Gj9Eehh/gCiiivkjoMvxH4hsPC2gXWr6tJst7ZCxAZQ0hxwi7iAWPQDPNH/CTaF/Yy6udZ09dOZtouzdIIi2cY3525zxjNU/HtpcX/wAO9ftLKF57ibT5kjijGWdihwAO59q5vxL52qal4Y1u2/tu0sLVbiOSS10wtc28rKoVjBLC7bcK67ghI3DnBJr08NhaVanG+jvK79I3StZ6t3S/JkybTO2l1zSYNIXVZtUso9OYArePcIISCcA787eT71lan498NaTJpf2vV7MRao7CCcXMflhQrNvLFh8mV25GfmIHeudm0bTrfwjC1rfeI1f+0pL62vTpDvNDcsGyzWywg+WSzcFADuOCMg066vNVmsPB+taxpVwj22pzSXSWVjKzKjQzokhhAaRd25CVOSpbBreGCo3u7tXkuz0Ta3Xdffpba8uTt8j0JWDqGUhlIyCDwRS0isGUMM4IzyMH8qWvFNAooooAZ8OP+SWeFP8AsC2f/ohK6Sub+HH/ACSzwp/2BbP/ANEJXSV/SJ44V478bv8AkZPDH/Xpf/8AodrXsVeO/G7/AJGTwx/16X//AKHa1nU+BnnZp/uVT0PPqKKK84/NQphljEwiLr5hUsEzyQOCcenI/On1h3FpFJ4ztnd5gfscjYWd1GQ8eOAcY9R0PeqSuzWlCM2030b+43KiubmKzt2nuGKxrjJClupwOBz1Nc+HCQ6hd3tzfSBbwwRRQzlcAuAFHIHJOMk8DoRUBuLu2tdYgMrxmBoGRRdvM0e4jI3thuQBx7+9Uo3OqODu9+q/NL9V0OsorHuoWvPEYtnubiOAWm8xwzNHlt5Gcrg/kfrU+gzST6FavPI0km0gu3VsEjJ9+Km2lznlR5afPft+N/8AI0aKKKkwCvf/AIcf8ks8Kf8AYGs//RKV4BXv/wAOP+SWeFP+wNZ/+iUrrw/U+t4b/wCXv/bv6nSUUUV1H1x478bv+Rk8Mf8AXpf/APodrXn1eg/G7/kZPDH/AF6X/wD6Ha159XDX+M+Az7/fX6IKKKKwPDGGWMTCIuvmFSwTPJA4Jx6cj86fWHcWkUnjO2d3mB+xyNhZ3UZDx44Bxj1HQ96rBwkOoXd7c30gW8MEUUM5XALgBRyByTjJPA6EVfLe39dbHWsOpJNPdLp3djoLm5is7dp7hisa4yQpbqcDgc9TUtcmbi7trXWIDK8ZgaBkUXbzNHuIyN7YbkAce/vWpdQteeIxbPc3EcAtN5jhmaPLbyM5XB/I/WhxsVLCqO7/AOGsn+vc2KKztBmkn0K1eeRpJNpBdurYJGT78Vo1L0djkqQcJuL6BRRRSJPf/hx/ySzwp/2BbP8A9EJXSVzfw4/5JZ4U/wCwLZ/+iErpK9U/Wwrx343f8jJ4Y/69L/8A9Dta9irx343f8jJ4Y/69L/8A9DtazqfAzzs0/wByqeh59RRRXnH5qFUJdZsYNWTTpriNJ3TcAzqOcgBeucnPA74NX6ybotB4ntJnimaJ7aSLfHEzhWLoQDgHHQ8niqirs2oxjKTUuz/IuvqVjE7JJeW6MoJKtKoIA6nr271FJqkDafJdafLb3aowXK3ChM5HBbkDg5rMWKeysdTuLeyDXEl9v+eEuSoZcPtGC2BkgD04qm1vczW+sMq3k4m8go81v5bSYPOFCjpjuM8emDVKK3OuGGpvW+ia/NX/AD79Pu6W4vrSz/4+7qGDgH97IF69OtTI6yRq8bBkYZVlOQR61nNbb/FIneHcq2e1ZCmQCX5APril0CJ4NCtopY2jZARsZcEfMccfSpsrXOadOCpqSeun43/yNKiiipOcK9/+HH/JLPCn/YFs/wD0QleAV7/8OP8AklnhT/sC2f8A6ISuvD9T63hv/l7/ANu/qdJRRRXUfXBRRRQAUUUUAFFFFABRRRQAUUUUAFeXfHi4htfDOgzXMscMS60NzyMFUf6LcDqa9Rry74828N14Z0GG5ijmibWhuSRQyn/Rbg8g1M/hZy4y31apzbcr/I8d/t/R/wDoLWP/AIEp/jR/b+j/APQWsf8AwJT/ABo/sDR/+gTY/wDgMn+FH9gaP/0CbH/wGT/CvP8AdPzn/Zf734B/b+j/APQWsf8AwJT/ABo/t/R/+gtY/wDgSn+NH9gaP/0CbH/wGT/Cj+wNH/6BNj/4DJ/hR7of7L/e/AP7f0f/AKC1j/4Ep/jR/b+j/wDQWsf/AAJT/Gj+wNH/AOgTY/8AgMn+FH9gaP8A9Amx/wDAZP8ACj3Q/wBl/vfgH9v6P/0FrH/wJT/Gj+39H/6C1j/4Ep/jR/YGj/8AQJsf/AZP8KP7A0f/AKBNj/4DJ/hR7of7L/e/AP7f0f8A6C1j/wCBKf40f2/o/wD0FrH/AMCU/wAaP7A0f/oE2P8A4DJ/hR/YGj/9Amx/8Bk/wo90P9l/vfgH9v6P/wBBax/8CU/xr6P+HH/JLPCn/YFs/wD0QlfOH9gaP/0CbH/wGT/Cvo/4cf8AJLPCn/YFs/8A0QldNC2tj6jh/wBl+89nfpvbzOkooorpPqDgvGmr6bovxB8PXGs6ha6fA2l6jGst1OsSljLZnaCxAzgE49jUf/CfeDv+hs0P/wAGUP8A8VXMfHeztr3xB4XjvLeK4QWt+wWVAwB32vOD9a80/sDR/wDoE2P/AIDJ/hXxub8PUMwxTrzm07JaW6Hl4rPoYGp7Fwv1Pcv+E+8Hf9DZof8A4Mof/iqP+E+8Hf8AQ2aH/wCDKH/4qvDf7A0f/oE2P/gMn+FH9gaP/wBAmx/8Bk/wryf9T8L/AM/Zfcjm/wBbKf8Az7f3nuX/AAn3g7/obND/APBlD/8AFUf8J94O/wChs0P/AMGUP/xVeG/2Bo//AECbH/wGT/Cj+wNH/wCgTY/+Ayf4Uf6n4X/n7L7kH+tlP/n2/vPcv+E+8Hf9DZof/gyh/wDiqP8AhPvB3/Q2aH/4Mof/AIqvDf7A0f8A6BNj/wCAyf4Uf2Bo/wD0CbH/AMBk/wAKP9T8L/z9l9yD/Wyn/wA+3957l/wn3g7/AKGzQ/8AwZQ//FUf8J94O/6GzQ//AAZQ/wDxVeG/2Bo//QJsf/AZP8KP7A0f/oE2P/gMn+FH+p+F/wCfsvuQf62U/wDn2/vPcv8AhPvB3/Q2aH/4Mof/AIqj/hPvB3/Q2aH/AODKH/4qvDf7A0f/AKBNj/4DJ/hR/YGj/wDQJsf/AAGT/Cj/AFPwv/P2X3IP9bKf/Pt/efR/w4/5JZ4U/wCwLZ/+iErpK5v4cf8AJLPCn/YFs/8A0QldJX6Qe6FeO/G7/kZPDH/Xpf8A/odrXsVeeePvD+neI/Hnh201eOWSFNN1CVRFcSQncJbMfejZSeGPGcVx47EQwuGnXne0VfTc58Th5YqjKjF2ctDx+ivUf+FVeEv+fO+/8G13/wDHaP8AhVXhL/nzvv8AwbXf/wAdr4n/AFtwH8s/uj/8kfO/6p4j/n4vxPLqgns7a5kikubaGZ4TmNpIwxQ+oJ6dB+Vesf8ACqvCX/Pnff8Ag2u//jtH/CqvCX/Pnff+Da7/APjtH+t2A/ln9y/+SGuFcTF3VRfieUNa27wyRPBE0cpJkQoCHJ6kjvTI9OsoYWihs7eONsbkWJQpwcjjHqc161/wqrwl/wA+d9/4Nrv/AOO0f8Kq8Jf8+d9/4Nrv/wCO0/8AW7Afyz+5f/JD/wBVsVa3tV+J5X5UfnebsXzNu3fjnHXGfSiOKOGMRwosaDoqjAH4V6p/wqrwl/z533/g2u//AI7R/wAKq8Jf8+d9/wCDa7/+O0v9bsB/LP7l/wDJE/6qYn/n4vxPLqK9R/4VV4S/5877/wAG13/8do/4VV4S/wCfO+/8G13/APHaP9bcB/LP7o//ACQf6p4j/n4vxPLq9/8Ahx/ySzwp/wBgaz/9EpXI/wDCqvCX/Pnff+Da7/8Ajtdd8OP+SWeFP+wNZ/8AolK+hyXN8PmXtPYprlte6XW/Zvserl2U1Mt5ueSfNbbyv/mdJRRRX0J6p478bv8AkZPDH/Xpf/8AodrXn1d38d7WO78QeF45WlUC1vzmKZ4z9+17qQfwrzT+xbX/AJ633/gwn/8Ai64q1uc+EzxU/rj5m9l0/wCCaFFZ/wDYtr/z1vv/AAYT/wDxdH9i2v8Az1vv/BhP/wDF1joeJal/M/uX+ZZns7a5kikubaGZ4TmNpIwxQ+oJ6dB+VK1rbvDJE8ETRykmRCgIcnqSO9Vf7Ftf+et9/wCDCf8A+Lo/sW1/5633/gwn/wDi6NCrw25n93/BJ49OsoYWihs7eONsbkWJQpwcjjHqc1N5UfnebsXzNu3fjnHXGfSqX9i2v/PW+/8ABhP/APF0f2La/wDPW+/8GE//AMXRp3BuD3k/u/4JdjijhjEcKLGg6KowB+FPrP8A7Ftf+et9/wCDCf8A+Lo/sW1/5633/gwn/wDi6NBWpP7T+7/gmhRWf/Ytr/z1vv8AwYT/APxdH9i2v/PW+/8ABhP/APF0aCtS/mf3L/M+j/hx/wAks8Kf9gWz/wDRCV0lc38OP+SWeFP+wLZ/+iErpK9M/Vgrxf473ltZeIPC8l5cRW6G1v1DSuFBO+14yfpXtFeL/Heztr3xB4XjvLeK4QWt+wWVAwB32vOD9aip8DucGY8v1SpzbWPNP7f0f/oLWP8A4Ep/jR/b+j/9Bax/8CU/xo/sDR/+gTY/+Ayf4Uf2Bo//AECbH/wGT/CuD3T8+/2X+9+Af2/o/wD0FrH/AMCU/wAaP7f0f/oLWP8A4Ep/jR/YGj/9Amx/8Bk/wo/sDR/+gTY/+Ayf4Ue6H+y/3vwD+39H/wCgtY/+BKf40f2/o/8A0FrH/wACU/xo/sDR/wDoE2P/AIDJ/hR/YGj/APQJsf8AwGT/AAo90P8AZf734B/b+j/9Bax/8CU/xo/t/R/+gtY/+BKf40f2Bo//AECbH/wGT/Cj+wNH/wCgTY/+Ayf4Ue6H+y/3vwD+39H/AOgtY/8AgSn+NH9v6P8A9Bax/wDAlP8AGj+wNH/6BNj/AOAyf4Uf2Bo//QJsf/AZP8KPdD/Zf734B/b+j/8AQWsf/AlP8a+j/hx/ySzwp/2BbP8A9EJXzh/YGj/9Amx/8Bk/wr6P+HH/ACSzwp/2BbP/ANEJXTQtrY+o4f8AZfvPZ36b28zpKKKK6T6gKKKKACiiigAooooAKKKKACiiigArzL44/wDIv+H/APsND/0kua9NrzL44/8AIv8Ah/8A7DQ/9JLmon8LOTHf7pV/wv8AJnlNFFFeafl4Vl6nqdxY6hYwQWclwtw7KxQrnhGOBlhzxnnjGe9alZ2p2lzNcWNxZCF3tZWcpK5QMCjL1APPPpVRtfU2ocvP73Z797afiEOsJcT3EcVrdMtszLLIEG0MOw5yxPsD2zimPq2+O6hkgubGeO3aZfMVGJXkbhtYg4PYkdRRHp1ymn6jDHOsU11JK8UiEnZuHB+oqjb6FcrPcSmCztzLZvbny5GkZ3JB3u5UE/jk+5zw7Kx1Rjh9Xfb+v60f+d4awsf2eBILq8nkt1m/dooJX1OSFB9s9+Ku2d3HfWUV1Bu8uVdwDDBHsR61UtNOlt76GZ2QrHZrbkAnO4HOenSptJtJLDS4baYqzx5yVPHJJ/rRK3Qxqqly+5vp+t/0LlFFFQcoV7/8OP8AklnhT/sC2f8A6ISvAK9/+HH/ACSzwp/2BbP/ANEJXXh+p9bw3/y9/wC3f1OkooorqPrjx343f8jJ4Y/69L//ANDta8+r0H43f8jJ4Y/69L//ANDta8+rhr/GfAZ9/vr9EFFFFYHhmXPqdxF4hisEspJIXhaQyKU6hlGeWHA3c8Z6YzTk1pZZriO3srub7O5jdkRcb84wMkZ+vQdyKW5tLr+3La9tlhdFheGVZHKkBmU5GAc/dPBx9agk0u8GnXsMEyxyzXRmUrIyZXcDtLDlcgEZHTNXpZf11O5Ki4xvbZfnrf5Bc6vv0+7OLixntmQOGRHdQxGCOSpB5HX1qzdaqttei0S1uLmcx+YFhVfu5x1JAH4/hWWmgXAttRRIbO1+1eVsigJ2rsPOTtGSeucf4nX+ySf259syvl/Z/KxnnO7P5U3a45qhHbXf8o/rfqS2d3HfWUV1Bu8uVdwDDBHsR61PVPSbSSw0uG2mKs8eclTxySf61cqHvocdRRU2o7X0CiiikQe//Dj/AJJZ4U/7Atn/AOiErpK5v4cf8ks8Kf8AYFs//RCV0leqfrYVx3iL/kpWgf8AYI1H/wBHWVdjXHeIv+SlaB/2CNR/9HWVeJn/APyK6/oaUvjRoUUUV+EnqBWX4j8Q2HhbQLrV9Wk2W9shYgMoaQ44RdxALHoBnmtSuf8AHtpcX/w71+0soXnuJtPmSOKMZZ2KHAA7n2rfDRhOvCNT4W1f0uBc/wCEm0L+xl1c6zp66czbRdm6QRFs4xvztznjGaml1zSYNIXVZtUso9OYArePcIISCcA787eT71xPiTztU1Hwxrdt/bdpYWouI5JLXTC1zbysqhWMEsLttwrruCEjcOcEmkm0bTrfwjC1rfeI0f8AtKS+tr06Q7zQ3LBss1ssAPlks3BjAO44IyDXorA0uWMm2rvazdtWrPTfRPvr8PfJSdl6HRan4+8NaTJpf2vV7PytUdhBOLmPywoVm8wsWHyZXbkZ+Ygd66JWDqGUhlIyCDwRXnt1earNYeD9a1jSrhXttTmkuksrGVmVGhnRJDCA0i7tyEqclS2DXoSsGUMM4IzyMH8q5cXQhSjHlWut3e6upNdu1vvKjJt/IWiiiuEsKZ8OP+SWeFP+wNZ/+iUp9M+HH/JLPCn/AGBrP/0SlfpHAv8AzEf9uf8Atxx4rodJRRRX6ScZ478bv+Rk8Mf9el//AOh2tefV6D8bv+Rk8Mf9el//AOh2tefVw1/jPgM+/wB9fogooorA8MoTazYwasmnTXEaTum4BnUc5AC9c5OeB3wamfUrGJ2SS8t0ZQSVaVQQB1PXt3qldM0Hie0meKZontpId8cTOFYuhAOAcdDyeKqLFPZWOp3FvZBriS+3/PCXJUMuH2jBbAyQB6cVdlZf11O5UacoxfdLr1vY05NUgfT5LrT5be7VGC5W4UJnI4LcgcHNTXF9aWf/AB93UMHAP72QL16da5o29zNb6wyreTibyCjzW/ltJg84UKOmO4zx6YNbTW2/xSJ3h3KtntWQpkAl+QD64puKTHOhThu+/rtF2/HsaKOskavGwZGGVZTkEetOrN0CJ4NCtopY2jZARsZcEfMccfStKoe5x1IqE3FdGFFFFIg9/wDhx/ySzwp/2BbP/wBEJXSVzfw4/wCSWeFP+wLZ/wDohK6SvVP1sK8d+N3/ACMnhj/r0v8A/wBDta9irx343f8AIyeGP+vS/wD/AEO1rOp8DPOzT/cqnoefUUUV5x+ahWXPqdxF4hisEspJIXhaQyKU6hlGeWHA3c8Z6YzWpWdc2l1/blte2ywuiwvDKsjlSAzKcjAOfung4+tVG19Tajy8z5uz372ETWllmuI7eyu5vs7mN2RFxvzjAyRn69B3IqG51ffp92cXFjPbMgcMiO6hiMEclSDyOvrRJpd4NOvYYJljlmujMpWRkyu4HaWHK5AIyOmaqJoFwLbUUSGztftXlbIoCdq7Dzk7RknrnH+Jpcp1wjh929mvzV/16dPv1LrVVtr0WiWtxczmPzAsKr93OOpIA/H8KsWd3HfWUV1Bu8uVdwDDBHsR61F9kk/tz7ZlfL+z+VjPOd2fyo0m0ksNLhtpirPHnJU8ckn+tTpY5pql7Ncu+n63/QuUUUVJzhXv/wAOP+SWeFP+wLZ/+iErwCvf/hx/ySzwp/2BbP8A9EJXXh+p9bw3/wAvf+3f1OkooorqPrgooooAKKKKACiiigAooooAKKKKACvLvjxI0PhnQXjhknYa0MRxlQx/0W4/vED9a9RrzL44/wDIv+H/APsND/0kuamfws5Mbphan+F/keM/2jdf9AW+/wC+4P8A45R/aN1/0Bb7/vuD/wCOVoUV5112PzT2kf5F+P8AmZ/9o3X/AEBb7/vuD/45R/aN1/0Bb7/vuD/45WhRRddg9pH+Rfj/AJmf/aN1/wBAW+/77g/+OUf2jdf9AW+/77g/+OVoUUXXYPaR/kX4/wCZn/2jdf8AQFvv++4P/jlH9o3X/QFvv++4P/jlaFFF12D2kf5F+P8AmZ/9o3X/AEBb7/vuD/45R/aN1/0Bb7/vuD/45WhRRddg9pH+Rfj/AJmf/aN1/wBAW+/77g/+OV9H/Dj/AJJZ4U/7Atn/AOiErwCvf/hx/wAks8Kf9gWz/wDRCV04fqfV8OyUva2Vvh7+fdnSUUUV1H1Z4v8AHeeSDxB4XaK1luSbW/GyIoCPntefmYD9a80/tG6/6At9/wB9wf8AxyvUfjd/yMnhj/r0v/8A0O1rz6uKs/fPhM8nFYxpxT0Xf/Mz/wC0br/oC33/AH3B/wDHKP7Ruv8AoC33/fcH/wAcrQorG67Hie0j/Ivx/wAzP/tG6/6At9/33B/8co/tG6/6At9/33B/8crQoouuwe0j/Ivx/wAzP/tG6/6At9/33B/8co/tG6/6At9/33B/8crQoouuwe0j/Ivx/wAzP/tG6/6At9/33B/8co/tG6/6At9/33B/8crQoouuwe0j/Ivx/wAzP/tG6/6At9/33B/8co/tG6/6At9/33B/8crQoouuwe0j/Ivx/wAz3/4cf8ks8Kf9gWz/APRCV0lc38OP+SWeFP8AsC2f/ohK6SvTP1YK4LxrrGm6L8QfD1xrOoWmnwNpeoxrLdzrEpYy2Z2gsQM4BOPY13teO/G7/kZPDH/Xpf8A/odrXDmGGjisLOhJ2UlYwxGI+q0pVrX5dbHQ/wDCf+Dv+hs0P/wZQ/8AxVH/AAn/AIO/6GzQ/wDwZQ//ABVeO0V8H/qhh/8An5L8Dw/9bX/z5/8AJv8AgHsX/Cf+Dv8AobND/wDBlD/8VR/wn/g7/obND/8ABlD/APFV47RR/qhh/wDn5L8A/wBbX/z5/wDJv+Aexf8ACf8Ag7/obND/APBlD/8AFUf8J/4O/wChs0P/AMGUP/xVeO0Uf6oYf/n5L8A/1tf/AD5/8m/4B7F/wn/g7/obND/8GUP/AMVR/wAJ/wCDv+hs0P8A8GUP/wAVXjtFH+qGH/5+S/AP9bX/AM+f/Jv+Aexf8J/4O/6GzQ//AAZQ/wDxVH/Cf+Dv+hs0P/wZQ/8AxVeO0Uf6oYf/AJ+S/AP9bX/z5/8AJv8AgHsX/Cf+Dv8AobND/wDBlD/8VW78OP8AklnhT/sDWf8A6JSvAK9/+HH/ACSzwp/2BrP/ANEpX0uRZPTyz2nJJvmtv5X/AMz0cDm7zLmvDl5bdb738l2Okooor6U9I8X+O95bWXiDwvJeXEVuhtb9Q0rhQTvteMn6V5p/b+j/APQWsf8AwJT/ABr6C8Q/8lK0D/sEaj/6Osq0K+HzriJZfi3Q9lzaJ35rb/JnmYnIaePqe2lNrpsfNv8Ab+j/APQWsf8AwJT/ABo/t/R/+gtY/wDgSn+NfSVFeL/rkv8Anx/5N/8AanN/qnS/5+v7kfNv9v6P/wBBax/8CU/xo/t/R/8AoLWP/gSn+NfSVFH+uS/58f8Ak3/2of6p0v8An6/uR82/2/o//QWsf/AlP8aP7f0f/oLWP/gSn+NfSVFH+uS/58f+Tf8A2of6p0v+fr+5Hzb/AG/o/wD0FrH/AMCU/wAaP7f0f/oLWP8A4Ep/jX0lRR/rkv8Anx/5N/8Aah/qnS/5+v7kfNv9v6P/ANBax/8AAlP8aP7f0f8A6C1j/wCBKf419JUUf65L/nx/5N/9qH+qdL/n6/uQz4cf8ks8Kf8AYFs//RCV0lc38OP+SWeFP+wLZ/8AohK6Sv1I9wK8X+O88kHiDwu0VrLck2t+NkRQEfPa8/MwH617RXjvxu/5GTwx/wBel/8A+h2tZ1PgZ5+ZO2DqO3Q8u/tG6/6At9/33B/8co/tG6/6At9/33B/8crQorguux+c+0j/ACL8f8zP/tG6/wCgLff99wf/AByj+0br/oC33/fcH/xytCii67B7SP8AIvx/zM/+0br/AKAt9/33B/8AHKP7Ruv+gLff99wf/HK0KKLrsHtI/wAi/H/Mz/7Ruv8AoC33/fcH/wAco/tG6/6At9/33B/8crQoouuwe0j/ACL8f8zP/tG6/wCgLff99wf/AByj+0br/oC33/fcH/xytCii67B7SP8AIvx/zM/+0br/AKAt9/33B/8AHK+j/hx/ySzwp/2BbP8A9EJXgFe//Dj/AJJZ4U/7Atn/AOiErpw/U+r4dkpe1srfD38+7OkooorqPqwooooAKKKKACiiigAooooAKKKKACvMvjj/AMi/4f8A+w0P/SS5r02vMvjj/wAi/wCH/wDsND/0kuaifws5Md/ulX/C/wAmeU0UUV5p+XhWNrDXw1bSks7mOFZJXVleNmBIjY84YZHHT1wfatmqd9p63zQP581vLbyF45ItuQSpUj5gRjBPaqi7M2oTUJ3fZ+fQqWt9fzvfSObSK3tZJI13BgXK92bOFA78Hv0qmuryXH261neC8i+xPKkkdvJEjgZBHLHcDkcqfWtb+yrc2V3auXeO7Z2kyefm64xUKaIgkkknvLq4eS3a33SFBhD6BVAz7/nnindWOqNShq38v6/4K+fStFd3zzWllp4tYUNkkxaRGYL22hQRkdO/HvWhpV49/pUFzKipJIvzqp4BBwce2RSwadFb3McyM5aO3FuASMbQc56dafZWkdhZx20JZkjzgseeTn+tEmmY1Z05RtFa6frf9CxRRRUHKFe//Dj/AJJZ4U/7Atn/AOiErwCvf/hx/wAks8Kf9gWz/wDRCV14fqfW8N/8vf8At39TpKKKK6j648d+N3/IyeGP+vS//wDQ7WvPq9B+N3/IyeGP+vS//wDQ7WvPq4a/xnwGff76/RBRRRWB4ZjXDX3/AAlkEUN1GkBtXcxtGxyA6A/xAZ54OOOeDmmpqV9J9umeWxtba2maFXmDc4IG4ncAMZ6dz3FX7jT1n1CC8WeaGWFSn7vbh1JBKnIP90dMGo5NHgktJ4C8qiaf7RvBG5H3BgRxjggdc1d1Zf11O5VaTjFS7Jbeev4GRNqr3el6lFdxxXH2doiC1vJCrhiMZRjngg85weK07q6v21gWNibdB5HmmSZGbHzEYwCM/mMe9H9hQtHdCe5uZnutnmSOVz8h4wAoA/L9cmrn2SP+0PtmW8zyvKxnjGc/nTbV9Bzq0fsrv6XtH9U+nyI9KvHv9KguZUVJJF+dVPAIODj2yKuVXsrSOws47aEsyR5wWPPJz/WrFQ9zjqOLm3Da+gUUUUiD3/4cf8ks8Kf9gWz/APRCV0lc38OP+SWeFP8AsC2f/ohK6SvVP1sK8d+N3/IyeGP+vS//APQ7WvYq8d+N3/IyeGP+vS//APQ7Ws6nwM87NP8AcqnoefUUUV5x+ahWTPeagvieG0hjha2a3aRg0pB4ZAW+4eRngZwc9RWtVG5sJpNWt763uEjMcbROjxF96synghhg/L1569KqNr6m1FwUnz9nv3t5EEOqXl1NdLa6erJbymHe8+3ewPYbTx3J/IGqcmuLe6Xfhtoe1eMM1ld7gwYjGHCgg9QRj+dW59DE+nXdqZx/pFx5+Wjyo+YNtK5+Ycc9M0xtDmmivftN4jSXYiBMcG1U2HjA3H+f+ApctjshLCrV9137q/69ixdajcx6kLKzs1nkMPm7nm8tQM4weCf0/KrGnXg1DToboIY/MXJQnO09CM9+aT7H/wATb7bv/wCWHk7Mf7Wc5o06z/s/T4rXf5nl5+bGM5JPT8anSxyzdL2dorXTv538uxaoooqTnCvf/hx/ySzwp/2BrP8A9EpXgFe//Dj/AJJZ4U/7A1n/AOiUrrw/U+t4b/5e/wDbv6nSUUUV1H1xx3iH/kpWgf8AYI1H/wBHWVaFZ/iH/kpWgf8AYI1H/wBHWVaFfjfF/wDyNH6I9DD/AABRRRXyR0HO+PtT1LRvAWsajonlLd21rJIkkjY8vCk7gCrBiOoUjB7kVQ1rxxL4ctdKh1iHS7bUtRMm0T6p5VrGiAEs0zRg5OVAUITk+gJrf8RaOviDwzqWjvMYBfW0lv5oXds3KRnHfGelZV14b1e5bSr8axax6zpwkjFwtg3kTROAGRovNz/ChyHHK+hxXp4aWF9nGNZLRyvvf4dNVfS/z/EiV76Gd/wsu2k8Jwatbw2bSSagdOcvfgWkUgzlzcBSPLIGQ23J3KMDJxJ4h1zxTZal4YhsrHT0e+u5IrmBr5tjkQysFD+SSF+QNuAByAuMEkbN3puuXeii2k1LS3uXLLcGXS2e3mjII2eUZsjtyXIPPHPGRH4EuLLQtCtNK1SGC60a7e6jlltDJCxdZFZBEJFKoPNO0B/lAA5reEsCnzWS1lo+Z6NO3RbO3S/XSwnz2+R2K5KjcAGxyAcgGlpFyFG4gtjkgYBNLXimgUUUUAM+HH/JLPCn/YFs/wD0QldJXN/Dj/klnhT/ALAtn/6ISukr+kTxwrx343f8jJ4Y/wCvS/8A/Q7WvYq8d+N3/IyeGP8Ar0v/AP0O1rOp8DPOzT/cqnoefUUUV5x+ahWNcNff8JZBFDdRpAbV3MbRscgOgP8AEBnng4454Oa2ap3GnrPqEF4s80MsKlP3e3DqSCVOQf7o6YNVF2ZtRmoyd+z/ACKCalfSfbpnlsbW2tpmhV5g3OCBuJ3ADGenc9xVObVXu9L1KK7jiuPs7REFreSFXDEYyjHPBB5zg8VryaPBJaTwF5VE0/2jeCNyPuDAjjHBA65qP+woWjuhPc3Mz3WzzJHK5+Q8YAUAfl+uTVJxOuFXDrV91b71/wAHr/wC6ur9tYFjYm3QeR5pkmRmx8xGMAjP5jHvVjSrx7/SoLmVFSSRfnVTwCDg49sipPskf9ofbMt5nleVjPGM5/OiytI7CzjtoSzJHnBY88nP9anSxzTnTdNJLXT9b/oWKKKKk5wr3/4cf8ks8Kf9gWz/APRCV4BXv/w4/wCSWeFP+wLZ/wDohK68P1PreG/+Xv8A27+p0lFFFdR9cFFFFABRRRQAUUUUAFFFFABRRRQAV5d8eBM3hnQRbSRxy/20NrSIXUf6LcdgRn869RrzL44/8i/4f/7DQ/8ASS5qZ/Czkxrthaj/ALr/ACPGfJ1j/n+sf/AJ/wD47R5Osf8AP9Y/+AT/APx2tCivOuz809tLsvuX+Rn+TrH/AD/WP/gE/wD8do8nWP8An+sf/AJ//jtaFMaWNHRHdVaQkIpOCxxnA9eATRdj9rN9F9y/yKXk6x/z/WP/AIBP/wDHaPJ1j/n+sf8AwCf/AOO1oUyaVIIXllOEjUsxxnAAyelF2CqzbskvuX+RS8nWP+f6x/8AAJ//AI7R5Osf8/1j/wCAT/8Ax2rscizRJJGSVdQykgjg+xp9F2HtZrovuX+Rn+TrH/P9Y/8AgE//AMdo8nWP+f6x/wDAJ/8A47WhRRdi9tLsvuX+Rn+TrH/P9Y/+AT//AB2vo/4cf8ks8Kf9gWz/APRCV4BXv/w4/wCSWeFP+wLZ/wDohK6cO73Pq+HZuXtb/wB3ol37HSUUUV1H1Z4v8d1uX8QeFxZyxRP9lv8ALSxGQY32vGAy/wA6808nWP8An+sf/AJ//jteo/G7/kZPDH/Xpf8A/odrXn1cVZ++fCZ5UlHGNK2y6L/Iz/J1j/n+sf8AwCf/AOO0eTrH/P8AWP8A4BP/APHa0KKxuzxPbS7L7l/kZ/k6x/z/AFj/AOAT/wDx2jydY/5/rH/wCf8A+O1dMsYmERdfMKlgmeSBwTj05H50+i7H7WfZfcv8jP8AJ1j/AJ/rH/wCf/47R5Osf8/1j/4BP/8AHat3NzFZ27T3DFY1xkhS3U4HA56mpaLsPaztey+5f5Gf5Osf8/1j/wCAT/8Ax2jydY/5/rH/AMAn/wDjtaFFF2L20uy+5f5Gf5Osf8/1j/4BP/8AHaPJ1j/n+sf/AACf/wCO1oUUXYe2l2X3L/I9/wDhx/ySzwp/2BbP/wBEJXSVzfw4/wCSWeFP+wLZ/wDohK6SvTP1YK8R/aBub211zws+nWH2+U298DH5yxYXdbc5P4ce9e3V478bv+Rk8Mf9el//AOh2tRU+BnBmMlHCVG1fTb/hrHj39seIv+hX/wDKhH/hR/bHiL/oV/8AyoR/4V0FFcHMu35n599Yp/8APmP3y/8Akjn/AO2PEX/Qr/8AlQj/AMKP7Y8Rf9Cv/wCVCP8AwroKKOZdvzD6xT/58x++X/yRz/8AbHiL/oV//KhH/hR/bHiL/oV//KhH/hXQUyaaK3iMk8iRRr1d2AA/E0cy7fmNV6bdlRj/AOT/APyRhf2x4i/6Ff8A8qEf+FH9seIv+hX/APKhH/hXQUUcy7fmL6xT/wCfMfvl/wDJHP8A9seIv+hX/wDKhH/hR/bHiL/oV/8AyoR/4V0FFHMu35h9Yp/8+Y/fL/5I5/8AtjxF/wBCv/5UI/8ACvp/4cf8ks8Kf9gaz/8ARKV4BXv/AMOP+SWeFP8AsDWf/olK6aDTvofUcP1Iz9pywUdtr+fds6Siiiuk+oPKvi14ovfCXi7w1fado/8Aa8sljfwmD7UsG1TJaHduIOfugY9/auS/4XV4i/6J9/5Wo/8A43XQfG7/AJGTwx/16X//AKHa159XzuYZRgMXX9rXp80u95L8mj5zMM8xWCr+xpJWt1X/AATof+F1eIv+iff+VqP/AON0f8Lq8Rf9E+/8rUf/AMbrnqK4P9Xsq/58/wDk0/8A5I8//WjHdo/c/wDM6H/hdXiL/on3/laj/wDjdH/C6vEX/RPv/K1H/wDG656ij/V7Kv8Anz/5NP8A+SD/AFox3aP3P/M6H/hdXiL/AKJ9/wCVqP8A+N0f8Lq8Rf8ARPv/ACtR/wDxuubmmit4jJPIkUa9XdgAPxNPo/1eyr/nz/5NP/5IP9aMfa9o/c/8zof+F1eIv+iff+VqP/43R/wurxF/0T7/AMrUf/xuueoo/wBXsq/58/8Ak0//AJIP9aMd2j9z/wAzof8AhdXiL/on3/laj/8AjdH/AAurxF/0T7/ytR//ABuueoo/1eyr/nz/AOTT/wDkg/1ox3aP3P8AzPf/AIcf8ks8Kf8AYFs//RCV0lc38OP+SWeFP+wLZ/8AohK6SvsT7MK8w+KPh658S+M/DdnZ30Vi6afqEpkltjMCBJaDG0OmPvdc9ulen1x3iH/kpWgf9gjUf/R1lXlZxXqYfL6tWk7SS0/ph7KFb93UV0zz7/hU2sf9DPY/+Ch//kij/hU2sf8AQz2P/gof/wCSK9Ror8j/ANZM1/5+/wDksf8AIf8AYuXf8+l+J5d/wqbWP+hnsf8AwUP/APJFH/CptY/6Gex/8FD/APyRXqNRXNzBZWstzeTR28EKl5JZXCqijqSTwB701xHmrdlU/wDJY/8AyIf2Ll3/AD6X4nmf/CptY/6Gex/8FD//ACRR/wAKm1j/AKGex/8ABQ//AMkV6iDkZHIopf6yZr/z9/8AJY/5B/YuXf8APpfieXf8Km1j/oZ7H/wUP/8AJFH/AAqbWP8AoZ7H/wAFD/8AyRXpkt1bwSwxTzxxSXDlIUdwDIwBYhQepwCcDsCalp/6x5qv+Xn/AJLH/wCRD+xcu/59L8Ty7/hU2sf9DPY/+Ch//kij/hU2sf8AQz2P/gof/wCSK9Ropf6yZr/z9/8AJY/5B/YuXf8APpfieXf8Km1j/oZ7H/wUP/8AJFenfDj/AJJZ4U/7Atn/AOiEp9M+HH/JLPCn/YFs/wD0Qlfc8JZlisf7b6xLm5eW2iW/NfZLsL6lh8J/Ahy33+R0lFFFfcAFFFFABRXA/wDC4dA/589S/wC/Uf8A8XR/wuHQP+fPUv8Av1H/APF11/U8R/IzH29L+Y76iuB/4XDoH/PnqX/fqP8A+Lo/4XDoH/PnqX/fqP8A+Lo+p4j+Rh7el/Md9RXA/wDC4dA/589S/wC/Uf8A8XR/wuHQP+fPUv8Av1H/APF0fU8R/Iw9vS/mO+orgf8AhcOgf8+epf8AfqP/AOLo/wCFw6B/z56l/wB+o/8A4uj6niP5GHt6X8x31eZfHH/kX/D/AP2Gh/6SXNX/APhcOgf8+epf9+o//i64n4m+PdL8U2Oh2WnwXcckeqecTOihcC2nHZjz8wrKrha0KcpSjpY5MZWpywtRJ/Zf5M5CiiivEPzUKw9atYrjWdH8xpl3TSKfLndP+WTn+EjB9+vatyobmztr2MR3lvFcIDuCyoGAPrg/Wqi7M2o1PZz5vX8VYxLdvKg1bULy7uytvLMqqshxGgH8K9CfTOccdKrxzXFveXsSmWGN9OadI5Lxp3Ug4DHOdp5PQkcdeK6VYIkR0SJFVyS4CgBieufWoYNMsLZWW2sreFWBVhHEq5B6g4HfA/KnzKx0rFQ1ut/6/rf/ADyYo5L/AFC1hmurpYv7PSRlimZNzZxkkc/r9c1f0GaSfQrV55Gkk2kF26tgkZPvxV1YIkcOkSKypsDBQCF9Pp7UscUcMYjhRY0HRVGAPwocroxq11OPKl2/X+vkPoooqDmCvf8A4cf8ks8Kf9gWz/8ARCV4BXv/AMOP+SWeFP8AsC2f/ohK68P1PreG/wDl7/27+p0lFFFdR9ceO/G7/kZPDH/Xpf8A/odrXn1eg/G7/kZPDH/Xpf8A/odrXn1cNf4z4DPv99fogooorA8Mw7i0ik8Z2zu8wP2ORsLO6jIePHAOMeo6HvVYOEh1C7vbm+kC3hgiihnK4BcAKOQOScZJ4HQit+eztrmSKS5t4pnhOY2kQMUPqCenQflQ1rbvDJE8ETRykmRCgIcnqSO9WpaL+up2xxKSinfSy/G+hzJuLu2tdYgMrxmBoGRRdvM0e4jI3thuQBx7+9al1C154jFu9zcRwC03mOGZo8tvIzkYP5H61fj06yhhaKGzt442xuRYlCnByOMepzU3lR+d5uxfM27d+OcdcZ9KHJXHPExbvFf1ZL9L/Mo6DNJPoVq88jSSbSC7dWwSMn34rRpkcUcMYjhRY0HRVGAPwp9S3d3OSpJSm5LqwooopEHv/wAOP+SWeFP+wLZ/+iErpK5v4cf8ks8Kf9gWz/8ARCV0leqfrYV478bv+Rk8Mf8AXpf/APodrXsVeO/G7/kZPDH/AF6X/wD6Ha1nU+BnnZp/uVT0PPqKKK84/NQrDuLeR/GVsy3c0Y+xyNtUJjAePK8qTg9+/oRW5Va40+3ubqG5lVxNDkI6SsnBIJB2kZHA4ORVRdnc2o1FTk2+qa79DIW7uil/c3epvBBFcmCJYoFYgbgOmCWbnAx+INV3v7wWGqRXHnMbdoWjN3HEXwxHUJ8p6ZHGea3X0y0kt5oHizHNJ5rjcQd+c7gc5ByB0qNNFsUjnTymYXG3zWeV2Z9vTLE54/8ArVSkrHXHEUFq49V0XRr/AIJBdNeT68LOC9a1h+zeaxSNWYncRwWBA/I/hVjRrqW80a2nuCGlZcOwGNxBxnHbOKs/Zovtf2nb++2eXuyfu5zjHTrRbW0VpbrBbrsjT7q5JxznvU3VrHNOpCVPlS106Lzv+hLRRRUnOFe//Dj/AJJZ4U/7A1n/AOiUrwCvf/hx/wAks8Kf9gaz/wDRKV14fqfW8N/8vf8At39TpKKKK6j648d+N3/IyeGP+vS//wDQ7WvPq9B+N3/IyeGP+vS//wDQ7WvPq4a/xnwGff76/RBRRRWB4Zh3FvI/jK2ZbuaMfY5G2qExgPHleVJwe/f0IqNbu6KX9zd6m8EEV0YIligViBuAHGCWbnAx+INa8+n29zdQ3MquJochHSVk4JBIO0jI4HByKa+mWklvNA8WY5pPNcbiDvzncDnIOQDxV8ysv66ncq9PlipLZJbLv0+RhPf3gsNUiuPOY27QtGbuOIvhiOoT5T0yOM81pXTXk+vCzgvWtYfs3msUjVmJ3EcFgQPyP4VOmi2CRzp5TMLjb5rPK7M+3plic8f/AFqtfZovtf2nb++2eXuyfu5zjHTrTclfQJ16Td4x/Bdl016plbRbqW80a2nuCGlZcOwGNxBxnHbOKvVFbW0VpbrBbrsjT7q5JxznvUtQ9zkqOMptx2uFFFFIg9/+HH/JLPCn/YFs/wD0QldJXN/Dj/klnhT/ALAtn/6ISukr1T9bCuO8Q/8AJStA/wCwRqP/AKOsq7GuO8Q/8lK0D/sEaj/6Osq8TP8A/kV1/Q0pfGjQooor8JPUCuT+KFslz8LvEIkaVfLsJZB5crJkhCRnaRkeqng9wa6yo54Irm3kguYkmhlQpJHIoZXUjBBB4II7Vvh6vsa0Kv8AK0/uYHAeI4r611Dwz4f0WadrS7W4lkFxrNxA1wyqpVPtIDydGZtoIyF64GDLPpHixfB8djJdRz3kN80otYdWlWW5tQCywfatquHGV+YgZCjc3JNdU3hnQX0ldKbRNObTkfetmbSPyVbk5CYxnk8470j+FvD8mlR6ZJoWmvYRP5kdo1nGYkbn5gmMA8nnHc16Kx1NRirbO7bV76t3+LfW3fT4tjJQaVvI4S/h0zxDJ4Hnhk1eGBtTuLYrPqM6TIVhuAyl1kyWDLjeGJI43EE59PVQqhRnAGOTk/nWfc+H9GvNLh0280ixnsIMeVay2yNFHgYG1CMDAJHA71oKoRQqgKoGAAOAK5cViVWUVG9lfR67tv79dfQqMbO4tFFFcJYUz4cf8ks8Kf8AYFs//RCU+mfDj/klnhT/ALAtn/6ISv0jgX/mI/7c/wDbjjxXQ6Siiiv0k4wooooA+Wary39tDfQ2csoWecExpg84569B0P5GrFcndDUL1L/U7O3hkVJg0DtMVfbCTwF2EHJ39x96vsqtRwWh4EIqW51lFc5Lf2t1qDyXmoTW0LQRyWXlymPzMgkkAf6xs4G0g9uOeZbeeF9YnW+vpor1borDbiUjdHxtxH0YEZJbBxzyMcL2yb0/r+ug/Zs3qK5i11Pdbadam7Zrxb0pOm8lwAz8N3A6devFOhmaDS9T1Cee7ldLqeJQJyFRPNIAx0AHdsEgZx0AqViE9h+yaOlorj4NQuRaaqtvcEwxtAweG6a58tGOJGWRhk4UE+xBrQmngtrRb/TL+a5trWcNOPPaVShGG+Yk5xkNjJxj3oWITV/6/rQHSa0OgrM1iFbi50uKQyKrXZyY5GRv9TL0ZSCKk0UzSacLm4Zy907ThXP3FY5VfbC449c0aj/x/wCk/wDX23/oiWrnadPVaO35kpWk16h/Y1t/z2vv/A+f/wCLo/sa2/57X3/gfP8A/F1foqfquH/kX3Iy5V2KH9jW3/Pa+/8AA+f/AOLo/sa2/wCe19/4Hz//ABdX6KPquH/kX3IOVdih/Y1t/wA9r7/wPn/+Lo/sa2/57X3/AIHz/wDxdV/ElzDHYR2txOkCXkohd3cKAnV+T0+UEfjUfh+ZL3RJLSO63/ZpGtxNC4JKj7pB5/hI5rH2WHc3BU19y/rqjT2S5eYuf2Nbf89r7/wPn/8Ai6P7Gtv+e19/4Hz/APxdVvDMaxWN1Gm7at7OBuYsfvnqTya2KuGHw84KXs1qr7ImUFGTRQ/sa2/57X3/AIHz/wDxdH9jW3/Pa+/8D5//AIur9FX9Vw/8i+5E8q7FD+xrb/ntff8AgfP/APF19I/Dj/klnhT/ALAtn/6ISvn2voL4cf8AJLPCn/YFs/8A0QlePmdKnT5OSKW+y9D0sCkua3l+p0lFFFeOekeL/Hi2S78QeF0laVQLW/OYpnjP3rXupB/CvMv7Gtv+e19/4Hz/APxdep/G/wD5GTwx/wBel/8A+h2ted19Dl9ClOhecU36HjYxJ1Sh/Y1t/wA9r7/wPn/+Lo/sa2/57X3/AIHz/wDxdX6K7/quH/kX3I5OVdih/Y1t/wA9r7/wPn/+Lo/sa2/57X3/AIHz/wDxdX6wPE8ttObbTLy7jtYp90kjySBOFHyjJ/2ip/A1lUoYenHm9mvuRcKak7Gh/Y1t/wA9r7/wPn/+Lo/sa2/57X3/AIHz/wDxdVrCa11vw3bz6gUljVczZf5CycEnHBXIzg8UeGoTFYztGrR2ks7PaRtn5YjjHB6AnJA96FRw7kkqcbNX2X+QOmkncs/2Nbf89r7/AMD5/wD4uj+xrb/ntff+B8//AMXV+itfquH/AJF9yI5V2KH9jW3/AD2vv/A+f/4uj+xrb/ntff8AgfP/APF1foo+q4f+Rfcg5V2PoL4cf8ks8Kf9gWz/APRCV0lc38OP+SWeFP8AsC2f/ohK6Svjz6QK8X+PEMk/iDwusV1LbH7LfnfEEJPzWvHzKR+le0V458b/APkZPDH/AF6X/wD6Ha10YaEZ1oxkrpmGISdKSaueW/2fdf8AQavv++IP/jdH9n3X/Qavv++IP/jdX6K+j+oYX/n2j5/2NH+SP3L/ACKH9n3X/Qavv++IP/jdH9n3X/Qavv8AviD/AON1foo+oYX/AJ9oPY0f5I/cv8ih/Z91/wBBq+/74g/+N0f2fdf9Bq+/74g/+N1X103FwINOsZ3gmuNzmSM4ZFQZ6+7bR9CadHdLqXh+C6ne5iDAGZbUMX3A4ZflBbGfTB461l9Uwl2vZrT+vwL+rUrJ8kf/AAFf5E39n3X/AEGr7/viD/43R/Z91/0Gr7/viD/43Vfw7M8trc7p3ljS5dYhM2ZUT0fPIOc8NzjGa16uGCwsoqXs1qTLD0Yu3JH7l/kUP7Puv+g1ff8AfEH/AMbo/s+6/wCg1ff98Qf/ABur9FV9Qwv/AD7QvY0f5I/cv8ih/Z91/wBBq+/74g/+N19I/Dj/AJJZ4U/7A1n/AOiEr59r6C+HH/JK/Cn/AGBrP/0QleTmOHpUeX2cbXv+h6eXwhDm5YpbbJLudJRRRXlHqHi/x4hkn8QeF1iupbYi1vzviCEn5rXj5lI/SvMv7Puv+g1ff98Qf/G69T+N/wDyMnhj/r0v/wD0O1rzuvdwOFoVaPNOKbPExtOnKreUU/VJlD+z7r/oNX3/AHxB/wDG6P7Puv8AoNX3/fEH/wAbq/RXd9Qwv/PtHH7Gj/JH7l/kUP7Puv8AoNX3/fEH/wAbo/s+6/6DV9/3xB/8bq/WRrpuLgQadYzvBNcbnMkZwyKgz1922j6E1E8FhYRv7NMqOHoyduSP3L/Isf2fdf8AQavv++IP/jdH9n3X/Qavv++IP/jdQJrDS6Db3MSBru4AjSL/AKa9CPoCCT7A03w154srqO5uZLl4ruRPMkOSQMfkPapWEwjnyqmtr/l/mN4ako3cI/cv8iz/AGfdf9Bq+/74g/8AjdH9n3X/AEGr7/viD/43V+itfqGF/wCfaI9jR/kj9y/yKH9n3X/Qavv++IP/AI3R/Z91/wBBq+/74g/+N1foo+oYX/n2g9jR/kj9y/yPoL4cf8ks8Kf9gWz/APRCV0lc38OP+SWeFP8AsC2f/ohK6SvlD6cK8d+N7TJ4k8MG3uru1b7Jf5e0uZIGI32vBZCCR7dOB6V7FXjvxv8A+Rk8Mf8AXpf/APodrW+GpwqVowmrp9HqjKs3Gm2jzzzr/wD6Dmuf+Di6/wDjlHnX/wD0HNc/8HF1/wDHKSivof7LwH/PiH/gK/yPI9vV/mf3sXzr/wD6Dmuf+Di6/wDjlHnX/wD0HNc/8HF1/wDHKSij+y8B/wA+If8AgK/yD29X+Z/exfOv/wDoOa5/4OLr/wCOUedf/wDQc1z/AMHF1/8AHK5/xPLbTm20y8u47WKfdJI8kgThR8oyf9oqfwNVrvzvEPg+zeK2W/fzEM8KzCMSbSQ3zduRmuaWCwCckqEG1/dXz2T2NVOrZNzevn/wTqfOv/8AoOa5/wCDi6/+OUedf/8AQc1z/wAHF1/8crH8PLZ29rNZ2VlJYtA4863kfeVZgDndk5H49q163jluAlFP2EP/AAFf5Gcq1VO3M/vF86//AOg5rn/g4uv/AI5R51//ANBzXP8AwcXX/wAcpKKr+y8B/wA+If8AgK/yF7er/M/vYvnX/wD0HNc/8HF1/wDHK+gfhx/ySzwp/wBgWz/9EJXz7X0F8OP+SWeFP+wLZ/8AohK8vMMLQw/L7GCje97JLt2O7CVJz5uZ3OkoooryzuCiiigD5Zor6R/4RfQP+gHpv/gJH/hR/wAIvoH/AEA9N/8AASP/AAr6D+1Yfys8z6lLufN1FfSP/CL6B/0A9N/8BI/8KP8AhF9A/wCgHpv/AICR/wCFH9qw/lYfUpdz5uor6R/4RfQP+gHpv/gJH/hR/wAIvoH/AEA9N/8AASP/AAo/tWH8rD6lLufN1QX1ol/ZS2szOsco2vsOCR3H49Pxr6Y/4RfQP+gHpv8A4CR/4Uf8IvoH/QD03/wEj/wpPNKbVnFgsHJO9z5uAAAAGAOgFUNR/wCP/Sf+vtv/AERLX1B/wi+gf9APTf8AwEj/AMKhufBfhe9jEd54b0i4QHcFlsImAPrgr71Ms0g1ZRHHByT3PnSivoL/AIVx4H/6E3w//wCCuD/4mj/hXHgf/oTfD/8A4K4P/iaX9rf3Px/4A/qP978D59or6C/4Vx4H/wChN8P/APgrg/8AiaP+FceB/wDoTfD/AP4K4P8A4mj+1v7n4/8AAD6j/e/A+dXso31KO9csZIo2jRc/KMkEn68CmHTlF3c3MM8sMlwiqxTaQCucMAQecHHNfRv/AArjwP8A9Cb4f/8ABXB/8TR/wrjwP/0Jvh//AMFcH/xNT/acf5Px/wCAP6m/5vwPm/TdL/s3zdt5cTrI7SFZQmNzHJPyqD/Sr1fQX/CuPA//AEJvh/8A8FcH/wATR/wrjwP/ANCb4f8A/BXB/wDE045ooqyh+P8AwAeDbd3L8D59or6C/wCFceB/+hN8P/8Agrg/+Jo/4Vx4H/6E3w//AOCuD/4mn/a39z8f+AL6j/e/A+fa+gvhx/ySzwp/2BbP/wBEJR/wrjwP/wBCb4f/APBXB/8AE10FtbQWdrFa2cMcFvCgjiiiQKkagYCqBwAAMACuHF4v6zy+7ax0UKHsr63uSUUUVwnSeO/G/wD5GTwx/wBel/8A+h2ted19Kav4c0PxB5P9vaNp+p+Ru8r7bapN5e7Gdu4HGcDOPQVm/wDCuPA//Qm+H/8AwVwf/E16eGx/sKfJy3+f/AOOthvaS5rnz7RX0F/wrjwP/wBCb4f/APBXB/8AE0f8K48D/wDQm+H/APwVwf8AxNdP9rf3Px/4Bl9R/vfgfPtV47KOPUJr3LNLKixnceFVc8D8STX0V/wrjwP/ANCb4f8A/BXB/wDE0f8ACuPA/wD0Jvh//wAFcH/xNJ5qnryfj/wA+pf3vwPmi50CC4injFxcRJPcC4ZUKkbh2wVIwSASDnmr1rbyW6sJbua6yeDKEG36bVFfRP8AwrjwP/0Jvh//AMFcH/xNH/CuPA//AEJvh/8A8FcH/wATUxzOMXdQ/H/gFPBtqzl+B8+0V9Bf8K48D/8AQm+H/wDwVwf/ABNH/CuPA/8A0Jvh/wD8FcH/AMTV/wBrf3Px/wCAT9R/vfgfPtFfQX/CuPA//Qm+H/8AwVwf/E0f8K48D/8AQm+H/wDwVwf/ABNH9rf3Px/4AfUf734B8OP+SWeFP+wLZ/8AohK6So7a2gs7WK1s4Y4LeFBHFFEgVI1AwFUDgAAYAFSV4Z6IV458b/8AkZPDH/Xpf/8AodrXsdYPiXwToPi+S0k1+0lnezDrA0V3NAVD7dwzG65zsXrnpW1CoqVRTfQzqR54OJ870V7b/wAKb8E/9A6+/wDBxef/AB2j/hTfgn/oHX3/AIOLz/47Xtf2rD+VnB9Sl3PEqK9t/wCFN+Cf+gdff+Di8/8AjtH/AApvwT/0Dr7/AMHF5/8AHaP7Vh/Kw+pS7ngM2i213qUl1fxxXSmNY4opYgwjAySRnPJJ/SmW+kz2EcsemXUUETTmVImt9yICOVwGHGeRjGK+gf8AhTfgn/oHX3/g4vP/AI7R/wAKb8E/9A6+/wDBxef/AB2sv7Qo3uoP7yvqtT+Y8F07T3s3uZricT3FzJvkdU2LwAAAMnAAHqau17b/AMKb8E/9A6+/8HF5/wDHaP8AhTfgn/oHX3/g4vP/AI7VxzSnFWUWJ4Obd2zxKivbf+FN+Cf+gdff+Di8/wDjtH/Cm/BP/QOvv/Bxef8Ax2q/tWH8rF9Sl3PEq+gvhx/ySvwp/wBgaz/9EJWV/wAKb8E/9A6+/wDBxef/AB2uw03T7XSNKtNN0+LybSzhSCCPcW2IihVGSSTgAck5rz8Zi44nlsrWudOHoule73LNFFFeedR478b/APkZPDH/AF6X/wD6Ha153X0R4l8E6D4uktJNftJZ3sw6wNFdzQFQ+3cMxuuc7F656Vif8Kb8E/8AQOvv/Bxef/Ha9bC4+NCnyNXOKthnUnzJniVFe2/8Kb8E/wDQOvv/AAcXn/x2j/hTfgn/AKB19/4OLz/47XV/asP5WY/UpdzxKs6bRba71KS6v44rpTGscUUsQYRgZJIznkk/pXv3/Cm/BP8A0Dr7/wAHF5/8do/4U34J/wCgdff+Di8/+O1EszpS3gNYOa2kfPB8K6fLBJbXcSzWvnmaCFcxiEkcgFSOM5P41Lofh+00IXP2Qf6+Td34X+FeSemTz3r6C/4U34J/6B19/wCDi8/+O0f8Kb8E/wDQOvv/AAcXn/x2ojj6EZcyp6lPDVGrOWh4lRXtv/Cm/BP/AEDr7/wcXn/x2j/hTfgn/oHX3/g4vP8A47W39qw/lZH1KXc8Sor23/hTfgn/AKB19/4OLz/47R/wpvwT/wBA6+/8HF5/8do/tWH8rD6lLuavw4/5JZ4U/wCwLZ/+iErpKrabp9rpGlWmm6fF5NpZwpBBHuLbERQqjJJJwAOSc1Zr589MK8d+N/8AyMnhj/r0v/8A0O1r2Ks3V/Dmh+IPJ/t7RtP1PyN3lfbbVJvL3Yzt3A4zgZx6CtaNT2VRTtexFSPPFxPmuivoL/hXHgf/AKE3w/8A+CuD/wCJo/4Vx4H/AOhN8P8A/grg/wDia9f+1v7n4/8AAOH6j/e/A+faK+gv+FceB/8AoTfD/wD4K4P/AImj/hXHgf8A6E3w/wD+CuD/AOJo/tb+5+P/AAA+o/3vwPnWOyjj1Ca9yzSyosZ3HhVXPA/Ek1X/ALJEbTNa3lzbGabzm8soQCRggBlIwev1r6S/4Vx4H/6E3w//AOCuD/4mj/hXHgf/AKE3w/8A+CuD/wCJqP7Tj/J+P/AK+pv+b8D5zsdPjsRKVkkmlmffLLKQWc9B0AAwABgAVar6C/4Vx4H/AOhN8P8A/grg/wDiaP8AhXHgf/oTfD//AIK4P/iapZqkrKH4/wDAE8E27uX4Hz7RX0F/wrjwP/0Jvh//AMFcH/xNH/CuPA//AEJvh/8A8FcH/wATT/tb+5+P/AF9R/vfgfPtfQXw4/5JZ4U/7Atn/wCiEo/4Vx4H/wChN8P/APgrg/8Aia6C2toLO1itbOGOC3hQRxRRIFSNQMBVA4AAGABXDi8X9Z5fdtY6KFD2V9b3JKKKK4TpCiiigAooooAKKKKACiiigAooooAKKKKACiiigAooooAKKKKACiiigAooooAKKKKACiiigAooooAKKKKACiiigAooooAKKKKACiiigAooooAKKKKACiiigAooooAKKKKACiiigAooooAKKKKACiiigAooooAKKKKACiiigAooooAKKKKACiiigAooooAKKKKACiiigAooooAKKKKACiiigAooooAKKKKACiiigD//2Q==)"
      ]
    },
    {
      "cell_type": "code",
      "metadata": {
        "colab": {
          "base_uri": "https://localhost:8080/"
        },
        "id": "GKRY-k2z8VGJ",
        "outputId": "b38bb8d3-5904-4d9c-c73b-4e47fb788db6"
      },
      "source": [
        "i=1\n",
        "for train_set, test_set in kf.split(X=X):\n",
        "  print(\"iteration: \", i)\n",
        "  print(train_set, \" having :\", len(train_set))\n",
        "  print(test_set, \" having :\", len(test_set))\n",
        "  print(\"\\n\")\n",
        "  i+=1"
      ],
      "execution_count": null,
      "outputs": [
        {
          "output_type": "stream",
          "name": "stdout",
          "text": [
            "iteration:  1\n",
            "[1409 1410 1411 ... 7040 7041 7042]  having : 5634\n",
            "[   0    1    2 ... 1406 1407 1408]  having : 1409\n",
            "\n",
            "\n",
            "iteration:  2\n",
            "[   0    1    2 ... 7040 7041 7042]  having : 5634\n",
            "[1409 1410 1411 ... 2815 2816 2817]  having : 1409\n",
            "\n",
            "\n",
            "iteration:  3\n",
            "[   0    1    2 ... 7040 7041 7042]  having : 5634\n",
            "[2818 2819 2820 ... 4224 4225 4226]  having : 1409\n",
            "\n",
            "\n",
            "iteration:  4\n",
            "[   0    1    2 ... 7040 7041 7042]  having : 5635\n",
            "[4227 4228 4229 ... 5632 5633 5634]  having : 1408\n",
            "\n",
            "\n",
            "iteration:  5\n",
            "[   0    1    2 ... 5632 5633 5634]  having : 5635\n",
            "[5635 5636 5637 ... 7040 7041 7042]  having : 1408\n",
            "\n",
            "\n"
          ]
        }
      ]
    },
    {
      "cell_type": "code",
      "metadata": {
        "colab": {
          "base_uri": "https://localhost:8080/"
        },
        "id": "xkPiUCcCJ5vH",
        "outputId": "5cfdc1ae-d45b-4db1-c752-5501f229591e"
      },
      "source": [
        "num_cols = X.select_dtypes(include=np.number).columns\n",
        "num_cols"
      ],
      "execution_count": null,
      "outputs": [
        {
          "output_type": "execute_result",
          "data": {
            "text/plain": [
              "Index(['SeniorCitizen', 'tenure', 'MonthlyCharges'], dtype='object')"
            ]
          },
          "metadata": {},
          "execution_count": 25
        }
      ]
    },
    {
      "cell_type": "code",
      "metadata": {
        "colab": {
          "base_uri": "https://localhost:8080/"
        },
        "id": "fdY9QPp4J5pb",
        "outputId": "3e959725-3480-455f-e72d-75e662008861"
      },
      "source": [
        "cat_cols = X.select_dtypes(exclude=np.number).columns\n",
        "cat_cols"
      ],
      "execution_count": null,
      "outputs": [
        {
          "output_type": "execute_result",
          "data": {
            "text/plain": [
              "Index(['gender', 'Partner', 'Dependents', 'PhoneService', 'MultipleLines',\n",
              "       'InternetService', 'OnlineSecurity', 'OnlineBackup', 'DeviceProtection',\n",
              "       'TechSupport', 'StreamingTV', 'StreamingMovies', 'Contract',\n",
              "       'PaperlessBilling', 'PaymentMethod', 'TotalCharges'],\n",
              "      dtype='object')"
            ]
          },
          "metadata": {},
          "execution_count": 37
        }
      ]
    },
    {
      "cell_type": "code",
      "metadata": {
        "id": "ZZ9ro_FqJ5jB"
      },
      "source": [
        "ct = ColumnTransformer([\n",
        "    ('rob', RobustScaler(), num_cols),\n",
        "    ('ohe', OneHotEncoder(sparse=False, handle_unknown='ignore'), cat_cols)\n",
        "])"
      ],
      "execution_count": null,
      "outputs": []
    },
    {
      "cell_type": "code",
      "metadata": {
        "id": "-t-NVlbpJ5dN"
      },
      "source": [
        "pipe = Pipeline([\n",
        "    ('ct_step', ct),\n",
        "    ('model', RandomForestClassifier(n_estimators=10, random_state=0))\n",
        "])"
      ],
      "execution_count": null,
      "outputs": []
    },
    {
      "cell_type": "code",
      "metadata": {
        "colab": {
          "base_uri": "https://localhost:8080/"
        },
        "id": "_XWjBg8JJ5Xx",
        "outputId": "eb2dbc0b-79c6-4838-cdf1-aa9717a29438"
      },
      "source": [
        "scores = []\n",
        "i = 1\n",
        "for train_set, test_set in kf.split(X):\n",
        "    pipe.fit(X.loc[train_set], y[train_set])\n",
        "    sco = pipe.score(X.loc[test_set], y[test_set])\n",
        "    scores.append(sco)\n",
        "    print(\"iteration \", i)\n",
        "    i += 1"
      ],
      "execution_count": null,
      "outputs": [
        {
          "output_type": "stream",
          "name": "stdout",
          "text": [
            "iteration  1\n",
            "iteration  2\n",
            "iteration  3\n",
            "iteration  4\n",
            "iteration  5\n"
          ]
        }
      ]
    },
    {
      "cell_type": "code",
      "metadata": {
        "colab": {
          "base_uri": "https://localhost:8080/"
        },
        "id": "kTUujsXWQZnY",
        "outputId": "487c7bcc-71ee-44e9-e382-cb0e7597f121"
      },
      "source": [
        "np.array(scores)"
      ],
      "execution_count": null,
      "outputs": [
        {
          "output_type": "execute_result",
          "data": {
            "text/plain": [
              "array([0.77785664, 0.77856636, 0.76437189, 0.77414773, 0.77627841])"
            ]
          },
          "metadata": {},
          "execution_count": 43
        }
      ]
    },
    {
      "cell_type": "code",
      "metadata": {
        "colab": {
          "base_uri": "https://localhost:8080/"
        },
        "id": "8VuHHTuoQfi_",
        "outputId": "2f9f67b8-593b-43ae-da22-b42363f410ac"
      },
      "source": [
        "np.array(scores).mean()"
      ],
      "execution_count": null,
      "outputs": [
        {
          "output_type": "execute_result",
          "data": {
            "text/plain": [
              "0.7742442052713079"
            ]
          },
          "metadata": {},
          "execution_count": 44
        }
      ]
    },
    {
      "cell_type": "code",
      "metadata": {
        "colab": {
          "base_uri": "https://localhost:8080/"
        },
        "id": "8RRwU5p1QfZ4",
        "outputId": "dcc7ddd9-4864-468c-b6aa-b4b849b822d3"
      },
      "source": [
        "np.array(scores).std()"
      ],
      "execution_count": null,
      "outputs": [
        {
          "output_type": "execute_result",
          "data": {
            "text/plain": [
              "0.005164116053549352"
            ]
          },
          "metadata": {},
          "execution_count": 45
        }
      ]
    }
  ]
}