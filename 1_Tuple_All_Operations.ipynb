{
  "nbformat": 4,
  "nbformat_minor": 0,
  "metadata": {
    "colab": {
      "name": "1_Tuple-All-Operations.ipynb",
      "provenance": [],
      "collapsed_sections": [],
      "include_colab_link": true
    },
    "kernelspec": {
      "name": "python3",
      "display_name": "Python 3"
    }
  },
  "cells": [
    {
      "cell_type": "markdown",
      "metadata": {
        "id": "view-in-github",
        "colab_type": "text"
      },
      "source": [
        "<a href=\"https://colab.research.google.com/github/sureshmecad/Google-Colab/blob/master/1_Tuple_All_Operations.ipynb\" target=\"_parent\"><img src=\"https://colab.research.google.com/assets/colab-badge.svg\" alt=\"Open In Colab\"/></a>"
      ]
    },
    {
      "cell_type": "markdown",
      "metadata": {
        "id": "XtuNlQdMrYkv"
      },
      "source": [
        "### **Tupple**"
      ]
    },
    {
      "cell_type": "markdown",
      "metadata": {
        "id": "AAmkjBW7USzI"
      },
      "source": [
        "- **tuples** are **immutable** i.e. tuples **cannot be modified** after it is created.\n",
        "\n",
        "- **Tuples** can contain any number of elements and of any datatype (like **strings, integers, list, etc.**)\n",
        "\n",
        "- We generally use **tuples** for **heterogeneous (different) data types** and **lists** for **homogeneous (similar) data types**.\n",
        "\n",
        "- Since tuples are immutable, **iterating** through a **tuple is faster than with list**. So there is a slight performance boost."
      ]
    },
    {
      "cell_type": "markdown",
      "metadata": {
        "id": "OmnaTWEvrpVG"
      },
      "source": [
        "- **Tuples** are used to store **multiple items** in a single variable\n",
        "\n",
        "- **Tuple** is one of 4 built-in **data types** in Python\n",
        "\n",
        "- **Tuple** items are **ordered, unchangeable, and allow duplicate values**.\n",
        "\n",
        " - **ordered:** it means that the items have a defined order, and that order will not change\n",
        "\n",
        " - **unchangeable:** we cannot **change, add or remove** items after the tuple has been created\n",
        "\n",
        " - **duplicate values:** Since tuples are indexed, they can have items with the same value\n",
        "\n",
        "- **Tuples** are written with **round brackets**"
      ]
    },
    {
      "cell_type": "code",
      "metadata": {
        "colab": {
          "base_uri": "https://localhost:8080/"
        },
        "id": "CaMsA_CxUrtP",
        "outputId": "f507d150-043a-4ce1-98d5-760f9a4bd2cd"
      },
      "source": [
        "# Python program to demonstrate creation of Set\n",
        "   \n",
        "# Creating an empty tuple\n",
        "Tuple1 = ()\n",
        "print(\"Initial empty Tuple: \")\n",
        "print (Tuple1)\n",
        "   \n",
        "# Creating a Tuple with the use of Strings\n",
        "Tuple1 = ('Geeks', 'For')\n",
        "print(\"\\nTuple with the use of String: \")\n",
        "print(Tuple1)\n",
        "   \n",
        "# Creating a Tuple with the use of list\n",
        "list1 = [1, 2, 4, 5, 6]\n",
        "print(\"\\nTuple using List: \")\n",
        "print(tuple(list1))\n",
        " \n",
        "# Creating a Tuple with the use of built-in function\n",
        "Tuple1 = tuple('Geeks')\n",
        "print(\"\\nTuple with the use of function: \")\n",
        "print(Tuple1)\n",
        " \n",
        "# Creating a Tuple with nested tuples\n",
        "Tuple1 = (0, 1, 2, 3)\n",
        "Tuple2 = ('python', 'geek')\n",
        "Tuple3 = (Tuple1, Tuple2)\n",
        "print(\"\\nTuple with nested tuples: \")\n",
        "print(Tuple3)"
      ],
      "execution_count": null,
      "outputs": [
        {
          "output_type": "stream",
          "text": [
            "Initial empty Tuple: \n",
            "()\n",
            "\n",
            "Tuple with the use of String: \n",
            "('Geeks', 'For')\n",
            "\n",
            "Tuple using List: \n",
            "(1, 2, 4, 5, 6)\n",
            "\n",
            "Tuple with the use of function: \n",
            "('G', 'e', 'e', 'k', 's')\n",
            "\n",
            "Tuple with nested tuples: \n",
            "((0, 1, 2, 3), ('python', 'geek'))\n"
          ],
          "name": "stdout"
        }
      ]
    },
    {
      "cell_type": "code",
      "metadata": {
        "colab": {
          "base_uri": "https://localhost:8080/"
        },
        "id": "0j7aeSsgicyV",
        "outputId": "11f8b52f-1448-47fb-c3c6-9708c7983a6d"
      },
      "source": [
        "# Accessing tuple elements using indexing\n",
        "my_tuple = ('p','e','r','m','i','t')\n",
        "\n",
        "print(my_tuple[0])   # 'p' \n",
        "print(my_tuple[5])   # 't'\n",
        "\n",
        "# IndexError: list index out of range print(my_tuple[6])\n",
        "\n",
        "# Index must be an integer\n",
        "# TypeError: list indices must be integers, not float\n",
        "# my_tuple[2.0]\n",
        "\n",
        "# nested tuple\n",
        "n_tuple = (\"mouse\", [8, 4, 6], (1, 2, 3))\n",
        "\n",
        "# nested index\n",
        "print(n_tuple[0][3])       # 's'\n",
        "print(n_tuple[1][1])       # 4"
      ],
      "execution_count": null,
      "outputs": [
        {
          "output_type": "stream",
          "text": [
            "p\n",
            "t\n",
            "s\n",
            "4\n"
          ],
          "name": "stdout"
        }
      ]
    },
    {
      "cell_type": "code",
      "metadata": {
        "colab": {
          "base_uri": "https://localhost:8080/"
        },
        "id": "7qiAgfpojPJa",
        "outputId": "9320bc8b-9324-4aac-b377-9a645cf871b2"
      },
      "source": [
        "# Changing tuple values\n",
        "my_tuple = (4, 2, 3, [6, 5])\n",
        "\n",
        "# TypeError: 'tuple' object does not support item assignment\n",
        "# my_tuple[1] = 9\n",
        "\n",
        "# However, item of mutable element can be changed\n",
        "my_tuple[3][0] = 9    # Output: (4, 2, 3, [9, 5])\n",
        "print(my_tuple)"
      ],
      "execution_count": null,
      "outputs": [
        {
          "output_type": "stream",
          "text": [
            "(4, 2, 3, [9, 5])\n"
          ],
          "name": "stdout"
        }
      ]
    },
    {
      "cell_type": "markdown",
      "metadata": {
        "id": "qkBudeP2VI6_"
      },
      "source": [
        "##### **5.1) Indexing (Accessing elements of Tuple)**"
      ]
    },
    {
      "cell_type": "code",
      "metadata": {
        "colab": {
          "base_uri": "https://localhost:8080/"
        },
        "id": "MmLOTSeGWClv",
        "outputId": "ab6be66b-4d4b-4213-e24e-b440bacf1126"
      },
      "source": [
        "my_tuple = ('a', 'b', 'c', 'd')\n",
        "print(my_tuple[1])\n",
        "print(my_tuple[-1])"
      ],
      "execution_count": null,
      "outputs": [
        {
          "output_type": "stream",
          "text": [
            "b\n",
            "d\n"
          ],
          "name": "stdout"
        }
      ]
    },
    {
      "cell_type": "code",
      "metadata": {
        "colab": {
          "base_uri": "https://localhost:8080/"
        },
        "id": "mJsrNFwrVV8Q",
        "outputId": "90ecf1a6-567c-49d8-a172-7f343cd32f3f"
      },
      "source": [
        "# Python program to demonstrate accessing tuple\n",
        " \n",
        "tuple1 = tuple([1, 2, 3, 4, 5])\n",
        " \n",
        "# Accessing element using indexing\n",
        "print(\"First element of tuple\")\n",
        "print(tuple1[0])\n",
        " \n",
        "# Accessing element from last negative indexing\n",
        "print(\"\\nLast element of tuple\")\n",
        "print(tuple1[-1])\n",
        " \n",
        "print(\"\\nThird last element of tuple\")\n",
        "print(tuple1[-3])"
      ],
      "execution_count": null,
      "outputs": [
        {
          "output_type": "stream",
          "text": [
            "First element of tuple\n",
            "1\n",
            "\n",
            "Last element of tuple\n",
            "5\n",
            "\n",
            "Third last element of tuple\n",
            "3\n"
          ],
          "name": "stdout"
        }
      ]
    },
    {
      "cell_type": "markdown",
      "metadata": {
        "id": "3N-UwIy1WF3U"
      },
      "source": [
        "##### **5.2) Slicing**\n",
        "\n",
        "- If you want to get a part of the tuple, use the slicing operator. **[start:stop:step]** "
      ]
    },
    {
      "cell_type": "code",
      "metadata": {
        "colab": {
          "base_uri": "https://localhost:8080/"
        },
        "id": "D0dhMUXnWW5c",
        "outputId": "8f0064a2-72e6-4b1f-d182-f83983c8ea5f"
      },
      "source": [
        "my_tuple = ('a', 'b', 'c', 'd')\n",
        "\n",
        "print(my_tuple[1:])   # Print elements from index 1 to end\n",
        "\n",
        "print(my_tuple[:2])   # Print elements from start to index 2\n",
        "\n",
        "print(my_tuple[1:3])  # Print elements from index 1 to index 3\n",
        "\n",
        "print(my_tuple[::2])  # Print elements from start to end using step sizes of 2"
      ],
      "execution_count": null,
      "outputs": [
        {
          "output_type": "stream",
          "text": [
            "('b', 'c', 'd')\n",
            "('a', 'b')\n",
            "('b', 'c')\n",
            "('a', 'c')\n"
          ],
          "name": "stdout"
        }
      ]
    },
    {
      "cell_type": "markdown",
      "metadata": {
        "id": "JFeqIwCtjw1x"
      },
      "source": [
        "##### **5.3) Concatenation**"
      ]
    },
    {
      "cell_type": "code",
      "metadata": {
        "colab": {
          "base_uri": "https://localhost:8080/"
        },
        "id": "PR-N-qC7j2Gc",
        "outputId": "d7626015-670d-4534-ed4a-438c9ddc996f"
      },
      "source": [
        "# Concatenation\n",
        "print((1, 2, 3) + (4, 5, 6))"
      ],
      "execution_count": null,
      "outputs": [
        {
          "output_type": "stream",
          "text": [
            "(1, 2, 3, 4, 5, 6)\n"
          ],
          "name": "stdout"
        }
      ]
    },
    {
      "cell_type": "markdown",
      "metadata": {
        "id": "UUxXXkYFkISn"
      },
      "source": [
        "##### **5.4) Delete**\n",
        "\n",
        "- we cannot change the elements in a tuple. It means that we **cannot delete or remove** items from a tuple.\n",
        "\n",
        "- Deleting a **tuple entirely**, however, is possible using the keyword **del**"
      ]
    },
    {
      "cell_type": "code",
      "metadata": {
        "id": "1pXFnLGGkMYc"
      },
      "source": [
        "# Deleting tuples\n",
        "my_tuple = ('p', 'r', 'o', 'g', 'r', 'a', 'm', 'i', 'z')"
      ],
      "execution_count": null,
      "outputs": []
    },
    {
      "cell_type": "code",
      "metadata": {
        "colab": {
          "base_uri": "https://localhost:8080/",
          "height": 197
        },
        "id": "YOVh7CNvlWFA",
        "outputId": "5f138e15-dab4-4ae0-9e4b-6fc453c8bb3a"
      },
      "source": [
        "# can't delete items\n",
        "# TypeError: 'tuple' object doesn't support item deletion\n",
        "del my_tuple[3]"
      ],
      "execution_count": null,
      "outputs": [
        {
          "output_type": "error",
          "ename": "TypeError",
          "evalue": "ignored",
          "traceback": [
            "\u001b[0;31m---------------------------------------------------------------------------\u001b[0m",
            "\u001b[0;31mTypeError\u001b[0m                                 Traceback (most recent call last)",
            "\u001b[0;32m<ipython-input-28-69b9185d0a99>\u001b[0m in \u001b[0;36m<module>\u001b[0;34m()\u001b[0m\n\u001b[1;32m      1\u001b[0m \u001b[0;31m# can't delete items\u001b[0m\u001b[0;34m\u001b[0m\u001b[0;34m\u001b[0m\u001b[0;34m\u001b[0m\u001b[0m\n\u001b[1;32m      2\u001b[0m \u001b[0;31m# TypeError: 'tuple' object doesn't support item deletion\u001b[0m\u001b[0;34m\u001b[0m\u001b[0;34m\u001b[0m\u001b[0;34m\u001b[0m\u001b[0m\n\u001b[0;32m----> 3\u001b[0;31m \u001b[0;32mdel\u001b[0m \u001b[0mmy_tuple\u001b[0m\u001b[0;34m[\u001b[0m\u001b[0;36m3\u001b[0m\u001b[0;34m]\u001b[0m\u001b[0;34m\u001b[0m\u001b[0;34m\u001b[0m\u001b[0m\n\u001b[0m",
            "\u001b[0;31mTypeError\u001b[0m: 'tuple' object doesn't support item deletion"
          ]
        }
      ]
    },
    {
      "cell_type": "code",
      "metadata": {
        "colab": {
          "base_uri": "https://localhost:8080/",
          "height": 197
        },
        "id": "Dq_sXjbpkjGq",
        "outputId": "a9312d48-d8b3-4b6f-b2a2-ca89541c3857"
      },
      "source": [
        "# Can delete an entire tuple\n",
        "del my_tuple\n",
        "\n",
        "# NameError: name 'my_tuple' is not defined\n",
        "print(my_tuple)"
      ],
      "execution_count": null,
      "outputs": [
        {
          "output_type": "error",
          "ename": "NameError",
          "evalue": "ignored",
          "traceback": [
            "\u001b[0;31m---------------------------------------------------------------------------\u001b[0m",
            "\u001b[0;31mNameError\u001b[0m                                 Traceback (most recent call last)",
            "\u001b[0;32m<ipython-input-29-d0b1e6b23d17>\u001b[0m in \u001b[0;36m<module>\u001b[0;34m()\u001b[0m\n\u001b[1;32m      3\u001b[0m \u001b[0;34m\u001b[0m\u001b[0m\n\u001b[1;32m      4\u001b[0m \u001b[0;31m# NameError: name 'my_tuple' is not defined\u001b[0m\u001b[0;34m\u001b[0m\u001b[0;34m\u001b[0m\u001b[0;34m\u001b[0m\u001b[0m\n\u001b[0;32m----> 5\u001b[0;31m \u001b[0mprint\u001b[0m\u001b[0;34m(\u001b[0m\u001b[0mmy_tuple\u001b[0m\u001b[0;34m)\u001b[0m\u001b[0;34m\u001b[0m\u001b[0;34m\u001b[0m\u001b[0m\n\u001b[0m",
            "\u001b[0;31mNameError\u001b[0m: name 'my_tuple' is not defined"
          ]
        }
      ]
    },
    {
      "cell_type": "markdown",
      "metadata": {
        "id": "Wd-mcrbKmAnr"
      },
      "source": [
        "##### **5.5) Tuple Methods**\n",
        "\n",
        "- **count**\n",
        "- **index**"
      ]
    },
    {
      "cell_type": "code",
      "metadata": {
        "colab": {
          "base_uri": "https://localhost:8080/"
        },
        "id": "uM8YJjRYmGYY",
        "outputId": "062c4d54-3f13-4aab-9f76-609c006b9c2d"
      },
      "source": [
        "my_tuple = ('a', 'p', 'p', 'l', 'e',)\n",
        "\n",
        "print(my_tuple.count('p'))\n",
        "print(my_tuple.index('l'))"
      ],
      "execution_count": null,
      "outputs": [
        {
          "output_type": "stream",
          "text": [
            "2\n",
            "3\n"
          ],
          "name": "stdout"
        }
      ]
    },
    {
      "cell_type": "markdown",
      "metadata": {
        "id": "7_p39FxVsufD"
      },
      "source": [
        "##### **5.6) Create Tuple With One Item**"
      ]
    },
    {
      "cell_type": "markdown",
      "metadata": {
        "id": "setk8uO8szM4"
      },
      "source": [
        "- To create a **tuple** with only **one item**, you have to add a **comma** after the item, otherwise Python will **not recognize** it as a tuple"
      ]
    },
    {
      "cell_type": "code",
      "metadata": {
        "colab": {
          "base_uri": "https://localhost:8080/"
        },
        "id": "2kyb7mOUtAg7",
        "outputId": "bae1c8ce-69b5-4836-e6ff-786da84781c7"
      },
      "source": [
        "thistuple = (\"apple\",)\n",
        "print(type(thistuple))\n",
        "\n",
        "#NOT a tuple\n",
        "thistuple = (\"apple\")\n",
        "print(type(thistuple))"
      ],
      "execution_count": null,
      "outputs": [
        {
          "output_type": "stream",
          "text": [
            "<class 'tuple'>\n",
            "<class 'str'>\n"
          ],
          "name": "stdout"
        }
      ]
    },
    {
      "cell_type": "code",
      "metadata": {
        "colab": {
          "base_uri": "https://localhost:8080/"
        },
        "id": "VCW31FGPtOZ6",
        "outputId": "33045cd0-ae9d-49d9-992f-2492abfc1a58"
      },
      "source": [
        "a =(2,)\n",
        "print(type(a))\n",
        "\n",
        "a =(2)\n",
        "print(type(a))"
      ],
      "execution_count": null,
      "outputs": [
        {
          "output_type": "stream",
          "text": [
            "<class 'tuple'>\n",
            "<class 'int'>\n"
          ],
          "name": "stdout"
        }
      ]
    },
    {
      "cell_type": "markdown",
      "metadata": {
        "id": "9bSmQ2BduIau"
      },
      "source": [
        "##### **5.7) Tuple Items - Data Types**"
      ]
    },
    {
      "cell_type": "markdown",
      "metadata": {
        "id": "2nb6_WCLuN7J"
      },
      "source": [
        "- **Tuple** items can be of any data type: **String, int and boolean data types**"
      ]
    },
    {
      "cell_type": "code",
      "metadata": {
        "colab": {
          "base_uri": "https://localhost:8080/"
        },
        "id": "OfVDQZPxu8BL",
        "outputId": "591cd0ab-afd1-419e-eda2-bfd79b3506fc"
      },
      "source": [
        "tuple1 = (\"apple\", \"banana\", \"cherry\")\n",
        "tuple2 = (1, 5, 7, 9, 3)\n",
        "tuple3 = (True, False, False)\n",
        "\n",
        "print(tuple1)\n",
        "print(tuple2)\n",
        "print(tuple3)"
      ],
      "execution_count": null,
      "outputs": [
        {
          "output_type": "stream",
          "text": [
            "('apple', 'banana', 'cherry')\n",
            "(1, 5, 7, 9, 3)\n",
            "(True, False, False)\n"
          ],
          "name": "stdout"
        }
      ]
    },
    {
      "cell_type": "markdown",
      "metadata": {
        "id": "csuY0nMHvIFm"
      },
      "source": [
        "- A **tuple** with **strings, integers and boolean values**"
      ]
    },
    {
      "cell_type": "code",
      "metadata": {
        "id": "GPbVg8ANvM6y"
      },
      "source": [
        "tuple1 = (\"abc\", 34, True, 40, \"male\")"
      ],
      "execution_count": null,
      "outputs": []
    },
    {
      "cell_type": "markdown",
      "metadata": {
        "id": "9bGH9Z7wo2R2"
      },
      "source": [
        "##### **5.8) Tuple to Set Conversion**"
      ]
    },
    {
      "cell_type": "markdown",
      "metadata": {
        "id": "rCXc4TyMpcia"
      },
      "source": [
        "- **set()** method is used to convert any of the **iterable** to sequence of iterable elements with distinct elements, commonly called Set. \n",
        "\n",
        " - **Syntax** : set(iterable)\n",
        "\n",
        " - **Parameters** : Any **iterable** sequence like **list, tuple or dictionary**.\n",
        "\n",
        " - **Returns** : An **empty set** if **no element** is passed. **Non-repeating element** iterable modified as passed as argument. "
      ]
    },
    {
      "cell_type": "code",
      "metadata": {
        "colab": {
          "base_uri": "https://localhost:8080/"
        },
        "id": "e2oED8n3o81G",
        "outputId": "4605227b-e5ff-46ac-cbdf-69c03243d3e8"
      },
      "source": [
        "# initializing tuple\n",
        "tup1 = (3, 4, 1, 4, 5)\n",
        "\n",
        "set(tup1)"
      ],
      "execution_count": null,
      "outputs": [
        {
          "output_type": "execute_result",
          "data": {
            "text/plain": [
              "{1, 3, 4, 5}"
            ]
          },
          "metadata": {
            "tags": []
          },
          "execution_count": 48
        }
      ]
    },
    {
      "cell_type": "markdown",
      "metadata": {
        "id": "KxBV-y5YRpxF"
      },
      "source": [
        "#### **Question 1**"
      ]
    },
    {
      "cell_type": "code",
      "metadata": {
        "colab": {
          "base_uri": "https://localhost:8080/",
          "height": 197
        },
        "id": "yfOUGfUZU82x",
        "outputId": "f4030db7-2753-4190-c122-2405da887e04"
      },
      "source": [
        "tuple = (100, 200, 300, 400, 500)\n",
        "tuple.pop(2)\n",
        "print(tuple)"
      ],
      "execution_count": null,
      "outputs": [
        {
          "output_type": "error",
          "ename": "AttributeError",
          "evalue": "ignored",
          "traceback": [
            "\u001b[0;31m---------------------------------------------------------------------------\u001b[0m",
            "\u001b[0;31mAttributeError\u001b[0m                            Traceback (most recent call last)",
            "\u001b[0;32m<ipython-input-46-5508db83ee2f>\u001b[0m in \u001b[0;36m<module>\u001b[0;34m()\u001b[0m\n\u001b[1;32m      1\u001b[0m \u001b[0mtuple\u001b[0m \u001b[0;34m=\u001b[0m \u001b[0;34m(\u001b[0m\u001b[0;36m100\u001b[0m\u001b[0;34m,\u001b[0m \u001b[0;36m200\u001b[0m\u001b[0;34m,\u001b[0m \u001b[0;36m300\u001b[0m\u001b[0;34m,\u001b[0m \u001b[0;36m400\u001b[0m\u001b[0;34m,\u001b[0m \u001b[0;36m500\u001b[0m\u001b[0;34m)\u001b[0m\u001b[0;34m\u001b[0m\u001b[0;34m\u001b[0m\u001b[0m\n\u001b[0;32m----> 2\u001b[0;31m \u001b[0mtuple\u001b[0m\u001b[0;34m.\u001b[0m\u001b[0mpop\u001b[0m\u001b[0;34m(\u001b[0m\u001b[0;36m2\u001b[0m\u001b[0;34m)\u001b[0m\u001b[0;34m\u001b[0m\u001b[0;34m\u001b[0m\u001b[0m\n\u001b[0m\u001b[1;32m      3\u001b[0m \u001b[0mprint\u001b[0m\u001b[0;34m(\u001b[0m\u001b[0mtuple\u001b[0m\u001b[0;34m)\u001b[0m\u001b[0;34m\u001b[0m\u001b[0;34m\u001b[0m\u001b[0m\n",
            "\u001b[0;31mAttributeError\u001b[0m: 'tuple' object has no attribute 'pop'"
          ]
        }
      ]
    },
    {
      "cell_type": "markdown",
      "metadata": {
        "id": "ARwxMtOhQcJ2"
      },
      "source": [
        "#### **Question 2**"
      ]
    },
    {
      "cell_type": "code",
      "metadata": {
        "colab": {
          "base_uri": "https://localhost:8080/",
          "height": 197
        },
        "id": "G15P45fXQgA9",
        "outputId": "58bc7953-c460-4390-e233-1284c4d9aa67"
      },
      "source": [
        "x = (1, 2, 3, 4, 5)\n",
        "x[3] = 9\n",
        "print(x)"
      ],
      "execution_count": null,
      "outputs": [
        {
          "output_type": "error",
          "ename": "TypeError",
          "evalue": "ignored",
          "traceback": [
            "\u001b[0;31m---------------------------------------------------------------------------\u001b[0m",
            "\u001b[0;31mTypeError\u001b[0m                                 Traceback (most recent call last)",
            "\u001b[0;32m<ipython-input-27-2cc3bedab5e9>\u001b[0m in \u001b[0;36m<module>\u001b[0;34m()\u001b[0m\n\u001b[1;32m      1\u001b[0m \u001b[0mx\u001b[0m \u001b[0;34m=\u001b[0m \u001b[0;34m(\u001b[0m\u001b[0;36m1\u001b[0m\u001b[0;34m,\u001b[0m \u001b[0;36m2\u001b[0m\u001b[0;34m,\u001b[0m \u001b[0;36m3\u001b[0m\u001b[0;34m,\u001b[0m \u001b[0;36m4\u001b[0m\u001b[0;34m,\u001b[0m \u001b[0;36m5\u001b[0m\u001b[0;34m)\u001b[0m\u001b[0;34m\u001b[0m\u001b[0;34m\u001b[0m\u001b[0m\n\u001b[0;32m----> 2\u001b[0;31m \u001b[0mx\u001b[0m\u001b[0;34m[\u001b[0m\u001b[0;36m3\u001b[0m\u001b[0;34m]\u001b[0m \u001b[0;34m=\u001b[0m \u001b[0;36m9\u001b[0m\u001b[0;34m\u001b[0m\u001b[0;34m\u001b[0m\u001b[0m\n\u001b[0m\u001b[1;32m      3\u001b[0m \u001b[0mprint\u001b[0m\u001b[0;34m(\u001b[0m\u001b[0mx\u001b[0m\u001b[0;34m)\u001b[0m\u001b[0;34m\u001b[0m\u001b[0;34m\u001b[0m\u001b[0m\n",
            "\u001b[0;31mTypeError\u001b[0m: 'tuple' object does not support item assignment"
          ]
        }
      ]
    },
    {
      "cell_type": "markdown",
      "metadata": {
        "id": "eWvzF7IpRyoZ"
      },
      "source": [
        "#### **Question 2**"
      ]
    },
    {
      "cell_type": "code",
      "metadata": {
        "id": "NmgUQLl4DbBj",
        "colab": {
          "base_uri": "https://localhost:8080/",
          "height": 214
        },
        "outputId": "9ebd9f0b-f7f7-4885-8ac1-f6eced282599"
      },
      "source": [
        "a = \"(hello, python, learning)\"\n",
        "b = tuple(a)\n",
        "print(b)\n",
        "len(b)"
      ],
      "execution_count": null,
      "outputs": [
        {
          "output_type": "error",
          "ename": "TypeError",
          "evalue": "ignored",
          "traceback": [
            "\u001b[0;31m---------------------------------------------------------------------------\u001b[0m",
            "\u001b[0;31mTypeError\u001b[0m                                 Traceback (most recent call last)",
            "\u001b[0;32m<ipython-input-86-9f5f689f9a5c>\u001b[0m in \u001b[0;36m<module>\u001b[0;34m()\u001b[0m\n\u001b[1;32m      1\u001b[0m \u001b[0ma\u001b[0m \u001b[0;34m=\u001b[0m \u001b[0;34m\"(hello, python, learning)\"\u001b[0m\u001b[0;34m\u001b[0m\u001b[0;34m\u001b[0m\u001b[0m\n\u001b[0;32m----> 2\u001b[0;31m \u001b[0mb\u001b[0m \u001b[0;34m=\u001b[0m \u001b[0mtuple\u001b[0m\u001b[0;34m(\u001b[0m\u001b[0ma\u001b[0m\u001b[0;34m)\u001b[0m\u001b[0;34m\u001b[0m\u001b[0;34m\u001b[0m\u001b[0m\n\u001b[0m\u001b[1;32m      3\u001b[0m \u001b[0mprint\u001b[0m\u001b[0;34m(\u001b[0m\u001b[0mb\u001b[0m\u001b[0;34m)\u001b[0m\u001b[0;34m\u001b[0m\u001b[0;34m\u001b[0m\u001b[0m\n\u001b[1;32m      4\u001b[0m \u001b[0mlen\u001b[0m\u001b[0;34m(\u001b[0m\u001b[0mb\u001b[0m\u001b[0;34m)\u001b[0m\u001b[0;34m\u001b[0m\u001b[0;34m\u001b[0m\u001b[0m\n",
            "\u001b[0;31mTypeError\u001b[0m: 'tuple' object is not callable"
          ]
        }
      ]
    },
    {
      "cell_type": "markdown",
      "metadata": {
        "id": "AYlu8o7BR38D"
      },
      "source": [
        "#### **Question 3**"
      ]
    },
    {
      "cell_type": "code",
      "metadata": {
        "colab": {
          "base_uri": "https://localhost:8080/",
          "height": 129
        },
        "id": "6sZvdO7HR5tl",
        "outputId": "108d5779-565c-4404-bf5a-d0ce3a1361fe"
      },
      "source": [
        "tuple = (1, 'python', 1+3j)\n",
        "print(tuple([1:2]))"
      ],
      "execution_count": null,
      "outputs": [
        {
          "output_type": "error",
          "ename": "SyntaxError",
          "evalue": "ignored",
          "traceback": [
            "\u001b[0;36m  File \u001b[0;32m\"<ipython-input-7-373a0ec68706>\"\u001b[0;36m, line \u001b[0;32m2\u001b[0m\n\u001b[0;31m    print(tuple([1:2]))\u001b[0m\n\u001b[0m                  ^\u001b[0m\n\u001b[0;31mSyntaxError\u001b[0m\u001b[0;31m:\u001b[0m invalid syntax\n"
          ]
        }
      ]
    },
    {
      "cell_type": "markdown",
      "metadata": {
        "id": "7w6P8xJTXIp2"
      },
      "source": [
        "#### **Question 4**"
      ]
    },
    {
      "cell_type": "code",
      "metadata": {
        "colab": {
          "base_uri": "https://localhost:8080/"
        },
        "id": "juAmrUt7XTBJ",
        "outputId": "32493daa-5f21-44c7-9891-18c2f5830584"
      },
      "source": [
        "a = (1, 2, 3, 4)\n",
        "print(a[1:-1])"
      ],
      "execution_count": null,
      "outputs": [
        {
          "output_type": "stream",
          "text": [
            "(2, 3)\n"
          ],
          "name": "stdout"
        }
      ]
    },
    {
      "cell_type": "markdown",
      "metadata": {
        "id": "EMmr7Tw8X5nT"
      },
      "source": [
        "#### **Question 5**"
      ]
    },
    {
      "cell_type": "code",
      "metadata": {
        "colab": {
          "base_uri": "https://localhost:8080/"
        },
        "id": "jGd2iGpjX_ZT",
        "outputId": "375c7d78-7c76-45e3-e082-9d20396a30a7"
      },
      "source": [
        "# What is the data type of (2021)?\n",
        "print(type(2021))"
      ],
      "execution_count": null,
      "outputs": [
        {
          "output_type": "stream",
          "text": [
            "<class 'int'>\n"
          ],
          "name": "stdout"
        }
      ]
    },
    {
      "cell_type": "markdown",
      "metadata": {
        "id": "9DNBEXkqf5An"
      },
      "source": [
        "#### **Question 6**"
      ]
    },
    {
      "cell_type": "code",
      "metadata": {
        "colab": {
          "base_uri": "https://localhost:8080/"
        },
        "id": "i55hDeCFf8tU",
        "outputId": "76ec6819-94da-466d-cf5b-e3f54546239d"
      },
      "source": [
        "t = (1, 2)\n",
        "print(2 * t)"
      ],
      "execution_count": null,
      "outputs": [
        {
          "output_type": "stream",
          "text": [
            "(1, 2, 1, 2)\n"
          ],
          "name": "stdout"
        }
      ]
    },
    {
      "cell_type": "code",
      "metadata": {
        "colab": {
          "base_uri": "https://localhost:8080/"
        },
        "id": "nKV3LO7Wjdgk",
        "outputId": "ea7d06f1-0fea-4ea6-cc98-fcc358974dc2"
      },
      "source": [
        "# Repeat\n",
        "\n",
        "print((\"Repeat\",) * 3)"
      ],
      "execution_count": null,
      "outputs": [
        {
          "output_type": "stream",
          "text": [
            "('Repeat', 'Repeat', 'Repeat')\n"
          ],
          "name": "stdout"
        }
      ]
    },
    {
      "cell_type": "markdown",
      "metadata": {
        "id": "eCmLrYuwSduy"
      },
      "source": [
        "#### **Question 7**"
      ]
    },
    {
      "cell_type": "markdown",
      "metadata": {
        "id": "z1Xiy1BasZ6F"
      },
      "source": [
        "- To create a **tuple** with only **one item**, you have to add a **comma** after the item, otherwise Python will **not recognize** it as a tuple"
      ]
    },
    {
      "cell_type": "code",
      "metadata": {
        "colab": {
          "base_uri": "https://localhost:8080/"
        },
        "id": "9xAAQuJoShi6",
        "outputId": "ed4d1e12-d20f-48f1-a964-c01d01818461"
      },
      "source": [
        "a =(2,)\n",
        "print(type(a))"
      ],
      "execution_count": null,
      "outputs": [
        {
          "output_type": "stream",
          "text": [
            "<class 'tuple'>\n"
          ],
          "name": "stdout"
        }
      ]
    },
    {
      "cell_type": "markdown",
      "metadata": {
        "id": "UiIPQWBtIBIE"
      },
      "source": [
        "#### **Question 8**"
      ]
    },
    {
      "cell_type": "code",
      "metadata": {
        "colab": {
          "base_uri": "https://localhost:8080/"
        },
        "id": "Ieak-UVRIHhR",
        "outputId": "3d752b51-2649-4e75-f84a-ed790aa50ba3"
      },
      "source": [
        "print (list((1, 4, 5, 7)))"
      ],
      "execution_count": null,
      "outputs": [
        {
          "output_type": "stream",
          "text": [
            "[1, 4, 5, 7]\n"
          ],
          "name": "stdout"
        }
      ]
    },
    {
      "cell_type": "markdown",
      "metadata": {
        "id": "o0X_vFKiCi1j"
      },
      "source": [
        "#### **Question 9**"
      ]
    },
    {
      "cell_type": "code",
      "metadata": {
        "colab": {
          "base_uri": "https://localhost:8080/"
        },
        "id": "7gB2WqJkCulR",
        "outputId": "802da63f-1719-4ffc-bbc1-18f43e306828"
      },
      "source": [
        "my_tuple = ('p','y','t','h','o','n')\n",
        "print(my_tuple[1:4])"
      ],
      "execution_count": null,
      "outputs": [
        {
          "output_type": "stream",
          "text": [
            "('y', 't', 'h')\n"
          ],
          "name": "stdout"
        }
      ]
    },
    {
      "cell_type": "markdown",
      "metadata": {
        "id": "2NG-fnmYtNKs"
      },
      "source": [
        "--------------------------------------------------------------------------------"
      ]
    }
  ]
}