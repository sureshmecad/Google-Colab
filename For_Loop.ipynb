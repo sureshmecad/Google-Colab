{
  "nbformat": 4,
  "nbformat_minor": 0,
  "metadata": {
    "colab": {
      "name": "For Loop.ipynb",
      "provenance": [],
      "authorship_tag": "ABX9TyPalmu0cxtl9Tkf4ebqN15Z",
      "include_colab_link": true
    },
    "kernelspec": {
      "name": "python3",
      "display_name": "Python 3"
    }
  },
  "cells": [
    {
      "cell_type": "markdown",
      "metadata": {
        "id": "view-in-github",
        "colab_type": "text"
      },
      "source": [
        "<a href=\"https://colab.research.google.com/github/sureshmecad/Google-Colab/blob/master/For_Loop.ipynb\" target=\"_parent\"><img src=\"https://colab.research.google.com/assets/colab-badge.svg\" alt=\"Open In Colab\"/></a>"
      ]
    },
    {
      "cell_type": "markdown",
      "metadata": {
        "id": "s7y1gdG6U7YV"
      },
      "source": [
        "https://www.w3schools.com/python/python_for_loops.asp"
      ]
    },
    {
      "cell_type": "markdown",
      "metadata": {
        "id": "7pMtSA1IM6cO"
      },
      "source": [
        "- A for loop is used for **iterating over a sequence (that is either a list, a tuple, a dictionary, a set, or a string)**"
      ]
    },
    {
      "cell_type": "markdown",
      "metadata": {
        "id": "EPw6JhndNIqh"
      },
      "source": [
        "### 1. Looping Through a String\n",
        "- Even strings are iterable objects, they contain a sequence of characters:"
      ]
    },
    {
      "cell_type": "code",
      "metadata": {
        "id": "XNMXGzmsMcKd",
        "outputId": "266f730e-aeea-40f7-cd2c-bc8ce8ace2c7",
        "colab": {
          "base_uri": "https://localhost:8080/",
          "height": 119
        }
      },
      "source": [
        "# Loop through the letters in the word \"banana\"\n",
        "for x in \"banana\":\n",
        "  print(x)"
      ],
      "execution_count": 1,
      "outputs": [
        {
          "output_type": "stream",
          "text": [
            "b\n",
            "a\n",
            "n\n",
            "a\n",
            "n\n",
            "a\n"
          ],
          "name": "stdout"
        }
      ]
    },
    {
      "cell_type": "markdown",
      "metadata": {
        "id": "tp4d50uFNvbM"
      },
      "source": [
        "### 2. break Statement\n",
        "- With the **break** statement we can **stop the loop before it has looped through all the items**"
      ]
    },
    {
      "cell_type": "code",
      "metadata": {
        "id": "S0lpRhTRNu0D",
        "outputId": "0be1d350-7fa6-413c-a058-39f21693e02e",
        "colab": {
          "base_uri": "https://localhost:8080/",
          "height": 51
        }
      },
      "source": [
        "# Exit the loop when x is \"banana\":\n",
        "\n",
        "fruits = [\"apple\", \"banana\", \"cherry\"]\n",
        "for x in fruits:\n",
        "  print(x)\n",
        "  if x == \"banana\":\n",
        "    break"
      ],
      "execution_count": 2,
      "outputs": [
        {
          "output_type": "stream",
          "text": [
            "apple\n",
            "banana\n"
          ],
          "name": "stdout"
        }
      ]
    },
    {
      "cell_type": "code",
      "metadata": {
        "id": "XOrI-YhvNu3t",
        "outputId": "45c2652a-ca67-41d6-9623-9ee8e1aea01c",
        "colab": {
          "base_uri": "https://localhost:8080/",
          "height": 34
        }
      },
      "source": [
        "# Exit the loop when x is \"banana\", but this time the break comes before the print\n",
        "\n",
        "fruits = [\"apple\", \"banana\", \"cherry\"]\n",
        "for x in fruits:\n",
        "  if x == \"banana\":\n",
        "    break\n",
        "  print(x)"
      ],
      "execution_count": 3,
      "outputs": [
        {
          "output_type": "stream",
          "text": [
            "apple\n"
          ],
          "name": "stdout"
        }
      ]
    },
    {
      "cell_type": "markdown",
      "metadata": {
        "id": "v3K4U-NEPVVO"
      },
      "source": [
        "### 3. continue Statement\n",
        "- With the **continue** statement we can **stop the current iteration of the loop, and continue with the next**"
      ]
    },
    {
      "cell_type": "code",
      "metadata": {
        "id": "5chjejEvPUXQ",
        "outputId": "b5a3f099-2fd4-45a3-a463-729a94539af6",
        "colab": {
          "base_uri": "https://localhost:8080/",
          "height": 51
        }
      },
      "source": [
        "# Do not print banana\n",
        "\n",
        "fruits = [\"apple\", \"banana\", \"cherry\"]\n",
        "for x in fruits:\n",
        "  if x == \"banana\":\n",
        "    continue\n",
        "  print(x)"
      ],
      "execution_count": 4,
      "outputs": [
        {
          "output_type": "stream",
          "text": [
            "apple\n",
            "cherry\n"
          ],
          "name": "stdout"
        }
      ]
    },
    {
      "cell_type": "markdown",
      "metadata": {
        "id": "jCvwBwA-UeRz"
      },
      "source": [
        "### 4. pass Statement\n",
        "- for loops cannot be empty, but if you for some reason have a for loop with no content, put in the pass statement to avoid getting an error."
      ]
    },
    {
      "cell_type": "code",
      "metadata": {
        "id": "bf35GjE2Ufqy"
      },
      "source": [
        "for x in [0, 1, 2]:\n",
        "  pass"
      ],
      "execution_count": 10,
      "outputs": []
    },
    {
      "cell_type": "markdown",
      "metadata": {
        "id": "WcbarKP4Qw0_"
      },
      "source": [
        "### 4. range() Function\n",
        "- To loop through a set of code a specified number of times, we can use the range() function,\n",
        "\n",
        "- The range() function returns a sequence of numbers, starting from 0 by default, and increments by 1 (by default), and ends at a specified number."
      ]
    },
    {
      "cell_type": "markdown",
      "metadata": {
        "id": "Ao6X6WLwSReB"
      },
      "source": [
        "- Note that **range(6)** is not the values of **0 to 6**, but the values **0 to 5.**"
      ]
    },
    {
      "cell_type": "code",
      "metadata": {
        "id": "QD-jiHH1PUbH",
        "outputId": "0531f787-3e3c-49d4-e83c-ec35532d12b3",
        "colab": {
          "base_uri": "https://localhost:8080/",
          "height": 119
        }
      },
      "source": [
        "# Using the range() function\n",
        "\n",
        "for x in range(6):\n",
        "  print(x)"
      ],
      "execution_count": 5,
      "outputs": [
        {
          "output_type": "stream",
          "text": [
            "0\n",
            "1\n",
            "2\n",
            "3\n",
            "4\n",
            "5\n"
          ],
          "name": "stdout"
        }
      ]
    },
    {
      "cell_type": "markdown",
      "metadata": {
        "id": "bcpminWWSblg"
      },
      "source": [
        "- The range() function **defaults to 0 as a starting value**, however it is possible to specify the starting value by adding a parameter: **range(2, 6)**, which means **values from 2 to 6 (but not including 6)**:"
      ]
    },
    {
      "cell_type": "code",
      "metadata": {
        "id": "VGCJWt3QRfUh",
        "outputId": "d709c80d-7445-432b-d4af-eee9dd7808f8",
        "colab": {
          "base_uri": "https://localhost:8080/",
          "height": 85
        }
      },
      "source": [
        "# Using the start parameter\n",
        "\n",
        "for x in range(2, 6):\n",
        "  print(x)"
      ],
      "execution_count": 6,
      "outputs": [
        {
          "output_type": "stream",
          "text": [
            "2\n",
            "3\n",
            "4\n",
            "5\n"
          ],
          "name": "stdout"
        }
      ]
    },
    {
      "cell_type": "markdown",
      "metadata": {
        "id": "C-mxgVP8Sql6"
      },
      "source": [
        "- The range() function **defaults to increment the sequence by 1**, however it is possible to specify the **increment value** by adding a third parameter: **range(2, 30, 3):**"
      ]
    },
    {
      "cell_type": "code",
      "metadata": {
        "id": "emBEWSQARfYg",
        "outputId": "26b2d788-398a-4400-9fa3-3b0fcf7dc603",
        "colab": {
          "base_uri": "https://localhost:8080/",
          "height": 187
        }
      },
      "source": [
        "# Increment the sequence with 3 (default is 1)\n",
        "\n",
        "for x in range(2, 30, 3):\n",
        "  print(x)"
      ],
      "execution_count": 7,
      "outputs": [
        {
          "output_type": "stream",
          "text": [
            "2\n",
            "5\n",
            "8\n",
            "11\n",
            "14\n",
            "17\n",
            "20\n",
            "23\n",
            "26\n",
            "29\n"
          ],
          "name": "stdout"
        }
      ]
    },
    {
      "cell_type": "markdown",
      "metadata": {
        "id": "vazRHMOCTcrR"
      },
      "source": [
        "### 5. Else in For Loop\n",
        "- The else keyword in a for loop specifies a block of code to be executed when the loop is finished:"
      ]
    },
    {
      "cell_type": "code",
      "metadata": {
        "id": "fYVJCdmVRfcx",
        "outputId": "4b1217a0-9776-44f3-ae4f-3a7eead6e91a",
        "colab": {
          "base_uri": "https://localhost:8080/",
          "height": 136
        }
      },
      "source": [
        "# Print all numbers from 0 to 5, and print a message when the loop has ended:\n",
        "\n",
        "for x in range(6):\n",
        "  print(x)\n",
        "else:\n",
        "  print(\"Finally finished!\")"
      ],
      "execution_count": 8,
      "outputs": [
        {
          "output_type": "stream",
          "text": [
            "0\n",
            "1\n",
            "2\n",
            "3\n",
            "4\n",
            "5\n",
            "Finally finished!\n"
          ],
          "name": "stdout"
        }
      ]
    },
    {
      "cell_type": "markdown",
      "metadata": {
        "id": "XOs--Ay1Tx6R"
      },
      "source": [
        "### 6. Nested Loops\n",
        "- A **nested loop** is a loop **inside a loop**.\n",
        "\n",
        "- The **\"inner loop\"** will be executed **one time** for each iteration of the **\"outer loop\":**"
      ]
    },
    {
      "cell_type": "code",
      "metadata": {
        "id": "HPY63LPmRfh4",
        "outputId": "641b400d-9d75-437b-fd44-4fd783827f31",
        "colab": {
          "base_uri": "https://localhost:8080/",
          "height": 170
        }
      },
      "source": [
        "# Print each adjective for every fruit:\n",
        "\n",
        "adj = [\"red\", \"big\", \"tasty\"]\n",
        "fruits = [\"apple\", \"banana\", \"cherry\"]\n",
        "\n",
        "for x in adj:\n",
        "  for y in fruits:\n",
        "    print(x, y)"
      ],
      "execution_count": 9,
      "outputs": [
        {
          "output_type": "stream",
          "text": [
            "red apple\n",
            "red banana\n",
            "red cherry\n",
            "big apple\n",
            "big banana\n",
            "big cherry\n",
            "tasty apple\n",
            "tasty banana\n",
            "tasty cherry\n"
          ],
          "name": "stdout"
        }
      ]
    }
  ]
}