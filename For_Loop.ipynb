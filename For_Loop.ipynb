{
  "nbformat": 4,
  "nbformat_minor": 0,
  "metadata": {
    "colab": {
      "name": "For Loop.ipynb",
      "provenance": [],
      "authorship_tag": "ABX9TyNRqnlfEHDcyaBGbX+ty9py",
      "include_colab_link": true
    },
    "kernelspec": {
      "name": "python3",
      "display_name": "Python 3"
    }
  },
  "cells": [
    {
      "cell_type": "markdown",
      "metadata": {
        "id": "view-in-github",
        "colab_type": "text"
      },
      "source": [
        "<a href=\"https://colab.research.google.com/github/sureshmecad/Google-Colab/blob/master/For_Loop.ipynb\" target=\"_parent\"><img src=\"https://colab.research.google.com/assets/colab-badge.svg\" alt=\"Open In Colab\"/></a>"
      ]
    },
    {
      "cell_type": "code",
      "metadata": {
        "id": "TQhV0DNmzVHg",
        "outputId": "40fd375c-8878-44c4-8b7b-4123fc926146",
        "colab": {
          "base_uri": "https://localhost:8080/",
          "height": 102
        }
      },
      "source": [
        "# Print \"Thank you\" 5 times\n",
        "for number in range(5):\n",
        "    print(\"Thank you\")"
      ],
      "execution_count": null,
      "outputs": [
        {
          "output_type": "stream",
          "text": [
            "Thank you\n",
            "Thank you\n",
            "Thank you\n",
            "Thank you\n",
            "Thank you\n"
          ],
          "name": "stdout"
        }
      ]
    },
    {
      "cell_type": "code",
      "metadata": {
        "id": "4TYgQLITzWc-",
        "outputId": "4005e530-6ab9-4b9e-e76c-e90eaeafb156",
        "colab": {
          "base_uri": "https://localhost:8080/",
          "height": 102
        }
      },
      "source": [
        "languages = ['R', 'Python',  'Scala', 'Java', 'Julia']\n",
        "\n",
        "for index in range(len(languages)):\n",
        "   print('Current language:', languages[index])"
      ],
      "execution_count": null,
      "outputs": [
        {
          "output_type": "stream",
          "text": [
            "Current language: R\n",
            "Current language: Python\n",
            "Current language: Scala\n",
            "Current language: Java\n",
            "Current language: Julia\n"
          ],
          "name": "stdout"
        }
      ]
    },
    {
      "cell_type": "markdown",
      "metadata": {
        "id": "tcjcKdPdLTq_"
      },
      "source": [
        "-----------------------------"
      ]
    },
    {
      "cell_type": "code",
      "metadata": {
        "id": "Irj2Xe0BzWg3",
        "outputId": "472e2887-d846-44c8-8163-c9dab909b500",
        "colab": {
          "base_uri": "https://localhost:8080/",
          "height": 187
        }
      },
      "source": [
        "# Print the below statement 3 times\n",
        "for number in range(10) :  \n",
        "    print(\"I am number : \"+str(number))"
      ],
      "execution_count": null,
      "outputs": [
        {
          "output_type": "stream",
          "text": [
            "I am number : 0\n",
            "I am number : 1\n",
            "I am number : 2\n",
            "I am number : 3\n",
            "I am number : 4\n",
            "I am number : 5\n",
            "I am number : 6\n",
            "I am number : 7\n",
            "I am number : 8\n",
            "I am number : 9\n"
          ],
          "name": "stdout"
        }
      ]
    },
    {
      "cell_type": "code",
      "metadata": {
        "id": "xr1Vbo1dKT10",
        "outputId": "48b4d22a-c658-486b-c5a2-0c50dc8c8de0",
        "colab": {
          "base_uri": "https://localhost:8080/",
          "height": 187
        }
      },
      "source": [
        "for x in range(10):  \n",
        "    print(\"I am number:\", x)"
      ],
      "execution_count": null,
      "outputs": [
        {
          "output_type": "stream",
          "text": [
            "I am number: 0\n",
            "I am number: 1\n",
            "I am number: 2\n",
            "I am number: 3\n",
            "I am number: 4\n",
            "I am number: 5\n",
            "I am number: 6\n",
            "I am number: 7\n",
            "I am number: 8\n",
            "I am number: 9\n"
          ],
          "name": "stdout"
        }
      ]
    },
    {
      "cell_type": "code",
      "metadata": {
        "id": "OFb7yOn-zWk3",
        "outputId": "f77c85fb-40ff-47aa-bc58-9263416e6e21",
        "colab": {
          "base_uri": "https://localhost:8080/",
          "height": 102
        }
      },
      "source": [
        "for x in range(0, 5):\n",
        "    print(\"hello world\", x)"
      ],
      "execution_count": null,
      "outputs": [
        {
          "output_type": "stream",
          "text": [
            "hello world 0\n",
            "hello world 1\n",
            "hello world 2\n",
            "hello world 3\n",
            "hello world 4\n"
          ],
          "name": "stdout"
        }
      ]
    },
    {
      "cell_type": "code",
      "metadata": {
        "id": "WmVvl3-aLX9v",
        "outputId": "40d1fd62-a000-4397-9869-0ab53e652994",
        "colab": {
          "base_uri": "https://localhost:8080/",
          "height": 187
        }
      },
      "source": [
        "for yr in range(1, 11):\n",
        "  print(\"https://en.wikipedia.org/wiki/\" + str(yr))"
      ],
      "execution_count": null,
      "outputs": [
        {
          "output_type": "stream",
          "text": [
            "https://en.wikipedia.org/wiki/1\n",
            "https://en.wikipedia.org/wiki/2\n",
            "https://en.wikipedia.org/wiki/3\n",
            "https://en.wikipedia.org/wiki/4\n",
            "https://en.wikipedia.org/wiki/5\n",
            "https://en.wikipedia.org/wiki/6\n",
            "https://en.wikipedia.org/wiki/7\n",
            "https://en.wikipedia.org/wiki/8\n",
            "https://en.wikipedia.org/wiki/9\n",
            "https://en.wikipedia.org/wiki/10\n"
          ],
          "name": "stdout"
        }
      ]
    },
    {
      "cell_type": "code",
      "metadata": {
        "id": "84M-ZuiHLYBd",
        "outputId": "2a3e2e37-411c-422c-85b4-b20e41975eb3",
        "colab": {
          "base_uri": "https://localhost:8080/",
          "height": 187
        }
      },
      "source": [
        "for whatev in range(1, 11):\n",
        "  print(\"https://en.wikipedia.org/wiki/\" + str(whatev) + \"_(number)\")"
      ],
      "execution_count": null,
      "outputs": [
        {
          "output_type": "stream",
          "text": [
            "https://en.wikipedia.org/wiki/1_(number)\n",
            "https://en.wikipedia.org/wiki/2_(number)\n",
            "https://en.wikipedia.org/wiki/3_(number)\n",
            "https://en.wikipedia.org/wiki/4_(number)\n",
            "https://en.wikipedia.org/wiki/5_(number)\n",
            "https://en.wikipedia.org/wiki/6_(number)\n",
            "https://en.wikipedia.org/wiki/7_(number)\n",
            "https://en.wikipedia.org/wiki/8_(number)\n",
            "https://en.wikipedia.org/wiki/9_(number)\n",
            "https://en.wikipedia.org/wiki/10_(number)\n"
          ],
          "name": "stdout"
        }
      ]
    },
    {
      "cell_type": "markdown",
      "metadata": {
        "id": "CkZZGXXPOx8E"
      },
      "source": [
        "------------------------------"
      ]
    },
    {
      "cell_type": "code",
      "metadata": {
        "id": "ZNsgYR9fLYFk",
        "outputId": "ea33c890-da5a-4676-de33-8ada0516bf33",
        "colab": {
          "base_uri": "https://localhost:8080/",
          "height": 204
        }
      },
      "source": [
        "myfile = \"example.txt\"\n",
        "for x in myfile:\n",
        "  print(x.upper())"
      ],
      "execution_count": null,
      "outputs": [
        {
          "output_type": "stream",
          "text": [
            "E\n",
            "X\n",
            "A\n",
            "M\n",
            "P\n",
            "L\n",
            "E\n",
            ".\n",
            "T\n",
            "X\n",
            "T\n"
          ],
          "name": "stdout"
        }
      ]
    },
    {
      "cell_type": "code",
      "metadata": {
        "id": "DrbN-c_ELYO8"
      },
      "source": [
        ""
      ],
      "execution_count": null,
      "outputs": []
    },
    {
      "cell_type": "markdown",
      "metadata": {
        "id": "FCuIp_k7PPnz"
      },
      "source": [
        "------------------------------------"
      ]
    },
    {
      "cell_type": "markdown",
      "metadata": {
        "id": "40L-5N-2Zv4y"
      },
      "source": [
        "### Append"
      ]
    },
    {
      "cell_type": "code",
      "metadata": {
        "id": "t9HO_bqmZybt",
        "outputId": "72f6fcfd-da63-42b0-860a-0f09cc234469",
        "colab": {
          "base_uri": "https://localhost:8080/",
          "height": 34
        }
      },
      "source": [
        "squares = []\n",
        "for x in range(10):\n",
        "  squares.append(x**2)\n",
        "\n",
        "squares"
      ],
      "execution_count": null,
      "outputs": [
        {
          "output_type": "execute_result",
          "data": {
            "text/plain": [
              "[0, 1, 4, 9, 16, 25, 36, 49, 64, 81]"
            ]
          },
          "metadata": {
            "tags": []
          },
          "execution_count": 51
        }
      ]
    },
    {
      "cell_type": "code",
      "metadata": {
        "id": "QFXIZqFaZyfT"
      },
      "source": [
        ""
      ],
      "execution_count": null,
      "outputs": []
    },
    {
      "cell_type": "markdown",
      "metadata": {
        "id": "2c4bdZCLZzLp"
      },
      "source": [
        "-----------------"
      ]
    },
    {
      "cell_type": "markdown",
      "metadata": {
        "id": "s7y1gdG6U7YV"
      },
      "source": [
        "https://www.w3schools.com/python/python_for_loops.asp\n",
        "\n",
        "https://www.learnbyexample.org/python-for-loop/"
      ]
    },
    {
      "cell_type": "markdown",
      "metadata": {
        "id": "7pMtSA1IM6cO"
      },
      "source": [
        "- A for loop is used for **iterating over a sequence (that is either a list, a tuple, a dictionary, a set, or a string)**\n",
        "\n",
        "- Python’s for statement iterates over the items of any iterable (list, tuple, dictionary, set, or string). The items are iterated in the order that they appear in the iterable."
      ]
    },
    {
      "cell_type": "markdown",
      "metadata": {
        "id": "EPw6JhndNIqh"
      },
      "source": [
        "### 1. Looping Through a String\n",
        "- Even strings are iterable objects, they contain a sequence of characters:"
      ]
    },
    {
      "cell_type": "code",
      "metadata": {
        "id": "XNMXGzmsMcKd",
        "outputId": "266f730e-aeea-40f7-cd2c-bc8ce8ace2c7",
        "colab": {
          "base_uri": "https://localhost:8080/",
          "height": 119
        }
      },
      "source": [
        "# Loop through the letters in the word \"banana\"\n",
        "for x in \"banana\":\n",
        "  print(x)"
      ],
      "execution_count": null,
      "outputs": [
        {
          "output_type": "stream",
          "text": [
            "b\n",
            "a\n",
            "n\n",
            "a\n",
            "n\n",
            "a\n"
          ],
          "name": "stdout"
        }
      ]
    },
    {
      "cell_type": "markdown",
      "metadata": {
        "id": "9zLedItDmIG_"
      },
      "source": [
        "### 2. Looping Through Lists"
      ]
    },
    {
      "cell_type": "code",
      "metadata": {
        "id": "zU0KMAEnjy5j",
        "outputId": "eefc61cf-6373-47ab-c5a0-116db1be198d",
        "colab": {
          "base_uri": "https://localhost:8080/",
          "height": 85
        }
      },
      "source": [
        "# Iterate through a list\n",
        "colors = ['red', 'green', 'blue', 'yellow']\n",
        "for x in colors:\n",
        "    print(x)"
      ],
      "execution_count": 1,
      "outputs": [
        {
          "output_type": "stream",
          "text": [
            "red\n",
            "green\n",
            "blue\n",
            "yellow\n"
          ],
          "name": "stdout"
        }
      ]
    },
    {
      "cell_type": "markdown",
      "metadata": {
        "id": "g32JXYDcmKOO"
      },
      "source": [
        "### 3. Looping Through Multiple Lists\n",
        "- Using built-in zip() function you can loop through multiple lists at once."
      ]
    },
    {
      "cell_type": "code",
      "metadata": {
        "id": "VlbXtngmmIt5",
        "outputId": "fa85162e-448c-4c79-ddef-90d694291ff8",
        "colab": {
          "base_uri": "https://localhost:8080/",
          "height": 68
        }
      },
      "source": [
        "# Loop through two lists at once\n",
        "\n",
        "name = ['Bob', 'Sam', 'Max']\n",
        "age = [25, 35, 30]\n",
        "for x, y in zip(name, age):\n",
        "    print(x, y)"
      ],
      "execution_count": 9,
      "outputs": [
        {
          "output_type": "stream",
          "text": [
            "Bob 25\n",
            "Sam 35\n",
            "Max 30\n"
          ],
          "name": "stdout"
        }
      ]
    },
    {
      "cell_type": "markdown",
      "metadata": {
        "id": "tp4d50uFNvbM"
      },
      "source": [
        "### 2. break Statement\n",
        "- With the **break** statement we can **stop the loop before it has looped through all the items**\n",
        "\n",
        "- Python break statement is used to exit the loop immediately. It simply jumps out of the loop altogether, and the program continues after the loop"
      ]
    },
    {
      "cell_type": "code",
      "metadata": {
        "id": "S0lpRhTRNu0D",
        "outputId": "0be1d350-7fa6-413c-a058-39f21693e02e",
        "colab": {
          "base_uri": "https://localhost:8080/",
          "height": 51
        }
      },
      "source": [
        "# Exit the loop when x is \"banana\":\n",
        "\n",
        "fruits = [\"apple\", \"banana\", \"cherry\"]\n",
        "for x in fruits:\n",
        "  print(x)\n",
        "  if x == \"banana\":\n",
        "    break"
      ],
      "execution_count": null,
      "outputs": [
        {
          "output_type": "stream",
          "text": [
            "apple\n",
            "banana\n"
          ],
          "name": "stdout"
        }
      ]
    },
    {
      "cell_type": "code",
      "metadata": {
        "id": "XOrI-YhvNu3t",
        "outputId": "45c2652a-ca67-41d6-9623-9ee8e1aea01c",
        "colab": {
          "base_uri": "https://localhost:8080/",
          "height": 34
        }
      },
      "source": [
        "# Exit the loop when x is \"banana\", but this time the break comes before the print\n",
        "\n",
        "fruits = [\"apple\", \"banana\", \"cherry\"]\n",
        "for x in fruits:\n",
        "  if x == \"banana\":\n",
        "    break\n",
        "  print(x)"
      ],
      "execution_count": null,
      "outputs": [
        {
          "output_type": "stream",
          "text": [
            "apple\n"
          ],
          "name": "stdout"
        }
      ]
    },
    {
      "cell_type": "code",
      "metadata": {
        "id": "MCtCbNLSWJxO",
        "outputId": "5b38bfcc-ebee-496d-e271-558c33b2f15b",
        "colab": {
          "base_uri": "https://localhost:8080/",
          "height": 51
        }
      },
      "source": [
        "for x in range(3):\n",
        "    if x == 2:\n",
        "        break\n",
        "\n",
        "    print(x)"
      ],
      "execution_count": null,
      "outputs": [
        {
          "output_type": "stream",
          "text": [
            "0\n",
            "1\n"
          ],
          "name": "stdout"
        }
      ]
    },
    {
      "cell_type": "code",
      "metadata": {
        "id": "bcwboaVaf3TD",
        "outputId": "9cebcb28-e09f-48fd-c37a-8b7c3793a03f",
        "colab": {
          "base_uri": "https://localhost:8080/",
          "height": 34
        }
      },
      "source": [
        "for letter in 'geeksforgeeks': \n",
        " \n",
        "    # break the loop as soon it sees 'e' \n",
        "    # or 's'\n",
        "    if letter == 'e' or letter == 's':\n",
        "         break\n",
        "    print('Current Letter :', letter)"
      ],
      "execution_count": null,
      "outputs": [
        {
          "output_type": "stream",
          "text": [
            "Current Letter : g\n"
          ],
          "name": "stdout"
        }
      ]
    },
    {
      "cell_type": "code",
      "metadata": {
        "id": "V82B6f3wkI8B",
        "outputId": "dd76e586-222c-4af6-dbb8-c28f5bd536fa",
        "colab": {
          "base_uri": "https://localhost:8080/",
          "height": 51
        }
      },
      "source": [
        "# Break the loop at 'blue'\n",
        "\n",
        "colors = ['red', 'green', 'blue', 'yellow']\n",
        "for x in colors:\n",
        "    if x == 'blue':\n",
        "        break\n",
        "    print(x)"
      ],
      "execution_count": 2,
      "outputs": [
        {
          "output_type": "stream",
          "text": [
            "red\n",
            "green\n"
          ],
          "name": "stdout"
        }
      ]
    },
    {
      "cell_type": "markdown",
      "metadata": {
        "id": "v3K4U-NEPVVO"
      },
      "source": [
        "### 3. continue Statement\n",
        "- With the **continue** statement we can **stop the current iteration of the loop, and continue with the next**\n",
        "\n",
        "- The continue statement skips the current iteration of a loop and continues with the next iteration"
      ]
    },
    {
      "cell_type": "code",
      "metadata": {
        "id": "5chjejEvPUXQ",
        "outputId": "b5a3f099-2fd4-45a3-a463-729a94539af6",
        "colab": {
          "base_uri": "https://localhost:8080/",
          "height": 51
        }
      },
      "source": [
        "# Do not print banana\n",
        "\n",
        "fruits = [\"apple\", \"banana\", \"cherry\"]\n",
        "for x in fruits:\n",
        "  if x == \"banana\":\n",
        "    continue\n",
        "  print(x)"
      ],
      "execution_count": null,
      "outputs": [
        {
          "output_type": "stream",
          "text": [
            "apple\n",
            "cherry\n"
          ],
          "name": "stdout"
        }
      ]
    },
    {
      "cell_type": "code",
      "metadata": {
        "id": "9eETqelMfZvs",
        "outputId": "bd6f46e6-ca1e-4dfb-fe23-64a7a369d4f5",
        "colab": {
          "base_uri": "https://localhost:8080/",
          "height": 136
        }
      },
      "source": [
        "# Prints all letters except 'e' and 's'\n",
        "\n",
        "for letter in 'geeksforgeeks': \n",
        "    if letter == 'e' or letter == 's':\n",
        "         continue\n",
        "    print('Current Letter :', letter)\n",
        "    var = 10"
      ],
      "execution_count": null,
      "outputs": [
        {
          "output_type": "stream",
          "text": [
            "Current Letter : g\n",
            "Current Letter : k\n",
            "Current Letter : f\n",
            "Current Letter : o\n",
            "Current Letter : r\n",
            "Current Letter : g\n",
            "Current Letter : k\n"
          ],
          "name": "stdout"
        }
      ]
    },
    {
      "cell_type": "code",
      "metadata": {
        "id": "EZsj78chkYNE",
        "outputId": "4838c316-3ee5-496b-b26e-c51d3cb8eda4",
        "colab": {
          "base_uri": "https://localhost:8080/",
          "height": 68
        }
      },
      "source": [
        "# Skip 'blue'\n",
        "\n",
        "colors = ['red', 'green', 'blue', 'yellow']\n",
        "for x in colors:\n",
        "    if x == 'blue':\n",
        "        continue\n",
        "    print(x)"
      ],
      "execution_count": 3,
      "outputs": [
        {
          "output_type": "stream",
          "text": [
            "red\n",
            "green\n",
            "yellow\n"
          ],
          "name": "stdout"
        }
      ]
    },
    {
      "cell_type": "markdown",
      "metadata": {
        "id": "jCvwBwA-UeRz"
      },
      "source": [
        "### 4. pass Statement\n",
        "- for loops cannot be empty, but if you for some reason have a for loop with no content, put in the pass statement to avoid getting an error."
      ]
    },
    {
      "cell_type": "code",
      "metadata": {
        "id": "bf35GjE2Ufqy"
      },
      "source": [
        "for x in [0, 1, 2]:\n",
        "  pass"
      ],
      "execution_count": null,
      "outputs": []
    },
    {
      "cell_type": "markdown",
      "metadata": {
        "id": "WcbarKP4Qw0_"
      },
      "source": [
        "### 4. range() Function\n",
        "- To loop through a set of code a specified number of times, we can use the range() function,\n",
        "\n",
        "- The range() function returns a sequence of numbers, starting from 0 by default, and increments by 1 (by default), and ends at a specified number."
      ]
    },
    {
      "cell_type": "markdown",
      "metadata": {
        "id": "Ao6X6WLwSReB"
      },
      "source": [
        "- Note that **range(6)** is not the values of **0 to 6**, but the values **0 to 5.**"
      ]
    },
    {
      "cell_type": "code",
      "metadata": {
        "id": "QD-jiHH1PUbH",
        "outputId": "0531f787-3e3c-49d4-e83c-ec35532d12b3",
        "colab": {
          "base_uri": "https://localhost:8080/",
          "height": 119
        }
      },
      "source": [
        "# Using the range() function\n",
        "\n",
        "for x in range(6):\n",
        "  print(x)"
      ],
      "execution_count": null,
      "outputs": [
        {
          "output_type": "stream",
          "text": [
            "0\n",
            "1\n",
            "2\n",
            "3\n",
            "4\n",
            "5\n"
          ],
          "name": "stdout"
        }
      ]
    },
    {
      "cell_type": "markdown",
      "metadata": {
        "id": "bcpminWWSblg"
      },
      "source": [
        "- The range() function **defaults to 0 as a starting value**, however it is possible to specify the starting value by adding a parameter: **range(2, 6)**, which means **values from 2 to 6 (but not including 6)**:"
      ]
    },
    {
      "cell_type": "code",
      "metadata": {
        "id": "VGCJWt3QRfUh",
        "outputId": "d709c80d-7445-432b-d4af-eee9dd7808f8",
        "colab": {
          "base_uri": "https://localhost:8080/",
          "height": 85
        }
      },
      "source": [
        "# Using the start parameter\n",
        "\n",
        "for x in range(2, 6):\n",
        "  print(x)"
      ],
      "execution_count": null,
      "outputs": [
        {
          "output_type": "stream",
          "text": [
            "2\n",
            "3\n",
            "4\n",
            "5\n"
          ],
          "name": "stdout"
        }
      ]
    },
    {
      "cell_type": "markdown",
      "metadata": {
        "id": "C-mxgVP8Sql6"
      },
      "source": [
        "- The range() function **defaults to increment the sequence by 1**, however it is possible to specify the **increment value** by adding a third parameter: **range(2, 30, 3):**"
      ]
    },
    {
      "cell_type": "code",
      "metadata": {
        "id": "emBEWSQARfYg",
        "outputId": "26b2d788-398a-4400-9fa3-3b0fcf7dc603",
        "colab": {
          "base_uri": "https://localhost:8080/",
          "height": 187
        }
      },
      "source": [
        "# Increment the sequence with 3 (default is 1)\n",
        "\n",
        "for x in range(2, 30, 3):\n",
        "  print(x)"
      ],
      "execution_count": null,
      "outputs": [
        {
          "output_type": "stream",
          "text": [
            "2\n",
            "5\n",
            "8\n",
            "11\n",
            "14\n",
            "17\n",
            "20\n",
            "23\n",
            "26\n",
            "29\n"
          ],
          "name": "stdout"
        }
      ]
    },
    {
      "cell_type": "markdown",
      "metadata": {
        "id": "vazRHMOCTcrR"
      },
      "source": [
        "### 5. Else in For Loop\n",
        "- The else keyword in a for loop specifies a block of code to be executed when the loop is finished:\n",
        "\n",
        "- Python allows an optional else clause at the end of a for loop. The else clause will be executed if the loop terminates naturally (through exhaustion)."
      ]
    },
    {
      "cell_type": "code",
      "metadata": {
        "id": "fYVJCdmVRfcx",
        "outputId": "4b1217a0-9776-44f3-ae4f-3a7eead6e91a",
        "colab": {
          "base_uri": "https://localhost:8080/",
          "height": 136
        }
      },
      "source": [
        "# Print all numbers from 0 to 5, and print a message when the loop has ended:\n",
        "\n",
        "for x in range(6):\n",
        "  print(x)\n",
        "else:\n",
        "  print(\"Finally finished!\")"
      ],
      "execution_count": null,
      "outputs": [
        {
          "output_type": "stream",
          "text": [
            "0\n",
            "1\n",
            "2\n",
            "3\n",
            "4\n",
            "5\n",
            "Finally finished!\n"
          ],
          "name": "stdout"
        }
      ]
    },
    {
      "cell_type": "code",
      "metadata": {
        "id": "_FUYSHyDko2P",
        "outputId": "0e794314-5be4-45bf-8881-f7adf8a082d0",
        "colab": {
          "base_uri": "https://localhost:8080/",
          "height": 102
        }
      },
      "source": [
        "colors = ['red', 'green', 'blue', 'yellow']\n",
        "for x in colors:\n",
        "    print(x)\n",
        "else:\n",
        "    print('Done!')\n",
        "# Prints red green blue yellow\n",
        "# Prints Done!"
      ],
      "execution_count": 4,
      "outputs": [
        {
          "output_type": "stream",
          "text": [
            "red\n",
            "green\n",
            "blue\n",
            "yellow\n",
            "Done!\n"
          ],
          "name": "stdout"
        }
      ]
    },
    {
      "cell_type": "markdown",
      "metadata": {
        "id": "VuoPpqkrk2fg"
      },
      "source": [
        "- If the loop terminates prematurely with break, the else clause won’t be executed."
      ]
    },
    {
      "cell_type": "code",
      "metadata": {
        "id": "p8bCWv3pk19q",
        "outputId": "550869a2-8164-43c1-f579-a7e56c6be1ae",
        "colab": {
          "base_uri": "https://localhost:8080/",
          "height": 51
        }
      },
      "source": [
        "colors = ['red', 'green', 'blue', 'yellow']\n",
        "for x in colors:\n",
        "    if x == 'blue':\n",
        "        break\n",
        "    print(x)\n",
        "else:\n",
        "    print('Done!')\n",
        "# Prints red green"
      ],
      "execution_count": 5,
      "outputs": [
        {
          "output_type": "stream",
          "text": [
            "red\n",
            "green\n"
          ],
          "name": "stdout"
        }
      ]
    },
    {
      "cell_type": "markdown",
      "metadata": {
        "id": "XOs--Ay1Tx6R"
      },
      "source": [
        "### 6. Nested Loops\n",
        "- A **nested loop** is a loop **inside a loop**.\n",
        "\n",
        "- The **\"inner loop\"** will be executed **one time** for each iteration of the **\"outer loop\":**\n",
        "\n",
        "- A loop inside another loop is called a nested loop."
      ]
    },
    {
      "cell_type": "code",
      "metadata": {
        "id": "HPY63LPmRfh4",
        "outputId": "641b400d-9d75-437b-fd44-4fd783827f31",
        "colab": {
          "base_uri": "https://localhost:8080/",
          "height": 170
        }
      },
      "source": [
        "# Print each adjective for every fruit:\n",
        "\n",
        "adj = [\"red\", \"big\", \"tasty\"]\n",
        "fruits = [\"apple\", \"banana\", \"cherry\"]\n",
        "\n",
        "for x in adj:\n",
        "  for y in fruits:\n",
        "    print(x, y)"
      ],
      "execution_count": null,
      "outputs": [
        {
          "output_type": "stream",
          "text": [
            "red apple\n",
            "red banana\n",
            "red cherry\n",
            "big apple\n",
            "big banana\n",
            "big cherry\n",
            "tasty apple\n",
            "tasty banana\n",
            "tasty cherry\n"
          ],
          "name": "stdout"
        }
      ]
    },
    {
      "cell_type": "code",
      "metadata": {
        "id": "vlLob-F0lPyp",
        "outputId": "99976add-bf54-42ca-f8e2-fff8421f89f7",
        "colab": {
          "base_uri": "https://localhost:8080/",
          "height": 170
        }
      },
      "source": [
        "# Flatten a nested list\n",
        "list = [[1, 2, 3],[4, 5, 6],[7, 8, 9]]   \n",
        "for sublist in list:\n",
        "    for number in sublist:\n",
        "        print(number)\n",
        "# Prints 1 2 3 4 5 6 7 8 9"
      ],
      "execution_count": 6,
      "outputs": [
        {
          "output_type": "stream",
          "text": [
            "1\n",
            "2\n",
            "3\n",
            "4\n",
            "5\n",
            "6\n",
            "7\n",
            "8\n",
            "9\n"
          ],
          "name": "stdout"
        }
      ]
    },
    {
      "cell_type": "markdown",
      "metadata": {
        "id": "h1FI8Dh9dd1w"
      },
      "source": [
        "### Dictionary"
      ]
    },
    {
      "cell_type": "code",
      "metadata": {
        "id": "kzNZQGcidcnD",
        "outputId": "dc614877-2cb5-4682-848b-7101134c92dc",
        "colab": {
          "base_uri": "https://localhost:8080/",
          "height": 34
        }
      },
      "source": [
        "d = {'foo': 1, 'bar': 2, 'baz': 3}\n",
        "d.items()"
      ],
      "execution_count": null,
      "outputs": [
        {
          "output_type": "execute_result",
          "data": {
            "text/plain": [
              "dict_items([('foo', 1), ('bar', 2), ('baz', 3)])"
            ]
          },
          "metadata": {
            "tags": []
          },
          "execution_count": 15
        }
      ]
    },
    {
      "cell_type": "code",
      "metadata": {
        "id": "WCjIDJoidcrS",
        "outputId": "ab433a0f-0e8b-40fc-aa06-bc512c6217f3",
        "colab": {
          "base_uri": "https://localhost:8080/",
          "height": 68
        }
      },
      "source": [
        "d = {'foo': 1, 'bar': 2, 'baz': 3}\n",
        "\n",
        "for k, v in d.items():\n",
        "  print('k =', k, ', v =', v)"
      ],
      "execution_count": null,
      "outputs": [
        {
          "output_type": "stream",
          "text": [
            "k = foo , v = 1\n",
            "k = bar , v = 2\n",
            "k = baz , v = 3\n"
          ],
          "name": "stdout"
        }
      ]
    },
    {
      "cell_type": "markdown",
      "metadata": {
        "id": "lHO_-B1tlnM2"
      },
      "source": [
        "### Access Index in for Loop\n",
        "- To iterate over the indices of a sequence, you can combine range() and len() as follows:"
      ]
    },
    {
      "cell_type": "code",
      "metadata": {
        "id": "q98zo2Dolk9_",
        "outputId": "7f5beb97-a619-4cb8-b6bb-5366172917c4",
        "colab": {
          "base_uri": "https://localhost:8080/",
          "height": 68
        }
      },
      "source": [
        "colors = ['red', 'green', 'blue']\n",
        "for index in range(len(colors)):\n",
        "    print(index, colors[index])"
      ],
      "execution_count": 7,
      "outputs": [
        {
          "output_type": "stream",
          "text": [
            "0 red\n",
            "1 green\n",
            "2 blue\n"
          ],
          "name": "stdout"
        }
      ]
    },
    {
      "cell_type": "code",
      "metadata": {
        "id": "eOM3MdmFllB3",
        "outputId": "14756f32-7d52-40b8-e8f1-3bb958df93e3",
        "colab": {
          "base_uri": "https://localhost:8080/",
          "height": 68
        }
      },
      "source": [
        "# However, in most such cases it is convenient to use the enumerate() function.\n",
        "\n",
        "colors = ['red', 'green', 'blue']\n",
        "for index, value in enumerate(colors):\n",
        "    print(index, value)"
      ],
      "execution_count": 8,
      "outputs": [
        {
          "output_type": "stream",
          "text": [
            "0 red\n",
            "1 green\n",
            "2 blue\n"
          ],
          "name": "stdout"
        }
      ]
    },
    {
      "cell_type": "markdown",
      "metadata": {
        "id": "Fhfpgz6WvNxP"
      },
      "source": [
        "### Unpacking in a for loop\n",
        "- Below for loop does a multiple assignment (unpack the current tuple) each time through the loop"
      ]
    },
    {
      "cell_type": "code",
      "metadata": {
        "id": "M8894s-_vNF0",
        "outputId": "58792482-9631-4148-8046-45f44d3bfb5d",
        "colab": {
          "base_uri": "https://localhost:8080/",
          "height": 68
        }
      },
      "source": [
        "# Tuple unpacking\n",
        "\n",
        "T = [(1, 2), (3, 4), (5, 6)]\n",
        "for (a, b) in T:\n",
        "    print(a, b)"
      ],
      "execution_count": 10,
      "outputs": [
        {
          "output_type": "stream",
          "text": [
            "1 2\n",
            "3 4\n",
            "5 6\n"
          ],
          "name": "stdout"
        }
      ]
    },
    {
      "cell_type": "markdown",
      "metadata": {
        "id": "2scAvab_vdhg"
      },
      "source": [
        "- Likewise, you can iterate through both keys and values in a dictionary"
      ]
    },
    {
      "cell_type": "code",
      "metadata": {
        "id": "-E203dbYvZ9T",
        "outputId": "f01b6eb7-54db-4a40-ecc3-c47041cdab72",
        "colab": {
          "base_uri": "https://localhost:8080/",
          "height": 51
        }
      },
      "source": [
        "# Dictionary unpacking\n",
        "\n",
        "D = {'name': 'Bob', 'age': 25}\n",
        "for x, y in D.items():\n",
        "\tprint(x, y)"
      ],
      "execution_count": 11,
      "outputs": [
        {
          "output_type": "stream",
          "text": [
            "name Bob\n",
            "age 25\n"
          ],
          "name": "stdout"
        }
      ]
    },
    {
      "cell_type": "markdown",
      "metadata": {
        "id": "m0VTDkyej8rv"
      },
      "source": [
        "-----------------------"
      ]
    },
    {
      "cell_type": "markdown",
      "metadata": {
        "id": "tB0YksenkAtm"
      },
      "source": [
        "## Interview Questions"
      ]
    },
    {
      "cell_type": "markdown",
      "metadata": {
        "id": "UzSoLwtBkheh"
      },
      "source": [
        "### 1. For Loop"
      ]
    },
    {
      "cell_type": "code",
      "metadata": {
        "id": "2uUE23h-j_O4",
        "outputId": "78d8a160-32b6-4355-f43c-b14d68e27f35",
        "colab": {
          "base_uri": "https://localhost:8080/",
          "height": 34
        }
      },
      "source": [
        "# What is the output?\n",
        "\n",
        "word1 = \"welcome\"\n",
        "word2 = \"home\"\n",
        "r = []\n",
        "for x in word1:\n",
        "  if x in word2:\n",
        "    r.append(x)\n",
        "print(r[2]+r[1]+r[2])"
      ],
      "execution_count": null,
      "outputs": [
        {
          "output_type": "stream",
          "text": [
            "mom\n"
          ],
          "name": "stdout"
        }
      ]
    },
    {
      "cell_type": "code",
      "metadata": {
        "id": "HOWT2yDBj_SY",
        "outputId": "1c821ae9-b1fa-4433-821f-98fe6fb871dc",
        "colab": {
          "base_uri": "https://localhost:8080/",
          "height": 34
        }
      },
      "source": [
        "# What is the output of this code?\n",
        "\n",
        "lst = [1, 2, 3, 4, 5]\n",
        "for i in range(1,6):\n",
        "  lst[i:i] = [i]\n",
        "print(lst)"
      ],
      "execution_count": null,
      "outputs": [
        {
          "output_type": "stream",
          "text": [
            "[1, 1, 2, 3, 4, 5, 2, 3, 4, 5]\n"
          ],
          "name": "stdout"
        }
      ]
    },
    {
      "cell_type": "code",
      "metadata": {
        "id": "FTQvP8_nj_WX",
        "outputId": "95b6862f-7afe-4498-eadb-2b76031c9c08",
        "colab": {
          "base_uri": "https://localhost:8080/",
          "height": 34
        }
      },
      "source": [
        "# What is the output of this code?\n",
        "\n",
        "num1 = [1,3,4,5]\n",
        "num2 = num1\n",
        "num2[0] = 5\n",
        "print(num1[0])"
      ],
      "execution_count": null,
      "outputs": [
        {
          "output_type": "stream",
          "text": [
            "5\n"
          ],
          "name": "stdout"
        }
      ]
    },
    {
      "cell_type": "code",
      "metadata": {
        "id": "XXlvsgHXj_Z_",
        "outputId": "c4205eb9-fbff-4a4d-f052-2d2a5e40cf48",
        "colab": {
          "base_uri": "https://localhost:8080/",
          "height": 34
        }
      },
      "source": [
        "# What is the output of this code?\n",
        "\n",
        "li = list()\n",
        "for i in range(1,5):\n",
        "  li.append(i+2)\n",
        "print(li)"
      ],
      "execution_count": null,
      "outputs": [
        {
          "output_type": "stream",
          "text": [
            "[3, 4, 5, 6]\n"
          ],
          "name": "stdout"
        }
      ]
    },
    {
      "cell_type": "markdown",
      "metadata": {
        "id": "1QD01Np2qsYt"
      },
      "source": [
        "### AttributeError: 'dict' object has no attribute 'append'\n",
        "\n",
        "li = {}\n",
        "for i in range(1,5):\n",
        "  li.append(i+2)\n",
        "print(li)\n",
        "\n",
        "### AttributeError: 'tuple' object has no attribute 'append'\n",
        "\n",
        "li = ()\n",
        "for i in range(1,5):\n",
        "  li.append(i+2)\n",
        "print(li)"
      ]
    },
    {
      "cell_type": "code",
      "metadata": {
        "id": "UrAWI6Jcj_d_",
        "outputId": "6a3d1c80-3fee-404a-a0dd-fe32518e8535",
        "colab": {
          "base_uri": "https://localhost:8080/",
          "height": 34
        }
      },
      "source": [
        "list = [2, 33, 222, 14, 25]\n",
        "list[-1]"
      ],
      "execution_count": null,
      "outputs": [
        {
          "output_type": "execute_result",
          "data": {
            "text/plain": [
              "25"
            ]
          },
          "metadata": {
            "tags": []
          },
          "execution_count": 24
        }
      ]
    },
    {
      "cell_type": "code",
      "metadata": {
        "id": "VGnSFCJ9Pkqv",
        "outputId": "b51d4ddb-0fa6-4c3b-f258-8d12b4758279",
        "colab": {
          "base_uri": "https://localhost:8080/",
          "height": 34
        }
      },
      "source": [
        "list1 = [11,2,23]\n",
        "list2 = [11,2,2]\n",
        "print(list1 < list2)"
      ],
      "execution_count": null,
      "outputs": [
        {
          "output_type": "stream",
          "text": [
            "False\n"
          ],
          "name": "stdout"
        }
      ]
    },
    {
      "cell_type": "code",
      "metadata": {
        "id": "NBtr3mfCPkuu",
        "outputId": "80f0ab27-522c-40c9-c440-d2edfff6e92e",
        "colab": {
          "base_uri": "https://localhost:8080/",
          "height": 34
        }
      },
      "source": [
        "list1 = [11,2,23]\n",
        "list2 = [11,2,2]\n",
        "print(list1 > list2)"
      ],
      "execution_count": null,
      "outputs": [
        {
          "output_type": "stream",
          "text": [
            "True\n"
          ],
          "name": "stdout"
        }
      ]
    },
    {
      "cell_type": "code",
      "metadata": {
        "id": "trOMRAdOPky_",
        "outputId": "445b5f63-25a7-4c65-aa99-885d36848232",
        "colab": {
          "base_uri": "https://localhost:8080/",
          "height": 34
        }
      },
      "source": [
        "# What is the output of this code?\n",
        "\n",
        "for i in range(4):\n",
        "  if(i==2):\n",
        "    print('n', end=\"\")\n",
        "  elif(i==1):\n",
        "    print('e', end=\"\")\n",
        "  else:\n",
        "    print('t', end=\"\")"
      ],
      "execution_count": null,
      "outputs": [
        {
          "output_type": "stream",
          "text": [
            "tent"
          ],
          "name": "stdout"
        }
      ]
    },
    {
      "cell_type": "code",
      "metadata": {
        "id": "vr8oHL3EPk4P",
        "outputId": "37e49440-26d6-42d4-8c07-ef009898f1f7",
        "colab": {
          "base_uri": "https://localhost:8080/",
          "height": 34
        }
      },
      "source": [
        "# What is the output of this code?\n",
        "\n",
        "x,y = 0, True\n",
        "x = x+1\n",
        "y = int(True)\n",
        "print(id(x) == id(y))"
      ],
      "execution_count": null,
      "outputs": [
        {
          "output_type": "stream",
          "text": [
            "True\n"
          ],
          "name": "stdout"
        }
      ]
    },
    {
      "cell_type": "code",
      "metadata": {
        "id": "KGUROYjaSalV",
        "outputId": "a1a95b54-ebc2-4837-a565-4e97937814b5",
        "colab": {
          "base_uri": "https://localhost:8080/",
          "height": 34
        }
      },
      "source": [
        "# What is the output of the following statement?\n",
        "\n",
        "x = '24' + '16'\n",
        "print(x)"
      ],
      "execution_count": null,
      "outputs": [
        {
          "output_type": "stream",
          "text": [
            "2416\n"
          ],
          "name": "stdout"
        }
      ]
    },
    {
      "cell_type": "markdown",
      "metadata": {
        "id": "ELExBt-gTODr"
      },
      "source": [
        "### Python Arithmetic Operators\n",
        "-   +       Addition\n",
        "-   -       Subtraction\n",
        "-   *       Multiplication\n",
        "-   /       Division\n",
        "-   %       Modulus\n",
        "-   **      Exponentiation\n",
        "-  //       Floor division"
      ]
    },
    {
      "cell_type": "code",
      "metadata": {
        "id": "pIvZUkuDSuAO",
        "outputId": "53304e1b-3e99-4523-ba60-f458c529c4a5",
        "colab": {
          "base_uri": "https://localhost:8080/",
          "height": 34
        }
      },
      "source": [
        "# What is the output of the following statement?\n",
        "# Floor Division (Arithmetic Operation)\n",
        "\n",
        "x = 8\n",
        "y = 2\n",
        "print(x // y)"
      ],
      "execution_count": null,
      "outputs": [
        {
          "output_type": "stream",
          "text": [
            "4\n"
          ],
          "name": "stdout"
        }
      ]
    },
    {
      "cell_type": "markdown",
      "metadata": {
        "id": "V9thS0a4WqfO"
      },
      "source": [
        "------------------------------"
      ]
    },
    {
      "cell_type": "code",
      "metadata": {
        "id": "3bmnoC1BUdCo",
        "outputId": "8820cc10-a3a1-49da-9c4f-a9612a5509ae",
        "colab": {
          "base_uri": "https://localhost:8080/",
          "height": 34
        }
      },
      "source": [
        "a = \"(hello, python, learning)\"\n",
        "b = tuple(a)\n",
        "len(b)"
      ],
      "execution_count": null,
      "outputs": [
        {
          "output_type": "execute_result",
          "data": {
            "text/plain": [
              "25"
            ]
          },
          "metadata": {
            "tags": []
          },
          "execution_count": 45
        }
      ]
    },
    {
      "cell_type": "code",
      "metadata": {
        "id": "btkt0XcxUdGd",
        "outputId": "ce6ff72e-3de5-4c9e-9087-beee100f8091",
        "colab": {
          "base_uri": "https://localhost:8080/",
          "height": 34
        }
      },
      "source": [
        "b = \"Hello, World!\"\n",
        "print(b[2:5:2]*2)"
      ],
      "execution_count": null,
      "outputs": [
        {
          "output_type": "stream",
          "text": [
            "lolo\n"
          ],
          "name": "stdout"
        }
      ]
    },
    {
      "cell_type": "markdown",
      "metadata": {
        "id": "xZLE_oV9XAlJ"
      },
      "source": [
        "## Python Comparison Operators\n",
        "==          Equal\n",
        "!=          Not equal\n",
        ">           Greater than\n",
        "<           Less than\n",
        ">=          Greater than or equal to\n",
        "<=          Less than or equal to"
      ]
    },
    {
      "cell_type": "code",
      "metadata": {
        "id": "8MZzheatWX2y",
        "outputId": "bcfeed74-0c3b-4f60-c202-0156b4e3adda",
        "colab": {
          "base_uri": "https://localhost:8080/",
          "height": 34
        }
      },
      "source": [
        "num1 = 3**5\n",
        "num2 = 3**5.0\n",
        "print(num1 == num2)"
      ],
      "execution_count": null,
      "outputs": [
        {
          "output_type": "stream",
          "text": [
            "True\n"
          ],
          "name": "stdout"
        }
      ]
    },
    {
      "cell_type": "markdown",
      "metadata": {
        "id": "azGquQ1KX2rw"
      },
      "source": [
        "-------------------------------------"
      ]
    },
    {
      "cell_type": "markdown",
      "metadata": {
        "id": "8aSc2wn3isz9"
      },
      "source": [
        "https://www.w3schools.com/python/ref_string_format.asp"
      ]
    },
    {
      "cell_type": "code",
      "metadata": {
        "id": "-oUqqaKFX1yM",
        "outputId": "3f0aa532-3334-49e7-b161-96df1f7da92f",
        "colab": {
          "base_uri": "https://localhost:8080/",
          "height": 34
        }
      },
      "source": [
        "# What is the output of the following statement?\n",
        "\n",
        "print('The sum of {0} and {1} is {2}'.format(2, 10, 12))"
      ],
      "execution_count": null,
      "outputs": [
        {
          "output_type": "stream",
          "text": [
            "The sum of 2 and 10 is 12\n"
          ],
          "name": "stdout"
        }
      ]
    },
    {
      "cell_type": "code",
      "metadata": {
        "id": "iUTMXC88eiqD",
        "outputId": "a92daa27-dd37-418e-b47a-dd7e3cd47da5",
        "colab": {
          "base_uri": "https://localhost:8080/",
          "height": 35
        }
      },
      "source": [
        "'{} {}'.format('one', 'two')"
      ],
      "execution_count": null,
      "outputs": [
        {
          "output_type": "execute_result",
          "data": {
            "application/vnd.google.colaboratory.intrinsic+json": {
              "type": "string"
            },
            "text/plain": [
              "'one two'"
            ]
          },
          "metadata": {
            "tags": []
          },
          "execution_count": 52
        }
      ]
    },
    {
      "cell_type": "code",
      "metadata": {
        "id": "s7nL_vr6e3Gw",
        "outputId": "58280113-63a0-4878-8460-cacdab8c75c6",
        "colab": {
          "base_uri": "https://localhost:8080/",
          "height": 34
        }
      },
      "source": [
        "print('{} {}'.format('one', 'two'))"
      ],
      "execution_count": null,
      "outputs": [
        {
          "output_type": "stream",
          "text": [
            "one two\n"
          ],
          "name": "stdout"
        }
      ]
    },
    {
      "cell_type": "code",
      "metadata": {
        "id": "7UM8x9e0eitw",
        "outputId": "fb31bf07-6bc0-46c1-f840-fa3f649225e1",
        "colab": {
          "base_uri": "https://localhost:8080/",
          "height": 35
        }
      },
      "source": [
        "'{} {}'.format(1, 2)"
      ],
      "execution_count": null,
      "outputs": [
        {
          "output_type": "execute_result",
          "data": {
            "application/vnd.google.colaboratory.intrinsic+json": {
              "type": "string"
            },
            "text/plain": [
              "'1 2'"
            ]
          },
          "metadata": {
            "tags": []
          },
          "execution_count": 53
        }
      ]
    },
    {
      "cell_type": "code",
      "metadata": {
        "id": "u_1PaZdwe3jx",
        "outputId": "ef0fd20b-b8f4-4609-e1bd-a46abb5dc37f",
        "colab": {
          "base_uri": "https://localhost:8080/",
          "height": 34
        }
      },
      "source": [
        "print('{} {}'.format(1, 2))"
      ],
      "execution_count": null,
      "outputs": [
        {
          "output_type": "stream",
          "text": [
            "1 2\n"
          ],
          "name": "stdout"
        }
      ]
    },
    {
      "cell_type": "code",
      "metadata": {
        "id": "xMYratfcfRNB",
        "outputId": "aca0b584-9020-4eed-d2d3-f25f9cd8c4d5",
        "colab": {
          "base_uri": "https://localhost:8080/",
          "height": 35
        }
      },
      "source": [
        "'{1} {0}'.format('one', 'two')"
      ],
      "execution_count": null,
      "outputs": [
        {
          "output_type": "execute_result",
          "data": {
            "application/vnd.google.colaboratory.intrinsic+json": {
              "type": "string"
            },
            "text/plain": [
              "'two one'"
            ]
          },
          "metadata": {
            "tags": []
          },
          "execution_count": 56
        }
      ]
    },
    {
      "cell_type": "code",
      "metadata": {
        "id": "MpEtvlUkfRQ7"
      },
      "source": [
        "from datetime import datetime"
      ],
      "execution_count": null,
      "outputs": []
    },
    {
      "cell_type": "code",
      "metadata": {
        "id": "ASl2xZBXfRU4",
        "outputId": "bc03b22c-c491-4538-b441-bf83867c87b8",
        "colab": {
          "base_uri": "https://localhost:8080/",
          "height": 35
        }
      },
      "source": [
        "'{:%Y-%m-%d %H:%M}'.format(datetime(2001, 2, 3, 4, 5))"
      ],
      "execution_count": null,
      "outputs": [
        {
          "output_type": "execute_result",
          "data": {
            "application/vnd.google.colaboratory.intrinsic+json": {
              "type": "string"
            },
            "text/plain": [
              "'2001-02-03 04:05'"
            ]
          },
          "metadata": {
            "tags": []
          },
          "execution_count": 58
        }
      ]
    },
    {
      "cell_type": "code",
      "metadata": {
        "id": "ndHvsFgBfRYq",
        "outputId": "1ffcd4d5-035c-4940-aece-2c5905c14565",
        "colab": {
          "base_uri": "https://localhost:8080/",
          "height": 34
        }
      },
      "source": [
        "txt = \"For only {price:.2f} dollars!\"\n",
        "print(txt.format(price = 49))"
      ],
      "execution_count": null,
      "outputs": [
        {
          "output_type": "stream",
          "text": [
            "For only 49.00 dollars!\n"
          ],
          "name": "stdout"
        }
      ]
    },
    {
      "cell_type": "markdown",
      "metadata": {
        "id": "UViQlabdhKD6"
      },
      "source": [
        "### The Placeholders\n",
        "- The **placeholders** can be identified using **named indexes {price}**, **numbered indexes {0}**, or even **empty placeholders {}**"
      ]
    },
    {
      "cell_type": "code",
      "metadata": {
        "id": "p37DLvcbhOnL"
      },
      "source": [
        "# Using different placeholder values\n",
        "txt1 = \"My name is {fname}, I'am {age}\".format(fname = \"John\", age = 36)\n",
        "txt2 = \"My name is {0}, I'am {1}\".format(\"John\",36)\n",
        "txt3 = \"My name is {}, I'am {}\".format(\"John\",36)"
      ],
      "execution_count": null,
      "outputs": []
    },
    {
      "cell_type": "code",
      "metadata": {
        "id": "1y9bF1LthOrB",
        "outputId": "0c82e2dd-045b-467c-d5ab-dc146defcaf6",
        "colab": {
          "base_uri": "https://localhost:8080/",
          "height": 35
        }
      },
      "source": [
        "txt1"
      ],
      "execution_count": null,
      "outputs": [
        {
          "output_type": "execute_result",
          "data": {
            "application/vnd.google.colaboratory.intrinsic+json": {
              "type": "string"
            },
            "text/plain": [
              "\"My name is John, I'am 36\""
            ]
          },
          "metadata": {
            "tags": []
          },
          "execution_count": 62
        }
      ]
    },
    {
      "cell_type": "code",
      "metadata": {
        "id": "A2Qp2pEXhOup",
        "outputId": "56cca942-2691-4212-a22e-13193c1f6cb0",
        "colab": {
          "base_uri": "https://localhost:8080/",
          "height": 35
        }
      },
      "source": [
        "txt2"
      ],
      "execution_count": null,
      "outputs": [
        {
          "output_type": "execute_result",
          "data": {
            "application/vnd.google.colaboratory.intrinsic+json": {
              "type": "string"
            },
            "text/plain": [
              "\"My name is John, I'am 36\""
            ]
          },
          "metadata": {
            "tags": []
          },
          "execution_count": 65
        }
      ]
    },
    {
      "cell_type": "code",
      "metadata": {
        "id": "ZkcQSR_ghOyL",
        "outputId": "b29bbede-4820-4c52-a9a6-13b789036ddb",
        "colab": {
          "base_uri": "https://localhost:8080/",
          "height": 35
        }
      },
      "source": [
        "txt3"
      ],
      "execution_count": null,
      "outputs": [
        {
          "output_type": "execute_result",
          "data": {
            "application/vnd.google.colaboratory.intrinsic+json": {
              "type": "string"
            },
            "text/plain": [
              "\"My name is John, I'am 36\""
            ]
          },
          "metadata": {
            "tags": []
          },
          "execution_count": 66
        }
      ]
    },
    {
      "cell_type": "markdown",
      "metadata": {
        "id": "u3W5yox8jWEU"
      },
      "source": [
        "### Syntax : { } .format(value)"
      ]
    },
    {
      "cell_type": "code",
      "metadata": {
        "id": "_c-0eeE_jDJ0",
        "outputId": "3b7f6d43-9625-4260-8d05-5a7fa89c798a",
        "colab": {
          "base_uri": "https://localhost:8080/",
          "height": 68
        }
      },
      "source": [
        "# Python3 program to demonstarte the str.format() method \n",
        "  \n",
        "# using format option in a simple string \n",
        "print (\"{}, A computer science portal for geeks.\".format(\"GeeksforGeeks\")) \n",
        "  \n",
        "# using format option for a value stored in a variable \n",
        "str = \"This article is written in {}\"\n",
        "print (str.format(\"Python\")) \n",
        "  \n",
        "# formatting a string using a numeric constant \n",
        "print (\"Hello, I am {} years old !\".format(18))  "
      ],
      "execution_count": null,
      "outputs": [
        {
          "output_type": "stream",
          "text": [
            "GeeksforGeeks, A computer science portal for geeks.\n",
            "This article is written in Python\n",
            "Hello, I am 18 years old !\n"
          ],
          "name": "stdout"
        }
      ]
    },
    {
      "cell_type": "markdown",
      "metadata": {
        "id": "8hEUn9gVjcWw"
      },
      "source": [
        "### Syntax : { } { } .format(value1, value2)"
      ]
    },
    {
      "cell_type": "code",
      "metadata": {
        "id": "ZA_y9ql_jDN7",
        "outputId": "7b6c386f-3222-4e4c-b533-440af56cb181",
        "colab": {
          "base_uri": "https://localhost:8080/",
          "height": 68
        }
      },
      "source": [
        "# Python program using multiple place holders to demonstrate str.format() method  \n",
        "  \n",
        "# Multiple placeholders in format() function \n",
        "my_string = \"{}, is a {} science portal for {}\"\n",
        "print (my_string.format(\"GeeksforGeeks\", \"computer\", \"geeks\")) \n",
        "  \n",
        "# different datatypes can be used in formatting \n",
        "print (\"Hi ! My name is {} and I am {} years old\".format(\"User\", 19)) \n",
        "  \n",
        "# The values passed as parameters are replaced in order of their entry \n",
        "print (\"This is {} {} {} {}\".format(\"one\", \"two\", \"three\", \"four\")) "
      ],
      "execution_count": null,
      "outputs": [
        {
          "output_type": "stream",
          "text": [
            "GeeksforGeeks, is a computer science portal for geeks\n",
            "Hi ! My name is User and I am 19 years old\n",
            "This is one two three four\n"
          ],
          "name": "stdout"
        }
      ]
    },
    {
      "cell_type": "markdown",
      "metadata": {
        "id": "inWvOuZ2lOQi"
      },
      "source": [
        "---------------------------------"
      ]
    },
    {
      "cell_type": "code",
      "metadata": {
        "id": "jfW8zn4flPgw",
        "outputId": "a16f09cf-c1be-44ff-b8ec-062e128bcd25",
        "colab": {
          "base_uri": "https://localhost:8080/",
          "height": 187
        }
      },
      "source": [
        "for x in range(1, 11):\n",
        "  print(repr(x).rjust(2), repr(x*x).rjust(3), end=' ')\n",
        "  print(repr(x*x*x).rjust(4))"
      ],
      "execution_count": null,
      "outputs": [
        {
          "output_type": "stream",
          "text": [
            " 1   1    1\n",
            " 2   4    8\n",
            " 3   9   27\n",
            " 4  16   64\n",
            " 5  25  125\n",
            " 6  36  216\n",
            " 7  49  343\n",
            " 8  64  512\n",
            " 9  81  729\n",
            "10 100 1000\n"
          ],
          "name": "stdout"
        }
      ]
    },
    {
      "cell_type": "code",
      "metadata": {
        "id": "03uVZF9hlPkb",
        "outputId": "37eb680e-7595-4017-bde6-8461adfc1bee",
        "colab": {
          "base_uri": "https://localhost:8080/",
          "height": 85
        }
      },
      "source": [
        "for i in range(4):\n",
        "  if(i==2):\n",
        "    print('n')\n",
        "  elif(i==1):\n",
        "    print('e')\n",
        "  else:\n",
        "    print('t')"
      ],
      "execution_count": null,
      "outputs": [
        {
          "output_type": "stream",
          "text": [
            "t\n",
            "e\n",
            "n\n",
            "t\n"
          ],
          "name": "stdout"
        }
      ]
    },
    {
      "cell_type": "code",
      "metadata": {
        "id": "jZRbyBOLlPod",
        "outputId": "0846f619-d325-4770-d769-d9f0446a3dd2",
        "colab": {
          "base_uri": "https://localhost:8080/",
          "height": 34
        }
      },
      "source": [
        "# What is the output of this code?\n",
        "\n",
        "for i in range(4):\n",
        "  if(i==2):\n",
        "    print('n', end=\"\")\n",
        "  elif(i==1):\n",
        "    print('e', end=\"\")\n",
        "  else:\n",
        "    print('t', end=\"\")"
      ],
      "execution_count": null,
      "outputs": [
        {
          "output_type": "stream",
          "text": [
            "tent"
          ],
          "name": "stdout"
        }
      ]
    }
  ]
}