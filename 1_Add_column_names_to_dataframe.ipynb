{
  "nbformat": 4,
  "nbformat_minor": 0,
  "metadata": {
    "colab": {
      "name": "1_Add column names to dataframe.ipynb",
      "provenance": [],
      "collapsed_sections": [],
      "authorship_tag": "ABX9TyPMeekr5oywwqsHh0z8Hllx",
      "include_colab_link": true
    },
    "kernelspec": {
      "name": "python3",
      "display_name": "Python 3"
    },
    "language_info": {
      "name": "python"
    }
  },
  "cells": [
    {
      "cell_type": "markdown",
      "metadata": {
        "id": "view-in-github",
        "colab_type": "text"
      },
      "source": [
        "<a href=\"https://colab.research.google.com/github/sureshmecad/Google-Colab/blob/master/1_Add_column_names_to_dataframe.ipynb\" target=\"_parent\"><img src=\"https://colab.research.google.com/assets/colab-badge.svg\" alt=\"Open In Colab\"/></a>"
      ]
    },
    {
      "cell_type": "code",
      "metadata": {
        "colab": {
          "base_uri": "https://localhost:8080/"
        },
        "id": "FUUj7Ddsy2mE",
        "outputId": "fc619809-ee1c-48a9-d8c8-d8cb8988a39a"
      },
      "source": [
        "# importing the pandas library\n",
        "import pandas as pd\n",
        "  \n",
        "# creating lists\n",
        "l1 =[\"Amar\", \"Barsha\", \"Carlos\", \"Tanmay\", \"Misbah\"]\n",
        "l2 =[\"Alpha\", \"Bravo\", \"Charlie\", \"Tango\", \"Mike\"]\n",
        "l3 =[23, 25, 22, 27, 29]\n",
        "l4 =[69, 54, 73, 70, 74]\n",
        "  \n",
        "# creating the DataFrame\n",
        "team = pd.DataFrame(list(zip(l1, l2, l3, l4))) \n",
        "  \n",
        "# displaying the DataFrame\n",
        "print(team)"
      ],
      "execution_count": 1,
      "outputs": [
        {
          "output_type": "stream",
          "text": [
            "        0        1   2   3\n",
            "0    Amar    Alpha  23  69\n",
            "1  Barsha    Bravo  25  54\n",
            "2  Carlos  Charlie  22  73\n",
            "3  Tanmay    Tango  27  70\n",
            "4  Misbah     Mike  29  74\n"
          ],
          "name": "stdout"
        }
      ]
    },
    {
      "cell_type": "markdown",
      "metadata": {
        "id": "7qs-FwKszqCu"
      },
      "source": [
        "- **Adding column name** to the DataFrame : We can add columns to an existing DataFrame using its **columns** attribute."
      ]
    },
    {
      "cell_type": "code",
      "metadata": {
        "colab": {
          "base_uri": "https://localhost:8080/"
        },
        "id": "1k4QGtSczcRm",
        "outputId": "db72486a-2870-49ff-ceeb-b438dd50cb21"
      },
      "source": [
        "# adding column name to the respective columns\n",
        "team.columns =['Name', 'Code', 'Age', 'Weight']\n",
        "  \n",
        "# displaying the DataFrame\n",
        "print(team)"
      ],
      "execution_count": 2,
      "outputs": [
        {
          "output_type": "stream",
          "text": [
            "     Name     Code  Age  Weight\n",
            "0    Amar    Alpha   23      69\n",
            "1  Barsha    Bravo   25      54\n",
            "2  Carlos  Charlie   22      73\n",
            "3  Tanmay    Tango   27      70\n",
            "4  Misbah     Mike   29      74\n"
          ],
          "name": "stdout"
        }
      ]
    }
  ]
}