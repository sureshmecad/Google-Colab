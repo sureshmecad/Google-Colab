{
  "nbformat": 4,
  "nbformat_minor": 0,
  "metadata": {
    "colab": {
      "name": "4_iterate-over-array.ipynb",
      "provenance": [],
      "collapsed_sections": [],
      "authorship_tag": "ABX9TyPknVsQ8kbNHkWKgbRWezWr",
      "include_colab_link": true
    },
    "kernelspec": {
      "name": "python3",
      "display_name": "Python 3"
    },
    "language_info": {
      "name": "python"
    }
  },
  "cells": [
    {
      "cell_type": "markdown",
      "metadata": {
        "id": "view-in-github",
        "colab_type": "text"
      },
      "source": [
        "<a href=\"https://colab.research.google.com/github/sureshmecad/Google-Colab/blob/master/4_iterate_over_array.ipynb\" target=\"_parent\"><img src=\"https://colab.research.google.com/assets/colab-badge.svg\" alt=\"Open In Colab\"/></a>"
      ]
    },
    {
      "cell_type": "markdown",
      "metadata": {
        "id": "4XPtowjlL1Mn"
      },
      "source": [
        "- https://www.youtube.com/watch?v=PA6cR5_d2k0"
      ]
    },
    {
      "cell_type": "markdown",
      "metadata": {
        "id": "F4xSiJkeL26m"
      },
      "source": [
        "-------------------"
      ]
    },
    {
      "cell_type": "code",
      "metadata": {
        "id": "DZM7F9lpDzBV"
      },
      "source": [
        "import numpy as np\n",
        "import pandas as pd"
      ],
      "execution_count": 2,
      "outputs": []
    },
    {
      "cell_type": "markdown",
      "metadata": {
        "id": "7Pux16P2MiQw"
      },
      "source": [
        "### **Looping over one dimensional array**"
      ]
    },
    {
      "cell_type": "code",
      "metadata": {
        "id": "Jj1AGxLoDy5F"
      },
      "source": [
        "attendance = np.array([35, 37, 39, 33, 36, 30, 32])"
      ],
      "execution_count": 5,
      "outputs": []
    },
    {
      "cell_type": "code",
      "metadata": {
        "colab": {
          "base_uri": "https://localhost:8080/"
        },
        "id": "Nv-RAEe9FMSy",
        "outputId": "b60c2a0d-46e2-44bf-cd71-d2779e8a4b9d"
      },
      "source": [
        "for i in attendance:\n",
        "  print(i/i)"
      ],
      "execution_count": 6,
      "outputs": [
        {
          "output_type": "stream",
          "name": "stdout",
          "text": [
            "1.0\n",
            "1.0\n",
            "1.0\n",
            "1.0\n",
            "1.0\n",
            "1.0\n",
            "1.0\n"
          ]
        }
      ]
    },
    {
      "cell_type": "markdown",
      "metadata": {
        "id": "pR8t-c_GMq-Y"
      },
      "source": [
        "### **Looping over two dimensional array**"
      ]
    },
    {
      "cell_type": "code",
      "metadata": {
        "id": "iKb0AZFKFMDL"
      },
      "source": [
        "attendance1 = np.array([[35,32], [37,28], [39,34], [33,36], [36,30]])"
      ],
      "execution_count": 8,
      "outputs": []
    },
    {
      "cell_type": "code",
      "metadata": {
        "colab": {
          "base_uri": "https://localhost:8080/"
        },
        "id": "-Rqt33GsFL6T",
        "outputId": "cfffcf0f-f691-4735-8968-d948c7329e6e"
      },
      "source": [
        "# simple for loop doesn't print all the elements one by one properly\n",
        "\n",
        "for i in attendance1:\n",
        "  print(i)"
      ],
      "execution_count": 9,
      "outputs": [
        {
          "output_type": "stream",
          "name": "stdout",
          "text": [
            "[35 32]\n",
            "[37 28]\n",
            "[39 34]\n",
            "[33 36]\n",
            "[36 30]\n"
          ]
        }
      ]
    },
    {
      "cell_type": "code",
      "metadata": {
        "colab": {
          "base_uri": "https://localhost:8080/"
        },
        "id": "hAqyrCSzN204",
        "outputId": "322a6741-802e-4ec5-de83-94df124ba05f"
      },
      "source": [
        "for i in np.nditer(attendance1):\n",
        "  print(i)"
      ],
      "execution_count": 10,
      "outputs": [
        {
          "output_type": "stream",
          "name": "stdout",
          "text": [
            "35\n",
            "32\n",
            "37\n",
            "28\n",
            "39\n",
            "34\n",
            "33\n",
            "36\n",
            "36\n",
            "30\n"
          ]
        }
      ]
    }
  ]
}