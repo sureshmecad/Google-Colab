{
  "nbformat": 4,
  "nbformat_minor": 0,
  "metadata": {
    "colab": {
      "name": "1_Interview-Questions-Numpy.ipynb",
      "provenance": [],
      "collapsed_sections": [],
      "authorship_tag": "ABX9TyPN7QiVdd/tLrdcOABiBPUj",
      "include_colab_link": true
    },
    "kernelspec": {
      "name": "python3",
      "display_name": "Python 3"
    },
    "language_info": {
      "name": "python"
    }
  },
  "cells": [
    {
      "cell_type": "markdown",
      "metadata": {
        "id": "view-in-github",
        "colab_type": "text"
      },
      "source": [
        "<a href=\"https://colab.research.google.com/github/sureshmecad/Google-Colab/blob/master/1_Interview_Questions_Numpy.ipynb\" target=\"_parent\"><img src=\"https://colab.research.google.com/assets/colab-badge.svg\" alt=\"Open In Colab\"/></a>"
      ]
    },
    {
      "cell_type": "markdown",
      "metadata": {
        "id": "WaZr00tNc6UR"
      },
      "source": [
        "1) diff()"
      ]
    },
    {
      "cell_type": "markdown",
      "metadata": {
        "id": "RMd4fSfqdB5J"
      },
      "source": [
        "------------"
      ]
    },
    {
      "cell_type": "markdown",
      "metadata": {
        "id": "DjWG_3b_cCPe"
      },
      "source": [
        "#### **1) numpy.diff()**\n",
        "\n",
        "- out[i] = arr[i+1] – arr[i]"
      ]
    },
    {
      "cell_type": "code",
      "metadata": {
        "id": "TIYVwW7ncsFZ"
      },
      "source": [
        "# importing numpy\n",
        "import numpy as np"
      ],
      "execution_count": 3,
      "outputs": []
    },
    {
      "cell_type": "code",
      "metadata": {
        "colab": {
          "base_uri": "https://localhost:8080/"
        },
        "id": "m0JVybXhbtxQ",
        "outputId": "16540be6-381d-40c4-9583-ac55a2ebf83c"
      },
      "source": [
        "# input array\n",
        "arr = np.array([1, 3, 4, 7, 9])\n",
        "   \n",
        "print(\"Input array  : \", arr)\n",
        "print(\"First order difference  : \", np.diff(arr))\n",
        "print(\"Second order difference : \", np.diff(arr, n = 2))\n",
        "print(\"Third order difference  : \", np.diff(arr, n = 3))"
      ],
      "execution_count": 1,
      "outputs": [
        {
          "output_type": "stream",
          "text": [
            "Input array  :  [1 3 4 7 9]\n",
            "First order difference  :  [2 1 3 2]\n",
            "Second order difference :  [-1  2 -1]\n",
            "Third order difference  :  [ 3 -3]\n"
          ],
          "name": "stdout"
        }
      ]
    },
    {
      "cell_type": "code",
      "metadata": {
        "colab": {
          "base_uri": "https://localhost:8080/"
        },
        "id": "shhuCfmFcfGY",
        "outputId": "3e728e20-308b-48b5-8728-05782baca04f"
      },
      "source": [
        "# input array\n",
        "arr = np.array([[1, 2, 3, 5], [4, 6, 7, 9]])\n",
        "   \n",
        "print(\"Input array  : \", arr)\n",
        "print(\"Difference when axis is 0 : \", np.diff(arr, axis = 0))\n",
        "print(\"Difference when axis is 1 : \", np.diff(arr, axis = 1))"
      ],
      "execution_count": 2,
      "outputs": [
        {
          "output_type": "stream",
          "text": [
            "Input array  :  [[1 2 3 5]\n",
            " [4 6 7 9]]\n",
            "Difference when axis is 0 :  [[3 4 4 4]]\n",
            "Difference when axis is 1 :  [[1 1 2]\n",
            " [2 1 2]]\n"
          ],
          "name": "stdout"
        }
      ]
    },
    {
      "cell_type": "markdown",
      "metadata": {
        "id": "beqUScjEcyog"
      },
      "source": [
        "#### **Question 1**"
      ]
    },
    {
      "cell_type": "code",
      "metadata": {
        "colab": {
          "base_uri": "https://localhost:8080/"
        },
        "id": "R7AFnje4crSA",
        "outputId": "9bc30652-606e-42f9-da4a-08615c482c5d"
      },
      "source": [
        "t = [1, 3, 6]\n",
        "v = np.diff(t)\n",
        "v"
      ],
      "execution_count": 4,
      "outputs": [
        {
          "output_type": "execute_result",
          "data": {
            "text/plain": [
              "array([2, 3])"
            ]
          },
          "metadata": {
            "tags": []
          },
          "execution_count": 4
        }
      ]
    },
    {
      "cell_type": "markdown",
      "metadata": {
        "id": "3BiPeu2MdC-w"
      },
      "source": [
        "-------------------"
      ]
    }
  ]
}