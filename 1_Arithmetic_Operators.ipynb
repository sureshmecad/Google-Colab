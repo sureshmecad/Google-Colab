{
  "nbformat": 4,
  "nbformat_minor": 0,
  "metadata": {
    "colab": {
      "name": "1_Arithmetic-Operators.ipynb",
      "provenance": [],
      "collapsed_sections": [],
      "include_colab_link": true
    },
    "kernelspec": {
      "name": "python3",
      "display_name": "Python 3"
    }
  },
  "cells": [
    {
      "cell_type": "markdown",
      "metadata": {
        "id": "view-in-github",
        "colab_type": "text"
      },
      "source": [
        "<a href=\"https://colab.research.google.com/github/sureshmecad/Google-Colab/blob/master/1_Arithmetic_Operators.ipynb\" target=\"_parent\"><img src=\"https://colab.research.google.com/assets/colab-badge.svg\" alt=\"Open In Colab\"/></a>"
      ]
    },
    {
      "cell_type": "markdown",
      "metadata": {
        "id": "3Rc7-TBrDm2e"
      },
      "source": [
        "### **8. Python Arithmetic Operators**\n",
        "\n",
        "|Operator      |Description                    |  Syntax  |               \n",
        "|--------------|-------------------------------|----------|\n",
        "|+             |Addition                       |   x + y  |\n",
        "|-             |Subtraction                    |   x - y  |\n",
        "|*             |Multiplication                 |   x*y    |\n",
        "|/             |Division                       |   x / y  |\n",
        "|%             |Modulus                        |   x % y  |\n",
        "|**            |Exponentiation                 |   x ** y |\n",
        "|//            |Floor division                 |   x // y |"
      ]
    },
    {
      "cell_type": "markdown",
      "metadata": {
        "id": "ZAJYwOmd8lUE"
      },
      "source": [
        "#### **8.1) Addition**"
      ]
    },
    {
      "cell_type": "code",
      "metadata": {
        "id": "77DdQdfO8pzM",
        "colab": {
          "base_uri": "https://localhost:8080/"
        },
        "outputId": "ca8179e4-0923-41e9-b937-76472345428e"
      },
      "source": [
        "a = input()"
      ],
      "execution_count": null,
      "outputs": [
        {
          "output_type": "stream",
          "text": [
            "4\n"
          ],
          "name": "stdout"
        }
      ]
    },
    {
      "cell_type": "code",
      "metadata": {
        "id": "sAf86SFN8w2c",
        "colab": {
          "base_uri": "https://localhost:8080/",
          "height": 163
        },
        "outputId": "7f7c6fa4-fdf5-476b-bf2e-6b5a635d8490"
      },
      "source": [
        "print(a+2)"
      ],
      "execution_count": null,
      "outputs": [
        {
          "output_type": "error",
          "ename": "TypeError",
          "evalue": "ignored",
          "traceback": [
            "\u001b[0;31m---------------------------------------------------------------------------\u001b[0m",
            "\u001b[0;31mTypeError\u001b[0m                                 Traceback (most recent call last)",
            "\u001b[0;32m<ipython-input-56-8dc697c55f48>\u001b[0m in \u001b[0;36m<module>\u001b[0;34m()\u001b[0m\n\u001b[0;32m----> 1\u001b[0;31m \u001b[0mprint\u001b[0m\u001b[0;34m(\u001b[0m\u001b[0ma\u001b[0m\u001b[0;34m+\u001b[0m\u001b[0;36m2\u001b[0m\u001b[0;34m)\u001b[0m\u001b[0;34m\u001b[0m\u001b[0;34m\u001b[0m\u001b[0m\n\u001b[0m",
            "\u001b[0;31mTypeError\u001b[0m: can only concatenate str (not \"int\") to str"
          ]
        }
      ]
    },
    {
      "cell_type": "markdown",
      "metadata": {
        "id": "gS0SZqr-Y-Ng"
      },
      "source": [
        "### **8.2) Extend**"
      ]
    },
    {
      "cell_type": "code",
      "metadata": {
        "colab": {
          "base_uri": "https://localhost:8080/"
        },
        "id": "rFLAdT_aZC3K",
        "outputId": "8249eeee-d4bb-481c-9c96-005b98a4a8f3"
      },
      "source": [
        "list1 = [3, 4, 5, 7, 9]\n",
        "list1.extend([34,5])\n",
        "print(list1)"
      ],
      "execution_count": null,
      "outputs": [
        {
          "output_type": "stream",
          "text": [
            "[3, 4, 5, 7, 9, 34, 5]\n"
          ],
          "name": "stdout"
        }
      ]
    },
    {
      "cell_type": "markdown",
      "metadata": {
        "id": "hVOEurm-rIHi"
      },
      "source": [
        "#### **8.3) Multiplication**"
      ]
    },
    {
      "cell_type": "code",
      "metadata": {
        "id": "tAxSAcqVDbF0",
        "colab": {
          "base_uri": "https://localhost:8080/"
        },
        "outputId": "6297e952-0320-45eb-ffea-64afd1106714"
      },
      "source": [
        "b = \"Hello, World!\"\n",
        "print(b[2:5:2]*2)"
      ],
      "execution_count": null,
      "outputs": [
        {
          "output_type": "stream",
          "text": [
            "lolo\n"
          ],
          "name": "stdout"
        }
      ]
    },
    {
      "cell_type": "code",
      "metadata": {
        "id": "A6jDwwSP8k2o",
        "colab": {
          "base_uri": "https://localhost:8080/",
          "height": 35
        },
        "outputId": "23758108-c129-4e29-8300-2ca19c0e7e1f"
      },
      "source": [
        "a = 'hi'*3\n",
        "a"
      ],
      "execution_count": null,
      "outputs": [
        {
          "output_type": "execute_result",
          "data": {
            "application/vnd.google.colaboratory.intrinsic+json": {
              "type": "string"
            },
            "text/plain": [
              "'hihihi'"
            ]
          },
          "metadata": {
            "tags": []
          },
          "execution_count": 59
        }
      ]
    },
    {
      "cell_type": "code",
      "metadata": {
        "id": "3VaIwTB98BbS",
        "colab": {
          "base_uri": "https://localhost:8080/",
          "height": 35
        },
        "outputId": "51f3f688-721c-4298-8a57-4a7b65b8607a"
      },
      "source": [
        "a = ('hi')*3\n",
        "a"
      ],
      "execution_count": null,
      "outputs": [
        {
          "output_type": "execute_result",
          "data": {
            "application/vnd.google.colaboratory.intrinsic+json": {
              "type": "string"
            },
            "text/plain": [
              "'hihihi'"
            ]
          },
          "metadata": {
            "tags": []
          },
          "execution_count": 60
        }
      ]
    },
    {
      "cell_type": "code",
      "metadata": {
        "id": "kwFjJ0t68WAq",
        "colab": {
          "base_uri": "https://localhost:8080/"
        },
        "outputId": "ae0506f2-dc4d-450e-840d-56d4798864aa"
      },
      "source": [
        "a = ['hi']*3\n",
        "a"
      ],
      "execution_count": null,
      "outputs": [
        {
          "output_type": "execute_result",
          "data": {
            "text/plain": [
              "['hi', 'hi', 'hi']"
            ]
          },
          "metadata": {
            "tags": []
          },
          "execution_count": 61
        }
      ]
    },
    {
      "cell_type": "markdown",
      "metadata": {
        "id": "_88iuPavrSdz"
      },
      "source": [
        "#### **8.4) Floor Division**"
      ]
    },
    {
      "cell_type": "code",
      "metadata": {
        "id": "4QPR4Wyjxefb",
        "colab": {
          "base_uri": "https://localhost:8080/"
        },
        "outputId": "2d263ba9-c5de-4533-b2ba-43892c28afd3"
      },
      "source": [
        "quotient = 7 // 3     # This is the integer division operator\n",
        "print(quotient)"
      ],
      "execution_count": null,
      "outputs": [
        {
          "output_type": "stream",
          "text": [
            "2\n"
          ],
          "name": "stdout"
        }
      ]
    },
    {
      "cell_type": "code",
      "metadata": {
        "id": "QHuLClaZDa-L",
        "colab": {
          "base_uri": "https://localhost:8080/"
        },
        "outputId": "47b466fb-5ca7-4691-a356-2619541fda40"
      },
      "source": [
        "# What is the output of the following statement?\n",
        "# Floor Division (Arithmetic Operation)\n",
        "\n",
        "x = 8\n",
        "y = 2\n",
        "print(x // y)"
      ],
      "execution_count": null,
      "outputs": [
        {
          "output_type": "stream",
          "text": [
            "4\n"
          ],
          "name": "stdout"
        }
      ]
    },
    {
      "cell_type": "markdown",
      "metadata": {
        "id": "4z0o319DbO2l"
      },
      "source": [
        "#### Which one of these is floor division?\n",
        "\n",
        "a. /\n",
        "\n",
        "b. //\n",
        "\n",
        "c. %\n",
        "\n",
        "d. None"
      ]
    },
    {
      "cell_type": "markdown",
      "metadata": {
        "id": "kkdE3-7mr259"
      },
      "source": [
        "#### **8.5) Modulus**\n",
        "- Reminder"
      ]
    },
    {
      "cell_type": "code",
      "metadata": {
        "id": "KvE7wdKRs2di",
        "colab": {
          "base_uri": "https://localhost:8080/"
        },
        "outputId": "46157973-5fd7-415e-fe6d-1c9dc0d91b00"
      },
      "source": [
        "remainder = 7 % 3\n",
        "print(remainder)"
      ],
      "execution_count": null,
      "outputs": [
        {
          "output_type": "stream",
          "text": [
            "1\n"
          ],
          "name": "stdout"
        }
      ]
    },
    {
      "cell_type": "markdown",
      "metadata": {
        "id": "W7yPndo5Yi7e"
      },
      "source": [
        "### Question"
      ]
    },
    {
      "cell_type": "code",
      "metadata": {
        "id": "WPOKHTeWqgEY",
        "colab": {
          "base_uri": "https://localhost:8080/",
          "height": 129
        },
        "outputId": "359bb3b7-a483-4a85-ed73-fead7fd5c963"
      },
      "source": [
        "1a = 1.0\n",
        "print(1a%2)"
      ],
      "execution_count": null,
      "outputs": [
        {
          "output_type": "error",
          "ename": "SyntaxError",
          "evalue": "ignored",
          "traceback": [
            "\u001b[0;36m  File \u001b[0;32m\"<ipython-input-83-7e25bcee54f9>\"\u001b[0;36m, line \u001b[0;32m1\u001b[0m\n\u001b[0;31m    1a = 1.0\u001b[0m\n\u001b[0m     ^\u001b[0m\n\u001b[0;31mSyntaxError\u001b[0m\u001b[0;31m:\u001b[0m invalid syntax\n"
          ]
        }
      ]
    },
    {
      "cell_type": "markdown",
      "metadata": {
        "id": "5BGpa5uy8HNU"
      },
      "source": [
        "- **Variables** can't start with a **number**"
      ]
    },
    {
      "cell_type": "code",
      "metadata": {
        "colab": {
          "base_uri": "https://localhost:8080/"
        },
        "id": "FPZ0hXB-Ym2O",
        "outputId": "0343e8a9-8b28-4627-f7f6-1c361a18a49c"
      },
      "source": [
        "a = 1.0\n",
        "print(a % 2 )"
      ],
      "execution_count": null,
      "outputs": [
        {
          "output_type": "stream",
          "text": [
            "1.0\n"
          ],
          "name": "stdout"
        }
      ]
    },
    {
      "cell_type": "markdown",
      "metadata": {
        "id": "s9EXawMkFpF9"
      },
      "source": [
        "#### **8.6) Power**"
      ]
    },
    {
      "cell_type": "code",
      "metadata": {
        "colab": {
          "base_uri": "https://localhost:8080/"
        },
        "id": "lUkyEBmeFuXJ",
        "outputId": "688d4c64-c9fd-4497-c783-d48de52873e8"
      },
      "source": [
        "print(2*3**3*4)"
      ],
      "execution_count": null,
      "outputs": [
        {
          "output_type": "stream",
          "text": [
            "216\n"
          ],
          "name": "stdout"
        }
      ]
    },
    {
      "cell_type": "markdown",
      "metadata": {
        "id": "ufUF9vGptZSc"
      },
      "source": [
        "--------------------------------------------------------------------------------"
      ]
    },
    {
      "cell_type": "markdown",
      "metadata": {
        "id": "BEi3cX39D-DA"
      },
      "source": [
        "### **9. Python Comparison Operators**\n",
        "\n",
        "|Operator    |Description                      |Syntax     |\n",
        "|------------|---------------------------------|-----------|\n",
        "|==          |Equal                            |  x == y   |\n",
        "|!=          |Not equal                        |  x != y   |\n",
        "|>           |Greater than                     |  x > y    |\n",
        "|<           |Less than                        |  x < y    |\n",
        "|>=          |Greater than or equal to         |  x >= y   |\n",
        "|<=          |Less than or equal to            |  x <= y   |"
      ]
    },
    {
      "cell_type": "markdown",
      "metadata": {
        "id": "AYkE4VDywuNA"
      },
      "source": [
        "##### **Question 1**"
      ]
    },
    {
      "cell_type": "code",
      "metadata": {
        "id": "Qa0gor29DbJr",
        "colab": {
          "base_uri": "https://localhost:8080/"
        },
        "outputId": "ae0265ec-37b3-4763-e564-4d9805c1bf5b"
      },
      "source": [
        "num1 = 3**5\n",
        "num2 = 3**5.0\n",
        "print(num1 == num2)"
      ],
      "execution_count": null,
      "outputs": [
        {
          "output_type": "stream",
          "text": [
            "True\n"
          ],
          "name": "stdout"
        }
      ]
    },
    {
      "cell_type": "markdown",
      "metadata": {
        "id": "G7Yyc4SJwzxP"
      },
      "source": [
        "##### **Question 2**"
      ]
    },
    {
      "cell_type": "code",
      "metadata": {
        "id": "IMGvOHhwtlIq"
      },
      "source": [
        "x,y = 10, 50\n",
        "if (x**2 > 100 and y < 100):\n",
        "  print(x,y)\n",
        "\n",
        "# A. Nothing will print\n",
        "# B. 10 50\n",
        "# C. 100 500\n",
        "# D. Error"
      ],
      "execution_count": null,
      "outputs": []
    },
    {
      "cell_type": "code",
      "metadata": {
        "colab": {
          "base_uri": "https://localhost:8080/"
        },
        "id": "xGYe-2B4wdvP",
        "outputId": "15e02465-0dd4-4741-81f4-512d1674d6f9"
      },
      "source": [
        "x,y = 10, 50\n",
        "if (x**2 > 90 and y < 100):\n",
        "  print(x,y)"
      ],
      "execution_count": null,
      "outputs": [
        {
          "output_type": "stream",
          "text": [
            "10 50\n"
          ],
          "name": "stdout"
        }
      ]
    },
    {
      "cell_type": "markdown",
      "metadata": {
        "id": "dr5k0ULLEV8P"
      },
      "source": [
        "##### **Question 3**"
      ]
    },
    {
      "cell_type": "code",
      "metadata": {
        "colab": {
          "base_uri": "https://localhost:8080/"
        },
        "id": "o0EMhMS5EaAS",
        "outputId": "1c59fcea-9554-440a-b05e-996ba8aba19f"
      },
      "source": [
        "x = \"Community\"\n",
        "y = \"Community\"\n",
        "print(x > y)"
      ],
      "execution_count": null,
      "outputs": [
        {
          "output_type": "stream",
          "text": [
            "False\n"
          ],
          "name": "stdout"
        }
      ]
    },
    {
      "cell_type": "markdown",
      "metadata": {
        "id": "TsFcZ4d0Q4qh"
      },
      "source": [
        "##### **Question 4**"
      ]
    },
    {
      "cell_type": "code",
      "metadata": {
        "colab": {
          "base_uri": "https://localhost:8080/"
        },
        "id": "oA9sDt7pQ852",
        "outputId": "fec67c89-2639-4ffd-9408-ac5126083274"
      },
      "source": [
        "print((8 < 9) > 0)"
      ],
      "execution_count": null,
      "outputs": [
        {
          "output_type": "stream",
          "text": [
            "True\n"
          ],
          "name": "stdout"
        }
      ]
    },
    {
      "cell_type": "markdown",
      "metadata": {
        "id": "CXe2pDDSsWwZ"
      },
      "source": [
        "##### **Question 5**"
      ]
    },
    {
      "cell_type": "code",
      "metadata": {
        "colab": {
          "base_uri": "https://localhost:8080/",
          "height": 129
        },
        "id": "VZvKUQnvsbI7",
        "outputId": "0b42dc84-e6af-41cd-b2ba-89d536aee8a9"
      },
      "source": [
        "x = y = 10\n",
        "y = x+=1\n",
        "print(y)"
      ],
      "execution_count": null,
      "outputs": [
        {
          "output_type": "error",
          "ename": "SyntaxError",
          "evalue": "ignored",
          "traceback": [
            "\u001b[0;36m  File \u001b[0;32m\"<ipython-input-6-0094276110cc>\"\u001b[0;36m, line \u001b[0;32m2\u001b[0m\n\u001b[0;31m    y = x+=1\u001b[0m\n\u001b[0m          ^\u001b[0m\n\u001b[0;31mSyntaxError\u001b[0m\u001b[0;31m:\u001b[0m invalid syntax\n"
          ]
        }
      ]
    },
    {
      "cell_type": "markdown",
      "metadata": {
        "id": "2v43FAGesthX"
      },
      "source": [
        "##### **Question 6**"
      ]
    },
    {
      "cell_type": "code",
      "metadata": {
        "colab": {
          "base_uri": "https://localhost:8080/"
        },
        "id": "0a0E7S_JsxG3",
        "outputId": "b15c0779-7fa1-4ff3-a310-20d190b75c70"
      },
      "source": [
        "a = [10, 20]\n",
        "b = a\n",
        "b += [30, 40]\n",
        "print(a == b)"
      ],
      "execution_count": null,
      "outputs": [
        {
          "output_type": "stream",
          "text": [
            "True\n"
          ],
          "name": "stdout"
        }
      ]
    },
    {
      "cell_type": "markdown",
      "metadata": {
        "id": "HeUBD35jC_tp"
      },
      "source": [
        "----------------------------------"
      ]
    },
    {
      "cell_type": "markdown",
      "metadata": {
        "id": "pCIJme83fymC"
      },
      "source": [
        "### **10. Logical Operators**"
      ]
    },
    {
      "cell_type": "markdown",
      "metadata": {
        "id": "MuxetiA9f8Wr"
      },
      "source": [
        "|Operator |Description                                             |Syntax   |\n",
        "|---------|--------------------------------------------------------|---------|\n",
        "|and      |Returns **True** if **both statements are true**        | x and y |\n",
        "|or       |Returns **True** if **one of the statements is true**   | x or y  |\n",
        "|not      |Reverse the result, returns **False** if the result is  | not x   |\n",
        "|         |**true**. **True** if operand is **false**              |         |"
      ]
    },
    {
      "cell_type": "code",
      "metadata": {
        "colab": {
          "base_uri": "https://localhost:8080/"
        },
        "id": "4wtNqHYS0SXv",
        "outputId": "55bb7dd8-9aa9-49b1-851c-1554d4fca70b"
      },
      "source": [
        "# Examples of Logical Operator\n",
        "a = True\n",
        "b = False\n",
        "  \n",
        "# Print a and b is False\n",
        "print(a and b)\n",
        "  \n",
        "# Print a or b is True\n",
        "print(a or b)\n",
        "  \n",
        "# Print not a is False\n",
        "print(not a)"
      ],
      "execution_count": null,
      "outputs": [
        {
          "output_type": "stream",
          "text": [
            "False\n",
            "True\n",
            "False\n"
          ],
          "name": "stdout"
        }
      ]
    },
    {
      "cell_type": "code",
      "metadata": {
        "colab": {
          "base_uri": "https://localhost:8080/"
        },
        "id": "jqD6uyAEiUHQ",
        "outputId": "585c8a91-424a-4367-e219-bdf17c84f4b9"
      },
      "source": [
        "# returns True because 5 is greater than 3 AND 5 is less than 10\n",
        "x = 5\n",
        "print(x > 3 and x < 10)"
      ],
      "execution_count": null,
      "outputs": [
        {
          "output_type": "stream",
          "text": [
            "True\n"
          ],
          "name": "stdout"
        }
      ]
    },
    {
      "cell_type": "code",
      "metadata": {
        "colab": {
          "base_uri": "https://localhost:8080/"
        },
        "id": "Dn6Bcjjkiwlq",
        "outputId": "06223618-5138-440e-eef2-e1af85c20bbd"
      },
      "source": [
        "# returns False because not is used to reverse the result\n",
        "x = 5\n",
        "print(not(x > 3 and x < 10))"
      ],
      "execution_count": null,
      "outputs": [
        {
          "output_type": "stream",
          "text": [
            "False\n"
          ],
          "name": "stdout"
        }
      ]
    },
    {
      "cell_type": "code",
      "metadata": {
        "colab": {
          "base_uri": "https://localhost:8080/"
        },
        "id": "JyuIerQ1iek_",
        "outputId": "01363a4e-084b-460f-defc-15387a724d35"
      },
      "source": [
        "# returns True because one of the conditions are true (5 is greater than 3, but 5 is not less than 4)\n",
        "x = 5\n",
        "print(x > 3 or x < 4)"
      ],
      "execution_count": null,
      "outputs": [
        {
          "output_type": "stream",
          "text": [
            "True\n"
          ],
          "name": "stdout"
        }
      ]
    },
    {
      "cell_type": "markdown",
      "metadata": {
        "id": "EOx5QfyyE16T"
      },
      "source": [
        "#### **Question 1**"
      ]
    },
    {
      "cell_type": "code",
      "metadata": {
        "colab": {
          "base_uri": "https://localhost:8080/"
        },
        "id": "klZl4_dmf7jL",
        "outputId": "28c14b83-065a-47ac-cf88-f8146b5b7804"
      },
      "source": [
        "a = True\n",
        "b = False\n",
        "print(a or a and b)"
      ],
      "execution_count": null,
      "outputs": [
        {
          "output_type": "stream",
          "text": [
            "True\n"
          ],
          "name": "stdout"
        }
      ]
    },
    {
      "cell_type": "markdown",
      "metadata": {
        "id": "sMnuuhaGf6CC"
      },
      "source": [
        "-----------------------------"
      ]
    },
    {
      "cell_type": "markdown",
      "metadata": {
        "id": "ex7X12SfJ7_1"
      },
      "source": [
        "### **12. Membership Operators**\n",
        "\n",
        "- Membership operators are used to test if a sequence is presented in an object\n",
        "\n",
        "|Operator  |Description                                              |Example  |\n",
        "|----------|---------------------------------------------------------|---------|\n",
        "|in        |Returns True if a sequence with the specified value is present in the object  | x in y|\n",
        "|not in    |Returns True if a sequence with the specified value is not present in the object | x not in y |"
      ]
    },
    {
      "cell_type": "code",
      "metadata": {
        "colab": {
          "base_uri": "https://localhost:8080/"
        },
        "id": "73gIatxlOlwk",
        "outputId": "c67e09f6-3b23-4983-9e80-f0ca42c7d32a"
      },
      "source": [
        "l = [10, 20, 30, 40, 50]\n",
        "print(20 in l)\n",
        "print(300 in l)"
      ],
      "execution_count": null,
      "outputs": [
        {
          "output_type": "stream",
          "text": [
            "True\n",
            "False\n"
          ],
          "name": "stdout"
        }
      ]
    },
    {
      "cell_type": "code",
      "metadata": {
        "colab": {
          "base_uri": "https://localhost:8080/"
        },
        "id": "NethLLsxPEmt",
        "outputId": "fc3864c0-6ae0-41f3-f442-3fb9e24fd856"
      },
      "source": [
        "s = \"Python string\"\n",
        "\n",
        "print(\"Python\" in s)\n",
        "print(\"python\" in s)"
      ],
      "execution_count": null,
      "outputs": [
        {
          "output_type": "stream",
          "text": [
            "True\n",
            "False\n"
          ],
          "name": "stdout"
        }
      ]
    },
    {
      "cell_type": "code",
      "metadata": {
        "colab": {
          "base_uri": "https://localhost:8080/"
        },
        "id": "p-0_btqFPjnP",
        "outputId": "ade950dc-91f9-468b-85db-95d122460075"
      },
      "source": [
        "s = \"Python string\"\n",
        "\n",
        "print(\"Python\" not in s)\n",
        "print(\"python\" not in s)"
      ],
      "execution_count": null,
      "outputs": [
        {
          "output_type": "stream",
          "text": [
            "False\n",
            "True\n"
          ],
          "name": "stdout"
        }
      ]
    },
    {
      "cell_type": "code",
      "metadata": {
        "colab": {
          "base_uri": "https://localhost:8080/"
        },
        "id": "yCoMR2tvKxv8",
        "outputId": "ee7eb6c3-b224-485f-a436-1ccde55455b8"
      },
      "source": [
        "x = [\"apple\", \"banana\"]\n",
        "\n",
        "print(\"banana\" in x)\n",
        "\n",
        "# returns True because a sequence with the value \"banana\" is in the list"
      ],
      "execution_count": null,
      "outputs": [
        {
          "output_type": "stream",
          "text": [
            "True\n"
          ],
          "name": "stdout"
        }
      ]
    },
    {
      "cell_type": "code",
      "metadata": {
        "colab": {
          "base_uri": "https://localhost:8080/"
        },
        "id": "n-0XMOFsK4fN",
        "outputId": "71c5434a-3e4b-4992-8929-cb95ef056447"
      },
      "source": [
        "x = [\"apple\", \"banana\"]\n",
        "\n",
        "print(\"pineapple\" not in x)\n",
        "\n",
        "# returns True because a sequence with the value \"pineapple\" is not in the list"
      ],
      "execution_count": null,
      "outputs": [
        {
          "output_type": "stream",
          "text": [
            "True\n"
          ],
          "name": "stdout"
        }
      ]
    },
    {
      "cell_type": "code",
      "metadata": {
        "colab": {
          "base_uri": "https://localhost:8080/"
        },
        "id": "nUQsahCamzBN",
        "outputId": "3ea63dbb-d439-4928-a5ad-f461919b890c"
      },
      "source": [
        "# Membership test in tuple\n",
        "my_tuple = ('a', 'p', 'p', 'l', 'e',)\n",
        "\n",
        "# In operation\n",
        "print('a' in my_tuple)\n",
        "print('b' in my_tuple)\n",
        "\n",
        "# Not in operation\n",
        "print('g' not in my_tuple)"
      ],
      "execution_count": null,
      "outputs": [
        {
          "output_type": "stream",
          "text": [
            "True\n",
            "False\n",
            "True\n"
          ],
          "name": "stdout"
        }
      ]
    }
  ]
}