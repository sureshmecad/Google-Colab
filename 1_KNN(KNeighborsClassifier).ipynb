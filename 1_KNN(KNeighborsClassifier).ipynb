{
  "nbformat": 4,
  "nbformat_minor": 0,
  "metadata": {
    "colab": {
      "name": "1_KNN(KNeighborsClassifier).ipynb",
      "provenance": [],
      "collapsed_sections": [],
      "authorship_tag": "ABX9TyNFY0VRJIsjDnJOjAdW4cmj",
      "include_colab_link": true
    },
    "kernelspec": {
      "name": "python3",
      "display_name": "Python 3"
    },
    "language_info": {
      "name": "python"
    }
  },
  "cells": [
    {
      "cell_type": "markdown",
      "metadata": {
        "id": "view-in-github",
        "colab_type": "text"
      },
      "source": [
        "<a href=\"https://colab.research.google.com/github/sureshmecad/Google-Colab/blob/master/1_KNN(KNeighborsClassifier).ipynb\" target=\"_parent\"><img src=\"https://colab.research.google.com/assets/colab-badge.svg\" alt=\"Open In Colab\"/></a>"
      ]
    },
    {
      "cell_type": "code",
      "metadata": {
        "id": "pgeGRnn3WmQ3"
      },
      "source": [
        "KNN = KNeighborsClassifier()\n",
        "KNN.fit(X_train, y_train)"
      ],
      "execution_count": null,
      "outputs": []
    },
    {
      "cell_type": "code",
      "metadata": {
        "id": "_ZvX9OUpWy3s"
      },
      "source": [
        "y_pred_KNN = KNN.predict(X_test)\n",
        "KNN_acc = accuracy_score(y_test, y_pred_KNN)"
      ],
      "execution_count": null,
      "outputs": []
    },
    {
      "cell_type": "code",
      "metadata": {
        "id": "QTje3gPQWzRc"
      },
      "source": [
        "print(\"KNeighborsClassifier : Train Score {:.2f} & Test Score {:.2f}\".format(KNN.score(X_train, y_train), KNN.score(X_test, y_test)))\n",
        "print('-'*70)\n",
        "print(\"\\n\\nConfusion matrix \\n\\n\",confusion_matrix(y_test, y_pred_KNN))\n",
        "print('-'*70)\n",
        "print(\"\\n\\nClassification Report\\n\\n\",classification_report(y_test, y_pred_KNN))"
      ],
      "execution_count": null,
      "outputs": []
    },
    {
      "cell_type": "markdown",
      "metadata": {
        "id": "8tFwmqXDW5ry"
      },
      "source": [
        "----------------"
      ]
    },
    {
      "cell_type": "code",
      "metadata": {
        "id": "UvkKmwsGWyy8"
      },
      "source": [
        "for i in range(3,15,3):\n",
        "    \n",
        "    KNN = KNeighborsClassifier(n_neighbors=i)\n",
        "    KNN.fit(X_train, y_train)\n",
        "    y_pred_KNN = KNN.predict(X_test)\n",
        "\n",
        "    # accuracy\n",
        "    KNN_acc = accuracy_score(y_test, y_pred_KNN)\n",
        "\n",
        "    print(\"kneighbors {}\".format(i))\n",
        "    print(\"\\nKNeighborsClassifier : Train Score {:.2f} & Test Score {:.2f}\".format(KNN.score(X_train, y_train), KNN.score(X_test, y_test)))\n",
        "    print('-'*70)\n",
        "    print(\"\\n\\nConfusion matrix: \\n\\n\",confusion_matrix(y_test, y_pred_KNN))\n",
        "    print('-'*70)\n",
        "    print(\"\\n\\nClassification Report: \\n\\n\", classification_report(y_pred_KNN, y_test, labels=None))\n",
        "    print('-'*70)\n",
        "    print(\"\\n\\ncohen kappa score: \\n\\n\", cohen_kappa_score(y_test, y_pred_KNN))\n",
        "    print('*'*70)\n",
        "    print(\"\\n\\n\")"
      ],
      "execution_count": null,
      "outputs": []
    },
    {
      "cell_type": "markdown",
      "metadata": {
        "id": "49lE-n-pa4AM"
      },
      "source": [
        "---------------"
      ]
    }
  ]
}