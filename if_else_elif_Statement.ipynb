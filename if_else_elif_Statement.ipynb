{
  "nbformat": 4,
  "nbformat_minor": 0,
  "metadata": {
    "colab": {
      "name": "if else elif Statement.ipynb",
      "provenance": [],
      "collapsed_sections": [],
      "authorship_tag": "ABX9TyN1IrrVWZ03wCoXtQMR2oFp",
      "include_colab_link": true
    },
    "kernelspec": {
      "name": "python3",
      "display_name": "Python 3"
    }
  },
  "cells": [
    {
      "cell_type": "markdown",
      "metadata": {
        "id": "view-in-github",
        "colab_type": "text"
      },
      "source": [
        "<a href=\"https://colab.research.google.com/github/sureshmecad/Google-Colab/blob/master/if_else_elif_Statement.ipynb\" target=\"_parent\"><img src=\"https://colab.research.google.com/assets/colab-badge.svg\" alt=\"Open In Colab\"/></a>"
      ]
    },
    {
      "cell_type": "markdown",
      "metadata": {
        "id": "4OmSqsc3yC9I"
      },
      "source": [
        "https://www.learnbyexample.org/python-if-else-elif-statement/"
      ]
    },
    {
      "cell_type": "markdown",
      "metadata": {
        "id": "ZtDZbGUXxIOy"
      },
      "source": [
        "- Often you need to execute some statements, only when certain condition holds. You can use following conditional statements in your code to do this.\n",
        "\n",
        "    - **if Statement:** use it to execute a block of code, if a specified condition is true\n",
        "\n",
        "    - **else Statement:** use it to execute a block of code, if the same condition is false\n",
        "\n",
        "    - **elif (else if) Statement:** use it to specify a new condition to test, if the first condition is false"
      ]
    },
    {
      "cell_type": "markdown",
      "metadata": {
        "id": "njbUjD_eGwdl"
      },
      "source": [
        "------------------------------"
      ]
    },
    {
      "cell_type": "code",
      "metadata": {
        "colab": {
          "base_uri": "https://localhost:8080/"
        },
        "id": "1LqjrSY-GyNl",
        "outputId": "952a84d4-b8b7-4adc-9251-5bdee2be709c"
      },
      "source": [
        "country = input(\"Please enter your contry: \")\n",
        "\n",
        "if country == \"USA\":\n",
        "  print(\"Happy Independance Day\")\n",
        "elif country == \"England\":\n",
        "  print(\"You lost it.\")\n",
        "else:\n",
        "  print(\"Nothing for you. Please login and work.\")"
      ],
      "execution_count": 1,
      "outputs": [
        {
          "output_type": "stream",
          "text": [
            "Please enter your contry: India\n",
            "Nothing for you. Please login and work.\n"
          ],
          "name": "stdout"
        }
      ]
    },
    {
      "cell_type": "markdown",
      "metadata": {
        "id": "WDSxOIvuGz8G"
      },
      "source": [
        "--------------------------------"
      ]
    },
    {
      "cell_type": "markdown",
      "metadata": {
        "id": "dGChG9Bfxbku"
      },
      "source": [
        "### 1. The if Statement\n",
        "- Use if statement to execute a block of Python code, if the condition is true"
      ]
    },
    {
      "cell_type": "code",
      "metadata": {
        "id": "VEnwAvxNw2Gw",
        "colab": {
          "base_uri": "https://localhost:8080/",
          "height": 34
        },
        "outputId": "8bbc18e1-f272-4b63-b67a-2f5348528582"
      },
      "source": [
        "x, y = 7, 5\n",
        "if x > y:\n",
        "\tprint('x is greater')"
      ],
      "execution_count": null,
      "outputs": [
        {
          "output_type": "stream",
          "text": [
            "x is greater\n"
          ],
          "name": "stdout"
        }
      ]
    },
    {
      "cell_type": "markdown",
      "metadata": {
        "id": "BzsI1tGczCWY"
      },
      "source": [
        "### 2. Significance of Indentation\n",
        "- Indentation has a special significance in Python. It is used to define a block of code (often referred to as, a suite). Contiguous statements that are indented to the same level are considered as part of the same block.\n",
        "\n",
        "- if statement without indentation raises syntax error."
      ]
    },
    {
      "cell_type": "code",
      "metadata": {
        "id": "FgirVXM8zBtB",
        "colab": {
          "base_uri": "https://localhost:8080/",
          "height": 129
        },
        "outputId": "a8ac02c0-79ed-485a-a6ba-7497d33cbffa"
      },
      "source": [
        "x, y = 7, 5\n",
        "if x > y:\n",
        "print('x is greater')"
      ],
      "execution_count": null,
      "outputs": [
        {
          "output_type": "error",
          "ename": "IndentationError",
          "evalue": "ignored",
          "traceback": [
            "\u001b[0;36m  File \u001b[0;32m\"<ipython-input-2-cd471e0bb54f>\"\u001b[0;36m, line \u001b[0;32m3\u001b[0m\n\u001b[0;31m    print('x is greater')\u001b[0m\n\u001b[0m        ^\u001b[0m\n\u001b[0;31mIndentationError\u001b[0m\u001b[0;31m:\u001b[0m expected an indented block\n"
          ]
        }
      ]
    },
    {
      "cell_type": "markdown",
      "metadata": {
        "id": "dX7wMn6KzUvA"
      },
      "source": [
        "### 3. Nested if Statement\n",
        "- You can nest statements within a code block to begin a new code block, as long as they follow their respective indentations."
      ]
    },
    {
      "cell_type": "code",
      "metadata": {
        "id": "DwnQwfvbzTzo",
        "colab": {
          "base_uri": "https://localhost:8080/",
          "height": 51
        },
        "outputId": "3afd75bc-940c-4356-e2fc-b4dda7411fb6"
      },
      "source": [
        "x, y, z = 7, 4, 2\n",
        "if x > y:\n",
        "    print(\"x is greater than y\")\n",
        "    if x > z:\n",
        "        print(\"x is greater than y and z\")"
      ],
      "execution_count": null,
      "outputs": [
        {
          "output_type": "stream",
          "text": [
            "x is greater than y\n",
            "x is greater than y and z\n"
          ],
          "name": "stdout"
        }
      ]
    },
    {
      "cell_type": "markdown",
      "metadata": {
        "id": "PfJP7WGkz2jp"
      },
      "source": [
        "### 4. The else Statement\n",
        "- Use else statement to execute a block of Python code, if the condition is false."
      ]
    },
    {
      "cell_type": "code",
      "metadata": {
        "id": "TT81SjZqzT3g",
        "colab": {
          "base_uri": "https://localhost:8080/",
          "height": 34
        },
        "outputId": "913852ac-2748-4d12-9c2a-f36af4572339"
      },
      "source": [
        "x, y = 7, 5\n",
        "if x < y:\n",
        "    print('y is greater')\n",
        "else:\n",
        "    print('x is greater')"
      ],
      "execution_count": null,
      "outputs": [
        {
          "output_type": "stream",
          "text": [
            "x is greater\n"
          ],
          "name": "stdout"
        }
      ]
    },
    {
      "cell_type": "markdown",
      "metadata": {
        "id": "OQyeGC_a0WTT"
      },
      "source": [
        "### 5. The elif (else if) Statement\n",
        "- Use elif statement to specify a new condition to test, if the first condition is false."
      ]
    },
    {
      "cell_type": "code",
      "metadata": {
        "id": "0IAZBqzp0Vvi",
        "colab": {
          "base_uri": "https://localhost:8080/",
          "height": 34
        },
        "outputId": "d3eae464-f65b-4619-ad2b-a611f729dfcb"
      },
      "source": [
        "x, y = 5, 5\n",
        "if x > y:\n",
        "    print('x is greater')\n",
        "elif x < y:\n",
        "    print('y is greater')\n",
        "else:\n",
        "    print('x and y are equal')"
      ],
      "execution_count": null,
      "outputs": [
        {
          "output_type": "stream",
          "text": [
            "x and y are equal\n"
          ],
          "name": "stdout"
        }
      ]
    },
    {
      "cell_type": "markdown",
      "metadata": {
        "id": "Hh7JvXA-0vEG"
      },
      "source": [
        "### 6. Substitute for Switch Case\n",
        "- Unlike other programming languages, Python does not have a ‘switch‘ statement. You can use if…elif…elif sequence as a substitute."
      ]
    },
    {
      "cell_type": "code",
      "metadata": {
        "id": "5pfZ9Qfw0Vzc",
        "colab": {
          "base_uri": "https://localhost:8080/",
          "height": 231
        },
        "outputId": "4cee80e4-a160-4fcc-fcc6-3e4e0ef4577f"
      },
      "source": [
        "if choice == 1:\n",
        "\tprint('case 1')\n",
        "elif choice == 2:\n",
        "\tprint('case 2')\n",
        "elif choice == 3:\n",
        "\tprint('case 3')\n",
        "elif choice == 4:\n",
        "\tprint('case 4')\n",
        "else:\n",
        "\tprint('default case')"
      ],
      "execution_count": null,
      "outputs": [
        {
          "output_type": "error",
          "ename": "NameError",
          "evalue": "ignored",
          "traceback": [
            "\u001b[0;31m---------------------------------------------------------------------------\u001b[0m",
            "\u001b[0;31mNameError\u001b[0m                                 Traceback (most recent call last)",
            "\u001b[0;32m<ipython-input-6-c623f5430d5a>\u001b[0m in \u001b[0;36m<module>\u001b[0;34m()\u001b[0m\n\u001b[0;32m----> 1\u001b[0;31m \u001b[0;32mif\u001b[0m \u001b[0mchoice\u001b[0m \u001b[0;34m==\u001b[0m \u001b[0;36m1\u001b[0m\u001b[0;34m:\u001b[0m\u001b[0;34m\u001b[0m\u001b[0;34m\u001b[0m\u001b[0m\n\u001b[0m\u001b[1;32m      2\u001b[0m         \u001b[0mprint\u001b[0m\u001b[0;34m(\u001b[0m\u001b[0;34m'case 1'\u001b[0m\u001b[0;34m)\u001b[0m\u001b[0;34m\u001b[0m\u001b[0;34m\u001b[0m\u001b[0m\n\u001b[1;32m      3\u001b[0m \u001b[0;32melif\u001b[0m \u001b[0mchoice\u001b[0m \u001b[0;34m==\u001b[0m \u001b[0;36m2\u001b[0m\u001b[0;34m:\u001b[0m\u001b[0;34m\u001b[0m\u001b[0;34m\u001b[0m\u001b[0m\n\u001b[1;32m      4\u001b[0m         \u001b[0mprint\u001b[0m\u001b[0;34m(\u001b[0m\u001b[0;34m'case 2'\u001b[0m\u001b[0;34m)\u001b[0m\u001b[0;34m\u001b[0m\u001b[0;34m\u001b[0m\u001b[0m\n\u001b[1;32m      5\u001b[0m \u001b[0;32melif\u001b[0m \u001b[0mchoice\u001b[0m \u001b[0;34m==\u001b[0m \u001b[0;36m3\u001b[0m\u001b[0;34m:\u001b[0m\u001b[0;34m\u001b[0m\u001b[0;34m\u001b[0m\u001b[0m\n",
            "\u001b[0;31mNameError\u001b[0m: name 'choice' is not defined"
          ]
        }
      ]
    },
    {
      "cell_type": "markdown",
      "metadata": {
        "id": "UQKBrqDG1EFI"
      },
      "source": [
        "### 7. Multiple Conditions\n",
        "- To join two or more conditions into a single if statement, use logical operators viz. and, or and not and expression is True, if all the conditions are true."
      ]
    },
    {
      "cell_type": "code",
      "metadata": {
        "id": "LCrdd8Zu1DV5",
        "colab": {
          "base_uri": "https://localhost:8080/",
          "height": 34
        },
        "outputId": "2a331a8a-b44d-4bac-fad7-32f9d7f60f8b"
      },
      "source": [
        "x, y, z = 7, 4, 2\n",
        "if x > y and x > z:\n",
        "    print('x is greater')"
      ],
      "execution_count": null,
      "outputs": [
        {
          "output_type": "stream",
          "text": [
            "x is greater\n"
          ],
          "name": "stdout"
        }
      ]
    },
    {
      "cell_type": "code",
      "metadata": {
        "id": "2eGzRwhB1DZh",
        "colab": {
          "base_uri": "https://localhost:8080/",
          "height": 34
        },
        "outputId": "aeb81e1b-c1dd-46d8-9413-827c8747f606"
      },
      "source": [
        "# or expression is True, if at least one of the conditions is True.\n",
        "\n",
        "x, y, z = 7, 4, 9\n",
        "if x > y or x > z:\n",
        "    print('x is greater than y or z')"
      ],
      "execution_count": null,
      "outputs": [
        {
          "output_type": "stream",
          "text": [
            "x is greater than y or z\n"
          ],
          "name": "stdout"
        }
      ]
    },
    {
      "cell_type": "code",
      "metadata": {
        "id": "1494JWJI1Ddj",
        "colab": {
          "base_uri": "https://localhost:8080/",
          "height": 34
        },
        "outputId": "0715392e-7dc4-41e6-b561-bdc715a6dd96"
      },
      "source": [
        "# not expression is True, if the condition is false\n",
        "\n",
        "x, y = 7, 5\n",
        "if not x < y:\n",
        "    print('x is greater')"
      ],
      "execution_count": null,
      "outputs": [
        {
          "output_type": "stream",
          "text": [
            "x is greater\n"
          ],
          "name": "stdout"
        }
      ]
    },
    {
      "cell_type": "markdown",
      "metadata": {
        "id": "gy61BxFMA3fM"
      },
      "source": [
        "### 8. One Line if Statement\n",
        "- Python allows us to write an entire if statement on one line"
      ]
    },
    {
      "cell_type": "code",
      "metadata": {
        "id": "LZiT1wDaA2uW",
        "colab": {
          "base_uri": "https://localhost:8080/",
          "height": 34
        },
        "outputId": "b5fe371a-0946-44ef-e1a7-d253f9a54762"
      },
      "source": [
        "# Short Hand If - single statement\n",
        "x, y = 7, 5\n",
        "if x > y: print('x is greater')"
      ],
      "execution_count": null,
      "outputs": [
        {
          "output_type": "stream",
          "text": [
            "x is greater\n"
          ],
          "name": "stdout"
        }
      ]
    },
    {
      "cell_type": "code",
      "metadata": {
        "id": "ONKoIFs4A2x8",
        "colab": {
          "base_uri": "https://localhost:8080/",
          "height": 68
        },
        "outputId": "75539bf4-1cec-4626-9178-d7cb78d1af3e"
      },
      "source": [
        "# You can even keep several lines of code on just one line, simply by separating them with a semicolon ;\n",
        "\n",
        "# Short Hand If - multiple statements\n",
        "x, y = 7, 5\n",
        "if x > y: print('x is greater'); print('y is smaller'); print('x and y are not equal')"
      ],
      "execution_count": null,
      "outputs": [
        {
          "output_type": "stream",
          "text": [
            "x is greater\n",
            "y is smaller\n",
            "x and y are not equal\n"
          ],
          "name": "stdout"
        }
      ]
    },
    {
      "cell_type": "markdown",
      "metadata": {
        "id": "rB-IGieGBJCU"
      },
      "source": [
        "### 9. Conditional Expressions (ternary operator)\n",
        "- Conditional expression (sometimes referred to as ‘ternary operator’) allows us to select one of two statements depending on the specified condition."
      ]
    },
    {
      "cell_type": "code",
      "metadata": {
        "id": "5fzCdduGA22E",
        "colab": {
          "base_uri": "https://localhost:8080/",
          "height": 34
        },
        "outputId": "06512e9d-54a7-48b1-b964-5ca00e2fca2e"
      },
      "source": [
        "x, y = 7, 5\n",
        "print('x is greater') if x > y else print('y is greater')"
      ],
      "execution_count": null,
      "outputs": [
        {
          "output_type": "stream",
          "text": [
            "x is greater\n"
          ],
          "name": "stdout"
        }
      ]
    },
    {
      "cell_type": "code",
      "metadata": {
        "id": "XnDfInx6BY3g",
        "colab": {
          "base_uri": "https://localhost:8080/",
          "height": 34
        },
        "outputId": "d0b6a241-aa4c-493e-8207-7afac039cb2e"
      },
      "source": [
        "# You can also use it to select variable assignment\n",
        "\n",
        "x, y = 7, 5\n",
        "max = x if x > y else y\n",
        "print(max)"
      ],
      "execution_count": null,
      "outputs": [
        {
          "output_type": "stream",
          "text": [
            "7\n"
          ],
          "name": "stdout"
        }
      ]
    },
    {
      "cell_type": "markdown",
      "metadata": {
        "id": "3t8bS4DNBftu"
      },
      "source": [
        "### 10. Check If Item Present in a Sequence\n",
        "- The in operator is used to check if a value is present in a sequence (list, tuple, string etc.)"
      ]
    },
    {
      "cell_type": "code",
      "metadata": {
        "id": "dkdjuuSyBY7X",
        "colab": {
          "base_uri": "https://localhost:8080/",
          "height": 34
        },
        "outputId": "357eb2d9-0704-466d-82ae-8888ec883844"
      },
      "source": [
        "# list\n",
        "L = ['red', 'green', 'blue']\n",
        "if 'red' in L:\n",
        "    print('yes')"
      ],
      "execution_count": null,
      "outputs": [
        {
          "output_type": "stream",
          "text": [
            "yes\n"
          ],
          "name": "stdout"
        }
      ]
    },
    {
      "cell_type": "code",
      "metadata": {
        "id": "OO4jZXNFBn3o",
        "colab": {
          "base_uri": "https://localhost:8080/",
          "height": 34
        },
        "outputId": "fadb6c45-dd0b-4241-e527-317094e3e832"
      },
      "source": [
        "# tuple\n",
        "T = ('red', 'green', 'blue')\n",
        "if 'red' in T:\n",
        "    print('yes')"
      ],
      "execution_count": null,
      "outputs": [
        {
          "output_type": "stream",
          "text": [
            "yes\n"
          ],
          "name": "stdout"
        }
      ]
    },
    {
      "cell_type": "code",
      "metadata": {
        "id": "HhHaW-0jBn9C",
        "colab": {
          "base_uri": "https://localhost:8080/",
          "height": 34
        },
        "outputId": "053da36f-9f10-42ed-aa1d-7f1c414df51f"
      },
      "source": [
        "# string\n",
        "S = 'Hello, World!'\n",
        "if 'Hello' in S:\n",
        "    print('Yes')"
      ],
      "execution_count": null,
      "outputs": [
        {
          "output_type": "stream",
          "text": [
            "Yes\n"
          ],
          "name": "stdout"
        }
      ]
    }
  ]
}