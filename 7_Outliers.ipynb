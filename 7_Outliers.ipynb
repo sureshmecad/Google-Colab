{
  "nbformat": 4,
  "nbformat_minor": 0,
  "metadata": {
    "colab": {
      "name": "7. Outliers",
      "provenance": [],
      "authorship_tag": "ABX9TyPVEaYtXk8fmnLCAY3zraTW",
      "include_colab_link": true
    },
    "kernelspec": {
      "name": "python3",
      "display_name": "Python 3"
    }
  },
  "cells": [
    {
      "cell_type": "markdown",
      "metadata": {
        "id": "view-in-github",
        "colab_type": "text"
      },
      "source": [
        "<a href=\"https://colab.research.google.com/github/sureshmecad/Google-Colab/blob/master/7_Outliers.ipynb\" target=\"_parent\"><img src=\"https://colab.research.google.com/assets/colab-badge.svg\" alt=\"Open In Colab\"/></a>"
      ]
    },
    {
      "cell_type": "code",
      "metadata": {
        "id": "4O0IoDAO9-WL"
      },
      "source": [
        "import pandas as pd\n",
        "import numpy as np\n",
        "import seaborn as sns\n",
        "from matplotlib import pyplot as plt\n",
        "\n",
        "train = pd.read_csv('../input/cost-of-living/cost-of-living-2018.csv')\n",
        "sns.boxplot(train['Cost of Living Index'])\n",
        "plt.title(\"Box Plot before outlier removing\")\n",
        "plt.show()\n",
        "\n",
        "def drop_outliers(df, field_name):\n",
        "    iqr = 1.5 * (np.percentile(df[field_name], 75) - np.percentile(df[field_name], 25))\n",
        "    df.drop(df[df[field_name] > (iqr + np.percentile(df[field_name], 75))].index, inplace=True)\n",
        "    df.drop(df[df[field_name] < (np.percentile(df[field_name], 25) - iqr)].index, inplace=True)\n",
        "    \n",
        "drop_outliers(train, 'Cost of Living Index')\n",
        "sns.boxplot(train['Cost of Living Index'])\n",
        "plt.title(\"Box Plot after outlier removing\")\n",
        "plt.show()"
      ],
      "execution_count": null,
      "outputs": []
    },
    {
      "cell_type": "markdown",
      "metadata": {
        "id": "K2G-wIgKJRLw"
      },
      "source": [
        "https://medium.com/analytics-vidhya/outlier-detection-in-machine-learning-26e0bc7105cd"
      ]
    },
    {
      "cell_type": "markdown",
      "metadata": {
        "id": "1eHWZq81BPCZ"
      },
      "source": [
        "### What are outliers ?"
      ]
    },
    {
      "cell_type": "markdown",
      "metadata": {
        "id": "I5EXVaI6p3ND"
      },
      "source": [
        "- suppose we have a dataset consisting the distance between school and home of the students in km which is given as **5,6,7,8,9,10,6,7,100** here in this dataset **100** will behave like an outlier."
      ]
    },
    {
      "cell_type": "markdown",
      "metadata": {
        "id": "osBib_EABTlp"
      },
      "source": [
        "### Should we remove outliers or not ?"
      ]
    },
    {
      "cell_type": "markdown",
      "metadata": {
        "id": "FGiQKx2SBYVI"
      },
      "source": [
        "- Suppose atleast 30%( or a large amount) of datapoints are outliers means there is some interesting and meaningful insight in outliers and you should not remove it."
      ]
    },
    {
      "cell_type": "markdown",
      "metadata": {
        "id": "SxU8YvqgFW7j"
      },
      "source": [
        "### Detection of outliers based on Distributions"
      ]
    },
    {
      "cell_type": "markdown",
      "metadata": {
        "id": "dGEzUBXGFTB9"
      },
      "source": [
        "i. Normally Distributed data :\n",
        "- In case of normal distribution if datapoints lie away from the range (μ + 3σ) and (μ — 3 σ) is considered as outliers."
      ]
    },
    {
      "cell_type": "code",
      "metadata": {
        "id": "dq0J_iaT-LC3"
      },
      "source": [
        "# Plotting and observing whether dataset has outliers or not\n",
        "plt.figure(figsize=(16, 4)) # figure size\n",
        "plt.subplot(1, 3, 1) #multiple plot plottig and 1st position of fig\n",
        "sns.distplot(df[\"RM\"], bins=30) #checking is data normally dist ?\n",
        "plt.title('Histogram') \n",
        "plt.subplot(1, 3, 2)  #plotting second position of figure\n",
        "sns.boxplot(y=df[\"RM\"]) #boxplot\n",
        "plt.title('Boxplot')\n",
        "plt.subplot(1, 3, 3) #plotting third position of figure\n",
        "stats.probplot(df[\"RM\"], dist=\"norm\", plot=plt) #q-q plot to check #how our data is distributed in reference with normal distribution\n",
        "plt.ylabel('RM quantiles')\n",
        "plt.show()"
      ],
      "execution_count": null,
      "outputs": []
    },
    {
      "cell_type": "markdown",
      "metadata": {
        "id": "cj-O706dKN8J"
      },
      "source": [
        "### To find minimum and maximum boundary value"
      ]
    },
    {
      "cell_type": "code",
      "metadata": {
        "id": "hewP7IlhJZtK"
      },
      "source": [
        "# outlier boundary value for normally distributed dataset\n",
        "def min_max_boundary(data,col):\n",
        "    min_value=df[col].mean()-3*df[col].std()\n",
        "    max_value=df[col].mean()+3*df[col].std()\n",
        "    return min_value,max_value\n",
        "min_max_boundary(df,\"RM\")"
      ],
      "execution_count": null,
      "outputs": []
    },
    {
      "cell_type": "markdown",
      "metadata": {
        "id": "mSYGIIJzKXfY"
      },
      "source": [
        "#### Any value more than 8.39 and less than 4.17 would be considered as outliers."
      ]
    },
    {
      "cell_type": "markdown",
      "metadata": {
        "id": "fIGIfn56KaBg"
      },
      "source": [
        "### Removing outliers :"
      ]
    },
    {
      "cell_type": "code",
      "metadata": {
        "id": "qMeTWyAVJZwo"
      },
      "source": [
        "#filtering all the value mabove maximum boundary value and below #minimum  boundary value \n",
        "df=df[(df[\"RM\"] >4.683568137432223) & (df[\"RM\"] < 7.7636498112857)]\n",
        "\n",
        "#plotting the df[\"RM\"] after removing outliers\n",
        "plt.figure(figsize=(16, 4)) \n",
        "plt.subplot(1, 3, 1)  \n",
        "sns.distplot(df[\"RM\"], bins=30)  \n",
        "plt.title('Histogram') \n",
        "plt.subplot(1, 3, 2)   \n",
        "sns.boxplot(y=df[\"RM\"]) \n",
        "plt.title('Boxplot')\n",
        "plt.subplot(1, 3, 3) \n",
        "stats.probplot(df[\"RM\"], dist=\"norm\", plot=plt)\n",
        "plt.ylabel('RM quantiles')\n",
        "plt.show()"
      ],
      "execution_count": null,
      "outputs": []
    },
    {
      "cell_type": "markdown",
      "metadata": {
        "id": "B9avA10KKmq4"
      },
      "source": [
        "### ii. Skewed Distributed data :\n",
        "- If value doesnot lie in between the range :- 25percentile- (1.5*IQR) & 75percentile+(1.5*IQR) then datpoint is considered as outliers.\n",
        "- Here IQR= Q3-Q1"
      ]
    },
    {
      "cell_type": "code",
      "metadata": {
        "id": "qxuFiyloJZ0Y"
      },
      "source": [
        "#plotting different plot to analyse presence of outliers\n",
        "plt.figure(figsize=(16, 4)) # figure size\n",
        "plt.subplot(1, 3, 1) #multiple plot plottig and 1st position of figure\n",
        "sns.distplot(df[\"LSTAT\"], bins=30) #checking data is normally distributed or not\n",
        "plt.title('Histogram',fontsize=20) \n",
        "plt.subplot(1, 3, 2)  #plotting second position of figure\n",
        "sns.boxplot(y=df[\"LSTAT\"]) #boxplot\n",
        "plt.title('Boxplot',fontsize=20)\n",
        "plt.subplot(1, 3, 3) #plotting third position of figure\n",
        "stats.probplot(df[\"LSTAT\"], dist=\"norm\", plot=plt)#q-q plot to check how our data is distributed in reference with normal distribution\n",
        "plt.title(\"Q-Q plot\",fontsize=20)\n",
        "plt.show()"
      ],
      "execution_count": null,
      "outputs": []
    },
    {
      "cell_type": "markdown",
      "metadata": {
        "id": "t95Ow2imLFnK"
      },
      "source": [
        "### To find minimum and maximum boundary value"
      ]
    },
    {
      "cell_type": "code",
      "metadata": {
        "id": "rAk7r3ihKvPy"
      },
      "source": [
        "# finding upper and lower boundary limit\n",
        "def non_normal_outliers(data,col):\n",
        "    IQR=df[col].quantile(0.75)-df[col].quantile(0.25)\n",
        "    lower_limit=data[col].quantile(0.75) + (1.5*IQR)\n",
        "    upper_limit=data[col].quantile(0.25) - (1.5*IQR)\n",
        "    return \"lower limit of dataset : {0},  upper limit of dataset \n",
        "            {1}\".format(lower_limit,upper_limit)\n",
        "  non_normal_outliers(df,\"LSTAT\")\n",
        "\n",
        "\n",
        "# we can write same code in another way to print minimum and maximum value in the form of list.\n",
        "list1=[]\n",
        "def outer_function(data,col):\n",
        "    # Hidden from the outer code\n",
        "    IQR=df[col].quantile(0.75)-df[col].quantile(0.25)\n",
        "    def max_value(data,col):\n",
        "        max_=df[col].quantile(0.75) + (1.5*IQR)\n",
        "        return max_\n",
        "    list1.append(max_value(data,col))\n",
        "    def min_value (data,col):\n",
        "        min_=df[col].quantile(0.25) - (1.5*IQR)\n",
        "        return min_ \n",
        "    list1.append(min_value(data,col))\n",
        "#inner_increment(5)\n",
        "outer_function(df,\"LSTAT\")\n",
        "list1"
      ],
      "execution_count": null,
      "outputs": []
    },
    {
      "cell_type": "markdown",
      "metadata": {
        "id": "ctHig21_LH8a"
      },
      "source": [
        "### Removing outliers :"
      ]
    },
    {
      "cell_type": "code",
      "metadata": {
        "id": "XuPa5ExhKvXg"
      },
      "source": [
        "# filtering values lie above and below min and max value\n",
        "df=df.loc[(df[\"LSTAT\"]<list1[0]) & (df[\"LSTAT\"]>list1[1])]\n",
        "--------------------------------------------------------------------\n",
        "# plotting the dataset after eliminating outliers\n",
        "plt.figure(figsize=(16, 4)) \n",
        "plt.subplot(1, 3, 1)  \n",
        "sns.distplot(df[\"LSTAT\"], bins=30)  \n",
        "plt.title('Histogram') \n",
        "plt.subplot(1, 3, 2)   \n",
        "sns.boxplot(y=df[\"LSTAT\"]) \n",
        "plt.title('Boxplot')\n",
        "plt.subplot(1, 3, 3) \n",
        "stats.probplot(df[\"LSTAT\"], dist=\"norm\", plot=plt)\n",
        "plt.ylabel('RM quantiles')\n",
        "plt.show()"
      ],
      "execution_count": null,
      "outputs": []
    }
  ]
}