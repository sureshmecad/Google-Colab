{
  "nbformat": 4,
  "nbformat_minor": 0,
  "metadata": {
    "colab": {
      "name": "1_Def.ipynb",
      "provenance": [],
      "collapsed_sections": [],
      "include_colab_link": true
    },
    "kernelspec": {
      "name": "python3",
      "display_name": "Python 3"
    }
  },
  "cells": [
    {
      "cell_type": "markdown",
      "metadata": {
        "id": "view-in-github",
        "colab_type": "text"
      },
      "source": [
        "<a href=\"https://colab.research.google.com/github/sureshmecad/Google-Colab/blob/master/1_Def.ipynb\" target=\"_parent\"><img src=\"https://colab.research.google.com/assets/colab-badge.svg\" alt=\"Open In Colab\"/></a>"
      ]
    },
    {
      "cell_type": "code",
      "metadata": {
        "id": "Ubmvc6KyKvHU",
        "colab": {
          "base_uri": "https://localhost:8080/"
        },
        "outputId": "dbc4401b-5707-479d-902f-5cde201911ff"
      },
      "source": [
        "x = 5\n",
        "def add():\n",
        "  x = 3\n",
        "  x = x + 5\n",
        "  print(x)\n",
        "\n",
        "add()\n",
        "print(x)"
      ],
      "execution_count": null,
      "outputs": [
        {
          "output_type": "stream",
          "text": [
            "8\n",
            "5\n"
          ],
          "name": "stdout"
        }
      ]
    },
    {
      "cell_type": "code",
      "metadata": {
        "id": "8GN-sn5NLYJk",
        "colab": {
          "base_uri": "https://localhost:8080/"
        },
        "outputId": "16ad7813-ccbe-4d4a-951a-d0b7e8f97dac"
      },
      "source": [
        "def add():\n",
        "  x = 3\n",
        "  x = x + 5\n",
        "  print(x)\n",
        "\n",
        "add()"
      ],
      "execution_count": null,
      "outputs": [
        {
          "output_type": "stream",
          "text": [
            "8\n"
          ],
          "name": "stdout"
        }
      ]
    },
    {
      "cell_type": "code",
      "metadata": {
        "colab": {
          "base_uri": "https://localhost:8080/"
        },
        "id": "e4oy8yAdbEKV",
        "outputId": "cb380090-31fc-4ce2-ed95-de0727539e8f"
      },
      "source": [
        "def f1():\n",
        "  x = 100\n",
        "  print(x)\n",
        "\n",
        "x=+1\n",
        "f1()"
      ],
      "execution_count": null,
      "outputs": [
        {
          "output_type": "stream",
          "text": [
            "100\n"
          ],
          "name": "stdout"
        }
      ]
    },
    {
      "cell_type": "markdown",
      "metadata": {
        "id": "FX5OJtH2C98h"
      },
      "source": [
        "-----------------------------"
      ]
    }
  ]
}