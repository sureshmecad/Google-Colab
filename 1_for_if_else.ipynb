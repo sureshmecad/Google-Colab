{
  "nbformat": 4,
  "nbformat_minor": 0,
  "metadata": {
    "colab": {
      "name": "1_for_if-else.ipynb",
      "provenance": [],
      "collapsed_sections": [],
      "authorship_tag": "ABX9TyOLZbnN4OIm0UuZhaFNeMq5",
      "include_colab_link": true
    },
    "kernelspec": {
      "name": "python3",
      "display_name": "Python 3"
    },
    "language_info": {
      "name": "python"
    }
  },
  "cells": [
    {
      "cell_type": "markdown",
      "metadata": {
        "id": "view-in-github",
        "colab_type": "text"
      },
      "source": [
        "<a href=\"https://colab.research.google.com/github/sureshmecad/Google-Colab/blob/master/1_for_if_else.ipynb\" target=\"_parent\"><img src=\"https://colab.research.google.com/assets/colab-badge.svg\" alt=\"Open In Colab\"/></a>"
      ]
    },
    {
      "cell_type": "markdown",
      "metadata": {
        "id": "2xxcB8YQ9BM5"
      },
      "source": [
        "- A **for** loop can have an optional **else** block as well.\n",
        "\n",
        "- The **else** part is executed if the items in the sequence used in for loop **exhausts**."
      ]
    },
    {
      "cell_type": "code",
      "metadata": {
        "colab": {
          "base_uri": "https://localhost:8080/"
        },
        "id": "F_FgwDwC8m69",
        "outputId": "d87cc755-b44e-4872-9494-00e8566e6ab1"
      },
      "source": [
        "digits = [0, 1, 5]\n",
        "\n",
        "for i in digits:\n",
        "    print(i)\n",
        "else:\n",
        "    print(\"No items left.\")"
      ],
      "execution_count": null,
      "outputs": [
        {
          "output_type": "stream",
          "name": "stdout",
          "text": [
            "0\n",
            "1\n",
            "5\n",
            "No items left.\n"
          ]
        }
      ]
    },
    {
      "cell_type": "markdown",
      "metadata": {
        "id": "XEMvlpaf9bNn"
      },
      "source": [
        "- Here, the **for** loop prints items of the **list until the loop exhausts.** When the for **loop exhausts**, it executes the block of code in the **else** and prints **No items left.**"
      ]
    },
    {
      "cell_type": "markdown",
      "metadata": {
        "id": "Byc2q9sWGcdc"
      },
      "source": [
        "-------------------------"
      ]
    },
    {
      "cell_type": "code",
      "metadata": {
        "colab": {
          "base_uri": "https://localhost:8080/"
        },
        "id": "xj1jhgx-BfY9",
        "outputId": "70d4bec7-5d7f-4d60-90ed-16ab80ec932a"
      },
      "source": [
        "CityList = ['Hyderabad', 'Vizag', 'Bangalore', 'Chennai']\n",
        "\n",
        "for city in CityList:\n",
        "  print(city)\n",
        "else:\n",
        "  print(\"City list completed\")"
      ],
      "execution_count": null,
      "outputs": [
        {
          "output_type": "stream",
          "name": "stdout",
          "text": [
            "Hyderabad\n",
            "Vizag\n",
            "Bangalore\n",
            "Chennai\n",
            "City list completed\n"
          ]
        }
      ]
    },
    {
      "cell_type": "code",
      "metadata": {
        "colab": {
          "base_uri": "https://localhost:8080/"
        },
        "id": "syfAtGayBpPE",
        "outputId": "4a3d8f70-32ca-49d5-a929-5c49d408ccc7"
      },
      "source": [
        "for i in [10,20,30,40]:\n",
        "  if i>=25:\n",
        "    print(i, \"greater than 25\")\n",
        "  else:\n",
        "    print(i, \"less than 25\")"
      ],
      "execution_count": null,
      "outputs": [
        {
          "output_type": "stream",
          "name": "stdout",
          "text": [
            "10 less than 25\n",
            "20 less than 25\n",
            "30 greater than 25\n",
            "40 greater than 25\n"
          ]
        }
      ]
    }
  ]
}