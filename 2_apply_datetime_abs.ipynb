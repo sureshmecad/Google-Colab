{
  "nbformat": 4,
  "nbformat_minor": 0,
  "metadata": {
    "colab": {
      "name": "2_apply_datetime_abs.ipynb",
      "provenance": [],
      "collapsed_sections": [],
      "authorship_tag": "ABX9TyPuAsHTleFoXe7eW37f42Lh",
      "include_colab_link": true
    },
    "kernelspec": {
      "name": "python3",
      "display_name": "Python 3"
    },
    "language_info": {
      "name": "python"
    }
  },
  "cells": [
    {
      "cell_type": "markdown",
      "metadata": {
        "id": "view-in-github",
        "colab_type": "text"
      },
      "source": [
        "<a href=\"https://colab.research.google.com/github/sureshmecad/Google-Colab/blob/master/2_apply_datetime_abs.ipynb\" target=\"_parent\"><img src=\"https://colab.research.google.com/assets/colab-badge.svg\" alt=\"Open In Colab\"/></a>"
      ]
    },
    {
      "cell_type": "code",
      "metadata": {
        "colab": {
          "base_uri": "https://localhost:8080/"
        },
        "id": "qH1VbR3deQoN",
        "outputId": "94590319-f0ad-4b8e-fd49-9ca75e90367e"
      },
      "source": [
        "from google.colab import drive\n",
        "drive.mount('/content/drive')"
      ],
      "execution_count": 1,
      "outputs": [
        {
          "output_type": "stream",
          "name": "stdout",
          "text": [
            "Mounted at /content/drive\n"
          ]
        }
      ]
    },
    {
      "cell_type": "code",
      "metadata": {
        "id": "F2zhLKl2eiyZ"
      },
      "source": [
        "import numpy as np\n",
        "import pandas as pd"
      ],
      "execution_count": 11,
      "outputs": []
    },
    {
      "cell_type": "code",
      "metadata": {
        "colab": {
          "base_uri": "https://localhost:8080/",
          "height": 202
        },
        "id": "i0M-v_2oeq-g",
        "outputId": "48b99825-0812-43a8-d298-97293927ae17"
      },
      "source": [
        "df = pd.read_csv(\"/content/drive/MyDrive/Datasets/No-show-Issue-300k.csv.zip\", sep=\";\")\n",
        "df.head()"
      ],
      "execution_count": 7,
      "outputs": [
        {
          "output_type": "execute_result",
          "data": {
            "text/html": [
              "<div>\n",
              "<style scoped>\n",
              "    .dataframe tbody tr th:only-of-type {\n",
              "        vertical-align: middle;\n",
              "    }\n",
              "\n",
              "    .dataframe tbody tr th {\n",
              "        vertical-align: top;\n",
              "    }\n",
              "\n",
              "    .dataframe thead th {\n",
              "        text-align: right;\n",
              "    }\n",
              "</style>\n",
              "<table border=\"1\" class=\"dataframe\">\n",
              "  <thead>\n",
              "    <tr style=\"text-align: right;\">\n",
              "      <th></th>\n",
              "      <th>Age</th>\n",
              "      <th>Gender</th>\n",
              "      <th>AppointmentRegistration</th>\n",
              "      <th>ApointmentData</th>\n",
              "      <th>DayOfTheWeek</th>\n",
              "      <th>Status</th>\n",
              "      <th>Diabetes</th>\n",
              "      <th>Alcoolism</th>\n",
              "      <th>HiperTension</th>\n",
              "      <th>Handcap</th>\n",
              "      <th>Smokes</th>\n",
              "      <th>Scholarship</th>\n",
              "      <th>Tuberculosis</th>\n",
              "      <th>Sms_Reminder</th>\n",
              "      <th>AwaitingTime</th>\n",
              "    </tr>\n",
              "  </thead>\n",
              "  <tbody>\n",
              "    <tr>\n",
              "      <th>0</th>\n",
              "      <td>17</td>\n",
              "      <td>F</td>\n",
              "      <td>2014-03-26T14:11:55Z</td>\n",
              "      <td>2014-04-09T00:00:00Z</td>\n",
              "      <td>Wednesday</td>\n",
              "      <td>Show-Up</td>\n",
              "      <td>0</td>\n",
              "      <td>0</td>\n",
              "      <td>0</td>\n",
              "      <td>0</td>\n",
              "      <td>0</td>\n",
              "      <td>0</td>\n",
              "      <td>0</td>\n",
              "      <td>1</td>\n",
              "      <td>-14</td>\n",
              "    </tr>\n",
              "    <tr>\n",
              "      <th>1</th>\n",
              "      <td>21</td>\n",
              "      <td>F</td>\n",
              "      <td>2014-04-09T08:57:02Z</td>\n",
              "      <td>2014-04-17T00:00:00Z</td>\n",
              "      <td>Thursday</td>\n",
              "      <td>No-Show</td>\n",
              "      <td>0</td>\n",
              "      <td>0</td>\n",
              "      <td>0</td>\n",
              "      <td>0</td>\n",
              "      <td>0</td>\n",
              "      <td>0</td>\n",
              "      <td>0</td>\n",
              "      <td>0</td>\n",
              "      <td>-8</td>\n",
              "    </tr>\n",
              "    <tr>\n",
              "      <th>2</th>\n",
              "      <td>61</td>\n",
              "      <td>F</td>\n",
              "      <td>2015-10-07T07:26:45Z</td>\n",
              "      <td>2015-10-08T00:00:00Z</td>\n",
              "      <td>Thursday</td>\n",
              "      <td>Show-Up</td>\n",
              "      <td>1</td>\n",
              "      <td>0</td>\n",
              "      <td>1</td>\n",
              "      <td>0</td>\n",
              "      <td>0</td>\n",
              "      <td>1</td>\n",
              "      <td>0</td>\n",
              "      <td>0</td>\n",
              "      <td>-1</td>\n",
              "    </tr>\n",
              "    <tr>\n",
              "      <th>3</th>\n",
              "      <td>55</td>\n",
              "      <td>F</td>\n",
              "      <td>2015-11-13T07:19:33Z</td>\n",
              "      <td>2015-11-17T00:00:00Z</td>\n",
              "      <td>Tuesday</td>\n",
              "      <td>Show-Up</td>\n",
              "      <td>0</td>\n",
              "      <td>0</td>\n",
              "      <td>1</td>\n",
              "      <td>0</td>\n",
              "      <td>0</td>\n",
              "      <td>0</td>\n",
              "      <td>0</td>\n",
              "      <td>1</td>\n",
              "      <td>-4</td>\n",
              "    </tr>\n",
              "    <tr>\n",
              "      <th>4</th>\n",
              "      <td>9</td>\n",
              "      <td>F</td>\n",
              "      <td>2014-05-06T09:06:16Z</td>\n",
              "      <td>2014-06-12T00:00:00Z</td>\n",
              "      <td>Thursday</td>\n",
              "      <td>No-Show</td>\n",
              "      <td>0</td>\n",
              "      <td>0</td>\n",
              "      <td>0</td>\n",
              "      <td>1</td>\n",
              "      <td>0</td>\n",
              "      <td>0</td>\n",
              "      <td>0</td>\n",
              "      <td>1</td>\n",
              "      <td>-37</td>\n",
              "    </tr>\n",
              "  </tbody>\n",
              "</table>\n",
              "</div>"
            ],
            "text/plain": [
              "   Age Gender AppointmentRegistration  ... Tuberculosis Sms_Reminder AwaitingTime\n",
              "0   17      F    2014-03-26T14:11:55Z  ...            0            1          -14\n",
              "1   21      F    2014-04-09T08:57:02Z  ...            0            0           -8\n",
              "2   61      F    2015-10-07T07:26:45Z  ...            0            0           -1\n",
              "3   55      F    2015-11-13T07:19:33Z  ...            0            1           -4\n",
              "4    9      F    2014-05-06T09:06:16Z  ...            0            1          -37\n",
              "\n",
              "[5 rows x 15 columns]"
            ]
          },
          "metadata": {},
          "execution_count": 7
        }
      ]
    },
    {
      "cell_type": "code",
      "metadata": {
        "id": "z2N_uQvPe5jA"
      },
      "source": [
        "df[\"AppointmentRegistration\"] = df[\"AppointmentRegistration\"].apply(np.datetime64)\n",
        "df[\"ApointmentData\"] = df[\"ApointmentData\"].apply(np.datetime64)\n",
        "df[\"AwaitingTime\"] = df[\"AwaitingTime\"].apply(abs)"
      ],
      "execution_count": 12,
      "outputs": []
    },
    {
      "cell_type": "code",
      "metadata": {
        "colab": {
          "base_uri": "https://localhost:8080/",
          "height": 202
        },
        "id": "fuz3J6tKe5WQ",
        "outputId": "9f5bb61f-239e-42dc-f25c-d1d61ab087b6"
      },
      "source": [
        "df.head()"
      ],
      "execution_count": 13,
      "outputs": [
        {
          "output_type": "execute_result",
          "data": {
            "text/html": [
              "<div>\n",
              "<style scoped>\n",
              "    .dataframe tbody tr th:only-of-type {\n",
              "        vertical-align: middle;\n",
              "    }\n",
              "\n",
              "    .dataframe tbody tr th {\n",
              "        vertical-align: top;\n",
              "    }\n",
              "\n",
              "    .dataframe thead th {\n",
              "        text-align: right;\n",
              "    }\n",
              "</style>\n",
              "<table border=\"1\" class=\"dataframe\">\n",
              "  <thead>\n",
              "    <tr style=\"text-align: right;\">\n",
              "      <th></th>\n",
              "      <th>Age</th>\n",
              "      <th>Gender</th>\n",
              "      <th>AppointmentRegistration</th>\n",
              "      <th>ApointmentData</th>\n",
              "      <th>DayOfTheWeek</th>\n",
              "      <th>Status</th>\n",
              "      <th>Diabetes</th>\n",
              "      <th>Alcoolism</th>\n",
              "      <th>HiperTension</th>\n",
              "      <th>Handcap</th>\n",
              "      <th>Smokes</th>\n",
              "      <th>Scholarship</th>\n",
              "      <th>Tuberculosis</th>\n",
              "      <th>Sms_Reminder</th>\n",
              "      <th>AwaitingTime</th>\n",
              "    </tr>\n",
              "  </thead>\n",
              "  <tbody>\n",
              "    <tr>\n",
              "      <th>0</th>\n",
              "      <td>17</td>\n",
              "      <td>F</td>\n",
              "      <td>2014-03-26 14:11:55</td>\n",
              "      <td>2014-04-09</td>\n",
              "      <td>Wednesday</td>\n",
              "      <td>Show-Up</td>\n",
              "      <td>0</td>\n",
              "      <td>0</td>\n",
              "      <td>0</td>\n",
              "      <td>0</td>\n",
              "      <td>0</td>\n",
              "      <td>0</td>\n",
              "      <td>0</td>\n",
              "      <td>1</td>\n",
              "      <td>14</td>\n",
              "    </tr>\n",
              "    <tr>\n",
              "      <th>1</th>\n",
              "      <td>21</td>\n",
              "      <td>F</td>\n",
              "      <td>2014-04-09 08:57:02</td>\n",
              "      <td>2014-04-17</td>\n",
              "      <td>Thursday</td>\n",
              "      <td>No-Show</td>\n",
              "      <td>0</td>\n",
              "      <td>0</td>\n",
              "      <td>0</td>\n",
              "      <td>0</td>\n",
              "      <td>0</td>\n",
              "      <td>0</td>\n",
              "      <td>0</td>\n",
              "      <td>0</td>\n",
              "      <td>8</td>\n",
              "    </tr>\n",
              "    <tr>\n",
              "      <th>2</th>\n",
              "      <td>61</td>\n",
              "      <td>F</td>\n",
              "      <td>2015-10-07 07:26:45</td>\n",
              "      <td>2015-10-08</td>\n",
              "      <td>Thursday</td>\n",
              "      <td>Show-Up</td>\n",
              "      <td>1</td>\n",
              "      <td>0</td>\n",
              "      <td>1</td>\n",
              "      <td>0</td>\n",
              "      <td>0</td>\n",
              "      <td>1</td>\n",
              "      <td>0</td>\n",
              "      <td>0</td>\n",
              "      <td>1</td>\n",
              "    </tr>\n",
              "    <tr>\n",
              "      <th>3</th>\n",
              "      <td>55</td>\n",
              "      <td>F</td>\n",
              "      <td>2015-11-13 07:19:33</td>\n",
              "      <td>2015-11-17</td>\n",
              "      <td>Tuesday</td>\n",
              "      <td>Show-Up</td>\n",
              "      <td>0</td>\n",
              "      <td>0</td>\n",
              "      <td>1</td>\n",
              "      <td>0</td>\n",
              "      <td>0</td>\n",
              "      <td>0</td>\n",
              "      <td>0</td>\n",
              "      <td>1</td>\n",
              "      <td>4</td>\n",
              "    </tr>\n",
              "    <tr>\n",
              "      <th>4</th>\n",
              "      <td>9</td>\n",
              "      <td>F</td>\n",
              "      <td>2014-05-06 09:06:16</td>\n",
              "      <td>2014-06-12</td>\n",
              "      <td>Thursday</td>\n",
              "      <td>No-Show</td>\n",
              "      <td>0</td>\n",
              "      <td>0</td>\n",
              "      <td>0</td>\n",
              "      <td>1</td>\n",
              "      <td>0</td>\n",
              "      <td>0</td>\n",
              "      <td>0</td>\n",
              "      <td>1</td>\n",
              "      <td>37</td>\n",
              "    </tr>\n",
              "  </tbody>\n",
              "</table>\n",
              "</div>"
            ],
            "text/plain": [
              "   Age Gender AppointmentRegistration  ... Tuberculosis Sms_Reminder AwaitingTime\n",
              "0   17      F     2014-03-26 14:11:55  ...            0            1           14\n",
              "1   21      F     2014-04-09 08:57:02  ...            0            0            8\n",
              "2   61      F     2015-10-07 07:26:45  ...            0            0            1\n",
              "3   55      F     2015-11-13 07:19:33  ...            0            1            4\n",
              "4    9      F     2014-05-06 09:06:16  ...            0            1           37\n",
              "\n",
              "[5 rows x 15 columns]"
            ]
          },
          "metadata": {},
          "execution_count": 13
        }
      ]
    },
    {
      "cell_type": "code",
      "metadata": {
        "colab": {
          "base_uri": "https://localhost:8080/"
        },
        "id": "GzKpbT9LtWym",
        "outputId": "9c0ed7b6-fca0-4569-e1a5-4e5dcbd1c409"
      },
      "source": [
        "# checking for infinity\n",
        "ds = df.isin([np.inf, -np.inf])\n",
        "print(ds)"
      ],
      "execution_count": 16,
      "outputs": [
        {
          "output_type": "stream",
          "name": "stdout",
          "text": [
            "          Age  Gender  ...  Sms_Reminder  AwaitingTime\n",
            "0       False   False  ...         False         False\n",
            "1       False   False  ...         False         False\n",
            "2       False   False  ...         False         False\n",
            "3       False   False  ...         False         False\n",
            "4       False   False  ...         False         False\n",
            "...       ...     ...  ...           ...           ...\n",
            "299995  False   False  ...         False         False\n",
            "299996  False   False  ...         False         False\n",
            "299997  False   False  ...         False         False\n",
            "299998  False   False  ...         False         False\n",
            "299999  False   False  ...         False         False\n",
            "\n",
            "[300000 rows x 15 columns]\n"
          ]
        }
      ]
    },
    {
      "cell_type": "code",
      "metadata": {
        "colab": {
          "base_uri": "https://localhost:8080/"
        },
        "id": "JLCnexDwt1UA",
        "outputId": "3af4a1cf-61e8-4940-a6d9-7c6e9c100aeb"
      },
      "source": [
        "# printing the count of infinity values\n",
        "count = np.isinf(ds).values.sum()\n",
        "print(\"It contains \" + str(count) + \" infinite values\")"
      ],
      "execution_count": 18,
      "outputs": [
        {
          "output_type": "stream",
          "name": "stdout",
          "text": [
            "It contains 0 infinite values\n"
          ]
        }
      ]
    }
  ]
}