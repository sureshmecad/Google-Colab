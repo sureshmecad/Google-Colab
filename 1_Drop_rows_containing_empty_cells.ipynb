{
  "nbformat": 4,
  "nbformat_minor": 0,
  "metadata": {
    "colab": {
      "name": "1_Drop rows containing empty cells.ipynb",
      "provenance": [],
      "collapsed_sections": [],
      "authorship_tag": "ABX9TyP4W0j2AgFPbvFGJCI50VQE",
      "include_colab_link": true
    },
    "kernelspec": {
      "name": "python3",
      "display_name": "Python 3"
    },
    "language_info": {
      "name": "python"
    }
  },
  "cells": [
    {
      "cell_type": "markdown",
      "metadata": {
        "id": "view-in-github",
        "colab_type": "text"
      },
      "source": [
        "<a href=\"https://colab.research.google.com/github/sureshmecad/Google-Colab/blob/master/1_Drop_rows_containing_empty_cells.ipynb\" target=\"_parent\"><img src=\"https://colab.research.google.com/assets/colab-badge.svg\" alt=\"Open In Colab\"/></a>"
      ]
    },
    {
      "cell_type": "markdown",
      "metadata": {
        "id": "dtkeQB8ZLGUg"
      },
      "source": [
        "- **Pandas** will **recognise** a value as **null** if it is a **np.nan** object, which will print as **NaN in the DataFrame.**\n",
        "\n",
        "- Your missing values are probably **empty strings**, which Pandas **doesn't recognise as null**.\n",
        "\n",
        "- To fix this, you can **convert the empty stings** (or whatever is in your empty cells) to **np.nan** objects using **replace()**, and then call **dropna()**on your DataFrame to delete rows with null tenants."
      ]
    },
    {
      "cell_type": "code",
      "metadata": {
        "id": "sXToR_6gKzP4"
      },
      "source": [
        "import pandas as pd\n",
        "import numpy as np"
      ],
      "execution_count": 1,
      "outputs": []
    },
    {
      "cell_type": "code",
      "metadata": {
        "colab": {
          "base_uri": "https://localhost:8080/",
          "height": 355
        },
        "id": "N9mK41N8LljK",
        "outputId": "2c4f3c22-6bc1-4891-f3a4-a6215b29fa72"
      },
      "source": [
        "df = pd.DataFrame(np.random.randn(10, 2), columns=list('AB'))\n",
        "df['Tenant'] = np.random.choice(['Babar', 'Rataxes', ''], 10)\n",
        "df"
      ],
      "execution_count": 2,
      "outputs": [
        {
          "output_type": "execute_result",
          "data": {
            "text/html": [
              "<div>\n",
              "<style scoped>\n",
              "    .dataframe tbody tr th:only-of-type {\n",
              "        vertical-align: middle;\n",
              "    }\n",
              "\n",
              "    .dataframe tbody tr th {\n",
              "        vertical-align: top;\n",
              "    }\n",
              "\n",
              "    .dataframe thead th {\n",
              "        text-align: right;\n",
              "    }\n",
              "</style>\n",
              "<table border=\"1\" class=\"dataframe\">\n",
              "  <thead>\n",
              "    <tr style=\"text-align: right;\">\n",
              "      <th></th>\n",
              "      <th>A</th>\n",
              "      <th>B</th>\n",
              "      <th>Tenant</th>\n",
              "    </tr>\n",
              "  </thead>\n",
              "  <tbody>\n",
              "    <tr>\n",
              "      <th>0</th>\n",
              "      <td>-0.404992</td>\n",
              "      <td>-0.409367</td>\n",
              "      <td></td>\n",
              "    </tr>\n",
              "    <tr>\n",
              "      <th>1</th>\n",
              "      <td>0.115631</td>\n",
              "      <td>-0.476095</td>\n",
              "      <td>Rataxes</td>\n",
              "    </tr>\n",
              "    <tr>\n",
              "      <th>2</th>\n",
              "      <td>0.984713</td>\n",
              "      <td>1.968267</td>\n",
              "      <td>Babar</td>\n",
              "    </tr>\n",
              "    <tr>\n",
              "      <th>3</th>\n",
              "      <td>0.272921</td>\n",
              "      <td>0.350391</td>\n",
              "      <td>Babar</td>\n",
              "    </tr>\n",
              "    <tr>\n",
              "      <th>4</th>\n",
              "      <td>-0.913832</td>\n",
              "      <td>-0.051186</td>\n",
              "      <td>Babar</td>\n",
              "    </tr>\n",
              "    <tr>\n",
              "      <th>5</th>\n",
              "      <td>0.830240</td>\n",
              "      <td>-0.212489</td>\n",
              "      <td>Rataxes</td>\n",
              "    </tr>\n",
              "    <tr>\n",
              "      <th>6</th>\n",
              "      <td>1.761064</td>\n",
              "      <td>0.969756</td>\n",
              "      <td>Babar</td>\n",
              "    </tr>\n",
              "    <tr>\n",
              "      <th>7</th>\n",
              "      <td>0.094864</td>\n",
              "      <td>-0.878637</td>\n",
              "      <td>Rataxes</td>\n",
              "    </tr>\n",
              "    <tr>\n",
              "      <th>8</th>\n",
              "      <td>0.338316</td>\n",
              "      <td>0.467382</td>\n",
              "      <td>Babar</td>\n",
              "    </tr>\n",
              "    <tr>\n",
              "      <th>9</th>\n",
              "      <td>0.567900</td>\n",
              "      <td>0.580283</td>\n",
              "      <td>Babar</td>\n",
              "    </tr>\n",
              "  </tbody>\n",
              "</table>\n",
              "</div>"
            ],
            "text/plain": [
              "          A         B   Tenant\n",
              "0 -0.404992 -0.409367         \n",
              "1  0.115631 -0.476095  Rataxes\n",
              "2  0.984713  1.968267    Babar\n",
              "3  0.272921  0.350391    Babar\n",
              "4 -0.913832 -0.051186    Babar\n",
              "5  0.830240 -0.212489  Rataxes\n",
              "6  1.761064  0.969756    Babar\n",
              "7  0.094864 -0.878637  Rataxes\n",
              "8  0.338316  0.467382    Babar\n",
              "9  0.567900  0.580283    Babar"
            ]
          },
          "metadata": {},
          "execution_count": 2
        }
      ]
    },
    {
      "cell_type": "code",
      "metadata": {
        "colab": {
          "base_uri": "https://localhost:8080/",
          "height": 355
        },
        "id": "tPBy3q2OLwRy",
        "outputId": "05b712a2-820c-4fa2-c6be-d46d9406ec22"
      },
      "source": [
        "# Now we replace any empty strings in the Tenants column with np.nan objects\n",
        "\n",
        "df['Tenant'].replace('', np.nan, inplace=True)\n",
        "df"
      ],
      "execution_count": 3,
      "outputs": [
        {
          "output_type": "execute_result",
          "data": {
            "text/html": [
              "<div>\n",
              "<style scoped>\n",
              "    .dataframe tbody tr th:only-of-type {\n",
              "        vertical-align: middle;\n",
              "    }\n",
              "\n",
              "    .dataframe tbody tr th {\n",
              "        vertical-align: top;\n",
              "    }\n",
              "\n",
              "    .dataframe thead th {\n",
              "        text-align: right;\n",
              "    }\n",
              "</style>\n",
              "<table border=\"1\" class=\"dataframe\">\n",
              "  <thead>\n",
              "    <tr style=\"text-align: right;\">\n",
              "      <th></th>\n",
              "      <th>A</th>\n",
              "      <th>B</th>\n",
              "      <th>Tenant</th>\n",
              "    </tr>\n",
              "  </thead>\n",
              "  <tbody>\n",
              "    <tr>\n",
              "      <th>0</th>\n",
              "      <td>-0.404992</td>\n",
              "      <td>-0.409367</td>\n",
              "      <td>NaN</td>\n",
              "    </tr>\n",
              "    <tr>\n",
              "      <th>1</th>\n",
              "      <td>0.115631</td>\n",
              "      <td>-0.476095</td>\n",
              "      <td>Rataxes</td>\n",
              "    </tr>\n",
              "    <tr>\n",
              "      <th>2</th>\n",
              "      <td>0.984713</td>\n",
              "      <td>1.968267</td>\n",
              "      <td>Babar</td>\n",
              "    </tr>\n",
              "    <tr>\n",
              "      <th>3</th>\n",
              "      <td>0.272921</td>\n",
              "      <td>0.350391</td>\n",
              "      <td>Babar</td>\n",
              "    </tr>\n",
              "    <tr>\n",
              "      <th>4</th>\n",
              "      <td>-0.913832</td>\n",
              "      <td>-0.051186</td>\n",
              "      <td>Babar</td>\n",
              "    </tr>\n",
              "    <tr>\n",
              "      <th>5</th>\n",
              "      <td>0.830240</td>\n",
              "      <td>-0.212489</td>\n",
              "      <td>Rataxes</td>\n",
              "    </tr>\n",
              "    <tr>\n",
              "      <th>6</th>\n",
              "      <td>1.761064</td>\n",
              "      <td>0.969756</td>\n",
              "      <td>Babar</td>\n",
              "    </tr>\n",
              "    <tr>\n",
              "      <th>7</th>\n",
              "      <td>0.094864</td>\n",
              "      <td>-0.878637</td>\n",
              "      <td>Rataxes</td>\n",
              "    </tr>\n",
              "    <tr>\n",
              "      <th>8</th>\n",
              "      <td>0.338316</td>\n",
              "      <td>0.467382</td>\n",
              "      <td>Babar</td>\n",
              "    </tr>\n",
              "    <tr>\n",
              "      <th>9</th>\n",
              "      <td>0.567900</td>\n",
              "      <td>0.580283</td>\n",
              "      <td>Babar</td>\n",
              "    </tr>\n",
              "  </tbody>\n",
              "</table>\n",
              "</div>"
            ],
            "text/plain": [
              "          A         B   Tenant\n",
              "0 -0.404992 -0.409367      NaN\n",
              "1  0.115631 -0.476095  Rataxes\n",
              "2  0.984713  1.968267    Babar\n",
              "3  0.272921  0.350391    Babar\n",
              "4 -0.913832 -0.051186    Babar\n",
              "5  0.830240 -0.212489  Rataxes\n",
              "6  1.761064  0.969756    Babar\n",
              "7  0.094864 -0.878637  Rataxes\n",
              "8  0.338316  0.467382    Babar\n",
              "9  0.567900  0.580283    Babar"
            ]
          },
          "metadata": {},
          "execution_count": 3
        }
      ]
    },
    {
      "cell_type": "code",
      "metadata": {
        "colab": {
          "base_uri": "https://localhost:8080/",
          "height": 324
        },
        "id": "TpzbyQ04L6pK",
        "outputId": "bb7c6561-0262-4472-e30e-d76212355078"
      },
      "source": [
        "# drop the null values\n",
        "\n",
        "df.dropna(subset=['Tenant'], inplace=True)\n",
        "df"
      ],
      "execution_count": 4,
      "outputs": [
        {
          "output_type": "execute_result",
          "data": {
            "text/html": [
              "<div>\n",
              "<style scoped>\n",
              "    .dataframe tbody tr th:only-of-type {\n",
              "        vertical-align: middle;\n",
              "    }\n",
              "\n",
              "    .dataframe tbody tr th {\n",
              "        vertical-align: top;\n",
              "    }\n",
              "\n",
              "    .dataframe thead th {\n",
              "        text-align: right;\n",
              "    }\n",
              "</style>\n",
              "<table border=\"1\" class=\"dataframe\">\n",
              "  <thead>\n",
              "    <tr style=\"text-align: right;\">\n",
              "      <th></th>\n",
              "      <th>A</th>\n",
              "      <th>B</th>\n",
              "      <th>Tenant</th>\n",
              "    </tr>\n",
              "  </thead>\n",
              "  <tbody>\n",
              "    <tr>\n",
              "      <th>1</th>\n",
              "      <td>0.115631</td>\n",
              "      <td>-0.476095</td>\n",
              "      <td>Rataxes</td>\n",
              "    </tr>\n",
              "    <tr>\n",
              "      <th>2</th>\n",
              "      <td>0.984713</td>\n",
              "      <td>1.968267</td>\n",
              "      <td>Babar</td>\n",
              "    </tr>\n",
              "    <tr>\n",
              "      <th>3</th>\n",
              "      <td>0.272921</td>\n",
              "      <td>0.350391</td>\n",
              "      <td>Babar</td>\n",
              "    </tr>\n",
              "    <tr>\n",
              "      <th>4</th>\n",
              "      <td>-0.913832</td>\n",
              "      <td>-0.051186</td>\n",
              "      <td>Babar</td>\n",
              "    </tr>\n",
              "    <tr>\n",
              "      <th>5</th>\n",
              "      <td>0.830240</td>\n",
              "      <td>-0.212489</td>\n",
              "      <td>Rataxes</td>\n",
              "    </tr>\n",
              "    <tr>\n",
              "      <th>6</th>\n",
              "      <td>1.761064</td>\n",
              "      <td>0.969756</td>\n",
              "      <td>Babar</td>\n",
              "    </tr>\n",
              "    <tr>\n",
              "      <th>7</th>\n",
              "      <td>0.094864</td>\n",
              "      <td>-0.878637</td>\n",
              "      <td>Rataxes</td>\n",
              "    </tr>\n",
              "    <tr>\n",
              "      <th>8</th>\n",
              "      <td>0.338316</td>\n",
              "      <td>0.467382</td>\n",
              "      <td>Babar</td>\n",
              "    </tr>\n",
              "    <tr>\n",
              "      <th>9</th>\n",
              "      <td>0.567900</td>\n",
              "      <td>0.580283</td>\n",
              "      <td>Babar</td>\n",
              "    </tr>\n",
              "  </tbody>\n",
              "</table>\n",
              "</div>"
            ],
            "text/plain": [
              "          A         B   Tenant\n",
              "1  0.115631 -0.476095  Rataxes\n",
              "2  0.984713  1.968267    Babar\n",
              "3  0.272921  0.350391    Babar\n",
              "4 -0.913832 -0.051186    Babar\n",
              "5  0.830240 -0.212489  Rataxes\n",
              "6  1.761064  0.969756    Babar\n",
              "7  0.094864 -0.878637  Rataxes\n",
              "8  0.338316  0.467382    Babar\n",
              "9  0.567900  0.580283    Babar"
            ]
          },
          "metadata": {},
          "execution_count": 4
        }
      ]
    },
    {
      "cell_type": "markdown",
      "metadata": {
        "id": "pgESUYG-MYeN"
      },
      "source": [
        "-----------------"
      ]
    },
    {
      "cell_type": "code",
      "metadata": {
        "colab": {
          "base_uri": "https://localhost:8080/",
          "height": 202
        },
        "id": "hhAyVeiNMZQt",
        "outputId": "e0909895-68f8-40ec-ba50-102fdbb0026b"
      },
      "source": [
        "df1 = pd.DataFrame({\n",
        "    'A': range(5),\n",
        "    'B': ['foo', '', 'bar', '', 'xyz']\n",
        "})\n",
        "\n",
        "df1"
      ],
      "execution_count": 5,
      "outputs": [
        {
          "output_type": "execute_result",
          "data": {
            "text/html": [
              "<div>\n",
              "<style scoped>\n",
              "    .dataframe tbody tr th:only-of-type {\n",
              "        vertical-align: middle;\n",
              "    }\n",
              "\n",
              "    .dataframe tbody tr th {\n",
              "        vertical-align: top;\n",
              "    }\n",
              "\n",
              "    .dataframe thead th {\n",
              "        text-align: right;\n",
              "    }\n",
              "</style>\n",
              "<table border=\"1\" class=\"dataframe\">\n",
              "  <thead>\n",
              "    <tr style=\"text-align: right;\">\n",
              "      <th></th>\n",
              "      <th>A</th>\n",
              "      <th>B</th>\n",
              "    </tr>\n",
              "  </thead>\n",
              "  <tbody>\n",
              "    <tr>\n",
              "      <th>0</th>\n",
              "      <td>0</td>\n",
              "      <td>foo</td>\n",
              "    </tr>\n",
              "    <tr>\n",
              "      <th>1</th>\n",
              "      <td>1</td>\n",
              "      <td></td>\n",
              "    </tr>\n",
              "    <tr>\n",
              "      <th>2</th>\n",
              "      <td>2</td>\n",
              "      <td>bar</td>\n",
              "    </tr>\n",
              "    <tr>\n",
              "      <th>3</th>\n",
              "      <td>3</td>\n",
              "      <td></td>\n",
              "    </tr>\n",
              "    <tr>\n",
              "      <th>4</th>\n",
              "      <td>4</td>\n",
              "      <td>xyz</td>\n",
              "    </tr>\n",
              "  </tbody>\n",
              "</table>\n",
              "</div>"
            ],
            "text/plain": [
              "   A    B\n",
              "0  0  foo\n",
              "1  1     \n",
              "2  2  bar\n",
              "3  3     \n",
              "4  4  xyz"
            ]
          },
          "metadata": {},
          "execution_count": 5
        }
      ]
    },
    {
      "cell_type": "code",
      "metadata": {
        "colab": {
          "base_uri": "https://localhost:8080/"
        },
        "id": "DA7UbVvzMf5G",
        "outputId": "0697b379-551c-4d85-b23b-82aa71ca7dc4"
      },
      "source": [
        "df1['B'].astype(bool)"
      ],
      "execution_count": 7,
      "outputs": [
        {
          "output_type": "execute_result",
          "data": {
            "text/plain": [
              "0     True\n",
              "1    False\n",
              "2     True\n",
              "3    False\n",
              "4     True\n",
              "Name: B, dtype: bool"
            ]
          },
          "metadata": {},
          "execution_count": 7
        }
      ]
    },
    {
      "cell_type": "code",
      "metadata": {
        "colab": {
          "base_uri": "https://localhost:8080/",
          "height": 141
        },
        "id": "aEEqb_5dMfyO",
        "outputId": "15d1f5c8-6739-4fa1-ac08-bae2559a83b0"
      },
      "source": [
        "df1[df1['B'].astype(bool)]"
      ],
      "execution_count": 8,
      "outputs": [
        {
          "output_type": "execute_result",
          "data": {
            "text/html": [
              "<div>\n",
              "<style scoped>\n",
              "    .dataframe tbody tr th:only-of-type {\n",
              "        vertical-align: middle;\n",
              "    }\n",
              "\n",
              "    .dataframe tbody tr th {\n",
              "        vertical-align: top;\n",
              "    }\n",
              "\n",
              "    .dataframe thead th {\n",
              "        text-align: right;\n",
              "    }\n",
              "</style>\n",
              "<table border=\"1\" class=\"dataframe\">\n",
              "  <thead>\n",
              "    <tr style=\"text-align: right;\">\n",
              "      <th></th>\n",
              "      <th>A</th>\n",
              "      <th>B</th>\n",
              "    </tr>\n",
              "  </thead>\n",
              "  <tbody>\n",
              "    <tr>\n",
              "      <th>0</th>\n",
              "      <td>0</td>\n",
              "      <td>foo</td>\n",
              "    </tr>\n",
              "    <tr>\n",
              "      <th>2</th>\n",
              "      <td>2</td>\n",
              "      <td>bar</td>\n",
              "    </tr>\n",
              "    <tr>\n",
              "      <th>4</th>\n",
              "      <td>4</td>\n",
              "      <td>xyz</td>\n",
              "    </tr>\n",
              "  </tbody>\n",
              "</table>\n",
              "</div>"
            ],
            "text/plain": [
              "   A    B\n",
              "0  0  foo\n",
              "2  2  bar\n",
              "4  4  xyz"
            ]
          },
          "metadata": {},
          "execution_count": 8
        }
      ]
    },
    {
      "cell_type": "markdown",
      "metadata": {
        "id": "pYsKbaN2MyhW"
      },
      "source": [
        "##### **If your goal is to remove not only empty strings, but also strings only containing whitespace, use str.strip beforehand:**"
      ]
    },
    {
      "cell_type": "code",
      "metadata": {
        "colab": {
          "base_uri": "https://localhost:8080/",
          "height": 141
        },
        "id": "JnuzMGXkM0XX",
        "outputId": "a2163f22-8b95-49cd-cb71-db9b76273db0"
      },
      "source": [
        "df1[df1['B'].str.strip().astype(bool)]"
      ],
      "execution_count": 9,
      "outputs": [
        {
          "output_type": "execute_result",
          "data": {
            "text/html": [
              "<div>\n",
              "<style scoped>\n",
              "    .dataframe tbody tr th:only-of-type {\n",
              "        vertical-align: middle;\n",
              "    }\n",
              "\n",
              "    .dataframe tbody tr th {\n",
              "        vertical-align: top;\n",
              "    }\n",
              "\n",
              "    .dataframe thead th {\n",
              "        text-align: right;\n",
              "    }\n",
              "</style>\n",
              "<table border=\"1\" class=\"dataframe\">\n",
              "  <thead>\n",
              "    <tr style=\"text-align: right;\">\n",
              "      <th></th>\n",
              "      <th>A</th>\n",
              "      <th>B</th>\n",
              "    </tr>\n",
              "  </thead>\n",
              "  <tbody>\n",
              "    <tr>\n",
              "      <th>0</th>\n",
              "      <td>0</td>\n",
              "      <td>foo</td>\n",
              "    </tr>\n",
              "    <tr>\n",
              "      <th>2</th>\n",
              "      <td>2</td>\n",
              "      <td>bar</td>\n",
              "    </tr>\n",
              "    <tr>\n",
              "      <th>4</th>\n",
              "      <td>4</td>\n",
              "      <td>xyz</td>\n",
              "    </tr>\n",
              "  </tbody>\n",
              "</table>\n",
              "</div>"
            ],
            "text/plain": [
              "   A    B\n",
              "0  0  foo\n",
              "2  2  bar\n",
              "4  4  xyz"
            ]
          },
          "metadata": {},
          "execution_count": 9
        }
      ]
    }
  ]
}