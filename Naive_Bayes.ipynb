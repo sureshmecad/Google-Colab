{
  "nbformat": 4,
  "nbformat_minor": 0,
  "metadata": {
    "colab": {
      "name": "Naive_Bayes.ipynb",
      "provenance": [],
      "authorship_tag": "ABX9TyOhyBzJGxGiITDttnWdfPwA",
      "include_colab_link": true
    },
    "kernelspec": {
      "name": "python3",
      "display_name": "Python 3"
    }
  },
  "cells": [
    {
      "cell_type": "markdown",
      "metadata": {
        "id": "view-in-github",
        "colab_type": "text"
      },
      "source": [
        "<a href=\"https://colab.research.google.com/github/sureshmecad/Google-Colab/blob/master/Naive_Bayes.ipynb\" target=\"_parent\"><img src=\"https://colab.research.google.com/assets/colab-badge.svg\" alt=\"Open In Colab\"/></a>"
      ]
    },
    {
      "cell_type": "markdown",
      "metadata": {
        "id": "KNhn_XLAavJS"
      },
      "source": [
        "- Gaussian Naive Bayes\r\n",
        "\r\n",
        "- Multinomial Naive Bayes\r\n",
        "\r\n",
        "- Bernoulli Naive Bayes"
      ]
    },
    {
      "cell_type": "markdown",
      "metadata": {
        "id": "AzLrcntYbAkG"
      },
      "source": [
        "https://www.youtube.com/watch?v=w5hN7vDV_7w&feature=youtu.be\r\n",
        "\r\n",
        "https://medium.com/machine-learning-101/chapter-1-supervised-learning-and-naive-bayes-classification-part-1-theory-8b9e361897d5\r\n",
        "\r\n",
        "Predicting Used Car Prices:\r\n",
        "\r\n",
        "https://towardsdatascience.com/predicting-used-car-prices-with-machine-learning-fea53811b1ab"
      ]
    },
    {
      "cell_type": "markdown",
      "metadata": {
        "id": "WbS5yabE_RjU"
      },
      "source": [
        "----------"
      ]
    },
    {
      "cell_type": "markdown",
      "metadata": {
        "id": "F-umXHTcRdRY"
      },
      "source": [
        "https://github.com/savanpatel/machine-learning-101\r\n",
        "\r\n",
        "https://github.com/savanpatel/machine-learning-101/blob/master/chapter1/code/classifier.py"
      ]
    },
    {
      "cell_type": "markdown",
      "metadata": {
        "id": "jv4oaXQ5-06C"
      },
      "source": [
        "----------"
      ]
    },
    {
      "cell_type": "markdown",
      "metadata": {
        "id": "X9A-fNjI-2wq"
      },
      "source": [
        "Breast Cancer:\r\n",
        "\r\n",
        "https://towardsdatascience.com/naive-bayes-classifier-explained-50f9723571ed"
      ]
    },
    {
      "cell_type": "markdown",
      "metadata": {
        "id": "u_QSlJyZ8yoP"
      },
      "source": [
        "- Naive Bayes is a supervised learning algorithm used for classification tasks. Hence, it is also called Naive Bayes Classifier.\r\n",
        "\r\n",
        "\r\n",
        "- As other supervised learning algorithms, naive bayes uses features to make a prediction on a target variable. The key difference is that naive bayes assumes that features are independent of each other and there is no correlation between features. However, this is not the case in real life. This naive assumption of features being uncorrelated is the reason why this algorithm is called “naive”."
      ]
    },
    {
      "cell_type": "markdown",
      "metadata": {
        "id": "sfGZTuw-_Imr"
      },
      "source": [
        "--------"
      ]
    },
    {
      "cell_type": "code",
      "metadata": {
        "id": "nN-o0quEaiho"
      },
      "source": [
        ""
      ],
      "execution_count": null,
      "outputs": []
    }
  ]
}