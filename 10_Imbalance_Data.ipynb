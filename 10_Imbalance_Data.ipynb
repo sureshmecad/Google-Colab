{
  "nbformat": 4,
  "nbformat_minor": 0,
  "metadata": {
    "colab": {
      "name": "10.Imbalance_Data.ipynb",
      "provenance": [],
      "authorship_tag": "ABX9TyMKHi2O2XhwNrPL4A56SGdT",
      "include_colab_link": true
    },
    "kernelspec": {
      "name": "python3",
      "display_name": "Python 3"
    }
  },
  "cells": [
    {
      "cell_type": "markdown",
      "metadata": {
        "id": "view-in-github",
        "colab_type": "text"
      },
      "source": [
        "<a href=\"https://colab.research.google.com/github/sureshmecad/Google-Colab/blob/master/10_Imbalance_Data.ipynb\" target=\"_parent\"><img src=\"https://colab.research.google.com/assets/colab-badge.svg\" alt=\"Open In Colab\"/></a>"
      ]
    },
    {
      "cell_type": "markdown",
      "metadata": {
        "id": "z2ItASvPnpFP"
      },
      "source": [
        "- **Binary Classification Problem:** A classification predictive modeling problem where all examples belong to **one of two classes.**\r\n",
        "\r\n",
        "- **Multiclass Classification Problem:** A classification predictive modeling problem where all examples belong to **one of three classes.**"
      ]
    },
    {
      "cell_type": "markdown",
      "metadata": {
        "id": "GLS4wdj-nur1"
      },
      "source": [
        "- Many real-world classification problems have an **imbalanced class distribution**, such as \r\n",
        "  \r\n",
        "  1.Fraud detection\r\n",
        "\r\n",
        "  2.spam detection\r\n",
        "\r\n",
        "  3.Churn prediction"
      ]
    },
    {
      "cell_type": "code",
      "metadata": {
        "id": "PDgekz_JnflQ"
      },
      "source": [
        ""
      ],
      "execution_count": null,
      "outputs": []
    },
    {
      "cell_type": "code",
      "metadata": {
        "id": "GrrYWwPmoaCL"
      },
      "source": [
        ""
      ],
      "execution_count": null,
      "outputs": []
    }
  ]
}