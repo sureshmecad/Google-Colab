{
  "nbformat": 4,
  "nbformat_minor": 0,
  "metadata": {
    "colab": {
      "name": "ANDROID_FEATURE-SELECTION.ipynb",
      "provenance": [],
      "collapsed_sections": [],
      "authorship_tag": "ABX9TyNqgrJsBIG5AhV9RZ1ti6Jd",
      "include_colab_link": true
    },
    "kernelspec": {
      "name": "python3",
      "display_name": "Python 3"
    },
    "language_info": {
      "name": "python"
    }
  },
  "cells": [
    {
      "cell_type": "markdown",
      "metadata": {
        "id": "view-in-github",
        "colab_type": "text"
      },
      "source": [
        "<a href=\"https://colab.research.google.com/github/sureshmecad/Google-Colab/blob/master/ANDROID_FEATURE_SELECTION.ipynb\" target=\"_parent\"><img src=\"https://colab.research.google.com/assets/colab-badge.svg\" alt=\"Open In Colab\"/></a>"
      ]
    },
    {
      "cell_type": "markdown",
      "metadata": {
        "id": "VZPZfo3gAbck"
      },
      "source": [
        "### **Feature Selection**\n",
        "\n",
        "#### **1) Filter Methods**\n",
        "\n",
        " - a) Missing Value Ratio Threshold\n",
        " - b) Variance Threshold\n",
        " - c) Chi2  Test\n",
        " - d) Anova Test\n",
        "\n",
        "#### **2) Wrapper Methods**\n",
        "\n",
        " - a) Recursive Feature Elemination\n",
        "\n",
        "##### **3) Embedded Method using random forest**\n",
        "\n",
        "##### **4) Handling Multicollinearity with VIF**\n",
        "\n",
        "##### **5) Feature Importance Method**\n",
        "\n",
        "##### **6) Feature Correlation Method**\n",
        "\n",
        "##### **7) PCA (Principal Component Analysis)**"
      ]
    },
    {
      "cell_type": "code",
      "metadata": {
        "id": "ht_oc2tefY4D"
      },
      "source": [
        "# Read Data\n",
        "import numpy as np                     # Linear Algebra (calculate the mean and standard deviation)\n",
        "import pandas as pd                    # manipulate data, data processing, load csv file I/O (e.g. pd.read_csv)\n",
        "\n",
        "# Visualization\n",
        "import seaborn as sns                  # Visualization using seaborn\n",
        "import matplotlib.pyplot as plt        # Visualization using matplotlib\n",
        "%matplotlib inline\n",
        "\n",
        "# style\n",
        "plt.style.use(\"fivethirtyeight\")       # Set Graphs Background style using matplotlib\n",
        "sns.set_style(\"darkgrid\")              # Set Graphs Background style using seaborn\n",
        "\n",
        "import warnings                        # Ignore Warnings\n",
        "warnings.filterwarnings(\"ignore\")"
      ],
      "execution_count": 1,
      "outputs": []
    },
    {
      "cell_type": "code",
      "metadata": {
        "id": "BNTMgL8ci6ES"
      },
      "source": [
        "from sklearn.model_selection import train_test_split\n",
        "from sklearn.metrics import accuracy_score, confusion_matrix, classification_report, cohen_kappa_score\n",
        "\n",
        "from sklearn.preprocessing import LabelEncoder\n",
        "\n",
        "from sklearn.feature_selection import SelectKBest\n",
        "from sklearn.feature_selection import chi2, f_regression\n",
        "from numpy import array\n",
        "\n",
        "from sklearn.ensemble import RandomForestClassifier\n",
        "from sklearn.tree import DecisionTreeClassifier\n",
        "from sklearn.naive_bayes import MultinomialNB\n",
        "from sklearn.neighbors import KNeighborsClassifier\n",
        "from sklearn.ensemble import AdaBoostClassifier\n",
        "import xgboost as xgb\n",
        "from xgboost import XGBClassifier, plot_importance\n",
        "from lightgbm import LGBMClassifier, plot_importance\n",
        "from sklearn.naive_bayes import GaussianNB"
      ],
      "execution_count": 2,
      "outputs": []
    },
    {
      "cell_type": "code",
      "metadata": {
        "colab": {
          "base_uri": "https://localhost:8080/"
        },
        "id": "xVeYieOyi9Fg",
        "outputId": "e2839941-ccab-46ad-dd7a-6e490fc023f6"
      },
      "source": [
        "from google.colab import drive\n",
        "drive.mount('/content/drive')"
      ],
      "execution_count": 3,
      "outputs": [
        {
          "output_type": "stream",
          "text": [
            "Mounted at /content/drive\n"
          ],
          "name": "stdout"
        }
      ]
    },
    {
      "cell_type": "code",
      "metadata": {
        "id": "xygXH3T4jRwc"
      },
      "source": [
        "Android = pd.read_csv(\"/content/drive/MyDrive/TMLC/Android.zip\")"
      ],
      "execution_count": 4,
      "outputs": []
    },
    {
      "cell_type": "code",
      "metadata": {
        "colab": {
          "base_uri": "https://localhost:8080/",
          "height": 522
        },
        "id": "rjtDbiGdi9Bp",
        "outputId": "c517212b-62ca-4841-f6ea-1329aa8f9a5a"
      },
      "source": [
        "Android.head(3)"
      ],
      "execution_count": 5,
      "outputs": [
        {
          "output_type": "execute_result",
          "data": {
            "text/html": [
              "<div>\n",
              "<style scoped>\n",
              "    .dataframe tbody tr th:only-of-type {\n",
              "        vertical-align: middle;\n",
              "    }\n",
              "\n",
              "    .dataframe tbody tr th {\n",
              "        vertical-align: top;\n",
              "    }\n",
              "\n",
              "    .dataframe thead th {\n",
              "        text-align: right;\n",
              "    }\n",
              "</style>\n",
              "<table border=\"1\" class=\"dataframe\">\n",
              "  <thead>\n",
              "    <tr style=\"text-align: right;\">\n",
              "      <th></th>\n",
              "      <th>App</th>\n",
              "      <th>Package</th>\n",
              "      <th>Category</th>\n",
              "      <th>Description</th>\n",
              "      <th>Rating</th>\n",
              "      <th>Number of ratings</th>\n",
              "      <th>Price</th>\n",
              "      <th>Related apps</th>\n",
              "      <th>Dangerous permissions count</th>\n",
              "      <th>Safe permissions count</th>\n",
              "      <th>Default : Access DRM content. (S)</th>\n",
              "      <th>Default : Access Email provider data (S)</th>\n",
              "      <th>Default : Access all system downloads (S)</th>\n",
              "      <th>Default : Access download manager. (S)</th>\n",
              "      <th>Default : Advanced download manager functions. (S)</th>\n",
              "      <th>Default : Audio File Access (S)</th>\n",
              "      <th>Default : Install DRM content. (S)</th>\n",
              "      <th>Default : Modify Google service configuration (S)</th>\n",
              "      <th>Default : Modify Google settings (S)</th>\n",
              "      <th>Default : Move application resources (S)</th>\n",
              "      <th>Default : Read Google settings (S)</th>\n",
              "      <th>Default : Send download notifications. (S)</th>\n",
              "      <th>Default : Voice Search Shortcuts (S)</th>\n",
              "      <th>Default : access SurfaceFlinger (S)</th>\n",
              "      <th>Default : access checkin properties (S)</th>\n",
              "      <th>Default : access the cache filesystem (S)</th>\n",
              "      <th>Default : access to passwords for Google accounts (S)</th>\n",
              "      <th>Default : act as an account authenticator (S)</th>\n",
              "      <th>Default : bind to a wallpaper (S)</th>\n",
              "      <th>Default : bind to an input method (S)</th>\n",
              "      <th>Default : change screen orientation (S)</th>\n",
              "      <th>Default : coarse (network-based) location (S)</th>\n",
              "      <th>Default : control location update notifications (S)</th>\n",
              "      <th>Default : control system backup and restore (S)</th>\n",
              "      <th>Default : delete applications (S)</th>\n",
              "      <th>Default : delete other applications' caches (S)</th>\n",
              "      <th>Default : delete other applications' data (S)</th>\n",
              "      <th>Default : directly call any phone numbers (S)</th>\n",
              "      <th>Default : directly install applications (S)</th>\n",
              "      <th>Default : disable or modify status bar (S)</th>\n",
              "      <th>...</th>\n",
              "      <th>Your accounts : access other Google services (D)</th>\n",
              "      <th>Your accounts : act as an account authenticator (D)</th>\n",
              "      <th>Your accounts : act as the AccountManagerService (S)</th>\n",
              "      <th>Your accounts : contacts data in Google accounts (D)</th>\n",
              "      <th>Your accounts : discover known accounts (S)</th>\n",
              "      <th>Your accounts : manage the accounts list (D)</th>\n",
              "      <th>Your accounts : read Google service configuration (S)</th>\n",
              "      <th>Your accounts : use the authentication credentials of an account (D)</th>\n",
              "      <th>Your accounts : view configured accounts (S)</th>\n",
              "      <th>Your location : access extra location provider commands (S)</th>\n",
              "      <th>Your location : coarse (network-based) location (D)</th>\n",
              "      <th>Your location : fine (GPS) location (D)</th>\n",
              "      <th>Your location : mock location sources for testing (D)</th>\n",
              "      <th>Your messages : Read Email attachments (D)</th>\n",
              "      <th>Your messages : Send Gmail (S)</th>\n",
              "      <th>Your messages : edit SMS or MMS (D)</th>\n",
              "      <th>Your messages : modify Gmail (D)</th>\n",
              "      <th>Your messages : read Gmail (D)</th>\n",
              "      <th>Your messages : read Gmail attachment previews (D)</th>\n",
              "      <th>Your messages : read SMS or MMS (D)</th>\n",
              "      <th>Your messages : read instant messages (D)</th>\n",
              "      <th>Your messages : receive MMS (D)</th>\n",
              "      <th>Your messages : receive SMS (D)</th>\n",
              "      <th>Your messages : receive WAP (D)</th>\n",
              "      <th>Your messages : send SMS-received broadcast (S)</th>\n",
              "      <th>Your messages : send WAP-PUSH-received broadcast (S)</th>\n",
              "      <th>Your messages : write instant messages (D)</th>\n",
              "      <th>Your personal information : add or modify calendar events and send email to guests (D)</th>\n",
              "      <th>Your personal information : choose widgets (S)</th>\n",
              "      <th>Your personal information : read Browser's history and bookmarks (D)</th>\n",
              "      <th>Your personal information : read calendar events (D)</th>\n",
              "      <th>Your personal information : read contact data (D)</th>\n",
              "      <th>Your personal information : read sensitive log data (D)</th>\n",
              "      <th>Your personal information : read user defined dictionary (D)</th>\n",
              "      <th>Your personal information : retrieve system internal state (S)</th>\n",
              "      <th>Your personal information : set alarm in alarm clock (S)</th>\n",
              "      <th>Your personal information : write Browser's history and bookmarks (D)</th>\n",
              "      <th>Your personal information : write contact data (D)</th>\n",
              "      <th>Your personal information : write to user defined dictionary (S)</th>\n",
              "      <th>Class</th>\n",
              "    </tr>\n",
              "  </thead>\n",
              "  <tbody>\n",
              "    <tr>\n",
              "      <th>0</th>\n",
              "      <td>Canada Post Corporation</td>\n",
              "      <td>com.canadapost.android</td>\n",
              "      <td>Business</td>\n",
              "      <td>Canada Post Mobile App gives you access to som...</td>\n",
              "      <td>3.1</td>\n",
              "      <td>77</td>\n",
              "      <td>0.0</td>\n",
              "      <td>{com.adaffix.pub.ca.android, com.kevinquan.gas...</td>\n",
              "      <td>7.0</td>\n",
              "      <td>1</td>\n",
              "      <td>0</td>\n",
              "      <td>0</td>\n",
              "      <td>0</td>\n",
              "      <td>0</td>\n",
              "      <td>0</td>\n",
              "      <td>0</td>\n",
              "      <td>0</td>\n",
              "      <td>0</td>\n",
              "      <td>0</td>\n",
              "      <td>0</td>\n",
              "      <td>0</td>\n",
              "      <td>0</td>\n",
              "      <td>0</td>\n",
              "      <td>0</td>\n",
              "      <td>0</td>\n",
              "      <td>0</td>\n",
              "      <td>0</td>\n",
              "      <td>0</td>\n",
              "      <td>0</td>\n",
              "      <td>0</td>\n",
              "      <td>0</td>\n",
              "      <td>0</td>\n",
              "      <td>0</td>\n",
              "      <td>0</td>\n",
              "      <td>0</td>\n",
              "      <td>0</td>\n",
              "      <td>0</td>\n",
              "      <td>0</td>\n",
              "      <td>0</td>\n",
              "      <td>0</td>\n",
              "      <td>...</td>\n",
              "      <td>0</td>\n",
              "      <td>0</td>\n",
              "      <td>0</td>\n",
              "      <td>0</td>\n",
              "      <td>0</td>\n",
              "      <td>0</td>\n",
              "      <td>0</td>\n",
              "      <td>0</td>\n",
              "      <td>0</td>\n",
              "      <td>0</td>\n",
              "      <td>0</td>\n",
              "      <td>1</td>\n",
              "      <td>0</td>\n",
              "      <td>0</td>\n",
              "      <td>0</td>\n",
              "      <td>0</td>\n",
              "      <td>0</td>\n",
              "      <td>0</td>\n",
              "      <td>0</td>\n",
              "      <td>0</td>\n",
              "      <td>0</td>\n",
              "      <td>0</td>\n",
              "      <td>0</td>\n",
              "      <td>0</td>\n",
              "      <td>0</td>\n",
              "      <td>0</td>\n",
              "      <td>0</td>\n",
              "      <td>0</td>\n",
              "      <td>0</td>\n",
              "      <td>0</td>\n",
              "      <td>0</td>\n",
              "      <td>1</td>\n",
              "      <td>0</td>\n",
              "      <td>0</td>\n",
              "      <td>0</td>\n",
              "      <td>0</td>\n",
              "      <td>0</td>\n",
              "      <td>1</td>\n",
              "      <td>0</td>\n",
              "      <td>0</td>\n",
              "    </tr>\n",
              "    <tr>\n",
              "      <th>1</th>\n",
              "      <td>Word Farm</td>\n",
              "      <td>com.realcasualgames.words</td>\n",
              "      <td>Brain &amp; Puzzle</td>\n",
              "      <td>Speed and strategy combine in this exciting wo...</td>\n",
              "      <td>4.3</td>\n",
              "      <td>199</td>\n",
              "      <td>0.0</td>\n",
              "      <td>{air.com.zubawing.FastWordLite, com.joybits.do...</td>\n",
              "      <td>3.0</td>\n",
              "      <td>2</td>\n",
              "      <td>0</td>\n",
              "      <td>0</td>\n",
              "      <td>0</td>\n",
              "      <td>0</td>\n",
              "      <td>0</td>\n",
              "      <td>0</td>\n",
              "      <td>0</td>\n",
              "      <td>0</td>\n",
              "      <td>0</td>\n",
              "      <td>0</td>\n",
              "      <td>0</td>\n",
              "      <td>0</td>\n",
              "      <td>0</td>\n",
              "      <td>0</td>\n",
              "      <td>0</td>\n",
              "      <td>0</td>\n",
              "      <td>0</td>\n",
              "      <td>0</td>\n",
              "      <td>0</td>\n",
              "      <td>0</td>\n",
              "      <td>0</td>\n",
              "      <td>0</td>\n",
              "      <td>0</td>\n",
              "      <td>0</td>\n",
              "      <td>0</td>\n",
              "      <td>0</td>\n",
              "      <td>0</td>\n",
              "      <td>0</td>\n",
              "      <td>0</td>\n",
              "      <td>0</td>\n",
              "      <td>...</td>\n",
              "      <td>0</td>\n",
              "      <td>0</td>\n",
              "      <td>0</td>\n",
              "      <td>0</td>\n",
              "      <td>1</td>\n",
              "      <td>0</td>\n",
              "      <td>0</td>\n",
              "      <td>0</td>\n",
              "      <td>0</td>\n",
              "      <td>0</td>\n",
              "      <td>0</td>\n",
              "      <td>0</td>\n",
              "      <td>0</td>\n",
              "      <td>0</td>\n",
              "      <td>0</td>\n",
              "      <td>0</td>\n",
              "      <td>0</td>\n",
              "      <td>0</td>\n",
              "      <td>0</td>\n",
              "      <td>0</td>\n",
              "      <td>0</td>\n",
              "      <td>0</td>\n",
              "      <td>0</td>\n",
              "      <td>0</td>\n",
              "      <td>0</td>\n",
              "      <td>0</td>\n",
              "      <td>0</td>\n",
              "      <td>0</td>\n",
              "      <td>0</td>\n",
              "      <td>0</td>\n",
              "      <td>0</td>\n",
              "      <td>0</td>\n",
              "      <td>0</td>\n",
              "      <td>0</td>\n",
              "      <td>0</td>\n",
              "      <td>0</td>\n",
              "      <td>0</td>\n",
              "      <td>0</td>\n",
              "      <td>0</td>\n",
              "      <td>0</td>\n",
              "    </tr>\n",
              "    <tr>\n",
              "      <th>2</th>\n",
              "      <td>Fortunes of War FREE</td>\n",
              "      <td>fortunesofwar.free</td>\n",
              "      <td>Cards &amp; Casino</td>\n",
              "      <td>Fortunes of War is a fast-paced, easy to learn...</td>\n",
              "      <td>4.1</td>\n",
              "      <td>243</td>\n",
              "      <td>0.0</td>\n",
              "      <td>{com.kevinquan.condado, hu.monsta.pazaak, net....</td>\n",
              "      <td>1.0</td>\n",
              "      <td>1</td>\n",
              "      <td>0</td>\n",
              "      <td>0</td>\n",
              "      <td>0</td>\n",
              "      <td>0</td>\n",
              "      <td>0</td>\n",
              "      <td>0</td>\n",
              "      <td>0</td>\n",
              "      <td>0</td>\n",
              "      <td>0</td>\n",
              "      <td>0</td>\n",
              "      <td>0</td>\n",
              "      <td>0</td>\n",
              "      <td>0</td>\n",
              "      <td>0</td>\n",
              "      <td>0</td>\n",
              "      <td>0</td>\n",
              "      <td>0</td>\n",
              "      <td>0</td>\n",
              "      <td>0</td>\n",
              "      <td>0</td>\n",
              "      <td>0</td>\n",
              "      <td>0</td>\n",
              "      <td>0</td>\n",
              "      <td>0</td>\n",
              "      <td>0</td>\n",
              "      <td>0</td>\n",
              "      <td>0</td>\n",
              "      <td>0</td>\n",
              "      <td>0</td>\n",
              "      <td>0</td>\n",
              "      <td>...</td>\n",
              "      <td>0</td>\n",
              "      <td>0</td>\n",
              "      <td>0</td>\n",
              "      <td>0</td>\n",
              "      <td>0</td>\n",
              "      <td>0</td>\n",
              "      <td>0</td>\n",
              "      <td>0</td>\n",
              "      <td>0</td>\n",
              "      <td>0</td>\n",
              "      <td>0</td>\n",
              "      <td>0</td>\n",
              "      <td>0</td>\n",
              "      <td>0</td>\n",
              "      <td>0</td>\n",
              "      <td>0</td>\n",
              "      <td>0</td>\n",
              "      <td>0</td>\n",
              "      <td>0</td>\n",
              "      <td>0</td>\n",
              "      <td>0</td>\n",
              "      <td>0</td>\n",
              "      <td>0</td>\n",
              "      <td>0</td>\n",
              "      <td>0</td>\n",
              "      <td>0</td>\n",
              "      <td>0</td>\n",
              "      <td>0</td>\n",
              "      <td>0</td>\n",
              "      <td>0</td>\n",
              "      <td>0</td>\n",
              "      <td>0</td>\n",
              "      <td>0</td>\n",
              "      <td>0</td>\n",
              "      <td>0</td>\n",
              "      <td>0</td>\n",
              "      <td>0</td>\n",
              "      <td>0</td>\n",
              "      <td>0</td>\n",
              "      <td>0</td>\n",
              "    </tr>\n",
              "  </tbody>\n",
              "</table>\n",
              "<p>3 rows × 184 columns</p>\n",
              "</div>"
            ],
            "text/plain": [
              "                       App  ... Class\n",
              "0  Canada Post Corporation  ...     0\n",
              "1                Word Farm  ...     0\n",
              "2     Fortunes of War FREE  ...     0\n",
              "\n",
              "[3 rows x 184 columns]"
            ]
          },
          "metadata": {
            "tags": []
          },
          "execution_count": 5
        }
      ]
    },
    {
      "cell_type": "code",
      "metadata": {
        "colab": {
          "base_uri": "https://localhost:8080/"
        },
        "id": "gWMrdqT-jWAk",
        "outputId": "31d27bc8-72d7-4c93-a7a5-92890b0b37e7"
      },
      "source": [
        "Android.shape"
      ],
      "execution_count": 6,
      "outputs": [
        {
          "output_type": "execute_result",
          "data": {
            "text/plain": [
              "(29999, 184)"
            ]
          },
          "metadata": {
            "tags": []
          },
          "execution_count": 6
        }
      ]
    },
    {
      "cell_type": "code",
      "metadata": {
        "id": "Q0HUJ7lc-smj"
      },
      "source": [
        "train_original = Android.copy()"
      ],
      "execution_count": 7,
      "outputs": []
    },
    {
      "cell_type": "markdown",
      "metadata": {
        "id": "MJk3-dkyAJsj"
      },
      "source": [
        "### **Missing Values**"
      ]
    },
    {
      "cell_type": "code",
      "metadata": {
        "id": "GQgl7n0J-si1"
      },
      "source": [
        "Android['Related apps'] = Android['Related apps'].fillna(Android['Related apps'].mode()[0])\n",
        "\n",
        "Android['Dangerous permissions count'] = Android['Dangerous permissions count'].fillna(Android['Dangerous permissions count'].median())\n",
        "\n",
        "Android['Description'] = Android['Description'].fillna(Android['Description'].mode()[0])\n",
        "\n",
        "Android['App'] = Android['App'].fillna(Android['App'].mode()[0])"
      ],
      "execution_count": 8,
      "outputs": []
    },
    {
      "cell_type": "markdown",
      "metadata": {
        "id": "3I5QubNGAQ1E"
      },
      "source": [
        "### **Modeling**"
      ]
    },
    {
      "cell_type": "code",
      "metadata": {
        "id": "hoB4JZp6-_Sm"
      },
      "source": [
        "List = ['App', 'Package', 'Category', 'Description', 'Related apps', 'Class']"
      ],
      "execution_count": 9,
      "outputs": []
    },
    {
      "cell_type": "code",
      "metadata": {
        "id": "fdop3gOm_TS3"
      },
      "source": [
        "X = Android.drop(columns=List)\n",
        "y = Android['Class']"
      ],
      "execution_count": 10,
      "outputs": []
    },
    {
      "cell_type": "code",
      "metadata": {
        "id": "EIeNN5Us_TJ3"
      },
      "source": [
        "X_train, X_test, y_train, y_test = train_test_split(X, y, test_size=0.2, random_state=0)"
      ],
      "execution_count": 11,
      "outputs": []
    },
    {
      "cell_type": "markdown",
      "metadata": {
        "id": "XTf01VkMcbPv"
      },
      "source": [
        "--------"
      ]
    },
    {
      "cell_type": "markdown",
      "metadata": {
        "id": "Gsl7CGD-cRo_"
      },
      "source": [
        "### **1.b) Variance Threshold**"
      ]
    },
    {
      "cell_type": "code",
      "metadata": {
        "colab": {
          "base_uri": "https://localhost:8080/"
        },
        "id": "nl4IINzhrzf0",
        "outputId": "2178666e-ce10-4a50-a4e9-940a18d37dc1"
      },
      "source": [
        "from sklearn.feature_selection import VarianceThreshold\n",
        "selector = VarianceThreshold(1)\n",
        "selector.fit(X)\n",
        "X.columns[selector.get_support()]"
      ],
      "execution_count": null,
      "outputs": [
        {
          "output_type": "execute_result",
          "data": {
            "text/plain": [
              "Index(['Rating', 'Number of ratings', 'Price', 'Dangerous permissions count',\n",
              "       'Safe permissions count'],\n",
              "      dtype='object')"
            ]
          },
          "metadata": {
            "tags": []
          },
          "execution_count": 12
        }
      ]
    },
    {
      "cell_type": "code",
      "metadata": {
        "colab": {
          "base_uri": "https://localhost:8080/"
        },
        "id": "E8w4ejcDcT4_",
        "outputId": "12bbcdf6-cd9a-46ca-d8da-e556c2434049"
      },
      "source": [
        "# Return  the variance for X along the specified axis=0.\n",
        "X.var(axis=0)"
      ],
      "execution_count": null,
      "outputs": [
        {
          "output_type": "execute_result",
          "data": {
            "text/plain": [
              "Rating                                                                   2.029728e+00\n",
              "Number of ratings                                                        2.103964e+09\n",
              "Price                                                                    1.038528e+01\n",
              "Dangerous permissions count                                              9.263351e+00\n",
              "Safe permissions count                                                   2.321025e+00\n",
              "                                                                             ...     \n",
              "Your personal information : retrieve system internal state (S)           5.663833e-04\n",
              "Your personal information : set alarm in alarm clock (S)                 3.998667e-04\n",
              "Your personal information : write Browser's history and bookmarks (D)    1.629329e-02\n",
              "Your personal information : write contact data (D)                       3.815709e-02\n",
              "Your personal information : write to user defined dictionary (S)         1.497850e-03\n",
              "Length: 178, dtype: float64"
            ]
          },
          "metadata": {
            "tags": []
          },
          "execution_count": 19
        }
      ]
    },
    {
      "cell_type": "code",
      "metadata": {
        "id": "zaKRAMuUcUvH"
      },
      "source": [
        "# import minmax_scale\n",
        "from sklearn.preprocessing import MinMaxScaler\n",
        "\n",
        "# use minmax scale with feature_range=(0,10) and columns=X.columns,to scale the features of dataframe and store them into X_scaled_df \n",
        "scaler = MinMaxScaler(feature_range=(0, 10))                           \n",
        "X_scaled_df = scaler.fit_transform(X)"
      ],
      "execution_count": null,
      "outputs": []
    },
    {
      "cell_type": "code",
      "metadata": {
        "colab": {
          "base_uri": "https://localhost:8080/",
          "height": 401
        },
        "id": "WCGJJOBvcUrP",
        "outputId": "157b3479-8e1c-4109-a046-b3829dc2d27a"
      },
      "source": [
        "# return X_scaled_df\n",
        "X_scaled_df = pd.DataFrame(X_scaled_df, columns=X.columns)\n",
        "X_scaled_df.head()"
      ],
      "execution_count": null,
      "outputs": [
        {
          "output_type": "execute_result",
          "data": {
            "text/html": [
              "<div>\n",
              "<style scoped>\n",
              "    .dataframe tbody tr th:only-of-type {\n",
              "        vertical-align: middle;\n",
              "    }\n",
              "\n",
              "    .dataframe tbody tr th {\n",
              "        vertical-align: top;\n",
              "    }\n",
              "\n",
              "    .dataframe thead th {\n",
              "        text-align: right;\n",
              "    }\n",
              "</style>\n",
              "<table border=\"1\" class=\"dataframe\">\n",
              "  <thead>\n",
              "    <tr style=\"text-align: right;\">\n",
              "      <th></th>\n",
              "      <th>Rating</th>\n",
              "      <th>Number of ratings</th>\n",
              "      <th>Price</th>\n",
              "      <th>Dangerous permissions count</th>\n",
              "      <th>Safe permissions count</th>\n",
              "      <th>Default : Access DRM content. (S)</th>\n",
              "      <th>Default : Access Email provider data (S)</th>\n",
              "      <th>Default : Access all system downloads (S)</th>\n",
              "      <th>Default : Access download manager. (S)</th>\n",
              "      <th>Default : Advanced download manager functions. (S)</th>\n",
              "      <th>Default : Audio File Access (S)</th>\n",
              "      <th>Default : Install DRM content. (S)</th>\n",
              "      <th>Default : Modify Google service configuration (S)</th>\n",
              "      <th>Default : Modify Google settings (S)</th>\n",
              "      <th>Default : Move application resources (S)</th>\n",
              "      <th>Default : Read Google settings (S)</th>\n",
              "      <th>Default : Send download notifications. (S)</th>\n",
              "      <th>Default : Voice Search Shortcuts (S)</th>\n",
              "      <th>Default : access SurfaceFlinger (S)</th>\n",
              "      <th>Default : access checkin properties (S)</th>\n",
              "      <th>Default : access the cache filesystem (S)</th>\n",
              "      <th>Default : access to passwords for Google accounts (S)</th>\n",
              "      <th>Default : act as an account authenticator (S)</th>\n",
              "      <th>Default : bind to a wallpaper (S)</th>\n",
              "      <th>Default : bind to an input method (S)</th>\n",
              "      <th>Default : change screen orientation (S)</th>\n",
              "      <th>Default : coarse (network-based) location (S)</th>\n",
              "      <th>Default : control location update notifications (S)</th>\n",
              "      <th>Default : control system backup and restore (S)</th>\n",
              "      <th>Default : delete applications (S)</th>\n",
              "      <th>Default : delete other applications' caches (S)</th>\n",
              "      <th>Default : delete other applications' data (S)</th>\n",
              "      <th>Default : directly call any phone numbers (S)</th>\n",
              "      <th>Default : directly install applications (S)</th>\n",
              "      <th>Default : disable or modify status bar (S)</th>\n",
              "      <th>Default : discover known accounts (S)</th>\n",
              "      <th>Default : display unauthorized windows (S)</th>\n",
              "      <th>Default : enable or disable application components (S)</th>\n",
              "      <th>Default : force application to close (S)</th>\n",
              "      <th>Default : force device reboot (S)</th>\n",
              "      <th>...</th>\n",
              "      <th>Your accounts : access all Google services (S)</th>\n",
              "      <th>Your accounts : access other Google services (D)</th>\n",
              "      <th>Your accounts : act as an account authenticator (D)</th>\n",
              "      <th>Your accounts : act as the AccountManagerService (S)</th>\n",
              "      <th>Your accounts : contacts data in Google accounts (D)</th>\n",
              "      <th>Your accounts : discover known accounts (S)</th>\n",
              "      <th>Your accounts : manage the accounts list (D)</th>\n",
              "      <th>Your accounts : read Google service configuration (S)</th>\n",
              "      <th>Your accounts : use the authentication credentials of an account (D)</th>\n",
              "      <th>Your accounts : view configured accounts (S)</th>\n",
              "      <th>Your location : access extra location provider commands (S)</th>\n",
              "      <th>Your location : coarse (network-based) location (D)</th>\n",
              "      <th>Your location : fine (GPS) location (D)</th>\n",
              "      <th>Your location : mock location sources for testing (D)</th>\n",
              "      <th>Your messages : Read Email attachments (D)</th>\n",
              "      <th>Your messages : Send Gmail (S)</th>\n",
              "      <th>Your messages : edit SMS or MMS (D)</th>\n",
              "      <th>Your messages : modify Gmail (D)</th>\n",
              "      <th>Your messages : read Gmail (D)</th>\n",
              "      <th>Your messages : read Gmail attachment previews (D)</th>\n",
              "      <th>Your messages : read SMS or MMS (D)</th>\n",
              "      <th>Your messages : read instant messages (D)</th>\n",
              "      <th>Your messages : receive MMS (D)</th>\n",
              "      <th>Your messages : receive SMS (D)</th>\n",
              "      <th>Your messages : receive WAP (D)</th>\n",
              "      <th>Your messages : send SMS-received broadcast (S)</th>\n",
              "      <th>Your messages : send WAP-PUSH-received broadcast (S)</th>\n",
              "      <th>Your messages : write instant messages (D)</th>\n",
              "      <th>Your personal information : add or modify calendar events and send email to guests (D)</th>\n",
              "      <th>Your personal information : choose widgets (S)</th>\n",
              "      <th>Your personal information : read Browser's history and bookmarks (D)</th>\n",
              "      <th>Your personal information : read calendar events (D)</th>\n",
              "      <th>Your personal information : read contact data (D)</th>\n",
              "      <th>Your personal information : read sensitive log data (D)</th>\n",
              "      <th>Your personal information : read user defined dictionary (D)</th>\n",
              "      <th>Your personal information : retrieve system internal state (S)</th>\n",
              "      <th>Your personal information : set alarm in alarm clock (S)</th>\n",
              "      <th>Your personal information : write Browser's history and bookmarks (D)</th>\n",
              "      <th>Your personal information : write contact data (D)</th>\n",
              "      <th>Your personal information : write to user defined dictionary (S)</th>\n",
              "    </tr>\n",
              "  </thead>\n",
              "  <tbody>\n",
              "    <tr>\n",
              "      <th>0</th>\n",
              "      <td>6.2</td>\n",
              "      <td>0.000403</td>\n",
              "      <td>0.000000</td>\n",
              "      <td>2.333333</td>\n",
              "      <td>0.625</td>\n",
              "      <td>0.0</td>\n",
              "      <td>0.0</td>\n",
              "      <td>0.0</td>\n",
              "      <td>0.0</td>\n",
              "      <td>0.0</td>\n",
              "      <td>0.0</td>\n",
              "      <td>0.0</td>\n",
              "      <td>0.0</td>\n",
              "      <td>0.0</td>\n",
              "      <td>0.0</td>\n",
              "      <td>0.0</td>\n",
              "      <td>0.0</td>\n",
              "      <td>0.0</td>\n",
              "      <td>0.0</td>\n",
              "      <td>0.0</td>\n",
              "      <td>0.0</td>\n",
              "      <td>0.0</td>\n",
              "      <td>0.0</td>\n",
              "      <td>0.0</td>\n",
              "      <td>0.0</td>\n",
              "      <td>0.0</td>\n",
              "      <td>0.0</td>\n",
              "      <td>0.0</td>\n",
              "      <td>0.0</td>\n",
              "      <td>0.0</td>\n",
              "      <td>0.0</td>\n",
              "      <td>0.0</td>\n",
              "      <td>0.0</td>\n",
              "      <td>0.0</td>\n",
              "      <td>0.0</td>\n",
              "      <td>0.0</td>\n",
              "      <td>0.0</td>\n",
              "      <td>0.0</td>\n",
              "      <td>0.0</td>\n",
              "      <td>0.0</td>\n",
              "      <td>...</td>\n",
              "      <td>0.0</td>\n",
              "      <td>0.0</td>\n",
              "      <td>0.0</td>\n",
              "      <td>0.0</td>\n",
              "      <td>0.0</td>\n",
              "      <td>0.0</td>\n",
              "      <td>0.0</td>\n",
              "      <td>0.0</td>\n",
              "      <td>0.0</td>\n",
              "      <td>0.0</td>\n",
              "      <td>0.0</td>\n",
              "      <td>0.0</td>\n",
              "      <td>10.0</td>\n",
              "      <td>0.0</td>\n",
              "      <td>0.0</td>\n",
              "      <td>0.0</td>\n",
              "      <td>0.0</td>\n",
              "      <td>0.0</td>\n",
              "      <td>0.0</td>\n",
              "      <td>0.0</td>\n",
              "      <td>0.0</td>\n",
              "      <td>0.0</td>\n",
              "      <td>0.0</td>\n",
              "      <td>0.0</td>\n",
              "      <td>0.0</td>\n",
              "      <td>0.0</td>\n",
              "      <td>0.0</td>\n",
              "      <td>0.0</td>\n",
              "      <td>0.0</td>\n",
              "      <td>0.0</td>\n",
              "      <td>0.0</td>\n",
              "      <td>0.0</td>\n",
              "      <td>10.0</td>\n",
              "      <td>0.0</td>\n",
              "      <td>0.0</td>\n",
              "      <td>0.0</td>\n",
              "      <td>0.0</td>\n",
              "      <td>0.0</td>\n",
              "      <td>10.0</td>\n",
              "      <td>0.0</td>\n",
              "    </tr>\n",
              "    <tr>\n",
              "      <th>1</th>\n",
              "      <td>8.6</td>\n",
              "      <td>0.001043</td>\n",
              "      <td>0.000000</td>\n",
              "      <td>1.000000</td>\n",
              "      <td>1.250</td>\n",
              "      <td>0.0</td>\n",
              "      <td>0.0</td>\n",
              "      <td>0.0</td>\n",
              "      <td>0.0</td>\n",
              "      <td>0.0</td>\n",
              "      <td>0.0</td>\n",
              "      <td>0.0</td>\n",
              "      <td>0.0</td>\n",
              "      <td>0.0</td>\n",
              "      <td>0.0</td>\n",
              "      <td>0.0</td>\n",
              "      <td>0.0</td>\n",
              "      <td>0.0</td>\n",
              "      <td>0.0</td>\n",
              "      <td>0.0</td>\n",
              "      <td>0.0</td>\n",
              "      <td>0.0</td>\n",
              "      <td>0.0</td>\n",
              "      <td>0.0</td>\n",
              "      <td>0.0</td>\n",
              "      <td>0.0</td>\n",
              "      <td>0.0</td>\n",
              "      <td>0.0</td>\n",
              "      <td>0.0</td>\n",
              "      <td>0.0</td>\n",
              "      <td>0.0</td>\n",
              "      <td>0.0</td>\n",
              "      <td>0.0</td>\n",
              "      <td>0.0</td>\n",
              "      <td>0.0</td>\n",
              "      <td>0.0</td>\n",
              "      <td>0.0</td>\n",
              "      <td>0.0</td>\n",
              "      <td>0.0</td>\n",
              "      <td>0.0</td>\n",
              "      <td>...</td>\n",
              "      <td>0.0</td>\n",
              "      <td>0.0</td>\n",
              "      <td>0.0</td>\n",
              "      <td>0.0</td>\n",
              "      <td>0.0</td>\n",
              "      <td>10.0</td>\n",
              "      <td>0.0</td>\n",
              "      <td>0.0</td>\n",
              "      <td>0.0</td>\n",
              "      <td>0.0</td>\n",
              "      <td>0.0</td>\n",
              "      <td>0.0</td>\n",
              "      <td>0.0</td>\n",
              "      <td>0.0</td>\n",
              "      <td>0.0</td>\n",
              "      <td>0.0</td>\n",
              "      <td>0.0</td>\n",
              "      <td>0.0</td>\n",
              "      <td>0.0</td>\n",
              "      <td>0.0</td>\n",
              "      <td>0.0</td>\n",
              "      <td>0.0</td>\n",
              "      <td>0.0</td>\n",
              "      <td>0.0</td>\n",
              "      <td>0.0</td>\n",
              "      <td>0.0</td>\n",
              "      <td>0.0</td>\n",
              "      <td>0.0</td>\n",
              "      <td>0.0</td>\n",
              "      <td>0.0</td>\n",
              "      <td>0.0</td>\n",
              "      <td>0.0</td>\n",
              "      <td>0.0</td>\n",
              "      <td>0.0</td>\n",
              "      <td>0.0</td>\n",
              "      <td>0.0</td>\n",
              "      <td>0.0</td>\n",
              "      <td>0.0</td>\n",
              "      <td>0.0</td>\n",
              "      <td>0.0</td>\n",
              "    </tr>\n",
              "    <tr>\n",
              "      <th>2</th>\n",
              "      <td>8.2</td>\n",
              "      <td>0.001273</td>\n",
              "      <td>0.000000</td>\n",
              "      <td>0.333333</td>\n",
              "      <td>0.625</td>\n",
              "      <td>0.0</td>\n",
              "      <td>0.0</td>\n",
              "      <td>0.0</td>\n",
              "      <td>0.0</td>\n",
              "      <td>0.0</td>\n",
              "      <td>0.0</td>\n",
              "      <td>0.0</td>\n",
              "      <td>0.0</td>\n",
              "      <td>0.0</td>\n",
              "      <td>0.0</td>\n",
              "      <td>0.0</td>\n",
              "      <td>0.0</td>\n",
              "      <td>0.0</td>\n",
              "      <td>0.0</td>\n",
              "      <td>0.0</td>\n",
              "      <td>0.0</td>\n",
              "      <td>0.0</td>\n",
              "      <td>0.0</td>\n",
              "      <td>0.0</td>\n",
              "      <td>0.0</td>\n",
              "      <td>0.0</td>\n",
              "      <td>0.0</td>\n",
              "      <td>0.0</td>\n",
              "      <td>0.0</td>\n",
              "      <td>0.0</td>\n",
              "      <td>0.0</td>\n",
              "      <td>0.0</td>\n",
              "      <td>0.0</td>\n",
              "      <td>0.0</td>\n",
              "      <td>0.0</td>\n",
              "      <td>0.0</td>\n",
              "      <td>0.0</td>\n",
              "      <td>0.0</td>\n",
              "      <td>0.0</td>\n",
              "      <td>0.0</td>\n",
              "      <td>...</td>\n",
              "      <td>0.0</td>\n",
              "      <td>0.0</td>\n",
              "      <td>0.0</td>\n",
              "      <td>0.0</td>\n",
              "      <td>0.0</td>\n",
              "      <td>0.0</td>\n",
              "      <td>0.0</td>\n",
              "      <td>0.0</td>\n",
              "      <td>0.0</td>\n",
              "      <td>0.0</td>\n",
              "      <td>0.0</td>\n",
              "      <td>0.0</td>\n",
              "      <td>0.0</td>\n",
              "      <td>0.0</td>\n",
              "      <td>0.0</td>\n",
              "      <td>0.0</td>\n",
              "      <td>0.0</td>\n",
              "      <td>0.0</td>\n",
              "      <td>0.0</td>\n",
              "      <td>0.0</td>\n",
              "      <td>0.0</td>\n",
              "      <td>0.0</td>\n",
              "      <td>0.0</td>\n",
              "      <td>0.0</td>\n",
              "      <td>0.0</td>\n",
              "      <td>0.0</td>\n",
              "      <td>0.0</td>\n",
              "      <td>0.0</td>\n",
              "      <td>0.0</td>\n",
              "      <td>0.0</td>\n",
              "      <td>0.0</td>\n",
              "      <td>0.0</td>\n",
              "      <td>0.0</td>\n",
              "      <td>0.0</td>\n",
              "      <td>0.0</td>\n",
              "      <td>0.0</td>\n",
              "      <td>0.0</td>\n",
              "      <td>0.0</td>\n",
              "      <td>0.0</td>\n",
              "      <td>0.0</td>\n",
              "    </tr>\n",
              "    <tr>\n",
              "      <th>3</th>\n",
              "      <td>7.2</td>\n",
              "      <td>0.013565</td>\n",
              "      <td>0.000000</td>\n",
              "      <td>0.000000</td>\n",
              "      <td>0.000</td>\n",
              "      <td>0.0</td>\n",
              "      <td>0.0</td>\n",
              "      <td>0.0</td>\n",
              "      <td>0.0</td>\n",
              "      <td>0.0</td>\n",
              "      <td>0.0</td>\n",
              "      <td>0.0</td>\n",
              "      <td>0.0</td>\n",
              "      <td>0.0</td>\n",
              "      <td>0.0</td>\n",
              "      <td>0.0</td>\n",
              "      <td>0.0</td>\n",
              "      <td>0.0</td>\n",
              "      <td>0.0</td>\n",
              "      <td>0.0</td>\n",
              "      <td>0.0</td>\n",
              "      <td>0.0</td>\n",
              "      <td>0.0</td>\n",
              "      <td>0.0</td>\n",
              "      <td>0.0</td>\n",
              "      <td>0.0</td>\n",
              "      <td>0.0</td>\n",
              "      <td>0.0</td>\n",
              "      <td>0.0</td>\n",
              "      <td>0.0</td>\n",
              "      <td>0.0</td>\n",
              "      <td>0.0</td>\n",
              "      <td>0.0</td>\n",
              "      <td>0.0</td>\n",
              "      <td>0.0</td>\n",
              "      <td>0.0</td>\n",
              "      <td>0.0</td>\n",
              "      <td>0.0</td>\n",
              "      <td>0.0</td>\n",
              "      <td>0.0</td>\n",
              "      <td>...</td>\n",
              "      <td>0.0</td>\n",
              "      <td>0.0</td>\n",
              "      <td>0.0</td>\n",
              "      <td>0.0</td>\n",
              "      <td>0.0</td>\n",
              "      <td>0.0</td>\n",
              "      <td>0.0</td>\n",
              "      <td>0.0</td>\n",
              "      <td>0.0</td>\n",
              "      <td>0.0</td>\n",
              "      <td>0.0</td>\n",
              "      <td>0.0</td>\n",
              "      <td>0.0</td>\n",
              "      <td>0.0</td>\n",
              "      <td>0.0</td>\n",
              "      <td>0.0</td>\n",
              "      <td>0.0</td>\n",
              "      <td>0.0</td>\n",
              "      <td>0.0</td>\n",
              "      <td>0.0</td>\n",
              "      <td>0.0</td>\n",
              "      <td>0.0</td>\n",
              "      <td>0.0</td>\n",
              "      <td>0.0</td>\n",
              "      <td>0.0</td>\n",
              "      <td>0.0</td>\n",
              "      <td>0.0</td>\n",
              "      <td>0.0</td>\n",
              "      <td>0.0</td>\n",
              "      <td>0.0</td>\n",
              "      <td>0.0</td>\n",
              "      <td>0.0</td>\n",
              "      <td>0.0</td>\n",
              "      <td>0.0</td>\n",
              "      <td>0.0</td>\n",
              "      <td>0.0</td>\n",
              "      <td>0.0</td>\n",
              "      <td>0.0</td>\n",
              "      <td>0.0</td>\n",
              "      <td>0.0</td>\n",
              "    </tr>\n",
              "    <tr>\n",
              "      <th>4</th>\n",
              "      <td>0.0</td>\n",
              "      <td>0.000000</td>\n",
              "      <td>0.378946</td>\n",
              "      <td>0.333333</td>\n",
              "      <td>0.000</td>\n",
              "      <td>0.0</td>\n",
              "      <td>0.0</td>\n",
              "      <td>0.0</td>\n",
              "      <td>0.0</td>\n",
              "      <td>0.0</td>\n",
              "      <td>0.0</td>\n",
              "      <td>0.0</td>\n",
              "      <td>0.0</td>\n",
              "      <td>0.0</td>\n",
              "      <td>0.0</td>\n",
              "      <td>0.0</td>\n",
              "      <td>0.0</td>\n",
              "      <td>0.0</td>\n",
              "      <td>0.0</td>\n",
              "      <td>0.0</td>\n",
              "      <td>0.0</td>\n",
              "      <td>0.0</td>\n",
              "      <td>0.0</td>\n",
              "      <td>0.0</td>\n",
              "      <td>0.0</td>\n",
              "      <td>0.0</td>\n",
              "      <td>0.0</td>\n",
              "      <td>0.0</td>\n",
              "      <td>0.0</td>\n",
              "      <td>0.0</td>\n",
              "      <td>0.0</td>\n",
              "      <td>0.0</td>\n",
              "      <td>0.0</td>\n",
              "      <td>0.0</td>\n",
              "      <td>0.0</td>\n",
              "      <td>0.0</td>\n",
              "      <td>0.0</td>\n",
              "      <td>0.0</td>\n",
              "      <td>0.0</td>\n",
              "      <td>0.0</td>\n",
              "      <td>...</td>\n",
              "      <td>0.0</td>\n",
              "      <td>0.0</td>\n",
              "      <td>0.0</td>\n",
              "      <td>0.0</td>\n",
              "      <td>0.0</td>\n",
              "      <td>0.0</td>\n",
              "      <td>0.0</td>\n",
              "      <td>0.0</td>\n",
              "      <td>0.0</td>\n",
              "      <td>0.0</td>\n",
              "      <td>0.0</td>\n",
              "      <td>0.0</td>\n",
              "      <td>0.0</td>\n",
              "      <td>0.0</td>\n",
              "      <td>0.0</td>\n",
              "      <td>0.0</td>\n",
              "      <td>0.0</td>\n",
              "      <td>0.0</td>\n",
              "      <td>0.0</td>\n",
              "      <td>0.0</td>\n",
              "      <td>0.0</td>\n",
              "      <td>0.0</td>\n",
              "      <td>0.0</td>\n",
              "      <td>0.0</td>\n",
              "      <td>0.0</td>\n",
              "      <td>0.0</td>\n",
              "      <td>0.0</td>\n",
              "      <td>0.0</td>\n",
              "      <td>0.0</td>\n",
              "      <td>0.0</td>\n",
              "      <td>0.0</td>\n",
              "      <td>0.0</td>\n",
              "      <td>0.0</td>\n",
              "      <td>0.0</td>\n",
              "      <td>0.0</td>\n",
              "      <td>0.0</td>\n",
              "      <td>0.0</td>\n",
              "      <td>0.0</td>\n",
              "      <td>0.0</td>\n",
              "      <td>0.0</td>\n",
              "    </tr>\n",
              "  </tbody>\n",
              "</table>\n",
              "<p>5 rows × 178 columns</p>\n",
              "</div>"
            ],
            "text/plain": [
              "   Rating  ...  Your personal information : write to user defined dictionary (S)\n",
              "0     6.2  ...                                                0.0               \n",
              "1     8.6  ...                                                0.0               \n",
              "2     8.2  ...                                                0.0               \n",
              "3     7.2  ...                                                0.0               \n",
              "4     0.0  ...                                                0.0               \n",
              "\n",
              "[5 rows x 178 columns]"
            ]
          },
          "metadata": {
            "tags": []
          },
          "execution_count": 22
        }
      ]
    },
    {
      "cell_type": "code",
      "metadata": {
        "colab": {
          "base_uri": "https://localhost:8080/"
        },
        "id": "NcdjcC29c5Ax",
        "outputId": "c81ea4ca-6338-455c-d0a4-6061993dc731"
      },
      "source": [
        "# Again return  the variance for X along the specified axis=0 to check the scales after using minmax scaler.\n",
        "X_scaled_df.var(axis=0)"
      ],
      "execution_count": null,
      "outputs": [
        {
          "output_type": "execute_result",
          "data": {
            "text/plain": [
              "Rating                                                                   8.118911\n",
              "Number of ratings                                                        0.057758\n",
              "Price                                                                    0.041564\n",
              "Dangerous permissions count                                              1.029261\n",
              "Safe permissions count                                                   0.906650\n",
              "                                                                           ...   \n",
              "Your personal information : retrieve system internal state (S)           0.056638\n",
              "Your personal information : set alarm in alarm clock (S)                 0.039987\n",
              "Your personal information : write Browser's history and bookmarks (D)    1.629329\n",
              "Your personal information : write contact data (D)                       3.815709\n",
              "Your personal information : write to user defined dictionary (S)         0.149785\n",
              "Length: 178, dtype: float64"
            ]
          },
          "metadata": {
            "tags": []
          },
          "execution_count": 23
        }
      ]
    },
    {
      "cell_type": "code",
      "metadata": {
        "id": "w8CjoE6Rc49X"
      },
      "source": [
        "# import variancethreshold\n",
        "from sklearn.feature_selection import VarianceThreshold\n",
        "\n",
        "# set threshold=1 and define it to variable select_features\n",
        "select_features = VarianceThreshold(threshold=2)"
      ],
      "execution_count": null,
      "outputs": []
    },
    {
      "cell_type": "code",
      "metadata": {
        "id": "7UIZMBhNc451"
      },
      "source": [
        "X_variance_threshold_df = select_features.fit_transform(X_scaled_df)"
      ],
      "execution_count": null,
      "outputs": []
    },
    {
      "cell_type": "code",
      "metadata": {
        "colab": {
          "base_uri": "https://localhost:8080/"
        },
        "id": "uVltTKBJde1B",
        "outputId": "883b049b-d88a-47a8-f544-83dd0f8180c8"
      },
      "source": [
        "# print X_variance_threshold_df\n",
        "X_variance_threshold_df"
      ],
      "execution_count": null,
      "outputs": [
        {
          "output_type": "execute_result",
          "data": {
            "text/plain": [
              "array([[ 6.2,  0. ,  0. , ..., 10. ,  0. , 10. ],\n",
              "       [ 8.6,  0. ,  0. , ...,  0. ,  0. ,  0. ],\n",
              "       [ 8.2,  0. ,  0. , ...,  0. ,  0. ,  0. ],\n",
              "       ...,\n",
              "       [ 8.4,  0. ,  0. , ...,  0. ,  0. ,  0. ],\n",
              "       [ 6.8,  0. ,  0. , ...,  0. ,  0. ,  0. ],\n",
              "       [ 6. ,  0. , 10. , ...,  0. ,  0. ,  0. ]])"
            ]
          },
          "metadata": {
            "tags": []
          },
          "execution_count": 40
        }
      ]
    },
    {
      "cell_type": "code",
      "metadata": {
        "colab": {
          "base_uri": "https://localhost:8080/",
          "height": 202
        },
        "id": "hkA98q_Qdexa",
        "outputId": "4fc081e5-f790-4e33-f2aa-fdcbfc787c42"
      },
      "source": [
        "# Convert X_variance_threshold_df into dataframe\n",
        "X_variance_threshold_df = pd.DataFrame(X_variance_threshold_df)\n",
        "\n",
        "# print of head values of X_variance_threshold_df \n",
        "X_variance_threshold_df.head()"
      ],
      "execution_count": null,
      "outputs": [
        {
          "output_type": "execute_result",
          "data": {
            "text/html": [
              "<div>\n",
              "<style scoped>\n",
              "    .dataframe tbody tr th:only-of-type {\n",
              "        vertical-align: middle;\n",
              "    }\n",
              "\n",
              "    .dataframe tbody tr th {\n",
              "        vertical-align: top;\n",
              "    }\n",
              "\n",
              "    .dataframe thead th {\n",
              "        text-align: right;\n",
              "    }\n",
              "</style>\n",
              "<table border=\"1\" class=\"dataframe\">\n",
              "  <thead>\n",
              "    <tr style=\"text-align: right;\">\n",
              "      <th></th>\n",
              "      <th>0</th>\n",
              "      <th>1</th>\n",
              "      <th>2</th>\n",
              "      <th>3</th>\n",
              "      <th>4</th>\n",
              "      <th>5</th>\n",
              "      <th>6</th>\n",
              "      <th>7</th>\n",
              "      <th>8</th>\n",
              "      <th>9</th>\n",
              "      <th>10</th>\n",
              "      <th>11</th>\n",
              "      <th>12</th>\n",
              "      <th>13</th>\n",
              "      <th>14</th>\n",
              "      <th>15</th>\n",
              "      <th>16</th>\n",
              "      <th>17</th>\n",
              "      <th>18</th>\n",
              "      <th>19</th>\n",
              "      <th>20</th>\n",
              "      <th>21</th>\n",
              "      <th>22</th>\n",
              "      <th>23</th>\n",
              "      <th>24</th>\n",
              "      <th>25</th>\n",
              "      <th>26</th>\n",
              "      <th>27</th>\n",
              "      <th>28</th>\n",
              "      <th>29</th>\n",
              "      <th>30</th>\n",
              "      <th>31</th>\n",
              "    </tr>\n",
              "  </thead>\n",
              "  <tbody>\n",
              "    <tr>\n",
              "      <th>0</th>\n",
              "      <td>6.2</td>\n",
              "      <td>0.0</td>\n",
              "      <td>0.0</td>\n",
              "      <td>0.0</td>\n",
              "      <td>0.0</td>\n",
              "      <td>0.0</td>\n",
              "      <td>10.0</td>\n",
              "      <td>0.0</td>\n",
              "      <td>0.0</td>\n",
              "      <td>10.0</td>\n",
              "      <td>0.0</td>\n",
              "      <td>10.0</td>\n",
              "      <td>0.0</td>\n",
              "      <td>10.0</td>\n",
              "      <td>0.0</td>\n",
              "      <td>0.0</td>\n",
              "      <td>0.0</td>\n",
              "      <td>0.0</td>\n",
              "      <td>0.0</td>\n",
              "      <td>0.0</td>\n",
              "      <td>0.0</td>\n",
              "      <td>0.0</td>\n",
              "      <td>0.0</td>\n",
              "      <td>0.0</td>\n",
              "      <td>0.0</td>\n",
              "      <td>10.0</td>\n",
              "      <td>0.0</td>\n",
              "      <td>0.0</td>\n",
              "      <td>0.0</td>\n",
              "      <td>10.0</td>\n",
              "      <td>0.0</td>\n",
              "      <td>10.0</td>\n",
              "    </tr>\n",
              "    <tr>\n",
              "      <th>1</th>\n",
              "      <td>8.6</td>\n",
              "      <td>0.0</td>\n",
              "      <td>0.0</td>\n",
              "      <td>0.0</td>\n",
              "      <td>0.0</td>\n",
              "      <td>0.0</td>\n",
              "      <td>10.0</td>\n",
              "      <td>0.0</td>\n",
              "      <td>0.0</td>\n",
              "      <td>10.0</td>\n",
              "      <td>10.0</td>\n",
              "      <td>0.0</td>\n",
              "      <td>0.0</td>\n",
              "      <td>10.0</td>\n",
              "      <td>0.0</td>\n",
              "      <td>0.0</td>\n",
              "      <td>0.0</td>\n",
              "      <td>0.0</td>\n",
              "      <td>0.0</td>\n",
              "      <td>0.0</td>\n",
              "      <td>0.0</td>\n",
              "      <td>0.0</td>\n",
              "      <td>10.0</td>\n",
              "      <td>0.0</td>\n",
              "      <td>0.0</td>\n",
              "      <td>0.0</td>\n",
              "      <td>0.0</td>\n",
              "      <td>0.0</td>\n",
              "      <td>0.0</td>\n",
              "      <td>0.0</td>\n",
              "      <td>0.0</td>\n",
              "      <td>0.0</td>\n",
              "    </tr>\n",
              "    <tr>\n",
              "      <th>2</th>\n",
              "      <td>8.2</td>\n",
              "      <td>0.0</td>\n",
              "      <td>0.0</td>\n",
              "      <td>0.0</td>\n",
              "      <td>0.0</td>\n",
              "      <td>0.0</td>\n",
              "      <td>10.0</td>\n",
              "      <td>0.0</td>\n",
              "      <td>0.0</td>\n",
              "      <td>10.0</td>\n",
              "      <td>0.0</td>\n",
              "      <td>0.0</td>\n",
              "      <td>0.0</td>\n",
              "      <td>0.0</td>\n",
              "      <td>0.0</td>\n",
              "      <td>0.0</td>\n",
              "      <td>0.0</td>\n",
              "      <td>0.0</td>\n",
              "      <td>0.0</td>\n",
              "      <td>0.0</td>\n",
              "      <td>0.0</td>\n",
              "      <td>0.0</td>\n",
              "      <td>0.0</td>\n",
              "      <td>0.0</td>\n",
              "      <td>0.0</td>\n",
              "      <td>0.0</td>\n",
              "      <td>0.0</td>\n",
              "      <td>0.0</td>\n",
              "      <td>0.0</td>\n",
              "      <td>0.0</td>\n",
              "      <td>0.0</td>\n",
              "      <td>0.0</td>\n",
              "    </tr>\n",
              "    <tr>\n",
              "      <th>3</th>\n",
              "      <td>7.2</td>\n",
              "      <td>0.0</td>\n",
              "      <td>0.0</td>\n",
              "      <td>0.0</td>\n",
              "      <td>0.0</td>\n",
              "      <td>0.0</td>\n",
              "      <td>0.0</td>\n",
              "      <td>0.0</td>\n",
              "      <td>0.0</td>\n",
              "      <td>0.0</td>\n",
              "      <td>0.0</td>\n",
              "      <td>0.0</td>\n",
              "      <td>0.0</td>\n",
              "      <td>0.0</td>\n",
              "      <td>0.0</td>\n",
              "      <td>0.0</td>\n",
              "      <td>0.0</td>\n",
              "      <td>0.0</td>\n",
              "      <td>0.0</td>\n",
              "      <td>0.0</td>\n",
              "      <td>0.0</td>\n",
              "      <td>0.0</td>\n",
              "      <td>0.0</td>\n",
              "      <td>0.0</td>\n",
              "      <td>0.0</td>\n",
              "      <td>0.0</td>\n",
              "      <td>0.0</td>\n",
              "      <td>0.0</td>\n",
              "      <td>0.0</td>\n",
              "      <td>0.0</td>\n",
              "      <td>0.0</td>\n",
              "      <td>0.0</td>\n",
              "    </tr>\n",
              "    <tr>\n",
              "      <th>4</th>\n",
              "      <td>0.0</td>\n",
              "      <td>0.0</td>\n",
              "      <td>0.0</td>\n",
              "      <td>0.0</td>\n",
              "      <td>0.0</td>\n",
              "      <td>0.0</td>\n",
              "      <td>10.0</td>\n",
              "      <td>0.0</td>\n",
              "      <td>0.0</td>\n",
              "      <td>0.0</td>\n",
              "      <td>0.0</td>\n",
              "      <td>0.0</td>\n",
              "      <td>0.0</td>\n",
              "      <td>0.0</td>\n",
              "      <td>0.0</td>\n",
              "      <td>0.0</td>\n",
              "      <td>0.0</td>\n",
              "      <td>0.0</td>\n",
              "      <td>0.0</td>\n",
              "      <td>0.0</td>\n",
              "      <td>0.0</td>\n",
              "      <td>0.0</td>\n",
              "      <td>0.0</td>\n",
              "      <td>0.0</td>\n",
              "      <td>0.0</td>\n",
              "      <td>0.0</td>\n",
              "      <td>0.0</td>\n",
              "      <td>0.0</td>\n",
              "      <td>0.0</td>\n",
              "      <td>0.0</td>\n",
              "      <td>0.0</td>\n",
              "      <td>0.0</td>\n",
              "    </tr>\n",
              "  </tbody>\n",
              "</table>\n",
              "</div>"
            ],
            "text/plain": [
              "    0    1    2    3    4    5     6   ...    25   26   27   28    29   30    31\n",
              "0  6.2  0.0  0.0  0.0  0.0  0.0  10.0  ...  10.0  0.0  0.0  0.0  10.0  0.0  10.0\n",
              "1  8.6  0.0  0.0  0.0  0.0  0.0  10.0  ...   0.0  0.0  0.0  0.0   0.0  0.0   0.0\n",
              "2  8.2  0.0  0.0  0.0  0.0  0.0  10.0  ...   0.0  0.0  0.0  0.0   0.0  0.0   0.0\n",
              "3  7.2  0.0  0.0  0.0  0.0  0.0   0.0  ...   0.0  0.0  0.0  0.0   0.0  0.0   0.0\n",
              "4  0.0  0.0  0.0  0.0  0.0  0.0  10.0  ...   0.0  0.0  0.0  0.0   0.0  0.0   0.0\n",
              "\n",
              "[5 rows x 32 columns]"
            ]
          },
          "metadata": {
            "tags": []
          },
          "execution_count": 41
        }
      ]
    },
    {
      "cell_type": "code",
      "metadata": {
        "id": "z5_67Kg_dyC_"
      },
      "source": [
        "def get_selected_features(raw_df,processed_df):\n",
        "    selected_features=[]\n",
        "    for i in range(len(processed_df.columns)):\n",
        "        for j in range(len(raw_df.columns)):\n",
        "            if (processed_df.iloc[:,i].equals(raw_df.iloc[:,j])):\n",
        "                selected_features.append(raw_df.columns[j])\n",
        "    return selected_features"
      ],
      "execution_count": 16,
      "outputs": []
    },
    {
      "cell_type": "code",
      "metadata": {
        "colab": {
          "base_uri": "https://localhost:8080/"
        },
        "id": "XXF3Oizjdx_o",
        "outputId": "d894aa6c-f225-4e6c-9809-e151431d2208"
      },
      "source": [
        "# pass the X_scaled_df as raw_df and X_variance_threshold_df as processed_df inside get_selected_features function\n",
        "selected_features = get_selected_features(X_scaled_df, X_variance_threshold_df)\n",
        "\n",
        "# print selected_features\n",
        "selected_features"
      ],
      "execution_count": null,
      "outputs": [
        {
          "output_type": "execute_result",
          "data": {
            "text/plain": [
              "['Rating',\n",
              " 'Hardware controls : change your audio settings (D)',\n",
              " 'Hardware controls : control vibrator (S)',\n",
              " 'Hardware controls : record audio (D)',\n",
              " 'Hardware controls : take pictures and videos (D)',\n",
              " 'Network communication : create Bluetooth connections (D)',\n",
              " 'Network communication : full Internet access (D)',\n",
              " 'Network communication : receive data from Internet (S)',\n",
              " 'Network communication : view Wi-Fi state (S)',\n",
              " 'Network communication : view network state (S)',\n",
              " 'Phone calls : read phone state and identity (D)',\n",
              " 'Services that cost you money : directly call phone numbers (D)',\n",
              " 'Services that cost you money : send SMS messages (D)',\n",
              " 'Storage : modify/delete USB storage contents modify/delete SD card contents (D)',\n",
              " 'System tools : automatically start at boot (S)',\n",
              " 'System tools : change Wi-Fi state (D)',\n",
              " 'System tools : disable keylock (D)',\n",
              " 'System tools : kill background processes (S)',\n",
              " 'System tools : modify global system settings (D)',\n",
              " 'System tools : prevent device from sleeping (D)',\n",
              " 'System tools : retrieve running applications (D)',\n",
              " 'System tools : set wallpaper (S)',\n",
              " 'Your accounts : discover known accounts (S)',\n",
              " 'Your location : access extra location provider commands (S)',\n",
              " 'Your location : coarse (network-based) location (D)',\n",
              " 'Your location : fine (GPS) location (D)',\n",
              " 'Your location : mock location sources for testing (D)',\n",
              " 'Your messages : read SMS or MMS (D)',\n",
              " 'Your messages : receive SMS (D)',\n",
              " 'Your personal information : read contact data (D)',\n",
              " 'Your personal information : read sensitive log data (D)',\n",
              " 'Your personal information : write contact data (D)']"
            ]
          },
          "metadata": {
            "tags": []
          },
          "execution_count": 43
        }
      ]
    },
    {
      "cell_type": "code",
      "metadata": {
        "colab": {
          "base_uri": "https://localhost:8080/",
          "height": 355
        },
        "id": "nWJGk9eZd3eV",
        "outputId": "b9e17e08-e228-460c-f358-8b26ff2145c1"
      },
      "source": [
        "# define selected_features as columns and save it in variabe named X_variance_threshold_df\n",
        "X_variance_threshold_df.columns = selected_features\n",
        "\n",
        "# print X_variance_threshold_df\n",
        "X_variance_threshold_df.head()"
      ],
      "execution_count": null,
      "outputs": [
        {
          "output_type": "execute_result",
          "data": {
            "text/html": [
              "<div>\n",
              "<style scoped>\n",
              "    .dataframe tbody tr th:only-of-type {\n",
              "        vertical-align: middle;\n",
              "    }\n",
              "\n",
              "    .dataframe tbody tr th {\n",
              "        vertical-align: top;\n",
              "    }\n",
              "\n",
              "    .dataframe thead th {\n",
              "        text-align: right;\n",
              "    }\n",
              "</style>\n",
              "<table border=\"1\" class=\"dataframe\">\n",
              "  <thead>\n",
              "    <tr style=\"text-align: right;\">\n",
              "      <th></th>\n",
              "      <th>Rating</th>\n",
              "      <th>Hardware controls : change your audio settings (D)</th>\n",
              "      <th>Hardware controls : control vibrator (S)</th>\n",
              "      <th>Hardware controls : record audio (D)</th>\n",
              "      <th>Hardware controls : take pictures and videos (D)</th>\n",
              "      <th>Network communication : create Bluetooth connections (D)</th>\n",
              "      <th>Network communication : full Internet access (D)</th>\n",
              "      <th>Network communication : receive data from Internet (S)</th>\n",
              "      <th>Network communication : view Wi-Fi state (S)</th>\n",
              "      <th>Network communication : view network state (S)</th>\n",
              "      <th>Phone calls : read phone state and identity (D)</th>\n",
              "      <th>Services that cost you money : directly call phone numbers (D)</th>\n",
              "      <th>Services that cost you money : send SMS messages (D)</th>\n",
              "      <th>Storage : modify/delete USB storage contents modify/delete SD card contents (D)</th>\n",
              "      <th>System tools : automatically start at boot (S)</th>\n",
              "      <th>System tools : change Wi-Fi state (D)</th>\n",
              "      <th>System tools : disable keylock (D)</th>\n",
              "      <th>System tools : kill background processes (S)</th>\n",
              "      <th>System tools : modify global system settings (D)</th>\n",
              "      <th>System tools : prevent device from sleeping (D)</th>\n",
              "      <th>System tools : retrieve running applications (D)</th>\n",
              "      <th>System tools : set wallpaper (S)</th>\n",
              "      <th>Your accounts : discover known accounts (S)</th>\n",
              "      <th>Your location : access extra location provider commands (S)</th>\n",
              "      <th>Your location : coarse (network-based) location (D)</th>\n",
              "      <th>Your location : fine (GPS) location (D)</th>\n",
              "      <th>Your location : mock location sources for testing (D)</th>\n",
              "      <th>Your messages : read SMS or MMS (D)</th>\n",
              "      <th>Your messages : receive SMS (D)</th>\n",
              "      <th>Your personal information : read contact data (D)</th>\n",
              "      <th>Your personal information : read sensitive log data (D)</th>\n",
              "      <th>Your personal information : write contact data (D)</th>\n",
              "    </tr>\n",
              "  </thead>\n",
              "  <tbody>\n",
              "    <tr>\n",
              "      <th>0</th>\n",
              "      <td>6.2</td>\n",
              "      <td>0.0</td>\n",
              "      <td>0.0</td>\n",
              "      <td>0.0</td>\n",
              "      <td>0.0</td>\n",
              "      <td>0.0</td>\n",
              "      <td>10.0</td>\n",
              "      <td>0.0</td>\n",
              "      <td>0.0</td>\n",
              "      <td>10.0</td>\n",
              "      <td>0.0</td>\n",
              "      <td>10.0</td>\n",
              "      <td>0.0</td>\n",
              "      <td>10.0</td>\n",
              "      <td>0.0</td>\n",
              "      <td>0.0</td>\n",
              "      <td>0.0</td>\n",
              "      <td>0.0</td>\n",
              "      <td>0.0</td>\n",
              "      <td>0.0</td>\n",
              "      <td>0.0</td>\n",
              "      <td>0.0</td>\n",
              "      <td>0.0</td>\n",
              "      <td>0.0</td>\n",
              "      <td>0.0</td>\n",
              "      <td>10.0</td>\n",
              "      <td>0.0</td>\n",
              "      <td>0.0</td>\n",
              "      <td>0.0</td>\n",
              "      <td>10.0</td>\n",
              "      <td>0.0</td>\n",
              "      <td>10.0</td>\n",
              "    </tr>\n",
              "    <tr>\n",
              "      <th>1</th>\n",
              "      <td>8.6</td>\n",
              "      <td>0.0</td>\n",
              "      <td>0.0</td>\n",
              "      <td>0.0</td>\n",
              "      <td>0.0</td>\n",
              "      <td>0.0</td>\n",
              "      <td>10.0</td>\n",
              "      <td>0.0</td>\n",
              "      <td>0.0</td>\n",
              "      <td>10.0</td>\n",
              "      <td>10.0</td>\n",
              "      <td>0.0</td>\n",
              "      <td>0.0</td>\n",
              "      <td>10.0</td>\n",
              "      <td>0.0</td>\n",
              "      <td>0.0</td>\n",
              "      <td>0.0</td>\n",
              "      <td>0.0</td>\n",
              "      <td>0.0</td>\n",
              "      <td>0.0</td>\n",
              "      <td>0.0</td>\n",
              "      <td>0.0</td>\n",
              "      <td>10.0</td>\n",
              "      <td>0.0</td>\n",
              "      <td>0.0</td>\n",
              "      <td>0.0</td>\n",
              "      <td>0.0</td>\n",
              "      <td>0.0</td>\n",
              "      <td>0.0</td>\n",
              "      <td>0.0</td>\n",
              "      <td>0.0</td>\n",
              "      <td>0.0</td>\n",
              "    </tr>\n",
              "    <tr>\n",
              "      <th>2</th>\n",
              "      <td>8.2</td>\n",
              "      <td>0.0</td>\n",
              "      <td>0.0</td>\n",
              "      <td>0.0</td>\n",
              "      <td>0.0</td>\n",
              "      <td>0.0</td>\n",
              "      <td>10.0</td>\n",
              "      <td>0.0</td>\n",
              "      <td>0.0</td>\n",
              "      <td>10.0</td>\n",
              "      <td>0.0</td>\n",
              "      <td>0.0</td>\n",
              "      <td>0.0</td>\n",
              "      <td>0.0</td>\n",
              "      <td>0.0</td>\n",
              "      <td>0.0</td>\n",
              "      <td>0.0</td>\n",
              "      <td>0.0</td>\n",
              "      <td>0.0</td>\n",
              "      <td>0.0</td>\n",
              "      <td>0.0</td>\n",
              "      <td>0.0</td>\n",
              "      <td>0.0</td>\n",
              "      <td>0.0</td>\n",
              "      <td>0.0</td>\n",
              "      <td>0.0</td>\n",
              "      <td>0.0</td>\n",
              "      <td>0.0</td>\n",
              "      <td>0.0</td>\n",
              "      <td>0.0</td>\n",
              "      <td>0.0</td>\n",
              "      <td>0.0</td>\n",
              "    </tr>\n",
              "    <tr>\n",
              "      <th>3</th>\n",
              "      <td>7.2</td>\n",
              "      <td>0.0</td>\n",
              "      <td>0.0</td>\n",
              "      <td>0.0</td>\n",
              "      <td>0.0</td>\n",
              "      <td>0.0</td>\n",
              "      <td>0.0</td>\n",
              "      <td>0.0</td>\n",
              "      <td>0.0</td>\n",
              "      <td>0.0</td>\n",
              "      <td>0.0</td>\n",
              "      <td>0.0</td>\n",
              "      <td>0.0</td>\n",
              "      <td>0.0</td>\n",
              "      <td>0.0</td>\n",
              "      <td>0.0</td>\n",
              "      <td>0.0</td>\n",
              "      <td>0.0</td>\n",
              "      <td>0.0</td>\n",
              "      <td>0.0</td>\n",
              "      <td>0.0</td>\n",
              "      <td>0.0</td>\n",
              "      <td>0.0</td>\n",
              "      <td>0.0</td>\n",
              "      <td>0.0</td>\n",
              "      <td>0.0</td>\n",
              "      <td>0.0</td>\n",
              "      <td>0.0</td>\n",
              "      <td>0.0</td>\n",
              "      <td>0.0</td>\n",
              "      <td>0.0</td>\n",
              "      <td>0.0</td>\n",
              "    </tr>\n",
              "    <tr>\n",
              "      <th>4</th>\n",
              "      <td>0.0</td>\n",
              "      <td>0.0</td>\n",
              "      <td>0.0</td>\n",
              "      <td>0.0</td>\n",
              "      <td>0.0</td>\n",
              "      <td>0.0</td>\n",
              "      <td>10.0</td>\n",
              "      <td>0.0</td>\n",
              "      <td>0.0</td>\n",
              "      <td>0.0</td>\n",
              "      <td>0.0</td>\n",
              "      <td>0.0</td>\n",
              "      <td>0.0</td>\n",
              "      <td>0.0</td>\n",
              "      <td>0.0</td>\n",
              "      <td>0.0</td>\n",
              "      <td>0.0</td>\n",
              "      <td>0.0</td>\n",
              "      <td>0.0</td>\n",
              "      <td>0.0</td>\n",
              "      <td>0.0</td>\n",
              "      <td>0.0</td>\n",
              "      <td>0.0</td>\n",
              "      <td>0.0</td>\n",
              "      <td>0.0</td>\n",
              "      <td>0.0</td>\n",
              "      <td>0.0</td>\n",
              "      <td>0.0</td>\n",
              "      <td>0.0</td>\n",
              "      <td>0.0</td>\n",
              "      <td>0.0</td>\n",
              "      <td>0.0</td>\n",
              "    </tr>\n",
              "  </tbody>\n",
              "</table>\n",
              "</div>"
            ],
            "text/plain": [
              "   Rating  ...  Your personal information : write contact data (D)\n",
              "0     6.2  ...                                               10.0 \n",
              "1     8.6  ...                                                0.0 \n",
              "2     8.2  ...                                                0.0 \n",
              "3     7.2  ...                                                0.0 \n",
              "4     0.0  ...                                                0.0 \n",
              "\n",
              "[5 rows x 32 columns]"
            ]
          },
          "metadata": {
            "tags": []
          },
          "execution_count": 44
        }
      ]
    },
    {
      "cell_type": "code",
      "metadata": {
        "colab": {
          "base_uri": "https://localhost:8080/"
        },
        "id": "eUh5cd-xehYH",
        "outputId": "5eb50297-6648-44b2-a632-6750c87043c6"
      },
      "source": [
        "X_variance_threshold_df.shape"
      ],
      "execution_count": null,
      "outputs": [
        {
          "output_type": "execute_result",
          "data": {
            "text/plain": [
              "(29999, 32)"
            ]
          },
          "metadata": {
            "tags": []
          },
          "execution_count": 45
        }
      ]
    },
    {
      "cell_type": "markdown",
      "metadata": {
        "id": "MSRoDp3qizqd"
      },
      "source": [
        "#### **Threshold=1** ---> No of features =45"
      ]
    },
    {
      "cell_type": "code",
      "metadata": {
        "id": "FaXM_LJ7iBoF"
      },
      "source": [
        "Var_Thr = ['Rating',\n",
        "           'Dangerous permissions count',\n",
        "           'Hardware controls : change your audio settings (D)',\n",
        "           'Hardware controls : control flashlight (S)',\n",
        "           'Hardware controls : control vibrator (S)',\n",
        "           'Hardware controls : record audio (D)',\n",
        "           'Hardware controls : take pictures and videos (D)',\n",
        "           'Network communication : create Bluetooth connections (D)',\n",
        "           'Network communication : full Internet access (D)',\n",
        "           'Network communication : receive data from Internet (S)',\n",
        "           'Network communication : view Wi-Fi state (S)',\n",
        "           'Network communication : view network state (S)',\n",
        "           'Phone calls : intercept outgoing calls (D)',\n",
        "           'Phone calls : read phone state and identity (D)',\n",
        "           'Services that cost you money : directly call phone numbers (D)',\n",
        "           'Services that cost you money : send SMS messages (D)',\n",
        "           'Storage : modify/delete USB storage contents modify/delete SD card contents (D)',\n",
        "           'System tools : automatically start at boot (S)',\n",
        "           'System tools : bluetooth administration (D)',\n",
        "           'System tools : change Wi-Fi state (D)',\n",
        "           'System tools : change network connectivity (D)',\n",
        "           'System tools : disable keylock (D)',\n",
        "           'System tools : kill background processes (S)',\n",
        "           'System tools : modify global system settings (D)',\n",
        "           'System tools : mount and unmount filesystems (D)',\n",
        "           'System tools : prevent device from sleeping (D)',\n",
        "           'System tools : retrieve running applications (D)',\n",
        "           'System tools : set wallpaper (S)',\n",
        "           'Your accounts : discover known accounts (S)',\n",
        "           'Your accounts : manage the accounts list (D)',\n",
        "           'Your accounts : use the authentication credentials of an account (D)',\n",
        "           'Your location : access extra location provider commands (S)',\n",
        "           'Your location : coarse (network-based) location (D)',\n",
        "           'Your location : fine (GPS) location (D)',\n",
        "           'Your location : mock location sources for testing (D)',\n",
        "           'Your messages : edit SMS or MMS (D)',\n",
        "           'Your messages : read SMS or MMS (D)',\n",
        "           'Your messages : receive SMS (D)',\n",
        "           'Your personal information : add or modify calendar events and send email to guests (D)',\n",
        "           \"Your personal information : read Browser's history and bookmarks (D)\",\n",
        "           'Your personal information : read calendar events (D)',\n",
        "           'Your personal information : read contact data (D)',\n",
        "           'Your personal information : read sensitive log data (D)',\n",
        "           \"Your personal information : write Browser's history and bookmarks (D)\",\n",
        "           'Your personal information : write contact data (D)']"
      ],
      "execution_count": null,
      "outputs": []
    },
    {
      "cell_type": "markdown",
      "metadata": {
        "id": "-vKEq-DXjBJF"
      },
      "source": [
        "#### **Threshold=2** ---> No of features =32"
      ]
    },
    {
      "cell_type": "code",
      "metadata": {
        "id": "v7DmZe-qjC0t"
      },
      "source": [
        "Var_Thr = ['Rating',\n",
        "           'Hardware controls : change your audio settings (D)',\n",
        "           'Hardware controls : control vibrator (S)',\n",
        "           'Hardware controls : record audio (D)',\n",
        "           'Hardware controls : take pictures and videos (D)',\n",
        "           'Network communication : create Bluetooth connections (D)',\n",
        "           'Network communication : full Internet access (D)',\n",
        "           'Network communication : receive data from Internet (S)',\n",
        "           'Network communication : view Wi-Fi state (S)',\n",
        "           'Network communication : view network state (S)',\n",
        "           'Phone calls : read phone state and identity (D)',\n",
        "           'Services that cost you money : directly call phone numbers (D)',\n",
        "           'Services that cost you money : send SMS messages (D)',\n",
        "           'Storage : modify/delete USB storage contents modify/delete SD card contents (D)',\n",
        "           'System tools : automatically start at boot (S)',\n",
        "           'System tools : change Wi-Fi state (D)',\n",
        "           'System tools : disable keylock (D)',\n",
        "           'System tools : kill background processes (S)',\n",
        "           'System tools : modify global system settings (D)',\n",
        "           'System tools : prevent device from sleeping (D)',\n",
        "           'System tools : retrieve running applications (D)',\n",
        "           'System tools : set wallpaper (S)',\n",
        "           'Your accounts : discover known accounts (S)',\n",
        "           'Your location : access extra location provider commands (S)',\n",
        "           'Your location : coarse (network-based) location (D)',\n",
        "           'Your location : fine (GPS) location (D)',\n",
        "           'Your location : mock location sources for testing (D)',\n",
        "           'Your messages : read SMS or MMS (D)',\n",
        "           'Your messages : receive SMS (D)',\n",
        "           'Your personal information : read contact data (D)',\n",
        "           'Your personal information : read sensitive log data (D)',\n",
        "           'Your personal information : write contact data (D)']"
      ],
      "execution_count": null,
      "outputs": []
    },
    {
      "cell_type": "markdown",
      "metadata": {
        "id": "fjW14nYGceLX"
      },
      "source": [
        "-------------"
      ]
    },
    {
      "cell_type": "markdown",
      "metadata": {
        "id": "oZVxLJlKob2g"
      },
      "source": [
        "### **1.c) Chi-Squared statistical test (SelectKBest)**"
      ]
    },
    {
      "cell_type": "markdown",
      "metadata": {
        "id": "oRb0H7aRgW_E"
      },
      "source": [
        "**For regression:** f_regression, mutual_info_regression\n",
        "\n",
        "**For classification:** chi2, f_classif, mutual_info_classif"
      ]
    },
    {
      "cell_type": "code",
      "metadata": {
        "id": "IUCCYaaCFKzy"
      },
      "source": [
        "from sklearn.feature_selection import SelectKBest\n",
        "from sklearn.feature_selection import f_classif"
      ],
      "execution_count": 20,
      "outputs": []
    },
    {
      "cell_type": "code",
      "metadata": {
        "colab": {
          "base_uri": "https://localhost:8080/"
        },
        "id": "lLaY9dCpE9fJ",
        "outputId": "d5b5243e-a9aa-4c57-a8b8-16c1a2a5eac4"
      },
      "source": [
        "# instantiate SelectKBest to determine 20 best features\n",
        "best_features = SelectKBest(score_func=f_classif, k=20)\n",
        "\n",
        "fit = best_features.fit(X,y)\n",
        "\n",
        "df_scores = pd.DataFrame(fit.scores_)\n",
        "print(df_scores.head())\n",
        "\n",
        "df_columns = pd.DataFrame(X.columns)\n",
        "print(df_columns.head())"
      ],
      "execution_count": 24,
      "outputs": [
        {
          "output_type": "stream",
          "text": [
            "             0\n",
            "0  1554.946004\n",
            "1    39.939469\n",
            "2   576.244511\n",
            "3    23.222669\n",
            "4   225.407779\n",
            "                             0\n",
            "0                       Rating\n",
            "1            Number of ratings\n",
            "2                        Price\n",
            "3  Dangerous permissions count\n",
            "4       Safe permissions count\n"
          ],
          "name": "stdout"
        }
      ]
    },
    {
      "cell_type": "code",
      "metadata": {
        "colab": {
          "base_uri": "https://localhost:8080/"
        },
        "id": "1a_2NKRCE9VX",
        "outputId": "1f4a28fb-20ec-4a43-d6d6-c55d597e74c6"
      },
      "source": [
        "# concatenate dataframes\n",
        "feature_scores = pd.concat([df_columns, df_scores], axis=1)\n",
        "feature_scores.columns = ['Feature_Name', 'Score']  # name output columns\n",
        "print(feature_scores.nlargest(20, 'Score'))  # print 20 best features"
      ],
      "execution_count": 25,
      "outputs": [
        {
          "output_type": "stream",
          "text": [
            "                                          Feature_Name        Score\n",
            "0                                               Rating  1554.946004\n",
            "85      Network communication : view network state (S)   677.033075\n",
            "2                                                Price   576.244511\n",
            "81    Network communication : full Internet access (D)   279.320926\n",
            "175  Your personal information : write Browser's hi...   232.625440\n",
            "4                               Safe permissions count   225.407779\n",
            "88     Phone calls : read phone state and identity (D)   199.419600\n",
            "168  Your personal information : read Browser's his...   190.615819\n",
            "150            Your location : fine (GPS) location (D)   155.255557\n",
            "151  Your location : mock location sources for test...   130.189787\n",
            "73            Hardware controls : control vibrator (S)    89.289243\n",
            "89   Services that cost you money : directly call p...    88.928866\n",
            "143        Your accounts : discover known accounts (S)    85.746942\n",
            "122                   System tools : set wallpaper (S)    73.908556\n",
            "148  Your location : access extra location provider...    64.365954\n",
            "171  Your personal information : read sensitive log...    52.403168\n",
            "109   System tools : modify global system settings (D)    45.204625\n",
            "117   System tools : retrieve running applications (D)    43.239533\n",
            "91   Storage : modify/delete USB storage contents m...    41.114408\n",
            "1                                    Number of ratings    39.939469\n"
          ],
          "name": "stdout"
        }
      ]
    },
    {
      "cell_type": "markdown",
      "metadata": {
        "id": "4N5yFbjMmpTy"
      },
      "source": [
        "### **1.d) Anova-F Test**"
      ]
    },
    {
      "cell_type": "code",
      "metadata": {
        "id": "s8od93FcG9Rv"
      },
      "source": [
        "select2 = SelectPercentile(chi2, percentile=20)\n",
        "model = select2.fit_transform(X, y)"
      ],
      "execution_count": 47,
      "outputs": []
    },
    {
      "cell_type": "code",
      "metadata": {
        "colab": {
          "base_uri": "https://localhost:8080/",
          "height": 202
        },
        "id": "FEEmnTtRHeNh",
        "outputId": "5a901837-954b-45bd-a034-21b68576939b"
      },
      "source": [
        "pd.DataFrame(model).head()"
      ],
      "execution_count": 48,
      "outputs": [
        {
          "output_type": "execute_result",
          "data": {
            "text/html": [
              "<div>\n",
              "<style scoped>\n",
              "    .dataframe tbody tr th:only-of-type {\n",
              "        vertical-align: middle;\n",
              "    }\n",
              "\n",
              "    .dataframe tbody tr th {\n",
              "        vertical-align: top;\n",
              "    }\n",
              "\n",
              "    .dataframe thead th {\n",
              "        text-align: right;\n",
              "    }\n",
              "</style>\n",
              "<table border=\"1\" class=\"dataframe\">\n",
              "  <thead>\n",
              "    <tr style=\"text-align: right;\">\n",
              "      <th></th>\n",
              "      <th>0</th>\n",
              "      <th>1</th>\n",
              "      <th>2</th>\n",
              "      <th>3</th>\n",
              "      <th>4</th>\n",
              "      <th>5</th>\n",
              "      <th>6</th>\n",
              "      <th>7</th>\n",
              "      <th>8</th>\n",
              "      <th>9</th>\n",
              "      <th>10</th>\n",
              "      <th>11</th>\n",
              "      <th>12</th>\n",
              "      <th>13</th>\n",
              "      <th>14</th>\n",
              "      <th>15</th>\n",
              "      <th>16</th>\n",
              "      <th>17</th>\n",
              "      <th>18</th>\n",
              "      <th>19</th>\n",
              "      <th>20</th>\n",
              "      <th>21</th>\n",
              "      <th>22</th>\n",
              "      <th>23</th>\n",
              "      <th>24</th>\n",
              "      <th>25</th>\n",
              "      <th>26</th>\n",
              "      <th>27</th>\n",
              "      <th>28</th>\n",
              "      <th>29</th>\n",
              "      <th>30</th>\n",
              "      <th>31</th>\n",
              "      <th>32</th>\n",
              "      <th>33</th>\n",
              "      <th>34</th>\n",
              "      <th>35</th>\n",
              "    </tr>\n",
              "  </thead>\n",
              "  <tbody>\n",
              "    <tr>\n",
              "      <th>0</th>\n",
              "      <td>3.1</td>\n",
              "      <td>77.0</td>\n",
              "      <td>0.00</td>\n",
              "      <td>7.0</td>\n",
              "      <td>1.0</td>\n",
              "      <td>0.0</td>\n",
              "      <td>0.0</td>\n",
              "      <td>0.0</td>\n",
              "      <td>0.0</td>\n",
              "      <td>0.0</td>\n",
              "      <td>0.0</td>\n",
              "      <td>0.0</td>\n",
              "      <td>1.0</td>\n",
              "      <td>1.0</td>\n",
              "      <td>0.0</td>\n",
              "      <td>1.0</td>\n",
              "      <td>1.0</td>\n",
              "      <td>0.0</td>\n",
              "      <td>0.0</td>\n",
              "      <td>0.0</td>\n",
              "      <td>0.0</td>\n",
              "      <td>0.0</td>\n",
              "      <td>0.0</td>\n",
              "      <td>0.0</td>\n",
              "      <td>0.0</td>\n",
              "      <td>0.0</td>\n",
              "      <td>0.0</td>\n",
              "      <td>0.0</td>\n",
              "      <td>0.0</td>\n",
              "      <td>1.0</td>\n",
              "      <td>0.0</td>\n",
              "      <td>0.0</td>\n",
              "      <td>0.0</td>\n",
              "      <td>0.0</td>\n",
              "      <td>0.0</td>\n",
              "      <td>0.0</td>\n",
              "    </tr>\n",
              "    <tr>\n",
              "      <th>1</th>\n",
              "      <td>4.3</td>\n",
              "      <td>199.0</td>\n",
              "      <td>0.00</td>\n",
              "      <td>3.0</td>\n",
              "      <td>2.0</td>\n",
              "      <td>0.0</td>\n",
              "      <td>0.0</td>\n",
              "      <td>0.0</td>\n",
              "      <td>0.0</td>\n",
              "      <td>0.0</td>\n",
              "      <td>0.0</td>\n",
              "      <td>0.0</td>\n",
              "      <td>1.0</td>\n",
              "      <td>1.0</td>\n",
              "      <td>1.0</td>\n",
              "      <td>0.0</td>\n",
              "      <td>1.0</td>\n",
              "      <td>0.0</td>\n",
              "      <td>0.0</td>\n",
              "      <td>0.0</td>\n",
              "      <td>0.0</td>\n",
              "      <td>0.0</td>\n",
              "      <td>0.0</td>\n",
              "      <td>0.0</td>\n",
              "      <td>0.0</td>\n",
              "      <td>0.0</td>\n",
              "      <td>1.0</td>\n",
              "      <td>0.0</td>\n",
              "      <td>0.0</td>\n",
              "      <td>0.0</td>\n",
              "      <td>0.0</td>\n",
              "      <td>0.0</td>\n",
              "      <td>0.0</td>\n",
              "      <td>0.0</td>\n",
              "      <td>0.0</td>\n",
              "      <td>0.0</td>\n",
              "    </tr>\n",
              "    <tr>\n",
              "      <th>2</th>\n",
              "      <td>4.1</td>\n",
              "      <td>243.0</td>\n",
              "      <td>0.00</td>\n",
              "      <td>1.0</td>\n",
              "      <td>1.0</td>\n",
              "      <td>0.0</td>\n",
              "      <td>0.0</td>\n",
              "      <td>0.0</td>\n",
              "      <td>0.0</td>\n",
              "      <td>0.0</td>\n",
              "      <td>0.0</td>\n",
              "      <td>0.0</td>\n",
              "      <td>1.0</td>\n",
              "      <td>1.0</td>\n",
              "      <td>0.0</td>\n",
              "      <td>0.0</td>\n",
              "      <td>0.0</td>\n",
              "      <td>0.0</td>\n",
              "      <td>0.0</td>\n",
              "      <td>0.0</td>\n",
              "      <td>0.0</td>\n",
              "      <td>0.0</td>\n",
              "      <td>0.0</td>\n",
              "      <td>0.0</td>\n",
              "      <td>0.0</td>\n",
              "      <td>0.0</td>\n",
              "      <td>0.0</td>\n",
              "      <td>0.0</td>\n",
              "      <td>0.0</td>\n",
              "      <td>0.0</td>\n",
              "      <td>0.0</td>\n",
              "      <td>0.0</td>\n",
              "      <td>0.0</td>\n",
              "      <td>0.0</td>\n",
              "      <td>0.0</td>\n",
              "      <td>0.0</td>\n",
              "    </tr>\n",
              "    <tr>\n",
              "      <th>3</th>\n",
              "      <td>3.6</td>\n",
              "      <td>2589.0</td>\n",
              "      <td>0.00</td>\n",
              "      <td>0.0</td>\n",
              "      <td>0.0</td>\n",
              "      <td>0.0</td>\n",
              "      <td>0.0</td>\n",
              "      <td>0.0</td>\n",
              "      <td>0.0</td>\n",
              "      <td>0.0</td>\n",
              "      <td>0.0</td>\n",
              "      <td>0.0</td>\n",
              "      <td>0.0</td>\n",
              "      <td>0.0</td>\n",
              "      <td>0.0</td>\n",
              "      <td>0.0</td>\n",
              "      <td>0.0</td>\n",
              "      <td>0.0</td>\n",
              "      <td>0.0</td>\n",
              "      <td>0.0</td>\n",
              "      <td>0.0</td>\n",
              "      <td>0.0</td>\n",
              "      <td>0.0</td>\n",
              "      <td>0.0</td>\n",
              "      <td>0.0</td>\n",
              "      <td>0.0</td>\n",
              "      <td>0.0</td>\n",
              "      <td>0.0</td>\n",
              "      <td>0.0</td>\n",
              "      <td>0.0</td>\n",
              "      <td>0.0</td>\n",
              "      <td>0.0</td>\n",
              "      <td>0.0</td>\n",
              "      <td>0.0</td>\n",
              "      <td>0.0</td>\n",
              "      <td>0.0</td>\n",
              "    </tr>\n",
              "    <tr>\n",
              "      <th>4</th>\n",
              "      <td>0.0</td>\n",
              "      <td>0.0</td>\n",
              "      <td>5.99</td>\n",
              "      <td>1.0</td>\n",
              "      <td>0.0</td>\n",
              "      <td>0.0</td>\n",
              "      <td>0.0</td>\n",
              "      <td>0.0</td>\n",
              "      <td>0.0</td>\n",
              "      <td>0.0</td>\n",
              "      <td>0.0</td>\n",
              "      <td>0.0</td>\n",
              "      <td>1.0</td>\n",
              "      <td>0.0</td>\n",
              "      <td>0.0</td>\n",
              "      <td>0.0</td>\n",
              "      <td>0.0</td>\n",
              "      <td>0.0</td>\n",
              "      <td>0.0</td>\n",
              "      <td>0.0</td>\n",
              "      <td>0.0</td>\n",
              "      <td>0.0</td>\n",
              "      <td>0.0</td>\n",
              "      <td>0.0</td>\n",
              "      <td>0.0</td>\n",
              "      <td>0.0</td>\n",
              "      <td>0.0</td>\n",
              "      <td>0.0</td>\n",
              "      <td>0.0</td>\n",
              "      <td>0.0</td>\n",
              "      <td>0.0</td>\n",
              "      <td>0.0</td>\n",
              "      <td>0.0</td>\n",
              "      <td>0.0</td>\n",
              "      <td>0.0</td>\n",
              "      <td>0.0</td>\n",
              "    </tr>\n",
              "  </tbody>\n",
              "</table>\n",
              "</div>"
            ],
            "text/plain": [
              "    0       1     2    3    4    5    6   ...   29   30   31   32   33   34   35\n",
              "0  3.1    77.0  0.00  7.0  1.0  0.0  0.0  ...  1.0  0.0  0.0  0.0  0.0  0.0  0.0\n",
              "1  4.3   199.0  0.00  3.0  2.0  0.0  0.0  ...  0.0  0.0  0.0  0.0  0.0  0.0  0.0\n",
              "2  4.1   243.0  0.00  1.0  1.0  0.0  0.0  ...  0.0  0.0  0.0  0.0  0.0  0.0  0.0\n",
              "3  3.6  2589.0  0.00  0.0  0.0  0.0  0.0  ...  0.0  0.0  0.0  0.0  0.0  0.0  0.0\n",
              "4  0.0     0.0  5.99  1.0  0.0  0.0  0.0  ...  0.0  0.0  0.0  0.0  0.0  0.0  0.0\n",
              "\n",
              "[5 rows x 36 columns]"
            ]
          },
          "metadata": {
            "tags": []
          },
          "execution_count": 48
        }
      ]
    },
    {
      "cell_type": "code",
      "metadata": {
        "colab": {
          "base_uri": "https://localhost:8080/"
        },
        "id": "3-4mc6w6IXBv",
        "outputId": "03edd1c8-0ee2-42a8-a751-bff4b7965b53"
      },
      "source": [
        "select2.get_support()"
      ],
      "execution_count": 49,
      "outputs": [
        {
          "output_type": "execute_result",
          "data": {
            "text/plain": [
              "array([ True,  True,  True,  True,  True,  True, False, False, False,\n",
              "       False, False,  True, False, False, False, False, False, False,\n",
              "       False, False, False, False, False,  True, False, False, False,\n",
              "       False, False,  True, False, False, False, False, False, False,\n",
              "       False, False, False, False, False, False, False, False, False,\n",
              "       False, False, False, False, False, False, False,  True, False,\n",
              "       False, False, False, False, False, False, False, False, False,\n",
              "       False, False, False, False, False, False, False, False, False,\n",
              "       False,  True, False,  True, False, False, False, False, False,\n",
              "        True, False, False, False,  True, False, False,  True,  True,\n",
              "       False,  True, False,  True, False, False, False, False, False,\n",
              "       False, False, False, False, False, False, False, False, False,\n",
              "       False,  True, False,  True, False,  True, False, False, False,\n",
              "        True, False,  True, False, False,  True, False, False, False,\n",
              "        True, False, False, False, False, False, False, False, False,\n",
              "       False, False, False, False, False,  True, False, False,  True,\n",
              "        True, False, False, False,  True, False,  True,  True, False,\n",
              "       False, False, False, False, False, False, False, False, False,\n",
              "       False, False, False, False,  True, False,  True,  True, False,\n",
              "        True, False, False, False,  True, False, False])"
            ]
          },
          "metadata": {
            "tags": []
          },
          "execution_count": 49
        }
      ]
    },
    {
      "cell_type": "code",
      "metadata": {
        "colab": {
          "base_uri": "https://localhost:8080/"
        },
        "id": "R-sGsv63IW-P",
        "outputId": "9171fc05-32b7-4065-db9d-ec42d4cc3acf"
      },
      "source": [
        "new_cols = list(np.take(X.columns, np.where(select2.get_support() == True)))\n",
        "new_cols"
      ],
      "execution_count": 50,
      "outputs": [
        {
          "output_type": "execute_result",
          "data": {
            "text/plain": [
              "['Rating',\n",
              " 'Number of ratings',\n",
              " 'Price',\n",
              " 'Dangerous permissions count',\n",
              " 'Safe permissions count',\n",
              " 'Default : Access DRM content. (S)',\n",
              " 'Default : Install DRM content. (S)',\n",
              " 'Default : bind to a wallpaper (S)',\n",
              " 'Default : delete applications (S)',\n",
              " 'Default : power device on or off (S)',\n",
              " 'Hardware controls : control vibrator (S)',\n",
              " 'Hardware controls : take pictures and videos (D)',\n",
              " 'Network communication : full Internet access (D)',\n",
              " 'Network communication : view network state (S)',\n",
              " 'Phone calls : read phone state and identity (D)',\n",
              " 'Services that cost you money : directly call phone numbers (D)',\n",
              " 'Storage : modify/delete USB storage contents modify/delete SD card contents (D)',\n",
              " 'System tools : automatically start at boot (S)',\n",
              " 'System tools : modify global system settings (D)',\n",
              " 'System tools : prevent device from sleeping (D)',\n",
              " 'System tools : read sync settings (S)',\n",
              " 'System tools : retrieve running applications (D)',\n",
              " 'System tools : send sticky broadcast (S)',\n",
              " 'System tools : set wallpaper (S)',\n",
              " 'System tools : write sync settings (D)',\n",
              " 'Your accounts : act as an account authenticator (D)',\n",
              " 'Your accounts : discover known accounts (S)',\n",
              " 'Your accounts : manage the accounts list (D)',\n",
              " 'Your location : access extra location provider commands (S)',\n",
              " 'Your location : fine (GPS) location (D)',\n",
              " 'Your location : mock location sources for testing (D)',\n",
              " 'Your personal information : add or modify calendar events and send email to guests (D)',\n",
              " \"Your personal information : read Browser's history and bookmarks (D)\",\n",
              " 'Your personal information : read calendar events (D)',\n",
              " 'Your personal information : read sensitive log data (D)',\n",
              " \"Your personal information : write Browser's history and bookmarks (D)\"]"
            ]
          },
          "metadata": {
            "tags": []
          },
          "execution_count": 50
        }
      ]
    },
    {
      "cell_type": "code",
      "metadata": {
        "colab": {
          "base_uri": "https://localhost:8080/"
        },
        "id": "dqB7SnYhKc8R",
        "outputId": "0349351d-5b0f-4a6e-8b9f-7e9ef6674265"
      },
      "source": [
        "model.shape, X.shape"
      ],
      "execution_count": 51,
      "outputs": [
        {
          "output_type": "execute_result",
          "data": {
            "text/plain": [
              "((29999, 36), (29999, 178))"
            ]
          },
          "metadata": {
            "tags": []
          },
          "execution_count": 51
        }
      ]
    },
    {
      "cell_type": "code",
      "metadata": {
        "colab": {
          "base_uri": "https://localhost:8080/"
        },
        "id": "WDTMEb4NK8Kk",
        "outputId": "1ca91bef-202a-4a87-adb7-5abfcebdfdb3"
      },
      "source": [
        "select2.scores_"
      ],
      "execution_count": 52,
      "outputs": [
        {
          "output_type": "execute_result",
          "data": {
            "text/plain": [
              "array([8.48316377e+02, 1.22467648e+07, 9.38435647e+03, 6.92615818e+01,\n",
              "       3.83530730e+02, 1.25014168e+01, 8.57571506e-01,            nan,\n",
              "       3.37571258e+00, 2.00020002e+00, 1.60032004e+00, 1.21018702e+01,\n",
              "                  nan, 4.00040004e+00, 2.00020002e+00, 1.60032004e+00,\n",
              "       3.11844063e-02, 4.00040004e+00, 3.11844063e-02, 7.89882299e-01,\n",
              "       2.00020002e+00,            nan,            nan, 2.14312860e+01,\n",
              "       1.88421154e+00, 9.01575193e-02,            nan, 2.28361972e+00,\n",
              "       1.78610719e+00, 1.69897408e+01, 1.35064511e+00, 1.05017502e+01,\n",
              "       2.48147495e+00, 4.84326596e+00, 2.80367687e-02,            nan,\n",
              "       1.00010001e+01, 5.00350080e-01, 9.99900000e-01, 1.06192678e+01,\n",
              "                  nan, 4.90063006e+00, 2.00020002e+00,            nan,\n",
              "       3.53753449e-01, 4.69820918e+00, 1.49965001e+00,            nan,\n",
              "       6.66733340e-09, 2.50075010e-01,            nan, 1.17517676e-01,\n",
              "       1.40192852e+01, 2.66595557e+00, 3.12543755e+00, 8.00080008e+00,\n",
              "                  nan, 2.00020002e+00, 1.50025003e+00,            nan,\n",
              "                  nan, 4.00040004e+00,            nan,            nan,\n",
              "       2.00020002e+00,            nan,            nan, 6.66733340e-09,\n",
              "       9.99900000e-01, 1.49985000e+00, 3.12543755e+00, 2.19683348e-01,\n",
              "       2.77405215e+00, 6.85021107e+01, 1.57925559e+00, 2.46899184e+01,\n",
              "       1.92138539e+00, 9.99900000e-01, 2.91040817e-01, 7.37777122e-01,\n",
              "                  nan, 5.10643723e+01, 2.85857169e-01, 3.83734431e-01,\n",
              "       6.19776808e-01, 2.86051352e+02, 6.01097037e-01, 2.88046124e+00,\n",
              "       1.24552967e+02, 8.14508287e+01, 8.14055111e-01, 2.47783241e+01,\n",
              "       5.37734145e-02, 3.19009144e+01, 6.63692111e-01, 8.68691884e+00,\n",
              "                  nan, 9.51404361e+00, 1.04100088e+01, 6.26282938e-03,\n",
              "       7.87664155e-04, 5.01211269e+00, 8.88118649e-01, 8.92553584e-01,\n",
              "       3.57821786e-02, 8.66256672e-01, 1.10197811e+00, 4.57691622e-01,\n",
              "       6.66733340e-09, 4.31955369e+01, 5.31003821e+00, 2.30493886e+01,\n",
              "       1.56321887e+00, 1.68473687e+01, 8.64607905e+00, 5.00216702e-01,\n",
              "       5.89589082e-02, 4.09779114e+01, 7.49825003e-01, 2.80510630e+01,\n",
              "       3.40970459e-01, 7.49825003e-01, 7.09741566e+01, 2.58370243e-01,\n",
              "       5.78944177e-02, 2.88338250e+00, 1.95093561e+01,            nan,\n",
              "       2.85857169e-01, 2.66693336e-08, 1.00010001e+01, 7.27563682e-01,\n",
              "       2.66693336e-08, 1.60032004e+00, 4.00093344e+00, 5.00150020e-01,\n",
              "       3.20064007e+00, 4.50075008e+00, 1.00070016e-01, 1.16346182e+01,\n",
              "       1.56156106e+01, 3.00130021e+00, 7.50225030e-01, 8.02293480e+01,\n",
              "       1.91807094e+01, 7.25217529e+00, 5.53581944e+00, 6.04969800e+00,\n",
              "       6.28192586e+01, 6.50178496e+00, 1.21188108e+02, 1.26814001e+02,\n",
              "       6.22561225e+00, 1.53984654e-01, 5.50352163e-02, 7.27563682e-01,\n",
              "       6.15290139e+00,            nan, 2.49188532e-02, 1.60032004e+00,\n",
              "       4.80256048e+00, 1.82481473e-01, 4.72183844e+00, 6.88345386e-02,\n",
              "       1.00030004e+00,            nan, 1.98274794e+01, 1.71354290e+00,\n",
              "       1.85667777e+02, 2.32287417e+01, 9.18511943e+00, 5.10701249e+01,\n",
              "       3.19904003e+00, 1.44169125e+00, 2.66693336e-08, 2.27026159e+02,\n",
              "       6.56266578e+00, 8.99430064e-01])"
            ]
          },
          "metadata": {
            "tags": []
          },
          "execution_count": 52
        }
      ]
    },
    {
      "cell_type": "code",
      "metadata": {
        "colab": {
          "base_uri": "https://localhost:8080/",
          "height": 414
        },
        "id": "26HH1-LwK8Hk",
        "outputId": "ac36eeb3-588e-485b-ba3a-48759647cd44"
      },
      "source": [
        "select_features_df = pd.DataFrame({'Feature':list(X.columns), 'scores':select2.scores_})\n",
        "select_features_df.sort_values(by='scores', ascending=False)"
      ],
      "execution_count": 53,
      "outputs": [
        {
          "output_type": "execute_result",
          "data": {
            "text/html": [
              "<div>\n",
              "<style scoped>\n",
              "    .dataframe tbody tr th:only-of-type {\n",
              "        vertical-align: middle;\n",
              "    }\n",
              "\n",
              "    .dataframe tbody tr th {\n",
              "        vertical-align: top;\n",
              "    }\n",
              "\n",
              "    .dataframe thead th {\n",
              "        text-align: right;\n",
              "    }\n",
              "</style>\n",
              "<table border=\"1\" class=\"dataframe\">\n",
              "  <thead>\n",
              "    <tr style=\"text-align: right;\">\n",
              "      <th></th>\n",
              "      <th>Feature</th>\n",
              "      <th>scores</th>\n",
              "    </tr>\n",
              "  </thead>\n",
              "  <tbody>\n",
              "    <tr>\n",
              "      <th>1</th>\n",
              "      <td>Number of ratings</td>\n",
              "      <td>1.224676e+07</td>\n",
              "    </tr>\n",
              "    <tr>\n",
              "      <th>2</th>\n",
              "      <td>Price</td>\n",
              "      <td>9.384356e+03</td>\n",
              "    </tr>\n",
              "    <tr>\n",
              "      <th>0</th>\n",
              "      <td>Rating</td>\n",
              "      <td>8.483164e+02</td>\n",
              "    </tr>\n",
              "    <tr>\n",
              "      <th>4</th>\n",
              "      <td>Safe permissions count</td>\n",
              "      <td>3.835307e+02</td>\n",
              "    </tr>\n",
              "    <tr>\n",
              "      <th>85</th>\n",
              "      <td>Network communication : view network state (S)</td>\n",
              "      <td>2.860514e+02</td>\n",
              "    </tr>\n",
              "    <tr>\n",
              "      <th>...</th>\n",
              "      <td>...</td>\n",
              "      <td>...</td>\n",
              "    </tr>\n",
              "    <tr>\n",
              "      <th>80</th>\n",
              "      <td>Network communication : download files without...</td>\n",
              "      <td>NaN</td>\n",
              "    </tr>\n",
              "    <tr>\n",
              "      <th>96</th>\n",
              "      <td>System tools : change background data usage se...</td>\n",
              "      <td>NaN</td>\n",
              "    </tr>\n",
              "    <tr>\n",
              "      <th>127</th>\n",
              "      <td>Your accounts : Blogger (D)</td>\n",
              "      <td>NaN</td>\n",
              "    </tr>\n",
              "    <tr>\n",
              "      <th>157</th>\n",
              "      <td>Your messages : read Gmail attachment previews...</td>\n",
              "      <td>NaN</td>\n",
              "    </tr>\n",
              "    <tr>\n",
              "      <th>165</th>\n",
              "      <td>Your messages : write instant messages (D)</td>\n",
              "      <td>NaN</td>\n",
              "    </tr>\n",
              "  </tbody>\n",
              "</table>\n",
              "<p>178 rows × 2 columns</p>\n",
              "</div>"
            ],
            "text/plain": [
              "                                               Feature        scores\n",
              "1                                    Number of ratings  1.224676e+07\n",
              "2                                                Price  9.384356e+03\n",
              "0                                               Rating  8.483164e+02\n",
              "4                               Safe permissions count  3.835307e+02\n",
              "85      Network communication : view network state (S)  2.860514e+02\n",
              "..                                                 ...           ...\n",
              "80   Network communication : download files without...           NaN\n",
              "96   System tools : change background data usage se...           NaN\n",
              "127                        Your accounts : Blogger (D)           NaN\n",
              "157  Your messages : read Gmail attachment previews...           NaN\n",
              "165         Your messages : write instant messages (D)           NaN\n",
              "\n",
              "[178 rows x 2 columns]"
            ]
          },
          "metadata": {
            "tags": []
          },
          "execution_count": 53
        }
      ]
    },
    {
      "cell_type": "markdown",
      "metadata": {
        "id": "jGyMDem2G9n_"
      },
      "source": [
        "--------------------"
      ]
    },
    {
      "cell_type": "markdown",
      "metadata": {
        "id": "61xm92QDAd7d"
      },
      "source": [
        "### **3) Embedded Method using random forest**"
      ]
    },
    {
      "cell_type": "code",
      "metadata": {
        "id": "_NgKBa9x_8OT"
      },
      "source": [
        "# create an instance of Select from Model. Pass an object of Random Forest Classifier with n_estimators=100 as argument. \n",
        "from sklearn.feature_selection import SelectFromModel\n",
        "from sklearn.ensemble import RandomForestClassifier\n",
        "\n",
        "sel = SelectFromModel(estimator = RandomForestClassifier(n_estimators=100))\n",
        "\n",
        "# fit sel on training data\n",
        "fit = sel.fit(X_train, y_train)"
      ],
      "execution_count": null,
      "outputs": []
    },
    {
      "cell_type": "code",
      "metadata": {
        "colab": {
          "base_uri": "https://localhost:8080/"
        },
        "id": "1S8EwqefA2-X",
        "outputId": "4f283d21-a192-43e7-eae2-bfb27495a419"
      },
      "source": [
        "# Using sel.get_support() print the boolean values for the features selected. \n",
        "\n",
        "sel_support = sel.get_support()\n",
        "sel_support"
      ],
      "execution_count": null,
      "outputs": [
        {
          "output_type": "execute_result",
          "data": {
            "text/plain": [
              "array([ True,  True,  True,  True,  True, False, False, False, False,\n",
              "       False, False, False, False, False, False, False, False, False,\n",
              "       False, False, False, False, False, False, False, False, False,\n",
              "       False, False, False, False, False, False, False, False, False,\n",
              "       False, False, False, False, False, False, False, False, False,\n",
              "       False, False, False, False, False, False, False, False, False,\n",
              "       False, False, False, False, False, False, False, False, False,\n",
              "       False, False, False, False, False, False, False, False, False,\n",
              "       False,  True, False,  True, False, False, False, False, False,\n",
              "       False, False, False,  True,  True, False, False,  True,  True,\n",
              "       False,  True, False,  True, False, False, False, False, False,\n",
              "       False, False, False, False, False, False, False, False, False,\n",
              "       False, False, False,  True, False, False, False, False, False,\n",
              "        True, False, False, False, False,  True, False, False, False,\n",
              "       False, False, False, False, False, False, False, False, False,\n",
              "       False, False, False, False, False, False, False, False, False,\n",
              "       False, False, False, False, False,  True,  True, False, False,\n",
              "       False, False, False, False, False, False, False, False, False,\n",
              "       False, False, False, False, False, False, False, False,  True,\n",
              "       False, False, False, False, False, False, False])"
            ]
          },
          "metadata": {
            "tags": []
          },
          "execution_count": 14
        }
      ]
    },
    {
      "cell_type": "code",
      "metadata": {
        "colab": {
          "base_uri": "https://localhost:8080/"
        },
        "id": "2gNBnZfyA27H",
        "outputId": "dc0b9a74-28d6-4a66-c250-aa2127e6fa80"
      },
      "source": [
        "# make a list named selected_feat with all columns which are True\n",
        "selected_feat = X_train.loc[:, sel_support].columns.tolist()\n",
        "\n",
        "# print length of selected_feat\n",
        "print(str(len(selected_feat)), 'selected features')"
      ],
      "execution_count": null,
      "outputs": [
        {
          "output_type": "stream",
          "text": [
            "19 selected features\n"
          ],
          "name": "stdout"
        }
      ]
    },
    {
      "cell_type": "code",
      "metadata": {
        "colab": {
          "base_uri": "https://localhost:8080/"
        },
        "id": "PMDbpO6hBFUv",
        "outputId": "8f42bcf2-5cae-4ee1-9a35-17bad348962e"
      },
      "source": [
        "# Print selected_feat\n",
        "print(selected_feat)"
      ],
      "execution_count": null,
      "outputs": [
        {
          "output_type": "stream",
          "text": [
            "['Rating', 'Number of ratings', 'Price', 'Dangerous permissions count', 'Safe permissions count', 'Hardware controls : control vibrator (S)', 'Hardware controls : take pictures and videos (D)', 'Network communication : view Wi-Fi state (S)', 'Network communication : view network state (S)', 'Phone calls : read phone state and identity (D)', 'Services that cost you money : directly call phone numbers (D)', 'Storage : modify/delete USB storage contents modify/delete SD card contents (D)', 'System tools : automatically start at boot (S)', 'System tools : prevent device from sleeping (D)', 'System tools : retrieve running applications (D)', 'System tools : set wallpaper (S)', 'Your location : coarse (network-based) location (D)', 'Your location : fine (GPS) location (D)', 'Your personal information : read contact data (D)']\n"
          ],
          "name": "stdout"
        }
      ]
    },
    {
      "cell_type": "code",
      "metadata": {
        "id": "yVh60MUEBHVP"
      },
      "source": [
        "Emb_rf = ['Rating',\n",
        "          'Number of ratings',\n",
        "          'Price',\n",
        "          'Dangerous permissions count',\n",
        "          'Safe permissions count',\n",
        "          'Hardware controls : control vibrator (S)',\n",
        "          'Hardware controls : take pictures and videos (D)',\n",
        "          'Network communication : view Wi-Fi state (S)',\n",
        "          'Network communication : view network state (S)',\n",
        "          'Phone calls : read phone state and identity (D)',\n",
        "          'Services that cost you money : directly call phone numbers (D)',\n",
        "          'Storage : modify/delete USB storage contents modify/delete SD card contents (D)',\n",
        "          'System tools : automatically start at boot (S)',\n",
        "          'System tools : prevent device from sleeping (D)',\n",
        "          'System tools : retrieve running applications (D)',\n",
        "          'System tools : set wallpaper (S)',\n",
        "          'Your location : coarse (network-based) location (D)',\n",
        "          'Your location : fine (GPS) location (D)',\n",
        "          'Your personal information : read contact data (D)']"
      ],
      "execution_count": null,
      "outputs": []
    },
    {
      "cell_type": "markdown",
      "metadata": {
        "id": "V09YzgA0BpOB"
      },
      "source": [
        "---------------------------"
      ]
    },
    {
      "cell_type": "markdown",
      "metadata": {
        "id": "DgKU8IhRGg06"
      },
      "source": [
        "### **5) Feature Importance Method**"
      ]
    },
    {
      "cell_type": "code",
      "metadata": {
        "id": "grLhOArTGjaC"
      },
      "source": [
        "# Feature importance is inbuilt with Tree Based Classifiers\n",
        "from sklearn.ensemble import RandomForestClassifier"
      ],
      "execution_count": 26,
      "outputs": []
    },
    {
      "cell_type": "code",
      "metadata": {
        "id": "LQNY-2HbHGUc"
      },
      "source": [
        "# FEATURE IMPORTANCE FEATURE SELECTION\n",
        "import numpy as np\n",
        "np.random.seed(42)"
      ],
      "execution_count": 27,
      "outputs": []
    },
    {
      "cell_type": "code",
      "metadata": {
        "colab": {
          "base_uri": "https://localhost:8080/"
        },
        "id": "Oxvv8KL1HGP6",
        "outputId": "b2b7b912-39d3-4e61-933e-aee91e7ceed5"
      },
      "source": [
        "# instantiate RandomForestClassifier\n",
        "rf_model = RandomForestClassifier()\n",
        "rf_model.fit(X,y)"
      ],
      "execution_count": 28,
      "outputs": [
        {
          "output_type": "execute_result",
          "data": {
            "text/plain": [
              "RandomForestClassifier(bootstrap=True, ccp_alpha=0.0, class_weight=None,\n",
              "                       criterion='gini', max_depth=None, max_features='auto',\n",
              "                       max_leaf_nodes=None, max_samples=None,\n",
              "                       min_impurity_decrease=0.0, min_impurity_split=None,\n",
              "                       min_samples_leaf=1, min_samples_split=2,\n",
              "                       min_weight_fraction_leaf=0.0, n_estimators=100,\n",
              "                       n_jobs=None, oob_score=False, random_state=None,\n",
              "                       verbose=0, warm_start=False)"
            ]
          },
          "metadata": {
            "tags": []
          },
          "execution_count": 28
        }
      ]
    },
    {
      "cell_type": "code",
      "metadata": {
        "id": "63_lpc6uHGMS"
      },
      "source": [
        "feat_importances = pd.Series(rf_model.feature_importances_, index=X.columns)"
      ],
      "execution_count": 29,
      "outputs": []
    },
    {
      "cell_type": "code",
      "metadata": {
        "id": "oFc-E1XcHGID"
      },
      "source": [
        "# determine 20 most important features\n",
        "df_imp_feat = feat_importances.nlargest(20)"
      ],
      "execution_count": 30,
      "outputs": []
    },
    {
      "cell_type": "code",
      "metadata": {
        "colab": {
          "base_uri": "https://localhost:8080/",
          "height": 696
        },
        "id": "M_9GmJHeH8-y",
        "outputId": "dca20f99-4444-4cd4-8e48-87d7e42586bd"
      },
      "source": [
        "# plot 20 most important features\n",
        "# feat_importances.nlargest(20).plot(kind='barh')\n",
        "\n",
        "plt.figure(figsize=(11,12))\n",
        "df_imp_feat.plot(kind='barh')\n",
        "plt.show()"
      ],
      "execution_count": 36,
      "outputs": [
        {
          "output_type": "display_data",
          "data": {
            "image/png": "[encoded data removed]",
            "text/plain": [
              "<Figure size 792x864 with 1 Axes>"
            ]
          },
          "metadata": {
            "tags": [],
            "needs_background": "light"
          }
        }
      ]
    },
    {
      "cell_type": "code",
      "metadata": {
        "colab": {
          "base_uri": "https://localhost:8080/"
        },
        "id": "ufuholHfIp-V",
        "outputId": "e0b87e96-58a8-4e81-decb-c607ec54a6d8"
      },
      "source": [
        "print(df_imp_feat)"
      ],
      "execution_count": 37,
      "outputs": [
        {
          "output_type": "stream",
          "text": [
            "Number of ratings                                                                  0.464837\n",
            "Rating                                                                             0.179456\n",
            "Price                                                                              0.075859\n",
            "Dangerous permissions count                                                        0.034599\n",
            "Safe permissions count                                                             0.025920\n",
            "Your location : fine (GPS) location (D)                                            0.012969\n",
            "Storage : modify/delete USB storage contents modify/delete SD card contents (D)    0.011472\n",
            "Phone calls : read phone state and identity (D)                                    0.010527\n",
            "System tools : prevent device from sleeping (D)                                    0.010351\n",
            "Network communication : view network state (S)                                     0.010340\n",
            "Hardware controls : control vibrator (S)                                           0.008897\n",
            "Your location : coarse (network-based) location (D)                                0.008547\n",
            "Network communication : view Wi-Fi state (S)                                       0.007826\n",
            "System tools : automatically start at boot (S)                                     0.006542\n",
            "Services that cost you money : directly call phone numbers (D)                     0.006527\n",
            "Hardware controls : take pictures and videos (D)                                   0.006120\n",
            "System tools : set wallpaper (S)                                                   0.006114\n",
            "Your personal information : read contact data (D)                                  0.005670\n",
            "System tools : retrieve running applications (D)                                   0.005051\n",
            "Your accounts : discover known accounts (S)                                        0.004842\n",
            "dtype: float64\n"
          ],
          "name": "stdout"
        }
      ]
    },
    {
      "cell_type": "markdown",
      "metadata": {
        "id": "nRbKhQMEGzQC"
      },
      "source": [
        "### **6) Feature Correlation Method**"
      ]
    },
    {
      "cell_type": "code",
      "metadata": {
        "id": "mm0N1voSKdB0"
      },
      "source": [
        "# FEATURE IMPORTANCE CORRELATION\n",
        "# determine 20 most correlated features\n",
        "\n",
        "df_corr_Android = Android.corr()['Class'].sort_values(ascending=False).head(20)\n",
        "top_corr_features = df_corr_Android.index"
      ],
      "execution_count": 38,
      "outputs": []
    },
    {
      "cell_type": "code",
      "metadata": {
        "colab": {
          "base_uri": "https://localhost:8080/",
          "height": 696
        },
        "id": "HssNrILqKc90",
        "outputId": "076a91c7-a3e1-46c7-ad9b-90963534d3be"
      },
      "source": [
        "# plot top 20 most correlated features to our target (Class)\n",
        "plt.figure(figsize=(11,12))\n",
        "df_corr_Android.plot(kind='barh')\n",
        "plt.show()"
      ],
      "execution_count": 40,
      "outputs": [
        {
          "output_type": "display_data",
          "data": {
            "image/png": "[encoded data removed]",
            "text/plain": [
              "<Figure size 792x864 with 1 Axes>"
            ]
          },
          "metadata": {
            "tags": [],
            "needs_background": "light"
          }
        }
      ]
    },
    {
      "cell_type": "code",
      "metadata": {
        "colab": {
          "base_uri": "https://localhost:8080/"
        },
        "id": "7PbFw9tlKc6U",
        "outputId": "aaf4e6fb-2e3d-4fa6-e5b7-adfbfa9ccc81"
      },
      "source": [
        "print(df_corr_Android)"
      ],
      "execution_count": 41,
      "outputs": [
        {
          "output_type": "stream",
          "text": [
            "Class                                                                                     1.000000\n",
            "Price                                                                                     0.137288\n",
            "Your location : fine (GPS) location (D)                                                   0.071757\n",
            "Your location : mock location sources for testing (D)                                     0.065737\n",
            "Services that cost you money : directly call phone numbers (D)                            0.054368\n",
            "Your location : access extra location provider commands (S)                               0.046273\n",
            "System tools : send sticky broadcast (S)                                                  0.030719\n",
            "Hardware controls : take pictures and videos (D)                                          0.029734\n",
            "Your personal information : read calendar events (D)                                      0.028033\n",
            "Your personal information : add or modify calendar events and send email to guests (D)    0.025888\n",
            "Default : delete applications (S)                                                         0.023824\n",
            "Default : power device on or off (S)                                                      0.021686\n",
            "Your accounts : access other Google services (D)                                          0.019708\n",
            "System tools : change your UI settings (D)                                                0.018677\n",
            "System tools : change network connectivity (D)                                            0.017983\n",
            "System tools : change Wi-Fi state (D)                                                     0.017269\n",
            "Your location : coarse (network-based) location (D)                                       0.016584\n",
            "Default : directly install applications (S)                                               0.012738\n",
            "Your messages : receive WAP (D)                                                           0.012558\n",
            "Your personal information : read user defined dictionary (D)                              0.010333\n",
            "Name: Class, dtype: float64\n"
          ],
          "name": "stdout"
        }
      ]
    },
    {
      "cell_type": "code",
      "metadata": {
        "id": "EiYvsJ1kMElC"
      },
      "source": [
        "# export selected features to .csv\n",
        "df_corr_Android.to_csv('feature_selection_CORRELATION.csv')"
      ],
      "execution_count": 42,
      "outputs": []
    },
    {
      "cell_type": "markdown",
      "metadata": {
        "id": "Xn-MjY0hA17Z"
      },
      "source": [
        "#### **7) PCA (Principal Component Analysis)**"
      ]
    },
    {
      "cell_type": "code",
      "metadata": {
        "id": "wdtQ21hRA4_m"
      },
      "source": [
        "from sklearn.decomposition import PCA"
      ],
      "execution_count": 12,
      "outputs": []
    },
    {
      "cell_type": "code",
      "metadata": {
        "colab": {
          "base_uri": "https://localhost:8080/"
        },
        "id": "ngEzm4NYA5cH",
        "outputId": "9854e42e-3480-4fba-ad27-f118e88c3d1f"
      },
      "source": [
        "# feature extraction\n",
        "pca = PCA(n_components=3)\n",
        "fit = pca.fit(X)\n",
        "\n",
        "# summarize components\n",
        "print(\"Explained Variance: %s\" % fit.explained_variance_ratio_)\n",
        "print(fit.components_)"
      ],
      "execution_count": 13,
      "outputs": [
        {
          "output_type": "stream",
          "text": [
            "Explained Variance: [9.99999987e-01 5.16348687e-09 4.95660629e-09]\n",
            "[[ 2.69317709e-06  1.00000000e+00 -1.85139798e-06  1.10413420e-05\n",
            "   6.14479514e-06 -7.14753584e-10  1.32267431e-09 -0.00000000e+00\n",
            "   3.21605938e-09 -1.06577483e-10  8.58639514e-09  2.53565687e-08\n",
            "  -0.00000000e+00  6.52665191e-10  1.02581322e-10  3.55565143e-09\n",
            "  -7.54970179e-10  6.52665191e-10 -1.45963935e-09  3.31132148e-09\n",
            "  -1.06577483e-10 -0.00000000e+00 -0.00000000e+00 -1.53757746e-09\n",
            "  -1.37628597e-09 -4.81382365e-09 -0.00000000e+00 -2.08784978e-09\n",
            "   8.25417129e-09 -6.77414901e-09 -3.06634079e-09 -1.30054875e-09\n",
            "   3.54806364e-08  1.87993748e-08  3.79852418e-09 -0.00000000e+00\n",
            "  -4.89854667e-10  2.42942978e-09 -1.56813119e-10 -1.71196727e-09\n",
            "  -0.00000000e+00 -5.00486093e-10 -1.07575664e-10 -0.00000000e+00\n",
            "   9.47732724e-09  7.32208551e-08 -1.00983252e-09 -0.00000000e+00\n",
            "  -2.69585672e-10 -1.40889733e-10 -0.00000000e+00  1.15406759e-09\n",
            "  -9.17685355e-09 -2.86951151e-09 -2.74855566e-10 -3.46249373e-10\n",
            "  -0.00000000e+00 -1.07734108e-10 -3.20223619e-10 -0.00000000e+00\n",
            "  -0.00000000e+00 -2.15246393e-10 -0.00000000e+00 -0.00000000e+00\n",
            "   1.02581322e-10 -0.00000000e+00 -0.00000000e+00 -3.05393481e-10\n",
            "  -2.16894183e-10 -3.25468028e-10  7.70906747e-10  1.84163584e-07\n",
            "   9.06985684e-08  1.03153375e-06  4.74345028e-07  1.58803933e-07\n",
            "   1.39638291e-10 -2.10334703e-10  1.48776787e-07  1.09207703e-07\n",
            "  -0.00000000e+00  4.45832292e-07 -6.38555567e-10  5.04080507e-07\n",
            "   6.76823773e-07  1.03248844e-06 -4.42121826e-09  1.40571143e-08\n",
            "   1.10304557e-06  1.85254501e-07  2.00503977e-07  1.00480687e-06\n",
            "   4.88149001e-09  5.07612724e-07  6.69204125e-08  3.02178169e-07\n",
            "  -0.00000000e+00  1.23702668e-07 -1.23551505e-08  3.08734131e-08\n",
            "   2.70294539e-07  1.14546531e-08  1.79796196e-08  1.57358659e-09\n",
            "   1.47598441e-08  2.72278315e-07  5.20522272e-08  9.89180301e-09\n",
            "  -9.46819492e-11  2.42755906e-07  6.68806125e-09  9.93483026e-07\n",
            "   1.42235675e-08  3.03404147e-07  8.54118110e-08 -9.63665401e-10\n",
            "   9.90170172e-10  5.51154818e-07 -6.27027231e-10  8.48372453e-08\n",
            "   5.34218897e-08 -4.05082185e-10  8.14199290e-08  2.06674627e-08\n",
            "   6.47185834e-09  2.99081451e-08  2.93913677e-07 -0.00000000e+00\n",
            "   4.66719528e-09  3.96384052e-09  1.53766937e-10  1.39261139e-07\n",
            "   3.96384052e-09  5.90168087e-09  6.01105460e-09  5.53382072e-09\n",
            "   2.64944503e-08  2.66027390e-08  1.32921375e-09  2.00224645e-09\n",
            "   2.28871845e-07  4.46588582e-09  3.57967739e-09  6.25188543e-07\n",
            "   4.61636288e-07  1.90155688e-07  3.01754496e-07  2.57334651e-07\n",
            "  -3.31395972e-08  4.46277774e-07  2.03876085e-07 -4.53256720e-08\n",
            "   5.49999010e-09  1.02629474e-08  1.88904983e-07  1.21115211e-08\n",
            "   1.14274577e-08 -0.00000000e+00  1.95410575e-07 -2.62934547e-10\n",
            "   4.02410202e-08  2.31997711e-07  8.22411796e-09  1.45270949e-09\n",
            "  -8.02378013e-10 -0.00000000e+00  7.30622184e-08  1.60266795e-08\n",
            "   6.10784739e-08  5.00579406e-09  6.38858574e-07  2.68981492e-07\n",
            "   2.94806751e-08 -1.35072036e-09  2.16378511e-09  3.67710811e-08\n",
            "   4.54280223e-07  4.44302922e-08]\n",
            " [ 4.81805954e-02 -1.28149211e-05  6.74196180e-02  9.01258272e-01\n",
            "   3.63899979e-01  2.22538358e-04  2.67134156e-04  3.55579700e-32\n",
            "   2.40759925e-04  1.03667032e-05  1.80178161e-04  6.66851859e-04\n",
            "  -0.00000000e+00  4.47714451e-05  6.41535115e-05  1.68897565e-04\n",
            "   1.77040014e-04  4.47714451e-05  2.31327300e-04  6.40486664e-04\n",
            "   1.03667032e-05 -0.00000000e+00 -0.00000000e+00  1.03600339e-04\n",
            "   1.42192566e-04  3.93057630e-04 -0.00000000e+00  1.22615360e-03\n",
            "   2.27147985e-04  1.14716060e-03  2.70485416e-04  4.86583482e-04\n",
            "   3.15582858e-03  2.22657065e-03  1.08646389e-03 -0.00000000e+00\n",
            "   4.46381834e-05  2.64218102e-04  5.11268408e-05  4.25208618e-04\n",
            "  -0.00000000e+00  1.63305715e-04  2.51955957e-05 -0.00000000e+00\n",
            "   3.86777068e-03  3.86024831e-03  1.67287922e-04 -0.00000000e+00\n",
            "   2.01185274e-05  6.56066115e-05 -0.00000000e+00  2.59430910e-04\n",
            "   6.68844314e-03  3.23973567e-04  1.42754628e-04  5.33201327e-05\n",
            "  -0.00000000e+00 -3.59695027e-06  1.41533680e-05 -0.00000000e+00\n",
            "  -0.00000000e+00  6.22660625e-05 -0.00000000e+00 -0.00000000e+00\n",
            "   6.41535115e-05 -0.00000000e+00 -0.00000000e+00  2.96776574e-05\n",
            "   1.07571040e-04  1.55123265e-04  6.26006188e-05  2.19399681e-02\n",
            "   6.41145473e-03  5.16255715e-02  2.26445559e-02  2.29130613e-02\n",
            "   9.33497070e-04  3.96327678e-05  6.93086742e-04  1.73236550e-02\n",
            "  -0.00000000e+00  4.69404108e-02  2.05910874e-04  1.50230542e-02\n",
            "   4.45400623e-02  6.47465059e-02  8.90062569e-03  8.23369075e-03\n",
            "   8.17159131e-02  3.65287312e-02  1.77686030e-02  7.41343471e-02\n",
            "   1.00285581e-03  3.93032143e-02  8.57855629e-03  2.02334611e-02\n",
            "  -0.00000000e+00  1.35262865e-02  1.47709416e-03  1.95521250e-03\n",
            "   1.83702505e-02  5.11311525e-03  2.18318281e-03  3.53819663e-04\n",
            "   7.06582764e-04  1.25263895e-02  2.68191113e-03  1.70648948e-03\n",
            "   6.37585434e-05  2.19161117e-02  4.44491328e-03  5.78885826e-02\n",
            "   9.88958302e-04  9.79212488e-03  3.57005716e-03  7.35558868e-05\n",
            "   1.03585978e-03  2.35925326e-02  2.72669644e-05  7.33127293e-03\n",
            "   2.26818032e-03  1.10641312e-04  4.33229583e-03  1.29493713e-03\n",
            "   2.69629556e-03  1.26710475e-03  9.58079080e-03 -0.00000000e+00\n",
            "   1.46565872e-04  3.59661014e-04  8.26515439e-06  6.50672951e-05\n",
            "   3.59661014e-04  2.42716828e-04  8.71001740e-04  1.85207096e-04\n",
            "   1.49449128e-04  1.24423985e-04  1.78818133e-04  9.68392609e-04\n",
            "   6.51954959e-03  1.54453748e-03  1.70454309e-04  2.87965321e-02\n",
            "   9.97363375e-03  1.45367487e-03  8.43487638e-03  2.41280718e-03\n",
            "   1.40248016e-02  5.95406065e-02  6.33168816e-02  1.25780268e-02\n",
            "   3.84341382e-04  4.47829110e-04  1.51054051e-02  4.09662908e-04\n",
            "   8.83123793e-04 -0.00000000e+00  1.97320291e-02  2.19379895e-04\n",
            "   4.50518744e-03  2.51449147e-02  1.88487987e-03  8.71439023e-04\n",
            "   2.01628715e-04 -0.00000000e+00  7.33648775e-03  1.40981612e-03\n",
            "   9.79043390e-03  7.18549745e-03  4.84283412e-02  1.37780226e-02\n",
            "   9.37862740e-04  2.95281706e-04  2.81095143e-04  7.97158272e-03\n",
            "   2.73560882e-02  1.43579090e-03]\n",
            " [-7.63473980e-02  2.89217611e-06  9.94656313e-01 -5.02911771e-02\n",
            "  -3.79122080e-02 -3.41855567e-05  1.00412085e-04  6.91047709e-33\n",
            "  -3.98322908e-05 -2.86294797e-06 -2.00896613e-05 -7.54396432e-05\n",
            "  -0.00000000e+00 -7.45128410e-06 -6.68155279e-06 -2.13566924e-05\n",
            "  -3.56730044e-05 -7.45128410e-06 -4.40081781e-05 -9.87832548e-05\n",
            "  -2.86294797e-06 -0.00000000e+00 -0.00000000e+00 -4.47319361e-05\n",
            "   7.23829381e-06 -1.36645268e-04 -0.00000000e+00 -1.59182658e-04\n",
            "  -2.69648905e-05  4.40523600e-05 -5.13642831e-05 -7.73874552e-05\n",
            "  -2.73979923e-04 -1.23107178e-04 -1.99073174e-04 -0.00000000e+00\n",
            "  -1.45444426e-05 -2.74050802e-05 -6.71500910e-06 -6.39558624e-05\n",
            "  -0.00000000e+00 -8.83699026e-06 -3.97398815e-06 -0.00000000e+00\n",
            "   3.02054096e-05 -4.42110442e-04 -1.31652849e-05 -0.00000000e+00\n",
            "  -1.62488305e-06 -9.05579475e-06 -0.00000000e+00 -5.34846774e-05\n",
            "  -5.82348542e-04 -4.17529536e-05 -1.81888830e-05 -1.14264120e-05\n",
            "  -0.00000000e+00 -1.88838019e-06  7.87796011e-06 -0.00000000e+00\n",
            "  -0.00000000e+00 -8.02509494e-06 -0.00000000e+00 -0.00000000e+00\n",
            "  -6.68155279e-06 -0.00000000e+00 -0.00000000e+00  4.04323187e-07\n",
            "  -1.09349062e-05 -1.51869135e-05 -1.24915065e-05 -1.89369649e-03\n",
            "   8.10295766e-04 -3.59756342e-03 -2.39252090e-03 -1.38280644e-03\n",
            "  -9.24581826e-05 -7.32720459e-06 -4.74531879e-05 -9.60627303e-04\n",
            "  -0.00000000e+00 -1.18623056e-02 -2.85208161e-05 -2.88961235e-03\n",
            "   1.91461160e-03 -1.92461449e-02 -8.85533121e-04 -8.25637702e-04\n",
            "  -1.05945919e-02 -7.14423370e-04  1.09141507e-03 -2.79908231e-03\n",
            "  -5.64355567e-05 -6.51925391e-03 -3.33632685e-04  5.27829135e-04\n",
            "  -0.00000000e+00 -9.82146080e-04  2.33025632e-05 -2.50292122e-04\n",
            "   2.44354394e-03 -7.51194159e-04 -1.15823694e-04 -5.38097232e-05\n",
            "  -5.43801944e-05  1.00619300e-03  2.37872939e-04 -2.53459332e-04\n",
            "  -1.09668286e-05  1.62990006e-03 -5.74538771e-04  6.22573567e-04\n",
            "  -9.78106900e-05 -8.64228647e-04 -4.12149343e-04 -2.61006146e-05\n",
            "  -6.92988232e-05 -1.57977870e-03 -1.53123714e-05 -6.52687603e-04\n",
            "  -1.95517395e-04 -2.02289603e-05 -8.00625081e-04  4.27229171e-05\n",
            "  -2.50906957e-04 -1.30279319e-04 -8.50407651e-04 -0.00000000e+00\n",
            "  -2.29331702e-05 -4.87625600e-05 -1.14112864e-05  2.94934990e-05\n",
            "  -4.87625600e-05 -2.46309649e-05 -9.28932296e-05 -1.91941260e-05\n",
            "  -7.37656309e-06 -1.64392094e-05 -2.26526154e-05 -1.29352591e-04\n",
            "  -5.75369674e-04 -8.26413844e-05 -2.35654985e-05 -3.88431158e-03\n",
            "  -8.48299437e-04 -1.10722269e-04 -9.96914380e-04 -3.17982216e-04\n",
            "   2.35581716e-03 -7.98651673e-03 -3.69743189e-03  2.84970420e-03\n",
            "  -5.04582130e-05 -5.53524280e-05  1.39382063e-03  4.93679996e-05\n",
            "   1.35475438e-05 -0.00000000e+00 -1.53950207e-03 -2.51971742e-05\n",
            "  -4.60148343e-04 -2.15368078e-03 -2.10921924e-04 -6.42787166e-05\n",
            "  -1.75326354e-05 -0.00000000e+00 -7.98543613e-04  1.35091685e-04\n",
            "  -1.58995981e-03 -5.01964682e-04  1.26113798e-03  6.49882818e-04\n",
            "  -7.66321730e-05 -5.85057440e-05 -3.81584808e-05 -1.51890014e-03\n",
            "  -2.16940928e-03 -1.19164262e-04]]\n"
          ],
          "name": "stdout"
        }
      ]
    },
    {
      "cell_type": "code",
      "metadata": {
        "id": "Ji0oRh-qA5Uh"
      },
      "source": [
        ""
      ],
      "execution_count": null,
      "outputs": []
    }
  ]
}