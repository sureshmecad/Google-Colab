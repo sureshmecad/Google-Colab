{
  "nbformat": 4,
  "nbformat_minor": 0,
  "metadata": {
    "colab": {
      "name": "6. Confusion Matrix.ipynb",
      "provenance": [],
      "authorship_tag": "ABX9TyPrPl74jqFVBeebSdiPCcpp",
      "include_colab_link": true
    },
    "kernelspec": {
      "name": "python3",
      "display_name": "Python 3"
    }
  },
  "cells": [
    {
      "cell_type": "markdown",
      "metadata": {
        "id": "view-in-github",
        "colab_type": "text"
      },
      "source": [
        "<a href=\"https://colab.research.google.com/github/sureshmecad/Google-Colab/blob/master/6_Confusion_Matrix.ipynb\" target=\"_parent\"><img src=\"https://colab.research.google.com/assets/colab-badge.svg\" alt=\"Open In Colab\"/></a>"
      ]
    },
    {
      "cell_type": "markdown",
      "metadata": {
        "id": "P25i1J-MCu9x"
      },
      "source": [
        "## Confusion matrix"
      ]
    },
    {
      "cell_type": "markdown",
      "metadata": {
        "id": "libbdYiMHKSx"
      },
      "source": [
        "- A confusion matrix is a tabular summary of the number of correct and incorrect predictions made by a classifier. It can be used to evaluate the performance of a classification model through the calculation of performance metrics like accuracy, precision, recall, and F1-score."
      ]
    },
    {
      "cell_type": "markdown",
      "metadata": {
        "id": "ZESoyPWGCxeo"
      },
      "source": [
        "- Example of confusion matrix usage to evaluate the quality of the output of a classifier on the iris data set. The diagonal elements represent the number of points for which the predicted label is equal to the true label, while off-diagonal elements are those that are mislabeled by the classifier. The higher the diagonal values of the confusion matrix the better, indicating many correct predictions.\n",
        "\n",
        "- The figures show the confusion matrix with and without normalization by class support size (number of elements in each class). This kind of normalization can be interesting in case of class imbalance to have a more visual interpretation of which class is being misclassified.\n",
        "\n",
        "- Here the results are not as good as they could be as our choice for the regularization parameter C was not the best. In real life applications this parameter is usually chosen using Tuning the hyper-parameters of an estimator."
      ]
    },
    {
      "cell_type": "code",
      "metadata": {
        "id": "1QFlTf5EBL9g"
      },
      "source": [
        "import numpy as np\n",
        "import matplotlib.pyplot as plt"
      ],
      "execution_count": 1,
      "outputs": []
    },
    {
      "cell_type": "code",
      "metadata": {
        "id": "xZR_jAYTBq0_"
      },
      "source": [
        "from sklearn import svm, datasets\n",
        "from sklearn.model_selection import train_test_split\n",
        "from sklearn.metrics import plot_confusion_matrix"
      ],
      "execution_count": 2,
      "outputs": []
    },
    {
      "cell_type": "code",
      "metadata": {
        "id": "MzYjTXY-Bq41"
      },
      "source": [
        "# import some data to play with\n",
        "iris = datasets.load_iris()\n",
        "X = iris.data\n",
        "y = iris.target\n",
        "class_names = iris.target_names"
      ],
      "execution_count": 3,
      "outputs": []
    },
    {
      "cell_type": "code",
      "metadata": {
        "id": "fKh2wdfXBq9F"
      },
      "source": [
        "# Split the data into a training set and a test set\n",
        "X_train, X_test, y_train, y_test = train_test_split(X, y, random_state=0)"
      ],
      "execution_count": 4,
      "outputs": []
    },
    {
      "cell_type": "code",
      "metadata": {
        "id": "q5zfaYs8B6Wn"
      },
      "source": [
        "# Run classifier, using a model that is too regularized (C too low) to see the impact on the results\n",
        "classifier = svm.SVC(kernel='linear', C=0.01).fit(X_train, y_train)\n",
        "\n",
        "np.set_printoptions(precision=2)"
      ],
      "execution_count": 5,
      "outputs": []
    },
    {
      "cell_type": "code",
      "metadata": {
        "id": "Y9srE8xnB6am",
        "outputId": "c0eea618-7851-4bc8-823e-ccd45424e23f",
        "colab": {
          "base_uri": "https://localhost:8080/",
          "height": 709
        }
      },
      "source": [
        "# Plot non-normalized confusion matrix\n",
        "titles_options = [(\"Confusion matrix, without normalization\", None),\n",
        "                  (\"Normalized confusion matrix\", 'true')]\n",
        "for title, normalize in titles_options:\n",
        "    disp = plot_confusion_matrix(classifier, X_test, y_test,\n",
        "                                 display_labels=class_names,\n",
        "                                 cmap=plt.cm.Blues,\n",
        "                                 normalize=normalize)\n",
        "    disp.ax_.set_title(title)\n",
        "\n",
        "    print(title)\n",
        "    print(disp.confusion_matrix)\n",
        "\n",
        "plt.show()"
      ],
      "execution_count": 6,
      "outputs": [
        {
          "output_type": "stream",
          "text": [
            "Confusion matrix, without normalization\n",
            "[[13  0  0]\n",
            " [ 0 10  6]\n",
            " [ 0  0  9]]\n",
            "Normalized confusion matrix\n",
            "[[1.   0.   0.  ]\n",
            " [0.   0.62 0.38]\n",
            " [0.   0.   1.  ]]\n"
          ],
          "name": "stdout"
        },
        {
          "output_type": "display_data",
          "data": {
            "image/png": "[encoded data removed]",
            "text/plain": [
              "<Figure size 432x288 with 2 Axes>"
            ]
          },
          "metadata": {
            "tags": [],
            "needs_background": "light"
          }
        },
        {
          "output_type": "display_data",
          "data": {
            "image/png": "[encoded data removed]",
            "text/plain": [
              "<Figure size 432x288 with 2 Axes>"
            ]
          },
          "metadata": {
            "tags": [],
            "needs_background": "light"
          }
        }
      ]
    },
    {
      "cell_type": "markdown",
      "metadata": {
        "id": "9FjLg9mgD4nz"
      },
      "source": [
        "------------------------"
      ]
    },
    {
      "cell_type": "markdown",
      "metadata": {
        "id": "Wn_DU1WYD6gT"
      },
      "source": [
        "- **Classification** is a process of **categorizing** a given set of data into **classes.**\n",
        "In Machine Learning(ML), you frame the problem, collect and clean the data, add some necessary feature variables(if any), train the model, measure its performance, improve it by using some cost function, and then it is ready to deploy.\n",
        "\n",
        "- But how do we measure its performance? Is there any particular feature to look at?\n",
        "\n",
        "- A trivial and broad answer would be to **compare** the **actual values** to the **predicted values.** But that does not solve the issue. \n",
        "Let us consider the famous MNIST dataset and try to analyze the problem."
      ]
    },
    {
      "cell_type": "code",
      "metadata": {
        "id": "AON0GP2yB6en"
      },
      "source": [
        "# Importing the dataset.\n",
        "from sklearn.datasets import fetch_openml\n",
        "mnist = fetch_openml('mnist_784', version=1)\n",
        " \n",
        "# Creating independent and dependent variables.\n",
        "X, y = mnist['data'], mnist['target']"
      ],
      "execution_count": 7,
      "outputs": []
    },
    {
      "cell_type": "code",
      "metadata": {
        "id": "D-K0B3XbB6in"
      },
      "source": [
        "# Splitting the data into training set and test set.\n",
        "X_train, X_test, y_train, y_test = X[:60000], X[60000:], y[:60000], y[60000:] "
      ],
      "execution_count": 8,
      "outputs": []
    },
    {
      "cell_type": "code",
      "metadata": {
        "id": "_v1cMx5wFEHA"
      },
      "source": [
        "\"\"\"\n",
        "The training set is already shuffled for us, which is good as this guarantees that all\n",
        "cross-validation folds will be similar.\n",
        "\"\"\"\n",
        " \n",
        "# Training a binary classifier.\n",
        "y_train_5 = (y_train == 5) # True for all 5s, False for all other digits.\n",
        "y_test_5 = (y_test == 5)"
      ],
      "execution_count": 9,
      "outputs": []
    },
    {
      "cell_type": "code",
      "metadata": {
        "id": "4-XfSOCoFELN",
        "outputId": "a50f1cd5-d84c-41ce-d5c2-29b682bb7372",
        "colab": {
          "base_uri": "https://localhost:8080/"
        }
      },
      "source": [
        "\"\"\"\n",
        "Building a dumb classifier that just classifies every single image in the “not-5” class.\n",
        "\"\"\"\n",
        " \n",
        "from sklearn.model_selection import cross_val_score\n",
        "from sklearn.base import BaseEstimator\n",
        "class Never5Classifier(BaseEstimator):\n",
        "    def fit(self, X, y=None):\n",
        "        pass\n",
        "    def predict(self, X):\n",
        "        return np.zeros((len(X), 1), dtype=bool)\n",
        " \n",
        "never_5_clf = Never5Classifier()\n",
        "cross_val_score(never_5_clf, X_train, y_train_5, cv=3, scoring=\"accuracy\")"
      ],
      "execution_count": 10,
      "outputs": [
        {
          "output_type": "execute_result",
          "data": {
            "text/plain": [
              "array([1., 1., 1.])"
            ]
          },
          "metadata": {
            "tags": []
          },
          "execution_count": 10
        }
      ]
    },
    {
      "cell_type": "markdown",
      "metadata": {
        "id": "Ma--9HPaFiq2"
      },
      "source": [
        "- If you executed the same code on an IDE, you would get an array of accuracies each with above 90% accuracy! This is simply because only about 10% of the images are 5s, so if you always guess that an image is not a 5, you will be right about 90% of the time.\n",
        "\n",
        "- This demonstrates why accuracy is generally not the preferred performance measure for classifiers, especially when you are dealing with skewed datasets (i.e., when some classes are much more frequent than others)."
      ]
    },
    {
      "cell_type": "markdown",
      "metadata": {
        "id": "M6RdhpkwFpyO"
      },
      "source": [
        "### Confusion Matrix\n",
        "- A much better way to evaluate the performance of a classifier is to look at the confusion matrix. The general idea is to count the number of times instances of class A are classified as class B. For example, to know the number of times the classifier confused images of 5s with 3s, you would look in the 5th row and 3rd column of the confusion matrix."
      ]
    },
    {
      "cell_type": "markdown",
      "metadata": {
        "id": "jENtIJAhI97i"
      },
      "source": [
        "--------------------------"
      ]
    },
    {
      "cell_type": "markdown",
      "metadata": {
        "id": "LZYqI1QAKcP6"
      },
      "source": [
        "https://www.analyticsvidhya.com/blog/2020/04/confusion-matrix-machine-learning/"
      ]
    },
    {
      "cell_type": "markdown",
      "metadata": {
        "id": "EDXIbgqqI_bB"
      },
      "source": [
        "### Here’s what we’ll cover:\n",
        "- What is a Confusion Matrix?\n",
        "\n",
        "     - True Positive\n",
        "\n",
        "     - True Negative\n",
        "\n",
        "     - False Positive – Type 1 Error\n",
        "\n",
        "     - False Negative – Type 2 Error\n",
        "\n",
        "- Why need a Confusion matrix?\n",
        "\n",
        "- Precision vs Recall\n",
        "\n",
        "- F1-score\n",
        "\n",
        "- Confusion matrix in Scikit-learn\n",
        "\n",
        "- Confusion matrix for multi-class Classification"
      ]
    },
    {
      "cell_type": "markdown",
      "metadata": {
        "id": "Ft7gnxWhJgUR"
      },
      "source": [
        "### What is a Confusion Matrix?\n",
        "- The million dollar question – what, after all, is a confusion matrix?\n",
        "\n",
        "- A Confusion matrix is an N x N matrix used for evaluating the performance of a classification model, where N is the number of target classes. The matrix compares the actual target values with those predicted by the machine learning model. This gives us a holistic view of how well our classification model is performing and what kinds of errors it is making.\n",
        "\n",
        "- For a binary classification problem, we would have a 2 x 2 matrix as shown below with 4 values:"
      ]
    },
    {
      "cell_type": "markdown",
      "metadata": {
        "id": "vwEUoqP1JtBx"
      },
      "source": [
        "image"
      ]
    },
    {
      "cell_type": "markdown",
      "metadata": {
        "id": "trjjTuLeJuyh"
      },
      "source": [
        "Let’s decipher the matrix:\n",
        "\n",
        "  - The target variable has two values: **Positive** or **Negative**\n",
        "\n",
        "  - The **columns** represent the **actual values** of the target variable\n",
        "\n",
        "  - The **rows** represent the **predicted values** of the target variable\n",
        "\n",
        "But wait – what’s TP, FP, FN and TN here? That’s the crucial part of a confusion matrix. Let’s understand each term below."
      ]
    },
    {
      "cell_type": "markdown",
      "metadata": {
        "id": "cCHn0GTPKppS"
      },
      "source": [
        "### Understanding True Positive, True Negative, False Positive and False Negative in a Confusion Matrix\n",
        "**True Positive (TP)** \n",
        "\n",
        "  - The predicted value matches the actual value\n",
        "  - The actual value was positive and the model predicted a positive value\n",
        "\n",
        "**True Negative (TN)** \n",
        "\n",
        "  - The predicted value matches the actual value\n",
        "  - The actual value was negative and the model predicted a negative value\n",
        "\n",
        "**False Positive (FP) – Type 1 error**\n",
        "\n",
        "  - The predicted value was falsely predicted\n",
        "  - The actual value was negative but the model predicted a positive value\n",
        "  - Also known as the Type 1 error\n",
        "\n",
        "**False Negative (FN) – Type 2 error**\n",
        "\n",
        "  - The predicted value was falsely predicted\n",
        "  - The actual value was positive but the model predicted a negative value\n",
        "  - Also known as the Type 2 error\n",
        "\n",
        "Let me give you an example to better understand this. Suppose we had a classification dataset with 1000 data points. We fit a classifier on it and get the below confusion matrix:"
      ]
    },
    {
      "cell_type": "markdown",
      "metadata": {
        "id": "iJBYAaWyLbHz"
      },
      "source": [
        "image"
      ]
    },
    {
      "cell_type": "markdown",
      "metadata": {
        "id": "ZcDz1oaeLcyx"
      },
      "source": [
        "The different values of the Confusion matrix would be as follows:\n",
        "\n",
        "  - True Positive (TP) = 560\n",
        "  \n",
        "      - meaning 560 positive class data points were correctly classified by the model\n",
        "\n",
        "  - True Negative (TN) = 330\n",
        "  \n",
        "      -  meaning 330 negative class data points were correctly classified by the model\n",
        "\n",
        "  - False Positive (FP) = 60\n",
        "  \n",
        "     - meaning 60 negative class data points were incorrectly classified as belonging to the positive class by the model\n",
        "\n",
        "  - False Negative (FN) = 50\n",
        "  \n",
        "     -  meaning 50 positive class data points were incorrectly classified as belonging to the negative class by the model\n",
        "\n",
        "\n",
        "This turned out to be a pretty decent classifier for our dataset considering the relatively larger number of true positive and true negative values.\n",
        "\n",
        "Remember the Type 1 and Type 2 errors. Interviewers love to ask the difference between these two!"
      ]
    },
    {
      "cell_type": "markdown",
      "metadata": {
        "id": "II0-yZORL3tJ"
      },
      "source": [
        "### Why Do We Need a Confusion Matrix?\n",
        "Before we answer this question, let’s think about a hypothetical classification problem.\n",
        "\n",
        "Let’s say you want to predict how many people are infected with a contagious virus in times before they show the symptoms, and isolate them from the healthy population (ringing any bells, yet? 😷). The two values for our target variable would be: Sick and Not Sick.\n",
        "\n",
        "Now, you must be wondering – why do we need a confusion matrix when we have our all-weather friend – Accuracy? Well, let’s see where accuracy falters."
      ]
    },
    {
      "cell_type": "markdown",
      "metadata": {
        "id": "IRle6BSiMYfp"
      },
      "source": [
        "image"
      ]
    },
    {
      "cell_type": "markdown",
      "metadata": {
        "id": "KZvOVpZ8MZ75"
      },
      "source": [
        "96%! Not bad!\n",
        "\n",
        "But it is giving the wrong idea about the result. Think about it.\n",
        "\n",
        "Our model is saying “I can predict sick people 96% of the time”. However, it is doing the opposite. It is predicting the people who will not get sick with 96% accuracy while the sick are spreading the virus!\n",
        "\n",
        "Do you think this is a correct metric for our model given the seriousness of the issue? Shouldn’t we be measuring how many positive cases we can predict correctly to arrest the spread of the contagious virus? Or maybe, out of the correctly predicted cases, how many are positive cases to check the reliability of our model?\n",
        "\n",
        "This is where we come across the dual concept of Precision and Recall."
      ]
    },
    {
      "cell_type": "markdown",
      "metadata": {
        "id": "8_AdN8u2NIiJ"
      },
      "source": [
        "### Precision vs. Recall"
      ]
    },
    {
      "cell_type": "markdown",
      "metadata": {
        "id": "rNiR3b1mNEIq"
      },
      "source": [
        "### F1-Score"
      ]
    },
    {
      "cell_type": "markdown",
      "metadata": {
        "id": "HMRw49SuNPUp"
      },
      "source": [
        "### Confusion Matrix for Multi-Class Classification"
      ]
    },
    {
      "cell_type": "markdown",
      "metadata": {
        "id": "kZ_4-j4NNVM6"
      },
      "source": [
        "- How would a confusion matrix work for a multi-class classification problem? Well, don’t scratch your head! We will have a look at that here.\n",
        "\n",
        "- Let’s draw a confusion matrix for a multiclass problem where we have to predict whether a person loves Facebook, Instagram or Snapchat. The confusion matrix would be a 3 x 3 matrix like this:\n",
        "\n"
      ]
    },
    {
      "cell_type": "markdown",
      "metadata": {
        "id": "u_455iET3peA"
      },
      "source": [
        "--------------------------------"
      ]
    },
    {
      "cell_type": "markdown",
      "metadata": {
        "id": "A5sNgnUT3rHI"
      },
      "source": [
        "2. Understanding the confusion matrix\n",
        "Suppose that the test data consists of 40 records. The classifier will then predict whether or not a person has the flu. The following confusion matrix was generated based on the classifier’​s results:"
      ]
    },
    {
      "cell_type": "markdown",
      "metadata": {
        "id": "i_b2v_LK35lw"
      },
      "source": [
        "![Confusion Matrix_11.JPG](data:image/jpeg;base64,/9j/4AAQSkZJRgABAQEAYABgAAD/4RD6RXhpZgAATU0AKgAAAAgABAE7AAIAAAAQAAAISodpAAQAAAABAAAIWpydAAEAAAAgAAAQ0uocAAcAAAgMAAAAPgAAAAAc6gAAAAgAAAAAAAAAAAAAAAAAAAAAAAAAAAAAAAAAAAAAAAAAAAAAAAAAAAAAAAAAAAAAAAAAAAAAAAAAAAAAAAAAAAAAAAAAAAAAAAAAAAAAAAAAAAAAAAAAAAAAAAAAAAAAAAAAAAAAAAAAAAAAAAAAAAAAAAAAAAAAAAAAAAAAAAAAAAAAAAAAAAAAAAAAAAAAAAAAAAAAAAAAAAAAAAAAAAAAAAAAAAAAAAAAAAAAAAAAAAAAAAAAAAAAAAAAAAAAAAAAAAAAAAAAAAAAAAAAAAAAAAAAAAAAAAAAAAAAAAAAAAAAAAAAAAAAAAAAAAAAAAAAAAAAAAAAAAAAAAAAAAAAAAAAAAAAAAAAAAAAAAAAAAAAAAAAAAAAAAAAAAAAAAAAAAAAAAAAAAAAAAAAAAAAAAAAAAAAAAAAAAAAAAAAAAAAAAAAAAAAAAAAAAAAAAAAAAAAAAAAAAAAAAAAAAAAAAAAAAAAAAAAAAAAAAAAAAAAAAAAAAAAAAAAAAAAAAAAAAAAAAAAAAAAAAAAAAAAAAAAAAAAAAAAAAAAAAAAAAAAAAAAAAAAAAAAAAAAAAAAAAAAAAAAAAAAAAAAAAAAAAAAAAAAAAAAAAAAAAAAAAAAAAAAAAAAAAAAAAAAAAAAAAAAAAAAAAAAAAAAAAAAAAAAAAAAAAAAAAAAAAAAAAAAAAAAAAAAAAAAAAAAAAAAAAAAAAAAAAAAAAAAAAAAAAAAAAAAAAAAAAAAAAAAAAAAAAAAAAAAAAAAAAAAAAAAAAAAAAAAAAAAAAAAAAAAAAAAAAAAAAAAAAAAAAAAAAAAAAAAAAAAAAAAAAAAAAAAAAAAAAAAAAAAAAAAAAAAAAAAAAAAAAAAAAAAAAAAAAAAAAAAAAAAAAAAAAAAAAAAAAAAAAAAAAAAAAAAAAAAAAAAAAAAAAAAAAAAAAAAAAAAAAAAAAAAAAAAAAAAAAAAAAAAAAAAAAAAAAAAAAAAAAAAAAAAAAAAAAAAAAAAAAAAAAAAAAAAAAAAAAAAAAAAAAAAAAAAAAAAAAAAAAAAAAAAAAAAAAAAAAAAAAAAAAAAAAAAAAAAAAAAAAAAAAAAAAAAAAAAAAAAAAAAAAAAAAAAAAAAAAAAAAAAAAAAAAAAAAAAAAAAAAAAAAAAAAAAAAAAAAAAAAAAAAAAAAAAAAAAAAAAAAAAAAAAAAAAAAAAAAAAAAAAAAAAAAAAAAAAAAAAAAAAAAAAAAAAAAAAAAAAAAAAAAAAAAAAAAAAAAAAAAAAAAAAAAAAAAAAAAAAAAAAAAAAAAAAAAAAAAAAAAAAAAAAAAAAAAAAAAAAAAAAAAAAAAAAAAAAAAAAAAAAAAAAAAAAAAAAAAAAAAAAAAAAAAAAAAAAAAAAAAAAAAAAAAAAAAAAAAAAAAAAAAAAAAAAAAAAAAAAAAAAAAAAAAAAAAAAAAAAAAAAAAAAAAAAAAAAAAAAAAAAAAAAAAAAAAAAAAAAAAAAAAAAAAAAAAAAAAAAAAAAAAAAAAAAAAAAAAAAAAAAAAAAAAAAAAAAAAAAAAAAAAAAAAAAAAAAAAAAAAAAAAAAAAAAAAAAAAAAAAAAAAAAAAAAAAAAAAAAAAAAAAAAAAAAAAAAAAAAAAAAAAAAAAAAAAAAAAAAAAAAAAAAAAAAAAAAAAAAAAAAAAAAAAAAAAAAAAAAAAAAAAAAAAAAAAAAAAAAAAAAAAAAAAAAAAAAAAAAAAAAAAAAAAAAAAAAAAAAAAAAAAAAAAAAAAAAAAAAAAAAAAAAAAAAAAAAAAAAAAAAAAAAAAAAAAAAAAAAAAAAAAAAAAAAAAAAAAAAAAAAAAAAAAAAAAAAAAAAAAAAAAAAAAAAAAAAAAAAAAAAAAAAAAAAAAAAAAAAAAAAAAAAAAAAAAAAAAAAAAAAAAAAAAAAAAAAAAAAAAAAAAAAAAAAAAAAAAAAAAAAAAAAAAAAAAAAAAAAAAAAAAAAAAAAAAAAAAAAAAAAAAAAAAAAAAAAAAAAAAAAAAAAAAAAAAAAAAAAAAAAAAAAAAAAAAAAAAAAAAAAAAAAAAAAAAAAAAAAAAAAAAAAAAAAAAAAAAAAAAAAAAAAAAAAAAAAAAAAAAAAAAAAAAAAAAAAAAAAAAAAAAAAAAAAAAAAAAAAAAAAAAAAAAAAAAAAAAAAAAAAAAAAAAAAAAAAAAAAAAAAAAAAAAAAAAAAAAAAAAAAAAAAAAAAAAAAAAAAAAAAAAAAAAAAAAAAAAAAAAAAAAAAAAAAAAAAAAAAAAAAAAAAAAAAAAAAAAAAAAAAAAAAAAAAAAAAAAAAAAAAAAAAAAAAAAAAAAAAAAAAAAAAAAAAAAAAAAAAAAAAAAAAAAAAAAAAAAAAAAAAAAAAAAAAAAAAAAAAAAAAAAAAAAAAAAAAAAAAAAAAAAAAAAAAAAAAAAAAAAAAAAAAAAAAAAAAAAAAAAAAAAAAAAAAAAAAAAAAAAAAAAAAAAAAAAAAAAAAAAAAAAAAAAAAAAAAAAAAAAAAAAAAAAAAAAAAAAAAAAAAAAAAAAAAAAAAAAAAAAAAAAAAAAAAAAAAAAAAAAAAAAAAAAAAAAAAAAAAAAAAAAAAAAAAAAAAAAAAAAAAAAAAAAAAAAAAAAAAAAAAAAAAAAAAAAAAAAAAAAAAAAAAAAAAAAAAAAAAAAAAAAAAAAAAAAAAAAAAAAAAAAAAAAAAAAAAAAAAAAAAAAAAAAAAAAAAAAAAAAAAAAAAAAAAAAAAAEFudWdhbnRpIFN1cmVzaAAABZADAAIAAAAUAAAQqJAEAAIAAAAUAAAQvJKRAAIAAAADODAAAJKSAAIAAAADODAAAOocAAcAAAgMAAAInAAAAAAc6gAAAAgAAAAAAAAAAAAAAAAAAAAAAAAAAAAAAAAAAAAAAAAAAAAAAAAAAAAAAAAAAAAAAAAAAAAAAAAAAAAAAAAAAAAAAAAAAAAAAAAAAAAAAAAAAAAAAAAAAAAAAAAAAAAAAAAAAAAAAAAAAAAAAAAAAAAAAAAAAAAAAAAAAAAAAAAAAAAAAAAAAAAAAAAAAAAAAAAAAAAAAAAAAAAAAAAAAAAAAAAAAAAAAAAAAAAAAAAAAAAAAAAAAAAAAAAAAAAAAAAAAAAAAAAAAAAAAAAAAAAAAAAAAAAAAAAAAAAAAAAAAAAAAAAAAAAAAAAAAAAAAAAAAAAAAAAAAAAAAAAAAAAAAAAAAAAAAAAAAAAAAAAAAAAAAAAAAAAAAAAAAAAAAAAAAAAAAAAAAAAAAAAAAAAAAAAAAAAAAAAAAAAAAAAAAAAAAAAAAAAAAAAAAAAAAAAAAAAAAAAAAAAAAAAAAAAAAAAAAAAAAAAAAAAAAAAAAAAAAAAAAAAAAAAAAAAAAAAAAAAAAAAAAAAAAAAAAAAAAAAAAAAAAAAAAAAAAAAAAAAAAAAAAAAAAAAAAAAAAAAAAAAAAAAAAAAAAAAAAAAAAAAAAAAAAAAAAAAAAAAAAAAAAAAAAAAAAAAAAAAAAAAAAAAAAAAAAAAAAAAAAAAAAAAAAAAAAAAAAAAAAAAAAAAAAAAAAAAAAAAAAAAAAAAAAAAAAAAAAAAAAAAAAAAAAAAAAAAAAAAAAAAAAAAAAAAAAAAAAAAAAAAAAAAAAAAAAAAAAAAAAAAAAAAAAAAAAAAAAAAAAAAAAAAAAAAAAAAAAAAAAAAAAAAAAAAAAAAAAAAAAAAAAAAAAAAAAAAAAAAAAAAAAAAAAAAAAAAAAAAAAAAAAAAAAAAAAAAAAAAAAAAAAAAAAAAAAAAAAAAAAAAAAAAAAAAAAAAAAAAAAAAAAAAAAAAAAAAAAAAAAAAAAAAAAAAAAAAAAAAAAAAAAAAAAAAAAAAAAAAAAAAAAAAAAAAAAAAAAAAAAAAAAAAAAAAAAAAAAAAAAAAAAAAAAAAAAAAAAAAAAAAAAAAAAAAAAAAAAAAAAAAAAAAAAAAAAAAAAAAAAAAAAAAAAAAAAAAAAAAAAAAAAAAAAAAAAAAAAAAAAAAAAAAAAAAAAAAAAAAAAAAAAAAAAAAAAAAAAAAAAAAAAAAAAAAAAAAAAAAAAAAAAAAAAAAAAAAAAAAAAAAAAAAAAAAAAAAAAAAAAAAAAAAAAAAAAAAAAAAAAAAAAAAAAAAAAAAAAAAAAAAAAAAAAAAAAAAAAAAAAAAAAAAAAAAAAAAAAAAAAAAAAAAAAAAAAAAAAAAAAAAAAAAAAAAAAAAAAAAAAAAAAAAAAAAAAAAAAAAAAAAAAAAAAAAAAAAAAAAAAAAAAAAAAAAAAAAAAAAAAAAAAAAAAAAAAAAAAAAAAAAAAAAAAAAAAAAAAAAAAAAAAAAAAAAAAAAAAAAAAAAAAAAAAAAAAAAAAAAAAAAAAAAAAAAAAAAAAAAAAAAAAAAAAAAAAAAAAAAAAAAAAAAAAAAAAAAAAAAAAAAAAAAAAAAAAAAAAAAAAAAAAAAAAAAAAAAAAAAAAAAAAAAAAAAAAAAAAAAAAAAAAAAAAAAAAAAAAAAAAAAAAAAAAAAAAAAAAAAAAAAAAAAAAAAAAAAAAAAAAAAAAAAAAAAAAAAAAAAAAAAAAAAAAAAAAAAAAAAAAAAAAAAAAAAAAAAAAAAAAAAAAAAAAAAAAAAAAAAAAAAAAAAAAAAAAAAAAAAAAAAAAAAAAAAAAAAAAAAAAAAAAAAAAAAAAAAAAAAAAAAAAAAAAAAAAAAAAAAAAAAAAAAAAAAAAAAAAAAAAAAAAAAAAAAAAAAAAAAAAAAAAAAAAAAAAAAAAAAAAAAAAAAAAAAAAAAAAAAAAAAAAAAAAAAAAAAAAAAAAAAAAAAAAAAAAAAAAAAAAAAAAAAAAAAAAAAAAAAAAAAAAAAAAAAAAAAAAAAAAAAAAAAAAAAAAAAAAAAAAAAAAAAAAAAAAAAAAAAAAAAAAAAAAAAAAAAAAAAAAAAAAAAAAAAAAAAAAAAAAAAAAAAAAAAAAAAAAAAAAAAAAAAAAAAAAAAAAAAAAAAAAAAAAAAAAAAAAAAAAAAAAAAAAAAAAAAAAAAAAAAAAAAAAAAAAAAAAAAAAAAAAAAAAAAAAAAAAAAAAAAAAAAAAAAAAAAAAAAAAAAAAAAAAAAAAAAAAAAAAAAAAAAAAAAAAAAAAAAAAAAAAAAAAAAAAAAAAAAAAAAAAAAAAAAAAAAAAAAAAAAAAAAAAAAAAAAAAAAAAAAAAAAAAAAAAAAAAAAAAAAAAAAAAAAAAAAAAAAAAAAAAAAAAAAAAAAAAAAAAAAAAAAAAAAAAAAAAAAAAAAAAAAAAAAAAAAAAAAAAAAAAAAAAAAAAAAAAAAAAAAAAAAAAAAAAAAAAAAAAAAAAAAAAAAAAAAAAAAAAAAAAAAAAAAAAAAAAAAAAAAAAAAAAAAAAAAAAAAAAAAAAAAAAAAAAAAAAAAAAAAAAAAAAAAAAAAAAAAAAAAAAAAAAAAAAAAAAAAAAAAAAAAAAAAAAAAAAAAAAAAAAAAAAAAAAAAAAAAAAAAAAAAAAAAAAAAAAAAAAAAAAAAAAAAAAAAAAAAAAAAAAAAAAAAAAAAAAAAAAAAAAAAAAAAAAAAAAAAAAAAAAAAAAAAAAAAAAAAAAAAAAAAAAAAAAAAAAAAAADIwMjA6MTE6MTcgMTg6MTg6MjkAMjAyMDoxMToxNyAxODoxODoyOQAAAEEAbgB1AGcAYQBuAHQAaQAgAFMAdQByAGUAcwBoAAAA/+ELImh0dHA6Ly9ucy5hZG9iZS5jb20veGFwLzEuMC8APD94cGFja2V0IGJlZ2luPSfvu78nIGlkPSdXNU0wTXBDZWhpSHpyZVN6TlRjemtjOWQnPz4NCjx4OnhtcG1ldGEgeG1sbnM6eD0iYWRvYmU6bnM6bWV0YS8iPjxyZGY6UkRGIHhtbG5zOnJkZj0iaHR0cDovL3d3dy53My5vcmcvMTk5OS8wMi8yMi1yZGYtc3ludGF4LW5zIyI+PHJkZjpEZXNjcmlwdGlvbiByZGY6YWJvdXQ9InV1aWQ6ZmFmNWJkZDUtYmEzZC0xMWRhLWFkMzEtZDMzZDc1MTgyZjFiIiB4bWxuczpkYz0iaHR0cDovL3B1cmwub3JnL2RjL2VsZW1lbnRzLzEuMS8iLz48cmRmOkRlc2NyaXB0aW9uIHJkZjphYm91dD0idXVpZDpmYWY1YmRkNS1iYTNkLTExZGEtYWQzMS1kMzNkNzUxODJmMWIiIHhtbG5zOnhtcD0iaHR0cDovL25zLmFkb2JlLmNvbS94YXAvMS4wLyI+PHhtcDpDcmVhdGVEYXRlPjIwMjAtMTEtMTdUMTg6MTg6MjkuNzk3PC94bXA6Q3JlYXRlRGF0ZT48L3JkZjpEZXNjcmlwdGlvbj48cmRmOkRlc2NyaXB0aW9uIHJkZjphYm91dD0idXVpZDpmYWY1YmRkNS1iYTNkLTExZGEtYWQzMS1kMzNkNzUxODJmMWIiIHhtbG5zOmRjPSJodHRwOi8vcHVybC5vcmcvZGMvZWxlbWVudHMvMS4xLyI+PGRjOmNyZWF0b3I+PHJkZjpTZXEgeG1sbnM6cmRmPSJodHRwOi8vd3d3LnczLm9yZy8xOTk5LzAyLzIyLXJkZi1zeW50YXgtbnMjIj48cmRmOmxpPkFudWdhbnRpIFN1cmVzaDwvcmRmOmxpPjwvcmRmOlNlcT4NCgkJCTwvZGM6Y3JlYXRvcj48L3JkZjpEZXNjcmlwdGlvbj48L3JkZjpSREY+PC94OnhtcG1ldGE+DQogICAgICAgICAgICAgICAgICAgICAgICAgICAgICAgICAgICAgICAgICAgICAgICAgICAgICAgICAgICAgICAgICAgICAgICAgICAgICAgICAgICAgICAgICAgICAgICAgICAgCiAgICAgICAgICAgICAgICAgICAgICAgICAgICAgICAgICAgICAgICAgICAgICAgICAgICAgICAgICAgICAgICAgICAgICAgICAgICAgICAgICAgICAgICAgICAgICAgICAgICAKICAgICAgICAgICAgICAgICAgICAgICAgICAgICAgICAgICAgICAgICAgICAgICAgICAgICAgICAgICAgICAgICAgICAgICAgICAgICAgICAgICAgICAgICAgICAgICAgICAgIAogICAgICAgICAgICAgICAgICAgICAgICAgICAgICAgICAgICAgICAgICAgICAgICAgICAgICAgICAgICAgICAgICAgICAgICAgICAgICAgICAgICAgICAgICAgICAgICAgICAgCiAgICAgICAgICAgICAgICAgICAgICAgICAgICAgICAgICAgICAgICAgICAgICAgICAgICAgICAgICAgICAgICAgICAgICAgICAgICAgICAgICAgICAgICAgICAgICAgICAgICAKICAgICAgICAgICAgICAgICAgICAgICAgICAgICAgICAgICAgICAgICAgICAgICAgICAgICAgICAgICAgICAgICAgICAgICAgICAgICAgICAgICAgICAgICAgICAgICAgICAgIAogICAgICAgICAgICAgICAgICAgICAgICAgICAgICAgICAgICAgICAgICAgICAgICAgICAgICAgICAgICAgICAgICAgICAgICAgICAgICAgICAgICAgICAgICAgICAgICAgICAgCiAgICAgICAgICAgICAgICAgICAgICAgICAgICAgICAgICAgICAgICAgICAgICAgICAgICAgICAgICAgICAgICAgICAgICAgICAgICAgICAgICAgICAgICAgICAgICAgICAgICAKICAgICAgICAgICAgICAgICAgICAgICAgICAgICAgICAgICAgICAgICAgICAgICAgICAgICAgICAgICAgICAgICAgICAgICAgICAgICAgICAgICAgICAgICAgICAgICAgICAgIAogICAgICAgICAgICAgICAgICAgICAgICAgICAgICAgICAgICAgICAgICAgICAgICAgICAgICAgICAgICAgICAgICAgICAgICAgICAgICAgICAgICAgICAgICAgICAgICAgICAgCiAgICAgICAgICAgICAgICAgICAgICAgICAgICAgICAgICAgICAgICAgICAgICAgICAgICAgICAgICAgICAgICAgICAgICAgICAgICAgICAgICAgICAgICAgICAgICAgICAgICAKICAgICAgICAgICAgICAgICAgICAgICAgICAgICAgICAgICAgICAgICAgICAgICAgICAgICAgICAgICAgICAgICAgICAgICAgICAgICAgICAgICAgICAgICAgICAgICAgICAgIAogICAgICAgICAgICAgICAgICAgICAgICAgICAgICAgICAgICAgICAgICAgICAgICAgICAgICAgICAgICAgICAgICAgICAgICAgICAgICAgICAgICAgICAgICAgICAgICAgICAgCiAgICAgICAgICAgICAgICAgICAgICAgICAgICAgICAgICAgICAgICAgICAgICAgICAgICAgICAgICAgICAgICAgICAgICAgICAgICAgICAgICAgICAgICAgICAgICAgICAgICAKICAgICAgICAgICAgICAgICAgICAgICAgICAgICAgICAgICAgICAgICAgICAgICAgICAgICAgICAgICAgICAgICAgICAgICAgICAgICAgICAgICAgICAgICAgICAgICAgICAgIAogICAgICAgICAgICAgICAgICAgICAgICAgICAgICAgICAgICAgICAgICAgICAgICAgICAgICAgICAgICAgICAgICAgICAgICAgICAgICAgICAgICAgICAgICAgICAgICAgICAgCiAgICAgICAgICAgICAgICAgICAgICAgICAgICAgICAgICAgICAgICAgICAgICAgICAgICAgICAgICAgICAgICAgICAgICAgICAgICAgICAgICAgICAgICAgICAgICAgICAgICAKICAgICAgICAgICAgICAgICAgICAgICAgICAgICAgICAgICAgICAgICAgICAgICAgICAgICAgICAgICAgICAgICAgICAgICAgICAgICAgICAgICAgICAgICAgICAgICAgICAgIAogICAgICAgICAgICAgICAgICAgICAgICAgICAgICAgICAgICAgICAgICAgICAgICAgICAgICAgICAgICAgICAgICAgICAgICAgICAgICAgICAgICAgICAgICAgICAgICAgICAgCiAgICAgICAgICAgICAgICAgICAgICAgICAgICAgICAgICAgICAgICAgICAgICAgICAgICAgICAgICAgICAgICAgICAgICAgICAgICAgICAgICAgICAgICAgICAgICAgICAgICAKICAgICAgICAgICAgICAgICAgICAgICAgICAgIDw/eHBhY2tldCBlbmQ9J3cnPz7/2wBDAAcFBQYFBAcGBQYIBwcIChELCgkJChUPEAwRGBUaGRgVGBcbHichGx0lHRcYIi4iJSgpKywrGiAvMy8qMicqKyr/2wBDAQcICAoJChQLCxQqHBgcKioqKioqKioqKioqKioqKioqKioqKioqKioqKioqKioqKioqKioqKioqKioqKioqKir/wAARCACrAawDASIAAhEBAxEB/8QAHwAAAQUBAQEBAQEAAAAAAAAAAAECAwQFBgcICQoL/8QAtRAAAgEDAwIEAwUFBAQAAAF9AQIDAAQRBRIhMUEGE1FhByJxFDKBkaEII0KxwRVS0fAkM2JyggkKFhcYGRolJicoKSo0NTY3ODk6Q0RFRkdISUpTVFVWV1hZWmNkZWZnaGlqc3R1dnd4eXqDhIWGh4iJipKTlJWWl5iZmqKjpKWmp6ipqrKztLW2t7i5usLDxMXGx8jJytLT1NXW19jZ2uHi4+Tl5ufo6erx8vP09fb3+Pn6/8QAHwEAAwEBAQEBAQEBAQAAAAAAAAECAwQFBgcICQoL/8QAtREAAgECBAQDBAcFBAQAAQJ3AAECAxEEBSExBhJBUQdhcRMiMoEIFEKRobHBCSMzUvAVYnLRChYkNOEl8RcYGRomJygpKjU2Nzg5OkNERUZHSElKU1RVVldYWVpjZGVmZ2hpanN0dXZ3eHl6goOEhYaHiImKkpOUlZaXmJmaoqOkpaanqKmqsrO0tba3uLm6wsPExcbHyMnK0tPU1dbX2Nna4uPk5ebn6Onq8vP09fb3+Pn6/9oADAMBAAIRAxEAPwD6RooooAKKKKACiiigAooooAKKKKACiiigAooooAKKKKACiiigAooooAKKKKACiiigAooooAKKKyYvE2lTX32RJpRJ57W4d7aVIzICQUEhUITkEYB57U0m9g23NaiiikAUVmza5DFeXdsltdTy2ohLrDGGJErEAgZ7YJPoPWtKmAUVBZXtvqFqLizk8yIsyhtpHKsVPX3BqekAUVUtdRhu769tI1cSWTqkhYDBLIHGOfRh6VBf+INO064MFxJM8yp5jpb20k5jXsWEanaDzjOM4PpTswNKio4J4bq3jntpUmhkUMkiMGVgehBHWmT3tvbXVtbzSbZbpisK7SdxClj9OAetIL9SeiiigAooooAKKKKACiiigAooooAKKKKACiiigAooooAKKKKACiiigAooooAKKKKACiiigAooooAKKKKACiiigAooooAKKKKACiiigAooooAKKKKACuQ0nQ9Qu2nW/nWGwj1ea6W2NqVkkKylkJkLY25w3CjOBzXXMoZSrAEEYII61kf8Ih4b/wChe0r/AMAo/wD4mqi7ailqrHNp4fnXwbqE1nYeXq0t1cZkeI+c0JuWYqpyG2snIUEA54IJzVeHTZ10nVRp8Lm1la2M9pa6RNYI0Yf97sR2JZmjGDtAyABya6z/AIRDw3/0L2lf+AUf/wATR/wiHhv/AKF7Sv8AwCj/APiatSSJ5TlJNNjb+2jomjTWlpM+nmJFsWg8wrNl2CbQeO+QOmemDWqlpZjxJdnXdJnvL17xGs7oWbyqkXy7QsoG2MKd2QSO55zzrf8ACIeG/wDoXtK/8Ao//iaP+EQ8N/8AQvaV/wCAUf8A8TRzL+vl/kHK7HJQ6ObXwld2Om6V9lvI7w/bcWDjz7fzmOARt85dmPlVunHfFSQ6dImkXKxW8k2nPfQPc2lvpU1onlD74SF2LMD8pYAYPPByRXU/8Ih4b/6F7Sv/AACj/wDiaP8AhEPDf/QvaV/4BR//ABNHOv6+X+Qcv9f16lHwlaw21/rb2Wmvp9lLcRtbxtamAMPKUEhCBjnPbr1ohuT4f1nV2vrO8lS9nFxBNa2sk+8CNVKHYDtIK98Ag8HrV7/hEPDf/QvaV/4BR/8AxNKfCPhskk+H9KJPU/Yo/wD4mldX+Vv6+4dnYwbW0utFXQLm+tbjZC92Zkt4WnaDzSWVSsYY4HTIyM96oJpMcmn6Nd6zosk8MOpXrTxS2JmkRJHlKkoFJIJ2ngEdD711n/CIeG/+he0r/wAAo/8A4mj/AIRDw3/0L2lf+AUf/wATT5kLldrGRBa2aeIrltZ0m4ub1rtHsboWbyLHF8uwLIBiMKQ2QSvfg55qabYSJf6cE0+eLW47x31C+a2ZRLF8+czEbXU5TaoJxxwu3jov+EQ8N/8AQvaV/wCAUf8A8TR/wiHhv/oXtK/8Ao//AImlzK39f169w5X/AF/X3djldP8AC8H2Pw2Z9I/eyTyrfs8B3NHskIWUkZKbgmA3HQVJdaXfRaCbS3tSmnwaxKXtntHmT7P823EKlS6BiDtB6DoQMV03/CIeG/8AoXtK/wDAKP8A+Jo/4RDw3/0L2lf+AUf/AMTT51e4cv8AX3nJf2Wo0mFJRK9st7JLFA/h+d7UAoBs+zbi4G4syk4AO71Gex8NpJH4bslms1sXEfNugIVOT0U8qD12n7ucdqj/AOEQ8N/9C9pX/gFH/wDE1o2dla6fbLb2FtDawKSVihjCKM8ngcUpSTVgUbMnooorMsKKKKACiiigAooooAKKKKACiiigAooooAKKKKACiiigAooooAKKKKACiiigAooooAKKKKACiiigAooooAK5yXxCbLxffWV39qkt0tIJIkt7KSfazNIGJMaEjO1evpx3ro6qRabDDrFzqKs5muYo4nUkbQELEY4zn5z39Kat1E9jn7DxLc/8Iqmpzy2WXvJ4t+pXP2NQgldUH3D82FAwQD1zzQ3jiI6Jp1/HFax/bZJIzJdXnlW8bRkg/vgrZyVO3j5h6VePhS3SO2+yXt3azW008sc8flsw85izjDoy4yeOMgDr1y+Dw2LOwitbDVtQtfLeVzIjRs0hkcu24OhU8ng4yPXk1Xui1NLT7l7zToLiRI0aVA5WOUSLz6MPvD0Nc/q7ahc+OLCxjH+hLavcMEvpICWDoNxCL82AeFJwcnOMCrsFtqmj20Wn6Lp1jLZQIFje4v3jdvUlRCwHOeh/LpVm2sJZtQi1TUY0gvUge38qCcyx7WYNnJRTn5R2/Ok9Hdba/loGvLbroZPhPWpZtP0eyuQ80s+nG5e4kkLMSrKuDnrnd1z2ra0TUv7Y0O01HyvJ+0xiTy927bntnAzVCPwpb28NgllfXtq1jA1sskbIWkjJBKtuQjqo5ABHY1paVpsOj6TbafbNI8VvGI0aQ5YgeppycXdr+tX/AMAetypJrF8kjKvhvU5ApIDrJa4b3GZgfzFaN1JLFZyyW8ImmRCyRFtu9gOFzg4z64NZ0nhTw9LI0kug6Y7uSzM1nGSxPUk4rW6dKl2toNbmAPF1o8cU8cTNb/2e1/cSbuYEHRSO7E7hjj7hrPs/H0Nx9p3Q2szx2T3iR6ffLdOVXGUcADa/I4G4Hnnirug+HIraz1X7da7P7TuJWkt3cMFiJICZHABBLYHQuatwaDJDG0Z1vU5U8kxRB3jHkjjDAhAWYYHL7u/XJqvdJ1/r+vUTw/rj63HM5GntHHt2yWF+LlSTnKn5VKkccY71sVnaboyafd3F3Jd3F7dXKokk9wEBKrnauEVV43NzjPPXpWjSla+g43tqctD4nMF/rtve/bJTbXWy38jT5ZVRfJRsFo0I+8SeTnn0xUa+Kbqy8IaPqF1Jpjy3VkksjX1+LQyPsBOwbCCTn2xxXQW2lQWsmoPG0hN/N50u4j5TsVOOOmFHXPOazV8JW8Mdotnf3tqbazWyLRmMmWJegYshwfddp/IYaat935P9Q1v9/wCa/QqXnjaOKLT3torRFvrQXcbaje/ZUYHGEVtrBn55HGOK6iNi0asy7GIBK5zg+lYj+FozpUGmw6pfwWkdoto8SGJhLGBj5tyHBIJBK7c/gKl3a5a/uLHStNa2i+SIyalIrFBwMjyTg49z9ab5X8Ilfqc7r0+qS6x4hYO0dvp2m74Ghv5YjGzRyHd5agK5JH8R42gitlfETW9lqO+3MjaZp8d0WMnMxZGbHTj7nXnrVptDS8i1CS+3RT6narb3KQy71QAMPkYqD/GeSPTioL7wnb3pnC317bJc2q2lwkDIBMihgMkqSCNx5UjPeldWsPqn/XQ2YZzNZxzhDl4w4QHnkZxzis+LV72SZEfw7qUSswBkeS2KoPU4mJwPYE1oxwJHarb43RqgTDc5GMc1nReFvD9vMk0GhabFLGwZHSzjDKRyCCBwaXu3YtbLuTa3qf8AY2h3eoiHz/s0Zfyg23djtntWbJ4olsHvk1iwWBra1F0gt5/N8xCxXbyq7WyAMcjnrWtqmnRatpdxYXLOsVwhRjGQGA9sg1BeaDZahdTzXYd/PtfsrpuwuzduyO4OT1zQrdRu/Qj0/VrqXU307VbOK0uvJE6CC4MyMmdp5KqQQccY7jBPONas3TtGWxunup725v7poxEJrrZuVAc7QEVR15Jxk8ZPArSodugK/UKKKKkYUUUUAFFFFABRRRQAUUUUAFFFFABRRRQAUUUUAFFFFABRRRQAUUUUAFFFFABRRRQAUUUUAc9rkH23xNplpJcXUcDWd1KyW91JBuZXgAJKMCcBm6+tH/CO2f8Az86r/wCDe6/+OVJqP/I56X/2D7v/ANGW1aNEpNWsyopPcyv+Eds/+fnVf/Bvdf8Axyj/AIR2z/5+dV/8G91/8crVoqeeXcrlj2Mr/hHbP/n51X/wb3X/AMco/wCEds/+fnVf/Bvdf/HK1aKOeXcOWPYyv+Eds/8An51X/wAG91/8co/4R2z/AOfnVf8Awb3X/wAcrVoo55dw5Y9jK/4R2z/5+dV/8G91/wDHKP8AhHbP/n51X/wb3X/xytWijnl3Dlj2Mr/hHbP/AJ+dV/8ABvdf/HKP+Eds/wDn51X/AMG91/8AHK1aKOeXcOWPYyv+Eds/+fnVf/Bvdf8Axys7w9o8N94Z0u7urzVXnns4pZH/ALWuRuZkBJwJMDk101ZHhP8A5EzRf+wfB/6LWnzS5dxcqvsO/wCEds/+fnVf/Bvdf/HKP+Eds/8An51X/wAG91/8crVopc8u4+WPYyv+Eds/+fnVf/Bvdf8Axyj/AIR2z/5+dV/8G91/8crVoo55dw5Y9jK/4R2z/wCfnVf/AAb3X/xyj/hHbP8A5+dV/wDBvdf/ABytWijnl3Dlj2Mr/hHbP/n51X/wb3X/AMco/wCEds/+fnVf/Bvdf/HK1aKOeXcOWPYyv+Eds/8An51X/wAG91/8co/4R2z/AOfnVf8Awb3X/wAcrVoo55dw5Y9jK/4R2z/5+dV/8G91/wDHKisrQad4wtIbe5vXimsLl3juL2adSyyQBTh2OCAzdPWtqs0/8jvp3/YOu/8A0ZbVUZNvVkySS0N6iiigkKKKKACiiigAooooAKKKKACiqdjq9jqU91DY3AlktJPLmAUja3pyOehGRkZBHapb29t9OsZry8k8u3gQySPtJ2qOScDk0AT0UA5AI6GigAoqpNqMMGq2unurmW6SR0YAbQE25zz/ALQq3QBleKL2407wnql5ZyeXcQWryRvtB2sBkHB4NZ03ib7RrWiWtj9siW5uHWcXFhLCrqIXbAaRAM7gDwc8ema29U06LVtJutPuWdYrqJonaMgMARg4yDzSXWmQ3l1YTytIGsZTLGFIwSUZOeOmGPTHNUmraid+hkR+LAPFEWj3A05nmkkjT7JqHnSoVUt+8j2KVyFPc4PHvS6H4pbWtReBIbNEXfujW+DXMW1tv7yHaNmfYnHFPs/CVvZXFk6397JDYSPJbWzmPZGWVlI4QM3DnliT79cvGgzWtxHfR3dxql1bIyWsd/MkaRhsBvnSPceB1bd+fNV7otTU1GWaDTLma1VGmjiZkDttUkDjJwf5VxWh3V/anQri8kmZrmwuLmVTfyzLMQkRDEMAEPJ+VRgZ4rp0bW7omC/07T4beRSkkkOoO7qCOymEAn8RSxeHrOL+zhulYafataxhmGHRgoO7jk4QdMd6le6n/XR/8Ae7X9dv+CR2fiD7XLoyfZtn9qWjXOfMz5WAh29Ofv8AXjpV++u5rSNWt9Pub4scFLdowV9z5jqPyNZum+FodOu7Of7fe3P2GFoLdJ2TbHGQox8qDONo5OT6k1pX2l2GqRrHqdjbXiIdyrcQrIFPqAQacuW+n9a/5Cje2o2wvbi88z7Rpd3YbcY+0NEd/wBPLdunvjrVe91yLTtTa3vkEUH2R7lLgtw2w/OuMcEAg9eefSrFho+m6V5n9l6daWXmY3/Z4Fj3Y6Z2gZ6n86zvE2i/262mW7QFoo7sSzShwuxApyuOpDfdI9Cc0tGx62KF943FlHaxywWVteTWgu3hv9QW3CK2dqBip3PweMADHJ6ZWfxwhktVsYLXF1ax3MX2+9FsZt+cJH8rB2GMEZGCRzzWzfaKt1fLe217dafdeX5Ty22w+YmchWDqwOCTg4yMnnmq174aW/tvss+q6gbR4VhngLxss4HBLFkLAnuVK+vB5qk4dhe9/Xy/4I3UP+Rz0v8A7B93/wCjLatGs7UBjxlpYHQafd/+jLatGsp9DWGwUUUVmWFFFFAGLpl3fv4l1WzvbiKWKCOF4Vih2bQxfrkkk8DnOOOgqoLq+sfE9lZPqV1di4ZxMtxbJFCo2Fh5bhBubIA27mONxPTNX7XQza61PqX9p3kr3ACyQuIthUZ2jhA3G498+uaS30AR3VvNdanfXq2pLQRXDIVRsFd2VUMxAJHzE9c9ea0urkWdjXooorMsKKKKACsjwn/yJmi/9g+D/wBFrWvWR4T/AORM0X/sHwf+i1qvsk9TXoooqSgooooAK5631e/i8RQaZeXWn3ckqs00FpEyvaALuDOS7ZByByq5yD7V0B6elY0OkahJf2dxqupQ3K2RZohDaeUzMVK5c72B4J4AXn6Yq426kyvbQ2qKKKgoKKKKACs0/wDI76d/2Drv/wBGW1aVZp/5HfTv+wdd/wDoy2q4bkT2N6sTU7zULbxPo8MVxELG6kkSSIQ/OSsbN98npkDgKDx17Vt1k6noLalqVre/2re2rWpLRJAIdoYgqT88bE5BI64q47mb2MfVNdvTq1+kQ1KHT9MKiaawjgY5KB2LeaSSoVhwi568ngV1kUqTwpLE25JFDKw7g8g1kX/hqC+uriVb28tVvECXcVuyBbgAY+bKkg44ypU4xzwMa8caQxJHEoVEUKqjsB0FN2sv6/ryDW46iiipGFFFFABVTVrmaz0i6ntIXnuEjPlRopYs/RRge+PpVa81xbfUGsbOxutRuUQSSx2uweUp6bmdlXJwcDJPGcYoW70jX9MhW5SCeC6cotteRjLSISShRv4lKnjtjNO2gXszA0vTta0bVNP82zgWKS1NnNLbXDzlpBl1lcGNQo3b+eeZKzW0a1vfB95YtoU7eIW0+Vbm4lsmHmzDGT5xG2TLgFcE9sYxxr6nb+BNJ+z/AG3S9ERZ7g2+/wCzwBY2AJO4nGAMYPoSPWrM2leBreS3juLDw9E90AYFeGBTKD0Kgj5s57Vre+v9d/1I2f8AXp+hTiNpp+s6Vf6fpd1b6eLO4gMcGmyoUkZ4mGYwmVztb5iMe9Zwt5v+EZ0Syv8ARYmXypGeS90mS9MLbuE8tMFSQc7iQPl7543xovgo6kdOGm6Cb0DJtvIh8wDGfu4z05qE2PgFZmha18NiVVZmQxwbgFzuOPQbTn0wfSldf18/8xJNf16FTw9aX6t4Wa8t7hWt7G5jlMkbDyzmMKGznHA4BPau0rCsdP8ACcEA1jTLTRo4ogzC9t4ogqAZDHzAOO4PNX/7b0o6adQGp2f2IHBuftC+XnOMbs468VMm2/66sqOisXqKitbu3vrZLiyuIriB/uywuHVu3BHBqWoKCiiigAooooAKKKKACiiigAooooAwtR/5HPS/+wfd/wDoy2rRrG16xiv/ABbpUU7zoosbtgYLiSFs+Zbj7yMDjnp0p3/CNWP/AD31T/wbXX/xyiVtLlRua9FZH/CNWP8Az31T/wAG11/8co/4Rqx/576p/wCDa6/+OVHulamvRWR/wjVj/wA99U/8G11/8co/4Rqx/wCe+qf+Da6/+OUe6Gpr0Vkf8I1Y/wDPfVP/AAbXX/xyj/hGrH/nvqn/AINrr/45R7oamvRWR/wjVj/z31T/AMG11/8AHKP+Easf+e+qf+Da6/8AjlHuhqa9FZH/AAjVj/z31T/wbXX/AMco/wCEasf+e+qf+Da6/wDjlHuhqa9ZHhP/AJEzRf8AsHwf+i1o/wCEasf+e+qf+Da6/wDjlZnhnw/ZzeEtIlebUQz2MLEJqdyigmMHhRIAB7Diq93lFrc6qisj/hGrH/nvqn/g2uv/AI5R/wAI1Y/899U/8G11/wDHKn3R6mvRWR/wjVj/AM99U/8ABtdf/HKP+Easf+e+qf8Ag2uv/jlHuhqa9FZH/CNWP/PfVP8AwbXX/wAco/4Rqx/576p/4Nrr/wCOUe6Gpr0Vkf8ACNWP/PfVP/Btdf8Axyj/AIRqx/576p/4Nrr/AOOUe6Gpr0Vkf8I1Y/8APfVP/Btdf/HKP+Easf8Anvqn/g2uv/jlHuhqa9Zp/wCR307/ALB13/6Mtqi/4Rqx/wCe+qf+Da6/+OVDZabBp3jey+zyXT+Zp11n7Rdyz4xJb9N7HHXt1/Crja5Mr2OpooooJCiiigAooooAKKKKAOMuvEVh4e8T6jKbuzu0u9nmRR38Ec1vKi7SrLJIowRjocg545zWWNW02zt9NvTq2l3NzFqU17cWtvqMGVEqyDapd1U7d655Gea9Hoq1JLoS02eaprVglnHdvqGmmaLW3vvsqanbl2jYMvBLhc/NnBPY1ei8U6TZ6zqEzXGn3septE4f+0bUeQAgUxyBpM4Ugt8u4fMce/eUU+Zdv60/yDlff+tX+p5uur6aFj0w6rpoCar9uOpf2jb7CnmmTGN+/dtPl9MY74ogvdFGlafDLqmjmSLXJL2UG+gOEMsjK/3uTgr7/lXpFFCml0/r+kDje/8AXf8AzPNb++02aDVfs+vaZHv1eO9iSO/t90yLHHnbvJUNuUkbhjI5xnNRDVdH8mS7bVJmumvVnEh1TThcKwiKbwoIiII+UgknvivT6KFNJWt/Wn+QON3f+uv+ZieErtrzw+kr3NvcuZZMyQPG3ViRvMfyb8EbtvGSa26K5aHxOYL/AF23vftkptrrZb+Rp8sqovko2C0aEfeJPJzz6YqHq216jWljqaK5JfFN1ZeENH1C6k0x5bqySWRr6/FoZH2AnYNhBJz7Y4p9542jii097aK0Rb60F3G2o3v2VGBxhFbawZ+eRxjiqcJXsJSVrnVUU2Ni0asy7GIBK5zg+lcPr0+qS6x4hYO0dvp2m74Ghv5YjGzRyHd5agK5JH8R42gipsUtTuqK55fETW9lqO+3MjaZp8d0WMnMxZGbHTj7nXnrW5DOZrOOcIcvGHCA88jOOcU5RabFF3SfclorKi1e9kmRH8O6lErMAZHktiqD1OJicD2BNTa3qf8AY2h3eoiHz/s0Zfyg23djtntSswuX6K56TxRLYPfJrFgsDW1qLpBbz+b5iFiu3lV2tkAY5HPWren6tdS6m+narZxWl15InQQXBmRkztPJVSCDjjHcYJ5w+VhzIg1H/kc9L/7B93/6Mtq0aztR/wCRz0v/ALB93/6Mtq0azl0NIhRRRUFhRRRQAUVheIvEMGlNHZC8tbS7uELJLdSKiRKOC/JG4+ijqfQZNTeFdTOr+F7C8kuUuZnhXzpEK/fx8wIXgHPaq5Xy8xPMr2NeiiipKCiiigArI8J/8iZov/YPg/8ARa1r1keE/wDkTNF/7B8H/otar7JPU16KKKkoKKKKACiszWROIVmGq/2XZwqz3EyIhc4HHLhlA6k8Z6YrJtr7Vr2HR7Ke4ks57qKWaa4SJRIUQgL8rKVUsHUkEccjA7Uo3RLdmdTRWV4evZ73TZPtb+ZNb3Ets0mAPM2OVDEDgEgAnHGc4xWrSasxoKKKKQwrNP8AyO+nf9g67/8ARltWlWaf+R307/sHXf8A6MtquG5E9jeoorLu/Eml2N61rc3DrJGVEjLBI0cRb7u9wpVM8feI6g1aTeiI2NSiqepatY6RFFJqNwsCzSrFHkElnY4AAHNXKQBRRRQAUUUUAFFFFABRRRQAUUUUAFFFFABVK20qC1k1B42kJv5vOl3EfKdipxx0wo655zV2igDAXwlbwx2i2d/e2ptrNbItGYyZYl6BiyHB912n8hhz+FozpUGmw6pfwWkdoto8SGJhLGBj5tyHBIJBK7c/gK3aKrmYrL+v68jH3a5a/uLHStNa2i+SIyalIrFBwMjyTg49z9aVtDS8i1CS+3RT6narb3KQy71QAMPkYqD/ABnkj04rXopN3BK2xg33hO3vTOFvr22S5tVtLhIGQCZFDAZJUkEbjypGe9bUcCR2q2+N0aoEw3ORjHNSUUNt7gklsZUXhbw/bzJNBoWmxSxsGR0s4wykcgggcGrWqadFq2l3Fhcs6xXCFGMZAYD2yDVuii7CyM280Gy1C6nmuw7+fa/ZXTdhdm7dkdwcnrmjTtGWxunup725v7poxEJrrZuVAc7QEVR15Jxk8ZPArSoouwsjC1H/AJHPS/8AsH3f/oy2rRrO1H/kc9L/AOwfd/8Aoy2rRqJdDSIUUUVBYUUUUAIw3KQehGKrabYRaXplvY27O0VvGI0LkFiAMc4xVqimIKKKKQwooooAKyPCf/ImaL/2D4P/AEWta9ZHhP8A5EzRf+wfB/6LWq+yT1NeiiipKCiiigDK1jQ11iW1d766tjauZEWHyyrN2ZldGBI7ccHmibRDPFbmTUrz7XbFjHegRCUBuqkbNhBGONvYHqM1q0VXM7WFZFXTtPi0yxW2gLsAWZnc5Z2Yksx9ySTxgemKtUUUnqAUUUUhhWaf+R307/sHXf8A6Mtq0qzT/wAjvp3/AGDrv/0ZbVcNyJ7G9XJa/fi71KXR57O+g08FXu54tOml+1dD5aFEIAwAGYnPYDuOtoq07O5m9VY4rxToOrzpdX1rdw3JllgEMLWDvJBGJYyVUiQADI3N8uTjk8DHZxhxEolZWkCjcyrtBPcgZOB7ZNOop82lgtrcKKKKkYUUUUAFFFFABRRRQAUUUUAFFFFABRRRQAUUUUAFFFFABRRRQAUUUUAFFFFAFDUdEstVmhmuxOJYFZY3gupYGCsVLDKMMg7V6+lVf+EU07/ntqn/AINrr/45WzRTuxWRjf8ACKad/wA9tU/8G11/8co/4RTTv+e2qf8Ag2uv/jlbNFHMwsjG/wCEU07/AJ7ap/4Nrr/45R/wimnf89tU/wDBtdf/ABytmijmYWRjf8Ipp3/PbVP/AAbXX/xyj/hFNO/57ap/4Nrr/wCOVs0UczCyMb/hFNO/57ap/wCDa6/+OUf8Ipp3/PbVP/Btdf8AxytmijmYWRjf8Ipp3/PbVP8AwbXX/wAco/4RTTv+e2qf+Da6/wDjlbNFHMwsjG/4RTTv+e2qf+Da6/8AjlMi8H6TbwpDA2oxRRqFRE1W6CqoGAABJwK3KKOZ9wsjG/4RTTv+e2qf+Da6/wDjlH/CKad/z21T/wAG11/8crZoo5mFkY3/AAimnf8APbVP/Btdf/HKP+EU07/ntqn/AINrr/45WzRRzMLIxv8AhFNO/wCe2qf+Da6/+OUf8Ipp3/PbVP8AwbXX/wAcrZoo5mFkY3/CKad/z21T/wAG11/8co/4RTTv+e2qf+Da6/8AjlbNFHMwsjG/4RTTv+e2qf8Ag2uv/jlH/CKad/z21T/wbXX/AMcrZoo5mFkY3/CKad/z21T/AMG11/8AHKmsfD9hp98LyD7U84jaIPcXs0+1WKkgB2IGSq9PStOii7CyCiiikMKKKKACiiigAooooAKKKKACiiigAooooAKKKKACiiigAooooAKKKKACiiigAooooAKKKKACiiigAooooAKKKKAMTS7zUJPE+rWV9cRSxQRwvAsUPl7A5frkkk8DnOOOAKq7NRi8UWljb67fXSopuLxJo7fasfIVfliBBZunPRGq/aaC1prk+p/2reyvcACSGQQ+WVXO0cRhuNx759c1bstNisZ7uZHkklu5vNkeQgnoAFGAMKAMAfzJJq7pO5NnaxboooqCgooooAKKKKACiiigAooooAy9bWcQrONX/sqzgVpLiZEQucDgZcMoHUnjPTGKoW8mp3fhezvL+/vLGRVLTG0s1eaVc4QlCj4JGCVC5ye2MVe1rQV1qW0ke/u7U2jmRFg8sqzdmZXRgSOoOODzSyaPcyQwKNd1JJotwM6iHdIGI4ZTHs4wMEKCOeeTVK1hdRvhm+uNR8PwXF4weUs6lsAMwVyoLAcK+ANy8YORgYxWtVTTdOh0uxW2gaRwGZ3klbLSOxLMxPqSSeMD0AFW6UrX0BbBRRRSGFFFFABRRRQAUUUUAFFFFABRRRQAUUUUAFFFFABRRRQAUUUUAFFFFABRRRQAUUUUAFFFFABRRRQAUUUUAFFFFABRRRQAUUUUAFFFFABRRRQAUUUUAFFFFABRRRQAUUUUAFFFFABRRRQAUUUUAFFFFABRRRQAUUUUAFFFFAH/2Q==)"
      ]
    },
    {
      "cell_type": "markdown",
      "metadata": {
        "id": "prNF-9ZM3_p3"
      },
      "source": [
        "The actual outcomes contain information on whether or not each individual had the flu, while the predicted outcomes are the predictions made by the classification model.\n",
        "\n",
        "According to the information provided by the confusion matrix:\n",
        "\n",
        "  - The model correctly predicted that 13 people had the flu.\n",
        "\n",
        "  - The model falsely predicted that 3 people did not have the flu.\n",
        "\n",
        "  - The model correctly classified 20 people in the has_flu = no category.\n",
        "\n",
        "  - The model incorrectly classified that 4 people (who actually did not have the flu) had the flu.\n",
        " \n",
        "  - The model predicted that 17 (13 + 4) people had the flu.\n",
        "\n",
        "  - The model predicted that 23 (20 + 3) people did not have the flu.\n",
        "\n",
        "  - In actuality, 16 (13 + 3) people had the flu.\n",
        "\n",
        "  - In actuality, 24 (4 + 20) people did not have the flu.\n",
        "\n",
        "The following illustration summarizes some important facts:\n"
      ]
    },
    {
      "cell_type": "markdown",
      "metadata": {
        "id": "G-MNjrBU4U4J"
      },
      "source": [
        "![Confusion Matrix_12.JPG](data:image/jpeg;base64,/9j/4AAQSkZJRgABAQEAYABgAAD/4RD6RXhpZgAATU0AKgAAAAgABAE7AAIAAAAQAAAISodpAAQAAAABAAAIWpydAAEAAAAgAAAQ0uocAAcAAAgMAAAAPgAAAAAc6gAAAAgAAAAAAAAAAAAAAAAAAAAAAAAAAAAAAAAAAAAAAAAAAAAAAAAAAAAAAAAAAAAAAAAAAAAAAAAAAAAAAAAAAAAAAAAAAAAAAAAAAAAAAAAAAAAAAAAAAAAAAAAAAAAAAAAAAAAAAAAAAAAAAAAAAAAAAAAAAAAAAAAAAAAAAAAAAAAAAAAAAAAAAAAAAAAAAAAAAAAAAAAAAAAAAAAAAAAAAAAAAAAAAAAAAAAAAAAAAAAAAAAAAAAAAAAAAAAAAAAAAAAAAAAAAAAAAAAAAAAAAAAAAAAAAAAAAAAAAAAAAAAAAAAAAAAAAAAAAAAAAAAAAAAAAAAAAAAAAAAAAAAAAAAAAAAAAAAAAAAAAAAAAAAAAAAAAAAAAAAAAAAAAAAAAAAAAAAAAAAAAAAAAAAAAAAAAAAAAAAAAAAAAAAAAAAAAAAAAAAAAAAAAAAAAAAAAAAAAAAAAAAAAAAAAAAAAAAAAAAAAAAAAAAAAAAAAAAAAAAAAAAAAAAAAAAAAAAAAAAAAAAAAAAAAAAAAAAAAAAAAAAAAAAAAAAAAAAAAAAAAAAAAAAAAAAAAAAAAAAAAAAAAAAAAAAAAAAAAAAAAAAAAAAAAAAAAAAAAAAAAAAAAAAAAAAAAAAAAAAAAAAAAAAAAAAAAAAAAAAAAAAAAAAAAAAAAAAAAAAAAAAAAAAAAAAAAAAAAAAAAAAAAAAAAAAAAAAAAAAAAAAAAAAAAAAAAAAAAAAAAAAAAAAAAAAAAAAAAAAAAAAAAAAAAAAAAAAAAAAAAAAAAAAAAAAAAAAAAAAAAAAAAAAAAAAAAAAAAAAAAAAAAAAAAAAAAAAAAAAAAAAAAAAAAAAAAAAAAAAAAAAAAAAAAAAAAAAAAAAAAAAAAAAAAAAAAAAAAAAAAAAAAAAAAAAAAAAAAAAAAAAAAAAAAAAAAAAAAAAAAAAAAAAAAAAAAAAAAAAAAAAAAAAAAAAAAAAAAAAAAAAAAAAAAAAAAAAAAAAAAAAAAAAAAAAAAAAAAAAAAAAAAAAAAAAAAAAAAAAAAAAAAAAAAAAAAAAAAAAAAAAAAAAAAAAAAAAAAAAAAAAAAAAAAAAAAAAAAAAAAAAAAAAAAAAAAAAAAAAAAAAAAAAAAAAAAAAAAAAAAAAAAAAAAAAAAAAAAAAAAAAAAAAAAAAAAAAAAAAAAAAAAAAAAAAAAAAAAAAAAAAAAAAAAAAAAAAAAAAAAAAAAAAAAAAAAAAAAAAAAAAAAAAAAAAAAAAAAAAAAAAAAAAAAAAAAAAAAAAAAAAAAAAAAAAAAAAAAAAAAAAAAAAAAAAAAAAAAAAAAAAAAAAAAAAAAAAAAAAAAAAAAAAAAAAAAAAAAAAAAAAAAAAAAAAAAAAAAAAAAAAAAAAAAAAAAAAAAAAAAAAAAAAAAAAAAAAAAAAAAAAAAAAAAAAAAAAAAAAAAAAAAAAAAAAAAAAAAAAAAAAAAAAAAAAAAAAAAAAAAAAAAAAAAAAAAAAAAAAAAAAAAAAAAAAAAAAAAAAAAAAAAAAAAAAAAAAAAAAAAAAAAAAAAAAAAAAAAAAAAAAAAAAAAAAAAAAAAAAAAAAAAAAAAAAAAAAAAAAAAAAAAAAAAAAAAAAAAAAAAAAAAAAAAAAAAAAAAAAAAAAAAAAAAAAAAAAAAAAAAAAAAAAAAAAAAAAAAAAAAAAAAAAAAAAAAAAAAAAAAAAAAAAAAAAAAAAAAAAAAAAAAAAAAAAAAAAAAAAAAAAAAAAAAAAAAAAAAAAAAAAAAAAAAAAAAAAAAAAAAAAAAAAAAAAAAAAAAAAAAAAAAAAAAAAAAAAAAAAAAAAAAAAAAAAAAAAAAAAAAAAAAAAAAAAAAAAAAAAAAAAAAAAAAAAAAAAAAAAAAAAAAAAAAAAAAAAAAAAAAAAAAAAAAAAAAAAAAAAAAAAAAAAAAAAAAAAAAAAAAAAAAAAAAAAAAAAAAAAAAAAAAAAAAAAAAAAAAAAAAAAAAAAAAAAAAAAAAAAAAAAAAAAAAAAAAAAAAAAAAAAAAAAAAAAAAAAAAAAAAAAAAAAAAAAAAAAAAAAAAAAAAAAAAAAAAAAAAAAAAAAAAAAAAAAAAAAAAAAAAAAAAAAAAAAAAAAAAAAAAAAAAAAAAAAAAAAAAAAAAAAAAAAAAAAAAAAAAAAAAAAAAAAAAAAAAAAAAAAAAAAAAAAAAAAAAAAAAAAAAAAAAAAAAAAAAAAAAAAAAAAAAAAAAAAAAAAAAAAAAAAAAAAAAAAAAAAAAAAAAAAAAAAAAAAAAAAAAAAAAAAAAAAAAAAAAAAAAAAAAAAAAAAAAAAAAAAAAAAAAAAAAAAAAAAAAAAAAAAAAAAAAAAAAAAAAAAAAAAAAAAAAAAAAAAAAAAAAAAAAAAAAAAAAAAAAAAAAAAAAAAAAAAAAAAAAAAAAAAAAAAAAAAAAAAAAAAAAAAAAAAAAAAAAAAAAAAAAAAAAAAAAAAAAAAAAAAAAAAAAAAAAAAAAAAAAAAAAAAAAAAAAAAAAAAAAAAAAAAAAAAAAAAAAAAAAAAAAAAAAAAAAAAAAAAAAAAAAAAAAAAAAAAAAAAAAAAAAAAAAAAAAAAAAAAAAAAAAAAAAAAAAAAAAAAAAAAAAAAAAAAAAAAAAAAAAAAAAAAAAAAAAAAAAAAAAAAAAAAAAAAAAAAAAAAAAAAAAAAAAAAAAAAAAAAAAAAAAAAAAAAAAAAAAAAAAAAAAAAAAAAAAAAAAAAAAAAAAAAAAEFudWdhbnRpIFN1cmVzaAAABZADAAIAAAAUAAAQqJAEAAIAAAAUAAAQvJKRAAIAAAADNDYAAJKSAAIAAAADNDYAAOocAAcAAAgMAAAInAAAAAAc6gAAAAgAAAAAAAAAAAAAAAAAAAAAAAAAAAAAAAAAAAAAAAAAAAAAAAAAAAAAAAAAAAAAAAAAAAAAAAAAAAAAAAAAAAAAAAAAAAAAAAAAAAAAAAAAAAAAAAAAAAAAAAAAAAAAAAAAAAAAAAAAAAAAAAAAAAAAAAAAAAAAAAAAAAAAAAAAAAAAAAAAAAAAAAAAAAAAAAAAAAAAAAAAAAAAAAAAAAAAAAAAAAAAAAAAAAAAAAAAAAAAAAAAAAAAAAAAAAAAAAAAAAAAAAAAAAAAAAAAAAAAAAAAAAAAAAAAAAAAAAAAAAAAAAAAAAAAAAAAAAAAAAAAAAAAAAAAAAAAAAAAAAAAAAAAAAAAAAAAAAAAAAAAAAAAAAAAAAAAAAAAAAAAAAAAAAAAAAAAAAAAAAAAAAAAAAAAAAAAAAAAAAAAAAAAAAAAAAAAAAAAAAAAAAAAAAAAAAAAAAAAAAAAAAAAAAAAAAAAAAAAAAAAAAAAAAAAAAAAAAAAAAAAAAAAAAAAAAAAAAAAAAAAAAAAAAAAAAAAAAAAAAAAAAAAAAAAAAAAAAAAAAAAAAAAAAAAAAAAAAAAAAAAAAAAAAAAAAAAAAAAAAAAAAAAAAAAAAAAAAAAAAAAAAAAAAAAAAAAAAAAAAAAAAAAAAAAAAAAAAAAAAAAAAAAAAAAAAAAAAAAAAAAAAAAAAAAAAAAAAAAAAAAAAAAAAAAAAAAAAAAAAAAAAAAAAAAAAAAAAAAAAAAAAAAAAAAAAAAAAAAAAAAAAAAAAAAAAAAAAAAAAAAAAAAAAAAAAAAAAAAAAAAAAAAAAAAAAAAAAAAAAAAAAAAAAAAAAAAAAAAAAAAAAAAAAAAAAAAAAAAAAAAAAAAAAAAAAAAAAAAAAAAAAAAAAAAAAAAAAAAAAAAAAAAAAAAAAAAAAAAAAAAAAAAAAAAAAAAAAAAAAAAAAAAAAAAAAAAAAAAAAAAAAAAAAAAAAAAAAAAAAAAAAAAAAAAAAAAAAAAAAAAAAAAAAAAAAAAAAAAAAAAAAAAAAAAAAAAAAAAAAAAAAAAAAAAAAAAAAAAAAAAAAAAAAAAAAAAAAAAAAAAAAAAAAAAAAAAAAAAAAAAAAAAAAAAAAAAAAAAAAAAAAAAAAAAAAAAAAAAAAAAAAAAAAAAAAAAAAAAAAAAAAAAAAAAAAAAAAAAAAAAAAAAAAAAAAAAAAAAAAAAAAAAAAAAAAAAAAAAAAAAAAAAAAAAAAAAAAAAAAAAAAAAAAAAAAAAAAAAAAAAAAAAAAAAAAAAAAAAAAAAAAAAAAAAAAAAAAAAAAAAAAAAAAAAAAAAAAAAAAAAAAAAAAAAAAAAAAAAAAAAAAAAAAAAAAAAAAAAAAAAAAAAAAAAAAAAAAAAAAAAAAAAAAAAAAAAAAAAAAAAAAAAAAAAAAAAAAAAAAAAAAAAAAAAAAAAAAAAAAAAAAAAAAAAAAAAAAAAAAAAAAAAAAAAAAAAAAAAAAAAAAAAAAAAAAAAAAAAAAAAAAAAAAAAAAAAAAAAAAAAAAAAAAAAAAAAAAAAAAAAAAAAAAAAAAAAAAAAAAAAAAAAAAAAAAAAAAAAAAAAAAAAAAAAAAAAAAAAAAAAAAAAAAAAAAAAAAAAAAAAAAAAAAAAAAAAAAAAAAAAAAAAAAAAAAAAAAAAAAAAAAAAAAAAAAAAAAAAAAAAAAAAAAAAAAAAAAAAAAAAAAAAAAAAAAAAAAAAAAAAAAAAAAAAAAAAAAAAAAAAAAAAAAAAAAAAAAAAAAAAAAAAAAAAAAAAAAAAAAAAAAAAAAAAAAAAAAAAAAAAAAAAAAAAAAAAAAAAAAAAAAAAAAAAAAAAAAAAAAAAAAAAAAAAAAAAAAAAAAAAAAAAAAAAAAAAAAAAAAAAAAAAAAAAAAAAAAAAAAAAAAAAAAAAAAAAAAAAAAAAAAAAAAAAAAAAAAAAAAAAAAAAAAAAAAAAAAAAAAAAAAAAAAAAAAAAAAAAAAAAAAAAAAAAAAAAAAAAAAAAAAAAAAAAAAAAAAAAAAAAAAAAAAAAAAAAAAAAAAAAAAAAAAAAAAAAAAAAAAAAAAAAAAAAAAAAAAAAAAAAAAAAAAAAAAAAAAAAAAAAAAAAAAAAAAAAAAAAAAAAAAAAAAAAAAAAAAAAAAAAAAAAAAAAAAAAAAAAAAAAAAAAAAAAAAAAAAAAAAAAAAAAAAAAAAAAAAAAAAAAAAAAAAAAAAAAAAAAAAAAAAAAAAAAAAAAAAAAAAAAAAAAAAAAAAAAAAAAAAAAAAAAAAAAAAAAAAAAAAAAAAAAAAAAAAAAAAAAAAAAAAAAAAAAAAAAAAAAAAAAAAAAAAAAAAAAAAAAAAAAAAAAAAAAAAAAAAAAAAAAAAAAAAAAAAAAAAAAAAAAAAAAAAAAAAAAAAAAAAAAAAAAAAAAAAAAAAAAAAAAAAAAAAAAAAAAAAAAAAAAAAAAAAAAAAAAAAAAAAAAAAAAAAAAAAAAAAAAAAAAAAAAAAAAAAAAAAAAAAAAAAAAAAAAAAAAAAAAAAAAAAAAAAAAAAAAAAAAAAAAAAAAAAAAAAAAAAAAAAAAAAAAAAAAAAAAAAAAAAAAAAAAAAAAAAAAAAAAAAAAAAAAAAAAAAAAAAAAAAAAAAAAAAAAAAAAAAAAAAAAAAAAAAAAAAAAAAAAAAAAAAAAAAAAAAAAAAAAAAAAAAAAAAAAAAAAAAAAAAAAAAAAAAAAAAAAAAAAAAAAAAAAAAAAAAAAAAAAADIwMjA6MTE6MTcgMTg6MjA6MjMAMjAyMDoxMToxNyAxODoyMDoyMwAAAEEAbgB1AGcAYQBuAHQAaQAgAFMAdQByAGUAcwBoAAAA/+ELImh0dHA6Ly9ucy5hZG9iZS5jb20veGFwLzEuMC8APD94cGFja2V0IGJlZ2luPSfvu78nIGlkPSdXNU0wTXBDZWhpSHpyZVN6TlRjemtjOWQnPz4NCjx4OnhtcG1ldGEgeG1sbnM6eD0iYWRvYmU6bnM6bWV0YS8iPjxyZGY6UkRGIHhtbG5zOnJkZj0iaHR0cDovL3d3dy53My5vcmcvMTk5OS8wMi8yMi1yZGYtc3ludGF4LW5zIyI+PHJkZjpEZXNjcmlwdGlvbiByZGY6YWJvdXQ9InV1aWQ6ZmFmNWJkZDUtYmEzZC0xMWRhLWFkMzEtZDMzZDc1MTgyZjFiIiB4bWxuczpkYz0iaHR0cDovL3B1cmwub3JnL2RjL2VsZW1lbnRzLzEuMS8iLz48cmRmOkRlc2NyaXB0aW9uIHJkZjphYm91dD0idXVpZDpmYWY1YmRkNS1iYTNkLTExZGEtYWQzMS1kMzNkNzUxODJmMWIiIHhtbG5zOnhtcD0iaHR0cDovL25zLmFkb2JlLmNvbS94YXAvMS4wLyI+PHhtcDpDcmVhdGVEYXRlPjIwMjAtMTEtMTdUMTg6MjA6MjMuNDU5PC94bXA6Q3JlYXRlRGF0ZT48L3JkZjpEZXNjcmlwdGlvbj48cmRmOkRlc2NyaXB0aW9uIHJkZjphYm91dD0idXVpZDpmYWY1YmRkNS1iYTNkLTExZGEtYWQzMS1kMzNkNzUxODJmMWIiIHhtbG5zOmRjPSJodHRwOi8vcHVybC5vcmcvZGMvZWxlbWVudHMvMS4xLyI+PGRjOmNyZWF0b3I+PHJkZjpTZXEgeG1sbnM6cmRmPSJodHRwOi8vd3d3LnczLm9yZy8xOTk5LzAyLzIyLXJkZi1zeW50YXgtbnMjIj48cmRmOmxpPkFudWdhbnRpIFN1cmVzaDwvcmRmOmxpPjwvcmRmOlNlcT4NCgkJCTwvZGM6Y3JlYXRvcj48L3JkZjpEZXNjcmlwdGlvbj48L3JkZjpSREY+PC94OnhtcG1ldGE+DQogICAgICAgICAgICAgICAgICAgICAgICAgICAgICAgICAgICAgICAgICAgICAgICAgICAgICAgICAgICAgICAgICAgICAgICAgICAgICAgICAgICAgICAgICAgICAgICAgICAgCiAgICAgICAgICAgICAgICAgICAgICAgICAgICAgICAgICAgICAgICAgICAgICAgICAgICAgICAgICAgICAgICAgICAgICAgICAgICAgICAgICAgICAgICAgICAgICAgICAgICAKICAgICAgICAgICAgICAgICAgICAgICAgICAgICAgICAgICAgICAgICAgICAgICAgICAgICAgICAgICAgICAgICAgICAgICAgICAgICAgICAgICAgICAgICAgICAgICAgICAgIAogICAgICAgICAgICAgICAgICAgICAgICAgICAgICAgICAgICAgICAgICAgICAgICAgICAgICAgICAgICAgICAgICAgICAgICAgICAgICAgICAgICAgICAgICAgICAgICAgICAgCiAgICAgICAgICAgICAgICAgICAgICAgICAgICAgICAgICAgICAgICAgICAgICAgICAgICAgICAgICAgICAgICAgICAgICAgICAgICAgICAgICAgICAgICAgICAgICAgICAgICAKICAgICAgICAgICAgICAgICAgICAgICAgICAgICAgICAgICAgICAgICAgICAgICAgICAgICAgICAgICAgICAgICAgICAgICAgICAgICAgICAgICAgICAgICAgICAgICAgICAgIAogICAgICAgICAgICAgICAgICAgICAgICAgICAgICAgICAgICAgICAgICAgICAgICAgICAgICAgICAgICAgICAgICAgICAgICAgICAgICAgICAgICAgICAgICAgICAgICAgICAgCiAgICAgICAgICAgICAgICAgICAgICAgICAgICAgICAgICAgICAgICAgICAgICAgICAgICAgICAgICAgICAgICAgICAgICAgICAgICAgICAgICAgICAgICAgICAgICAgICAgICAKICAgICAgICAgICAgICAgICAgICAgICAgICAgICAgICAgICAgICAgICAgICAgICAgICAgICAgICAgICAgICAgICAgICAgICAgICAgICAgICAgICAgICAgICAgICAgICAgICAgIAogICAgICAgICAgICAgICAgICAgICAgICAgICAgICAgICAgICAgICAgICAgICAgICAgICAgICAgICAgICAgICAgICAgICAgICAgICAgICAgICAgICAgICAgICAgICAgICAgICAgCiAgICAgICAgICAgICAgICAgICAgICAgICAgICAgICAgICAgICAgICAgICAgICAgICAgICAgICAgICAgICAgICAgICAgICAgICAgICAgICAgICAgICAgICAgICAgICAgICAgICAKICAgICAgICAgICAgICAgICAgICAgICAgICAgICAgICAgICAgICAgICAgICAgICAgICAgICAgICAgICAgICAgICAgICAgICAgICAgICAgICAgICAgICAgICAgICAgICAgICAgIAogICAgICAgICAgICAgICAgICAgICAgICAgICAgICAgICAgICAgICAgICAgICAgICAgICAgICAgICAgICAgICAgICAgICAgICAgICAgICAgICAgICAgICAgICAgICAgICAgICAgCiAgICAgICAgICAgICAgICAgICAgICAgICAgICAgICAgICAgICAgICAgICAgICAgICAgICAgICAgICAgICAgICAgICAgICAgICAgICAgICAgICAgICAgICAgICAgICAgICAgICAKICAgICAgICAgICAgICAgICAgICAgICAgICAgICAgICAgICAgICAgICAgICAgICAgICAgICAgICAgICAgICAgICAgICAgICAgICAgICAgICAgICAgICAgICAgICAgICAgICAgIAogICAgICAgICAgICAgICAgICAgICAgICAgICAgICAgICAgICAgICAgICAgICAgICAgICAgICAgICAgICAgICAgICAgICAgICAgICAgICAgICAgICAgICAgICAgICAgICAgICAgCiAgICAgICAgICAgICAgICAgICAgICAgICAgICAgICAgICAgICAgICAgICAgICAgICAgICAgICAgICAgICAgICAgICAgICAgICAgICAgICAgICAgICAgICAgICAgICAgICAgICAKICAgICAgICAgICAgICAgICAgICAgICAgICAgICAgICAgICAgICAgICAgICAgICAgICAgICAgICAgICAgICAgICAgICAgICAgICAgICAgICAgICAgICAgICAgICAgICAgICAgIAogICAgICAgICAgICAgICAgICAgICAgICAgICAgICAgICAgICAgICAgICAgICAgICAgICAgICAgICAgICAgICAgICAgICAgICAgICAgICAgICAgICAgICAgICAgICAgICAgICAgCiAgICAgICAgICAgICAgICAgICAgICAgICAgICAgICAgICAgICAgICAgICAgICAgICAgICAgICAgICAgICAgICAgICAgICAgICAgICAgICAgICAgICAgICAgICAgICAgICAgICAKICAgICAgICAgICAgICAgICAgICAgICAgICAgIDw/eHBhY2tldCBlbmQ9J3cnPz7/2wBDAAcFBQYFBAcGBQYIBwcIChELCgkJChUPEAwRGBUaGRgVGBcbHichGx0lHRcYIi4iJSgpKywrGiAvMy8qMicqKyr/2wBDAQcICAoJChQLCxQqHBgcKioqKioqKioqKioqKioqKioqKioqKioqKioqKioqKioqKioqKioqKioqKioqKioqKir/wAARCAFjAoADASIAAhEBAxEB/8QAHwAAAQUBAQEBAQEAAAAAAAAAAAECAwQFBgcICQoL/8QAtRAAAgEDAwIEAwUFBAQAAAF9AQIDAAQRBRIhMUEGE1FhByJxFDKBkaEII0KxwRVS0fAkM2JyggkKFhcYGRolJicoKSo0NTY3ODk6Q0RFRkdISUpTVFVWV1hZWmNkZWZnaGlqc3R1dnd4eXqDhIWGh4iJipKTlJWWl5iZmqKjpKWmp6ipqrKztLW2t7i5usLDxMXGx8jJytLT1NXW19jZ2uHi4+Tl5ufo6erx8vP09fb3+Pn6/8QAHwEAAwEBAQEBAQEBAQAAAAAAAAECAwQFBgcICQoL/8QAtREAAgECBAQDBAcFBAQAAQJ3AAECAxEEBSExBhJBUQdhcRMiMoEIFEKRobHBCSMzUvAVYnLRChYkNOEl8RcYGRomJygpKjU2Nzg5OkNERUZHSElKU1RVVldYWVpjZGVmZ2hpanN0dXZ3eHl6goOEhYaHiImKkpOUlZaXmJmaoqOkpaanqKmqsrO0tba3uLm6wsPExcbHyMnK0tPU1dbX2Nna4uPk5ebn6Onq8vP09fb3+Pn6/9oADAMBAAIRAxEAPwD6RooooAKKKKACiiigAooooAKKKKACiiigAooooAKKKKACiiigAooooAKKKKACiiigAooooAKKKKACiiigAooooAKKKKACiiigAooooAKKKKACiiigAooooAKKKKACiiigAooooAKKKKACiiigAooooAKKKKACiiigAooooAKKKKACiiigAooooAKKKKACiiigAooooAKKKKACiiigAooooAKKKKACiqGu30ul+HdSv7dUaW1tJZkDglSyoWGcdsiq32bxL/0FtK/8Fcn/AMkU7aCubFFY/wBm8S/9BbSv/BXJ/wDJFH2bxL/0FtK/8Fcn/wAkU7LuFzYorH+zeJf+gtpX/grk/wDkij7N4l/6C2lf+CuT/wCSKLLuFzYorH+zeJf+gtpX/grk/wDkij7N4l/6C2lf+CuT/wCSKLLuFzYorH+zeJf+gtpX/grk/wDkij7N4l/6C2lf+CuT/wCSKLLuFzYorH+zeJf+gtpX/grk/wDkij7N4l/6C2lf+CuT/wCSKLLuFzYorH+zeJf+gtpX/grk/wDkij7N4l/6C2lf+CuT/wCSKLLuFzYorH+zeJf+gtpX/grk/wDkij7N4l/6C2lf+CuT/wCSKLLuFzYorH+zeJf+gtpX/grk/wDkij7N4l/6C2lf+CuT/wCSKLLuFzYorH+zeJf+gtpX/grk/wDkioWuNbsNV0yK+vNPuYLy4aB1hsniZcQySAhjKw6xgYx3ot5hc3qKKKkYUUUUAFFFFABRRRQAUUUUAFFFFABRRRQAUUUUAFFFFABRRRQAUUUUAFFFFABRRRQAUUUUAFFFFABRRRQAUUUUAFFFFABWVP4j0+3vJ7VlvZZbdgkv2fT55lVioYDciEZ2sp6961ax9F/5C/iH/sIp/wCktvTVuomH/CT2H/Pvqv8A4KLr/wCN0f8ACT2H/Pvqv/gouv8A43Va/wBfurHxYtm8cP8AZy28ck8hBDxs7sgbOcbQVAPH8Wc8U/T/ABH50kcV5HiS41K4soTEvAEe8gtk/wB1D079qqyauJ3X9eVyb/hJ7D/n31X/AMFF1/8AG6P+EnsP+ffVf/BRdf8AxumT+KLWGIMlrdTM181gscaKWaUAnuwGPl6kj3wOahTxhASxl0zUII4rhba4kkWPbbyMQAGw5zncvK7gNwyRzQlfZA3bf+v6sWf+EnsP+ffVf/BRdf8Axuj/AISew/599V/8FF1/8brOt/FEtreaqNQt7qa0tr/yftKJGI7dCqY3chiMsSSA2M81oXXia3tbuWM2l3Lb28qxXF3Gi+VC7YwDlgxxuXJVSBnk9cHKtNN/6/UL7i/8JPYf8++q/wDgouv/AI3R/wAJPYf8++q/+Ci6/wDjdSWuure6pcWVtY3bC2mMM1wQgjRgobu2TnIHAPvinajrK2N2lpBZXV/dNGZTDbbMogONxLso6nAGcnnA4NLQepD/AMJPYf8APvqv/gouv/jdH/CT2H/Pvqv/AIKLr/43WZPr1zqfiLSrbSTeLYXFqbpprdYct86jDCXkKMncAN2SMdDWzf3jQa3pduJ3RbhpQ0axKwk2pnlicrjrxnPSm0krsVyH/hJ7D/n31X/wUXX/AMbo/wCEnsP+ffVf/BRdf/G6g07xdbai9kfsN7bQX6sbaedECSFVLFcBiwOAx5ABwcE8ZhuPFsj6Bd6jp+k3hjSzkubaeUR+VMFHB4k3DrnDBTgHuMUNW3Q1duxd/wCEnsP+ffVf/BRdf/G6P+EnsP8An31X/wAFF1/8bpYdYvZNKgujoV+8kg+aFHg3DgHdzLjB7c59RUP/AAlltJFpzWdle3cmoxySQwxIgYbMBg25gFIz644PPTL5dbWEndEv/CT2H/Pvqv8A4KLr/wCN0f8ACT2H/Pvqv/gouv8A43TE8U2s1naS2lrdXNxdlwlpGqCVTGcSbtzBRtPBO7GcYzkUtx4kWDaiaXqE84g+0TW8SJvt0yR82XAJJDYClicHGRSsg1Hf8JPYf8++q/8Agouv/jdH/CT2H/Pvqv8A4KLr/wCN0z/hKLeW4EenWV5qCiKOaSS2VMRpIMqSGZWPAz8oP58Vt0NJboE77ENndw39jBeWj+ZBcRrLE+CNysMg4PI4Pepqx/CH/IkaH/2Drf8A9FrWxUvR2GtgooopDMfxf/yJGuf9g64/9FtWwehrH8X/APIka5/2Drj/ANFtWweab+EXU4Kz8TaqnhKGS9vA99cC3ngn8pRvjeZEdcAYyu7HToy9+a37jxN5Fpq8/wBk3f2bdpbbfMx5m4Rnd04/1nTnp70s3hHT59DsNLeS4EVhIjwyK4D5U5wTjBB7jFF94Tt76e7Zr69hhvJUmnt4mQI7rtAbJUt/AuRnBx0rS8W/68v0uJ36FbUvFV3YzaqYdKSa10pk8+Q3Wx3VkVvkXYQSA3QkDpzzxV13X78aJrdrcW32C9t7JbmJ7a5L5ViQPm2qVYFTx0561tXXh20u4dVjkkmA1Ur521h8uECjbxxwo65pNS8OWmqPeNPLOhvLRbR/LZRtQMWBGQecseuR7VKcdP6/rUbuVJfFD6Z9rGu2aWxgtPtcfkXHm+YgO0gkqu1gSvHI+brVKPx7G1nqMhhsbiaztRdBLDUVuEdc4Klgo2sDjsRyOa1k8M20guf7TubnUpLmH7O0lyUUrHnO1RGqgc85xnOOeBSSeG/tOn3NnqGr6jeRXEXk/vWiBQeo2oAT7tn+dP3epPvf1/XqaNjLeTQs9/bRWzFvkSOYyfL23HaMH2GR7mse28TzTvaztYImnX07QW0/2gmQt820tHt+VW2nBDEjIyBzjoQMDFY1t4Ztra6hcXV09tbytNb2TlPKhc55GF3HG5sAsQM8DgYlWvqVrYo+Cmv7uyuNQ1PJlnnkAIvZJVwsjjAjYBUAwANvUDJ5pq69NZmdba2lu5p9ZezRJ7rCqfL3ZB2/Kgx93BxknnpW9pmnQ6VYi1t2dow7vmQgnLMWPQDuxqoPDloJll8ybct+b8fMMeYUK46fdwfr707rm12/4KFZ28/+A/1sZs/jB7Wwle7s4ILmC++xS+bd7beNtgcM02zIUqRyV+8QPeozr2s3Or6MtjBYNDdw3DyIt9vjk2MoDLIIzkYORwM7iDjFaz6AqyXUtnqN7Zy3Vz9pd4Sh58sJtwyEFcKDyCc96hTwrbQR2n2S8u7ee1kkkFxH5ZeQyHMm4MhXDHngDGOMU049f60/zB3ILvxWLHxHDplx/ZzCa4WALDqG64TcMqzQlBgdOjHGQaYviu68wyyaXGtguonT2m+1Zk3eZ5YYJswVJIz8wI54OOZ18JW63CML+9FvHefbUtcx+WJdxYnOzeRkngsevsMWT4ctDZNamSfY18L8ncM+Z5okx0+7uH1x370ly6X/AK2/4IO+tv63/wCAMtdau766ke0sIm06Gd4HuHudsmUJDMI9pBUMCOWB4Jx0zlab4/tdQvYI40tZI7pJGgS2vVmuPlUsBJEANhKg9GODgHFbEWgJb3zzW1/eRW8kpmeyUp5LOfvHldwBPJAYDOeOTTLXw4LNVhg1XUVs41ZYbQSIEiBBAAYKHwAeAWOMD0FHu2DW/wDX9epD4b8SN4g3MqWHliJZP9FvxO8ZPRZE2qUbr69D6VPrX/IX8Pf9hF//AEluKksNEFnqD31xfXV/dNEIVluBGCiZzgCNFHXnnJqPWv8AkL+Hv+wi/wD6S3FPS+gtbamxRRRWZYUUUUAFFFFABRRRQAUUUUAFFFFABRRRQAUUUUAFFFFABRRRQAUUUUAFFFFABRRRQAUUUUAFFFFABRRRQAUUUUAFFFFABWPov/IX8Q/9hFP/AElt62Kx9F/5C/iH/sIp/wCktvVLZiZLLokVxrF1eXLLLDc2a2j27JwQGYk5z334xjtWVa+Ebiy060jg1USXlpfS3kdzcW+8MXDghlDDPDnkEc8+1T6hq39na1qku2aX7JpIufKM+I2w0nAXHDHby3PGOOKaniqW3kf+2bBbSM2L38bQz+cTGmNwYbVww3LwCw688U1zW0/rcHa+v9aJfqh1t4XkiS3M9/50kWpvqDMIdoYsrDYBngfN156fjUk/hnz7PUbf7Xt+3XyXm7y87NpjO3rz/q+vHXpxSSa9qFppzXeo6VFEJPLW2SK78xnkkYKqP8gCcsMkbgOeuOYLrxVc2CXEN5piG/gmt0MEFzvR1mfYrB2VechuCB064Oaa5r6f1t/wCfd3+f5/5sWbwvdzyahA+pRDTtQufPnhFqfNxhQUEm/AB2D+DOCfrUV34Jgl1e4vIU0wrcyiWQ3emLPKjcA7JCw2g44BDYOfpVv+2tW/tZNMGlWpujb/AGiRhfN5SLvK43eXuJ4z931HuaI8e2jawtqv2IwtefY8fbl+0792zd5OPu7uM7s45xiiPPpb+ugS5db/ANdTd03TP7Omv5PN8z7ZdG4xtxsyqrjrz93r71BqGk3UuppqOl3kVpdeSYH8+3MyMmdw4DKQQc85xycg8YqDXdTvrG4vNN06D7FtlEM8l2VkJQMNxTYQFLLjqT0OO1Z1nqmsXMPhaa9Eay3QZmWG4JW4H2ZmBcbFC/NzgAgdqVnv2/y/4A20tO5sab4ci0y8spoJ2ZLSya1CuvLlmVi5P1XpjvVu80z7Xq2n3vm7PsRkOzbnfvTb1zxjrVKw8SrqMmmRW9sfNu45JJ0L82wT5WB45O/5ccdCe2Km1bVrqy1GxsbGyjup7wSbTLP5SJsAPJCsec9ge31Cab0fn+t/1BWK9r4Z+zWWhW4vMnSGLbxFjzcxunTPy/fz36VTtvBYWa6ku57NTc2sltJ9gsfs3m78ZeT52DtxweMZPrUw8VXEsdlHb6YrXlxdTWjwtc7UikjDEndtJK/L1xnBzjtVTUvHsOl3c8FylgrWQQXcb6iqSbiAzCFCuZAARydmegqrTk/ULpa9ixeeFr3ULaxS/vdPu2tFZPLuNOLwOCFAYxGX74wcNnGGPAqfSPCw0r+yQt2JBpsU8YAhC7/NYN2OFxjGP5VQ8R67qE2n6gNKgRLa0uIoJLz7UY5N+5CwRFU5GGA5Ze/42o9c+x/2n5cU9zO2qfZIIpZ8qzlEIAOPkTqSOehxknFO8mv6/rqL3V/X9dh0XheezW2l0/UEjvLea5dZJbcujJNIXZCgcHg7cEMPu++Ki1Hwd/aF7Hfzvpt1emAQztfaaJ42wSQUXeCh+Yj7xyMZyRmi81bxHHrul2q2FlH5/neZF9tJSQKqkEP5WRjJ7DnPbBqN/HlomsfZR9iMIvBZsDfKLjfu2bhDjlN3GdwOMnGOqSlpYG1q3/XUffeDTem2R57AR26RIko01RcQhMH91IrARjIyBtOMntxXU1x+qa7qF59mksYEg08atFbfaRdMJZdsoRx5YXG0sGHLcgdK7Ck7tXf9bDVlK39dTH8If8iRof8A2Drf/wBFrWxWP4Q/5EjQ/wDsHW//AKLWtilLdjWwUUUVIzH8X/8AIka5/wBg64/9FtUuuajNp9rAtmkbXN3cJbRGXJRGbPzMByQACcDGemR1EXi//kSNc/7B1x/6Larmo29jfxCw1DYwn+ZIzJtclSDuUgggg4ORyKrohdzLmvdahvrTSvPsDeXAll+1fZn8sRoF48vzM7izgffxgZ9qpw+ItVv7jTrOzWzhnnN1HcSyxu6q8DhdyKGBIJJ4JGM9eOdc+G9Na2WErcnZIZVm+2TecGI2k+bu39MDGcYFSRabpVlc2CRpHFNbxyJaoZDu2nBfAJ+Y8AknJ796d0LUyBr2qRtrdzcNZ/YtGdldEhfzJ8QrJwd+E5b0bIOOMZNWDxfqFvb3d1qNo09vDYvd7o9PuLURsuP3ZaUYfIPDDH3TxzXUw6dawNdmOEf6ZJ5k4YlhI20LyD/sqBjpVS08O6ZZMxhilZTEYRHNcySoqHGVVHYqo4HAA4GKE1bXt+n+Y7O/zMPX5PEkGkW8kmo2MTyXtooNvbyLt3SqCp/efMvIz93IBGBnIJLjUbDXtduYhDdXlvptpIyrGVWXDzFgq7iQSM4yTg461sR+FtJjs5bURXDwyKi7ZLyZygQ5XYWYlMHkbcdB6Vbg0u3sXlns42a5eFYi807uXCbioZmJPVjzyee9Dkknb+thWbev9alXStZOsaldGz8t9OgSMJMAd0kjLvP4BSnbqT6VTv8AVNYbXNRstMexijsrOK43XELuXLGT5eHUAfIOe3oe1/w5oyaDoNvYKIw6AvKYxhS7Es2M9sk49sVTufC8WoeJL2+1BpGtp7aGFYorqWPdtMhYOqkBlIccHPfj1Ha+gK9tSDTtf1LWtSVbP7La2gsbW9fzonkk/e78oMMo6L97t6HPFXR/F1/qN3ZzNbM1jeB2Krp1whtl2llYzMNjg4wcAcsMEgc9JBa6fb6pK0AjS8kgRXRX58pC235c8AFmGQKht/D2m2t6tzbxSoyOzpGLmTykZs5KxbtgPzHoO5objrZAk7anORXmo6pqvhfUryS1FtdvLNBbxQsHjVoHKhnLkMdpGcKOak0HU7y40rRtN0dLOyeSw+0u8sbyoihgoVV3hicnqW4x3zxuW3hfSLO8hube2dZIGZoQbiRkh3AhgiFtqggngADp6Clfw1pb2lpbrDLElmpSBoLmSJ0U9RvVg2DxkE84HpTco/18/wDMLMx7e91e18S6vLfXtu1rZ2cE01ukLkfccnYS+F5U87TkYHbNQWfjHUFhe8vrVpbX7FJdHy9PuIBAVG4IZJBtkyMjcNvI6c8dGmg6fFeQ3MUUiSxQrANs8gV0UEKHUNh8bj94HrUEehaLpKPOwMUCxtGUuLqRoI0bghUdiiDtgAccdKV1qFncyrL+028dabJq09pI8mlzsqW0DII8yQ5BLO2764X6Va1mTVP+Ex0eDTr6K3ikt7hnjlhaRWKlOoDrk88enPXNXLTQNI0WX7fErxNbwNH51xdSOIouCVy7EBRtBx0HPTJq1e6ZZar9nlnEhaE74ZYJ3iYZHOGQgkEduhp8yurdL/jf/MLPW/8AWiMRvEWoBW1IC2/s1NQ+xG38pvOP73yt+/dt+9zt29O+a0Na/wCQv4e/7CL/APpLcVMfD+mnUvtxgfzvM83b5z+WZMY3+XnZu/2sZ71DrX/IX8Pf9hF//SW4pJr+vQHe5sUUUVBQUUUUAFFFFABRRRQAUUUUAFFFFABRRRQAUUUUAFFFFABRRRQAUUUUAFFFFABRRRQAUUUUAFFFFABRRRQAUUUUAFFFFABWPov/ACF/EP8A2EU/9JbetisfRf8AkL+If+win/pLb1S2YmS3ug2t/PeyzSTK17ZfYpApGAmWORx1+c+3TiibQLK5uIpLgPKsdnJZeWxG14327s8Zz8g/M1p0Urv+v68x/wBf19yMRfDSNYvaXep6heRbUEPnPHmAqcqylUBLAgHLbjx9cn/CL20iubu7urq4knhme5lKB28pgyJ8qhQoIPAA6nnJrMj1PUtP1bxPe3N3HPYaeRILbym3YECsArF8L7/LycnjNaOn6nqUer21jq7WspvLVriJrWJo/LKldynczbvvjDDHQ8Vev6/qS7f19xpDTohrJ1Lc/nG3FvtyNu0Nuz0znJ9apxeH1t7tntNRvbe2afz2s42Tyi5O5uShcAnkgMByeOTWfqa3z+PLRdNlt4Zf7NlzJcRNIoHmR/whlz+f51TbxjeXEGnxW8awXM8Eks8gsZ7tVKP5ZCpFzgtk7icADuTSinZNf1v/AJA2rtP+tF/mblr4ejtLhvJv7wWZd3+wbk8kF85/h34yScbsA9ulNsvDUNkunqb27uF01ibYTGP5FMZTb8qAkAHvznqTWBLr0sF/Brd/ZSRSw6HcTS2xVkOVkTIwwBAOO46Gr91ruraSl1FqJsri4/sya+gaCF40Ux4yjAuSwyy4II78CnZpf10v/kCs3/XW3+aLmgaL9h1XV9RlgMMl7cny4y4bbGvcY4G5i74/2uec0a3pV5qGu6TNaXE1pHbibzbiDyyyblAAw6sDnHpVI+JNR0yRm1gWs8baZJqCC1jZCnl7coSzHdneMNheh4qxp+payviC0sdVlsZY7qykucW0DoY2Voxt3M53D5zzgdKLO6/ra/8AkxXVr/1rb/NFy28OWdr9hMbzM9lLJOHZgTLJIGDs/HJO4njA9OOKS48PrJeT3FpqN7YfaiDcR2zIFlIG3d8yEqcADKkHgdxmqWoyaofHunwWV9FDbtYzO8UkLOGxJGCcB1GcNwccc9c8RL4i1AqmpEW39mvqH2EW/lN5w/e+Tv37tv3+du3p3zSV3Z9/87Ddlf8Arpct3vhO2vZLn/Tr2C3upVmmtonQI8gx83KlhnaMgHBx061PN4btJYbtPNnR7i7F4JUYB4ZQFAKcY/h6EHOSDkHFVvF8t/FYWJ0y6W1kbULdGZkZgQXAwQGXj1GeRkcdayp5tYste165tJ7Ey21hbyzGW3fbKVWQ4UB/kzjqS2PQ0K/Le/8AWn/AB72t/Wq/zNyTw6Zfs8j6vqBu7eRpEuz5W/DLtKY8vZtwBwF689acnh9YbxpbTUr62gefz5LSJk8t3zk8lC4BIyQGAOT6msbUfF16bp4tKgwYbWO4KGwuLoys4LCPdFxHwPvHPXpxz1dtMbi0hmaNojIiuY3GGXIzg+4ofMtxJxexjN4TtmuFK316lst2LxLNXTyll3byR8u7BbJ2lscnAHGN6iipu7WL63Mfwh/yJGh/9g63/wDRa1sVj+EP+RI0P/sHW/8A6LWtinLdiWwUUUVIzH8X/wDIka5/2Drj/wBFtVPxBBNc+KtCit7uS0Yrc5liVWcDavTcCv5g9/qLni//AJEjXP8AsHXH/otqu3+ladqqoup2FreLGSUFxCsm3PXGQcVadkmLqck/iDVXsrG1hkuJ5Jr64tjd2qQCSVYi2NvmERhjjng/dbA9FjvdS/tHSJtSid7u3F8ArGPfIFUFdwjJUMRjIHfsOldNqUOkW2iGLU7W2/s2IInkvAHjUZAUbMEcHGOOKnt9MsLNIUtLK3gWDd5KxRKoj3fe24HGe+OtF1b+v6+QranN6fqmoo+lSy6k18NVtJJ3jMcYW3IQOCm1QdoJ2/MW6jnPWLRdT1ZV8O3N7qMl6NWs2eaFoY1VGEQcFNqg56ggkjnjHSuottJ06zmnms7C1t5bg5meKFVaXv8AMQOep61IllaxiAR20KC2XbAFjA8oYxhf7oxxx2oclrb+t/8AP8BKL0u/60OT0vVNSmuPDl5Nq8kyax5jy2nlxCOMeUzhVwu/5TgZLHpzV3xPay3HiLw6Ib64s83EyhoVjJB8ljn51YZwCPoT9Q628NQWGsnWr19MhEHmS7rWyFtksDl5XLtuwC3PHUmp7jWvCesqlldalot+JHGyCSeKXc3QYUk5PNU2m7xC2juZl7q2pRrqmoR3zp/Z14lslh5cZWcfJ94ld+5t/G0gfd4POb/jqNpPCF0EmeHa8RLIF6eYvqDx3/Cr9rbaNqrW+sW9nazyhcQXTW48xQMjAJG4d6vzQxXEDw3EaSxSKVdHUMrA9QQeoqb2t5DtucnPYXp8YGGHWbqKSPSstc+VCZHPmtgHKbMfRQeByOc1R4h1jU4dGhtxdpLdaaLuV9PS33u/AIHntt2jOSACeV5HfsLXTLCyVRZWVvbhU8tRFEqYXOdowOmSTj1NR3GjaXd2cVpdabaT20OPKhkgVkTAwMKRgcelHMuv9b/5/gFnv/XT/Ii0y6vJ/DcNxfqiXnkZlCFSA4HOMEjqOxNc7o+qaskXhy5utRkv21a2LzWzRRqExDv3ptUEc4BySPn4A4rrhbRR2X2W3RIYlj8tERQFQYwAAOgHpWd4e8N6f4d06CC0trZbhIEiluYrdY3nKj7zY55PPJNF1739d/8AgBZ6f12MOy1nU1t9Hv5NRWc6tFI8lvOiLFaERNJkFVDBVICHcT17GqV1qepw6LqEGrS3n20WSTG3voLWSInzAGaMxggqDxh+eQfWu0h0jTbe6nubfT7WKe4BE0qQKrS5OTuIGTn3plvoOkWcEsFppVlBFNjzY4rdFWTHTcAOce9Pmje9hOLatc5W9huIL7xldLfzERWof7M8cTRvmA43AoSQMdM845zVu81y+0s/ZvMVpNQtIv7MUoAFm4Rl4HIG5Xx6buw429RttGF7bzanZ2slzck2sUkluHZtysSm7BwCN3Xjr61de0tpGhZ7eJmtzmElATGcYyvpxxxSuuv9WKs+n9f1Y5HVtU13+1ryx01r1n0+2jdWhW1CzOwJ3y+awOzIx8gH8XPQDY1KRpb3wzI4Cs98WIBBAJtJ+461oX+j6ZqrIdT060vDHnYbiBZNueuMg46VT1rjVvDuP+gi/wD6S3FNNNE2sbFFFFZlhRRRQAUUUUAFFFFABRRRQAUUUUAFFFFABRRRQAUUUUAFFFFABRRRQAUUUUAFFFFABRRRQAUUUUAFFFFABRRRQAUUUUAFY+i/8hfxD/2EU/8ASW3rYrH0X/kLeIv+win/AKS29NbMRsUVxek6nq/laBfXepyXK6lO8E1u0Maoo2yMrKVUMD8gzkkHJ4HGGaTreu315bXpju/ss108U0UgtVgjUFlATD+bvBUZBzn5vlHGK5Rcx1LaNZNqUl8Y386VNkoEziOQYI+aPO1jg4yQTTdO0Kw0qVpLOOQOUEYaWeSUog6Ku9jtX2GBwPSuasNX1GSTw7fz6vI8eqzSedZ+XEI41EUj7Rhd+VKqCSx5B9cUthrd7P4h06OK61KTT9UjmMUl5HbAMAu5XiCAOP8Aga9CO9PlktAujf1XSdLvby3n1CSWG4IMELxXsluz5+YoNjLuztzjnpT5/D+mz29tD9naBbVdsBtpngaNccqGQg4OBkZwcD0rktDSez8P+Gi15JcrPqATZPFERDhZs7SEBByOuSe2RyK1bDWNQuNUg0R7jN7aXEjXsmwAtAvMZxjA3705GOj46cFmtE9v6/ULrd/1/Vjbi0PToWjK2+4xwNbjzHZ8xsQWDbid2SMknJNQweGtLt7e4gWGV0uYfs8nnXMkp8vBGwMzEqvJ4BFc9o+ta7f31reMl0LWe6eGaOX7KsEagsoC4fzd4IGQc5+b5Rxjd127uY7zTLC1uTZi+mZHulVWZNqFgq7gV3NjHIPGeO4VntcLr+v68ixNY6a95GrRwvdpaPDHE8h5hJXcCvcZCgnB/WsnQPDU1hrIv7iGO2WG1NtDCl/Nd4BYE/NIAVA2KAoGOtVrm4TTPEST32pSTJb6TcmS7CLvGJk/hVdpYdPu9R07VFaavraXmp2XmXAmXTxcWv8Aa/2ZWWQsyjJhO3aTj73ORTV7XT7/AKidr2fl+n/AOpvdKtL+5t7i4WQTW5PlyRTPEwBxkEqRkHAyDkHFQjw/po1L7cIX87zPN2+e/liTGN/l52bv9rGe9c4mpaz5V1ZQ3OonUEe3LW94tos4Ri24wsn7piQrYDdNh9RW1oGqJJp5F9ezGYXbW22/WKOUSDnyz5fyMccgr1H0NKzWzHdPdGlf6fbanZtbXsZeIsrfK7IwZSCCGUggggHINVX0zS7SGc3HyrdxpayvPcMTKOVVSzNkk7iM5ySan1PTLDU7XZqVlb3iJlkW4iWQKcdRkcGuFh0mytvhvolxYWltaXdxNYb7iOBQzHzk5Yj73PPNEVfTzX4jbtr6/gdlc+HNNujEXjmiaOIQhre6lhYoOisUYFgO2c9T6mtKONIYkjiUKiKFVR2A6CuOv9b1TRrbWrf7VLfPayWyw3EscQdFmIUk42IdvJBOBzycUC98SJDd2o+1CTzYDB9qezF2yMW8wIEbyyQEJUsBn5uuKfK2t/6/pk3Xb+v6R2dFcPJr+om1s7O2m1OSea9mgmdorVbmMou7ywSRCSeuRn5c8Z5HR+Hbi/n0o/2srC4jlePLmPeVB+UsIyVDYxkDv2FS42Vx8wzwh/yJGh/9g63/APRa1sVj+EP+RI0P/sHW/wD6LWtiiW7GtgoooqRmP4v/AORI1z/sHXH/AKLarmsSXcOiXsmmpvvEgdoFxnLhTtGO/NU/F/8AyJGuf9g64/8ARbVsU38ILc4G9n0mfwndNpesTahOUt2uFkvHm2nzV5KsSI2zn5QF+nHEeu64E8Qk2Mxt7mHUIIXjk1aUSOpdFYi0wU2EN9449fTPoVVNT1GLStPkvLhXaOMqCIwCfmYKOpHc1al7y0/rQjl0aOQXUNnjIxvqH2ySS9ZFS21KQSwKFPD2mNpQEHLdTkNS+FdST+1dsuoDUWFrJJNdWupyXMZwynMkLDELHsq/7Q7V11lqUN/cXsMKurWU/kSFgMFtivkc9MOPTvVulzWVvL9B2uyGzu4NQsYLy0fzILiNZI3wRuUjIODyOKyNL/5HLX/9y2/9BatKx1GG/lvEhV1NpOYJN4HLBVbI56YYVJbX1vdzXMVvJve1l8qYbSNr7Q2OevDA8etT3sM4fQInsLHwxcwXV1uvLmSGaNrhjEybJWAEedowVXkAH1Jyai0nUr+XXbf7VqEEF+bqRbm1fVJXlKYb5BaeXtUABSGHUDO45OfRKKrn1FynnOmapeLFeDTLv+1tRGnTSJPaanJcxvJkbS8DDELE/dVePvDtWj4QvJJ9Z2xalb3EDWm6WFNVlvXEgZcOwdF8o4JBXjP93g47WinzrsHKch4y1KCK8is2cwTG3aRJZNXlsUbJxtTZnzXzztxxx64qDRZLjXb7SjqF7d7JNEguZI4Lh4VeUtyx2EH9cHvmu2psj+XE77WfapO1Rkn2HvSUrL+vP/P8BuN3/Xl/l+J59puo38viKD7Vf29vf/bnSe1k1SQyNHkgILXy9oG3aQwPbcW5NdJ4t1CCy0+3S4yonmCLK1+9lHGQCcvMnKjAIA5ycDHcadpqlvdSxQ4lhuZLdbk280ZV0Q8fN2BzwRmpbK6+22iz+RNb7iR5c6bXGCRyPfGR7EUN7abCW7OF029mvNP0YzzecItfkjjfz2n+QJLgCRgC454YjJGKjsNTu1nuV0+8/tXUTa3MkcttqUky7xygltmAWE8gADuCK9Foo5vL+rBbX+u7ZyPh67gk1y3j0bUptRtXsi98Zbpp/KlyuzO4ny2OXyox06DFa2tf8hfw9/2EX/8ASW4rYrH1r/kL+Hv+wi//AKS3FF7sVrI2KKKKgsKKKKACiiigAooooAKKKKACiiigAooooAKKKKACiiigAooooAKKKKACiiigAooooAKKKKACiiigAooooAKKKKACiiigArH0X/kL+If+win/AKS29bFY+i/8hfxD/wBhFP8A0lt6pbMTNFbG0RIUS1hVLdt0KiMARnBGV9Dgnp6moRo2mDUv7RGm2gvs5+1eQvm9Mffxnpx9KqeKb6Gw0RnuFfZJIke4XTWyoSeGeVeUX1I+mDmuRs9Ru7nSLmGLUJFjXW7aGKW2vnuMRv5ZKrMwDOp3HqO+ORTjFy2/rb/MUmktf63OltfCqReIV1ScaerRu8iCzsPId3YEbpH3tvIDN2HJJrTttD0myujc2el2VvOSWMsVuisSc5OQM9z+dcl4jaXTtUisGuza6aLQtBNea3Na7pSx3fvsMzsBtwrNjB6Ht09heSp4UgvL5zdyrZiWV7ZTmU7MkoMA89hgdaJX5ea4K3NYkfTtI05Z742FpBtY3MsyW67twBy5wMlsFuevJ9asW6Wsrfb7eKPfcRrmYJhnTqoJ6456HpmvOrTVjczX8Npco9pPotxK0SavJf7XXbjcXHyMA5BCk/oM2LzUPs09p5l/5wFtarFZQ6nJa3CEgZKQgbZ85B59CtVyO9v66/5EuS3/AK6f5ncDRtMGpf2iNNtBfZz9q8hfN6Y+/jPTj6VPd2VrqFs1vf20N1AxBaKaMOpxyMg8Vxep38iX+oltQni1uO8RNOsVuWUSxfLjEIO11OXyxBxzyNvHReKri5tfD8stq8kQEkYnljHzRQlwJHHoQm457daizsir6suxaVp8MSxQ2FrHGsbQqiQqAEY5KgY+6T1HSqf9n+H9KaKzTTrG2/tAtAscdqoE3ylipwMYwpPPHFc/f6poltp0cWnak95BNckfaJddmihhcJkqbgMzcjGE557Cq+kXk97B4Xe6lMzJqt1ErmUyZVY5wvzkAtwANxGT1NVyuzYrpL+v66HT2GmeHr7RQlhplg2nXDeZ5QtFWNyDjJQgc8dSO1Xo9MsILeCCGyto4bdt8MaQqFibnlRjAPJ5Hqa89jvbiDRNCimmjttOa3lYyTalJYo0u/hTKik525IUkA8nnFaMd8JBpUXiPWHjtGsWZLm3vJIUupQ+0fvF2M524IHG7JIB6glF2v8A1pf/ACC6/r5f5naWV5b6lYxXdm/m2867kbaRuB9jzVLT7jSdTtzbWNur21o6hAbRlhBVuPLJUK2CvVc4wPaqfgtQ/gLSkO4K1qo4Yg4x69Qf1rmrGWz0nwRpKSPMv2yRj5txrE1rDGV3cGUMSuR0UDBPOOM0OKUmvMd9DuLhtOgu1huI4hNqOYsGLPn7VJwxxyAuetRp4d0SOzktI9HsFtpWDSQraoEcjoSuMEiuR0a9nvI/DclzMZXjv72NZDIZTtVZQvzEAvgAckZPeoNM1S8WK8GmXf8Aa2ojTppEntNTkuY3kyNpeBhiFifuqvH3h2o5WriTud0dH0xtNGnNp1obEdLUwL5Q5z93GOvNTWlnbWFqttY28VtAmdsUKBFXJycAcda5DwheST6zti1K3uIGtN0sKarLeuJAy4dg6L5RwSCvGf7vBx2tKSa0Y4tMx/CH/IkaH/2Drf8A9FrWxWP4Q/5EjQ/+wdb/APota2KUt2NbBRRRUjMfxf8A8iRrn/YOuP8A0W1ad0sz2cy2rBZjGwjY9mxwfzqrrtjLqnh3UrC3ZFlurSWFC5IUMyFRnHbJqt9p8S/9AnSv/BpJ/wDI9Va8bCvZ3Oes47K00CU2vhqaXVlsyl59osHAnYlQ+9yP3/OWwpYkA46850GnXYs9eitLFltpVs3hjttKls43cSneViYk5wFyeOAOO57L7T4l/wCgTpX/AINJP/kej7T4l/6BOlf+DST/AOR605ne5HKrWOb1TTtSkXVvKt2Ns+tJLOkls8yzQfZ4xny1KmRd4GQDztPBxgxw6c0ekxJLbTXWj/2p5lzaRaXLAoj8rgJbsWcoJdrEY65OCK6j7T4l/wCgTpX/AINJP/kej7T4l/6BOlf+DST/AOR6SbSt6fhb/Ibs3f1/G/8AmVPBtqlrDqv2ewewtpL9nt4Wt/J+QxpghMDAOD2+uDkVjz6RBbv4vRNIYX92k0ltPFZMfMRoFBUSBcZLhvlzknnHNdH9p8S/9AnSv/BpJ/8AI9H2nxL/ANAnSv8AwaSf/I9LX8Lb+n+Q1ZffcyJ9Mt9FbQLy106RI4ZS141tbNJKSYGUM4UF2OTgk5PPNZc9lqE+jo7Wci2bavczXMFzYvPuRmYxs0CsrOuSDgZ7HBxx1f2nxL/0CdK/8Gkn/wAj0fafEv8A0CdK/wDBpJ/8j0+Z3uJJJW/r+tSLwjbNaaK0e5zH57tErWb2oRSc7VjdiyqDnAOPYYxXK2tpbXU1yLDT5m1ldckZLwWrgRRi4y/74jaF2BgVDc5Ixkmuv+0+Jf8AoE6V/wCDST/5HqC0j12xSRLXRdKjWWV5nH9qynLscseYO5NCbUr/ANdAsuW39df8zDTT5RqCD7BMNfGq+a+ofZm2m38zOPPxtK+ThNmevGO9RQae0evSm309rqR3uWkuJ9LlhuIdyvjNwTtmXJChR2KkfdrqPtPiX/oE6V/4NJP/AJHo+0+Jf+gTpX/g0k/+R6WtrD0vc53StJt7bWNDudT0hnc6TBCkpsWkMM6kfeIU+WQD1OOh54ot7bUdI8P6bqtnp9xNe27TwS2qoQ7xySNt49m2N/u7jXRfafEv/QJ0r/waSf8AyPR9p8S/9AnSv/BpJ/8AI9Ntv/h/67kqKX9f12OY1fQZ7RtNt7mKK7sI7ZhIZdMkvlNyzbncxRsCC2SQ+DjkcZ5q6hpj/Y7PzbabVbhNPSOKHUNHmlWQ5ONrhj9nc8BixyPlJ6V2P2nxL/0CdK/8Gkn/AMj0fafEv/QJ0r/waSf/ACPQpNf0vP8AzHZf18v8i9b3hlvZbVrW4iMMaOZXT92+7Pyq3cjHP1HrVHWv+Qv4e/7CL/8ApLcUfafEv/QJ0r/waSf/ACPWZqw8VS3Wn3kekabKmnztO1tDqDGSbMbx4UtEqggSMeTgkAZHWptrcfSx1dFZWi+JNO13zUtHeK7gOLiyuUMU8B/2kPOPRhlT2JrVqCgooooAKKKKACiiigAooooAoajrVlpU0EN2ZzLcBjHHBbSTMwXG44RSRjI/OrNneW9/Zx3VnKssMo3I69/8D7dqw9ctdSn8VaPLpbRwmOC5DzzWzTRrny8AgMuCcHHPY1RXwrAviDS7W9tv7QtIrG5aaSaLMckzyxuSy/d5JYhT0xx0zVpJpf13/wAiW2jsKqajqMOmxQvOrsJp44F2AHDO20E5PTJrhv7KvB4jZ7tPLvF1ISQ3EWkSyyGHeNqi5D7FTZ8pUgYG7gnkum05XvI/tOjTy60utLLJe/Y2bEHnZUibGNoj2jaDxg5HBNNQTa1/rQUpNJ+X/BO7tLr7WkjeRNB5crx4mTaW2nG4eqnqD3FBvbddQSxMn+kvEZlTaeUBAJz06kVxjWMy26HUrC4uNNGsXcl1bC3aQyKzN5bmMAl03EHgHsccZEg0vSE8S6VfJoDLYm2lih3aaxMMnnKUJXaTGOWIJAAGelJRTt/XS427X/rqdtVS+1GGwls45ldjeTi3j2AcMVZsnnphTXD6bpl6niGCS+Xy9RS+d5Jo9ImLyoSeDdb9hj2EcY4wBtyMUtppy/2ho7SaNONYi1Nnvr1rNuVIk584jDKcrgAkAYGB0pqK0By3/rud1fX9tpto1zeyiKJSBnBJYngKAOWJPAAyT2qHT9YstTeVLV5BLDjzIZ4XhkUHoSjgNg9jjBwfSqPiOCbz9K1CKB7mLT7ozTQxrucqY3Tcq9WKlgcDk84BOKz7uKfX9RvbuxtbmOBdKmtFa5gaAzSOQQArgNgY64Ay3GcHE2Vrj629PzOqkkWKJ5JDhEUsxx0Aplrcw3tnDdWz74ZkEkbYI3KRkHB56VxltE+sahYxf2ddiGPQ5raU3do8aeYTF8h3gZ6H2PYnBxXs7C1i8N6JG2izLYwMo1W0XTnBkl8rAZo9uZQHxkgMOh5xkVyL+vVr9PxJ5npp/Vl/XyPQKK4q5s9MNzaSXWh3EuhC2kW3tP7OkkEUpkySYQpKZH3SQMDI+XODFZeHpb25t18RWBuzHowT/SU81RJvbAJOQXC455PXnnJm1lf+uv8Al+JV9bf10/z/AAO6oriNC0eWxfw3dQ2TwXk2nut/M0ZDM5jQjzT1J3DjdyOgrO0PS7yC6tnu0ni1COKZb1rXSZY5ZyUbO65aQpJ82CpGeduAozinBK+u3/BJUm0nY9IorjfBll9j1GVIbGLyltVVr5dLlsJJHz0dXP7xiOdw6HPrXZVMo2Y07hRRRUlBRRRQAUUUUAFFFFABWPov/IX8Q/8AYRT/ANJbetisfRf+Qv4h/wCwin/pLb1S2YmbFFFFSMKKKKACiuf8Raaup6xocdxafabVbiUzKybkA8pgN3bGcDng1z11pV7FpSWsdpt0y31WcvbSWT3CeSc+X+4UqXQMc4GQODjA4pJMTdj0GiuAisBFp2nJqFpcX2jreTNJbrpkqKmVzGPs5LP5YbdgEcEg4wAar2qxN4fS3h0W3ksX1S7KmfSnu1tgHbaBAnzAnkZ4C4IPPFVyC5v6+89Anvbe2ura3mk2y3TFYV2k7iFLH6cA9aLW6+1GceRND5Mpi/ept34x8y+q89fY1wFtpAOi+Hpdc0h7qGzvLqOWNtPaRo4iZBH+6wzBOEwOcfL9a0vsF1b2eoalb2c5uLHVnu4IljIaaLaquqjHO5SwA9QKOVJ/13QuZ/18/wDI7SiuE1LSr86LYzzQK63V213qUMlm1yMsvyK0KFS4T5FxzjaDg4qu+lr/AGLZRziaWCO6mkihl0CaW3AIGFNtuLqASdhOAMEdCMrlXcfMeh0Vi6BcyQ6dpdjPpctnJJalysaHyYNuBsJJypOchT0AI7VtVLVmNO6CiiikMKKKKAMfwh/yJGh/9g63/wDRa1sVj+EP+RI0P/sHW/8A6LWtiqluxLYKKKKkYUUUUAFFFFABRRRQAUUUUAFFFFABRRRQAUUUUAFFFFABRRRQAUUUUAZWteG9O13ynu0eK7gObe9tnMU8B/2XHOPVTlT3BrK/tbW/DLFPEcLarpq9NVsof3sY/wCm8C9h/fjyPVVFdVRQBBY31pqdjFe6dcxXVrMu+KaFw6OPUEcGp65y98J+Teyal4Wu/wCx9QkbfMipvtrs/wDTWLIGf9tSr+5HFFl4s8m9j03xTaf2PqEjbIXZ99tdn/plLgDP+wwV/YjmgDo6KKKACisXxTqU2k6RFdW7sh+2W6Psj8xijSqrALgkkgkcDPpzVaDxC194vtrKz+0pbmxmleO5s5INzh4wpBkQE8M3T157U1FtXXn+CuJu39edjo6K5jT/ABkl1qVxZSx2U8sVq9yBpd99ryEIDIRsUq3IwO/PpVrw34ibX1dwun+WsavmzvxcFC38LrsUo359/SnysOZF290DR9SuPP1HSbG7m27fMntkdsemSM4qv/wiHhv/AKF7Sv8AwCj/APiab4wu7uw8Iajc6cQtwkJ2uX27OxIODyOorDXULrw7eX73CSyLa6VHObVr+W4XcZZASJJBnJAHOPbtTjzPZidkb3/CIeG/+he0r/wCj/8AiaP+EQ8N/wDQvaV/4BR//E1Zj1Tf4gl0zyceXapcebu67mZduMf7PXPenX99cWbILfSry/DAktbvCAvsfMkX9M0ry7jsip/wiHhv/oXtK/8AAKP/AOJo/wCEQ8N/9C9pX/gFH/8AE1fsbqa7hZ7iwuLFg2BHcNGWI9fkZhj8c8VmX/iVdOk1OK4tj5tnFHLAivzdB/lULxwd42456g98U7yva4aEn/CIeG/+he0r/wAAo/8A4mj/AIRDw3/0L2lf+AUf/wATWVq/juDSb24glWxBslQ3SS6gscpJAYiJCuZCAe+3J4HfFpvFZbxE2lwQ2eUlSMrcXwinkDAMXjiKneoB67hna3HHLtMm8UXP+ER8N4x/wj+lY9PsUf8A8TSf8Ih4b/6F7Sv/AACj/wDia2KwvEWryaTfaNhpfIuLto50hgaZnXyXYAKqlvvAHgdvTNSnJ9SrKxL/AMIh4b/6F7Sv/AKP/wCJo/4RDw3/ANC9pX/gFH/8TVKy8Qy3uuawtuWFtaWcMsUd7C9qFcmXcSXTcFwq84IGOO9Q23jiKax1aYxWs8mmxpIxsLz7RE6vnHz7RjBU7vl4HPNV74vdNP8A4RDw3/0L2lf+AUf/AMTR/wAIh4b/AOhe0r/wCj/+JqTQtXfWLaWZvsLKj7FksL0XMbcAn5tq4Iz0x6VS8Z3F9DpFvHp2A1xewQSH7Q0J2s4BAdVJGemRyASRzS97m5bh7trln/hEPDf/AEL2lf8AgFH/APE0f8Ih4b/6F7Sv/AKP/wCJrIsdUn0i91GGcSTqt/aWqRvdPKIvMjjBw78tgknnGfaugsdT+2anqVp5Wz7DKke/dnfujV84xx97Hej3u/8AWn+aDQSy0HR9NuPP07SrG0mK7TJBbIjY9MgdK0Kz73Urq1uPLg0W+vVwD5sDwBfp88in9KtWk8lzarLNay2jtnMMxQsvPfYzD34NS7vVjJqK5q48VXUEt7INLjaxsbxbWaY3WHOdnzKmzBxv5BYdOM1JdeJ5beW7njsUk02xnEFzcGcrIG43FY9pDAbhnLA9cA8Zai3/AF/XcOZL+v67HQ0UUVIwooqtqGo2Wk2Ml5qd1DaW0Yy8szhFX8TQBZqjq2s6dodn9q1a8itYSwVTIeXY9FUdWY9gASaxf7a1zxB8vhqy/s+yb/mKanEwLD1ig4ZvZn2j2YVc0nwnYaZe/wBozvNqWqlSG1G+YSSgHqE4Cxqf7qBR7UAUvtviTxFxpdu3h/T2/wCXy9iDXUg9UhPEf1kyf9ip7PwRpNkZJEm1R7iYgz3LapcLJOR0LFXAPoAAABwABXRUU02tgMf/AIRew/5+NV/8G91/8co/4Rew/wCfjVf/AAb3X/xytiinzS7isjH/AOEXsP8An41X/wAG91/8co/4Rew/5+NV/wDBvdf/ABytiijml3CyMf8A4Rew/wCfjVf/AAb3X/xyj/hF7D/n41X/AMG91/8AHK2KKOaXcLIx/wDhF7D/AJ+NV/8ABvdf/HKjh8IaVbReXbvqUUeSdseq3SjJOScCTuSTW5RRzS7hZGP/AMIvYf8APxqv/g3uv/jlH/CL2H/Pxqv/AIN7r/45WxRRzS7hZGP/AMIvYf8APxqv/g3uv/jlH/CL2H/Pxqv/AIN7r/45WxRRzS7hZGP/AMIvYf8APxqv/g3uv/jlH/CL2H/Pxqv/AIN7r/45WxRRzS7hZGP/AMIvYf8APxqv/g3uv/jlH/CL2H/Pxqv/AIN7r/45WxRRzS7hZGP/AMIvYf8APxqv/g3uv/jlH/CL2H/Pxqv/AIN7r/45WxRRzS7hZENnaQ2FjBZ2ieXBbxrFEmSdqqMAZPJ4HepqKKkYUUUUAFFFFABRRRQAUUUUAFFFFABRRRQAUUUUAFFFFABRRRQAUUUUAFFFFABRRRQAVBfWNpqdjLZajbRXVrMuyWGZA6OPQg8Gp6KAOV/snW/DLb/Dkzarpq9dKvZv3sY/6YTt2H9yTI9GUVq6L4k07XfNS0d4ruDi4srlDFPAf9pDzj0YZU9ia1a5jx5o1nf+FtQv5EeG/sLOaa0vbeQxTwMqEjbIpDAZHK5we4NNauwG5qWmw6pbxw3DOqxzxTgoQDujcOByDxkDNQ32iWuoXv2m5MhP2SW0KK2AUkKlvfPyjBB9a4b7FfeGzt8QyavqmnDpqlnqN15kY/6bQrJ0H99Mj1VRXRWWl6TqVjFeafqWoXVtMu6OaHWrl0ceoIkwaXNH+vuHyst2vhWO2nSZ9Tv53jtHs4izRp5Ubbfu+Wi4I2DB/wDrYVdIu9OuHv7SVtWv5EWEvqEywBYgScAxRc8nuv41F/wjtn/z86r/AODe6/8AjlH/AAjtn/z86r/4N7r/AOOVXOhcjJp7TU9as7jT9asrS1tLiMo0lpfNJIPoGhUfjn8Kmv8Aw9Z6jNeSXLSn7ZZizkCsAAgLEEccNljz7Diqf/CO2f8Az86r/wCDe6/+OUf8I7Z/8/Oq/wDg3uv/AI5S5o9P6/EfLIu6doS2GpS38t/d3tzLCsDPcFPuqxIwEVQPvHtU9/o2l6qyNqem2d40YIQ3ECyFR7ZBxWX/AMI7Z/8APzqv/g3uv/jlH/CO2f8Az86r/wCDe6/+OUcyFyM2LHTbHS4Wh02yt7OJm3FLeJY1J6ZwB14FZeq6L/afirSbuSA+TYrJI0u8AOx27EK9TgjfnoCoqP8A4R2z/wCfnVf/AAb3X/xyj/hHbP8A5+dV/wDBvdf/AByjnV73DkdrFu60ATXk9zaaje6e1yB9oW1ZMSkDAb5kYqccZUg8D0FJdeH1vbxZbnUb2S3SdLhbNjGYw6kFTnZvwCAcbsfhxVX/AIR2z/5+dV/8G91/8co/4R2z/wCfnVf/AAb3X/xyjnSDkbOhqpeabDe3ljcys4exlMsYUjBJRk546YY+nNcxDo8L+Jr20a81UwRWdvKif2tc8MzzBjnzM8hF/KtH/hHbP/n51X/wb3X/AMcovFD5Wy1qHhuz1KS/kneYNfQxRPtYYXy2ZlIBB5y3Ocg4HHXLIfDflS3lwdW1CS7u0iRrktGHQRszLtCoF/iIIIII6jrmD/hHbP8A5+dV/wDBvdf/AByj/hHbP/n51X/wb3X/AMco513DkZNFpl9pDzTaYsep3N24a5nv7kQMdqhVwI4Sp4HoPx7PazvtXVI9btbe1SCeO4iNpeNKWZG3AHdEuBx2/Sq3/CO2f/Pzqv8A4N7r/wCOUf8ACO2f/Pzqv/g3uv8A45T54/1/w4uR2sWbvw3a3ZvWM1xHJd3EVwZEZcxSRhQpXII/hHBBzzU+laNHpc13MLq4uprx1kmkuCpJYKF4CqAOAOAKz/8AhHbP/n51X/wb3X/xyj/hHbP/AJ+dV/8ABvdf/HKXMrWv/X9IfKzRvdA0fUrjz9R0mxu5sBfMntkdsemSM1atLO2sLVbaxt4raBM7YoUCKuTk4A461if8I7Z/8/Oq/wDg3uv/AI5R/wAI7Z/8/Oq/+De6/wDjlHMrWuHKy3N4dtJrO/t2kmCX9wLiUhhkMNvA46fIOue9MuPDNtc3Uzm6uktriVZriyQp5MzjHJyu4Z2rkBgDjkcnNf8A4R2z/wCfnVf/AAb3X/xymtoFiiF3u9UVVGSTq90AB/38oU0uouRnR1HcXEFpbvcXc0cEMa7nkkYKqj1JPAFeX69qkM2h6k/g3+19Re3t5XOo/wBsXKWsJVSchy581hjO1Aw7ErXX23g9bq4S98WXja5doQ0ccibLWBv+mcGSMjszl2HZhRpa6DVEf/CTahrvyeDbFZYG/wCYtfqyWw9404eb8Nqn+/VnTvCFrDfR6lrVzNrWqRndHc3gG2A/9Moh8kfpkDcR1Y10FFIAooooAKKKKACiiigAooooAKKKKACiiigAooooAKKKKACiiigAooooAKKKKACiiigAooooAKKKKACiiigAooooAKKKKACiiigAooooAKKKKACiuWh8TmC/123vftkptrrZb+Rp8sqovko2C0aEfeJPJzz6YqNfFN1ZeENH1C6k0x5bqySWRr6/FoZH2AnYNhBJz7Y4quV2v6fjqK+tvX8DraK5W88bRxRae9tFaIt9aC7jbUb37KjA4wittYM/PI4xxXURsWjVmXYxAJXOcH0ocWtwUk9h1FcLr0+qS6x4hYO0dvp2m74Ghv5YjGzRyHd5agK5JH8R42gitlfETW9lqO+3MjaZp8d0WMnMxZGbHTj7nXnrRy6XC+tv66f5nQ0VFDOZrOOcIcvGHCA88jOOcVnxaveyTIj+HdSiVmAMjyWxVB6nExOB7AmlZ3sF1a5q0VS1e/fS9JnvktzcC3Xe8anB2A/MRwckDJx3xjis2/8AFttYrqEvliS1sYoi04lAV5JD8qAngcFSWJ4DChJsZv1j+L/+RI1z/sHXH/otqyY/HkTWN/IY7KaWzMWWs78TQbZG2hmkCgqFIO75Tgc85qXU9TfVvh1r1w4tMCyuVR7K7FxE4ER5D7V75GCO1WotPUlyVjdrnb3wr5N5JqXhi6/si/kbfMqputro/wDTWLjn/bUq3uRxXRUVznQcRrXxEbwvod9P4k0w2eoWsLSQxmb/AEe+KjOIptvBP91gG9iOa6Xw9rtj4m8P2es6VJ5lpeRiRD3HYqfcEEH3BrB8efDmx+IVvFb6rq2rWltGObaynVIpTnIZ1ZTkjtR8Pfh9B8O9Pu9P0/Vby9sp5BJHDdbT5LYIYqQB975c/wC77mjQWtzsKKKxfEV3f2X2CSyuIoopLyGGZWh3M4ZwOGzheM9j14IoSu0gbsmzaorF8QG4gt2uotSv7WONCBFY2izM78nJBRzj8h6mr2k3Mt5o1nc3PledNAjyeSwZNxUE7SCQR75p20uF9bFyiiipGFFFFAGRbf8AI56l/wBg+0/9GXFa9ZFt/wAjnqX/AGD7T/0ZcVr1UtyVsFFFFSUFFFFABRWJ4g1C80yFrpNQ02ytkTj7ZEztLJydow644HH3ieeOOdSyne6sLeeaFoJJYldom6xkjJU/TpVW0uK+tiesbW/FGm6BqGk2N/I32nV7r7NaxIASzYyWIz90cZPuPWtmvE/G/wAFvFHjXxxJr114ptYI43K2UC27MIIgflXBOCT1bsST24pAz0m68XRz3Ell4YtG1u9jO1zC+y2gb0kmwQP91Qzf7NRp4Un1ZxP4yvRqfOV0+FTHZx+mUzmU+7kjuFWtbQbK403QbSzvfshngj2MbKDyYjjptTJ28dvXNaNAGP4oRY/BGspGoRF06cKqjAA8tuBXSVzniz/kTNa/7B8//otq6OtF8JEtwoqpqrXUel3D6fLFDOiFleaIyKMcn5Qy/wA/zrBn16/i8I6JLCr3GoamsMe5ETdloy7sASq5wpxkgZx24ppX/ruQ3b8fwOporI8PXxuYbi3nlvnu7aTbMl+kSyJkAj/VAIQRyCM+/pWvQ1ZgncKKKKQwooooAKKKKACiiigAooooAKKKKACiiigAooooAKKKKACiiigAooooAKKKKACiiigAooooAKKKKACqd5q9jp95aWt3cCOe8YpAm0neRj0HHUDJxyQO9XK4vWNO1vWb/VpLOytwgRLezlubh4WjZCH8xVETZBfHORnYPrTjZvUT2O0qC2vre7muYreTe9rL5Uw2kbX2hsc9eGB49a5G78i/1CO+8TaLdXVncafGbe3axe4+zy5YyqUVTsc5TDEfwnkVTutChEPi23t9HK6hepI9pMtmfnRoUBUSgYyXDZXdknnvVcvf+tRXvax6DVe/vY9O025vZwzR20TSuEGWIUZOM9+K5Z7ya51i+1Cz0i7uYk0jy1iubZ4RM+8kx4dcnj257ZrItNPuRFr6WdgI4LjR2UJaaRLYxyTfMABG5JZsHqAMgj0o5dP68xxldr5fp/meiwyieCOVAQsihgD1wRmn1BYqyadbK4KssSggjBBwKnqZaNpCi24pspW2lQWsmoPG0hN/N50u4j5TsVOOOmFHXPOazV8JW8Mdotnf3tqbazWyLRmMmWJegYshwfddp/IY36KLv+vuKMJ/C0Z0qDTYdUv4LSO0W0eJDEwljAx825DgkEgldufwFS7tctf3FjpWmtbRfJEZNSkVig4GR5Jwce5+tbFFPmb3FZGQ2hpeRahJfbop9TtVt7lIZd6oAGHyMVB/jPJHpxUF94Tt70zhb69tkubVbS4SBkAmRQwGSVJBG48qRnvW9RSuwI44EjtVt8bo1QJhucjGOazovC3h+3mSaDQtNiljYMjpZxhlI5BBA4NatFF3e4WVrDJuYJP3fm/Kf3fHz8dOeOfeuf0PwtBa+Do9Kvo2V5f3s2JMtHJkFcP6phQD/siujooTaGZK6LcCGVX13U5JXKbZiYQ0e0k8KIwhznnKnPHoKz9a0mLSvAniPZNLcS3NpcTTzTbd0j+SRkhQFHCgcAdPXJrpqx/F/wDyJGuf9g64/wDRbVUW7ktaFyiiiuc6AooooAKzNY0b+2FgVr+6tFhkWUC3EfzOpBUnejdCPp65rTopp2dxPVWMy60ie4ZWj1nULZvKEbmIxfvMZ+YhkIDcnlQO3oMXLO0hsLKG0tU2QwII41yTgAYHJ5NT0UXewWCiiikMKKKKAMi2/wCRz1L/ALB9p/6MuK16yLb/AJHPUv8AsH2n/oy4rXqpbkrYKKKKkoKKKKAM3UbPVLiV/sOo28EEkexo57My4POWUh16g9DkcfWrVhZx6dp1vZQszR28SxKXOSQowM+/FWKKd3awra3CiiikMKKKKAMjxZ/yJmtf9g+f/wBFtXR1zniz/kTNa/7B8/8A6LaujrVfCZy3K2oWjX1jJbLdTWvmDBlhCFgO4G5WHPTpWdH4ZhTQ7fTXv7yQWjI9rcMYxLAUGF2lUAOBkcg5BIOQa2qKabRO5R0zSo9N89/Pmuri5cPNcTld8hAwOFAUAAAYAH5kmr1FFF7gFFFFIAooooAKKKKACiiigAooooAKKKKACiiigAooooAKKKKACiiigAooooAKKKKACiiigAooooAKqalqVvpVkbm6LFdwREjXc8jk4VVHck1brnvGE8FtZ2c8t7Z209tdLcQx3lwsKz7chkBY9cMcHscfWmldpA9i7Z64lxfGzvLK60658sypHdbP3iA4JDIzLwSMjORkcYqrNo/hGbbdT6bosn2lWnWZ4Ij5oxuZwSPmGDkn3zWIPE2k6xrsF7calp+nQWltLGi3Go27SSPJtHSN2AUBe5ySenGaz9E16wjn8OwXV9p1vHpVo9vNM+p2xDtsVQVCyEkHaeuD7Vpyytpo/wDh/wDgfeRzL+vkbWlw+A9W0c6lb6boaW6IGm8yCAGDPZ8ZCn6mrDad4DTT0v3s/Dq2btsS4MUAjZueA2ME8Hj2rm7XW9Oh8PaTbSX2nvJo1yjtCdStsXagMu5D5mOMhgH28gdOtXpvFelHVrLWknsSI0mieyXUbXzVLlMS/wCt2ZwhB+bOGHuKpp30uK6Ni50rwPZRJLeWHh+3jkTzEeWGBQy8fMCRyPmHPuPWlt9I8EXd39ltdP8AD89xsEnkxwwM+0gENgDOMEc+4rntEv8ASLLVtLnuta0jZDa3e7F/CRA0syOsY+bsuVyOOPcU3S7/AEezsfDEf9raRE1hcSvchb+D92rRyjs3OWZemaVnbr/V/wCvmF0dza32kxXX9k2V1ZpPboALKGRA0agD+AcgYI7U611jTL27ktbPUbS4uIs+ZDFOrumDg5UHIweK860y+022vLS2vddinS1u5J1lXUbBbYlt53cfvskMQR6k8kc1q+DtSgk1i3s7K+ja1htXRLa4u7SaSM5UhYTCS5UAHO/nhfelyaXHzaneUUUVkWFFFFABRRRQAUUUUAFFFFABWP4v/wCRI1z/ALB1x/6Latisfxf/AMiRrn/YOuP/AEW1VHdCexU/4Rqx/wCe+qf+Da6/+OUf8I1Y/wDPfVP/AAbXX/xyteisuaXc15V2Mj/hGrH/AJ76p/4Nrr/45R/wjVj/AM99U/8ABtdf/HK16KOaXcOVdjI/4Rqx/wCe+qf+Da6/+OUf8I1Y/wDPfVP/AAbXX/xyteijml3DlXYyP+Easf8Anvqn/g2uv/jlH/CNWP8Az31T/wAG11/8crXoo5pdw5V2Mj/hGrH/AJ76p/4Nrr/45R/wjVj/AM99U/8ABtdf/HK16KOaXcOVdjI/4Rqx/wCe+qf+Da6/+OUf8I1Y/wDPfVP/AAbXX/xyteijml3DlXY5W38P2Z8W38Rm1HatjasCNTuQ2TJODlvMyRwODwOcdTWn/wAI1Y/899U/8G11/wDHKLb/AJHPUv8AsH2n/oy4rXqpSlfcSSsZH/CNWP8Az31T/wAG11/8co/4Rqx/576p/wCDa6/+OVr0VPNLuPlXYyP+Easf+e+qf+Da6/8AjlH/AAjVj/z31T/wbXX/AMcrXoo5pdw5V2Mj/hGrH/nvqn/g2uv/AI5R/wAI1Y/899U/8G11/wDHK16KOaXcOVdjI/4Rqx/576p/4Nrr/wCOUf8ACNWP/PfVP/Btdf8Axyteijml3DlXYyP+Easf+e+qf+Da6/8AjlH/AAjVj/z31T/wbXX/AMcrXoo5pdw5V2OV8TeH7OHwlq8qTaiWSxmYB9TuXUkRk8qZCCPY8V21c54s/wCRM1r/ALB8/wD6Laujq0246kSSTCiiigQUUUUAFFFFABRRRQAUUUUAFFFFABRRRQAUUUUAFFFFABRRRQAUUUUAFFFFABRRRQAUUUUAFFFFABRRRQAUUUUAFFFFABRRRQAUUUUAFFFFAGF4i1eTSb7RsNL5FxdtHOkMDTM6+S7ABVUt94A8Dt6ZqvZeIZb3XNYW3LC2tLOGWKO9he1CuTLuJLpuC4VecEDHHetq802G9vLG5lZw9jKZYwpGCSjJzx0wx9Oap6h4bs9Skv5J3mDX0MUT7WGF8tmZSAQectznIOBx1zSasJ3uZdt44imsdWmMVrPJpsaSMbC8+0ROr5x8+0YwVO75eBzzWvoWrvrFtLM32FlR9iyWF6LmNuAT821cEZ6Y9Khh8N+VLeXB1bUJLu7SJGuS0YdBGzMu0KgX+IggggjqOuUi0y+0h5ptMWPU7m7cNcz39yIGO1Qq4EcJU8D0H49qfLrYWpD4zuL6HSLePTsBri9ggkP2hoTtZwCA6qSM9MjkAkjmqNjqk+kXuowziSdVv7S1SN7p5RF5kcYOHflsEk84z7VrtZ32rqket2tvapBPHcRG0vGlLMjbgDuiXA47fpRd+G7W7N6xmuI5Lu4iuDIjLmKSMKFK5BH8I4IOeaUWkrP+tv8Agg7t6dvx1/4BZsdT+2anqVp5Wz7DKke/dnfujV84xx97HekvdSurW48uDRb69XAPmwPAF+nzyKf0pNK0aPS5ruYXVxdTXjrJNJcFSSwULwFUAcAcAUt7oGj6lcefqOk2N3NgL5k9sjtj0yRmlpceti1aTyXNqss1rLaO2cwzFCy899jMPfg1gXHiq6glvZBpcbWNjeLazTG6w5zs+ZU2YON/ILDpxmt+0s7awtVtrG3itoEztihQIq5OTgDjrWfN4dtJrO/t2kmCX9wLiUhhkMNvA46fIOue9Ctza7f8FfpcTvbQqXXieW3lu547FJNNsZxBc3BnKyBuNxWPaQwG4ZywPXAPGbPi/wD5EjXP+wdcf+i2pLjwzbXN1M5urpLa4lWa4skKeTM4xycruGdq5AYA45HJyvi//kSNc/7B1x/6LamraA76lyiis/W9Us9I0mW51C/jsIyNiTyYOHPCgL/E2eijJPSuc6DQor51sNQ+K+tfFKLwvN4jvobBkF1JdPYQ20q2ucbigXKMSMAHnJGQOcfRVMSdwqtqF/b6Xp897ePsggQu7YzgVZopDOT8PeJTqvia7t5NSspY3to5YLa3mSTyjucMu5T8zYCk9hnj1PWVUTT4o9Wm1EM/nTQpCykjaFUsRjjr8xq3VyaexKTW4UUUVBQUUUUAZFt/yOepf9g+0/8ARlxWvWRbf8jnqX/YPtP/AEZcVr1UtyVsFFFFSUFR3AmNtILVkWYofLMgJUNjjIHbNSVFcwm5tZYBLJCZEKeZEcOmRjIPY0AcyNTvtLn1T/T5NXhsLFpZnljRPLnAyEBRR1Xkg5I455q1ZXGoWWtWFre373yX9rJK2+NF8p02fc2qPlO88Nk8DnrmxpvhxNOszZNf3V3ZNG0Ztp0hCEN1JKRqxJycknnJJyak0/Qo7G7S4e8urx4ovJg+0FD5KEjIG1QTnC8tk8DnrnW8f6+ZnZ/18jVooqC9juZdPuI7GZbe6eJlhmdN4jcj5WK9wDg471kaE9FfPeifE/4kP44utA8SPpemxabJjUbx7GR0gTPDfKeA3GGbC8gkivoCGeK5gSa3kSWKRQySIwZWHqCOopiTuZniz/kTNa/7B8//AKLaujrnPFn/ACJmtf8AYPn/APRbV0daL4SJblXUNStdLt1mvZGVXcRoqRtI7seiqqgsx9gOxosNTtNStWuLSUtGrMj70ZGRh1DKwBUj0IFVfEGpyaVp6z29hNfTmQJEsULyBCQfnbYrMFAzkgE9u9YsGjSarovlWd/IjyXRnvzfaZLGt2xH3TGxQhPu8AkELg5+bNJXVyG7NHR6ZqtlrFn9q02cTwb2TeFIBKnBxkc89+lW657wdaahaWd+uplMtfzsgW3aLIMhO7ljlT1HoO5610NEkk9AV+oUUUVIwooooAKKKKACiiigAooooAKKKKACiiigAooooAKKKKACiiigAooooAKKKKACiiigAooooAKKKKACiiigAooooAKKKKACiiigAooooAKKKKACiiigAooooAKKKKACsfxfx4I1zP8A0Drj/wBFtTNY8U2elXSWEEcuo6rKMx6fZgNJjszn7saf7TkD6nis2TwtfeKIpP8AhN7gGzlBA0aylZYApHSWQYaY/wDfK/7JxmmnZ3BkMnii41eZrXwbbR3xUlZNSnJFnCQeQCOZW9k47Flq1pfhaC0vV1LVLiTVtWAIF5cgfugf4YkHyxr9Bk9yetXY/CGlQxLHE+pJGihVRdVugFA6ADzOBT/+EU07/ntqn/g2uv8A45U8q7lczJ0s7aO8lu47eJLmZVSSZUAd1XO0FupAycDtk1NVL/hFNO/57ap/4Nrr/wCOUf8ACKad/wA9tU/8G11/8co5V3DmZdoql/wimnf89tU/8G11/wDHKP8AhFNO/wCe2qf+Da6/+OUcq7hzMu0VS/4RTTv+e2qf+Da6/wDjlH/CKad/z21T/wAG11/8co5V3DmZdoql/wAIpp3/AD21T/wbXX/xyj/hFNO/57ap/wCDa6/+OUcq7hzMu0VS/wCEU07/AJ7ap/4Nrr/45R/wimnf89tU/wDBtdf/AByjlXcOZlW2/wCRz1L/ALB9p/6MuK16zx4P0lZmmDaiJXUKzjVbrcygkgE+Z0G4/mfWn/8ACKad/wA9tU/8G11/8cptJ9QUmi7RVL/hFNO/57ap/wCDa6/+OUf8Ipp3/PbVP/Btdf8AxylyruHMy7RVL/hFNO/57ap/4Nrr/wCOUf8ACKad/wA9tU/8G11/8co5V3DmZdoql/wimnf89tU/8G11/wDHKP8AhFNO/wCe2qf+Da6/+OUcq7hzMu0VS/4RTTv+e2qf+Da6/wDjlH/CKad/z21T/wAG11/8co5V3DmYiaNp8euy6ylsq6hNbrbSTgnLxqxYAjOOCTzjNZE3hL7BO934Ru/7Gndi8lsE32k56ndDkbST1ZCrHvnpWx/wimnf89tU/wDBtdf/AByj/hFNO/57ap/4Nrr/AOOUcq7hzeRyXiPxU1n4W1Wx8VWR0m6lspo4pw3mWlwxQgBJcDaSeiuFY9ga9GrBuPBmj3ltJb3f9oTwSqUkil1S5ZXU9QQZMEe1VP8AhGL/AEH5/Bl6sEC/8wi9LPan2jYZaH/gO5f9iq0SsiW7s6miuf03xdbXF8mm6xbzaLqrnCWt4Rib3ikHySeuAdwHVRXQUgCiiigAooooAKKKKACiiigAooooAKKKKACiiigAooooAKKKKACiiigAooooAKKKKACiiigAooooAKKKKACiiigAooooAKKKKACiiigAooooAKKKKACiiigAooooAKKCQqkscAckntXLy+KrnWJmtfBVtHf7SVk1OckWcJB5AI5mb2TjsWWgDc1XV9P0Owa81a7itLcMF3yHG5j0UDqzHoAMk9qwfO8Q+KGItlm8OaSf+W0qD7dcDvtQ5EI92y/+yh5q5pXhS3s75dT1W5l1fVwCBe3QH7oHqsSD5Y1+gyf4i3Wt6gDP0bQtO0CzNvpdsIgx3SSMxeSZv7zu2WdvdiTWhRRQAUUUUAFFFFABRRWJ4kvNQsf7PksbiKKGS9hhnRodzurSAcNnC8Zz8p68EU0rtITdk2bdFYniQzWtlJfx6rfWojQKlvapAfOkJwqjzI2O5iQOv4Vo6XFdw6VbR6lP9ou1jHnS7QNz454AA6+1FtLhfWxaooopDCiiigAooooAKKKKACiio7gTG1lFqyLOUPltICVDY4JA6jNAElFc3pkuo/25eaeurSajFDbAS3EsMY+z3BPCjYqg/KclTkjC880aVeXkXil9Mk1C7voRbM7ve26QkSKwH7raib1wTkjcB8vIzzXKTc6SiiipKCiiigAooooAq6jptlq9i9nqlpDd20n3opkDKffB7+9c+dJ17w4d3h26OrWC9dM1GY+Yg9Irg5PA/hk3Z/vKK6qigDG0jxTp2r3LWYMtlqMa7pdPvE8qdB67ejL/ALSll962az9Y0LTdetlg1W1WcId0UgJWSFv7yOuGRvdSDWME8S+Gv9Wz+JdNX+ByqX0I9m4SYAdjtb3Y0AdTRXO2njrQ753itZLyWeIDz7ePTrh5LcnPyyKqEo3HQ4PfoRVr/hJ7D/n31X/wUXX/AMbp8r7CujYorH/4Sew/599V/wDBRdf/ABuj/hJ7D/n31X/wUXX/AMbp8suwXRsUVj/8JPYf8++q/wDgouv/AI3R/wAJPYf8++q/+Ci6/wDjdHLLsF0bFFY//CT2H/Pvqv8A4KLr/wCN0f8ACT2H/Pvqv/gouv8A43Ryy7BdGxRWP/wk9h/z76r/AOCi6/8AjdH/AAk9h/z76r/4KLr/AON0csuwXRsUVj/8JPYf8++q/wDgouv/AI3R/wAJPYf8++q/+Ci6/wDjdHLLsF0bFFY//CT2H/Pvqv8A4KLr/wCN0f8ACT2H/Pvqv/gouv8A43Ryy7BdGxRWP/wk9h/z76r/AOCi6/8AjdH/AAk9h/z76r/4KLr/AON0csuwXRsUVj/8JPYf8++q/wDgouv/AI3R/wAJPYf8++q/+Ci6/wDjdHLLsF0bFFY//CT2H/Pvqv8A4KLr/wCN1f0/ULfU7NbqzZ2iZmT542jYMrFWBVgCCGUjkdqVmtwuizRRRSGFFFFABWbr97c2GlCWxMSzvcW8CNMhdV8yZIySoIJwGJxkVpVj+KP+QRB/2EbH/wBKoqcd0J7B9m8S/wDQW0r/AMFcn/yRR9m8S/8AQW0r/wAFcn/yRU3iSWSDwrqssEjRyR2crI6HDKQhwQR0Nc4l/eWk2h6ZPdXDSfbYmWV3ObiB4pDhj/FtYYOc9FJ5NVG8hPRX9fwN37N4l/6C2lf+CuT/AOSKPs3iX/oLaV/4K5P/AJIqlb+I7uXTrG4aOEPcarJZOApwEWSRQRz1wg9uvFVJPEOu+W91F/Zwg/tRtPSJoX3EeYY1cvvwMHBK7ecdRnhq7/r0/wAwdl/Xr/kzY+zeJf8AoLaV/wCCuT/5Io+zeJf+gtpX/grk/wDkisDV9Q1G5tZLK6Nq95Y6xaRrNHGyRvuKOCVLMRjdgjJzjtVu88T3+lR39rerBcXsE0EUUsFvJsYTdCYwXYlcN8oOTx0zRZtX/rp/mK6Tt/XX/I1Ps3iX/oLaV/4K5P8A5Io+zeJf+gtpX/grk/8Akisj/hJtXWwf/R42mF9BbxTz2U9rHKkhAJ2SfMCOR1I6euK6JrifTtGmudSkjuJbeJ5JGt4jGrAAnAUs2OPek7pXY1ZuyKn2bxL/ANBbSv8AwVyf/JFH2bxL/wBBbSv/AAVyf/JFZh1nWUhhS7ksg+o2Ms9u0ELj7O6oG2tl/nGG6jbyOnPFrwPYfYvCdk7LaiS5hjmd7e38ovlBy53Eu/q3f0p2aTv/AFv/AJCuna3X/gf5ln7N4l/6C2lf+CuT/wCSKPs3iX/oLaV/4K5P/kisPSdUvzaaLYaRHZWgvFu3dpY5JFj8uTsN4JzuOct39sGU+JtWk0qynSFId0k8V1cx2M12iPE5TiONgwDYJySQMYOc5o1Hoa/2bxL/ANBbSv8AwVyf/JFH2bxL/wBBbSv/AAVyf/JFZOm32qX3iyORNTtHs30u3ndI4naN8s+ShLjaTj7xB4wCOKfYeJ7ibxFa2ZuIb20uxL5c0WnzQKpQZBEjsySggHlfY9KGmhXX5fiaf2bxL/0FtK/8Fcn/AMkUfZvEv/QW0r/wVyf/ACRWTpPiPV5o9EutRFk1vq25fKgidXiYRs4O4sQwIQ8YGMjk45ng1/Ul8OyeJLr7IdP+yvcpaRxMJVXGVBk3EEkdflGM98cjTW49L2L/ANm8S/8AQW0r/wAFcn/yRR9m8S/9BbSv/BXJ/wDJFY9v4l1xorvFg17IlmZ4imm3NsqyAgGP97/rODkbcE7SMDIrW8PapPqP2pLm6hneB1BCWUto6ZGcNHKSfoc4PPpQ1JCTTMa/0O81fxVaaf4o1GPUNMms55Tp9vAYIXZHiH7wb2MgIkPysdvA4NdjHGkMSRQoscaKFVFGAoHQAdhWTc/8jvpn/YOvP/RltWxUvoUgoooqRhRRRQAUUUUAFFFFABWXrWif20sCtqF3aLBIsoW3EXzOpBUnejdCO3HrmtSihaO4bqxRm0qO5msJLqeaY2LF1DbQJH27Q7AAcjJIxgZOccDF6iimAUUUUgCiiigAooooAKKKKACorqA3NpNAJpIDKhTzYTh0yMZU9iKlooAxNN8Nf2ZYtZRavfvbGJo1jIhTaW6uGSNW3Zyck9Tk5NT2WifZtQF7d6jeahcJGYomufLAiUkFsCNFGTtXk5PHGOa1KKrme4rIKKKKkYUUUUAFFFFABRRRQAUUUUAYttFGfHmoylFMi6baqHxyAZbjIz74H5Cotf1y80rVtPhtoYpbeSOaa5DAlxHHsyUweoDE4IOcY4zmp7b/AJHfU/8AsHWf/oy5qzc6Z9p1yy1Ay4FrFLH5e3O/ft5znjG3071f2tf60EtjOXxMsd5qAuFD28N3bW0DQDJbzlTBJJwRl+o7etWL7xLZ6euoGaK4f7A8KSiNAxYyEBdozz94Z/TNZ0fgsQWeoQW9/t+0XcN1bboci38oqUTAI3KNgHbjj3qV/C1zcQ6h9t1JJJ76a3mZo7bYqeUVOAu4nB29zxnvR7v5fp/wRa3/AK8/+ALL4xjt/tYn0bU43skEtyu2I+VGRkOSJCCOG4UlvlPFRy+JZ7TX9TX7LdX1lb2sE6i2SP8AdKQ5ZiWZScgDgZPHAq9eeH/tcmst9p2f2paLbY8vPlYVxu68/f6cdKqzeG78Xdy9lqsMEV3axW0wa0LuAgYbkbzAASGPVWxx1o90Nf6/r1LN54ntrYn7Na3d+iQLczSWqqVijblWO5hnIBOFycDp0y9fEMU2rGws7K7unVIpXliVBGiSZwxLMPToMn0BrLvvAtpLdJNZx6ccW6W5XUdPF2AEGFK/MpU469QcDj12NO0YafqVxdLMGE0EMIjEYUL5YYZ4453dABjFP3LaC97qS6lqqac0EYt5ru5uGKw28G3e+BknLFVAA7kjsOpArA1bxHdXR0qHR4r6I3dzLFceSsHnQtGrEx4lO0HI68jAODyM7eq6XLe3Fpd2VylteWjMY3liMqFWGGVlDKT2PBBBA7ZBqWvhr7PNYTvd+ZNb3M11M3l4EzyKwOBn5QN3A54Hc80o23Y5X6FrWLt7KKw23MkZlvIYWZYlcyAnBU5wAD3I5HYVUXxbbNcbTY3y24vDZNdsqeWsu/YB97cQTgAhSORnHONDVdM/tNbQeb5X2a6juPu53bDnb14z61nt4Z3aa9r9r+9qY1Dd5XT98JdmM+2M/jjtRG3Xv/l/wQd+nb/P/gEsPiIXVzJHZ6ZfTwpLJD9qQR+WXQHK4L7hypXJUDOOcEGq+heIr/U/DMGozaLdNNIiny4WhAkz1ZN0vAH+0QfY02Lws3/CRpqs81nvjleQPb2IhnlBBULJKHO9QD02jJUHtULeEbptDt9LfULWW2tJQ0EU1kXjdAGwky+Z+8xkEEbRlQcGj3bfd/wQ1uXD4sthZRTfYr0zSXhsvsoRDIkwBO0/Ntx8vUMRyDnGSHL4ptWs3ka1ukuVufsn2EqhmMuN20YYr907s7sY5JFVNO8HDT7e2jW6hAh1I3+2C1EUfKFdiqGO0c5HX8etTTeGGaa5ube9Ed0+oLfQO0O5YmESxlWXcNwKg9wfm46Zp+7/AF8v+CHvf18/+AWJPEHlrAh0q/N7OX22QEfmBVxuYtv2beV53dwOvFRDxXbzLbiwsL29nnieY28Sxq8Sq2xt291GQ3GATyPTmq+p+FJNX+y3GpT2F3fW29QbjThJblGxx5RfII2jDb89exxUN54Ma70uGxLaQYo43XZJpClYizElogHHlnkDq33Qeucr3bBrf+v6/r5HUxSebCkgVk3qG2uMMM9iOxrJ8L/8gif/ALCN9/6VS1qW0P2a1ig8x5fKQJvkOWbAxknuay/C/wDyCJ/+wjff+lUtLSzsCvpc2KKKKkoKKKKACsfxR/yCIP8AsI2P/pVFWxWP4o/5BEH/AGEbH/0qiqo7oT2NC/jtZtNuYtQKi0eJlnLvtUIR82TxgYzzUEukadeS2FzJAsj2J32kgY/JlccEHkEeuaZ4kkaHwrqsqBSyWcrAOgZSQh6g5BHseKxZJ9TvNVNna6pJYQxaTFcgQQREmQlx/EpG3AHAHYYI5yl3/rqN9P67L9TWHhjSRfLd/Z5PMSc3CKbiQokhzllTdtUnJzgc5NT/ANiaf5PlfZ/k+1fa8b2/1u7fu6/3ucdPauf0/VtR8QNYxHUG0vzNKhvme3jjLSu+d2PMVhtXAzgZ+YcjuzUNX1JYdZv4dQZP7IKLFapHGUu/kV8tlS3zlio2kdO5q+WSdr7f52Iumr9/8v8AgnQXfh/Tb0XHnwPm5lSaRo5nRi6ABWBUgqQFHTHShPD2mJYT2Zt2kiuGDytLK8kjsMYYyMS2RgYOcjAxjFYhvdVmPiO6/tOWKPTZHW3t0hjx/wAe6P8AMSpJwzZGMd85GAI73UNXsNF0pxe3V3capLEjvFFAphzGWIjD7VBJAA3luvGTxSSdt+34jut/X8Dei8PadHHsMc0v75J9091LK29DlfmdicA9s468c1pkBlIYZB4IPeuNg1PW3Nrpl7PNZST30kIu5RA04jEYkVSE3RhznHToM7ec04WVyfHdgDrl1KUsJsyKkI8zbMmVb5MdwDjB44xzRytuzf8AVhXSV0v6ubOm6Ho0KtNpy+ajRtArfaXlWNM4ZEyxCDIwQuB8o9BWla20NlZw2tsmyGFBHGuSdqgYAyeelcTpusv4f0Oyv7mQ/wBmNNeRTqFHyP5rsjZ687SuPVlrrdG+3HRrd9VfdeSJ5ko2gbCxzsGAPu5x68c0pXtf+v6/zGrXEttF0+0e2e3t9jWqyLCd7HaJCC/U85IHX8Kgfwzpjxoix3EIRpGBt7yaIkyNvfJRgSC3ODwO1YOlapq32fQb251R7ptSuWhktWhjVQuHO5dqhsjYCSSR14HFM/tjWLfwjNrT38s8rXDWyQiGIJEpuPLD8gZZV7swX1HU0+V33C6Om/sDTRPayxwNC1rGIohDK8a7B0RlUgMvswIqlbaN4f02+ikikCTWjCKJJb6RxAXGAiozkLkEAKAM8Y6Csg6trlnDcW13Jc2/m3FtFBc3otjNEJWKsSsRKYGPlJA5OOcVVZpLLWNSjN41841bT0eW4jiZudvGFUKCAeCACPWqUW3a/wDTt/mS2l0/rX/I7CHRNPghsIorfamnktajex8s7SvrzwxHOetR2/hzTLWd5IYHw4cGFp5GhG/72IixRc5PQDqfWs61nvtUvr+VtYksEtbz7KtrHHEVIGMFiyltzbsjBA5Xg98HTbrUNH8D6V9lu7y4e+uRb8JButxl87NwVdxIA+cnk9Oxmzavfe34lXV/T9Dq4vC+lRRtGsdyysnlqHvZn8tcggJlzs5Vfu46D0qfSrHTrI3A05zJIZAs7yXDTybgBhWZ2LcA9CeM+9c7HqmtCG30+8nns5bjU/sy3cwt2nSLyjKNwQtGHJG0cdCDjNXvB6lG1xDdPdldUdTNJt3MRHGDnaAMjpwB0p2et3/Wn+YtFbT+tf8AIuXP/I76Z/2Drz/0ZbVsVj3P/I76Z/2Drz/0ZbVsVL2RSCiiipGFFFFABRRRQAUUUUAFFFFABRRRQAUUUUAFFFFABRRRQAUUUUAFFFFABRRRQAUUUUAFFFFABRRRQAUUUUAFFFFAGPbf8jvqf/YOs/8A0Zc0kWs3l3fzrY6fHJY20/kTTyXOx9wxuKptIIGe7AnBwOmVtv8Akd9T/wCwdZ/+jLmnjQVj1GS5tr+8t4ppRNNaRlPKkfjJOVLDOBkBgD+JzXUnoVLHxNNdSWEs9ikNjqTMtnMs5d2O0su9NoC5VSeGbHAOKrReLb5/D1vrD6MggunhjhiF5mRjJIE5GwKBzkfNzxnb20LPwzbWdzA4urqaC0LG0tZCnl25II+XChjgEgbicA8U9fDlouhWelCSbyLOSKSNtw3ExuHXJxjqOeKfu3+77uoa2Zmap4wk0idLO8i0uG+8kzyJcaoIo9uSFCO0eWY4PG0Adz0zYi8TTamYV8P2Ed2zWcd4/wBpuPJCLJnYoIV8sdrewx1q/faKt3fC9tr260+68vynltth8xM5AYOrA4JODjIyeeagn8OK8sc1tqd/Z3C24t5Z4XRnnQdN+9GBIJJyAD8xoXLYNb/15f8ABOe1DWddk0bxeZRFDFZeakE0VwRLCRCjAABBn72d27IJxyADW7eeJV07+0Y7i2Yy2kMcsCB+boP8qgccHeNuOeoPfFLdeFre6GpRm8u47fU4ytxAhTaWKBN4JUsGwo749qbqeif2j4o0i5eA+RYJJI0u8Ydvl2IV6nBG/PQFRTvF2X9bf1/w4td/6/r+ti9rGpvpHh271OSASPa27TNCsmASBnbux+uPwrJvfFd1pcV4dS0yOOSGxe+gSK63iVEIDKxKDaw3L03DnrWj4osrjUfCeqWdnH5lxPavHGm4DcxGAMniqz+FILq1u01K/vbyW6tTamaUxq0UZ6hQiBRzzkgngelJW6lO+n9diDUfFc2krbJqNvYWlxdsxhW51ERxrGoBJdynDfMBtUN9cc0Wni19UtbD+yLOG4u7sSsyPdhYo1ibY7eYqtuG4gLheQc8Vq6ho8d/JbzJcz2d1bZEVxbld6qR8y4ZWUg4HBB6A9RVeXw6JBayDVL9L22EgF6GjMjq5yysChTGQOAoxtGMUe6L3jC0LV5VTSZNSmuC7JqDykXBZAElHBBGXwOFPGB254sar4g1z/hErvVLTT7e1Rrbz7aU3W91BIxvTy8A7TnALDjGe9adn4WsLIWiq88q2iToomcNvEzBn3cc9OP1zTU8LQjTptPn1G/uLGS3a3S3kdNsKHGNpChiQAACxbFO8f69X/wAs7FTU/FsmkPbWl9HpkF9LE0zLcan5UKoDgYkaPLMfTbjg89MqvimfVbWL+wrKOZ5bIXchuLryhCrEhQCqvubKt04+XryKvSeHmdoJl1a/jvYkMZvEEPmSITnYy+XsIB6fLkevJy2bw1HLJHKmpX8Mwg+zzTI6brlM5w+VODktyu0jccYpPlat/XX/gBG6f8AXl/wR3hme4n8E6VO7me5ewictM5y7lAcs3J5PU81laL4j1VvC+mXGoWtvPe37JFbbbggTMQWLP8AuwIwApPAauk02wi0vSrXT7dnaK1hWFC5BYhRgZxjnisyLwtBDp6WaX94EglEtm37vdaEZ4Q7ORgkYfdxxTbi5N+YkmopFvSNUfUBcxXMC293ZzeTPGknmKDtDAq2BkFWB6A+1QeF/wDkET/9hG+/9Kpat6ZpkemRShZZbiaeQyzTzbd8rYAydoAGAAAAAMCqnhf/AJBE/wD2Eb7/ANKpaTtbTyGr3NiiiioKCiiigArH8Uf8giD/ALCNj/6VRVsVj+KP+QRB/wBhGx/9KoqqO6E9jVlijnheKeNZI5FKujrlWB6gg9RTRa26yGRYIg5jERYIMlB0XPpyePepaKkZm3+l6I9jDHqljp7WtvhIVuIUKRZwoChhgdhgewqebSdOuLyG7n0+1luYABFM8Kl4wORtYjI/Csjx1As/hOYyGRUimhldkkZNqrKpYkqRwFyfbGe1Zd9eaYt4kd1rc1vpAsd9jcR6nIBPLvbf+9D5kYALhST1PB7WrtX/AK2E7HXSQWkMFyzwRLHKC9x+7H7z5cEsP4uABz2GKjjTT9V0eICGG4sLiJWSN4gUZCAV+Ujp04IqpaS3k/gyOXVFKXj2O6dSu0h9nOR2PtXKeG7xFg0VfD2oSahOdOb7bALszRxkRDZlclYzvAUABcgt6UcvxeX/AAf8hX+Hz/4H+Z2T6Po8GkyWb6bZrp4zI9uLdfL45zsxjPGelMttO0S+06wlt9Ps5LWNRNZj7MoEQPzBkBHynoexrjNDv7q4kXzdRgeaSzm+22x1SW4lL7c5MDRgQlWyMDA5xzxT7e7gj02wj1rUptOtU0WB7Ex3bQebLtO/G0jewxHhTnr0Oapxavd/1r/kJNO1vP8AT/PU7DUNEgvrS3s0EcFpHcrPLCkQxJtbft9Bl8EnBzz65rTriYo77VtRWLWLq9tpV0OCeWG2uXgCzkvub5CORjGOnqDgYqx6ul7b6a/iPVJrOObRoriAx3b2wuJ2+/yhUsw+TC5/iPB7S46Nf11/yHfX+vL/ADOn0Hwzp3h60QxW9r9qVGWW8W3WN5ATk5PX06ntWhbxWUunhbSO3ezmUsBEqmORW5J44IOSffNZeg+ZqHgDT/tMksstxp0e+TzGDsTGMncDnPvnNcxpU9pbeC9Cji1KSOz3xR6vKL991qREfkLbswjzAoIG3GccZpuLbafT/giT0TR20Gh6Ta2k1rbaXZQ28/8ArYY7dFST/eUDB/GqzR+H9L064lW3sYbWzcNMIYVIiZMEZVRwwyCOMjNQ+Fbh57S92Tvc2KXbLY3DyGQyRbV53kksA5cAkngdT1rk9Qhsraw8Zwm7kS/aSR1t3vHJMbJGd4jZsEZON2OOmeMUJNys/X8gurfO35neyaTps+oJfzafayXiY2XLwKZFx0wxGRSDRdLCXKDTbMLeHNyogXE565fj5up61zGoNqGj3mq2+iz3lxIdKFxHHNM85WXeyll3bscfwgY4GBUng+7afVJ1g1G2urU26sYodWlv2R8/eLOg2ZB+7ntwOtHK2tH/AF/SDm7/ANf1c6JdD0lNOfT00yzWydtzWwt0EbH1K4wTwPyqe0srWwi8qxtobaMnJSGMIOgHQewA/AVPRUXZVkY9z/yO+mf9g68/9GW1bFY9z/yO+mf9g68/9GW1bFN7IEFFFFSMKKKKACiiigAooooAKKKKACiiigAooooAKKKKACiiigAooooAKKKKACiiigAooooAKKKKACiiigAooooAKKKKAMe2/wCR31P/ALB1n/6Mua2Kx7b/AJHfU/8AsHWf/oy5rYqpbiQUUUVIzmNXW9fx5pq6bLbwynTrnL3ETSKB5kP8IZcn8R/Sqr+MLuS102KKNYru5E5mkWymulXyX8ttscfzEFjwSQAPU4rodQ0Ox1O6iuboXCzwoyJJb3UsDBWIJGUYZBKjr6VFeaNo6afbRXCLaW9oQsEkc7QGLPy4DqQRnOMZ5z3q01ZJ/wBbktO7a/rY5s67MmpWWs6jZyRS2+jXsksJjaMtsli5CuAwDYyM84NXrrX9W0qGYah9inlfTZr2AwQuixtGASjZc7h8w5G3oeK24NC063eJktyzRRSQqZJGclJGDOG3E7skAknJqGDwzpVvBcQpBI6XEBt3EtxJIREf4FLMSi+y47egobVrev5v/NAk73f9bf8ABMs+JNR0yRm1gWs8baZJqCC1jZCnl7coSzHdneMNheh4qxp+payviC0sdVlsZY7qykucW0DoY2Voxt3M53D5zzgdK1ZdJs3kSY2yySRWz2yB2O3y2xlSORg7V5wTxWDomg/2Xr0V3eCCzb7M1ra2y6jLdFwSGbDSgEABBhVGByaacW/687foLVL+vL/gljWZNU/4THR4NOvoreKS3uGeOWFpFYqU6gOuTzx6c9c1E3iLUArakBbf2amofYjb+U3nH975W/fu2/e527enfNbl/pVpqTwPdLJ5luxaKSGd4mXIwRuQg4PcdDUJ8P6adS+3GB/O8zzdvnP5Zkxjf5edm7/axnvSTWl/61G0+hR8Xy38VhYnTLpbWRtQt0ZmRmBBcDBAZePUZ5GRx1rLnk1i18T6zNZz2PnwaXbSTNLbuVkKmY4VQ+VB55JbHoa6u/0+21Oza2vYy8RZW+V2RgykEEMpBBBAOQaij0axiMxEbs08C28ryTO7PGu7AJJJz87c9TnrSUrRt1Ha718vzOdvvF15JNFDpkXlubCO8bdYT3e4yZ2p+6+590/MfwB5rqLC5e8022uZYHt3miWRoZAQ0ZIyVOcHI6VQvtE0hbWKW532kdnB5Ynju5LcpEOzOrAlRjPJx3rTt4Yra2igt1CRRoERR2UDAFOTjbQlKXUkoooqCwrH8L/8gif/ALCN9/6VS1sVj+F/+QRP/wBhG+/9KparoLqbFFFFSMKKKKACsfxR/wAgiD/sI2P/AKVRVsVj+KP+QRB/2EbH/wBKoqqO6E9jYorK8U/8ifrH/XjN/wCgGuWtLBpsy+ErKawc6TLHNPJbPb+dOwXyyd6guwIY7+cZ680JXT/ruN6W8/8Agf5nfVBd3X2RI28iafzJUjxCm4ruONx9FHUnsK4mPT4HWYaLp9/pdqdMkivjDZvDI8p27CoIBkdfnO4ZznqcioLTT5hHss9JjjiW/sm8+10yWy8wLIS26F8n5RyX6ENj+Gq5Ffft+diOZ2v/AFsdrJq9uLa8lt0mu2s5PKligjLPvwDgA4zwwPFX689vdHhgh8TwwaMw1C4nMsE0Vix8yJhGSBIFx97cSuc5BOO9amp6bdnXZtLgt5G03WXSe4lVcpFs/wBap9PMUIB65alyrTz/AK/zC718jrqK881TS7yTxFevdJtna5R7K4j0ia5kSMbdoSdXCxDIYFSAOSTkHNdX4qhuZ/D8qWiSSfvI2mihzvlhDgyIuOSSm4YHXpS5dF5jvq12Lt5qUNleWNtKrl76UxRlQMAhGfnnphT681HqemS6knlrqd5ZxFSkkduIsSA+pZGI/AiudW1sjqWjyeHtHntLaLUJHmUWL2y5+zON21lGByq7sAE8VmaRBct4osbyHSF0/wAyOcXcdppMlsY9yZCPMxCyncBhgAMjOeRl8oXPQLe3itLaK3t0EcUSBEQdFUDAFSV51pWmeVb3sENnOI206SOTUYNKltLsMSOG3H9+55bcvdT/AHq0/Dj/ANkQ6lPHo37hFhCvp+lyWbXByQR5DnJK5B3jgg4/hpuPmJSt0Osu7qOytmnmWVkXGRDC8rdccKgJP4CsgeMNKe2up4Vv5FtUkaT/AIl86AbFJZdzoFDcdCRzW7XJ/Y7r/hEfFEP2abzZ5bwxJ5Z3SBlO3aO+e2OtQrWZfVep1MMongjlQELIoYA9cEZp9cS2h3FheIPD1n9jmuNFmWSVEKBrgGPyy7d35fk89az9M0pliu/LW6s/M02SK4Wx0Wa2ct8uGLu7CWQZbBXJOW55GbcVrZ/1r/kQpOyv/W3+Z6NRXnC6deHRtRi0zTLeGDzLfzZbfSpbT7TGCTIptmYM+B1wRvDFecYrofB1p9lW/wDK+S3kkVkiTTJLGJG24bZHIxPPBJAAz6nNDgknqCk9NC9c/wDI76Z/2Drz/wBGW1bFY9z/AMjvpn/YOvP/AEZbVsVL2RSCiiipGFFFFABRRRQAUUUUAFFFFABRRRQAUUUUAFFFFABRRRQAUUUUAFFFFABRRRQAUUUUAFFFFABRRRQAUUUUAFFFFAGPbf8AI76n/wBg6z/9GXNYcmp6vHHdaj/abmO31gWi2nkx+W0RlVME7d24BjggjoMg853Lb/kd9T/7B1n/AOjLmtE2NoY2jNrCUeTzWUxjDPnO4j1yAc9cirvaV35foTurf11OQm1rXZ9WvZLJLoRWV6sBiH2VbfYCu4yF3Eu4hiQRgfd4POVudW1J4zqMeqywAayliLJY4tmzz1jIYlS+4rluGHUYFdRcaNpl3fR3t1ptpPdRY8ueSBWdMHIwxGRg81l3fhVL/X0v7kaeESZJsxWG24cpgqGm3nIyAfujoBTjKN1f+thSTs7f1uZt1r12muWk1hcahNYz6kLNjMlsLdjkqypjE2VYHk5HynqOapLHcWWia1cfbpZwNZEfkTxQsgJuI/mxsznB9cDqBnBrsv7D0kX5vf7LsvtbNuNx9nTzCc5zuxnOQKc+j6ZJdS3MmnWjXE2BJK0Cl3wQRk4ycFQR9B6URklb+u3+Q2m3/Xn/AJmDc6vqEOrTaELj/Tri6R7WXYMrbN8ztjGDt2OvTumevNObWtdn1a9kskuhFZXqwGIfZVt9gK7jIXcS7iGJBGB93g856qOSwudVm8tI3vbNRG7mP5ow4DYDEdDgHAPakuNG0y7vo726020nuoseXPJArOmDkYYjIweaUWk1df1/X5g03e39f1+hW8R389hpsRtZBA1xcxW5uGUEQB2AL4PGRnjPGSOvQ5V8j2WvaGt1qUl95d3OTJMqB4x9nY7TsVR79Bwa6ieCK6t3guYkmhkUq8cihlYHqCD1FVrXSNNskjSy0+1t1icvGsUCoEYjBIwOCRxmknZDauzl9N12+bX7JRcX8lhf280sT6ilsisFCsrp5WHAwed4HBHQ1Hb6pr0UMsFzdXCarLZNLDDdC2+zyPuRcwunIGWAAk67lz0NdPDo2jaY0l3baZZWrKGZ5YbZVbGOTkDPSqenWvhmQNa6Zp9iq31qtw8cdmEWaEn5Sw2gEex59qq66L+tf6+RNn1/rb+vmR6Hqhj+3x6te3kb2zxh11NbdGj3j5fnh+QhjwO+c+oravLG01G2NvqFrDdQsQTFPGHUkdODxUMOjaZbWTWdvptpFaswdoEgVULAg5KgYzwOfYVML23bUXsRJ/pKRCZk2nhCSAc9OqmpbTehSulqef8A9jaZbfDrxFdW2nWkNwpv41mjgVXCiRwFBAzjAAxWzdapqeg3F+jXUmpiPSXvY0liRdkinG0bAMqcjg5Ix1rozBp5WXTjFakSq0ktrtX5wxO5ivcE5yT1NT/Z4ftAn8qPzgmwSbRuC5ztz1xntTcr7itrp/Wq/Q4yDUvEiwTbHmcz2PmW0moNaLmbcoHl+U5yrb+N2cHbk80k+v6jZafdQCXUmvBdwQMt5Fa+bAsn8SshERz0G48N1zwK6eLw/o0CzrBpFhGtwu2YJbIBKPRsDkfWpYNH0y2sZLK2060htJc+ZbxwKsb5GDlQMHIpuS7f1cXK+/8AVih4cuNTk+2Q6ss/7qUeS10YPOKFQfnEJK9c44GRj60/wv8A8gif/sI33/pVLV+x02x0uFodNsreziZtxS3iWNSemcAdeBVDwv8A8gif/sI33/pVLSbutBrQ2KKKKgoKKKKACsfxR/yCIP8AsI2P/pVFWxWP4o/5BEH/AGEbH/0qiqo7oT2NO6tYb2zmtbpN8M8bRyLkjcpGCMjnpVVNW0mC9TSl1GzS7UBFtTcL5nTIG3OenNX64rXLHxFqV+YjFdNBFfwywiJrYW/lJIjbiW/e7+CeMDjj3Iq7swlornVf2rp325bP7fa/amYqsHnLvJAyRtznIByaLPVdP1GSVNPv7a6eE4lWCZXMZ54YA8dD19KxodDumsvE0IC2s2pzyeTPwSVMSqrHHPBz71X8OaVewatbz30Goxm2s2tw1w9p5QGU+VBCoYj5eC2MAdOaaSa+X9f5Cbf4nQX+saZpTINT1G0szJkoLidY92OuMkZ61E2sRprb2MiqkSWYu2uGkwoG4j8uM5zWb4jTW57oQWCXRspIGUmz+z7jITjEnnZATH90E9fbOTD4cv8A+y4IL6xlmA0KGzlSKdFfzFbLBSTjcOoJ+UkYzQkrXf8AW4NvZf1qv+CdXb63pV3ZzXdrqdnNbQf62aO4Vkj4z8zA4HHrU9nfWmo2wuNPuobqFiQJYJA6kjryOK5T+zdcurKeS6inm8q8t54obz7OtxOkZBZGMX7sjPK579ccGtnRLa6GpanqN1bPZLevHstpGVmGxdpdthK5PsTwo+gHFa/12BN6F651bTrO7itby/tYLiYgRQyzKryZOBtUnJ544psGtaXdXz2VrqVnNdx53wRzq0i44OVByMVkxW97p2u6kTpL6hDqNxFKtwskYWJQqrtcOwbClSw2hvvdjWalj4ivfEOl3OoxXWLS8kkly1sLdEKOoMe396eq/ePfp6CimDbVzXsPE3265sovsmz7XNdRZ8zOzyHK56c7sZ9vetO21XT726mtrO/trieA4liimVmj5x8wByOfWuZsdA1NGsQ8fkGOXUS0m9T5YlkYxtwecgg8dO+KraV4d1RFtra4XUIpbOzlto55Htfs6Fk25Ty1EhBIBG7HTJ56llZ/13C7v8zoU8T6fceIrfSbC5truSRJWlMNwrGEptGGUZ67j1x0pmv+JYtGvLKyVrM3V4zbFu7sQIqgdS21jknAAxyaz9KstS/tXQzNpDWNvptlLbyMZYypYiMDYFYnb8p5IB9QK1r+yuJvEuk3cUe6G3WcStuA27lUDjqenam1FNf13BNtFm31rS7q+eyttSs5ruPO+3jnVnXHByoORiqlp4msH0ePUNTuLfTY5JpIV+0XCqCUdl4JxyducVhJY+Ir3xDpdzqMV1i0vJJJctbC3RCjqDHt/enqv3j36ejV0bUrOwsWjs9RS9ge72y2EtsWRZJSwVlmO0gjacjkY7UuVWQXd7HVXOtaXZwQTXmpWcEVwMwySzqqy9/lJPPUdKu1w1xoetJcQXEy3Enm6bHaTxaUtqNjKSWGJxjY27+Ej7vIPGOu0m2NlotlasHUwwJGQ7h2GFAwWAAJ9wBRKKS3BNtlK5/5HfTP+wdef+jLatise5/5HfTP+wdef+jLatik9kNBRRRUjCiiigAooooAKKKKACiiigAooooAKKKKACiiigAooooAKKKKACiiigAooooAKKKKACiiigAooooAKKKKACiiigDHtv8Akd9T/wCwdZ/+jLmtise2/wCR31P/ALB1n/6Mua2KqW4kee2uuCfxhpzWExiW4vJYp7Z9WlnlC7HOHt2BWL5lBGDkdMdQJVN/H4IuNVtrq9nvWuJInd7uTbFD9pIYhRkDagPzBSwHTpiu9op82wra3OW8HXLz3GoKl/a3VqPLaNLfU5L/AMpjuDZldQecA7cnHJ4yKx/HOuC1uL8Wkxtb6yt1eNpNWlgMhwWBjt1ysoHQkgA8jtx6DRRzLm5gS0scLqc7R32usL+Kx3XNnveadoEdfLBKGVeY8gEbh3wO9Mg1KOXT7D7Xd3FnpDXk6XF1/ackiEqvybbrIbyyc8kj5htz2Pe0UKWgcuxi+FZ5rjR2aSWSeAXEq2s0jFmlhDHYxY8tx0Y9Rg85ycfT9Rs/7QuJdX1O6GtRXU4GnR3TgmNd2xVgB2sDGA27ByTnPp2VQXd7b2KRvdSeWssqQodpOXY4UceppXux20OA0jV/tOsNHZ3Kta3OmTyPCuryXxVhs27t4xGwDEEKT+gNOt5r230+KbSkZ7xPDEJiCjJzu6gYOSOuMH6Gu9iuvNvLi38iZPJCnzXTCSbgfunvjHPpU9U5eX9a/wCZPLf+vT/I86tdTu007VZNK1KG4jWzVilrqkuoSRNuw0mXQbDtJO31Xhetanhw6a3jW8Oj30l9B/Z0OZnvHuQW8yTIDszfkDgGuxoocx8un9eRyd9DYw/EiCa/upLZprJVt83jxLLIsn3AoYBuo+XBznpWdA09v4HstYk1G+adrmA3E0t25VYhcDdlc7QAvBOM4zkmu9opKVkvL/O4ON2/P/Kxwt9rl1c2/iO40S7a5hjltVSSKUlI4iF81kYBsDG47lBxgnBIrR8HXLz3GoKl/a3VqPLaNLfU5L/ymO4NmV1B5wDtyccnjIrqaKOZWtYLMKx/C/8AyCJ/+wjff+lUtbFY/hf/AJBE/wD2Eb7/ANKpaXQfU2KKKKkYUUUUAFY/ij/kEQf9hGx/9Koq2Kx/FH/IIg/7CNj/AOlUVVHdCexsUUUVIwooooAKzb/xBp2m3YtbqSY3Bi83yobaSZtmcbsIp4z37cetaVctfvqKePG/sq3tZ5DpYB+03DRBf3pwflRs/Tj600ru39bA9Ff+tzWuPEWmW8FvMZ3mW5jMsItoXnZ0GMvtQE7eRz05FNufE2k2qxs1w8qyQicNbW8k4WM9HYop2qecE4BwfQ1mWvh7UND+xSaS1teSw2X2OVbmRoVOG3B1Kq+OSflx0I5GOac3hHUILS3t9OMKzx2qwjUEvZraRG3EkmNAVkUE5CsfUd81do3/AK8/+ATd/wBfL/gmhqHir+y/tkkyLdJFfwWiJbRyl0EgQkthTkjcSAvB+UdTVqPxDAL65+0zJHaotvsDQSpKjSllHmBlGASAB6c5xxVK78N30septHLA009/b3kG9iobyhFwxAO3JjPQHGR9Kn/sGe/uNWfVFhjTUrSKEpDIXMbKHyQSo6bgQcdugpe7y/12X/BDW/8AXc07jWLC0a6W5uBH9kjWWYlThFYkLzjBJweBz045FV18TaU1rNP50qeTIsbxSW0qTBm+6BEVDkntgc8+lZP/AAi19deF7i31G7iOrXM6XM08BdEZ42XYuRhgMIoyMEckVGPDF21vcmTT7VpZXhOyXWLqVjsLEETsN0ZBYEbV9eeeC0er/r+rhdnTWGoW+pW5mtTJtVijLLC8TKR2KuAR+IqzWHpVjrWn6fDC88MrG7Z5VnnknMUBz8iyMAzsDjBYdCR2FblS0lsNX6hRRRSGFFFFAGPc/wDI76Z/2Drz/wBGW1bFY9z/AMjvpn/YOvP/AEZbVsVT2QkFFFFSMKKKKACiiigAooooAKKKKACiiigAooooAKKKKACiiigAooooAKKKKACiiigAooooAKKKKACiiigAooooAKKKKAMe2/5HfU/+wdZ/+jLmtis290Cxv743kxuo5zGsTPb3s0G5VLEAiNwDgs3X1qH/AIRew/5+NV/8G91/8cqnZi1Niisf/hF7D/n41X/wb3X/AMco/wCEXsP+fjVf/Bvdf/HKNA1NisLxZZNf6bZwLA86nULcyKik/IJBuJx2x1qX/hF7D/n41X/wb3X/AMco/wCEXsP+fjVf/Bvdf/HKFZNMHdpo5zUdGu7W31uz0ay+z2JuraTyI7djG8e0eaEjUruBxyqkZ5HU4MEWnyR6RcrFbyzabJfQPc2dvpM1onl9HCQsxZgflLADB54PIrqv+EXsP+fjVf8Awb3X/wAco/4Rew/5+NV/8G91/wDHKtTVvu/T/Inl/r7/APM5OAWqQ69HpehxNYyahAhgl01mSFfKQlzbABmwf4cA5IPA5qKHR3m8N3SXeleda2+txTxQLprxr5GIy5jgbcwXl8qM/wAXHauti8IaVC0hhfUozK2+Qpqt0N7Yxk/vOTgDn2qT/hF7D/n41X/wb3X/AMcpqaX4fhb/ACBxbVv66/5mJ/Y5vJNa/s21e0TyrSXTi0DQqrxqxUAEDGDgEY4BxUN3aanqfhu71UWksFzf3ETTWs0JaRLVDjyygKlv4mKg5IYjviuh/wCEXsP+fjVf/Bvdf/HKP+EXsP8An41X/wAG91/8cqeZX/r+ugcrscomlr/Yt3GBMtpJeRSCCHQJkt1Kqcg2zMXZDgZ2gDdg+uN/w3O9jpNrA2kPbrcXcqILS1aKNV+ZhI0bHMSnHQ9yPWrn/CL2H/Pxqv8A4N7r/wCOUf8ACL2H/Pxqv/g3uv8A45Tckw5WbFFY/wDwi9h/z8ar/wCDe6/+OUf8IvYf8/Gq/wDg3uv/AI5UaFamxRWP/wAIvYf8/Gq/+De6/wDjlH/CL2H/AD8ar/4N7r/45RoGpsVj+F/+QRP/ANhG+/8ASqWj/hF7D/n41X/wb3X/AMcq/p+n2+l2a2tmrrErM/zyNIxZmLMSzEkksxPJ70aWsg1uWaKKKkYUUUUAFVtQ0+31Sza1vFdomZX+SRo2DKwZSGUgghlB4ParNFAGP/wi9h/z8ar/AODe6/8AjlH/AAi9h/z8ar/4N7r/AOOVsUVXNLuKyMf/AIRew/5+NV/8G91/8co/4Rew/wCfjVf/AAb3X/xytiijml3CyMf/AIRew/5+NV/8G91/8co/4Rew/wCfjVf/AAb3X/xytiijml3CyMf/AIRew/5+NV/8G91/8co/4Rew/wCfjVf/AAb3X/xytiijml3CyMf/AIRew/5+NV/8G91/8co/4Rew/wCfjVf/AAb3X/xytiijml3CyMf/AIRew/5+NV/8G91/8co/4Rew/wCfjVf/AAb3X/xytiijml3CyMf/AIRew/5+NV/8G91/8co/4Rew/wCfjVf/AAb3X/xytiijml3CyMf/AIRew/5+NV/8G91/8co/4Rew/wCfjVf/AAb3X/xytiijml3CyMf/AIRew/5+NV/8G91/8co/4Rew/wCfjVf/AAb3X/xytiijml3CyM2y0CxsL4XkJupJxG0SvcXs0+1WKkgCRyBkqvT0rSoopNt7jCiiikAUUUUAFFFFABRRRQAUUUUAFFFFABRRRQAUUUUAFFFFABRRRQAUUUUAFFFFABRRRQAUUUUAFFFFABRRRQAUUUUAFFFFABRRRQAUUUUAFFFFABRRRQAUUUUAFFFFABRRRQAUUUUAFFFFABRRRQAUUUUAFFFFABRRRQAUUUUAFFFFABRRRQAUUUUAFFFFABRRRQAUUUUAFFFFABRRRQAUUUUAFFFFABRRRQAUUUUAFFFFABRRRQAUUUUAFFFFABRRRQAUUUUAFFFFABRRRQAUUUUAFFFFABRRRQAUUUUAFFFFABRRRQAUUUUAFFFFABRRRQAUUUUAFFFFABRRRQAUUUUAFFFFABRRRQAUUUUAf//Z)"
      ]
    },
    {
      "cell_type": "markdown",
      "metadata": {
        "id": "mAKfkNW8FpDs"
      },
      "source": [
        "---------------"
      ]
    },
    {
      "cell_type": "markdown",
      "metadata": {
        "id": "MXxJ19Ca4bRN"
      },
      "source": [
        "https://letsdiscuss.medium.com/understanding-confusion-matrix-for-classification-8a51984cedab\n",
        "\n",
        "https://letsdiscuss.medium.com/plotting-a-confusion-matrix-machine-learning-in-python-c9eecb9c6ee7"
      ]
    },
    {
      "cell_type": "markdown",
      "metadata": {
        "id": "4cWeQn2FIBeG"
      },
      "source": [
        "----------------------------------------"
      ]
    },
    {
      "cell_type": "markdown",
      "metadata": {
        "id": "he1LQ5eyID_F"
      },
      "source": [
        "https://keytodatascience.com/confusion-matrix/"
      ]
    },
    {
      "cell_type": "code",
      "metadata": {
        "id": "KfUAMETyFnFA",
        "outputId": "76f7fdad-a10b-4023-f78c-0d562f9c6b39",
        "colab": {
          "base_uri": "https://localhost:8080/"
        }
      },
      "source": [
        "# Python script for confusion matrix creation.\n",
        "\n",
        "from sklearn.metrics import confusion_matrix\n",
        "from sklearn.metrics import accuracy_score\n",
        "from sklearn.metrics import classification_report\n",
        "\n",
        "actual = ['dog','cat', 'dog', 'cat', 'dog', 'dog', 'cat', 'dog', 'dog', 'cat']\n",
        "predicted = ['dog', 'dog', 'dog', 'cat', 'dog', 'dog', 'cat', 'cat', 'cat', 'cat']\n",
        "results = confusion_matrix(actual, predicted)\n",
        "\n",
        "print ('Confusion Matrix :')\n",
        "print(results)\n",
        "\n",
        "print ('Accuracy Score :',accuracy_score(actual, predicted))\n",
        "print('Classification Report : ')\n",
        "\n",
        "print (classification_report(actual, predicted))"
      ],
      "execution_count": 1,
      "outputs": [
        {
          "output_type": "stream",
          "text": [
            "Confusion Matrix :\n",
            "[[3 1]\n",
            " [2 4]]\n",
            "Accuracy Score : 0.7\n",
            "Classification Report : \n",
            "              precision    recall  f1-score   support\n",
            "\n",
            "         cat       0.60      0.75      0.67         4\n",
            "         dog       0.80      0.67      0.73         6\n",
            "\n",
            "    accuracy                           0.70        10\n",
            "   macro avg       0.70      0.71      0.70        10\n",
            "weighted avg       0.72      0.70      0.70        10\n",
            "\n"
          ],
          "name": "stdout"
        }
      ]
    },
    {
      "cell_type": "code",
      "metadata": {
        "id": "V8hAZjp8FnKH"
      },
      "source": [
        ""
      ],
      "execution_count": null,
      "outputs": []
    }
  ]
}