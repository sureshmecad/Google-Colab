{
  "nbformat": 4,
  "nbformat_minor": 0,
  "metadata": {
    "colab": {
      "name": "6. Confusion Matrix.ipynb",
      "provenance": [],
      "authorship_tag": "ABX9TyNoGLVaEsoi1KpxY8potQtq",
      "include_colab_link": true
    },
    "kernelspec": {
      "name": "python3",
      "display_name": "Python 3"
    }
  },
  "cells": [
    {
      "cell_type": "markdown",
      "metadata": {
        "id": "view-in-github",
        "colab_type": "text"
      },
      "source": [
        "<a href=\"https://colab.research.google.com/github/sureshmecad/Google-Colab/blob/master/6_Confusion_Matrix.ipynb\" target=\"_parent\"><img src=\"https://colab.research.google.com/assets/colab-badge.svg\" alt=\"Open In Colab\"/></a>"
      ]
    },
    {
      "cell_type": "markdown",
      "metadata": {
        "id": "P25i1J-MCu9x"
      },
      "source": [
        "## Confusion matrix"
      ]
    },
    {
      "cell_type": "markdown",
      "metadata": {
        "id": "libbdYiMHKSx"
      },
      "source": [
        "- A confusion matrix is a tabular summary of the number of correct and incorrect predictions made by a classifier. It can be used to evaluate the performance of a classification model through the calculation of performance metrics like accuracy, precision, recall, and F1-score."
      ]
    },
    {
      "cell_type": "markdown",
      "metadata": {
        "id": "ZESoyPWGCxeo"
      },
      "source": [
        "- Example of confusion matrix usage to evaluate the quality of the output of a classifier on the iris data set. The diagonal elements represent the number of points for which the predicted label is equal to the true label, while off-diagonal elements are those that are mislabeled by the classifier. The higher the diagonal values of the confusion matrix the better, indicating many correct predictions.\n",
        "\n",
        "- The figures show the confusion matrix with and without normalization by class support size (number of elements in each class). This kind of normalization can be interesting in case of class imbalance to have a more visual interpretation of which class is being misclassified.\n",
        "\n",
        "- Here the results are not as good as they could be as our choice for the regularization parameter C was not the best. In real life applications this parameter is usually chosen using Tuning the hyper-parameters of an estimator."
      ]
    },
    {
      "cell_type": "code",
      "metadata": {
        "id": "1QFlTf5EBL9g"
      },
      "source": [
        "import numpy as np\n",
        "import matplotlib.pyplot as plt"
      ],
      "execution_count": 1,
      "outputs": []
    },
    {
      "cell_type": "code",
      "metadata": {
        "id": "xZR_jAYTBq0_"
      },
      "source": [
        "from sklearn import svm, datasets\n",
        "from sklearn.model_selection import train_test_split\n",
        "from sklearn.metrics import plot_confusion_matrix"
      ],
      "execution_count": 2,
      "outputs": []
    },
    {
      "cell_type": "code",
      "metadata": {
        "id": "MzYjTXY-Bq41"
      },
      "source": [
        "# import some data to play with\n",
        "iris = datasets.load_iris()\n",
        "X = iris.data\n",
        "y = iris.target\n",
        "class_names = iris.target_names"
      ],
      "execution_count": 3,
      "outputs": []
    },
    {
      "cell_type": "code",
      "metadata": {
        "id": "fKh2wdfXBq9F"
      },
      "source": [
        "# Split the data into a training set and a test set\n",
        "X_train, X_test, y_train, y_test = train_test_split(X, y, random_state=0)"
      ],
      "execution_count": 4,
      "outputs": []
    },
    {
      "cell_type": "code",
      "metadata": {
        "id": "q5zfaYs8B6Wn"
      },
      "source": [
        "# Run classifier, using a model that is too regularized (C too low) to see the impact on the results\n",
        "classifier = svm.SVC(kernel='linear', C=0.01).fit(X_train, y_train)\n",
        "\n",
        "np.set_printoptions(precision=2)"
      ],
      "execution_count": 5,
      "outputs": []
    },
    {
      "cell_type": "code",
      "metadata": {
        "id": "Y9srE8xnB6am",
        "outputId": "c0eea618-7851-4bc8-823e-ccd45424e23f",
        "colab": {
          "base_uri": "https://localhost:8080/",
          "height": 709
        }
      },
      "source": [
        "# Plot non-normalized confusion matrix\n",
        "titles_options = [(\"Confusion matrix, without normalization\", None),\n",
        "                  (\"Normalized confusion matrix\", 'true')]\n",
        "for title, normalize in titles_options:\n",
        "    disp = plot_confusion_matrix(classifier, X_test, y_test,\n",
        "                                 display_labels=class_names,\n",
        "                                 cmap=plt.cm.Blues,\n",
        "                                 normalize=normalize)\n",
        "    disp.ax_.set_title(title)\n",
        "\n",
        "    print(title)\n",
        "    print(disp.confusion_matrix)\n",
        "\n",
        "plt.show()"
      ],
      "execution_count": 6,
      "outputs": [
        {
          "output_type": "stream",
          "text": [
            "Confusion matrix, without normalization\n",
            "[[13  0  0]\n",
            " [ 0 10  6]\n",
            " [ 0  0  9]]\n",
            "Normalized confusion matrix\n",
            "[[1.   0.   0.  ]\n",
            " [0.   0.62 0.38]\n",
            " [0.   0.   1.  ]]\n"
          ],
          "name": "stdout"
        },
        {
          "output_type": "display_data",
          "data": {
            "image/png": "[encoded data removed]",
            "text/plain": [
              "<Figure size 432x288 with 2 Axes>"
            ]
          },
          "metadata": {
            "tags": [],
            "needs_background": "light"
          }
        },
        {
          "output_type": "display_data",
          "data": {
            "image/png": "[encoded data removed]",
            "text/plain": [
              "<Figure size 432x288 with 2 Axes>"
            ]
          },
          "metadata": {
            "tags": [],
            "needs_background": "light"
          }
        }
      ]
    },
    {
      "cell_type": "markdown",
      "metadata": {
        "id": "9FjLg9mgD4nz"
      },
      "source": [
        "------------------------"
      ]
    },
    {
      "cell_type": "markdown",
      "metadata": {
        "id": "Wn_DU1WYD6gT"
      },
      "source": [
        "- **Classification** is a process of **categorizing** a given set of data into **classes.**\n",
        "In Machine Learning(ML), you frame the problem, collect and clean the data, add some necessary feature variables(if any), train the model, measure its performance, improve it by using some cost function, and then it is ready to deploy.\n",
        "\n",
        "- But how do we measure its performance? Is there any particular feature to look at?\n",
        "\n",
        "- A trivial and broad answer would be to **compare** the **actual values** to the **predicted values.** But that does not solve the issue. \n",
        "Let us consider the famous MNIST dataset and try to analyze the problem."
      ]
    },
    {
      "cell_type": "code",
      "metadata": {
        "id": "AON0GP2yB6en"
      },
      "source": [
        "# Importing the dataset.\n",
        "from sklearn.datasets import fetch_openml\n",
        "mnist = fetch_openml('mnist_784', version=1)\n",
        " \n",
        "# Creating independent and dependent variables.\n",
        "X, y = mnist['data'], mnist['target']"
      ],
      "execution_count": 7,
      "outputs": []
    },
    {
      "cell_type": "code",
      "metadata": {
        "id": "D-K0B3XbB6in"
      },
      "source": [
        "# Splitting the data into training set and test set.\n",
        "X_train, X_test, y_train, y_test = X[:60000], X[60000:], y[:60000], y[60000:] "
      ],
      "execution_count": 8,
      "outputs": []
    },
    {
      "cell_type": "code",
      "metadata": {
        "id": "_v1cMx5wFEHA"
      },
      "source": [
        "\"\"\"\n",
        "The training set is already shuffled for us, which is good as this guarantees that all\n",
        "cross-validation folds will be similar.\n",
        "\"\"\"\n",
        " \n",
        "# Training a binary classifier.\n",
        "y_train_5 = (y_train == 5) # True for all 5s, False for all other digits.\n",
        "y_test_5 = (y_test == 5)"
      ],
      "execution_count": 9,
      "outputs": []
    },
    {
      "cell_type": "code",
      "metadata": {
        "id": "4-XfSOCoFELN",
        "outputId": "a50f1cd5-d84c-41ce-d5c2-29b682bb7372",
        "colab": {
          "base_uri": "https://localhost:8080/"
        }
      },
      "source": [
        "\"\"\"\n",
        "Building a dumb classifier that just classifies every single image in the “not-5” class.\n",
        "\"\"\"\n",
        " \n",
        "from sklearn.model_selection import cross_val_score\n",
        "from sklearn.base import BaseEstimator\n",
        "class Never5Classifier(BaseEstimator):\n",
        "    def fit(self, X, y=None):\n",
        "        pass\n",
        "    def predict(self, X):\n",
        "        return np.zeros((len(X), 1), dtype=bool)\n",
        " \n",
        "never_5_clf = Never5Classifier()\n",
        "cross_val_score(never_5_clf, X_train, y_train_5, cv=3, scoring=\"accuracy\")"
      ],
      "execution_count": 10,
      "outputs": [
        {
          "output_type": "execute_result",
          "data": {
            "text/plain": [
              "array([1., 1., 1.])"
            ]
          },
          "metadata": {
            "tags": []
          },
          "execution_count": 10
        }
      ]
    },
    {
      "cell_type": "markdown",
      "metadata": {
        "id": "Ma--9HPaFiq2"
      },
      "source": [
        "- If you executed the same code on an IDE, you would get an array of accuracies each with above 90% accuracy! This is simply because only about 10% of the images are 5s, so if you always guess that an image is not a 5, you will be right about 90% of the time.\n",
        "\n",
        "- This demonstrates why accuracy is generally not the preferred performance measure for classifiers, especially when you are dealing with skewed datasets (i.e., when some classes are much more frequent than others)."
      ]
    },
    {
      "cell_type": "markdown",
      "metadata": {
        "id": "M6RdhpkwFpyO"
      },
      "source": [
        "### Confusion Matrix\n",
        "- A much better way to evaluate the performance of a classifier is to look at the confusion matrix. The general idea is to count the number of times instances of class A are classified as class B. For example, to know the number of times the classifier confused images of 5s with 3s, you would look in the 5th row and 3rd column of the confusion matrix."
      ]
    },
    {
      "cell_type": "markdown",
      "metadata": {
        "id": "jENtIJAhI97i"
      },
      "source": [
        "--------------------------"
      ]
    },
    {
      "cell_type": "markdown",
      "metadata": {
        "id": "LZYqI1QAKcP6"
      },
      "source": [
        "https://www.analyticsvidhya.com/blog/2020/04/confusion-matrix-machine-learning/"
      ]
    },
    {
      "cell_type": "markdown",
      "metadata": {
        "id": "EDXIbgqqI_bB"
      },
      "source": [
        "### Here’s what we’ll cover:\n",
        "- What is a Confusion Matrix?\n",
        "\n",
        "     - True Positive\n",
        "\n",
        "     - True Negative\n",
        "\n",
        "     - False Positive – Type 1 Error\n",
        "\n",
        "     - False Negative – Type 2 Error\n",
        "\n",
        "- Why need a Confusion matrix?\n",
        "\n",
        "- Precision vs Recall\n",
        "\n",
        "- F1-score\n",
        "\n",
        "- Confusion matrix in Scikit-learn\n",
        "\n",
        "- Confusion matrix for multi-class Classification"
      ]
    },
    {
      "cell_type": "markdown",
      "metadata": {
        "id": "Ft7gnxWhJgUR"
      },
      "source": [
        "### What is a Confusion Matrix?\n",
        "- The million dollar question – what, after all, is a confusion matrix?\n",
        "\n",
        "- A Confusion matrix is an N x N matrix used for evaluating the performance of a classification model, where N is the number of target classes. The matrix compares the actual target values with those predicted by the machine learning model. This gives us a holistic view of how well our classification model is performing and what kinds of errors it is making.\n",
        "\n",
        "- For a binary classification problem, we would have a 2 x 2 matrix as shown below with 4 values:"
      ]
    },
    {
      "cell_type": "markdown",
      "metadata": {
        "id": "vwEUoqP1JtBx"
      },
      "source": [
        "image"
      ]
    },
    {
      "cell_type": "markdown",
      "metadata": {
        "id": "trjjTuLeJuyh"
      },
      "source": [
        "Let’s decipher the matrix:\n",
        "\n",
        "  - The target variable has two values: **Positive** or **Negative**\n",
        "\n",
        "  - The **columns** represent the **actual values** of the target variable\n",
        "\n",
        "  - The **rows** represent the **predicted values** of the target variable\n",
        "\n",
        "But wait – what’s TP, FP, FN and TN here? That’s the crucial part of a confusion matrix. Let’s understand each term below."
      ]
    },
    {
      "cell_type": "markdown",
      "metadata": {
        "id": "cCHn0GTPKppS"
      },
      "source": [
        "### Understanding True Positive, True Negative, False Positive and False Negative in a Confusion Matrix\n",
        "**True Positive (TP)** \n",
        "\n",
        "  - The predicted value matches the actual value\n",
        "  - The actual value was positive and the model predicted a positive value\n",
        "\n",
        "**True Negative (TN)** \n",
        "\n",
        "  - The predicted value matches the actual value\n",
        "  - The actual value was negative and the model predicted a negative value\n",
        "\n",
        "**False Positive (FP) – Type 1 error**\n",
        "\n",
        "  - The predicted value was falsely predicted\n",
        "  - The actual value was negative but the model predicted a positive value\n",
        "  - Also known as the Type 1 error\n",
        "\n",
        "**False Negative (FN) – Type 2 error**\n",
        "\n",
        "  - The predicted value was falsely predicted\n",
        "  - The actual value was positive but the model predicted a negative value\n",
        "  - Also known as the Type 2 error\n",
        "\n",
        "Let me give you an example to better understand this. Suppose we had a classification dataset with 1000 data points. We fit a classifier on it and get the below confusion matrix:"
      ]
    },
    {
      "cell_type": "markdown",
      "metadata": {
        "id": "iJBYAaWyLbHz"
      },
      "source": [
        "image"
      ]
    },
    {
      "cell_type": "markdown",
      "metadata": {
        "id": "ZcDz1oaeLcyx"
      },
      "source": [
        "The different values of the Confusion matrix would be as follows:\n",
        "\n",
        "  - True Positive (TP) = 560; meaning 560 positive class data points were correctly classified by the model\n",
        "\n",
        "  - True Negative (TN) = 330; meaning 330 negative class data points were correctly classified by the model\n",
        "\n",
        "  - False Positive (FP) = 60; meaning 60 negative class data points were incorrectly classified as belonging to the positive class by the model\n",
        "\n",
        "  - False Negative (FN) = 50; meaning 50 positive class data points were incorrectly classified as belonging to the negative class by the model\n",
        "  \n",
        "\n",
        "This turned out to be a pretty decent classifier for our dataset considering the relatively larger number of true positive and true negative values.\n",
        "\n",
        "Remember the Type 1 and Type 2 errors. Interviewers love to ask the difference between these two!"
      ]
    },
    {
      "cell_type": "markdown",
      "metadata": {
        "id": "II0-yZORL3tJ"
      },
      "source": [
        "### Why Do We Need a Confusion Matrix?\n",
        "Before we answer this question, let’s think about a hypothetical classification problem.\n",
        "\n",
        "Let’s say you want to predict how many people are infected with a contagious virus in times before they show the symptoms, and isolate them from the healthy population (ringing any bells, yet? 😷). The two values for our target variable would be: Sick and Not Sick.\n",
        "\n",
        "Now, you must be wondering – why do we need a confusion matrix when we have our all-weather friend – Accuracy? Well, let’s see where accuracy falters."
      ]
    },
    {
      "cell_type": "markdown",
      "metadata": {
        "id": "IRle6BSiMYfp"
      },
      "source": [
        "image"
      ]
    },
    {
      "cell_type": "markdown",
      "metadata": {
        "id": "KZvOVpZ8MZ75"
      },
      "source": [
        "96%! Not bad!\n",
        "\n",
        "But it is giving the wrong idea about the result. Think about it.\n",
        "\n",
        "Our model is saying “I can predict sick people 96% of the time”. However, it is doing the opposite. It is predicting the people who will not get sick with 96% accuracy while the sick are spreading the virus!\n",
        "\n",
        "Do you think this is a correct metric for our model given the seriousness of the issue? Shouldn’t we be measuring how many positive cases we can predict correctly to arrest the spread of the contagious virus? Or maybe, out of the correctly predicted cases, how many are positive cases to check the reliability of our model?\n",
        "\n",
        "This is where we come across the dual concept of Precision and Recall."
      ]
    },
    {
      "cell_type": "markdown",
      "metadata": {
        "id": "8_AdN8u2NIiJ"
      },
      "source": [
        "### Precision vs. Recall"
      ]
    },
    {
      "cell_type": "markdown",
      "metadata": {
        "id": "rNiR3b1mNEIq"
      },
      "source": [
        "### F1-Score"
      ]
    },
    {
      "cell_type": "markdown",
      "metadata": {
        "id": "HMRw49SuNPUp"
      },
      "source": [
        "### Confusion Matrix for Multi-Class Classification"
      ]
    },
    {
      "cell_type": "markdown",
      "metadata": {
        "id": "kZ_4-j4NNVM6"
      },
      "source": [
        "- How would a confusion matrix work for a multi-class classification problem? Well, don’t scratch your head! We will have a look at that here.\n",
        "\n",
        "- Let’s draw a confusion matrix for a multiclass problem where we have to predict whether a person loves Facebook, Instagram or Snapchat. The confusion matrix would be a 3 x 3 matrix like this:\n",
        "\n"
      ]
    },
    {
      "cell_type": "code",
      "metadata": {
        "id": "KfUAMETyFnFA"
      },
      "source": [
        ""
      ],
      "execution_count": null,
      "outputs": []
    },
    {
      "cell_type": "code",
      "metadata": {
        "id": "V8hAZjp8FnKH"
      },
      "source": [
        ""
      ],
      "execution_count": null,
      "outputs": []
    }
  ]
}