{
  "nbformat": 4,
  "nbformat_minor": 0,
  "metadata": {
    "colab": {
      "name": "1_Feature-Correlation-Method.ipynb",
      "provenance": [],
      "collapsed_sections": [],
      "authorship_tag": "ABX9TyN8cylulTX4vZxzh76oYl53",
      "include_colab_link": true
    },
    "kernelspec": {
      "name": "python3",
      "display_name": "Python 3"
    },
    "language_info": {
      "name": "python"
    }
  },
  "cells": [
    {
      "cell_type": "markdown",
      "metadata": {
        "id": "view-in-github",
        "colab_type": "text"
      },
      "source": [
        "<a href=\"https://colab.research.google.com/github/sureshmecad/Google-Colab/blob/master/1_Feature_Correlation_Method.ipynb\" target=\"_parent\"><img src=\"https://colab.research.google.com/assets/colab-badge.svg\" alt=\"Open In Colab\"/></a>"
      ]
    },
    {
      "cell_type": "code",
      "metadata": {
        "id": "8QcjwURPMOzA"
      },
      "source": [
        "# Read Data\n",
        "import numpy as np                     # Linear Algebra (calculate the mean and standard deviation)\n",
        "import pandas as pd                    # manipulate data, data processing, load csv file I/O (e.g. pd.read_csv)\n",
        "\n",
        "# Visualization\n",
        "import seaborn as sns                  # Visualization using seaborn\n",
        "import matplotlib.pyplot as plt        # Visualization using matplotlib\n",
        "%matplotlib inline\n",
        "\n",
        "# style\n",
        "plt.style.use(\"fivethirtyeight\")       # Set Graphs Background style using matplotlib\n",
        "sns.set_style(\"darkgrid\")              # Set Graphs Background style using seaborn\n",
        "\n",
        "import warnings                        # Ignore Warnings\n",
        "warnings.filterwarnings(\"ignore\")"
      ],
      "execution_count": 1,
      "outputs": []
    },
    {
      "cell_type": "code",
      "metadata": {
        "colab": {
          "base_uri": "https://localhost:8080/"
        },
        "id": "UVQAV3NrMY6z",
        "outputId": "4f95c19c-0fec-4469-92f8-e60b81caf4b9"
      },
      "source": [
        "from google.colab import drive\n",
        "drive.mount('/content/drive')"
      ],
      "execution_count": 2,
      "outputs": [
        {
          "output_type": "stream",
          "text": [
            "Mounted at /content/drive\n"
          ],
          "name": "stdout"
        }
      ]
    },
    {
      "cell_type": "code",
      "metadata": {
        "id": "atBL_kZTMY3J"
      },
      "source": [
        "Android = pd.read_csv(\"/content/drive/MyDrive/TMLC/Android.zip\")"
      ],
      "execution_count": 3,
      "outputs": []
    },
    {
      "cell_type": "code",
      "metadata": {
        "colab": {
          "base_uri": "https://localhost:8080/",
          "height": 522
        },
        "id": "zMAiXXeqMY2B",
        "outputId": "d8fc295e-7004-4194-ee23-fe8df1e51444"
      },
      "source": [
        "Android.head(3)"
      ],
      "execution_count": 4,
      "outputs": [
        {
          "output_type": "execute_result",
          "data": {
            "text/html": [
              "<div>\n",
              "<style scoped>\n",
              "    .dataframe tbody tr th:only-of-type {\n",
              "        vertical-align: middle;\n",
              "    }\n",
              "\n",
              "    .dataframe tbody tr th {\n",
              "        vertical-align: top;\n",
              "    }\n",
              "\n",
              "    .dataframe thead th {\n",
              "        text-align: right;\n",
              "    }\n",
              "</style>\n",
              "<table border=\"1\" class=\"dataframe\">\n",
              "  <thead>\n",
              "    <tr style=\"text-align: right;\">\n",
              "      <th></th>\n",
              "      <th>App</th>\n",
              "      <th>Package</th>\n",
              "      <th>Category</th>\n",
              "      <th>Description</th>\n",
              "      <th>Rating</th>\n",
              "      <th>Number of ratings</th>\n",
              "      <th>Price</th>\n",
              "      <th>Related apps</th>\n",
              "      <th>Dangerous permissions count</th>\n",
              "      <th>Safe permissions count</th>\n",
              "      <th>Default : Access DRM content. (S)</th>\n",
              "      <th>Default : Access Email provider data (S)</th>\n",
              "      <th>Default : Access all system downloads (S)</th>\n",
              "      <th>Default : Access download manager. (S)</th>\n",
              "      <th>Default : Advanced download manager functions. (S)</th>\n",
              "      <th>Default : Audio File Access (S)</th>\n",
              "      <th>Default : Install DRM content. (S)</th>\n",
              "      <th>Default : Modify Google service configuration (S)</th>\n",
              "      <th>Default : Modify Google settings (S)</th>\n",
              "      <th>Default : Move application resources (S)</th>\n",
              "      <th>Default : Read Google settings (S)</th>\n",
              "      <th>Default : Send download notifications. (S)</th>\n",
              "      <th>Default : Voice Search Shortcuts (S)</th>\n",
              "      <th>Default : access SurfaceFlinger (S)</th>\n",
              "      <th>Default : access checkin properties (S)</th>\n",
              "      <th>Default : access the cache filesystem (S)</th>\n",
              "      <th>Default : access to passwords for Google accounts (S)</th>\n",
              "      <th>Default : act as an account authenticator (S)</th>\n",
              "      <th>Default : bind to a wallpaper (S)</th>\n",
              "      <th>Default : bind to an input method (S)</th>\n",
              "      <th>Default : change screen orientation (S)</th>\n",
              "      <th>Default : coarse (network-based) location (S)</th>\n",
              "      <th>Default : control location update notifications (S)</th>\n",
              "      <th>Default : control system backup and restore (S)</th>\n",
              "      <th>Default : delete applications (S)</th>\n",
              "      <th>Default : delete other applications' caches (S)</th>\n",
              "      <th>Default : delete other applications' data (S)</th>\n",
              "      <th>Default : directly call any phone numbers (S)</th>\n",
              "      <th>Default : directly install applications (S)</th>\n",
              "      <th>Default : disable or modify status bar (S)</th>\n",
              "      <th>...</th>\n",
              "      <th>Your accounts : access other Google services (D)</th>\n",
              "      <th>Your accounts : act as an account authenticator (D)</th>\n",
              "      <th>Your accounts : act as the AccountManagerService (S)</th>\n",
              "      <th>Your accounts : contacts data in Google accounts (D)</th>\n",
              "      <th>Your accounts : discover known accounts (S)</th>\n",
              "      <th>Your accounts : manage the accounts list (D)</th>\n",
              "      <th>Your accounts : read Google service configuration (S)</th>\n",
              "      <th>Your accounts : use the authentication credentials of an account (D)</th>\n",
              "      <th>Your accounts : view configured accounts (S)</th>\n",
              "      <th>Your location : access extra location provider commands (S)</th>\n",
              "      <th>Your location : coarse (network-based) location (D)</th>\n",
              "      <th>Your location : fine (GPS) location (D)</th>\n",
              "      <th>Your location : mock location sources for testing (D)</th>\n",
              "      <th>Your messages : Read Email attachments (D)</th>\n",
              "      <th>Your messages : Send Gmail (S)</th>\n",
              "      <th>Your messages : edit SMS or MMS (D)</th>\n",
              "      <th>Your messages : modify Gmail (D)</th>\n",
              "      <th>Your messages : read Gmail (D)</th>\n",
              "      <th>Your messages : read Gmail attachment previews (D)</th>\n",
              "      <th>Your messages : read SMS or MMS (D)</th>\n",
              "      <th>Your messages : read instant messages (D)</th>\n",
              "      <th>Your messages : receive MMS (D)</th>\n",
              "      <th>Your messages : receive SMS (D)</th>\n",
              "      <th>Your messages : receive WAP (D)</th>\n",
              "      <th>Your messages : send SMS-received broadcast (S)</th>\n",
              "      <th>Your messages : send WAP-PUSH-received broadcast (S)</th>\n",
              "      <th>Your messages : write instant messages (D)</th>\n",
              "      <th>Your personal information : add or modify calendar events and send email to guests (D)</th>\n",
              "      <th>Your personal information : choose widgets (S)</th>\n",
              "      <th>Your personal information : read Browser's history and bookmarks (D)</th>\n",
              "      <th>Your personal information : read calendar events (D)</th>\n",
              "      <th>Your personal information : read contact data (D)</th>\n",
              "      <th>Your personal information : read sensitive log data (D)</th>\n",
              "      <th>Your personal information : read user defined dictionary (D)</th>\n",
              "      <th>Your personal information : retrieve system internal state (S)</th>\n",
              "      <th>Your personal information : set alarm in alarm clock (S)</th>\n",
              "      <th>Your personal information : write Browser's history and bookmarks (D)</th>\n",
              "      <th>Your personal information : write contact data (D)</th>\n",
              "      <th>Your personal information : write to user defined dictionary (S)</th>\n",
              "      <th>Class</th>\n",
              "    </tr>\n",
              "  </thead>\n",
              "  <tbody>\n",
              "    <tr>\n",
              "      <th>0</th>\n",
              "      <td>Canada Post Corporation</td>\n",
              "      <td>com.canadapost.android</td>\n",
              "      <td>Business</td>\n",
              "      <td>Canada Post Mobile App gives you access to som...</td>\n",
              "      <td>3.1</td>\n",
              "      <td>77</td>\n",
              "      <td>0.0</td>\n",
              "      <td>{com.adaffix.pub.ca.android, com.kevinquan.gas...</td>\n",
              "      <td>7.0</td>\n",
              "      <td>1</td>\n",
              "      <td>0</td>\n",
              "      <td>0</td>\n",
              "      <td>0</td>\n",
              "      <td>0</td>\n",
              "      <td>0</td>\n",
              "      <td>0</td>\n",
              "      <td>0</td>\n",
              "      <td>0</td>\n",
              "      <td>0</td>\n",
              "      <td>0</td>\n",
              "      <td>0</td>\n",
              "      <td>0</td>\n",
              "      <td>0</td>\n",
              "      <td>0</td>\n",
              "      <td>0</td>\n",
              "      <td>0</td>\n",
              "      <td>0</td>\n",
              "      <td>0</td>\n",
              "      <td>0</td>\n",
              "      <td>0</td>\n",
              "      <td>0</td>\n",
              "      <td>0</td>\n",
              "      <td>0</td>\n",
              "      <td>0</td>\n",
              "      <td>0</td>\n",
              "      <td>0</td>\n",
              "      <td>0</td>\n",
              "      <td>0</td>\n",
              "      <td>0</td>\n",
              "      <td>0</td>\n",
              "      <td>...</td>\n",
              "      <td>0</td>\n",
              "      <td>0</td>\n",
              "      <td>0</td>\n",
              "      <td>0</td>\n",
              "      <td>0</td>\n",
              "      <td>0</td>\n",
              "      <td>0</td>\n",
              "      <td>0</td>\n",
              "      <td>0</td>\n",
              "      <td>0</td>\n",
              "      <td>0</td>\n",
              "      <td>1</td>\n",
              "      <td>0</td>\n",
              "      <td>0</td>\n",
              "      <td>0</td>\n",
              "      <td>0</td>\n",
              "      <td>0</td>\n",
              "      <td>0</td>\n",
              "      <td>0</td>\n",
              "      <td>0</td>\n",
              "      <td>0</td>\n",
              "      <td>0</td>\n",
              "      <td>0</td>\n",
              "      <td>0</td>\n",
              "      <td>0</td>\n",
              "      <td>0</td>\n",
              "      <td>0</td>\n",
              "      <td>0</td>\n",
              "      <td>0</td>\n",
              "      <td>0</td>\n",
              "      <td>0</td>\n",
              "      <td>1</td>\n",
              "      <td>0</td>\n",
              "      <td>0</td>\n",
              "      <td>0</td>\n",
              "      <td>0</td>\n",
              "      <td>0</td>\n",
              "      <td>1</td>\n",
              "      <td>0</td>\n",
              "      <td>0</td>\n",
              "    </tr>\n",
              "    <tr>\n",
              "      <th>1</th>\n",
              "      <td>Word Farm</td>\n",
              "      <td>com.realcasualgames.words</td>\n",
              "      <td>Brain &amp; Puzzle</td>\n",
              "      <td>Speed and strategy combine in this exciting wo...</td>\n",
              "      <td>4.3</td>\n",
              "      <td>199</td>\n",
              "      <td>0.0</td>\n",
              "      <td>{air.com.zubawing.FastWordLite, com.joybits.do...</td>\n",
              "      <td>3.0</td>\n",
              "      <td>2</td>\n",
              "      <td>0</td>\n",
              "      <td>0</td>\n",
              "      <td>0</td>\n",
              "      <td>0</td>\n",
              "      <td>0</td>\n",
              "      <td>0</td>\n",
              "      <td>0</td>\n",
              "      <td>0</td>\n",
              "      <td>0</td>\n",
              "      <td>0</td>\n",
              "      <td>0</td>\n",
              "      <td>0</td>\n",
              "      <td>0</td>\n",
              "      <td>0</td>\n",
              "      <td>0</td>\n",
              "      <td>0</td>\n",
              "      <td>0</td>\n",
              "      <td>0</td>\n",
              "      <td>0</td>\n",
              "      <td>0</td>\n",
              "      <td>0</td>\n",
              "      <td>0</td>\n",
              "      <td>0</td>\n",
              "      <td>0</td>\n",
              "      <td>0</td>\n",
              "      <td>0</td>\n",
              "      <td>0</td>\n",
              "      <td>0</td>\n",
              "      <td>0</td>\n",
              "      <td>0</td>\n",
              "      <td>...</td>\n",
              "      <td>0</td>\n",
              "      <td>0</td>\n",
              "      <td>0</td>\n",
              "      <td>0</td>\n",
              "      <td>1</td>\n",
              "      <td>0</td>\n",
              "      <td>0</td>\n",
              "      <td>0</td>\n",
              "      <td>0</td>\n",
              "      <td>0</td>\n",
              "      <td>0</td>\n",
              "      <td>0</td>\n",
              "      <td>0</td>\n",
              "      <td>0</td>\n",
              "      <td>0</td>\n",
              "      <td>0</td>\n",
              "      <td>0</td>\n",
              "      <td>0</td>\n",
              "      <td>0</td>\n",
              "      <td>0</td>\n",
              "      <td>0</td>\n",
              "      <td>0</td>\n",
              "      <td>0</td>\n",
              "      <td>0</td>\n",
              "      <td>0</td>\n",
              "      <td>0</td>\n",
              "      <td>0</td>\n",
              "      <td>0</td>\n",
              "      <td>0</td>\n",
              "      <td>0</td>\n",
              "      <td>0</td>\n",
              "      <td>0</td>\n",
              "      <td>0</td>\n",
              "      <td>0</td>\n",
              "      <td>0</td>\n",
              "      <td>0</td>\n",
              "      <td>0</td>\n",
              "      <td>0</td>\n",
              "      <td>0</td>\n",
              "      <td>0</td>\n",
              "    </tr>\n",
              "    <tr>\n",
              "      <th>2</th>\n",
              "      <td>Fortunes of War FREE</td>\n",
              "      <td>fortunesofwar.free</td>\n",
              "      <td>Cards &amp; Casino</td>\n",
              "      <td>Fortunes of War is a fast-paced, easy to learn...</td>\n",
              "      <td>4.1</td>\n",
              "      <td>243</td>\n",
              "      <td>0.0</td>\n",
              "      <td>{com.kevinquan.condado, hu.monsta.pazaak, net....</td>\n",
              "      <td>1.0</td>\n",
              "      <td>1</td>\n",
              "      <td>0</td>\n",
              "      <td>0</td>\n",
              "      <td>0</td>\n",
              "      <td>0</td>\n",
              "      <td>0</td>\n",
              "      <td>0</td>\n",
              "      <td>0</td>\n",
              "      <td>0</td>\n",
              "      <td>0</td>\n",
              "      <td>0</td>\n",
              "      <td>0</td>\n",
              "      <td>0</td>\n",
              "      <td>0</td>\n",
              "      <td>0</td>\n",
              "      <td>0</td>\n",
              "      <td>0</td>\n",
              "      <td>0</td>\n",
              "      <td>0</td>\n",
              "      <td>0</td>\n",
              "      <td>0</td>\n",
              "      <td>0</td>\n",
              "      <td>0</td>\n",
              "      <td>0</td>\n",
              "      <td>0</td>\n",
              "      <td>0</td>\n",
              "      <td>0</td>\n",
              "      <td>0</td>\n",
              "      <td>0</td>\n",
              "      <td>0</td>\n",
              "      <td>0</td>\n",
              "      <td>...</td>\n",
              "      <td>0</td>\n",
              "      <td>0</td>\n",
              "      <td>0</td>\n",
              "      <td>0</td>\n",
              "      <td>0</td>\n",
              "      <td>0</td>\n",
              "      <td>0</td>\n",
              "      <td>0</td>\n",
              "      <td>0</td>\n",
              "      <td>0</td>\n",
              "      <td>0</td>\n",
              "      <td>0</td>\n",
              "      <td>0</td>\n",
              "      <td>0</td>\n",
              "      <td>0</td>\n",
              "      <td>0</td>\n",
              "      <td>0</td>\n",
              "      <td>0</td>\n",
              "      <td>0</td>\n",
              "      <td>0</td>\n",
              "      <td>0</td>\n",
              "      <td>0</td>\n",
              "      <td>0</td>\n",
              "      <td>0</td>\n",
              "      <td>0</td>\n",
              "      <td>0</td>\n",
              "      <td>0</td>\n",
              "      <td>0</td>\n",
              "      <td>0</td>\n",
              "      <td>0</td>\n",
              "      <td>0</td>\n",
              "      <td>0</td>\n",
              "      <td>0</td>\n",
              "      <td>0</td>\n",
              "      <td>0</td>\n",
              "      <td>0</td>\n",
              "      <td>0</td>\n",
              "      <td>0</td>\n",
              "      <td>0</td>\n",
              "      <td>0</td>\n",
              "    </tr>\n",
              "  </tbody>\n",
              "</table>\n",
              "<p>3 rows × 184 columns</p>\n",
              "</div>"
            ],
            "text/plain": [
              "                       App  ... Class\n",
              "0  Canada Post Corporation  ...     0\n",
              "1                Word Farm  ...     0\n",
              "2     Fortunes of War FREE  ...     0\n",
              "\n",
              "[3 rows x 184 columns]"
            ]
          },
          "metadata": {
            "tags": []
          },
          "execution_count": 4
        }
      ]
    },
    {
      "cell_type": "code",
      "metadata": {
        "id": "gYctLsECMYzh"
      },
      "source": [
        "Android['Related apps'] = Android['Related apps'].fillna(Android['Related apps'].mode()[0])\n",
        "\n",
        "Android['Dangerous permissions count'] = Android['Dangerous permissions count'].fillna(Android['Dangerous permissions count'].median())\n",
        "\n",
        "Android['Description'] = Android['Description'].fillna(Android['Description'].mode()[0])\n",
        "\n",
        "Android['App'] = Android['App'].fillna(Android['App'].mode()[0])"
      ],
      "execution_count": 5,
      "outputs": []
    },
    {
      "cell_type": "code",
      "metadata": {
        "id": "rhkCebZWMqlk"
      },
      "source": [
        "List = ['App', 'Package', 'Category', 'Description', 'Related apps', 'Class']"
      ],
      "execution_count": 6,
      "outputs": []
    },
    {
      "cell_type": "code",
      "metadata": {
        "id": "_YaqIxHRMqh7"
      },
      "source": [
        "X = Android.drop(columns=List)\n",
        "y = Android['Class']"
      ],
      "execution_count": 7,
      "outputs": []
    },
    {
      "cell_type": "code",
      "metadata": {
        "colab": {
          "base_uri": "https://localhost:8080/"
        },
        "id": "Q6k4cZBHMqeb",
        "outputId": "d824bff6-2d94-4467-a085-35c2a48c254b"
      },
      "source": [
        "# FEATURE IMPORTANCE CORRELATION\n",
        "# determine 20 most correlated features\n",
        "\n",
        "df_corr_Android = Android.corr()['Class'].sort_values(ascending=False).head(20)\n",
        "top_corr_features = df_corr_Android.index\n",
        "top_corr_features"
      ],
      "execution_count": 12,
      "outputs": [
        {
          "output_type": "execute_result",
          "data": {
            "text/plain": [
              "Index(['Class', 'Price', 'Your location : fine (GPS) location (D)',\n",
              "       'Your location : mock location sources for testing (D)',\n",
              "       'Services that cost you money : directly call phone numbers (D)',\n",
              "       'Your location : access extra location provider commands (S)',\n",
              "       'System tools : send sticky broadcast (S)',\n",
              "       'Hardware controls : take pictures and videos (D)',\n",
              "       'Your personal information : read calendar events (D)',\n",
              "       'Your personal information : add or modify calendar events and send email to guests (D)',\n",
              "       'Default : delete applications (S)',\n",
              "       'Default : power device on or off (S)',\n",
              "       'Your accounts : access other Google services (D)',\n",
              "       'System tools : change your UI settings (D)',\n",
              "       'System tools : change network connectivity (D)',\n",
              "       'System tools : change Wi-Fi state (D)',\n",
              "       'Your location : coarse (network-based) location (D)',\n",
              "       'Default : directly install applications (S)',\n",
              "       'Your messages : receive WAP (D)',\n",
              "       'Your personal information : read user defined dictionary (D)'],\n",
              "      dtype='object')"
            ]
          },
          "metadata": {
            "tags": []
          },
          "execution_count": 12
        }
      ]
    },
    {
      "cell_type": "code",
      "metadata": {
        "colab": {
          "base_uri": "https://localhost:8080/",
          "height": 696
        },
        "id": "1TInqXIxM1zN",
        "outputId": "697fc88f-ad3f-4b49-f6b8-831b8bf5aa2e"
      },
      "source": [
        "# plot top 20 most correlated features to our target (Class)\n",
        "plt.figure(figsize=(11,12))\n",
        "df_corr_Android.plot(kind='barh')\n",
        "plt.show()"
      ],
      "execution_count": 9,
      "outputs": [
        {
          "output_type": "display_data",
          "data": {
            "image/png": "[encoded data removed]",
            "text/plain": [
              "<Figure size 792x864 with 1 Axes>"
            ]
          },
          "metadata": {
            "tags": [],
            "needs_background": "light"
          }
        }
      ]
    },
    {
      "cell_type": "code",
      "metadata": {
        "colab": {
          "base_uri": "https://localhost:8080/"
        },
        "id": "e4AiWHtKM1v-",
        "outputId": "dcf898ed-5d85-43d9-865d-e2adec1a35e7"
      },
      "source": [
        "print(df_corr_Android)"
      ],
      "execution_count": 10,
      "outputs": [
        {
          "output_type": "stream",
          "text": [
            "Class                                                                                     1.000000\n",
            "Price                                                                                     0.137288\n",
            "Your location : fine (GPS) location (D)                                                   0.071757\n",
            "Your location : mock location sources for testing (D)                                     0.065737\n",
            "Services that cost you money : directly call phone numbers (D)                            0.054368\n",
            "Your location : access extra location provider commands (S)                               0.046273\n",
            "System tools : send sticky broadcast (S)                                                  0.030719\n",
            "Hardware controls : take pictures and videos (D)                                          0.029734\n",
            "Your personal information : read calendar events (D)                                      0.028033\n",
            "Your personal information : add or modify calendar events and send email to guests (D)    0.025888\n",
            "Default : delete applications (S)                                                         0.023824\n",
            "Default : power device on or off (S)                                                      0.021686\n",
            "Your accounts : access other Google services (D)                                          0.019708\n",
            "System tools : change your UI settings (D)                                                0.018677\n",
            "System tools : change network connectivity (D)                                            0.017983\n",
            "System tools : change Wi-Fi state (D)                                                     0.017269\n",
            "Your location : coarse (network-based) location (D)                                       0.016584\n",
            "Default : directly install applications (S)                                               0.012738\n",
            "Your messages : receive WAP (D)                                                           0.012558\n",
            "Your personal information : read user defined dictionary (D)                              0.010333\n",
            "Name: Class, dtype: float64\n"
          ],
          "name": "stdout"
        }
      ]
    },
    {
      "cell_type": "code",
      "metadata": {
        "id": "UzTRannsM1ss"
      },
      "source": [
        "# export selected features to .csv\n",
        "df_corr_Android.to_csv('feature_selection_CORRELATION.csv')"
      ],
      "execution_count": 11,
      "outputs": []
    }
  ]
}