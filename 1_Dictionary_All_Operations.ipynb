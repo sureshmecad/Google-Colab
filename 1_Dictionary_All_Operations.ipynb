{
  "nbformat": 4,
  "nbformat_minor": 0,
  "metadata": {
    "colab": {
      "name": "1_Dictionary_All_Operations.ipynb",
      "provenance": [],
      "collapsed_sections": [],
      "include_colab_link": true
    },
    "kernelspec": {
      "name": "python3",
      "display_name": "Python 3"
    }
  },
  "cells": [
    {
      "cell_type": "markdown",
      "metadata": {
        "id": "view-in-github",
        "colab_type": "text"
      },
      "source": [
        "<a href=\"https://colab.research.google.com/github/sureshmecad/Google-Colab/blob/master/1_Dictionary_All_Operations.ipynb\" target=\"_parent\"><img src=\"https://colab.research.google.com/assets/colab-badge.svg\" alt=\"Open In Colab\"/></a>"
      ]
    },
    {
      "cell_type": "markdown",
      "metadata": {
        "id": "9j06PZKNrY_n"
      },
      "source": [
        "### **Dictionary**"
      ]
    },
    {
      "cell_type": "markdown",
      "metadata": {
        "id": "IlM4TmstnoHq"
      },
      "source": [
        "- Dictionary in Python is an **ordered** collection of data values, used to store data values like a map.\n",
        "\n",
        "- **curly {} braces**, separated by **‘comma’**\n",
        "\n",
        "- **key:value**: **Values** in a dictionary can be of **any datatype** and can be **duplicated**, whereas **keys can’t be repeated** and must be **immutable.** "
      ]
    },
    {
      "cell_type": "code",
      "metadata": {
        "colab": {
          "base_uri": "https://localhost:8080/"
        },
        "id": "olsw5e45pPMz",
        "outputId": "eddaac21-712d-46d7-b814-5ef4553567ab"
      },
      "source": [
        "# Creating a Dictionary with Integer Keys\n",
        "\n",
        "Dict = {1: 'Geeks', 2: 'For', 3: 'Geeks'}\n",
        "print(\"\\nDictionary with the use of Integer Keys: \")\n",
        "print(Dict)\n",
        " \n",
        "# Creating a Dictionary with Mixed keys\n",
        "\n",
        "Dict = {'Name': 'Geeks', 1: [1, 2, 3, 4]}\n",
        "print(\"\\nDictionary with the use of Mixed Keys: \")\n",
        "print(Dict)"
      ],
      "execution_count": null,
      "outputs": [
        {
          "output_type": "stream",
          "text": [
            "\n",
            "Dictionary with the use of Integer Keys: \n",
            "{1: 'Geeks', 2: 'For', 3: 'Geeks'}\n",
            "\n",
            "Dictionary with the use of Mixed Keys: \n",
            "{'Name': 'Geeks', 1: [1, 2, 3, 4]}\n"
          ],
          "name": "stdout"
        }
      ]
    },
    {
      "cell_type": "markdown",
      "metadata": {
        "id": "bu2y09R4paf0"
      },
      "source": [
        "#### **1) Dictionary by built-in**\n",
        "\n",
        "- **Dictionary** can also be created by the **built-in function dict()**. An empty dictionary can be created by just placing to curly braces{}"
      ]
    },
    {
      "cell_type": "code",
      "metadata": {
        "colab": {
          "base_uri": "https://localhost:8080/"
        },
        "id": "SV2OUapupqIx",
        "outputId": "a58d9e21-3dc7-4896-a872-e2ba4e3cbfb2"
      },
      "source": [
        "# Creating an empty Dictionary\n",
        "Dict = {}\n",
        "print(\"Empty Dictionary: \")\n",
        "print(Dict)\n",
        " \n",
        "# Creating a Dictionary with dict() method\n",
        "Dict = dict({1: 'Geeks', 2: 'For', 3:'Geeks'})\n",
        "print(\"\\nDictionary with the use of dict(): \")\n",
        "print(Dict)\n",
        " \n",
        "# Creating a Dictionary with each item as a Pair\n",
        "Dict = dict([(1, 'Geeks'), (2, 'For')])\n",
        "print(\"\\nDictionary with each item as a pair: \")\n",
        "print(Dict)"
      ],
      "execution_count": null,
      "outputs": [
        {
          "output_type": "stream",
          "text": [
            "Empty Dictionary: \n",
            "{}\n",
            "\n",
            "Dictionary with the use of dict(): \n",
            "{1: 'Geeks', 2: 'For', 3: 'Geeks'}\n",
            "\n",
            "Dictionary with each item as a pair: \n",
            "{1: 'Geeks', 2: 'For'}\n"
          ],
          "name": "stdout"
        }
      ]
    },
    {
      "cell_type": "code",
      "metadata": {
        "id": "X84Da6FepfFF"
      },
      "source": [
        ""
      ],
      "execution_count": null,
      "outputs": []
    },
    {
      "cell_type": "markdown",
      "metadata": {
        "id": "lTgtfgKXnjpr"
      },
      "source": [
        "#### pop()\n",
        "\n",
        "#### popitem()\n",
        "\n",
        "#### del\n",
        "\n",
        "#### clear()\n",
        "\n",
        "#### Dictionary to Set Conversion"
      ]
    },
    {
      "cell_type": "markdown",
      "metadata": {
        "id": "i2b9SPWqxPzF"
      },
      "source": [
        "#### **6.1) pop()**\n",
        "- **Pop()** method is used to return and **delete** the value of the key specified"
      ]
    },
    {
      "cell_type": "code",
      "metadata": {
        "colab": {
          "base_uri": "https://localhost:8080/"
        },
        "id": "4KyEHLssxVPN",
        "outputId": "aa2965a9-893f-4401-bcab-3fbd0a0fa337"
      },
      "source": [
        "# Creating a Dictionary\n",
        "Dict = {1: 'Geeks', 'name': 'For', 3: 'Geeks'}\n",
        " \n",
        "# Deleting a key using pop() method\n",
        "pop_ele = Dict.pop(1)\n",
        "print('\\nDictionary after deletion: ' + str(Dict))\n",
        "print('Value associated to poped key is: ' + str(pop_ele))"
      ],
      "execution_count": null,
      "outputs": [
        {
          "output_type": "stream",
          "text": [
            "\n",
            "Dictionary after deletion: {'name': 'For', 3: 'Geeks'}\n",
            "Value associated to poped key is: Geeks\n"
          ],
          "name": "stdout"
        }
      ]
    },
    {
      "cell_type": "markdown",
      "metadata": {
        "id": "YqhDv4Ngx3TN"
      },
      "source": [
        "#### **6.2) popitem()**\n",
        "- The **popitem()** returns and **removes** an **arbitrary** element (key, value) pair from the dictionary."
      ]
    },
    {
      "cell_type": "code",
      "metadata": {
        "colab": {
          "base_uri": "https://localhost:8080/"
        },
        "id": "ls5hmPezyJQM",
        "outputId": "757d52d8-e0d4-4279-f192-e692d2be9ead"
      },
      "source": [
        "# Creating Dictionary\n",
        "Dict = {1: 'Geeks', 'name': 'For', 3: 'Geeks'}\n",
        " \n",
        "# Deleting an arbitrary key using popitem() function\n",
        "pop_ele = Dict.popitem()\n",
        "print(\"\\nDictionary after deletion: \" + str(Dict))\n",
        "print(\"The arbitrary pair returned is: \" + str(pop_ele))"
      ],
      "execution_count": null,
      "outputs": [
        {
          "output_type": "stream",
          "text": [
            "\n",
            "Dictionary after deletion: {1: 'Geeks', 'name': 'For'}\n",
            "The arbitrary pair returned is: (3, 'Geeks')\n"
          ],
          "name": "stdout"
        }
      ]
    },
    {
      "cell_type": "markdown",
      "metadata": {
        "id": "e-TiAvsy7rHj"
      },
      "source": [
        "#### **6.3) del**\n",
        "- **Removing Elements from Dictionary**\n",
        "\n",
        "- **Deletion of keys** can be done by using the **del** keyword.\n",
        "\n",
        "- Using **del** keyword, **specific values** from a dictionary as well as **whole dictionary** can be deleted.\n",
        "\n",
        "- Items in a **Nested dictionary** can also be deleted by using del keyword and providing **specific nested key** and **particular key** to be deleted from that nested Dictionary."
      ]
    },
    {
      "cell_type": "code",
      "metadata": {
        "colab": {
          "base_uri": "https://localhost:8080/"
        },
        "id": "btQ6BQNm7yaR",
        "outputId": "5d562bb8-e15c-479b-c66b-292bf8904d8f"
      },
      "source": [
        "# Initial Dictionary\n",
        "Dict = { 5 : 'Welcome', 6 : 'To', 7 : 'Geeks',\n",
        "        'A' : {1 : 'Geeks', 2 : 'For', 3 : 'Geeks'},\n",
        "        'B' : {1 : 'Geeks', 2 : 'Life'}}\n",
        "print(\"Initial Dictionary: \")\n",
        "print(Dict)\n",
        " \n",
        "# Deleting a Key value\n",
        "del Dict[6]\n",
        "print(\"\\nDeleting a specific key: \")\n",
        "print(Dict)\n",
        " \n",
        "# Deleting a Key from Nested Dictionary\n",
        "del Dict['A'][2]\n",
        "print(\"\\nDeleting a key from Nested Dictionary: \")\n",
        "print(Dict)"
      ],
      "execution_count": null,
      "outputs": [
        {
          "output_type": "stream",
          "text": [
            "Initial Dictionary: \n",
            "{5: 'Welcome', 6: 'To', 7: 'Geeks', 'A': {1: 'Geeks', 2: 'For', 3: 'Geeks'}, 'B': {1: 'Geeks', 2: 'Life'}}\n",
            "\n",
            "Deleting a specific key: \n",
            "{5: 'Welcome', 7: 'Geeks', 'A': {1: 'Geeks', 2: 'For', 3: 'Geeks'}, 'B': {1: 'Geeks', 2: 'Life'}}\n",
            "\n",
            "Deleting a key from Nested Dictionary: \n",
            "{5: 'Welcome', 7: 'Geeks', 'A': {1: 'Geeks', 3: 'Geeks'}, 'B': {1: 'Geeks', 2: 'Life'}}\n"
          ],
          "name": "stdout"
        }
      ]
    },
    {
      "cell_type": "markdown",
      "metadata": {
        "id": "X9GyHUwYC2DD"
      },
      "source": [
        "#### **6.4) get**\n",
        "- The **get()** method returns the value of the item with the **specified key**\n",
        "\n",
        "#### **Syntax**\n",
        "- **dictionary.get(keyname, value)**"
      ]
    },
    {
      "cell_type": "code",
      "metadata": {
        "colab": {
          "base_uri": "https://localhost:8080/"
        },
        "id": "Nyv3a3jYD5aO",
        "outputId": "3bbf6cd8-0e98-438d-f4ab-3c8e5a4be71c"
      },
      "source": [
        "car = {\"brand\": \"Ford\", \"model\": \"Mustang\", \"year\": 1964}\n",
        "\n",
        "x = car.get(\"model\")\n",
        "\n",
        "print(x)"
      ],
      "execution_count": null,
      "outputs": [
        {
          "output_type": "stream",
          "text": [
            "Mustang\n"
          ],
          "name": "stdout"
        }
      ]
    },
    {
      "cell_type": "code",
      "metadata": {
        "colab": {
          "base_uri": "https://localhost:8080/"
        },
        "id": "j-G5OSGBER-N",
        "outputId": "49aa2465-20de-41b0-c219-2c5e96ff934f"
      },
      "source": [
        "person = {'name': 'Phill', 'age': 22}\n",
        "\n",
        "print('Name: ', person.get('name'))\n",
        "print('Age: ', person.get('age'))\n",
        "\n",
        "# value is not provided\n",
        "print('Salary: ', person.get('salary'))\n",
        "\n",
        "# value is provided\n",
        "print('Salary: ', person.get('salary', 0.0))"
      ],
      "execution_count": null,
      "outputs": [
        {
          "output_type": "stream",
          "text": [
            "Name:  Phill\n",
            "Age:  22\n",
            "Salary:  None\n",
            "Salary:  0.0\n"
          ],
          "name": "stdout"
        }
      ]
    },
    {
      "cell_type": "code",
      "metadata": {
        "colab": {
          "base_uri": "https://localhost:8080/"
        },
        "id": "M6yCOFkZC-Jn",
        "outputId": "6ba069b6-322d-4586-a840-6f55e81b9585"
      },
      "source": [
        "dict1 = {0 : 'python', 1: 'java'}\n",
        "print(dict1.get(2))"
      ],
      "execution_count": null,
      "outputs": [
        {
          "output_type": "stream",
          "text": [
            "None\n"
          ],
          "name": "stdout"
        }
      ]
    },
    {
      "cell_type": "markdown",
      "metadata": {
        "id": "pBXWXopTzsMt"
      },
      "source": [
        "#### **6.4) clear()**\n",
        "- **All the items** from a dictionary can be **deleted** at once by using clear() method"
      ]
    },
    {
      "cell_type": "code",
      "metadata": {
        "colab": {
          "base_uri": "https://localhost:8080/"
        },
        "id": "uPYG8YaA0Ans",
        "outputId": "965421fe-2af3-4af1-a592-118a89e537ea"
      },
      "source": [
        "# Creating a Dictionary\n",
        "Dict = {1: 'Geeks', 'name': 'For', 3: 'Geeks'} \n",
        " \n",
        "# Deleting entire Dictionary\n",
        "Dict.clear()\n",
        "print(\"\\nDeleting Entire Dictionary: \")\n",
        "print(Dict)"
      ],
      "execution_count": null,
      "outputs": [
        {
          "output_type": "stream",
          "text": [
            "\n",
            "Deleting Entire Dictionary: \n",
            "{}\n"
          ],
          "name": "stdout"
        }
      ]
    },
    {
      "cell_type": "markdown",
      "metadata": {
        "id": "btTsFWcWqJUx"
      },
      "source": [
        "#### **6.5) Dictionary to Set Conversion**"
      ]
    },
    {
      "cell_type": "code",
      "metadata": {
        "colab": {
          "base_uri": "https://localhost:8080/"
        },
        "id": "1vQ6MfLxqSgJ",
        "outputId": "990ed628-3c5c-4797-b4d9-a10d7daa2f1e"
      },
      "source": [
        "# initializing list\n",
        "\n",
        "dic1 = { 4 : 'geeks', 1 : 'for', 3 : 'geeks' }\n",
        "\n",
        "# Printing dictionary before conversion, internally sorted\n",
        "print(\"Dictionary before conversion is : \" + str(dic1))\n",
        " \n",
        "# Dictionary after conversion, notice lost keys\n",
        "print(\"\\nDictionary afer conversion is : \" + str(set(dic1)))"
      ],
      "execution_count": null,
      "outputs": [
        {
          "output_type": "stream",
          "text": [
            "Dictionary before conversion is : {4: 'geeks', 1: 'for', 3: 'geeks'}\n",
            "\n",
            "Dictionary afer conversion is : {1, 3, 4}\n"
          ],
          "name": "stdout"
        }
      ]
    },
    {
      "cell_type": "markdown",
      "metadata": {
        "id": "dIsTPyKkwZ7g"
      },
      "source": [
        "#### **Question 1**"
      ]
    },
    {
      "cell_type": "code",
      "metadata": {
        "colab": {
          "base_uri": "https://localhost:8080/",
          "height": 197
        },
        "id": "7SM5AdW4tbjL",
        "outputId": "e031a4bd-c6e1-4f1b-f51a-8509a9d8de39"
      },
      "source": [
        "myDict = {1: \"a\", 2: \"b\", 3: \"c\"}\n",
        "myDict.pop()\n",
        "print(myDict)"
      ],
      "execution_count": null,
      "outputs": [
        {
          "output_type": "error",
          "ename": "KeyError",
          "evalue": "ignored",
          "traceback": [
            "\u001b[0;31m---------------------------------------------------------------------------\u001b[0m",
            "\u001b[0;31mKeyError\u001b[0m                                  Traceback (most recent call last)",
            "\u001b[0;32m<ipython-input-15-11c76d01b506>\u001b[0m in \u001b[0;36m<module>\u001b[0;34m()\u001b[0m\n\u001b[1;32m      1\u001b[0m \u001b[0mmyDict\u001b[0m \u001b[0;34m=\u001b[0m \u001b[0;34m{\u001b[0m\u001b[0;36m1\u001b[0m\u001b[0;34m:\u001b[0m \u001b[0;34m\"a\"\u001b[0m\u001b[0;34m,\u001b[0m \u001b[0;36m2\u001b[0m\u001b[0;34m:\u001b[0m \u001b[0;34m\"b\"\u001b[0m\u001b[0;34m,\u001b[0m \u001b[0;36m3\u001b[0m\u001b[0;34m:\u001b[0m \u001b[0;34m\"c\"\u001b[0m\u001b[0;34m}\u001b[0m\u001b[0;34m\u001b[0m\u001b[0;34m\u001b[0m\u001b[0m\n\u001b[0;32m----> 2\u001b[0;31m \u001b[0mmyDict\u001b[0m\u001b[0;34m.\u001b[0m\u001b[0mpop\u001b[0m\u001b[0;34m(\u001b[0m\u001b[0;36m0\u001b[0m\u001b[0;34m)\u001b[0m\u001b[0;34m\u001b[0m\u001b[0;34m\u001b[0m\u001b[0m\n\u001b[0m\u001b[1;32m      3\u001b[0m \u001b[0mprint\u001b[0m\u001b[0;34m(\u001b[0m\u001b[0mmyDict\u001b[0m\u001b[0;34m)\u001b[0m\u001b[0;34m\u001b[0m\u001b[0;34m\u001b[0m\u001b[0m\n",
            "\u001b[0;31mKeyError\u001b[0m: 0"
          ]
        }
      ]
    },
    {
      "cell_type": "code",
      "metadata": {
        "colab": {
          "base_uri": "https://localhost:8080/"
        },
        "id": "OzgGDhqCwdr9",
        "outputId": "8026be14-11cc-4063-f4f8-cc06e8e0492f"
      },
      "source": [
        "myDict = {1: \"a\", 2: \"b\", 3: \"c\"}\n",
        "myDict.popitem()\n",
        "print(myDict)"
      ],
      "execution_count": null,
      "outputs": [
        {
          "output_type": "stream",
          "text": [
            "{1: 'a', 2: 'b'}\n"
          ],
          "name": "stdout"
        }
      ]
    },
    {
      "cell_type": "markdown",
      "metadata": {
        "id": "I3ss1vTfgtZw"
      },
      "source": [
        "#### **Question 2**"
      ]
    },
    {
      "cell_type": "code",
      "metadata": {
        "colab": {
          "base_uri": "https://localhost:8080/",
          "height": 180
        },
        "id": "F2hofXkkgycy",
        "outputId": "b33fe3d6-8990-4455-8a8f-64eef0178af2"
      },
      "source": [
        "a = {\"a\":1, \"b\":2, \"c\":3}\n",
        "print(a[\"a\", \"b\"])"
      ],
      "execution_count": null,
      "outputs": [
        {
          "output_type": "error",
          "ename": "KeyError",
          "evalue": "ignored",
          "traceback": [
            "\u001b[0;31m---------------------------------------------------------------------------\u001b[0m",
            "\u001b[0;31mKeyError\u001b[0m                                  Traceback (most recent call last)",
            "\u001b[0;32m<ipython-input-15-31b016fb918e>\u001b[0m in \u001b[0;36m<module>\u001b[0;34m()\u001b[0m\n\u001b[1;32m      1\u001b[0m \u001b[0ma\u001b[0m \u001b[0;34m=\u001b[0m \u001b[0;34m{\u001b[0m\u001b[0;34m\"a\"\u001b[0m\u001b[0;34m:\u001b[0m\u001b[0;36m1\u001b[0m\u001b[0;34m,\u001b[0m \u001b[0;34m\"b\"\u001b[0m\u001b[0;34m:\u001b[0m\u001b[0;36m2\u001b[0m\u001b[0;34m,\u001b[0m \u001b[0;34m\"c\"\u001b[0m\u001b[0;34m:\u001b[0m\u001b[0;36m3\u001b[0m\u001b[0;34m}\u001b[0m\u001b[0;34m\u001b[0m\u001b[0;34m\u001b[0m\u001b[0m\n\u001b[0;32m----> 2\u001b[0;31m \u001b[0mprint\u001b[0m\u001b[0;34m(\u001b[0m\u001b[0ma\u001b[0m\u001b[0;34m[\u001b[0m\u001b[0;34m\"a\"\u001b[0m\u001b[0;34m,\u001b[0m \u001b[0;34m\"b\"\u001b[0m\u001b[0;34m]\u001b[0m\u001b[0;34m)\u001b[0m\u001b[0;34m\u001b[0m\u001b[0;34m\u001b[0m\u001b[0m\n\u001b[0m",
            "\u001b[0;31mKeyError\u001b[0m: ('a', 'b')"
          ]
        }
      ]
    },
    {
      "cell_type": "markdown",
      "metadata": {
        "id": "irBuYVUjmsVm"
      },
      "source": [
        "##### **Question 3**"
      ]
    },
    {
      "cell_type": "code",
      "metadata": {
        "colab": {
          "base_uri": "https://localhost:8080/"
        },
        "id": "JHHCKBIjmr4_",
        "outputId": "a7c3cce7-2c34-444a-a5da-4fd3579db62b"
      },
      "source": [
        "Dict = {'n1':1, 'n2':2, 'n1':3}\n",
        "print(len(Dict))"
      ],
      "execution_count": null,
      "outputs": [
        {
          "output_type": "stream",
          "text": [
            "2\n"
          ],
          "name": "stdout"
        }
      ]
    },
    {
      "cell_type": "markdown",
      "metadata": {
        "id": "j91P65YMqzJf"
      },
      "source": [
        "##### **Question 4**"
      ]
    },
    {
      "cell_type": "code",
      "metadata": {
        "colab": {
          "base_uri": "https://localhost:8080/",
          "height": 180
        },
        "id": "EsmjVqgHq3LC",
        "outputId": "9a4c93f8-1b7f-43ce-f76c-c747a7ef00a7"
      },
      "source": [
        "myDict = {\"name\": \"Alisa\", \"Age\": 21, \"country\": \"canada\", \"Age\": 19}\n",
        "print(myDict(\"Age\"))"
      ],
      "execution_count": null,
      "outputs": [
        {
          "output_type": "error",
          "ename": "TypeError",
          "evalue": "ignored",
          "traceback": [
            "\u001b[0;31m---------------------------------------------------------------------------\u001b[0m",
            "\u001b[0;31mTypeError\u001b[0m                                 Traceback (most recent call last)",
            "\u001b[0;32m<ipython-input-4-44ed68915974>\u001b[0m in \u001b[0;36m<module>\u001b[0;34m()\u001b[0m\n\u001b[1;32m      1\u001b[0m \u001b[0mmyDict\u001b[0m \u001b[0;34m=\u001b[0m \u001b[0;34m{\u001b[0m\u001b[0;34m\"name\"\u001b[0m\u001b[0;34m:\u001b[0m \u001b[0;34m\"Alisa\"\u001b[0m\u001b[0;34m,\u001b[0m \u001b[0;34m\"Age\"\u001b[0m\u001b[0;34m:\u001b[0m \u001b[0;36m21\u001b[0m\u001b[0;34m,\u001b[0m \u001b[0;34m\"country\"\u001b[0m\u001b[0;34m:\u001b[0m \u001b[0;34m\"canada\"\u001b[0m\u001b[0;34m,\u001b[0m \u001b[0;34m\"Age\"\u001b[0m\u001b[0;34m:\u001b[0m \u001b[0;36m19\u001b[0m\u001b[0;34m}\u001b[0m\u001b[0;34m\u001b[0m\u001b[0;34m\u001b[0m\u001b[0m\n\u001b[0;32m----> 2\u001b[0;31m \u001b[0mprint\u001b[0m\u001b[0;34m(\u001b[0m\u001b[0mmyDict\u001b[0m\u001b[0;34m(\u001b[0m\u001b[0;34m\"Age\"\u001b[0m\u001b[0;34m)\u001b[0m\u001b[0;34m)\u001b[0m\u001b[0;34m\u001b[0m\u001b[0;34m\u001b[0m\u001b[0m\n\u001b[0m",
            "\u001b[0;31mTypeError\u001b[0m: 'dict' object is not callable"
          ]
        }
      ]
    },
    {
      "cell_type": "markdown",
      "metadata": {
        "id": "E9TpjsYztQnM"
      },
      "source": [
        "--------------------------------------------------------------------------------"
      ]
    }
  ]
}