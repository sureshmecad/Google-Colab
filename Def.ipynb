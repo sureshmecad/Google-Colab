{
  "nbformat": 4,
  "nbformat_minor": 0,
  "metadata": {
    "colab": {
      "name": "Def.ipynb",
      "provenance": [],
      "authorship_tag": "ABX9TyOOXNtd/dm1w8IK9D6dSJvq",
      "include_colab_link": true
    },
    "kernelspec": {
      "name": "python3",
      "display_name": "Python 3"
    }
  },
  "cells": [
    {
      "cell_type": "markdown",
      "metadata": {
        "id": "view-in-github",
        "colab_type": "text"
      },
      "source": [
        "<a href=\"https://colab.research.google.com/github/sureshmecad/Google-Colab/blob/master/Def.ipynb\" target=\"_parent\"><img src=\"https://colab.research.google.com/assets/colab-badge.svg\" alt=\"Open In Colab\"/></a>"
      ]
    },
    {
      "cell_type": "code",
      "metadata": {
        "id": "K2HI9JbHlVxc"
      },
      "source": [
        "import numpy as np\n",
        "import pandas as pd"
      ],
      "execution_count": 1,
      "outputs": []
    },
    {
      "cell_type": "code",
      "metadata": {
        "id": "V4I_be89oPof",
        "outputId": "af1c7742-8817-47e4-d29e-9df737716719",
        "colab": {
          "base_uri": "https://localhost:8080/",
          "height": 51
        }
      },
      "source": [
        "def greet():\n",
        "  print(\"Hello\")\n",
        "  print(\"Good Morning\")\n",
        "\n",
        "greet()"
      ],
      "execution_count": null,
      "outputs": [
        {
          "output_type": "stream",
          "text": [
            "Hello\n",
            "Good Morning\n"
          ],
          "name": "stdout"
        }
      ]
    },
    {
      "cell_type": "markdown",
      "metadata": {
        "id": "rTHge9zYE6bl"
      },
      "source": [
        "---------------"
      ]
    },
    {
      "cell_type": "code",
      "metadata": {
        "id": "VW_i9ENSr4O5",
        "outputId": "031a126f-66c7-45f8-a387-65dba9959315",
        "colab": {
          "base_uri": "https://localhost:8080/",
          "height": 34
        }
      },
      "source": [
        "def add(x,y):\n",
        "  c = x+y\n",
        "  print(c)\n",
        "\n",
        "add(5,4)"
      ],
      "execution_count": null,
      "outputs": [
        {
          "output_type": "stream",
          "text": [
            "9\n"
          ],
          "name": "stdout"
        }
      ]
    },
    {
      "cell_type": "code",
      "metadata": {
        "id": "Z7ieRG0KsW5R",
        "outputId": "0fed24d7-36f3-48ac-e96b-8a3efa24ad6b",
        "colab": {
          "base_uri": "https://localhost:8080/",
          "height": 34
        }
      },
      "source": [
        "add(15,5)"
      ],
      "execution_count": null,
      "outputs": [
        {
          "output_type": "stream",
          "text": [
            "20\n"
          ],
          "name": "stdout"
        }
      ]
    },
    {
      "cell_type": "code",
      "metadata": {
        "id": "Gl2zidjhE9yo",
        "outputId": "d12015d6-6238-4b79-9bf7-ab8e65242f71",
        "colab": {
          "base_uri": "https://localhost:8080/",
          "height": 34
        }
      },
      "source": [
        "def Add(num1, num2):\n",
        "  print(num1 + num2)\n",
        "\n",
        "Add(5, 5)"
      ],
      "execution_count": 2,
      "outputs": [
        {
          "output_type": "stream",
          "text": [
            "10\n"
          ],
          "name": "stdout"
        }
      ]
    },
    {
      "cell_type": "code",
      "metadata": {
        "id": "a_04JXE3F_W7",
        "outputId": "3839b392-7ea8-497c-a0ce-b0eb38147186",
        "colab": {
          "base_uri": "https://localhost:8080/",
          "height": 34
        }
      },
      "source": [
        "def returnAdd(num1, num2):\n",
        "  return(num1 + num2)\n",
        "\n",
        "sum = returnAdd(15, 5)\n",
        "\n",
        "print(sum)"
      ],
      "execution_count": 3,
      "outputs": [
        {
          "output_type": "stream",
          "text": [
            "20\n"
          ],
          "name": "stdout"
        }
      ]
    },
    {
      "cell_type": "markdown",
      "metadata": {
        "id": "drQ8NXPeE0rK"
      },
      "source": [
        "---------------"
      ]
    },
    {
      "cell_type": "code",
      "metadata": {
        "id": "c6jJk7LxtqKs",
        "outputId": "88fbfbbf-ac5d-4a0b-f4f3-96bd0ed25776",
        "colab": {
          "base_uri": "https://localhost:8080/",
          "height": 34
        }
      },
      "source": [
        "def add(x,y):\n",
        "  c = x+y\n",
        "  return c\n",
        "\n",
        "result = add(5,4)\n",
        "print(result)"
      ],
      "execution_count": null,
      "outputs": [
        {
          "output_type": "stream",
          "text": [
            "9\n"
          ],
          "name": "stdout"
        }
      ]
    },
    {
      "cell_type": "code",
      "metadata": {
        "id": "3k2oL1tgtqOC",
        "outputId": "80bf4f21-8b9b-492b-c344-8b52fcfbb954",
        "colab": {
          "base_uri": "https://localhost:8080/",
          "height": 34
        }
      },
      "source": [
        "def add_sub(x,y):\n",
        "  c = x+y\n",
        "  d = x-y\n",
        "  return c,d\n",
        "\n",
        "result1, result2 = add_sub(5,4)\n",
        "print(result1, result2)"
      ],
      "execution_count": null,
      "outputs": [
        {
          "output_type": "stream",
          "text": [
            "9 1\n"
          ],
          "name": "stdout"
        }
      ]
    },
    {
      "cell_type": "code",
      "metadata": {
        "id": "fMr3FIrK7176",
        "outputId": "ab41de58-d7b5-4b9c-e4d2-5aaf64481ce9",
        "colab": {
          "base_uri": "https://localhost:8080/",
          "height": 51
        }
      },
      "source": [
        "def example():\n",
        "  print(\"basic function\")\n",
        "  z = 3+9\n",
        "  print(z)\n",
        "\n",
        "example()"
      ],
      "execution_count": null,
      "outputs": [
        {
          "output_type": "stream",
          "text": [
            "basic function\n",
            "12\n"
          ],
          "name": "stdout"
        }
      ]
    },
    {
      "cell_type": "markdown",
      "metadata": {
        "id": "pUYqdPPloyg3"
      },
      "source": [
        "---------------------------------------------"
      ]
    },
    {
      "cell_type": "code",
      "metadata": {
        "id": "iISLicKE1Z4D",
        "outputId": "683ac0d9-9d65-4919-96a6-554a389fddea",
        "colab": {
          "base_uri": "https://localhost:8080/",
          "height": 34
        }
      },
      "source": [
        "def my_function():\n",
        "  print(\"Hello from a function\")\n",
        "\n",
        "my_function() "
      ],
      "execution_count": null,
      "outputs": [
        {
          "output_type": "stream",
          "text": [
            "Hello from a function\n"
          ],
          "name": "stdout"
        }
      ]
    },
    {
      "cell_type": "code",
      "metadata": {
        "id": "l3lTwnQe2ivk",
        "outputId": "630703be-de2c-4195-9cec-e1c42b6dab22",
        "colab": {
          "base_uri": "https://localhost:8080/",
          "height": 68
        }
      },
      "source": [
        "def my_function(fname):\n",
        "  print(fname + \" Anuganti\")\n",
        "\n",
        "my_function(\"Suresh\")\n",
        "my_function(\"Saanvi\")\n",
        "my_function(\"Tanvee\")"
      ],
      "execution_count": null,
      "outputs": [
        {
          "output_type": "stream",
          "text": [
            "Suresh Anuganti\n",
            "Saanvi Anuganti\n",
            "Tanvee Anuganti\n"
          ],
          "name": "stdout"
        }
      ]
    },
    {
      "cell_type": "code",
      "metadata": {
        "id": "jZrTTm-c3Yu_",
        "outputId": "bc1dc81b-b3b6-4419-828c-193e8bde4547",
        "colab": {
          "base_uri": "https://localhost:8080/",
          "height": 85
        }
      },
      "source": [
        "def my_function(Country = \"Norway\"):\n",
        "  print(\"I am from \" + Country)\n",
        "\n",
        "my_function(\"Sweden\")\n",
        "my_function(\"India\")\n",
        "my_function()\n",
        "my_function(\"Brazil\")"
      ],
      "execution_count": null,
      "outputs": [
        {
          "output_type": "stream",
          "text": [
            "I am from Sweden\n",
            "I am from India\n",
            "I am from Norway\n",
            "I am from Brazil\n"
          ],
          "name": "stdout"
        }
      ]
    },
    {
      "cell_type": "markdown",
      "metadata": {
        "id": "ETEG4pe41adx"
      },
      "source": [
        "--------------------------------------"
      ]
    },
    {
      "cell_type": "markdown",
      "metadata": {
        "id": "g-2jjESP5O1i"
      },
      "source": [
        "## Return"
      ]
    },
    {
      "cell_type": "code",
      "metadata": {
        "id": "_tlSAocSl0OY",
        "outputId": "3f15e601-7995-4571-d170-11464579764b",
        "colab": {
          "base_uri": "https://localhost:8080/",
          "height": 34
        }
      },
      "source": [
        "b = 30\n",
        "def fun(a, b=b):\n",
        "  return a+b\n",
        "\n",
        "print(fun(1))"
      ],
      "execution_count": null,
      "outputs": [
        {
          "output_type": "stream",
          "text": [
            "31\n"
          ],
          "name": "stdout"
        }
      ]
    },
    {
      "cell_type": "code",
      "metadata": {
        "id": "M3quB5ic4PXw",
        "outputId": "b29189a0-430d-450a-e935-eaf202451d52",
        "colab": {
          "base_uri": "https://localhost:8080/",
          "height": 68
        }
      },
      "source": [
        "# Return values\n",
        "def my_function(x):\n",
        "  return 5 * x\n",
        "\n",
        "print(my_function(3))\n",
        "print(my_function(5))\n",
        "print(my_function(9))"
      ],
      "execution_count": null,
      "outputs": [
        {
          "output_type": "stream",
          "text": [
            "15\n",
            "25\n",
            "45\n"
          ],
          "name": "stdout"
        }
      ]
    },
    {
      "cell_type": "markdown",
      "metadata": {
        "id": "Tb18SR7qo1W-"
      },
      "source": [
        "--------------------------------"
      ]
    },
    {
      "cell_type": "markdown",
      "metadata": {
        "id": "-vMdy8fr5Ujx"
      },
      "source": [
        "## Recursion"
      ]
    },
    {
      "cell_type": "code",
      "metadata": {
        "id": "FEFqdqfzmwO3",
        "outputId": "0a909a1a-0405-46c4-a953-43cf2f5b3df2",
        "colab": {
          "base_uri": "https://localhost:8080/",
          "height": 187
        }
      },
      "source": [
        "def tri_recursion(k):\n",
        "  if(k>0):\n",
        "    result = k+tri_recursion(k-1)\n",
        "    print(result)\n",
        "  else:\n",
        "    result = 0\n",
        "  return result\n",
        "\n",
        "print(\"\\n\\nRecursion Example Results\")\n",
        "tri_recursion(6)"
      ],
      "execution_count": null,
      "outputs": [
        {
          "output_type": "stream",
          "text": [
            "\n",
            "\n",
            "Recursion Example Results\n",
            "1\n",
            "3\n",
            "6\n",
            "10\n",
            "15\n",
            "21\n"
          ],
          "name": "stdout"
        },
        {
          "output_type": "execute_result",
          "data": {
            "text/plain": [
              "21"
            ]
          },
          "metadata": {
            "tags": []
          },
          "execution_count": 21
        }
      ]
    },
    {
      "cell_type": "markdown",
      "metadata": {
        "id": "5irm837NIJXu"
      },
      "source": [
        "-------------"
      ]
    },
    {
      "cell_type": "code",
      "metadata": {
        "id": "lo0sYHrRIIlh",
        "outputId": "6eedb99a-29b6-4407-c976-e806ed307aaa",
        "colab": {
          "base_uri": "https://localhost:8080/",
          "height": 34
        }
      },
      "source": [
        "def Hello():\n",
        "  return \"Hello World\"\n",
        "\n",
        "print(Hello())"
      ],
      "execution_count": 4,
      "outputs": [
        {
          "output_type": "stream",
          "text": [
            "Hello World\n"
          ],
          "name": "stdout"
        }
      ]
    },
    {
      "cell_type": "code",
      "metadata": {
        "id": "YrmDu0OcIZ5K",
        "outputId": "4329a9a4-14d1-4fdf-8e9c-32f873202b30",
        "colab": {
          "base_uri": "https://localhost:8080/",
          "height": 34
        }
      },
      "source": [
        "def Hello():\n",
        "  return \"Hello World\"\n",
        "\n",
        "print(Hello().upper())"
      ],
      "execution_count": 5,
      "outputs": [
        {
          "output_type": "stream",
          "text": [
            "HELLO WORLD\n"
          ],
          "name": "stdout"
        }
      ]
    },
    {
      "cell_type": "markdown",
      "metadata": {
        "id": "bfb1pY96J7SN"
      },
      "source": [
        "-------"
      ]
    },
    {
      "cell_type": "code",
      "metadata": {
        "id": "zZH_ga8QJ8WF",
        "outputId": "eef8f5f9-c383-4532-c64d-a136256b58be",
        "colab": {
          "base_uri": "https://localhost:8080/",
          "height": 51
        }
      },
      "source": [
        "# * ---> List & ** ---> Dictionary\n",
        "def student_info(*args, **kwargs):\n",
        "  print(args)\n",
        "  print(kwargs)\n",
        "\n",
        "courses = ['Math', 'Arts']\n",
        "info = {'name': 'John', 'age': 26}\n",
        "\n",
        "student_info(courses, info)"
      ],
      "execution_count": 8,
      "outputs": [
        {
          "output_type": "stream",
          "text": [
            "(['Math', 'Arts'], {'name': 'John', 'age': 26})\n",
            "{}\n"
          ],
          "name": "stdout"
        }
      ]
    },
    {
      "cell_type": "code",
      "metadata": {
        "id": "dijvjvMJLFP9",
        "outputId": "65b847f1-aaec-42f7-e318-386a94cb2076",
        "colab": {
          "base_uri": "https://localhost:8080/",
          "height": 51
        }
      },
      "source": [
        "def student_info(*args, **kwargs):\n",
        "  print(args)\n",
        "  print(kwargs)\n",
        "\n",
        "courses = ['Math', 'Arts']\n",
        "info = {'name': 'John', 'age': 26}\n",
        "\n",
        "student_info(*courses, **info)"
      ],
      "execution_count": 9,
      "outputs": [
        {
          "output_type": "stream",
          "text": [
            "('Math', 'Arts')\n",
            "{'name': 'John', 'age': 26}\n"
          ],
          "name": "stdout"
        }
      ]
    },
    {
      "cell_type": "markdown",
      "metadata": {
        "id": "MCbV3ZOUN77O"
      },
      "source": [
        "-----------------"
      ]
    },
    {
      "cell_type": "code",
      "metadata": {
        "id": "qb9JPhqvLRMT",
        "outputId": "00b20127-fea9-42ed-a9a1-eed360f0f604",
        "colab": {
          "base_uri": "https://localhost:8080/",
          "height": 34
        }
      },
      "source": [
        "# Number of days per month. First value placeholder for indexing purposes\n",
        "month_days = [0, 31, 28, 31, 30, 31, 30, 31, 31, 30, 31, 30, 31]\n",
        "\n",
        "def is_leap(year):\n",
        "  return year % 4 == 0 and (year % 100 !=0 or year % 400 == 0)\n",
        "\n",
        "def days_in_month(year, month):\n",
        "  if not 1 <= month <=12:\n",
        "    return 'Invalid Month'\n",
        "\n",
        "  if month == 2 and is_leap(year):\n",
        "    return 29\n",
        "\n",
        "  return month_days[month]\n",
        "\n",
        "print(is_leap(2017))"
      ],
      "execution_count": 14,
      "outputs": [
        {
          "output_type": "stream",
          "text": [
            "False\n"
          ],
          "name": "stdout"
        }
      ]
    },
    {
      "cell_type": "code",
      "metadata": {
        "id": "ClTLnMD_N-Gz",
        "outputId": "7c2cc8d8-a8ef-4ee1-9380-1a3bce6da378",
        "colab": {
          "base_uri": "https://localhost:8080/",
          "height": 34
        }
      },
      "source": [
        "# Number of days per month. First value placeholder for indexing purposes\n",
        "month_days = [0, 31, 28, 31, 30, 31, 30, 31, 31, 30, 31, 30, 31]\n",
        "\n",
        "def is_leap(year):\n",
        "  return year % 4 == 0 and (year % 100 !=0 or year % 400 == 0)\n",
        "\n",
        "def days_in_month(year, month):\n",
        "  if not 1 <= month <=12:\n",
        "    return 'Invalid Month'\n",
        "\n",
        "  if month == 2 and is_leap(year):\n",
        "    return 29\n",
        "\n",
        "  return month_days[month]\n",
        "\n",
        "print(days_in_month(2017, 2))"
      ],
      "execution_count": 13,
      "outputs": [
        {
          "output_type": "stream",
          "text": [
            "28\n"
          ],
          "name": "stdout"
        }
      ]
    },
    {
      "cell_type": "markdown",
      "metadata": {
        "id": "OW1BohazOhIZ"
      },
      "source": [
        "--------------"
      ]
    },
    {
      "cell_type": "code",
      "metadata": {
        "id": "1gryfBlaOk31"
      },
      "source": [
        ""
      ],
      "execution_count": null,
      "outputs": []
    }
  ]
}