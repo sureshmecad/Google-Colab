{
  "nbformat": 4,
  "nbformat_minor": 0,
  "metadata": {
    "colab": {
      "name": "5_Outliers_describe().ipynb",
      "provenance": [],
      "collapsed_sections": [],
      "authorship_tag": "ABX9TyNsEAQVFHFpWl7WBTPBskz4",
      "include_colab_link": true
    },
    "kernelspec": {
      "name": "python3",
      "display_name": "Python 3"
    },
    "language_info": {
      "name": "python"
    }
  },
  "cells": [
    {
      "cell_type": "markdown",
      "metadata": {
        "id": "view-in-github",
        "colab_type": "text"
      },
      "source": [
        "<a href=\"https://colab.research.google.com/github/sureshmecad/Google-Colab/blob/master/5_Outliers_describe().ipynb\" target=\"_parent\"><img src=\"https://colab.research.google.com/assets/colab-badge.svg\" alt=\"Open In Colab\"/></a>"
      ]
    },
    {
      "cell_type": "code",
      "metadata": {
        "id": "FDIs_52Efaaj"
      },
      "source": [
        "df.describe()"
      ],
      "execution_count": null,
      "outputs": []
    },
    {
      "cell_type": "code",
      "metadata": {
        "id": "BprUORQyfmoz"
      },
      "source": [
        "|       \t| Income        \t| Loan_amount \t| Term_months \t| Credit_score \t| approval_status \t| Age        \t|\n",
        "|-------\t|---------------\t|-------------\t|-------------\t|--------------\t|-----------------\t|------------\t|\n",
        "| count \t| 600.000000    \t| 600.000000  \t| 600.00000   \t| 600.000000   \t| 600.000000      \t| 600.000000 \t|\n",
        "| mean  \t| 7210.720000   \t| 161.571667  \t| 367.10000   \t| 0.788333     \t| 0.686667        \t| 51.766667  \t|\n",
        "| std   \t| 8224.445086   \t| 93.467598   \t| 63.40892    \t| 0.408831     \t| 0.464236        \t| 21.240704  \t|\n",
        "| min   \t| 200.000000    \t| 10.000000   \t| 36.00000    \t| 0.000000     \t| 0.000000        \t| 0.000000   \t|\n",
        "| 25%   \t| 3832.500000   \t| 111.000000  \t| 384.00000   \t| 1.000000     \t| 0.000000        \t| 36.000000  \t|\n",
        "| 50%   \t| 5075.000000   \t| 140.000000  \t| 384.00000   \t| 1.000000     \t| 1.000000        \t| 51.000000  \t|\n",
        "| 75%   \t| 7641.500000   \t| 180.500000  \t| 384.00000   \t| 1.000000     \t| 1.000000        \t| 64.000000  \t|\n",
        "| max   \t| 108000.000000 \t| 778.000000  \t| 504.00000   \t| 1.000000     \t| 1.000000        \t| 200.000000 \t|"
      ],
      "execution_count": null,
      "outputs": []
    },
    {
      "cell_type": "markdown",
      "metadata": {
        "id": "XDFJJYZqfn7C"
      },
      "source": [
        "- Looking at the **'Age'** variable, it is easy to **detect outliers** resulting from incorrect data.\n",
        "\n",
        "- The **minimum and maximum ages are 0, and 200**, respectively. These are incorrect. These outliers were easy to detect, but that will not always be the case."
      ]
    }
  ]
}