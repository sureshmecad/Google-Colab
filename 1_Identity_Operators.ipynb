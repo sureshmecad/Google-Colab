{
  "nbformat": 4,
  "nbformat_minor": 0,
  "metadata": {
    "colab": {
      "name": "1_Identity-Operators.ipynb",
      "provenance": [],
      "collapsed_sections": [],
      "authorship_tag": "ABX9TyN+OCiwb8OTu8r3KBrUYiJ+",
      "include_colab_link": true
    },
    "kernelspec": {
      "name": "python3",
      "display_name": "Python 3"
    },
    "language_info": {
      "name": "python"
    }
  },
  "cells": [
    {
      "cell_type": "markdown",
      "metadata": {
        "id": "view-in-github",
        "colab_type": "text"
      },
      "source": [
        "<a href=\"https://colab.research.google.com/github/sureshmecad/Google-Colab/blob/master/1_Identity_Operators.ipynb\" target=\"_parent\"><img src=\"https://colab.research.google.com/assets/colab-badge.svg\" alt=\"Open In Colab\"/></a>"
      ]
    },
    {
      "cell_type": "markdown",
      "metadata": {
        "id": "n5MVtFv7eZKi"
      },
      "source": [
        "### **Identity Operators**\n",
        "\n",
        "- Identity operators are used to compare the objects, not if they are equal, but if they are actually the **same object**, with the **same memory location**"
      ]
    },
    {
      "cell_type": "markdown",
      "metadata": {
        "id": "r-nfD2X9ec46"
      },
      "source": [
        "|Operator|Description                                             |Example   |\n",
        "|--------|--------------------------------------------------------|----------|\n",
        "|is      |Returns True if both variables are the same object      |x is y    |\n",
        "|is not  |Returns True if both variables are not the same object  |x is not y|"
      ]
    },
    {
      "cell_type": "code",
      "metadata": {
        "id": "TJWjoumWeh35"
      },
      "source": [
        "import numpy as np\n",
        "import pandas as pd"
      ],
      "execution_count": 1,
      "outputs": []
    },
    {
      "cell_type": "code",
      "metadata": {
        "colab": {
          "base_uri": "https://localhost:8080/"
        },
        "id": "XkutoCK9eTZ0",
        "outputId": "ace9086c-0875-40f0-e7a2-55fc720128e5"
      },
      "source": [
        "# python will assign same memory allocation for both variables\n",
        "\n",
        "num1 = 100\n",
        "num2 = 100\n",
        "\n",
        "print(num1 == num2)\n",
        "print(num1 is num2)\n",
        "\n",
        "# List is mutable, assigns different memory allocation\n",
        "\n",
        "l1 = [10, 20, 30]\n",
        "l2 = [10, 20, 30]\n",
        "\n",
        "print(l1 == l2)\n",
        "print(l1 is l2)"
      ],
      "execution_count": 2,
      "outputs": [
        {
          "output_type": "stream",
          "text": [
            "True\n",
            "True\n",
            "True\n",
            "False\n"
          ],
          "name": "stdout"
        }
      ]
    },
    {
      "cell_type": "markdown",
      "metadata": {
        "id": "dhV6hJYGeo65"
      },
      "source": [
        "- == operator compares the values\n",
        "\n",
        "- **is** operator compares the **memory location**"
      ]
    },
    {
      "cell_type": "code",
      "metadata": {
        "colab": {
          "base_uri": "https://localhost:8080/"
        },
        "id": "Xq5yjsF7epuh",
        "outputId": "3959f031-6223-49f6-e979-f19e7fe25ad6"
      },
      "source": [
        "# python will assign same memory allocation for both variables\n",
        "\n",
        "num1 = 100\n",
        "num2 = 100\n",
        "\n",
        "print(num1 == num2)\n",
        "print(num1 is num2)\n",
        "\n",
        "# List is mutable, assigns different memory allocation\n",
        "\n",
        "l1 = [10, 20, 30]\n",
        "l2 = [10, 20, 30]\n",
        "\n",
        "print(l1 == l2)\n",
        "print(l1 is not l2)"
      ],
      "execution_count": 3,
      "outputs": [
        {
          "output_type": "stream",
          "text": [
            "True\n",
            "True\n",
            "True\n",
            "True\n"
          ],
          "name": "stdout"
        }
      ]
    },
    {
      "cell_type": "code",
      "metadata": {
        "colab": {
          "base_uri": "https://localhost:8080/"
        },
        "id": "2JmRk1SUev4S",
        "outputId": "a3fcebee-8bc5-4b88-ffa6-e858f094ec90"
      },
      "source": [
        "x = [\"apple\", \"banana\"]\n",
        "y = [\"apple\", \"banana\"]\n",
        "z = x\n",
        "\n",
        "print(x is z)\n",
        "\n",
        "# returns True because z is the same object as x\n",
        "\n",
        "print(x is y)\n",
        "\n",
        "# returns False because x is not the same object as y, even if they have the same content\n",
        "\n",
        "print(x == y)\n",
        "\n",
        "# to demonstrate the difference betweeen \"is\" and \"==\": this comparison returns True because x is equal to y"
      ],
      "execution_count": 4,
      "outputs": [
        {
          "output_type": "stream",
          "text": [
            "True\n",
            "False\n",
            "True\n"
          ],
          "name": "stdout"
        }
      ]
    },
    {
      "cell_type": "code",
      "metadata": {
        "colab": {
          "base_uri": "https://localhost:8080/"
        },
        "id": "iTR4kztfey1i",
        "outputId": "68d17f5b-cdd4-4f96-b64f-4cbaa6860de0"
      },
      "source": [
        "x = [\"apple\", \"banana\"]\n",
        "y = [\"apple\", \"banana\"]\n",
        "z = x\n",
        " \n",
        "print(x is not z)\n",
        " \n",
        "# returns False because z is the same object as x\n",
        " \n",
        "print(x is not y)\n",
        " \n",
        "# returns True because x is not the same object as y, even if they have the same content\n",
        " \n",
        "print(x != y)\n",
        " \n",
        "# to demonstrate the difference betweeen \"is not\" and \"!=\": this comparison returns False because x is equal to y"
      ],
      "execution_count": 5,
      "outputs": [
        {
          "output_type": "stream",
          "text": [
            "False\n",
            "True\n",
            "False\n"
          ],
          "name": "stdout"
        }
      ]
    },
    {
      "cell_type": "markdown",
      "metadata": {
        "id": "jnKPNbnme1ar"
      },
      "source": [
        "#### **Question 1**"
      ]
    },
    {
      "cell_type": "code",
      "metadata": {
        "colab": {
          "base_uri": "https://localhost:8080/"
        },
        "id": "tL2X_qzKe2fL",
        "outputId": "4fb4ef5c-7b2b-4bee-d0d2-df22b4b2577c"
      },
      "source": [
        "a = ['a','b']\n",
        "b=a\n",
        "print (a is b)"
      ],
      "execution_count": 6,
      "outputs": [
        {
          "output_type": "stream",
          "text": [
            "True\n"
          ],
          "name": "stdout"
        }
      ]
    },
    {
      "cell_type": "code",
      "metadata": {
        "colab": {
          "base_uri": "https://localhost:8080/"
        },
        "id": "UYS7jWt2e6bz",
        "outputId": "cef06c62-d308-44b8-984e-4c4c2d048be2"
      },
      "source": [
        "id(a)"
      ],
      "execution_count": 7,
      "outputs": [
        {
          "output_type": "execute_result",
          "data": {
            "text/plain": [
              "140212977148064"
            ]
          },
          "metadata": {
            "tags": []
          },
          "execution_count": 7
        }
      ]
    },
    {
      "cell_type": "code",
      "metadata": {
        "colab": {
          "base_uri": "https://localhost:8080/"
        },
        "id": "WL2WKpOSe6Ta",
        "outputId": "4afa1639-a3ae-4d17-f822-92eab62d7b6b"
      },
      "source": [
        "id(b)"
      ],
      "execution_count": 8,
      "outputs": [
        {
          "output_type": "execute_result",
          "data": {
            "text/plain": [
              "140212977148064"
            ]
          },
          "metadata": {
            "tags": []
          },
          "execution_count": 8
        }
      ]
    },
    {
      "cell_type": "markdown",
      "metadata": {
        "id": "KfDONbnwfHw6"
      },
      "source": [
        "#### **Question 2**"
      ]
    },
    {
      "cell_type": "code",
      "metadata": {
        "colab": {
          "base_uri": "https://localhost:8080/"
        },
        "id": "uzuLQebtfIwz",
        "outputId": "60c39459-3ac5-46bf-9d82-bc67ab7a4be0"
      },
      "source": [
        "myString = \"PythonHub\"\n",
        "stringList = [\"abc\", \"PythonHub\", \"xyz\"]\n",
        "print(stringList[1] == myString)\n",
        "print(stringList[1] is myString)"
      ],
      "execution_count": 9,
      "outputs": [
        {
          "output_type": "stream",
          "text": [
            "True\n",
            "True\n"
          ],
          "name": "stdout"
        }
      ]
    }
  ]
}