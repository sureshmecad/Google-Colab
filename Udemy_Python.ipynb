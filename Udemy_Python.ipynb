{
  "nbformat": 4,
  "nbformat_minor": 0,
  "metadata": {
    "colab": {
      "name": "Udemy_Python.ipynb",
      "provenance": [],
      "collapsed_sections": [],
      "authorship_tag": "ABX9TyNpBhYt4FWdmDM+sh+T8Zaw",
      "include_colab_link": true
    },
    "kernelspec": {
      "name": "python3",
      "display_name": "Python 3"
    },
    "language_info": {
      "name": "python"
    }
  },
  "cells": [
    {
      "cell_type": "markdown",
      "metadata": {
        "id": "view-in-github",
        "colab_type": "text"
      },
      "source": [
        "<a href=\"https://colab.research.google.com/github/sureshmecad/Google-Colab/blob/master/Udemy_Python.ipynb\" target=\"_parent\"><img src=\"https://colab.research.google.com/assets/colab-badge.svg\" alt=\"Open In Colab\"/></a>"
      ]
    },
    {
      "cell_type": "markdown",
      "metadata": {
        "id": "07gmeJwyLW8e"
      },
      "source": [
        "- variable name should start with lower case character\n",
        "\n",
        "- digits are allowed but not at the start\n",
        "\n",
        "- _ allowed; __ not allowed"
      ]
    },
    {
      "cell_type": "code",
      "metadata": {
        "colab": {
          "base_uri": "https://localhost:8080/"
        },
        "id": "Er2hXIBzMKH9",
        "outputId": "b945e15c-4a75-4011-f94b-a26a97f798f8"
      },
      "source": [
        "first_num = 10\n",
        "second_num = 15\n",
        "addition = first_num + second_num\n",
        "print(addition)"
      ],
      "execution_count": 6,
      "outputs": [
        {
          "output_type": "stream",
          "text": [
            "25\n"
          ],
          "name": "stdout"
        }
      ]
    },
    {
      "cell_type": "code",
      "metadata": {
        "colab": {
          "base_uri": "https://localhost:8080/"
        },
        "id": "LM3XoksXKt-j",
        "outputId": "4776bca7-5951-4895-da3b-2100052ea127"
      },
      "source": [
        "print(type(first_num), type(second_num))\n",
        "print(id(first_num), id(second_num))"
      ],
      "execution_count": 7,
      "outputs": [
        {
          "output_type": "stream",
          "text": [
            "<class 'int'> <class 'int'>\n",
            "94127944059680 94127944059840\n"
          ],
          "name": "stdout"
        }
      ]
    },
    {
      "cell_type": "code",
      "metadata": {
        "id": "lfb9OlsTMZkO"
      },
      "source": [
        "a = 10\n",
        "b = 10"
      ],
      "execution_count": 8,
      "outputs": []
    },
    {
      "cell_type": "code",
      "metadata": {
        "colab": {
          "base_uri": "https://localhost:8080/"
        },
        "id": "dIqHgNayMesP",
        "outputId": "92843eef-4a65-4b25-9203-ad4f1279ad80"
      },
      "source": [
        "print(id(a), id(b))"
      ],
      "execution_count": 9,
      "outputs": [
        {
          "output_type": "stream",
          "text": [
            "94127944059680 94127944059680\n"
          ],
          "name": "stdout"
        }
      ]
    },
    {
      "cell_type": "code",
      "metadata": {
        "colab": {
          "base_uri": "https://localhost:8080/"
        },
        "id": "TllZjKhueGfn",
        "outputId": "78ce6224-3963-47cc-debb-815e4b7d9dc6"
      },
      "source": [
        "num1 = 100\n",
        "num1 = 105\n",
        "print(id(num1))"
      ],
      "execution_count": 10,
      "outputs": [
        {
          "output_type": "stream",
          "text": [
            "94127944062720\n"
          ],
          "name": "stdout"
        }
      ]
    },
    {
      "cell_type": "code",
      "metadata": {
        "colab": {
          "base_uri": "https://localhost:8080/"
        },
        "id": "NSi_FyUievdg",
        "outputId": "1358316c-9dd1-4f8c-bf4a-f57221b833b6"
      },
      "source": [
        "s = \"python\"\n",
        "print(id(s))\n",
        "print(s, type(s))\n",
        "\n",
        "s = \"new value\"\n",
        "print(id(s))\n",
        "print(s, type(s))"
      ],
      "execution_count": 11,
      "outputs": [
        {
          "output_type": "stream",
          "text": [
            "140689568614448\n",
            "python <class 'str'>\n",
            "140688877112048\n",
            "new value <class 'str'>\n"
          ],
          "name": "stdout"
        }
      ]
    },
    {
      "cell_type": "markdown",
      "metadata": {
        "id": "Ee2hL_WndinO"
      },
      "source": [
        "### **DataTypes**"
      ]
    },
    {
      "cell_type": "code",
      "metadata": {
        "colab": {
          "base_uri": "https://localhost:8080/"
        },
        "id": "Zlo9R6jXddqg",
        "outputId": "bf8049c4-5601-44af-f305-4a449a17bea9"
      },
      "source": [
        "# List (mutable)\n",
        "\n",
        "l = [10, 20, 30, 40, 50, \"Python\", \"Django\"]\n",
        "print(l)\n",
        "print(id(l))\n",
        "print('------------------------------------------------')\n",
        "l.append(60)\n",
        "print(l)\n",
        "\n",
        "print(id(l))"
      ],
      "execution_count": 19,
      "outputs": [
        {
          "output_type": "stream",
          "text": [
            "[10, 20, 30, 40, 50, 'Python', 'Django']\n",
            "140688876769520\n",
            "------------------------------------------------\n",
            "[10, 20, 30, 40, 50, 'Python', 'Django', 60]\n",
            "140688876769520\n"
          ],
          "name": "stdout"
        }
      ]
    },
    {
      "cell_type": "code",
      "metadata": {
        "id": "I9SpRyXvskwr"
      },
      "source": [
        "# tuple       -->  (immutable)\n",
        "# dictionary  -->  (mutable)\n",
        "# Set         -->  (mutable)"
      ],
      "execution_count": 16,
      "outputs": []
    },
    {
      "cell_type": "markdown",
      "metadata": {
        "id": "HDw3dz498eLy"
      },
      "source": [
        "### **Identity Operators**"
      ]
    },
    {
      "cell_type": "code",
      "metadata": {
        "colab": {
          "base_uri": "https://localhost:8080/"
        },
        "id": "hE9GHaAu6kPC",
        "outputId": "b69e0bb5-5190-46a1-f9ae-ea6b5c337fff"
      },
      "source": [
        "# python will assign same memory allocation for both variables\n",
        "\n",
        "num1 = 100\n",
        "num2 = 100\n",
        "\n",
        "print(num1 == num2)\n",
        "print(num1 is num2)"
      ],
      "execution_count": 20,
      "outputs": [
        {
          "output_type": "stream",
          "text": [
            "True\n",
            "True\n"
          ],
          "name": "stdout"
        }
      ]
    },
    {
      "cell_type": "code",
      "metadata": {
        "colab": {
          "base_uri": "https://localhost:8080/"
        },
        "id": "s9coVY3-7LS8",
        "outputId": "79c50ab0-a7fc-45f9-bfd8-2e23ea02de23"
      },
      "source": [
        "# List is mutable, assigns different memory allocation\n",
        "\n",
        "l1 = [10, 20, 30]\n",
        "l2 = [10, 20, 30]\n",
        "\n",
        "print(l1 == l2)\n",
        "print(l1 is l2)"
      ],
      "execution_count": 21,
      "outputs": [
        {
          "output_type": "stream",
          "text": [
            "True\n",
            "False\n"
          ],
          "name": "stdout"
        }
      ]
    },
    {
      "cell_type": "markdown",
      "metadata": {
        "id": "M8FAmFhO75QQ"
      },
      "source": [
        "- == operator compares the **values**\n",
        "\n",
        "- **is** operator compares the **memory location**"
      ]
    },
    {
      "cell_type": "markdown",
      "metadata": {
        "id": "htUUucPYVT3_"
      },
      "source": [
        "### **Quiz**"
      ]
    },
    {
      "cell_type": "code",
      "metadata": {
        "colab": {
          "base_uri": "https://localhost:8080/"
        },
        "id": "yzj4y9j-8cMZ",
        "outputId": "620786ef-f3e1-4c3d-9438-6207f493c55a"
      },
      "source": [
        "d,t = lambda p:p*2, lambda p:p*3\n",
        "x=2\n",
        "x=d(x)\n",
        "x=t(x)\n",
        "x=d(x)\n",
        "print(x)"
      ],
      "execution_count": 22,
      "outputs": [
        {
          "output_type": "stream",
          "text": [
            "24\n"
          ],
          "name": "stdout"
        }
      ]
    },
    {
      "cell_type": "code",
      "metadata": {
        "colab": {
          "base_uri": "https://localhost:8080/"
        },
        "id": "awlD_a-SVlDO",
        "outputId": "7abbf4f4-d9a9-48a9-d2a6-24f22280dab3"
      },
      "source": [
        "a =set([1,1,2,3,3,3,4])\n",
        "print(len(a))"
      ],
      "execution_count": 23,
      "outputs": [
        {
          "output_type": "stream",
          "text": [
            "4\n"
          ],
          "name": "stdout"
        }
      ]
    },
    {
      "cell_type": "code",
      "metadata": {
        "colab": {
          "base_uri": "https://localhost:8080/",
          "height": 129
        },
        "id": "xJqSmw6CXqM1",
        "outputId": "eddfe42b-3236-4283-ae2e-f78924059688"
      },
      "source": [
        "class Abc:\n",
        "  def__init__(self,id):\n",
        "    self.id,id = id, 444\n",
        "\n",
        "a = Abc(123)\n",
        "print(a.id)"
      ],
      "execution_count": 24,
      "outputs": [
        {
          "output_type": "error",
          "ename": "SyntaxError",
          "evalue": "ignored",
          "traceback": [
            "\u001b[0;36m  File \u001b[0;32m\"<ipython-input-24-902eb87f1fb6>\"\u001b[0;36m, line \u001b[0;32m2\u001b[0m\n\u001b[0;31m    def__init__(self,id):\u001b[0m\n\u001b[0m                         ^\u001b[0m\n\u001b[0;31mSyntaxError\u001b[0m\u001b[0;31m:\u001b[0m invalid syntax\n"
          ]
        }
      ]
    },
    {
      "cell_type": "code",
      "metadata": {
        "colab": {
          "base_uri": "https://localhost:8080/"
        },
        "id": "WmLi1nTbYYl5",
        "outputId": "bda3a80b-f3c4-4e06-8867-8abcf1f58e7c"
      },
      "source": [
        "a = \"snow storm\"\n",
        "print(a[6:8])"
      ],
      "execution_count": 25,
      "outputs": [
        {
          "output_type": "stream",
          "text": [
            "to\n"
          ],
          "name": "stdout"
        }
      ]
    },
    {
      "cell_type": "code",
      "metadata": {
        "colab": {
          "base_uri": "https://localhost:8080/"
        },
        "id": "9F6aOtQecLqE",
        "outputId": "b4ab0882-0708-44e0-9a89-3fb38cbcdb70"
      },
      "source": [
        "names = [\"Raj\", \"Rajesh\", \"Raju\", \"Rajni\"]\n",
        "print(\"\\n\".join(names))"
      ],
      "execution_count": 28,
      "outputs": [
        {
          "output_type": "stream",
          "text": [
            "Raj\n",
            "Rajesh\n",
            "Raju\n",
            "Rajni\n"
          ],
          "name": "stdout"
        }
      ]
    }
  ]
}