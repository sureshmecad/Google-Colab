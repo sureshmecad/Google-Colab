{
  "nbformat": 4,
  "nbformat_minor": 0,
  "metadata": {
    "colab": {
      "name": "5_for_continue.ipynb",
      "provenance": [],
      "collapsed_sections": [],
      "authorship_tag": "ABX9TyO6tpH09U8NtRX1gWm1yGJC",
      "include_colab_link": true
    },
    "kernelspec": {
      "name": "python3",
      "display_name": "Python 3"
    },
    "language_info": {
      "name": "python"
    }
  },
  "cells": [
    {
      "cell_type": "markdown",
      "metadata": {
        "id": "view-in-github",
        "colab_type": "text"
      },
      "source": [
        "<a href=\"https://colab.research.google.com/github/sureshmecad/Google-Colab/blob/master/5_for_continue.ipynb\" target=\"_parent\"><img src=\"https://colab.research.google.com/assets/colab-badge.svg\" alt=\"Open In Colab\"/></a>"
      ]
    },
    {
      "cell_type": "code",
      "metadata": {
        "colab": {
          "base_uri": "https://localhost:8080/"
        },
        "id": "ayG4mo6PGRXe",
        "outputId": "9dd28dd9-1710-48d8-958f-9db8cce8ff0f"
      },
      "source": [
        "CityList = ['Hyderabad', 'Vizag', 'Bangalore', 'Chennai']\n",
        "\n",
        "for city in CityList:\n",
        "  if city == \"Bangalore\":\n",
        "    continue\n",
        "  print(city)"
      ],
      "execution_count": 1,
      "outputs": [
        {
          "output_type": "stream",
          "name": "stdout",
          "text": [
            "Hyderabad\n",
            "Vizag\n",
            "Chennai\n"
          ]
        }
      ]
    },
    {
      "cell_type": "markdown",
      "metadata": {
        "id": "UbZwy1IlGnaU"
      },
      "source": [
        "## **Print square of numbers between 1 to 5 EXCEPT even numbers**"
      ]
    },
    {
      "cell_type": "code",
      "metadata": {
        "colab": {
          "base_uri": "https://localhost:8080/"
        },
        "id": "20WwJJsEGztz",
        "outputId": "e8eda9d8-e919-461d-9acb-83946ef61d09"
      },
      "source": [
        "for i in range(1,6):\n",
        "  if i%2 == 0:\n",
        "    continue\n",
        "  print(i*i)"
      ],
      "execution_count": 2,
      "outputs": [
        {
          "output_type": "stream",
          "name": "stdout",
          "text": [
            "1\n",
            "9\n",
            "25\n"
          ]
        }
      ]
    }
  ]
}