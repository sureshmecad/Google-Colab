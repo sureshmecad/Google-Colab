{
  "nbformat": 4,
  "nbformat_minor": 0,
  "metadata": {
    "colab": {
      "name": "10.Ensemble Learning and Ensemble Learning Techniques.ipynb",
      "provenance": [],
      "authorship_tag": "ABX9TyPLjVB16K6LcfP608gBnUBG",
      "include_colab_link": true
    },
    "kernelspec": {
      "name": "python3",
      "display_name": "Python 3"
    }
  },
  "cells": [
    {
      "cell_type": "markdown",
      "metadata": {
        "id": "view-in-github",
        "colab_type": "text"
      },
      "source": [
        "<a href=\"https://colab.research.google.com/github/sureshmecad/Google-Colab/blob/master/10_Ensemble_Learning_and_Ensemble_Learning_Techniques.ipynb\" target=\"_parent\"><img src=\"https://colab.research.google.com/assets/colab-badge.svg\" alt=\"Open In Colab\"/></a>"
      ]
    },
    {
      "cell_type": "markdown",
      "metadata": {
        "id": "BT6plh2Pu3su"
      },
      "source": [
        "### Ensemble Learning and Ensemble Learning Techniques --- Analytics Vidhya"
      ]
    },
    {
      "cell_type": "markdown",
      "metadata": {
        "id": "3k-JocitLeIt"
      },
      "source": [
        "- If a data point is incorrectly predicted by the first model, and then the next(probably all models), will combining the predictions provide better results? Such situations are taken care of by boosting.\n",
        "\n",
        "- We have seen that boosting is a sequential process, where each subsequent model attempts to correct the errors of the previous model. The succeeding models are dependant on the previous model.\n",
        "\n",
        "- "
      ]
    },
    {
      "cell_type": "code",
      "metadata": {
        "id": "nn-uYGI2uVGg"
      },
      "source": [
        ""
      ],
      "execution_count": null,
      "outputs": []
    }
  ]
}