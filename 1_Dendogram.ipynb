{
  "nbformat": 4,
  "nbformat_minor": 0,
  "metadata": {
    "colab": {
      "name": "1_Dendogram.ipynb",
      "provenance": [],
      "collapsed_sections": [],
      "authorship_tag": "ABX9TyMzU2IocLZIcd8O+Wc9d1VW",
      "include_colab_link": true
    },
    "kernelspec": {
      "name": "python3",
      "display_name": "Python 3"
    },
    "language_info": {
      "name": "python"
    }
  },
  "cells": [
    {
      "cell_type": "markdown",
      "metadata": {
        "id": "view-in-github",
        "colab_type": "text"
      },
      "source": [
        "<a href=\"https://colab.research.google.com/github/sureshmecad/Google-Colab/blob/master/1_Dendogram.ipynb\" target=\"_parent\"><img src=\"https://colab.research.google.com/assets/colab-badge.svg\" alt=\"Open In Colab\"/></a>"
      ]
    },
    {
      "cell_type": "markdown",
      "metadata": {
        "id": "Q8ksvJ-fScDX"
      },
      "source": [
        "- https://towardsdatascience.com/hierarchical-clustering-in-python-using-dendrogram-and-cophenetic-correlation-8d41a08f7eab"
      ]
    },
    {
      "cell_type": "markdown",
      "metadata": {
        "id": "tMw-HtQxSdd2"
      },
      "source": [
        "---------------"
      ]
    },
    {
      "cell_type": "code",
      "metadata": {
        "id": "2N-SGhf1RE1j"
      },
      "source": [
        "# Python program to plot the hierarchical clustering dendrogram using SciPy\n",
        "  \n",
        "# Import the python libraries\n",
        "import numpy as np\n",
        "from scipy.cluster import hierarchy\n",
        "import matplotlib.pyplot as plt"
      ],
      "execution_count": 1,
      "outputs": []
    },
    {
      "cell_type": "code",
      "metadata": {
        "colab": {
          "base_uri": "https://localhost:8080/"
        },
        "id": "v8z88WMWRc2W",
        "outputId": "2054e1dd-ede2-4607-e8a3-0f7edc4c24ba"
      },
      "source": [
        "# Create an array\n",
        "x = np.array([100., 200., 300., 400., 500., 250.,\n",
        "              450., 280., 450., 750.])\n",
        "x"
      ],
      "execution_count": 2,
      "outputs": [
        {
          "output_type": "execute_result",
          "data": {
            "text/plain": [
              "array([100., 200., 300., 400., 500., 250., 450., 280., 450., 750.])"
            ]
          },
          "metadata": {},
          "execution_count": 2
        }
      ]
    },
    {
      "cell_type": "markdown",
      "metadata": {
        "id": "kWM9If_VRuTM"
      },
      "source": [
        "#### **Normal Dendrogram**"
      ]
    },
    {
      "cell_type": "code",
      "metadata": {
        "colab": {
          "base_uri": "https://localhost:8080/",
          "height": 267
        },
        "id": "6dIdd9HARct_",
        "outputId": "9a7d3904-8da4-451e-ed8f-327c9b00c386"
      },
      "source": [
        "# Plot the hierarchical clustering as a dendrogram.\n",
        "temp = hierarchy.linkage(x, 'single')\n",
        "plt.figure()\n",
        "  \n",
        "dn = hierarchy.dendrogram(temp, above_threshold_color=\"green\", color_threshold=.7)"
      ],
      "execution_count": 3,
      "outputs": [
        {
          "output_type": "display_data",
          "data": {
            "image/png": "[encoded data removed]",
            "text/plain": [
              "<Figure size 432x288 with 1 Axes>"
            ]
          },
          "metadata": {
            "needs_background": "light"
          }
        }
      ]
    },
    {
      "cell_type": "markdown",
      "metadata": {
        "id": "5LwQ89ubRwmt"
      },
      "source": [
        "#### **Dendrogram using horizontal orientation**"
      ]
    },
    {
      "cell_type": "code",
      "metadata": {
        "colab": {
          "base_uri": "https://localhost:8080/",
          "height": 264
        },
        "id": "8f_s-EBER0zO",
        "outputId": "7b9a101a-66a3-47d1-dee3-d8745e036697"
      },
      "source": [
        "# Plot the hierarchical clustering as a dendrogram.\n",
        "temp = hierarchy.linkage(x, 'single')\n",
        "plt.figure()\n",
        "dn = hierarchy.dendrogram(temp, above_threshold_color=\"green\", color_threshold=.7, orientation='right')"
      ],
      "execution_count": 4,
      "outputs": [
        {
          "output_type": "display_data",
          "data": {
            "image/png": "[encoded data removed]",
            "text/plain": [
              "<Figure size 432x288 with 1 Axes>"
            ]
          },
          "metadata": {
            "needs_background": "light"
          }
        }
      ]
    }
  ]
}