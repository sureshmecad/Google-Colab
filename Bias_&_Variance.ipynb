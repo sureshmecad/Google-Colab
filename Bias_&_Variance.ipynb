{
  "nbformat": 4,
  "nbformat_minor": 0,
  "metadata": {
    "colab": {
      "name": "Bias & Variance.ipynb",
      "provenance": [],
      "authorship_tag": "ABX9TyMGVY/bU0wOrssFCNulVRgK",
      "include_colab_link": true
    },
    "kernelspec": {
      "name": "python3",
      "display_name": "Python 3"
    }
  },
  "cells": [
    {
      "cell_type": "markdown",
      "metadata": {
        "id": "view-in-github",
        "colab_type": "text"
      },
      "source": [
        "<a href=\"https://colab.research.google.com/github/sureshmecad/Google-Colab/blob/master/Bias_%26_Variance.ipynb\" target=\"_parent\"><img src=\"https://colab.research.google.com/assets/colab-badge.svg\" alt=\"Open In Colab\"/></a>"
      ]
    },
    {
      "cell_type": "markdown",
      "metadata": {
        "id": "kluOKSAKE_R3"
      },
      "source": [
        "- Examples of **low-bias & high-variance** machine learning algorithms include:\n",
        "   \n",
        "   Decision Trees\n",
        "\n",
        "   k-Nearest Neighbors\n",
        "\n",
        "   Support Vector Machines\n",
        "\n",
        "- Examples of **high-bias & low-variance** machine learning algorithms include:\n",
        "   \n",
        "   Linear Regression\n",
        "\n",
        "   Linear Discriminant Analysis\n",
        "\n",
        "   Logistic Regression."
      ]
    },
    {
      "cell_type": "markdown",
      "metadata": {
        "id": "qMK0NnSzG6Up"
      },
      "source": [
        "### Bias-Variance Trade-Off\n",
        "- The goal of any supervised machine learning algorithm is to achieve low bias and low variance. In turn the algorithm should achieve good prediction performance.\n",
        "\n",
        "You can see a general trend in the examples above:\n",
        "\n",
        "- **Linear** machine learning algorithms often have a high bias but a low variance.\n",
        "\n",
        "- **Nonlinear** machine learning algorithms often have a low bias but a high variance.\n",
        "\n",
        "The parameterization of machine learning algorithms is often a battle to balance out bias and variance.\n",
        "\n",
        "Below are two examples of configuring the bias-variance trade-off for specific algorithms:\n",
        "\n",
        "- The k-nearest neighbors algorithm has low bias and high variance, but the trade-off can be changed by increasing the value of k which increases the number of neighbors that contribute t the prediction and in turn increases the bias of the model.\n",
        "\n",
        "- The support vector machine algorithm has low bias and high variance, but the trade-off can be changed by increasing the C parameter that influences the number of violations of the margin allowed in the training data which increases the bias but decreases the variance.\n",
        "\n",
        "There is no escaping the relationship between bias and variance in machine learning.\n",
        "\n",
        "- Increasing the bias will decrease the variance.\n",
        "- Increasing the variance will decrease the bias."
      ]
    },
    {
      "cell_type": "code",
      "metadata": {
        "id": "6yChPuhVzPh9"
      },
      "source": [
        ""
      ],
      "execution_count": null,
      "outputs": []
    }
  ]
}