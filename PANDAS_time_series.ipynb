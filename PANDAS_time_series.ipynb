{
  "nbformat": 4,
  "nbformat_minor": 0,
  "metadata": {
    "colab": {
      "name": "PANDAS time series.ipynb",
      "provenance": [],
      "authorship_tag": "ABX9TyN5zjaefycTCutruNnPFGdR",
      "include_colab_link": true
    },
    "kernelspec": {
      "name": "python3",
      "display_name": "Python 3"
    }
  },
  "cells": [
    {
      "cell_type": "markdown",
      "metadata": {
        "id": "view-in-github",
        "colab_type": "text"
      },
      "source": [
        "<a href=\"https://colab.research.google.com/github/sureshmecad/Google-Colab/blob/master/PANDAS_time_series.ipynb\" target=\"_parent\"><img src=\"https://colab.research.google.com/assets/colab-badge.svg\" alt=\"Open In Colab\"/></a>"
      ]
    },
    {
      "cell_type": "markdown",
      "metadata": {
        "id": "u-vNijm1jP6L"
      },
      "source": [
        "https://towardsdatascience.com/getting-started-with-pandas-time-series-functionality-c10b6ee733a4"
      ]
    },
    {
      "cell_type": "markdown",
      "metadata": {
        "id": "KQUGKYEvkJvm"
      },
      "source": [
        "### Getting started with Pandas time-series functionality"
      ]
    },
    {
      "cell_type": "markdown",
      "metadata": {
        "id": "t4oNlKSwkOe-"
      },
      "source": [
        "### 1. Parsing timeseries data automatically\n",
        "- Pandas can automatically parse columns in a dataset into time-series data, without requiring you to specify any regex patterns."
      ]
    },
    {
      "cell_type": "code",
      "metadata": {
        "id": "2Q3l0g5ijNPL"
      },
      "source": [
        ""
      ],
      "execution_count": null,
      "outputs": []
    }
  ]
}