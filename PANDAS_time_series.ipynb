{
  "nbformat": 4,
  "nbformat_minor": 0,
  "metadata": {
    "colab": {
      "name": "PANDAS time series.ipynb",
      "provenance": [],
      "authorship_tag": "ABX9TyNfjrY15T7+QtmcNTYhH+EK",
      "include_colab_link": true
    },
    "kernelspec": {
      "name": "python3",
      "display_name": "Python 3"
    }
  },
  "cells": [
    {
      "cell_type": "markdown",
      "metadata": {
        "id": "view-in-github",
        "colab_type": "text"
      },
      "source": [
        "<a href=\"https://colab.research.google.com/github/sureshmecad/Google-Colab/blob/master/PANDAS_time_series.ipynb\" target=\"_parent\"><img src=\"https://colab.research.google.com/assets/colab-badge.svg\" alt=\"Open In Colab\"/></a>"
      ]
    },
    {
      "cell_type": "markdown",
      "metadata": {
        "id": "u-vNijm1jP6L"
      },
      "source": [
        "https://towardsdatascience.com/getting-started-with-pandas-time-series-functionality-c10b6ee733a4"
      ]
    },
    {
      "cell_type": "markdown",
      "metadata": {
        "id": "KQUGKYEvkJvm"
      },
      "source": [
        "### Getting started with Pandas time-series functionality"
      ]
    },
    {
      "cell_type": "markdown",
      "metadata": {
        "id": "t4oNlKSwkOe-"
      },
      "source": [
        "### 1. Parsing timeseries data automatically\n",
        "- Pandas can automatically parse columns in a dataset into time-series data, without requiring you to specify any regex patterns.\n",
        "\n",
        "- To instruct Pandas to convert the values, use the **parse_dates** argument when loading the data.\n",
        "\n",
        "- Note: the **parse_dates** argument is available in all of Pandas data **loading functions, including read_csv**."
      ]
    },
    {
      "cell_type": "markdown",
      "metadata": {
        "id": "vWrOt2MCpjdU"
      },
      "source": [
        "### 1.1 Loading Data"
      ]
    },
    {
      "cell_type": "code",
      "metadata": {
        "id": "2Q3l0g5ijNPL",
        "outputId": "7398b562-0c8f-4c6f-b284-97cde76bd8ec",
        "colab": {
          "base_uri": "https://localhost:8080/",
          "height": 204
        }
      },
      "source": [
        "import pandas as pd\n",
        "df = pd.read_csv('http://bit.ly/30iosS6')\n",
        "df.head()"
      ],
      "execution_count": 1,
      "outputs": [
        {
          "output_type": "execute_result",
          "data": {
            "text/html": [
              "<div>\n",
              "<style scoped>\n",
              "    .dataframe tbody tr th:only-of-type {\n",
              "        vertical-align: middle;\n",
              "    }\n",
              "\n",
              "    .dataframe tbody tr th {\n",
              "        vertical-align: top;\n",
              "    }\n",
              "\n",
              "    .dataframe thead th {\n",
              "        text-align: right;\n",
              "    }\n",
              "</style>\n",
              "<table border=\"1\" class=\"dataframe\">\n",
              "  <thead>\n",
              "    <tr style=\"text-align: right;\">\n",
              "      <th></th>\n",
              "      <th>dau</th>\n",
              "      <th>date</th>\n",
              "    </tr>\n",
              "  </thead>\n",
              "  <tbody>\n",
              "    <tr>\n",
              "      <th>0</th>\n",
              "      <td>672</td>\n",
              "      <td>2019-01-01</td>\n",
              "    </tr>\n",
              "    <tr>\n",
              "      <th>1</th>\n",
              "      <td>705</td>\n",
              "      <td>2019-01-02</td>\n",
              "    </tr>\n",
              "    <tr>\n",
              "      <th>2</th>\n",
              "      <td>538</td>\n",
              "      <td>2019-01-03</td>\n",
              "    </tr>\n",
              "    <tr>\n",
              "      <th>3</th>\n",
              "      <td>745</td>\n",
              "      <td>2019-01-04</td>\n",
              "    </tr>\n",
              "    <tr>\n",
              "      <th>4</th>\n",
              "      <td>514</td>\n",
              "      <td>2019-01-05</td>\n",
              "    </tr>\n",
              "  </tbody>\n",
              "</table>\n",
              "</div>"
            ],
            "text/plain": [
              "   dau        date\n",
              "0  672  2019-01-01\n",
              "1  705  2019-01-02\n",
              "2  538  2019-01-03\n",
              "3  745  2019-01-04\n",
              "4  514  2019-01-05"
            ]
          },
          "metadata": {
            "tags": []
          },
          "execution_count": 1
        }
      ]
    },
    {
      "cell_type": "code",
      "metadata": {
        "id": "LDRHDX0Lm83e",
        "outputId": "dccf2741-ef8e-485c-9e37-7d0562a30fb3",
        "colab": {
          "base_uri": "https://localhost:8080/",
          "height": 34
        }
      },
      "source": [
        "df.shape"
      ],
      "execution_count": 2,
      "outputs": [
        {
          "output_type": "execute_result",
          "data": {
            "text/plain": [
              "(360, 2)"
            ]
          },
          "metadata": {
            "tags": []
          },
          "execution_count": 2
        }
      ]
    },
    {
      "cell_type": "code",
      "metadata": {
        "id": "KmeAPuZUnArp",
        "outputId": "df6a0997-b412-4e23-9514-ece589ba1274",
        "colab": {
          "base_uri": "https://localhost:8080/",
          "height": 170
        }
      },
      "source": [
        "df.info()"
      ],
      "execution_count": 3,
      "outputs": [
        {
          "output_type": "stream",
          "text": [
            "<class 'pandas.core.frame.DataFrame'>\n",
            "RangeIndex: 360 entries, 0 to 359\n",
            "Data columns (total 2 columns):\n",
            " #   Column  Non-Null Count  Dtype \n",
            "---  ------  --------------  ----- \n",
            " 0   dau     360 non-null    int64 \n",
            " 1   date    360 non-null    object\n",
            "dtypes: int64(1), object(1)\n",
            "memory usage: 5.8+ KB\n"
          ],
          "name": "stdout"
        }
      ]
    },
    {
      "cell_type": "markdown",
      "metadata": {
        "id": "7vz0xIPtnXez"
      },
      "source": [
        "### 1.2. parse_dates"
      ]
    },
    {
      "cell_type": "code",
      "metadata": {
        "id": "vJD0nzK0mnoz",
        "outputId": "efee9c4d-45b5-45d8-bb3a-b7ffe29234e2",
        "colab": {
          "base_uri": "https://localhost:8080/",
          "height": 204
        }
      },
      "source": [
        "data = pd.read_csv('http://bit.ly/30iosS6', parse_dates=['date'])\n",
        "data.head()"
      ],
      "execution_count": 4,
      "outputs": [
        {
          "output_type": "execute_result",
          "data": {
            "text/html": [
              "<div>\n",
              "<style scoped>\n",
              "    .dataframe tbody tr th:only-of-type {\n",
              "        vertical-align: middle;\n",
              "    }\n",
              "\n",
              "    .dataframe tbody tr th {\n",
              "        vertical-align: top;\n",
              "    }\n",
              "\n",
              "    .dataframe thead th {\n",
              "        text-align: right;\n",
              "    }\n",
              "</style>\n",
              "<table border=\"1\" class=\"dataframe\">\n",
              "  <thead>\n",
              "    <tr style=\"text-align: right;\">\n",
              "      <th></th>\n",
              "      <th>dau</th>\n",
              "      <th>date</th>\n",
              "    </tr>\n",
              "  </thead>\n",
              "  <tbody>\n",
              "    <tr>\n",
              "      <th>0</th>\n",
              "      <td>672</td>\n",
              "      <td>2019-01-01</td>\n",
              "    </tr>\n",
              "    <tr>\n",
              "      <th>1</th>\n",
              "      <td>705</td>\n",
              "      <td>2019-01-02</td>\n",
              "    </tr>\n",
              "    <tr>\n",
              "      <th>2</th>\n",
              "      <td>538</td>\n",
              "      <td>2019-01-03</td>\n",
              "    </tr>\n",
              "    <tr>\n",
              "      <th>3</th>\n",
              "      <td>745</td>\n",
              "      <td>2019-01-04</td>\n",
              "    </tr>\n",
              "    <tr>\n",
              "      <th>4</th>\n",
              "      <td>514</td>\n",
              "      <td>2019-01-05</td>\n",
              "    </tr>\n",
              "  </tbody>\n",
              "</table>\n",
              "</div>"
            ],
            "text/plain": [
              "   dau       date\n",
              "0  672 2019-01-01\n",
              "1  705 2019-01-02\n",
              "2  538 2019-01-03\n",
              "3  745 2019-01-04\n",
              "4  514 2019-01-05"
            ]
          },
          "metadata": {
            "tags": []
          },
          "execution_count": 4
        }
      ]
    },
    {
      "cell_type": "code",
      "metadata": {
        "id": "FB97bzYVmnsR",
        "outputId": "b2696f40-83f9-46d6-988a-b5be16c84ed4",
        "colab": {
          "base_uri": "https://localhost:8080/",
          "height": 170
        }
      },
      "source": [
        "data.info()"
      ],
      "execution_count": 5,
      "outputs": [
        {
          "output_type": "stream",
          "text": [
            "<class 'pandas.core.frame.DataFrame'>\n",
            "RangeIndex: 360 entries, 0 to 359\n",
            "Data columns (total 2 columns):\n",
            " #   Column  Non-Null Count  Dtype         \n",
            "---  ------  --------------  -----         \n",
            " 0   dau     360 non-null    int64         \n",
            " 1   date    360 non-null    datetime64[ns]\n",
            "dtypes: datetime64[ns](1), int64(1)\n",
            "memory usage: 5.8 KB\n"
          ],
          "name": "stdout"
        }
      ]
    },
    {
      "cell_type": "markdown",
      "metadata": {
        "id": "pw-tuF18nqTm"
      },
      "source": [
        "- Notice how the **Dtype** of the column **date** is **datetime64[ns]**. You can now use all of Pandas’ special datetime methods on the date column."
      ]
    },
    {
      "cell_type": "code",
      "metadata": {
        "id": "10HkTVmtno7V",
        "outputId": "13aa1554-4e34-4d34-f953-d7e996c170a5",
        "colab": {
          "base_uri": "https://localhost:8080/",
          "height": 221
        }
      },
      "source": [
        "data.date.dt.day_name()"
      ],
      "execution_count": 7,
      "outputs": [
        {
          "output_type": "execute_result",
          "data": {
            "text/plain": [
              "0        Tuesday\n",
              "1      Wednesday\n",
              "2       Thursday\n",
              "3         Friday\n",
              "4       Saturday\n",
              "         ...    \n",
              "355       Sunday\n",
              "356       Monday\n",
              "357      Tuesday\n",
              "358    Wednesday\n",
              "359     Thursday\n",
              "Name: date, Length: 360, dtype: object"
            ]
          },
          "metadata": {
            "tags": []
          },
          "execution_count": 7
        }
      ]
    },
    {
      "cell_type": "markdown",
      "metadata": {
        "id": "Qqe5fkKHoF7u"
      },
      "source": [
        "### 2. Filtering timestamp indexes\n",
        "- Pandas provides convenient filtering methods for a DataFrame when its index is a datetime type."
      ]
    },
    {
      "cell_type": "markdown",
      "metadata": {
        "id": "rirm12B3qZaG"
      },
      "source": [
        "### 2.1 set_index"
      ]
    },
    {
      "cell_type": "code",
      "metadata": {
        "id": "Wo7ckETeno_O",
        "outputId": "b7f3e7ca-e16f-4aef-cece-31aa83ff857e",
        "colab": {
          "base_uri": "https://localhost:8080/",
          "height": 153
        }
      },
      "source": [
        "data.set_index('date', inplace=True)\n",
        "data.index"
      ],
      "execution_count": 8,
      "outputs": [
        {
          "output_type": "execute_result",
          "data": {
            "text/plain": [
              "DatetimeIndex(['2019-01-01', '2019-01-02', '2019-01-03', '2019-01-04',\n",
              "               '2019-01-05', '2019-01-06', '2019-01-07', '2019-01-08',\n",
              "               '2019-01-09', '2019-01-10',\n",
              "               ...\n",
              "               '2019-12-17', '2019-12-18', '2019-12-19', '2019-12-20',\n",
              "               '2019-12-21', '2019-12-22', '2019-12-23', '2019-12-24',\n",
              "               '2019-12-25', '2019-12-26'],\n",
              "              dtype='datetime64[ns]', name='date', length=360, freq=None)"
            ]
          },
          "metadata": {
            "tags": []
          },
          "execution_count": 8
        }
      ]
    },
    {
      "cell_type": "code",
      "metadata": {
        "id": "gwmUesrVqLlT",
        "outputId": "81fecb96-2a6e-4a25-ddd4-a44b46912322",
        "colab": {
          "base_uri": "https://localhost:8080/",
          "height": 235
        }
      },
      "source": [
        "data.head()"
      ],
      "execution_count": 10,
      "outputs": [
        {
          "output_type": "execute_result",
          "data": {
            "text/html": [
              "<div>\n",
              "<style scoped>\n",
              "    .dataframe tbody tr th:only-of-type {\n",
              "        vertical-align: middle;\n",
              "    }\n",
              "\n",
              "    .dataframe tbody tr th {\n",
              "        vertical-align: top;\n",
              "    }\n",
              "\n",
              "    .dataframe thead th {\n",
              "        text-align: right;\n",
              "    }\n",
              "</style>\n",
              "<table border=\"1\" class=\"dataframe\">\n",
              "  <thead>\n",
              "    <tr style=\"text-align: right;\">\n",
              "      <th></th>\n",
              "      <th>dau</th>\n",
              "    </tr>\n",
              "    <tr>\n",
              "      <th>date</th>\n",
              "      <th></th>\n",
              "    </tr>\n",
              "  </thead>\n",
              "  <tbody>\n",
              "    <tr>\n",
              "      <th>2019-01-01</th>\n",
              "      <td>672</td>\n",
              "    </tr>\n",
              "    <tr>\n",
              "      <th>2019-01-02</th>\n",
              "      <td>705</td>\n",
              "    </tr>\n",
              "    <tr>\n",
              "      <th>2019-01-03</th>\n",
              "      <td>538</td>\n",
              "    </tr>\n",
              "    <tr>\n",
              "      <th>2019-01-04</th>\n",
              "      <td>745</td>\n",
              "    </tr>\n",
              "    <tr>\n",
              "      <th>2019-01-05</th>\n",
              "      <td>514</td>\n",
              "    </tr>\n",
              "  </tbody>\n",
              "</table>\n",
              "</div>"
            ],
            "text/plain": [
              "            dau\n",
              "date           \n",
              "2019-01-01  672\n",
              "2019-01-02  705\n",
              "2019-01-03  538\n",
              "2019-01-04  745\n",
              "2019-01-05  514"
            ]
          },
          "metadata": {
            "tags": []
          },
          "execution_count": 10
        }
      ]
    },
    {
      "cell_type": "markdown",
      "metadata": {
        "id": "npJ5HMIxqCan"
      },
      "source": [
        "### 2.2 Specific Date\n",
        "- For example, you can select a specific date by passing a string to the DataFrame’s loc accessor."
      ]
    },
    {
      "cell_type": "code",
      "metadata": {
        "id": "zhyKKMeCnpDU",
        "outputId": "729abbdc-5d52-4a47-93bd-2852989ee81e",
        "colab": {
          "base_uri": "https://localhost:8080/",
          "height": 51
        }
      },
      "source": [
        "data.loc['2019-02-01']"
      ],
      "execution_count": 9,
      "outputs": [
        {
          "output_type": "execute_result",
          "data": {
            "text/plain": [
              "dau    554\n",
              "Name: 2019-02-01 00:00:00, dtype: int64"
            ]
          },
          "metadata": {
            "tags": []
          },
          "execution_count": 9
        }
      ]
    },
    {
      "cell_type": "markdown",
      "metadata": {
        "id": "4xgefJXcqsnX"
      },
      "source": [
        "### 2.3 Range of Date\n",
        "- You can also use strings to select ranges of data, ie to slice the DataFrame."
      ]
    },
    {
      "cell_type": "code",
      "metadata": {
        "id": "Hisj5SCHqqiI",
        "outputId": "849a1e62-18bb-426c-eeac-cf93d94bbe78",
        "colab": {
          "base_uri": "https://localhost:8080/",
          "height": 979
        }
      },
      "source": [
        "data.loc['2019-02-01':'2019-03-01']"
      ],
      "execution_count": 11,
      "outputs": [
        {
          "output_type": "execute_result",
          "data": {
            "text/html": [
              "<div>\n",
              "<style scoped>\n",
              "    .dataframe tbody tr th:only-of-type {\n",
              "        vertical-align: middle;\n",
              "    }\n",
              "\n",
              "    .dataframe tbody tr th {\n",
              "        vertical-align: top;\n",
              "    }\n",
              "\n",
              "    .dataframe thead th {\n",
              "        text-align: right;\n",
              "    }\n",
              "</style>\n",
              "<table border=\"1\" class=\"dataframe\">\n",
              "  <thead>\n",
              "    <tr style=\"text-align: right;\">\n",
              "      <th></th>\n",
              "      <th>dau</th>\n",
              "    </tr>\n",
              "    <tr>\n",
              "      <th>date</th>\n",
              "      <th></th>\n",
              "    </tr>\n",
              "  </thead>\n",
              "  <tbody>\n",
              "    <tr>\n",
              "      <th>2019-02-01</th>\n",
              "      <td>554</td>\n",
              "    </tr>\n",
              "    <tr>\n",
              "      <th>2019-02-02</th>\n",
              "      <td>798</td>\n",
              "    </tr>\n",
              "    <tr>\n",
              "      <th>2019-02-03</th>\n",
              "      <td>783</td>\n",
              "    </tr>\n",
              "    <tr>\n",
              "      <th>2019-02-04</th>\n",
              "      <td>541</td>\n",
              "    </tr>\n",
              "    <tr>\n",
              "      <th>2019-02-05</th>\n",
              "      <td>564</td>\n",
              "    </tr>\n",
              "    <tr>\n",
              "      <th>2019-02-06</th>\n",
              "      <td>779</td>\n",
              "    </tr>\n",
              "    <tr>\n",
              "      <th>2019-02-07</th>\n",
              "      <td>669</td>\n",
              "    </tr>\n",
              "    <tr>\n",
              "      <th>2019-02-08</th>\n",
              "      <td>718</td>\n",
              "    </tr>\n",
              "    <tr>\n",
              "      <th>2019-02-09</th>\n",
              "      <td>681</td>\n",
              "    </tr>\n",
              "    <tr>\n",
              "      <th>2019-02-10</th>\n",
              "      <td>740</td>\n",
              "    </tr>\n",
              "    <tr>\n",
              "      <th>2019-02-11</th>\n",
              "      <td>768</td>\n",
              "    </tr>\n",
              "    <tr>\n",
              "      <th>2019-02-12</th>\n",
              "      <td>622</td>\n",
              "    </tr>\n",
              "    <tr>\n",
              "      <th>2019-02-13</th>\n",
              "      <td>546</td>\n",
              "    </tr>\n",
              "    <tr>\n",
              "      <th>2019-02-14</th>\n",
              "      <td>798</td>\n",
              "    </tr>\n",
              "    <tr>\n",
              "      <th>2019-02-15</th>\n",
              "      <td>712</td>\n",
              "    </tr>\n",
              "    <tr>\n",
              "      <th>2019-02-16</th>\n",
              "      <td>781</td>\n",
              "    </tr>\n",
              "    <tr>\n",
              "      <th>2019-02-17</th>\n",
              "      <td>513</td>\n",
              "    </tr>\n",
              "    <tr>\n",
              "      <th>2019-02-18</th>\n",
              "      <td>794</td>\n",
              "    </tr>\n",
              "    <tr>\n",
              "      <th>2019-02-19</th>\n",
              "      <td>640</td>\n",
              "    </tr>\n",
              "    <tr>\n",
              "      <th>2019-02-20</th>\n",
              "      <td>784</td>\n",
              "    </tr>\n",
              "    <tr>\n",
              "      <th>2019-02-21</th>\n",
              "      <td>609</td>\n",
              "    </tr>\n",
              "    <tr>\n",
              "      <th>2019-02-22</th>\n",
              "      <td>789</td>\n",
              "    </tr>\n",
              "    <tr>\n",
              "      <th>2019-02-23</th>\n",
              "      <td>609</td>\n",
              "    </tr>\n",
              "    <tr>\n",
              "      <th>2019-02-24</th>\n",
              "      <td>713</td>\n",
              "    </tr>\n",
              "    <tr>\n",
              "      <th>2019-02-25</th>\n",
              "      <td>741</td>\n",
              "    </tr>\n",
              "    <tr>\n",
              "      <th>2019-02-26</th>\n",
              "      <td>572</td>\n",
              "    </tr>\n",
              "    <tr>\n",
              "      <th>2019-02-27</th>\n",
              "      <td>707</td>\n",
              "    </tr>\n",
              "    <tr>\n",
              "      <th>2019-02-28</th>\n",
              "      <td>569</td>\n",
              "    </tr>\n",
              "    <tr>\n",
              "      <th>2019-03-01</th>\n",
              "      <td>599</td>\n",
              "    </tr>\n",
              "  </tbody>\n",
              "</table>\n",
              "</div>"
            ],
            "text/plain": [
              "            dau\n",
              "date           \n",
              "2019-02-01  554\n",
              "2019-02-02  798\n",
              "2019-02-03  783\n",
              "2019-02-04  541\n",
              "2019-02-05  564\n",
              "2019-02-06  779\n",
              "2019-02-07  669\n",
              "2019-02-08  718\n",
              "2019-02-09  681\n",
              "2019-02-10  740\n",
              "2019-02-11  768\n",
              "2019-02-12  622\n",
              "2019-02-13  546\n",
              "2019-02-14  798\n",
              "2019-02-15  712\n",
              "2019-02-16  781\n",
              "2019-02-17  513\n",
              "2019-02-18  794\n",
              "2019-02-19  640\n",
              "2019-02-20  784\n",
              "2019-02-21  609\n",
              "2019-02-22  789\n",
              "2019-02-23  609\n",
              "2019-02-24  713\n",
              "2019-02-25  741\n",
              "2019-02-26  572\n",
              "2019-02-27  707\n",
              "2019-02-28  569\n",
              "2019-03-01  599"
            ]
          },
          "metadata": {
            "tags": []
          },
          "execution_count": 11
        }
      ]
    },
    {
      "cell_type": "markdown",
      "metadata": {
        "id": "84piNZEQrIjw"
      },
      "source": [
        "- Notice that the index is inclusive of the last value. We used 2019-03-01 as the end of the range we selected, so the row labelled2019–03–01 is included in the resulting DataFrame."
      ]
    },
    {
      "cell_type": "markdown",
      "metadata": {
        "id": "rG4MvGoArMur"
      },
      "source": [
        "### 2.4 Specific Range\n",
        "- You can even pass in partial strings to select data for a specific range."
      ]
    },
    {
      "cell_type": "code",
      "metadata": {
        "id": "T1vuE9o7qqmY",
        "outputId": "e2a0cf27-b635-4811-b907-d7f2ca7135f5",
        "colab": {
          "base_uri": "https://localhost:8080/",
          "height": 1000
        }
      },
      "source": [
        "data.loc['2019-03']"
      ],
      "execution_count": 12,
      "outputs": [
        {
          "output_type": "execute_result",
          "data": {
            "text/html": [
              "<div>\n",
              "<style scoped>\n",
              "    .dataframe tbody tr th:only-of-type {\n",
              "        vertical-align: middle;\n",
              "    }\n",
              "\n",
              "    .dataframe tbody tr th {\n",
              "        vertical-align: top;\n",
              "    }\n",
              "\n",
              "    .dataframe thead th {\n",
              "        text-align: right;\n",
              "    }\n",
              "</style>\n",
              "<table border=\"1\" class=\"dataframe\">\n",
              "  <thead>\n",
              "    <tr style=\"text-align: right;\">\n",
              "      <th></th>\n",
              "      <th>dau</th>\n",
              "    </tr>\n",
              "    <tr>\n",
              "      <th>date</th>\n",
              "      <th></th>\n",
              "    </tr>\n",
              "  </thead>\n",
              "  <tbody>\n",
              "    <tr>\n",
              "      <th>2019-03-01</th>\n",
              "      <td>599</td>\n",
              "    </tr>\n",
              "    <tr>\n",
              "      <th>2019-03-02</th>\n",
              "      <td>724</td>\n",
              "    </tr>\n",
              "    <tr>\n",
              "      <th>2019-03-03</th>\n",
              "      <td>521</td>\n",
              "    </tr>\n",
              "    <tr>\n",
              "      <th>2019-03-04</th>\n",
              "      <td>544</td>\n",
              "    </tr>\n",
              "    <tr>\n",
              "      <th>2019-03-05</th>\n",
              "      <td>650</td>\n",
              "    </tr>\n",
              "    <tr>\n",
              "      <th>2019-03-06</th>\n",
              "      <td>798</td>\n",
              "    </tr>\n",
              "    <tr>\n",
              "      <th>2019-03-07</th>\n",
              "      <td>650</td>\n",
              "    </tr>\n",
              "    <tr>\n",
              "      <th>2019-03-08</th>\n",
              "      <td>524</td>\n",
              "    </tr>\n",
              "    <tr>\n",
              "      <th>2019-03-09</th>\n",
              "      <td>696</td>\n",
              "    </tr>\n",
              "    <tr>\n",
              "      <th>2019-03-10</th>\n",
              "      <td>633</td>\n",
              "    </tr>\n",
              "    <tr>\n",
              "      <th>2019-03-11</th>\n",
              "      <td>716</td>\n",
              "    </tr>\n",
              "    <tr>\n",
              "      <th>2019-03-12</th>\n",
              "      <td>553</td>\n",
              "    </tr>\n",
              "    <tr>\n",
              "      <th>2019-03-13</th>\n",
              "      <td>685</td>\n",
              "    </tr>\n",
              "    <tr>\n",
              "      <th>2019-03-14</th>\n",
              "      <td>670</td>\n",
              "    </tr>\n",
              "    <tr>\n",
              "      <th>2019-03-15</th>\n",
              "      <td>663</td>\n",
              "    </tr>\n",
              "    <tr>\n",
              "      <th>2019-03-16</th>\n",
              "      <td>732</td>\n",
              "    </tr>\n",
              "    <tr>\n",
              "      <th>2019-03-17</th>\n",
              "      <td>535</td>\n",
              "    </tr>\n",
              "    <tr>\n",
              "      <th>2019-03-18</th>\n",
              "      <td>740</td>\n",
              "    </tr>\n",
              "    <tr>\n",
              "      <th>2019-03-19</th>\n",
              "      <td>650</td>\n",
              "    </tr>\n",
              "    <tr>\n",
              "      <th>2019-03-20</th>\n",
              "      <td>770</td>\n",
              "    </tr>\n",
              "    <tr>\n",
              "      <th>2019-03-21</th>\n",
              "      <td>774</td>\n",
              "    </tr>\n",
              "    <tr>\n",
              "      <th>2019-03-22</th>\n",
              "      <td>601</td>\n",
              "    </tr>\n",
              "    <tr>\n",
              "      <th>2019-03-23</th>\n",
              "      <td>550</td>\n",
              "    </tr>\n",
              "    <tr>\n",
              "      <th>2019-03-24</th>\n",
              "      <td>721</td>\n",
              "    </tr>\n",
              "    <tr>\n",
              "      <th>2019-03-25</th>\n",
              "      <td>753</td>\n",
              "    </tr>\n",
              "    <tr>\n",
              "      <th>2019-03-26</th>\n",
              "      <td>523</td>\n",
              "    </tr>\n",
              "    <tr>\n",
              "      <th>2019-03-27</th>\n",
              "      <td>670</td>\n",
              "    </tr>\n",
              "    <tr>\n",
              "      <th>2019-03-28</th>\n",
              "      <td>659</td>\n",
              "    </tr>\n",
              "    <tr>\n",
              "      <th>2019-03-29</th>\n",
              "      <td>604</td>\n",
              "    </tr>\n",
              "    <tr>\n",
              "      <th>2019-03-30</th>\n",
              "      <td>724</td>\n",
              "    </tr>\n",
              "    <tr>\n",
              "      <th>2019-03-31</th>\n",
              "      <td>638</td>\n",
              "    </tr>\n",
              "  </tbody>\n",
              "</table>\n",
              "</div>"
            ],
            "text/plain": [
              "            dau\n",
              "date           \n",
              "2019-03-01  599\n",
              "2019-03-02  724\n",
              "2019-03-03  521\n",
              "2019-03-04  544\n",
              "2019-03-05  650\n",
              "2019-03-06  798\n",
              "2019-03-07  650\n",
              "2019-03-08  524\n",
              "2019-03-09  696\n",
              "2019-03-10  633\n",
              "2019-03-11  716\n",
              "2019-03-12  553\n",
              "2019-03-13  685\n",
              "2019-03-14  670\n",
              "2019-03-15  663\n",
              "2019-03-16  732\n",
              "2019-03-17  535\n",
              "2019-03-18  740\n",
              "2019-03-19  650\n",
              "2019-03-20  770\n",
              "2019-03-21  774\n",
              "2019-03-22  601\n",
              "2019-03-23  550\n",
              "2019-03-24  721\n",
              "2019-03-25  753\n",
              "2019-03-26  523\n",
              "2019-03-27  670\n",
              "2019-03-28  659\n",
              "2019-03-29  604\n",
              "2019-03-30  724\n",
              "2019-03-31  638"
            ]
          },
          "metadata": {
            "tags": []
          },
          "execution_count": 12
        }
      ]
    },
    {
      "cell_type": "markdown",
      "metadata": {
        "id": "aR_XsT3NrhAb"
      },
      "source": [
        "### 3. Quickly plot time-series data"
      ]
    },
    {
      "cell_type": "code",
      "metadata": {
        "id": "YSPMEbREqqqg"
      },
      "source": [
        ""
      ],
      "execution_count": null,
      "outputs": []
    },
    {
      "cell_type": "code",
      "metadata": {
        "id": "V40n42vJqquf"
      },
      "source": [
        ""
      ],
      "execution_count": null,
      "outputs": []
    }
  ]
}