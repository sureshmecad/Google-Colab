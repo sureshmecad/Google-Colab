{
  "nbformat": 4,
  "nbformat_minor": 0,
  "metadata": {
    "colab": {
      "name": "LinkedIn_Questions.ipynb",
      "provenance": [],
      "authorship_tag": "ABX9TyOyO9kV54+xXohvMmILo7FJ",
      "include_colab_link": true
    },
    "kernelspec": {
      "name": "python3",
      "display_name": "Python 3"
    }
  },
  "cells": [
    {
      "cell_type": "markdown",
      "metadata": {
        "id": "view-in-github",
        "colab_type": "text"
      },
      "source": [
        "<a href=\"https://colab.research.google.com/github/sureshmecad/Google-Colab/blob/master/LinkedIn_Questions.ipynb\" target=\"_parent\"><img src=\"https://colab.research.google.com/assets/colab-badge.svg\" alt=\"Open In Colab\"/></a>"
      ]
    },
    {
      "cell_type": "code",
      "metadata": {
        "id": "D_e4zSvVpaZl"
      },
      "source": [
        "import numpy as np"
      ],
      "execution_count": 4,
      "outputs": []
    },
    {
      "cell_type": "code",
      "metadata": {
        "colab": {
          "base_uri": "https://localhost:8080/",
          "height": 135
        },
        "id": "qgpWz3BElJGA",
        "outputId": "ee3e9597-2370-4476-c5d8-29f2a042387d"
      },
      "source": [
        "int a;\r\n",
        "double b;\r\n",
        "float c;\r\n",
        "long d;"
      ],
      "execution_count": 5,
      "outputs": [
        {
          "output_type": "error",
          "ename": "SyntaxError",
          "evalue": "ignored",
          "traceback": [
            "\u001b[0;36m  File \u001b[0;32m\"<ipython-input-5-091f042df6f3>\"\u001b[0;36m, line \u001b[0;32m1\u001b[0m\n\u001b[0;31m    int a;\u001b[0m\n\u001b[0m        ^\u001b[0m\n\u001b[0;31mSyntaxError\u001b[0m\u001b[0;31m:\u001b[0m invalid syntax\n"
          ]
        }
      ]
    },
    {
      "cell_type": "code",
      "metadata": {
        "colab": {
          "base_uri": "https://localhost:8080/",
          "height": 171
        },
        "id": "yjkOqI52lMpy",
        "outputId": "fb807d74-e762-4470-90c8-c89d65a1b7a1"
      },
      "source": [
        "(a + d) * (c + b)"
      ],
      "execution_count": 2,
      "outputs": [
        {
          "output_type": "error",
          "ename": "NameError",
          "evalue": "ignored",
          "traceback": [
            "\u001b[0;31m---------------------------------------------------------------------------\u001b[0m",
            "\u001b[0;31mNameError\u001b[0m                                 Traceback (most recent call last)",
            "\u001b[0;32m<ipython-input-2-b93e3f9687da>\u001b[0m in \u001b[0;36m<module>\u001b[0;34m()\u001b[0m\n\u001b[0;32m----> 1\u001b[0;31m \u001b[0;34m(\u001b[0m\u001b[0ma\u001b[0m \u001b[0;34m+\u001b[0m \u001b[0md\u001b[0m\u001b[0;34m)\u001b[0m \u001b[0;34m*\u001b[0m \u001b[0;34m(\u001b[0m\u001b[0mc\u001b[0m \u001b[0;34m+\u001b[0m \u001b[0mb\u001b[0m\u001b[0;34m)\u001b[0m\u001b[0;34m\u001b[0m\u001b[0;34m\u001b[0m\u001b[0m\n\u001b[0m",
            "\u001b[0;31mNameError\u001b[0m: name 'a' is not defined"
          ]
        }
      ]
    },
    {
      "cell_type": "code",
      "metadata": {
        "colab": {
          "base_uri": "https://localhost:8080/",
          "height": 135
        },
        "id": "Qh9FiKY7lcaS",
        "outputId": "dee8f898-54d8-49e3-acef-72a26fd6a866"
      },
      "source": [
        "class Parent\r\n",
        "{\r\n",
        "       int a=100;\r\n",
        "       public void display()\r\n",
        "       {\r\n",
        "              System.out.println(\"Display in parent A: \"+a);\r\n",
        "       }\r\n",
        "}\r\n",
        "\r\n",
        "class Child extends Parent\r\n",
        "{\r\n",
        "       int b=200;\r\n",
        "\r\n",
        "       public void display()\r\n",
        "       {\r\n",
        "              System.out.println(\"Display in parent B: \"+b);\r\n",
        "       }\r\n",
        "}\r\n",
        "\r\n",
        "public class Main\r\n",
        "{\r\n",
        "       public static void main(String args[])\r\n",
        "       {\r\n",
        "              Parent obj = new Child();\r\n",
        "              obj.display();\r\n",
        "       }\r\n",
        "}"
      ],
      "execution_count": 6,
      "outputs": [
        {
          "output_type": "error",
          "ename": "SyntaxError",
          "evalue": "ignored",
          "traceback": [
            "\u001b[0;36m  File \u001b[0;32m\"<ipython-input-6-af023ba4eb00>\"\u001b[0;36m, line \u001b[0;32m1\u001b[0m\n\u001b[0;31m    class Parent\u001b[0m\n\u001b[0m                ^\u001b[0m\n\u001b[0;31mSyntaxError\u001b[0m\u001b[0;31m:\u001b[0m invalid syntax\n"
          ]
        }
      ]
    },
    {
      "cell_type": "code",
      "metadata": {
        "colab": {
          "base_uri": "https://localhost:8080/"
        },
        "id": "Pgtm8zPE2glA",
        "outputId": "eb58c09a-120e-49c8-d272-ad2d134576fa"
      },
      "source": [
        "x=10\r\n",
        "def func():\r\n",
        "  global x\r\n",
        "  x+=30\r\n",
        "  print(x)\r\n",
        "func()\r\n",
        "print(x) "
      ],
      "execution_count": 15,
      "outputs": [
        {
          "output_type": "stream",
          "text": [
            "40\n",
            "40\n"
          ],
          "name": "stdout"
        }
      ]
    },
    {
      "cell_type": "code",
      "metadata": {
        "colab": {
          "base_uri": "https://localhost:8080/"
        },
        "id": "JkwHTlhi3BlK",
        "outputId": "4eeccdf3-d900-44dd-f476-5855de98a558"
      },
      "source": [
        "a = [1, 1,1]\r\n",
        "b = [4, 5, 6]\r\n",
        "c = a + b\r\n",
        "print(len(c))"
      ],
      "execution_count": 16,
      "outputs": [
        {
          "output_type": "stream",
          "text": [
            "6\n"
          ],
          "name": "stdout"
        }
      ]
    },
    {
      "cell_type": "code",
      "metadata": {
        "colab": {
          "base_uri": "https://localhost:8080/"
        },
        "id": "MNyn6jVb3LQM",
        "outputId": "1b331a29-996f-470f-dcab-4270bd912a9d"
      },
      "source": [
        "def my_func(i, j, k):\r\n",
        "  a, b, *c = range(i, j, k)\r\n",
        "  return a, b, c\r\n",
        "\r\n",
        "\r\n",
        "i, j, k = 6, 11, 2\r\n",
        "\r\n",
        "if __name__ == \"__main__\": \r\n",
        "  a, b, c = my_func(i, j, k)\r\n",
        "  print(a, b, c)"
      ],
      "execution_count": 17,
      "outputs": [
        {
          "output_type": "stream",
          "text": [
            "6 8 [10]\n"
          ],
          "name": "stdout"
        }
      ]
    },
    {
      "cell_type": "code",
      "metadata": {
        "colab": {
          "base_uri": "https://localhost:8080/"
        },
        "id": "PFnvw2SI3LTs",
        "outputId": "6e1f286c-1f10-4434-d81a-6c65e23ac4f0"
      },
      "source": [
        "print(0.1+0.2==0.3)"
      ],
      "execution_count": 18,
      "outputs": [
        {
          "output_type": "stream",
          "text": [
            "False\n"
          ],
          "name": "stdout"
        }
      ]
    },
    {
      "cell_type": "code",
      "metadata": {
        "colab": {
          "base_uri": "https://localhost:8080/",
          "height": 135
        },
        "id": "T0SKHgYB3LXc",
        "outputId": "c8461a73-7330-44f0-ec85-5afb07600727"
      },
      "source": [
        "if True or True:\r\n",
        "  if False and True or False:\r\n",
        "    print('A')\r\n",
        "  elif False and False or True and True:\r\n",
        "    print('B') \r\n",
        "  else:\r\n",
        "   print('C') \r\n",
        "else:\r\n",
        "   print('D')"
      ],
      "execution_count": 27,
      "outputs": [
        {
          "output_type": "error",
          "ename": "SyntaxError",
          "evalue": "ignored",
          "traceback": [
            "\u001b[0;36m  File \u001b[0;32m\"<ipython-input-27-8e35effeb519>\"\u001b[0;36m, line \u001b[0;32m6\u001b[0m\n\u001b[0;31m    else:\u001b[0m\n\u001b[0m    ^\u001b[0m\n\u001b[0;31mSyntaxError\u001b[0m\u001b[0;31m:\u001b[0m invalid character in identifier\n"
          ]
        }
      ]
    },
    {
      "cell_type": "code",
      "metadata": {
        "colab": {
          "base_uri": "https://localhost:8080/",
          "height": 135
        },
        "id": "LX9F46C54SdQ",
        "outputId": "c4fc3475-f50a-4d50-ffb2-33715ca51de6"
      },
      "source": [
        "def t ( a, b=10):\r\n",
        " print(a ,b) \r\n",
        "t(3) "
      ],
      "execution_count": 28,
      "outputs": [
        {
          "output_type": "error",
          "ename": "SyntaxError",
          "evalue": "ignored",
          "traceback": [
            "\u001b[0;36m  File \u001b[0;32m\"<ipython-input-28-715e1f7cfeb1>\"\u001b[0;36m, line \u001b[0;32m2\u001b[0m\n\u001b[0;31m    print(a ,b)\u001b[0m\n\u001b[0m        ^\u001b[0m\n\u001b[0;31mSyntaxError\u001b[0m\u001b[0;31m:\u001b[0m invalid character in identifier\n"
          ]
        }
      ]
    }
  ]
}