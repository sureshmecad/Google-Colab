{
  "nbformat": 4,
  "nbformat_minor": 0,
  "metadata": {
    "colab": {
      "name": "2_Rename-Column-Rows names to dataframe.ipynb",
      "provenance": [],
      "collapsed_sections": [],
      "authorship_tag": "ABX9TyMWhx2Tp3RWSnv8sYL0Aims",
      "include_colab_link": true
    },
    "kernelspec": {
      "name": "python3",
      "display_name": "Python 3"
    },
    "language_info": {
      "name": "python"
    }
  },
  "cells": [
    {
      "cell_type": "markdown",
      "metadata": {
        "id": "view-in-github",
        "colab_type": "text"
      },
      "source": [
        "<a href=\"https://colab.research.google.com/github/sureshmecad/Google-Colab/blob/master/2_Rename_Column_Rows_names_to_dataframe.ipynb\" target=\"_parent\"><img src=\"https://colab.research.google.com/assets/colab-badge.svg\" alt=\"Open In Colab\"/></a>"
      ]
    },
    {
      "cell_type": "markdown",
      "metadata": {
        "id": "TvAJpsIhbJt9"
      },
      "source": [
        "- https://note.nkmk.me/en/python-pandas-dataframe-rename/"
      ]
    },
    {
      "cell_type": "markdown",
      "metadata": {
        "id": "pJIgBTX0bL2q"
      },
      "source": [
        "-------------"
      ]
    },
    {
      "cell_type": "code",
      "metadata": {
        "id": "Vji5uep9WxuB"
      },
      "source": [
        "import pandas as pd"
      ],
      "execution_count": 1,
      "outputs": []
    },
    {
      "cell_type": "code",
      "metadata": {
        "colab": {
          "base_uri": "https://localhost:8080/"
        },
        "id": "ARwHsgVNXvIL",
        "outputId": "05f603fc-658f-4326-c1a6-71991d255e6b"
      },
      "source": [
        "df = pd.DataFrame({'A': [11, 21, 31],\n",
        "                   'B': [12, 22, 32],\n",
        "                   'C': [13, 23, 33]},\n",
        "                  index=['ONE', 'TWO', 'THREE'])\n",
        "\n",
        "print(df)"
      ],
      "execution_count": 2,
      "outputs": [
        {
          "output_type": "stream",
          "text": [
            "        A   B   C\n",
            "ONE    11  12  13\n",
            "TWO    21  22  23\n",
            "THREE  31  32  33\n"
          ],
          "name": "stdout"
        }
      ]
    },
    {
      "cell_type": "markdown",
      "metadata": {
        "id": "ROhleUcXX8bI"
      },
      "source": [
        "#### **Rename column / index name (label)): rename()**"
      ]
    },
    {
      "cell_type": "code",
      "metadata": {
        "colab": {
          "base_uri": "https://localhost:8080/"
        },
        "id": "bgNN0FFRX_vo",
        "outputId": "f52110ed-78b5-41c8-ea49-092214939fbd"
      },
      "source": [
        "df_new = df.rename(columns={'A': 'Col_1'}, index={'ONE': 'Row_1'})\n",
        "print(df_new)"
      ],
      "execution_count": 3,
      "outputs": [
        {
          "output_type": "stream",
          "text": [
            "       Col_1   B   C\n",
            "Row_1     11  12  13\n",
            "TWO       21  22  23\n",
            "THREE     31  32  33\n"
          ],
          "name": "stdout"
        }
      ]
    },
    {
      "cell_type": "markdown",
      "metadata": {
        "id": "FIzt4CowYSrw"
      },
      "source": [
        "#### **Change multiple names (labels)**"
      ]
    },
    {
      "cell_type": "code",
      "metadata": {
        "colab": {
          "base_uri": "https://localhost:8080/"
        },
        "id": "GjPyJHcYYVBf",
        "outputId": "62fe983c-6f6b-40d6-99a8-8a876ec4867b"
      },
      "source": [
        "print(df.rename(columns={'A': 'Col_1', 'C': 'Col_3'}))"
      ],
      "execution_count": 4,
      "outputs": [
        {
          "output_type": "stream",
          "text": [
            "       Col_1   B  Col_3\n",
            "ONE       11  12     13\n",
            "TWO       21  22     23\n",
            "THREE     31  32     33\n"
          ],
          "name": "stdout"
        }
      ]
    },
    {
      "cell_type": "markdown",
      "metadata": {
        "id": "UAcAyJLWYfIY"
      },
      "source": [
        "#### **Update the original object: inplace**"
      ]
    },
    {
      "cell_type": "code",
      "metadata": {
        "colab": {
          "base_uri": "https://localhost:8080/"
        },
        "id": "iJVcIh6pYiOg",
        "outputId": "972beaa6-d1bd-4d7a-f630-dddaffe41833"
      },
      "source": [
        "df_copy = df.copy()\n",
        "df_copy.rename(columns={'A': 'Col_1'}, index={'ONE': 'Row_1'}, inplace=True)\n",
        "print(df_copy)"
      ],
      "execution_count": 5,
      "outputs": [
        {
          "output_type": "stream",
          "text": [
            "       Col_1   B   C\n",
            "Row_1     11  12  13\n",
            "TWO       21  22  23\n",
            "THREE     31  32  33\n"
          ],
          "name": "stdout"
        }
      ]
    },
    {
      "cell_type": "markdown",
      "metadata": {
        "id": "XJyADnqoY-ER"
      },
      "source": [
        "#### **Rename with functions or lambda expressions**"
      ]
    },
    {
      "cell_type": "code",
      "metadata": {
        "colab": {
          "base_uri": "https://localhost:8080/"
        },
        "id": "ypRDPtcxZAVA",
        "outputId": "2f23a2e1-2709-4f67-9107-806a4a1e3016"
      },
      "source": [
        "print(df.rename(columns=str.lower, index=str.title))"
      ],
      "execution_count": 6,
      "outputs": [
        {
          "output_type": "stream",
          "text": [
            "        a   b   c\n",
            "One    11  12  13\n",
            "Two    21  22  23\n",
            "Three  31  32  33\n"
          ],
          "name": "stdout"
        }
      ]
    },
    {
      "cell_type": "code",
      "metadata": {
        "colab": {
          "base_uri": "https://localhost:8080/"
        },
        "id": "79E2puqMZKQh",
        "outputId": "40bb7001-6fd0-4c58-e91e-92edcdf27c83"
      },
      "source": [
        "print(df.rename(columns=lambda s: s*3, index=lambda s: s + '!!'))"
      ],
      "execution_count": 7,
      "outputs": [
        {
          "output_type": "stream",
          "text": [
            "         AAA  BBB  CCC\n",
            "ONE!!     11   12   13\n",
            "TWO!!     21   22   23\n",
            "THREE!!   31   32   33\n"
          ],
          "name": "stdout"
        }
      ]
    },
    {
      "cell_type": "markdown",
      "metadata": {
        "id": "V-FoW3mgZPbC"
      },
      "source": [
        "#### **Add prefix / suffix to columns: add_prefix(), add_suffix()**"
      ]
    },
    {
      "cell_type": "code",
      "metadata": {
        "colab": {
          "base_uri": "https://localhost:8080/"
        },
        "id": "JpOXvJNKZR1B",
        "outputId": "86577134-c5c1-4f16-d5f6-a4354a8c8ffe"
      },
      "source": [
        "print(df.add_prefix('X_'))"
      ],
      "execution_count": 8,
      "outputs": [
        {
          "output_type": "stream",
          "text": [
            "       X_A  X_B  X_C\n",
            "ONE     11   12   13\n",
            "TWO     21   22   23\n",
            "THREE   31   32   33\n"
          ],
          "name": "stdout"
        }
      ]
    },
    {
      "cell_type": "code",
      "metadata": {
        "colab": {
          "base_uri": "https://localhost:8080/"
        },
        "id": "L0c_rTANZbAx",
        "outputId": "f90f4df0-7d66-4890-94fc-def6c4145d62"
      },
      "source": [
        "print(df.add_suffix('_X'))"
      ],
      "execution_count": 9,
      "outputs": [
        {
          "output_type": "stream",
          "text": [
            "       A_X  B_X  C_X\n",
            "ONE     11   12   13\n",
            "TWO     21   22   23\n",
            "THREE   31   32   33\n"
          ],
          "name": "stdout"
        }
      ]
    },
    {
      "cell_type": "markdown",
      "metadata": {
        "id": "Ycqd2QeeZmML"
      },
      "source": [
        "### **Rename all names (labels)**"
      ]
    },
    {
      "cell_type": "markdown",
      "metadata": {
        "id": "eckMBbvKZy9F"
      },
      "source": [
        "- You can change all **column / index** names by **set_axis()** method of pandas.DataFrame\n",
        "\n",
        "- Setting the parameter **axis to 0 or 'index'** updates index, and setting it to **1 or columns** updates columns"
      ]
    },
    {
      "cell_type": "code",
      "metadata": {
        "colab": {
          "base_uri": "https://localhost:8080/"
        },
        "id": "PGPP0Bz_ZpSD",
        "outputId": "9cd85ea0-ca93-4102-9555-1a39d1fc55cd"
      },
      "source": [
        "print(df.set_axis(['Row_1', 'Row_2', 'Row_3'], axis=0))"
      ],
      "execution_count": 10,
      "outputs": [
        {
          "output_type": "stream",
          "text": [
            "        A   B   C\n",
            "Row_1  11  12  13\n",
            "Row_2  21  22  23\n",
            "Row_3  31  32  33\n"
          ],
          "name": "stdout"
        }
      ]
    },
    {
      "cell_type": "code",
      "metadata": {
        "colab": {
          "base_uri": "https://localhost:8080/"
        },
        "id": "sVr36qztZ_nl",
        "outputId": "fe27b218-fa3b-4667-d2f0-631f6888d141"
      },
      "source": [
        "print(df.set_axis(['Row_1', 'Row_2', 'Row_3'], axis='index'))"
      ],
      "execution_count": 11,
      "outputs": [
        {
          "output_type": "stream",
          "text": [
            "        A   B   C\n",
            "Row_1  11  12  13\n",
            "Row_2  21  22  23\n",
            "Row_3  31  32  33\n"
          ],
          "name": "stdout"
        }
      ]
    },
    {
      "cell_type": "code",
      "metadata": {
        "colab": {
          "base_uri": "https://localhost:8080/"
        },
        "id": "msSzIrhbaXW7",
        "outputId": "a4435188-7a26-4fb0-c9f9-6fc13b0c34bf"
      },
      "source": [
        "print(df.set_axis(['Col_1', 'Col_2', 'Col_3'], axis=1))"
      ],
      "execution_count": 12,
      "outputs": [
        {
          "output_type": "stream",
          "text": [
            "       Col_1  Col_2  Col_3\n",
            "ONE       11     12     13\n",
            "TWO       21     22     23\n",
            "THREE     31     32     33\n"
          ],
          "name": "stdout"
        }
      ]
    },
    {
      "cell_type": "code",
      "metadata": {
        "colab": {
          "base_uri": "https://localhost:8080/"
        },
        "id": "JogW_w_-aehk",
        "outputId": "5023db33-5d93-43a1-eece-5419c509984f"
      },
      "source": [
        "print(df.set_axis(['Col_1', 'Col_2', 'Col_3'], axis='columns'))"
      ],
      "execution_count": 13,
      "outputs": [
        {
          "output_type": "stream",
          "text": [
            "       Col_1  Col_2  Col_3\n",
            "ONE       11     12     13\n",
            "TWO       21     22     23\n",
            "THREE     31     32     33\n"
          ],
          "name": "stdout"
        }
      ]
    },
    {
      "cell_type": "code",
      "metadata": {
        "colab": {
          "base_uri": "https://localhost:8080/"
        },
        "id": "5mBEUselajJc",
        "outputId": "b8bf8a3b-2def-4c4a-ee15-276b2a258ac1"
      },
      "source": [
        "print(df.set_axis(['Row_1', 'Row_2', 'Row_3']))"
      ],
      "execution_count": 14,
      "outputs": [
        {
          "output_type": "stream",
          "text": [
            "        A   B   C\n",
            "Row_1  11  12  13\n",
            "Row_2  21  22  23\n",
            "Row_3  31  32  33\n"
          ],
          "name": "stdout"
        }
      ]
    },
    {
      "cell_type": "code",
      "metadata": {
        "colab": {
          "base_uri": "https://localhost:8080/"
        },
        "id": "wpskvCOFayEX",
        "outputId": "900042bf-8152-4a0c-c100-9ff4daaca882"
      },
      "source": [
        "df_copy = df.copy()\n",
        "df_copy.set_axis(['Row_1', 'Row_2', 'Row_3'], inplace=True)\n",
        "print(df_copy)"
      ],
      "execution_count": 15,
      "outputs": [
        {
          "output_type": "stream",
          "text": [
            "        A   B   C\n",
            "Row_1  11  12  13\n",
            "Row_2  21  22  23\n",
            "Row_3  31  32  33\n"
          ],
          "name": "stdout"
        }
      ]
    },
    {
      "cell_type": "markdown",
      "metadata": {
        "id": "MQdSQTJNa3f4"
      },
      "source": [
        "#### **Update the columns / index attributes of pandas.DataFrame**"
      ]
    },
    {
      "cell_type": "code",
      "metadata": {
        "colab": {
          "base_uri": "https://localhost:8080/"
        },
        "id": "eSK4mknLa5__",
        "outputId": "e4d3b4e2-7296-4737-a3f0-d876e5ff94cb"
      },
      "source": [
        "df.index = ['Row_1', 'Row_2', 'Row_3']\n",
        "df.columns = ['Col_1', 'Col_2', 'Col_3']\n",
        "print(df)"
      ],
      "execution_count": 16,
      "outputs": [
        {
          "output_type": "stream",
          "text": [
            "       Col_1  Col_2  Col_3\n",
            "Row_1     11     12     13\n",
            "Row_2     21     22     23\n",
            "Row_3     31     32     33\n"
          ],
          "name": "stdout"
        }
      ]
    }
  ]
}