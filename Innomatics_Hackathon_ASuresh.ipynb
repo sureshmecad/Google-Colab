{
  "nbformat": 4,
  "nbformat_minor": 0,
  "metadata": {
    "colab": {
      "name": "Innomatics_Hackathon_ASuresh.ipynb",
      "provenance": [],
      "collapsed_sections": [],
      "authorship_tag": "ABX9TyMcgXm4eVzNLKchbha0ISIB",
      "include_colab_link": true
    },
    "kernelspec": {
      "name": "python3",
      "display_name": "Python 3"
    },
    "language_info": {
      "name": "python"
    }
  },
  "cells": [
    {
      "cell_type": "markdown",
      "metadata": {
        "id": "view-in-github",
        "colab_type": "text"
      },
      "source": [
        "<a href=\"https://colab.research.google.com/github/sureshmecad/Google-Colab/blob/master/Innomatics_Hackathon_ASuresh.ipynb\" target=\"_parent\"><img src=\"https://colab.research.google.com/assets/colab-badge.svg\" alt=\"Open In Colab\"/></a>"
      ]
    },
    {
      "cell_type": "code",
      "metadata": {
        "colab": {
          "base_uri": "https://localhost:8080/"
        },
        "id": "fWDmA4WmKPHu",
        "outputId": "0fcf55a2-8b4d-44d4-be96-e24b2bb62a76"
      },
      "source": [
        "from google.colab import drive\n",
        "drive.mount('/content/drive')"
      ],
      "execution_count": 1,
      "outputs": [
        {
          "output_type": "stream",
          "name": "stdout",
          "text": [
            "Drive already mounted at /content/drive; to attempt to forcibly remount, call drive.mount(\"/content/drive\", force_remount=True).\n"
          ]
        }
      ]
    },
    {
      "cell_type": "markdown",
      "metadata": {
        "id": "GimBvi0SMInh"
      },
      "source": [
        "### **1) Import Required Libraries**"
      ]
    },
    {
      "cell_type": "code",
      "metadata": {
        "id": "xXJ8zYdNLky_"
      },
      "source": [
        "# Read Data\n",
        "import numpy as np                     \n",
        "import pandas as pd                    \n",
        "\n",
        "# Visualization\n",
        "import seaborn as sns                  \n",
        "import matplotlib.pyplot as plt        \n",
        "%matplotlib inline\n",
        "\n",
        "# style\n",
        "plt.style.use(\"fivethirtyeight\")       \n",
        "sns.set_style(\"darkgrid\")              \n",
        "\n",
        "import warnings                        \n",
        "warnings.filterwarnings(\"ignore\")"
      ],
      "execution_count": 2,
      "outputs": []
    },
    {
      "cell_type": "code",
      "metadata": {
        "id": "txTtKeAwRNTT"
      },
      "source": [
        "from sklearn.linear_model import LogisticRegression\n",
        "from sklearn import svm\n",
        "from sklearn.svm import SVC\n",
        "from sklearn.tree import DecisionTreeClassifier\n",
        "from sklearn.neighbors import KNeighborsClassifier\n",
        "\n",
        "from sklearn.model_selection import train_test_split\n",
        "from sklearn.preprocessing import StandardScaler\n",
        "from sklearn.metrics import accuracy_score,confusion_matrix, classification_report\n",
        "from sklearn.model_selection import cross_val_score\n",
        "from sklearn.model_selection import RandomizedSearchCV, GridSearchCV"
      ],
      "execution_count": 66,
      "outputs": []
    },
    {
      "cell_type": "markdown",
      "metadata": {
        "id": "0gennaDIMOpK"
      },
      "source": [
        "### **2) Read data**"
      ]
    },
    {
      "cell_type": "code",
      "metadata": {
        "colab": {
          "base_uri": "https://localhost:8080/",
          "height": 202
        },
        "id": "kWlIpJwDLkyB",
        "outputId": "16fe0892-05aa-4869-a9ba-c95cd8412145"
      },
      "source": [
        "df = pd.read_csv(\"/content/drive/MyDrive/Datasets/Innomatics_Hackathon.zip\")\n",
        "df.head()"
      ],
      "execution_count": 4,
      "outputs": [
        {
          "output_type": "execute_result",
          "data": {
            "text/html": [
              "<div>\n",
              "<style scoped>\n",
              "    .dataframe tbody tr th:only-of-type {\n",
              "        vertical-align: middle;\n",
              "    }\n",
              "\n",
              "    .dataframe tbody tr th {\n",
              "        vertical-align: top;\n",
              "    }\n",
              "\n",
              "    .dataframe thead th {\n",
              "        text-align: right;\n",
              "    }\n",
              "</style>\n",
              "<table border=\"1\" class=\"dataframe\">\n",
              "  <thead>\n",
              "    <tr style=\"text-align: right;\">\n",
              "      <th></th>\n",
              "      <th>x1</th>\n",
              "      <th>x2</th>\n",
              "      <th>y</th>\n",
              "    </tr>\n",
              "  </thead>\n",
              "  <tbody>\n",
              "    <tr>\n",
              "      <th>0</th>\n",
              "      <td>-119.366669</td>\n",
              "      <td>115.000000</td>\n",
              "      <td>1</td>\n",
              "    </tr>\n",
              "    <tr>\n",
              "      <th>1</th>\n",
              "      <td>-101.108044</td>\n",
              "      <td>97.777159</td>\n",
              "      <td>1</td>\n",
              "    </tr>\n",
              "    <tr>\n",
              "      <th>2</th>\n",
              "      <td>-130.278658</td>\n",
              "      <td>106.767654</td>\n",
              "      <td>1</td>\n",
              "    </tr>\n",
              "    <tr>\n",
              "      <th>3</th>\n",
              "      <td>-114.703415</td>\n",
              "      <td>101.195477</td>\n",
              "      <td>1</td>\n",
              "    </tr>\n",
              "    <tr>\n",
              "      <th>4</th>\n",
              "      <td>-119.366669</td>\n",
              "      <td>115.000000</td>\n",
              "      <td>1</td>\n",
              "    </tr>\n",
              "  </tbody>\n",
              "</table>\n",
              "</div>"
            ],
            "text/plain": [
              "           x1          x2  y\n",
              "0 -119.366669  115.000000  1\n",
              "1 -101.108044   97.777159  1\n",
              "2 -130.278658  106.767654  1\n",
              "3 -114.703415  101.195477  1\n",
              "4 -119.366669  115.000000  1"
            ]
          },
          "metadata": {},
          "execution_count": 4
        }
      ]
    },
    {
      "cell_type": "code",
      "metadata": {
        "colab": {
          "base_uri": "https://localhost:8080/",
          "height": 202
        },
        "id": "BA-Uih0dL5Zq",
        "outputId": "1a2ea1d2-1309-4ff9-c963-fd3617e4a60f"
      },
      "source": [
        "# last five rows\n",
        "df.tail()"
      ],
      "execution_count": 5,
      "outputs": [
        {
          "output_type": "execute_result",
          "data": {
            "text/html": [
              "<div>\n",
              "<style scoped>\n",
              "    .dataframe tbody tr th:only-of-type {\n",
              "        vertical-align: middle;\n",
              "    }\n",
              "\n",
              "    .dataframe tbody tr th {\n",
              "        vertical-align: top;\n",
              "    }\n",
              "\n",
              "    .dataframe thead th {\n",
              "        text-align: right;\n",
              "    }\n",
              "</style>\n",
              "<table border=\"1\" class=\"dataframe\">\n",
              "  <thead>\n",
              "    <tr style=\"text-align: right;\">\n",
              "      <th></th>\n",
              "      <th>x1</th>\n",
              "      <th>x2</th>\n",
              "      <th>y</th>\n",
              "    </tr>\n",
              "  </thead>\n",
              "  <tbody>\n",
              "    <tr>\n",
              "      <th>2222</th>\n",
              "      <td>98.714112</td>\n",
              "      <td>8.964312e+01</td>\n",
              "      <td>0</td>\n",
              "    </tr>\n",
              "    <tr>\n",
              "      <th>2223</th>\n",
              "      <td>96.633331</td>\n",
              "      <td>9.100000e+01</td>\n",
              "      <td>0</td>\n",
              "    </tr>\n",
              "    <tr>\n",
              "      <th>2224</th>\n",
              "      <td>85.673940</td>\n",
              "      <td>1.038393e+02</td>\n",
              "      <td>0</td>\n",
              "    </tr>\n",
              "    <tr>\n",
              "      <th>2225</th>\n",
              "      <td>78.958862</td>\n",
              "      <td>7.860537e+01</td>\n",
              "      <td>0</td>\n",
              "    </tr>\n",
              "    <tr>\n",
              "      <th>2226</th>\n",
              "      <td>109.624009</td>\n",
              "      <td>1.000000e+08</td>\n",
              "      <td>0</td>\n",
              "    </tr>\n",
              "  </tbody>\n",
              "</table>\n",
              "</div>"
            ],
            "text/plain": [
              "              x1            x2  y\n",
              "2222   98.714112  8.964312e+01  0\n",
              "2223   96.633331  9.100000e+01  0\n",
              "2224   85.673940  1.038393e+02  0\n",
              "2225   78.958862  7.860537e+01  0\n",
              "2226  109.624009  1.000000e+08  0"
            ]
          },
          "metadata": {},
          "execution_count": 5
        }
      ]
    },
    {
      "cell_type": "code",
      "metadata": {
        "colab": {
          "base_uri": "https://localhost:8080/"
        },
        "id": "9gkT1QOPL8g5",
        "outputId": "67794d33-c5d4-4e06-93e8-67ff328eef5b"
      },
      "source": [
        "# size of the dataset\n",
        "df.shape"
      ],
      "execution_count": 6,
      "outputs": [
        {
          "output_type": "execute_result",
          "data": {
            "text/plain": [
              "(2227, 3)"
            ]
          },
          "metadata": {},
          "execution_count": 6
        }
      ]
    },
    {
      "cell_type": "code",
      "metadata": {
        "colab": {
          "base_uri": "https://localhost:8080/"
        },
        "id": "Urtnsy3RME0Z",
        "outputId": "a85f972f-e928-49f6-9442-2f15168e5efe"
      },
      "source": [
        "df.info()"
      ],
      "execution_count": 7,
      "outputs": [
        {
          "output_type": "stream",
          "name": "stdout",
          "text": [
            "<class 'pandas.core.frame.DataFrame'>\n",
            "RangeIndex: 2227 entries, 0 to 2226\n",
            "Data columns (total 3 columns):\n",
            " #   Column  Non-Null Count  Dtype  \n",
            "---  ------  --------------  -----  \n",
            " 0   x1      2222 non-null   float64\n",
            " 1   x2      2224 non-null   float64\n",
            " 2   y       2227 non-null   int64  \n",
            "dtypes: float64(2), int64(1)\n",
            "memory usage: 52.3 KB\n"
          ]
        }
      ]
    },
    {
      "cell_type": "markdown",
      "metadata": {
        "id": "mmxf96nAOFBa"
      },
      "source": [
        "- we have **independant features** of **float type** and **target** as **integer type**"
      ]
    },
    {
      "cell_type": "code",
      "metadata": {
        "colab": {
          "base_uri": "https://localhost:8080/",
          "height": 294
        },
        "id": "CvbJDwpvObxq",
        "outputId": "8502b4c7-3044-4ad1-b0e4-21e338d8dea6"
      },
      "source": [
        "# Descriptive statistics\n",
        "\n",
        "df.describe()"
      ],
      "execution_count": 8,
      "outputs": [
        {
          "output_type": "execute_result",
          "data": {
            "text/html": [
              "<div>\n",
              "<style scoped>\n",
              "    .dataframe tbody tr th:only-of-type {\n",
              "        vertical-align: middle;\n",
              "    }\n",
              "\n",
              "    .dataframe tbody tr th {\n",
              "        vertical-align: top;\n",
              "    }\n",
              "\n",
              "    .dataframe thead th {\n",
              "        text-align: right;\n",
              "    }\n",
              "</style>\n",
              "<table border=\"1\" class=\"dataframe\">\n",
              "  <thead>\n",
              "    <tr style=\"text-align: right;\">\n",
              "      <th></th>\n",
              "      <th>x1</th>\n",
              "      <th>x2</th>\n",
              "      <th>y</th>\n",
              "    </tr>\n",
              "  </thead>\n",
              "  <tbody>\n",
              "    <tr>\n",
              "      <th>count</th>\n",
              "      <td>2222.000000</td>\n",
              "      <td>2.224000e+03</td>\n",
              "      <td>2227.000000</td>\n",
              "    </tr>\n",
              "    <tr>\n",
              "      <th>mean</th>\n",
              "      <td>-4.818766</td>\n",
              "      <td>8.947626e+04</td>\n",
              "      <td>0.442299</td>\n",
              "    </tr>\n",
              "    <tr>\n",
              "      <th>std</th>\n",
              "      <td>74.939909</td>\n",
              "      <td>2.983323e+06</td>\n",
              "      <td>0.496771</td>\n",
              "    </tr>\n",
              "    <tr>\n",
              "      <th>min</th>\n",
              "      <td>-134.369160</td>\n",
              "      <td>-1.348761e+02</td>\n",
              "      <td>0.000000</td>\n",
              "    </tr>\n",
              "    <tr>\n",
              "      <th>25%</th>\n",
              "      <td>-71.757030</td>\n",
              "      <td>-8.012983e+01</td>\n",
              "      <td>0.000000</td>\n",
              "    </tr>\n",
              "    <tr>\n",
              "      <th>50%</th>\n",
              "      <td>-9.836555</td>\n",
              "      <td>-1.046151e+00</td>\n",
              "      <td>0.000000</td>\n",
              "    </tr>\n",
              "    <tr>\n",
              "      <th>75%</th>\n",
              "      <td>59.813962</td>\n",
              "      <td>6.389086e+01</td>\n",
              "      <td>1.000000</td>\n",
              "    </tr>\n",
              "    <tr>\n",
              "      <th>max</th>\n",
              "      <td>134.508687</td>\n",
              "      <td>1.000000e+08</td>\n",
              "      <td>1.000000</td>\n",
              "    </tr>\n",
              "  </tbody>\n",
              "</table>\n",
              "</div>"
            ],
            "text/plain": [
              "                x1            x2            y\n",
              "count  2222.000000  2.224000e+03  2227.000000\n",
              "mean     -4.818766  8.947626e+04     0.442299\n",
              "std      74.939909  2.983323e+06     0.496771\n",
              "min    -134.369160 -1.348761e+02     0.000000\n",
              "25%     -71.757030 -8.012983e+01     0.000000\n",
              "50%      -9.836555 -1.046151e+00     0.000000\n",
              "75%      59.813962  6.389086e+01     1.000000\n",
              "max     134.508687  1.000000e+08     1.000000"
            ]
          },
          "metadata": {},
          "execution_count": 8
        }
      ]
    },
    {
      "cell_type": "code",
      "metadata": {
        "id": "lKmdANQjWw2c"
      },
      "source": [
        "df_original = df.copy()"
      ],
      "execution_count": 9,
      "outputs": []
    },
    {
      "cell_type": "markdown",
      "metadata": {
        "id": "-_0SEGrZMVcR"
      },
      "source": [
        "### **3) EDA (Exploratory Data Analysis)**"
      ]
    },
    {
      "cell_type": "markdown",
      "metadata": {
        "id": "P9ObvTCEMihD"
      },
      "source": [
        "#### **3.1) Target Variable**"
      ]
    },
    {
      "cell_type": "code",
      "metadata": {
        "colab": {
          "base_uri": "https://localhost:8080/"
        },
        "id": "PcXC7muUMbuL",
        "outputId": "d8b9a80b-67ed-4111-bf83-a331ec776acc"
      },
      "source": [
        "df['y'].value_counts()"
      ],
      "execution_count": 10,
      "outputs": [
        {
          "output_type": "execute_result",
          "data": {
            "text/plain": [
              "0    1242\n",
              "1     985\n",
              "Name: y, dtype: int64"
            ]
          },
          "metadata": {},
          "execution_count": 10
        }
      ]
    },
    {
      "cell_type": "code",
      "metadata": {
        "colab": {
          "base_uri": "https://localhost:8080/",
          "height": 393
        },
        "id": "TnZxldWoMrW5",
        "outputId": "2a01875e-b2cd-42a8-8a03-a934f395e5dd"
      },
      "source": [
        "plt.figure(figsize=(7,6))\n",
        "df['y'].value_counts().plot(kind='bar');"
      ],
      "execution_count": 11,
      "outputs": [
        {
          "output_type": "display_data",
          "data": {
            "image/png": "[encoded data removed]",
            "text/plain": [
              "<Figure size 504x432 with 1 Axes>"
            ]
          },
          "metadata": {}
        }
      ]
    },
    {
      "cell_type": "markdown",
      "metadata": {
        "id": "nHwEerFYOoHD"
      },
      "source": [
        "#### **3.2) Data Visualization**"
      ]
    },
    {
      "cell_type": "markdown",
      "metadata": {
        "id": "LPHrMOPjUJds"
      },
      "source": [
        "#### **Univariate Analysis**"
      ]
    },
    {
      "cell_type": "code",
      "metadata": {
        "colab": {
          "base_uri": "https://localhost:8080/",
          "height": 478
        },
        "id": "53sRkwBPSrEy",
        "outputId": "f3e2d916-55e3-4f92-e2a9-ddf2717b68c9"
      },
      "source": [
        "plt.figure(figsize=(9,7))\n",
        "sns.distplot(df['y'], color='g', bins=10, hist_kws={'alpha':0.4});"
      ],
      "execution_count": 12,
      "outputs": [
        {
          "output_type": "display_data",
          "data": {
            "image/png": "[encoded data removed]",
            "text/plain": [
              "<Figure size 648x504 with 1 Axes>"
            ]
          },
          "metadata": {}
        }
      ]
    },
    {
      "cell_type": "code",
      "metadata": {
        "colab": {
          "base_uri": "https://localhost:8080/",
          "height": 483
        },
        "id": "fqWDyyCuSzV6",
        "outputId": "7a951075-0dca-4fab-a98a-222ee66facbc"
      },
      "source": [
        "plt.figure(figsize=(8,7))\n",
        "sns.distplot(df['x1'], color='g', bins=10, hist_kws={'alpha':0.4});"
      ],
      "execution_count": 13,
      "outputs": [
        {
          "output_type": "display_data",
          "data": {
            "image/png": "[encoded data removed]",
            "text/plain": [
              "<Figure size 576x504 with 1 Axes>"
            ]
          },
          "metadata": {}
        }
      ]
    },
    {
      "cell_type": "code",
      "metadata": {
        "colab": {
          "base_uri": "https://localhost:8080/",
          "height": 493
        },
        "id": "mekVx2SPS5iT",
        "outputId": "7c76b2fd-2dcd-4888-af6a-37d284ff3deb"
      },
      "source": [
        "plt.figure(figsize=(9,7))\n",
        "sns.distplot(df['x2'], color='g', bins=10, hist_kws={'alpha':0.4});"
      ],
      "execution_count": 14,
      "outputs": [
        {
          "output_type": "display_data",
          "data": {
            "image/png": "[encoded data removed]",
            "text/plain": [
              "<Figure size 648x504 with 1 Axes>"
            ]
          },
          "metadata": {}
        }
      ]
    },
    {
      "cell_type": "code",
      "metadata": {
        "colab": {
          "base_uri": "https://localhost:8080/",
          "height": 468
        },
        "id": "3YmelDvbQPBq",
        "outputId": "eed01fac-f009-4fc1-fe9f-af89ec03629a"
      },
      "source": [
        "df.hist(figsize=(8,7), bins=20, xlabelsize=6, ylabelsize=6);"
      ],
      "execution_count": 15,
      "outputs": [
        {
          "output_type": "display_data",
          "data": {
            "image/png": "[encoded data removed]",
            "text/plain": [
              "<Figure size 576x504 with 4 Axes>"
            ]
          },
          "metadata": {}
        }
      ]
    },
    {
      "cell_type": "markdown",
      "metadata": {
        "id": "EEzO1_VOUPUB"
      },
      "source": [
        "#### **bivariate analysis**"
      ]
    },
    {
      "cell_type": "code",
      "metadata": {
        "colab": {
          "base_uri": "https://localhost:8080/",
          "height": 573
        },
        "id": "uNeTKiWOOr5L",
        "outputId": "e9037602-3bb3-4e0c-d468-ad47b9b3912a"
      },
      "source": [
        "# Scatter plot between \"x1\" & \"x2\"\n",
        "plt.figure(figsize=(9,8))\n",
        "\n",
        "plt.scatter(df['x1'], df['x2'])\n",
        "\n",
        "plt.xlabel('x1', fontsize=16, fontweight='bold')\n",
        "plt.ylabel('x2', fontsize=16, fontweight='bold')\n",
        "\n",
        "plt.title('x1 Vs x2', fontsize=20, fontweight='bold')\n",
        "\n",
        "plt.xticks(fontsize=12, rotation=45)\n",
        "plt.yticks(fontsize=12)\n",
        "\n",
        "plt.show()"
      ],
      "execution_count": 16,
      "outputs": [
        {
          "output_type": "display_data",
          "data": {
            "image/png": "[encoded data removed]",
            "text/plain": [
              "<Figure size 648x576 with 1 Axes>"
            ]
          },
          "metadata": {}
        }
      ]
    },
    {
      "cell_type": "markdown",
      "metadata": {
        "id": "6l7f6yOPUTnW"
      },
      "source": [
        "#### **Multivariate Analysis**"
      ]
    },
    {
      "cell_type": "code",
      "metadata": {
        "colab": {
          "base_uri": "https://localhost:8080/",
          "height": 581
        },
        "id": "U_OunfuIUYEe",
        "outputId": "397edf27-5934-4d8d-a43e-193b8d9104ee"
      },
      "source": [
        "sns.pairplot(df, hue='y', height=4);"
      ],
      "execution_count": 17,
      "outputs": [
        {
          "output_type": "display_data",
          "data": {
            "image/png": "[encoded data removed]",
            "text/plain": [
              "<Figure size 635.275x576 with 6 Axes>"
            ]
          },
          "metadata": {}
        }
      ]
    },
    {
      "cell_type": "markdown",
      "metadata": {
        "id": "zLiF56M4NCld"
      },
      "source": [
        "### **4) Feature Engineering**"
      ]
    },
    {
      "cell_type": "markdown",
      "metadata": {
        "id": "snVVwjyVNCkK"
      },
      "source": [
        "#### **4.1) Missing Values**"
      ]
    },
    {
      "cell_type": "code",
      "metadata": {
        "colab": {
          "base_uri": "https://localhost:8080/"
        },
        "id": "EQwxF_kwNLS6",
        "outputId": "3020e2af-3966-447b-ad9c-c2c12ab6a419"
      },
      "source": [
        "df.isnull().sum()"
      ],
      "execution_count": 18,
      "outputs": [
        {
          "output_type": "execute_result",
          "data": {
            "text/plain": [
              "x1    5\n",
              "x2    3\n",
              "y     0\n",
              "dtype: int64"
            ]
          },
          "metadata": {},
          "execution_count": 18
        }
      ]
    },
    {
      "cell_type": "markdown",
      "metadata": {
        "id": "T1m1UtfrNo0i"
      },
      "source": [
        "- Missing values in x1 & x2"
      ]
    },
    {
      "cell_type": "code",
      "metadata": {
        "colab": {
          "base_uri": "https://localhost:8080/"
        },
        "id": "t2Y9MdnlWZK8",
        "outputId": "4b49302b-f0e1-400d-c772-5069e2f8c4ae"
      },
      "source": [
        "# Listing Number of missing values by feature column wise\n",
        "total = df.isnull().sum().sort_values(ascending=False)\n",
        "total = total[total > 0]\n",
        "total"
      ],
      "execution_count": 19,
      "outputs": [
        {
          "output_type": "execute_result",
          "data": {
            "text/plain": [
              "x1    5\n",
              "x2    3\n",
              "dtype: int64"
            ]
          },
          "metadata": {},
          "execution_count": 19
        }
      ]
    },
    {
      "cell_type": "code",
      "metadata": {
        "colab": {
          "base_uri": "https://localhost:8080/",
          "height": 110
        },
        "id": "9GvUQ7DVWOXV",
        "outputId": "8464f7db-b6b0-4436-9524-f4787c88cac3"
      },
      "source": [
        "percentage = round(total/len(df)*100, 2)[round(total/len(df)*100, 2) != 0]\n",
        "pd.concat([total, percentage], axis=1, keys=['Total','Percentage'])"
      ],
      "execution_count": 20,
      "outputs": [
        {
          "output_type": "execute_result",
          "data": {
            "text/html": [
              "<div>\n",
              "<style scoped>\n",
              "    .dataframe tbody tr th:only-of-type {\n",
              "        vertical-align: middle;\n",
              "    }\n",
              "\n",
              "    .dataframe tbody tr th {\n",
              "        vertical-align: top;\n",
              "    }\n",
              "\n",
              "    .dataframe thead th {\n",
              "        text-align: right;\n",
              "    }\n",
              "</style>\n",
              "<table border=\"1\" class=\"dataframe\">\n",
              "  <thead>\n",
              "    <tr style=\"text-align: right;\">\n",
              "      <th></th>\n",
              "      <th>Total</th>\n",
              "      <th>Percentage</th>\n",
              "    </tr>\n",
              "  </thead>\n",
              "  <tbody>\n",
              "    <tr>\n",
              "      <th>x1</th>\n",
              "      <td>5</td>\n",
              "      <td>0.22</td>\n",
              "    </tr>\n",
              "    <tr>\n",
              "      <th>x2</th>\n",
              "      <td>3</td>\n",
              "      <td>0.13</td>\n",
              "    </tr>\n",
              "  </tbody>\n",
              "</table>\n",
              "</div>"
            ],
            "text/plain": [
              "    Total  Percentage\n",
              "x1      5        0.22\n",
              "x2      3        0.13"
            ]
          },
          "metadata": {},
          "execution_count": 20
        }
      ]
    },
    {
      "cell_type": "code",
      "metadata": {
        "id": "9TMpLbCgNU1t"
      },
      "source": [
        "# Filling missing values with median\n",
        "\n",
        "df['x1'] = df['x1'].fillna(df['x1'].median())\n",
        "df['x2'] = df['x2'].fillna(df['x2'].median())"
      ],
      "execution_count": 21,
      "outputs": []
    },
    {
      "cell_type": "code",
      "metadata": {
        "colab": {
          "base_uri": "https://localhost:8080/"
        },
        "id": "58G-c0iUNU0y",
        "outputId": "fa769f2c-0a20-4a2f-89ce-f0525fd81b6b"
      },
      "source": [
        "df.isnull().sum()"
      ],
      "execution_count": 22,
      "outputs": [
        {
          "output_type": "execute_result",
          "data": {
            "text/plain": [
              "x1    0\n",
              "x2    0\n",
              "y     0\n",
              "dtype: int64"
            ]
          },
          "metadata": {},
          "execution_count": 22
        }
      ]
    },
    {
      "cell_type": "code",
      "metadata": {
        "colab": {
          "base_uri": "https://localhost:8080/"
        },
        "id": "4JF6JERLN2v5",
        "outputId": "2df037cb-c96d-45b7-ddec-261cace5d7e3"
      },
      "source": [
        "df[df == 0].sum()"
      ],
      "execution_count": 23,
      "outputs": [
        {
          "output_type": "execute_result",
          "data": {
            "text/plain": [
              "x1    0.0\n",
              "x2    0.0\n",
              "y     0.0\n",
              "dtype: float64"
            ]
          },
          "metadata": {},
          "execution_count": 23
        }
      ]
    },
    {
      "cell_type": "markdown",
      "metadata": {
        "id": "7tcz73JtVgb4"
      },
      "source": [
        "#### **4.2) Duplicate rows**"
      ]
    },
    {
      "cell_type": "code",
      "metadata": {
        "colab": {
          "base_uri": "https://localhost:8080/"
        },
        "id": "C3KeQAcJVkKQ",
        "outputId": "39772324-a68b-4bbf-ca9f-f4285a91e9f8"
      },
      "source": [
        "df.duplicated().value_counts()"
      ],
      "execution_count": 24,
      "outputs": [
        {
          "output_type": "execute_result",
          "data": {
            "text/plain": [
              "False    2211\n",
              "True       16\n",
              "dtype: int64"
            ]
          },
          "metadata": {},
          "execution_count": 24
        }
      ]
    },
    {
      "cell_type": "code",
      "metadata": {
        "colab": {
          "base_uri": "https://localhost:8080/",
          "height": 538
        },
        "id": "uUQf4syRVkmr",
        "outputId": "388f3b0b-66c1-43f4-e23c-4589fdba8fae"
      },
      "source": [
        "df[df.duplicated()]"
      ],
      "execution_count": 25,
      "outputs": [
        {
          "output_type": "execute_result",
          "data": {
            "text/html": [
              "<div>\n",
              "<style scoped>\n",
              "    .dataframe tbody tr th:only-of-type {\n",
              "        vertical-align: middle;\n",
              "    }\n",
              "\n",
              "    .dataframe tbody tr th {\n",
              "        vertical-align: top;\n",
              "    }\n",
              "\n",
              "    .dataframe thead th {\n",
              "        text-align: right;\n",
              "    }\n",
              "</style>\n",
              "<table border=\"1\" class=\"dataframe\">\n",
              "  <thead>\n",
              "    <tr style=\"text-align: right;\">\n",
              "      <th></th>\n",
              "      <th>x1</th>\n",
              "      <th>x2</th>\n",
              "      <th>y</th>\n",
              "    </tr>\n",
              "  </thead>\n",
              "  <tbody>\n",
              "    <tr>\n",
              "      <th>4</th>\n",
              "      <td>-119.366669</td>\n",
              "      <td>115.0</td>\n",
              "      <td>1</td>\n",
              "    </tr>\n",
              "    <tr>\n",
              "      <th>477</th>\n",
              "      <td>-118.366669</td>\n",
              "      <td>107.0</td>\n",
              "      <td>1</td>\n",
              "    </tr>\n",
              "    <tr>\n",
              "      <th>484</th>\n",
              "      <td>-118.366669</td>\n",
              "      <td>107.0</td>\n",
              "      <td>1</td>\n",
              "    </tr>\n",
              "    <tr>\n",
              "      <th>490</th>\n",
              "      <td>-118.366669</td>\n",
              "      <td>132.0</td>\n",
              "      <td>1</td>\n",
              "    </tr>\n",
              "    <tr>\n",
              "      <th>707</th>\n",
              "      <td>129.633331</td>\n",
              "      <td>-122.0</td>\n",
              "      <td>1</td>\n",
              "    </tr>\n",
              "    <tr>\n",
              "      <th>775</th>\n",
              "      <td>-50.366669</td>\n",
              "      <td>46.0</td>\n",
              "      <td>1</td>\n",
              "    </tr>\n",
              "    <tr>\n",
              "      <th>981</th>\n",
              "      <td>85.633331</td>\n",
              "      <td>-126.0</td>\n",
              "      <td>1</td>\n",
              "    </tr>\n",
              "    <tr>\n",
              "      <th>1356</th>\n",
              "      <td>34.633331</td>\n",
              "      <td>17.0</td>\n",
              "      <td>0</td>\n",
              "    </tr>\n",
              "    <tr>\n",
              "      <th>1380</th>\n",
              "      <td>30.633331</td>\n",
              "      <td>9.0</td>\n",
              "      <td>0</td>\n",
              "    </tr>\n",
              "    <tr>\n",
              "      <th>1479</th>\n",
              "      <td>-117.366669</td>\n",
              "      <td>-124.0</td>\n",
              "      <td>0</td>\n",
              "    </tr>\n",
              "    <tr>\n",
              "      <th>1633</th>\n",
              "      <td>-51.366669</td>\n",
              "      <td>-84.0</td>\n",
              "      <td>0</td>\n",
              "    </tr>\n",
              "    <tr>\n",
              "      <th>1685</th>\n",
              "      <td>-114.366669</td>\n",
              "      <td>-121.0</td>\n",
              "      <td>0</td>\n",
              "    </tr>\n",
              "    <tr>\n",
              "      <th>1918</th>\n",
              "      <td>97.633331</td>\n",
              "      <td>103.0</td>\n",
              "      <td>0</td>\n",
              "    </tr>\n",
              "    <tr>\n",
              "      <th>2175</th>\n",
              "      <td>39.633331</td>\n",
              "      <td>30.0</td>\n",
              "      <td>0</td>\n",
              "    </tr>\n",
              "    <tr>\n",
              "      <th>2179</th>\n",
              "      <td>49.633331</td>\n",
              "      <td>42.0</td>\n",
              "      <td>0</td>\n",
              "    </tr>\n",
              "    <tr>\n",
              "      <th>2223</th>\n",
              "      <td>96.633331</td>\n",
              "      <td>91.0</td>\n",
              "      <td>0</td>\n",
              "    </tr>\n",
              "  </tbody>\n",
              "</table>\n",
              "</div>"
            ],
            "text/plain": [
              "              x1     x2  y\n",
              "4    -119.366669  115.0  1\n",
              "477  -118.366669  107.0  1\n",
              "484  -118.366669  107.0  1\n",
              "490  -118.366669  132.0  1\n",
              "707   129.633331 -122.0  1\n",
              "775   -50.366669   46.0  1\n",
              "981    85.633331 -126.0  1\n",
              "1356   34.633331   17.0  0\n",
              "1380   30.633331    9.0  0\n",
              "1479 -117.366669 -124.0  0\n",
              "1633  -51.366669  -84.0  0\n",
              "1685 -114.366669 -121.0  0\n",
              "1918   97.633331  103.0  0\n",
              "2175   39.633331   30.0  0\n",
              "2179   49.633331   42.0  0\n",
              "2223   96.633331   91.0  0"
            ]
          },
          "metadata": {},
          "execution_count": 25
        }
      ]
    },
    {
      "cell_type": "code",
      "metadata": {
        "colab": {
          "base_uri": "https://localhost:8080/"
        },
        "id": "om0wCmufVkZx",
        "outputId": "93dc998f-528b-4d71-ad26-84ea6f40318a"
      },
      "source": [
        "# Remove all duplicates\n",
        "df.drop_duplicates(inplace=True)\n",
        "print(\"Dataset size before removing duplicates:\", df_original.shape)\n",
        "print(\"Dataset size after removing duplicates:\", df.shape)"
      ],
      "execution_count": 26,
      "outputs": [
        {
          "output_type": "stream",
          "name": "stdout",
          "text": [
            "Dataset size before removing duplicates: (2227, 3)\n",
            "Dataset size after removing duplicates: (2211, 3)\n"
          ]
        }
      ]
    },
    {
      "cell_type": "markdown",
      "metadata": {
        "id": "2mU12edPRZSq"
      },
      "source": [
        "#### **4.3) Correlation b/n features**"
      ]
    },
    {
      "cell_type": "code",
      "metadata": {
        "colab": {
          "base_uri": "https://localhost:8080/",
          "height": 57
        },
        "id": "ALuJuFXvRdjl",
        "outputId": "ad3e7b94-3fc6-4555-fedc-80c0444bc50c"
      },
      "source": [
        "df.corr()[['y']].T.style.background_gradient('copper_r')"
      ],
      "execution_count": 27,
      "outputs": [
        {
          "output_type": "execute_result",
          "data": {
            "text/html": [
              "<style  type=\"text/css\" >\n",
              "#T_5a4226c4_186d_11ec_a3c8_0242ac1c0002row0_col0,#T_5a4226c4_186d_11ec_a3c8_0242ac1c0002row0_col1,#T_5a4226c4_186d_11ec_a3c8_0242ac1c0002row0_col2{\n",
              "            background-color:  #ffc77f;\n",
              "            color:  #000000;\n",
              "        }</style><table id=\"T_5a4226c4_186d_11ec_a3c8_0242ac1c0002\" ><thead>    <tr>        <th class=\"blank level0\" ></th>        <th class=\"col_heading level0 col0\" >x1</th>        <th class=\"col_heading level0 col1\" >x2</th>        <th class=\"col_heading level0 col2\" >y</th>    </tr></thead><tbody>\n",
              "                <tr>\n",
              "                        <th id=\"T_5a4226c4_186d_11ec_a3c8_0242ac1c0002level0_row0\" class=\"row_heading level0 row0\" >y</th>\n",
              "                        <td id=\"T_5a4226c4_186d_11ec_a3c8_0242ac1c0002row0_col0\" class=\"data row0 col0\" >-0.119839</td>\n",
              "                        <td id=\"T_5a4226c4_186d_11ec_a3c8_0242ac1c0002row0_col1\" class=\"data row0 col1\" >-0.026796</td>\n",
              "                        <td id=\"T_5a4226c4_186d_11ec_a3c8_0242ac1c0002row0_col2\" class=\"data row0 col2\" >1.000000</td>\n",
              "            </tr>\n",
              "    </tbody></table>"
            ],
            "text/plain": [
              "<pandas.io.formats.style.Styler at 0x7fe978f687d0>"
            ]
          },
          "metadata": {},
          "execution_count": 27
        }
      ]
    },
    {
      "cell_type": "code",
      "metadata": {
        "colab": {
          "base_uri": "https://localhost:8080/",
          "height": 498
        },
        "id": "9Lmuvt_VRnr2",
        "outputId": "38e60250-7414-4a30-d9db-3eed0bdf68c0"
      },
      "source": [
        "corr_feat = df.corr()\n",
        "plt.figure(figsize=(8,7))\n",
        "corr_feat[\"y\"][:-1].plot(kind=\"bar\", grid=True, color='#FF9505')\n",
        "plt.title(\"Features correlation\")"
      ],
      "execution_count": 28,
      "outputs": [
        {
          "output_type": "execute_result",
          "data": {
            "text/plain": [
              "Text(0.5, 1.0, 'Features correlation')"
            ]
          },
          "metadata": {},
          "execution_count": 28
        },
        {
          "output_type": "display_data",
          "data": {
            "image/png": "[encoded data removed]",
            "text/plain": [
              "<Figure size 576x504 with 1 Axes>"
            ]
          },
          "metadata": {}
        }
      ]
    },
    {
      "cell_type": "markdown",
      "metadata": {
        "id": "ObjyfI3DR1W0"
      },
      "source": [
        "- both independant features have -ve correlation with target."
      ]
    },
    {
      "cell_type": "code",
      "metadata": {
        "colab": {
          "base_uri": "https://localhost:8080/",
          "height": 397
        },
        "id": "3WBNpsSjSCme",
        "outputId": "91545b85-6994-4a52-ec41-8f7bf3d57445"
      },
      "source": [
        "# Pearson Correlation\n",
        "plt.figure(figsize=(7,6))\n",
        "sns.heatmap(df.corr(method='pearson'), cbar=False, annot=True, fmt='.1f', linewidth=0.2, cmap='coolwarm');"
      ],
      "execution_count": 29,
      "outputs": [
        {
          "output_type": "display_data",
          "data": {
            "image/png": "[encoded data removed]",
            "text/plain": [
              "<Figure size 504x432 with 1 Axes>"
            ]
          },
          "metadata": {}
        }
      ]
    },
    {
      "cell_type": "markdown",
      "metadata": {
        "id": "2RlGviZzTsKb"
      },
      "source": [
        "#### **4.4) Outliers**"
      ]
    },
    {
      "cell_type": "code",
      "metadata": {
        "colab": {
          "base_uri": "https://localhost:8080/",
          "height": 475
        },
        "id": "18PaOTAuTINj",
        "outputId": "c940952c-2a82-4c15-808e-9a5cf3fbbe73"
      },
      "source": [
        "plt.figure(figsize=(8,7))\n",
        "sns.boxplot(data=df, x='y', y=df['x1'][df['y']==0])\n",
        "sns.boxplot(data=df, x='y', y=df['x2'][df['y']==1])\n",
        "plt.xlabel(\"target\", size=15)\n",
        "plt.ylabel(\"target count\", size=15)\n",
        "plt.show()"
      ],
      "execution_count": 30,
      "outputs": [
        {
          "output_type": "display_data",
          "data": {
            "image/png": "[encoded data removed]",
            "text/plain": [
              "<Figure size 576x504 with 1 Axes>"
            ]
          },
          "metadata": {}
        }
      ]
    },
    {
      "cell_type": "markdown",
      "metadata": {
        "id": "EetD1e99W73W"
      },
      "source": [
        "#### **4.5) Scaling**"
      ]
    },
    {
      "cell_type": "code",
      "metadata": {
        "id": "4GAK1LmmY0Su"
      },
      "source": [
        "# Independant variable\n",
        "X = df.drop('y', axis=1)\n",
        "\n",
        "# Dependant variable\n",
        "y = df['y']        "
      ],
      "execution_count": 31,
      "outputs": []
    },
    {
      "cell_type": "code",
      "metadata": {
        "id": "xkkyfjT2Y0IZ"
      },
      "source": [
        "X_train, X_test, y_train, y_test = train_test_split(X,y,test_size=0.2, random_state=4)"
      ],
      "execution_count": 32,
      "outputs": []
    },
    {
      "cell_type": "code",
      "metadata": {
        "colab": {
          "base_uri": "https://localhost:8080/"
        },
        "id": "pvCyG8fOY0A4",
        "outputId": "156c841c-80d2-4f1f-8265-68e14e6e5a8f"
      },
      "source": [
        "# shape of X & Y test / train\n",
        "print(X_train.shape, X_test.shape, y_train.shape, y_test.shape)"
      ],
      "execution_count": 33,
      "outputs": [
        {
          "output_type": "stream",
          "name": "stdout",
          "text": [
            "(1768, 2) (443, 2) (1768,) (443,)\n"
          ]
        }
      ]
    },
    {
      "cell_type": "code",
      "metadata": {
        "id": "QkcU9iV2W_Lj"
      },
      "source": [
        "scaler = StandardScaler()\n",
        "\n",
        "X_train_scaled = scaler.fit_transform(X_train)\n",
        "X_train = pd.DataFrame(X_train_scaled)\n",
        "\n",
        "X_test_scaled = scaler.fit_transform(X_test)\n",
        "X_test = pd.DataFrame(X_test_scaled)"
      ],
      "execution_count": 34,
      "outputs": []
    },
    {
      "cell_type": "markdown",
      "metadata": {
        "id": "Ek5yaXdoXrU4"
      },
      "source": [
        "### **5) Model building and Evaluation**"
      ]
    },
    {
      "cell_type": "markdown",
      "metadata": {
        "id": "3BikvzKaX2QR"
      },
      "source": [
        "#### **5.1) Logistic Regression**"
      ]
    },
    {
      "cell_type": "code",
      "metadata": {
        "colab": {
          "base_uri": "https://localhost:8080/"
        },
        "id": "O2RaLcfGXwOA",
        "outputId": "be467f54-e189-4663-ae92-59d607b794dc"
      },
      "source": [
        "LogReg = LogisticRegression()\n",
        "LogReg.fit(X_train, y_train)"
      ],
      "execution_count": 61,
      "outputs": [
        {
          "output_type": "execute_result",
          "data": {
            "text/plain": [
              "LogisticRegression(C=1.0, class_weight=None, dual=False, fit_intercept=True,\n",
              "                   intercept_scaling=1, l1_ratio=None, max_iter=100,\n",
              "                   multi_class='auto', n_jobs=None, penalty='l2',\n",
              "                   random_state=None, solver='lbfgs', tol=0.0001, verbose=0,\n",
              "                   warm_start=False)"
            ]
          },
          "metadata": {},
          "execution_count": 61
        }
      ]
    },
    {
      "cell_type": "code",
      "metadata": {
        "id": "Y3uxTszqYKBb"
      },
      "source": [
        "y_pred_log = LogReg.predict(X_test)"
      ],
      "execution_count": 62,
      "outputs": []
    },
    {
      "cell_type": "code",
      "metadata": {
        "colab": {
          "base_uri": "https://localhost:8080/"
        },
        "id": "s0IvRTOCaBEh",
        "outputId": "1480f6de-6237-49f5-f8f4-da9c83050a9d"
      },
      "source": [
        "print(\"Train Score {:.2f} & Test Score {:.2f}\".format(LogReg.score(X_train, y_train), LogReg.score(X_test, y_test)))"
      ],
      "execution_count": 63,
      "outputs": [
        {
          "output_type": "stream",
          "name": "stdout",
          "text": [
            "Train Score 0.59 & Test Score 0.58\n"
          ]
        }
      ]
    },
    {
      "cell_type": "code",
      "metadata": {
        "colab": {
          "base_uri": "https://localhost:8080/"
        },
        "id": "Y_xFss42aAz2",
        "outputId": "9e05f9c9-6e0a-4491-e954-c8b60b2ecdcb"
      },
      "source": [
        "print(\"Logistic Regression : Train Score {:.2f} & Test Score {:.2f}\".format(LogReg.score(X_train, y_train), LogReg.score(X_test, y_test)))\n",
        "print('-'*70)\n",
        "print(\"\\n\\nConfusion matrix \\n\\n\", confusion_matrix(y_test, y_pred_log))\n",
        "print('-'*70)\n",
        "print(\"\\n\\nClassification Report\\n\\n\",classification_report(y_test, y_pred_log))"
      ],
      "execution_count": 64,
      "outputs": [
        {
          "output_type": "stream",
          "name": "stdout",
          "text": [
            "Logistic Regression : Train Score 0.59 & Test Score 0.58\n",
            "----------------------------------------------------------------------\n",
            "\n",
            "\n",
            "Confusion matrix \n",
            "\n",
            " [[194  49]\n",
            " [139  61]]\n",
            "----------------------------------------------------------------------\n",
            "\n",
            "\n",
            "Classification Report\n",
            "\n",
            "               precision    recall  f1-score   support\n",
            "\n",
            "           0       0.58      0.80      0.67       243\n",
            "           1       0.55      0.30      0.39       200\n",
            "\n",
            "    accuracy                           0.58       443\n",
            "   macro avg       0.57      0.55      0.53       443\n",
            "weighted avg       0.57      0.58      0.55       443\n",
            "\n"
          ]
        }
      ]
    },
    {
      "cell_type": "markdown",
      "metadata": {
        "id": "NUzSde7BjnAk"
      },
      "source": [
        "#### **Hyperparameter tuning**"
      ]
    },
    {
      "cell_type": "code",
      "metadata": {
        "id": "buvFsgwxioEb"
      },
      "source": [
        "# hyperparameter tuning of logistic regression\n",
        "\n",
        "param = {\n",
        "         'penalty':['l1','l2'],\n",
        "         'C':[0.001, 0.01, 0.1, 1, 10, 20,100, 1000]\n",
        "}"
      ],
      "execution_count": 65,
      "outputs": []
    },
    {
      "cell_type": "code",
      "metadata": {
        "colab": {
          "base_uri": "https://localhost:8080/"
        },
        "id": "Jy93GEu1in8Y",
        "outputId": "f711827e-a3f1-475f-be17-88f0f6d4768d"
      },
      "source": [
        "log_reg1 = LogisticRegression(penalty='l1')\n",
        "\n",
        "cv = GridSearchCV(log_reg1, param, cv=5, n_jobs=-1)\n",
        "cv.fit(X_train,y_train)\n",
        "cv.predict(X_test)"
      ],
      "execution_count": 67,
      "outputs": [
        {
          "output_type": "execute_result",
          "data": {
            "text/plain": [
              "array([0, 0, 0, 1, 0, 0, 0, 0, 0, 0, 0, 0, 0, 1, 0, 0, 0, 0, 0, 0, 0, 0,\n",
              "       0, 0, 0, 0, 1, 0, 0, 0, 0, 1, 0, 0, 0, 0, 1, 1, 0, 0, 0, 0, 0, 1,\n",
              "       0, 0, 1, 0, 0, 0, 0, 0, 0, 1, 0, 1, 1, 1, 0, 0, 0, 0, 0, 0, 0, 1,\n",
              "       0, 0, 0, 1, 0, 0, 0, 0, 0, 1, 0, 1, 0, 0, 0, 0, 0, 0, 0, 0, 1, 0,\n",
              "       0, 0, 0, 1, 0, 0, 0, 0, 0, 1, 0, 0, 1, 0, 0, 1, 0, 0, 0, 1, 0, 1,\n",
              "       0, 0, 0, 0, 0, 0, 1, 0, 0, 1, 0, 1, 1, 0, 0, 0, 1, 0, 1, 0, 1, 0,\n",
              "       0, 0, 0, 0, 0, 0, 0, 0, 0, 1, 0, 0, 0, 0, 0, 0, 1, 0, 0, 1, 0, 0,\n",
              "       0, 0, 0, 1, 0, 1, 0, 0, 0, 0, 0, 0, 0, 0, 0, 0, 1, 0, 0, 0, 0, 0,\n",
              "       0, 0, 0, 1, 1, 1, 0, 0, 0, 0, 0, 0, 0, 0, 1, 0, 0, 0, 1, 0, 0, 1,\n",
              "       0, 1, 0, 0, 0, 1, 1, 1, 0, 1, 0, 0, 1, 0, 1, 0, 1, 1, 0, 0, 0, 0,\n",
              "       0, 0, 0, 0, 1, 0, 0, 0, 1, 1, 0, 0, 1, 0, 0, 0, 0, 0, 0, 0, 0, 1,\n",
              "       0, 0, 1, 0, 1, 1, 0, 0, 0, 0, 1, 0, 0, 0, 1, 0, 0, 0, 0, 1, 0, 0,\n",
              "       0, 0, 0, 0, 0, 1, 0, 0, 1, 1, 0, 1, 0, 0, 0, 0, 0, 0, 0, 1, 0, 0,\n",
              "       1, 0, 0, 0, 1, 1, 0, 0, 0, 0, 0, 1, 0, 1, 0, 0, 0, 0, 0, 0, 1, 0,\n",
              "       1, 0, 1, 0, 0, 0, 1, 1, 0, 0, 0, 0, 0, 0, 0, 0, 0, 0, 0, 0, 0, 1,\n",
              "       0, 0, 0, 0, 1, 0, 0, 0, 0, 0, 1, 1, 0, 0, 1, 1, 0, 0, 1, 0, 0, 0,\n",
              "       0, 0, 0, 0, 0, 0, 1, 0, 0, 0, 1, 0, 0, 1, 1, 0, 1, 0, 1, 0, 0, 0,\n",
              "       0, 0, 0, 0, 1, 0, 0, 0, 1, 0, 0, 0, 0, 0, 0, 0, 1, 1, 0, 1, 0, 1,\n",
              "       0, 1, 0, 0, 0, 1, 0, 0, 0, 0, 0, 1, 0, 0, 0, 0, 0, 0, 0, 0, 0, 1,\n",
              "       1, 0, 0, 1, 0, 1, 0, 0, 0, 0, 0, 0, 1, 0, 0, 0, 0, 0, 0, 1, 0, 0,\n",
              "       1, 0, 0])"
            ]
          },
          "metadata": {},
          "execution_count": 67
        }
      ]
    },
    {
      "cell_type": "code",
      "metadata": {
        "colab": {
          "base_uri": "https://localhost:8080/"
        },
        "id": "HFLqUv4Rin1U",
        "outputId": "52a6466a-98d2-48a5-fc9b-b56dd0ab8fe3"
      },
      "source": [
        "# best_parameters\n",
        "print(\"Best CV params:\", cv.best_params_)\n",
        "\n",
        "# best_score\n",
        "print(\"\\n\\nBest CV score:\", cv.best_score_)"
      ],
      "execution_count": 68,
      "outputs": [
        {
          "output_type": "stream",
          "name": "stdout",
          "text": [
            "Best CV params: {'C': 0.1, 'penalty': 'l2'}\n",
            "\n",
            "\n",
            "Best CV score: 0.5876730526079929\n"
          ]
        }
      ]
    },
    {
      "cell_type": "code",
      "metadata": {
        "colab": {
          "base_uri": "https://localhost:8080/"
        },
        "id": "yLTT4VO2intj",
        "outputId": "0f491aa2-1a75-419f-946a-77426682849a"
      },
      "source": [
        "# best_estimators\n",
        "best_lr = cv.best_estimator_\n",
        "best_lr"
      ],
      "execution_count": 69,
      "outputs": [
        {
          "output_type": "execute_result",
          "data": {
            "text/plain": [
              "LogisticRegression(C=0.1, class_weight=None, dual=False, fit_intercept=True,\n",
              "                   intercept_scaling=1, l1_ratio=None, max_iter=100,\n",
              "                   multi_class='auto', n_jobs=None, penalty='l2',\n",
              "                   random_state=None, solver='lbfgs', tol=0.0001, verbose=0,\n",
              "                   warm_start=False)"
            ]
          },
          "metadata": {},
          "execution_count": 69
        }
      ]
    },
    {
      "cell_type": "code",
      "metadata": {
        "colab": {
          "base_uri": "https://localhost:8080/"
        },
        "id": "GHJFwgG0jMZZ",
        "outputId": "cc82f514-ab64-4d55-882b-93de55606cae"
      },
      "source": [
        "log_reg3 = LogisticRegression(C=0.1, class_weight=None, dual=False, fit_intercept=True,\n",
        "                              intercept_scaling=1, l1_ratio=None, max_iter=100,\n",
        "                              multi_class='auto', n_jobs=None, penalty='l2',\n",
        "                              random_state=None, solver='lbfgs', tol=0.0001, verbose=0,\n",
        "                              warm_start=False)\n",
        "log_reg3.fit(X_train,y_train) "
      ],
      "execution_count": 70,
      "outputs": [
        {
          "output_type": "execute_result",
          "data": {
            "text/plain": [
              "LogisticRegression(C=0.1, class_weight=None, dual=False, fit_intercept=True,\n",
              "                   intercept_scaling=1, l1_ratio=None, max_iter=100,\n",
              "                   multi_class='auto', n_jobs=None, penalty='l2',\n",
              "                   random_state=None, solver='lbfgs', tol=0.0001, verbose=0,\n",
              "                   warm_start=False)"
            ]
          },
          "metadata": {},
          "execution_count": 70
        }
      ]
    },
    {
      "cell_type": "code",
      "metadata": {
        "colab": {
          "base_uri": "https://localhost:8080/"
        },
        "id": "anEthLQ1jPYR",
        "outputId": "d5e4036c-6d3e-42d5-d360-ba97b1362dbb"
      },
      "source": [
        "print(\"Logistic Regression : Train Score {:.2f} & Test Score {:.2f}\".format(log_reg3.score(X_train, y_train), log_reg3.score(X_test, y_test)))"
      ],
      "execution_count": 71,
      "outputs": [
        {
          "output_type": "stream",
          "name": "stdout",
          "text": [
            "Logistic Regression : Train Score 0.58 & Test Score 0.58\n"
          ]
        }
      ]
    },
    {
      "cell_type": "code",
      "metadata": {
        "colab": {
          "base_uri": "https://localhost:8080/"
        },
        "id": "H7BIKcGojPOj",
        "outputId": "b0363ffe-7f39-46cc-b13d-a0658523bf55"
      },
      "source": [
        "y_pred_Log = log_reg3.predict_proba(X_test)\n",
        "y_pred_Log_test = log_reg3.predict(X_test)\n",
        "\n",
        "lr_acc = accuracy_score(y_test, y_pred_Log_test)\n",
        "lr_acc"
      ],
      "execution_count": 73,
      "outputs": [
        {
          "output_type": "execute_result",
          "data": {
            "text/plain": [
              "0.5756207674943566"
            ]
          },
          "metadata": {},
          "execution_count": 73
        }
      ]
    },
    {
      "cell_type": "code",
      "metadata": {
        "id": "u4bLgI11p-9V"
      },
      "source": [
        "LogReg_linear_acc = accuracy_score(y_test, y_pred_Log_test)"
      ],
      "execution_count": 116,
      "outputs": []
    },
    {
      "cell_type": "markdown",
      "metadata": {
        "id": "-UaWXkZFYFhL"
      },
      "source": [
        "#### **5.2) SVM**"
      ]
    },
    {
      "cell_type": "markdown",
      "metadata": {
        "id": "wIYQWqmodva1"
      },
      "source": [
        "#### **kernal=linear**"
      ]
    },
    {
      "cell_type": "code",
      "metadata": {
        "colab": {
          "base_uri": "https://localhost:8080/"
        },
        "id": "uJXqfaOIYJJ7",
        "outputId": "d0097b40-976b-436d-cb92-4d646a5ce8e1"
      },
      "source": [
        "SVM_linear = svm.SVC(kernel=\"linear\")    \n",
        "SVM_linear.fit(X_train, y_train)    "
      ],
      "execution_count": 41,
      "outputs": [
        {
          "output_type": "execute_result",
          "data": {
            "text/plain": [
              "SVC(C=1.0, break_ties=False, cache_size=200, class_weight=None, coef0=0.0,\n",
              "    decision_function_shape='ovr', degree=3, gamma='scale', kernel='linear',\n",
              "    max_iter=-1, probability=False, random_state=None, shrinking=True,\n",
              "    tol=0.001, verbose=False)"
            ]
          },
          "metadata": {},
          "execution_count": 41
        }
      ]
    },
    {
      "cell_type": "code",
      "metadata": {
        "id": "8C5bS8uUYJhr"
      },
      "source": [
        "y_pred_SVM_linear = SVM_linear.predict(X_test)\n",
        "SVM_linear_acc = accuracy_score(y_test, y_pred_SVM_linear)"
      ],
      "execution_count": 113,
      "outputs": []
    },
    {
      "cell_type": "code",
      "metadata": {
        "colab": {
          "base_uri": "https://localhost:8080/"
        },
        "id": "JuZRI0OQeN1w",
        "outputId": "3e194e95-4a4e-4443-cdba-6261a2bbba4f"
      },
      "source": [
        "print(\"Train Score {:.2f} & Test Score {:.2f}\".format(SVM_linear.score(X_train, y_train), SVM_linear.score(X_test, y_test)))"
      ],
      "execution_count": 43,
      "outputs": [
        {
          "output_type": "stream",
          "name": "stdout",
          "text": [
            "Train Score 0.56 & Test Score 0.55\n"
          ]
        }
      ]
    },
    {
      "cell_type": "code",
      "metadata": {
        "colab": {
          "base_uri": "https://localhost:8080/"
        },
        "id": "Zh87w_ooeNo_",
        "outputId": "f3955422-aea0-4485-e3f2-58971a668dd3"
      },
      "source": [
        "print(\"SVM Linear : Train Score {:.2f} & Test Score {:.2f}\".format(SVM_linear.score(X_train, y_train), SVM_linear.score(X_test, y_test)))\n",
        "print('-'*70)\n",
        "print(\"\\n\\nConfusion matrix \\n\\n\", confusion_matrix(y_test, y_pred_SVM_linear))\n",
        "print('-'*70)\n",
        "print(\"\\n\\nClassification Report\\n\\n\", classification_report(y_test, y_pred_SVM_linear))"
      ],
      "execution_count": 88,
      "outputs": [
        {
          "output_type": "stream",
          "name": "stdout",
          "text": [
            "SVM Linear : Train Score 0.56 & Test Score 0.55\n",
            "----------------------------------------------------------------------\n",
            "\n",
            "\n",
            "Confusion matrix \n",
            "\n",
            " [[243   0]\n",
            " [200   0]]\n",
            "----------------------------------------------------------------------\n",
            "\n",
            "\n",
            "Classification Report\n",
            "\n",
            "               precision    recall  f1-score   support\n",
            "\n",
            "           0       0.55      1.00      0.71       243\n",
            "           1       0.00      0.00      0.00       200\n",
            "\n",
            "    accuracy                           0.55       443\n",
            "   macro avg       0.27      0.50      0.35       443\n",
            "weighted avg       0.30      0.55      0.39       443\n",
            "\n"
          ]
        }
      ]
    },
    {
      "cell_type": "markdown",
      "metadata": {
        "id": "SbmhGc7vd2Dj"
      },
      "source": [
        "#### **kernal=RBF**"
      ]
    },
    {
      "cell_type": "code",
      "metadata": {
        "colab": {
          "base_uri": "https://localhost:8080/"
        },
        "id": "1ovkwtsId3CA",
        "outputId": "a5aca10d-9c9c-4574-84ff-1d2a6b83ce20"
      },
      "source": [
        "SVM_RBF = svm.SVC(kernel='rbf')    \n",
        "SVM_RBF.fit(X_train, y_train)    "
      ],
      "execution_count": 45,
      "outputs": [
        {
          "output_type": "execute_result",
          "data": {
            "text/plain": [
              "SVC(C=1.0, break_ties=False, cache_size=200, class_weight=None, coef0=0.0,\n",
              "    decision_function_shape='ovr', degree=3, gamma='scale', kernel='rbf',\n",
              "    max_iter=-1, probability=False, random_state=None, shrinking=True,\n",
              "    tol=0.001, verbose=False)"
            ]
          },
          "metadata": {},
          "execution_count": 45
        }
      ]
    },
    {
      "cell_type": "code",
      "metadata": {
        "id": "lGouc1dBeX-7"
      },
      "source": [
        "y_pred_SVM_RBF = SVM_RBF.predict(X_test)\n",
        "SVM_RBF_acc = accuracy_score(y_test, y_pred_SVM_RBF)"
      ],
      "execution_count": 111,
      "outputs": []
    },
    {
      "cell_type": "code",
      "metadata": {
        "colab": {
          "base_uri": "https://localhost:8080/"
        },
        "id": "l1OST-3QeX09",
        "outputId": "b8af9a4d-11f0-454a-e1aa-febfec0d8383"
      },
      "source": [
        "print(\"Train Score {:.2f} & Test Score {:.2f}\".format(SVM_RBF.score(X_train, y_train), SVM_RBF.score(X_test, y_test)))"
      ],
      "execution_count": 47,
      "outputs": [
        {
          "output_type": "stream",
          "name": "stdout",
          "text": [
            "Train Score 0.58 & Test Score 0.58\n"
          ]
        }
      ]
    },
    {
      "cell_type": "code",
      "metadata": {
        "colab": {
          "base_uri": "https://localhost:8080/"
        },
        "id": "4eY7KRQ3d3U8",
        "outputId": "987fd1ef-4b34-443f-85ce-0da5e6216373"
      },
      "source": [
        "print(\"SVM RBF : Train Score {:.2f} & Test Score {:.2f}\".format(SVM_RBF.score(X_train, y_train), SVM_RBF.score(X_test, y_test)))\n",
        "print('-'*70)\n",
        "print(\"\\n\\nConfusion matrix \\n\\n\", confusion_matrix(y_test, y_pred_SVM_RBF))\n",
        "print('-'*70)\n",
        "print(\"\\n\\nClassification Report\\n\\n\", classification_report(y_test, y_pred_SVM_RBF))"
      ],
      "execution_count": 89,
      "outputs": [
        {
          "output_type": "stream",
          "name": "stdout",
          "text": [
            "SVM RBF : Train Score 0.58 & Test Score 0.58\n",
            "----------------------------------------------------------------------\n",
            "\n",
            "\n",
            "Confusion matrix \n",
            "\n",
            " [[191  52]\n",
            " [136  64]]\n",
            "----------------------------------------------------------------------\n",
            "\n",
            "\n",
            "Classification Report\n",
            "\n",
            "               precision    recall  f1-score   support\n",
            "\n",
            "           0       0.58      0.79      0.67       243\n",
            "           1       0.55      0.32      0.41       200\n",
            "\n",
            "    accuracy                           0.58       443\n",
            "   macro avg       0.57      0.55      0.54       443\n",
            "weighted avg       0.57      0.58      0.55       443\n",
            "\n"
          ]
        }
      ]
    },
    {
      "cell_type": "markdown",
      "metadata": {
        "id": "6tls19PwX24h"
      },
      "source": [
        "#### **5.4) Decision Tree**"
      ]
    },
    {
      "cell_type": "code",
      "metadata": {
        "colab": {
          "base_uri": "https://localhost:8080/"
        },
        "id": "WGlAr2roX-id",
        "outputId": "7cf8dd95-da6d-4b02-a038-32e5dd56a931"
      },
      "source": [
        "DTR = DecisionTreeClassifier()\n",
        "DTR.fit(X_train, y_train)"
      ],
      "execution_count": 104,
      "outputs": [
        {
          "output_type": "execute_result",
          "data": {
            "text/plain": [
              "DecisionTreeClassifier(ccp_alpha=0.0, class_weight=None, criterion='gini',\n",
              "                       max_depth=None, max_features=None, max_leaf_nodes=None,\n",
              "                       min_impurity_decrease=0.0, min_impurity_split=None,\n",
              "                       min_samples_leaf=1, min_samples_split=2,\n",
              "                       min_weight_fraction_leaf=0.0, presort='deprecated',\n",
              "                       random_state=None, splitter='best')"
            ]
          },
          "metadata": {},
          "execution_count": 104
        }
      ]
    },
    {
      "cell_type": "code",
      "metadata": {
        "id": "2iwqQm1ZX-_q"
      },
      "source": [
        "y_pred_DTR = DTR.predict(X_test)\n",
        "DTR_acc = accuracy_score(y_test, y_pred_DTR)"
      ],
      "execution_count": 112,
      "outputs": []
    },
    {
      "cell_type": "code",
      "metadata": {
        "colab": {
          "base_uri": "https://localhost:8080/"
        },
        "id": "T7mCGNBWZSiV",
        "outputId": "4b5c6e9d-126e-474d-e019-aa09b169c0a3"
      },
      "source": [
        "print(\"Train Score {:.2f} & Test Score {:.2f}\".format(DTR.score(X_train, y_train), DTR.score(X_test, y_test)))"
      ],
      "execution_count": 106,
      "outputs": [
        {
          "output_type": "stream",
          "name": "stdout",
          "text": [
            "Train Score 1.00 & Test Score 0.47\n"
          ]
        }
      ]
    },
    {
      "cell_type": "code",
      "metadata": {
        "colab": {
          "base_uri": "https://localhost:8080/"
        },
        "id": "1VLwUG_dZSTM",
        "outputId": "c43dd79e-ab96-488a-c537-91ca50e1a6a8"
      },
      "source": [
        "print(\"SVM RBF : Train Score {:.2f} & Test Score {:.2f}\".format(DTR.score(X_train, y_train), DTR.score(X_test, y_test)))\n",
        "print('-'*70)\n",
        "print(\"\\n\\nConfusion matrix \\n\\n\", confusion_matrix(y_test, y_pred_DTR))\n",
        "print('-'*70)\n",
        "print(\"\\n\\nClassification Report\\n\\n\", classification_report(y_test, y_pred_DTR))"
      ],
      "execution_count": 107,
      "outputs": [
        {
          "output_type": "stream",
          "name": "stdout",
          "text": [
            "SVM RBF : Train Score 1.00 & Test Score 0.47\n",
            "----------------------------------------------------------------------\n",
            "\n",
            "\n",
            "Confusion matrix \n",
            "\n",
            " [[119 124]\n",
            " [110  90]]\n",
            "----------------------------------------------------------------------\n",
            "\n",
            "\n",
            "Classification Report\n",
            "\n",
            "               precision    recall  f1-score   support\n",
            "\n",
            "           0       0.52      0.49      0.50       243\n",
            "           1       0.42      0.45      0.43       200\n",
            "\n",
            "    accuracy                           0.47       443\n",
            "   macro avg       0.47      0.47      0.47       443\n",
            "weighted avg       0.47      0.47      0.47       443\n",
            "\n"
          ]
        }
      ]
    },
    {
      "cell_type": "markdown",
      "metadata": {
        "id": "BsmTQ-fqX_W6"
      },
      "source": [
        "#### **5.5) KNN**"
      ]
    },
    {
      "cell_type": "code",
      "metadata": {
        "id": "oPqQP3PuYC0R"
      },
      "source": [
        "k_range = range(1, 41)\n",
        "k_scores = []\n",
        "\n",
        "for i in k_range:\n",
        "    knn = KNeighborsClassifier(n_neighbors=i)\n",
        "    knn.fit(X_train,y_train)\n",
        "    preds = knn.predict(X_test)\n",
        "    scores = accuracy_score(y_test, preds)\n",
        "    k_scores.append(scores)"
      ],
      "execution_count": 80,
      "outputs": []
    },
    {
      "cell_type": "code",
      "metadata": {
        "colab": {
          "base_uri": "https://localhost:8080/"
        },
        "id": "fdhMjq5vYDJp",
        "outputId": "afc80215-7155-448b-d0f0-4bd573afbbc6"
      },
      "source": [
        "k_scores "
      ],
      "execution_count": 81,
      "outputs": [
        {
          "output_type": "execute_result",
          "data": {
            "text/plain": [
              "[0.4785553047404063,\n",
              " 0.510158013544018,\n",
              " 0.5282167042889391,\n",
              " 0.5259593679458239,\n",
              " 0.5079006772009029,\n",
              " 0.5282167042889391,\n",
              " 0.510158013544018,\n",
              " 0.5327313769751693,\n",
              " 0.5124153498871332,\n",
              " 0.5259593679458239,\n",
              " 0.5191873589164786,\n",
              " 0.5237020316027088,\n",
              " 0.49887133182844245,\n",
              " 0.5214446952595937,\n",
              " 0.5282167042889391,\n",
              " 0.5214446952595937,\n",
              " 0.5349887133182845,\n",
              " 0.5485327313769752,\n",
              " 0.5349887133182845,\n",
              " 0.5598194130925508,\n",
              " 0.5304740406320542,\n",
              " 0.5191873589164786,\n",
              " 0.5372460496613995,\n",
              " 0.5643340857787811,\n",
              " 0.54627539503386,\n",
              " 0.5598194130925508,\n",
              " 0.5395033860045146,\n",
              " 0.5620767494356659,\n",
              " 0.5553047404063205,\n",
              " 0.5756207674943566,\n",
              " 0.5553047404063205,\n",
              " 0.5711060948081265,\n",
              " 0.5733634311512416,\n",
              " 0.5778781038374717,\n",
              " 0.5869074492099323,\n",
              " 0.5733634311512416,\n",
              " 0.5778781038374717,\n",
              " 0.5688487584650113,\n",
              " 0.5891647855530474,\n",
              " 0.5733634311512416]"
            ]
          },
          "metadata": {},
          "execution_count": 81
        }
      ]
    },
    {
      "cell_type": "code",
      "metadata": {
        "colab": {
          "base_uri": "https://localhost:8080/"
        },
        "id": "tmTd6nAAklT0",
        "outputId": "c1a57f98-9ddf-4b5d-8c1f-eb106cafcce4"
      },
      "source": [
        "np.array(k_scores).mean()"
      ],
      "execution_count": 87,
      "outputs": [
        {
          "output_type": "execute_result",
          "data": {
            "text/plain": [
              "0.5422121896162528"
            ]
          },
          "metadata": {},
          "execution_count": 87
        }
      ]
    },
    {
      "cell_type": "code",
      "metadata": {
        "colab": {
          "base_uri": "https://localhost:8080/",
          "height": 456
        },
        "id": "GSUwM6eij-qr",
        "outputId": "593f6330-d0d1-437c-f0ea-413bba32c423"
      },
      "source": [
        "plt.figure(figsize=(8,7))\n",
        "sns.lineplot(x = k_range, y = k_scores);"
      ],
      "execution_count": 84,
      "outputs": [
        {
          "output_type": "display_data",
          "data": {
            "image/png": "[encoded data removed]",
            "text/plain": [
              "<Figure size 576x504 with 1 Axes>"
            ]
          },
          "metadata": {}
        }
      ]
    },
    {
      "cell_type": "code",
      "metadata": {
        "colab": {
          "base_uri": "https://localhost:8080/"
        },
        "id": "pyxV9SXHl5Je",
        "outputId": "28f13fcf-da33-480d-f6c4-dc3e3ca353a0"
      },
      "source": [
        "KNN = KNeighborsClassifier(n_neighbors=30)\n",
        "KNN.fit(X_train, y_train)"
      ],
      "execution_count": 99,
      "outputs": [
        {
          "output_type": "execute_result",
          "data": {
            "text/plain": [
              "KNeighborsClassifier(algorithm='auto', leaf_size=30, metric='minkowski',\n",
              "                     metric_params=None, n_jobs=None, n_neighbors=30, p=2,\n",
              "                     weights='uniform')"
            ]
          },
          "metadata": {},
          "execution_count": 99
        }
      ]
    },
    {
      "cell_type": "code",
      "metadata": {
        "id": "Xj856EuFmQH3"
      },
      "source": [
        "y_pred_KNN = KNN.predict(X_test)\n",
        "KNN_acc = accuracy_score(y_test, y_pred_KNN)"
      ],
      "execution_count": 109,
      "outputs": []
    },
    {
      "cell_type": "code",
      "metadata": {
        "colab": {
          "base_uri": "https://localhost:8080/"
        },
        "id": "UjEWCortmaYe",
        "outputId": "75022c6b-703d-4d37-bea1-b604b7a5324d"
      },
      "source": [
        "print(\"Train Score {:.2f} & Test Score {:.2f}\".format(KNN.score(X_train, y_train), KNN.score(X_test, y_test)))"
      ],
      "execution_count": 101,
      "outputs": [
        {
          "output_type": "stream",
          "name": "stdout",
          "text": [
            "Train Score 0.61 & Test Score 0.58\n"
          ]
        }
      ]
    },
    {
      "cell_type": "code",
      "metadata": {
        "colab": {
          "base_uri": "https://localhost:8080/"
        },
        "id": "URl9mSSHmh4j",
        "outputId": "5be4196b-5d77-4df4-b5cf-3b8f79d7c6b6"
      },
      "source": [
        "print(\"KNN : Train Score {:.2f} & Test Score {:.2f}\".format(KNN.score(X_train, y_train), KNN.score(X_test, y_test)))\n",
        "print('-'*70)\n",
        "print(\"\\n\\nConfusion matrix \\n\\n\", confusion_matrix(y_test, y_pred_KNN))\n",
        "print('-'*70)\n",
        "print(\"\\n\\nClassification Report\\n\\n\", classification_report(y_test, y_pred_KNN))"
      ],
      "execution_count": 102,
      "outputs": [
        {
          "output_type": "stream",
          "name": "stdout",
          "text": [
            "KNN : Train Score 0.61 & Test Score 0.58\n",
            "----------------------------------------------------------------------\n",
            "\n",
            "\n",
            "Confusion matrix \n",
            "\n",
            " [[184  59]\n",
            " [129  71]]\n",
            "----------------------------------------------------------------------\n",
            "\n",
            "\n",
            "Classification Report\n",
            "\n",
            "               precision    recall  f1-score   support\n",
            "\n",
            "           0       0.59      0.76      0.66       243\n",
            "           1       0.55      0.35      0.43       200\n",
            "\n",
            "    accuracy                           0.58       443\n",
            "   macro avg       0.57      0.56      0.55       443\n",
            "weighted avg       0.57      0.58      0.56       443\n",
            "\n"
          ]
        }
      ]
    },
    {
      "cell_type": "code",
      "metadata": {
        "colab": {
          "base_uri": "https://localhost:8080/",
          "height": 324
        },
        "id": "gjreu-IUnLod",
        "outputId": "b210211c-6290-4cc2-e8da-3efcc45339bf"
      },
      "source": [
        "from sklearn.metrics import plot_roc_curve\n",
        "m1_roc = plot_roc_curve(LogReg, X_test, y_test)\n",
        "plot_roc_curve(KNN, X_test, y_test, ax = m1_roc.ax_)\n",
        "plot_roc_curve(DTR, X_test, y_test, ax = m1_roc.ax_)\n",
        "plot_roc_curve(SVM_linear, X_test, y_test, ax = m1_roc.ax_)\n",
        "plot_roc_curve(SVM_RBF, X_test, y_test, ax = m1_roc.ax_)\n",
        "\n",
        "plt.title(\"ROC curve comparison\")\n",
        "plt.show()"
      ],
      "execution_count": 108,
      "outputs": [
        {
          "output_type": "display_data",
          "data": {
            "image/png": "[encoded data removed]",
            "text/plain": [
              "<Figure size 432x288 with 1 Axes>"
            ]
          },
          "metadata": {}
        }
      ]
    },
    {
      "cell_type": "markdown",
      "metadata": {
        "id": "93G_JJ6fm0A3"
      },
      "source": [
        "### **Conclusion**"
      ]
    },
    {
      "cell_type": "markdown",
      "metadata": {
        "id": "nU3GI_ucnv4M"
      },
      "source": [
        "Logistic Regression : 58\n",
        "\n",
        "SVM Linear : 55\n",
        "\n",
        "SVM RBF : 58\n",
        "\n",
        "Decision Tree : 47\n",
        "\n",
        "KNN : 58"
      ]
    },
    {
      "cell_type": "markdown",
      "metadata": {
        "id": "1xQUKzOcoNWA"
      },
      "source": [
        "- Logistic Regression / SVM RBF / KNN giving equal score\n",
        "\n",
        "- AUC curve getting Logistic Regression & SVM : 0.55"
      ]
    },
    {
      "cell_type": "code",
      "metadata": {
        "colab": {
          "base_uri": "https://localhost:8080/",
          "height": 202
        },
        "id": "6pwXpRPdm27s",
        "outputId": "adacebb0-d481-4fc9-fef4-bd13c4d800ae"
      },
      "source": [
        "models = pd.DataFrame({\n",
        "    'Model' : ['Logistic Regression', 'SVM Linear', 'SVM RBF', 'Decision Tree Classifier', 'KNN'],\n",
        "    'Score' : [LogReg_linear_acc, SVM_linear_acc, SVM_RBF_acc, DTR_acc, KNN_acc]\n",
        "})\n",
        "\n",
        "\n",
        "models.sort_values(by = 'Score', ascending = False)"
      ],
      "execution_count": 117,
      "outputs": [
        {
          "output_type": "execute_result",
          "data": {
            "text/html": [
              "<div>\n",
              "<style scoped>\n",
              "    .dataframe tbody tr th:only-of-type {\n",
              "        vertical-align: middle;\n",
              "    }\n",
              "\n",
              "    .dataframe tbody tr th {\n",
              "        vertical-align: top;\n",
              "    }\n",
              "\n",
              "    .dataframe thead th {\n",
              "        text-align: right;\n",
              "    }\n",
              "</style>\n",
              "<table border=\"1\" class=\"dataframe\">\n",
              "  <thead>\n",
              "    <tr style=\"text-align: right;\">\n",
              "      <th></th>\n",
              "      <th>Model</th>\n",
              "      <th>Score</th>\n",
              "    </tr>\n",
              "  </thead>\n",
              "  <tbody>\n",
              "    <tr>\n",
              "      <th>0</th>\n",
              "      <td>Logistic Regression</td>\n",
              "      <td>0.575621</td>\n",
              "    </tr>\n",
              "    <tr>\n",
              "      <th>2</th>\n",
              "      <td>SVM RBF</td>\n",
              "      <td>0.575621</td>\n",
              "    </tr>\n",
              "    <tr>\n",
              "      <th>4</th>\n",
              "      <td>KNN</td>\n",
              "      <td>0.575621</td>\n",
              "    </tr>\n",
              "    <tr>\n",
              "      <th>1</th>\n",
              "      <td>SVM Linear</td>\n",
              "      <td>0.548533</td>\n",
              "    </tr>\n",
              "    <tr>\n",
              "      <th>3</th>\n",
              "      <td>Decision Tree Classifier</td>\n",
              "      <td>0.471783</td>\n",
              "    </tr>\n",
              "  </tbody>\n",
              "</table>\n",
              "</div>"
            ],
            "text/plain": [
              "                      Model     Score\n",
              "0       Logistic Regression  0.575621\n",
              "2                   SVM RBF  0.575621\n",
              "4                       KNN  0.575621\n",
              "1                SVM Linear  0.548533\n",
              "3  Decision Tree Classifier  0.471783"
            ]
          },
          "metadata": {},
          "execution_count": 117
        }
      ]
    }
  ]
}