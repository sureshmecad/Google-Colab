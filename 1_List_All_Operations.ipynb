{
  "nbformat": 4,
  "nbformat_minor": 0,
  "metadata": {
    "colab": {
      "name": "1_List-All-Operations.ipynb",
      "provenance": [],
      "collapsed_sections": [],
      "include_colab_link": true
    },
    "kernelspec": {
      "name": "python3",
      "display_name": "Python 3"
    }
  },
  "cells": [
    {
      "cell_type": "markdown",
      "metadata": {
        "id": "view-in-github",
        "colab_type": "text"
      },
      "source": [
        "<a href=\"https://colab.research.google.com/github/sureshmecad/Google-Colab/blob/master/1_List_All_Operations.ipynb\" target=\"_parent\"><img src=\"https://colab.research.google.com/assets/colab-badge.svg\" alt=\"Open In Colab\"/></a>"
      ]
    },
    {
      "cell_type": "markdown",
      "metadata": {
        "id": "b9FWHdVH5-PQ"
      },
      "source": [
        "------------------------------------------"
      ]
    },
    {
      "cell_type": "markdown",
      "metadata": {
        "id": "9DCRZqgoqeJa"
      },
      "source": [
        "- **List** is a collection which is ordered and changeable. Allows duplicate members.\n",
        "\n",
        "- **Tuple** is a collection which is ordered and unchangeable. Allows duplicate members.\n",
        "\n",
        "- **Set** is a collection which is unordered and unindexed. No duplicate members.\n",
        "\n",
        "- **Dictionary** is a collection which is ordered* and changeable. No duplicate members"
      ]
    },
    {
      "cell_type": "markdown",
      "metadata": {
        "id": "dNKRDF_YrT7w"
      },
      "source": [
        "### **4. List**\n",
        "\n",
        "- Remove all items: **clear()**\n",
        "\n",
        "- Remove an item by index and get its value: **pop()**\n",
        "\n",
        "- Remove an item by value: **remove()**\n",
        "\n",
        "- Remove items by index or slice: **del**\n",
        "\n",
        "- Remove items that meet the condition: **List comprehensions**\n",
        "\n",
        "##### 4.1) append\n",
        "\n",
        "##### 4.2) extend\n",
        "\n",
        "##### 4.3) pop\n",
        "\n",
        "##### 4.4) remove\n",
        "\n",
        "##### 4.5) delete\n",
        "\n",
        "##### 4.6) clear\n",
        "\n",
        "##### 4.7) Insert\n",
        "\n",
        "##### 4.8) join\n",
        "\n",
        "##### 4.9) Remove Duplicates From a List\n",
        "\n",
        "##### 4.10) List to Set conversion"
      ]
    },
    {
      "cell_type": "markdown",
      "metadata": {
        "id": "zszv0AKNKXyJ"
      },
      "source": [
        "- example = []             # empty list\n",
        "\n",
        "- example = list()         # empty list\n",
        "\n",
        "- example = [1,2,3]        # list with three elements\n",
        "\n",
        "- example = [0, \"zero\"]    # elements can be of mixed types"
      ]
    },
    {
      "cell_type": "markdown",
      "metadata": {
        "id": "oHWeVw-rxNvZ"
      },
      "source": [
        "### Which method is used to add an element at the end of a list?\n",
        "\n",
        "A. insert()\n",
        "\n",
        "B. removeLast()\n",
        "\n",
        "C. append()\n",
        "\n",
        "D. None of these"
      ]
    },
    {
      "cell_type": "code",
      "metadata": {
        "id": "Ru_yfR3mwtCZ",
        "colab": {
          "base_uri": "https://localhost:8080/"
        },
        "outputId": "d0baf4e7-2495-407e-88c8-6225c2304b45"
      },
      "source": [
        "List = [1,2,3,4,5]\n",
        "List.append(6)\n",
        "List"
      ],
      "execution_count": null,
      "outputs": [
        {
          "output_type": "execute_result",
          "data": {
            "text/plain": [
              "[1, 2, 3, 4, 5, 6]"
            ]
          },
          "metadata": {
            "tags": []
          },
          "execution_count": 19
        }
      ]
    },
    {
      "cell_type": "code",
      "metadata": {
        "colab": {
          "base_uri": "https://localhost:8080/"
        },
        "id": "rOwxLrPq56Fu",
        "outputId": "f6a5a7c7-0d97-4728-f7ff-147d600f2aa3"
      },
      "source": [
        "print (list((1, 2, 3)))"
      ],
      "execution_count": null,
      "outputs": [
        {
          "output_type": "stream",
          "text": [
            "[1, 2, 3]\n"
          ],
          "name": "stdout"
        }
      ]
    },
    {
      "cell_type": "markdown",
      "metadata": {
        "id": "z7Qlk7bqpyxf"
      },
      "source": [
        "#### **4.1) append**"
      ]
    },
    {
      "cell_type": "code",
      "metadata": {
        "id": "QfesaehWp27d",
        "colab": {
          "base_uri": "https://localhost:8080/"
        },
        "outputId": "9db0c606-8d88-4f2b-9813-c9031e16fc0b"
      },
      "source": [
        "list2 = [3,4,5,7,9]\n",
        "list2.append([34,5])\n",
        "print(list2)"
      ],
      "execution_count": null,
      "outputs": [
        {
          "output_type": "stream",
          "text": [
            "[3, 4, 5, 7, 9, [34, 5]]\n"
          ],
          "name": "stdout"
        }
      ]
    },
    {
      "cell_type": "code",
      "metadata": {
        "colab": {
          "base_uri": "https://localhost:8080/"
        },
        "id": "YUCftCpRb6sh",
        "outputId": "acd5fbe8-3920-4dd3-e545-6d4999e3b639"
      },
      "source": [
        "input_list = [5, 9, 10, 2, 7]\n",
        "input_list.append(8)\n",
        "input_list.append(6)\n",
        "input_list.sort()\n",
        "print(input_list)"
      ],
      "execution_count": null,
      "outputs": [
        {
          "output_type": "stream",
          "text": [
            "[2, 5, 6, 7, 8, 9, 10]\n"
          ],
          "name": "stdout"
        }
      ]
    },
    {
      "cell_type": "markdown",
      "metadata": {
        "id": "Xml8k7Zgpaxe"
      },
      "source": [
        "#### **4.2) extend**"
      ]
    },
    {
      "cell_type": "code",
      "metadata": {
        "id": "cwj5-KMYpPdg",
        "colab": {
          "base_uri": "https://localhost:8080/"
        },
        "outputId": "c98fd08e-30b6-4a18-dd45-a5fce5b9a870"
      },
      "source": [
        "list1 = [3,4,5,7,9]\n",
        "list1.extend([34,5])\n",
        "print(list1)"
      ],
      "execution_count": null,
      "outputs": [
        {
          "output_type": "stream",
          "text": [
            "[3, 4, 5, 7, 9, 34, 5]\n"
          ],
          "name": "stdout"
        }
      ]
    },
    {
      "cell_type": "code",
      "metadata": {
        "colab": {
          "base_uri": "https://localhost:8080/"
        },
        "id": "9jICcD_wi8B5",
        "outputId": "a8963ccf-8948-4910-acc2-033892093fb8"
      },
      "source": [
        "L = [1, 2, 3]\n",
        "L.extend((4, 5, 6))\n",
        "print(L)"
      ],
      "execution_count": null,
      "outputs": [
        {
          "output_type": "stream",
          "text": [
            "[1, 2, 3, 4, 5, 6]\n"
          ],
          "name": "stdout"
        }
      ]
    },
    {
      "cell_type": "markdown",
      "metadata": {
        "id": "0bqEmJUsb5vg"
      },
      "source": [
        "### **4.3) pop**"
      ]
    },
    {
      "cell_type": "markdown",
      "metadata": {
        "id": "52bw4ng-MwT0"
      },
      "source": [
        "- **pop()** is an inbuilt function in Python that **removes** and returns last value from the list or the given index value\n",
        "\n",
        "#### pop() parameters\n",
        "- The **pop()** method takes a **single argument (index)**.\n",
        "\n",
        "- The **argument** passed to the method is **optional.** If not passed, the default index **-1** is passed as an argument (index of the last item).\n",
        "\n",
        "- If the index passed to the method is not in range, it throws **IndexError: pop index out of range exception.**\n",
        "\n",
        "#### Syntax:\n",
        "\n",
        "**list_name.pop(index)**"
      ]
    },
    {
      "cell_type": "code",
      "metadata": {
        "colab": {
          "base_uri": "https://localhost:8080/"
        },
        "id": "laOdB35QT-Me",
        "outputId": "c44267d3-99b2-4655-8c94-8c549245af4c"
      },
      "source": [
        "# programming languages list\n",
        "languages = ['Python', 'Java', 'C++', 'French', 'C']\n",
        "\n",
        "# remove and return the 4th item\n",
        "return_value = languages.pop(3)\n",
        "print('Return Value:', return_value)\n",
        "\n",
        "# Updated List\n",
        "print('Updated List:', languages)"
      ],
      "execution_count": null,
      "outputs": [
        {
          "output_type": "stream",
          "text": [
            "Return Value: French\n",
            "Updated List: ['Python', 'Java', 'C++', 'C']\n"
          ],
          "name": "stdout"
        }
      ]
    },
    {
      "cell_type": "code",
      "metadata": {
        "colab": {
          "base_uri": "https://localhost:8080/"
        },
        "id": "b-w67cwCVuXb",
        "outputId": "6362c85a-6c06-430d-b769-01553ce551db"
      },
      "source": [
        "# programming languages list\n",
        "languages = ['Python', 'Java', 'C++', 'Ruby', 'C']\n",
        "\n",
        "# remove and return the last item\n",
        "print('When index is not passed:') \n",
        "print('Return Value:', languages.pop())\n",
        "print('Updated List:', languages)\n",
        "\n",
        "# remove and return the last item\n",
        "print('\\nWhen -1 is passed:') \n",
        "print('Return Value:', languages.pop(-1))\n",
        "print('Updated List:', languages)\n",
        "\n",
        "# remove and return the third last item\n",
        "print('\\nWhen -3 is passed:') \n",
        "print('Return Value:', languages.pop(-3))\n",
        "print('Updated List:', languages)"
      ],
      "execution_count": null,
      "outputs": [
        {
          "output_type": "stream",
          "text": [
            "When index is not passed:\n",
            "Return Value: C\n",
            "Updated List: ['Python', 'Java', 'C++', 'Ruby']\n",
            "\n",
            "When -1 is passed:\n",
            "Return Value: Ruby\n",
            "Updated List: ['Python', 'Java', 'C++']\n",
            "\n",
            "When -3 is passed:\n",
            "Return Value: Python\n",
            "Updated List: ['Java', 'C++']\n"
          ],
          "name": "stdout"
        }
      ]
    },
    {
      "cell_type": "code",
      "metadata": {
        "colab": {
          "base_uri": "https://localhost:8080/"
        },
        "id": "w7umF_9aP7fT",
        "outputId": "6ec135a8-b047-49f1-c6c0-c6fda4caf158"
      },
      "source": [
        "# Python3 program for pop() method\n",
        "  \n",
        "list1 = [ 1, 2, 3, 4, 5, 6 ]\n",
        "  \n",
        "# Pops and removes the last element from the list\n",
        "print(list1.pop())\n",
        "  \n",
        "# Print list after removing last element\n",
        "print(\"New List after pop : \", list1, \"\\n\")\n",
        "  \n",
        "list2 = [1, 2, 3, ('cat', 'bat'), 4]\n",
        "  \n",
        "# Pop last three element\n",
        "print(list2.pop())\n",
        "print(list2.pop())\n",
        "print(list2.pop())\n",
        "  \n",
        "# Print list\n",
        "print(\"New List after pop : \", list2, \"\\n\")"
      ],
      "execution_count": null,
      "outputs": [
        {
          "output_type": "stream",
          "text": [
            "6\n",
            "New List after pop :  [1, 2, 3, 4, 5] \n",
            "\n",
            "4\n",
            "('cat', 'bat')\n",
            "3\n",
            "New List after pop :  [1, 2] \n",
            "\n"
          ],
          "name": "stdout"
        }
      ]
    },
    {
      "cell_type": "code",
      "metadata": {
        "colab": {
          "base_uri": "https://localhost:8080/"
        },
        "id": "nh9VAW2mQydS",
        "outputId": "72843472-f4b8-4598-e591-f8cae087a641"
      },
      "source": [
        "# Python3 program showing pop() method and remaining list after each pop\n",
        "  \n",
        "list1 = [ 1, 2, 3, 4, 5, 6 ]\n",
        "  \n",
        "# Pops and removes the last  element from the list\n",
        "print(list1.pop(), list1)\n",
        "  \n",
        "# Pops and removes the 0th index element from the list\n",
        "print(list1.pop(0), list1)"
      ],
      "execution_count": null,
      "outputs": [
        {
          "output_type": "stream",
          "text": [
            "6 [1, 2, 3, 4, 5]\n",
            "1 [2, 3, 4, 5]\n"
          ],
          "name": "stdout"
        }
      ]
    },
    {
      "cell_type": "markdown",
      "metadata": {
        "id": "J0UPN7eeQrvb"
      },
      "source": [
        "---------------"
      ]
    },
    {
      "cell_type": "code",
      "metadata": {
        "id": "GjqQVxoyb9FG",
        "colab": {
          "base_uri": "https://localhost:8080/"
        },
        "outputId": "7e18674e-34b5-4319-ed7f-9f32dc34ca49"
      },
      "source": [
        "# pop() removes the element at the position specified in the parameter.\n",
        "\n",
        "list1 = [3,4,5,7,9,1]\n",
        "list1.pop(1)\n",
        "print(list1)"
      ],
      "execution_count": null,
      "outputs": [
        {
          "output_type": "stream",
          "text": [
            "[3, 5, 7, 9, 1]\n"
          ],
          "name": "stdout"
        }
      ]
    },
    {
      "cell_type": "code",
      "metadata": {
        "id": "M7GAW5nrcbRv",
        "colab": {
          "base_uri": "https://localhost:8080/"
        },
        "outputId": "2c0f8ec0-7b66-4693-ca7e-ff3ca8ac4af4"
      },
      "source": [
        "list1 = [3,4,5,7,9,1]\n",
        "list1.pop()\n",
        "print(list1)"
      ],
      "execution_count": null,
      "outputs": [
        {
          "output_type": "stream",
          "text": [
            "[3, 4, 5, 7, 9]\n"
          ],
          "name": "stdout"
        }
      ]
    },
    {
      "cell_type": "markdown",
      "metadata": {
        "id": "aRGmXnbuXGUP"
      },
      "source": [
        "### **4.4) remove**"
      ]
    },
    {
      "cell_type": "markdown",
      "metadata": {
        "id": "G615DUIPXYIe"
      },
      "source": [
        "- The **remove()** method **removes the first matching element** (which is passed as an argument) from the list.\n",
        "\n",
        "#### **remove() Parameters**\n",
        "- The **remove()** method takes a **single element as an argument** and **removes** it from the list.\n",
        "\n",
        "- If the element **doesn't exist**, it throws **ValueError: list.remove(x): x not in list exception.**\n",
        "\n",
        "- The **remove()** doesn't return any value **(returns None)**.\n",
        "\n",
        "#### **syntax**\n",
        "\n",
        "**list.remove(element)**"
      ]
    },
    {
      "cell_type": "code",
      "metadata": {
        "colab": {
          "base_uri": "https://localhost:8080/"
        },
        "id": "RFErS2uwXRym",
        "outputId": "e375e715-3daf-41b4-be24-91101c80cf73"
      },
      "source": [
        "# Remove element from the list\n",
        "\n",
        "# animals list\n",
        "animals = ['cat', 'dog', 'rabbit', 'guinea pig']\n",
        "\n",
        "# 'rabbit' is removed\n",
        "animals.remove('rabbit')\n",
        "\n",
        "# Updated animals List\n",
        "print('Updated animals list: ', animals)"
      ],
      "execution_count": null,
      "outputs": [
        {
          "output_type": "stream",
          "text": [
            "Updated animals list:  ['cat', 'dog', 'guinea pig']\n"
          ],
          "name": "stdout"
        }
      ]
    },
    {
      "cell_type": "code",
      "metadata": {
        "colab": {
          "base_uri": "https://localhost:8080/"
        },
        "id": "44FCXyW4d9qx",
        "outputId": "d602bd71-09ff-45f7-c5d4-30df8787234b"
      },
      "source": [
        "# remove() method on a list having duplicate elements\n",
        "# If a list contains duplicate elements, the remove() method only removes the first matching element.\n",
        "\n",
        "# animals list\n",
        "animals = ['cat', 'dog', 'dog', 'guinea pig', 'dog']\n",
        "\n",
        "# 'dog' is removed\n",
        "animals.remove('dog')\n",
        "\n",
        "# Updated animals list\n",
        "print('Updated animals list: ', animals)"
      ],
      "execution_count": null,
      "outputs": [
        {
          "output_type": "stream",
          "text": [
            "Updated animals list:  ['cat', 'dog', 'guinea pig', 'dog']\n"
          ],
          "name": "stdout"
        }
      ]
    },
    {
      "cell_type": "code",
      "metadata": {
        "colab": {
          "base_uri": "https://localhost:8080/"
        },
        "id": "YTyseanSpjDh",
        "outputId": "26075162-ff3d-407c-cda7-903f7a24f95e"
      },
      "source": [
        "list1 = ['Haryana', 'Himachal', 'Tamil Nadu']\n",
        "list2 = list1.remove('Himachal')\n",
        "print(list2)"
      ],
      "execution_count": null,
      "outputs": [
        {
          "output_type": "stream",
          "text": [
            "None\n"
          ],
          "name": "stdout"
        }
      ]
    },
    {
      "cell_type": "code",
      "metadata": {
        "colab": {
          "base_uri": "https://localhost:8080/"
        },
        "id": "YfLgicRxqXNJ",
        "outputId": "d2979809-6e5f-45d8-f75a-24302a779ed8"
      },
      "source": [
        "# animals list\n",
        "list1 = ['Haryana', 'Himachal', 'Tamil Nadu']\n",
        "\n",
        "# 'rabbit' is removed\n",
        "list1.remove('Himachal')\n",
        "\n",
        "# Updated animals List\n",
        "print('Updated animals list: ', list1)"
      ],
      "execution_count": null,
      "outputs": [
        {
          "output_type": "stream",
          "text": [
            "Updated animals list:  ['Haryana', 'Tamil Nadu']\n"
          ],
          "name": "stdout"
        }
      ]
    },
    {
      "cell_type": "code",
      "metadata": {
        "colab": {
          "base_uri": "https://localhost:8080/"
        },
        "id": "HZ1IyguQqjTp",
        "outputId": "da32e949-1dcb-40dc-adde-b2d816f3910f"
      },
      "source": [
        "# animals list\n",
        "animals = ['cat', 'dog', 'rabbit', 'guinea pig']\n",
        "\n",
        "# 'rabbit' is removed\n",
        "animals.remove('rabbit')\n",
        "\n",
        "# Updated animals List\n",
        "print('Updated animals list: ', animals)"
      ],
      "execution_count": null,
      "outputs": [
        {
          "output_type": "stream",
          "text": [
            "Updated animals list:  ['cat', 'dog', 'guinea pig']\n"
          ],
          "name": "stdout"
        }
      ]
    },
    {
      "cell_type": "markdown",
      "metadata": {
        "id": "Glo5sd2eieCt"
      },
      "source": [
        "### **4.5) Delete**"
      ]
    },
    {
      "cell_type": "markdown",
      "metadata": {
        "id": "tvPc7NOgikc3"
      },
      "source": [
        "- **Remove items by index or slice**\n",
        "\n",
        "- Specify the item to be deleted by index. The **first index is 0**, and the **last index is -1**"
      ]
    },
    {
      "cell_type": "code",
      "metadata": {
        "colab": {
          "base_uri": "https://localhost:8080/",
          "height": 231
        },
        "id": "j3jdDRKcijkj",
        "outputId": "cdd520c5-8a7f-451b-9985-481e91947df6"
      },
      "source": [
        "# Specify the item to be deleted by index\n",
        "\n",
        "List3 = list(range(10))\n",
        "print(List3)\n",
        "\n",
        "del List3[0]\n",
        "print(List3)\n",
        "\n",
        "del List3[-1]\n",
        "print(List3)\n",
        "\n",
        "del List3[6]\n",
        "print(List3)"
      ],
      "execution_count": null,
      "outputs": [
        {
          "output_type": "error",
          "ename": "TypeError",
          "evalue": "ignored",
          "traceback": [
            "\u001b[0;31m---------------------------------------------------------------------------\u001b[0m",
            "\u001b[0;31mTypeError\u001b[0m                                 Traceback (most recent call last)",
            "\u001b[0;32m<ipython-input-32-0fec1834fbd5>\u001b[0m in \u001b[0;36m<module>\u001b[0;34m()\u001b[0m\n\u001b[1;32m      1\u001b[0m \u001b[0;31m# Specify the item to be deleted by index\u001b[0m\u001b[0;34m\u001b[0m\u001b[0;34m\u001b[0m\u001b[0;34m\u001b[0m\u001b[0m\n\u001b[1;32m      2\u001b[0m \u001b[0;34m\u001b[0m\u001b[0m\n\u001b[0;32m----> 3\u001b[0;31m \u001b[0mList3\u001b[0m \u001b[0;34m=\u001b[0m \u001b[0mlist\u001b[0m\u001b[0;34m(\u001b[0m\u001b[0mrange\u001b[0m\u001b[0;34m(\u001b[0m\u001b[0;36m10\u001b[0m\u001b[0;34m)\u001b[0m\u001b[0;34m)\u001b[0m\u001b[0;34m\u001b[0m\u001b[0;34m\u001b[0m\u001b[0m\n\u001b[0m\u001b[1;32m      4\u001b[0m \u001b[0mprint\u001b[0m\u001b[0;34m(\u001b[0m\u001b[0mList3\u001b[0m\u001b[0;34m)\u001b[0m\u001b[0;34m\u001b[0m\u001b[0;34m\u001b[0m\u001b[0m\n\u001b[1;32m      5\u001b[0m \u001b[0;34m\u001b[0m\u001b[0m\n",
            "\u001b[0;31mTypeError\u001b[0m: 'list' object is not callable"
          ]
        }
      ]
    },
    {
      "cell_type": "code",
      "metadata": {
        "colab": {
          "base_uri": "https://localhost:8080/",
          "height": 231
        },
        "id": "uWYn-sXZlOUB",
        "outputId": "e638f0d5-4f1a-4ba3-f364-fc0dc473dcfc"
      },
      "source": [
        "# You can delete multiple items with slice\n",
        "List4 = list(range(10))\n",
        "print(List4)\n",
        "\n",
        "del List4[2:5]\n",
        "print(List4)\n",
        "\n",
        "List5 = list(range(10))\n",
        "del List5[:3]\n",
        "print(List5)\n",
        "\n",
        "List6 = list(range(10))\n",
        "del List6[4:]\n",
        "print(List6)\n",
        "\n",
        "List7 = list(range(10))\n",
        "del List7[-3:]\n",
        "print(List7)"
      ],
      "execution_count": null,
      "outputs": [
        {
          "output_type": "error",
          "ename": "TypeError",
          "evalue": "ignored",
          "traceback": [
            "\u001b[0;31m---------------------------------------------------------------------------\u001b[0m",
            "\u001b[0;31mTypeError\u001b[0m                                 Traceback (most recent call last)",
            "\u001b[0;32m<ipython-input-33-1cd0a6f25091>\u001b[0m in \u001b[0;36m<module>\u001b[0;34m()\u001b[0m\n\u001b[1;32m      1\u001b[0m \u001b[0;31m# You can delete multiple items with slice\u001b[0m\u001b[0;34m\u001b[0m\u001b[0;34m\u001b[0m\u001b[0;34m\u001b[0m\u001b[0m\n\u001b[0;32m----> 2\u001b[0;31m \u001b[0mList4\u001b[0m \u001b[0;34m=\u001b[0m \u001b[0mlist\u001b[0m\u001b[0;34m(\u001b[0m\u001b[0mrange\u001b[0m\u001b[0;34m(\u001b[0m\u001b[0;36m10\u001b[0m\u001b[0;34m)\u001b[0m\u001b[0;34m)\u001b[0m\u001b[0;34m\u001b[0m\u001b[0;34m\u001b[0m\u001b[0m\n\u001b[0m\u001b[1;32m      3\u001b[0m \u001b[0mprint\u001b[0m\u001b[0;34m(\u001b[0m\u001b[0mList4\u001b[0m\u001b[0;34m)\u001b[0m\u001b[0;34m\u001b[0m\u001b[0;34m\u001b[0m\u001b[0m\n\u001b[1;32m      4\u001b[0m \u001b[0;34m\u001b[0m\u001b[0m\n\u001b[1;32m      5\u001b[0m \u001b[0;32mdel\u001b[0m \u001b[0mList4\u001b[0m\u001b[0;34m[\u001b[0m\u001b[0;36m2\u001b[0m\u001b[0;34m:\u001b[0m\u001b[0;36m5\u001b[0m\u001b[0;34m]\u001b[0m\u001b[0;34m\u001b[0m\u001b[0;34m\u001b[0m\u001b[0m\n",
            "\u001b[0;31mTypeError\u001b[0m: 'list' object is not callable"
          ]
        }
      ]
    },
    {
      "cell_type": "code",
      "metadata": {
        "colab": {
          "base_uri": "https://localhost:8080/",
          "height": 231
        },
        "id": "RWHb-14RpGsX",
        "outputId": "dd5eb03d-f8d8-4975-fc36-9a07137db287"
      },
      "source": [
        "# You can also specify step as [start:stop:step]\n",
        "\n",
        "List8 = list(range(10))\n",
        "del List8[2:8:2]\n",
        "print(List8)\n",
        "\n",
        "List9 = list(range(10))\n",
        "del List9[::3]\n",
        "print(List9)"
      ],
      "execution_count": null,
      "outputs": [
        {
          "output_type": "error",
          "ename": "TypeError",
          "evalue": "ignored",
          "traceback": [
            "\u001b[0;31m---------------------------------------------------------------------------\u001b[0m",
            "\u001b[0;31mTypeError\u001b[0m                                 Traceback (most recent call last)",
            "\u001b[0;32m<ipython-input-34-7c7c5db50330>\u001b[0m in \u001b[0;36m<module>\u001b[0;34m()\u001b[0m\n\u001b[1;32m      1\u001b[0m \u001b[0;31m# You can also specify step as [start:stop:step]\u001b[0m\u001b[0;34m\u001b[0m\u001b[0;34m\u001b[0m\u001b[0;34m\u001b[0m\u001b[0m\n\u001b[1;32m      2\u001b[0m \u001b[0;34m\u001b[0m\u001b[0m\n\u001b[0;32m----> 3\u001b[0;31m \u001b[0mList8\u001b[0m \u001b[0;34m=\u001b[0m \u001b[0mlist\u001b[0m\u001b[0;34m(\u001b[0m\u001b[0mrange\u001b[0m\u001b[0;34m(\u001b[0m\u001b[0;36m10\u001b[0m\u001b[0;34m)\u001b[0m\u001b[0;34m)\u001b[0m\u001b[0;34m\u001b[0m\u001b[0;34m\u001b[0m\u001b[0m\n\u001b[0m\u001b[1;32m      4\u001b[0m \u001b[0;32mdel\u001b[0m \u001b[0mList8\u001b[0m\u001b[0;34m[\u001b[0m\u001b[0;36m2\u001b[0m\u001b[0;34m:\u001b[0m\u001b[0;36m8\u001b[0m\u001b[0;34m:\u001b[0m\u001b[0;36m2\u001b[0m\u001b[0;34m]\u001b[0m\u001b[0;34m\u001b[0m\u001b[0;34m\u001b[0m\u001b[0m\n\u001b[1;32m      5\u001b[0m \u001b[0mprint\u001b[0m\u001b[0;34m(\u001b[0m\u001b[0mList8\u001b[0m\u001b[0;34m)\u001b[0m\u001b[0;34m\u001b[0m\u001b[0;34m\u001b[0m\u001b[0m\n",
            "\u001b[0;31mTypeError\u001b[0m: 'list' object is not callable"
          ]
        }
      ]
    },
    {
      "cell_type": "code",
      "metadata": {
        "colab": {
          "base_uri": "https://localhost:8080/",
          "height": 231
        },
        "id": "nLSUxMRCp0Ug",
        "outputId": "aaa660ae-edac-4982-de6d-7158ae8753fa"
      },
      "source": [
        "# delete all items by specifying the entire range\n",
        "\n",
        "List10 = list(range(10))\n",
        "del List10[:]\n",
        "print(List10)"
      ],
      "execution_count": null,
      "outputs": [
        {
          "output_type": "error",
          "ename": "TypeError",
          "evalue": "ignored",
          "traceback": [
            "\u001b[0;31m---------------------------------------------------------------------------\u001b[0m",
            "\u001b[0;31mTypeError\u001b[0m                                 Traceback (most recent call last)",
            "\u001b[0;32m<ipython-input-35-3a58b1be6c5c>\u001b[0m in \u001b[0;36m<module>\u001b[0;34m()\u001b[0m\n\u001b[1;32m      1\u001b[0m \u001b[0;31m# delete all items by specifying the entire range\u001b[0m\u001b[0;34m\u001b[0m\u001b[0;34m\u001b[0m\u001b[0;34m\u001b[0m\u001b[0m\n\u001b[1;32m      2\u001b[0m \u001b[0;34m\u001b[0m\u001b[0m\n\u001b[0;32m----> 3\u001b[0;31m \u001b[0mList10\u001b[0m \u001b[0;34m=\u001b[0m \u001b[0mlist\u001b[0m\u001b[0;34m(\u001b[0m\u001b[0mrange\u001b[0m\u001b[0;34m(\u001b[0m\u001b[0;36m10\u001b[0m\u001b[0;34m)\u001b[0m\u001b[0;34m)\u001b[0m\u001b[0;34m\u001b[0m\u001b[0;34m\u001b[0m\u001b[0m\n\u001b[0m\u001b[1;32m      4\u001b[0m \u001b[0;32mdel\u001b[0m \u001b[0mList10\u001b[0m\u001b[0;34m[\u001b[0m\u001b[0;34m:\u001b[0m\u001b[0;34m]\u001b[0m\u001b[0;34m\u001b[0m\u001b[0;34m\u001b[0m\u001b[0m\n\u001b[1;32m      5\u001b[0m \u001b[0mprint\u001b[0m\u001b[0;34m(\u001b[0m\u001b[0mList10\u001b[0m\u001b[0;34m)\u001b[0m\u001b[0;34m\u001b[0m\u001b[0;34m\u001b[0m\u001b[0m\n",
            "\u001b[0;31mTypeError\u001b[0m: 'list' object is not callable"
          ]
        }
      ]
    },
    {
      "cell_type": "markdown",
      "metadata": {
        "id": "rBIuhSpsu-ZZ"
      },
      "source": [
        "### **4.6) Clear**\n",
        "- Remove all items"
      ]
    },
    {
      "cell_type": "code",
      "metadata": {
        "colab": {
          "base_uri": "https://localhost:8080/",
          "height": 231
        },
        "id": "u_x5UV7_vCW5",
        "outputId": "4493d4b3-3691-4125-ac3e-52701cd98df8"
      },
      "source": [
        "# You can remove all items from the list with clear()\n",
        " \n",
        "List11 = list(range(10))\n",
        "print(List11)\n",
        " \n",
        "List11.clear()\n",
        "print(List11)"
      ],
      "execution_count": null,
      "outputs": [
        {
          "output_type": "error",
          "ename": "TypeError",
          "evalue": "ignored",
          "traceback": [
            "\u001b[0;31m---------------------------------------------------------------------------\u001b[0m",
            "\u001b[0;31mTypeError\u001b[0m                                 Traceback (most recent call last)",
            "\u001b[0;32m<ipython-input-36-3590d1748b0c>\u001b[0m in \u001b[0;36m<module>\u001b[0;34m()\u001b[0m\n\u001b[1;32m      1\u001b[0m \u001b[0;31m# You can remove all items from the list with clear()\u001b[0m\u001b[0;34m\u001b[0m\u001b[0;34m\u001b[0m\u001b[0;34m\u001b[0m\u001b[0m\n\u001b[1;32m      2\u001b[0m \u001b[0;34m\u001b[0m\u001b[0m\n\u001b[0;32m----> 3\u001b[0;31m \u001b[0mList11\u001b[0m \u001b[0;34m=\u001b[0m \u001b[0mlist\u001b[0m\u001b[0;34m(\u001b[0m\u001b[0mrange\u001b[0m\u001b[0;34m(\u001b[0m\u001b[0;36m10\u001b[0m\u001b[0;34m)\u001b[0m\u001b[0;34m)\u001b[0m\u001b[0;34m\u001b[0m\u001b[0;34m\u001b[0m\u001b[0m\n\u001b[0m\u001b[1;32m      4\u001b[0m \u001b[0mprint\u001b[0m\u001b[0;34m(\u001b[0m\u001b[0mList11\u001b[0m\u001b[0;34m)\u001b[0m\u001b[0;34m\u001b[0m\u001b[0;34m\u001b[0m\u001b[0m\n\u001b[1;32m      5\u001b[0m \u001b[0;34m\u001b[0m\u001b[0m\n",
            "\u001b[0;31mTypeError\u001b[0m: 'list' object is not callable"
          ]
        }
      ]
    },
    {
      "cell_type": "markdown",
      "metadata": {
        "id": "b9GOkEw_aZf9"
      },
      "source": [
        "### **4.7) Insert**"
      ]
    },
    {
      "cell_type": "markdown",
      "metadata": {
        "id": "C2sI37bFcyIt"
      },
      "source": [
        "- The list **insert()** method inserts an element to the list at the **specified index.**\n",
        "\n",
        "#### **Syntax**\n",
        "\n",
        "**list.insert(i, elem)**\n",
        "\n",
        "- Here, **elem** is inserted to the list at the **ith index.** All the elements after elem are **shifted to the right.**"
      ]
    },
    {
      "cell_type": "markdown",
      "metadata": {
        "id": "RwMKlcbBe3Mn"
      },
      "source": [
        "#### **insert() Parameters**\n",
        "\n",
        "The **insert()** method takes two parameters:\n",
        "\n",
        "- **index** - the index where the element needs to be inserted\n",
        "\n",
        "- **element** - this is the element to be inserted in the list\n",
        "\n",
        "**Notes:**\n",
        "\n",
        " - If **index is 0**, the element is inserted at the **beginning of the list**.\n",
        "\n",
        " - If **index is 3**, the index of the inserted element will be **3 (4th element in the list).**"
      ]
    },
    {
      "cell_type": "code",
      "metadata": {
        "colab": {
          "base_uri": "https://localhost:8080/"
        },
        "id": "TEJOrRElfUmg",
        "outputId": "223b7c7d-c184-481f-f6a2-bac251a50fe4"
      },
      "source": [
        "# Inserting an Element to the List\n",
        "\n",
        "# vowel list\n",
        "vowel = ['a', 'e', 'i', 'u']\n",
        "\n",
        "# 'o' is inserted at index 3 (4th position)\n",
        "vowel.insert(3, 'o')\n",
        "\n",
        "print('Updated List:', vowel)"
      ],
      "execution_count": null,
      "outputs": [
        {
          "output_type": "stream",
          "text": [
            "Updated List: ['a', 'e', 'i', 'o', 'u']\n"
          ],
          "name": "stdout"
        }
      ]
    },
    {
      "cell_type": "code",
      "metadata": {
        "colab": {
          "base_uri": "https://localhost:8080/"
        },
        "id": "Z_akwpEjfk_L",
        "outputId": "9a5b0395-9ba8-46cc-9346-eb643e248dee"
      },
      "source": [
        "# Inserting a Tuple (as an Element) to the List\n",
        "\n",
        "mixed_list = [{1, 2}, [5, 6, 7]]\n",
        "\n",
        "# number tuple\n",
        "number_tuple = (3, 4)\n",
        "\n",
        "# inserting a tuple to the list\n",
        "mixed_list.insert(1, number_tuple)\n",
        "\n",
        "print('Updated List:', mixed_list)"
      ],
      "execution_count": null,
      "outputs": [
        {
          "output_type": "stream",
          "text": [
            "Updated List: [{1, 2}, (3, 4), [5, 6, 7]]\n"
          ],
          "name": "stdout"
        }
      ]
    },
    {
      "cell_type": "markdown",
      "metadata": {
        "id": "fftxgsahfRYc"
      },
      "source": [
        "### Question"
      ]
    },
    {
      "cell_type": "code",
      "metadata": {
        "colab": {
          "base_uri": "https://localhost:8080/"
        },
        "id": "cJtPxEC7adI_",
        "outputId": "e1390ea0-36c4-4cc2-8db6-9afc8abbc1b8"
      },
      "source": [
        "my_List1 = [True, 50, 10]\n",
        "my_List1.insert(2, 5)\n",
        "\n",
        "print(my_List1)\n",
        "print(sum(my_List1))"
      ],
      "execution_count": null,
      "outputs": [
        {
          "output_type": "stream",
          "text": [
            "[True, 50, 5, 10]\n",
            "66\n"
          ],
          "name": "stdout"
        }
      ]
    },
    {
      "cell_type": "markdown",
      "metadata": {
        "id": "fpow3wWB_Ebu"
      },
      "source": [
        "#### **4.9) join**\n",
        "##### **Syntax**\n",
        "- **string.join(iterable)**\n",
        "\n",
        "|Parameter      |Description                             |\n",
        "|---------------|----------------------------------------|\n",
        "|iterable       |Required. Any iterable object where all the returned values are strings |"
      ]
    },
    {
      "cell_type": "code",
      "metadata": {
        "colab": {
          "base_uri": "https://localhost:8080/"
        },
        "id": "S3lcIU9SCK4A",
        "outputId": "40f4f189-3d8c-4bac-8a51-69553180620b"
      },
      "source": [
        "# List\n",
        "\n",
        "# create a single string from all the elements in **list**\n",
        "a = [\"python\", \"advance\", \"projects\"]\n",
        "print(\" \".join(a))"
      ],
      "execution_count": null,
      "outputs": [
        {
          "output_type": "stream",
          "text": [
            "python advance projects\n"
          ],
          "name": "stdout"
        }
      ]
    },
    {
      "cell_type": "code",
      "metadata": {
        "colab": {
          "base_uri": "https://localhost:8080/"
        },
        "id": "2-8KASPlAkqM",
        "outputId": "dedaadef-3023-4e60-8cab-30937e517ed8"
      },
      "source": [
        "# tuple\n",
        "\n",
        "# Join all items in a **tuple** into a string, using a hash character as separator\n",
        "myTuple = (\"John\", \"Peter\", \"Vicky\")\n",
        "x = \"#\".join(myTuple)\n",
        "print(x)"
      ],
      "execution_count": null,
      "outputs": [
        {
          "output_type": "stream",
          "text": [
            "John#Peter#Vicky\n"
          ],
          "name": "stdout"
        }
      ]
    },
    {
      "cell_type": "code",
      "metadata": {
        "colab": {
          "base_uri": "https://localhost:8080/"
        },
        "id": "cLmFRn1FBlNu",
        "outputId": "be397b58-6e8f-419d-edb8-d5c1f42c87d5"
      },
      "source": [
        "# Dictionary\n",
        "\n",
        "myDict = {\"name\": \"John\", \"country\": \"Norway\"}\n",
        "mySeparator = \"TEST\"\n",
        "\n",
        "x = mySeparator.join(myDict)\n",
        "\n",
        "print(x)"
      ],
      "execution_count": null,
      "outputs": [
        {
          "output_type": "stream",
          "text": [
            "nameTESTcountry\n"
          ],
          "name": "stdout"
        }
      ]
    },
    {
      "cell_type": "code",
      "metadata": {
        "colab": {
          "base_uri": "https://localhost:8080/"
        },
        "id": "ZEG7AnzgCOHa",
        "outputId": "ad90d057-451f-4d7f-c00f-5f9c515c8644"
      },
      "source": [
        "# Python program to demonstrate the use of join function to join list elements without any separator.\n",
        "# Joining with empty separator\n",
        "\n",
        "list1 = ['g','e','e','k', 's'] \n",
        "print(\"\".join(list1))"
      ],
      "execution_count": null,
      "outputs": [
        {
          "output_type": "stream",
          "text": [
            "geeks\n"
          ],
          "name": "stdout"
        }
      ]
    },
    {
      "cell_type": "code",
      "metadata": {
        "colab": {
          "base_uri": "https://localhost:8080/"
        },
        "id": "Uqvvlfs1Ciw1",
        "outputId": "f910298f-6ea5-450f-b6ad-50d55b072416"
      },
      "source": [
        "# Python program to demonstrate the use of join function to join list elements with a character.\n",
        "  \n",
        "list1 = ['1','2','3','4'] \n",
        "  \n",
        "s = \"-\"\n",
        "  \n",
        "# joins elements of list1 by '-' and stores in sting s\n",
        "s = s.join(list1)\n",
        "  \n",
        "# join use to join a list of strings to a separator s\n",
        "print(s)"
      ],
      "execution_count": null,
      "outputs": [
        {
          "output_type": "stream",
          "text": [
            "1-2-3-4\n"
          ],
          "name": "stdout"
        }
      ]
    },
    {
      "cell_type": "markdown",
      "metadata": {
        "id": "clXJAuDWAgr4"
      },
      "source": [
        "#### **Question**"
      ]
    },
    {
      "cell_type": "code",
      "metadata": {
        "colab": {
          "base_uri": "https://localhost:8080/"
        },
        "id": "Yfd04PdD_TuZ",
        "outputId": "6e7d9510-1e41-474b-ff2e-98d6ca030174"
      },
      "source": [
        "# List\n",
        "\n",
        "# create a single string from all the elements in **list**\n",
        "a = [\"python\", \"advance\", \"projects\"]\n",
        "print(\" \".join(a))"
      ],
      "execution_count": null,
      "outputs": [
        {
          "output_type": "stream",
          "text": [
            "python advance projects\n"
          ],
          "name": "stdout"
        }
      ]
    },
    {
      "cell_type": "code",
      "metadata": {
        "colab": {
          "base_uri": "https://localhost:8080/"
        },
        "id": "h2iC-EjAruhS",
        "outputId": "03390e18-7c00-4ee5-86b5-326654fa5a17"
      },
      "source": [
        "list = [\"python\", \"3\"]\n",
        "print(\"-\".join(list))"
      ],
      "execution_count": null,
      "outputs": [
        {
          "output_type": "stream",
          "text": [
            "python-3\n"
          ],
          "name": "stdout"
        }
      ]
    },
    {
      "cell_type": "markdown",
      "metadata": {
        "id": "I4MGi8wXyEJ7"
      },
      "source": [
        "#### **4.10) Count**"
      ]
    },
    {
      "cell_type": "markdown",
      "metadata": {
        "id": "erAl2GvTylQ-"
      },
      "source": [
        "- The count() method returns the number of times the specified element appears in the list\n",
        "\n",
        "##### **Syntax**\n",
        "\n",
        "**list.count(element)**"
      ]
    },
    {
      "cell_type": "markdown",
      "metadata": {
        "id": "_6OcWPEpzIiO"
      },
      "source": [
        "##### **count() Parameters**\n",
        "\n",
        "The count() method takes a **single argument:**\n",
        "\n",
        " - element - the element to be counted\n",
        "\n",
        "##### **Return value from count()**\n",
        "\n",
        "- The **count()** method returns the **number of times** element appears in the list."
      ]
    },
    {
      "cell_type": "code",
      "metadata": {
        "colab": {
          "base_uri": "https://localhost:8080/"
        },
        "id": "6PseNk64zQzk",
        "outputId": "ceb18929-5654-47d9-82e5-3e8f4a2065e7"
      },
      "source": [
        "# vowels list\n",
        "vowels = ['a', 'e', 'i', 'o', 'i', 'u']\n",
        "\n",
        "# count element 'i'\n",
        "count = vowels.count('i')\n",
        "\n",
        "# print count\n",
        "print('The count of i is:', count)\n",
        "\n",
        "# count element 'p'\n",
        "count = vowels.count('p')\n",
        "\n",
        "# print count\n",
        "print('The count of p is:', count)"
      ],
      "execution_count": null,
      "outputs": [
        {
          "output_type": "stream",
          "text": [
            "The count of i is: 2\n",
            "The count of p is: 0\n"
          ],
          "name": "stdout"
        }
      ]
    },
    {
      "cell_type": "markdown",
      "metadata": {
        "id": "wmbf12v2zgZj"
      },
      "source": [
        "###### **Count Tuple and List Elements Inside List**"
      ]
    },
    {
      "cell_type": "code",
      "metadata": {
        "colab": {
          "base_uri": "https://localhost:8080/"
        },
        "id": "iM1qrKyCzVYM",
        "outputId": "09b24b38-1368-4cc3-8f74-2a8d0e27ad41"
      },
      "source": [
        "# random list\n",
        "random = ['a', ('a', 'b'), ('a', 'b'), [3, 4]]\n",
        "\n",
        "# count element ('a', 'b')\n",
        "count = random.count(('a', 'b'))\n",
        "\n",
        "# print count\n",
        "print(\"The count of ('a', 'b') is:\", count)\n",
        "\n",
        "# count element [3, 4]\n",
        "count = random.count([3, 4])\n",
        "\n",
        "# print count\n",
        "print(\"The count of [3, 4] is:\", count)"
      ],
      "execution_count": null,
      "outputs": [
        {
          "output_type": "stream",
          "text": [
            "The count of ('a', 'b') is: 2\n",
            "The count of [3, 4] is: 1\n"
          ],
          "name": "stdout"
        }
      ]
    },
    {
      "cell_type": "markdown",
      "metadata": {
        "id": "9WCiKJO6Awej"
      },
      "source": [
        "#### **4.11) How do you remove Duplicates From a List**\n",
        "##### Lets remove duplicates from list names=['A','B','C','A','D','E','F','G','H','E','D']"
      ]
    },
    {
      "cell_type": "markdown",
      "metadata": {
        "id": "0LgmnDZhBJtr"
      },
      "source": [
        "- You can **remove duplicates** using a Python **set or the dict.fromkeys()** method.\n",
        "\n",
        "- The **dict.fromkeys()** method **converts** a **list into a dictionary**. **Dictionaries** cannot contain **duplicate** values so a dictionary with only unique values is returned by dict.fromkeys().\n",
        "\n",
        "- **Sets**, like dictionaries, cannot contain **duplicate values**. If we convert a **list to a set**, all the **duplicates are removed**."
      ]
    },
    {
      "cell_type": "markdown",
      "metadata": {
        "id": "f4AXNyij-9Z3"
      },
      "source": [
        "![1.JPG](data:image/jpeg;base64,/9j/4AAQSkZJRgABAQEAYABgAAD/4REiRXhpZgAATU0AKgAAAAgABAE7AAIAAAAdAAAISodpAAQAAAABAAAIaJydAAEAAAA6AAAQ4OocAAcAAAgMAAAAPgAAAAAc6gAAAAgAAAAAAAAAAAAAAAAAAAAAAAAAAAAAAAAAAAAAAAAAAAAAAAAAAAAAAAAAAAAAAAAAAAAAAAAAAAAAAAAAAAAAAAAAAAAAAAAAAAAAAAAAAAAAAAAAAAAAAAAAAAAAAAAAAAAAAAAAAAAAAAAAAAAAAAAAAAAAAAAAAAAAAAAAAAAAAAAAAAAAAAAAAAAAAAAAAAAAAAAAAAAAAAAAAAAAAAAAAAAAAAAAAAAAAAAAAAAAAAAAAAAAAAAAAAAAAAAAAAAAAAAAAAAAAAAAAAAAAAAAAAAAAAAAAAAAAAAAAAAAAAAAAAAAAAAAAAAAAAAAAAAAAAAAAAAAAAAAAAAAAAAAAAAAAAAAAAAAAAAAAAAAAAAAAAAAAAAAAAAAAAAAAAAAAAAAAAAAAAAAAAAAAAAAAAAAAAAAAAAAAAAAAAAAAAAAAAAAAAAAAAAAAAAAAAAAAAAAAAAAAAAAAAAAAAAAAAAAAAAAAAAAAAAAAAAAAAAAAAAAAAAAAAAAAAAAAAAAAAAAAAAAAAAAAAAAAAAAAAAAAAAAAAAAAAAAAAAAAAAAAAAAAAAAAAAAAAAAAAAAAAAAAAAAAAAAAAAAAAAAAAAAAAAAAAAAAAAAAAAAAAAAAAAAAAAAAAAAAAAAAAAAAAAAAAAAAAAAAAAAAAAAAAAAAAAAAAAAAAAAAAAAAAAAAAAAAAAAAAAAAAAAAAAAAAAAAAAAAAAAAAAAAAAAAAAAAAAAAAAAAAAAAAAAAAAAAAAAAAAAAAAAAAAAAAAAAAAAAAAAAAAAAAAAAAAAAAAAAAAAAAAAAAAAAAAAAAAAAAAAAAAAAAAAAAAAAAAAAAAAAAAAAAAAAAAAAAAAAAAAAAAAAAAAAAAAAAAAAAAAAAAAAAAAAAAAAAAAAAAAAAAAAAAAAAAAAAAAAAAAAAAAAAAAAAAAAAAAAAAAAAAAAAAAAAAAAAAAAAAAAAAAAAAAAAAAAAAAAAAAAAAAAAAAAAAAAAAAAAAAAAAAAAAAAAAAAAAAAAAAAAAAAAAAAAAAAAAAAAAAAAAAAAAAAAAAAAAAAAAAAAAAAAAAAAAAAAAAAAAAAAAAAAAAAAAAAAAAAAAAAAAAAAAAAAAAAAAAAAAAAAAAAAAAAAAAAAAAAAAAAAAAAAAAAAAAAAAAAAAAAAAAAAAAAAAAAAAAAAAAAAAAAAAAAAAAAAAAAAAAAAAAAAAAAAAAAAAAAAAAAAAAAAAAAAAAAAAAAAAAAAAAAAAAAAAAAAAAAAAAAAAAAAAAAAAAAAAAAAAAAAAAAAAAAAAAAAAAAAAAAAAAAAAAAAAAAAAAAAAAAAAAAAAAAAAAAAAAAAAAAAAAAAAAAAAAAAAAAAAAAAAAAAAAAAAAAAAAAAAAAAAAAAAAAAAAAAAAAAAAAAAAAAAAAAAAAAAAAAAAAAAAAAAAAAAAAAAAAAAAAAAAAAAAAAAAAAAAAAAAAAAAAAAAAAAAAAAAAAAAAAAAAAAAAAAAAAAAAAAAAAAAAAAAAAAAAAAAAAAAAAAAAAAAAAAAAAAAAAAAAAAAAAAAAAAAAAAAAAAAAAAAAAAAAAAAAAAAAAAAAAAAAAAAAAAAAAAAAAAAAAAAAAAAAAAAAAAAAAAAAAAAAAAAAAAAAAAAAAAAAAAAAAAAAAAAAAAAAAAAAAAAAAAAAAAAAAAAAAAAAAAAAAAAAAAAAAAAAAAAAAAAAAAAAAAAAAAAAAAAAAAAAAAAAAAAAAAAAAAAAAAAAAAAAAAAAAAAAAAAAAAAAAAAAAAAAAAAAAAAAAAAAAAAAAAAAAAAAAAAAAAAAAAAAAAAAAAAAAAAAAAAAAAAAAAAAAAAAAAAAAAAAAAAAAAAAAAAAAAAAAAAAAAAAAAAAAAAAAAAAAAAAAAAAAAAAAAAAAAAAAAAAAAAAAAAAAAAAAAAAAAAAAAAAAAAAAAAAAAAAAAAAAAAAAAAAAAAAAAAAAAAAAAAAAAAAAAAAAAAAAAAAAAAAAAAAAAAAAAAAAAAAAAAAAAAAAAAAAAAAAAAAAAAAAAAAAAAAAAAAAAAAAAAAAAAAAAAAAAAAAAAAAAAAAAAAAAAAAAAAAAAAAAAAAAAAAAAAAAAAAAAAAAAAAAAAAAAAAAAAAAAAAAAAAAAAAAAAAAAAAAAAAAAAAAAAAAAAAAAAAAAAAAAAAAAAAAAAAAAAAAAAAAAAAAAAAAAAAAAAAAAAAAAAAAAAAAAAAAAAAAAAAAAAAAAAAAAAAAAAAAAAAAAAAAAAAAAAAAAAAAAAAAAAAAAAAAAAAAAAAAAAAAAAAAAAAAAAAAAAAAAAAAAAAAAAAAAAAAAAAAAAAAAAAAAAAAAAAAAAAAAAAAAAAAAAAAAAAAAAAAAAAAAAAAAAAAAAAAAAAAAAAAAAAAAAAAAAAAAAAAAAAAAAAAAAAAAAAAAAAAAAAAAAAAAAAAAAAAAAAAAAAAAAAAAAAAAAAAAAAAAAAAAAAAAAAAAAAAAAAAAAAAAAAAAAAAAAAAAAAAAAAAAAAAAAAAAAAAAAAAAAAAAAAAAAAAAAAAAAAAAAAAAAAAAAAAAAAAAAAAAAAAAAAAAAAAAAAAAAAAAAAAAAAAAAAAAAAAAAAAAAAAAAAAAAAAAAAAAAAAAAAAAAAAAAAAAAAAAAAAAAAAAAAAAAAAAAAAAAAAAAAAAAAAAAAAAAAAAAAAAAAAAAAAAAAAAAAAAAAAAAAAAAAAAAAAAAAAAAAAAAAAAAAAAAAAAAEFudWdhbnRpIFN1cmVzaCAoQ29uc3VsdGFudCkAAAAFkAMAAgAAABQAABC2kAQAAgAAABQAABDKkpEAAgAAAAMzNwAAkpIAAgAAAAMzNwAA6hwABwAACAwAAAiqAAAAABzqAAAACAAAAAAAAAAAAAAAAAAAAAAAAAAAAAAAAAAAAAAAAAAAAAAAAAAAAAAAAAAAAAAAAAAAAAAAAAAAAAAAAAAAAAAAAAAAAAAAAAAAAAAAAAAAAAAAAAAAAAAAAAAAAAAAAAAAAAAAAAAAAAAAAAAAAAAAAAAAAAAAAAAAAAAAAAAAAAAAAAAAAAAAAAAAAAAAAAAAAAAAAAAAAAAAAAAAAAAAAAAAAAAAAAAAAAAAAAAAAAAAAAAAAAAAAAAAAAAAAAAAAAAAAAAAAAAAAAAAAAAAAAAAAAAAAAAAAAAAAAAAAAAAAAAAAAAAAAAAAAAAAAAAAAAAAAAAAAAAAAAAAAAAAAAAAAAAAAAAAAAAAAAAAAAAAAAAAAAAAAAAAAAAAAAAAAAAAAAAAAAAAAAAAAAAAAAAAAAAAAAAAAAAAAAAAAAAAAAAAAAAAAAAAAAAAAAAAAAAAAAAAAAAAAAAAAAAAAAAAAAAAAAAAAAAAAAAAAAAAAAAAAAAAAAAAAAAAAAAAAAAAAAAAAAAAAAAAAAAAAAAAAAAAAAAAAAAAAAAAAAAAAAAAAAAAAAAAAAAAAAAAAAAAAAAAAAAAAAAAAAAAAAAAAAAAAAAAAAAAAAAAAAAAAAAAAAAAAAAAAAAAAAAAAAAAAAAAAAAAAAAAAAAAAAAAAAAAAAAAAAAAAAAAAAAAAAAAAAAAAAAAAAAAAAAAAAAAAAAAAAAAAAAAAAAAAAAAAAAAAAAAAAAAAAAAAAAAAAAAAAAAAAAAAAAAAAAAAAAAAAAAAAAAAAAAAAAAAAAAAAAAAAAAAAAAAAAAAAAAAAAAAAAAAAAAAAAAAAAAAAAAAAAAAAAAAAAAAAAAAAAAAAAAAAAAAAAAAAAAAAAAAAAAAAAAAAAAAAAAAAAAAAAAAAAAAAAAAAAAAAAAAAAAAAAAAAAAAAAAAAAAAAAAAAAAAAAAAAAAAAAAAAAAAAAAAAAAAAAAAAAAAAAAAAAAAAAAAAAAAAAAAAAAAAAAAAAAAAAAAAAAAAAAAAAAAAAAAAAAAAAAAAAAAAAAAAAAAAAAAAAAAAAAAAAAAAAAAAAAAAAAAAAAAAAAAAAAAAAAAAAAAAAAAAAAAAAAAAAAAAAAAAAAAAAAAAAAAAAAAAAAAAAAAAAAAAAAAAAAAAAAAAAAAAAAAAAAAAAAAAAAAAAAAAAAAAAAAAAAAAAAAAAAAAAAAAAAAAAAAAAAAAAAAAAAAAAAAAAAAAAAAAAAAAAAAAAAAAAAAAAAAAAAAAAAAAAAAAAAAAAAAAAAAAAAAAAAAAAAAAAAAAAAAAAAAAAAAAAAAAAAAAAAAAAAAAAAAAAAAAAAAAAAAAAAAAAAAAAAAAAAAAAAAAAAAAAAAAAAAAAAAAAAAAAAAAAAAAAAAAAAAAAAAAAAAAAAAAAAAAAAAAAAAAAAAAAAAAAAAAAAAAAAAAAAAAAAAAAAAAAAAAAAAAAAAAAAAAAAAAAAAAAAAAAAAAAAAAAAAAAAAAAAAAAAAAAAAAAAAAAAAAAAAAAAAAAAAAAAAAAAAAAAAAAAAAAAAAAAAAAAAAAAAAAAAAAAAAAAAAAAAAAAAAAAAAAAAAAAAAAAAAAAAAAAAAAAAAAAAAAAAAAAAAAAAAAAAAAAAAAAAAAAAAAAAAAAAAAAAAAAAAAAAAAAAAAAAAAAAAAAAAAAAAAAAAAAAAAAAAAAAAAAAAAAAAAAAAAAAAAAAAAAAAAAAAAAAAAAAAAAAAAAAAAAAAAAAAAAAAAAAAAAAAAAAAAAAAAAAAAAAAAAAAAAAAAAAAAAAAAAAAAAAAAAAAAAAAAAAAAAAAAAAAAAAAAAAAAAAAAAAAAAAAAAAAAAAAAAAAAAAAAAAAAAAAAAAAAAAAAAAAAAAAAAAAAAAAAAAAAAAAAAAAAAAAAAAAAAAAAAAAAAAAAAAAAAAAAAAAAAAAAAAAAAAAAAAAAAAAAAAAAAAAAAAAAAAAAAAAAAAAAAAAAAAAAAAAAAAAAAAAAAAAAAAAAAAAAAAAAAAAAAAAAAAAAAAAAAAAAAAAAAAAAAAAAAAAAAAAAAAAAAAAAAAAAAAAAAAAAAAAAAAAAAAAAAAAAAAAAAAAAAAAAAAAAAAAAAAAAAAAAAAAAAAAAAAAAAAAAAAAAAAAAAAAAAAAAAAAAAAAAAAAAAAAAAAAAAAAAAAAAAAAAAAAAAAAAAAAAAAAAAAAAAAAAAAAAAAAAAAAAAAAAAAAAAAAAAAAAAAAAAAAAAAAAAAAAAAAAAAAAAAAAAAAAAAAAAAAAAAAAAAAAAAAAAAAAAAAAAAAAAAAAAAAAAAAAAAAAAAAAAAAAAAAAAAAAAAAAAAAAAAAAAAAAAAAAAAAAAAAAAAAAAAAAAAAAAAAAAAAAAAAAAAAAAAAAAAAAAAAAAAAAAAAAAAAAAAAAAAAAAAAAAAAAAAAAAAAAAAAAAAAAAAAAAAAAAAAAAAAAAAAAAAAAAAAAAAAAAAAAAAAAAAAAAAAAAAAAAAAAAAAAAAAAAAAAAAAAAAAAAAAAAAAAAAAAAAAAAAAAAAAAAAAAAAAAAAAAAAAAAAAAAAAAAAAAAAAAAAAAAAAAAAAAAAAAAAAAAAAAAAAAAAAAAAAAAAAAAAAAAAAAAAAAAAAAAAAAAAAAAAAAAAAAAAAAAAAAAAAAAAAAAAAAAAAAAAAAAAAAAAAAAAAAAAAAAAAAAAAAAAAAAAAAAAAAAAAAAAAAAAAAAAAAAAAAAAAAMjAyMTowNzoxNSAxMjozNDo1MQAyMDIxOjA3OjE1IDEyOjM0OjUxAAAAQQBuAHUAZwBhAG4AdABpACAAUwB1AHIAZQBzAGgAIAAoAEMAbwBuAHMAdQBsAHQAYQBuAHQAKQAAAP/hCy9odHRwOi8vbnMuYWRvYmUuY29tL3hhcC8xLjAvADw/eHBhY2tldCBiZWdpbj0n77u/JyBpZD0nVzVNME1wQ2VoaUh6cmVTek5UY3prYzlkJz8+DQo8eDp4bXBtZXRhIHhtbG5zOng9ImFkb2JlOm5zOm1ldGEvIj48cmRmOlJERiB4bWxuczpyZGY9Imh0dHA6Ly93d3cudzMub3JnLzE5OTkvMDIvMjItcmRmLXN5bnRheC1ucyMiPjxyZGY6RGVzY3JpcHRpb24gcmRmOmFib3V0PSJ1dWlkOmZhZjViZGQ1LWJhM2QtMTFkYS1hZDMxLWQzM2Q3NTE4MmYxYiIgeG1sbnM6ZGM9Imh0dHA6Ly9wdXJsLm9yZy9kYy9lbGVtZW50cy8xLjEvIi8+PHJkZjpEZXNjcmlwdGlvbiByZGY6YWJvdXQ9InV1aWQ6ZmFmNWJkZDUtYmEzZC0xMWRhLWFkMzEtZDMzZDc1MTgyZjFiIiB4bWxuczp4bXA9Imh0dHA6Ly9ucy5hZG9iZS5jb20veGFwLzEuMC8iPjx4bXA6Q3JlYXRlRGF0ZT4yMDIxLTA3LTE1VDEyOjM0OjUxLjM2NzwveG1wOkNyZWF0ZURhdGU+PC9yZGY6RGVzY3JpcHRpb24+PHJkZjpEZXNjcmlwdGlvbiByZGY6YWJvdXQ9InV1aWQ6ZmFmNWJkZDUtYmEzZC0xMWRhLWFkMzEtZDMzZDc1MTgyZjFiIiB4bWxuczpkYz0iaHR0cDovL3B1cmwub3JnL2RjL2VsZW1lbnRzLzEuMS8iPjxkYzpjcmVhdG9yPjxyZGY6U2VxIHhtbG5zOnJkZj0iaHR0cDovL3d3dy53My5vcmcvMTk5OS8wMi8yMi1yZGYtc3ludGF4LW5zIyI+PHJkZjpsaT5BbnVnYW50aSBTdXJlc2ggKENvbnN1bHRhbnQpPC9yZGY6bGk+PC9yZGY6U2VxPg0KCQkJPC9kYzpjcmVhdG9yPjwvcmRmOkRlc2NyaXB0aW9uPjwvcmRmOlJERj48L3g6eG1wbWV0YT4NCiAgICAgICAgICAgICAgICAgICAgICAgICAgICAgICAgICAgICAgICAgICAgICAgICAgICAgICAgICAgICAgICAgICAgICAgICAgICAgICAgICAgICAgICAgICAgICAgICAgICAKICAgICAgICAgICAgICAgICAgICAgICAgICAgICAgICAgICAgICAgICAgICAgICAgICAgICAgICAgICAgICAgICAgICAgICAgICAgICAgICAgICAgICAgICAgICAgICAgICAgIAogICAgICAgICAgICAgICAgICAgICAgICAgICAgICAgICAgICAgICAgICAgICAgICAgICAgICAgICAgICAgICAgICAgICAgICAgICAgICAgICAgICAgICAgICAgICAgICAgICAgCiAgICAgICAgICAgICAgICAgICAgICAgICAgICAgICAgICAgICAgICAgICAgICAgICAgICAgICAgICAgICAgICAgICAgICAgICAgICAgICAgICAgICAgICAgICAgICAgICAgICAKICAgICAgICAgICAgICAgICAgICAgICAgICAgICAgICAgICAgICAgICAgICAgICAgICAgICAgICAgICAgICAgICAgICAgICAgICAgICAgICAgICAgICAgICAgICAgICAgICAgIAogICAgICAgICAgICAgICAgICAgICAgICAgICAgICAgICAgICAgICAgICAgICAgICAgICAgICAgICAgICAgICAgICAgICAgICAgICAgICAgICAgICAgICAgICAgICAgICAgICAgCiAgICAgICAgICAgICAgICAgICAgICAgICAgICAgICAgICAgICAgICAgICAgICAgICAgICAgICAgICAgICAgICAgICAgICAgICAgICAgICAgICAgICAgICAgICAgICAgICAgICAKICAgICAgICAgICAgICAgICAgICAgICAgICAgICAgICAgICAgICAgICAgICAgICAgICAgICAgICAgICAgICAgICAgICAgICAgICAgICAgICAgICAgICAgICAgICAgICAgICAgIAogICAgICAgICAgICAgICAgICAgICAgICAgICAgICAgICAgICAgICAgICAgICAgICAgICAgICAgICAgICAgICAgICAgICAgICAgICAgICAgICAgICAgICAgICAgICAgICAgICAgCiAgICAgICAgICAgICAgICAgICAgICAgICAgICAgICAgICAgICAgICAgICAgICAgICAgICAgICAgICAgICAgICAgICAgICAgICAgICAgICAgICAgICAgICAgICAgICAgICAgICAKICAgICAgICAgICAgICAgICAgICAgICAgICAgICAgICAgICAgICAgICAgICAgICAgICAgICAgICAgICAgICAgICAgICAgICAgICAgICAgICAgICAgICAgICAgICAgICAgICAgIAogICAgICAgICAgICAgICAgICAgICAgICAgICAgICAgICAgICAgICAgICAgICAgICAgICAgICAgICAgICAgICAgICAgICAgICAgICAgICAgICAgICAgICAgICAgICAgICAgICAgCiAgICAgICAgICAgICAgICAgICAgICAgICAgICAgICAgICAgICAgICAgICAgICAgICAgICAgICAgICAgICAgICAgICAgICAgICAgICAgICAgICAgICAgICAgICAgICAgICAgICAKICAgICAgICAgICAgICAgICAgICAgICAgICAgICAgICAgICAgICAgICAgICAgICAgICAgICAgICAgICAgICAgICAgICAgICAgICAgICAgICAgICAgICAgICAgICAgICAgICAgIAogICAgICAgICAgICAgICAgICAgICAgICAgICAgICAgICAgICAgICAgICAgICAgICAgICAgICAgICAgICAgICAgICAgICAgICAgICAgICAgICAgICAgICAgICAgICAgICAgICAgCiAgICAgICAgICAgICAgICAgICAgICAgICAgICAgICAgICAgICAgICAgICAgICAgICAgICAgICAgICAgICAgICAgICAgICAgICAgICAgICAgICAgICAgICAgICAgICAgICAgICAKICAgICAgICAgICAgICAgICAgICAgICAgICAgICAgICAgICAgICAgICAgICAgICAgICAgICAgICAgICAgICAgICAgICAgICAgICAgICAgICAgICAgICAgICAgICAgICAgICAgIAogICAgICAgICAgICAgICAgICAgICAgICAgICAgICAgICAgICAgICAgICAgICAgICAgICAgICAgICAgICAgICAgICAgICAgICAgICAgICAgICAgICAgICAgICAgICAgICAgICAgCiAgICAgICAgICAgICAgICAgICAgICAgICAgICAgICAgICAgICAgICAgICAgICAgICAgICAgICAgICAgICAgICAgICAgICAgICAgICAgICAgICAgICAgICAgICAgICAgICAgICAKICAgICAgICAgICAgICAgICAgICAgICAgICAgICAgICAgICAgICAgICAgICAgICAgICAgICAgICAgICAgICAgICAgICAgICAgICAgICAgICAgICAgICAgICAgICAgICAgICAgIAogICAgICAgICAgICAgICAgICAgICAgICAgICAgPD94cGFja2V0IGVuZD0ndyc/Pv/bAEMABwUFBgUEBwYFBggHBwgKEQsKCQkKFQ8QDBEYFRoZGBUYFxseJyEbHSUdFxgiLiIlKCkrLCsaIC8zLyoyJyorKv/bAEMBBwgICgkKFAsLFCocGBwqKioqKioqKioqKioqKioqKioqKioqKioqKioqKioqKioqKioqKioqKioqKioqKioqKv/AABEIAeMB7wMBIgACEQEDEQH/xAAfAAABBQEBAQEBAQAAAAAAAAAAAQIDBAUGBwgJCgv/xAC1EAACAQMDAgQDBQUEBAAAAX0BAgMABBEFEiExQQYTUWEHInEUMoGRoQgjQrHBFVLR8CQzYnKCCQoWFxgZGiUmJygpKjQ1Njc4OTpDREVGR0hJSlNUVVZXWFlaY2RlZmdoaWpzdHV2d3h5eoOEhYaHiImKkpOUlZaXmJmaoqOkpaanqKmqsrO0tba3uLm6wsPExcbHyMnK0tPU1dbX2Nna4eLj5OXm5+jp6vHy8/T19vf4+fr/xAAfAQADAQEBAQEBAQEBAAAAAAAAAQIDBAUGBwgJCgv/xAC1EQACAQIEBAMEBwUEBAABAncAAQIDEQQFITEGEkFRB2FxEyIygQgUQpGhscEJIzNS8BVictEKFiQ04SXxFxgZGiYnKCkqNTY3ODk6Q0RFRkdISUpTVFVWV1hZWmNkZWZnaGlqc3R1dnd4eXqCg4SFhoeIiYqSk5SVlpeYmZqio6Slpqeoqaqys7S1tre4ubrCw8TFxsfIycrS09TV1tfY2dri4+Tl5ufo6ery8/T19vf4+fr/2gAMAwEAAhEDEQA/APnSiiimIKKKKACiiigAooooAKKKKACiiigAooooAKKKKACiiigAooooAKKKKACiiigAooooAKKKKACiiigAooooAKKKKACiiigAooooAKKKKACiiigAooooAKKKKACiiigAooooAKKKKACiiigAooooAKKKKACiiigAooooAKKKKACiiigAooooAKKKKACiiigAooooAKKKKACiiigAooooAKKKKACiiigAooooAKKKKACiiigAooooAKKKKACiiigAooooAKKKKACiiigAooooAKKKKACiiigAooooAKKKKACiiigAooooAVVLEBQST2FdTpXwz8X6zEsun6HcvG33XcCMH8WIr0H9n3wbZavd3uu6jCk/2F1jt45FBUOQSWwe4GMfWvV9I+J2iav42n8MWyzi5hLKsrLhJCv3gO/GD+VfM5nndbD1Z0cLS53BXk+xrGCau2fON58IvHFjAZp9BnKAZPlukhH4KSa5CaCS3maKZGjkQ4ZWUgg+4NfeOOOK8e+Pfgqyu/DEniS1iWO/s9omZRjzIycc+pBI59M15uU8VLF11Qrw5XLZoqdKyuj5qooor7gwCiiigAooooAXFex+HP2fZfEPhuy1ZfEcduLuISeUbMtsz2zvGa8bFfZ3w3/5Jtof/XqlfN8RZhiMBh4Tw7s3KxpSipSszyf/AIZkm/6GuL/wBP8A8XWB4i/Z+8RaPbPcaZcwatGnJWJTHJj/AHT1/A1T1r4w+NLPxBfQW+qKI4bmREXyUPAYgdq9e+DvxGvfG9nd22sLGbyz2sJI12h1Oeo7HIrgr4jOsFR+s1JRnFatJa2LShJ2R8tSwPBM0UqMjqxVlYYIPpivYPDvwCi8TeH7TV9P8VxmC5j3gfYjlT0Kn5+oIIqt+0JoFtpXjC1v7RBGdRhZ5lUcF1OM/iMZrW/Z68ZfZ7+fwxeSYS5JmtcngOOq/iOfwr1cZjq9XLVjMHva9t9OpCiuflZ5D4h0K58N69d6VfjE9rIUJxjd6EexGD+NaXgXwXdeOvEaaVaS/ZxsMks5TcIlHfGRnkgde9eq/tD+ESJLTxNbR/KwFvc4HQ/wMfwBH5V03wF8Kf2J4ObV7iPbc6oQ6kjkRDgD8Tk/lWNbPILKli4fE9F/iGoe/Y8w8efBqHwJ4dOp3XiWO5dpBHDbi0KGRj77zgADOam8E/A6Txl4Xt9ZTX0sxMWHktaF8YOOu8VR+NfjEeJ/Gb2trLvstMzBEVPDN/G35jH4VhaJ8TfFPh7S49O0q/ENtGSVQxK2MnJ5IrpprMqmBg1JKq9Xdaegvdv5Hpf/AAzJP/0NUX/gAf8A45Qf2ZJ/+hri/wDAA/8AxdafwP8AHfiDxb4j1K2128FxFDaeYgEarht4GeB71c+OXjXXfCM2kDQrsW4uRIZMxq2cYx1HvXzjxudLHrAe0jzWve2hpyw5eY4fxZ8BZPCnhO/1t/EMd2LOMOYVtCm7LBeu446+lcX8P/BR8deIX0pb0WTCEyiUx7+hAxjI9an1b4qeLNb0m40zUtQWa1uV2yJ5SjIBB6geoFdJ+z1z8SJM/wDPm/8ANa+lc8ZhsBVqYiSc0m00tNuxnpKSSM74j/Cd/h5p1ndvrCagLqUx7VtzHtwM5+8c154BX0X+0r/yLmi/9fb/APoFfOmD2q8lxVXGYGFer8Tv+YppKTSPV/BXwNk8ZeE7bW019LMXDOBCbQuV2sR13D09K888UaGfDfie/wBHM4uDZTGIyhNu/HfGTivqH4H/APJJNLz13zf+jGr51+KP/JUfEH/X7J/OuHLsyxGIzLEYab92G33lSilFM5/S9Lu9Y1CKy0+B57iY7UjQZJNexaJ+zhfXFusuu6tHaOwz5EEfmFfqxIH5Zrpf2ffCkFn4YfxDPEDdXrNFE5HKxqe31IP5CsX4r/GLVdM8STaL4XuEt0s28ueYIGZpP4gM9AOn1zWOKzLGYvGyweX2XL8UmEYpR5pFXXf2b723tXm0HWI7uRRkW80Xlk/RskZ+uK8b1PS7zR9QlsdSt5Le5hO2SNxgg17d8KfjJq+peJYdF8TzLcx3R2w3G0KyP2Bx1B6VtftA+ELe98Nx+I7aMLd2bBJmA5kjY45+hx+Bow2ZYzC42ODzCz5vhkhyjFx5ongHhrRT4i8R2OkicW7XkyxCUru2ZPXHevVtZ/Zxv9O0e6u7HXUv54Yy6262hQyY7A7zz+FeffDT/kpWhf8AX5H/ADr7MY/L81Y8RZvictrU1R2er0CnBSWp8GSIY3KsCCDgg9jXffDb4WP8RLa/lj1ZbD7G6KQ1uZN+4E/3hj7ta/xy8Cnw74i/tmwixYaixY7RxHL1YH65yPxrrf2Z/wDkG+IM/wDPaD+T16OOzRrK3jcM9bL89SIx9/lZ5P8AEPwM3gHxAmlvfrfFoFm81YvL6kjGMn09a5OvWf2iv+Si2/8A14x/+hNXktelgK08RhKdWpvJJsUlaQte76V+zFc6ppFrfL4phjFzCkuw2JO3cAcZ3+9eEV3dt8aPHVpaxW1vrBjhhQIiiFOABgdq7SD0j/hlK7PTxdB/4AH/AOLpP+GUrv8A6G6D/wAAD/8AF133wD8Waz4u8L6jd6/eG6miuRGhKBdo2g9hXn/xq+Jvivwt8RZ9N0TUzb2qwxsI/LVsEjJ6imK7OP8AiX8F5fhx4ft9Sm1qPUPtFyIAiW5j25Vmz94/3aqfC/4SyfEy2v5IdXXTjZOikNbmXfuBP94Y6VheJfiN4m8X6clhr9/9qgjlEqAxquGAIzkD0Jr2j9lXmz8Qf9dYf/QWoGUv+GUrv/oboP8AwAP/AMcqjqf7Let2ts0mma7aX0g5ETwtDu+hywrZ+O3xH8UeE/HFvZaDqJtrd7VZCnlq2TuYZ5HsKj+Dnxr1/W/FttoHiWSO7jugyxyrGFdGAzzjqOD2oFqeE+IfDmp+GNWl03WbV7a5jPKN0I9QehHuKueCPCzeNPGFloKXQs2uywExj37cKW6ZHpX0P+01odrc+C7HVDGou7a5EfmY5KMDlc+mRmvGvgXz8ZdD/wB+T/0W9A+hqfEb4Gz/AA98OLq0uux36tKIvKW1MeMgnOdx9K8pr62/aW/5JnF/1+L/AOgtXzN4M0CXxP4y0vR4cg3VwqEjqqjlj+Cgn8KATudD4C+D/iHx6oubRVs9P3YN3cA7T/ujq34ce9eoD9laH7OAfErebj732X5c/wDfVep+MvEFj8Lvhw9zY2yhLSNbeztxwCx4UH2HU/Q18xt8dfHragbk60dpfd5IhTZ9MYoFqx3j34J+IvA0DXrbdS01et1bqRs/3lPI+vI9685xzxX214C8YWnxC+HcN5qogSSdXguoWIClhwcA9iDn8a+Q/HGiJ4d8carpcLBora5dYmBzlM5X9MUDTex6Z4X/AGcp/E3hWw1uPxLFbpeQCbyjZlime2d/NeO6jZ/YNTubPd5hglaItjG7acZxX2z8J/8AkkOg/wDXitfOfgT4bT+PfiZqRuY2XSLS8ka6l6bvnOEHucfgKBXD4e/AfVPHWhPq02orpVsW2weZbmQzAdWA3DA6fWsT4kfDmz+Hl1DZHxFHql/INz28dt5flLjgltx5PYYr6f8AH/jTS/hh4MAt0iSfyvJsLNeMkDA4/urxn/69fGes6xea7rFxqWpTtPdXDl5HbuTQNXKNFFFIYAE9K0bTw7rN/F5llpV7cJ2eO3dgfxAru/gp4ItvFviiWfU4vOsNPQPJGejuT8qn24Jx7V9UQRJBGscCCONAFVFGAo9AK+WzniKlllT2MY80uprCk5K54l8Er3/hE/D+o2+u2WoWss1yrxqbGVsgLjPCnvXZWdx4I0/xBNrdnplzFqMwO+ZdOnzz1IGzAJ7mu/zj1/Ok5PevgsRnVKvWnVcGnPe0rfodCg1oRwSieFJEztcBhkEHB9jXG/F+J5/hbrMUSM7vGiqqjJY+YnGK7bFc942/5FmTv+/t/wD0fHXn5VJRzCnNLS5UvhPkI+D/ABGMk6FqP/gK/wDhWZc2lxZymK7glgkHVJUKkfgRX3gpyg5PSuM+JPgWw8Y+GbkPbr/aMMZa1nA+YMB93PcH0r7zCcXwq4hUqtPlTdr3Od0bK6PjyinSJ5cjKeqnFNr7owCiiigAHUV9nfDf/kmuh/8AXolfGIr7P+G//JNtC/69Er43jD/dKdv5jaj8R5Dqn7O+uX+rXd3HrGnqlxM8qqwfIDMTjp716P8ADL4bRfD6xuHnvFur25A86RRtRQOwz1+v6V5FrHx48Z2Wt3trBPZiKG4kjTNqpOAxA5/CuZ1/4teMPEVu8F5qjRQuMPHbKIgw9DjqKdTL84xtFUa1SKg97b2BShF3RufHfxVZ+I/GEFvpsizQabEYjKp4Zyctj1A6V5zpmp3Okalb31k/lz28gkRh2INVWYscscmkr6jDYaGGw8aEfhSsZNtu59lWcul/E34dxmUFrXUIAsig/NGwPI+oIrP+J/iiLwL8PnSxIhuZkFrZxpxt4xkewH9K4/8AZuuppPD+rwvIxjjukKqTwMqc/wAhXNftHXMp8XadAXYxrZkqueAS5yf0Ffn2Hy9f208E3+7i+e33HS5e5fqeOO29ixPJOabRRX6Wcp7T+zV/yNur/wDXgP8A0YtX/wBpkYm8P/Sb/wBlrP8A2av+Ru1b/rwH/oxa0P2mP9foH+7N/wCy18RP/kpl/h/Q3X8I8Hr1X9nn/ko8n/Xm/wDNa8qr1X9nn/kpEn/Xm/8ANa+lzX/cK3+F/kZQ+JH0D4s8J6H4st7aDxFGZI4HLxjzdnJGD9eK5n/hTHgD/n15/wCvs/41zv7SbtH4d0UoSpN2/I/3K+dvtE3/AD0b86+PyXKsTiMBCpDESinfRdNTec4qT0Pt/wAPaLp3h7RYtN0ZdtnEWKDfvxk5PP1r5H+KH/JUvEH/AF+v/Ovov4Ikt8J9MZjlmeXJPf8AeNXzp8UP+SpeIP8Ar9f+dacO0pUc0xNOcuZrq+uoqnwI+nfhfEsXwu0EIRj7IrcepJJ/nXyb4sdpPGOsM5yzX0xJPUnea+mvghrMeq/DOyhDDzrFmt3XvgHKn8iPyrwb4r+Frjw54+1EyIfs15O1zbyY4ZXJOM+oJIroyJqlmeKpVNJN3QqmsU0c/wCEpHj8ZaO0Zw326HGOv3xX1n8To1k+Gutq4BX7Mxx6EdK+a/hR4auvEHj7TxFExgtZVuJpMcIFORz7kAV798bNaj0r4Z3qMwEt4y28a55bJy35AGjPr1c1wtKn8Sd394U9IO586fDQf8XK0M/9Pifzr6c+KWr3Wg+BJtT0+Qxz208Tqc8H5xkH2PQivmL4Z/8AJStC/wCvxP519HfG4f8AFqdQ/wB6P/0IUZ9GMs0wiktH/mFP4Gy8yaV8VfhsN3EV9F94cmCUf/Et+lcd8A9IutCuPFWm38ZjmtrqJGHrgPyPY9a4T4GeO/7A8QDQ9Qn22GoPhNzfLHL0B9s9D+FfScGnW0GoXN9BGFnulRZWH8WzIX+Zrw815srp1sE9adTWPlrqXG07SPmz9or/AJKLB/14x/8AoTV5LXrX7RX/ACUWD/rxj/8AQmryavvso/3Cl/hRhU+JhRRRXpkH1P8Asu/8iXq3/X4P/QBXln7RX/JW7n/r3i/9Br1P9l3/AJEvVv8Ar8H/AKAK8s/aK/5K3c/9e8X/AKDTJPK6+kP2Vf8Ajz8Qf9dYf/QWr5vr6Q/ZV/48/EH/AF1h/wDQWpDex0/xS+CVx8RPE8WqRa1FYLHAIvLe3MhOCTnO4etL8OfgRZeA9aGs32qHUbyEEQ7YvLSPPGcZJJxmuY+OfxJ8T+D/ABxb2Wh6ibe2a1WQpsB53MO49hXpPwu8Xp8Qvh7FcXjLJdqpt71COC+OTj0IIP40ydbHkf7RfxF07WI7Xwzo1wtyLebzbqWM5UMAQEB79ST+FcH8C/8Aks2h/wC/J/6Les74oeDZPBPje700BvszHzbZyfvRknH5YI/CtH4Ff8lk0P8A35P/AEW9BXQ90/aW/wCSZxf9fi/+gmvF/wBnxFf4waczLkpHKVPofLbmvaP2lv8AkmcX/X4v/oJr5/8AhBrsXh74p6NeXLbYGmMMhzjAcFM/gSD+FAlse8ftOyMvw9skB+Vr0ZHr8rV8o19j/Hzw/deIvhjOdPhaeeylW52IMsVHDYHsDn8K+OvKfdtxyKAQqyui4VsDPSmsxcgtyfWvoD4c/ADS/Engq11bxLLf2l1c7nWONgoCZ+U4Kk89fxrxzxrpen6J401TTNHlkms7O4aGN5G3FtvBORjuDQNH2L8JBu+Evh8etkorb8O+HbHwxphstOTAaR5ZHb70jscliaxPhK234R+Hz6WSV49D8e9QT4xudQPk6CsrWbW+c7AGwJCfXIyfbigjU4/4/wAOvxfEmdtdk8y3dc2JUYUQ54Ue47+9eW19sfFTwJbfEPwS8duqNfwKZrKYc5OM7c+jAAfka+Lby1msryW2uo2imhcpIjDlWBwQfegtMhooopDPob9mfb/ZOvkfe86HP0w+P617jXzP+z94rttG8TXWk3sqxR6mq7Gc4HmLnaPx3EfWvpcMDX5BxXh6lPMZTe0krHZSa5bFHWNXtdFsvtN4zYLhERFLPI7cBVA6k1kf8JRq3VfCmoEdt08IP/oVL4jbPijwyh+6buQ47ZEEmK6SvOth8Lh6cp01Nzu9W9LO3Qq7b3OZPijWP+hSvv8AwIh/+KqK5XWfFEltbXOmNpVhHOktw00yvJLsIYIqqeASBkk9uldX16ijgVCzGnT96lRjF99f1Y+W+7BRhQKUjj8aO1YHjTxPa+E/C15qd1KqPGhECMeZJCPlUDv/APWrhwtGpXxEYU1dtjeiPjbXFVdevwoAAuJAMf7xqhUlxIZriSQnJdixPrmo6/oCKaSTODqFFFFMQoH4V9VeBfiD4V07wLo9le65aQ3ENsiyRu+CpHY18qUZPrXm5lltHMacadVuyd9CoycXoX9elSfxFqEsLB45LmRkYdGBYkGqFFFejFcqSXQkKKKKYHt/wE8U6J4d0rVl1rUoLN5Z0aNZWwWAU8iuf+Ouv6X4g8WWdxo17FeQpahGeI5AO48V5hk+tGa82GW0Y46WNV+Zq3kVzPl5Qooor0+tyT1f4C+INK8O+JdTn1q+hs4pbLYjytgFt4OPyq58ffEuj+IpNGbRNQgvRCJRJ5T52524z+RrxwE0ZPc15byyi8d9eu+a1vIrmfLyhXo3wQ1rTtB8dSXmr3cdpB9ldBJIcDJI4/SvOaASOhxXbiKMcRSlSltJWEnZ3PdPj14r0PxHoOkxaLqVveSQ3LtIsTZKgr1NeGd6TJ9aKywOEp4LDqhT2QSlzO59LfCPx14a0X4a6fY6prNtbXUbSbopGwVy5I/SvDviJe2+o/EPW7yxmWe3nu3eORDkMpPBFc1k+tGa58NllHDYmpiYP3p7jcm1Y7T4c/EK88Baz58aG4spwFubfP3gO49CK+hLfx58PfGtgqahdaewA3GHUgqFT7b+PyNfI9TBR9RWOPyXD42oqt3Ga6rQcajirH1lceO/h74K0947C809VxnydNCyFzjvt4/Emvnn4jfEG88ea2J5FaCygyttb7s7QepPucCuSULs+b1OaRApQk/w/rTwGTYfBVHWTcpvq3cJTckb/gG8t9O8eaPeX0ywW8N0jySOcBQD1Ne6/Fnxz4Z1v4cX9jpmtWtzcsUKxxvkthhmvmtD+7bK9MU5FBCZPXOR61visso4rEU8RN6w2EpNKxGjFJAwJBU5yOtfUHw7+Lui33hC2HiTVIbPULceVKJmx5gHRx65HX3Br5hRVwMrnJI+lKiDbgHndgc0ZlllDMaSp1ugRk4vQ9F+OWt6br/jiG70e8iu4BZohkiOQGDNkfyrzWlf77Y6ZxT5ABkBMY/irrw9COHpRpQ2irCbu7kdFSMo2NgY29D60rou04GMAVvYR9Cfs+eN/DnhjwpqVvrurW9nNLdB0SRsEjaBmvO/jjrmneIfiTPf6Pdx3ds0EaiSM5BIHIrz+TC4Ax26UTAYyMZBxxRYViKvdv2dfF+heFrLWv7e1KCyM8kRjErY3ABs4/OvCfpRk+tIb1PVPj94h0rxL43trzQ72K8t1tFQyRnIDbm4qH4HeP18GeMvJ1CfytLv18u4LH5UI5V/6fjXmOSepopisfSHxx1nwV428Kpc6XrllNqtg26JVf5pEP3k9/X8K8n+D+qWOifFLStQ1W5S1tYGcySyH5RlGH8zXD5PqaMkdDQFj6U+PPjzwz4l8Ax2eh6vb3lwtyrmONsnGDzXzbG5ikV1OGU5BpuT60UAfTPwz/aA0yfSINJ8aube5hXy1vCpZJVHTdjoffp9K7bzfhE8/wDajT+FzL9/PmQ7vrtz1/CvjDNGTnrQKyPqP4iftAaLYaPPp3g1zeXsi+WtwqlY4R6jP3j1xjivl+WZ5pnllYuzsWZj1JPemZJ6mikNKx9dfDr4keENI+Gmi6fqGv2cN1DZqskbPyrY6GvlXXZkn8RX80LB45LqRkZe4LHBrPyemTijOetAH0r8FPjJplv4VbRfFuoJayWOFtpp24kj7L9V/kR6Vw/xzi8K6rrK+IvCmrWdxJcfLd28TfNu7OB3z3/D1ryIEjocUZboTxQFtbhRRRQMckjRuHjYqynII6iuysPi34y0+0W3i1qZ0QYXzQHIH1PNcXRWc6VOrpUin6jTa2PZPhp4/wDEHiv4m6Na65e/aIojNIq7FXDeUwzwPevpPtXxp8MtctvDvxD0vUb47bdZDHI391XUrn8M5r7JjlSaJZI2DIwBVlOQR61+Z8Y4f2denKEbRt8tzpou6Zl6vp0926Sx6xc6fHGh3iIJtPfJLKcVn22h3N5CJbXxZfTRN92SLyGU/iExV3xboTeJvCt/pCXLWrXcWwSqPunOefUcYNc54K8NRfC3wZef2vqgniVzcTSY2ogxjCg/T8TXm4HEf7KlGa500lHlTuvWxctzw3Vfi/4zsdXu7aLV2KQzPGpaJMkBiPT2rjtf8V614mnWXWr+a6Zc7Q5+VfoOgqlq1yt5rF3cp92aZ5B+LE/1qpX61Rw1GklKMEn5I422w+tFFFdAgooooAKKKKACiiigAooooAKKKKACiiigAooooAKKKKACiiigAooooASnmQleevtTaKYBk0A4oooAAcUZPGD06UUUgAEjoTQCR3oooAMn1oLEjBJ/E0UUABZiAMnFBYsOSTRRQAbmxgkkfWl3GkooAUtu64/AUlFFABRRRQAUUUUAFFFFABRRRQAUUUUAFFFFABRRRQAUUUUAFFFFACV3Hhj4teKfCsCW1leLPap0guk8xQPQHqPwNcRRWVWjTrR5KsU15jTaPXpP2jvFLLiOw0xW9fKc/wDs1cT4o+IviPxcvl61fs8WciGIBIx/wEdfxrl6K5qOX4Og+alSSfoDk3uB60UUV3CCiiigAooooAKKKKACiiigAooooAKKKKACiiigAooooAKKKKACiiigAooooAKKKKACiiigAooooAKKKKACiiigAooooAKKKKACiiimAUUUUgCiiigAooooAKKKKACiiimAUUUUgCiiigAooooAKKKKACiiigAooooAKKKKACiiigAooooAKBzRQKAOx0z4U+MdY0uDUNP0hpba4XfG/moNw9cE5rN17wP4j8MxiTWtKntoidolI3Jn03DjNe6znxCP2edCPhH7UdRzF/x6Z37Pnz07dKday65H8C9dPxF3LK0Ui2/2sDzDlflz/tb+nevm45rW5rtRa5+W32t7XNOVWPmmivSfht8OLPxRYX+t6/dtaaRYf6xk6vxk89gB/OtfXfhv4U1XwVe+IPh9qFxOunZNxDcZ+YAZOMgEHHPvXrTzDDwq+ybd7pXtpd7Jsnldrnj+KK9b8DfDfw5rvw3u/EOvXlxZ/ZpWEksZyqIuP4e/XH5VvH4V/D/VfC6+ItI1m8g0u3JN1NIu4lV6jaQCD09aznmeHhJwd9HbZ7hytng2KMGvY/Ffw28Ky/DmXxT4IvLmWK2Pzif+MBsNwQCDzWb4A+Gul6p4WuPFPjC9ktNJhJCrD958dTn6nGB1q45jh3SdXVWdrW1v2sHK72PLqMV694n+GXhy78DzeKvAOoTXNpan9/FP1AGMn1BGQcEdKo2/gDR9S+DE3inTWnOo2ZK3KF8qCGGeMehBpxx9CUFPXfl22fmHKzy/FGK9O1nwHo2h/B7TvEF21wNV1Db5Ue8BBkk9Mf3R+taXh34aeGNM8FW3iX4hahPbw3mPIggBzg9M8EknrjsKJZhh4w579eXzb62DlZ4/iivSviP8O9N8PaPYa/4ZvHvNIv8AhDL95OMjnvnn8RXmygswA6k100a0K9NVKewmmgUZYCuu8VfDbWfCPh3S9a1OS0a11QAwCCVmYZUN8wKjHB969DtfhX4J8L+CdN1X4hardQXmpqDElsCfLJG4DAGTgdSa2vj/AG9vb/DLwfb2k/2m3jYJHNjHmKIhhse4rYm5850V6p8UPh1o3g/wd4Y1PTGuGn1WPdP5rggfIrccerGk+Jfw80fwl4F8LarppuGudWiDz+a4Kg+WrcDHqxpAeWUV7/f/AAs+HHh7wr4f1zxNqt/aR39ujvEnzmV2RW4wMgDJ/MVynxZ+GGneEdP0zXvDF293o2pABDIclSV3Lz3BGfypjOb1/wCGuteHPBum+Jr+Szax1LZ5CxSs0nzqWGQVAHA9aqaj8P8AxBpXhG28TXtoiaZdECOQSgtz0JXqM1698WT/AMY4+Df+3b/0Q1YPinw2lv8As9aJq/8AaWoSmSRMWkk5MKElui/hQI8aor2Twn8LfDNp8Po/FvxD1G4trS6bEENuvzYJIB6ZJOM49KyviX8ONH0DQ9P8R+Eb+S80i9wu2XG+MkcH8cHryCKBnmGKK9m0rwP8MtK0HT5vFviCe8v75VJi05gwgyAfmxk8Z5JrL+IHw20bwF440eK+vZpPD+okSNKBmWOMEBhx1OCCDQI82udNvrOKOW7tJ4I5PuPJGVDfQnrVavqb4zQeEG+F+lnULm6Upak6RtQ/vH8sbd/HHb0rzP4ffC/RL7wXc+MvHN/LZaPExWNIvvS4OCe/8XAAFAXPJaAK9c8c/DPw6ngJPGfgC/mu9LR9k0c4+dPm256DocDB9c15GDRYZ0b+BNeTwWvilrVP7KdsCTzRu+9tzt643cVjRaXfzWjXUVnM9un3pVjJVfqelerz+G1H7OUGs/2jfkl932QznyAfOKZ2fr9ea7nwRF4UPwRvVFxdf2a0H/EyfZhkcqu8KO4GK8evmSoU+e3N73LoXy3Z8y4oxXoHgzwBa+OfHN/a6ZcSR6LaM0nnsvzmLdhRg/xH+hrsF+GPgPxVbahZeBtXuJNWsULFZjlJMHHGQMgnjI9RXTWzChRnySv0vptfuJRbR4fijFeofCf4d6V40XWl1qSeF7JU2GNwoUndknPXGK6nRfhV4A8W6LdjwxrV09zZYE9zKhCg9c7CBwQDyD2qK+Z4ehJxnfS17J2V9gUW9jwaivcYfhd4G8TeFtSl8Fand3N/p0ZLSSjCuwBIG0gcHBAIrlvhZ8OrHxfHqOo61cTRafp65eOAZeTgk4+gFNZjQ5JTd1yuzutddvvDlZ5vRXqniDwb4GvvB9zrHg3WJYLm0JDWOoyKkkmMZwM5zg5GM56da8sIwxBrro1VWjzJP56CtY6XwZ4C1rxzfS2+jJEFhUNLNM+1E5x15Ofaq/jDwpdeDdcOlX89vPMI1kL27llwfqBzXvHwcXw3D8Ob2WxnuhK0GdTbbjy22tnYcc8Z9a888M+FfDHjT4rXOl2F1e3GjC2MkMsh2ykgDOcj1Jry6eYN4isp6Qp+Xz3L5dEeWYNGK9S+Ifg7wZ4Y0uS10bVWvNcS78t4C+fLTngjGMjgHnrW1F8MPBfhXQbC4+IWqXMV9fgFYoc4jOBkcA5xkZPSun+0aHs4zV/e2Vnd/InlZ4mRijFehfEz4cxeC7qxu9MuTeaVqK7oJW6qcA4OOvBBB7122qfDD4f+HtP0fUPEGp3trBexA+Sg3GRyqkkEDIAz+opyzDDqEJq75trLt5Bys8HxRXvWu/Cr4f8Ahe+gvNd1m7i028ULbQKu5mbqTuA6YI7d64r4tfD2y8D31hLpM8ktlqEbNGJDllK4zz6HcDU0Myw9ecYwv722lr23Dla3PO1+9zXW+L/htrXgvR9M1LVZbN4NTQPAIJGZgCob5sqMcEetciPvV9A/tAf8k98Ff9ey/wDopK9Jknket+ANf8PeHrHWtTtUis74AwsJQzHIyMgcjiuar2b4m+GY9J+E3hi/TUtQufPVMQXFwXjj3Jk7V7VYs/hh4L8N+A9N1/x5c6nM+pbSiaegKxBhkZJ9jkn8gaBHiIGelWrnTL6yiSW7tJoEk5RpEKhvpnrXoHizwd4O8OeMNIa114X/AIfu3BuTCweW3TIyMDqcHjivWfjZB4SPw3037fcXSSraMdJ2pxK+xcb+OOMelAHy5RQaKQwooooAKKKKrlYBQOtFFFmB9Iah4j1Twp+znoOpaJcG2ud0UXmeWrZUl8jDAjsKreJ9/wAV/gxDrdhubU9N+a4gQn5iBhxgeoww9uK+f31C7ktFtpLmZoFOViMhKj8OlOt9RvLWNo7W6mhR/vLHIVB+uDXiwyeFOSqR+NScr277o053se9/A/WY7nwPqmgWclumrpI8kMVwMrJlRyR3GRg/hVnxFc/EDSfBWsTa5aaBp9t5RQxREBpg3B24OM4PAPWvnaKeWCUSQSvHIDkMjEEfiKsXmrajqG37dfXNzt6edKz4/M1X9lL6xKsrWbTaau7+QubSx7V4TVv+GZfELAf89eR25WpPCyt/wy7rh5I/e5P/AAJa8NS/u47VraO6mWBvvRLIQp+o6UJqF5FatbJdTLA3WISMFP4dK0/s27eu8lL7ugcx7l4bUt+y1rBGcYl5/wCBrT/BcaeOvgZc+F9LmjTVLdjiF2xuG/eD9D0z614Ul/dJZtapdTLA3WISEKfqM4ptte3NlMJbOeSCRejxOVI/EVE8svGfLLVy5l5MalZnv8GjyfDP4Ha1p/iaaJL/AFIv5UCSBsllCgD14BJxXPfAjUY9QuNb8JXzk2uqWpKr6NjBx77Tn8BXkt5qN5qEgkvrue4k/vTSFz+ZNQ29zNazCW3mkhkHR42KkfiKayxujUhKXvTd7ro+lvQXNqetfHrV0XX9N8N2fFrpFuoK5/jPb8FC/ma9J0PV9R8R/CzS38FR6be39pEkdxbXgBCELgjnof5ivlyeea5lMtxI8sjcl3Ykn8TUtpqN5p0nmWF3PbP/AHoZCh/MGoq5Qp0KdNPWDvd9X1v6hz6nsHxdu/F1t4S0+x8UjSYVuJS4tbM/PEV6cdMHJ6V4zE2yZG/usDUlze3N7KZby4lnkPVpHLE/iag+lejhsP7CkoJL5KxLdz6Z8eeFr/4seAfDGq+D3gn8iPbNHJKE2fKuevcFcEVQ+Pls1h8LvBtrIySNbkIzxncrERAcHuK8BttX1Gyt5IbO/ubeOUYdYpmUP9QDUc1/d3MKQz3U0kcf3EeQsq/QE10crJsfSnjnwlqPxO+Ffg2bwk1tcizgBmEkwTbmNAfbIKnIrH/aBtWsvhz4ItWdJDbx+WzxnKMREgyD3HHFeD2+salZ2z21pqN1DC/344pmVW+oBpkuoXdzDHFcXU0sUf3EeQsF+gPSjlYWPpj4heBdX8cfC/wTDoHkSXNtZxsYZZQhZTCgyM8HGOfrXP8Axo+z+GvhL4Y8HXE6S6pD5ckqochQqEMc+mWwPUCud+JPxI0vWfBfhGx8M6hdJf6VAEndFeIoRGi8N35B6V5Lc3lzeTGa7uJZpW6vI5Yn8TRZge//ABZH/GOPg3j/AJ9v/RDVF4xH/GKvh7/rrF/N68Il1C8nt0gnuppIUxtjeQlVx6DpRJf3ktqttJdzNAv3YmkJUenHSiwH0M+kzfFT4B6Pp3haWGXUdNkRZrZ5QhBUFTnPTg5GetefePfhzB4C8OaeNV1xpNYuGBfTkwUiHc5z247cmvO7LUr3TZfMsLye2kP8UMrIfzBqO5u7m8mM13cSTyHq8rlifxNFmFj6wm0PVdN8IeHh8KbHSTZyRB7u8uFQsOB8xJ6/xZ+mK4n9qBJN/hd3+f8A0eUM6jgn5On1rwyLV9Sgs2tINQuo7d/vwpMyo31AOKjuL+7u0RLq6mmRPuiSQsF+melHKwsfRnxO8OX/AIy+DfhzUdBEU9vp9n587tIFwojGSPXG08Vd+Fetyaz8EU0Xww9jJr2nbwbW9UMjgyMw49w2M9jXzVFq+pQ2LWcN/dR2r/ehWZgjfVQcVDb3dzZzCW0uJIJB0eJyp/MUWYWPfPiNfeP9L+Gd1B4qh0KwtbxxCbO1IEhGc7lxweQPwr59AyferV7qd9qUnmahe3F0/wDenlZz+ZNVR60WY0e93IYfskw8HGeuP+nk0/4V2MviD4HeIdH03Y97O7xqjMByVXGT26V4SdQuzZi0N1Mbf/nj5h2flnFOstTvtOctYXk9sxGC0ErIT+VeRVyxzpShF2blzfjctSs7ntHwRvYvCvjDXfDWtyRW99IRGpZgVMiEgoD36/jiuym/4WTpcl9PJaeHLK0gRmW7xs8wDoDjkZ96+YJLiaSczNK7yscs7MdxPrmrM+t6pdW4t7nUbqaFRxHJMzKPwJpVcr567rKz5rXTV9uwKVlY9v8AgHNJer4vuHUb5VR2CDgE+Yai/Z5BbSfFe0E4jj7dPlkrw+21C7s9/wBkupoN/wB7ypCu764ot7+7sw4tbmaESfeEchXd9cVpWyxVVUV7c7j8rf8ADCUrWPc/2eNx0PxXwW/dx9P92SsH4M2OrS2+qXXhjXIoNSjGDpc8IZbpQMg5zxzkZA4ryq2v7q0R1tbqaFZPviOQqG+uDzTbe7ntJRLbzSQyDo0bFSPxFXPAOTqtP47bq+wc1tD6M8aWCal8K7/UfH2i2WjaxAW+yPARvkbjHTk5JIIOeOa+bm5Y1bvdV1DUSDqF7c3JHQzSs+PzNU61weFlhoOLd7u/p5IJNSPdvgmpb4a+K8An92+Tj/pk1c9+z0C3xOIGT/okvT8K8yt7+7tY3jt7maJJPvLHIVDfXHWm293cWc3mWs8kD4xvjcqfzFYyy+/tk3/E/DSwc2x0fjiYwfFPXZSM+Xq87YPtKa9h+IXhG++Kmm6HrXg+S3uYhEUlR5Qvl5wfzByCOvSvneSV5pWkldpHY5ZmOST6k1as9Y1KwVksb+5tlb7whmZAfyNXWwU5unOnK0oaeQJ2R7L8ar+203wr4b8JxzpcXdhGv2gqc7diBB9M8n8Kl+PCkeEPBWQR+5b/ANFxV4bLNJNIXkkeRz1Z2JP51JPqF3drGt1dTTBPuiSQtt+melZUssVP2fvawbfq2Nyvc9v+O6keF/BeQRmF+SOvyRVH+0KrLofhHcCP3Eo5H+zFXilxf3d0sa3F1NMsYwgkkLbfpk8UlxfXd4qLdXM0wQYUSSFtv0zUUcrVJ0nzfA5P/wACByvfzIVGT+FfQH7QA/4t74KOOluv/opK+fqsXF/d3UaR3V1NMifdWSQsF+mTxXr8rIPevjGM/A3wh1Hyxf8AoqtvwxD420jwTpL+E7mx8ZaTKoBtriMK1tkfd3ZOQDkc9K+ap7+8uYUiuLuaWNPuo8jEL9BUllrOp6apGn6jdWobgiGdkz+Ro5WKx61+0LpGg6bremPpVtb2eo3EJa+trYjarcYyBwD19M4zXWfFnw9f+LvhF4d1bQlintNNsvOuHMgBCeWuSPXG08V84Szy3EhkuJXkdjks7Ek/iasR6tqMVi9lFf3KWr/fgWZgjfVc4o5WMqGiiijlYBRRRRysDtF8eaeDn/hFdN/L/wCtR/wndhuB/wCEW03r6f8A1q4uit/rNT+kcn1Oj2f3v/M7P/hPLDdn/hFdN/75/wDrUHx3p5bP/CK6b/3z/wDWrjKKPrNXv+A/qdHz+9/5naHx7YE/8irpv/fI/wAKQ+PNPP8AzKum/l/9auMoo+tVQ+p0fP73/mdmfHmnkf8AIq6b/wB8/wD1qU+PLAgf8UrpvHt/9auLoo+tVf6QvqdHs/vf+Z2h8eWBH/Irab/3yP8ACgePNP2kHwrppz32j/CuLpKPrNTv+A/qdHz+9/5najx5YBSP+EV078v/AK1C+PLAD/kVdN/L/wCtXF0UfWanf8A+qUez+9naDx7Yf9Crpv5D/ChfHlgD/wAirpv5f/Wri6KPrNTv+AfVKPb8WdovjywBz/wium/l/wDWpB47sA2f+EV03/vn/wCtXGUUfWav9IPqlHs/vf8AmdmfHdgWz/wium/l/wDWpT48sC2f+EV038v/AK1cXRR9Zqf0g+qUe34v/M7RvHlgzZ/4RXTR+A/woPjywP8AzK2m/wDfI/wri6KPrNXv+AvqdHs/vf8AmdmfHmn8f8Urpv5f/WpR46sHUAeFdN49v/rVxdPjKjOTij61V/pD+p0ez+9/5nZt45sTtH/CK6bnPp/9ag+OLHhf+EW0zk9cD/CuNaQb177TzTWctjPABzxT+tVP6QvqlHt+L/zO0HjixUYPhXTefUD/AAo/4TexX5f+EW0wk+g/+tXFyPvbPbFO8wedvxxR9aqf0g+qUe34v/M7FfHViAMeFdNO7gcf/Wpf+E4sQw/4pXTDnjgf/WrjPN+4e6nNBcDbjOM7jR9aqf0g+p0u34v/ADOz/wCE5sUJLeFdN4OOn/1qRfHNizf8itpmPcf/AFq455Ay4Oev6U1WADKc4PpR9aqf0g+p0ez+9/5najxzYliP+EV0wY6/KP8ACty71nTYPCVnrC+HNOMlxKyGMoMDBPPT2ry9WX5gRhT+ddpqhU/CvSjzzcP/ADauijXnKMm+3Y5cRhqcZQSvq+7/AMxD43smc58LaYNvJyB/hQfHFi548LaZxx0H+FccJRuJI6jApFl25IGckHkVz/Wqn9I6vqdHt+L/AMzsW8d2I4PhXTcj/ZH+FIfHlgVA/wCEV03/AL5/+tXGkBiSWxk02l9aq9/wH9To+f3v/M7P/hPLDaB/wium8e3/ANalHjywC4/4RXTfyH+FcXRR9Zqf0g+qUez+9/5naf8ACeWG3H/CK6b+Q/woHjywAP8AxSum/wDfI/wri6KPrNRf8MH1Sj2f3v8AzO0HjywGf+KV038v/rUi+PLBef8AhFdN/If4VxlJR9Zqf0g+qUez+9/5najx5YBgf+EV03/vkf4Un/CeWG7P/CK6b+X/ANauMoo+s1f6QfU6PZ/e/wDM7P8A4Tyw3Z/4RXTfy/8ArUHx5YZ/5FXTf++f/rVxdLR9aq9/wD6pR7P72dmfHlgT/wAirpv5f/Wobx3YE/8AIq6b+X/1q4ulo+s1P6QfVKPZ/eztD48sDj/ildNH/AR/hR/wnlhtA/4RXTf++R/hXF0UfWavf8BfU6PZ/e/8ztP+E8sNmP8AhFdN/If4Uf8ACeWGzH/CK6b+Q/wri6KPrNT+kH1Oj2/F/wCZ2g8eWG3H/CK6b+X/ANagePLDGD4V038h/hXF0UfWan9If1Sj2f3v/M7QePLAZ/4pXTef9kf4UL4808f8yrpv5f8A1q4uij6zV7/gH1Oj5/e/8ztB48sB/wAytpv5f/WoHjyw3ZPhXTf++R/hXF0UfWavf8BfU6PZ/e/8zs/+E70/dn/hFtN/L/61H/Ceafuz/wAItpv5f/WrjKSj61V/pB9To9n97/zO1PjywPTwrpv5f/WpD48sD/zKum/l/wDWrjKKPrNTv+AfU6PZ/e/8wooormOsKKKKACiiigAopV5YZr027+G/h61ubOxl8QTwX95EskKywDYxPYkHjmtYUpVPhMKteFFpS6nmNFbNz4W1WDxBNo0VnLcXkRwUhXdkdcj2wRzUUvhrWYdUTTZdMuVvZDhIPLO9voO/Q0nTmt0aKpB7My6K15/C+tWVmL2+0u6htN20yvGQoOcda67VvhfPLeas+grI9tZFFhRgXa4JUEhCBg4/rVKjN7IzliKUVdvQ86oqaK0mmult4YneZm2hFGST6Yrs7PwHJb+Edcvtfsrq0vLOON7ZH+QNk4ORjmlClOeiRVSrCnbme5w1Fa8HhbXbjTDqEGk3clmF3GdYiVx3OfT3qHQ7GK/1+xs7rcI57hI32nBwWAOKnkldJrcrnjZu+xnUV32p+DNLtdQ8RxRrqRXTNv2cxRiRRn/no2OB+VQeKfBAtbzS7Xw7bXV1Pd2YneNf3jE85IAHA4rR4eaTMliKba13OIorVs/DGtahcT29lplxPLbnbMqISYz0wfSqUtjcwXjWs8DpOr7GjYEMGz0x61nyStextzRva5XorvI/hre2V9ox1VXa0vnRZ/KUqYC2PkYkcN/hWf4p8FXulalfy6fp92+lQTFEuGXIwPVu/wBa0eHqJXaMY4mjN2jL+tjk6K6TWPDkdvZ6KdMg1CS4v4AzJNDgMxxjy8feHP8AKs7VfDmr6Hs/tfTriz8wZTzkK7vpUOnJa2NVUi+pmUlLRWZYUUUUAFJS0UAFdrqfHwn0k/8ATy/82ria7fU8H4T6V/18t/Nq66HwT9DjxXx0/wDF+jOJooNFcp2BRRRSAKKKKACiiigAooq1ptqt9qltayMUWaVULAZIycZppXdhNpK7KtFem33wz0QavPo2m6/KdXjXclvcQhVk43YDA9cc1w9v4a1e+1KexsdOuJ7iAkSpGhJTHr6dK2lQqR3RhTxNKorp/oZVFWbywutOunt76CS3mjOHjkXBH4V2UXhDTZPDvhm8IuzLqc7pcCHDttDY+RcdamNKUm0uhc60IJN9ThKK76bwdpsXhjX76MXnn6fdeTAJ8K23cB86468+1cpP4c1i2uLeCfTbqOW6GYEaIhpB2wO9OdGcd0TTr06jaT2MyitDVNB1XRXRdWsJ7QyDcnnJt3D2rY8P+BNT8Q6Nd6haIwSD/VpsJM7d1XHUilGlOT5UtSpVqcI80nocvRXd6n4Alfw3otzoNld3V7dJI1zGvzbNuMcY46nvWPp3h2GbQ9ZuL+LUI7uw2KiRQ5RWyciQn7vSqdConaxMcRTnHmT/AK2OcorYTwrrsulnUo9KumslXcZxGduPXPpWORg1k4uO5qpRlswoooqSgooooAKKKKACiiigAooooAKKKKACiiigBVGWr23xP4U1TW/Enh+6tICLS3tozNcEgLHg5/lXi9rOtvcxytEkwRg3lyDKtjsfauxb4lzSReXJoGkumMbSspGPpvrsoThGLUjhxNGpUlGcHZq/4nejVI9buvFi+GZRJqflxpbvGwDSKqhSV9s5H5U+zS5iuPBlvruTrImkLByDII8NjP6V5zD4/S3kEkHhfRInXoyRSAj8d9Pb4il7gXDeHNHMy9JCkm4fjvrr+s0+pyfUZ3stvx2sdguoXl/ofj6K9nedIJNsSuchBlunp0FZnw7Oo3vgnxJZ6c00t6BH9mjRvmBOc7fTtWCPiEAsqr4a0YLN/rQI5Pn+vz80lv8AEIWjlrXwzosLHgmOORSR+D1Pt4OSdzT6nLkcEt2n93/DD/hmYYPiJZ/b8BtzKu/+/ggfjmu3mttft/BfixvEnmlXZWgLtlSu8Z2jsOlcCvjmBZN6+FNCDZznyZM/+h1Yl+JMk6sJvD2kSBwFYMkp3Adj8/NKlWp042uVXw06s1K3b8NT0ox61L400m90kk+GxaLlkcCELtOcjP0ryu3a2k+KEMljj7O2pr5eOhHmDGKsr8R3S3Nunh3R1hPWMJLt/LfioF8cwI4dPCmhKynIYQyAg/8AfdKpVpzsKhhp02763Vj0K9yLj4gjByAmRWxdSpPp8Ol2M/2XWrzSl+zSkDLKOSoJ6Hr/AJFeVn4jMTKT4c0c+d/rcxyfP9fn5oPxFLSxynw5o5kiGI22S5Qe3z8VqsTTSZjLASlbfS34Kx3nhOE/8IElrbW+oSXttduLyGxlVJt4PBbcOmMflXDfE66ebxlva0ks7hIIw6yMpYtjO4le+CPypsfxHeGZ5YvD2kJI/LsqSgt9Tv5qGTx3DLIZJfCuhu56s0MhJ/8AH6yqVqcocqZtRw06dV1Gr3PQbpb+7g8E3kTSyWZWD7RJuypkIGN3vndTre+urzxL44sbqZ5beC1fy4nOVTAI4FcEvxGZIViTw5o6xo25UCSAKfUDf1po+Ie15XHhrRw0wxIwjky/1+fmtPrEO5ksDK1rfl3ud7E93De+BnsoYZZP7MOI5n2h/wB2oIU+vpWb4+s518DvcebqNlC12N2najtYs3PzI3XArlG+Ie7y93hrRj5QxHmOT5B6D5+Kraz44fWrB7a40bTYywws0aSb0+hLnFTOvTlBo1hhZxnGXb/M5WiiivKPUCiiigAooooASu21Qf8AFp9JP/Ty/wDNq4mu31PP/Cp9J9PtLfzauuh8E/Q4sV8dP/F+jOJzRSUtch2hRRRQAUUUUAFFFFABWjoA3eItPA/5+Y//AEIVnVc0rUBpepQ3ZtoboxNkRTglG474IPv1q4O0kyZK8Wj2W+8M6j/wtybxFcp9n0q2Ila5dgAdseMfnVG2uLrW/CeuSeDyx1CbVjK6xMFkaI/d/X+Rrkp/iRJcpsuPD2kSr/ddJSP/AEOo7f4hC0Yta+GdFhY8Fo45FJ/J69T6xT+88n6nUsr6tWS7WXc0/iqdv9jRXjBtUjs1F3yCc9s479a3NJH/ABTfgAn/AJ/Jce/zGuOk8eQzSF5vC2hyMxyWaGQk/jvp4+Im1Y1Xw3owWE5jAjkwh9R8/FZqtTU3K+5q8NN0407bf8H/ADPS7G6srI+J7jVk32sWq5kGM87lwcfXFU7C0nt/irdXGp3H2n7dZs+mTZADA4+Ve2duRXAt8RS8ciP4b0ZlkO6QGOTDn1Pz80jfEPcIt3hvRm8niPMcnyfT5+K1eKp2XkcscuknKz+JW/Bf5HVePpJofAbWt5pmpxg3amG41CaN2Dd8Y5IIql8NXvrvwn4jsrBpXuVjQ20aMdwY7uV/T9Kw7n4iG8IN34b0abb08yORsfm9NtviF9kYta+GdFhYjBaOKRSfyes/bU3V57nQ8LJ0PZW6pnZXd/f6bovgmGGeWAzXGycK2N2HUYPr1NXtaiCRePfLXaSluTx/smuAf4iGTy/M8NaM3lHMeY5DsPt8/FK3xFZ/N8zw5o7ebjzMpKd+Omfn5/Gr+sQ7/wBbGSwM1/S73PTrK3v7+GzMn2zTZ47ABNQs3WSzZdo+8G4+v868Cuf+PmTkN855HfmuwHxHdbcwDw7pAhxjywku38t9chd3AuruWdYY4RIxYRxDCpnsPauTE1IzS5TswtGdJvm2ZDRRRXGdwUUUUAFFFFABRRRQAUUUUAFFFFABRRRQAUUUUAFFFFABmiiigAozRRQAZooooAKM0UUAFFFFABRRRQAUUUUAFFFFABRRRQAUUUUAJXbaoP8Ai0+k/wDXy/8ANq4rFdrqn/JJ9J/6+X/m1ddD4J+hx4r46f8Ai/RnFUUGiuQ7AooooAKKKKACiiigAooooAKKKKACiiigAzRRRQAUUUUAFGaKKACiiigAooooAKKKKACiiigAooooA+gn034XeFvh14f1HxJ4Y/tDUtStlfy4Z3V34G5j84AHNYn/AAlfwe/6Jvd/+Bjf/HKzfiTz4X8Df9gj/wBmFcBWkY3Jueo/8JZ8Hv8Aom93/wCBjf8Axyj/AISz4Pf9E3u//Axv/jleXUU1FMLnqP8Awlnwe/6Jvd/+Bjf/AByj/hLPg9/0Te7/APAxv/jleXUUcqFc9R/4Sz4Pf9E3u/8AwMb/AOOUf8JZ8Hv+ib3f/gY3/wAcry6ijlQXPUf+Es+D3/RN7v8A8DG/+OUf8JZ8Hv8Aom93/wCBjf8AxyvLqKfIgueo/wDCWfB7/om93/4GN/8AHKP+Es+D3/RN7v8A8DG/+OV5dRRyILnqP/CWfB7/AKJvd/8AgY3/AMco/wCEs+D3/RN7v/wMb/45Xl1FHIgueo/8JZ8Hv+ib3f8A4GN/8co/4Sz4Pf8ARN7v/wADG/8AjleXUUciC56j/wAJZ8Hv+ib3f/gY3/xyj/hLPg9/0Te7/wDAxv8A45Xl1FHIgueo/wDCWfB7/om93/4GN/8AHKP+Es+D3/RN7v8A8DG/+OV5dRRyILnqP/CWfB7/AKJvd/8AgY3/AMco/wCEs+D3/RN7v/wMb/45Xl1FHIgueo/8JZ8Hv+ib3f8A4GN/8co/4Sz4Pf8ARN7v/wADG/8AjleXUUciC56j/wAJZ8Hv+ib3f/gY3/xyj/hLPg9/0Te7/wDAxv8A45Xl1FHIgueo/wDCWfB7/om93/4GN/8AHKP+Es+D3/RN7v8A8DG/+OV5dRRyILnqP/CWfB7/AKJvd/8AgY3/AMco/wCEs+Dv/RN7v/wMb/45Xl1FLkQXOz+JQ8FXPh/SNR8DaR/ZoleRLqJ3dnRhtIByxGMHORWZqnPwn0n/AK+X/m1Y96f+KVH/AF+H/wBAFa+qH/i0+k/9fL/zat6KtGfocuJ+Kn/i/RnFEUYPpXuHwU8EeDfEHg3WdW8Z2yNHYzqPPeZ0EabcnO0jvWtInwCjcqLOZwDwy/aMH6c1yWOxs+ecH0owfSvoT/iwf/Phcflcf40Y+Af/AD43H5XH+NFmB894PpRg+lfQmPgH/wA+Nx+Vx/jRj4B/8+Nx+Vx/jRZgfPeD6UYPpX0Jj4B/8+Nx+Vx/jRj4B/8APjcflcf40WYHz3g+lGD6V9CY+Af/AD43H5XH+NGPgH/z43H5XH+NFmB894PpRg+lfQmPgH/z43H5XH+NGPgH/wA+Nx+Vx/jRZgfPeD6UYPpX0Jj4B/8APjcflcf40Y+Af/Pjcflcf40WYHz3g+lGD6V9CY+Af/Pjcflcf40Y+Af/AD43H5XH+NFmB894PpRg+lfQmPgH/wA+Nx+Vx/jRj4B/8+Nx+Vx/jRZgfPeD6UYPpX0Jj4B/8+Nx+Vx/jRj4B/8APjcflcf40WYHz3g+lGD6V9CY+Af/AD43H5XH+NGPgH/z43H5XH+NFmB894PpRg+lfQmPgH/z43H5XH+NGPgH/wA+Nx+Vx/jRZgfPeD6UYPpX0Jj4B/8APjcflcf40Y+Af/Pjcflcf40WYHz3g+lGD6V9CY+Af/Pjcflcf40Y+Af/AD43H5XH+NFmB894PpRg+lfQmPgH/wA+Nx+Vx/jRj4B/8+Nx+Vx/jRZgch8Sf+RY8Df9gj/2YVwtrD9pu4YNwXzZFTce2Tiu6+JP/IseBf8AsEf+zCuBBwQRkEdCO1UruOgJpSTlse3p4D8OR6f9jbTI5GC4M5z5hPrnNeQT6WIvEzaUJQV+1fZw57AtjNb0XxL12LTxbAW7SKu0XLITIOMZ64z74rkmlkeYzMxMjMWLZ5ye9c1GlVjzcz9D1sficNVhBUlqj6ag+GHhCLR1sH0W3lJTa1wwPnE/3g3Y188avoyWHiy60iOTcsV0YBJ7bsZrrbf40+KINJW0xaPKibFunjJkHYHrgn8K4CSeaa4e4ldnldi7Mx5JJyT+deVlWCx1CVR4id09jgxNSE4WprU9nh8F6DHpy2zadFIduDKR85PrmvItYs10/Wbu0RtywysgPqM10MPxI1qKxFuRC7qu1Z2X5wPzxmuTmkeeZpZCWd2LMSepNd+DoV6U5Oo9D5nLMJjKFScsRO6ew2ilpK9Q9wXFKBxzSdaM8YoAMcZzQMbe5NFJQAoGSKUDpnvTenSlHFABj+dB6/jigHFJ9aAA46d6U4H1pDyKXJIoACODSkUmc0Z9qAAjApKUmkoAKKKKACiiigAooooYFi9/5FUf9fn/ALTFbGqH/i0+k/8AXy/82rHvf+RV/wC3w/8AosVr6oT/AMKn0n/r5b+bVpR2n6HNiPip/wCJfkzW0S4kg+AOsLExUTa3bxyYPVfLY4/MCuKrsdI/5IHqn/Yft/8A0U9cd3rCJ1sKKs2GnXeq3q2unwNPM/RV9PX2rY1LwLruk2TXc9srxIu5zE4bYPeplVhF2bNo4erOLnGN0jnqKO3NdhoXwt8Ta/py39taRw28i7omuJAplHqB1x9amtiKVCPNVkkvMyjGUnZI4+ir2saNqGgalJYavbNb3CclTzkeoPcVHpul3msXYt9PhMsnXA4wPUmr9rDl576dzOpJU03PRIq0Vv6n4K1nSLQ3M8KyQKPnaJs7PrWBRTqwqq8Xczo16VePNTldBRRS1obCUUtGM0AJRS4o60wEooooAKKWjFIBKKXFGKAEopelJTAKKKKQBRRRQAUUUUAd/wDEn/kWPAv/AGCP/ZhXAV3/AMSf+RY8C/8AYI/9mFcB2rOOwwopM0taCCiilAJOACT7UCEoooo0AKKKKACiiigAooooAKKKKACiilwTwBk+lACUUuCDzxSUAFFFFABRRRQAUUUUAFFFFABRRRQwLF5/yKv/AG+f+yLWvqp/4tPpP/Xy/wDNqyLz/kVf+3z/ANkWtfVcD4T6R/18t/Nq0o7T9DmxHxU/8S/JmjpH/JA9T/7D9v8A+inrj67HSf8Akgep/wDYft//AEU9cdWEdjsZ6B8KJ7aPUr+KRlW5liXy89SoPzAfoa9Mup4Lexmmu2AgVCZC3TGOlfO0UssE6TQO0ciHKupwVPsav3/iHWNUgEOpalc3MQ/gkkyD9fWuKthXUqc1z3MJmkaGH9k46mepTzwXU+XuyR7Z6V9fWFza3em20+nlWtpIlMRj6bccf59q+P8A+dbOk+L/ABFoVqbbR9Yu7SA8+VHJ8oPqB2rzc5yh5lTjGMrNHmUMR7OTbW56H8fLqzfUNJt4yrXkUchkA6qhI2g/iCfxrF+FUsAl1CElROwQqD1ZRnOP0rgbq5nvrqS5vZXnnlO6SWQ5Zj6k0W9xNaTrNbSvFKpyrocEV2UsvdLBLDJ3seXmdH69SnTva573qEsEGm3Ml2yiFYm37umMdK8Bb7xx0zWhf6/quqQiLUL6aeNTkI7cZ9cVnVpgMHLDRab3PNynLZYCm1KV2xaO3vmkor0j2hQeuaAeDSUUAKOFAxQKSloAXPWkPWkooAXH/wCqj/DpSUtACnHX26UHtTaKAHZzmm0UUAFFFFABRRRQAUUUUDO/+JP/ACLHgX/sEf8AswrgO1d/8Sf+RY8C/wDYI/8AZhXAVENgZ0viSG1fwv4a1CCxtrSa6iuBP9nj2iQpLtBI9cCsC1tzd3kNurBDK4QEgnGT6AE/kKtvrVzL4fh0iaOCSC3dmhdowXiDHLBW6gE1QikkgkWSF2SRDlXU4Kn1BqxK/U0NY0d9HlijkmWXzATlY3TGDj+NV/StbwHPJa6lq1zbyNFNBo13JFIhwyMEyGB7H3rn7u+u790e9uZrhkGFMshcqPxq74f1hNFvriWa1+1Q3NrLayx+ZsJRxg4bBwcUtRlrQYdP1WLVhqMNzPfraT3MU/nYVSiFskYyxJ9wKwOgHGTWvpPiB9EkujY2VnItwGjP2qISlY2GCmfQg4pbfXEt/C2paULRfPv7iOQz4G2NFz8oGMgkkd+gqdRFtbLS7jwfd6g9o9lJC0cVrKZyxuZf4xtxjAXnjGOASc1g27wpcxtdRNLCGBeNX2Fh6ZwcflWpeeJrm+0eDTprSx8q3iEUUiW4Douc8MO5PJPenXPiISWuhRwWcStpMRQmVA6zMZC+WHccgYPpQrgL4hsLSztdMlhtzaXNzA0s1vvLBRu+Q88jK84P171n6Wbb7btvIo5VYbV82Vo0Q5HJK84xmr2oeI5NY1mHUdUtLcyLKJJjbxhGm5BOc5yeO/FPvvExu/FWo6yunWZW9kLi2nhWREGeBjHUYHIxnmnrYCv4o06DSvFF/ZWW4W0Tjyt7bsqVBBz3HPB9K0tI8J3GoeE7jUI4GlmlkZbfCthUiXfI3Hc5VR75qrY+J5bfWL/U7yFbq4uraSFMqoWMsAoO3GMADgDHQVU0zX9S0cSLp93LEkkbRsgY4wwwcDseevaizAzuR2/Oum8Q+GJdM0WynS1kTyokF5Kyt80sm5gB2wq7R9azv7ZjHg3+xFth5rXxu3uTg8bAoUcZ6gnrUb+INTl0htMmu5JLVnVyjsTgjOBz256UO4FK2eGO6je5iM0QOWjD7d349q6PVIP7A1LRdR0KZ7aS5tBMZraVigcsysEY/NjAAIPQkjkVT1PxH9u1DTriCyhjSwtI7VYpY1cSbQcs4xg5JPb0qKbXTf6naTanaxvaWq7I7O2/cIi8nC4Bx8xyfWk+ZsCbxsc+OtaJ5/0x/wCdYVXta1I6xrd5qJiEJupmlMYOQue2e9UatDCiiigQUUUUAFFFFABRRRQAUUUUMCxef8ir/wBvh/8ARa1r6p/ySfSP+vl/5tWPe/8AIqj/AK/D/wCixWzqn/JJtJ/6+X/m1aUfhn6HNifip/4l+TNDSf8Akgmp/wDYft//AEU9cfXY6T/yQPU/+w/b/wDop646sYnWxaSiiqJCiiiiwwooooAKKKKBBRRRQAUUUUDCiiigQUUUUAFFFFABRRRQAUUUUAFFFFABRRRQAUUUUDO/+JP/ACLHgX/sEf8AswrgO1d/8Sf+RY8Df9gj/wBmFcBUR2BnSz+EPJ0W3vxq9m73USyW9sNwkly+wgAjsfzwcdKlvPAV9aTW0YuYXaa7SzkJR0WGR+mSwAYcHkZ6VlX+um9tdNjSzjgfTo/LjlRmJYbi3IJx94k8Ve1jxre63LC9/bQS7HEkiO8rJIcY5UvhQf8AZxWhHvFDX9G/sLUPsbXInkA+ceTJEUOcYIcA+/FVtP06bU5mjgkt42UZPnzrED9CxGaua74jutfSxinijhhsYjFCiMzEAtuOWYknnp6CqFlf3enOz2Nw8DMMEoeopFK/UZc272tzJBIUZozgmNw6n6EcGtmF47fwFLKLaB5p78wmV4lZ1XywcAkZHPpWJNNJcTPNcOZJXO5nbqTWlFqVn/wisumXMNwZhc/aIZImXbnZtwwPP5UrDLtv5U/w4vna2txNbahAkc4iAk2sshYbupzgdfSudrXi1W1h8Hz6SkM5uLi6ineUsuwBA4wB153fpWRQhBRRRTAKKKKACiiigAooooAKKKKACiiigAooooAKKKKACiiigAooooYFi9/5FUf9fn/tMVsap/ySfSf+vl/5tWPe/wDIqj/r8/8AaYrX1Qf8Wn0n/r5f+bVpR2n6HNiPip/4l+TNLSf+SB6n/wBh+3/9FPXHV2Ok/wDJBNT/AOw/b/8Aop646sYnWy3ptml/fLbPcx22/wC68obaT2Hyg9aXVtNm0fWLrTrkq01rIY3KHIyPSmac6x6nbM5AVZVJJ7DIroPiLYXNr461W4mgkjhubp5IJWHyyr1yp7jkdKsjqcvSVPZOqX9u0pjVBICxljLqB7qOSPat/wATXunXOnxJY3GkyuJckWOmPbMBg9WYnI6cfSkyjmsZrb1vSbDStL0xkmuZb29tEumUoojVWLDGc5z8vpWIO1dH4w4i8O/9gSH/ANDkpMDNuvD+q2Wi2+rXdm8Nlcv5cUjkAucZ4HXHvjFZp4rs57HWLj4W+dd2l9IRqYlDyROcRCDG7JH3R0z0rn18PX8vhaXX0SP7BFcC2ZjIN2/AI+XrjnrSTuhFiPwhrkuj/wBpJZAwGHzwvmp5hi7uI87ivvisQHNdx4e0rUfDuhy6+mn3VzdXtpJDZLFCzrGjgq0rkAgDaSAp+vSua0vw7qGq6VqOoWUaNbaZGJLgtIFIUnAwD1pJsCXTPCmsaxZC70+1V4mZkj3TIjSsoyQisQWI9gayCCrYIwR1B7V2Hg3RLq3RPFElldXcNpIwtYLWFpGnmA4ztB2qpwST16CsbSdA1bxTq95DZxI13EklxMsjCPAU5bg9/ahPUCPR/Dupa6sradFGUiZUZ5p0iXc3RQXIBJx0FUbu0uLC8ltLyJobiFykkbjBUjqK1vDOjajdXceo2WjJq8MEyo8BJPJ9QpBA9zxWn4j0qbxB8ULzT9HuFvJ7qfCNJKuN2Mld3QhTkZ74p396wHMWNjcalqEFlZR+ZPO4RFzjJNRSxtFM8T43IxUlTkEg44PcV03heSz0HXNTGsXX2K7t4JbaBxEZVSU/IzfL6Ddj3xTvF+hWlv4qsNN0KSOU3NvbKFVDGPMdFGTnpuJz7ZovqFzlVUuwVQWYnAA6k1Z1HTrnSdRmsb5VS4hba6qwYA+mRW/pNjB4T+ISweKWWFtOcudo85fNUZTO3qN2Cak8cWNhDa6Te2d9Hd3F7A01w6wshlYyN85J/LHtS5newr6nL21vNeXUVtaxmWeZxHGi9WYnAFaGr+GtV0O3jnv4EEMrtGskMySruHVSUJAb2PNP1Lwnquma3a6RdRRC7uo45Yl85dpDjK/NkAV0GuWs1j8Nre31CwXSLmK/2pAMg3Q2YaRlJJ+UgDIwDnihvUZi32i6fH4Ttta06e4YS3LW0kc6KMMEDEjBPHzVg11M/wDySa0x/wBBeXHP/TJK5arAKKKKACiiigAooooGd/8AEn/kWPAv/YI/9mFcBXf/ABJ/5FjwL/2CP/ZhXAVENgYUUUVYBRRRQAUUUUCFpKKWgYlFFFABRRRQIKKKKACiiigAooooAKKKKACiiigAooooAKKKKACiiihgWL3/AJFUf9fn/tMVr6p/ySfSf+vlv5tWRe/8ir/2+f8AtMVramP+LUaT/wBfL/zatKO0/Q5sR8VP/EvyZpaT/wAkD1P/ALD9v/6JeuPrsNJ/5IJqf/Yft/8A0S9cfWMNjrYYB60pZjjJJwMDPakoqyQooopAFXLjVr67s4bW5uGkhgUJGrAfKo6AH05P51TooGPMshXbvbHTG41aOrXZ0FdHDKtmtwbnaq4LOVC5J7jA4HaqVFFkA4SSBcCRgPQE1btdXvLPSbzTbd1S3vdnn/L8zhTlRn0zz+VUqKAHCSRRhHZfoTV3S9avdGa6awZEe6ga3kcrlgjddp7E461Qoo0EKCVOVODjBxVvSdUutF1KK+sCiXEWdjMu4KSMZx681Too0GKzM7sznczEkk859amtLuWx1C3vYdrTW8iyJ5g3DKnIyO446VBRQInv7yfU9QuL29fzLi4kaWRvVicmoO3PPGB7UUUAXdY1a717UGvdRdXmKKnyrhVVQFUAdgABVI5Y5YknGMk5oooshl261W9vLOO0uLmR7eM5SPgKpxjPA69KpUUUAFFFFAgooooAKKKKBnf/ABJ/5FjwL/2CP/ZhXAdq7/4k/wDIseBf+wR/7MK4CohsDNmbQWtfDlvqVy8yPdbvKi+zkrgNjlieM8kcHiqk2h6nbyW8c9nJGbhgke4YBY44z0B5HBxVq51zzNK0a2HmM1hv3hj8r5k3L+Q4q7fa9p85lWBbjbd3yXc5kAPl4z8q88/ePPHQVroVpYxL3Sr/AE3yzf2sluJCwXeuM7cZ/mKn0LSJdb1JbaLeQFLN5YVmx04BIzzgYo17UF1LWLm5hlleGWVpEEvVd3XjJ+n4CpfDF7ZaZ4itb/UGlCWsqzARIGLkEHHJGPrU9SJabGU67HKnqpINXYtMll0W41DD+XE6rlVBUZODuOcjtjjmoL0wNfTNau7wlyUaRdrEe4yf51paZe2FtoOo2ty8wnuwgXZGCq7W3evegcddym+i6lFYfbZLOVbbYH8wjjaeA305xmqsIjadBO7JGT87KuSB64yM1vTeIbaS2liEcmX0iOwGcffV1Yn6fKa548jmmD8jT1vRzpOvyaZDKbkqIyjBNpfeisBjnn5sVTvLK5068ltL6F4LiE7ZI3GCp9DWt4g1PT9V1qHUYDcKZEjFxGVA2FEVflbJz90npWdq01tcatcS2DXLW7PmM3TbpSMfxHuaRKvbUp0UUUDCiiigAooooAKKKKACiiigAooooAKKKKACiiigAooooYFi8/5FX/t8/wDZFrX1QEfCjSf+vlv5tWRef8ir/wBvh/8ARYrX1T/kk+k/9fL/AM2rSjtP0ObEfFT/AMS/JmlpP/JBNT/7D9v/AOinrjq7DSf+SB6n/wBh+3/9FPXH1jE62FFFFUSFFFFABRRRQAUUtXLrSNRsbWK5vLKaGCY7Y5HTCscZwD64oApUVYSyuJLKW7SJjBCyrJJ2UnoKr0AFFKFYqXVWKL95gDgfX0q3pel3es3y2mnReZKQWOWChVAyWZjwAPU0AU6Kc6FXKnHBxwcim0AFFOVGdwqKzMeiqMk0IrSSKiKWZjgAAkk+mKAG0Vp3Ph3VLXVv7Me2L3gRXaCJg7KCM4ODwRnkdR3qlPaT2l21rdxtBOjbXSUbSp9/SgOtiGirmpaZd6PfPaahF5cygHhgwYEZBBHBBHQijUtKu9JnSK+iCNJGssbKwZXVhkFWHB/oaAKdFLSUAFFFFABRRRQAUUUUDO/+JP8AyLHgX/sEf+zCuArv/iT/AMix4F/7BH/swrgKiOwMKKKK0EFWbCxe/uhEm4Dq7LEz7R64UE1WrV8N3NvZeILS6vLz7JFDIsjnY7bgCPlwoNKw0Q6XpMmpyXBWRIYLWIyzyyKSEXIHQAknLAYFUXUK7KrhwCQGAPI9ea3NO1ZNLj1uG21GcC4g227wGRA7+Yhzjgj5QwyRWGcnk8k09BtK2hal06SHSob594E0hVVaJgMAfeDEbT3GAc8VWVGkYJGrOzHAVRkk10DXWnv4AWwbV1a8S7+0rbGGXgbNu3dt2579cVmaHcw2PiGwu7pikMFwkkhAJIUNk8CixEdSs9hdxSxxy2s6PL/q1aMgv9B3qe10bUbu/NlDZy/aQpdo2QqVAGcnPSt208RwGSza8up2kjlut0xVmaESKArDvwcnA5FJ/b1lFrGllb2WSK2tHt57sIw3Ft+Dg/MQN49+KOVGlkcxLG8ErRSo0cinDKwwQfoamgspJrK4ucSCOEDDCJmViSBjcBgcc8kUy8CC7kEVwLlc8S7WXd+DAGtjQbqyh0nVbe91IWpuoBFHG0cjDIdG3HapHRSKVtdSepkizuzbm4+zTeSBky+WdoHTOelQgEsABkngDHWumHiG1GlxWv2iYoujPatGFbaJjIzYA6dCvNc0rASglto3Dn0/KhpA1bYsz6XqNsFNxYXUQZ9gMkLLlvQZHX2pG0y/S8Fo9jci5YZEJhYOR7LjNdveeN7ZPHlleHUZNT0iFkcx+W42MIvLyFYDkZ3cdfXNRnxTawa3afZtYg+zw2ssRuHtbhwyyE7o2LEycjJyvTNVZGd5djijYXguzam0uBcDrD5R3jjP3evTmq9dVPqOk/8ACcNdaXrF/p9n5JUXiiSSQN5ZBABO7aTwM9jzXLfiT7mpLTuhKKKKACiiigAooooAKKKKACiiihgWLz/kVh/1+H/0WK19T/5JPpX/AF8v/Nqx73/kVR/1+f8AtMVsan/ySbSh/wBPL/zatKO0/Q58R8VP/EvyZpaT/wAkD1P/ALD9v/6JeuOrsNJ/5IHqf/Yft/8A0U9cfWETqZq+GI4Z/FmmQXUEc8E1ykbxyA7WDHHYj1rqksfDmt+OLLw9Z6W1lEmoSRSzecS80YHCk9jlTyB3FcVp2o3Ok6hFe2DiO4hO6NygbafXBBqS81i/vtX/ALTnnIvMhvNjUIQR0Pygc+9aIxlFtnU6zaeGjb2c4Fqk63wjmttLaZt9vjJ/1gGHB4981F4v03T20ddV8PW1idLa78lLi2aVZUyuRHJG56453D0rD1DxPrGp3FtNd3rtJavviZQE2t/e+UDJ9zTdW8SatrcUcOpXjSRRsWWNUVE3f3iqgAn3PNO6GosyxXVar4bhs9FluktCjKqnedVtpcZI/gT5j17Vy1JgZzioZoFdZcnPwesOf+Y5OB7fuI65OtKx8QanpunXFjaXJS1uMmSFkVlJIwSMg7TjjIwaYjT0wW134B1syWdus9kIGjuE3B23y4O7nB49q0/ClhouqaNDZW9raT69LLJmHUDKizpj5RC6nardevesPT/GOt6Vpn9n2N1HHa42mM20bbhnPJK5PXvUdh4r1rTLA2djfvFDklcKpZM9drEZXP8As4pWYzofDl4LL4feKopdNs5mt2tyROrEtulxhiGHA7f1qlo8jQ/DrxLcWg2zSzW0UxQcrCWYkewLBRWHpOu6lolxLNpt00TTLtkBAdXGc8qwIPPPPSrGkeI7rS727lkRLqG/RkvLeQfLMCc8+hDcgjkGmBf8HLoDx3ya2sS3biNbGS8SRrdTk7g/l8gkYwTwOa3NP8LWkGq+JpNXs7G2l0tImitJp5Gt18xsbyy5dlA5A/2hmuQ0rxDqWhvMdJuPIWXG5GRZFOOhwwIyPWktvEOrWury6nHfzG8mz5srnd5gPUMDkEex4pNagdr4fGkWfxS04aJHaXMNzApkQeYyQylSW8stg444z2NZPg24jvfiLbzrZ29uyJI8MEKHb5qxsU4Yk53Ad65uXWdRm1cao93J9sVgyyqdpXHTGOgHpU114j1W81mHVZrrF7AVMUkaKm0g5HCgDrRYRUgllm1aOad2aV5wzsTyWLDJra+If/JQdYzx/pLVlaxqKarqkl9Hax2jTYaSOI4Xf3YDtk5OB0zUmqa/qOti3Gq3BuBbjCnaqsRxnLAZJ4HJzTWwrPmubevDzfhv4Xubnm78y7hVj1aJXXb+AJIFNuT5/wAJ7GS55e31SWK2Zjz5ZRWYD2DY/OsbXNal1q6iZo1t7e3iENtbRn5YUHYepzyT3PNO1jXJNVhs7VIVtrKxi8u3t0OQueWYnqWY8kmkUZdFFFMQUUUUAFFFFABRRRQM7/4k/wDIseBf+wR/7MK4Cu/+JP8AyLHgX/sEf+zCuAqI7AwooorQQUtJRSAXNJRRTAXafQ+tBBAz+XvXa3+uXVj4B0qxgu7SeKeCWG7i3q8oBfcgPcYUcehNbHiXXbGdLZNNj0yS0N7BLZ+ZchvIVVxtMQTMadmBJ5GeetBN32PMiuOvGaApbgDJ9hXY+NZ4dSutMJvovPkLiaJboTxW4LDBEgHAPPy84Apnhy3tdJ8SanCdVheSCArbTw3XkRTtuXI8wjIGMn3xUybSuikzkQCR8vPNAGecdOtetrc+be+Kr7w9qGn2iyahZut00iogUq2/BI7kHI4zzVi01LT0tbbUbS4s7TQTrl69zDKFU3EHlp8ioR8wOfu+pHpxl7TyGeN44JxxSnjr9K9Fj1rTo/h/DbWkdo8YsHiuYJbwRuJy5O8R7SXbG0hs9iOKTVPENjdG6try4hnsIUsfJhj2gHG3zcAfxY3AmnzvsM4VNLu301L5YwYHuPsykH5jJjOMdehqW80eex1kaZLJA1wCqybZPljY9VLdPl7kcda9D1nxBbxzWE17qdnfQx+IftcUVu4byrfAxwB8o44XtjoK5MWd9p3j9k+2JbSrceZ9oa48pZIyc7g+cEMv55qou71Jexj2Okz6jqbafBLALgBggaTiRh/CrdMnt2NUmVkco4KspwQeoNdRPpz3XxHl+wzW7xG7a686GUNHHFv3Fiw4GB/QVi67dQ33iLUbu1GIbi6kkjAGMKzEj9DVX1sBn0UUUwCiiigAooooAKKKKACiiihgWL3/AJFUf9fh/wDRYrW1Q/8AFp9J4/5eX/m1ZN5/yKo/6/D/AOixWxqh/wCLT6T/ANfL/wA2rSjtP0ObEfFT/wAS/JmhpP8AyQTU/wDsP2//AKJeuPrsNJ/5IHqn/Yft/wD0U9cfWENjrYUUUVZIUUUUAFFFFABRRRQAUUUUAFFFFABRRRQAUUUUAFFFFABRRRQAUUUUAFFFFABRRRQAUUUUDO/+JP8AyLHgX/sEf+zCuArv/iT/AMix4F/7BH/swrgKiOwMKKKK0EFFFFIAooooAKKKKYwoxkUUUhEqXEyW0lus0iwyMGeMMdrEdCR7ZP50jXEzWqWzTSNBG5dIix2qxwCQPU4H5VHRSshhRRRRYAwKUknGSTgYGaSimAoJHQkZ9KSiigQUUUUAFFFFABRRRQAUUUUAFFFFAFi8/wCRVH/X4f8A0WK19Uz/AMKn0n/r5b+bVkXn/IrD/r8/9pitjVSP+FT6T/18v/Nq0pbT9DlxHxU/8S/JmjpP/JA9T/7D9v8A+inrjq7DSf8Akgmp/wDYft//AES9cfWEdjsYUVt+EdEtvEHiOLT764ktoGjkd5YlDMNqFuAevStC/wDD+jx2uj6lp1xeyadfXD28yTKiyxspHQjjBDA9OOlVck5SjtntXZeMPDfhvw3cXFlaapeXeoWd95M8TRqgMeCxKnuRwOeMnpUXieyjmk8MmK5uHt7ywj8pZtm+FBKyBcqAD0Jz70XGclR16V3HiPwZo2nQa6uk6heT3Gi3EcU3nxqqyByR8uOcjH4+1QeMLLQLTRtBfTLW6iuLvTVn3NIpVsyOCXwMluMZGBwKVxHIrDI8TypGzRpje4GQuemT2pldZ4ql/svQNC0Wz/d281jHf3JXrNM5YZb1AUAAdBzVqz8MeGf+EZ07VdW1W9tDeiWMIEVgJIxnOccKeBjBOTVLUTko7nE0Zr0LRvhmt/oenz3L3y3GoWzXEc0MKtb2452iQnnJ29umRWfofg/T9R8N/b5Jb+6uRJIstvp6o7WyqOHZScsD7Y+tPlZPPE5ARSNC0qxsY0IDOF4BPQE0yun8DXbReKYtLk/e2OqN9kuoXHEitwDjsVOCD7Vz97ALW+ntwdwikZAfXBxmpLIKKKKYBRRRQAUUUUAFFFFABRRRQAUUUUAFFFFABRRRQM7/AOJP/IseBf8AsEf+zCuArv8A4k/8ix4G/wCwR/7MK4DtWcdgYtJXoev+HbG10G6ePRTaJBaWU0F9mQ+fJIq7l5O05y3A6bap+MLfTNKv7fTrLw55NwUtZxKXkPnFowzptJ+7lgMDng888XcDjZoJbaYw3MUkMqgEpIpUjIyOD7HNRnj6V6Ld6Faj4gX51HS5GtU0VrxIJXkUNItqrkbiS2A3HXjpUumWlja+KkFpo8Lf2hoDXK2p3uBIYWOE5zyR05PoaVxHndpZXN/P5NlBJPLtLbI1ydoGSfoBzUNdZbRz2vg3xG0ds1nei6gS5iClWit2LEjB5C7vLHPtmnaTBp1t4EfVtQ0L7c63ptxKXdAEKZySDjIbGPx61S1E3Y5DP/66M4616DqXh3SbXwWlzDYSSGTTkuY76KOViZmYZDN/qwgOUx1BA71W8Y6Da2Xh+G+07R20+FJ0gb7WksdwHMZJBDEq4OM7gBjjgUC5jjryzudOvHtb6F7e4jOHikXDL3/kR+dQ10XiIs/hvw3Lcc3BtJFDHq0SyER5PfHzAewFc5QUFFFFABRRRQAUUUUAFFFFABRRRQAUUUUAFFFFABRRRQAUUUUMCxef8ir/ANvn/si1r6r/AMko0j/r5f8Am1ZF5/yKo/6/D/6LFa+qD/i0+k/9fL/zatKO0/Q5sR8VP/EvyZpaT/yQTU/+w/b/APop646ux0n/AJIJqf8A2H7f/wBFPXHVjE62dH4D1S00fxbDe6iyrbpFKG35IYmNgBx6nApl74pN02mxJpdvBYafI0kdkjvtdmOSWYndngD8K5+iqsSa/iDXh4g8Ry6xPp0MLzyeZPDHI5WRu5yTkfhVvVPFcOo2+mxpottatpqLHA8c8jEIHL4IJweWPPWudoosBv33i27v311nt4VOtypLNtJ/dlWJAX8+9RXfiL7doVtYXunW8s1nB9nt7zc4eOPcWxgHaeSeSO9YtFKwG9faxZ6t4Zsre+V11LTVEEEijKzQZJ2t6FSTg9wcdqbf+Ixe+FbLRTpcES2TM8dwsrlyWxuJBOOcVh0Uwtc6FPFjPo9tY6hpttfGziaG2nkd1aNDk7cKwDAEkjPSm6J4oTQlgkt9ItZb63LGO7eSQMCemQGw2O2awKKYuVG94c1q00a9uNWulebUo1P2KMKBGJGyDIxz/CDkADrWG7NI7O5LMxySe5ptFIYUUUUAFFFFABRRRQAUUUUAFFFFABRRRQAUUUUAFFFFAzv/AIk/8ix4F/7BH/swrgK9A+JP/Ir+Bv8AsEf+zCvP6iOwM0dV12/1iaN7uZgscccaRoxCLsQICFz1wBk1VlvrueaOWa7nkkj+47ysWT6EnIqCiqsBZl1G+uGBuL25lIUqDJMzYB6jk9D6d6iFxOsqSLPKJI8BHDkFAOmD1FR0U7AW7XVL2zuZZ4LlxLOjRys53eYrdQ2ev41CLq5+zG2FzMLdjkw+Ydh5z93pUVFAEv2q5+z+R9ol8ndu8rzDsz64ziiW6ubhEW4uJpVjGFWSRmCj2yeKiopWFYs3+o3Wp3Pn30plk2hQcABVAwAAOAAOwqtRRTGFFFFABRRRQAUUUUAFFFFABRRRQAUUUUAFFFFABRRRQAUUUtAie8/5FYf9fh/9FitfU/8Akk2lH/p5f+bVkXn/ACKw/wCvw/8AosVr6mP+LT6Sf+nl/wCbVrR2n6HPifip/wCJfkzR0n/kgep/9h+3/wDRT1x9eo/DjwrdeL/gj4h0/TgrXkWoxXECMcbyqY2/UgmuPfwB4vjkKHwvrBIODtsZCPzAwa54tWOpnPUVv/8ACB+L/wDoVta/8AJf/iaP+ED8X/8AQra1/wCAEv8A8TVXQjAorf8A+ED8X/8AQra1/wCAEv8A8TR/wgfi/wD6FbWv/ACX/wCJougMCit//hA/F/8A0K2tf+AEv/xNH/CB+L/+hW1r/wAAJf8A4mi6AwKK3/8AhA/F/wD0K2tf+AEv/wATR/wgfi//AKFbWv8AwAl/+JougMCit/8A4QPxf/0K2tf+AEv/AMTR/wAIH4v/AOhW1r/wAl/+JougMCit/wD4QPxf/wBCtrX/AIAS/wDxNH/CB+L/APoVta/8AJf/AImndAYFFb//AAgfi/8A6FbWv/ACX/4mj/hA/F//AEK2tf8AgBL/APE0XQGBRW//AMIH4v8A+hW1r/wAl/8AiaP+ED8X/wDQra1/4AS//E0XQGBRW/8A8IH4v/6FbWv/AAAl/wDiaP8AhA/F/wD0K2tf+AEv/wATSugMCit//hA/F/8A0K2tf+AEv/xNH/CB+L/+hW1r/wAAJf8A4mi6AwKK3/8AhA/F/wD0K2tf+AEv/wATR/wgfi//AKFbWv8AwAl/+JougMCit/8A4QPxf/0K2tf+AEv/AMTR/wAIH4v/AOhW1r/wAl/+JougMCit/wD4QPxf/wBCtrX/AIAS/wDxNH/CB+L/APoVta/8AJf/AImndAYFFb//AAgfi/8A6FbWv/ACX/4mj/hA/F5/5lbWv/ACX/4mldAei+LvAmu+I/hx4N1TQrGW/W204QywwrucZwQQO4+lcF/wrbxv/wBCnq//AICNXIx69qkMKxQ6jdxxqMKqzuAB9AacPEOsjpqt9/4Ev/jWSk0VY6v/AIVt42/6FLWP/AVqP+FbeNv+hS1j/wABWrlf+Ej1n/oK33/gS/8AjR/wketf9BW+/wDAl/8AGnzsLHVf8K28bf8AQpax/wCArUf8K28bf9ClrH/gK1cr/wAJHrX/AEFb7/wJf/Gj/hI9a/6Ct9/4Ev8A40c7Cx1X/CtvG3/Qpax/4CtR/wAK28bf9ClrH/gK1cr/AMJHrX/QVvv/AAJf/Gj/AISPWv8AoK33/gS/+NHOwsdV/wAK28bf9ClrH/gK1H/CtvG3/Qpax/4CtXK/8JHrX/QVvv8AwJf/ABo/4SPWv+grff8AgS/+NHOwsdV/wrbxt/0KWsf+ArUf8K28bf8AQpax/wCArVyv/CR61/0Fb7/wJf8Axo/4SPWv+grff+BL/wCNHOwsdV/wrbxt/wBClrH/AICtR/wrbxt/0KWsf+ArVyv/AAketf8AQVvv/Al/8aP+Ej1r/oK33/gS/wDjRzsLHVf8K28b/wDQp6v/AOArUo+G3jb/AKFPWP8AwEauU/4SPWf+grff+BL/AONH/CR6z/0Fb7/wJf8Axo52Fjq/+Fa+N/8AoU9X/wDARqP+FbeN/wDoU9X/APARq5P/AISHWf8AoK33/gS/+NL/AMJHrX/QVvv/AAJf/GjnYWOq/wCFbeN/+hT1f/wFaj/hW3jb/oUtY/8AAVq5X/hI9Z/6Ct9/4Ev/AI0f8JHrX/QVvv8AwJf/ABo52Fjqv+FbeNv+hS1j/wABWo/4Vt42/wChS1j/AMBWrlf+Ej1r/oK33/gS/wDjR/wketf9BW+/8CX/AMaOdhY6r/hW3jb/AKFLWP8AwFaj/hW3jb/oUtY/8BWrlf8AhI9a/wCgrff+BL/40f8ACR61/wBBW+/8CX/xo52Fjqv+FbeNv+hS1j/wFaj/AIVt42/6FLWP/AVq5X/hI9a/6Ct9/wCBL/40f8JHrX/QVvv/AAJf/GjnYWOq/wCFbeNv+hS1j/wFaj/hW3jb/oUtY/8AAVq5X/hI9a/6Ct9/4Ev/AI0f8JHrX/QVvv8AwJf/ABo52Fjqv+FbeNv+hS1j/wABWo/4Vt43/wChT1f/AMBWrlf+Ej1r/oK33/gS/wDjR/wkes/9BW9/8CX/AMaOdhY6nxj4R1bwn4R07+3LZ7Wa+uHlSFx8yKFUfN6E+lQ6mP8Ai1Gkn/p5b+bVyd3qV7fBRe3c9wF+75srPj6ZNdZqgz8J9J/6+W/m1dFHWM/Q48T8VP8Axfozk7fUb2zUpaXc8CsckRSsoP5Gpf7b1X/oKXv/AIEP/jVGiuQ7S9/bmq/9BS9/8CH/AMaP7c1X/oKXv/gQ/wDjVGigC9/bmq/9BS9/8CH/AMaP7c1X/oKXv/gQ/wDjVGimBe/tzVf+gpe/+BD/AONH9uar/wBBS9/8CH/xqjRQBe/tzVf+gpe/+BD/AONH9uar/wBBS9/8CH/xqjRQBe/tzVf+gpe/+BD/AONH9uar/wBBS9/8CH/xqjRQBe/tzVf+gpe/+BD/AONH9uar/wBBS9/8CH/xqjRQBe/tzVf+gpe/+BD/AONH9uar/wBBS9/8CH/xqjRQBe/tzVf+gpe/+BD/AONH9uar/wBBS9/8CH/xqjRQBe/tzVf+gpe/+BD/AONH9uar/wBBS9/8CH/xqjRQBe/tzVf+gpe/+BD/AONH9uar/wBBS9/8CH/xqjRQBe/tzVf+gpe/+BD/AONH9uar/wBBS9/8CH/xqjRQBe/tzVf+gpe/+BD/AONH9uar/wBBS9/8CH/xqjRQBe/tzVf+gpe/+BD/AONH9uar/wBBS9/8CH/xqjRQBe/tzVf+gpe/+BD/AONH9uat/wBBS9/8CH/xqjRSAKKKKACiiigAooooAKKKKACiiigAooooAKKKKACiiigAooooAKKKKACiiigAooooAKKKKACiiigAooooATuK7bUxj4UaT/18v/Nq4qu11TJ+E+k/9fLfzauuh8E/Q4sV8dP/ABfoziqKDRXIdoUUUUAFFFFABRRRQAUUUUAFFFFABRRRQAUUUUAFFFFABRRRQAUUUUAFFFFABRRRQAUUUUAFFFFABRRUkEEt1MkVvG0kjkKqKMkn6UwI6K3NR8F+JNIsBe6nol7a2xGRLJEQv51hkYpAFFAGadJE8Rw6lT1weKAG0UUUAFFKBnoKWSNonKyKVYdQR0oAbRRW7aeDtbvtBfWbayLaeu7MxdQPl6gZOSRQBhUVbi0q+nsZ7yG1kkt7fHnSqvyx54GT2qoB19qegBRWzD4Q8QXGknU4dHu5LEDJnWI7ceufSscg+lCtLZgJRWppHhnWdeZ10bTbi9Mf3/JQtt+tUbyzuLC6e2vYHgnjOHjkXDKfcVN1e1wIaKBzV6XRtQg06C/mtJY7S4YrDOy4WQjrg96bst2BRorc1Xwfrei6TDqWo2RitJ3CRyh1YFiM44J7VhmhWewBRRRQAUUUUAFFFFABRRRQAV22p/8AJJ9JP/Ty382riK7XUzn4T6SP+nl/5tXXQ+CfoceK+Kn/AIv0ZxZooorlOwKKAMnArb07wX4k1exN5pmi3l1bAZMscRK/nSAxKKkngltpmiuI2jkQ4ZGGCD7ioxQAUU7y22b9p25xnFNxQAUUUUAFFLsbZu2naTgHHGabQAtFaWh+H9S8R35stHtzcXAQyFAwHyjqeaLjw/qdvrJ0p7RmvQQPJjIckkZAGM5pXXcDNop80MlvM8UyFJEYqynqpHUVe0nw/q2vTGLRtPuL2RRllhTdge9N2SuwM6irN/p91pd29rqFvJbTx8NHKpVh+BptnZXN/cpb2UEk80hwqRruJPpijTe4EFFauseGda8P+X/bemXNj5n3DNGVDfSsqhWaugCirmn6RqGqmX+zrOa6MKGSQRKTtUdSfStHRfBut+IbaWfSLI3CQk7yHUEYGTwTk8UroDCooIwxB7HFFMAooooAKKKKACiiigAr0D4cT/2LoPiTxNbBDf6dbpFaswz5bysVLjPcAV5/XV+B/EtjolxeWWu28lxpGpwmC7SLG9RnKuueNynmgRoeBvGusp44s0u76e+t9RuUt7y3uJC6TpI21gQfY1PrnhDT7LTPGM6BjLpWpRQW/PAR2cEEd/uirlgvw+8JX41yDWbjXri2PmWViLUxYkHKmRiegOOlU/DfiXSNW0/xHpni+8msxrUqXK3qReYI5UZjgqOSDuxxVAZ1lpOlW3gXTNevbead31V7eeNJNu+NUVsA4ODz1rsfiFbaHrHxlsNIWwmgknkso7ibzsh43hjwFGOCAcZ71z3ijVfDcXw/sfD/AIcu5bmS0v3mkmlj2efuRQXA/hGeACc8Z71s3Wp6H4i+JvhjxBpWoSPeXV1ZxXNjJCVMJjVEyG6MDtpAQQ+HvAdx4xfwfENQ+0SXJt4tV81dglyQB5ePuZ4znPeueuPC1tafD/VtSn3G/sdajsAQ3ylCjk8fVBXXTSeBtK8eXPid9VuBLa3jzDRTbku0ysfl8z7u0sM+uOKxdA17QNc8O67ofiq9l0o3+orqUN3HD5iq4DAqVHPRzQBVstI0jT9F8K6xdW805vLmZbiNZAu4I4C4ODjr+NWfjXPpj/EfUYbOzkguY5FE8jSblk/dpjAwNuB9c0zxZrnh9PDnh/TfDM80/wDZcsxkedNrSlmUhsdADg4HUADPNVfidfaHr3iFvEGh6i88mogPPaSQlGtiEVcZ6NnB6UAYOiQaDLpmqNrk9zDcpb7rFYVBWSTPRvQY/rXSau2PgnoRHH/EzuPb+Fa5zQrfQp9N1Ntbvbi2uo4A1jHEm5ZZM/dY9hXVX+n3d78ENGazt5Z0h1C4eRo0LBF2ry2OlRO2hRe0bxFc6t8IPE9jJFbwW1jDbCOOCIJuJfBdscsxwOTXlyNsk3ehzXWeHdZsbDwL4m066lK3OoJALdApO7a5J56Dj1qvc+Gbe08D6Xrct0wuNQu5IRDsGFjQDL565yRxUwSpuWm7/QDqPC+va34l+IEOuS3X9m6bpwWS48tiILa3UY2Aeh6Ad81wOu3Vve69e3VlH5VvLO7xpjG1STgY+lem6pJ4Fn8OW+haR4xOn2EeHnA02Rnupf77nI/AdBXG2fhfTruy8R3keotJa6TCr20ixbftJZwqjB6dc1FNq7la3QRY8Pajquvaba+GLPUrPSLaBnnMksphEzHHLsM7j2HtV/4trJFrGk2s4eea10uKGS+I+W8ILfvFP8S9gTzxVXSYPBur+HbaC/v5dA1W2LCW48lpo7lT0OAcqw6elWtbvdN8T6n4Z8J6HJPPZ2WLVbyVQHmZ3yzBeyjPANH/AC8Uku4zm/B/h1/EeuJA7eVaQqZruc/diiXlif5D3IrtfHeuLr3wy0+a1i8ixt9WmtrOEDGyFIk2j68kn3NYNn4pfwJq2t6VpUFnqVlLMYWN5BvEqIx25GfxxWtqvxDstS+HC6cmkaTBfSXcheCGzCrFGUAEidg2eM9eKipGbqRfLdXDoZ8zFvgXCSSf+J23X/rjXCV6HqOn3en/AAOtkvraW3aTWS6iRCuVMPBGe1eeYreGzsIKKKKsAooooAKKKKACiiigBK7bU/8Akk+k/wDXy/8ANq4mu31T/kk+k/8AXy/82rqofDP0OPFfHT/xfoziaKMUVynYa/hXT4dV8WaZYXP+puLpI35xwSM10njrxvrEnjS6h0+7uNPs9NnaCytrdzGsCIdowB0PGTXG6dfTaZqVve2x2zW8gkQ+hByK9H1RvAPjTUDr13rNxoN5ckSX1l9kMqtJj5jGwPc889zTEaN3plt431XwDqGsqTca2r29+8YCmYxttDnHcgjP0rkvDnhjT9T8c6npd35htrWK6ZMNg5jVivP4CtO5+IWm2/jLw9No9nMmieHSEt4pCPMlXdl3bHG4k/oK29O1T4f6J4n1PWrbWbm9fUoZ1ige1KC2Min7x53HJxwPemMpW174fT4B/wClaVcSEawYiVuQP33kZD/d+7j+H9apvovhLQvBega3rNrdX1xqUTg2sMojAKuQXLYOBggAD3qnoWo6Fe/De/8ADmsag+nXMd+dQt5PJMiSny9mw45H16V0F/Y+HdU+HPg+213U20idLeWSO6MJlR18wgoQOc9wfrQIq2Hw+0S++IXhyC2eeXQtetpLiIOQJIyqOTGSO4ZRz6Gua8H+HrHWr3XIr1XK2Wm3F1FtbHzoPlz7e1dKPH+jaN468LvpKzz6J4fiNv5jLh594YSSBc8ff4HtVjT9Q8BeGBr8mm6xdahPqen3EFvutjGsO4cKf7xJ4zwOKQitfX3h4fA3Td2lXJkOoTxRt9q+7N5SZf7vK8/d/XmvN9OW0k1O3XUWdLVpF85oxllTPJAPfFdfYahoWpfC1tD1PUWsL+xvpby3BgLpcbo1UISPunK9feuR01LV9Ut01GV4bVpFE0kYyyLnkgdyBQNHeeCU02Hx5r0ehSzTaeunXgt5JRhmTyzgkCq3ws8R3Wl+L7KytIrfN5dIslw8IaVVJwVVjyAfarngW1sR8QdbtvD0s17Z/wBn3aW0jp88i+WcZHrXMeGpP+Eb8dafPrSSWgtblHmWRCGUA56delc80pKcRlHxKB/wlWqcf8vkv/oZq/p3iPVT4fi8NaOjRie6812t8iSdjgKpx1A7D3q5pej2vi7xhrUklw0NlHHdXxlVQTtXJXg+pIH41t/D698KaPodxeXmt/2d4glLRwStavKLZMYLrjjeQevaqlJKna19gKHxLn8qPQ9KvZhc6rp9l5d5Lu3FWJysZPcoOK5vw54ivvDl1NNpjLHcTwtAJiPmiDdSp7H3rWv9B0a78Q6ZaaJ4hfWHv7kRzytbNEYyzKAfmPOcn8qs29l4W0fxnq+i60809gjPbQ36L88Lq2BJtBwRwRihWjCwzo9T02+0X4S6qmoalFrn2y6hMZtZTPHaFSSWZj90tnGPavKY42lkVIwWdjhQO5r0KXUPDfhTwvqtlousS65eatGsBItzFFAgbJJDHJb09KyZbRPBtv4Z8Q20wn1C43XZt5owUjCvhD75wfyqaT5b26vQD0PwRHF4UuJPC0Kg39xpdxd6pJ12t5RMcP8AwEHJ9zXD/CZm/wCFgouTj7Jc8Z/6ZNW/4X+LNs/iG4ute0jSLXzbaYtcwWX7x5CpwCRyQT1ql8NUu9W+IU2sR2Cw2v2e4EhtodsMRMTYHHArLlklLnVtA0PNJf8AXP8A7xptOl/1z/7xptdnQQUUUUAFFFFABRRRQAUAkdKKKACiiimIMk9as6fqFxpeowX1m5juLeRZI3AztYHIP5iq1FIZLdXMt5dS3Fw26WVy7nGMknJqLNFFAAST1ooopgFXoNa1O1sXsre/uYrWQENCkrBGz1yM4qjRSeqACcmrVzqV5d2dtaXFw8lvagrBGx4jBOTj6mqtFPcAq1DqN3DYzWcU7rbTsrSxA8OVzgn6ZNVaKACp7O9uNPu47qzlaGaJtyOh5U+oqCii4DpHaWQu5LMxySe9NBINFFAF681vU9Qto7e+v7m4hjxsjllZlXjHAJ44qjRRS22AKKKKACiiigAooooAKKKKADvXa6of+LTaV/18t/Nq4mu21T/kk+kj/p5b+bV10Pgn6HFivjp/4v0ZxRooorlO0KKKKQBnNGTRRTAOlX73Wr3UdPsrK7lLwWKMkCkD5ATk+/WqFFABRuOKKKADpSUtFICxZX93p1wJ7C5ltpgMCSJyrAfUU27vLi+uGnvJ5J5n+9JIxZm+pNQ0UaXuBas9SvNPjuI7Od4kuo/KmCnHmJkHafbIFVc0UU9gLFjfXGnXcV1ZStDPEwaOROqn1FRSyPLIzyMWZjlmJySfWmUUXAM1Zu9Rur5YhdzPMIYxFFvOdiDoB7cmq1JQAtXrPWtT0+B4bC/ubaOT76xSsobtyAeao0Ub7gBOWJPU0UUUgCiiigAooooAKKKKACiiigAooooAKKKKACiiigAooooAKKKKACiiigAooooAKKKKACiiigAooooAKKKKACiiigAooooAKKKKAE9K7fVf+ST6T/18t/NqKK66Hwz9DixXx0/8X+ZxVJRRXIdoUUUUAFFFFABRRRQAUUUUAFFFFABRRRQAUUUUAFFFFABRRRQAUUUUAFFFFABRRRQAUUUUAFFFFAH/2Q==)"
      ]
    },
    {
      "cell_type": "markdown",
      "metadata": {
        "id": "x_i-Ei3Sz4y2"
      },
      "source": [
        "##### **Method 1: The naive approach**"
      ]
    },
    {
      "cell_type": "code",
      "metadata": {
        "colab": {
          "base_uri": "https://localhost:8080/"
        },
        "id": "Ian_nNaDFEQk",
        "outputId": "528b3701-6e13-49d5-d5fd-8bcd45be53c1"
      },
      "source": [
        "# Example: Append Unique Item into Another List\n",
        "\n",
        "mylist=[5,10,15,20,3,15,25,20,30,10,100]\n",
        "uniques=[]\n",
        "for i in mylist:\n",
        "  if i not in uniques:\n",
        "    uniques.append(i)\n",
        "print(uniques)         # print(str(uniques))"
      ],
      "execution_count": null,
      "outputs": [
        {
          "output_type": "stream",
          "text": [
            "[5, 10, 15, 20, 3, 25, 30, 100]\n"
          ],
          "name": "stdout"
        }
      ]
    },
    {
      "cell_type": "markdown",
      "metadata": {
        "id": "OAmHHUj00ZLx"
      },
      "source": [
        "##### **Method 2: Using Set()**"
      ]
    },
    {
      "cell_type": "code",
      "metadata": {
        "colab": {
          "base_uri": "https://localhost:8080/"
        },
        "id": "gu6vjcJZA1ih",
        "outputId": "861cfc22-cad1-4947-9117-c18f03a96bf1"
      },
      "source": [
        "# Example: List to Set\n",
        "mylist=[5,10,15,20,3,15,25,20,30,10,100]\n",
        "myset = set(mylist)\n",
        "print(list(myset))\n",
        "\n",
        "# mylist = [5,10,15,20,3,15,25,20,30,10,100]\n",
        "# mylist = list(set(mylist))\n",
        "# print(str(mylist))"
      ],
      "execution_count": null,
      "outputs": [
        {
          "output_type": "stream",
          "text": [
            "[3, 100, 5, 10, 15, 20, 25, 30]\n"
          ],
          "name": "stdout"
        }
      ]
    },
    {
      "cell_type": "markdown",
      "metadata": {
        "id": "aK0xPzHCoE1G"
      },
      "source": [
        "#### **4.12) List to Set conversion**"
      ]
    },
    {
      "cell_type": "markdown",
      "metadata": {
        "id": "rBhh5TRnr7t7"
      },
      "source": [
        "- A **set** is an **unordered collection of unique elements**\n",
        "\n",
        "- A **list** is **ordered and can contain duplicates**.\n",
        "\n",
        "- **Converting** a list to a set creates a new set with the same elements as the list, but with **duplicates removed**."
      ]
    },
    {
      "cell_type": "markdown",
      "metadata": {
        "id": "81sqmnZLs0iW"
      },
      "source": [
        "##### **Question : 1**"
      ]
    },
    {
      "cell_type": "code",
      "metadata": {
        "colab": {
          "base_uri": "https://localhost:8080/"
        },
        "id": "bB4IMampomZB",
        "outputId": "1271b53b-0eaa-4c33-8ea2-2fb332742049"
      },
      "source": [
        "# initializing list\n",
        "lis1 = [ 3, 4, 1, 4, 5 ]\n",
        "set(lis1)"
      ],
      "execution_count": null,
      "outputs": [
        {
          "output_type": "execute_result",
          "data": {
            "text/plain": [
              "{1, 3, 4, 5}"
            ]
          },
          "metadata": {
            "tags": []
          },
          "execution_count": 42
        }
      ]
    },
    {
      "cell_type": "markdown",
      "metadata": {
        "id": "xLeOLFSes_zn"
      },
      "source": [
        "##### **Question : 2**"
      ]
    },
    {
      "cell_type": "markdown",
      "metadata": {
        "id": "FPamDovQmnLC"
      },
      "source": [
        "![List_Set.jpeg](data:image/jpeg;base64,/9j/4AAQSkZJRgABAQEAYABgAAD/4TLARXhpZgAATU0AKgAAAAgABgALAAIAAAAmAAAIYgESAAMAAAABAAEAAAExAAIAAAAmAAAIiAEyAAIAAAAUAAAIrodpAAQAAAABAAAIwuocAAcAAAgMAAAAVgAAEUYc6gAAAAgAAAAAAAAAAAAAAAAAAAAAAAAAAAAAAAAAAAAAAAAAAAAAAAAAAAAAAAAAAAAAAAAAAAAAAAAAAAAAAAAAAAAAAAAAAAAAAAAAAAAAAAAAAAAAAAAAAAAAAAAAAAAAAAAAAAAAAAAAAAAAAAAAAAAAAAAAAAAAAAAAAAAAAAAAAAAAAAAAAAAAAAAAAAAAAAAAAAAAAAAAAAAAAAAAAAAAAAAAAAAAAAAAAAAAAAAAAAAAAAAAAAAAAAAAAAAAAAAAAAAAAAAAAAAAAAAAAAAAAAAAAAAAAAAAAAAAAAAAAAAAAAAAAAAAAAAAAAAAAAAAAAAAAAAAAAAAAAAAAAAAAAAAAAAAAAAAAAAAAAAAAAAAAAAAAAAAAAAAAAAAAAAAAAAAAAAAAAAAAAAAAAAAAAAAAAAAAAAAAAAAAAAAAAAAAAAAAAAAAAAAAAAAAAAAAAAAAAAAAAAAAAAAAAAAAAAAAAAAAAAAAAAAAAAAAAAAAAAAAAAAAAAAAAAAAAAAAAAAAAAAAAAAAAAAAAAAAAAAAAAAAAAAAAAAAAAAAAAAAAAAAAAAAAAAAAAAAAAAAAAAAAAAAAAAAAAAAAAAAAAAAAAAAAAAAAAAAAAAAAAAAAAAAAAAAAAAAAAAAAAAAAAAAAAAAAAAAAAAAAAAAAAAAAAAAAAAAAAAAAAAAAAAAAAAAAAAAAAAAAAAAAAAAAAAAAAAAAAAAAAAAAAAAAAAAAAAAAAAAAAAAAAAAAAAAAAAAAAAAAAAAAAAAAAAAAAAAAAAAAAAAAAAAAAAAAAAAAAAAAAAAAAAAAAAAAAAAAAAAAAAAAAAAAAAAAAAAAAAAAAAAAAAAAAAAAAAAAAAAAAAAAAAAAAAAAAAAAAAAAAAAAAAAAAAAAAAAAAAAAAAAAAAAAAAAAAAAAAAAAAAAAAAAAAAAAAAAAAAAAAAAAAAAAAAAAAAAAAAAAAAAAAAAAAAAAAAAAAAAAAAAAAAAAAAAAAAAAAAAAAAAAAAAAAAAAAAAAAAAAAAAAAAAAAAAAAAAAAAAAAAAAAAAAAAAAAAAAAAAAAAAAAAAAAAAAAAAAAAAAAAAAAAAAAAAAAAAAAAAAAAAAAAAAAAAAAAAAAAAAAAAAAAAAAAAAAAAAAAAAAAAAAAAAAAAAAAAAAAAAAAAAAAAAAAAAAAAAAAAAAAAAAAAAAAAAAAAAAAAAAAAAAAAAAAAAAAAAAAAAAAAAAAAAAAAAAAAAAAAAAAAAAAAAAAAAAAAAAAAAAAAAAAAAAAAAAAAAAAAAAAAAAAAAAAAAAAAAAAAAAAAAAAAAAAAAAAAAAAAAAAAAAAAAAAAAAAAAAAAAAAAAAAAAAAAAAAAAAAAAAAAAAAAAAAAAAAAAAAAAAAAAAAAAAAAAAAAAAAAAAAAAAAAAAAAAAAAAAAAAAAAAAAAAAAAAAAAAAAAAAAAAAAAAAAAAAAAAAAAAAAAAAAAAAAAAAAAAAAAAAAAAAAAAAAAAAAAAAAAAAAAAAAAAAAAAAAAAAAAAAAAAAAAAAAAAAAAAAAAAAAAAAAAAAAAAAAAAAAAAAAAAAAAAAAAAAAAAAAAAAAAAAAAAAAAAAAAAAAAAAAAAAAAAAAAAAAAAAAAAAAAAAAAAAAAAAAAAAAAAAAAAAAAAAAAAAAAAAAAAAAAAAAAAAAAAAAAAAAAAAAAAAAAAAAAAAAAAAAAAAAAAAAAAAAAAAAAAAAAAAAAAAAAAAAAAAAAAAAAAAAAAAAAAAAAAAAAAAAAAAAAAAAAAAAAAAAAAAAAAAAAAAAAAAAAAAAAAAAAAAAAAAAAAAAAAAAAAAAAAAAAAAAAAAAAAAAAAAAAAAAAAAAAAAAAAAAAAAAAAAAAAAAAAAAAAAAAAAAAAAAAAAAAAAAAAAAAAAAAAAAAAAAAAAAAAAAAAAAAAAAAAAAAAAAAAAAAAAAAAAAAAAAAAAAAAAAAAAAAAAAAAAAAAAAAAAAAAAAAAAAAAAAAAAAAAAAAAAAAAAAAAAAAAAAAAAAAAAAAAAAAAAAAAAAAAAAAAAAAAAAAAAAAAAAAAAAAAAAAAAAAAAAAAAAAAAAAAAAAAAAAAAAAAAAAAAAAAAAAAAAAAAAAAAAAAAAAAAAAAAAAAAAAAAAAAAAAAAAAAAAAAAAAAAAAAAAAAAAAAAAAAAAAAAAAAAAAAAAAAAAAAAAAAAAAAAAAAAAAAAAAAAAAAAAAAAAAAAAAAAAAAAAAAAAAAAAAAAAAAAAAAAAAAAAAAAAAAAAAAAAAAAAAAAAAAAAAAAAAAAAAAAAAAAAAAAAAAAAAAAAAAAAAAAAAAAAAAAAAAAAAAAAAAAAAAAAAAAAAAAAAAAAAAAAAAAAAAAAAAAAAAAAAAAAAAAAAAAAAAAAAAAAAAAAAAAAAAAAAAAAAAAAAAAAAAAAAAAAAAAAAAAAAAAAAAAAAAAAAAAAAAAAAAAAAAAAAAAAAAAAAAAAAAAAAAAAAAAAAAAAAAAAAAAAAAAAAAAAAAAAAAAAAAAAAAAAAAAAAAAAAAAAAAAAAAAAAAAAAAAAAAAAAAAAAAAAAAAAAAAAAAAAAAAAAAAAAAAAAAAAAAAAAAAAAAAAAAAAAAAAAAAAAAAAAAAAAAAAAAAAAAAAAAAAAAAAAAAAAAAAAAAAAAAAAAAAAAAAAAAAAAAAAAAAAAAAAAAAAAAAAAAAAAAAAAAAAAAAAAAAAAAAAAAAAAAAAAAAAAAAAAAAAAAAAAAAAAAAAFdpbmRvd3MgUGhvdG8gRWRpdG9yIDEwLjAuMTAwMTEuMTYzODQAV2luZG93cyBQaG90byBFZGl0b3IgMTAuMC4xMDAxMS4xNjM4NAAyMDIxOjA3OjA2IDEyOjI1OjI1AAAGkAMAAgAAABQAABEckAQAAgAAABQAABEwkpEAAgAAAAM1MQAAkpIAAgAAAAM1MQAAoAEAAwAAAAEAAQAA6hwABwAACAwAAAkQAAAAABzqAAAACAAAAAAAAAAAAAAAAAAAAAAAAAAAAAAAAAAAAAAAAAAAAAAAAAAAAAAAAAAAAAAAAAAAAAAAAAAAAAAAAAAAAAAAAAAAAAAAAAAAAAAAAAAAAAAAAAAAAAAAAAAAAAAAAAAAAAAAAAAAAAAAAAAAAAAAAAAAAAAAAAAAAAAAAAAAAAAAAAAAAAAAAAAAAAAAAAAAAAAAAAAAAAAAAAAAAAAAAAAAAAAAAAAAAAAAAAAAAAAAAAAAAAAAAAAAAAAAAAAAAAAAAAAAAAAAAAAAAAAAAAAAAAAAAAAAAAAAAAAAAAAAAAAAAAAAAAAAAAAAAAAAAAAAAAAAAAAAAAAAAAAAAAAAAAAAAAAAAAAAAAAAAAAAAAAAAAAAAAAAAAAAAAAAAAAAAAAAAAAAAAAAAAAAAAAAAAAAAAAAAAAAAAAAAAAAAAAAAAAAAAAAAAAAAAAAAAAAAAAAAAAAAAAAAAAAAAAAAAAAAAAAAAAAAAAAAAAAAAAAAAAAAAAAAAAAAAAAAAAAAAAAAAAAAAAAAAAAAAAAAAAAAAAAAAAAAAAAAAAAAAAAAAAAAAAAAAAAAAAAAAAAAAAAAAAAAAAAAAAAAAAAAAAAAAAAAAAAAAAAAAAAAAAAAAAAAAAAAAAAAAAAAAAAAAAAAAAAAAAAAAAAAAAAAAAAAAAAAAAAAAAAAAAAAAAAAAAAAAAAAAAAAAAAAAAAAAAAAAAAAAAAAAAAAAAAAAAAAAAAAAAAAAAAAAAAAAAAAAAAAAAAAAAAAAAAAAAAAAAAAAAAAAAAAAAAAAAAAAAAAAAAAAAAAAAAAAAAAAAAAAAAAAAAAAAAAAAAAAAAAAAAAAAAAAAAAAAAAAAAAAAAAAAAAAAAAAAAAAAAAAAAAAAAAAAAAAAAAAAAAAAAAAAAAAAAAAAAAAAAAAAAAAAAAAAAAAAAAAAAAAAAAAAAAAAAAAAAAAAAAAAAAAAAAAAAAAAAAAAAAAAAAAAAAAAAAAAAAAAAAAAAAAAAAAAAAAAAAAAAAAAAAAAAAAAAAAAAAAAAAAAAAAAAAAAAAAAAAAAAAAAAAAAAAAAAAAAAAAAAAAAAAAAAAAAAAAAAAAAAAAAAAAAAAAAAAAAAAAAAAAAAAAAAAAAAAAAAAAAAAAAAAAAAAAAAAAAAAAAAAAAAAAAAAAAAAAAAAAAAAAAAAAAAAAAAAAAAAAAAAAAAAAAAAAAAAAAAAAAAAAAAAAAAAAAAAAAAAAAAAAAAAAAAAAAAAAAAAAAAAAAAAAAAAAAAAAAAAAAAAAAAAAAAAAAAAAAAAAAAAAAAAAAAAAAAAAAAAAAAAAAAAAAAAAAAAAAAAAAAAAAAAAAAAAAAAAAAAAAAAAAAAAAAAAAAAAAAAAAAAAAAAAAAAAAAAAAAAAAAAAAAAAAAAAAAAAAAAAAAAAAAAAAAAAAAAAAAAAAAAAAAAAAAAAAAAAAAAAAAAAAAAAAAAAAAAAAAAAAAAAAAAAAAAAAAAAAAAAAAAAAAAAAAAAAAAAAAAAAAAAAAAAAAAAAAAAAAAAAAAAAAAAAAAAAAAAAAAAAAAAAAAAAAAAAAAAAAAAAAAAAAAAAAAAAAAAAAAAAAAAAAAAAAAAAAAAAAAAAAAAAAAAAAAAAAAAAAAAAAAAAAAAAAAAAAAAAAAAAAAAAAAAAAAAAAAAAAAAAAAAAAAAAAAAAAAAAAAAAAAAAAAAAAAAAAAAAAAAAAAAAAAAAAAAAAAAAAAAAAAAAAAAAAAAAAAAAAAAAAAAAAAAAAAAAAAAAAAAAAAAAAAAAAAAAAAAAAAAAAAAAAAAAAAAAAAAAAAAAAAAAAAAAAAAAAAAAAAAAAAAAAAAAAAAAAAAAAAAAAAAAAAAAAAAAAAAAAAAAAAAAAAAAAAAAAAAAAAAAAAAAAAAAAAAAAAAAAAAAAAAAAAAAAAAAAAAAAAAAAAAAAAAAAAAAAAAAAAAAAAAAAAAAAAAAAAAAAAAAAAAAAAAAAAAAAAAAAAAAAAAAAAAAAAAAAAAAAAAAAAAAAAAAAAAAAAAAAAAAAAAAAAAAAAAAAAAAAAAAAAAAAAAAAAAAAAAAAAAAAAAAAAAAAAAAAAAAAAAAAAAAAAAAAAAAAAAAAAAAAAAAAAAAAAAAAAAAAAAAAAAAAAAAAAAAAAAAAAAAAAAAAAAAAAAAAAAAAAAAAAAAAAAAAAAAAAAAAAAAAAAAAAAAAAAAAAAAAAAAAAAAAAAAAAAAAAAAAAAAAAAAAAAAAAAAAAAAAAAAAAAAAAAAAAAAAAAAAAAAAAAAAAAAAAAAAAAAAAAAAAAAAAAAAAAAAAAAAAAAAAAAAAAAAAAAAAAAAAAAAAAAAAAAAAAAAAAAAAAAAAAAAAAAAAAAAAAAAAAAAAAAAAAAAAAAAAAAAAAAAAAAAAAAAAAAAAAAAAAAAAAAAAAAAAAAAAAAAAAAAAAAAAAAAAAAAAAAAAAAAAAAAAAAAAAAAAAAAAAAAAAAAAAAAAAAAAAAAAAAAAAAAAAAAAAAAAAAAAAAAAAAAAAAAAAAAAAAAAAAAAAAAAAAAAAAAAAAAAAAAAAAAAAAAAAAAAAAAAAAAAAAAAAAAAAAAAAAAAAAAAAAAAAAAAAAAAAAAAAAAAAAAAAAAAAAAAAAAAAAAAAAAAAAAAAAAAAAAAAAAAAAAAAAAAAAAAAAAAAAAAAAAAAAAAAAAAAAAAAAAAAAAAAAAAAAAAAAAAAAAAAAAAAAAAAAAAAAAAAAAMjAyMTowNzowNiAxMTo1ODozNgAyMDIxOjA3OjA2IDExOjU4OjM2AAAAAAYBAwADAAAAAQAGAAABGgAFAAAAAQAAEZQBGwAFAAAAAQAAEZwBKAADAAAAAQACAAACAQAEAAAAAQAAEaQCAgAEAAAAAQAAIRQAAAAAAAAAYAAAAAEAAABgAAAAAf/Y/9sAQwAIBgYHBgUIBwcHCQkICgwUDQwLCwwZEhMPFB0aHx4dGhwcICQuJyAiLCMcHCg3KSwwMTQ0NB8nOT04MjwuMzQy/9sAQwEJCQkMCwwYDQ0YMiEcITIyMjIyMjIyMjIyMjIyMjIyMjIyMjIyMjIyMjIyMjIyMjIyMjIyMjIyMjIyMjIyMjIy/8AAEQgBAADNAwEhAAIRAQMRAf/EAB8AAAEFAQEBAQEBAAAAAAAAAAABAgMEBQYHCAkKC//EALUQAAIBAwMCBAMFBQQEAAABfQECAwAEEQUSITFBBhNRYQcicRQygZGhCCNCscEVUtHwJDNicoIJChYXGBkaJSYnKCkqNDU2Nzg5OkNERUZHSElKU1RVVldYWVpjZGVmZ2hpanN0dXZ3eHl6g4SFhoeIiYqSk5SVlpeYmZqio6Slpqeoqaqys7S1tre4ubrCw8TFxsfIycrS09TV1tfY2drh4uPk5ebn6Onq8fLz9PX29/j5+v/EAB8BAAMBAQEBAQEBAQEAAAAAAAABAgMEBQYHCAkKC//EALURAAIBAgQEAwQHBQQEAAECdwABAgMRBAUhMQYSQVEHYXETIjKBCBRCkaGxwQkjM1LwFWJy0QoWJDThJfEXGBkaJicoKSo1Njc4OTpDREVGR0hJSlNUVVZXWFlaY2RlZmdoaWpzdHV2d3h5eoKDhIWGh4iJipKTlJWWl5iZmqKjpKWmp6ipqrKztLW2t7i5usLDxMXGx8jJytLT1NXW19jZ2uLj5OXm5+jp6vLz9PX29/j5+v/aAAwDAQACEQMRAD8A9p1nVzYBYoE8y5k+6MZxnpx3PoKw5ZNW+1xwz6tFb3cvMdu1wAzfgEIH/j31NVBOTtFXNouMFqrtl/Tdau4L8adq6bZGIEcoAGT2Bxwc9iMZ6YBro6RNRJO8dmFFIzCigAooAKKACigAooAKKACigAooAKKACigDk7sz/wDCTq6DlQxJ6kL8gJAPUgEfg5ridd0jW4/E8KtdiaaZ98E4dtqfNgDpwRXoZVVpQlL2i3T/AOCaRl77v5HTarFfQ2llFdTiZokIacd3Ebt8p6kZRW57qPw3/EuqzaVpdrNHPFbGW5iheWVdyxqx5OMiuGTTk2tib3h83+hyV94p8ST6XcRQqkU32KS7S4SE8omVGBngsQCPY1KNf1nT5rp47iO5tp7lwsjQkiJQI8ycHlcMTj2qSSeLxRrkk5ZDBNbwuFDrAQLpTKUDKc8cfXp6Uz/hLdUNrFIb2zXzFDSt9mf/AEaTax8lucE5AHXPtyKAAeI/EkqGdTBCpeZfJa2JK+XGH67u5JFB8SeInVbhHt1jdLqQRG2JKiF1AGc/xbv0oAd/wl+qXMkdrbmFLklVlBiLeUWuI4xkZ/uMT+GarDXdduNTsf8ASltgblYZm8o7H+SbHBPGWRR9WFAHS+GvEEupWbTai0NtI0nlRxE7SSvysRnqN2cV0dABRQAUUAFFABRQAUUAFFAGNq+mPPIl3bhTNGcgMMg+uR3BHX6A9qp/bbdU2zaI+8dQjxbSfbc4P5gVjzKDakU4c+qQ210yTUb1Lie3S3tozlY1HXnP49sn8BnJNdFPbQ3IjE0av5biRM9mHQ1pF31HJKKUV0GpZ28d3JdLEBPIoVn7kDoKnqiAxRgelABRQAYprosiMjDKsMGgCrFpVhDHFGlnBthGI8oCV5zwTz1q5QAUUAFFABRQAUUAFFABRQBl/wBtQ/8APN6Q6zb9fKb9Kv2TZn7VC/23B/zzek/tyD/nm9Hs2L2qD+3YP+eb/pSf29B/zzf9KPZsPaoT+37f/nnJ+lH9v2//ADzk/Sj2bH7VB/b9v/zzk/Sj+37f/nm/6UezYvaoP7fg/wCecn6Uf2/B/wA85P0o9mw9qg/t+D/nnJ+lH9vwf885P0o9mw9qg/t+D/nnJ+lH9vwf885P0o9mw9qg/t+D/nnJ+lH9vwf885P0o9mw9qg/t+D/AJ5yfpR/b8H/ADzk/Sj2bD2qD+34P+ecn6Uf2/B/zzk/Sj2bD2qD+37f/nnJ+lL/AG9B/wA83/Sj2bH7VC/27Af+Wb/pR/bsH/PN6PZsXtUYhpK2MBvakJpgMJppagBu6k30AJu96N1ACb/c0b/rQIN/uaN/vQAbz60bz60AG/3o3+5oAXd7mjcaBhuPrShqAFDetLvoAcDS5NAE1IaAIyaaTQBwWs/FDT9M1OaySzmuDCxR3VgBuHUVnn4vWeP+QVP/AN/FpFKDYn/C3bT/AKBc/wD38FIfi5af9Auf/v4KA5GJ/wALbtP+gXP/AN/BR/wtu0/6Bc//AH8FAcjD/hbVp/0C5/8Av4KT/hbVp/0C5/8Av4KWocjD/hbVp/0C5/8Av4KP+FtWn/QLn/7+CmHIw/4W1af9Auf/AL+Cj/hbVp/0C5/+/gphyMP+FtWn/QLn/wC/go/4W1af9Auf/v4KWocjD/hbVp/0C5/+/go/4W3af9Auf/v4KLsORi/8LbtP+gXP/wB/BR/wtu0/6Bc//fwUByMX/hbtp/0C5/8Av4KcPi7Z/wDQKn/7+CmHIxf+Fv2YP/IKn/7+Cu28Pa/a+I9KW/tQyqWKOjdVYdR+opXE42NymMaYiMnFR7sEUAfN/iD/AJGbVP8Ar7l/9DNR2Gk3+qFxZWzS7PvEcAVnKahG7OqlSlVkoxWpXuLea0naC4jaOVDhlYcitVfCWvPpf9pLpsxtNu/f32+uOuKyq4ulSSc3a+wezlzONtjJhhkuJlhhQvIxwFXqas32k3+mBGu7do1foTyKqVeEZKD3ZyyxFOFRUm/eZTorc2CigAooAKKACigAooAKKACvZPhQceFbj/r8f/0BKTJlsejE1GxpmZEzVEX5oA+c/EH/ACMuqH/p7l/9DNdP4M8QadYadLZ3kogfzC4cjhgQK5MVByp2R62WVo0q6lLaxh+KtVt9V1z7RajMUaLGGIxvwTz+v6V6zH8RfDh0IXBuQJRFg2pX5t2Pu+leFnGX1sRCkqfR6lPEQ9tUl0Z5H4f1OCw8QC7nXETbgcD7ua6Dxd4g0+80n7JayrNI7q2QOFAr0K2GqPEwktkfIYvB1amY060fhX6HD0V7B7oUUAFFABRQAUUAFFABRQAV7B8Kjjwtcf8AX43/AKAlImWx6QxqNzxTMyFzioGbkUxM+d9e/wCRj1P/AK+pf/QzVCpNwoxTAKKACigAooAKKACigAooAKKACigAr1z4WnHhi4/6+2/9ASkTPY9LY81ExpmZA5qs7cimSz5813/kYdS/6+pf/QzVCpR0BRTAKKACigBMjNGRU8yAMijIpcyAMilqk0wCimAUUAFFABXrPwxOPDU//X23/oCUupM9j009aibqaZmVpD1qs5+amQz5+1v/AJGDUv8Ar6k/9CNUalHSFFMAq3HYebYvdfbLNNuf3TzASHHotJuwIe+lFFgb+0NPbzWC4W4B2Z7t6CoLq2+yTeX9ot5+M74H3L+dSmB3WinQ7PwRaXOrLa7JmuVZGty00pA+QIwHy4JHU1U1LUdP07QLHV7PTLf7dqI/erNEGjj8v5TtH+0ea8i1RyfZs00sber2+l3N74msrqG1sLWyt7dop4LQFkLBCeBgnJNaWraJptvqklpBptu1rdSzrcSeX/qQkKlcH+Hnn8a5+eony9P+Ah2RQ8Y6FpMHh/U72xt4kkhjtYJFUco+FbcP95XH5V5nZ2n2yUx/abaDC53XEmwH2z616GXVJSpvn3RMlroSrpu+KZ/t9ivlkjaZwC+O6+opk9gbe0juPtlnLvIHlxTBnXI7jtXepElWirEFFABXq3wzJ/4Ruf8A6+2/9BSgipseoGoX70EFaQ1UkPNMhngOt/8AIf1H/r5k/wDQjVGpR09AopgFGKADFGMUrASNNK8EcDSMYoySiE8KT1xSPNLLDHC8jNHHnYpPC564qPZoCWS/u5mnaW5lc3AAlyx+cDoD64wKmOtaoUuEOoXO24/1w8w/Pxjn8Kj2EOw7sil1G9mSZJLqZ1m2+YC5IfaMLn6CquK0jCMdEK4YpcVVgCimAUUAFeq/DQ/8U5P/ANfTf+grQRP4T1A81E/FBmVZKpynBoJZ4Frf/If1H/r5k/8AQjVKkjp6BRTAKKACigAooAKKACigAooAKKACigAr1P4bH/inJ/8Ar6b/ANBSkRPY9SNQvTI6FaSqUp+aghnget/8h/Uf+vmT/wBCNUqSOlbFtNNupLM3aR5gUHc+RgY7H35qK1tbi9uFt7WF5Zm+6iDJNG25EJqTaXQkvtOvdMlWK+tpbeRl3Ksi4JHrU6WMB8NXGou0nnLdpbooxtwVLEn/AL5pN6FiahYQ2tjYXUM7SLdIxIZNu0q2CKNG09NUvhalbp5HHyJbReYx9SR6Ci+g7FW8txaX1xbCVZfKkZBInRsHGRWvq3h0aXpUF750jCTZgsmFk3Luyh7gdD70XEQaFoj6y1y+ZPKt1UsIlBYljgAZwPzrNuYzb3MsLK6tG5QrIu1hg4wR2PtRcDa1bw4NM0qK986Rg/l7WZMJLvTd+7P8WOhqno+mRaiLqSeZ44bdVLeWm5juYKMD0yaLgWf7EjhfXLa4aT7Tp0fmKV4Vv3iIQR1/jz+FYlCYBRVAFFABXqXw258Oz/8AX03/AKCtIiex6magbrTIK0nQ1Sk6imZs8F1r/kP6j/18yf8AoRqjUo6ehow6sYdLfTxboYZMlyTyW7H8Kp2tzLZzrPDs8xem+NXH5MCKbdzOnS5G331JL2/uNQlWS4MRZRgeXCkYx9FAqxHfwDw1cac4k85rpLhGA+XAUqQfzqWtDUdd6pBdabY2YshF9lJ/e+YWLAnJyMetPkv9LXVrieLTSbYsphjEpTZj8zyaVmAy41G3vYdSnubdTfXU6yIyggRjJLd+9Talr7alZvB9lWJ5WjaaQOTuKLtGB/DxRYB8us2UWo6gtrYD+zLoIDb7yv3ccg8kZOTj3qC61ODUP7Wury3Vr69l8yNlBAjJYlsc9O1FtAJtR8RHUbWSI2qRPcGIzyByQ3lrtGF/h4pE1m2sdemvdPt5YbcoFSOKdouwzyMnBIPHvRYBseso663PdCRrvUYhGNv3R+8RyT3/AIMfjWPTSswCiqAKKACvUvhr/wAi7P8A9fTf+grSInseqHpUDdTTIKsn3TVKTtTM2eCa1/yH9R/6+ZP/AEI1SqUdXQKKYBRQAUUAFFABRQAUUAFFABRQAUUAFepfDX/kXZ/+vpv/AEFaRFT4T1Q9KgbqaZBVk+6aoy9qZmzwXWv+Q/qP/XzJ/wChGqVSjqWwUUX0AKM0XAFBZgqglicAVYjsrmW6e1SJvOjDl1PG0KCWz9ADScrAKlhPJpsuoLsFvFII2y2CWPYDvRc6fdWcEE1xCUjuF3RMSMMKFICO2tpry6jtraJpZpG2oijkmmSI0UjRupVlJVgexFO4Fy50e/tLP7XNb7YMhd4dSMnoODUVlp91qMrR2sRkZV3NyAAM45J96VwIJY3hleKVSsiHaynqDVyfR7+2sRey2+LYsFEgdSMkEgcH0B/KncCrBBLdXEcECF5ZGCoo6kmrA0u6KXxKqrWPM6MwDL8wXp35IH40nICBreVbaO5KHyZGKq3YkdRUVNO4BXqfw1/5F2f/AK+m/wDQVoM6nwnqZ6VA3U0ySrJ901Rl7UzNngutf8h/Uf8Ar5k/9CNUqlHV0N+2lhj8MSTyxD7QjNDA2PvBuv5YP51l6XdQWeoRz3MHnRLnMe1Dn/vtWH6U5anNh07yv3LGuahaajdRy2dp9mRU2ldsa5Oev7tFH5itPTtRtF8J3Flc3CxH52RIWYPKxxgONpDLx1yCOazadjpL2s+ILNra0bT3gRYriKSIJv8ANhUKQwAI2gHvgnOAaim1KK813Xm+3rP9us5RbSnI2fMr7DkDBKqV/GpswMiA7vBl2gZdy3qOVJ5xtIzj607UHtW8NaZBFexy3ELyF4lVsjcQRyRjjFNB1L2nzad4X8SzQTySXSo8QW6hIQoPlZuCD9D9DWZdW1tenVtQguGjjjmzFHIMmTcx78YPfpTbYDLm4gGh6fp9sxZy7z3JA/jJ2qvvhRn6sa0bNbbR9ZvdPkurW4s5I0EkkwdQ2Cr8beQQf5GizAr6kLfWbrW9WSYQpHIrRRFD+83NjA9CBz+BqtdXMA0Wx063bJLtPcEDHzn5QPwUf+PGn0BF+yksPDutTRzNJc5jRUuIWCNFuwW4IPOMr9Camkmt7m68W3tu/wDo08Z8ouwyxa4ibp9ATS6AZvmxp4SSBmBlkvDIq55VQuD+Z/lWVVRAK9T+Gv8AyLs//X03/oK0zOp8J6melQN1NMkqyfdNUZe1MzZ4LrX/ACH9R/6+ZP8A0I1SqUdS2FycAZOB0FJQJKwUUxhRSATHOaWiwBRQAUUwCikAUYpgFFIAr1L4af8AIuT/APX03/oK0GdT4T1Q9KgbqaZJVk+6aoy9qZmzwXWv+Q/qP/XzJ/6EapVKOroFFMAooAKM0r62AKKACilzAFFUAZooAKKTYBRQmAV6n8Nf+Rdn/wCvpv8A0FaDOp8J6melQN1NMkqyfdNUZe1MzZ4LrX/If1H/AK+ZP/QjVKpR1dDqbPw/aT+HIrt4rjzZYZ5DOG/dxmPGARjvn1qpqdrpem3llbR28zyGK2nllaUYPmRK5AGOMbqzuwL0mkWa67rP2+Gdo4bhRCqsE3B5dmenTBzxTLjT7C28NamqWUk1xbaiIfPD8qu18EjHTj86LsDB0uGK41azhmOIpJlVz7E1u6QzS+MtQtmiQJNFeIYdgPKwybABjqCBjHenIAs9A03/AIRxby8mlW5ljmYBEkby2QHaCFQjkjnJGAc1PL4f0n7TbQgzRhbm0inkeQEFZUVmPTjGTSuMox2Cav4m1GG4T7IBK+SoCrDhsbSD+VRWNtG0euwSRFEigLqJPvRsrjAz68kVTXupnPGo3VcOiMeBIpZlSacQRnrIVLBfwHNafiTTrHS9YltrC8FxGp5G1gU6cEkc/hT6m5NYCS48IatEsYkME0DphAWUHeGOeuPu/pWy/hfR0l0+3NzMZpZrdXZUfDrJ97kptXHbDHODUN6gQW2l6fFdpeWsbYOm3NxHDKwf94gcDtzjG78Kx9M0u2vNOlvJJGVbbcZwD1GPkx9W4qoK7MMRUcIXQ1o45PCCTMgWWO9MaNjllK5I/Cna9HGo0uZVVJJ7COSVVGPmyVz+IUH8aS3NzIr1P4a/8i7P/wBfTf8AoK1ZnU+E9TPSoG6mmSVZPumqMvamZs8F1r/kP6j/ANfMn/oRqlUo6uhbk1K7k0+KwMzi2i3YRSQDk5OfWqrMznLMWIAGSc8DgUJAPa4nfG+aRsAKMsTgDkChbiZPM2zSDzPv4Y/N9fWiwDASpBU4IOQR2qSS5nmu2unlbz2bcZBwc+vFFgFF5dBJEFzMFl/1gDnD/X1qNpJGzmRznGcsecdKLASXF3cXU8s88rPLM26Rv7x9TQLu4WKaMSttnx5gz97ByM0WFZXuQ9qKBj45ZISxikdCw2ttYjI9Kf8Aa7nyo4vtE3lxncibzhT6gdqLAEF3cW06TQyssiAhTnOAQQR9Dk/nSpeSx2Mlom1Y5GDOQOWx0GfSjYicFNWYxriZ7aO3Zz5MZLKnYE9TS3FxLdSiSZy7BQoJ7ADAH4AUWLIq9T+Gv/Iuz/8AX03/AKCtBnU+E9TPSoG6mmSVZPumqMvamZs8F1r/AJD+o/8AXzJ/6EapVKOroFFFwCimAUUrgFFFwCimAUUgCimAUUAFFABXqXw0/wCRcn/6+m/9BWkZ1PhPVD0qBuppklWT7pqjL2pmbPBda/5D+o/9fMn/AKEapVPQ6uh0Fr4aa5tbe8Vz9leEvK3dWBcYH/fP61FqHh17e78u3mjeIyiIckspIyMgD61Xs3a550cavacvb8wXw3NHdy293cRwMluZ1LZwwGfbPasbYTMIwQcttB7VLTR00sQql2loX20W8jMhmQRRxuql3OAcnAx69D+VTQaZbtrN3YSh/wB3FKyFW6FELc+o4p8vch4lSTcOxVS1gfQ5boBhPHOqHnggg/4UaTZJqGrWto7FVlfaSO1CXQv2jUJt9C3F4bvZ5B5LRSRFN4lQkqRnHYZ6+1Zl1bS2V3LbTrtliYq49CKHFxFSxEaj5Vua6aDF5+mKbyNxeLuKoTleWHHHTio18N3ktz5ULRyRmPzRKpJXbu2+mc5GKfIzFY1J+8rf8OzNu7WWyu5LadcSxttYVf8A+EfvSItrRMzuiMgbmMv93d9cUkm2dE8RGKTfUWw0N7qdEmnjgV4pJFLHrtB/w/KmQaHcXMLSxSwMNzKg38yFRk7ePSnysyeLipPTQjOkXCKWkaNEHl7mZuBvGRSavp40vUZbUXCTbGIyvUfWlytas0hiFOaikUa9S+Gn/IuT/wDX03/oK0jSp8J6oelQN1NMkqyfdNUZe1MzZ4LrX/If1H/r5k/9CNUqk6uhqQeIL63077DGU8nY6cjnDf5/WnL4hvEuJJgsRMkokYbTgkKVx16YJquZnH9Sp3bXUbJrs8l3HN9ntwscBtxFg7ShJODznue9ZjNlywAXnIA7Um77mtKgqasmad/4gvtQtBbTmPy1dZBtXByq4H9T9TUZ1ib+01vxDCJdhRxg4kBUqc89we2KfM2zOOFhFcq8/wASKPUGjt7m38iExTkNtO75CM4K89s981HY3klhew3cQUyRNuUMMg/Wpua+yXK1fc0B4huFAjW3gFts2eQNwXrnOc5zn3rLmk86Z5SoXec4GcD255pt3Jo4dU3dPcuR6vNGlmBDCZLTIjkIOdpJODzjqTUsOv3UMaxGOJ4hEYijZAYFy/Y5zk01JkSwcZLVmdNL50zy7Qu452qTgfnzWmfEd2Fj2xQI6ujvIFOZCn3c8/yxSTsXUw6qJXewx9ema7guEgt4xCjRrGoO0q2dwPOecmpoNeFtpyxW9rEJxI7K5BIj3DHy8/zzTUzKWDVkkyvc6zPdWAtHhhAwgaRQdzbAQuecd6gv719QujcyRRpK33ygI3H1OT/Kk3c1p4dU3dMq16l8Nf8AkXJ/+vpv/QVpGlT4T1Q9KgbqaZJVk6GqUnamZs8E1r/kP6j/ANfMn/oRqlUo6ugUUwCgDJA9TSYnsdLe6Vp9lBHP5MuEuI4wWl4uFZSSw44wQPzrP8RzpPrc4jUqkZ2AFsjA9PQVTslY4cPKdSalLz/QktY7Z/DNywszLcRzDMivyo2nnp0FW9bg08oblIWEkPkLIBJxIDGDwMcUJKxLlUVXfq/0HtpVvN4mvIriOeSJvnhbPDZxgkqOnuBXO3UXkXc8PH7uRl4bI4Pr3pNWNqFSUpW8kbr6PZi8s7YQTCKQIWu/M+WTK5IAxgc8VZTQ7ETLL9mn8zyRJ9jMvzA+ZtznHTHOMVSirnLPE1LaP+v+AT3Wj6bMby6lMpczyLiLJ8rAGOAD+uK5CJ3imjkjxvVgVyoIz9D1pVElsdGCqznH3jr5L2eXxdZW0YeOVIVinmFuhlkH32IXGAccD2FctqN0l9qVzdpCkCzSFxEgwFz2rJbnaVqK0AK9S+Gv/Iuz/wDX03/oK0jOp8J6magemR0K8nSqUo+aglngetf8h/Uf+vmT/wBCNUqSOnoFFMAooAUu7ABnYgdAT0pOTyTk0rCSS2FDMoIViAeuD1pMserE/WiwcqHCWUHIlcYGOD2ptGoKKWw7fJtC+Y20dBnpR5su/f5j78Y3Z5osLkj2ASyDcBI4DdeetNoBRS2F3vv3723/AN7PNJTKCigAr1L4a/8AIuz/APX03/oK0jOp8J6metQydaZJWk71Sl+8PrQQzwPWv+Q/qP8A18yf+hGqVJHT0CimAVoWmh6rfw+daafczRE4DpGSKTAn/wCEW17/AKBF5/36NH/CLa9/0CLz/v0aLoA/4RbXv+gRef8Afo0f8Itr3/QIvP8Av0aLoA/4RbXv+gRef9+jR/wi2vf9Ai8/79Gi6AP+EW17/oEXn/fo0f8ACLa9/wBAi8/79Gi4B/wi2vf9Ai8/79GoLrQtWsYDPdadcwxDq7xkAUXQGfRTAKKACvU/ht/yLk//AF9N/wCgrQRPY9Sbk1E3SgjoVZOlU5Bk/jTIZ4Frf/If1H/r5k/9CNUqlHT0CimAV774FiR/DGmqy5UQbsdM1EtgOrayhU52LwpOC+B2759z3qHybUNGyrvWSTYBuPGOp/lWYDorOKYocBQxAwG5GXA/lToLKCdVbaVJwdoJ6ZOaAIjDAqP+6JMcatnJw2QDz+dTmwtgXG47kZ12564bA/Si4CSWNsqAod2XI69BlcD64NH2CAorgHGMMM98/wCH8qLgQrFbuQpQJiISZDHn1Fc14qwfC2q8cfZpDj8DTQHgdFbAFFABXqnw2/5Fyf8A6+m/9BWjqRPY9SbrUL96COhXkHFVHHzUyGeAa3/yMGo/9fMn/oRqjUo6QopgFep+FfH2kaZoVpbXMksNxAmwgRlgffipkrgbb/E3QXJLXkvK7T+5bpTB8SfD67MXcvyNuX9y3B/Kp5WA5fiZoK423kox0/ct659PWnf8LQ0IOGF5KCOmIG/w96OVgH/C0NCwB9skwBjHkNz9eKb/AMLN0HduN5Lu558lu5ye3rRysBU+J2gp928l6k/6hupx7ewoHxP0Jel7Nzj/AJYt7+3uaOVgM/4WV4fzn7XL93Z/qG6flWV4k8f6NfaDd2tq8kk00RiUCIqBkYySaFFgeU0VoAUUAFerfDPnw3cf9fbf+gJQRPY9RYc1C460EFdxVZx8wpkM+fdc/wCRh1L/AK+pP/QjVGpR09AopgFFABRQAUUAFFABRQAUUAFFABRQAV6x8Mv+Ran/AOvtv/QUpET2PUGFROKZBA9V5BzQSzzDW/h1dXWrXN1a3UflzSGTa45BJyazG+G+pL/y8wfkaRoqiSGH4eakP+XiE/nTD4A1Ef8ALeH9aSF7ZXGnwJqA/wCW0VN/4Qa/z/r4v1p2D267DT4Ivgf9dF+tH/CE33/PaL9aaQvrC7B/whV9/wA9ovyNH/CFX3/PaL8jTsHt12D/AIQq+/57RfkaP+EKvv8AntF+RosHt12D/hCr7/ntF+Ro/wCEJvv+e0VKwe3XYP8AhCb7vPFSjwRfn/ltF+tAe3iOHgW/P/LaL9aUeAtQ/wCe8X60h+2XYePh/qJ/5bw/rUg+HWpH/l5g/WkHtUPX4aam3/L1APwNegeFtA/4R/RhaGTzZGcyOwGBk4HH4AU0hSnzI//Z/+Ex6Gh0dHA6Ly9ucy5hZG9iZS5jb20veGFwLzEuMC8APD94cGFja2V0IGJlZ2luPSfvu78nIGlkPSdXNU0wTXBDZWhpSHpyZVN6TlRjemtjOWQnPz4NCjx4OnhtcG1ldGEgeG1sbnM6eD0iYWRvYmU6bnM6bWV0YS8iPjxyZGY6UkRGIHhtbG5zOnJkZj0iaHR0cDovL3d3dy53My5vcmcvMTk5OS8wMi8yMi1yZGYtc3ludGF4LW5zIyI+PHJkZjpEZXNjcmlwdGlvbiByZGY6YWJvdXQ9InV1aWQ6ZmFmNWJkZDUtYmEzZC0xMWRhLWFkMzEtZDMzZDc1MTgyZjFiIiB4bWxuczp4bXA9Imh0dHA6Ly9ucy5hZG9iZS5jb20veGFwLzEuMC8iPjx4bXA6Q3JlYXRvclRvb2w+V2luZG93cyBQaG90byBFZGl0b3IgMTAuMC4xMDAxMS4xNjM4NDwveG1wOkNyZWF0b3JUb29sPjx4bXA6Q3JlYXRlRGF0ZT4yMDIxLTA3LTA2VDExOjU4OjM2LjUwOTwveG1wOkNyZWF0ZURhdGU+PC9yZGY6RGVzY3JpcHRpb24+PC9yZGY6UkRGPjwveDp4bXBtZXRhPg0KICAgICAgICAgICAgICAgICAgICAgICAgICAgICAgICAgICAgICAgICAgICAgICAgICAgICAgICAgICAgICAgICAgICAgICAgICAgICAgICAgICAgICAgICAgICAgICAgICAgIAogICAgICAgICAgICAgICAgICAgICAgICAgICAgICAgICAgICAgICAgICAgICAgICAgICAgICAgICAgICAgICAgICAgICAgICAgICAgICAgICAgICAgICAgICAgICAgICAgICAgCiAgICAgICAgICAgICAgICAgICAgICAgICAgICAgICAgICAgICAgICAgICAgICAgICAgICAgICAgICAgICAgICAgICAgICAgICAgICAgICAgICAgICAgICAgICAgICAgICAgICAKICAgICAgICAgICAgICAgICAgICAgICAgICAgICAgICAgICAgICAgICAgICAgICAgICAgICAgICAgICAgICAgICAgICAgICAgICAgICAgICAgICAgICAgICAgICAgICAgICAgIAogICAgICAgICAgICAgICAgICAgICAgICAgICAgICAgICAgICAgICAgICAgICAgICAgICAgICAgICAgICAgICAgICAgICAgICAgICAgICAgICAgICAgICAgICAgICAgICAgICAgCiAgICAgICAgICAgICAgICAgICAgICAgICAgICAgICAgICAgICAgICAgICAgICAgICAgICAgICAgICAgICAgICAgICAgICAgICAgICAgICAgICAgICAgICAgICAgICAgICAgICAKICAgICAgICAgICAgICAgICAgICAgICAgICAgICAgICAgICAgICAgICAgICAgICAgICAgICAgICAgICAgICAgICAgICAgICAgICAgICAgICAgICAgICAgICAgICAgICAgICAgIAogICAgICAgICAgICAgICAgICAgICAgICAgICAgICAgICAgICAgICAgICAgICAgICAgICAgICAgICAgICAgICAgICAgICAgICAgICAgICAgICAgICAgICAgICAgICAgICAgICAgCiAgICAgICAgICAgICAgICAgICAgICAgICAgICAgICAgICAgICAgICAgICAgICAgICAgICAgICAgICAgICAgICAgICAgICAgICAgICAgICAgICAgICAgICAgICAgICAgICAgICAKICAgICAgICAgICAgICAgICAgICAgICAgICAgICAgICAgICAgICAgICAgICAgICAgICAgICAgICAgICAgICAgICAgICAgICAgICAgICAgICAgICAgICAgICAgICAgICAgICAgIAogICAgICAgICAgICAgICAgICAgICAgICAgICAgICAgICAgICAgICAgICAgICAgICAgICAgICAgICAgICAgICAgICAgICAgICAgICAgICAgICAgICAgICAgICAgICAgICAgICAgCiAgICAgICAgICAgICAgICAgICAgICAgICAgICAgICAgICAgICAgICAgICAgICAgICAgICAgICAgICAgICAgICAgICAgICAgICAgICAgICAgICAgICAgICAgICAgICAgICAgICAKICAgICAgICAgICAgICAgICAgICAgICAgICAgICAgICAgICAgICAgICAgICAgICAgICAgICAgICAgICAgICAgICAgICAgICAgICAgICAgICAgICAgICAgICAgICAgICAgICAgIAogICAgICAgICAgICAgICAgICAgICAgICAgICAgICAgICAgICAgICAgICAgICAgICAgICAgICAgICAgICAgICAgICAgICAgICAgICAgICAgICAgICAgICAgICAgICAgICAgICAgCiAgICAgICAgICAgICAgICAgICAgICAgICAgICAgICAgICAgICAgICAgICAgICAgICAgICAgICAgICAgICAgICAgICAgICAgICAgICAgICAgICAgICAgICAgICAgICAgICAgICAKICAgICAgICAgICAgICAgICAgICAgICAgICAgICAgICAgICAgICAgICAgICAgICAgICAgICAgICAgICAgICAgICAgICAgICAgICAgICAgICAgICAgICAgICAgICAgICAgICAgIAogICAgICAgICAgICAgICAgICAgICAgICAgICAgICAgICAgICAgICAgICAgICAgICAgICAgICAgICAgICAgICAgICAgICAgICAgICAgICAgICAgICAgICAgICAgICAgICAgICAgCiAgICAgICAgICAgICAgICAgICAgICAgICAgICAgICAgICAgICAgICAgICAgICAgICAgICAgICAgICAgICAgICAgICAgICAgICAgICAgICAgICAgICAgICAgICAgICAgICAgICAKICAgICAgICAgICAgICAgICAgICAgICAgICAgICAgICAgICAgICAgICAgICAgICAgICAgICAgICAgICAgICAgICAgICAgICAgICAgICAgICAgICAgICAgICAgICAgICAgICAgIAogICAgICAgICAgICAgICAgICAgICAgICAgICAgICAgICAgICAgICAgICAgICAgICAgICAgICAgICAgICAgICAgICAgICAgICAgICAgICAgICAgICAgICAgICAgICAgICAgICAgCiAgICAgICAgICAgICAgICAgICAgICAgICAgICAgICAgICAgICAgICAgICAgICAgICAgICAgICAgICAgICAgICAgICAgICAgICAgICAgICAgICAgICAgICAgICAgICAgICAgICAKICAgICAgICAgICAgICAgICAgICAgICAgICAgICAgICAgICAgICAgICAgICAgICAgICAgICAgICAgICAgICAgICAgICAgICAgICAgICAgICAgICAgICAgICAgICAgICAgICAgIAogICAgICAgICAgICAgICAgICAgICAgICAgICAgICAgICAgICAgICAgICAgICAgICAgICAgICAgICAgICAgICAgICAgICAgICAgICAgICAgICAgICAgICAgICAgICAgICAgICAgCiAgICAgICAgICAgICAgICAgICAgICAgICAgICAgICAgICAgICAgICAgICAgICAgICAgICAgICAgICAgICAgICAgICAgICAgICAgICAgICAgICAgICAgICAgICAgICAgICAgICAKICAgICAgICAgICAgICAgICAgICAgICAgICAgICAgICAgICAgICAgICAgICAgICAgICAgICAgICAgICAgICAgICAgICAgICAgICAgICAgICAgICAgICAgICAgICAgICAgICAgIAogICAgICAgICAgICAgICAgICAgICAgICAgICAgICAgICAgICAgICAgICAgICAgICAgICAgICAgICAgICAgICAgICAgICAgICAgICAgICAgICAgICAgICAgICAgICAgICAgICAgCiAgICAgICAgICAgICAgICAgICAgICAgICAgICAgICAgICAgICAgICAgICAgICAgICAgICAgICAgICAgICAgICAgICAgICAgICAgICAgICAgICAgICAgICAgICAgICAgICAgICAKICAgICAgICAgICAgICAgICAgICAgICAgICAgICAgICAgICAgICAgICAgICAgICAgICAgICAgICAgICAgICAgICAgICAgICAgICAgICAgICAgICAgICAgICAgICAgICAgICAgIAogICAgICAgICAgICAgICAgICAgICAgICAgICAgICAgICAgICAgICAgICAgICAgICAgICAgICAgICAgICAgICAgICAgICAgICAgICAgICAgICAgICAgICAgICAgICAgICAgICAgCiAgICAgICAgICAgICAgICAgICAgICAgICAgICAgICAgICAgICAgICAgICAgICAgICAgICAgICAgICAgICAgICAgICAgICAgICAgICAgICAgICAgICAgICAgICAgICAgICAgICAKICAgICAgICAgICAgICAgICAgICAgICAgICAgICAgICAgICAgICAgICAgICAgICAgICAgICAgICAgICAgICAgICAgICAgICAgICAgICAgICAgICAgICAgICAgICAgICAgICAgIAogICAgICAgICAgICAgICAgICAgICAgICAgICAgICAgICAgICAgICAgICAgICAgICAgICAgICAgICAgICAgICAgICAgICAgICAgICAgICAgICAgICAgICAgICAgICAgICAgICAgCiAgICAgICAgICAgICAgICAgICAgICAgICAgICAgICAgICAgICAgICAgICAgICAgICAgICAgICAgICAgICAgICAgICAgICAgICAgICAgICAgICAgICAgICAgICAgICAgICAgICAKICAgICAgICAgICAgICAgICAgICAgICAgICAgICAgICAgICAgICAgICAgICAgICAgICAgICAgICAgICAgICAgICAgICAgICAgICAgICAgICAgICAgICAgICAgICAgICAgICAgIAogICAgICAgICAgICAgICAgICAgICAgICAgICAgICAgICAgICAgICAgICAgICAgICAgICAgICAgICAgICAgICAgICAgICAgICAgICAgICAgICAgICAgICAgICAgICAgICAgICAgCiAgICAgICAgICAgICAgICAgICAgICAgICAgICAgICAgICAgICAgICAgICAgICAgICAgICAgICAgICAgICAgICAgICAgICAgICAgICAgICAgICAgICAgICAgICAgICAgICAgICAKICAgICAgICAgICAgICAgICAgICAgICAgICAgICAgICAgICAgICAgICAgICAgICAgICAgICAgICAgICAgICAgICAgICAgICAgICAgICAgICAgICAgICAgICAgICAgICAgICAgIAogICAgICAgICAgICAgICAgICAgICAgICAgICAgICAgICAgICAgICAgICAgICAgICAgICAgICAgICAgICAgICAgICAgICAgICAgICAgICAgICAgICAgICAgICAgICAgICAgICAgCiAgICAgICAgICAgICAgICAgICAgICAgICAgICAgICAgICAgICAgICAgICAgICAgICAgICAgICAgICAgICAgICAgICAgICAgICAgICAgICAgICAgICAgICAgICAgICAgICAgICAKICAgICAgICAgICAgICAgICAgICAgICAgICAgICAgICAgICAgICAgICAgICAgICAgICAgICAgICAgICAgICAgICAgICAgICAgICAgICAgICAgICAgICAgICAgICAgICAgICAgIAogICAgICAgICAgICAgICAgICAgICAgICAgICAgICAgICAgICAgICAgICAgICAgICAgICAgICAgICAgICAgICAgICAgICAgICAgICAgICAgICAgICAgICAgICAgICAgICAgICAgCiAgICAgICAgICAgICAgICAgICAgICAgICAgICAgICAgICAgICAgICAgICAgICAgICAgICAgICAgICAgICAgICAgICAgICAgICAgICAgICAgICAgICAgICAgICAgICAgICAgICAKICAgICAgICAgICAgICAgICAgICAgICAgICAgICAgICAgICAgICAgICAgICAgICAgICAgICAgICAgICAgICAgICAgICAgICAgICAgICAgICAgICAgICAgICAgICAgICAgICAgIAogICAgICAgICAgICAgICAgICAgICAgICAgICAgICAgICAgICAgICAgICAgICAgICAgICAgICAgICAgICAgICAgICAgICAgICAgICAgICAgICAgICAgICAgICAgICAgICAgICAgCiAgICAgICAgICAgICAgICAgICAgICAgICAgICAgICAgICAgICAgICAgICAgICAgICAgICAgICAgICAgICAgICAgICAgICAgICAgICAgICAgICAgICAgICAgICAgICAgICAgICAKICAgICAgICAgICAgICAgICAgICAgICAgICAgICAgICAgICAgICAgICAgICAgICAgICAgICAgICAgICAgICAgICAgICAgICAgICAgICAgICAgICAgICAgICAgICAgICAgICAgIAogICAgICAgICAgICAgICAgICAgICAgICAgICAgICAgICAgICAgICAgICAgICAgICAgICAgICAgICAgICAgICAgICAgICAgICAgICAgICAgICAgICAgICAgICAgICAgICAgICAgCiAgICAgICAgICAgICAgICAgICAgICAgICAgICAgICAgICAgICAgICAgICAgICAgICAgICAgICAgICAgICAgICAgICAgICAgICAgICAgICAgICAgICAgICAgICAgICAgICAgICAKICAgICAgICAgICAgICAgICAgICAgICAgICAgICAgICAgICAgICAgICAgICAgICAgICAgICAgICAgICAgICAgICAgICAgICAgICAgICAgICAgICAgICAgICAgICAgICAgICAgIAogICAgICAgICAgICAgICAgICAgICAgICAgICAgICAgICAgICAgICAgICAgICAgICAgICAgICAgICAgICAgICAgICAgICAgICAgICAgICAgICAgICAgICAgICAgICAgICAgICAgCiAgICAgICAgICAgICAgICAgICAgICAgICAgICAgICAgICAgICAgICAgICAgICAgICAgICAgICAgICAgICAgICAgICAgICAgICAgICAgICAgICAgICAgICAgICAgICAgICAgICAKICAgICAgICAgICAgICAgICAgICAgICAgICAgICAgICAgICAgICAgICAgICAgICAgICAgICAgICAgICAgICAgICAgICAgICAgICAgICAgICAgICAgICAgICAgICAgICAgICAgIAogICAgICAgICAgICAgICAgICAgICAgICAgICAgICAgICAgICAgICAgICAgICAgICAgICAgICAgICAgICAgICAgICAgICAgICAgICAgICAgICAgICAgICAgICAgICAgICAgICAgCiAgICAgICAgICAgICAgICAgICAgICAgICAgICAgICAgICAgICAgICAgICAgICAgICAgICAgICAgICAgICAgICAgICAgICAgICAgICAgICAgICAgICAgICAgICAgICAgICAgICAKICAgICAgICAgICAgICAgICAgICAgICAgICAgICAgICAgICAgICAgICAgICAgICAgICAgICAgICAgICAgICAgICAgICAgICAgICAgICAgICAgICAgICAgICAgICAgICAgICAgIAogICAgICAgICAgICAgICAgICAgICAgICAgICAgICAgICAgICAgICAgICAgICAgICAgICAgICAgICAgICAgICAgICAgICAgICAgICAgICAgICAgICAgICAgICAgICAgICAgICAgCiAgICAgICAgICAgICAgICAgICAgICAgICAgICAgICAgICAgICAgICAgICAgICAgICAgICAgICAgICAgICAgICAgICAgICAgICAgICAgICAgICAgICAgICAgICAgICAgICAgICAKICAgICAgICAgICAgICAgICAgICAgICAgICAgICAgICAgICAgICAgICAgICAgICAgICAgICAgICAgICAgICAgICAgICAgICAgICAgICAgICAgICAgICAgICAgICAgICAgICAgIAogICAgICAgICAgICAgICAgICAgICAgICAgICAgICAgICAgICAgICAgICAgICAgICAgICAgICAgICAgICAgICAgICAgICAgICAgICAgICAgICAgICAgICAgICAgICAgICAgICAgCiAgICAgICAgICAgICAgICAgICAgICAgICAgICAgICAgICAgICAgICAgICAgICAgICAgICAgICAgICAgICAgICAgICAgICAgICAgICAgICAgICAgICAgICAgICAgICAgICAgICAKICAgICAgICAgICAgICAgICAgICAgICAgICAgICAgICAgICAgICAgICAgICAgICAgICAgICAgICAgICAgICAgICAgICAgICAgICAgICAgICAgICAgICAgICAgICAgICAgICAgIAogICAgICAgICAgICAgICAgICAgICAgICAgICAgICAgICAgICAgICAgICAgICAgICAgICAgICAgICAgICAgICAgICAgICAgICAgICAgICAgICAgICAgICAgICAgICAgICAgICAgCiAgICAgICAgICAgICAgICAgICAgICAgICAgICAgICAgICAgICAgICAgICAgICAgICAgICAgICAgICAgICAgICAgICAgICAgICAgICAgICAgICAgICAgICAgICAgICAgICAgICAKICAgICAgICAgICAgICAgICAgICAgICAgICAgICAgICAgICAgICAgICAgICAgICAgICAgICAgICAgICAgICAgICAgICAgICAgICAgICAgICAgICAgICAgICAgICAgICAgICAgIAogICAgICAgICAgICAgICAgICAgICAgICAgICAgICAgICAgICAgICAgICAgICAgICAgICAgICAgICAgICAgICAgICAgICAgICAgICAgICAgICAgICAgICAgICAgICAgICAgICAgCiAgICAgICAgICAgICAgICAgICAgICAgICAgICAgICAgICAgICAgICAgICAgICAgICAgICAgICAgICAgICAgICAgICAgICAgICAgICAgICAgICAgICAgICAgICAgICAgICAgICAKICAgICAgICAgICAgICAgICAgICAgICAgICAgICAgICAgICAgICAgICAgICAgICAgICAgICAgICAgICAgICAgICAgICAgICAgICAgICAgICAgICAgICAgICAgICAgICAgICAgIAogICAgICAgICAgICAgICAgICAgICAgICAgICAgICAgICAgICAgICAgICAgICAgICAgICAgICAgICAgICAgICAgICAgICAgICAgICAgICAgICAgICAgICAgICAgICAgICAgICAgCiAgICAgICAgICAgICAgICAgICAgICAgICAgICAgICAgICAgICAgICAgICAgICAgICAgICAgICAgICAgICAgICAgICAgICAgICAgICAgICAgICAgICAgICAgICAgICAgICAgICAKICAgICAgICAgICAgICAgICAgICAgICAgICAgICAgICAgICAgICAgICAgICAgICAgICAgICAgICAgICAgICAgICAgICAgICAgICAgICAgICAgICAgICAgICAgICAgICAgICAgIAogICAgICAgICAgICAgICAgICAgICAgICAgICAgICAgICAgICAgICAgICAgICAgICAgICAgICAgICAgICAgICAgICAgICAgICAgICAgICAgICAgICAgICAgICAgICAgICAgICAgCiAgICAgICAgICAgICAgICAgICAgICAgICAgICAgICAgICAgICAgICAgICAgICAgICAgICAgICAgICAgICAgICAgICAgICAgICAgICAgICAgICAgICAgICAgICAgICAgICAgICAKICAgICAgICAgICAgICAgICAgICAgICAgICAgICAgICAgICAgICAgICAgICAgICAgICAgICAgICAgICAgICAgICAgICAgICAgICAgICAgICAgICAgICAgICAgICAgICAgICAgIAogICAgICAgICAgICAgICAgICAgICAgICAgICAgICAgICAgICAgICAgICAgICAgICAgICAgICAgICAgICAgICAgICAgICAgICAgICAgICAgICAgICAgICAgICAgICAgICAgICAgCiAgICAgICAgICAgICAgICAgICAgICAgICAgICAgICAgICAgICAgICAgICAgICAgICAgICAgICAgICAgICAgICAgICAgICAgICAgICAgICAgICAgICAgICAgICAgICAgICAgICAKICAgICAgICAgICAgICAgICAgICAgICAgICAgICAgICAgICAgICAgICAgICAgICAgICAgICAgICAgICAgICAgICAgICAgICAgICAgICAgICAgICAgICAgICAgICAgICAgICAgIAogICAgICAgICAgICAgICAgICAgICAgICAgICAgICAgICAgICAgICAgICAgICAgICAgICAgICAgICAgICAgICAgICAgICAgICAgICAgICAgICAgICAgICAgICAgICAgICAgICAgCiAgICAgICAgICAgICAgICAgICAgICAgICAgICAgICAgICAgICAgICAgICAgICAgICAgICAgICAgICAgICAgICAgICAgICAgICAgICAgICAgICAgICAgICAgICAgICAgICAgICAKICAgICAgICAgICAgICAgICAgICAgICAgICAgICAgICAgICAgICAgICAgICAgICAgICAgICAgICAgICAgICAgICAgICAgICAgICAgICAgICAgICAgICAgICAgICAgICAgICAgIAogICAgICAgICAgICAgICAgICAgICAgICAgICAgICAgICAgICAgICAgICAgICAgICAgICAgICAgICAgICAgICAgICAgICAgICAgICAgICAgICAgICAgICAgICAgICAgICAgICAgCiAgICAgICAgICAgICAgICAgICAgICAgICAgICAgICAgICAgICAgICAgICAgICAgICAgICAgICAgICAgICAgICAgICAgICAgICAgICAgICAgICAgICAgICAgICAgICAgICAgICAKICAgICAgICAgICAgICAgICAgICAgICAgICAgICAgICAgICAgICAgICAgICAgICAgICAgICAgICAgICAgICAgICAgICAgICAgICAgICAgICAgICAgICAgICAgICAgICAgICAgIAogICAgICAgICAgICAgICAgICAgICAgICAgICAgICAgICAgICAgICAgICAgICAgICAgICAgICAgICAgICAgICAgICAgICAgICAgICAgICAgICAgICAgICAgICAgICAgICAgICAgCiAgICAgICAgICAgICAgICAgICAgICAgICAgICAgICAgICAgICAgICAgICAgICAgICAgICAgICAgICAgICAgICAgICAgICAgICAgICAgICAgICAgICAgICAgICAgICAgICAgICAKICAgICAgICAgICAgICAgICAgICAgICAgICAgICAgICAgICAgICAgICAgICAgICAgICAgICAgICAgICAgICAgICAgICAgICAgICAgICAgICAgICAgICAgICAgICAgICAgICAgIAogICAgICAgICAgICAgICAgICAgICAgICAgICAgICAgICAgICAgICAgICAgICAgICAgICAgICAgICAgICAgICAgICAgICAgICAgICAgICAgICAgICAgICAgICAgICAgICAgICAgCiAgICAgICAgICAgICAgICAgICAgICAgICAgICAgICAgICAgICAgICAgICAgICAgICAgICAgICAgICAgICAgICAgICAgICAgICAgICAgICAgICAgICAgICAgICAgICAgICAgICAKICAgICAgICAgICAgICAgICAgICAgICAgICAgICAgICAgICAgICAgICAgICAgICAgICAgICAgICAgICAgICAgICAgICAgICAgICAgICAgICAgICAgICAgICAgICAgICAgICAgIAogICAgICAgICAgICAgICAgICAgICAgICAgICAgICAgICAgICAgICAgICAgICAgICAgICAgICAgICAgICAgICAgICAgICAgICAgICAgICAgICAgICAgICAgICAgICAgICAgICAgCiAgICAgICAgICAgICAgICAgICAgICAgICAgICAgICAgICAgICAgICAgICAgICAgICAgICAgICAgICAgICAgICAgICAgICAgICAgICAgICAgICAgICAgICAgICAgICAgICAgICAKICAgICAgICAgICAgICAgICAgICAgICAgICAgICAgICAgICAgICAgICAgICAgICAgICAgICAgICAgICAgICAgICAgICAgICAgICAgICAgICAgICAgICAgICAgICAgICAgICAgIAogICAgICAgICAgICAgICAgICAgICAgICAgICAgICAgICAgICAgICAgICAgICAgICAgICAgICAgICAgICAgICAgICAgICAgICAgICAgICAgICAgICAgICAgICAgICAgICAgICAgCiAgICAgICAgICAgICAgICAgICAgICAgICAgICAgICAgICAgICAgICAgICAgICAgICAgICAgICAgICAgICAgICAgICAgICAgICAgICAgICAgICAgICAgICAgICAgICAgICAgICAKICAgICAgICAgICAgICAgICAgICAgICAgICAgICAgICAgICAgICAgICAgICAgICAgICAgICAgICAgICAgICAgICAgICAgICAgICAgICAgICAgICAgICAgICAgICAgICAgICAgIAogICAgICAgICAgICAgICAgICAgICAgICAgICAgICAgICAgICAgICAgICAgICAgICAgICAgICAgICAgICAgICAgICAgICAgICAgICAgICAgICAgICAgICAgICAgICAgICAgICAgCiAgICAgICAgICAgICAgICAgICAgICAgICAgICAgICAgICAgICAgICAgICAgICAgICAgICAgICAgICAgICAgICAgICAgICAgICAgICAgICAgICAgICAgICAgICAgICAgICAgICAKICAgICAgICAgICAgICAgICAgICAgICAgICAgICAgICAgICAgICAgICAgICAgICAgICAgICAgICAgICAgICAgICAgICAgICAgICAgICAgICAgICAgICAgICAgICAgICAgICAgIAogICAgICAgICAgICAgICAgICAgICAgICAgICAgICAgICAgICAgICAgICAgICAgICAgICAgICAgICAgICAgICAgICAgICAgICAgICAgICAgICAgICAgICAgICAgICAgICAgICAgCiAgICAgICAgICAgICAgICAgICAgICAgICAgICAgICAgICAgICAgICAgICAgICAgICAgICAgICAgICAgICAgICAgICAgICAgICAgICAgICAgICAgICAgICAgICAgICAgICAgICAKICAgICAgICAgICAgICAgICAgICAgICAgICAgICAgICAgICAgICAgICAgICAgICAgICAgICAgICAgICAgICAgICAgICAgICAgICAgICAgICAgICAgICAgICAgICAgICAgICAgIAogICAgICAgICAgICAgICAgICAgICAgICAgICAgICAgICAgICAgICAgICAgICAgICAgICAgICAgICAgICAgICAgICAgICAgICAgICAgICAgICAgICAgICAgICAgICAgICAgICAgCiAgICAgICAgICAgICAgICAgICAgICAgICAgICAgICAgICAgICAgICAgICAgICAgICAgICAgICAgICAgICAgICAgICAgICAgICAgICAgICAgICAgICAgICAgICAgICAgICAgICAKICAgICAgICAgICAgICAgICAgICAgICAgICAgICAgICAgICAgICAgICAgICAgICAgICAgICAgICAgICAgICAgICAgICAgICAgICAgICAgICAgICAgICAgICAgICAgICAgICAgIAogICAgICAgICAgICAgICAgICAgICAgICAgICAgICAgICAgICAgICAgICAgICAgICAgICAgICAgICAgICAgICAgICAgICAgICAgICAgICAgICAgICAgICAgICAgICAgICAgICAgCiAgICAgICAgICAgICAgICAgICAgICAgICAgICAgICAgICAgICAgICAgICAgICAgICAgICAgICAgICAgICAgICAgICAgICAgICAgICAgICAgICAgICAgICAgICAgICAgICAgICAKICAgICAgICAgICAgICAgICAgICAgICAgICAgICAgICAgICAgICAgICAgICAgICAgICAgICAgICAgICAgICAgICAgICAgICAgICAgICAgICAgICAgICAgICAgICAgICAgICAgIAogICAgICAgICAgICAgICAgICAgICAgICAgICAgICAgICAgICAgICAgICAgICAgICAgICAgICAgICAgICAgICAgICAgICAgICAgICAgICAgICAgICAgICAgICAgICAgICAgICAgCiAgICAgICAgICAgICAgICAgICAgICAgICAgICAgICAgICAgICAgICAgICAgICAgICAgICAgICAgICAgICAgICAgICAgICAgICAgICAgICAgICAgICAgICAgICAgICAgICAgICAKICAgICAgICAgICAgICAgICAgICAgICAgICAgICAgICAgICAgICAgICAgICAgICAgICAgICAgICAgICAgICAgICAgICAgICAgICAgICAgICAgICAgICAgICAgICAgICAgICAgIAogICAgICAgICAgICAgICAgICAgICAgICAgICAgICAgICAgICAgICAgICAgICAgICAgICAgICAgICAgICAgICAgICAgICAgICAgICAgICAgICAgICAgICAgICAgICAgICAgICAgCiAgICAgICAgICAgICAgICAgICAgICAgICAgICAgICAgICAgICAgICAgICAgICAgICAgICAgICAgICAgICAgICAgICAgICAgICAgICAgICAgICAgICAgICAgICAgICAgICAgICAKICAgICAgICAgICAgICAgICAgICAgICAgICAgICAgICAgICAgICAgICAgICAgICAgICAgICAgICAgICAgICAgICAgICAgICAgICAgICAgICAgICAgICAgICAgICAgICAgICAgIAogICAgICAgICAgICAgICAgICAgICAgICAgICAgICAgICAgICAgICAgICAgICAgICAgICAgICAgICAgICAgICAgICAgICAgICAgICAgICAgICAgICAgICAgICAgICAgICAgICAgCiAgICAgICAgICAgICAgICAgICAgICAgICAgICAgICAgICAgICAgICAgICAgICAgICAgICAgICAgICAgICAgICAgICAgICAgICAgICAgICAgICAgICAgICAgICAgICAgICAgICAKICAgICAgICAgICAgICAgICAgICAgICAgICAgICAgICAgICAgICAgICAgICAgICAgICAgICAgICAgICAgICAgICAgICAgICAgICAgICAgICAgICAgICAgICAgICAgICAgICAgIAogICAgICAgICAgICAgICAgICAgICAgICAgICAgICAgICAgICAgICAgICAgICAgICAgICAgICAgICAgICAgICAgICAgICAgICAgICAgICAgICAgICAgICAgICAgICAgICAgICAgCiAgICAgICAgICAgICAgICAgICAgICAgICAgICAgICAgICAgICAgICAgICAgICAgICAgICAgICAgICAgICAgICAgICAgICAgICAgICAgICAgICAgICAgICAgICAgICAgICAgICAKICAgICAgICAgICAgICAgICAgICAgICAgICAgICAgICAgICAgICAgICAgICAgICAgICAgICAgICAgICAgICAgICAgICAgICAgICAgICAgICAgICAgICAgICAgICAgICAgICAgIAogICAgICAgICAgICAgICAgICAgICAgICAgICAgICAgICAgICAgICAgICAgICAgICAgICAgICAgICAgICAgICAgICAgICAgICAgICAgICAgICAgICAgICAgICAgICAgICAgICAgCiAgICAgICAgICAgICAgICAgICAgICAgICAgICAgICAgICAgICAgICAgICAgICAgICAgICAgICAgICAgICAgICAgICAgICAgICAgICAgICAgICAgICAgICAgICAgICAgICAgICAKICAgICAgICAgICAgICAgICAgICAgICAgICAgICAgICAgICAgICAgICAgICAgICAgICAgICAgICAgICAgICAgICAgICAgICAgICAgICAgICAgICAgICAgICAgICAgICAgICAgIAogICAgICAgICAgICAgICAgICAgICAgICAgICAgICAgICAgICAgICAgICAgICAgICAgICAgICAgICAgICAgICAgICAgPD94cGFja2V0IGVuZD0ndyc/Pv/bAEMAAwICAwICAwMDAwQDAwQFCAUFBAQFCgcHBggMCgwMCwoLCw0OEhANDhEOCwsQFhARExQVFRUMDxcYFhQYEhQVFP/bAEMBAwQEBQQFCQUFCRQNCw0UFBQUFBQUFBQUFBQUFBQUFBQUFBQUFBQUFBQUFBQUFBQUFBQUFBQUFBQUFBQUFBQUFP/AABEIAjkByAMBIgACEQEDEQH/xAAfAAABBQEBAQEBAQAAAAAAAAAAAQIDBAUGBwgJCgv/xAC1EAACAQMDAgQDBQUEBAAAAX0BAgMABBEFEiExQQYTUWEHInEUMoGRoQgjQrHBFVLR8CQzYnKCCQoWFxgZGiUmJygpKjQ1Njc4OTpDREVGR0hJSlNUVVZXWFlaY2RlZmdoaWpzdHV2d3h5eoOEhYaHiImKkpOUlZaXmJmaoqOkpaanqKmqsrO0tba3uLm6wsPExcbHyMnK0tPU1dbX2Nna4eLj5OXm5+jp6vHy8/T19vf4+fr/xAAfAQADAQEBAQEBAQEBAAAAAAAAAQIDBAUGBwgJCgv/xAC1EQACAQIEBAMEBwUEBAABAncAAQIDEQQFITEGEkFRB2FxEyIygQgUQpGhscEJIzNS8BVictEKFiQ04SXxFxgZGiYnKCkqNTY3ODk6Q0RFRkdISUpTVFVWV1hZWmNkZWZnaGlqc3R1dnd4eXqCg4SFhoeIiYqSk5SVlpeYmZqio6Slpqeoqaqys7S1tre4ubrCw8TFxsfIycrS09TV1tfY2dri4+Tl5ufo6ery8/T19vf4+fr/2gAMAwEAAhEDEQA/AP1Rbt9aqapqtpounz3t9cR2tpApeSaVgqqB1JJqa9uI7O1lnmcJFEpdmPQADJNfKXxG8aJ4sksNe1nTrrXdLvL1rTwn4LtCFl1y4AJMsueFjADMWbhVGeuAYclFpdzuw2HjVvUqvlgt3+i8z0S4/aE1TxTM8Xw78HXvimBcqdWuJVtLEY6lZG+/26D19K4i++N/xKtb5oZvE/wf02dTzYXmuP56+x+cc/hXSaF+zjL44skvPi7qa+JHYb08J2DvbaDYJjiIQg/6QVBx5kmc88Yqi3jj9m7wxqg8NLpfhW0a3cWpht9CT7PGem0usWwD6mu2hQrV21Rg5W3srnWsXSXu0KEbLvdv562+5F6H9oDxx4QtY7zxp8PmuNEYbm13wtdrfQBf75j++FwD8309a9e8C/EHQPiPocWr+HtSh1Kyk/jhbJU91YdQR6GvMNQ/Zl8J26PrHw4uG+GmtTDzor7wr+6spz1HnWQPkTg45yu49iK8cS08UeCvHV7dafpdv4f+Kem27XuoaTpuV0vxhYKVD3FspOVlQsgZSMqWwCQc1jo99zSP1THP2fKqVR7NX5W+zve1+59qj71Orl/hv48034meD9N8RaVJvtLyPcBnlGHDKfcHIP0rqKhni1KcqU3TmrNaMKKKKRAUUUUAFFFFABRRRQAUUUUAFFFFABRRRQAUUUUAFFFFABRRRQAUUUUAFFFFABRRRQAUUUUAFFFFABRRRQAUUUUAFFFFABRRRQAUUUUAFFFFABRRRQAUUUUAFFFFABRRRQB5t8bJZdQ0XTfDdrI0cuu30dnIyH5lhzukI/4CpH0Jryz4b6roFr4k8efFrXZ4bHQdHuZvCPh9nAxb2dpJ5Ny0eOpmuo3/AO/Ir1nx1GG+I/gV3/1ay3X/AH0Yxt/Wvm/4U6Bqdh8L/hv43NnJ4n0PQJdQS98PwjfJBcG+uA95Cv8AFJHyNv8AddjXFTbdSb9DfG1pUsJTjBb3f42v8j0P9oj9qaT4Q6xpukaZpUWpXN5ai8le4kaMRxsSq8ep2k/hXw/q99e+IbCxt4bXUpLe2WRYFaXzo1DuzsFwoPUjvX3h8dv2Y7P46alpusx6y+j30Vv9ml3W3mrLFksFKllKsNx/PpXxN4k8OXE3xX1/w6L1t1vqNzbRvlY1YRs2MguuOFPf8K/duEpZZ9XXsVatFXm3f0/U7sI4OCtv1Ppb4M/tZXv/AAlvh7wJqWiwR2aiHS1u4nPmJIoCLuB7EjHHPNej/HC+sfG/hfWtR8K3Mb+P/h1cjV7RShWSOWOMtJAcjOyeAyxHt+8ry/8AZn/ZZsZj4Y+Ilzr0tzbqftkOni0EZ8wFgGeTzW3AEZ6fjXqWq6PfePvjlBq+n2Vx4d07wwrwX+sSI0UuqKRua1RSMNCMhi/XcFAr884j+oLFpZd/29/iv5nlY6oqc4+yV290Zv7P2tW2l/E7xDpOlsf+Eb8T6bbeMdIjwMRxzhRJ06AlkAH+wa+i+tfHv7Lkbj/hQrBQsq/Da3Lr3EBWPyf0H6V9hV8zvsevmT5506r3lGLfm9r/AIHH678YfAfhW6ubbWvG3h3R7i2dY54b/VYIHidgSqsGcYJAJAPJwa1v+E38O/atKtv7e0z7RqyeZp8X2yPdeLjO6IZ+cY7rmvkH4f8Awx8DfEj9tn9on/hMtC0vXXs4NJ+zR6kiyiOJrX964DD5SCAN3UAn1rxXw7od5Z/st3fjnw6j3dt8JfiRdX/h+VWDM+kCWIXESAdFG7d/2zoPIPvf40ftC+Dfgj4Z1nUdZ1ewl1PTrX7UNBS+hS+uFyMCON2BOc/pXm/j/wDawhsrr4J6j4a1DR5fDfjPU/s2qXNxOkos4/JSRkMivtR134Oc4r5o8Q+HtL+OHwR/aR+O+qaXbX76nMbbwxNeQLK1raWgSJZIweAWO7n2NdT8UPhp4SvPDv7IGg/2HZR6Jq2o2s19YwwKkN072tuzNIB1JIH+QKAPuTwj4+8MeP7Wa58MeI9J8R20LbJZtJvorpEbngtGxAPB49qrab8UvBms+I5fD+n+LdCvtehz5ml22pQyXSY65iViwx7ivg/4uaGPgz8evjbpnw206Hw7HJ8J31AWmloIlEq3UUfmgAffCM+PrTfjJ8M/ht4H/YV8F+OfBFjptl43hGkXei69bIqXt3fySR+ajyqNz5UykqTjKD0oA+6vEHxg8B+E7i7t9b8a+HtIuLRkjuIr7VIIXiZwSisGYEFgpIB5IBrfbxFpS6L/AGwdTsxpHl+d/aBuE+z+X/f8zO3b75xXxt8K/hN4S+KP7Z3x/uPGXhnT9duLC30VLdNQtxIsJltd0hCsMBsqMMOcE+teE+D2j1D9mn4JeF9anePwDd/EybTNUi3hIjAkxMFu+OqEgnH+z7UAfpj4S8feGPH1rLc+GPEek+I7aFtkk2k30V0iN6ExsQDVXTfil4M1jxFL4fsPF2hX2vREiTS7bUoZLpMdcxBtwx9K+Tf2hvAPgL4N3PjfUfhtfR+EviLJ4GuwvhnQoQkN1arJk3LoowGXGN3bPfOa4D4xfDX4beCf2FfBXjTwPZaZZ+NoRpF1ouuWioLy6vnePzUaUDc2Q0pK5xlR6UAfdGv/ABk8A+FLi5t9b8b+HdIuLV1jnhvtVgheJ2GVVlZwQSAcA9cVJefF3wLp+oadY3XjPw/bXupANZW82qQJJdA9DEpfL59s18p/Cv4U+E/il+2N+0G/jLwxp+tz2kOixwpqFuswhMloWkK5HytuAww5Az614j8Pfgv4Juv+CefxG8VS+GtOm8R2t1fNa6tNCr3EAilRYwsnUAAdKAP0h8S/E/wd4LuHt/EHizQ9DuEh+0NDqWow27rHkDeVdgduSBnpyKo33xp+H2m6bp2o3fjvw3aafqJ/0O6n1a3SK65xiNi+H5PavjjwX4F8PfFj9rX4fW/i/R7TxHa/8Ke0+/8AJ1KISqZjIqeZtPH3ZHGf9qqHwN/Z++Hetah+1AL/AMJaXeJo+tX1lpq3FoGFjEizMqxZ6AHB49KAPvWbxXolrqWnafNq9hFf6kpeytXuUEt0oG4tGucuAOcjNQ3Xjjw9Y3mp2lxrumw3WlwC5voHu4xJawkZEkqk5RSO54r8+PghqUtxrX7D15etmR7DxBDvk+XpG6IoX6EflXTfEu8juPjR+2JJbXEb+X8P4Qdp5VlsuefwoA+zdK+MHgPXdcg0bTfGvh7UNYnj82LT7XVIJJ5F67lRXLEfQV5/4r/aMX4ea98S5PFCaBaeG/DFhFdae8GtwNqF7MYXlaB7csDG7bDsB+8ATXyT44+Efg/wD+yh+z14v8O+HNP0rxPNrfh+aTVLe3C3EvmRMzBn6kHCnH+yK6P4keGNI8SfGD9tFNV0u21IWPhWyv7QXUCyiG4XR22zJu+665PI7EjvQB9dfC79oDwV8VfDPhzVNO17TLe81uBZYdIm1CA3aPtDNEUViS65GQOmRXax+JtHm8QS6FHqti+uRQfaZNNW4Q3KQ5A8wx53Bcso3YxyPWvgrxJ8ObHwx+xD8H/ip4S0ezsfEPg46Z4ouprK3SJ7uNwi3hbaOSykPz/zzr139jEr8U/G3xX+N0iSeV4n1b+y9H83grp1oqxqR7Owz/wGgD6rooooAKKKKACiiigAooooAKKKKACiiigAooooAKKKKACiiigAooooAKKKKACiiigAooooAKKKKACiiigDi/ihYytottqdvHvuNKuUvAoIG5VzkEnoMHJ+leL+CLnV/B/xK8Q/D/S9Wt9Ksdcurjxh4emuIRIl3DcNuvbZN3AeO5dpT3xcr719MyxiWNkYZVhgg14d8U/hfa3+kxaZeT3lhZW91/aGja7ppxd6Jd8gPHwcqQzgg8FWYdSK8qtN4Wt7aXwS0fl2Z2KP1ml7FfEtv1Oq1LQ/iK0gGn+JdMEXznNzZ/OCT8vTjHWuG8Yfs83XjTVG1W+svDl3rHlxq1xPaHY8gRQzOo+8vXj6elP0X46+Ivh/ax2vxT8P3T2qriPxn4Xs5L3S7teP3kscQeS0b+8HGzIbDdAeij/a0+Cc0YkHxd8EIAMss3iG0ikU+jI0gYH2K5r16NedL36M2r9jzfYuDdm18x9r4X+J2naVbWtprfh61FumxI4bJkiVQPlCr2/+tXJ/G7WPFmk+GV8Hprlvd+J/GqNo2m28duuYGcA3F4cciOGESvn+9sHetTUP2mNO8VwG2+GOj6h8Rb9j+7vbOF7bR4vV5b+QCPaOu2Ms7dgRkjjPC/hDWtd8TapP/bK+IfG2qQ/YtW8RW8ZWx0mz3bvsdiCOFJwTk5YruPtzVKkae71f4nRhsE6lS6k7Ldt6JHZ/ArQbS78ZaxrenxlNC0ixg8M6MSQ2bWADJz3BKqwPo1e51k+F/Dtl4T0Oz0nT4hFa2sYjRfXHc+5PNa1XTTUddzqxVZVql4/CrJeiPkBv2L9J+KH7SHxe8SfEjwsbzw7qjaa2gXsOpSQudlvsuARFIGALY4IwcV3/AMbPBviPwX8GIfhv8HPh3Y32n6raz6SxN9HbW+kxSJtMzK+WlPzMeDnI5zmvoCitDjPNvhz8D9D8F/AjR/hhe20OpaNb6SumXkZUqlyCmJScYI3EsfXmszwv+yl8MPB9j4btNM8ONFD4d1GTVtLV7+4b7NcyABnGZOchR8pyOOleuUUAcl/wqnwqfiNdeOm0lX8UXWlnRpr55pGD2ZdXMRjLeXgsinO3PGM4JrgPDf7GHwa8I+NIfFOleCLW31aCVriDdPNJDDITkukLOUVs9wvc+te2UUAcp4f+Fvhnwv408S+LNM037L4g8SCEareLPITc+UpWPKliq7VJA2gVz9r+zf8ADi1+Gd58P18L27+EbyeS5m02aWSQGWRtzOHZiytnuCMfjXpdFAHl/wAKP2Z/ht8E/wC0m8I+GYbCbUk8q7uLiWS6mlj4/dl5WZtnA+XOOB6Vh+Gv2L/g14R8aQ+KdK8E21vq0EzXEG64mkgglPJeOF3MatnuFzyfWvbKKAOU8P8Awt8M+F/GXibxXpmm/Zdf8SCEareLPITc+UpWPKliq7VJA2gVjaf+z74B0v4Zap8PrbQVi8Iam80l3pv2mYiVpX3yfOX3jLc8GvRKKAOG8P8AwT8GeF/F9j4o03R/I12x0WPw9b3bXUzmOwRgywhWcrgFQdxG7jrU/h74QeEfCsni19L0gWr+K7mS71lvtErm7lcFWY7nOzIYjCYHNdlRQB5Hrn7KHwr8RfDnRPAd94Tjm8MaI7Sabai7nD2jMSW2S+Z5nJYnBYjp6Cq/g79kD4S+AdJ8RaboPhQWNp4gsG03VF+33MhuYGGGUl5Dgn1GDXslFAHAax8BvAviDwH4e8GajoQuvDfh+S3l02ya5mXyHgUrCdyuGbaCR8xIq1a/BnwdaeJvFniCPRx/a3iu2S01qdriVheRJH5aqylyowh2/KAcV2tFAHy98RPgnqHwb+EuseBPgV8O7e/i8XfaLa+lu9WCQ6Z5kQj84pKTvULn5VI5ArrbL9mm90X4K+CfAXhnx1q/gc+H7dI5r7QVjVrttmH3AjGC5LflXulFAHjfwx+BXifwD4pTVdV+LninxlaLE8Z0zV/L8kk4w/yjORj9TXsYpaKACiiigAooooAKKKKACiiigAooooAKKKKACiiigAooooAKKKKACiiigAooooAKKKKACiiigAooooATOaZNCs6FHUMpGCGGRVT+3dN7aha/9/l/xpP7d0z/AKCFqP8Atsv+NJx5lZoXNbW5gzeA0tpmm0e/n0Z2OWSDDRN7lDxms+68G+IZ7gTHUdKmmX7txNpqtIPxzXXf27pn/QQtf+/y/wCNIdd03/oIWv8A3+X/ABrz/wCz6V7xTj6No61jJpWlZ+qT/M5ST4a3OuMB4h1+81OHOWtI8QwsfQqvUe2a67TNJs9Fs47Sxt47W3jGFjiXAFN/t7TP+gja/wDf9f8AGl/t7TP+gja/9/1/xropYaFF3ite71ZnUxE6qtKWnZaL8C6KdWf/AG9pmf8AkI2v/f5f8aP7f03/AKCFr/3/AF/xrpszn5l3NCis/wDt/Tf+gha/9/1/xo/t/Tf+gha/9/1/xosw5l3NCis/+39N/wCgha/9/wBf8aP+Eg0z/oIWn/f9f8aLMOZdzQorP/4SDTP+gjaf9/1/xo/4SDTP+gjaf9/1/wAaLMOZdzQorP8A+Eg0z/oI2n/f9f8AGj/hINM/6CNp/wB/1/xosw5l3NCis/8A4SDTP+gjaf8Af9f8aP8AhINM/wCgjaf9/wBf8aLMOZdzQorP/wCEg0z/AKCNp/3/AF/xo/4SDTP+gjaf9/1/xosw5l3NCis//hINM/6CNp/3/X/Gj/hINM/6CNp/3/X/ABosw5l3NCis/wD4SDTP+gjaf9/1/wAaP+Eg0z/oI2n/AH/X/GizDmXc0KKz/wDhINM/6CNp/wB/1/xo/wCEg0z/AKCNp/3/AF/xosw5l3NCis//AISDTP8AoI2n/f8AX/Gj/hINM/6CNp/3/X/GizDmXc0KKz/+Eg0z/oI2n/f9f8aP+Eg0z/oI2n/f9f8AGizDmXc0KKz/APhINM/6CNp/3/X/ABo/4SDTP+gjaf8Af9f8aLMOZdzQorP/AOEg0z/oI2n/AH/X/Gj/AISDTP8AoI2n/f8AX/GizDmXc0KKz/8AhINM/wCgjaf9/wBf8aP+Eg0z/oI2n/f9f8aLMOZdzQorP/4SDTP+gjaf9/1/xo/4SDTP+gjaf9/1/wAaLMOZdzQorP8A+Eg0z/oI2n/f9f8AGj/hINM/6CNp/wB/1/xosw5l3NCis/8A4SDTP+gjaf8Af9f8aP8AhINM/wCgjaf9/wBf8aLMOZdzQorP/wCEg0z/AKCNp/3/AF/xo/4SDTP+gjaf9/1/xosw5l3NCis//hINM/6CNp/3/X/Gj/hINM/6CNp/3/X/ABosw5l3NCis/wD4SDTP+gjaf9/1/wAaP+Eg0z/oI2n/AH/X/GizDmXc0KKz/wDhINM/6CNp/wB/1/xo/wCEg0z/AKCNp/3/AF/xosw5l3NCis//AISDTP8AoI2n/f8AX/Gj/hINM/6CNp/3/X/GizDmXc0KKz/+Eg0z/oI2n/f9f8aP+Eg0z/oIWn/f9f8AGizDmXc0KKz/APhINM/6CFp/3/X/ABo/t/Tf+gha/wDf9f8AGizDmXc0KKz/AO39N/6CFr/3/X/GiizDmXc8RpGp2cVGzZr3D57UXOKazZpKKYahSNQ1NoHqFHNLUbUEsc2aTOKZnFRs240CJJH+WmK9Mam0AP3ZNI1Mam0D1HNTabI21c0zz9vbNA9SWiovtPtimGTJzQGpYoqtvoLbqA1LJYJyaTzx2qtRQLUtDnmiqjU2gRdoqlRQBdoqlRQBdoqmrFeRS+c1AFuiqnnNR5zUAW6Kqec1HnNQBboqp5zUec1AFuiqnnNSNIW4NAFyiqVFAF2iqVFAF2iqVFAF2iqasV5FL5rN1oAt0c1U3Zp8bBWyfSgZYoqNplWk+0A9KB6ky09aiXnmlzigNSYNtpd9Q7s0LQGpYjf5qk3ZqstLnFAtSzRUO/5RRQIvtTWoam0kUFI1DU2mAUZxSNmmscUANLZNITim7/mNMZs0EgzZpjHFDdKRc80AG7NMkbauaZ/EeQPrTO/3lP0oHew5pcio2bcKHzio2oEOWhzgUzOKYZMGglvyH76N9R+aT0qNlPU0+boIsb6QyBetV6Rs44pXSKRY4PIpckVVXd3pWzS5kJkhkIPFHnNUVFPmQtSXzmo85qham0+ZAWPOajzmqvRRzICx5x/i6UectV6KOYCx5y0ectV6KQFjzlo85ar0UAWPOWjzlqvRQBY85aPOH8PWq9FUikWPOajzmqvSqcUroTuWVkLHBOKd/wADqrvo3Zo07jRa/wCB0f8AA6rUnPaj0GWwcfxZoMm2qnPelWldCuWhLupd9VuaKd+oy0rZpynFVY/vVItHNcCffRuzUWSKcrZpoVx9SLNt4qJfqB9acv1U/Skx8xZVu9PVs1VGc1OGCoM0hklFMDBulFAjTpGoam0FBSNTqjY4oB7AxxUEjbqJG3VG1BAtIxxUcjbVzUUkm5cUFImdiVO1dzYJGenTqa+L/wBqj9snVvBvie68I+CJI7O505/LvdTlhWUliudqBuM89fY19lQnEn4H+VfkP+0I2746fET/ALD95/6Oepk+U1pxcpWOm/4a6+LzYI8cXeCM82Fpk/nGaP8Ahrr4vf8AQ8XP46fZn+cVePr90fSlpnW4Rvseut+1x8XXGG8cXOP9nTrMfyipv/DWnxa/6He8P/bjaD/2lXklFPUOSPY9b/4ay+LR6+Nbw/8AbpaD/wBpUf8ADWXxVX/mc7rP+1aWjf8AtKvJKKN9A5I9j1o/tZ/FdunjW4H0srVf5RUn/DWHxY/6Ha6/8BbU/wA4q8moqOQOSPY9Z/4ax+K/fxtd/haWo/lFR/w1h8Vz08a3h+tran+cVeTUVSVg5I9j1pf2sPiwP+Z0uv8AwDtP/jVMP7WPxYz/AMjpdD/tztP/AI1XlFFAuSPY9a/4aw+LDL/yO13+FpaD/wBpUn/DV3xV/wCh1vCfe1tT/KKvJqKXLcfIux6z/wANXfFft40uh/252v8AWKj/AIau+K/fxrdf+AloP/aVeTUUuRC5I9j1n/hq74r9vGt1/wCAtof/AGlR/wANXfFVvv8AjW6I/wCvO0/+NV5NRRyIOSPY9Z/4as+K4+740ugP+vS0H/tKj/hq74sf9Dtdf+A1p/8AGq8moqkrbD5I9j1n/hq74sf9Dtdf+A1p/wDGqP8Ahq74sf8AQ7XX/gNaf/Gq8mop6hyR7HrP/DV3xY/6Ha6/8BrT/wCNUf8ADV3xY/6Ha6/8BrT/AONV5NRRqHJHsesN+1d8WP8Aodrr/wABbQ/+0qT/AIaw+LA/5na6/wDAO0/+NV5RRRqHJHser/8ADWHxXPXxrdH/ALc7T/41Sr+1d8Vv+h0u/wALO0/+NV5PRUuNw5I9j1n/AIat+Kx/5nS8H1s7T/41R/w1Z8VF6eNbot3/ANEtB/7SryailyIOSPY9Z/4au+Kn8PjS6Df9etof/aVH/DV/xX7+Nbo/9udp/wDGq8moo5EHJHsesN+1d8VuP+K0u/wtLUfyip3/AA1f8VwvHjS8H1tbY/8AtKvJaKXLqHJHses/8NYfFg/8zrdH/tztf6xUf8NXfFj/AKHS6/8AAO0/+NV5NRVicI9j1n/hq74sf9Dpdj6WloP/AGlR/wANW/FQ/wDM7Xmf+va1/pFXk1FJxuChHses/wDDVnxWXp41vM+9ran+cVH/AA1f8Vv4vG13j2tLUfyiryaihRtqLkj2PWG/aw+Ko+742vM+9ran+cVSR/tafFuPlPG9yD72No3/ALSryOirHyR7Hr//AA118W/+h4uM+2nWg/8AaVH/AA1z8XW6eOLn8dPtD/7SryCipsPkj2PXm/a4+Ly/8zxcfhp1oP8A2lV7R/20PitoupWt3P4ok1SJJB5lpcWUCrIPTMaKR+eK8TpGXcKzldMlwjbRH69/BX4t6f8AGTwDp/iTT4vswm3R3Ft1EUy43AH0NFeKf8E+mx8INVH/AFH5/wD0ls6KuLujis0fXbU2ikbNUMR84qGX7v41I/3agaghjajNPaoZvuj60DQySTdxUbUNUcn3apAxY5trkexr8jf2gefjj8RD/wBTBe/+jnr9a0/1q/57V+Sf7QX/ACXP4i/9jBe/+jnrGob4fc4dfuj6Up/H8KSP+H6Vc0TS5te1zTdMgcxPeXSQb16qDnJpVJqnFyeyPSp0pVqsacN3oQ2tleX8nl2dldXrYzi3iMjfkO3vSXFjd2M2y7sp7KX+5cRlG/Wv0b+H/gPS/hRpMemaJaxxMoAmudu2R3xyc+lJ438A6b8VtJk0jWIkdrjiO6I+dJD8qnP1avjlnz9ry8uh+o/6kSWHc/ae9Y/OHmjOOnXtVzX9Jl8PeINS0mVi81hO1q7N1YqWGf0r2L9j34K6f8bPiwthrD/8STS7c395ARkXCq6L5Z9iZAfwr2sdmVLA4aWLn8KVz8x+rT9v9X63seQ6b4V1/XIWn0zw/q2pRJ96S0sZJE/MVneXNDLJHNFLbyodrwzqVZT6bTX7f6fs0KzjsdLhXTbSFFSO1txhVUcKPfjtXzf+218BtN8ffDXUPF+n2kNn4n0OE3RuoBtNzErDcjD8Qf8AgNfj2U+KGHzHHrByg4puyZ7dfJ506Tmnqj80eaMFiFHLHgKM5J9OKZuzIFVlAb8yCM19Nfsu/Cyyv9HPivUIVuZpJfLt1YZ2qvf9B+dfr2ZZlHL8P7Z63PzrPM4pZHg5Ymqr26eZ86v4e1iO3E0mj38dv/z1a3Oz8zVFRtJBBBHTjA/Kv0qZ3aERnaY+nltHlSOmDXyT+1H8LrPwjfafr2mR/Z7TUnZZYF4VJBnp+Rr5rLeKFja3sZRs2fEcP8dU84xawtSHK3seGUUUV+hq9tT9WCiiimAUUUUAFFFFABRRRQAUUUUAFFFFABRRRQAUUUUAFFFFABRRRQAUUUUAFFFFABRRRQAUUUUAFFFFABSN0paRvumk9gP0L/YAOPhHqv8A2H7j/wBJbOiov2A22/CfVP8AsPXH/pLZ0VEdjz5fEz7EqNqfUTd60AZL938ahantTG+7QGpHIcLVeRt1K/3qY/3apBqMkOFqtJJtp8tVpKYmTRybmx7H+Vfkr8fP+S2fEX/sYr3/ANHPX6xxfe/z61+Tfx6/5LR8QP8AsP3n/ow1lM2w/wARxC/dWtHwzrR8OeJNH1UR+YLO+inZe21WyT+Waz1+6PpRJu2nacH+dZ1oe0pOPc9OlWlQqxqR3TP030vVrTxdpcGraVMtzYXSiRZU6c5OP1NR6trVj4L02fWdTuEt9PtB5shf+LByAPfI/Svzs8JfEbxT8P8AzBoGv3mlJIfnS3dWQ+2CD7Uvin4jeKfHCxJr3iC61FIjuEcpCp9doUc89fc18PHI6ntddj9f/wBdsOsNbl9+xT8Za4nizxfr2soD5Wo3st2rHqVY8V7t+wn8TtJ+Hfxnnt9bl+z2ev2n9nicj5Y5t8bIT6D5CPxr50+gwO1I4J2nnAOflYqfzHvXu5llcMfgZ4OWzVj8nWKl9aeI7u5+4jQP5ihsc/8APM7h9QfevEv2wvibpnw4+COs2l5Mi6pr0DafY2u/MnzqQXI9MAj8a/Pzwz+1R8WvCeirpmn+PNThs1XYkUyRzNCBwArOrY+vWuC8V+OPEXj7VzqPiTWbzW7/ABgXF3KWOPpgKPwr8Nyfwtngcyjiq1S8U7pHvYjOlUpuEUY23aYyQy4ChSfTAA/lX1v+yl42srzwaPDbPt1GzmeTZ6oSMn8yK+TOcc1YsdSutIuo7qzuZLW4jOUkjIBz6c1+4Zplax+F9lE/K+IsnWe4OWGcrN6o/SLy2Eh/jGcc9K+YP2uPGlnfQ6N4dtZlnntJXmumTornIA/ImvMpvjt47uLE2r+JJ1RhtYrgEjHTIrgprqe8uZJbiV7iZjkyO2c18nk/DFTBV1WqPY+B4a4Fq5VjFi8TNPl2Eoo5or9PR+zBRRRQIKKKKACiiigAooooAKKKKACiiigAooooAKKKKACiiigAooooAKKKKACiiigAooooAKKKKACiiigApsn3adSN900nsNbn6B/sCtt+E+qn/qO3H/pLZ0VF+wScfCnVf+w9cf8ApLZ0U4bHm1PiZ9ks24VDL938alkztqu1NgNqK4/1Y+tS1Wkk3Eil1HqRNUM33R9alPeqznaxqxMhm+6PrULZxTpGyahm+5QZMbH/AK4V+UHx1/5LR8QP+w9df+jGr9V4f9ZX5UfHT/ksnj7/ALDt1/6Mas5nThfiOMX7o+lLSL90fSlpne9wooooJCiiigAooooAKKKKACiiigAooooAKKKKACiiigAooooAKKKKACiiigAooooAKKKKACiiigAooooAKKKKACiiigAooooAKKKKACiiigAooooAKa/8P+8KdSMu7H1H86T2GffH7Bf/ACSfVf8AsPT/APpLaUVF+we//FqtUH/Udn/9JrSilHY8ur8bPtRs7aqt96pScJUJbJqhiN2qnJ1P1qaboKhfOKOo+gw1VkOKklqCRdy1ZDK7NuY1Vm71PM3aqkk21SKDKW5Ekm6bFflb8cv+Sx+Pv+w7df8Aoxq/UuPmUn2b+Rr8svjf/wAlg8d/9h28/wDRz1hUOzC/Ecev3R9KWkX7o+lLWh3vcKKKKCQooooAKKKKACiiigAooooAKKKKACiiigAopajabHFS5JAPoqNZvbNL5u7tilzoB9FM30b6n2ke49B9FM3+xP0o8zHZh9aPaR7gPopnnetHnDsM0e0iIfRUbS7u2KerZqlNS2AWiiitACiiikAUUUUAFFFFABRRRQAUUUUAFFFFABRRRQAUf4j+dFB/qP50nsNbn3f+wmcfCnVP+w7P/wCktpRUX7DMm74X6mv/AFHJ/wD0mtKKcNjy6vxs+1pfu/jULVNL938ahagZDN90fWoGG6rE33aqvVIbIZVxVWWTcpWrUxwtUZGyTTM2VpjjFU53+Wrcn3jWfcd6DFjIW3E/7rfyNflp8b/+SweOv+w7ef8Ao56/UU9/of5V+XPxt/5LB47/AOw7ef8Ao56zmduD3OQX7o+lLSL90fSlpnoPcKKKKCQooooAKKKKACiiigApNxWun+HHgO4+JXiy10C21bSdEluFdhea1di2t12qWwXIPPHT616l4k/Y/wBX8N+HNQ1eT4h/DTUFs7aS6e107xMs1w+xC+EXaMk46VEpqLsykeDb6N9eo/CT9njUvi5pN1f2nizwb4cSG4aD7P4l1pbOckKjZVe4+brTPi5+z7f/AAl02xvLnxh4N8TPeStGLXw7ra3cynYzb2X+FBt5bsSo71hKprox3seY7t1LzXvem/sb6nqOk2N8/wAUfhZZpcQpN5N/4pSGRMqG2yIQfmFeQeOPBc/w+8V32gz6npmtSWexWv8ARbwXVpLuRWG1woq4VE9GSzCaQQ/vGxhPn5x2Ge/0r6j/AGbf2WfAvxU+DXiDx5438Uaj4asdF1BrSVrdFdBGsMB3Y/7aCvlm4z5En+6a/QH9j/SfDmvfsS/E3T/F2qzaJ4cuNWkW91CFSzQp9nsjuwPcCvlOIcRKhR5oSa1W250UEpM8y+JH7HvgrRvh3a/EvwR4+k8Z+AYLuOHWHijWOe2ty20yqfVWKjH+1XG/tQfsur8Ida8GyeDb278VeGPF0anTb64C7nlbAWNj64JP4V6d8SPjN8I/hH+zRrvwl+E+s6h4putcmxd6jcwMkYRirFgx6n5Qv/AjXpH/AATw+J3/AAnHwp8QeH/E1hFrdv4BkXU9KkuF3FMrMyqvuhXH/Aq+bWKxuHo/WNWk7a72ZtKMZOx5z4o/ZB+CXwtvtI0b4l/FC+8O+JLrTEv7uEwq0UTHaDEPfJz/AMBNdDrX7EvwD8M+A9O8a6p8WNUtPDOpSiC01F7YeW0m1nC8I3VY3PTt1r4u+LfxK1X4veONd8W6zI0t9qN27AMMeVGGwqAemB+lfWn7QP8AyjF+DP8A2FYv/Se9ratSxMXSlKq7yeplFRszn/E/7Jfw4/4UX8R/iJ4P8b6j4g0zw2VjsGWFESTEduTk7Qf464v4Tfs6aP8AET9mP4g/E27vr2DU/Ddw1vb2Fvt8qQhIfvfi4r6G/ZDvPDGn/sFeN7rxnb3F34Wh1GZtQhtc+Y8eLfhcEc5210HhzUPhhqn7FHxdl+FOmalpHhvdNHc2+q580ziOE5GWPGCa8uWbYinz0rSdpJc3Q3VKDV2eOeEf2PPhx4X+HHhnW/jJ4+m8K6x4pjRtPsbGEFVVx8pbCNxj2HbmqFh+wxb2P7U2l/DXVdbupfDmsadNqljq9kBvaFQ5wQf8O1dH/wAFWN8d18MEg/1K6TcMv+9mP/69fUk37z47fs8yXH/HyfCmoq3+79kj/rilVx2LhRVaMrualp0TWxMacL2Piq4/Y9stM/bA0/4UX2o6hH4d1aA3lpqSInnvD5JZgM+6j8q8E+LXhGD4d/Fbxb4VtZpJ7bSNUubOKWU/O8cchRSwHf5a/Vbw5HZfF/4geGfFybP7d+H/AIi1jRb7HX7O6yhf1KV+Zf7T/wDycr8SiOn9v6gPyuGFelw7mtXGVlRqS9+KXMvMivSUGpR2PNOaOabIwjhZz0UFsYznA6V7t4W/ZB1fxN4d0/Wl+I3w20yK+gWdLfUPFEcEse4E7ZFIO08dK/T3JJHL1PC+aTcVr0DXPgzeaF8TrPwVJ4i8L31zeBANS0/VVawXIJ5mKgHp0+vpXojfsZ6r5c7J8UPhXOY0Z3ht/FaNIoX1jHU9vxqPaR6lNnz3vpQ26vRfhL8C734vPqwtPFPhHw8mnOsbSeItYW0SdiWG6I91+WtL4qfs46j8JfDsOsXfjPwR4ihmuVtRa+G9cF7cKSjtvZB0QbCC3qyjvQqkW9A6HlFFHXFFbmYUUUUAFFFFABRRRQAUUUUAFHp9aKRu31H86T2YH3R+w2234Y6n/wBhqb/0ltKKZ+w7/wAkx1P/ALDc/wD6TWlFVHY8at8bPtyX7v41C1TS/d/GoScUG5DN90fWq7fdqeRsioGbaaOg2VW+9VOb/WGrNw2Wb6VTm7fSiOxkytJ1NUbg4FW3OCfpWdK/zt9KoyZGknNfl38bF/4u545P/Ucu/wD0Ya/T9W3MK/Lz4zf8lZ8cf9hy7/8ARhrOZ1YT4mcov3R9KWkX7o+lLTPTluFFFFBIUUUUAFFFFABS0lFAEUsYm4YZGc0xbOMNkLg9qsUVLimUmV57NJsGQZOafHEI12oMelS0VHs0PmKklhEzbj/wKp4U8sY7dvpUlFNQSJYyZRJG6HJ3KRx7g19AfDv9o7R/BP7KfxD+F95pV/d6x4jvGmt7y08v7PGCsC/Pljz+59K8CorhxWDhirKS2KjJxIvKcPuaTcFAO5ccYHOMfSvoX9kn9pDQv2fdL+I1prOmahqB8RWK2ts2neXiFlEqfPvZRj95256V8/0UsRgoYmHJJaIFNxKgtz9nkU7g7PkDCkqNxIzyRnn1r6L+KH7RWi+Nv2QfAHwnttH1W11rw/fRXNxezLGLZ18u4TA2sTnMynkYwDXz/wA0c1jWy+nW5P7o4yerPoT4dftJ6F4T/ZB8a/Ce80jUp9a1yVpILqLy/IUP5XXLH+56VB8H/wBorRvAH7MHxD+GOoaTqF3q/iW5kntb61MYt4i0cQBbHuleBentSt8zbq5ZZLRcXHu7jVVn2L4X/a++Ffj74e+E9D+NHw/1PXNa8KRiOxvdOcbZQgG0Nhl449ew4qpD+3RYXn7Vmk/ETVvDeoW3hDQtKn0qw0u1aMzeWyuATvYD8jnnpXyJzRzULIcNzN9/uRbqvY+qPgN+2hp3wh+OnxI8T6loerX3hTxVdy30djb+X9oimFw0iFtzBcBXccHPI4rwL4veMbb4h/FjxZ4msoZba01XU7q8ihmxvRXlY4bBIzx61ynNFdOFyjD4Su69Ne81Zv0IlUk1yiNyMHpVZrFGbcRmrVFe3ZMhMgFmiDIGO1MNjHnI61aoqPZRHzFf7CrLQtmI2BFWKKpQitiWJ0OPaloorQQUUUUgCiiigAooooAKKKKACkf7v4j+dLR/9b+dJ7MD7k/Yhbb8MdS/7DU//pNZ0VH+xJ/yTPU/+w1P/wCk1nRVR2PIrfGz7flXFRN2qSRt1Qf4UGvUgb7zVE3epW+8fpUTd6OgPcqTVRm71emqhNRHYy6FNu9Z8n32+laEn3jVCQ4ZvpVGTKv8Vfl98aP+SueOf+w5d/8Aow1+nu7Mg+tfmH8av+SueOf+w5d/+jDWczswvxM5Jfuj6UtIv3R9KWmelLcKKKKCQooooAKKKKACiiigAooooAKKKKACiiigAooooAKKKKACiiigAooooAKKKKACiiigAooooAKKKKACiiigAooooAKKKKACiiigAooooAKKKKACkbt9aWj/AOt/Ok9gPt79iX/kmup/9hib/wBJrSim/sS/8kz1P/sNT/8ApNaUU4bHkVvjZ9v0z+KpG+9UX+FM16jZvu1RkOGqy33j9KqTU0NkUjZFUJqtzZ8s1Ul+6KGZMpyfeNZtx/FWlJ941mXRwT9aUdjFlK3/ANetfmH8Zf8AkrPjb/sN3n/o01+n/mYkX3yP0NfmJ8al2/F7x1/2Hbz/ANHPUzOzC/EzkV+6PpS0i/dH0paZ6Utwoooo21JCijmjmpUr6AFFFFWAUUUUgCimyNtXkhQ3y89Mngc9uSK9T+MH7M3jT4Iabb6h4lv9CRbiWNRaW+ppLd7ZFeRXMXULhcZ9WA71EpqLswPLqK09A8L6t4oufI0bSNQ1adThotPtZJ3VuoGEVuT69Kr6to994e1S403UrO50+/tztmtLyEwyxHqAVIB70Kdx20KlFFWtM0e/12+hs9MsrvUL2RsR29lC0sjH2UA1b01EVaK6rxZ8IfG3gGzTUPEvhLXdEsXYL9ov7CW3j3EEgZZQC2AT64Brk1yMKTyByT1PoajmW4DqKRjgdce9dZ4e+DvjnxhpMmqaD4Q17VtNj/1l5Z6fJJAuOclxR7RMDlKKdJFLbyvDPE8E8bFZI5FKsCOxU0xm281V9LgLRVzQ9B1PxZqUWmaRpt1q2oTH93a2cLyyP9FUE1r+MPhl4r+HM0C+JvDeraB9pG6D+1LOSAuB1xuUChO4HOUUU6KOSaRY4wWdjtCojOzE9AAAcmk5W3AbRXXa/wDBfx54V0T+2NX8GeINJ0lgCb680yeOKMEZBJKgYIFcguFwuQTjPysSPwzTTvsAtFIzBMEnAzzXV+G/hD448aaTPq3h7wn4g1rS4eWvLDT5pIlPpvX2zScrbhbU5WiiaN7eaW1lQwyxtseOQiJkPcPv+7z3r1Xxf+y74x8C/DYePL+90LUPDjXEVt5mlakl1JHJIu5VcDpwG/IVPtFdIbPKqKTdnaP9nJ/Mgfypa0EFFFFABRRRQAUUUUAFFFFABRRRQAUjfd/EfzpaKT2A+2/2KWx8MdS/7Dc//pNaUUz9if8A5J3qX/YXm/8ASa0opw2PIrfGz7kb71RfxVK33qa3amaIqP1aqk33qtTd/rVWSmimQTf6s1Tl+6KtTfdNVpO30pmMtijN1NZl13rQum25rNuBxn2oMWUYztk/OvzK+NLbvi343/7DV1/6Mav00H3z+NfmZ8av+St+OP8AsNXP/oxqzmdmD+I5Ffuj6UtIv3R9KWmem9wqW32GZBJu8vI3FACdvfAPtmoqms9Pm1a8t7SHb50siom5goyTjBz2pMxqySg23oe2/wDDM9zr2q+Hp/DuorqXhXV4ftA1WSJU+zKvMqyDuyc4ryXxlZ6TpvijULPQb6XU9Jt5DHFdSoEL44LYHY8/lX1Jofijwh8LdEsvhfqOp/aRqsWNa1KzkytlK+AipnjCk818yfEXwbcfD/xrqWh3FxFdvbP8l1AwMc8Z5R1x6jr710VacKcYuB8dk+KxNfEThiG+VfD5ruc6w3cdSSAPXr2969r+H/7Jnir4keFtP1/S/EHg+3sr2MyIuoa7FBOuCRhkNeJ7S2B7g8D05r2vwH8cPh94X8I2Gmax8EPD/irVLddsusahqVyktzyTnC+ma4pc9/d2PtfQq/FP9lvxV8I/CE3iPU9b8K6hZwyxxNDpOtx3E+XbAIReSM14/uYv8x3EdXUcM2SDj06dK9d+Jnxh8CeOPCc+k6H8HdA8E6jJJG6axp1/cSyxhWDEYfjBAxn6V5Ht/ebgNn+zgZwSSMnr6/nTje3vAVr7/Vj/AHv6GvqL/go0N37Sjg9Doel9v+mDV8vXn+p/4F/Q19Qf8FGP+TkH6g/2JpQyDg/6lu/biuep8RpHY8x+A/xi8Z/D3xJY6R4b8QXOiWGr6nai/itkUtc4kVcFhzjBPH0rov24GEf7W3xQxn/j9t+W6sfs0eTWP+zp8Ita+KHjC3vNJn0e3i0e9s7i7/tLUobRvLMm7cgb7wwv616T+3h8LdSs/i54w+IsN7o194b1rUYYLZrHVYp5vN+zrkeWnIH7s/N06DvQrJpg2fLyy7l/Ctfwn4z1/wACa1BrHhnVLrR9Yi3RxXdnII5F3gpwx6feFeufs9/s66P8cPA/jjUbjxpb6N4g0G0mvLLQwEea5SKJndyBzjIUfiK84+Efw7vPjFrw0TT9Q0zS7trV5oTql0tqkzgplFZuN53ZA9AfSrc+Z8omz69+Hei/FL4X/C/4i+JPjfr1/qngXVfDs9nZ2d9qn9r+deyKhilVVYmPAEgzjjdjvXws0jrId3Jx8zYPXPTn2xX2x8AfhJ4i/ZjuPGvi74oavo+jeFrnw9dWH9irq0d02oSyKFjAReRyM59sd6+UPhJ4U0rx58RtF0HX9ft/C2j3rMtzq1wAVtQqswAz3yFH4mk9BM5beX7EgBidrbexAG7tk4HHrX3/AOKPB/xa+M2l/B7X/gzq1/oHgy30Szs5bSK8axFjcxsftDtCxDTg8jI/vCvj79oL4Vp8E/jBr3gqO/Oq22l7HS8jRf30LxK+eO5VzX1F+0R8H/En7THirwb4x+F+t6Ld+D49GsLeBv7Uih/sZ4gRIJEPf5TRHVAtzwv9srxXo3jD9obxVqGhRslkvlW0rtbtAZbmNAszhWGSCw65rxLzNu1iu/b8236An+le9/t2eL9D8W/HTUrvw9fQ6wtjp1nYXd9bsjxXV1FFtfDDqM8fjVX4ofs86N4L/Zx8GfErRfGlr4jk1q4jsdQ02JFBsrmS3eby8jn5ApHP96q50tOoS3PW/wBl3whrej/sq+KvFfhDU7Dw74j1XWV0ifxZqFyLdNG06KHfPKXPI5KJxz89eVfH3wP8TtB8F+HtX8S+P1+I/gq5mZLDVbPWHvbaK6aMFo8SfMGKLkdsA12HwJuH+Ln7Kvi34N6bqllZeKjq1vrOm291dLb/ANpx5AkiVj/Fu2nHop9Kl+Imgt8Cf2OW+HPii/0+48Z654lTV00eyu0nbToBCBuYr3yQP+BU7gmfKbSbdter/so+KND8H/tE+CtW8RWkl5pkN6FKRQtKVkZSsb7Ap3YYqcfrWz+zL+z3oXx+tfGEN74wh0HXNLtDcadpv/LS+IR5Cx9vkP50z9iHxd4f8EftNeGdU8UXNvp+npHNCl5OcJb3DxSIkpORjnjPvWTbcrMtH1J4S8I/Fr4X/EL4k+Mvitrd5rPw0isbwXNjLfterdCY/uF+yhswdQc7RjbjvX52KyhvlRQNq4GDnGMgc+gIFfdvwP8Agz4u+Bvx21b4k/EHxHpen+BoobyS9vzqkUw1iOSNwkaorFhnIPPHy18e+GNJ0fxn8UNN0+81ODw5oWpakIjqEwDJaW7uxV+fbj8av4TN/EcfdOv2OfcoA7segGec/hmvtX9qvxl478E+LvhVp/w91XVdD8LHw5p0mj22kSukNzPIxEmdvUlj0PGM14F+0x8GbX4A/Eqbwzp+r/8ACR6d9ktry1vVVcSwypkYA6jjpXu3wT0X9otvh74et/C/jzSdL+Ht5bmQ31xqtm50yNyUcfvAXjOCflHpSTUtQucf/wAFBPCaeHPjrHqZs0sbzxBpFpqd9FGuAbpldZic85JQZp/g07f+Ccvig+vxAtx/5JRVyn7X/wASdK+InxaeHQb4apofh2xttBtNQDhhdiBCHlU55DOzc4rq/BX/ACji8Tf9lAi/9Ioqio7PQuOx8zRLtSP/AHRT6jg/1MP/AFzX+VSV1w2JluFFFFWSFFFFABRRRQAUUUUAFFFFABSP0H1paR+g+tJ7AfbH7Ev/ACT3Uv8AsLzf+k1nRSfsTnHw71P/ALC83/pNZ0U4bHkVvjZ9zN96mt2pzfeprdqrobIqSfx1VX7xq1J/HVVfvGktgZWuvvGqkv3fwq3dfeNVJfu/hRHYxlsZl10NUZ/ufhV666GqM/3PwqjFmePvn8a/Mz41f8lb8cf9hq5/9GNX6aJ/rPzr8yvjT/yVzx1/2G7n/wBGNWczswfxHJL90fSlpF+6PpS0z03uFL+OKSigiye6G/xfezTuaKKXUXLHsFFFFMrYOaKKKAGTAFQSAdp3DcARntwffFep/F79prxV8btLtbDxHbaO8drLHJFdW+lxwXOER4lRpV5ZcEnb3IB7V5eRupNu2olBSd2AmxJV5VaFgCsuxVBz26n0A+pxTuaKXIgO+8E/Gm5+HXgDxDoOh6JY2esa9HJZXniU7nuhYNgtax54VSVyW/2R6156kZRhtAWPaAF7dAOvfAA/OpKKPZq9wGsgcrnGQcrn1rpPhv4wsPAnjCw13U/Dlj4qis9zppuoSMtu0wH7tpAPvBWw231A9K52iqcUwNfxx401b4keMtW8Ua3P9q1bUpjPNMAVU5AG1VPRQFAFYvlp1brT6KIxtoBG0YZGHYggc8Zxx79cdK9F+I3xmm8ceDfDng/T9Ds/C3hbQ082HTdPZnW4umXE1zK7clyenoCa8+oqeRXuBH5P3c/dApWh3tlQCenzHin0VfL2A774d/Gqf4W+G/E1p4f0awt9f1uFrJ/E0rytc21o64lhjVvlXcQvzDnjHevPljVW3qmzIAEZ6Bccc9zwafzRzU8ivcBjwq20gKGzW54L1zTfDPiKx1LV/D9p4psLeTe2k3cjRxTtg7AxHYNtJHoKxqKfKmB0PxK+IWrfFvxrqPibXngk1G+cOUgBWKJFUIsaKeiKFAHrXONGnRlUL3xTqKOUCJUEKnd93sMKwPsQeCPavWPGn7TnjDx58O4/Al7b6NpvhtJ4rkwaTp0VsZHjXarSFeScFvbmvLCN1Jt20pRj1AFULj5dpxj8Mk/1paOaKq1tgCiiimAUUUUAFFFFABRRRQAUUUUAFI/QfWlpsnb60nsB9s/sTf8AJPdS/wCwvN/6TWdFL+xScfDrUv8AsLzf+k1nRThseRW+Nn3I33qa3anN96mt2quhsipJ/HVVfvGrUn8dVV+8aS2Bla6+8aqS/d/Crd1941Ul+7+FEdjGWxmXXQ1Rn+5+FXrroaoz/c/CqMWUE/1n41+ZHxm/5K145/7Dl3/6MNfpsPvGvzM+NX/JWvG3/Ybu/wD0YaymdmD+I5Ffuj6UtIv3R9KWq6HpvcKKKKCQooooAKKKKACiiigAooooAKKKKACiiigAooooAKKKKACiiigAooooAKKKKACiiigAooooAKKKKACiiilzK9mAUUUVQBRRRSAKKKKACiiigAooooAKa/QfWnU2Tt9aT2A+2/2Kf+Sd6l/2F5v/AEmtKKT9if8A5J3qX/YWm/8ASazopw2PEr/xGfcjfeprdqc33qa3aq6HUipJ/HVVfvGrUn8dVV+8aS2Bla6+8aqS/d/Crd1941Ul+7+FEdjGWxmXXQ1Rn+5+FXrroaoz/c/CqMWZ4+8a/Mz41f8AJWvG3/Ybu/8A0Ya/TMfeNfmZ8av+SteNv+w3d/8Aow1lM7MH8RyK/dH0paRfuj6UtV0PTe4UUVNZ2c2oXkFtBE00szrGsa9WJOAB75ND20JclFXk9CGitLxB4Z1LwvrVzpOqWdxY6hbECS3lGXXONoH14qTxN4S1fwTqQ0zXbGbTdS8pJjazrhkRhuU/Qg1Mb21MY16U2lGV7mTRSMSB0zTGmjQZM0KnphmC/wA6xnJpnQlfUkoqNZU8slZInPokgY/pUnUA+1awd0J6BRVzSNF1DxHqlrpelWk2oaldyCK3s7dN0k7noq8HB759q9R8cfsi/Fz4d+EbjxHr/gjUbHSbaMSXN15tuwgU95FWTcPTJXHIoc4xdmLqeRUV1Xwz+EPi74x6tJpngzQb7Xr2NfMkNuo8uJePmlkYqqjkc5PXpUvxM+C/jX4O6ha2njHQL7Q5rpPNt3lCOJ1Ugfu3QlWG4gfjU+0iNnIUm4rX1Vpv7DPjVv2eb7Xm8IeIj8Qjrsdta6SqoQLLyzIZQnXklBn396+b/Enw98SeEfFUnhbUtJu9L8RrLDbf2bOoWVZH2eX092z+FZSqa6CMXdupsjbVyfWvef2uvCvhz4V+JtD+HOgadaxX3hvS4F1jVkTE1/fyqJJix9FOB+VbH/BOtVn/AGsvCccoSSM2moFw6qwBW2kYHDcdQKj2krbmkdj5sjk3NgelS811fxa8fa98TPHF9q2vXUV5qi7rZZlt44/kRnCKdvIGO9fR/wCzR4b+C/xY0HX9A/4QHV5PEmleFrvVp9dvtck8nz4lUbY4o2B6uDzxxWkJu2pLWp8i80VBaytNGHc/OSTjP0z1Jb0qfmtou6Eworp/hb8OdQ+LHj7SPDGmt5Mt7MBLckErbwL80srEdAqBjn6V7T+1t8OfAPgvwr8LdW8Aae1vYa1YXnm3r3UkpvvIkijS4w3A3/MfwovqI+b6KG+6K6P4eeJvDfhPxImoeLPCi+M9FWGRJdLbUJrLJZSA2+L5j6bTx82ewocrAc5RX2L8H7r4H/FTRPHWt3XwMHhnR/Cmjvqd1qD+K7+5BmZisMHllh1PzZ/2Md6+OpJFlmLxxeQjjeIQWIjBJOPmJPQisuZtgFJuK9Bmo7pmjhZ12ll5Ctjax6YOfrn8K+tfHNn8LP2X7HwX4e1/4ZxfEPXdZ0a11jXNXvdQnjMKT5KpCi8ZCqT/AMBNNzHbQ+TwxbqMUV61+098I7H4QfE+az0aSeXw1q1jbavpLXDBmEEy7tm773ynA5ryPbuUDt9R/XrWkZaCHUV6L8M/iN8PPCelXdt41+Fg8fXEs6tDdHxBd6f5EeCCuyLrnj2r1z446P8ADG2/Zl8L+MtF+GUfgTxL4q1aSKwhbW767xZxcSS4l+X73lj1+b61EpWkUlc+XuaKQ43koPl5GeQMZ44P40khAX5iQPYZ+pP0GT+FN1E1oJ6DuabI2xSx6Dk19j/A39nTwhP8E/Ft5430wah41u/C114q063aRlGm2IXZbu2P4pcsw9kNfJfgnx3rXgHWYPE+iXUdrrdiss1vM8McyoxjYA4kBHQkcc81E5uwupk2863C7k+70qb/AICX+lfS/wC3hqTax4k+F2rSpElzqXw/0q9uGjhWJXmlacu21VA6rXBfsn2fhjxJ8ZNM8I+LtKtdR0nxTBNoqzzruNjPKuYbhP8AaDqqfSQ1mpuwzyX/AL6HsaStnxx4Zu/A3jnXfDWo7hqGk3s1lMH4ZniYIW/EBaxq6IO6uIKKKK0AKa/QfWnU2Tt9aT2A+2/2Kf8Aknepf9heb/0mtKKT9if/AJJ3qX/YWm/9JrOinDY8Sv8AxGfcjfeprdqc33qa3aq6HUipJ/HVVfvGrUn8dVV+8aS2Bla6+8aqS/d/Crd1941Ul+7+FEdjGWxmXXQ1Rn+5+FXrroaoz/c/CqMWZ4+8a/Mz41f8la8bf9hu7/8ARhr9Mx941+Znxq/5K142/wCw3d/+jDWUzswfxHIr90fSlpF+6PpS1XQ9N7hT45zbOJVwHUgqT2bPH60yjyhMyozKqsQCWbaOeMk+gzn8KWq1RjUipQkpbH2RovhPTvjRefDr4h3CobWG1aPxET032oyh/QV8w/FTxlL8QPiFrWvTvvkup2ZPTy84T9BXsOpeILH4PfAPVPDlp4r03Wtc1+dDJa6VN5kVpCFyST/ePANfOjKDK0gG0N0X27GuivUTSUfmfG5Hhaqr1Ks/hi7R9Br/AMIxuBZQRx6+9fbvwB+K2u6D8K/D9ja/tBeDfB0UMJA0fU9BW4u4Bubh38s18SUVxygpao+2PsD9qb4m6v4t+El/p978bvB3xAi+0wyf2LpOiC1upCG+8sgRcYye9fH8rK1wzKd4OTuHTn37n/Cjmjms4RkgPQ/2ePi1H8DfjF4b8bzaY+rwaXNI0tpGwV2R4XjYqx6EByR9K9n1L4deB/jJ4R+JHij4XfErxomoaXpcut6n4d8Tx4W5tj88irIv3lyFxnjivnf4c/ELWfhZ4usPE+gyww6pYs/lNcWyzx/PG0ZDKe2GNel+Ov2vvHHjTwfe+F4bbw34V0vUVWPUj4d0VLR70L/z0cdQT1HqB6VNSnJyA9n+HupeDvC37A5utebxZaWd94vlt9ZPgr7OLzIiZo1naVTiHavXruCV5p8Uvjt8Nte/Zvg+HnhSDx1qLabrS6jaar4va2ke3Ro5F8mN4mzglw2NoHy/SvPPhB+0H4y+Bs2ox+HNRtxo2ohft2j6lZJeWkxHQmNuAcZ+b0JHetH4tftK+LfjD4ftPD2oxaJpXh+C6S5i0zQNLjs4RLhkDll5JxIw2++e1Z+xkUj0fw5dajJ/wTj8U3B1G7E9v8QYCZ43ZSim2jXqO2WFeMfAnUktfjd4Dv8AWJmngTXrGSaaVy5bFxGA24++K0Pg9+0N41+DGn6lYaLfWkuj6kyvcaXqNlFdW5dVUB9sisM8Yz15Ncl458Wah468UX2vXRs7LUruRJGOm2y2sUTLyGEaAJx16Z4oVOSuhM9O/bctrmz/AGpPiRDdbhJ/arSJ6FGVGU/ka6T/AIJxybP2vvBy/wB+z1Nf/JOU/wBK5H9pD4raF8bG8J+J4EuYfGTaTHYeI0kh2xy3EACxzI3feh6e1H7IXxT0H4J/H3QPGXiQ3Y0uxt7qF/sMIllzLA8YwpIz9+k01GzKWx5PqUok1y/z/wA9pP0kevpf/gn5CG8YfFAjr/wgerf+hQ14R8TIfCMPiidfBOqanrGiyRiTz9XtUtp1kJYsgUMcj5v0r0nwD+2N8Q/hv4fs9G0JtEtrS1tzbKx0e3Mrxn7yuxBLDpx7D0rSCdiOp4FCxjtR5j+Xj+L04HSux8S/Cvxh4P8ACujeJtX8Pahpug6wpbT72ZMRz/KSMH14z9AaPid8RNY+LuvNrOvxWEd6kQgH9kWKWqtGCBghVHJBIJ9Ca9n+OHxetL39mfwF8LofFyeOb7TrmPVLnUIIdkGmoIGjhsIz/FsWVsn1UVfvRZZrfAKz8IQ/s9+KIbX4h+HvB/jvxPM2mXM2tTyK9tpirl1hKIxDO2D0xgNzXUftX/DvT7D9nL4QTJ400G9bQtKu4raC2eTdq4aeFS9tlRkKMZPrivjVoyygE5GOgAJPHvXVeMvih4h8aeF/Cugatc28ul+GraS005IrYI6RuyuSWHfKihxa1Q+hF4P+Ffi/4habrOo+HNA1DWbLRY/Ov5rcDbApzgueucA/ka5ZdsjbC2VAztbqowdw+tfRn7LPxis/gT4f8feILrxd/wAf9nJp0HgeGNpJtSuWjKxzOxUBUXccnPUrXztDCbeTdJ5U0qncckFc5zjB+8ASRWabkzM+nPHUK/Bz9iPwj4Zk/ceI/iPd/wBt6pu+99hhAWFPxYofwr5t0PRb/wAVarZaTp1pLf6peSrb21rCMvI5J+Uf57V0/wATPit4j+L2s2mqeJryK6ubSzi0+2jt4hFHBBEMKqqP5+1R/CYSW3xC8P3EPiqHwTLa3qXC6/OjOtntyS+0KcnGQAeOaqUZJgZPjz4f638PtYv/AA/4m0280fVoAgltrhf3qg4II9sCvoG4/aB+GPxX0bwZB8TPB3iHVfG2gWcOl2jeHrtEg1SKNv3Edwjg8EkZI5/WuD/at+Llr8dPjHfeItPlkuNNjt7ayhvJ4ws12sUYBnZVAADsWIyOlaXgX9rvxz4B8L6VpOn2/heRtLjEVlf3Wgwy3kABJykp5ByRzTUXbUq+ljs/+CgniA6n8UPDFjNax6fqth4V0+HULGNyyWkxDyGDlRyisufrXgmrfC3xX4d8H6X4t1DQb+y8NapIYrLUrhMRXD4Jwp+it+RrK8TeJdW8aeIr7X9avJNX1jUJzPc3Uw3NK5PTHQc46c17p8R/jBbRfsqeDfhZH4w/4Ta+jvo9XlkgtykGjwCGRFst55d90pJ7DbU/DJInY8U8GeDb/wCIfirSvDOlRGbUtWuY7OFR/tuFf/xwvXs37bvjCw1r4tQ+EdBlB8M+BrGDw7ZRr0V4gBOB77q8r+F/xM134Q+MLHxX4dNumtWYfyZLiISCPehXcAehwTz7muXvrq51K+nvrqX7TdXM7zzPgKHdmy3AI/XitpJvUtdzo/Avwn8VfE/+0n8LaJqGtHT4ftN79jg3LboQSN3/AAFTW7+zrYeD9S+MfhuPx3qNvpfhS3uDc3cl9uRJRECyRPgHhnCqf9nNehfsg/Fy0+AmreIPGWoeMv7LtorN7T/hFIIGln12UxuIQcDaqITktnOQo7188K7yXBlbhz8zYPOSQxB9ec8+1ZKMrkt3P0Z+E/hi08WeJ/jz4luPi14S8QzeIvDN7bH+zJ5ni0m1JxGSGAHkovyD3Ir87PEemx6JqmuadBf2+qW9tJcRR31rnyrhVZwHTPb/ABrr/h38W/EvwvtfEUGhXkdvF4g09tLv1nh8wNExyQPQ5C8/X1rE8Faf4dvvEFvb+LdRv9L8PSF47u4021S5nRShUFUZ1B+YjvnnpVSTvsB7x+2x934L/wDZMtC/9r1498C9Pu9W+OHw7srHIvJ9dskjPv8AaYyf0Br0T9q34peE/ij4i8GL4Ne/n0nw94VstA87ULdbd5HgeXnYGOMg1z37NPjzw58J/iVD428Rw3d7c6LbzT6Pp9pHv87UNu2EOf4UXczlvVB61jyuwXNr9tu9tdS/az+ItzZsHj/tF4nZem9I4Vb9RXivNXNb1i68Q65qGq30y3V5fTyXM06nh5HYs59+T19qp10UtIiCiiiugApr9B9adTZO31qXsB9t/sU/8k71L/sLzf8ApNaUUn7E/wDyTvUv+wtN/wCk1nRThseJX/iM+5G+9TW7U5vvU1u1V0OpFST+Oqq/eNWpP46qr940lsDK11941Ul+7+FW7r7xqpL938KI7GMtjMuuhqjP9z8KvXXQ1Rn+5+FUYszx941+Znxq/wCSteNv+w3d/wDow1+mY+8a/Mz41f8AJWvG3/Ybu/8A0YaymdmD+I5Ffuj6UtIv3R9KWq6HpvcKKKKNCdGtQo5oopJW2FGKirIKKKKYwooooAKKKKACjmiigAoooo1AOaZJGZFA980+ipcb7oBqLt4p3NFFNK2wARupNu2lop6gHNBG6iijS2oDWSnBdooopJW2AKbINwH1p1FPUBFXbS0UUABG6mtHup1FKyAOgxS0lFMBjDc1PC7RRRQAUjLu4paKAGrHt5pWXfxS0UaW1AOgxRRRSStogCiiimAU2Tt9adTZO31pPYD7a/Yn/wCSd6l/2Fpv/Sazoo/Yn/5J3qX/AGFpv/Sazopw2PEr/wARn3I33qa3anN96mt2quh1IqSfx1VX7xq1J/HVVfvGktgZWuvvGqkv3fwq3dfeNVJfu/hRHYxlsZl10NUZ/ufhV666GqM/3PwqjFmePvGvzM+NX/JWvG3/AGG7v/0Ya/TMfeNfmZ8av+SteNv+w3d/+jDWUzswfxHIr90fSlpF+6PpS1XQ9N7hRRRQSFFFFABRRQW20AFFAbdRQAUUUUAFFFFGgBRRzSMxXms/aK9gFopqybuKdWnoAUUUUAFFBbbQG3VLkkAUUUUudAFFFHNNST0AKKKKsAooopAFFBYr0oDBvrQAUUUUAFFFFABRRzRUuSQBRRRS50AUUUU1K+gBRRRVgFNfoPrTqa/QfWpewH23+xT/AMk71L/sLzf+k1pRR+xT/wAk71L/ALC83/pNaUU4bHiV/wCIz7jb71NbtTm+9TW7VXQ6kVJP46qr941ak/jqqv3jSWwMrXX3jVSX7v4VbuvvGqkv3fwojsYy2My66GqM/wBz8KvXXQ1Rn+5+FUYszx941+Znxq/5K142/wCw3d/+jDX6Zj7xr8zPjV/yVrxt/wBhu7/9GGspnZg/iORX7o+lLSL90fSlquh6b3Cg57DNFLCoYkFVbJxtcZQjHIb2xmplK0WT1G/N3GKUZ9M194/tDfEPwF+zv8aNN8G6L8H/AAfqukXdpY3Wuy6jZeZO/nY4iP8ACcEtn2NeZeKPgb4f+Hf/AAUM8PfD+1s477wldazYvFp16oli8i4Ak8s5/hBbp6gVye1Zdz5Z+bd0xiup+Ffg6w+IXjzStA1bxDZ+E9OvnkSbWr//AFNoBE7hm+ZepUL1/ir6I+MPx08DfCz4keMvAHhn4NeELnwzY3t5ZT3Wo2rPfTzAuDIj/wAIRiMCuM/Yj1bR9Y+Nmg+DvEXgfw74qsPEd8kVxca/Z/aZrZVSQgRFuByBj6Ue0dgPE/E+mW+i+J9Y0uyu4NTt7G8lt0vrb/VXKqxxInJ+U5zWZtYfw10HxMs4tK+LHjeytbVbWzt9dvYIbW3jUIsazthQnpgflX2V8V/H3gT4FfGjwZ4S0n4R+DtVtdb03SZ9Zub+1Mzt5yAEwjoh5zn2pe0aQXPhQuUZQYwxdgiqXC5Y8AZPvXZfFP4V6/8AB/xJDoXiOKGPUXsre+xbziVQkyllBI74Fem/GpNI/Zd/ak8c6XpPhLQfFWiRXD29tpPiazNza2qSrHKHiAZdrp0DdgWHevYv29vjMnh/4rXfh0/DnwTqpuNCswddutLd7+HzLcgCNxLwqh8D8KaqO+pLPiIfdoOOFb7rcH1x3FNVt23HTaOoPoB3J9KerYdATtBdf/Qgf5iultShdCPQ/BPwhfxP8KfF/j/U9Vi0PQ9FkjsYBPB5pv75+kEY3Lj5ATn/AGfeuX8B6T4f8ReJIrTxL4g/4RLRnEjXGqfY5LsQlRzmONs9QOpxXv8A8aEXwt+xD8BtEs1/0fXL7VtcvD/08RyCJf8Ax2Zq+WNQj8yxlP8Asj+YrmWiKR7L+0N8Cbf4HzeEpLLxHB4m0zxHpEOr2d3DpzWP7uQnH7tmJ5wDmvJOSuQMmvqP9tVjH8PfgCQM48BaXx/39rpf2YPgfbWn7PN98TbPwhoPjvxhc6mNN0uw8S3kMVhZoqBmlYSyIrkEAbc5+cnHBw1UdrstHxuue60Nv/u8V9hftK/DG2vv2fbLxxrvhfwr4G+ItprS2V1ZeEb2A2t5aukh3eRE7qHDKnJ7buea1Pjh4+8F/s16l8LIdC+Evg3VtQ1vwnp1/q11qloZTJvQgmJQdoY7Sd2M8Y70Or2E2fE0kuEYsp2oCzBc5IA5xj25/CvS/id8Hbn4WeE/A+oavqIOueKLA6sdHFsQ1lasQIWeQsctIMnGOx9K9L/aK+EfhzwX+2XF4R0axSx8O3+qaU6adF9yNbkwPIgHYfvP0rK/by1SfUv2ovHFnJ+6tNIkt9LskQ4WOCK3iCg1nztsn4jwTntRlhjtyPm9Of19Pxr1f4G2+geOLfUfBGsafbJdakd2m60sR8+3nX7qEjqhG7Pvir3xy8O6B8LdJsPA9lp9vd+IY8Xer6vPEVlMhBCxRk/wYOT7gV3/AFdxh7R7Hz39rQji/qco+/8Ap3Oc+Dvwef4z/wDCV2Gl6jHa+ItF0qTUrLS5IWc6mqEF41c8BgpY7fY+ledK6uzBVZApwFcYPToR7HIr2n9ijVrjR/2qvhrJbvsEmrLaSq38UcqPEw/J64r43aDF4Y+N3xG0u2/497TxJqFvEPSNJiFH6muOL95Hv+ZxtIxYA7RmlzjHOOQMg88nHHqa91+AH7N+pfEa88M+KLXxX4R061j1uDzdN1TWxb3rCOVSVWEpySM966ak7IpHhEbZHTBp3NfW/wC2l+zddaZ8TPiP46s/E3gtNNS5Fx/Ydvq4GoICFUKIAoyxyTn2r5H4U4U579OPp7fSppy5lcJbm74F0XR/EHiaysNe19fDGkyufP1VrN7v7OACciNGUk8Y645r0L49fAaw+D+jeCtZ0rxXF4r0rxZZz3trcx6W9gdiOq5KM7dd3pXjs2dvHv8AyNfTn7VEhi+Af7NjHOBoF8cDvieI1nUk1Ik+ZedowM0IWYbtuK+sP2OvgppuufCvxz8R7vwvpfjnWtLvItM0bQdfuI4bDzSqFpZC7qG2gn5c/wAXtXUfH34WS+Kv2dPE3i7xV4Q8H+BviL4euoZrWbwfd25j1K0LhSskUcrZKkrg47Vl7RlJnxO7FRwM0zfyN+FTPORnjucd8dfwr7Q+I/i7wb+z78J/gfqel/Crwj4g8TeIPCdre391rliZomQIgI8voJPm4f03DvXm/wC2n8N/DnhT4+aZF4c0+LR9G8QaFY6q2n2y7ILZrhZDII17A7TTVV7DOB8afB+bwD8L/B3irV9RW31fxS0s9loZtsSfYkyPtLSf7TFBt989q83Eh2rkYr6Z/wCCi3/Eq/aLtfDMC7NP8O+H9P0uzHpGIN+PxLiuK+AvhzR/H/hfxx4VmsLc61JYfb9Ku2TE6yQrueIH+6Rk/wDARW1K9RuJwY3ErB0vayV0ePbiy8LuNegfBD4St8a/F114Zt9Yh0zW30+a502CaEyfbZ48N5CgMuCU8xs/7BrqYPCOneB/2edX8RaxZW8+razfDT9Na6XcYY4wGkkT/azgf8CNcd8BfEU/hP49/D7V7Mf6Rb67bMiMMblaVExj3DGqqQ9mjDA4yOM55QWidrnDXkctjcTW8sflTRNtkjfOVIJB5JOBketej/8ACm5734HD4kaXfjULSw1I6ZrGn+T5cunO/MUn3juRsHnHUitr9s3w3beFf2pPiDp9kix2Cam86xjszrG7fqa7z9iu2TxT8O/2ivC9/wDNplz4PfUPL9JrYZQ/+PH865uZrU9ax8yFdp2sNsgHIHTqcn9BSUOWa5umJzulYj88n+Yo5rshsS9Apr9B9adTX6D61T2Efbf7FP8AyTvUv+wvN/6TWlFH7FP/ACTvUv8AsLzf+k1pRThseJX/AIjPuNvvU1u1Ob71NbtVdDqRUk/jqqv3jVqT+Oqq/eNJbAytdfeNVJfu/hVu6+8aqS/d/CiOxjLYzLroaoz/AHPwq9ddDVGf7n4VRizPH3jX5mfGr/krXjb/ALDd3/6MNfpmPvGvzM+NX/JWvG3/AGG7v/0YaymdmD+I5Ffuj6UtIv3R9KWq6HpvcVetOgYLJlgrAbiQ2MY2nPX2yfwplKCV5BKn+8Oq+hA6HnHWlKLcWSfoX+1pd/A5fj9YX3j2XxRZ67othYm4t9LtUkt9WjESvEOemMdfavmfVf2krLxh+2Zpfxg1azu4NKt9YtboWcaCS4itISoQY6BsKP1ryvx14+8QfErxBJrviXVJ9Z1eSKO3NzKipiKJQsa4XjpXPbAvP8VcqpPqB13xe8VWnjr4teNPElgsy2Osazd6hbiZQsgjkmcqHx/FTvg38RG+EnxQ8MeM1tmvRol+l41rG4V5lGQyrkjJwTx7VyHNFbezVrAex/HzWPhJ4svtV8VeAJ/Fa6/rmqy6hdaXq9vbfZoElVmk8tklLl94TAIxgt7U/wCPfxh0L4l/HLwx4r0qC+TSLDTdJs51uYFWTfagCTYNx4rxmikqSQHp/wC1h8TdJ+Mnx68S+M/D8V1/ZOoTQzW/2xNjFhBEp5HbKd69P+OnxV+DXx6jh8U6jJ408OeOY9Gt7CSzt7S2msbmeGLYhLGQMF69q+YaOafskAMW3gOPmA5wf4sDPc4/OjPzx+m9cn0Gef0opV5OM4q+WysB9K6dLJ8ZP2HRo1rmbxJ8Ndakvnt1zvOl3Jbcy47iTyTXy/cKrwtEygxspUMuMYJOW9e/NWGkkjjaMHIY4oWP5RnqOKy9muoH0z4k+LXwo+NXwt8D6R44HivQvFPhTSBo8F1o9vDNaXUaZMIcM/HOOcfzrD+Ffxe8Can8GdT+EHxQstZHhyTUV1rTNX0hI3nsbny9nzxHClSruTz1xXge0r0OKMt/epexQz1H4jaP8FdD8M2kHw91XxZ4i8SG9WSbUNbtYbW1W3CtuRY0YtvL+WQTxgNU/wC1R8WtF+MGq+Ap/D9vf/ZNE8J6fod2biL5jLB5pfy/UYkNeT89yG+tG0noFH0o9lFCPbP2pvjppfxS+PUvjrwrHdJEkNj9nF3HskWaCJVyB/vRj866T9ty0t/GPiLwz8W9GiEmh+PNIhvGkQYCX8SrFcofqQPyr5s2kNycU5ZHb5ScrUulroM9X+FnxF8P/C3wnqmp29vNeeO7sfZbKR0xBYxMMO6n+9jgezGpfHvxW0v4peAdOOtpPF470lltEvViXy72052o5HO4ZGPYGvJeaOe1daqT5eToeI8pous8T9u+/wCh9B/sQ6Lb2PxeufiFrTGDwr4AsZdevZnGULrGyQxBv7xd1OP9k14Z4p8RXPjLxl4i8RXP+v1jUbjUH3dQZZC38sVno8sMciq7IrffC/xL1x+YH5UrMZGLk5Zhkg9R6Vhya3R7XoJtLECrnhvVY/DPifRtZlia4XTb+3vPs6ybDL5civtz77ap0EButaOKegHY/G/4hp8Yvi74p8aw2k2nxaze/aks5pfMMQKgEZ98Vxwyck0BQvSiiMeVWQAQTjHX/Of0r6Ut/jB8LPit8EfBfhP4ir4n0PX/AAVDcwWWoaRBBNBcW8rA7WWR15JC9OeDx6fNdLlh904NRKCk7sD3L4FfGXwdo/gnxx8MfiJYatdeAPEtwl6l1pflG6s542G19h+XGAMqCTkisH4meHfgVo/gO5i8Eax4z8UeL7iVTb3OoW0NpaQIW53qvLN90fQmvKix/vc0nLdTmp9lED2L49/FrRPiZ4N+EGl6NDeJceFfDEWk3y3UCr++Bz8nqP8A61P/AGofjPpPxi8Z+HNW8Nx3UUOl+G7DSfNuEAIu7fzQduO25lrxrbtobpzn8KPZRtoM+lv2wph8UvD/AMNPjFpyebaa1o0GjavKvSHUrZSpjPuV3H/gNeSfAjUNU0v4reHbrSI2lvY7yPbGozvBYAg+2DXBt5rR7GkZ4xztrqPBfxK8RfDtr5vDur3GmG+jEdwYQN2B256dqun+7kn0R52YUZ4jDTpQV3JW1PUf2uPFlrqPjSLw5piLBpmgxtax2qn5ElLl5Wx67m/Wsv8AZC8ER+Jvjv4d1e/Ij8OeFj/wkWs3Mn3Ira1ZXJP1fy1/4FXkF5dXV9ez3d1cG5mnbe8jEsWPqT0zTFkkiDeW5jJGCR6VpWk6rbZlleDWX4WNC97I6r4y+PZfih8V/Fni6Rvm1XUZ7uId0jLny1b6Kq/nXtPwfmPwU/ZZ+KHiy5/can47MfhrQIn+9NHH81zIPYEgfjXzV5f3SzsT1JNPZnZUDHKxjatYezWx6pGq7WIX7pAP6YH/AKCadRRW+wBTX6D606mv0H1pPYD7b/Yp/wCSd6l/2F5v/Sa0oo/Yp/5J3qX/AGF5v/Sa0opw2PEr/wARn3G33qa3anN96mt2quh1IqSfx1VX7xq1J/HVVfvGktgZWuvvGqkv3fwq3dfeNVJfu/hRHYxlsZl10NUZ/ufhV666GqM/3PwqjFmePvGvzM+NX/JWvG3/AGG7v/0Ya/TMfeNfmZ8av+SteNv+w3d/+jDWUzswfxHIr90fSlpF+6PpS1XQ9N7hRRRQSFFFFABRRRQAUUUUAFFFFABRRRQAUUUUAFFFFABRRRQAUUUUAFFFFABRRRQAUUUUAFFFFABRRRQAUUUUAFFFFABRRRQAUUUUAFFFFABRRRQAU1+g+tOpsnb60nsB9t/sU/8AJO9S/wCwvN/6TWlFJ+xP/wAk71L/ALC03/pNZ0U4bHiV/wCIz7kb71NbtTm+9TW7VXQ6kVJP46qr941ak/jqqv3jSWwMrXX3jVSX7v4VbuvvGqkv3fwojsYy2My66GqM/wBz8KvXXQ1Rn+5+FUYszx941+Znxq/5K142/wCw3d/+jDX6Zj7xr8zPjV/yVrxt/wBhu7/9GGspnZg/iORX7o+lLSL90fSlquh6b3CiiprW0lvZ1ihikmkPRI1ZmP5VMnpoZylyrmZDRSyAxsY33JLk7o+QVx6jrmtSx8H6zq00MVjpt1PcTRtKsUUTEuq9SPwrBObukZSrU4JNytcyqKCTHlWRkK8ANkHHoc96Yz8VUZ6amsWnqh9FIrZpa1Ui20twoo5op8y6iCiikZtoqXLTQPUWir9v4c1LUdKvtRtbOW6stP2faZ4/ux7vWk0Pw7qXijUk03SbOfUb8kiO3tYnkZ8ey81n77MvbU0m27WKNFavifwVrvgi6W31zS7zS7l0DrHewPEWB6nB7Vc8L/DPxN41tZ7nQNB1LVrWHh5bK2eRA3XHHfGefalapfUz+s0ow9o5e6c9RT7i3ezupoZFZJY22OsiFXDDqGB7im1sua2pvGSkuaOzEoq1o+i3viLVINO0+1mvbyckRwQLuZiAT/IGq0kclvK8EqlJUOCjDBUjgg++al3Uri54c3JfUSijJHbNG7PbFPnRYUUUVV9Li5ktwopG7Z6Z6jqPpV+38P39/pd3qcFlcT2NmQlzNGmI4sngE+tRzXZEqkIrmbsUaKTeMADnkjcOhxRvp3szT0FooDbqKu+lwCijOO2aTcT2xUqSAWijmk59M0+ZBohaKVmKryMU3duo5kTGSlqhaKTcVo3bqXMixaKOaOanmuyeawUUc0VoMKbJ2+tOpsnb60nsB9tfsT/8k71L/sLTf+k1nRR+xP8A8k71L/sLTf8ApNZ0U4bHiV/4jPuRvvU1u1Ob71NbtVdDqRUk/jqqv3jVqT+Oqq/eNJbAytdfeNVJfu/hVu6+8aqS/d/CiOxjLYzLroaoz/c/Cr110NUZ/ufhVGLM8feNfmZ8av8AkrXjb/sN3f8A6MNfpmPvGvzM+NX/ACVrxt/2G7v/ANGGspnZg/iORX7o+lLSL90fSlquh6b3FXrXof7PGtf2B8avB143+rGpRRuPVWO3+ted1oeG77+y9csbzcEMFwkoY9ipB/pTj8aPPx0efC1I90z3bxh+zjNqE3xM8RxXgt10rWLhILPy/wDXoGJLZ9tw/OvYdFVbT4reDPDAUKNN8HCMGVjiIyQOxJA7fNWr4w8XWlr8UvCvht5F+z+Ioby5uR/ea7QKP1ArjdJ1pNU/bF8Q24cP9l0ye0UDt5cBTH/jteq40oO8D8adbG46ny1k1aLa/I8s1T4D6Hrmh+ItR8N+M49X1jR4XuruwawZF8pcbish7glR+NcZ8M/Avg/xFY3d14i8Y/2CY5fJjsYLF7ueQBdytjoAM9feu2/ZtvE+1fFESsAH8MX33u4yAR+VdV8KbPUo/gibv4c2FjfeMn1OVNS8yJJLmG3CjYAH4C52nI5ziuVQp1Gm1Y+sjjMTh6cqMpt25bPa10eU/Ez4N2/gTS9J17T9bj17w1qkzwpfeQYniZcblaI9Tg5/CvYW8B/D5v2b7aGTxdHHpra35h1v+xmLtJ5En7raOcYJOf8AZpf2mF1aX9n3w2PEOoQ3+uW+tPHdCIoTCWjLbCq9D8v6Vy/gXwve/FD9lt/DehL9s1i119b17NSPMZPIZOh7ZdafLCnUklroc31rEYvC0q1Wo42na67Hg/iOzsdP1q7ttM1H+19OR/3F75Bg81cDnYayGYqcgZ5AxjI5OK1dc0W98MatcaRqNu1re2rFJIZMbkx24qg5+UgjII5/LP8ASvKmm5czVkfpEH+6VnfTc9B8afCa58O+F/CWrWV3/a1v4htfPWOGEgwyB9jRgjvzn8Ki8N/Cm61TwL4x8S3N8mnp4cEAFtNGxaeSR9u08jBwG/Kvdvgn4gsZvgkdav5E8/wVd3csSt3aWE+Xj38zZTP2iNcsrX4L2eoWDxlfHGqrq0qxddqW8YZT/wBtJSfwr0vYwjH2ifQ+Djm2Ndd4Xl15rX/ryOH8J+Cy3wF8Wan4f8e3EqfZYZtY0Iaa0SZMmEXeWO7jNeF2erXOlzfarK5ktLmHGxo2KNnPt2xmveP2a7dPEfw/+IfhGC4jXV9SsIWtUmlEfm7JBkKT1OWHH1rxjxp4H1bwDqkuk63avZ3xCOYXIZmGTggj3xWFVJRjNHsYGt+/xFCtvfTzVj2X9qeaW50X4X3k7vLPN4Yt3eWTJydz5OTWR+yT4gv7X42+E9MiurhNPuLrMlsrsUY7Tzg8Zrs/il4H1T4qfDH4e634bjXVbTSvD0dtfrC6lrZ0ZshgOe9eXfs661a+FPjl4RvdQmW3tre72yyOwXbkFe/uRWkpNV1J9Tiw6hPKqlFr3o30OZ+IA2+PvEAxz9unyD1H7xsCsKvUvjl8JfEvgfXtS13UdP2aLf6hILe+WQMspcs6jj/ZVj+FeWht2awkmpO59Pls1PDU2n0PX/2Sc/8ADQPhvBAbzXAyMjmCQf1rqNc+AHh/xZ4h17T/AA74xjvfFkLS3UulPZbFO0lmVX7tjt9a5b9kWRYvj94ZZ5FiXzpR5jdFzDIM16t8Kfhfq/w5+NmqePNbeOHw3ax3k5vjLhHzG4Cj35/Q120eV09V1PjM0rToZjOcKnK+VW83c8X+HHwTbxZp+p61rupL4d8Pae6rPdTRmVmdjwiIOpwGP4GpviB8G7HR/CJ8XeGNeXxL4eE4tLiRrU28sMhBKgqe2FPNewfBfxjP4g+GPiTRfD0emXHiOO+N9DY6pDHMtxAwblFk4LZZMd8ZrmPi1qXxRtfhvc23i7SNH0LQrm4hV4bexgtLiVwcrhI+SODz06Vm40o07oMPj8fWxco1JctpWt3XofOfRmALH1z7dK3/AALp2ja14khtNe1n+wtOZWLXf2VrjnHC7R0z6/41zyoW2kjnaNw7gkDg1JH+7lRsZAOcZxnjNcVNWtc+7rxc6Mkn0Pqf48eCPAR0/wAMSXfi/wDsC4g0WBbaCDRZJPtQw2HLblwT6+9YvwB0O01j9n/4j2d3qUOnWEt5ZtPeTIWMSq5IYJknJ9PepvjB8N9b+Jng7wR4h8NxR61p9p4fghuXtpUY28kZYsGHXvXP/C2ZIv2Y/ifF5mGNxaZU4yPmbPSvR91Vm7aWPzWnGr/ZkaftG5KSv5amB8S/g9pnh3wXaeK/C3iP/hJNFmuDZzf6KYGhl+dh8p7YDH8q2dJ+Auk6ToWkX3jXxbF4autWiSaz0yGya7kaM8CSRx90EE8Vc0u5it/2R7wsRIT4kjRcnoTHJyPft+NeyeJPEXi3xr4Z8Map8PNL0TxDbDToYJ4LrT4Lq4tZUBDDL9ASOtJU6bbkuxtUzHHUlGg5e7zSXM9Omh8qfFT4ZXXwy1yO0ku01CxuoFubO+jUotxExOG2noRjH41xmQMZBPHavVP2gNW8Z32uabbeN4NLtNQtbJRBbabFDF5MbEkh1j75AryjGQmTtGRz+NcVTRuysfd5fOrUwkXXd5d0ek/CL4Pr8QLXXNb1bWU8O+HdF2/a9RkiMpBb7qqo6sf6Gr3xC+DNhoXguPxh4T8RDxR4dFyLa4k+ymCWCU5OGU9iB1+ldf8AA+xPxA+BvxB8E2EsR1+4vYb2C2LBWnROCBnv84/Kr+ueHLj4P/s561oviJYrHWtf1JHtdMZw0iqpyX47ZUD8RXTGnDkVl0Pkq2YYmOLaU3dSSUe67nk/xA+Fs/gTQPB9+1+t6/iDTftwjSHHkfMQFzWp4m+Emn+BPGXh/Sdd8QrZ6fqFhDey6ktp5xthIpOCvp716t40+HuqfFz4W/Cy/wDDyx3sWl6V9kv2WUD7KwlLEtntjP51yX7X8CWvjzQIoJkmVdDtI90eCj4BAwR+NKpTjGPNbsXRzOriK0MNz6vmv8jt/jJ8Pfh+nhXwStx4th0OODSMW08Wjs5v1JOHKhhjPrmvIfhD8F4PijZ+Jb2TXYtGsdDSOVrmaAssiMSN23ORwOma9F+Ifw/1r4wfDH4can4UtDrcel6L9jvBbvloGVyckemB+tRfsv6Dca14B+K+jo6wXc1jbRKshAJcFgV5rolGM6qstLHnUMRVwWWTkqz5lLW/RXON8bfBTTNP8DzeKvB/iZfFOkWk6wXcclq0EkBbODyxyOP1rmfG/wAMJvA/g/wZrb3q3ba/bSXX2cJjycSBQM169D4Uv/gr8AfGFt4oCWN7rtzbwWNi8gaSTaSfMAH8PHX3FWvEngDVfi98FvhlceHVjvf7Ls5re+ZZVHkHzd2Wz0GB+orKdGD2VjopZpiKbXNO8OZrm7qx5b4u+EVh4B8SeFdK1rxIttYa1pUOpS362Zma1Em47do69P0r2P4tfD/4fr4E+Hy3Xi9dHt4rG4Ntfpoxdr/MjYYqGBT6muF/bDRbfxf4JtknSX7P4Ws4mePEiFg8pIDdOorofHXw/wBZ+LPwb+Fs3ha3GrvpGnzw38NrKDJbnzXOSo7c9fcVC5Ie0SRVSpXr/Va8qrSbdz5qmjijuJEhlaWNGKqxUruGeDgk4zTKHt5LO4mtZUaKaBykiP1BzRXNF3P0KHwp3uFNk7fWnU2Tt9ab2KPtr9if/knepf8AYWm/9JrOij9if/knepf9hab/ANJrOinDY8Sv/EZ9yN96mt2pzfeprdqrodSKkn8dVV+8atSfx1VX7xpLYGVrr7xqpL938Kt3X3jVSX7v4UR2MZbGZddDVGf7n4VeuuhqjP8Ac/CqMWZ4+8a/Mz41f8la8bf9hu7/APRhr9Mf4x9a/M740f8AJWPG/wD2G7v/ANGGspnZg/iORX7o+lLSL90fSlquh6b3Cg57EqexFFFBO6sx0kkssiyGZjIgwG/woaZ2mkmEjs8g+Z26/Sm0Uamfsqf8osbmPO2VsHg1Ja3VxZSFra4mjJGCYzg1FRSsJ0ab0cdGOuJpZ8q0rurHc29s80lvLNa/6mUovfFJRT1H7Gly8nLoPkcytvYszdMmmcjBAzjrRS0baj5VFcvQPMlWF4xMyxPyQvWmEM6opkd0UfKGo/ipSxXnGcVm5dzNeybsLDJJDJkcY6Gluna6YNIfM7Zr0T4V/Bif4g6brGs3Ws23h/R9JZftN7dI7qCxGBhOc4z7cVyXizR7LQdeu7DTtTh1qzhf93fW6FUcH681o4yW+xx0sTh61eUIfEtzKWaaJDHHLiM9RUKxhG3ITn+8KczFQSBmtrwN4H1b4j+JrLQdFhEmoXXmNGC237kbOT+SmlL3ml1OySpUYynJJLqZMkzy43lifemc06WAwzPbMAJEyCgOfmGd2fbIrr/if8Mbr4Y3WhR3F5FqA1TTIdRWSL/lkJBnZ+n6VN31MFiMPTlCEX8Rx6StC29WZSO6nBqxJqF1NF5D3DvEOqs2fxqmZGXLKTlRnA6njoPeur8WeB4fC/h3w1qSazZalLrFu07Wtq+ZLLBA2Sj+8c5/ClcdZUfax59WzloZJLeVXWRl2H5GQ4INWbzULvUHEl1PLcOBgNM2TVUZ7DNOGe4xQpfZNuSi5JtLmDmkZd4xz+FLSMSBwCfpV2sb7LUmhvLiGMxR3DCIjlajSaRVZFmYBuq+tR7z3Vh9aN471KMY06NtEh6mRYygZtuclT/Op7W+vbPP2e7kiXGD5ZwfpVXzAvSnRqblggBYk8Bev/16albQVSFDl99Kw6WRriYySOzyYwWZsmiuv+KXwzuvhVr1tpV1ex6g01lBeLNGmzaJV3bSPUYrjVbNKSs7MmhWpVKadN6D4ZpreUPG5jI6MpwaW8u7i+fzJp5JZB/z1bJxTeabISoBG4cj7o59OPSjmfLoaewpuXPy3Zat9Qu7O3MMFxNHC/LqpwKhZjPIJZHZ2UY+Zs8V7X4B/ZSu/FXhvR9Y1T4leAvBMWtJ5mn2Ou6tsvJ8vtAC+5xXI+PvgP4u+G/xai+HWsJZ/wDCQSywxQTR3GbW4WUgJIW7DB/WsvaRfxBGhTi+ZR1OCjkljDJDI0aP1K/yP44r0P4c/Fa28C+CPHugyWUs1xr9rbwW80RwIHjlYsTXp0f7CevatHqFj4e+JHw/8SeKdPgknufDek6t512gi/1i7e2OPxxXzRGrRsVdSkm5gysMnIOCM+xq41FdcrOevg6WIjyyjoWdQvLjVJC09w075+VpGzn2p0N9c2tq0CXMsMR+8sZxzUFFa8zlqzVYejGKioqyHSEysrMWZsYDM2TilSRo4yivsplFTY0dODSTQBdvXk+tFFFNGi02CmydvrTqbJ2+tD2A+2v2J/8Aknepf9hab/0ms6KP2KP+Sd6j/wBheb/0ms6KcNjxK/8AEZ9yN96mt2pzfeprdqrodSKkn8dVV+8atSfxfWqw/wBYaS2EyrdfeNVJfu/hVu6+8aqydvpRHYznsZd10NUZ/ufhWjdLuzWbcNxj2qjBlBV3Oa/Mv40N/wAXY8bj/qOXf/ow1+m0X+tr8yPjR/yVzxz/ANhy7/8ARhrOZ14PdnJr90fSlpF+6PpS0z1JbhRRRQSFFFFABRRRQAUUUUAFNkYqoIyec4HfHOKdTZPu/rWM7il8Oh7/APD/AEbw58Pfghd/EPWtBtfEmoXGpNplpa3+fKj2ruLnHp0/4FSfFLQfDXib4PaH8R9D0C38PXR1CTTL/T7Pd5DMFLq/5KR+NZnw++IHhXXPhhffD7xlPe6dY/bf7RstQtrfztkhwCrL/dxk59QKj+LHxE8NR/DHSPh34Ne5vNNtLt7+51K7j8priUgqNqf3cMf0ru9yMbyelj889liXimmpc3NvrblPUPh/8QtCm/Z08S6uPBGhww2N5awzacokKXBJI3Ngjnmvl/xTrVrr+uXN5Z6VZ6LBKQVsrFWEUYAAxyx5rufCHxC03R/gL4q8I3BYaxqeo2s9soTCbEfJOfXOK8vRejHq3P8AIms6lVzUUj3cpwP1evWnK+stBSMqQSR6bcZ/Wvo39jfxVZL8RNJ8PnQdMe+mW6kTV5BIbhNsLkqfmIwQCOAO3NfOg713PwJ+IFv8MPihpXiG7tpLu0txIk0cQBba6FCQD/vVENKqbO/OMOsVg507a26Fr4ofELS/E14bGx8HaNoU0N40j3lisgnlGGGxtzkY5z06gV798XPHnhzwXd+AYdW8JWPiO4utBsy0t85O1CGBUAd+R+Rr59+J2n+Ao8aj4R1zVNQv5rkyTWt9p4hjjXDE4kDnJDFRjHcntWn8ePiLpfj7VfBl5pfneXpWi2lndeYmD5kZO7b6/e6VuqihzM+XngPbqhaLSin3vexN8efC2lfCn42XtvYadBPpCtFdf2bPv8kLIiv5Zx74/Ktv9ofS9Ai8A/DjxJo3h6w8N3GtWVxPPDp2/wAsssiAde+Ca5P9pDx9pfxO+I91rOkCb7BJbW8P75djbkjVTx6ZFddD428A/ED4U+GfDni281XRNX8PRzQQ3FnYi4jmR/mHyll/iC81PuylJLZnZy16VPD1WpO2+/4h+y/4V0LxBaeKrqfR7HxL4ltbaP8AsnSdQYCORmYEnllyQM8Z9axPj1DfWM1haar8OrDwRqKKxe4sFdUul7cElePY1ifDnS/AV1JqEfibxBqeiTI+6yu7OzDxyAZB8xATtPI79q6z40fE3QtV+Hug+CtBvr7XotNuXuZdW1KDy5MlSBGn+x82f+Aimor2dmZqNb+0VKCck31urfoeJA4UV2nwV8CL8Tvifofh2SXyIruY+ZJ0Koqlmx7kAj8a4tegrq/hf46ufht460nxFbRieWyl3eT3kUjDKPfBP5VjC3MuY+qx0assPNUvisz07xl8WPAeh6pqfh6y+GGiHTIGktYriVpPtJZflD7x3JOcVD8G/C/h7Q/hX4k+Iev6LF4hksbxNPsNNumfyAz5YscckgKRg+tL4qs/g14gu9Q8QQa1rUM1zumXSVsMFZm5Kl/7u7H6VR+D/wARPDNr4G17wF4wa6g0TU7hLuHULWPzJbWZTgZT02swP1FbuyqXbR8VKNR4S1KMk01zb697Gz4y0Lw78S/grd+NdF8N2HhjVNEvksruHT1cRXCPkK2D3BxzXR+KW8GfA618KeHJvBtjrmqX1hBeX+p3wczAyngJjpj1rjPH3j3wp4V+Fx8CeC7u61O3vL0Xuo6pdQeR5hB+WNU9AcZPtXQap4++HPxa0vQNU8V3epaV4j0u0S1mtoLPzEuliztIb15rRTpp6WvocVSliJU/fjN07y01va2h0nxR8C2/xQ/aa8O+H5ZGi0+6sbfeyuSREsZfAJ6HjH411dn8IbbUtWuNDv8A4S6Lp/hSYmOPVre8Q3cIJ2pKx81jz6bR16+vj/jD4+ada/HnQfGfhiOeWy060ii8qZQjldhRlwf9kml1y2+DOsald66fFWvWfnZlbS49P3yhmyceYeMZrWcqbm3uzkoYXF06VGnPmS5dN9HfqeKeKNK/sPxNqWmrJ5qWc8kAkyCX2sRkkewrKkxtz36jjP8AnjNWb7yjfTGASeSHbYZsb9pPG/HfFVpOg9M8/TvXly95OysfqWG5o0oqTu7HtH7K/wAItM+J3jLW9R8V3bW3g3wrpkutazFGfnuYonykSj1LFT+BrC/aK+Nd38evixqXiyS2OlwvBFp9jZIMm3to8iMP/tkNn860fga3wrGk+OB8SbvXLXUG0zGh/wBlSyJFJNmTekvl8k7vLODxx9K8gKsr5+YOu35SuMccZz82elcyhI6mfWPwRn079l/4I23xqljOp+NvE0t9pPhq0iXFvZxqxSad/wDaH3f+BmvlNt7SyPLIs0pkdnkXoWZtxx7Zr1fx43wqb4H+Do/Dt1rsnxHWd21iG9eU2kcRDZ2Bvl3bvLxjnG6vJ0XaoohTluPoLRRRXWiEFFFFMYUUUUAFNk7fWnUj9B9aT2A+2f2KP+Sd6j/2F5v/AEms6KT9ib/knupf9heb/wBJrOinDY8Sv/EZ9yt96mt2pzfeqL/Cg6StJ1P1qtP1q233j9KrSVSCexVmztqnN0qzL978arz9aTM+hRm6msu671qyfeNZl0NxP1poxZnL3r8yvjV/yVzxz/2G7r/0Ya/Tp4/mH4/yNfmP8bm/4u946H/UcvP/AEc9RM7ML8ZyC/dH0paRfuj6UtM9J7hRRRQSFFFFABRRRQAUUUUAFFFFGjARlZvunBoVXXOWzS0VnyK4Dfm3U7miiq5bO4BRtLdKKKGrgJ5bU1VZWNPopcoCZakbdTqKOUBnzUq5zzTqKaj1AKCN3fFFFU9dAI9rhuuRTnV2UYOOadRUcgadhvzsNrHIpNh7U+ijkQadhm1lpV3d6dRRyoXKn0DmlpKKpKw9hjAnpThG2KWimAxVKsc0+iigAooooAKKKKACiiigApH6D60tNfoPrSewH2z+xN/yT3Uv+wvN/wCk1nRTv2KP+Sd6j/2F5v8A0mtKKcNjxK/8Rn3FTP4qsS/d/Gq/8VB09Rk33aoyNtar033aoSdapDZBIvGaz5PvGr71Qk+8aTM2VZPvGsy6O3Nacn3jWdP/ABU0c7KELZkFfmJ8Zf8AkrHjf/sOXn/o01+nVv8A8fIr8xPjL/yVnxt/2G7z/wBGmomduD3Zyq/dH0paRfuj6UtM9KW4UUUUEhRRRQAUUUUAFFFFABRWp4a8L6x4x1iHS9D0641PUJvuwW6Fjj1PYDpyeORXpafsi/Foru/4RPIPT/T7QEex/eD9alySA8gor2H/AIZF+LX/AEKX/lStP/jtH/DIvxa/6FL/AMqVp/8AHaXOgPHqK9h/4ZF+LX/Qpf8AlStP/jtH/DIvxa/6FL/ypWn/AMdo50B49RXsP/DIvxa/6FL/AMqVp/8AHaP+GRfi1/0KX/lStP8A47RzoDx6ivYf+GRfi1/0KX/lStP/AI7R/wAMi/Fr/oUv/Klaf/HaOdAePUV7D/wyL8Wv+hS/8qVp/wDHaP8AhkX4tf8AQpf+VK0/+O0c6A8eor2H/hkX4tf9Cl/5UrT/AOO0f8Mi/Fr/AKFL/wAqVp/8do50B49RXsP/AAyL8Wv+hS/8qVp/8do/4ZF+LX/Qpf8AlStP/jtHOgPHqK9h/wCGRfi1/wBCl/5UrT/47R/wyL8Wv+hS/wDKlaf/AB2jnQHj1Few/wDDIvxa/wChS/8AKlaf/HaP+GRfi1/0KX/lStP/AI7RzoDx6ivYf+GRfi1/0KX/AJUrT/47R/wyL8Wv+hS/8qVp/wDHaOdAePUV7Cf2Rfi3g48Jn8NRtD/7VrH8Vfs5fEjwVpMup6t4Vuo7CAbppYJ4Jig/vFY3Yge+Mcj1pqSYHm1FIvOSD9eMH8RS1YBRRRSAKKKKACiiigAooooAKRulLSN2+tJ7Afbf7E3/ACTLUv8AsMzf+k1pRT/2J/8AkmOo/wDYZm/9JrSinDY8ir8bPuSbp+NVf8KnkbdUbfdoNSq33j9KhlG6pm+8fpUTd6pDZUkXAqhNV6fpVOWmZMoyfeNZ8wyWq/J941Rk+830oMWZ0K7bj8/5V+Y/xq/5K545/wCw3df+jGr9P1++K/L34zf8lZ8cf9hy7/8ARhrOZ2YX4mcov3R9KWkX7o+lLTPSluFFFFBIUUUUAFFFFABQTj/P40UH7p/D+dMD7S/4J/6Taroni7UvLRr5rmG384dQgUkr+ePyr68srG51K6jt7WEzzOcLGvevk/8AYBP/ABRvioet+g/8cavtHwTI1rY+I7yBhHPDprbX7rlkGR74zXDUeoDP+Fb+I1mER08CQnhRdQ5z6bd+f0rNh8L6pNrQ0lbJkv2OPJcqpOPrgY9813Oi+F7S+trKB9Bjgs5bBpXvbqVRctLtJ3qAxO3r27ip/DbyXuseCpnYzzyaXNGZMglgFcKCT3rHmA4e68E6xZtBHPYsouJPIjImjdC54C5DHn/CqVvod/e6rJpqW5e+jLBo/MUbSPvZ5HpXUf2ffeFfA+qRX6fYLy7uLdrKEuCxZWJLYHbp+da+vXMFro+peKbMoJ9et0toIx1WQ/67/wBAo5gOWj+HPiGeISJYb0OMst5CAMn5erVk32i3mm2yXF1DthaR41bzFfDKcHox7kVs6c3/ABbvWwPu/bbcjjPBVh/StI6DNrXw70OKGS1iWOe5JN1MIz1HAz39qOYDlx4b1FtUh037I0l5KqukK/x7gSCT0A4707WPDGp6FHHLf2jwQynasodXUsP4crxXo0yvD4x1Fd6vIvhwgbCCvCgdRXG6ep/4Vrq+OBHewsp9P3bE0cwGVceG9UttTt9PktSl7dKskMZON+QTn8gak0rwlqutNOLOxe4SB9kpJVQjD+EEsMmvV9Yhjv8AxNodzGmZtMuobaY/7Dxhlb9P1rhde/5EFVU7FbWbgtzjJC8H9apAc/8A8Irq7au2k/YZWv8Aq0ORnHrnJGPxo1XwzqOii3F1ZyReedsbB1dXbOMZXiur0nXpdbsNZby0hks/D32NcNksFI5/Ws6PEfwzjbcNsWvtgn08nJpXAxbjw5qdvri6VJasNRcqFhyBuyMjrTf+Eb1ErqLLbsY9PcJcnev7sntXsupfZZPFia64VZtNl/s2RR/FI7oIz/3zI9YugzRRah41trnHl3WoJaOx/hMjSRqf++sUuYDzKHQL+exgvobdntZ7j7NFIWBzIc4HH40sfh2+l1K408Qn7Vb7hIgIGNv3jz9RXpt9arpfhzRdJXaW0/WbWGVh3kKGRv8A0MVkaf8A8lO8Rc4/dXn/AKAafMBwsmj30ejw6pJbMtjO5iSQsDlhnjj6H8qlk8M6lDLcRyW5L21sLqRdwX93xySSO5Fd5pca6r8L7fSgN1xcC5uYH/24pAcf987qkuvm1LxE3r4bU/mkZo5gORi+HPiKWAyRWClPvCQXkIUAgHoW64rK1fRb3Q5IorqFo3kQvGPNVg+Pox71s6e234d66fS7tz+Qc1t+DLaHxNolvbXjKv8AYV21y4b+KBgXI/77CUuYDh9U0q50e6NteR+TcD5im7PBAIP61U8lLj91IgkST5GU9weD+mau65qj61q95fybme4lZ89gvRR+VUf8/pVAfk38RLCDR/iB4m0+2VUt7XVLqCNR2VZWx/6FXPV1fxc/5Kz42/7Dt/8A+lD1yld8dkAUUUVQBRRRQAUUUUAFFFFABRRRSewH27+xN/yTPUf+w1N/6S2lFJ+xP/yTXU/+wzN/6TWlFOGx5Fb42fcUibfmqNqnm6fjUDUzUim+7VV6szfdH1qr3NNDZSuP9YarSDdV1+9VZKZkzOkXazVnv/rG+lakg3E1nzrtJoMWVFG5j9G/ka/L342Lt+L3jn/sO3n/AKOev1DX7x+jfyNfl78bf+Su+Of+w7ef+jnrOZ34T4jkF+6PpS0i/dH0paZ3vcKKKKCQooooAKKKKACg/dP4fzoo9eM8dKYH27+wF/yJfiv/AK/4/wD0Fq+yfBt9ZQzajaahKYLfUbZoPPwdsZypDNjoMr+tfnr+xX8ZtA8AX2t+HvEF5DplrqUkdxa31wSqbwCGjLYO3O7OTx8tfZa/ELwoyhl8T6Nt6A/2hFhvcc4P1xmuGorsD3Czup7Oa2uftXhW51GCFIDeNqjBmjHH3D325rK0HxJC3jSxWb7HZafp8E9rCIZPkwUc5Dd8k15J/wALC8K/9DRo3/gfBR/wsLwr/wBDRo3/AIHwVlygdBgLkAAgEjcvIPcHNdJqmoQSeA9DthOklxHPcNJGHywzjnFed/8ACwvCv/Q0aN/4HwUf8LC8K/8AQ0aN/wCB8FVYD0DT7q3j8C6tayToLh7q3YQtJ8xXDdvTOKfq15BJ4D0G2jni+0w3FyZI1fkZYdfavPP+FheFf+ho0b/wPgo/4WF4V/6GjRv/AAPgo5QPaP7d00+MH/02OO3vNHWxE+/5InK45PYcdaxNQit/D/gq7019Qsr27vLpHKWc/mKEVSMlvy4rzL/hYXhX/oaNG/8AA+Cj/hYXhX/oaNG/8D4KXKB7tpXiywtfiVdGS6hbT7y1gRpS/wAiyIq4P4YI/Gueg+z+JfCMmmx6lZWd3DfyXAN5MIY5EdcblY9cEg49q8q/4WF4V/6GjRv/AAPgo/4WF4V/6GjRv/A+CjlA9mXUNHj1C60iG8tYFk0RdNF4gCwSzgHLFh1zk/NWRq32XR/Cdro51Gzv7yTVPtzNZzeZCiiPaVLevQ49jXmH/CwvCv8A0NGjf+B8FH/CwvCv/Q0aN/4HwUcuoHqGvapbyfEp7mO6U2bXkDmXf+7+UITn6VY1TU7OSz8axpdw5uNRjkgKtlpQJWJI9smvJ/8AhYXhX/oaNG/8D4KP+FheFf8AoaNG/wDA+CnygeoaTrkFr4RjE0yvcx61HcNb53PsCcnHYdOa2ZGsNP8AEOt+IjrOm3FrcwTmKCGbfMzOmNpTsff/ABrxb/hYXhX/AKGjRv8AwPgo/wCFheFf+ho0b/wPgpclwPULLxFHpOieFZoZ43uLO9uHkgLYIVnAIP4Z/Kt3XNb0uXxD4naC8g+zTaL5ELBxhiFQhRnvyfyrxL/hYXhX/oaNG/8AA+Cj/hYXhX/oaNG/8D4KOUD0K1uYIvA2tWsk0a3El1E4hDAtgB/m47f40/wfeQWcHiM3FxHCZtNljj8xgNzZXAGepxn8q86/4WF4V/6GjRv/AAPgo/4WF4V/6GjRv/A+CnYDtdJ8NyatbtINT02x2sEK6hdLFJwq8gVnXlv9ju5YTJFKVOPMhcMrcHnIrnP+Fg+FWyP+Eo0f8NQgFYfi745eCfBWj3Go3fiPSZzAm5ILW7jlklccqoC89R19qpJgfm98XP8AkrPjb/sO3/8A6UPXKVp+KNZbxJ4m1fWGj8ttQvJror3Xe2cH8qzK7Y7AFFFFMAooooAKKKKACiiigAo/+t/OikZtq/iP50nswPuH9iQbvhnqn/YauP8A0ms6Kl/YdX/i2OpH/qNz/wDpNaUVUdjyKvxs+3Jun41A1TzdPxqGg16kM33arHvVq4/1Y+tVm6U0UVX+8aqSVal61Xkj280zKW5Sk+8aoXHetGSs+6G786DJlVOp+h/ka/Ln43f8le8df9h28/8ARz1+pHl7s/Q/yNflz8cOPi/47H/UdvP/AEc9ZzOzB7nGr90fSlpF+6PpS0z0HuFFFFBIUUUUAFFFFABRRRQAUc0UUAHNHNFFABzRzRRQAc0c0UUAHNHNFFABzRzRRQAc0c0UUAHNHNFFABzRzRRQAc0c0UUAHNHNFFABzRzRRQAUUUUAFFFFABRRRQAUUUUAFFFFABQe31H86KPT60nsw6n3L+wyN3wx1T/sOT/+k1pRS/sOf8kw1T/sNTf+k1pRVR2PIq/Gz7fbpVZvvVabO2qrfeqVuajW7VTk6n61eXrVKX7zfWtC3sQyDctVZk4q21V5k2ruqepkyhLHnH1qrcR7eaut941VmG7NUZS3M+H/AFn4H+Rr8tPjau/4zeOx/wBR29/9HvX6np+7mL8EqCwDdOOf6V+cH7Unwz1nwb8VNc1C5t5X0vV72W8trpUwjM5JYZ9eKzludOHa5tTx7oMUUnlv0IYfWjy2qb6npaMWimsrKOmaRQWPK4pOpboLRD6KayhepxQBn7uWPtTVQWg6ik2v/dejY391h9apO5SVxaKTy29CfoCf5UbG/uN+Kkfzpc1h6dxaKaysv8FCqzfw4qebULLuOopPLajy2qxWFopNrLS7S1PUdl3Cik2stLzRqKy7hRRzRzRqFgoo5o5o1CwUUc0c0ahYKKOaOaNQsFFHNG0tRqFgopNrLS80ajsu4UUbS1J5bUahZC0Um1lpdpajULBRSeW1Gxh2zRqFhaKTa390/hRsb+4341PNYLC0Um1l6rihvc4pc5OgtFM4/vUqru6HJo5xaDqKRl2/eO0U35uy5HrS5w0H0jdvrTee64p0ds95LHBEjSSSMEWNfvMTxge/NJyugvFH3X+w3/yS3Uv+w3N/6S2lFdd+yj8PtT8B/Cu0h1aGS2vdRnk1FoH6xrIkYQH3IQ0VotjyJu8m0fWHNQTdPxqZqa3SmalWo2XdxUrfepKAKEnGRVaWrkn3jVKT7xqkJleRNvP4VWlj281bm+6PrUEn3B9aZn0KDLuY+3NY+t6TYa1Cbe+sre/gY/NFdQLKv1wQeff3rbm+7VGSpZBwc3wh8GrJ8vgzw2R236Nbsf1UVWf4R+D1/wCZM8Mf8C0O1P8AMGu+aqV10/GkGvc4OT4TeD1Y/wDFI+HD/sjQ7VQPyQ1A/wAKPB/P/FLaIvsuk26j9IxXcTf6sfWq6/eP0pWJd+5wj/CvwkhzH4Z0dT7aZAf5qKrzfCjwiRl/DWjv9dLthXb3X9aqS/d/Gmoo5pOXc4lvhT4THTw1oxH93+zbf+gNQt8KfCbf8y1pKe8emwZ/9BFdwtMbvT2ZcE5K7ZwUnwu8NLwvh/SQPfTICf1qP/hWPhv/AKAOk/hpVt/ga7OT7xqS1/1jf7tNkyTvucC3wx8N7v8AkAaWf+4Xbj+S0n/CsfDf/QvaX/4LYP6pXaXH+sNQD7xrMycpR0TORb4Z+G1Gf+Ed0o/XTbf+i1Vb4c+Glbnw7pI/7hsH/wATXcNUUv3fxpk80n1ONX4c+Gyfl0DS1P8As6bB/wDE0SfDfw5tGdB0tuf4tNg/+JFdY1IO9axigvLucmPhx4fA48P6aB7adAB/I0v/AArnw/8A9AHTf/ACD/4muq/ipa0egry7nKf8K58P/wDQB03/AMAIP/iaP+Fc+H/+gDpv/gBB/wDE11dFK4e93OU/4Vz4f/6AOm/+AEH/AMTR/wAK58P/APQB03/wAg/+Jrq6KLh73c5T/hXPh/8A6AOm/wDgBB/8TR/wrnw//wBAHTf/AAAg/wDia6uii4e93OU/4Vz4f/6AOm/+AEH/AMTR/wAK58P/APQB03/wAg/+Jrq6KLh73c5T/hXXh/8A6AWmj/uHwH/2Skb4c+HG+/oOluP9vTYP/iRXWrS0aFLm7nKD4b+HccaHpoHoNNgx/I0f8K38O/8AQD03/wAFsH/xNdXRUtIPe7nJt8OfDgHzaDpjD/a02D/4mm/8K78M/wDQv6T/AOC2D/4muupR3oaVrivLuclH8OPDLtj/AIR7Sv8AgOnQD/2UVLH8M/Dhb/kXtMx/tafAf6Gunj+9VlKx3Dmn3OT/AOFYeGj18PaSfpp0A/8AZRUsfwv8Nj7vh3SQf9rT4D/OuqX7wq3/AACmtzSLk1ucnH8M/CzfK/h3Rzx20u3X9R1py/CvwtI2P+Eb0ojr8umW/wDMg11S/eqzD1/CqZpHm7nJL8K/Cg4PhrR//BZbk/ooqeP4V+FP+ha0kf8AcNtz+hrrVpzf6sfWoUbnQk31OXh+FXhBm/5F3SQf+wVbf4GrkXwo8I/9Cxo/1OlW3/xNdDY/64/7taa0cpD0Zy0Pwn8HE/8AIqaKDjq2k2p/mlWIvhJ4PLf8if4bb3bQrQn89orrI+gqzD96iw1fucrH8IfB2Rnwd4b/AOA6Jap+oBrY0v4d+GdHnS4sPDuk2twvSS302BCvvkKMVux1Zhq0GpPHD5kYJLE99zA5/KipF+7RTKR//9k=)"
      ]
    },
    {
      "cell_type": "code",
      "metadata": {
        "colab": {
          "base_uri": "https://localhost:8080/"
        },
        "id": "Dls1Mj5QeuMQ",
        "outputId": "9387966e-fb3e-4272-d5fd-7592a2a965e0"
      },
      "source": [
        "x = [1,3,8,6,8,9]\n",
        "y = set([1,4,7,9,7,4])\n",
        "print(len(x) + len(y))"
      ],
      "execution_count": null,
      "outputs": [
        {
          "output_type": "stream",
          "text": [
            "10\n"
          ],
          "name": "stdout"
        }
      ]
    },
    {
      "cell_type": "markdown",
      "metadata": {
        "id": "ReY2qqlHtEO9"
      },
      "source": [
        "##### **Question : 3**"
      ]
    },
    {
      "cell_type": "markdown",
      "metadata": {
        "id": "eTIXuBpAuf4k"
      },
      "source": [
        "![List_Set_1.jpeg](data:image/jpeg;base64,/9j/4AAQSkZJRgABAQEAYABgAAD/4TtERXhpZgAATU0AKgAAAAgABgALAAIAAAAmAAAIYgESAAMAAAABAAEAAAExAAIAAAAmAAAIiAEyAAIAAAAUAAAIrodpAAQAAAABAAAIwuocAAcAAAgMAAAAVgAAEUYc6gAAAAgAAAAAAAAAAAAAAAAAAAAAAAAAAAAAAAAAAAAAAAAAAAAAAAAAAAAAAAAAAAAAAAAAAAAAAAAAAAAAAAAAAAAAAAAAAAAAAAAAAAAAAAAAAAAAAAAAAAAAAAAAAAAAAAAAAAAAAAAAAAAAAAAAAAAAAAAAAAAAAAAAAAAAAAAAAAAAAAAAAAAAAAAAAAAAAAAAAAAAAAAAAAAAAAAAAAAAAAAAAAAAAAAAAAAAAAAAAAAAAAAAAAAAAAAAAAAAAAAAAAAAAAAAAAAAAAAAAAAAAAAAAAAAAAAAAAAAAAAAAAAAAAAAAAAAAAAAAAAAAAAAAAAAAAAAAAAAAAAAAAAAAAAAAAAAAAAAAAAAAAAAAAAAAAAAAAAAAAAAAAAAAAAAAAAAAAAAAAAAAAAAAAAAAAAAAAAAAAAAAAAAAAAAAAAAAAAAAAAAAAAAAAAAAAAAAAAAAAAAAAAAAAAAAAAAAAAAAAAAAAAAAAAAAAAAAAAAAAAAAAAAAAAAAAAAAAAAAAAAAAAAAAAAAAAAAAAAAAAAAAAAAAAAAAAAAAAAAAAAAAAAAAAAAAAAAAAAAAAAAAAAAAAAAAAAAAAAAAAAAAAAAAAAAAAAAAAAAAAAAAAAAAAAAAAAAAAAAAAAAAAAAAAAAAAAAAAAAAAAAAAAAAAAAAAAAAAAAAAAAAAAAAAAAAAAAAAAAAAAAAAAAAAAAAAAAAAAAAAAAAAAAAAAAAAAAAAAAAAAAAAAAAAAAAAAAAAAAAAAAAAAAAAAAAAAAAAAAAAAAAAAAAAAAAAAAAAAAAAAAAAAAAAAAAAAAAAAAAAAAAAAAAAAAAAAAAAAAAAAAAAAAAAAAAAAAAAAAAAAAAAAAAAAAAAAAAAAAAAAAAAAAAAAAAAAAAAAAAAAAAAAAAAAAAAAAAAAAAAAAAAAAAAAAAAAAAAAAAAAAAAAAAAAAAAAAAAAAAAAAAAAAAAAAAAAAAAAAAAAAAAAAAAAAAAAAAAAAAAAAAAAAAAAAAAAAAAAAAAAAAAAAAAAAAAAAAAAAAAAAAAAAAAAAAAAAAAAAAAAAAAAAAAAAAAAAAAAAAAAAAAAAAAAAAAAAAAAAAAAAAAAAAAAAAAAAAAAAAAAAAAAAAAAAAAAAAAAAAAAAAAAAAAAAAAAAAAAAAAAAAAAAAAAAAAAAAAAAAAAAAAAAAAAAAAAAAAAAAAAAAAAAAAAAAAAAAAAAAAAAAAAAAAAAAAAAAAAAAAAAAAAAAAAAAAAAAAAAAAAAAAAAAAAAAAAAAAAAAAAAAAAAAAAAAAAAAAAAAAAAAAAAAAAAAAAAAAAAAAAAAAAAAAAAAAAAAAAAAAAAAAAAAAAAAAAAAAAAAAAAAAAAAAAAAAAAAAAAAAAAAAAAAAAAAAAAAAAAAAAAAAAAAAAAAAAAAAAAAAAAAAAAAAAAAAAAAAAAAAAAAAAAAAAAAAAAAAAAAAAAAAAAAAAAAAAAAAAAAAAAAAAAAAAAAAAAAAAAAAAAAAAAAAAAAAAAAAAAAAAAAAAAAAAAAAAAAAAAAAAAAAAAAAAAAAAAAAAAAAAAAAAAAAAAAAAAAAAAAAAAAAAAAAAAAAAAAAAAAAAAAAAAAAAAAAAAAAAAAAAAAAAAAAAAAAAAAAAAAAAAAAAAAAAAAAAAAAAAAAAAAAAAAAAAAAAAAAAAAAAAAAAAAAAAAAAAAAAAAAAAAAAAAAAAAAAAAAAAAAAAAAAAAAAAAAAAAAAAAAAAAAAAAAAAAAAAAAAAAAAAAAAAAAAAAAAAAAAAAAAAAAAAAAAAAAAAAAAAAAAAAAAAAAAAAAAAAAAAAAAAAAAAAAAAAAAAAAAAAAAAAAAAAAAAAAAAAAAAAAAAAAAAAAAAAAAAAAAAAAAAAAAAAAAAAAAAAAAAAAAAAAAAAAAAAAAAAAAAAAAAAAAAAAAAAAAAAAAAAAAAAAAAAAAAAAAAAAAAAAAAAAAAAAAAAAAAAAAAAAAAAAAAAAAAAAAAAAAAAAAAAAAAAAAAAAAAAAAAAAAAAAAAAAAAAAAAAAAAAAAAAAAAAAAAAAAAAAAAAAAAAAAAAAAAAAAAAAAAAAAAAAAAAAAAAAAAAAAAAAAAAAAAAAAAAAAAAAAAAAAAAAAAAAAAAAAAAAAAAAAAAAAAAAAAAAAAAAAAAAAAAAAAAAAAAAAAAAAAAAAAAAAAAAAAAAAAAAAAAAAAAAAAAAAAAAAAAAAAAAAAAAAAAAAAAAAAAAAAAAAAAAAAAAAAAAAAAAAAAAAAAAAAAAAAAAAAAAAAAAAAAAAAAAAAAAAAAAAAAAAAAAAAAAAAAAAAAAAAAAAAAAAAAAAAAAAAAAAAAAAAAAAAAAAAAAAAAAAAAAAAAAAAAAAAAAAAAAAAAAAAAAAAAAAAAAAAAAAAAAAAAAAAAAAAAAAAAAAAAAAAAAAAAAAAAAAAAAAAAAAAAAAAAAAAAAAAAAAAAAAAAAAAAAAAAAAAAAAAAAAAAAAAAAAAAAAAAAAAAAAAAAAAAAAAAAAAAAAAAAAAAAAAAAAAAAAAAAAAAAAAAAAAAAAAAAAAAAAAAAAAAAAAAAAAAAAAAAAAAAAAAAAAAAAAAAAAAAAAAAAAAAAAAAAAAAAAAAAAAAAAAAAAAAAAAAAAAAAAAAAAAAAAAAAAAAAAAAAAAAAAAAAAAAAAAAAAAAAAAAAAAAAAAAAAAAAAAAAAAAAAAAAAAAAAAAAAAAAAAAAAAAAAAAAAAAAAAAAAAAAAFdpbmRvd3MgUGhvdG8gRWRpdG9yIDEwLjAuMTAwMTEuMTYzODQAV2luZG93cyBQaG90byBFZGl0b3IgMTAuMC4xMDAxMS4xNjM4NAAyMDIxOjA3OjA2IDEyOjU4OjA4AAAGkAMAAgAAABQAABEckAQAAgAAABQAABEwkpEAAgAAAAM4MAAAkpIAAgAAAAM4MAAAoAEAAwAAAAEAAQAA6hwABwAACAwAAAkQAAAAABzqAAAACAAAAAAAAAAAAAAAAAAAAAAAAAAAAAAAAAAAAAAAAAAAAAAAAAAAAAAAAAAAAAAAAAAAAAAAAAAAAAAAAAAAAAAAAAAAAAAAAAAAAAAAAAAAAAAAAAAAAAAAAAAAAAAAAAAAAAAAAAAAAAAAAAAAAAAAAAAAAAAAAAAAAAAAAAAAAAAAAAAAAAAAAAAAAAAAAAAAAAAAAAAAAAAAAAAAAAAAAAAAAAAAAAAAAAAAAAAAAAAAAAAAAAAAAAAAAAAAAAAAAAAAAAAAAAAAAAAAAAAAAAAAAAAAAAAAAAAAAAAAAAAAAAAAAAAAAAAAAAAAAAAAAAAAAAAAAAAAAAAAAAAAAAAAAAAAAAAAAAAAAAAAAAAAAAAAAAAAAAAAAAAAAAAAAAAAAAAAAAAAAAAAAAAAAAAAAAAAAAAAAAAAAAAAAAAAAAAAAAAAAAAAAAAAAAAAAAAAAAAAAAAAAAAAAAAAAAAAAAAAAAAAAAAAAAAAAAAAAAAAAAAAAAAAAAAAAAAAAAAAAAAAAAAAAAAAAAAAAAAAAAAAAAAAAAAAAAAAAAAAAAAAAAAAAAAAAAAAAAAAAAAAAAAAAAAAAAAAAAAAAAAAAAAAAAAAAAAAAAAAAAAAAAAAAAAAAAAAAAAAAAAAAAAAAAAAAAAAAAAAAAAAAAAAAAAAAAAAAAAAAAAAAAAAAAAAAAAAAAAAAAAAAAAAAAAAAAAAAAAAAAAAAAAAAAAAAAAAAAAAAAAAAAAAAAAAAAAAAAAAAAAAAAAAAAAAAAAAAAAAAAAAAAAAAAAAAAAAAAAAAAAAAAAAAAAAAAAAAAAAAAAAAAAAAAAAAAAAAAAAAAAAAAAAAAAAAAAAAAAAAAAAAAAAAAAAAAAAAAAAAAAAAAAAAAAAAAAAAAAAAAAAAAAAAAAAAAAAAAAAAAAAAAAAAAAAAAAAAAAAAAAAAAAAAAAAAAAAAAAAAAAAAAAAAAAAAAAAAAAAAAAAAAAAAAAAAAAAAAAAAAAAAAAAAAAAAAAAAAAAAAAAAAAAAAAAAAAAAAAAAAAAAAAAAAAAAAAAAAAAAAAAAAAAAAAAAAAAAAAAAAAAAAAAAAAAAAAAAAAAAAAAAAAAAAAAAAAAAAAAAAAAAAAAAAAAAAAAAAAAAAAAAAAAAAAAAAAAAAAAAAAAAAAAAAAAAAAAAAAAAAAAAAAAAAAAAAAAAAAAAAAAAAAAAAAAAAAAAAAAAAAAAAAAAAAAAAAAAAAAAAAAAAAAAAAAAAAAAAAAAAAAAAAAAAAAAAAAAAAAAAAAAAAAAAAAAAAAAAAAAAAAAAAAAAAAAAAAAAAAAAAAAAAAAAAAAAAAAAAAAAAAAAAAAAAAAAAAAAAAAAAAAAAAAAAAAAAAAAAAAAAAAAAAAAAAAAAAAAAAAAAAAAAAAAAAAAAAAAAAAAAAAAAAAAAAAAAAAAAAAAAAAAAAAAAAAAAAAAAAAAAAAAAAAAAAAAAAAAAAAAAAAAAAAAAAAAAAAAAAAAAAAAAAAAAAAAAAAAAAAAAAAAAAAAAAAAAAAAAAAAAAAAAAAAAAAAAAAAAAAAAAAAAAAAAAAAAAAAAAAAAAAAAAAAAAAAAAAAAAAAAAAAAAAAAAAAAAAAAAAAAAAAAAAAAAAAAAAAAAAAAAAAAAAAAAAAAAAAAAAAAAAAAAAAAAAAAAAAAAAAAAAAAAAAAAAAAAAAAAAAAAAAAAAAAAAAAAAAAAAAAAAAAAAAAAAAAAAAAAAAAAAAAAAAAAAAAAAAAAAAAAAAAAAAAAAAAAAAAAAAAAAAAAAAAAAAAAAAAAAAAAAAAAAAAAAAAAAAAAAAAAAAAAAAAAAAAAAAAAAAAAAAAAAAAAAAAAAAAAAAAAAAAAAAAAAAAAAAAAAAAAAAAAAAAAAAAAAAAAAAAAAAAAAAAAAAAAAAAAAAAAAAAAAAAAAAAAAAAAAAAAAAAAAAAAAAAAAAAAAAAAAAAAAAAAAAAAAAAAAAAAAAAAAAAAAAAAAAAAAAAAAAAAAAAAAAAAAAAAAAAAAAAAAAAAAAAAAAAAAAAAAAAAAAAAAAAAAAAAAAAAAAAAAAAAAAAAAAAAAAAAAAAAAAAAAAAAAAAAAAAAAAAAAAAAAAAAAAAAAAAAAAAAAAAAAAAAAAAAAAAAAAAAAAAAAAAAAAAAAAAAAAAAAAAAAAAAAAAAAAAAAAAAAAAAAAAAAAAAAAAAAAAAAAAAAAAAAAAAAAAAAAAAAAAAAAAAAAAAAAAAAAAAAAAAAAAAAAAAAAAAAAAAAAAAAAAAAAAAAAAAAAAAAAAAAAAAAAAAAAAAAAAAAAAAAAAAAAAAAAAAAAAAAAAAAAAAAAAAAAAAAAAAAAAAAAAAAAAAAAAAAAAAAAAAAAAAAAAAAAAAAAAAAAAAAAAAAAAAAAAAAAAAAAAAAAAAAAAAAAAAAAAAAAAAAAAAAAAAAAAAAAAAAAAAAAAAAAAAAAAAAAAAAAAAAAAAAAAAAAAAAAAAAAAAAAAAAAAAAAAAAAAAAAAAAAAAAAAAAAAAAAAAAAAAAAAAAAAAAAAAAAAAAAAAAAAAAAAAAAAAAAAAAAAAAAAAAAAAAAAAAAAAAAAAAAAAAAAAAAAAAAAAAAAAAAAAAAAAAAAAAAAAAAAAAAAAAAAAAAAAAAAAAAAAAAAAAAAAAAAAAAAAAAAAAAAAAAAAAAAAAAAAAAAAAAAAAAAAAAAAAAAAAAAAAAAAAAAAAAAAAAAAAAAAAAAAAAAAMjAyMTowNzowNiAxMjo1NzoxMgAyMDIxOjA3OjA2IDEyOjU3OjEyAAAAAAYBAwADAAAAAQAGAAABGgAFAAAAAQAAEZQBGwAFAAAAAQAAEZwBKAADAAAAAQACAAACAQAEAAAAAQAAEaQCAgAEAAAAAQAAKZgAAAAAAAAAYAAAAAEAAABgAAAAAf/Y/9sAQwAIBgYHBgUIBwcHCQkICgwUDQwLCwwZEhMPFB0aHx4dGhwcICQuJyAiLCMcHCg3KSwwMTQ0NB8nOT04MjwuMzQy/9sAQwEJCQkMCwwYDQ0YMiEcITIyMjIyMjIyMjIyMjIyMjIyMjIyMjIyMjIyMjIyMjIyMjIyMjIyMjIyMjIyMjIyMjIy/8AAEQgBAADdAwEhAAIRAQMRAf/EAB8AAAEFAQEBAQEBAAAAAAAAAAABAgMEBQYHCAkKC//EALUQAAIBAwMCBAMFBQQEAAABfQECAwAEEQUSITFBBhNRYQcicRQygZGhCCNCscEVUtHwJDNicoIJChYXGBkaJSYnKCkqNDU2Nzg5OkNERUZHSElKU1RVVldYWVpjZGVmZ2hpanN0dXZ3eHl6g4SFhoeIiYqSk5SVlpeYmZqio6Slpqeoqaqys7S1tre4ubrCw8TFxsfIycrS09TV1tfY2drh4uPk5ebn6Onq8fLz9PX29/j5+v/EAB8BAAMBAQEBAQEBAQEAAAAAAAABAgMEBQYHCAkKC//EALURAAIBAgQEAwQHBQQEAAECdwABAgMRBAUhMQYSQVEHYXETIjKBCBRCkaGxwQkjM1LwFWJy0QoWJDThJfEXGBkaJicoKSo1Njc4OTpDREVGR0hJSlNUVVZXWFlaY2RlZmdoaWpzdHV2d3h5eoKDhIWGh4iJipKTlJWWl5iZmqKjpKWmp6ipqrKztLW2t7i5usLDxMXGx8jJytLT1NXW19jZ2uLj5OXm5+jp6vLz9PX29/j5+v/aAAwDAQACEQMRAD8A9+7Vwviv4maV4bnW2Lh52+6qqXdv91B1+pKj3NC1dkXFR1lN6Ix9H+Mun32ox2lxHJE8hwqT2/kO3+787q303A16ba3MV3bpPA4eNxkEVUouLswfs5RVSm9CaipICigAooAKKACigAooAKKACigAooAKKACigAooAqanI0em3DJw2wgH0zXypJp8mt69canJJcvez3LpHHHg4AJAUAg9AK2w/s+aU6jsoq5z4uc40owpq7k7HS2ngYaotw2t2ssUcFuwhld9rK/HzYU44x34r1H4Q6nc6n4MtZ7lmZ2jBZj/ABEFlJ/HaD9c151PMoY7FVZUneC5bP5anXQwssNhowmrPX8/+CW5fHj29xcCWwjaGESOzRT7mREkWNiy7eD8wIHcA+lUW8Z62k1xPJa2qx2skpe2WU5MawJJySvX5jjpnp2yesg0G8cTtdLb2+nwu8twYIg1xgjEhjJkAU7eRkdeKL7xVeeTpF3ZxxHzUne5tml4ARc/ewT2OOBmgCvd+OZZ4bNbJIIZpXLOJJhhQsyx4bg4yGzn2rrNE1L+19Ht77y/LMoOVDbhkEg4PccZB7jFAF+igAooAKKACigAooAKKACigAooAKytCEotbjzTfFvtMmPthBbGeNuP4fSgDSljWWJ42+6wINeG674F1vw541TXNJge+05pWlkskYK6swIJTPB6k46+1c+JTdOUE7cya+8uCTkm1ezuY2o+F/Eni/U4obO01TR7BmPn/aZ23ODj5RHuJPQ+g5r3XwxoMHh7RYLCBNixoqBc5wAMAZ7nuT6k1ngqPsaShpdbtdTWtO7b7kv/AAj2m/ZZrdYdiTyeZMVODIc5wx6kZ7VdNnas7u1tCWcYZigywxjn144rsOcX7JbCRpBbxb2IZm2DJI6En1pBZ2oPFtCOo+4O9ADDptgxctZWxMn3yYl+b68c9BVhEWNFRFCqowFUYAFADqKACigAooAKKACigAooAKKACigAqpYadb6bFJHb79skrStvcsdzHJ69vagDzofHnwiR/qNU/wC/Cf8AxdB+O3hBhhrfUyPQ26f/ABdDVwGr8c/ByfctdSX6W6D/ANnp/wDwvjwj/wA8NU/78J/8XSSS0Q229w/4Xx4R/wCeGqf9+E/+Lo/4Xx4R/wCeGqf9+E/+LpiD/hfHhH/nhqn/AH4T/wCLo/4Xx4R/54ap/wB+E/8Ai6AD/hfHhH/nhqn/AH4T/wCLo/4Xx4R/54ap/wB+E/8Ai6AD/hfHhH/nhqn/AH4T/wCLo/4Xx4R/54ap/wB+E/8Ai6AD/hfHhH/nhqn/AH4T/wCLo/4Xx4R/54ap/wB+E/8Ai6AD/hfHhH/nhqn/AH4T/wCLo/4Xx4R/54ap/wB+E/8Ai6AD/hfHhH/nhqn/AH4T/wCLo/4Xx4R/54ap/wB+E/8Ai6AD/hfHhH/nhqn/AH4T/wCLo/4Xx4R/54ap/wB+E/8Ai6AD/hfHhH/nhqn/AH4T/wCLo/4Xx4R/54ap/wB+E/8Ai6AD/hfHhH/nhqn/AH4T/wCLo/4Xx4R/54ap/wB+E/8Ai6AD/hfHhH/nhqn/AH4T/wCLo/4Xx4R/54ap/wB+E/8Ai6AD/hfHhH/nhqn/AH4T/wCLo/4Xx4R/54ap/wB+E/8Ai6APmtfuj6VvaN4WvNZtWuEkjiiBwpfPzGs6tRU43Z04TCyxNT2cTMvNPuLHUGspU/fKwUAc5z0xXW3Pwx1i20hr0ywNIib2t1J3AdTz0JrlxOOp0HDm+0EcLNylH+U5XS9Mn1a8Ftb43Y3Fm6KPWrWteHrrRRG8rpJE5wHTsfSt3Xiqip9zy54uEa6oPdmRRW51hRQAUUAFFABRQAUUAFFABRQAUUAFFABRQAi/dH0FdToHi3+yLD7JNbmVFJKFTgjPY1lWp+0jY7cBivq1XnauY+o6tNf6w2o4CSblZAP4cdP5V3d38VzPozwx6eUvZIyhctlFJGMgVw4zL1iHDX4RxxjU5ya+I4fQ9XfRtQ+0BPMVlKOvqP8AIq74i8S/21FHBFCYokbccnJJrplh71lU7HhVMFz4pV77HP0V1HeFFABRQAUUAFFABRQAUUAFFABRQAUUAFFACL90fQUtABRQAUUAFFABRQAUUAFFABRQAUUAFFABRQAUUAFFABRQAi/dH0paACigAooAKKACigAooAKKACigAooAKKACigAooAKKACigBF+6PoK7nwlo1hqPh6a7nhhZ7OeRpS45ZDF8o/PJ/CtKSTlZmVaTjG6LWoeDtOvNUmktZZILeKXy50CgLHiJXypz05qpqnhiy07SNStokuLq9gu1EckceTsMe/nvjGc/StHTWrMVWbsjB8OaF/wkF3cWqSFZkgMkSjHzEMoI/Ik/hWhfaZa6fomoCACZ7XUREZJIhlhg4AbPTjkVEY+7c1lP3uU0lsrNvFsludNtvJm0vzjH5fCP5G/K+h3VzPhq2huvEun29xGJIpJgroRnIokldCjJ2fodVD4Dsbp2n/tCSC2eNHjEiAMGdnGCPQbO3rXK+H7e2l8U6fbXi+ZbvdJG6gZDZbGD7GiUFFoUajkmdV/wjGm3VvLb+VcWssuoSpbSPEASFjLYP+zkHpWR4j8K2+h6XBcx33nTM6pLHgcZXdkf/XqpU0lcUKr5lFjNI8MwajorXklxKkrecYwqZQCNQx3HtnPFbll4R06w1xYrszXEbSXUKIUHzbI8g/qfxApRprRhOs7tIp2ngq1ubW3Z5ryCadHlCyRABVVwvPuQQamsfC+nWgla9E8xkgu9ihBlfKbaGHvimqS3E6zehyljpcl3r0GlyB4HlnELCRcMmTjketdbp2iaPpd5c3MxkuIxpz3MMdzbBsYfYSy568cfWphFPVl1JvZHLaIltdeJrGO5TNvLcqGRRwQW6Y9K65PC2m3oubYRXFq8t+8drI8XJAVjj/cyp6UQipIKk3FmL4h8K2+i6PbXaX3mzOyLJHgcbk3ZH/16Xw/HpqeGdXuriJJboMkKebCHVN2cEc8HI69sUcqUrA5uULmra+F7PTPEmnREfbInvTZXEdzF8pOASy4PTnisi0sIbzw3eR/ZoknTUYYkn2/MFffkE+nAquRLQlVG9TUXwBDcyBLS6mZm3qqSoFJKSKrHr0w2R9KrweH7K5igsIn4fWDaNceUN+3OAQ3pjt60eySF7ZssW/gjSpVa6k1OWKyCqd0gVCPnZSTk4/h6da4idY0uJFiYvGGIRj3GeDUTgomlKo5t3Il+6PoKsQ3lzbxPFDPJHHIcuqsQG4I5/AkfjWadjVpPcsR65qsUplj1C5SQtvLLIQS2Nufy4pDrOpl7hzqFzuuV2znzD+8GMYb14qudi5I9itb3M9pL5tvM8UmCNyHBwatLreqJam1W/uBAX3mMSHBbOc/XPNJSaBxT3Jv+El1z7R9o/tW787bs3+ac7fTPpWfHdTw3S3UUzpcK28SKcMG9c+tHM2CgkXP7f1f7RJcf2nd+dKgjd/NbLKOgPtWeGZWDKxDA5BB5Bocm9wUUti/JrurTSLJLqNy7q25WaQkg4xn8uKhudTvry3it7m8nmhh/1aO5IT6CnzMFCK6CQ6je29pLaQ3c0dtN/rIlchX+oqaTXNVle3eTUbp3tzmFmlJMZ6celHMw5I72LN34n1a80+GzkvJhGm4viQ5lJbdlvUg1A+v6vJcxXD6ndNNDny5DKdyZ64NNzkxKnFdCkbiZrk3LSuZy+8yFju3ZznPrmrE2rahczyTT3s8kssflO7uSWT+6fap5mPlRUUlWDKSGByCD0rQk1/V5ZVlk1K6eRW3KzSkkHGMj8CaFJrYHFPcguNSvru2ht7i7nlhh/wBXG7kqv0FQrPMkEkCSMIpCC6A8MR0z9M0Xe41FJWLy+INYWWKUand+ZCmyNvNOUX0FI2vas1vLA2o3JhmbdInmHDn1NPmZPJHsNk1vVJbhZ5NRummRNiuZSSF9PpSxa7qsFulvFqFykMb+YiLIcK2c5+ueaOaXcOSPY0dG8Y6noySIjCZXAwJGPy4JPY9Mk5HQ1gzSmaeSVgAzsWIAwOaHJtWYRgottEa/dH0FbGn+HL/U9Oe9tvJMau0YVpAGZgu4gDvxSjFydkOUlFXZBYaJqGo3y2kFtJ5rEr8ykAEDPPpxSS6Nfw6et69u4hLsh+U5QrjO4dutPkdri9pG9iEadfFwgs7gsV3BRGckev0qOG2muLuO1jjJmkcRqh4O4nGKVmPmRdvdCvbO5EG1LhyCT9mbzMYODnHTBplvo19c2FxexwN5FuFLMQRnLbRj1OTT5HewvaRtcm0/w7qGpTyQRokUyY/dzuI2YnoADyTxWWQVYg9QcGpLQlFABRQAUUAFFABRQAUUAFFABRQAUUAIv3R9K6Gx8SSab4XfTrQ7Lp7ppDIY1OEKbTtJ6H6dqqLtqROHMrG/deK4LS40CdTljGLi/wDJfJLlBH+e1Qce9QW/ivTbG0+xxPezweVcK/nYzK7qACR9QfpWvtFcw9k2ixceOLIicwNd+ZJHJtduDGXeNtgwfugIfzrmJ9Yh/wCEwOsRRsYRdidUPBI3ZxSnNMuFJo2bHXdE0+9umt5tQVbh1maYKoYFX3bAM9COM5rTh8eabGjSmG53MY/9FwPLXbLvJHPUg01UiiJUZMy9S8VWl5rUl7E00WyxNvC8cQDbiT6k4HJGc5rjqyk7u5vCPLFIKKksKKACigAooAKKACigAooAKKACigBF+6PoKWgAooAKKACigAooAKKACigAooAKKACigAooAKKACigAooARfuj6CtGys9PntZJLnVUtZVJ2xGB33ceoGBQBZ/szRsxj/hIY8N94/ZJfl/TmmtpukCOZhr8ZZM7F+yS/Px9OOeOaAHHS9G85FHiGPYVJL/ZJeCMYGMd8n8qb/ZukeUW/t+PduwF+yycjOM5x6c0AP/svRvN2/wDCRR7Nud/2OXr6YxTP7N0jyg39vx7i2Cn2WTgZxnOPTmgBw0vRvOZT4ijCBQQ/2SX5ic5GMdsD86RdN0gpCTr8YZ8b1+yyfu+PpzzxxQAv9l6PmQf8JDHhfun7JL8/H04o/szR/wB1/wAVDH833/8ARJfk4+nPPFADW03SAkxGvxlk/wBWv2WT95wD6cc8c+lPOl6N5qr/AMJFHtIJLfZJeDxx0+v5UAMOm6R5TMNfjLBsBfssnzDPXOKf/ZejeaF/4SKPZtzv+xy9fTGKAGf2bpPlBv7ej3b9pT7LJ03Y3Zx6c4p40vRvNZT4ijChQQ32OXk85GMduPzoAaNN0gxxsdfjDMRuX7JJ8n6c0v8AZejb3H/CRR4UDafskvzfpxQAg03RyISfEEYL/fH2SX93xn055449aQ6bpGyYjX4yUPyD7JJ+84B9OOcjn0oAedL0bzEX/hIo9pBy32OX5fbpTDpukCORhr8ZZSdq/ZZPmHr04oAedL0bzVUeIoyhUkv9jl4PGBjH1/KmDTdIMQY69GG37dv2WT7u7G7OPTnH4UAU9QtrO1mVbPUFvVIyXWJo8H0w1VKAEX7o+gpaACigAooAKKACigAooAKKACigAooAKKACigAooAKKACigBF+6PoKn+yXJtRdCCT7OX8sS7Tt3dcZ9aAJTpl+txJbmznE0ab3j8s7lX1I9KqUAGCOoooC4YPcUuDjODQBq6TpVte2N9eXd29vFaBM7I95YsSB3HpVW40u8tLG3vZoSlvc58liR82PbrRcCnWhe6JqGnWkV1cwbIZThWDq2DjODg/Kcc4NK4rmfW2nh2W1urePV2e0iuOI5IwsvzcfKQDwee/NFx3M7UrM6dqdzZl9/kSNHuxjODVrRtLg1EXktzctbwWsPmuyx7yeQMYyPWmBDPpVzDYLqIjb7DJKY4pWwC5HtnNUaSYGhPomoW2nR38sGLdwCGDqSAehKg5AOOMis+hO4F+70W/sbKG8uIAsExAVg6tyRkAgHIOOeaoUJ3A2h4els54Bq5e1gn4SSMLL83HykA8HnvVHVbE6Xq11YmTzPs8rR78Yzg9aE7gU6KYBRQAi/dH0FbekazDpNhdKI5pri4BjMbkeSFx1K/wATenTFAF//AISWzX7FAEvfIssvHN5gE7tj7u7+BPYZrD1LUG1PVZr5oo7cyvu2xLhVoA6nVLrSvFOr6Xax30kUCI6TOYdvzAZMn/Asc9xiuQgnNlfxzwnJhkDoSOuDkVcmnK6M4RahZnReOrq2k1iO0tF2wwIXIyDh5DvYZ9t2PwqlL4kkl8PDSDE4QKBu89iODn7vSlP4mOmmoq5PoED3fh/W7WEx+c/klVeRUyAxJxkiqyXFvdaRpumNI6yC8YybVztVtoyPU8HioaKaKWrWkFhq91aW0/nwwylFlxjcB3rflGk366XpNlqJS1aVfOUQENvIwzljwcdAPSk9wZzN1FFDezRRSeZEkjKsmMblB4P5V1LPa6imk6dpk5uDayGVnlVYNqErwcnDN703uDK2vWVnP/bWqC7/AHy6h5UUQAKyKckkHPbH8qi8MxG5tNZtY2QTTWgWMO4Xcd6nGSQO1MZVNxFH4ffTJGIuBe7yoGQAFKnnp1qDW7G303VpbS1uTcRIBiQrg5IBI/CklYEa0kmlvo1jp9lelWmeM3aeQ293z/ePGFzwKx9Ys4NP1m7s7a4+0QQylElxjcB3ojcSN1ZtKvNJ03RI7yVjJdq7N5AQwgrhs84c5PB9BXOXsMVvfzwQy+bFHIVWTGNwB60JWBHSyNa6jaabpelzm4e3lMu6RFg2occHJwzZ71k+KZEl8VapJGwZGuXKspyCM0RWgIyKKYwooARfuj6CloAKKACigAooAKKACigAooAKKACigAooAKKACigAooAKKAEX7o+grd0fR4NV027d/Oge3Bc3LY8jGOFY9mPbrn0oA0R4atGawkEN9i+BVLTA89eP9YB/EnucVg3+nJZazJYJdR3CpIE86I5U0AdJceCLWC7Zf7Tc28a3Hmv5PKtFtJAGec7hVWx0Wwv9K220u931KO3EzxkMqtnGOce5FAGhb+EtJt2u2ubuW4hFnO8bLGQUeN9pOM8+3rms8QpbeG9Osx+6/tO6cXM3l5cKjAKvqME5I+lNbibsjL8Q6ONB1VtPM/myRopkO0gBjzgevGK1ofCcEltZym5lBuAuRuh4ypPH7zP54okrOwoy5opmLrWmppeom2SRnUKDliuef90kfrV/WPDJ0rTbe7FwZftUgW3ULzIuwMW/AsBTUbpsUpWaXcwVRmkCYwxOOfWu3uPAFvaSTCbWEKwQs8wjVWZSrKOgPT5u+OlVCHMialTksh0Xgqzs/tUV7cGa4NvK8Kqu0AK4UNnI556HisbUtJs9BvIfO33McsUnysUOGxgH5GPc96VSPLoh0anM7s50da6jQ5ra+1S906OBVsLy3YlGXlGRCysD1BBB/M1nrc10scvRTEFFABRQAUUAFFACL90fQVL9om8gQedJ5IbeI9x2hvXHrQA83t2ZpJjczGWRdrvvOWHoT3FRxP5UqSAZ2sGx9KANjVfFWq6rfS3MlyyK6uixjGER/vKPriq1rr+qWdktnb3bR26yCRUCLwwOQc4znNABF4g1WCeOaO9kWSLfsIxxvOW+uTUqeIr0WjxSMJZftH2mKd+Xik7kfXvQJq5RvL+71CVZbud5pFUIGfrgdv1qtQ23qwSSVkFbS+JLlbnR5QuF0tAsSbjyQSSfx/pTTsmhNXaZlXNxJdXc1zIf3krmRsepOTWhN4k1m4QpNqErqY/KIOOVyDg8ew568UKTWwSipbhJ4l1mW2mt5NQlaGbPmKcfNnr29qyqHJvcIxUdgq/YapJp1vdpBEnnXEflecfvIp+8B9fWkUUKKACigAooAKKACigBF+6PoKsCzuWtPtQhc24fYZAPlDemaAJTpWoC5a3NnN5ypvKbDnb6/SqffFAD/JlDbfKfcecbTmpxp9w1i12FHlrKIsE/MWPoOtAC2umXl4ZhBAzGCIzOCMYUdTUy6Sw0RtTmnWNWl8qCLaS0rD72PQAHr+FAFHypNxXy3yoyRt6VabSb1Y7JzA229/1GP4/m2/zoAdqmmHTdQezWYXDxnbI0anaH/iUeuKXU9KbTltZVmWe2uovMilUEA9mBHYg8UAUlhldC6xuyjqQpIoeKSPHmRumem5SKAE2OU3hW2g43Y4qza6ZeXjypBAzNFEZXGMYUdTQBNHpLnRX1KSVUBl8qGPaS0rd8egApdP0h9RgujHKFuIY/NSBlOZUGdxB9R6d+fSgBL3Sja6dZ38U6T29yCu5QQY5B95CPUZH1FZ1ABRQAUUAFFABRQAi/dH0Fbej6xDpFnclUlluZwY/LZv3IUjqV/iPpngUAXf8AhIrIJZ2oS9NtZkyJL5uJnfH3Q38CewrKu9RbVdfN9JFFCZZVYpGMKOn+SaAO513xTY2usTrFeSzXEKXapME+4X27FU+g2k596xdJ160TS4zqWoTy3I1GO7KNGWwFJ3c+p6/hQBfTxlbSXGXvbqJpoLmF50U7k3PujPXnA/Ks+G9tBYadc210pGlXjl1mUbnjdgQ+3PPPBAPpQBuweNNDt9QvJg07mWOL95KHcErv3IPmztO4cEkdaxI/E1obTQpp7q5afTLgN9mIyjKJN2c54wvA+lAFiHU9P0V9atpLzzvtrs9pNEocRBlbD57Mc7SO2TWJrksUOiaPpSSpLNbLJNM0bbgrSEELn2CjP1q5O6SIjFqTZHp3iA2GkTWH2eV/M3fMt3IgGRj7qnBput68dZSFTBJF5RJ+e6kmzn/fJx+FQWbejeJNNtfDMdletKzwyFliiUqH+cN83O1hweozWne+NtPm1VDb3M8EL200TTxo25C5yvViTj8hnigDFW8txplpNYXId9LvzIFnIV5UZl2tjPPI5HvWne3ljF4nvLyKWKOx0y1aCNN4LSO6t8oHfljz7Vd1y2M2vfTOev2is/CVlYedHJcz3DXjrGwbylKhVB9zjOPpWBUGgUUAFFABRQAUUAIv3R9BS0AFFABRQAUUAFFABRQAUUAFFABRQAUUAFFABRQAUUAFFACL90fQVoWenRXVs8z6lZ27KSBFMX3Nx2wpH60AWP7Ft8xj+3NN+bqd0ny/X5KQ6PbiOVv7a04lM4UNJl+M8fJ+FACnRbfzlT+3dNwVJL7pMDGOD8nU5/Q03+x7fyy/9tadkNt27pMnnGfudO9AD/7EtvN2f27pmNud26TH0+5Tf7Ht/KD/ANtadktt25kyOcZ+5070AOGiW5lZP7d0wAKCHzJg5zwPk7Y/UUxdHgZIm/trTgZMZUtJlOM8/J+HFADv7Gt8yD+3NN+TpzJ830+Sj+xrf93/AMTvTfn6/NJ8nGefk/CgBraPAqTMNZ04mPoA0mX4B4+T8OfSn/2Jbeaq/wBu6ZggndukwMY4Pye/6UANOj2/ls39tadlWwFzJk89R8nSnf2JbeaE/t3TMFc7t0mPp9ygBn9jweWH/trTsl9u3dJnG7Gfu9O/0p40S281k/t3TMBQQ26TBzngfJ2x+ooAaNGtzHG39tacC5AK7pMr9fkpf7Et9zj+3dN+UZB3SfN9PkoAQaNb7YT/AG3pw8zqN0nycZ5+T8OKDo1uFmP9tacTGeBuky/APHye+OfSgBx0S3EiL/bmmYYElt0mF+vyU06NAI5G/trTiVJAUNJlvcfJQA46JbCUJ/bumYKk790mB04+51/wpg0eAx7/AO2tOB37dpaTON2M/d6d/pQBVv7OOylVI723uwRndAWwPY7gKqUAIv3R9BS0AFFABRQAUUAFFABRQAUUAFFABRQAUUAFFABRQAUUAFFACL90fQVqWOgahqNjLeW8aGGMlcvKqFiBkhQTliBzxTSb2FKSirsrX2nXWnXr2lxEVmQgEDnsD1H1qvsfBO1sA4PHShpp2EpJq4eXJkDY2TyBjrSAEtgDknGKQ7o0rnQNRtHvUlgw1mVEwDA43dMev4Vm7WC7ip2+uOKpxaEpp7AFZs7VJx1wKXY5AOxuenHWpsx3QeXJ/cbj2o8t+Pkbnpx1p2YXRYXT7l9PlvhH+4ikEbt6Mc44/CqwUscKCT6AUWaBSTHCJyM7Gx0zirz6JeRanLp83lQzxoXbzJAq4C7uvTpTUWxOSRQCOQCFYgnAOKCjg4KtkDOMVNh3Q2igYUUAFFABRQAUUAIv3R9BXQ2V7pc3hn+z76a4hlguWuI/KjDCTKAYzn5eRVRaT1Imm1odK/jTTria4825uELSkW04i3NbqYlXIGR/EDx+NNufGWkSQX+xrgeYsiCEwri5ZkVRI3PBBBbHNb+0ic3sZXJ18a6MNVhuXmneQ2zxNN5BCxMWQjCb89FYHBA5FcJql+LnXbm/tsxh5jJGVXbjnIOMnH51E5prQ0pU5Ju52s/jPT/ttxf299ffaLp4GZHjwIlVgWQHPPf65qtrvizSb7wzPp9mjKzvhYjBgDEhbeG3YHHHTNU6kbMhUpJoyPDWs2mnWN9BPdXFpJKyOs0EQcsF3ZQ5PAOR7cVvWvjDSIhpJaS4xbvAWh8kbYNikMVOedxOelTCaSKnTk2YSeK7tdIvVN7P9unuY2D+sQVwRn8RxXSTeNtIlhs41aWIqpG9bf5rY+Xtyp3c888AU41F1FKk+hjt4hsp7LWLG41LUDDPIsscgjAaYhcEMAcLk4Pfp61l+FtUttLvblrmaW3863MUdzEm9oW3A5AyOoBH41Lkrpl8suVo67WPE2n/ANhrLDczKbmKcRWyoMFjICHY5+UjGfxqmfEuk3HiE6pLq1+omtmikjaHcEym3YMHkZy2atzVzONOVriaT4r0jT9OsoHmuG8h41MXkjaNsu8yg56leMVRufEdrd3a3D31zFKdPkgkkSIMZHLEhTntjHPtUymnGyLhTkpXZz02rXE9glm0duI1AAZYVDcf7WM1QrE6AooAKKACigAooARfuj6CloAKKACigAooAKKACigAooAKKACigAooAKKACigAooAKKAEX7o+ldh4Y8Nw6p4b1a8lt2kkX93buCQI2CM5Pv0UfjVwV3Yzqy5Y3OTeKSNUZ43VXGULKQGHqPWug01bI+ENSnl023luYZY445mZ9wD55wGxxjjisp3SNC1L4UsBdXlrBfzvPaWwmkDRADlkAAOf9s/lVjVvAkGl6Rc3b6pH5qGQxxOVUuqvs6Zzn6DFZ+0ewzD0KGzeC/mvEjZYY1KmQMQCWx0Ug1OdEjGkHVQ67lKyG3PQozYGOc4+tdKjdGkYpolbQ7W71e/hjkEHlFfKgQglsjPG4849OvNVdS0BNP0mG6N2jTOqM0W5c4YZHGc/mKbjpcbp6NmJRWZiFFABRQBp+HLaG98SabbXKCSGW4RHQkjcCeRxWl4s0u2t9QgOl248mW380+SGK8MQSA2SBx3q0lyXMnJ+0SKfhS0tr/wAT2NtdxiS3kch0JOCME9ua3rDwxZeJrm5ktJobWJcRwmJSqSPtLdHbdnjoM1zzk07mpUXR9PvxoKM0Wni5gkM0u44ZlJx944BOMdhVp/AcUVjfXM2orAYXdIUmKKX2oH/vc53DG3NL2jWgznfD0cE+uWtvcwJNFK4RlYkYz3GCKmGn2c8CXMkjQNcTtFHFGmVBGO5Oe9dCSaLjFNF+DwnFIN8l55cYaRWLYX7rBRySB3rm7qEW13NAHWQRuU3qeGwcZFOUbIJ0+VXIqKgzEX7o+lXLfU721hWKC4eONHLqoPAYjaT+XFNOwmk9xlxf3V3FbxXE7yR26eXCrHhFznApqXU8dtJbJKwhkYM6DoxHT+dJ6jLEOs6lb37X0N5Kl0y7WlB5I9P0H5VJN4g1a4tpraXUJ3hmcvIhbhiTk/rU8qAoJNLHHJGjkJIAHA74ORVpNX1CO2W3W6kEK4wmeBg5H61abQ1JrYd/bepefJN9slEkihWYHGQOn86hl1C8ntUtpbiR4U+6hPAocmx80mVqKRIUUAFFAElvcS2lxHcQSGOaNgyOOqkdDVx9d1SS6kuXvpjNJEYXfd1Q9V+lO7tYVle5UtrmazuEuLeRo5U+6y9RVqw1vU9LR0sb2WBXOWCHgmpcU9xkv/CR6wBbAX8oFr/qcYGzjHH4Uh8Q6wyXKHUbgrcnMw3/AH+Mfy4pckQM+GaS2nSaFykiHKsOoNKbiYxpGZG2IxZR6E9T+lVdjuy4dd1QyLIb6bcgIU56A4z/ACFUHdpHZ3YszHJJ6k0229wcm9xKKQhF+6PoK0rPQ72+sJL2FYxBGxXLyBdxAyQM9TimlcTko6szq07XQru70mbUo2txbwnD7plDA9hjrzjipbsMom1uFGWglHGeUPSkaCZUZ2hkCqdpJU4B9KLoCfT9Nn1KR47cx7kUsQ7heByetQtbTKxHlswBxuUZB+hqrPcfK7XGiGU9I3PG77p6etMpCsFFABRQAUUAT2VnNqF9DZ26hppnCICcAk+9S6lpd1pVwsN0qhmUOpRgysPUEU+V2uTzLmsM0+wuNUvorO1VWmlOFDNgdM9addabcWszxnZNsUMzwN5igH1I4qeZXsUPutJu7RLRnRXF3H5kPlsHLDOO3f2qr5E2HPlSYjOHO0/L9fShNMCWysZr+V44dgKIXYuwUADqcmmSW0sTspAYK20upyufr0qrO1x8rtcfc6fc2tz9ndN0m0PiM7uCMg8VBscJvKNtzjdjjNFmDTQ2ikIRfuj6Ct61vtNl8M/2deyTxSw3DzxmNAwfcgGDzxyKqLS3Jmm1oZt2lisFqbSWZ5WjzcCRQAr56L6jFW7PUYIPDt/Yvu86eaJ0wOMLnP8AOs5K6KOgHi22udavvtlzdnTprUQwjG7yjlDwucc7Ku61420q+0K9s7aORZJWlADRnDhpNwY/NgHHHIJ461lyO4zi9HvIrG8kll3bWgljG0Z5ZCB+pq/ba6LZdLjWSYQW/wDr4weG+bPTvXSpWRcZ2RrW/ibTLQCOPzWCwoodoyMkM5IIDDg7h14rjGO52bGMnOKcpJ7DqTUkkhKKgyCigAooA0dAvYdO1+xvLjd5MMyu+0ZOB6Vpapf6RqNxHGZrkQWtoY4XEYzJJuLDIzwOT+VXze7YzcXzplHw3qMWka/a30+7y4SxO0ZP3SBx9TXS+GPGFjZJdyau88lxcMd+xfkddhUfKpC56dQawnFvY0ILPX9LsJdEkhuZibWCSGfMB4DZPGGB74yCD3rRl8aaQNK1O1gS43TSSMhm3OZA6KvzHd2ION27tUcjY7nGaPqI02S6lBIke3aOMhQcMcY61q2mt2S6BcWk7SmeZHDcEruJBBAzgflXVGSW5pCaWjJIda0+31XzknmMD2yROQhVsrjoQwI6VFe69ZzeH2sYUkEhyMOCc/OW3ZzjOD6Zp8ysP2kbNHNUVmYn/9n/4THoaHR0cDovL25zLmFkb2JlLmNvbS94YXAvMS4wLwA8P3hwYWNrZXQgYmVnaW49J++7vycgaWQ9J1c1TTBNcENlaGlIenJlU3pOVGN6a2M5ZCc/Pg0KPHg6eG1wbWV0YSB4bWxuczp4PSJhZG9iZTpuczptZXRhLyI+PHJkZjpSREYgeG1sbnM6cmRmPSJodHRwOi8vd3d3LnczLm9yZy8xOTk5LzAyLzIyLXJkZi1zeW50YXgtbnMjIj48cmRmOkRlc2NyaXB0aW9uIHJkZjphYm91dD0idXVpZDpmYWY1YmRkNS1iYTNkLTExZGEtYWQzMS1kMzNkNzUxODJmMWIiIHhtbG5zOnhtcD0iaHR0cDovL25zLmFkb2JlLmNvbS94YXAvMS4wLyI+PHhtcDpDcmVhdG9yVG9vbD5XaW5kb3dzIFBob3RvIEVkaXRvciAxMC4wLjEwMDExLjE2Mzg0PC94bXA6Q3JlYXRvclRvb2w+PHhtcDpDcmVhdGVEYXRlPjIwMjEtMDctMDZUMTI6NTc6MTIuODAxPC94bXA6Q3JlYXRlRGF0ZT48L3JkZjpEZXNjcmlwdGlvbj48L3JkZjpSREY+PC94OnhtcG1ldGE+DQogICAgICAgICAgICAgICAgICAgICAgICAgICAgICAgICAgICAgICAgICAgICAgICAgICAgICAgICAgICAgICAgICAgICAgICAgICAgICAgICAgICAgICAgICAgICAgICAgICAgCiAgICAgICAgICAgICAgICAgICAgICAgICAgICAgICAgICAgICAgICAgICAgICAgICAgICAgICAgICAgICAgICAgICAgICAgICAgICAgICAgICAgICAgICAgICAgICAgICAgICAKICAgICAgICAgICAgICAgICAgICAgICAgICAgICAgICAgICAgICAgICAgICAgICAgICAgICAgICAgICAgICAgICAgICAgICAgICAgICAgICAgICAgICAgICAgICAgICAgICAgIAogICAgICAgICAgICAgICAgICAgICAgICAgICAgICAgICAgICAgICAgICAgICAgICAgICAgICAgICAgICAgICAgICAgICAgICAgICAgICAgICAgICAgICAgICAgICAgICAgICAgCiAgICAgICAgICAgICAgICAgICAgICAgICAgICAgICAgICAgICAgICAgICAgICAgICAgICAgICAgICAgICAgICAgICAgICAgICAgICAgICAgICAgICAgICAgICAgICAgICAgICAKICAgICAgICAgICAgICAgICAgICAgICAgICAgICAgICAgICAgICAgICAgICAgICAgICAgICAgICAgICAgICAgICAgICAgICAgICAgICAgICAgICAgICAgICAgICAgICAgICAgIAogICAgICAgICAgICAgICAgICAgICAgICAgICAgICAgICAgICAgICAgICAgICAgICAgICAgICAgICAgICAgICAgICAgICAgICAgICAgICAgICAgICAgICAgICAgICAgICAgICAgCiAgICAgICAgICAgICAgICAgICAgICAgICAgICAgICAgICAgICAgICAgICAgICAgICAgICAgICAgICAgICAgICAgICAgICAgICAgICAgICAgICAgICAgICAgICAgICAgICAgICAKICAgICAgICAgICAgICAgICAgICAgICAgICAgICAgICAgICAgICAgICAgICAgICAgICAgICAgICAgICAgICAgICAgICAgICAgICAgICAgICAgICAgICAgICAgICAgICAgICAgIAogICAgICAgICAgICAgICAgICAgICAgICAgICAgICAgICAgICAgICAgICAgICAgICAgICAgICAgICAgICAgICAgICAgICAgICAgICAgICAgICAgICAgICAgICAgICAgICAgICAgCiAgICAgICAgICAgICAgICAgICAgICAgICAgICAgICAgICAgICAgICAgICAgICAgICAgICAgICAgICAgICAgICAgICAgICAgICAgICAgICAgICAgICAgICAgICAgICAgICAgICAKICAgICAgICAgICAgICAgICAgICAgICAgICAgICAgICAgICAgICAgICAgICAgICAgICAgICAgICAgICAgICAgICAgICAgICAgICAgICAgICAgICAgICAgICAgICAgICAgICAgIAogICAgICAgICAgICAgICAgICAgICAgICAgICAgICAgICAgICAgICAgICAgICAgICAgICAgICAgICAgICAgICAgICAgICAgICAgICAgICAgICAgICAgICAgICAgICAgICAgICAgCiAgICAgICAgICAgICAgICAgICAgICAgICAgICAgICAgICAgICAgICAgICAgICAgICAgICAgICAgICAgICAgICAgICAgICAgICAgICAgICAgICAgICAgICAgICAgICAgICAgICAKICAgICAgICAgICAgICAgICAgICAgICAgICAgICAgICAgICAgICAgICAgICAgICAgICAgICAgICAgICAgICAgICAgICAgICAgICAgICAgICAgICAgICAgICAgICAgICAgICAgIAogICAgICAgICAgICAgICAgICAgICAgICAgICAgICAgICAgICAgICAgICAgICAgICAgICAgICAgICAgICAgICAgICAgICAgICAgICAgICAgICAgICAgICAgICAgICAgICAgICAgCiAgICAgICAgICAgICAgICAgICAgICAgICAgICAgICAgICAgICAgICAgICAgICAgICAgICAgICAgICAgICAgICAgICAgICAgICAgICAgICAgICAgICAgICAgICAgICAgICAgICAKICAgICAgICAgICAgICAgICAgICAgICAgICAgICAgICAgICAgICAgICAgICAgICAgICAgICAgICAgICAgICAgICAgICAgICAgICAgICAgICAgICAgICAgICAgICAgICAgICAgIAogICAgICAgICAgICAgICAgICAgICAgICAgICAgICAgICAgICAgICAgICAgICAgICAgICAgICAgICAgICAgICAgICAgICAgICAgICAgICAgICAgICAgICAgICAgICAgICAgICAgCiAgICAgICAgICAgICAgICAgICAgICAgICAgICAgICAgICAgICAgICAgICAgICAgICAgICAgICAgICAgICAgICAgICAgICAgICAgICAgICAgICAgICAgICAgICAgICAgICAgICAKICAgICAgICAgICAgICAgICAgICAgICAgICAgICAgICAgICAgICAgICAgICAgICAgICAgICAgICAgICAgICAgICAgICAgICAgICAgICAgICAgICAgICAgICAgICAgICAgICAgIAogICAgICAgICAgICAgICAgICAgICAgICAgICAgICAgICAgICAgICAgICAgICAgICAgICAgICAgICAgICAgICAgICAgICAgICAgICAgICAgICAgICAgICAgICAgICAgICAgICAgCiAgICAgICAgICAgICAgICAgICAgICAgICAgICAgICAgICAgICAgICAgICAgICAgICAgICAgICAgICAgICAgICAgICAgICAgICAgICAgICAgICAgICAgICAgICAgICAgICAgICAKICAgICAgICAgICAgICAgICAgICAgICAgICAgICAgICAgICAgICAgICAgICAgICAgICAgICAgICAgICAgICAgICAgICAgICAgICAgICAgICAgICAgICAgICAgICAgICAgICAgIAogICAgICAgICAgICAgICAgICAgICAgICAgICAgICAgICAgICAgICAgICAgICAgICAgICAgICAgICAgICAgICAgICAgICAgICAgICAgICAgICAgICAgICAgICAgICAgICAgICAgCiAgICAgICAgICAgICAgICAgICAgICAgICAgICAgICAgICAgICAgICAgICAgICAgICAgICAgICAgICAgICAgICAgICAgICAgICAgICAgICAgICAgICAgICAgICAgICAgICAgICAKICAgICAgICAgICAgICAgICAgICAgICAgICAgICAgICAgICAgICAgICAgICAgICAgICAgICAgICAgICAgICAgICAgICAgICAgICAgICAgICAgICAgICAgICAgICAgICAgICAgIAogICAgICAgICAgICAgICAgICAgICAgICAgICAgICAgICAgICAgICAgICAgICAgICAgICAgICAgICAgICAgICAgICAgICAgICAgICAgICAgICAgICAgICAgICAgICAgICAgICAgCiAgICAgICAgICAgICAgICAgICAgICAgICAgICAgICAgICAgICAgICAgICAgICAgICAgICAgICAgICAgICAgICAgICAgICAgICAgICAgICAgICAgICAgICAgICAgICAgICAgICAKICAgICAgICAgICAgICAgICAgICAgICAgICAgICAgICAgICAgICAgICAgICAgICAgICAgICAgICAgICAgICAgICAgICAgICAgICAgICAgICAgICAgICAgICAgICAgICAgICAgIAogICAgICAgICAgICAgICAgICAgICAgICAgICAgICAgICAgICAgICAgICAgICAgICAgICAgICAgICAgICAgICAgICAgICAgICAgICAgICAgICAgICAgICAgICAgICAgICAgICAgCiAgICAgICAgICAgICAgICAgICAgICAgICAgICAgICAgICAgICAgICAgICAgICAgICAgICAgICAgICAgICAgICAgICAgICAgICAgICAgICAgICAgICAgICAgICAgICAgICAgICAKICAgICAgICAgICAgICAgICAgICAgICAgICAgICAgICAgICAgICAgICAgICAgICAgICAgICAgICAgICAgICAgICAgICAgICAgICAgICAgICAgICAgICAgICAgICAgICAgICAgIAogICAgICAgICAgICAgICAgICAgICAgICAgICAgICAgICAgICAgICAgICAgICAgICAgICAgICAgICAgICAgICAgICAgICAgICAgICAgICAgICAgICAgICAgICAgICAgICAgICAgCiAgICAgICAgICAgICAgICAgICAgICAgICAgICAgICAgICAgICAgICAgICAgICAgICAgICAgICAgICAgICAgICAgICAgICAgICAgICAgICAgICAgICAgICAgICAgICAgICAgICAKICAgICAgICAgICAgICAgICAgICAgICAgICAgICAgICAgICAgICAgICAgICAgICAgICAgICAgICAgICAgICAgICAgICAgICAgICAgICAgICAgICAgICAgICAgICAgICAgICAgIAogICAgICAgICAgICAgICAgICAgICAgICAgICAgICAgICAgICAgICAgICAgICAgICAgICAgICAgICAgICAgICAgICAgICAgICAgICAgICAgICAgICAgICAgICAgICAgICAgICAgCiAgICAgICAgICAgICAgICAgICAgICAgICAgICAgICAgICAgICAgICAgICAgICAgICAgICAgICAgICAgICAgICAgICAgICAgICAgICAgICAgICAgICAgICAgICAgICAgICAgICAKICAgICAgICAgICAgICAgICAgICAgICAgICAgICAgICAgICAgICAgICAgICAgICAgICAgICAgICAgICAgICAgICAgICAgICAgICAgICAgICAgICAgICAgICAgICAgICAgICAgIAogICAgICAgICAgICAgICAgICAgICAgICAgICAgICAgICAgICAgICAgICAgICAgICAgICAgICAgICAgICAgICAgICAgICAgICAgICAgICAgICAgICAgICAgICAgICAgICAgICAgCiAgICAgICAgICAgICAgICAgICAgICAgICAgICAgICAgICAgICAgICAgICAgICAgICAgICAgICAgICAgICAgICAgICAgICAgICAgICAgICAgICAgICAgICAgICAgICAgICAgICAKICAgICAgICAgICAgICAgICAgICAgICAgICAgICAgICAgICAgICAgICAgICAgICAgICAgICAgICAgICAgICAgICAgICAgICAgICAgICAgICAgICAgICAgICAgICAgICAgICAgIAogICAgICAgICAgICAgICAgICAgICAgICAgICAgICAgICAgICAgICAgICAgICAgICAgICAgICAgICAgICAgICAgICAgICAgICAgICAgICAgICAgICAgICAgICAgICAgICAgICAgCiAgICAgICAgICAgICAgICAgICAgICAgICAgICAgICAgICAgICAgICAgICAgICAgICAgICAgICAgICAgICAgICAgICAgICAgICAgICAgICAgICAgICAgICAgICAgICAgICAgICAKICAgICAgICAgICAgICAgICAgICAgICAgICAgICAgICAgICAgICAgICAgICAgICAgICAgICAgICAgICAgICAgICAgICAgICAgICAgICAgICAgICAgICAgICAgICAgICAgICAgIAogICAgICAgICAgICAgICAgICAgICAgICAgICAgICAgICAgICAgICAgICAgICAgICAgICAgICAgICAgICAgICAgICAgICAgICAgICAgICAgICAgICAgICAgICAgICAgICAgICAgCiAgICAgICAgICAgICAgICAgICAgICAgICAgICAgICAgICAgICAgICAgICAgICAgICAgICAgICAgICAgICAgICAgICAgICAgICAgICAgICAgICAgICAgICAgICAgICAgICAgICAKICAgICAgICAgICAgICAgICAgICAgICAgICAgICAgICAgICAgICAgICAgICAgICAgICAgICAgICAgICAgICAgICAgICAgICAgICAgICAgICAgICAgICAgICAgICAgICAgICAgIAogICAgICAgICAgICAgICAgICAgICAgICAgICAgICAgICAgICAgICAgICAgICAgICAgICAgICAgICAgICAgICAgICAgICAgICAgICAgICAgICAgICAgICAgICAgICAgICAgICAgCiAgICAgICAgICAgICAgICAgICAgICAgICAgICAgICAgICAgICAgICAgICAgICAgICAgICAgICAgICAgICAgICAgICAgICAgICAgICAgICAgICAgICAgICAgICAgICAgICAgICAKICAgICAgICAgICAgICAgICAgICAgICAgICAgICAgICAgICAgICAgICAgICAgICAgICAgICAgICAgICAgICAgICAgICAgICAgICAgICAgICAgICAgICAgICAgICAgICAgICAgIAogICAgICAgICAgICAgICAgICAgICAgICAgICAgICAgICAgICAgICAgICAgICAgICAgICAgICAgICAgICAgICAgICAgICAgICAgICAgICAgICAgICAgICAgICAgICAgICAgICAgCiAgICAgICAgICAgICAgICAgICAgICAgICAgICAgICAgICAgICAgICAgICAgICAgICAgICAgICAgICAgICAgICAgICAgICAgICAgICAgICAgICAgICAgICAgICAgICAgICAgICAKICAgICAgICAgICAgICAgICAgICAgICAgICAgICAgICAgICAgICAgICAgICAgICAgICAgICAgICAgICAgICAgICAgICAgICAgICAgICAgICAgICAgICAgICAgICAgICAgICAgIAogICAgICAgICAgICAgICAgICAgICAgICAgICAgICAgICAgICAgICAgICAgICAgICAgICAgICAgICAgICAgICAgICAgICAgICAgICAgICAgICAgICAgICAgICAgICAgICAgICAgCiAgICAgICAgICAgICAgICAgICAgICAgICAgICAgICAgICAgICAgICAgICAgICAgICAgICAgICAgICAgICAgICAgICAgICAgICAgICAgICAgICAgICAgICAgICAgICAgICAgICAKICAgICAgICAgICAgICAgICAgICAgICAgICAgICAgICAgICAgICAgICAgICAgICAgICAgICAgICAgICAgICAgICAgICAgICAgICAgICAgICAgICAgICAgICAgICAgICAgICAgIAogICAgICAgICAgICAgICAgICAgICAgICAgICAgICAgICAgICAgICAgICAgICAgICAgICAgICAgICAgICAgICAgICAgICAgICAgICAgICAgICAgICAgICAgICAgICAgICAgICAgCiAgICAgICAgICAgICAgICAgICAgICAgICAgICAgICAgICAgICAgICAgICAgICAgICAgICAgICAgICAgICAgICAgICAgICAgICAgICAgICAgICAgICAgICAgICAgICAgICAgICAKICAgICAgICAgICAgICAgICAgICAgICAgICAgICAgICAgICAgICAgICAgICAgICAgICAgICAgICAgICAgICAgICAgICAgICAgICAgICAgICAgICAgICAgICAgICAgICAgICAgIAogICAgICAgICAgICAgICAgICAgICAgICAgICAgICAgICAgICAgICAgICAgICAgICAgICAgICAgICAgICAgICAgICAgICAgICAgICAgICAgICAgICAgICAgICAgICAgICAgICAgCiAgICAgICAgICAgICAgICAgICAgICAgICAgICAgICAgICAgICAgICAgICAgICAgICAgICAgICAgICAgICAgICAgICAgICAgICAgICAgICAgICAgICAgICAgICAgICAgICAgICAKICAgICAgICAgICAgICAgICAgICAgICAgICAgICAgICAgICAgICAgICAgICAgICAgICAgICAgICAgICAgICAgICAgICAgICAgICAgICAgICAgICAgICAgICAgICAgICAgICAgIAogICAgICAgICAgICAgICAgICAgICAgICAgICAgICAgICAgICAgICAgICAgICAgICAgICAgICAgICAgICAgICAgICAgICAgICAgICAgICAgICAgICAgICAgICAgICAgICAgICAgCiAgICAgICAgICAgICAgICAgICAgICAgICAgICAgICAgICAgICAgICAgICAgICAgICAgICAgICAgICAgICAgICAgICAgICAgICAgICAgICAgICAgICAgICAgICAgICAgICAgICAKICAgICAgICAgICAgICAgICAgICAgICAgICAgICAgICAgICAgICAgICAgICAgICAgICAgICAgICAgICAgICAgICAgICAgICAgICAgICAgICAgICAgICAgICAgICAgICAgICAgIAogICAgICAgICAgICAgICAgICAgICAgICAgICAgICAgICAgICAgICAgICAgICAgICAgICAgICAgICAgICAgICAgICAgICAgICAgICAgICAgICAgICAgICAgICAgICAgICAgICAgCiAgICAgICAgICAgICAgICAgICAgICAgICAgICAgICAgICAgICAgICAgICAgICAgICAgICAgICAgICAgICAgICAgICAgICAgICAgICAgICAgICAgICAgICAgICAgICAgICAgICAKICAgICAgICAgICAgICAgICAgICAgICAgICAgICAgICAgICAgICAgICAgICAgICAgICAgICAgICAgICAgICAgICAgICAgICAgICAgICAgICAgICAgICAgICAgICAgICAgICAgIAogICAgICAgICAgICAgICAgICAgICAgICAgICAgICAgICAgICAgICAgICAgICAgICAgICAgICAgICAgICAgICAgICAgICAgICAgICAgICAgICAgICAgICAgICAgICAgICAgICAgCiAgICAgICAgICAgICAgICAgICAgICAgICAgICAgICAgICAgICAgICAgICAgICAgICAgICAgICAgICAgICAgICAgICAgICAgICAgICAgICAgICAgICAgICAgICAgICAgICAgICAKICAgICAgICAgICAgICAgICAgICAgICAgICAgICAgICAgICAgICAgICAgICAgICAgICAgICAgICAgICAgICAgICAgICAgICAgICAgICAgICAgICAgICAgICAgICAgICAgICAgIAogICAgICAgICAgICAgICAgICAgICAgICAgICAgICAgICAgICAgICAgICAgICAgICAgICAgICAgICAgICAgICAgICAgICAgICAgICAgICAgICAgICAgICAgICAgICAgICAgICAgCiAgICAgICAgICAgICAgICAgICAgICAgICAgICAgICAgICAgICAgICAgICAgICAgICAgICAgICAgICAgICAgICAgICAgICAgICAgICAgICAgICAgICAgICAgICAgICAgICAgICAKICAgICAgICAgICAgICAgICAgICAgICAgICAgICAgICAgICAgICAgICAgICAgICAgICAgICAgICAgICAgICAgICAgICAgICAgICAgICAgICAgICAgICAgICAgICAgICAgICAgIAogICAgICAgICAgICAgICAgICAgICAgICAgICAgICAgICAgICAgICAgICAgICAgICAgICAgICAgICAgICAgICAgICAgICAgICAgICAgICAgICAgICAgICAgICAgICAgICAgICAgCiAgICAgICAgICAgICAgICAgICAgICAgICAgICAgICAgICAgICAgICAgICAgICAgICAgICAgICAgICAgICAgICAgICAgICAgICAgICAgICAgICAgICAgICAgICAgICAgICAgICAKICAgICAgICAgICAgICAgICAgICAgICAgICAgICAgICAgICAgICAgICAgICAgICAgICAgICAgICAgICAgICAgICAgICAgICAgICAgICAgICAgICAgICAgICAgICAgICAgICAgIAogICAgICAgICAgICAgICAgICAgICAgICAgICAgICAgICAgICAgICAgICAgICAgICAgICAgICAgICAgICAgICAgICAgICAgICAgICAgICAgICAgICAgICAgICAgICAgICAgICAgCiAgICAgICAgICAgICAgICAgICAgICAgICAgICAgICAgICAgICAgICAgICAgICAgICAgICAgICAgICAgICAgICAgICAgICAgICAgICAgICAgICAgICAgICAgICAgICAgICAgICAKICAgICAgICAgICAgICAgICAgICAgICAgICAgICAgICAgICAgICAgICAgICAgICAgICAgICAgICAgICAgICAgICAgICAgICAgICAgICAgICAgICAgICAgICAgICAgICAgICAgIAogICAgICAgICAgICAgICAgICAgICAgICAgICAgICAgICAgICAgICAgICAgICAgICAgICAgICAgICAgICAgICAgICAgICAgICAgICAgICAgICAgICAgICAgICAgICAgICAgICAgCiAgICAgICAgICAgICAgICAgICAgICAgICAgICAgICAgICAgICAgICAgICAgICAgICAgICAgICAgICAgICAgICAgICAgICAgICAgICAgICAgICAgICAgICAgICAgICAgICAgICAKICAgICAgICAgICAgICAgICAgICAgICAgICAgICAgICAgICAgICAgICAgICAgICAgICAgICAgICAgICAgICAgICAgICAgICAgICAgICAgICAgICAgICAgICAgICAgICAgICAgIAogICAgICAgICAgICAgICAgICAgICAgICAgICAgICAgICAgICAgICAgICAgICAgICAgICAgICAgICAgICAgICAgICAgICAgICAgICAgICAgICAgICAgICAgICAgICAgICAgICAgCiAgICAgICAgICAgICAgICAgICAgICAgICAgICAgICAgICAgICAgICAgICAgICAgICAgICAgICAgICAgICAgICAgICAgICAgICAgICAgICAgICAgICAgICAgICAgICAgICAgICAKICAgICAgICAgICAgICAgICAgICAgICAgICAgICAgICAgICAgICAgICAgICAgICAgICAgICAgICAgICAgICAgICAgICAgICAgICAgICAgICAgICAgICAgICAgICAgICAgICAgIAogICAgICAgICAgICAgICAgICAgICAgICAgICAgICAgICAgICAgICAgICAgICAgICAgICAgICAgICAgICAgICAgICAgICAgICAgICAgICAgICAgICAgICAgICAgICAgICAgICAgCiAgICAgICAgICAgICAgICAgICAgICAgICAgICAgICAgICAgICAgICAgICAgICAgICAgICAgICAgICAgICAgICAgICAgICAgICAgICAgICAgICAgICAgICAgICAgICAgICAgICAKICAgICAgICAgICAgICAgICAgICAgICAgICAgICAgICAgICAgICAgICAgICAgICAgICAgICAgICAgICAgICAgICAgICAgICAgICAgICAgICAgICAgICAgICAgICAgICAgICAgIAogICAgICAgICAgICAgICAgICAgICAgICAgICAgICAgICAgICAgICAgICAgICAgICAgICAgICAgICAgICAgICAgICAgICAgICAgICAgICAgICAgICAgICAgICAgICAgICAgICAgCiAgICAgICAgICAgICAgICAgICAgICAgICAgICAgICAgICAgICAgICAgICAgICAgICAgICAgICAgICAgICAgICAgICAgICAgICAgICAgICAgICAgICAgICAgICAgICAgICAgICAKICAgICAgICAgICAgICAgICAgICAgICAgICAgICAgICAgICAgICAgICAgICAgICAgICAgICAgICAgICAgICAgICAgICAgICAgICAgICAgICAgICAgICAgICAgICAgICAgICAgIAogICAgICAgICAgICAgICAgICAgICAgICAgICAgICAgICAgICAgICAgICAgICAgICAgICAgICAgICAgICAgICAgICAgICAgICAgICAgICAgICAgICAgICAgICAgICAgICAgICAgCiAgICAgICAgICAgICAgICAgICAgICAgICAgICAgICAgICAgICAgICAgICAgICAgICAgICAgICAgICAgICAgICAgICAgICAgICAgICAgICAgICAgICAgICAgICAgICAgICAgICAKICAgICAgICAgICAgICAgICAgICAgICAgICAgICAgICAgICAgICAgICAgICAgICAgICAgICAgICAgICAgICAgICAgICAgICAgICAgICAgICAgICAgICAgICAgICAgICAgICAgIAogICAgICAgICAgICAgICAgICAgICAgICAgICAgICAgICAgICAgICAgICAgICAgICAgICAgICAgICAgICAgICAgICAgICAgICAgICAgICAgICAgICAgICAgICAgICAgICAgICAgCiAgICAgICAgICAgICAgICAgICAgICAgICAgICAgICAgICAgICAgICAgICAgICAgICAgICAgICAgICAgICAgICAgICAgICAgICAgICAgICAgICAgICAgICAgICAgICAgICAgICAKICAgICAgICAgICAgICAgICAgICAgICAgICAgICAgICAgICAgICAgICAgICAgICAgICAgICAgICAgICAgICAgICAgICAgICAgICAgICAgICAgICAgICAgICAgICAgICAgICAgIAogICAgICAgICAgICAgICAgICAgICAgICAgICAgICAgICAgICAgICAgICAgICAgICAgICAgICAgICAgICAgICAgICAgICAgICAgICAgICAgICAgICAgICAgICAgICAgICAgICAgCiAgICAgICAgICAgICAgICAgICAgICAgICAgICAgICAgICAgICAgICAgICAgICAgICAgICAgICAgICAgICAgICAgICAgICAgICAgICAgICAgICAgICAgICAgICAgICAgICAgICAKICAgICAgICAgICAgICAgICAgICAgICAgICAgICAgICAgICAgICAgICAgICAgICAgICAgICAgICAgICAgICAgICAgICAgICAgICAgICAgICAgICAgICAgICAgICAgICAgICAgIAogICAgICAgICAgICAgICAgICAgICAgICAgICAgICAgICAgICAgICAgICAgICAgICAgICAgICAgICAgICAgICAgICAgICAgICAgICAgICAgICAgICAgICAgICAgICAgICAgICAgCiAgICAgICAgICAgICAgICAgICAgICAgICAgICAgICAgICAgICAgICAgICAgICAgICAgICAgICAgICAgICAgICAgICAgICAgICAgICAgICAgICAgICAgICAgICAgICAgICAgICAKICAgICAgICAgICAgICAgICAgICAgICAgICAgICAgICAgICAgICAgICAgICAgICAgICAgICAgICAgICAgICAgICAgICAgICAgICAgICAgICAgICAgICAgICAgICAgICAgICAgIAogICAgICAgICAgICAgICAgICAgICAgICAgICAgICAgICAgICAgICAgICAgICAgICAgICAgICAgICAgICAgICAgICAgICAgICAgICAgICAgICAgICAgICAgICAgICAgICAgICAgCiAgICAgICAgICAgICAgICAgICAgICAgICAgICAgICAgICAgICAgICAgICAgICAgICAgICAgICAgICAgICAgICAgICAgICAgICAgICAgICAgICAgICAgICAgICAgICAgICAgICAKICAgICAgICAgICAgICAgICAgICAgICAgICAgICAgICAgICAgICAgICAgICAgICAgICAgICAgICAgICAgICAgICAgICAgICAgICAgICAgICAgICAgICAgICAgICAgICAgICAgIAogICAgICAgICAgICAgICAgICAgICAgICAgICAgICAgICAgICAgICAgICAgICAgICAgICAgICAgICAgICAgICAgICAgICAgICAgICAgICAgICAgICAgICAgICAgICAgICAgICAgCiAgICAgICAgICAgICAgICAgICAgICAgICAgICAgICAgICAgICAgICAgICAgICAgICAgICAgICAgICAgICAgICAgICAgICAgICAgICAgICAgICAgICAgICAgICAgICAgICAgICAKICAgICAgICAgICAgICAgICAgICAgICAgICAgICAgICAgICAgICAgICAgICAgICAgICAgICAgICAgICAgICAgICAgICAgICAgICAgICAgICAgICAgICAgICAgICAgICAgICAgIAogICAgICAgICAgICAgICAgICAgICAgICAgICAgICAgICAgICAgICAgICAgICAgICAgICAgICAgICAgICAgICAgICAgICAgICAgICAgICAgICAgICAgICAgICAgICAgICAgICAgCiAgICAgICAgICAgICAgICAgICAgICAgICAgICAgICAgICAgICAgICAgICAgICAgICAgICAgICAgICAgICAgICAgICAgICAgICAgICAgICAgICAgICAgICAgICAgICAgICAgICAKICAgICAgICAgICAgICAgICAgICAgICAgICAgICAgICAgICAgICAgICAgICAgICAgICAgICAgICAgICAgICAgICAgICAgICAgICAgICAgICAgICAgICAgICAgICAgICAgICAgIAogICAgICAgICAgICAgICAgICAgICAgICAgICAgICAgICAgICAgICAgICAgICAgICAgICAgICAgICAgICAgICAgICAgICAgICAgICAgICAgICAgICAgICAgICAgICAgICAgICAgCiAgICAgICAgICAgICAgICAgICAgICAgICAgICAgICAgICAgICAgICAgICAgICAgICAgICAgICAgICAgICAgICAgICAgICAgICAgICAgICAgICAgICAgICAgICAgICAgICAgICAKICAgICAgICAgICAgICAgICAgICAgICAgICAgICAgICAgICAgICAgICAgICAgICAgICAgICAgICAgICAgICAgICAgICAgICAgICAgICAgICAgICAgICAgICAgICAgICAgICAgIAogICAgICAgICAgICAgICAgICAgICAgICAgICAgICAgICAgICAgICAgICAgICAgICAgICAgICAgICAgICAgICAgICAgICAgICAgICAgICAgICAgICAgICAgICAgICAgICAgICAgCiAgICAgICAgICAgICAgICAgICAgICAgICAgICAgICAgICAgICAgICAgICAgICAgICAgICAgICAgICAgICAgICAgICAgICAgICAgICAgICAgICAgICAgICAgICAgICAgICAgICAKICAgICAgICAgICAgICAgICAgICAgICAgICAgICAgICAgICAgICAgICAgICAgICAgICAgICAgICAgICAgICAgICAgICAgICAgICAgICAgICAgICAgICAgICAgICAgICAgICAgIAogICAgICAgICAgICAgICAgICAgICAgICAgICAgICAgICAgICAgICAgICAgICAgICAgICAgICAgICAgICAgICAgICAgICAgICAgICAgICAgICAgICAgICAgICAgICAgICAgICAgCiAgICAgICAgICAgICAgICAgICAgICAgICAgICAgICAgICAgICAgICAgICAgICAgICAgICAgICAgICAgICAgICAgICA8P3hwYWNrZXQgZW5kPSd3Jz8+/9sAQwADAgIDAgIDAwMDBAMDBAUIBQUEBAUKBwcGCAwKDAwLCgsLDQ4SEA0OEQ4LCxAWEBETFBUVFQwPFxgWFBgSFBUU/9sAQwEDBAQFBAUJBQUJFA0LDRQUFBQUFBQUFBQUFBQUFBQUFBQUFBQUFBQUFBQUFBQUFBQUFBQUFBQUFBQUFBQUFBQU/8AAEQgCUwICAwEiAAIRAQMRAf/EAB8AAAEFAQEBAQEBAAAAAAAAAAABAgMEBQYHCAkKC//EALUQAAIBAwMCBAMFBQQEAAABfQECAwAEEQUSITFBBhNRYQcicRQygZGhCCNCscEVUtHwJDNicoIJChYXGBkaJSYnKCkqNDU2Nzg5OkNERUZHSElKU1RVVldYWVpjZGVmZ2hpanN0dXZ3eHl6g4SFhoeIiYqSk5SVlpeYmZqio6Slpqeoqaqys7S1tre4ubrCw8TFxsfIycrS09TV1tfY2drh4uPk5ebn6Onq8fLz9PX29/j5+v/EAB8BAAMBAQEBAQEBAQEAAAAAAAABAgMEBQYHCAkKC//EALURAAIBAgQEAwQHBQQEAAECdwABAgMRBAUhMQYSQVEHYXETIjKBCBRCkaGxwQkjM1LwFWJy0QoWJDThJfEXGBkaJicoKSo1Njc4OTpDREVGR0hJSlNUVVZXWFlaY2RlZmdoaWpzdHV2d3h5eoKDhIWGh4iJipKTlJWWl5iZmqKjpKWmp6ipqrKztLW2t7i5usLDxMXGx8jJytLT1NXW19jZ2uLj5OXm5+jp6vLz9PX29/j5+v/aAAwDAQACEQMRAD8A/VOkozRn2oAb/D60m4KMk4/GsDxx440v4faDNqurSFIU4SKPBklbsiKSMsfSvjv9oz9pjTfANjHf/FbxPqHhWzvI/NsPAvhpw2rXcfZ5pMqIhnHBZfzGKnmV7Lc7sPhPax9pVlyQ79/JLqfYetfEbwp4bYpq/iXSdLcdVvL6KI/+PMKNF+InhXxIwXSPEmk6o3QLZ3scp/8AHWNfjTqX/BQiyWRk8A/s+eF/s+fkm8Tefq8r+5wU/maj0/8A4KAaBfXMcfxD+APh+BDx9s8JzT6TPHn+JFJYE/VhXR7N2u07G6eVN+z9pO/pH8r3P26U7sHOfcUvHavhb4DftGNrXh+bxH8LvFF98R/CVkgk1PwjrpVde0mM5wysGPmjj+8fY19k+BfHWjfEbwzZ67oV2t5p90u5WXqp7qw7EelTJWVyMTgnRgq1OSnB9V+TXRnR0UUVmeaFFFFABRRRQAUUUUAFFFFABRRRQAUUUUAFFFFABRRRQAUUUUAFFFFABRRRQAUUUUAFFFFABRRRQAUUUUAFFFFABRRRQAUUUUAFFFFABRRRQAUUUUAFFFFABRRRQAUUUUAFFFFABRRRQAUUUUAFFFFADepoLbVJNKKyfFV++l+G9UvE+/Bayyr9VQkfypNqKbZUY80lE+RP2qf2gLL4X+GfEHxQ1GKLUo9EuDo/hXS5iDHcaiw+e4Zc8qnPIzjaeO9fid4y8ca38QvFWoeIvEep3Gr6zqEvnXN5cPlpG44PbAxwBX3X/wAFOL65utb+B/w9glYWjaOdWZT0aa7uGTefceWfzrhdN+HvhzTbSK1h0SydEGC0sAdm+pNevkmT1szg5xaVtXfzPI4l4go5VUjTlFtapJdl/mYnhXxFpelrDZpqugw6VHbReWsF1Gsxk77uf60nxpsbXUPh3qc0kSSyRqskUm0ZByBwfxFXrpfAdhcSQXJ8O208Zw0bCBWRgcYNVfEl/a/ES1i8G+F5E1rW9YlitoILE+aI13KS7sOFXj1/Cv0LFVqGCy6vHE1YWjF9ddvM/KMLCri8yoVMNSmm5K910PG/DDfFL9nLxTpXjSy0bXfCGo2MqmC7vtPlgjf1jkDqFdT3Ddfyr9cv2aPjRpmq3nhLx/oMC6d4T+IjGy1XSY3zHpWuRj5lUdAsnOO54OBS/FrwbafED4a+JdAvYo5IbyxmVC658qTy8q656EGvjP8A4J9+JLjWPgj8aPDBmkzo8+l+I9OfvbzrKUldfQkKmP6V/N3CfFC4ko1qns+Rwdnrf0P6eWCeBxMMNKV4Vvdfz6/J6o/aZWDKCORS1R0a9/tPSbO7A2ieFJAPqoIrxj9rD44eKvgjoHg6bwho2na5q/iDxDb6GlrqTOqfvQ2CCrDnK+9fcnx0lytpnutFfKWl/Hz4y+FfiVJ8OPH+geEx4p1zRbzUvC19oElw1lc3MEZc20qyEPwByR/9eqMn7aGv698BPhl4h8M6Lpdx8QvGeuR+Hxo16ZPs9vcK7LcltrbwsYUE9ThulAj60vb2DTrOe7uZFhtoI2lllfgIqgksfYAVU8P+JNL8WaLa6vo2oW2qaVdJvgvLSQSRSrnGVYcEZB/KvhL4Q6/8XNU8WftMWnii58PzaVaW9yurw291dSfZJjZz+WtiHGPKJBLb9h9BmsT4M/Hz4u/AX9l3wF4vvfDXha6+FVmY7F4vtE/9stG9wY/NzgQ9c0Afo1RXzP4r+O/xS8b/ABd8U+CPg5oPhm5j8JLCusav4rlnWBriRN6wQiA7twHUt6VxPiL9uPxVJ8I/DetaD4QsR43uPGQ8F6p4evp2KQXoBLIjLg46YJA+lAH2dWP4i8YaJ4RGnnWtUtdLGoXSWVr9qkCedO+dsa56k4NeC/C744fE+z+Pi/C34qaP4Zj1DUNIbWtOv/Csk5hEauyNHJ53O7KnoPSuZ/4KJTaja+H/AIPXOkafFqmrW/xB02eytJiAss6rLsUn0J60AfXFFfJ+l/tH/FTwL8Q9f8E/E7RPCw1ZfCt54n0q88NSXDWzeSH/AHMolIb/AJZnJX2/Cbxd+1p4l8P/ALFOi/GWHSdJfX74W5exkEgtR5k/lHHz7sY55agD6StvGGiXnia78Owapay67ZwrcXGnrKDNFG2NrsvUA5HPvWxXwz4iu/ibb/t8fEaL4Xad4cudWm8NaeLm68TyTLbQRDYcAQ/OWJ7Yx719Afsx/HPUfjR4d8QW/iPSYdC8ZeF9Vl0bWrC2cvCJk6PGTzsYdM88GgD2aiiigAooooAKKKKACiiigAooooAKKKKACiiigAooooAKKKKACiiigAooooAKKKKACiiigAooooAKKKKACiiigAooooAKKKKACiiigAooooAK8W+Ev7XHgH41fEzxP4F8OTXz614fMn2hriFEhmVJPLLRkOSRn+8FOK9pr51+A3xW+CHi74zeONH+H+mw2XjOAu2q3SWgi+1hZcOVbJyA+Mgheo4oA+iqKKKAG1neJLA6poGoWY63EEkXPT5lI/rWjtpSMgiolHmi13KjLlkmfj5/wU68O3Wm+Ivgl8RBH/odvZNosjrk7JbWdpERh2LB2x67TnFeY+MNaEfgPVdR064Vytm8kMsZzz2/Gv04/ae/Z7034yeA/EHgDUpEsrTV5Bf6LqTZC2GoqDjJAyFbvjsx4r8K/iP4D8ZfB/xVfeD/ABTaXek6pZt5cto7Ha6noynOGU+or08hzmeBw1XDNXk1Z+TXX5niZ9kkM0xNLE81lF39U+h+rfw/+FPw0+Fvwn028u9D0eO1h0+K4v8AVNStUllkZ0BZnZlJ79s0mk/Hf4F+H5ZJNN8TeFNKLD52tVjiZuQCCQo9a6j4P+MPDvxM+F+g3Gm3VrqtlLp8KT27ssjKwRVKSRnOMEGvAP2wo7Hwb8PfiCL/AFPwxDp2rWdrb6Do1tZQJfQyhlMz7sBgDg4PX6V/HGCwk82zKthczlVU5Sa3dtWla1nstfRH7TUqRwuGhUoKNkv0Ot+OH7ZXw28O/DnWv7E8T2mua5c2k0FlbWO6RhKybVZjjAXPU5z7V5H/AME5/Bd5a/BH4teJDCyyeILzTfDWm7gQJpPNMkyjjsrLXxn8Gfgt4q+PXjyx8KeEdPa91K6bMkhBENtHnmWVgPkQd+/tX7ffs6fBPR/Cdn4V8J6B/pPhDwOjs98VC/2pqj/6yYgcHbk8++K/obIuHcHwzQnh8I23N6t7ny6x1TGYmOKrq0aevzWy+bPpzSbNdP0y1tl+5DEkY+gAFfKf/BRC41G18P8Awen0ayi1HWoviBpsljazSbFlnAkCLn8a+t8fLgVy3jr4X+GviUdEPiPTF1I6LqEWq2BaV08i6jzskG1hkjJ68V9ifMSbk7ngHg/wb8T/AIx/tI+FPiP488FQ/DzRPBthcwafpsmqQ3893c3MZSSTMXCooIxnBOOlea/Af4MQSft5fEGezuheeDPB1zNrFjbJzFa6pqUUfnRj+HKhZOh4yPfH3NrOkWuv6Re6ZfRmWyvIXt5owxUsjKVYZByOCeRXLfCf4M+Dvgf4cfQ/BeixaNp8kpnlCu8jyyHjc7uSzHHqaBHzzo/wx+JHhP4w/Hiyh8Jf2h4Y+IMEl1a+II9QiX7PILSVEhMTENuLuBnp1OaxvG37PPxB1b/gnjofwvtPD4l8bW0dsk2lm8txt2XRkb94ZPLJ2/7XWvtSloA+UL3wd8Vv2f8A41ePvFHgPwRb/Ejw744kgvZrGPVYdPnsLyOMoSTKMNG3Xgk1wK/sn/ESx8GeC7q6sbfVPF2ofFSDx34ljtLqIR2cRJ3orMy7goxnZk9cZr7tpKAPA/Evwx8TX/7anhHx5Bpm/wAKWHhW5024v/PjGy4aV2VPL3bzkMOQuOtcX8WPB/xW+OXg34S3useBYND8Q6J4+stX1HTbfU4Jkt7GFnBm3lwGJBHyrk+1fWFLQB80/Fb4J+J/HX7U+l+IbewCeFH8D6hoNxqhmj/c3ExlCr5e7eRiQHIUjrXzv4t+FP7Q+ufsw2HwOj+FFvJHo8kat4iXxBabLqNJmkUxxOynOCM7iORX6O0tAHyH4u8O/GD4c/taeMPiP4O+G0fjfw7rOi2emlf7ZtrKXfHtyyh2JwCOcgcV6B+yT8KvFfgPSvGviTxxDb2HirxprkutXemWsoljslYYSPeOCQM5xke9e+UUAFFFFABRRRQAUUUUAFFFFABRRRQAUUUUAFFFFABRRRQAUUUUAFFFFABRRRQAUUUUAFFFFABRRRQAUUUUAFFFFABRRRQAUUUUAFFFFABRRRQAV87fAbxl8Btc+Mnjuw+HFjZ23jiGSRtanhtJIzORJiQq7fKRvxnGOccV9E1594H+AXgH4beMdc8VeG/Dlrpeva0WN7dxFiZNz72ABOFBbk4AoA9BooooAKSlooAz9W0i11yxktLuMSxOMEHt7j0NeB/HT9mXwx8YdDTSfHvhweLtPt8iy1S3fydTsV9Fk/j/ABOPUGvorbRt9RXDWwsaslUi+WS6r9e50U6zguVq8ex+SHi3/gk3oa3jy+Efi9NpaMTssfEGjt5yA+s8Tjd/3xS+Ef8AglV4TttRSfxd8Vb/AF8qwZtN8M6QyStj0nldsf8AfNfrRNYwXH+shjk/3lBpYrKCD/Vwxp/uqBWcaeLT+OPrbU29pQ6xfpfT8j5x+EX7Nuj+BfDf/CPeDfDcXgHwxMMXkyv5mp6kvTEsp5UEe59q+hNC0Gy8O6bBYafbpbWsK7URBgf/AK6vFflwKdXTSo+zfM3dvqZVcRKolBK0V0FooorpOYKKKKACiiigAooooAKKKKACiiigAooooAKKKKACiiigAooooAKKKKACiiigAooooAKKKKACiiigAooooAKKKKACiiigAooooAKKKKACiiigAooooAKKKKACiiigAooooAKKKKACiiigAooooAKKKKAPyji/4LGeOJYUkHgDw/tcBh/pM+efxp//AA+I8cf9CB4f/wDAmf8Axr897P8A48bb/rmtTUAfoF/w+I8cf9CB4f8A/Amf/Gj/AIfEeOP+hA8P/wDgTP8A41+ftA+Y4H88UAfoF/w+I8cf9CB4f/8AAmf/ABo/4fEeOP8AoQPD/wD4Ez/41+fvPHysc/7JooA/QL/h8R44/wChA8P/APgTP/jR/wAPiPHH/QgeH/8AwJn/AMa/P2jHOO/pigD9Av8Ah8R44/6EDw//AOBM/wDjR/w+I8cf9CB4f/8AAmf/ABr8/tp5wCSOoAzSUbgfoF/w+I8cf9CB4f8A/Amf/Gj/AIfEeOP+hA8P/wDgTP8A41+ftHXpk/gRQB+gX/D4jxx/0IHh/wD8CZ/8aP8Ah8R44/6EDw//AOBM/wDjX5/YPpz6ZFJQB+gX/D4jxx/0IHh//wACZ/8AGj/h8R44/wChA8P/APgTP/jX5+0UAfoF/wAPiPHH/QgeH/8AwJn/AMaP+HxHjj/oQPD/AP4Ez/41+ftFAH6Bf8PiPHH/AEIHh/8A8CZ/8aP+HxHjj/oQPD//AIEz/wCNfn7RQB+gX/D4jxx/0IHh/wD8CZ/8aP8Ah8R44/6EDw//AOBM/wDjX5+0UAfoF/w+I8cf9CB4f/8AAmf/ABo/4fEeOP8AoQPD/wD4Ez/41+ftFAH6Bf8AD4jxx/0IHh//AMCZ/wDGj/h8R44/6EDw/wD+BM/+Nfn7RQB+gX/D4jxx/wBCB4f/APAmf/Gj/h8R44/6EDw//wCBM/8AjX5+0UAfoF/w+I8cf9CB4f8A/Amf/Gj/AIfEeOP+hA8P/wDgTP8A41+ftFAH6Bf8PiPHH/QgeH//AAJn/wAaP+HxHjj/AKEDw/8A+BM/+Nfn7RQB+gX/AA+I8cf9CB4f/wDAmf8Axo/4fEeOP+hA8P8A/gTP/jX5+0UAfoF/w+I8cf8AQgeH/wDwJn/xo/4fEeOP+hA8P/8AgTP/AI1+ftFAH6Bf8PiPHH/QgeH/APwJn/xo/wCHxHjj/oQPD/8A4Ez/AONfn7RQB+gX/D4jxx/0IHh//wACZ/8AGj/h8R44/wChA8P/APgTP/jX5+0UAfoF/wAPiPHH/QgeH/8AwJn/AMaP+HxHjj/oQPD/AP4Ez/41+ftFAH6Bf8PiPHH/AEIHh/8A8CZ/8aP+HxHjj/oQPD//AIEz/wCNfn7RQB+gX/D4jxx/0IHh/wD8CZ/8aP8Ah8R44/6EDw//AOBM/wDjX5+0UAfoF/w+I8cf9CB4f/8AAmf/ABo/4fEeOP8AoQPD/wD4Ez/41+ftFAH6Bf8AD4jxx/0IHh//AMCZ/wDGj/h8R44/6EDw/wD+BM/+Nfn7RQB+gX/D4jxx/wBCB4f/APAmf/Gj/h8R44/6EDw//wCBM/8AjX5+0UAfoF/w+I8cf9CB4f8A/Amf/Gj/AIfEeOP+hA8P/wDgTP8A41+ftFAH6Bf8PiPHH/QgeH//AAJn/wAaP+HxHjj/AKEDw/8A+BM/+Nfn7RQB+gX/AA+I8cf9CB4f/wDAmf8Axo/4fEeOP+hA8P8A/gTP/jX5+0UAfoF/w+I8cf8AQgeH/wDwJn/xo/4fEeOP+hA8P/8AgTP/AI1+ftFAH6Bf8PiPHH/QgeH/APwJn/xo/wCHxHjj/oQPD/8A4Ez/AONfn7RQB+gX/D4jxx/0IHh//wACZ/8AGj/h8R44/wChA8P/APgTP/jX5+0UAfoF/wAPiPHH/QgeH/8AwJn/AMaK/P2igCGz/wCPG2/65rU1Q2f/AB423/XNamoAPXtzivRvhx8DfEHxJtzd2yR2Ol/w3NwPv+44NefWsK3FzBEx2ozqCT2z61+i2g6Tb6LodhYWiKltbRIqhVABHcmvDzLFyw0UodT9B4TyGjnFWc6/wxPlLxR+yn4k0XT5LrT7q31jyl3GFAVkP0HT9a8UkheGZ4pEaOWM7WjYYIPpX6T/AHWG3r04Havir9pbR7TR/ijdfZI1iW5ijuHVOznrXNluOqYibpzPX4s4awuW0FicLor6o8r2nGcfh+OK+gvhH+xb4z+KGjRa3dTW/h7S5gGha6jPmSqe6qM8fXFeXfB3w/Z+KPit4S0q+x9ju9Sijl57Fua/XuG2jtljjijVFRQioowFA7L6V8vxdxHXyfko4Ze9I+QyXLKeMvUqbI/N/wCKn7EHjPwBos+r6fc23iSxh5mS1QpMB6hfT8a+cu5BGCCRz6jtX7WyBWyGVXBXG3GePQnvX5M/tFeG7Pwr8bfFul2CrHaRXuY416R5GcfhUcIcSYjOHOhiviXUecZZSwcVUp7M86WN5JERUZnc4VQOSfSvY/CX7MHiLxFp8V3fzw6UsgyI5FJcfUf/AF6574CaLb658UNJgu1Dwxl5dr9ynQfWvtrhmyABgYG0cCvos4zOphJqlS0PwnijiDEZbUjh8PufFfxC+AviDwBZm/YJqWnL9+a2BynucgV5r9Dmv0X1Gzh1GzmtZ4RJDMu2RGPGPpX57a7Zx6frWoW8TAxw3EiKR7dK6MnzKeMTjU3R6HC+d1c0hKGI+KJRooor6Y+8CiiigAooooAKKKKACiiigAooooAKKKKACiiigAooooAKKKKACiiigAooooAKKKKACiiigAooooAKKKKACiiigAooooAKKKKACiiigAooooAKKKKACiiigAooooAKKKKACiiigCGz/wCPG2/65rU1Q2f/AB423/XNamoAVflxzjucetfX3wf/AGgtF8QaHa6drd3Hp+qW6BC0x2pIB6H/AOtXyBSH5h83PpnnH41w4vCQxUbM+jyTPK+SVXUo6p7pn3r4o+MfhTwrpc1zPrFvKR92K3YO7fQDj9a+LPH3jG58eeK77WbobWnb5E/uL6VzoUKcgLn2GMUtY4XAQwrundnfnvE2JzuKpzXLFFzQ9XufDusWWpWbbLm0mWeNvRgc1+m3wf8A2rPBvxI0G1a91e00LW0jUXVjeSLEA46lWJwRX5e0v3lPY/wkAHb+fWvJzzh7D57BKs7Sjs0eJgMyqYBvkWjP1O+K37UngX4Z6DPOms2er6oEbyNPspFZtx6bjnGPoTX5i+KvE174x8SanreoMHvNQuGnlI/2j/hWXn5sjr7AA/nikrPIuHMPkcX7N80nuysfmdXHNXVkjY8I+Jrjwf4ksNYtFBmtZN4Unhh3Br7O8I/Gbwv4s06K5i1WC1mZcSW9wfLZTXwzQcMckZbuzHJNepjsrp460m7M/Pc54foZxaU3yyXU+xfih8fNB8MaLc2+lXsWoarNHtiFudwU+5r48kka4meWU7nc7mPvTcDBHTPdRg/nRWmBy+ngItQerN8myWjk8HCk7t7sKKKK9Y+iCiiigAooooAKKKKACiiigAooooAKKKKACiiigAooooAKKKKACiiigAooooAKKKKACiiigAooooAKKKKACiiigAooooAKKKKACiiigAooooAKKKKACiiigAooooAKKKKACiiigCGz/wCPG2/65rU1Q2f/AB423/XNamoAKKKKACiiigAooooAKKKKACiiigAooooAKKKKACiiigAooooAKKKKACiiigAooooAKKKKACiiigAooooAKKKKACiiigAooooAKKKKACiiigAooooAKKKKACiiigAooooAKKKKACiiigAooooAKKKKACiiigAooooAKKKKACiiigCGz/48bb/rmtTVDZ/8eNt/1zWpqACiiigAooooAKKKKACiiigAooooAKKKKACiiigAooooAKKKKACiiigAooooAKKKKACiiigAooooAKKKKACiiigAooooAKKKKACiiigAooopAFFFFMAooooAKKKKACiiigAoooo30AKKKKOtgCiiigAooooAKKKKACiiigAooooAKKKKAIbP/jxtv+ua1NUNn/x423/XNamoAKmks7iO3W4eCVbZ8BJ2jYRuTngNjGeKhr7K8TaPfeLP2CfAGn6JYzanqEmqlPJto1819nmbvmxnjH6iuijR9s3bocmIrKjbzPj7+zbtjGBazHzBujxGf3g2hsrxzwe1QSRmOQxtnepIZcHKkdQfQ1+nOlz+X42/Zrt33b10i8kcYXJxaLjcMfMdw714b8av2MfEvivxJ4/8W6Z4g0m+v1u5r5tAjkZ7pYt2QpboGx2xj3rrq4KUI3jqcVPMISlaeh8bc8gAkjqAOlLtP49hivd/hF+yRrPxT8FnxXqHiDSfB+gPKYYLnVX5kbOOnpTde/ZP1rwX8VvD/hXWte0mw03WUa4sfEW4m1dFUMQcjOeR2rlWHqNXsdksXS1Vzw2a3lt9glikiLqHUSIVJU/xYI6VHX6A/ty/BuDxRY2HiSXxlpWnSaLom2PTLlh5t9j+JOefxxX5/Uq9B0Z2DC4j28LoOpwM/kcfnRzyMHd/d/zxXdfBf4U3Xxq+IGneErPUINPnvUdxcXKF0+RCxBA74Brs/h5+y3qHxE+LHi/wPba9Z21z4cWRp7qSElJ9j7WAH19cVNOjKeyNJV6cHaTPItB8O6r4ouvsmjabd6vebWc29jC0zhR/EdoPFVJLWaG4aCSGRLhXMZhZDv3A427cZznjFfWX7Evw98UxeINS8Q+EvGnh3TNcikm0ttM1i0knaaNergK44968A8ReIta8I/GTUtce4guNf0/WZbl5ljAieZZdxIUg/Lu7elaOiowUm+pjHEOVSUFsjjp7G5tVDTW80SMwQM8bBSxBOAcdeKW3066u498FtNOoO1mijZwrYztJAxmvsv8Aa48a6p8Rf2UvhV4l1iSNtT1LUWkuDBGI0PyyYGB9DWd/wT3+K+vWfjyP4fwtbr4fuRcag6tCGk8wDAAbjitPq8PaRp30Zl9afsXVtsfH0iPE7pIjRuh2srDBU+hFJXV/FhQnxR8WYA41W5A2jAAEmAMfSuUrilHllY74T5oKRK1rMlulw0UiwPgLMyERknPAfG3PHrUZUjOQcjrweK++dO+FM3xe/Yq+HWkR6xp+hQLd+fPqOosRGqgyDacck8V84/EL9k/xf4E+Jeg+DbYQa1ca8u/Tb6zykMygAkn0AyOxrrnhJR21OGljoSbjLRo8TPy9f8/hRX1F4l/YF8T6Hoep3OleKND8Q6vpcLTXukWLgXCBRkjvzXy6eOoIOcEehzjFYVKcqPxaHVSr06/wMXaTnAJ/3QSPzp81tLbsqyxSQuyh1SRCrFT3we1dV8KfBMfxE8c6doc2sWehw3DOXvr0fuECru5Hv24r7Q/bq+EFr4ot7HxQ/i7S9Ok0XQ9sel3Lfvr3BxlPX8SK1p4eU4Oouhz1MXGnVjSl1PgY2sotVufLYW7HCzFSEJ54DHg9D3qLHUYII65BGK+/bf4W3Pxi/Yr+HOkJrNjoUS3PnzahqDhVA3SLjIGSeD1r5q8efsp+MfBPxT0fwPElvrF5rKh9PvLbKwzKQCWOewyM8Vc8LOKTS3FTxlOpfm0aPGNp78fXj9KSvp/xN+wT4l0XQtUutK8UaF4j1bS42lvtJsZP38YXr1r5gUFs8EEHHzcc5xisKlKVL49DppVqdb4GFHvn8+P0rd8DeC9V+IvivTvDuhwfadTvpfKiTnA4zkkDpX0F4q/YJ8T6H4d1a+0fxPoviPVNLjaS60myOJ0wMkcjrThRnUXNBXQqmIpUnyyep8wDLMQASR14zigDIJHOByAMn6V6v4q/Z+vfC/wP8O/EiTVYJrPWZhAlgkRWWJjv6n0/dt37iuwvf2Sbnw3r/wAPYNS8YaZYw+KIHuobyaIxpaCNFcBuOpDj15zTjQnfVESxVK2jPn24tZrVkWaJ4ndd6rIhUlc4zgjpUYUtwFOfTGK+/P27vg/b+JIrbxVL4s0zT5NE0RVj0m4OZrzDcsvr+OK8S8C/sT6p44+G/h7xifFmi6RpergFjfRMgt854yfoa1nhZxnZamVLG0501UlofN+DyCOlHPHH3un/AOuvom5/Yq8T2Pxi0nwFcavYxLq1rJd2msRxM0MiIoYgDHXB9Kwfhz+zBqfxG+JHjHwhba3Z2k/h0SNLcSwEpLsbacAe/wBKzeHqdjZYyi1dM8Yitpp1kaKKSRYxl2VDhRgnJ44HB61Hz6HP0r78/Yz+FcFp8HfG9z/wlGmNL4h09oJI1I36btEilpOenB6Zr44+Lnw3i+FPjJ9Cg17T/EyLbrIL/TRiFt3QAZ60VMO6cVPuZ0cVGrUlTOKo/A47nHSlC7q95+D37ImufFXwafFd3rmmeEdBaTyra81bObg+qjGCPxrGMJTdoo6alaNL4nY8FyOueO59K3bPwD4m1DRm1i18O6pc6QoJN/FZyNCAO+QK9V8Qfsg+NdB+LFh4IebTBNfwtd2WqTXJjtZo1AJG/bnPI7fjX298TrD4n/D3wZ4ctvh5e+GbLQ9J0F49S0/VX+SZgAd0a4+c8jriuunhHJSdToefWxyjKKhrzH5YMNue4BI49RSfXjpx9alurp7y6muZMCaZy7eWNoUn0Fdb8IPBUfxC8f6Voc2t2fh6GZ2Y6hesPLAUZwT1ye3FcfLzS5Uek58kOY5Ka0mt5EjkieN3UOqyKVJUnGQDjihrWZIY5miYQSEKkxGI2JBOA/3T0PevvX9vL4QQeJJLfxXJ4u0izk0jRVRNHnI8+6+b7yc4P4kVK3wnn+M37GPwt0ePW7HQoVkW4l1DUPljHDrt4GSa7vqcuaUfI8z69FwjU6NnwCVI65/I0bT6fnx+lezeNv2VfGXhH4saT4DiS31O/wBWTzLG8tt3lOuAS2eDgZHau28WfsH+JND8O6tf6N4p0LxLqekxtJfaVYv+/Tb1XkdaxWHqvaJ1/W6OnvHzFShdxxSfoRnI7jFdf8K/hpqvxa8YQeHdGnsre+ljeQPfzeVEAoyQWwefwrmSbdjec1GPMzNtPAfiW/0b+17bw9qlxpW0t9tispGiwO+4LisI5GMjHbnj6jmv1O+KOn/FD4f+C/D9r8Pb3wxZeHtL8PvHqem6rN+6mYKG3ImPmPPcivi74T/sm6/8XfC83jC/13SfCGiXczJBcampUTM3UoqgBR9DXdVwji1GO551HHKUXOeh4JHG80yRxo0jyEKqoCSWPYAc5qSazuLdQ8kEsaMSqs8bKGIGcDI616r4++HPjD9lT4naTPc/Zbm6tmF/p9+FEsF0uAcEED19K94/bM8X6j4//Zz+EPiDVpEk1HUpDPOY4wgZjHu7e1ZLD+7JvdGssUozhyq6kfGttpt3eIXt7S4uUDFN0ELyLuHbKgiq7qY2ZWG1l4YMMEH0PvX2Z/wTu+K+uf8ACaH4e5tT4fa0ub/a1shk8wf7RHSvnBvAur/En406h4b0K2W51K81W5RV+6qKHOCcA4GAelDoe5GUXqyo4hupKE1scCeOvAo9fbrxnFfTnjL9g/xN4b8N6tqOkeKdE8TX2lIXvdK04lbhAOuMivOPGXwDvvBfwV8MfEaTVbe7stdkEcdgkLLJCfm+8x442Hue1J4eot0aQxlGXU8qz3PA9f8APStXVPCet6Hp9nfalo2oafZXg3W1xdWrxpMNu4bSwGeK9c8dfsuXXw/1zwDYal4n09YfF8YlF48JRLRT3k9f1r0r9sHR/Gvhz4S/D/T9b8S6D4h0CCTyNPk0iyaEkJFkElmPFP6vJRk2tjP61HnioPc+RMdsNn02n/CjqcAj3ycAfia+lfAv7Eep+Nfh34c8Yv4y0bSdL1qMSf6bGyeTkkY578GuZ8Sfsj+NdC+L+nfD2BbfUbzUIvtFpqETbLd4MAljkZ4yM4BpPD1IrYqOMoydrniHPXBA+lH619e2f/BO2/vBe+V8SfD9xLYgm6SCEv5OOoYDkH8K+SLyBbW6ljVlcRsykr0OO49qipRnStzGtLEU611HoQ0UUVidBDZ/8eNt/wBc1qaobP8A48bb/rmtTUAFff8A+xn8QNP0n9m+/vdRkz/wierOylmHyi4Kj/4v8xXwBW7pXjbXNE0HU9EsdTuLbStTeOS8tVI2ztGcpnjj3rrw1b2E+Y8/GYZ4mCinazP0O8RatBb/ALb3wy8M2j5t9F0S4G3sDJCdoH4DmuQ/ZtnNx+2J8aInl3RNDcjaZNwXEuBxmvjaD4yeNbfxwvjNfEN1/wAJUkflJqZALBdrDGMe4p2g/Gfxt4X8Tap4j0nxFc2OuapuF7eIiFpgWycjFdjxkW726nD/AGfLltfpb8T69+F/w38P+E/gDZ+Lrb4dp8Vdc1bUZEawuCkkVl8+MhSCAPwrL/4KHBrbwr8K2m02HSpRHOz2MfIt/lQ7FbPpXy74N+O3xA+H9jdWXh3xXf6TaXUhkljhIIyxy2AenNUPGvxY8X/EWx0+08Sa/c6xBp6stqs4XMWQoznucA05YunycqQqeAqRqKUnofZn7UHwI8UftB+L/hzP4Vhhn06fQdsmpyn/AEaHHXeVBwfwNfC/iTQ5vDHiDUNIuZYZ7iyneB5Ld98bFTgspwMj8BXW6F8e/iH4Z8Kt4a0vxfqVjoTKYxZo4OxD2Dda4IsWZizbySSWI5Yk5JJrir1IVLSitTuwtGpRXLJ6dD1b9lnxUng34+eDNRkby7f7cLZ29BKGUk+3NffM/h3wl8KL74i+MrMwr4g0+x1CTWpPMHztO3mwfpwenPTPWvyzt7iW0uIp4XMcsTrIjDqGByDXX6r8Y/GmuLryX/iO+uI9eWJNUBZR9pWLhAePTrW2HxSowcWjHFYKWIqKadj3X9gPwjrs/wAa7LxN/ZV22i/ZbuB9SMZERl9PrXkXxi+H/ia1+Mes6fNod9He6rqU8tjA0J3XKNLwUHeq/gf9oL4h/DfQU0bwz4putI0xZGm+ywxRld56nJWq2ufHLx54k8W6T4n1LxJdXWvaXj7FessYaDByABt5GamVWnKmoO+5pGjWjVc1azR9P/Hj4c+KLj9jj4W6bFoF9Jf6RPJPf26xfNbRhJSWf0HIrjv2APB+uN8ZrLxGNJuzoYs7qE3/AJR8rf8A3d3rXmWpftZfFzV7G5srvx1qEtpdRPBPF5cWHRwwIPyehFZHgn9oT4h/DfQ00bwz4putI0pZGl+yxRRlN56nlauVel7WM7bHOsPW9jKlpqR/HTwvq/hb4oa+dZ06fTVvtQnuLY3K7fNjaXhh7V5/XVfED4oeKfinqEV74s1q41u5hj8qGWcKDGmc4GB61ytcNSScm0epSjKNOMZbn3B4g8C+IvH37AvgOx8Oafcatdw3gllt7Y/O6b5Qeh5617BHcxeD/iJ+zzoevzRwa1b6ReW8sdww3o7QKq5OeCWHFfAfhv8AaH+JHhDRdO0jRvF19punabzaQQbQIzljg+oya5zxV8QPEfjbxENe1vWbrUdYUIFu3cqybTwVx04r1PrkIpNbnj/2fUk2m9NT9JtP1S/8L+PvGk+gfAo2WoW6SG616TWVt479CeMboyOlfmDqlwt1qV5MqbA8ryBV+7yciu+8RftGfEzxZ4dfQdW8a6peaQ6CNrZ3GWXvl8ZrzndjgdO9cuIxCrWSOrB4WVC7kPhIjmjdhkKwJx1IAx/KvvX9qT4C+Kfj/wCOvAFz4Vihl0y50H59Umf/AEWEg5IcqDj8jXwRurvdD+PnxE8OeF/+Ec03xfqVnoewxCyRwQqHsG60qFaNOLhLZmmIoVJzjUp9D6T+PGkXHhj9hnwRpE88cs1rqxtJpbdso+0ykYYcEZNe4HVLSz+JH7O8t7KiTXmhXcEcspHzu1sm07s8fNX5z6l8UfFOs+DLLwlf6zcXfhuyl86205sBIn+b5s9SeR1qTxN8WvF/jK10W31nX7q+j0YY0/ICNbgKoAUj6V1rGxjK6WmhwvL5yWr7n6L6bq194Y8c+OJ9C+BLWF5DFKLvXpNYSFL6P23RkZr8w9TuDealczbVTzJWk29QuTkYrvvEX7RvxM8W+H20PV/GmqXmksnltAZACw92AzXnGSck9TXLia6rWsdeDwssPfmPoH9hDU7TTP2ktAN3IkQlinihZyABIV+TBr6D/Z7+GfizwD+0F8V/E3ibT57Hw+8V2wv7riKfdNuTbuODhOD7/nX5/wBrcTWVxFcW88ltPC4eKWFsNGQeCD64r0DxN+0R8SfGmgtouueMNT1DTGG1rdpQA31IFXQxEKcbS3RniMHOrUvHZn034v8AC+q/GD9iHwZB4NsJNZns9XYPb2uC6gGUZxngfvF6+hrP/b0s5tD8J/By0v0VJ7OyaOfnJQqkS4BHrg18yeCPjN43+G9jeWXhjxNfaNZ3Z3TQQsCrHHJGRxz6VX8afFbxd8RrXTYfE2v3Osrp6Mlt9qVW8rO3nPGTx3rSWKhKLaWpjHA1IzV37qbPs79qb4B+KP2gfiF4EufCsFtNpc+gDdqcx/0aPByRIVzg/gaq/Ej4W+J9e/Yn8F+HtDsH13UdNvSlxHYOZPNRWkUsMYJGRXyfpHx++Img+FG8Naf4v1K10IqYltFcfLGewbrXuusftFWnhb9ln4e6R4N8YPp3jjTbrN1DbI6zRRkyFw2RtPLjv61tCvSm5Se9jKpha8FGCelz6IkvE8J/FT9nbRNauFj1y30a8t545pBuEjQqqg5Pcg9a5/4BfC/xN4Q/aC+MOuavpUtlpV7HcfZbqThZg8m4FfUYr4E8R/ETxP4s8Tr4j1fXb7UNdR1eO/kl2um08AADjjrXayftWfFyS4Ez+PdUlk8ow/vCrDafbHWo+uwb2H/Z9VK0Gtd/vPbf2IU/tjQfjN4ftT5uqahprC2tsfM5xJwg9cuP1rwr4jfs5+K/hP4D0HxL4jWz0+DVnMcenmQrdR46FlI4H0Jri/C/jbXfBevJrWh6rcaXqa5/0m3baSD2Iq746+J3ir4nahDfeK9eu9cuoVIie4I2pnuF6VyTrQqU+WS1O6nhqlOrdPQ5hWxX2p4y8G638Vf2IvhnB4OsZdcn02423ltYvl0PqQDXxVXaeAvjP43+F8c8XhTxJfaJDMdzwwOCmfYEVOHqqndS2ZpiqEqsVy7o+jf25vO8O+D/AIPaNcytHr+naTIt3Gsm2WEsFABOc9jTf29rqaHT/hEsU8yI+gMzpHKQHyEGTg/N+NfK/ibxZq/jPWptW17UbjV9SmGDcXTbiB6AVo+Nfid4o+I0emr4k1mbVf7Oh+z2nmqo8mP5flGPpWs8UpKaS3MIYNxcG+m5y9T2rrDdQySbnEbh+2eD/hUFJzXAnyyTPUkuaLiffX7U/wAA/FP7QnxK8F3HhaG3k0qfQfm1WY4t48HOHIB5/A1y37Qmnz+H/wBh34d6bNcK7W+o/Z5ZLeQ+W5UPnB4yM1836T8fviJofhRvDVj4v1K10PyzCtojj5UPYN1rI1b4oeKdc8G6d4UvtauLvw7p0nm2lhIBtib5vm3dSee9eq8VTjdxWrPGjg6q5YyeiZ+kB1Kys/i58A5buSMS3WgXcEEznlpDEm3BPfNQaZrF/wCF/Ffju40P4ENpd1bxyG61uXWlhW/U9CN0ZGa/OzxR8XPGPjT+xTrXiC8vn0WMR2DZCG3wFGVKj0FbHib9or4leMPD7aJrHjTVL3S3QRvbs6gsvfLAZrR46PRGUcvnGSZ5/fSrcXk77dgkkLYXsDTbe4e1lSSOSSJ0yA0TlWwRg8io85XnrSV46laSke5KKceU+vP2+bmeG3+FIjmeJZdAYsFcgPkIOQD83HrWx468Ha78VP2J/hZa+D7GbW5NOm2XdrYuCyN6uAelfKXjT4meKPiJ/Zw8SazNq402H7PZ+cqjyY/l4GPpV3wD8aPHHwvimh8J+Jr7QoJjueK3cMoPsCK9BYmHtG2tDy/qc40oxjumfS37bGg6jqFj8GfB9vbSX3i220poZrGEbp9xCgA+/Bq7+0j4B8Rz/sq/CW2j0S8e40eJpNQiEfNsqxbSX9Oa+Uh8U/Fn/CbQ+MDrt0/ieJ96ahI25k9gDXX6p+1b8W9a0u80298d6ncWN3C0E8TbMOpGP7tP6xTlz83UlYOqlCz+E9b/AOCeXgvXYvjBD4kbSbtdCk027gW/MRERk/u7vWrH7NGkXngT9sx7bxDZz6PNqH242S3ieWZdzPsKk+teFeC/2ifiN8O9Di0Xw34rutK0mMtItpFFGUDnqRlaxfGXxY8XeP8AX7TXPEGv3mqaxZqqWt4W8p4gpYjG36jNRGvCMILsaSwtWc5tvRn2r+zr8N/FXw5+MXxe8R+K7CbT9Ca3uv8ATrvAin3S7k25PPy8fWrHwPt/B/xg/Zl8PQeL/In0bQdUubORGJQeZIzLCOvrIv5GvjjxV+0J8SPHGgnRde8ZalqOl42m3LBBJ/vEVzemePvEWi+HbrQbHWLm30e5uYrqS0UgKZYipR+nXIOa6FjYRdktDlll9Som27M+lf25lu/EHxO8FeANGtn1G/0fRUhEFucyGQru4/Cuj/aY+H3iW4/Za+ElqmhX73WiwNJqSeUxa2UQ4LSegr5VPxY8XN46Txmdeum8URsrJqTBS/CbcYx611WrftVfFjXtLu9O1DxvfXFldwtBPEYo8SqwwwPy+lY/WYS53K+pusHVpqmoPY9p+O0kkf7BnwkIkKq06A/Nw4COetfQGtXtza/HD4AfZ5IVkudAuo5zMMkxmBCyg9z6V+c+sfE7xRr/AIN0zwrqGszXPh/TCDZ2LKu2HAYcH6GvYPgT+1BeaP8AFjw5rPxG1K41rSdLtZbG1l8tS1groq71A6jit6eLhzWe2hz1cBUULrzPe/iV4+0b4GWPju48FfCLxRp+va08tveaxqEJ+xrn70iEO3y/gPpX59jG0ENkYI56n1r9HLn9qH4d+EbHxJqV58WNW+INvfwyJbeGptPURxlumP3K8V+dF1MJ7iWRUVFZiVUdFBrHGyi7NO5vl0XG6cSOiiivMPbIbP8A48bb/rmtTVDZ/wDHjbf9c1qagAooooDzCiiigLIKKKKACiiigAooooAKKKKACiiigVgooooAKKKKBhRRRQAUUUUAFFFFABRRRQAUUUUAFFFFABS+oPKnjBGePzpKKa0D1CiiikAUUUUAFFFFABRRRQAUUUUAFFFFABRRRQAUUUUAFFFFABRRRQAUUUUAFFFFABRRRQAUvoct+fIHpnvSUUAKGK89T2JJyP1pKKKPQS0CiiigZDZ/8eNt/wBc1qaobP8A48bb/rmtTUAFeneCf2Z/id8RvD9trfhvwjdatpdwzLHcQzQhWIYr3cdxXmNfdvhKz8X6h+wj4bh8CrqR17+0yF/ssfvQnmuCcdMfjXXh6casmpHm4yu8OotdWfFvjDwVrvw/1yTRvEemXGj6pHyba6XaxGQMg9COfWsQ/L1OPrx+lfof8cvAuj/Ebxx8CvB3j65nttfvLGaLVHs5RHOH8tduSQerA9a8e+Gv7KXh7X/jb8TvDWuy6xZ+HPCsLTQXMc8aSHB3JuYx+laVMJLm/dkU8dFxvNHz14L+F/in4iWuqXPhzSH1WHTYfPumimiAjTBOTuYelU/BXgfXPiJ4ht9C8Oae2p6vcKzR2iSIjsFUsT87AdBX27+xHa/Dv/hWfjj7Lf6t/aVxYOuvRvgqkOXxs+Xk49cV51+zlZ+BbH9sTwxH8N73UNT8PfYJiJtVKtIJTE5ZflA4/GrWES5Lvcz+vS/eLl+E+Wde0G/8Ma1e6TqlubTUbOVop4GdTsZTg5YHb+tUOewz9K+7vGv7NXwz+LPi/wCJFvoPi/Urj4j2c09/NbEhbVWJyFCbeR9a8v8Ahf8As5eAbH4QQfEX4s+IdS0TSdRuTDY2um5DsQWHJIY/wH9Kzlg5Xsti4Y+Dhd7nzHsbaSVYAHByp45xmmdhgE56YGc19gt+xf4Yh+N/gzSotYvtS8A+KbOa7tLy3ZI7pPLiEgBfaR0I6A1rTfsf/CjxNN418N+DfFurXXjnw+jyGC4ZDDj2Gzr+FT9TqFLHUj4pqays7jUry3tLSCS6urhxHFDEuWdj2ApkkbRsytwynBH44r3/APYS0+31D9pLw99ohSUQQXMsaOoZQ6x5DfnXNShz1FBnZWqOnTdRdDifE37NHxR8H+HX13WPBeo2ekxrve5Oxgq4zkhWJ/SvMm+Vtp2g+7qP619IeMf2sfiP4N+K3xBht9Yj1Gyu7y7sDY6lGJoIo1faCq5q98Mf2efAVp8I4fiN8V/EF/omk6nceVY2mllUc9eScHjjtmuuVCNSTVLp3ONYiUIKVZb9j5i+8QB82fQZ/Sup8B/DDxR8T9QurHwvpEmr3drF580MUiKUTOMncwr3/wAWfsY26/FzwTonhnXZb7wj4rhe6t7+YbpYY44xI2SB1IIxjPPpX0H+zn8M/hV8P/iZ4vsfAXibUtV1rT9Oex1SyvhvH38Eq23nHfOKqlg5SlaZFbMIxp3hufmvJC8M0kToVljYoydww7VLp9hc6tfQWdlBJd3U7+XDDCpZnb0A/wAa+o/h3+zT4Hk+G7fEH4oa1rFlpeoXrR2FlosYeXG4rvJ8tzjIrM+K3gG7/Y9+InhPxn4H1RNV0zUIGn0yXVbfeYyACVdSBnqKynh5wjzdDeGNp1JKF9TzfxV+zD8VfBPh6TXdb8D6pYaTGu+S6YI6ovckKxI/KvL88AjkZxkV+gXwH+JnivSPhx48+L3xW8QyN4Z1y3aDTtHuPu3Uh6iOI9q+AJpPMkdlUIpOQo6VyHoDKKKKACiiigAooooAKKKKACiiigAooooAKKKKACiiigAooooAKKKKACiiigAooooAKKKKACiiigAooooAKKKKACiiigAooooAKKKKACiiigAooooAKKKKAIbP/jxtv+ua1NUNn/x423/XNamoAK+3NL8ea58Pf2A9B1Twxq8mk6smpMDLbyL5gVpnJ+XOcfhXxHUhmdoViZ5CinIj8xvLByxzszjqa3pVfZp26o5cRh1X5U+h0S/EbX5PGln4svdTu9U1q0uI7kXV1KWYlDwo9Biv0F/aQ+IGjeHf2eNZ8baMUi1Tx/bWluZlIVn3L8xHPSvzU2qzLvLKO+2vcv2i/j9pfxc0bwToegadeaRofhyzEK2twUwZQMKQFJyPrj6V0UK/s4TUnqzixGG56lPlWi3O7/YN8QaUNW8eeEr/AFCHTbjxHpQt7Wa5kCB3+bKg568ivSvgn+zfpnwD+MHw8l1HxTDeeNbo3gutNhdGt40ELANuyOueM18FK21kdSVlQ5VlJBU+oI5pwmk85ZjLIZBxv3HzMYxgP1HFKGJUUk1exVbBOpKTjK3Mfev7NOE/bC+M7FlRXjudrFgQ4875cN3+Ws7SfB6/tOfsvaJ4P8L6tp9t4j8O6q5ns7+UoSoeQZyAePnHb1r4aWRkd5EZo3fIdkYhmBOTlgQTRHIYmdkd0ZxhipwW5yST3Oa1jjLK1tCJYDXmT1R+lthq2laH8cvgd4At9St9Q1LwvpV2l/LbvuijY2yqAW6dQa4f9moj/hr74zsSoV47rBZsBx53y4bv8tfBSytHIXQurnOXDlXIIwQWHPSiORo5HkV5EZ8h2DnewJycsCCeaHjXdaCjl6tuWNXOdXv2HKmeU8dCM5GK9g/Y98b6V4B+PnhzVNbulsdPIntZLh/uRs6bQzei5/8A1V4pwWBIz3696OucgFc/drhjUcZ856MqKlTdJn2j48/YztYvEfjvxp4s8cabpPhSaa41DT5rGRJZXaSTcqsvHbrgmr/hXwYn7TX7I/hTwd4T1exg8ReG7397bXz7Dt+bnoc9a+I5LiWaMo8kjr2R5XdP++S2KarsjMyuySN1dDtJ+vrXWsRCMnaOj3OF4OpKKTntsfo3qXxK8LfDH4yfBTwdc65a3U/h/TrixvryGQGKGSSBY1yw46g59q3vgr8Ab/4V/Gr4heJ7/WtOurLXo5pLCKGb96yyS7juH+77nmvzFYlmJLMSzBixJJJHfJpzTSN83mOj7doZWww9g3YVosb1cdtjF5a7WUt9z9H/AIG+ONc8Yfs9aVo3w41PQU8Y6JdPb3NlryeYNgdmyDj0PpXgv7dXiLV7nVPCmi634o0LX9RsYGkmtdFsxClpIwUMu8MRt4NfLKyFWJDMrHq6nDMfUnvSMxZiWJYscsXJYt9c1nVxkqkORo1oYBUanOnsfWv7RPw91Dwz+zD8Or+4+JEviLTm8prfRGjgWKFnjzmPyxuOD13Yr5Jp7SMyqpdiFztVmZkXjHyqTgcelMrzz1wooooAKKKKACiiigAooooAKKKKACiiigAooooAKKKKACiiigAooooAKKKKACiiigAooooAKKKKACiiigAooooAKKKKACiiigAooooAKKKKACiiigAooooAhs/+PG2/65rU1Q2f/Hjbf9c1qagAooooAKKKKCQooooKCiiigAooooAKKKKACiiigAooooAKKKKACiiigAooooAKKKKACiiigAooooAKKKKACiiigAooooAKKKKACiiigAooooAKKKKACiiigAooooAKKKKACiiigAooooAKKKKACiiigAooooAKKKKACiiigAooooAhs/8Ajxtv+ua1NUNn/wAeNt/1zWpqACjn0or6E+GP7P8A8N/GHgjS9Y1v40aL4W1W6/1+mXAj3RfXL0AfPf8An9cUgORkc19D6/8As+/DnS/GXhrSbb406Lf6dqX2j7ZqSrFtsvLTcufn710Mn7LfwkijJX9obw6cf9cf/i6APljjpn6e9Awe/wDnOK+ifh/+z38N/FXhO01PV/jVovh+9m8zfYTLEWXDbRj56Zr37Pfw40rxl4Z0m2+Nei3+nal9p+16kqxbbPy0yufn70AfPNH48dvevqib9ln4SLCSP2hvDuR/1x/+LrA+Hf7Pnw38VeEbLVNZ+NWi+HtQm3eZp9wsWY8HHOXoA+dyMLk/l3pM/j9K+hdc/Z7+G+n+MvDOlWnxp0W/0zUvtP2zUkEarZbBld3z966Rv2V/hNCm4ftBaCR/1zj/APiqAPlbvj8j60e/8P8Ae/HFfRHw/wD2evht4q8J2Wq6x8bdF8O6hN5nmafcLGTHg4H8VJrf7PPw20vxp4Z0e2+NOi32m6l5/wBs1ZRGq2WxMruG/vQB88Mdvv8ASjp149M96+qJP2WfhNGhZf2gtBIH/TOP/wCKrA+H37PXw38U+EbLVNW+NmjeHNRm3eZp0yxEx4OOcvQB87d8Umfmx1r6I1v9nn4b6X4y8NaPbfGjRb7S9SW4a71RRGq2ewZTPz966Cb9lv4SRxlk/aG8Okj/AK4//F0AfLH+Rz1oAJzx/nOK+ifh9+zv8N/Fng+x1XV/jXofh/UJ879PnjiJTH/A6Zrn7Pfw40vxv4b0e3+NGi3mlX63DXWp4j22nlrlc/P3NAHzzn5sdaOOOevT3r6mb9l34SQxlh+0L4dYj/rj/wDF1ifD/wDZ5+G/irwhp+qav8a9E8P6jNu8zTpliJjx6/PQB86YPXHy5xmjj1zX0Lrn7Pvw403xx4c0i3+NGi3mmajHcNd6riPbaGMZUEb+propv2WvhHHCSn7Qvh4ke0P/AMXQB8sfd68D3owcEgZUdSOa+iPh7+zv8NfFXhCy1TVvjVonhzUrj/W6bOIyY/zema7+z78ONN8ceHNItvjTol5pmpRXJutVjEaraFBlQRu70AfPXDNhTu+lFfU11+y38I4Yyw/aF8PSEe0I/wDZ6w/AP7PPw28UeD7HVNY+N2ieHtQuc+Zp06xkpj/gdAHzqAW3EDKjvRn8a+hta/Z9+HGneOPDmkW3xp0S80zUEuHudVUR7bTy/ugjd1NdBcfsu/CSG3cp+0L4dJVS2MQ5OPT56APlk8KDng9PelCkqW/hHU19E+AP2evht4s8JafqmrfGzRNAv5879OlWNimP+BVFrf7Pnw20zxx4d0a2+NWiX2malHcPd6sBHttGjGVBG7vQB89fjmg8Y9+lfU037LvwkjhJT9oXw6SP+uP/AMXWF8Pv2efhv4p8IWGqaz8bNF8Pajcf67Tp1iJj/wDH6APncDcARyvr6UmevfFfQutfs9/DfTvHHh/SLb40aLeaZqUVy11qqiPbaFPugjf3rpLj9lf4TwwsU/aC0En/AK5x/wDxVAHyvj8s4zSe4+ZfUV9FfD/9nf4a+KvB+narq/xu0Xw/qFwm6fTpljJj/N6j1r9nv4bab448PaRB8aNFu9M1COd7jVQI8WjJ90Eb+9AHzxnGSeAO9OxjHucCvqe4/ZZ+E1vEzr+0FoLv/dMcWP8A0KsHwD+zv8NvFfg/TdV1f426L4f1C6TdLp06xExfX56APnbHBI+ZR1IpOmSTgDvX0NrH7PPw30/xx4d0iD406JdaZqUc73eqgR7bRk+6CN/euhuP2WfhNDDJIn7Qegyuozt8uPB+nzUAfLB4/wD10m4dQdy+or6L8A/s7/DTxZ4O0vVdX+NuieH9Suo8zabPHEWiPvl6j1n9nz4b6b448P6RB8atFutK1CO5e41YLFttGT7oI396APnn8c0V9TXH7LfwmhtXeP8AaD8PuVXdhViyfp89YfgH9nj4aeKPB+marq/xt0Xw/qF1HmfTpljJiPvl6APnUAkZx8vrRnGc8Yr6F1r9n34b6b458P6Pb/GnRLzTNQhuJbjVcR7bRo/ugjd3robj9lz4SQwSlP2hPD0rL2xDk/T56APlmjjGQcr619FeAf2efhn4o8G6Xq2r/G7RfD+oXUeZ9OmWMmI++WqLWP2ffhtZeOvD+jQ/GvRbvS9QiuZLjV1WPbaMn3Qfm70AfPKndyOmM5pTxX1Le/sv/CS3t5pV/aE8PTyImUjxCM/+P1i+A/2d/hn4q8H6Xqur/G7RfD+oXUeZtOmWMmI++WoA+dO/HPf8PWjpyTgetfQ2sfs+/Dmx8eeH9Gh+NWiXWmahDPNcauqxYtGj+6pG/vW9dfsu/CS3t5ZU/aF8PTSJGSkY8nkj/gdAHy2cjtx60uPT5h6jpX0V4D/Z3+Gvinwfpeq6v8bdD8P6hdR5m06aOImI++XqDWP2ffhrp/jrQtGg+NWi3Wl3sNxLcasBH5dq0f3Rt3d6APnv37etFfUlx+y/8JYbeWVf2gfDs8iLuWP9yM/+P1j/AA//AGdfhr4r8G6Xq2rfGzR9A1C6jzPp0scbGI+/zUAfOeDjIG5fUUeh7YzmvoXVv2ffhvY+O9B0e2+NOi3ml30E8tzq6iPbaMn3VPz9TXQ3X7LXwngt5pV/aB0G4kCZEflxjP8A49QB8snij+6ByW6Y5zX0Z4B/Z1+Gnizwdpeq6t8btF0DUbqPfPpsqxlom9D81cH8cPhj4T+Gs2kR+FPiFpvj1L5ZGuGsFTMGOn3WNAHl9FFFABRRRQBDZ/8AHjbf9c1qaobP/jxtv+ua1NQAUcbssiyE9dyg/wAxRRQAKqqWwAu773yj5uMc/hS5AyAOD70lFACMASPlXP8AeCjPByOoPelXapfaijd975Rzxj+VFFAB1yD0PvScZOVVif4mUEnJyeopaKABtpz8i8/e+UDdz349KTZGOBGuP9yP/wCIpaKAFBwxyFYn+LYMnnJ9abgbSAqqDjdhR83GOePSlooAMKMjYuD/ANM4/wD4ilOCxbau8/xBRk857g0lFACbRsZQFUNgNhRyM/4U7IGQBwfekooAPUlV3nPzBRxn6g0YAXAC4PB+UcjP+FFFABkjIA4PvSEAtu2rv/vBRk/oaWigBVIVcBFweT8o5Ofp6Uu7GQBwfem0UADBZB8yrnv8oOfzo+XDAIqg88KOef8ACiigA3HkYyD70cbtzIjPz820cZ9ODRRQALtC4CKoJycKOaFJGCRkjI69jRRQAN8zbjtL8/NsGRml47BVB5OEHPP+FJRQAZIyAOD70YXdu2qzf3toyf50UUAKpAXARVB5OFHNIqouR5akH/YT/wCIoooADzz8u9uGYKOR+OaFCqMADBIJ+Uc0UUAN2pyPLUg/7Cf/ABFOYAybtq5PBYKM4/WiigBMBVwqrg4Jyo5/Sjapwdigg8Yjj6f98UtFAAeT/DzwcIOn45oG3DAouG5I2jBoooAMKcfIBjjgL0/Kjrydu88Fgg6fjmiigBVbbuAC4PX5BzScnB6EehoooAOrZKruPBYKM4/HNKcHdgKu5skBBg+1JRQApctjIxjjIPOKNwPJVd54LBB0/HNJRQAfKoYKi/N1yo5pVbGOMYyM55waSigBWO7JO3eeCwQdPxzTcbQdoX3BQYNLRQA7eTjjGOAQecU1grMSVQseC3lpnH/fNFFACKoUNtVV3ABgFGD70BY+MxKMcZCJnH/fFLRQAH5j82055O5A1DfNkZOG4OT2oooAKKKKACiiigCGz/48bb/rmtTVDZ/8eNt/1zWpqACiiigAopN1LQAUUUUAFFFFABRRRQHmFFFFABRRRQG4UUUUAFFFKFLFQoLljhQoySc4wB60AJRS+W+3JRgB1yOn1pMjI5HPegAoo4xnOR3xziigAooooAKKO+MHP0NFABRRRQAUUu09wR9QaTvj+L+73oAKKc0bqu4xsBjOSOO+efbBptABRRRQAUU5Y3ZQwRypJUMFJGR70jKUxkEZzjj0oASihct0DfkaKACiiigAopcYwDlT6EGkUFuAOaACiiigAoooOVIBByfagAooooAKKKVht68fgaAEooX5iAvzMc4UdTgZpWVlySrbQNzNtJCjGckigBKKKKACiiigAooooAKKKKACiiigAooooAhs/wDjxtv+ua1NUNn/AMeNt/1zWpqACug1H4f+JNJ8Lad4lvNFvLfQNQ3fZdRaI+TJg4xnt+Nc/X0B+z/+0t4t8HpB4Ku9G/4WD4SvzsPhm6j80opOSYv7p+uKAPGfCfg3WvHWuQaNoGmXGqapMrNHa265ZgvXHas3UNPudJvp7O9gktLuA4lgmQo6/UEZr6k/aY+Hdp+zH4w8K+L/AId6hqXhLUNUjklOi3Ei+dp5HVWAJwD9a9G8E2Wl/tw+CdRv/HfhKXw5r+kweb/wnliiwwT/AOzJuIyfoDQB8Xal8PfEujeF9P8AEl9ol5baDqG77LqDRExS4OMAjOPxxXPY645x1/xr6I+A/wC0h4r8D3J8BXmlf8LF8IXEpgbw7PH5hK5yWiP8P6VY/bI+Avhn4RX/AIe1Xw0l1pcevRmaXw/fMhm05h/DkMTQB830m5dxXcu8HBXcM5/Olr64/Zz+HPg39o74M6h4JeysdE8eaTcC6h1lIh5s8Bfqw+lb0aTrT5UzlxFZYeHPJbHyMpDEhSGZfvqCCV+v/wBalr379sCbwVpfjqx8IeCdF0+wtfDsH2e+vLeHDzzejc814EVKqWKnYOrYzj8uaipT9nJwNKNT2sFNiUMQiksdmDzu4/GlK7a9U/Zbh0G5+OnhO08SWFnqej3k7WkkF5HuRmdcJkk+tKMeaSQ6knTi5I8pZlXBZ1VWGQxOAecYpfQ9c5/Svu74e/Anw/4b+NPxvv8AxL4d0248K6LbPPZw3NvmJDIN6BST6dfevhWaQTTSybdnmMTtHRQfSta1F0rXMKOJjXfuojbCgkkKo/iY4HTPekyCSByR2r0f9n+b7P8AFDTWXwT/AMLDYJMB4fYFvO+Xgj2FfVUl8PKb/jDaGI4zv+xr/wDGa5zsPg/rz25wfXFeh/s7wxXPx08CR3ESTxPrNsrxuMq4LcgiuDvsNe3GYViAdiY8/cHp9a7/APZy/wCS8+AB/wBRq2/9CoA+pf2oP2rNW+G/xM8T+BtO8G+E59LjhjiW5uLBjOPMiyWyH6184/A/9mPxh8dFuLvSxb6fpVu3ltql7nymfBO0bVY54Pat/wDbj/5OZ8Wf9u3/AKIqb9i/xZrNv8afDPh+HU7qPRJ7iS4k09ZD5TuIXOSPrWFVuMG0Zzdtjxrxx4Vn8C+MtY0C6mjuLnS7t7d5ochXK9cZA4/CsKvQ/wBodv8Ai+Xjr/sLXFee4PPDYHX5ScVpBtxTHF3WolbngnwbqvxC8Uaf4f0S2N1qd9J5UcfOB7k+lYdaGg61qWg6pBeaPfXGn6hGQsU1oxWQEnAA96cgPf8AxR+w34w8OaDqV5Za1ouv3mmxmS90rT5nNxHjttKjn8a+cP4sH5TnBzX2d8HdNvP2bfBfiX4n/EG+li1rX7QxWGj3Exae5Y/xOD0/DNfGszSXEhfZkyN/CCe2cVz05Sb8iISk2R0Uu3/61JXUbHtfwl/ZT8SfE/wo3iZtS0vwxoBlMMF1rEjIJWH93AP61HrHhHxX+yN8VtH1LUNP0vWJoV+0WZlV5LG7T0IypJ/CsH4O3Hh7xF4gtfDvxB8T6no3gza0qR28kmwTfQA4Feyft5PqK6x4LtIrSH/hFbXTz/ZV9HKZGmx/eJH9TXLzSVRIwu+Y9Z+Hfxsuvj/+z58ZL7W/C/hvS7nR9KkNu2kWPlHLRSHdli2DxX5819f/ALIp/wCMbP2gP+wVj/yBNXyDsY4IViD0ODzXUbiUUN8tFAH3H8BfGw+FX7EWu+NLHQdF1bVbPWvKj/tWyWYbS6LjJ95F/I184/FP4r+IP2lPFmioPDek2OqKv2O2tNBtmh88t0JBYjNe1eFV/wCNbni3215f/R1vXyTp+pXekahb3thcy2d3byeZDNA+1oz6g+tTID2P4u/so+JPgz4CsvEuvahp0n2idbd9PgLtLGzAkbsqB2PQmvE6+u/i5rV/4k/Yb8HalqV3Je31zrG6WeY5Z/mkAyfoK+Rdp7Akdjg4NY0Zc6M6buhKKOuMc56cUV0Gh7d8Kf2TfEvxR8I/8JO+o6V4Z0CaYw215q8jRidh/c4PH1xXG/F/4M+Ifgv4kTR9eSKUTQ+fbXlu5aKZf9kkAk/hW18JfAnjv46SWvg6w1G8Ph2ybzbj7RM32WxQDJb61237Y/xK0PxZ4g8N+GfD13/adl4VtPsjahu3edJ/snqR9cVyxcudK5lrzHznRS7TtJweOvFJXUam54J8Gar8QvFGn+H9Et/tOpX0nlRx5wB7k+le5+K/2G/GHh3w/qd7Z63oOu3WmR+bc6ZYzMZ1X6FQP1r5803Ur3R9Qiu7C5uLO8i+5cW7tG6fiBX29+zlb+H7f4WeLPEHgPVZvFPxMvtJZtSsdUuWUxkdwGXmuWtKUdTKpofC22kqRlZSwKspU4IZSP51H0IB4z0rqNQr234U/sn+JPid4T/4SltS0nw1oTyGK3utWkZRIw7DAb9a8Sr034OS+HvEXiK08O/ETxRqWjeCyhnijhlk2eefYDgVlUvbQmTsjX1jwv4r/ZD+Lek32padperXMK+fafakeayukIx0BXP5V9P+C/jRcfHz9mX4zanrXhjw9pd1o+mMLd9KsvLIJjLA5YnsK8k/b2k1T/hJPCVqtpFF4WttN26ReRyGRpUHXcSOv0zWt+yv/wAmn/tBj/qH/wDtB6VKTnBMUXzI+QaKKK2LCiiigAooooAKKKKACiiigAooooAhs/8Ajxtv+ua1NUNn/wAeNt/1zWpqACvoj4dftO6F8FfhnDZeBPBsNl8QboMuoeJr7EpAPQwgk8/UCvneigD0XwX8RNI1D4qQeJvinaaj4408l3uLdrnMrsfugEkAD15rpvjZ+1R4n+LkCaLahPCvg22+S10HSR5cIX1fH3jXilFAH0P8PP2nNC+C3wztrPwJ4OhsviHPv+2+Jr/Epiz08kEnP4gV4X4k8T6t4x1ifVdc1C41bUZmJe4upC7c9ge1ZlFAChd1fWH7O/xd8Dfs5fBnU/E0F3a638SdWuVgXS23b4IAc7WOMAfTNfJ6tik9ccZ9uT+Na0qsqMuaJz4ihHEQ5Hse7/tc3/gTxV44s/F3gbVoLga5beff6fCCDbz+pyMfrXo/x2+Efwm0r9lLwn428G2XkatdSW8Ivd77rpiuJAyn39K+QW2sGG35W+8vrXonxP8Ajhr/AMVfD/hTRNSjtLTS/Dtr9mtrWzi2Rux6ysAfvUqlT2knLuVSp+zgodjzxmzU2n302l39ve2shiubeRZYmBxsdfukVBRUL3WmaSXNFxP0Q/ax+Lir+y3o06W5sdZ8cwWn2pCAshVYsvnn04r8769J+NHx41745SaGdZtLDT4tGtPsdpBpqSIgU8FjuducV5tXTiKqrSujiweG+rws92bXhLxprngPWoNY8P6ncaTqkCskd3avsdAww2K75v2sPjC0ZQ/ETXGBGObk15PRXKd46RzIzMx3OzF2Y9ya9E/Zz4+PXw/PY63agf8AfVec1qeFvE2oeDPEOm63pMiQ6jp863NvI6bwHByM0Ae9/tteFtbvP2jPFl5b6LqVxZ4gb7RFZysmFhwTkLXD/su+K9I8E/HHw1rGuX8WnaZbGUy3Mudq/u2XsD3NdXqH7d/xi1SxubO416xkguYjDIp0q3yVIwfm25zivnwLwVbBU+3WlJcysK10dt8bNYs/Evxc8Yanpc631hc6lNLDPHwrqehGcV9E/Hz4SfCbR/2WvCPjXwTaNDqd5JBEl35sm67bbiUFT6H0r5B/g29h0NeifFD44698VtE8L6PqcNnZaV4etfs1raWEXloW7ykA/eNJaKyBI87r0r9nO68N6d8ZPDt54vu4bPQbN3uJXulJQlR8oOAe9ea0u48/l7Ee9DXMhPY+zPjVpXwl+MnjK88R6n8b1R8bbSzW1dobVf8AZGK4D9inwD8O/iN8VL7QfHNn/axntW/su2YyIszA8nK9Dj1r5y6McdD9K7/4P/GrWvgnqWq3+hW9nJeahYSWPn3EeXtw/V4z2as4U/Z6ERjylL4yaDpHhf4qeLdJ8Pu0mi2WpS29rvfdlFbbnPpXGVJPcSXM0k0rtJLIxdnbqSTkn86jrY1Pof4a6L8C/HvwxttL8R6q/gbxdazE3OpZdxdqfQDOKk/ae+KHh/4gJ4M8D+Ahca3o/hu2Nvb3CxMzXLH+73I+oFfOwYqMAnGOBxwfrW94E8eaz8NfFWn+I9AuRa6vYvvhlkQSLn3U8Vj7PVO5ly6n1Z+yvoWp6N+zf8fE1HTrzT3k0ksi3Vu8e4CCXJGR71wP7EPgP4e/Eb4oX2h+O7L+05p7QPplmzPGkjD7wJXOKyPEv7bfxb8XeHdT0PVNds59P1K2e1uI10y3TcjKwPRPcVxPwf8AjVrXwT1DWL/QLaxN9qNk9mtxcQ7ntd3V4zng1samb8YdD0fwz8VPFmk6Axk0Wz1GWC03ndlFOM59K5CnzzPcTPNI7SSuSzu3UknJNMoA+xfA9pPqX/BObxVbWkMl1cya98sMKl2OJImJwPaNvzFfI+paJqOizLFqOn3enyMCyrdwPEWA7jcBmvUPhb+1Z8Sfg34Zfw/4W1qCz0t5zOYprOOXLH2Nc78VvjZ4s+NmpWOoeLb2C9urGIwwmC1jgAU+oQDNAHqPjL4ieG9Q/Y58HeE7fV4JfEVrqXmzaeA3mIuZDk8Y/jH61J+xB8P/AIefEj4lajofjux/tO4mtA+mWLM8ayMPvcrnFfOBIznG5j1bofzr0D4O/GrWvglqGs32gQWbXupWT2f2qeHdJBu6uhzwazhHlTsKKsZvxg0PR/DfxU8V6ToTu2i2WoSwWuX3ZRW29a5CnzTPcTNNI7SSuxkd26lick/nTK0GfZ/wl8XfDa2/Zjt/B83xFt/Butao5m1O4hidrggn7hIXpivnr4yeBfAngqTSB4L8b/8ACYLdeZ9pPkmMxEdD7mvNQT82cHdw3Azil3HdkEc9eB+NYRp8sr3MlHU+u/2jfhL8JtD/AGZvBXjPwPZGLUb6aCFbre7NdAx5k3KcY59M18h16H8U/jhr3xZ07w1p+pRWllp3h+zW0tLKxi8uLOMNKQD97FeeVuanY/CHUvCWl+PdMm8caW2qeGGdluYI2Klc9DwelfUfhbxR8Dv2eb7xT4x8KeMJPEWo30DQ2WjpG37jPYkjkV8WK23J5yRg4OAaCxOOSMf3Tg/yrKVNTerIlDmPpf8AYl8D+APix8VNY0r4gWP9p3t7b+bptkxdI5W3ZfkdOPWvE/ixomleHPiZ4o0rQnMmjWmoy29pk5yittzn0rU+EPxo1r4K3ms3ehW1k97qVk9ibqeLMlurdXjOeGrgpJmmkeSR2klYlmdupJOSfzrUsZX0T8OdD+Bfj74Y2WneIdVl8B+LbSbF5qTeZKL1fYYOK+dqGywxxt6AY6fjmolHmQpR5kfRH7UPxS0L4mXHg/wZ4FS41nSPDVobeC4WNi07Yz8o6kfUV6D+zTo+oaP+yl+0AmoafdWLyaeSi3MLRlgIXBIyK+WPAPj7Wvhl4ssPEnh65S01ayZnhlaIOqlhg/KeDXqnir9tr4t+NvDGp+H9X160m0zUrd7a5jj02FNyMGB6L6GnCKgkkEVyo8JoooqhhRRRQAUUUUAFFFFABRRRQAUUUUAQ2f8Ax423/XNamqGz/wCPG2/65rU1ABRRRkdc5HY+tABRSFgvBOD6UtABRRkdc5HY+tFABRRRQAUUUUAFFKFJXIBI74GcUncjow7YoAKKKVVLdOfpzz6cUAJRRWho/h/VPEN1JbaXp11qNxHGZXitYi7KgGSxx2oAz6KXHv8AX29qSgAooooAKKKKACiiigAooooAKKKKACiiigAooooAKKXaduSCPwpKVwCil2njjn0o2kdeKYCUUUu08YGTnGBzSASiruj6Lf8AiLUYrDS7ObUb6XcI7e3Qs7bRk4HtVea2kt5XilRopY22PG4IZT7imBFRRRQAUUUUAFFFFABRRRQAUUUUAFFFFABRRRQAUUUUAFFFFABRRRQAUUUUAFFFFAENn/x423/XNamqGz/48bb/AK5rU1ABXrR/Zh8bXPwnsviFpVrDrOjTgm4i0+XzZ7PH/PRMcfgTXkte3/sp3Xxai8dxJ8LBO8ykLeRygmwC9/OByo/AGgDgPhT8MdR+L3ja08L6bd2en3l0G2S30wiQEfwk4JBP0qL4k/C3xP8ACPxHJonirSZ9LvgcReYh8uf/AHHxg/iRXvv7ckHgmz8YeHn8N/2ZB47ZXOvL4fLGBZh0C4A5+lexfC9fEN98Dbxf2jrfS18BpDjS5tcz/ajN/s4BP60AfKD/ALMPja4+FFl8QdKtodb0icE3MGnSebPZ4/56Jjj8Ca8lxyQThlO1lIOVPoa91/ZduvirD8RzD8IzcTJvb7RHLk2LR+sueB+Ga639uqHwLD4n0MaAdLj8ZFGHiKLRHLWqSHpt4AzQB8uVbj0m+mijljsrmSKQ4jkSB2Vzz0IGD0NVK/QDT/i9rXwV/YR8Aa/oMFjLq5uxbQzX0AkEWXk5GTycDvQB8DNY3Ed19mkt5ornIHkSRMr5JAA2kZ7ipG0m+jMwayuV8ld8uYW/djsW44z7192fH6Oy8WeMv2cvHhsILXW/ENxAb/yIwqSZMZ+6BjvV79qL9rzxN8HfjNrfhjRdF0e802WxRp11CFneaV13BmYHkAUAfK37Nvh34fa942l/4Wauop4YFrIqzWMUzRicfwsY1bBrz/xJpllL4w1Oz8NQXlzpq3c62UbRu8zRqxKhkxuBwDnivrD/AIJ7fF/xF/wtCTwUhtY/D+oC61SSGO2QFJR2GQTisf8AZm3N+3jdgjIN/qic4Ycb9ozjj8qAPlabSb63t3nlsrqKBM7pXt3VVx6kjFe5/s3/ALPGkfGTwv471XW5NVtH0Ox+02DWahUnk5yMtGc9D0zX158Pfipc/Gj4sfF/4Y69pGlv4W0+GYwRRWiI6lX2n5uvWuC/Ye+K3iWH4YfEPQhcwyWnhHTmfTT9mXdvO/IY/wAX40AfA91az2Mhjubea3k2h/LmjZG2k4BwwBr7b1vV0/Yv/Zz0G10OCFfiN40tzPd6hIoaS2iPLKAegxxXy348+K2u/Gn4gWPiTxZJbzX0nk23mQwCCMxq3sNufxr33/gpB5zfE/wmSD9lXw+nlkdB8+T/AOO0CPlC4trqVVv5YJvKnbK3JiZY2f8Aug4xmmXOn3VnHFJcWtxbxyjMbzQtGHHqNwGa+0f2N7jTfjt8Mtd+EXi2znutO0+ZNQtbyFQGjOcFC+M7vbGPevK/22Pic/jb4uTeH4LT7Do/hYf2Za2skYRjt6ucdc9q75YdRp+0uedTxTlX9lY+e6u2+iajdxJLBYXc8T/dkit3dW9wQMVSr7y/Z8l/aC/4U34eHg7xX4D07w95f+jW2ruwuoh/t/uzz+JrgPSPht9D1GORIm0+7WaTOyJrdw74GWKgjJx3qQ+GtXVSzaTqCgetnL/8TX3B4xb9oFvjB4DOpeKfAcviLy73+zbq2lb7PEpTMnm/uxyf4eD74rv7pv2oWt2L+Mvhgf8AdlX/AOM0AfmeVKsQRgjrn+VSW1rNezLDbQy3MrAkJBG0jHC7jwoJ6U673fa5w5Vm8z5mXpu9vavU/wBlPxlB4D+P3hHU7t9ls9x9mnLY2gSDZkg8YB/SqhFSkk2ZVZuEHJbnlsOn3dxdSW8VrNLPHnzI44y7Jg4OVAJFV/rwc4Ir9I9D8En4H+PPj38RL52XTvs3+g84DtImflyOPwr83mleRmcnmTD/AHeoPoOtdFfD+ySucuHxP1htrZDaKXb1/wBk7TnjB9KNtcp3k1rY3N87Lb201wV6+TEz4/75Boj0+6mvDaR2txJdDrAkLlxxn7oGa/Rv9n/w3deCf2XvC1/4N1Xw74Y17Wj9qu9X14bhJ/sLyOa2rjTfDtx+098L9b0+60W51+802+i1V9JlieLesOVfYpyefavW+oOyfNueFLMneSUdj8zptJvra3aeazuYoFzulkgdVXHqSMVHa6fd3yyNbWlxcrH/AKwwws+z64Br9Ivh/wDE64+NnxC+MHw317SdMfw1p0c5tY4rVUZSr7T83XrXn8fjm7/Zh/Y+8F6r4RsrD+1tdvCl3dXlukpYe2aX1OO99EP+0pfDy6nif7RH7PWj/Cnw38Pr7w/Pq2o3niKxa5uYbkrKV2qrMVEcangOO3rXiZ8N6uvJ0nUAuMlvscuB/wCO1+i3xi1DxfrHjX4JX/gS40XRfEN1pV5IjawQLVA0URZTlT6ccVPqH/DUDWUvm+Mvhh5ewllilUtx6fua5cVGManLFHXgpyqUuaR8U/s2+A9B+InxAm0rxFbNd2K2Us+1ZtmGX6c15rrltDZ61fRW67IYriREBOTtBwK1fCnjjXvh74il1bRb5bPVCHheZUEi4b0BArn7ieS6nkmkOZHfcfzya85RlzN9D2ZSg6SjbVDK9X/Zr8B6F8RviFNpHiG2N1ZixknCQzeX8w+leUVveDfHOufD/WP7U0G+NjfeU0JlMav8h+tOopONkTRlGM05bGz4N+IWq/Bn4mDxD4YkFtd6bcyCFZAHBQNjYc9iOpr6C/bA8H6F4++HPhT43+GLGPTo9cH2bV7SAAIsu7buwOBzXyVcTvdTyTScySPuP55NfX+jsR/wTd1kXXEQ1rNuG6f63GFq1siJNSbsfHu2kp26m1RAUUUUAFFFFABRRRQAUUUUAFFFFABRRRQAUUUUAFFFFABRRRQAUUUUAFFFFAENn/x423/XNamqGz/48bb/AK5rU1ABXsEP7UnjXS/hJY/D7RJLXw/psAZZ73ToBHdXYPTe45rx+igDsvhT8Trz4S+ObPxPZadY6tc227bBqUXmRsT/ABNnOTTPid8WPFPxg8QPrHinVp9Suc/uoixSCAf7MY4rkKKAPYIf2pfGumfCex8AaLJa6BpsORcXmmxCK5uwezuORXj7MzMWLM7NyzMec+vv+NFFABX6B6T4q8H+Ff2Fvh3N478OS+KfDdzeeTJa27hZEJMpDLkgdx3r8/K6a++JXifU/B1p4UutbupvDlm4kg044CIw3d8e9AHt3xg/ar0n4hfEv4e3ukaFcaN4N8HSxPa2Q2+eQrRk8BivRD/F6VwH7TnxY0v42/F3UPFekWl3Z2VxbwxJHeqqSgom05Cswxn3ryqigD6X/Zd+PXws+BtrDq2ueE9dv/Gscs4/tGxMTR+S/QYaVTn8Ks6b+0V8L/CX7R2j/EPwx4X17T9Ljguf7Rt5fKeeaaXdhlHm7cc85YV8vKPUZ/Gl59aAPpz4P/tReGvh58dviJ431DStSutO8SRzrbwQRxmVC8m4bwZABx6E1yX7OH7REHwR8Za3eajpUms+GtcieC/sUYLLtLMQVGQM4I6mvEKO+e9AHv37Qnx88HfEDwb4e8HeAfCDeGvDulyGZmvFQ3MrkcgspPGfevYfE2jr+2h+zt4e1Lw/JHcfEbwXAYbzT1cLJcQr1YZ6j64r4grT0DxPq/hS6e60XU7nSrh4mgeS1kKFkPY460EnvHw8/absvgp8Ebvwz4S02+svHV9eia+1ieOMx7Ac7UYOWP4qK5v9pr4yeFvjd4j0vxJo2j32la21r5eqfaEjEc0o6OhVyT+IFeMk/NkE5zksTk0ldEsROUOTocscLCNT2vUKlW6mjwFlkRV4UJK6qB9A2KiornOwla6maRZPNdmXIQs7kqCMHDbsjinNfXO0qLmbB9ZX/wAagooAXPXnOeT9aVGeOQPGSJFIKsOoxyDTacrGPpTjumJq6aZ94/tpfErVNO/Z58A+GtUKweIfENtBdagiHkokeGP+Fed/8E7L60t/jBqljP4dGsJd2Du188KulkE6swbIAPbGa+cvGXxD8SfEO6tbjxLrN1rUtrD9ngkuiCY489BgelM8K+PPEHgg350LV7rS/t9u1rdfZ32mWM9RntXTiK3tp8xxYXD/AFeHKa/xr1TSNa+Lfi660CKOHSJtTmNrHCMJtDbRj2ri91I3K4zkDpxjnOSfzpK5TuPpT4X/ALTXg6H4S2/w7+KPhK78T6Np8vmWFxYuomT2OWX9DWpp37W3g3S/jt4a8Vad4Ik0PwxoNnLaRW+nxRfbZ90e0M7FgM56818sK3rzSc+tdaxdWyV9jzvqNK7dtz6U+Dv7Tnh34d/GP4heL9Q03Urqx8RJOttDBHGZE3ybhvBkAHHoTVr4f/tReBpPhHF4F+Jfgy88T2enXJm02S1ZVKA/38uMH6Zr5ho59aI4qpBKwSwNGW59B/tRftIaD8dLDwbD4e0fUNB/sO3lgeKfaqgOqj5GRyT0PUCvAvt1yQc3MxzkH96/Q/jUPXqaKwqVJVHzSOujSjRioxF985bqfrSUUVmbBRRRQB1Pw5+HOufFbxdY+G/Dlp9s1O8bailgqqMZLMfT8K+kv2uvFGifDX4Y+Efgb4ZvI79tJ/0rV7iEhh5/Xbnuc18p6H4g1LwzqkGpaTezadqEO7bdW7lHAYYI4qpdXU15NLNNI088x3SSysWdm9Se9AEdFFFABRRRQAUUUUAFFFFABRRRQAUUUUAFFFFABRRRQAUUUUAFFFFABRRRQAUUUUAQ2f8Ax423/XNamqGz/wCPG2/65rU1ABRRR/EQRj+XTNABRS4pOwJ+XPQGgAoo59M/iKKACiiigAooooAKKXHbockYx6UEYIHqM5oASiikZgrAHq33c8bvcUALRRXffCv4F+MvjNPqC+F9Ka7gsIWmubuRgkMe0ZKlj/F7frQBwNFPmhe3meKVTHIrFWU9sUygAoooYFcbvlJ6bjjPXn9DQAUUV33wp+BvjL40TaivhbSmvIdPiaW4unYJEm0ZK7v71AHA0U50aN5EcbGjbawPaul+G3w51v4seL7Dw14dgS41W8JEUcr7FyOxJoEcxRWx4u8I6v4E8RXuh69YzabqloxElvMuDgfxD1FY9AwooooAKKKKACiiigAooooAKKQkAKTxuOFzxu9xS0AFFegfCz4HeMPjL/ab+FtKe9ttNhaa6unOyKPaMlSx/irgGVo2KOpjcdVbqKAEorqfhr8Ndd+LXi6z8NeHYEudUugxVZH2KABnJPv2xmszxV4T1bwT4gu9E12xm0zVLVisltOuGAH8X0oAyaK9A1P4E+NNJ+F+m/EGbSWbwvesVF1Ewfycd5AOg+ma8/6dRjjNABRRRQAUUUUAFFFFABRRRQAUUUUAFFFFABRRRQAUUUUAFFFFABRRRQAUUUUAQ2f/AB423/XNamqGz/48bb/rmtTUAFfQ3w//AGXtN+Mnwug1TwD4vh1Lx3ahjqHhi6xE3J48vP3uPpXzzXv37O/7OPjXxjcW/jEapJ4B8M2ILSeJruTysAdo/wDnofrigDhvh/8AD7SW+Klv4Y+JWpXfge0UyLczzQEPE/YkHjH0zXQfGz9l3xV8F9upBU8QeELjBtvEGmfNEyH+/gEqfoDXo/7UnxEsP2kvFXhXwp8P7PUfGmr6Wrx3Gti3Al1Jz/FgDkfXFel+Ary1/Yn8A39l8SPGEmt6nqNuVh8A2jrPFbt23Fvu/hmgDxDwH+y3pvxk+F9tqvgPxfb6r45hV21HwxdKIm9hH/eP5V4Nrugal4X1a40vWLGfTNRt2Ky2t0hR1x357V7r8Af2dfGnjjUh45h1GT4d+FbSQyN4kmk8kJH6Rg/6w/XFaP7Zvxx8LfFm/wDD2meHJbjW5dDjMd54iuEWOTUJD346j64oA+aq9R8K/sv/ABS8baBpWt6F4OvNT0vVCRaXMEkRWQAkZ5fIHB615dX3L4i8WeIPB/8AwT18D3fhy+u9KuHvQlxcWJIk8vdJnkD5Rx2oA+TPEnwd8Z+D/G1n4R1rQLjTfEF46Jb2czIGlLMqjBDYP3x+tdfL+yD8Y4f7Rz4C1Fv7PXdcBJIW2jGeMPz+FfT3x2uLrWp/2WdV1cN/bl1cW/2qaVP3zcxfeOM9Qa4r9tT47+PfA/7QWq6Z4c8Uaho9nHp0USQWrjaQ68t060Acj+xn8P8AxLH4kuvFq/Cp/iLocCy6a8LzWqGCcf7M7DkV5K3gDxB8Tvi9rGgeGfDXk6zdX1w8OhwzR5twrFtiksBwAe9ey/8ABPnxRq9x8fodMl1O8ksLm1u7ie1edzHJMerkZxuq9+zPH/xnheM8RONR1QgFCOocenSgDx7X/wBln4r+F/DN34g1PwRqFrpNqCZbgtGwAHfAYn9K91/ZA/Zpfxl8N/GuteIPB0OqW2qacR4dup9pEsgJHyfNx074r1r4B+PvEPjH9pr40+H9b1O61DRhbXIisZcmJNr7eFxjrXnf7DmtaofCPxh0yK/uJE0/TW+wWpkO2A4blBn5Tk9qAPkf4hfDPxP8KfEg8P8AivSJtG1gxJKLSUqzFWOB90kV9YftI69J+zf8A/BPwt8NSGx1DWbQahrN7D8ssgI2kbuvWvmDV9L8ayw6L438T2er3elXEsaRa1qCttcIclAW5/SvoP8A4KOWkjfETwbqyAvZX2hosMh6MQckCgDwb4cfs/8AxD+LljNe+EPC19rdjE7K1wHjjRm+sjLWP4t+Fvi3wL4oh8O67oF7p2szsFgtJEy02e6YzkV9U/BT45+CdU/Zx07wL4p8R+Ifh7NY3Z2a5osEgjuAezOqNmvStC8AeJdH/at+GF34l8bTePtButMuJtCvryJI5I3SPOMYO456ZoA+NvFP7LPxY8F+GZPEOs+B9Rs9HjUPJc7o3CL6kK5IA+le7/sf/szv4y+GfjPXNf8ABcWrQ6lp5Xw3cXG395IFcfu/m9f72K980z4s/D7w/wDErx4lz438Y+JNQmSWPUNAudJu54LZe+1Vhxj0rxT9iPxBqF54M+M1jbahdNa2GmltOt/OIFvndzGP4Tz2oA+SvH3w18TfC/xKvh/xRpbaVrLRJKLRpo5WKscD7jMK+sP2ktek/Zw+A/gj4V+GZDp1/rFmt/rF9bfJNJkYILDmvmPV9N8a3EWheOPFVtrN1pVxLEkWtairsrhDkJljn9K9/wD+Cj1rJ/wsrwjq65ewvtBTyZT0yOw96APnO8+FHi+x+H9r43n0eVfC93L5MeprJG6u+cYIDZH5Vf8AEnw78efBO80HV9Wsrvwvd3q/arC4+0x+Y6+wViRn3r6n/wCCejal4o8OeLfDOuaSl/4HgljuUa6Q7Yrgtyq5GK8Q/bQ17xHrXx816DxDbG2FiwtrG2UYUW4+6ynHH4CvQnh4ex9qmeTTxVSeIdFWsj1j9oySD4+fsu+D/i88EcfiXT7gafqrxD/XjeFJY/UjrXxlX2JoMZ0P/gm/rjXX7pNU1v8A0Xd/EPMVsj2wDXx3XnnrHQ+A/h94h+J3iODQfDGmPqurzKzx2sciIzBRk/eYCvUJP2I/jfHGzt4Buwqgkn7Xbdv+2tcX8D4tJm+IlkuteMLrwLYrDLu1iy/1kfGMA4r6ZuNP+Gf2eXH7UfiZ9wI2knHP/AaAPBvCf7JPxc8caDa61ofgu41DTLoExXEd3bBWx9ZBXO/E74G+OPgz9g/4TTQJtB+37vs/2iWNvM29cbWNe6/C2y8ASeA9KOpftDa94VvGBEmj22THBn0+UV55+0lbeGLX+wP+Eb+Kmo/End5vm/2gD/ouf7uaAPEq9E+HP7PXxG+LVjLe+EvCd7rNlExR7mMpHGGBIxl2XPSvO6+1fg18b/BOtfs46R4F8UeJdf8AhtNplyRFrei28vkXOSxyzKrAnmgD5T8UfC3xb4J8VR+G9c0C907XJWAispE3PKD3UqSCPxrq/Fn7LPxX8D+G5Nf1vwTf2WkRJvlud8UgjH+0EckflX2Z4b8A+JdJ/a1+HF14o8aS+P8ARJ9JuJdAv7yJI3QouMFQPmOfeuj0v4ufD3w/4+8fw3Pjjxn4k1G4jmj1LQrzSrq4htfRlVYMYoA8H/ZL/Zll8YfCfxtrmveDYNUGraef+EbvJyn72QZ+4N/HTvivlnx18N/Enwz8Sf8ACP8AibS30vWdiyCzaWOVyGOBjYzD9a+uP2KfEGqXvw5+NFja315JDYaeW0633sv2YHdygIG08jpXzBqWm+M5Ljw/418V2+tXOlXVxEsOr35dxKEOdoLHNAH0z+1D4gl/Z3+Cfgn4TeGJTY3WqWS32tXlsxjlmyCpBYc9RXytrXwp8WaD4D03xpqGjSWvhbUm2WmoNNGyzHGccMW/Svon/gpFaMPit4Z1Xdusb/QIzBMM7TtLEge/NdD8B9Bi/aM/ZRuvh/lY9Y8OavDNC3dYGfPvzt46V1UKKrNrqcOKryw6U1sfMeveA/HnwRl8Pa9qVld+Gpr5DdaXdC4QmTB4I2sTjHavpD9pZrf45fsx+DfjAbeOPxLazDTtUeID9/8APtJY/X1rkf2+/F1vqXxY0/wvYlPsXhjTks9q4AjlIyQB6jvXTabGdF/4Jual9q/df2lrX+i7v4h5m7K+2KyrQVObijTD1ZVqSk+pifsMfFSaPxzJ8MNcJ1Dwf4ohe2+w3B8yO2m9VBPA/X2rwb4weB/+Fb/FDxN4YB3x6XevFEzfxICGTP8AwE/nXWfsnaXcar+0Z4ChtgxkGorO23+4v3jx2q5+2Zfw6h+0v47kgIZVukjZl6b1jUP/ACNZHUeL0UUUAFFFFABRRRQAUUUUAFFFFABRRRQAUUUUAFFFFABRRRQAUUUUAFFFFAENn/x423/XNamqGz/48bb/AK5rU1ABXS6l8SvFGr+D9P8AC17rt5deHdPyLbS5HJijB9f7341zVFAG34P8ba98P/EFvrfh3VbjSdVgyI7mA4Kg+gzWdqWqXus6hNfX13NdXczbpJp3Mjt+J6VVooA6XVPiT4n1zwhp/he+1u8n8P6fuFtpzyExRhuuem78a5rJ6E5HUDsDRRQAV9/aR8Yb74OfsP8Aw61rSrXTNWn+2/Z5dN1BFlUx5kOWT7w++O3rXwDSEBlAYcA5C5yufXb0FAHsXxG/ah8VfE74leH/ABhqtvZRNocsT2Wl26FbeMKVJx+R7Vy/xn+LWo/G7x9d+LdWsrSwvbiGOEwWanYAoxwSa4aigD3v4H/te618CfDI0jSvCfhzUnWaSVdQvrdzc4b+HeGzinXn7YWt3Hxi0P4jW/hLw7p2q6VbzW4tLSFkhuPM3bnc5zu5HavAqKAPaPh7+1Br/wAOfid4t8cWWj6Xd6j4kSVbm2n3iKPfJu+Ug56e1c98H/jl4k+CXja48SaAbeSW6BS5s7pd0Myn1rznJpKAPYPjp+014m+PFnpenanaado2iacCYNL0uIpCHP8AFjNe1eD/ABN4X/ar+ANp4D8Ua1beHfHXhGFpNN1G+fCTwqu4/PyTj0xXxvupvTGOMcA/hg/mOooA97+E/wC194s+DvhWXwnHpmh+KdDjm3xQ6vA0ixt7EEE1jePv2q/Hfj74gaJ4tlurfSb3Qxt062sIgsMAIwwArx3g44xjnA6ZooA+ovEP/BQT4ga14f1Cxs9J0HQdS1CLyrvWNNt3S4mHfJ3V4/8ABn44eJPgb4u/4SDw/LFLLJF5Nxa3cYeK4T/aFefZNJQB6/8AHT9pzxP8erPTNO1S0sNG0TThm30vSUaKEOerYzXtnhHxV4Y/as+Atr4H8Ua5beHfHXhGFn0zUr5sLcQD1bnp6Yr40ozgjA4AI+8f889xQB61b/tE+IdD+DifDXRrex0rT47z7TLqVnvFxO+c/Mcjj8a6a68bXv7ZPxK8IaP4ml0XwncQW32efWBlTJEvXeT/ABf5zXz8q9sYHU49aXAONwzjncCQR9CK0dapJKLehgsPTjLnS1Ppr9rn4yeHtW0vw78LPAciv4M8Lpg3Mf3bib+8OeR9cV8y0gGFwPlHUqo4JpazNwwFxgY7n0NLkDIA4P0pKKADc3J3HPqcHP6Uq/Luxhd3XAHfrSUUAFe8/CL9sbxZ8JvBg8Kf2RovibQo5PNgttZgaRYj9AefzrwaigD2Hx1+1V488efETRfGMt5BpN/ooK6dbafEFhgU9QBXfeJP+CgvxA1vw/qNjY6PoGgahqMXlXer6bbulxMO+47v618wUUAeh/Bb45eI/gX4qbXNCaG6M0Xk3VlfKZIZ0/2ua2fjp+0t4m+PVvpNjqtrp+jaJpYb7NpOkxGKBWbq3XrXkdFAH2Z4d8TeFv2rvgFY+EPE2tW3h34geD4GbT9QvmAS5gC7uTyT9MVn/wDBPaV/DPiDx/4kmvki0nTdL/fxK/M0g+6VU8mvkPaP6D19Dz9O1LkYwO42N7r6H+9+NbUavsZ85zYij7enyM9P8H6Iv7RHxwmi1jXLXw//AG7eSXk9/eN9xMbsL1+bHY4HvXpH7XHxo8P65Y+Hfhj4CkWTwX4WTZ9oj4FxN/eHPI9zg+1fNHHGMjvkdemDg9uKaFxgfwqchQMZ+tZSvKV31N4RUUorofYf7O9x4K/Zs+FM3xc1bWLPWfGGr2z22jaPC+Xhz/eXgqfpmvkvXtau/EmtX+rX7+be31w9zM2c5djz+lUeNwIGMZA9RnuPQ/SikUFFFFABRRRQAUUUUAFFFFABRRRQAUUUUAFFFFABRRRQAUUUUAFFFFABRRRQBDZ/8eNt/wBc1qaobP8A48bb/rmtTUAFFFLtoASiil20AJRS7aNtACUUu2jbQAlFFFABRRRQAUUUUAFFFLtoASil20lABRRRQAUUUu2gBKKXbSUAFFFFABRRS7aAEopdtJQAUUu2jbQAlFFFABRRRQAUUUUAFFFLtoASil20lABRRRQAUUUu2gBKKXbSUAFFFFABRRS7aAEooooAKKXbRtoASiiigAooooAKKKKACiiigCGz/wCPG2/65rU1Q2f/AB423/XNamoAK6nR/hj4w8QWEN7pfhXWdRs5gTHcWtjI6Pj0IFctXrfgv9q/4qfDzwvZ+HvDvit9O0e0BEVp9itpAM/7TRE0AcZdfDPxfZ39pYz+FdahvLzf9ngexkDS7Rltoxzirf8Awpvx6ASfBevDH/UOl/8Aia6rVP2svitrXiTR9eu/Fjy6ro/m/YLj7DajyPMGG48rn8a2G/bg+N0ikHx1Jz/1DrT/AON0AeZaX8MfGGuWMd5p3hXWr21kzsmgsJWVsHHB20XHwy8X2d9aWU/hfWIbu73fZ4HsJQ8u0ZbaNvOK7bwj+1p8WPAnh+DRNC8XyWGl2+7y7f7BavjJz1MdGpftZ/FfWPEWj67d+LpJdV0fzfsFx9gtR5HmjEnHl8+2aAOU/wCFOePMEnwZrw/7h8v/AMTVTSfhj4x12xjvNO8Ka1e2smdk1vYyOrYOOCBXprftxfG6RSD45k5/6h1r/wDG6x/Cf7WnxX8C+H4NE0HxdJp+lwZ8u3+w2smMnPVojQBxNx8L/GFnf2ljP4W1iG9uwxt7d7GUPLtGW2jbzirX/CmvHoBJ8Ga8Mf8AUOm/+JrrNT/ax+KuseJNH1288WSS6ro4lFhc/YbUGDzRiTjy8H2zWw37cHxtkVgfHU3P/UPtf/jVAHmGl/DHxhrdjFeaf4W1i9tZc+XNBYSurYOOCFpbj4X+MbPULSwn8K6xDfXYc29u9lIHl2jLbRjnFdv4R/a0+LHgPw/baJoXi57DS7fPl262FqcZOepipNT/AGsvitrHiLR9fu/FjS6xo4lFhdf2fajyPMGG48vn8aAOU/4Uz48AJPg3XRj/AKh8v/xNVdM+FvjLWrGK8sPCms3lrLny5oLGR1bBxwQtemt+3B8bZFIPjmTn/qG2n/xusjwf+1p8V/AXh+20TQfFsmnaXb58u3SxtWxk56mKgDiLj4X+MbPULSwn8K6xDfXYY29u9lIHl2jLbRjnFW2+DvjxVLHwZrwA/wCodL/8TXV6l+1l8VtY8R6Pr954saXWNHEosLr+z7UeR5oxJx5fPtmtaT9t742yRlT46myf+ofa/wDxqgDzXS/hj4w1uxivdP8AC2s3tnLny54LCV0bBxwQtNuPhf4ws762sZ/C2sQ3t1v+z2z2MoeXaMsVG3nFdx4R/a2+LHgPQbbRdC8XPYabb58uFbC1OMnPUx03Uv2sfirrHiTRdfvPFkkur6OsqWNz9htQYBIMNgeVz+NAHJ/8Ka8egEnwZrwx/wBQ6b/4mq2l/C3xlrdnFeaf4V1m9tJs+XPBYyOj4OOCFr01v24PjbIrA+Opuf8AqH2v/wAarH8I/tafFjwH4ftND0Lxc9hpNrnyrdbG1OMnPUxUAcRcfDDxhZ6ha2E/hbWIb673fZ7d7GUPNtGWKjbzirh+DvjxQSfBmvLj10+X/wCJrrNT/ax+KmseItJ1+88WSS6xpSyraXX2G1HlCUYkwPL59q1Zf23vjdMpDeOZOfTTrX/43QB5tpPwv8Y69YxXmm+FdZv7WbPlzW9hK6vg44IWkuPhj4vtdQs7CbwtrMV9eK721s1jIHmCjLbRt5xXa+Ev2tfiz4F8P2miaH4vkstLtc+Vb/YLWTGTnq0ZpNQ/ay+K2q+JtI8QXXix5tW0hZUsbn7DagxLIMNx5WDQByv/AAp3x3t3f8IZr23GS39ny4H/AI7VXS/hj4w1yzhvNO8Ka1e2k2fLngsJWRsHHB216VN+298bbiNkk8cyMGGCP7OtQP8A0XWX4R/a2+LPgTw/a6FoXi+Sw0m2z5dv9gtXxk56mOgDiLj4Z+L7PUbbT5/CutQ310GaC3exkDyhRltoxzirJ+D3jtVJfwZryADJLafL/wDE11mpftZfFXWPEukeILvxY8usaSJVsrr7DajyFlGJMDyufbNa8v7b3xsmjkRvHMjBxg/8S20/+N0AeaaZ8L/GOtWMV5p/hXWb20mBMc0FhKyvj0O2mS/DHxfb31tZS+FtYivLoO0Fu9jKHlCDLbRt5xXceE/2tvi14F8P2miaF4vew0u1BEVv9gtXxn3MVGpftafFbWPEukeILvxbI+r6SJlsrgWFqPIWUYbA8vn8aAOTk+DvjyNWLeDdeUL3Ony//E1W034X+MdasYr3T/Cus3tpNny54LCV0fHcELXpT/tvfG2SN0bxzIwb1061/wDjdZXhP9rb4teBfDtpoWheL5LDSrVSkVuthanAPv5VAHET/C/xhbalbafN4W1iO+uQxgt2sZQ8oUZbaNvOKtf8Kb8eiMufBmvKgBJY6fL2/wCA11mpftY/FXWPEuj+ILzxZJJrGkJKljdCxtR5AlGJOPK59s1rTftvfG6ZZEk8dSSI4IKnTbQdf+2dAHmel/C3xjrVjFeWHhXWby0myY5oLCVlfHcELRcfC/xjaahbWM3hXWIry6DGCBrKQPKFGW2jHOK7rwn+1x8WfA/h+00TQ/F8lhpdqpWK3SwtTgH3MdR6h+1l8VtU8TaR4huvFjTa1pKSpZXn9n2oMAlGJML5eD7ZoA5Nvg348VSzeDddVQCSx0+XHH/Aaq6Z8LvGOtWUN5YeFdZvLSbJjngsJWR8dwQtemXH7b3xtuI5Ek8cySBwQQdOtQOf+2dZvhP9rj4s+B/D9noeh+L5LDSbRSkVuthanAPuY6AOFuPhf4xtdQs7CbwtrEV5eKzW0DWMoeUKMttG3nFXJPg748hUs/gzXkQAksdOmxx/wGuq1D9rL4rar4m0rxDdeLHl1rS1lSzvPsNqDEsoxJ8vlYPtWtL+278bZoJIn8dzMjggj+z7Xv8A9sqAPNdM+F/jHWrOK8sPCutXlpN/q54LCVkf3BC024+F/jG11C1sZvC2sRXl0rvBbtZSB5Qoy20Y5xXdeE/2uPiz4H8P2mh6H4vksNJtV2RW6WFqcD6mOo9Q/ay+K2q+KdI8RXXixptY0pZUtLv+z7UGNZBhvl8vBoA5Jvg548RSzeDddAAyf+JfL/8AE1X0z4W+MtasYb2w8K6zeWk3+qngsJWR/cELXpkn7bvxrmheOTxzJhxg4060/wDjdZfhP9rj4teB/DtloWh+L5LDSrNdkNuthanA+pjoA4Wb4YeMLbUrbT5vC2sRX90jvBbPYyh5Qoy20becVck+D3jyJSX8Ga8oAyc6fL/8TXWal+1j8VNV8UaV4iufFkkus6WksdpcmxtR5ayDDceXzWtL+298bJo3R/HMjBxg/wDEttP/AI3QB5rpfwu8Y65ZQ3mneFdZvrSYZint7CV0cexC0k3wy8XW+pWunyeF9ZS/ukaSC2awlDyqv3mUbeQO9dv4V/a4+LXgnw/ZaHoni+Sy0mzTZDb/AGC1kwPq0ZpuoftZ/FfUvE+keIrjxdJJrWlJLFaXX2C1HlpL/rBjy+fagDk2+D/jqNSzeDtdVACSx0+XGB3+7VbS/hh4w1uxhvdP8Ka1e2kwzFPDYSsjj2O2vS5v23vjXdQSRTeOJJEdChH9nWo4P/bOszwn+118WvA/h2y0LQ/F8lhpVmmyG3FhatgfUx0AcNcfDPxfa6hbWE3hXWor25R5ILdrGQPKq/eZRjkCrT/B3x3FG0kng3XkjUZLNp8uP/Qa6vUP2svirqvijSvEd14sebW9KSWKzu/sNqPLST7w2+Vg1rzftu/Gu4ilil8cyNHIMFf7NtP/AI3QB5npfwt8Za3Yw3un+FNZvbSYZinhsJWRx7HbTZvhh4wt9QtrCXwtrEd/dI0kFs1jKJJVX7zKNvIFd14T/a5+Lfgfw7ZaFofi97DSrNNkNuLC1bA+pipupftY/FTVvFOleIrnxZI+saWk0VpcixtR5aSfeGPLwaAOTk+DvjuNWZvBuvKigksdPlxx/wABqvpfwv8AGOtWMN7p/hTWr20mGYp4bCVkcex216VcftvfGu7glim8cySJICCP7NtB1/7Z1l+E/wBrn4t+B/DtloWh+L3sNKs02Q24sLVsD6mKgDhpfhd4xg1C3sJfC2sR3tyjyQW7WUgeVV+8yjHIFWW+DnjyON5G8G66saAksdPlxx/wGut1D9rD4q6p4o0vxHc+LGfW9LSWKzvBp9qPLST7w2+Xg1rzftu/Gu6ikim8cySRyAhl/s20HX/tnQB5npvwt8ZazYw3th4U1q8tJ03xTw2ErI49iFrO8ReENc8HyQx67pN5ozzAmJb+FofMx127gM16X4V/a7+LXgnw7Y6Foni+Sw0qyTy4bdLC1OF+pjrlviZ8bfGvxik05/GGuyay2nhxbs0EUPl7uv8Aq1XNAHDUUUUAFFFFAENn/wAeNt/1zWpqhs/+PG2/65rU1ABRRRQAUUUUAFFFFABRRRQAUUUUAFFFFABRRRQAUUUUAFFFFABRRRQAUUUUAFFFFABRRRQAUUUUAFFFFABRRRQAUUUUAFFFFABRRRQAUUUUAFFFFABRRRQAUUUUAFFFFABRRRQAUUUUAFFFFABRRRQAUUUUAFFFFABRRRQAUUUUAQ2f/Hjbf9c1qaobP/jxtv8ArmtTUAFFFdr8Pfgv43+Kyzv4S8N3uuQwHEk1uoCKfTLEVUYuTskTKUYK8nY4qiu3j+CfjqTx5H4L/wCEZvk8USK7ppsihJGVV3FgSQCMe9cvr2h3/hfWL3SdVt/sWo2cphngkdcowOMEg4/WnKEoq7Qo1IydkyhRS7Wzgqw7dM5/Kk74Ppn1xWdywooOVOMc+nf8utH8WANx9uaYBRQOTjvxxjPWgZPY/wBKACiilC7nCZG5jgAnFAm7biUV0/jr4Z+JvhneWlt4n0mTR5rqETxLNLG25D3+VjT9S+F3inR/A1h4xvdHmtvDN8+y31F3TZI3PAAO7se1XyS7Ee0hprucrRQCDnnp146Uck4AJPYdz+HWoNAooo6fTOM/1oEFFGDuC4+Y9B3P4daMHjKsPwz/ACoGFFHQZJwO5J4HGetHHqPzo3AKKD8pwfvZAK9xn2o/A49dpH4Y60AFFGCcccnovQn8KMEYzxn3zQAUUsamRgF5JOOvfOOvSum8efDPxN8Mby1tfFOlPo091Es8KzSxtvQnGRtY00m1zLYnmV1HqcxRRQePp60igoo56YOf7vf8qQMpUtvXaOp3DijzFcWinRxmSQIhVmPTDDB5x16V0fj34beJvhfeW1p4p0mTR7m4iWeKOaWNiyE4yNrGq5Xa4nJJ8r3OaortfhP8H/E3xq8RT6L4WtYbm9t4DcS+fcJEiqPdj1rltY0e70DWLzS7+I299aSvBPE3JR1OCOKOVpc3QXPG/LfUp0Uew5Pde/5f4Um9eDvXGcE7hx9akoWigENnBU454Izj1xQCGbaCM+mefyoGFFLtNJQAUUUUAFFFFABRRRQAUUUUAFFFFABRRRQAUUUUAFFFFABRRRQAUUUUAFFFFAENn/x423/XNamqGz/48bb/AK5rU1ABX2h4g8X6v8Nf2EfAVz4Wv5NDudQvv9KurP5ZJvvdT/wA/pXxfX2/4S8GH9pj9kHwr4Q8LapYp4j0G83XNneymLA/ecjAOfvj9a78Jf3knrY8zHacjktL6mH+zf8AHjxN8bP2kvh4PFDWU8+j2d1b288EGyadfs/G9s8nNdZ42/Zm+G/xc8ZfEiLw74xv5/iNZyzX81qwH2cMTkAKRz+NZnwf+C+ifBH9qrwHpNl4qXxFrMljcyanDGoEVo/k4ADg45rf/Zuyv7Y3xnDfKHjuirSYG8ibjDdD8td9OzgoVe55VR+850tLLQ8d+Ff7OPgO3+EcXxE+LHiO80LSb65a2sbXTEXe2CQSSVY54NT+OP2NI4fil4K0Twhrp1Twz4uRrix1G6TLwRrGJH3AD5uCMe/pXpOleEf+GmP2XNH8H+FdXsIPEnh/VpGmtNQmERZcsc5I6c+ldbr3xM8LfCD4sfA/wnf61aXlx4e0+4sr+8ikDR25eBY1JK+4Ofan7Gi1a2hH1ivF3u7nnNx+yJ8JvGEviXwr4E8baneePdCheWa2vdhglZG2sCFRTwfeuW+Gv7MvgO2+Dtt8QPidr2sadY3tw0MNrosQkYEOVO4iNyOR6V7r4B+ED/AH4sfET4qeI/EekDwpfw3Ulm8dyskk3nS7sED0X9a4X9ls/FHWPh1qN94D8TeFtVs5tSknPhfXIS7W4dmJy2OOo6Zo9lS5ldFe2q8vMpu2h5Bq/wCz34Q8V/GLw34U+GXjaPxHp2sIZ5Wnz5unoq7jvGBuOK9Tvv2N/hb4qbxF4c8E+L9auPGuixNI8WoQfuJmXqM+Viu98ceKPAHwt/ai+GWs3DaPpOsXFncWuvNpW0wws8e1CcDoD1r0PxJrPxN8N3HinW77xb4D0XwZDFJLp2oLZG4nm3dBIA4/maao0lzXRDxFaTjyu2h+VlzC9nNJDMpSSNirL1IIOK6r4V2nhW+8daVD40vL2w8OMzfabmwXdIvy4XAx69ea5nULo3l9dXLsGa4kaQleDknNRRsImDBQcHO1s4P614UbKaZ9NKLnT5ep9+ft0af8Mbi30271/V9ZtvFkOiL/AGLb2/EUq/7Z25B+gNM0vw/4J1r9if4fD4g69caBoFtc+a09mv76V8yAKpwfStf4p/BXSv2qJPAnja38U2em+EbfRTDqE6zr51q3YKrH+tef/HGzstP/AGHvBlppd2+o6fb600UFztwzorzBW2DJr3paSlJpWsfLpNwjTTd0zk/iB+xjHY/GHwb4a8J61JeeHfFED3NtqF2N7QIihpDx14PH9K6/UP2OfhZ4pPiLw14I8X61L400KNnmhv4P9HlZeuMRrn869U1zxzpPw88Sfs6ajrFzHaac2lz2c0srbVhL26KC2eRzXV+JNY+Jfh2TxVrd74s8CaL4Ngikl07UFsjcTyBugcCQZP4mmqNFJ6FPEV3ZKR+V00MltK8cq7HRirAkcEHB6V2nwZ+GN58YPiLpPhWylFo165Mlw2W2Rou5j09K5DULhry9ubh8Fp5HkYBdvLHJr2P9jvxxpfw++PXh7UtZuFsrGRZ7SSZj8se9NqsfQZ614lJRlVSex9BUlONFtb2PV9c/Zh+CmrR+JtA8J/ES8XxnoMbNOmrPGls7q20j7id/euY+F/7NvgGz+Edv8Qviz4lu9D0nUrjyLK10tV3Ec8lmVvTtmuz8dfsXwQa94+8ZeLvG1hpPhaeWfUNOubKdZZZmkfcEdfp7mtDw54PP7TH7InhHwp4T1nT7bxB4dvT51rfSiDKjdzyDnqOtet7KDk7xR40q0/Zp8z8zzH4pfsv6T4H+KngKx07WLnVPBni6aNba+3D7QiMV3ZOMZw47HvXfeO/2ZfgJ8OfEmtaDr/xG1bSNSjtvtVpFIUfy1xna+I+W9v1rb+N+raRpfxH/AGffAdrqVvqWo+GLiFL2e2fciMWjXGen8B6+1eNft2HP7SmvbWDjyLZcqQVPyZYA1nNUqcXZasqlKtWlH3mkzX+Bv7OHgb4g/BrxV4y8ReIb/SY9F1M25urcoIfs6qjE7Smd37xe+ODzVfVv2ffhx46+I3gvw78KfGtxrCazG7Xv26MM9lGq7icqi84rpfhH8v7BPxXQnyy2pYCFvmZcQAnb16A15l+x7460z4f/AB90HUtauFtNPmjntJLiQ4C702qzegz1rN+yXImtzW9W9SXNqtj2m+/Y6+Fviv8A4SXw94G8W61deNdDjaSWHUYM28jL1xiNc/ga4n4a/s2eBNL+EsHxB+L3iHUPD2mX90YLOz01FDkgkcko3HB6Zr628Uat8TPDbeK9Y1Txd4C0XwdFFI+mahHY/aJ5A3QSASAk/ia8R0zwzJ+1R+yv4V8PeFdX0yHxNoV6Wns76T7ODksc85z1FdjpUU7xWpxQrVuX3paHk3jj4IfDj4Y/F3w0t94xm1T4fatbtcrfWMiyXkG0fLG+3IPNe3/t2af8MZobK617V9YtfGUGiKujWtt/qnjJyNx25z9Aa+ZP2hPhDoPwH8RaNpOmeKP+El1byBNqMMYUrayDoispPFfWPxY+CWlftQXfgrxxD4rstM8HWuh+Te3Szr58D9sKx/maxj70ZwSVzpqSXtKdRydu5+duPw9a7j4MfC+9+MXxG0rwpYzi0a8LGS4Zd2xEXc36dK5jxFZ2Wn+INRt9Numv7CG5kjgu3GPMQdDivW/2M/HWlfD39oDQNR1m4SxsZUmtnuJD8qF02gn2zXlU4R9ooyPYrTcaTlDc9fu/2SfhR4x/4Sjw58PvGuqX3jnw/E8k1reqhhmZG2twqKeD71Q8O/s0/CvTfgZ4U+IPjvxNrugC+cJdpHIHVmJYYUBOvyHrjtXrfw5+Drfs5/ET4l/E3xL4h0c+G72C6ax8qcSSziaXdg47hffrWXffC2/+On7GvgDS9Fv7HTdQe8W8jXUJfKRxmU7RnPPIr2lRg9XFXPnZYmpGycnZs8e+Jn7O/gL4Q/FTwZcal4h1Of4a69btcwX0LBrmN1VSoztAxlx+tes/t46d8MpltbrW9W1m08aW+iBdFt7fiOaPdxuO3OfoDXnv7cep6Z4d0/4XeCrXUY9R1Lw3p/8ApbWzhwpIjGOOM/If0r1r4vfBTSP2oNS8HeOI/Flppngy30Jory8SdfOt3znCqx/mRUWjyzhBLU0UpuVOrUbtqePfsR+D/Bfi/UpLMeL/ABX4a8ekzYg0O5WGM2y9c7o2ya8i8HfB67+Knx6uPBNnfSqZdSuhLqF2fNk2RnLM3+16fzr6K/YW+CGq2HxIl8fafdWt94OhW906C4aUJcON20MVz0P1rF8D6Hc/s1/tkafe+NJrW0stfa8uIrlJd0aLL93cccY7/wBax5FKnBS6PU3dZ+1nyO+hNefsl/CfxlH4o8P/AA98Z6pf+N/D8TyTWt8itFKyttbAVF28+9UvDv7NHwo0/wCB/hT4g+OfFGuaEL8hLlI5AyliWGANn+wf0r1j4f8Awhb9nPx78S/iX4m1/SpPDl7DcGx8q6V5Z/Ml3AEDuF/WvMPjtML79hf4bSgLmXUPNMe07hkyEZXPH3x+tdLp0kuaS1OaNatKSipO2h5P+1J8ArL4HeKNKGj6lNqegaxai7sri4w0i4xlcgD1rqfj/wDs3+BPhf8ABnwz4q0Hxi+s6xfvEs1rJPHJHJvT5iqL8ygH3rqv27f+RF+DYHIXSipGR8hMaHB9Oa4/48/sq6N8H/g/4a8Yad4xGt3moNBG9gQpQb0yTFhiePcCvJxMYxqe6e5hJSlSXPujD8BfsV/FD4keEdN8S6Jp2my6Zfp5kLTX6xvj3U965P4x/s9eMfgS2lr4stra3Oo7/I+y3Amzt65x0rhLfXtSs40ig1G7iijTbEkdxIix/RQ2KivNTu9R8s3l1PeGPOz7RM77c9cZPFcp3FWiiigAooooAKKKKACiiigAooooAKKKKACiiigAooooAKKKKACiiigAooooAhs/+PG2/wCua1NUNn/x423/AFzWpqACnpNJE25JGR9uC6naT9cdaZRTWmtxNJ7kouZFlaZZJFmb70gbDsMYwWHPSkS4ljd5Ekkjlfh5I3ZXYE5bLA5PNR0UrvuLljtYlhuHt2LRySRsRgmORkLepJB5NMkbzXZ3JJf/AFnJLSfVjzTaKrmewcsb3sSTXEs0axvK8sa8COV3aMD/AHS2KSKZ4MmJjG7Hl0OCR7+tMoo5nuHLFKyWg5m8xnkcs8jHLPIxdn+rHmpJLueWMRPNLJEBtEckrsmP90tioaKXNLuLkj2Agfwj86KKKRZKLiVbeSBZpFhkOWiV2WN/YqGximebI0KwvIzwIcpCc+UpyTkJnAOSabRT5nsyORdEPaaSREV5GkReBG5yuMKOM/d4HanNdTSQrC880kQH+rkldk/75LYqKijml3Hyx7Cs2aQDGD1+tFFK3VFNJ6E0l5NLGsbyySxqOEkld0H/AAEtimw3EtrI7wSyRFsbjG7Jv9c4NR0U+aRPLG1raDmkdpPNLEy7g+/cwcsDkHfnPWlkmeaRnkd5GbAZ5JGdiAMDlie1Moou9bhypD1mkjt3gjkdIXOWjU4jY8cleh6Ck3g5BAKn9PpTaKHr1BRXYlku55E8tppWhHAjkld0x/ulsUkM8lvnyZZIS33njdlZ/rhhUdFO7FyRta2g8yszs7Es7/eYk7m9yx5zT47qWGOSJJZBG4wyB3EbD02BsVDRRzdh8q6oPQ55+mPrR6jGQefofaiikDinoTSXU08aRyzSyxJ92KSV3Qf8BLYr3Dxt8f8ASPEf7Nvgz4eWllqEGtaHcCWW/YqkZUbuEZX3Hr3UV4TRVxqTjezMpUac7cy2HyTPNI8kjySs33mkkLM49Cx5pY7iWOIxLLIImyHjDuI2U9tm7FR0VF30NeVXV0TLdTRpsjnliXOQsbsADnOcZ9ajkkeZg0jNIwGNzHJ+gPYfSm0UXewckb3S1JZbqa4jSOaZ5UQfKsju6g/7hbFNaaSSJYZJGeBcFYskopHopJAplFDcurBRith7TSSbd7u+wYQO24KMKMAduBSy3Es0axtIzRpkRozsyxjGPlBPHFR0Um+Z3Y1FJWQUUUUDCiiigAooooAKKKKACiiigAooooAKKKKACiiigAooooAKKKKACiiigAooooAhs/8Ajxtv+ua1NUNn/wAeNt/1zWpqACl2npg5+hFJXpfwJ+A+t/tA+JrrRNFvLPT3trb7TLcXwcRhc425UMd34VcYyk+WK1Mqk40480nZHmnTGeKK3PGvhK+8B+LtY8O37K15p1w1tLtyVLDuMgHH4CsOpaadmXGSkroKME8AZPpmiuw+E/w7l+KnjSz8Nw6tp2hSXKuy3mquY4E2ruO5sEj8AaltLco4/wDA/lRX1pff8E6/Eem6ZDqFz8QPBkNnOCYJnupVWXClvlJi54Br5Pu4fsdzNC8kZMbbSyuMEZAyM845HasY1Yy+FjI6KTcu0ncuP728YP45xSkhVRiyhX+6ScZrcAoo47sqjGQWIGaOwP8ACejdqVxBSkEc4OPXBpK9Z+Hn7PGp/EDwePEqa5o+lWBnNvnUHdcMDjspGPxq4xcti4QlUdoq55Nzzw3HXANFd58UPhRL8NPsPma9pGtfaw27+y5S/l7ezZxj8M1wW4cDcufQEE/pSaadmJxcdGhRlugY/gaTdzivU/hZ8BdQ+LGmy3Wn65pGnzxymL7Ndu/mtgZ3ABT8v415zrGmyaTq13ZSMjS20rwuyH5SVYqSCccHBxmnyStfoNwko8zWhTooyC2AwY8dDnrSt8gBYhc9MkDNKzRAlFGCMZ4B6HORRSAKKKKACiiigAooooAKKKKACiiigAooooAKKKKACl2nONpB7ZGM0lfR3gH9iTX/AB58PdD8Wr4t8NaRp2rgGGPUppI2BOfl+5jPHrWkKU6nwmFWtCjbmdj5xwRnIxiiu5+MHwc8Q/BHxa2geIYo/OaITRTQOXimU90JAJ/KuGqJRcXaW5pGcZrmi9Ao9jwfSius+Fvw7vvit460fwppt1DZ3upyGJJrkkRg7S3JAJxgdgalyUVdlnKYpK+rNU/4J/6zo7XKXfxK8Cwz2+fNge8YOpH8OCnWvlWaMQyMjOgIYqPmA3Y7jNZU6sZ7DGsCvBHNHOcYbP0NbXgvwy/jPxVpGgxXlrpr6jOtuLq7kKxRse7sASB+Br1L48fsr618BPD2i65qGvaLrdlq07QQy6TJI4JCbt3zIvGKJTjFpN6sR4nRRxxkqAeAWYL/ADpdp27v4fUHNa3ASikRhISEZXYfwqwJpaYw46E4NGD6H8q6PwD4Pbx54kh0aPUrPSWkVmFzfSFIxj1IBP6V6xqH7Iur6bYpeT+LfDaQyIzwkyuPOAXd8uU54q1TlJXRpGjOoro8Eoob5ZNuVP8AdO4fMPUd8GjjaWLKBnGSwx1xnPSoMutgoo42hs4VuhPGaD8oBJA3fdycZph5BRS7Tx7+9JSAKKKKACiiigAooooAhs/+PG2/65rU1Q2f/Hjbf9c1qagAr7L/AGV57n4T/s0+PPiBBbSPqd9fwWdptQsxRXw+AO1fGlfZfhX9pOw+Df7JPhey8Jalo134w+3M13pt3bmVlDPuztPHSu/BuMZ80meXmEZTpqMVucV+3z4Zj0341x69bJ5dr4g0+O8zjGZQQH49eRXzX5bc/K3HXg8fhX1J+2d8UvD3xa8K/DTUdO1ey1DXI7FhqcNrn/RZGC/LyB3Bqh8bNJ+Adr8B/DFx4FnWbx63kfaAJZGmP/PTzVIwPbBNZYhL2jcTbB83sY82jPmilJy27knkDceQCMHn6UlFcbV0zuPsn9pwD/hi34EnAVyyhmBO5x5D5yc+tRfsu+C/h/cfsx+P/GHjTwxba5Joup71kIxMUCxEIDkcfOO/rWD+0D8SPC/iT9lP4OeHtL1u1vtb0sg3tjET5kOI2X5uPU1W+EvxE8NaH+xn8VPDF9rNrbeItSu99pp0pIlmGIh8uBj/AJZt39K8hU5KnbzKO4+GGsfBn47ftBeAbDQfhpFosbWty2qWc5BtZmEJYbUDHpg9cVP+zz8K/B/iL9qv4veH9T8O6fe6LYpd/ZLOeElICswVdvPvXzj+zh8SrX4RfGnw34p1AM2nWsrpcMgBYLIjKeM+/rX218P/ABl8Bfh78YPGvjTT/iVbz3/ii3MxgkR/KtwSpYA4znI9KVZTg3a+qA5H4H/s/wDhvQPgpB44l+HD/FLxHrV7IF03zFRYIRIRkbiOwNeW/tx/A3QPhnqHhXxH4d0mXw9B4iif7RpE3BgkQAsAPxFegfCH49eEPGPwPg8B6t8R9S+Fut6LeyG31bTZpIvtELOzAArnPB9K8Z/a48ceFfEeraBpPhTxj4i8a2+mwMl1qGsX73EDyEKN0SvyM455FVS9r7X3gbPn2vqf4e6b4d1X9lX7P4s1OXRNI/tVy1zDGztuLe1fLFe2W/i7RU/ZXPh8ajbjWjqpm+wjcJNhOenSvoKElFu504Waptt9jlm0XwRb/FLTbHTbrUvFXhhjHk2kLCeRz95VVgOfxFfTK/BnQfGmm6tp9z8M38HWi25ex1fzoxM+PVQ5xXzH8C/GGneA/ilo2s6qubJGeOSbO4xblwH69Qa+mPDvjzwH4d8Za/qtz8S5tZk1OGRobe6LeRbL6KMdfwrpouLT5up34V05Jup1PE/2SI2h+N9nFnJFrcDHY4GMkdKxfB3hXSvG3x+bRdafZplzqc5kTdgyY3kKT25rtP2bX8HeFdYTxdrHjC207UFknt/7LmQ/dbocgHiuO8baR4I034r2c8fiifV9Cvpnu7y80xSHtWZmPHTsRU8qUE79TLlUaUdU9T1r4m6L4S0Gx1zT9U+Emo6VY2qMtlrVgpIcjuSSOKrfCX4U6Vo/wnsfFDeCZviBrepyZFmp4ijyRnqPQ1v6Z8SvB3gDSdfmm+Jt/wCM9OurYpBot2Wk2E+5ArlPhp8TvD3iL4S2PhO/8X3fgHVNKlYx3lq7DzIyWIUkDPcdq39xyuzttT9pe6OW/ae+F+keBrrQtZ0fT30a11i3Z5rBzzDIvUf/AKs14dXrPx+8V6HreqaZZaH4j1rxHFZRMs17qd68yFj3j3cj8q8mrzajTqWieLXcXUbhsFFFFZnOFFFFABRRRQAUUUUAFFFFABRRRQAUUUUAKF3V+gVn4N8JeN/2N/hhaeMPFn/CIadDMs0d60RfdJ8/y8Gvz9VsV9t6VqXwt+Kf7LHgLwR4l+I9j4Yu9NcXUseC0iv83BGPevSwMoxcr9jx8yi5KNu5yv8AwUMkvpPHvhSMWar4eh0lY9Pvkk3+eq9eT1NfJ/lnpgk8gDac5Havon9r74veFPHlx4R8LeDrltS0LwrZm3ivmBHnMe4J5I+uKtfH/R/gLY/BvwtcfDu5WTxezQi78uWR5XUx5kMoYAKc9ME1zYmSdVtHRg4yjRjGasz5qr2v9jNv+Ml/Ao/6fG/9FvXiler/ALK/ibS/B3x78HazrV9FpumWt0XmuZs7UBRlycD1NefWV4NI9A9o/az8H/BZfE/xB1WHx7qbfEP7Qzf2H9ml8oTf3QdmK0v2U/BHhjWvhb9u0z4Lal8TfEzTFby51AxRWSKf+ebtICT9VFfPH7RviDT/ABR8dPGur6RfLfafeaiZIbmGRtjqe/ODX0/8Nviv8P8Axr+y/wCF/BuofEq8+GOo6JM322K0Yia8x33Ac/jivOnGVOkrblHnH7dfwN8PfCTxJ4a1Pw9pjaFBr1s8s+lGXcLaZACdrfjW7+0s/wDxhr8DwSGBbPTlswHJJ69q1/2qvGXw1+NXiD4SaNpvjq1TQ7aGeC/1RsySWgYKA0mR97jtmt341f8ACnvGHwB8O+E7P4tWE954Rgkmt/LQ775xGyhSMcDJFRCbtDmTugE+A/wb8HaX+zfpHjqz+GbfF3xDqMxGoWwky1rj0XIribP4P/D74x/tTaH4b0bwnrPgXT5IHvNZ0rUUETMVGSIxuOR9cVT/AGbL74f23gFJF+NHiL4W+LUuS15Gsx+zyKf7gAOfxAr0P4iftgeCNN/aR8B+IdNupvEOn6LYS6bq+vLDiS5Eoxu55OPcCpbqKT5bhc9F1T9m3wZ8SLLxT4cl+Dlx4CSxjY6R4njZf9LK9cBWNfmXcwNa3UsD48yN2Q46ZBxxX6A+Mvih8NNDtfFniEfHrxd4hjv45JNN8PaXqlxF9ldugXPG38a/PyZzJNI5YsXOdzdeuTXZhFK3vAJwck8dsD07819E/tAMG+CHwq4x/o/PXJ/deua+da9w+NHjDRNe+Enw503T9Tgu9QsYMXNvGTuj+Tbzx617EGuSSudVGShTmmzZ+Efh/wAHx/AHX/E3iPQYdWmsNRBDDiRlG3amew+cfrVr4f3Hw6+KXxm8ORaN4Mi061NnM19aykNbyttyMJn1rl/DHizR7X9mTxNoM1/DHrNzqIeOyJPmMo8vpx/sH9K5L4HeNrX4d/EzSdav+LFC8Uu0ZwGGAfpW/PH3YnTGcVyR6dT1D4K+CNC134ofEay1DR7O7tbJLj7PDLGSIysmBjn0rf8Ahn8KdK0P4W6b4lPgaXx7rWrPva2T7tvF6jJFbHhXXPhV4J8WeLNXsfGkN1da5DJII5AwjhyckA4znPtXM+Avih4f8UfCnSfC1541vPAWsaOdqXlq5Hnx/wB04rogqcdztpxo0371rnG/tOfDHSfAesaPf6NaNplrrNs0r2MhwYWHp/8AWrxKvVPj94s0PxDrlhbaD4g1jxFa2kGya71K7eZXbv5e7lR+FeV159VpyfLseLiOX2jUQooorE5wooooAKKKKAIbP/jxtv8ArmtTVDZ/8eNt/wBc1qagAoIXOQBk9TtAP50UUX5Q7XEVducYwewXH4/WjHJI4PfacE+nNLRTd27sOlkFFFFIBFUKxbCq5+8yry31pSFOMgHAwCVGV+hoopW0sAepHUjBwMA0cHlgGPY4A49KKKLADfNxk7OgX+79DS53Z7emOlJRTsAUchtw27/72OaKKLAtAz7DuDgYz6UnTGAuR3xS0ULTqGvQBgdlP+8oP1oUAZHboB7e+MUUUeQrdA/iByQw4DD0o53Dnd/tMMmiilrcfYPXk+xNFFFPrcAooooAKKKKACiiigAooooAKKKKACiiigAooooAKQqCSdoJJyd2D/Slopi3F3E9fw44FNAwSRlT3Ock8YH6UtFLl1uFgpNvBHGDwcjPFLRT0e4wXKjHUDpxijgZ4yem5vmOO9FFQ1pZgAyuQPlDfeAAwfrxRhfl4A29AAPx7UUU+VALkHO4bu/zc80nTGMEde4Oe3PeiiiyvcAXC42jZ2G09B+VFFFP0AKQDbkrgHoTjkilooFqGNzZYAt/exyKPp15GQMZ9MiiilqUJt9Ao+gpT8y4P3fcZx9DRRT1E9QP3SAdvoaKKKAS1uwooooAKKKKACiiigCGz/48bb/rmtTVDZ/8eNt/1zWpqACgc9jn0xz9KK+lfhX+zP4OuPhJb/EL4oeLbrwxol7Mbaxh0+FC74zyzMrc8HpmtadN1XyxMalaNG0pdT5q47HnOOhor1/9oz4JaR8I9U0mbw34oj8VeH9Yg862l3r5q+zqOh/OvIKmcOSXKVTnGouaIUu07QQCR2ODj86Sut+Fel+D9a8b2dt461S70Pw2yuLi80+IPMpVcLglG7+1ZSbS0NDkuPUGjkZyMH0r7Z8Xfsr/AAA8F+A9B8V6l8QPFkGj63/x5zbYSX+Qt/zw9BXxlJYySfaJrSGa5sY5GjFwkbMoBIABIGAeRWNKvGpqh2ZToqw2n3S3SWxtZhcOCywtGwcgDJwpGePpRDp91cXEsEVtNJNFnzY0iZnjwcHcoGRj6VvzLuIr0VNBZz3RYQwSzFc7hHGxK4z1GOOhqOWN4XZJEeN1+8joVYfUEZour2HZjaPQ9FPRjwKK94+Cvwh+HnxStbKwuPEOtx+KWiaaezt/LVFC9cEp1/CtYQdR2RpSpOo7Lc8H/X6UV6F8VPDPgnw7fW1n4P1bUtXuPMkivI71ApRgcALtjXNcG1lcKZA1vMrRjLgxsNo7E8cZ96nkcZWFKEoyt2IaKl+zSrDHM0UiQyMVWRo2CEjPG7GOxpJraW3WN5Y3iSTlWkUqCMA5GevWlZoizI6Kle1ljUO8UiIcfOyELz3zjFRfXj60PTcLNbhRRRSEFFFFABRRRQAUUUUAFFFFABRRRQAUUUUAFFFFABQOcenrShd1fXPhv9l/4R23wj8E+L/G/jHXNAn8SRID5fkNEsjAkHPldOK6KVGVU5q+IjRtz9T5Ez1xzjrS16v+0V8Cbz4DeNo9KkvV1fS7yL7VY3wTaZE9D7/TNeUVjUg4SszSnUVSKlEKXaeODn0waSvSP2dfhhpvxf8Ai9oXhLVrq6s9P1AyiWWy2bxtQtxvVuwrKcuSPManm24ce+f0pe2a+tfGvwU/Zr8E6lrOkXHxI8WprmntJA9q0URxIO3+or5Qs7Oe7VvKgkmC/eMaE4+vpWUK0Zq6GQsQvUgH0J5oyPUYroPA2n6Je+NNLs/Fd9daNoDXAXUrmAYkiQ+ikV7b+05+zx4O+EXgfwX4m8H63rGs2niHzGV9ReIjYFDDG1F5wauVWMZJdxHzlRU9tY3N5vNvbzXAQ4ZoY2cL9SBUUsbwTNDKjRzK2x42Uhlb0IrS6vYY2ip5rG5tY1knt5oI3xtkkjZVbPoSMVBTXvbCEZgjYYhT7mlBHrj1z2rtfg54LtfiJ8RNK8P31xPbWl4ZA8lswDDCluMj0Fei+J/h58F/Dt1qdg/jLxANWszIhgaNMeYOxPl1rGlKSubxoSnHnTPBaOOORn0zipY7WeYkRQSykHB2ITj61o+FbXS7jxJZQ6/cz2GkGfbeTQHa6J7Ais7My5XuZWOnf0xSV6/8bvhH4b+Hvh/wzqvh3UtR1K11lHdWvGjyo2hh9xF7EV5LDazXGfJjeXb97y1LY+uKcoSjKxc6c6cuVkVFKyMkjRsCrqQrKRggntiny200ChpYZIlPRnQgH8aVmRyvsR0UUUiQooooAKKKKAIbP/jxtv8ArmtTVDZ/8eNt/wBc1qagAr67+LOV/YJ+F6Asv/EwP3eOu7/GvkSvpb4W/tLeCl+EFv8ADn4o+E73xBo2nzebYTabIvmr/vbmXH4Zrrw8oxck3a6PPxkJS5JwV7PY+am2sV/vY9SSU9vT8KTI45GD0JOAeMjBPBz7V7B+0V8aND+LGqaRB4Y8MQ+G9B0mDyoIyiLcT+8jLn9Ca7b40/tKeB/iL8CvDvgzRvBkmka1YfZ/NvTDCiRbBhvLdSWfP+0BWM4xi3yu5105SnBOSsz5po9wMeoycn15oorB7M1Psr9p5tv7FfwGBO7+7gkBf3D1s/sl+LT4D/Y4+KniJbO11K403VPOt4ruPfH5gji2lsnkbnHH1rxn4wftAaB8Qf2f/hx4E0+y1GHU/Df/AB9TXUUawP8Au2X92VcseSOqiofh38etD8I/szePfhzd2eoSaxr9159tPDHGbdFxEMOxcMD+7bop6ivLVKXs+VrqaXPbv2ff2lvEHx+/aY+HsOu6XpNpc6faXaNcWMLI07mEn5gWx1Brov2X8t+2V8blJLKsd0QrcgZmwMenHTiviv4PfEu7+EfxJ0LxbaQrPLps25oSeHQqwYfXmvsLQv22vgr4X8aa94l0f4fa7Yarr0Lf2jdr5Jd5TyAB52NuffPtUVqcot+zW6DQ9D+AfhTUPBf7N2k614GvPDugeJdcvZZrrV/EQGxx5jjYuNuDivEP+ChGj6A8/gnXrObR28T3kEsGsPosyGJiv8YC9q5r4cftR+Bbj4XzfD34q+Eb7xPoFvdyXOn3GnuqTxhnZgGy6gcEdCa86/aL+L3hX4oatpEPgvwba+E9C0mAwwgRhZ589TJhmH5E0qNKcanNK4HkFe5/sb/N8XwCqsPsM2cAgn8c14ZXo/wE+JGnfCvx5/bepwXVxa/ZpIdlmis+W6cMyjH419BRlyyTZrh5qFRNlbQf+S2WWef+J6oCkZBHnYIOTzXu3xy/aC1X4b/EbV9C03SdLuLJ7VDMLiHJllddwZueQBXzhpvie3s/iJba86Smzj1MXpjUDzNgk3YxnGce/wCNbHxr8dWHxI+Il/r2mw3MFncRxIqXaqsgKptOQrMOvvWiqcsWk9TVVeWEuV6tnqHxEk879kjwfMUjUvqDFhGgGeXGK9Lu/C9l4s8Q/BSy1KFLmzXTpbloWCgSMkCMAxA5FeK+AfjV4Wtfhj/whnjbQLrWbO2nM9nJaMoKklj82WGOvbNa3jT9pqxvPEXgnWPDWk3NlJoKSRyWtyqiNlYKNqlWORgdwK6Izha7Z3wrUfibPoK+judeuPEWk+MNT8LXHhiSOSKztYZVWe2PYHceo+tfn9dwi3uZokO9EkIUn0FfQOtfHD4YldZ1TS/AM0niHVIiJBqDK1vG7feZcMT+lfPTMWz75J+prDEShK3KcmMqQqWUBKKKK5DzQooooAKKKKACiiigAooooAKKKKACiiigAooooAVWxX19+0F/yZH8Ggh4PlAEY4/dsAB+JFfIFfXnh39pv4P3nwh8EeEfG3hLX9dn8OQx4ECQrC8yjBIJmBx+H4V3YWcVzKTseZjozfK4xvZi/t4bz4Z+D7TDMx0UE7zg896+QsjaCSBkZ5PbGc+/4V6v+0N8eLn47+OIdVksV0/SbKEW1jYZyI4x6+hrvf2kP2kvBHxe+GvhnQPDng19D1LTnVprqSGFAgEe0iNkJL8/3gKxxE1KpeOxtg6cqVJKW58117x+w6N37Tng/wBmuP8A0Q9eD16V+zn8TNN+EPxi0LxZq8F1c6dYGUyxWKK0x3Rso2hmUdT3IrhrxcqbSO09o/au+KHwuvNc8feHLD4aGx8ZLfNCfEX2oHMitln247ivYf2YZPHnhv4AaLd6Y3g34bWDyZXWdajee51Vf9tcqB+BNfDfxc8YWnj74m+JvEenxTQ2eqX8t1FHcqqyKrdAwUkZ+hNfQfhf9qb4Z678F/DHg/4n+B9S8SX3hsbbF7KVUgcDpvJkU/oa8+VKUaSUVqUXf+Cj3g3TNE8d+FdYsba3tr3VtOL3r2cYjikkXqQo4qT9rjK/sy/AMbdpWzKnK5x+4XP1PBrH+OH7S/wz+N3xC8BahqnhnW18K6LavBqGmKIleRm6GMiUgj6kVs/GL9pX4JfEv4UWvhODwn4oiuNFsXttDlnMIS2kMe0MxExPX2NZxjUSheOwHrf7OviKe4/Zr8M6f8H9b8J6N4zt2I1m311ArSOPU8nFY/hvwRqvjr9tewi+I/gbRtFu9N0h76ODTRvs79k6PkgZH4V4J8J/i58ENN+Htjofj74X3d7rFnMZRrGiuFluc/8APTdKn6Zro/Fn7c1xefHbw34y0DQBYeH9DsjpsWm3D7pZbdvvbjk8/jTlSqXaiiro+u/EFlc+OvDnjjRPiXrvgfUfD88Mv9l29g8a3Fmw6A5PB/GvyXZSjbT1r628YftKfA6HR/FV14Q+E0jeKPEKMJ5teSKW3hY94/ncj8q+R8k8nrXThKc4XuSz1X9l0/8AF7/Dn+9N/wCi3rovjp448DXV54o0mx8GPaeJPtbK2rG4JBYP8x259K88+DvjSx+HvxG0nX9QiuJrO0MhdLVVaQ7kZRgMwHU+tZHjrXofE/jLWtXtUkjtr26knjWYAOFY5AIBIz+Jr2VUtTsdcaqjR5Vvc+n/AIKP4r0H4S6fcWDeG/BNjI3y6lqCNLPfe7A4A/AmuF/bG0Gx0nxlol9YwQQT39gXuHt02xsw7gdKraP8cfBWrfDfQvD3jbwveaxd6INtobaQLE4HTf8AMD+hqP4nfGbwX8TfGXhe9vtH1NdB061aC7sVCKzse6YfkfUiuqU6coWT1O6U6UqKipF/9oJT/wAKX+FHGALM8AY5Maj+leg/CHWJ2+DOiWvw21Tw/pviSNiupw6ocNIR7iuA+I/xm+GXjTwHa6Hb6Drsd1pdq0OlPN5YSNiMAsRITj6A1zPgXx78MrbwnaaZ4s8E3FxqNrIWGpaXIEkmB/v5ZazU4xndMhVIKrfmVrHqeieG77xX+0zAnjLwvpul3NnYNcJb2A3QXRH8fIGa9E1m0uvFHh/xVp/jnVPC9/pkkEjWMdnMqy2xHb5iK+ftc/aemuPitpHijTNIW203TLX7DFZSvlnh/wBo+v41L4i+MXwwi0rW5PDngFhrmrBvMm1RVeOEn+5iQ/yraNWnG9mbKvRSdmeCUUUV5R4IUUUUAFFFFAENn/x423/XNamoooAKKKKACiiigAooooAKKKKgApcmiigBKKKKCQoooqygp9FFBIyk3H1oooKFooooAKKKKACiiigAooooAKKKKACiiigAooooAKKKKACiiigAooooCQUUUUAFFFFABRRRUAFPoooAj3H1qSiirAKZRRUxAKKKKoAooooMgp9FFBqMooooAKKKKACiiigAooooA//Z)"
      ]
    },
    {
      "cell_type": "code",
      "metadata": {
        "colab": {
          "base_uri": "https://localhost:8080/"
        },
        "id": "z1dmbX3xtGGx",
        "outputId": "72697cc6-1ed2-48d2-e5b4-986f1127dff6"
      },
      "source": [
        "x, y = [1, 2, 3], [1, 2, 3, 3]\n",
        " \n",
        "print(x == y, end=' ')\n",
        "print(set(x) == set(y))"
      ],
      "execution_count": null,
      "outputs": [
        {
          "output_type": "stream",
          "text": [
            "False True\n"
          ],
          "name": "stdout"
        }
      ]
    },
    {
      "cell_type": "markdown",
      "metadata": {
        "id": "S1is1tNs1vZh"
      },
      "source": [
        "##### **Question : 4**"
      ]
    },
    {
      "cell_type": "code",
      "metadata": {
        "colab": {
          "base_uri": "https://localhost:8080/"
        },
        "id": "6P-80pfl0fAZ",
        "outputId": "bab66305-7743-47be-a2c7-9ad663d4ac9a"
      },
      "source": [
        "lst = [3, 4, 1, 6, 2]\n",
        "lst[1:2] = [7, 8]\n",
        "print (lst)"
      ],
      "execution_count": null,
      "outputs": [
        {
          "output_type": "stream",
          "text": [
            "[3, 7, 8, 1, 6, 2]\n"
          ],
          "name": "stdout"
        }
      ]
    },
    {
      "cell_type": "markdown",
      "metadata": {
        "id": "qBGNu2tEBrsl"
      },
      "source": [
        "##### **Question: 5**"
      ]
    },
    {
      "cell_type": "code",
      "metadata": {
        "colab": {
          "base_uri": "https://localhost:8080/",
          "height": 197
        },
        "id": "h2LEy9qHBfL4",
        "outputId": "53d135ba-64ec-4776-8df2-2cd6cb1b96ee"
      },
      "source": [
        "x = [1, 2, 3, 4, 5]\n",
        "res = x[2.0]\n",
        "print(res)"
      ],
      "execution_count": null,
      "outputs": [
        {
          "output_type": "error",
          "ename": "TypeError",
          "evalue": "ignored",
          "traceback": [
            "\u001b[0;31m---------------------------------------------------------------------------\u001b[0m",
            "\u001b[0;31mTypeError\u001b[0m                                 Traceback (most recent call last)",
            "\u001b[0;32m<ipython-input-16-b5cdd773398b>\u001b[0m in \u001b[0;36m<module>\u001b[0;34m()\u001b[0m\n\u001b[1;32m      1\u001b[0m \u001b[0mx\u001b[0m \u001b[0;34m=\u001b[0m \u001b[0;34m[\u001b[0m\u001b[0;36m1\u001b[0m\u001b[0;34m,\u001b[0m \u001b[0;36m2\u001b[0m\u001b[0;34m,\u001b[0m \u001b[0;36m3\u001b[0m\u001b[0;34m,\u001b[0m \u001b[0;36m4\u001b[0m\u001b[0;34m,\u001b[0m \u001b[0;36m5\u001b[0m\u001b[0;34m]\u001b[0m\u001b[0;34m\u001b[0m\u001b[0;34m\u001b[0m\u001b[0m\n\u001b[0;32m----> 2\u001b[0;31m \u001b[0mres\u001b[0m \u001b[0;34m=\u001b[0m \u001b[0mx\u001b[0m\u001b[0;34m[\u001b[0m\u001b[0;36m2.0\u001b[0m\u001b[0;34m]\u001b[0m\u001b[0;34m\u001b[0m\u001b[0;34m\u001b[0m\u001b[0m\n\u001b[0m\u001b[1;32m      3\u001b[0m \u001b[0mprint\u001b[0m\u001b[0;34m(\u001b[0m\u001b[0mres\u001b[0m\u001b[0;34m)\u001b[0m\u001b[0;34m\u001b[0m\u001b[0;34m\u001b[0m\u001b[0m\n",
            "\u001b[0;31mTypeError\u001b[0m: list indices must be integers or slices, not float"
          ]
        }
      ]
    },
    {
      "cell_type": "markdown",
      "metadata": {
        "id": "_Dbn40VvBz_Q"
      },
      "source": [
        "##### **Question: 6**"
      ]
    },
    {
      "cell_type": "code",
      "metadata": {
        "colab": {
          "base_uri": "https://localhost:8080/"
        },
        "id": "sdNykglKB3h1",
        "outputId": "8c1b77c7-9c12-4c02-f32f-4a1484e0f980"
      },
      "source": [
        "a = []\n",
        "x = a.append(4)\n",
        "y = a.append(60)\n",
        "a.append(x)\n",
        "print(a)\n",
        "\n",
        "print(x)\n",
        "print(y)"
      ],
      "execution_count": null,
      "outputs": [
        {
          "output_type": "stream",
          "text": [
            "[4, 60, None]\n",
            "None\n",
            "None\n"
          ],
          "name": "stdout"
        }
      ]
    },
    {
      "cell_type": "markdown",
      "metadata": {
        "id": "bxSukcMlFJb8"
      },
      "source": [
        "##### **Question: 7**"
      ]
    },
    {
      "cell_type": "code",
      "metadata": {
        "colab": {
          "base_uri": "https://localhost:8080/"
        },
        "id": "1vg4bN-6FNny",
        "outputId": "4784920b-b80a-4d6f-ce93-d68f0a3f9daa"
      },
      "source": [
        "y = [2, 4, 6]\n",
        "x = y.clear()\n",
        "\n",
        "print(x)\n",
        "print(y)"
      ],
      "execution_count": null,
      "outputs": [
        {
          "output_type": "stream",
          "text": [
            "None\n",
            "[]\n"
          ],
          "name": "stdout"
        }
      ]
    },
    {
      "cell_type": "markdown",
      "metadata": {
        "id": "k-WWp1ANJSM7"
      },
      "source": [
        "##### **Question: 8**"
      ]
    },
    {
      "cell_type": "code",
      "metadata": {
        "colab": {
          "base_uri": "https://localhost:8080/"
        },
        "id": "-25uuXNfJWdv",
        "outputId": "65d3882e-16de-4ae8-8399-91068be6288e"
      },
      "source": [
        "x = [2, 3, 5, 6]\n",
        "print(x[-0])"
      ],
      "execution_count": null,
      "outputs": [
        {
          "output_type": "stream",
          "text": [
            "2\n"
          ],
          "name": "stdout"
        }
      ]
    },
    {
      "cell_type": "markdown",
      "metadata": {
        "id": "zTD8kaP6xCj2"
      },
      "source": [
        "##### **Question: 9**"
      ]
    },
    {
      "cell_type": "code",
      "metadata": {
        "colab": {
          "base_uri": "https://localhost:8080/"
        },
        "id": "Z8y_h_hjxHMx",
        "outputId": "faf28b6a-2bf8-49f9-e30c-8d259320a1f3"
      },
      "source": [
        "Numbers = [1, 2, 3, 3, 6.6]\n",
        "print(Numbers.count(3))"
      ],
      "execution_count": null,
      "outputs": [
        {
          "output_type": "stream",
          "text": [
            "2\n"
          ],
          "name": "stdout"
        }
      ]
    },
    {
      "cell_type": "markdown",
      "metadata": {
        "id": "Dv52MdezB4c5"
      },
      "source": [
        "##### **Question 10**"
      ]
    },
    {
      "cell_type": "code",
      "metadata": {
        "id": "z_PiJ4qj-foV",
        "colab": {
          "base_uri": "https://localhost:8080/"
        },
        "outputId": "df37d596-1dd5-4564-de4f-7f5fe3e1ee0a"
      },
      "source": [
        "ls = [1, 4, 6, 8]\n",
        "ls.sort()\n",
        "print (ls)"
      ],
      "execution_count": null,
      "outputs": [
        {
          "output_type": "stream",
          "text": [
            "[1, 4, 6, 8]\n"
          ],
          "name": "stdout"
        }
      ]
    },
    {
      "cell_type": "markdown",
      "metadata": {
        "id": "N_iuqby9t0VQ"
      },
      "source": [
        "##### **Question 11**"
      ]
    },
    {
      "cell_type": "code",
      "metadata": {
        "id": "tvUEfqGkt7g0"
      },
      "source": [
        "name = [1, 2, 3]\n",
        "name.insert(3, 4)\n",
        "print (name)"
      ],
      "execution_count": null,
      "outputs": []
    },
    {
      "cell_type": "code",
      "metadata": {
        "colab": {
          "base_uri": "https://localhost:8080/",
          "height": 250
        },
        "id": "gCPsXy-l-j9p",
        "outputId": "0f9c7d3d-cdca-4781-cd65-087326716582"
      },
      "source": [
        "5 + \"5\""
      ],
      "execution_count": null,
      "outputs": [
        {
          "output_type": "error",
          "ename": "TypeError",
          "evalue": "ignored",
          "traceback": [
            "\u001b[0;31m---------------------------------------------------------------------------\u001b[0m",
            "\u001b[0;31mTypeError\u001b[0m                                 Traceback (most recent call last)",
            "\u001b[0;32m<ipython-input-1-b265071c056c>\u001b[0m in \u001b[0;36m<module>\u001b[0;34m()\u001b[0m\n\u001b[0;32m----> 1\u001b[0;31m \u001b[0;36m5\u001b[0m \u001b[0;34m+\u001b[0m \u001b[0;34m\"5\"\u001b[0m\u001b[0;34m\u001b[0m\u001b[0;34m\u001b[0m\u001b[0m\n\u001b[0m",
            "\u001b[0;31mTypeError\u001b[0m: unsupported operand type(s) for +: 'int' and 'str'"
          ]
        }
      ]
    },
    {
      "cell_type": "markdown",
      "metadata": {
        "id": "XIzt_68QL3K4"
      },
      "source": [
        "##### **Question 12**"
      ]
    },
    {
      "cell_type": "code",
      "metadata": {
        "colab": {
          "base_uri": "https://localhost:8080/"
        },
        "id": "4B8ddBpQL7E4",
        "outputId": "9c63d24a-ea4c-4442-bb87-1ded9640ae3f"
      },
      "source": [
        "l = [1,2,3]\n",
        "l.append([4,5,6])\n",
        "print(len(l))\n",
        "print(l)"
      ],
      "execution_count": null,
      "outputs": [
        {
          "output_type": "stream",
          "text": [
            "4\n",
            "[1, 2, 3, [4, 5, 6]]\n"
          ],
          "name": "stdout"
        }
      ]
    },
    {
      "cell_type": "markdown",
      "metadata": {
        "id": "SDINXayjh9Hw"
      },
      "source": [
        "##### **Question 13**"
      ]
    },
    {
      "cell_type": "code",
      "metadata": {
        "colab": {
          "base_uri": "https://localhost:8080/"
        },
        "id": "mxL_Ri9Dgrqc",
        "outputId": "43c57e74-7e26-42e5-c59c-71d561467fa4"
      },
      "source": [
        "lst = [5, 7, 12, 15, 10, 8, 18]\n",
        "sum([i for i in lst if i>10])"
      ],
      "execution_count": null,
      "outputs": [
        {
          "output_type": "execute_result",
          "data": {
            "text/plain": [
              "45"
            ]
          },
          "metadata": {
            "tags": []
          },
          "execution_count": 2
        }
      ]
    },
    {
      "cell_type": "markdown",
      "metadata": {
        "id": "PhgooOJ3_vJ6"
      },
      "source": [
        "##### **Question 14:**\n",
        "#### **How do you sum list of the list?**"
      ]
    },
    {
      "cell_type": "code",
      "metadata": {
        "colab": {
          "base_uri": "https://localhost:8080/"
        },
        "id": "Gcg8ZHqa_2T-",
        "outputId": "eef8bfa5-424b-4c63-cdd8-7b3824bb4e76"
      },
      "source": [
        "list_of_list = [[1, 5534, 123, 67, 8673, 243], [56, 2, 123, 7, 3], [546, 24, 5, 7, 86, 45234, 24]]\n",
        "\n",
        "sum([sum(i) for i in list_of_list])"
      ],
      "execution_count": null,
      "outputs": [
        {
          "output_type": "execute_result",
          "data": {
            "text/plain": [
              "60758"
            ]
          },
          "metadata": {
            "tags": []
          },
          "execution_count": 30
        }
      ]
    },
    {
      "cell_type": "markdown",
      "metadata": {
        "id": "nHl0dxS6NPJ8"
      },
      "source": [
        "##### **Question 15:**\n",
        "#### **How do you remove a NaN from a list in python?**"
      ]
    },
    {
      "cell_type": "code",
      "metadata": {
        "colab": {
          "base_uri": "https://localhost:8080/"
        },
        "id": "ByEfAqD1NTBt",
        "outputId": "928ac1ad-d97e-41b6-e151-a98fddcfcec2"
      },
      "source": [
        "list = [1, 'nan', 10, 45, 65, 'nan', 12, 23, 90, 'nan']\n",
        "\n",
        "cleanedlist = [x for x in list if str(x) != 'nan']\n",
        "cleanedlist"
      ],
      "execution_count": null,
      "outputs": [
        {
          "output_type": "execute_result",
          "data": {
            "text/plain": [
              "[1, 10, 45, 65, 12, 23, 90]"
            ]
          },
          "metadata": {
            "tags": []
          },
          "execution_count": 7
        }
      ]
    },
    {
      "cell_type": "markdown",
      "metadata": {
        "id": "G0nrnXpOFKfp"
      },
      "source": [
        "##### **Question 16**\n",
        "#### **How do you get range arguments from a list?**"
      ]
    },
    {
      "cell_type": "code",
      "metadata": {
        "colab": {
          "base_uri": "https://localhost:8080/"
        },
        "id": "VL8Ts2fHFJ0h",
        "outputId": "b950cc53-edf3-4e19-d4d6-eef437db97e4"
      },
      "source": [
        "lst = [1, 9]\n",
        "for i in range(*lst):\n",
        "  print(i)"
      ],
      "execution_count": null,
      "outputs": [
        {
          "output_type": "stream",
          "text": [
            "1\n",
            "2\n",
            "3\n",
            "4\n",
            "5\n",
            "6\n",
            "7\n",
            "8\n"
          ],
          "name": "stdout"
        }
      ]
    },
    {
      "cell_type": "markdown",
      "metadata": {
        "id": "Ry8W2tRSoyMC"
      },
      "source": [
        "##### **Question 17**\n",
        "#### **Python code to filter even values from a list**"
      ]
    },
    {
      "cell_type": "code",
      "metadata": {
        "colab": {
          "base_uri": "https://localhost:8080/"
        },
        "id": "WqSbiZkPouvm",
        "outputId": "761f9c90-736d-4b21-8bf5-5448181a66a6"
      },
      "source": [
        "# Initialisation of list\n",
        "lis = [1,2,3,4,5,6,7,8,9,10,11,12]\n",
        "  \n",
        "# Output list initialisation\n",
        "out = []\n",
        "  \n",
        "for num in lis: \n",
        "      \n",
        "    # checking condition \n",
        "    if num % 2 == 0: \n",
        "        out.append(num)\n",
        "\n",
        "# printing output\n",
        "print(out)"
      ],
      "execution_count": null,
      "outputs": [
        {
          "output_type": "stream",
          "text": [
            "[2, 4, 6, 8, 10, 12]\n"
          ],
          "name": "stdout"
        }
      ]
    },
    {
      "cell_type": "code",
      "metadata": {
        "colab": {
          "base_uri": "https://localhost:8080/"
        },
        "id": "O0Bl5CNdpEym",
        "outputId": "c7bfbc07-cbfb-48b5-fbb3-04564bccf695"
      },
      "source": [
        "lis2 = [i for i in lis if i%2 == 0]\n",
        "  \n",
        "# Printing output\n",
        "print(lis2)"
      ],
      "execution_count": null,
      "outputs": [
        {
          "output_type": "stream",
          "text": [
            "[2, 4, 6, 8, 10, 12]\n"
          ],
          "name": "stdout"
        }
      ]
    },
    {
      "cell_type": "code",
      "metadata": {
        "colab": {
          "base_uri": "https://localhost:8080/"
        },
        "id": "17az00HNpXUZ",
        "outputId": "d5b3b353-4e2d-4379-a9ee-3f1795d4ccae"
      },
      "source": [
        "is_even = lambda x: x % 2 == 0\n",
        "  \n",
        "# using filter\n",
        "lis2 = list(filter(is_even, lis))\n",
        "  \n",
        "# Printing output\n",
        "print(lis2)"
      ],
      "execution_count": null,
      "outputs": [
        {
          "output_type": "stream",
          "text": [
            "[2, 4, 6, 8, 10, 12]\n"
          ],
          "name": "stdout"
        }
      ]
    },
    {
      "cell_type": "markdown",
      "metadata": {
        "id": "mSeLA9LsAEHl"
      },
      "source": [
        "#### **Question 18**"
      ]
    },
    {
      "cell_type": "code",
      "metadata": {
        "colab": {
          "base_uri": "https://localhost:8080/"
        },
        "id": "jxnXu9eUASX1",
        "outputId": "4991f942-6c4a-4d5b-f11a-29500f6c93bb"
      },
      "source": [
        "List1 = [[1,2,3],[4,5,6],[7,8,9]]\n",
        "List1[1][1]"
      ],
      "execution_count": null,
      "outputs": [
        {
          "output_type": "execute_result",
          "data": {
            "text/plain": [
              "5"
            ]
          },
          "metadata": {
            "tags": []
          },
          "execution_count": 1
        }
      ]
    },
    {
      "cell_type": "markdown",
      "metadata": {
        "id": "Z2J5sTaMd5Od"
      },
      "source": [
        "#### **4.10) General**"
      ]
    },
    {
      "cell_type": "code",
      "metadata": {
        "colab": {
          "base_uri": "https://localhost:8080/"
        },
        "id": "7kAJAGtOd_FD",
        "outputId": "21120263-d840-42ac-8891-e5fd9b4ed435"
      },
      "source": [
        "data = [[[1, 2], [3, 4]], [[5, 6], [7, 8]]]\n",
        "print(data)\n",
        "print(data[1][0][0])"
      ],
      "execution_count": null,
      "outputs": [
        {
          "output_type": "stream",
          "text": [
            "[[[1, 2], [3, 4]], [[5, 6], [7, 8]]]\n",
            "5\n"
          ],
          "name": "stdout"
        }
      ]
    }
  ]
}