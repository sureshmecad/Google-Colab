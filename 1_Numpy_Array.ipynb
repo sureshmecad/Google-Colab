{
  "nbformat": 4,
  "nbformat_minor": 0,
  "metadata": {
    "colab": {
      "name": "1_Numpy-Array.ipynb",
      "provenance": [],
      "collapsed_sections": [],
      "authorship_tag": "ABX9TyNhUtYlu8c/5POJqrzCytas",
      "include_colab_link": true
    },
    "kernelspec": {
      "name": "python3",
      "display_name": "Python 3"
    },
    "language_info": {
      "name": "python"
    }
  },
  "cells": [
    {
      "cell_type": "markdown",
      "metadata": {
        "id": "view-in-github",
        "colab_type": "text"
      },
      "source": [
        "<a href=\"https://colab.research.google.com/github/sureshmecad/Google-Colab/blob/master/1_Numpy_Array.ipynb\" target=\"_parent\"><img src=\"https://colab.research.google.com/assets/colab-badge.svg\" alt=\"Open In Colab\"/></a>"
      ]
    },
    {
      "cell_type": "markdown",
      "metadata": {
        "id": "SIdMw6pfwxwM"
      },
      "source": [
        "- To create an **ndarray**, we can pass a **list, tuple or any array-like** object into the array() method, and it will be converted into an ndarray"
      ]
    },
    {
      "cell_type": "code",
      "metadata": {
        "colab": {
          "base_uri": "https://localhost:8080/"
        },
        "id": "wNTUjGskwPUC",
        "outputId": "7a19b14f-79df-4e76-f231-ac9acb92bb77"
      },
      "source": [
        "import numpy as np\n",
        "\n",
        "arr = np.array([1, 2, 3, 4, 5])\n",
        "\n",
        "print(arr)\n",
        "\n",
        "print(type(arr))"
      ],
      "execution_count": 1,
      "outputs": [
        {
          "output_type": "stream",
          "text": [
            "[1 2 3 4 5]\n",
            "<class 'numpy.ndarray'>\n"
          ],
          "name": "stdout"
        }
      ]
    },
    {
      "cell_type": "code",
      "metadata": {
        "colab": {
          "base_uri": "https://localhost:8080/"
        },
        "id": "S7rEuyahwwGD",
        "outputId": "38b4daaa-e58a-4137-b6ea-d898ad5a1568"
      },
      "source": [
        "arr = np.array((1, 2, 3, 4, 5))\n",
        "\n",
        "print(arr)"
      ],
      "execution_count": 2,
      "outputs": [
        {
          "output_type": "stream",
          "text": [
            "[1 2 3 4 5]\n"
          ],
          "name": "stdout"
        }
      ]
    },
    {
      "cell_type": "markdown",
      "metadata": {
        "id": "Vqqu3WXWxM0u"
      },
      "source": [
        "#### **1) 0-D Arrays**"
      ]
    },
    {
      "cell_type": "markdown",
      "metadata": {
        "id": "l-eONPUjxPyG"
      },
      "source": [
        "- **0-D arrays, or Scalars,** are the elements in an array. Each value in an array is a **0-D array.**"
      ]
    },
    {
      "cell_type": "code",
      "metadata": {
        "colab": {
          "base_uri": "https://localhost:8080/"
        },
        "id": "9B2vQ0ytxYzl",
        "outputId": "45217c08-d2ba-40d0-fe51-7253178f9fe0"
      },
      "source": [
        "a = np.array(42)\n",
        "\n",
        "print(a)"
      ],
      "execution_count": 3,
      "outputs": [
        {
          "output_type": "stream",
          "text": [
            "42\n"
          ],
          "name": "stdout"
        }
      ]
    },
    {
      "cell_type": "markdown",
      "metadata": {
        "id": "Nd0ypmVdxllO"
      },
      "source": [
        "#### **2) 1-D Arrays**"
      ]
    },
    {
      "cell_type": "markdown",
      "metadata": {
        "id": "C53bSX9OxrVn"
      },
      "source": [
        "- An array that has 0-D arrays as its elements is called uni-dimensional or 1-D array"
      ]
    },
    {
      "cell_type": "code",
      "metadata": {
        "colab": {
          "base_uri": "https://localhost:8080/"
        },
        "id": "a5VJeDkIxkbu",
        "outputId": "8a4380d1-dde2-4de4-db8a-50030cb64b05"
      },
      "source": [
        "b = np.array([1, 2, 3, 4, 5])\n",
        "\n",
        "print(b)"
      ],
      "execution_count": 4,
      "outputs": [
        {
          "output_type": "stream",
          "text": [
            "[1 2 3 4 5]\n"
          ],
          "name": "stdout"
        }
      ]
    },
    {
      "cell_type": "markdown",
      "metadata": {
        "id": "eHqPNKOIx2ru"
      },
      "source": [
        "#### **3) 2-D Arrays**"
      ]
    },
    {
      "cell_type": "markdown",
      "metadata": {
        "id": "R8ycg96Sx5Q2"
      },
      "source": [
        "- An array that has 1-D arrays as its elements is called a 2-D array."
      ]
    },
    {
      "cell_type": "code",
      "metadata": {
        "colab": {
          "base_uri": "https://localhost:8080/"
        },
        "id": "3MJI95SMyHUW",
        "outputId": "69267e04-0b56-4e83-8b00-1e1411bc7efd"
      },
      "source": [
        "c = np.array([[1, 2, 3], [4, 5, 6]])\n",
        "\n",
        "print(c)"
      ],
      "execution_count": 5,
      "outputs": [
        {
          "output_type": "stream",
          "text": [
            "[[1 2 3]\n",
            " [4 5 6]]\n"
          ],
          "name": "stdout"
        }
      ]
    },
    {
      "cell_type": "markdown",
      "metadata": {
        "id": "df67fQRgyW2H"
      },
      "source": [
        "#### **4) 3-D arrays**"
      ]
    },
    {
      "cell_type": "markdown",
      "metadata": {
        "id": "Fi8M6osQyah3"
      },
      "source": [
        "- An array that has 2-D arrays (matrices) as its elements is called 3-D array."
      ]
    },
    {
      "cell_type": "code",
      "metadata": {
        "colab": {
          "base_uri": "https://localhost:8080/"
        },
        "id": "IyaKz0mRyjSf",
        "outputId": "56a93054-ea37-4b56-e059-fcf6c1f75bf4"
      },
      "source": [
        "d = np.array([[[1, 2, 3], [4, 5, 6]], [[1, 2, 3], [4, 5, 6]]])\n",
        "\n",
        "print(d)"
      ],
      "execution_count": 6,
      "outputs": [
        {
          "output_type": "stream",
          "text": [
            "[[[1 2 3]\n",
            "  [4 5 6]]\n",
            "\n",
            " [[1 2 3]\n",
            "  [4 5 6]]]\n"
          ],
          "name": "stdout"
        }
      ]
    },
    {
      "cell_type": "markdown",
      "metadata": {
        "id": "OM_RKbfR0x-4"
      },
      "source": [
        "#### **5) Check Number of Dimensions**"
      ]
    },
    {
      "cell_type": "code",
      "metadata": {
        "colab": {
          "base_uri": "https://localhost:8080/"
        },
        "id": "xwP4OGfl01s0",
        "outputId": "0af51439-ad7c-403b-c1dc-96a30904fab1"
      },
      "source": [
        "print(a.ndim)\n",
        "print(b.ndim)\n",
        "print(c.ndim)\n",
        "print(d.ndim)"
      ],
      "execution_count": 7,
      "outputs": [
        {
          "output_type": "stream",
          "text": [
            "0\n",
            "1\n",
            "2\n",
            "3\n"
          ],
          "name": "stdout"
        }
      ]
    },
    {
      "cell_type": "markdown",
      "metadata": {
        "id": "b8GrSfTx1c40"
      },
      "source": [
        "#### **6) Higher Dimensional Arrays**"
      ]
    },
    {
      "cell_type": "code",
      "metadata": {
        "colab": {
          "base_uri": "https://localhost:8080/"
        },
        "id": "IyxS44LP1f9s",
        "outputId": "bc23de41-8aed-4a11-ee91-ba1efa45154f"
      },
      "source": [
        "# Create an array with 5 dimensions and verify that it has 5 dimensions:\n",
        "\n",
        "arr = np.array([1, 2, 3, 4], ndmin=5)\n",
        "\n",
        "print(arr)\n",
        "print('number of dimensions :', arr.ndim)\n",
        "print('shape of array :', arr.shape)"
      ],
      "execution_count": 9,
      "outputs": [
        {
          "output_type": "stream",
          "text": [
            "[[[[[1 2 3 4]]]]]\n",
            "number of dimensions : 5\n",
            "shape of array : (1, 1, 1, 1, 4)\n"
          ],
          "name": "stdout"
        }
      ]
    },
    {
      "cell_type": "markdown",
      "metadata": {
        "id": "cfyKnOew2IVt"
      },
      "source": [
        "#### **7) Shape of an Array**"
      ]
    },
    {
      "cell_type": "code",
      "metadata": {
        "colab": {
          "base_uri": "https://localhost:8080/"
        },
        "id": "KgIsCik92LFM",
        "outputId": "cfe885ce-7934-43db-a6bb-ad450da3eab4"
      },
      "source": [
        "print(a.shape)\n",
        "print(b.shape)\n",
        "print(c.shape)\n",
        "print(d.shape)"
      ],
      "execution_count": 10,
      "outputs": [
        {
          "output_type": "stream",
          "text": [
            "()\n",
            "(5,)\n",
            "(2, 3)\n",
            "(2, 2, 3)\n"
          ],
          "name": "stdout"
        }
      ]
    },
    {
      "cell_type": "markdown",
      "metadata": {
        "id": "g6uOcqTLCw1K"
      },
      "source": [
        "------------"
      ]
    },
    {
      "cell_type": "code",
      "metadata": {
        "colab": {
          "base_uri": "https://localhost:8080/"
        },
        "id": "y_01uj2JCvP6",
        "outputId": "bd79483d-326c-4610-d618-3f5a5a645c38"
      },
      "source": [
        "# Python program to demonstrate \n",
        "# basic array characteristics\n",
        "import numpy as np\n",
        "  \n",
        "# Creating array object\n",
        "arr = np.array( [[ 1, 2, 3],\n",
        "                 [ 4, 2, 5]] )\n",
        "  \n",
        "# Printing type of arr object\n",
        "print(\"Array is of type: \", type(arr))\n",
        "  \n",
        "# Printing array dimensions (axes)\n",
        "print(\"No. of dimensions: \", arr.ndim)\n",
        "  \n",
        "# Printing shape of array\n",
        "print(\"Shape of array: \", arr.shape)\n",
        "  \n",
        "# Printing size (total number of elements) of array\n",
        "print(\"Size of array: \", arr.size)\n",
        "  \n",
        "# Printing type of elements in array\n",
        "print(\"Array stores elements of type: \", arr.dtype)"
      ],
      "execution_count": 11,
      "outputs": [
        {
          "output_type": "stream",
          "text": [
            "Array is of type:  <class 'numpy.ndarray'>\n",
            "No. of dimensions:  2\n",
            "Shape of array:  (2, 3)\n",
            "Size of array:  6\n",
            "Array stores elements of type:  int64\n"
          ],
          "name": "stdout"
        }
      ]
    }
  ]
}