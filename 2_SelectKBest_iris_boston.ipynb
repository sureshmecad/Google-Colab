{
  "nbformat": 4,
  "nbformat_minor": 0,
  "metadata": {
    "colab": {
      "name": "2_SelectKBest_iris_boston.ipynb",
      "provenance": [],
      "collapsed_sections": [],
      "authorship_tag": "ABX9TyPpKqawWJYf4hLrLUSHKkIo",
      "include_colab_link": true
    },
    "kernelspec": {
      "name": "python3",
      "display_name": "Python 3"
    },
    "language_info": {
      "name": "python"
    }
  },
  "cells": [
    {
      "cell_type": "markdown",
      "metadata": {
        "id": "view-in-github",
        "colab_type": "text"
      },
      "source": [
        "<a href=\"https://colab.research.google.com/github/sureshmecad/Google-Colab/blob/master/2_SelectKBest_iris_boston.ipynb\" target=\"_parent\"><img src=\"https://colab.research.google.com/assets/colab-badge.svg\" alt=\"Open In Colab\"/></a>"
      ]
    },
    {
      "cell_type": "markdown",
      "metadata": {
        "id": "akIMlZwzquam"
      },
      "source": [
        "The SelectKBest method selects the features according to the k highest score. By changing the 'score_func' parameter we can apply the method for both classification and regression data. "
      ]
    },
    {
      "cell_type": "code",
      "metadata": {
        "id": "duo9aPuyq840"
      },
      "source": [
        "from sklearn.feature_selection import SelectKBest\n",
        "from sklearn.feature_selection import chi2, f_regression\n",
        "from sklearn.datasets import load_boston\n",
        "from sklearn.datasets import load_iris\n",
        "from numpy import array "
      ],
      "execution_count": 1,
      "outputs": []
    },
    {
      "cell_type": "markdown",
      "metadata": {
        "id": "3qlFhexLqzic"
      },
      "source": [
        "### **1) SelectKBest for classification**"
      ]
    },
    {
      "cell_type": "code",
      "metadata": {
        "colab": {
          "base_uri": "https://localhost:8080/"
        },
        "id": "i1KP6o0Jpq_U",
        "outputId": "79097ddc-8f11-4b34-cde4-c5337576f031"
      },
      "source": [
        "iris = load_iris()\n",
        "x = iris.data\n",
        "y = iris.target\n",
        " \n",
        "print(\"Feature data dimension: \", x.shape) "
      ],
      "execution_count": 2,
      "outputs": [
        {
          "output_type": "stream",
          "text": [
            "Feature data dimension:  (150, 4)\n"
          ],
          "name": "stdout"
        }
      ]
    },
    {
      "cell_type": "markdown",
      "metadata": {
        "id": "uvGAbGurtsqd"
      },
      "source": [
        "- For **classification** we'll set **'chi2'**  method as a **scoring function.**\n",
        "\n",
        "- The **target number of features** is defined by **k** parameter."
      ]
    },
    {
      "cell_type": "code",
      "metadata": {
        "colab": {
          "base_uri": "https://localhost:8080/"
        },
        "id": "c8GJlzwhtdNN",
        "outputId": "03b57717-b8c2-48dc-f6d3-93b78af7c44d"
      },
      "source": [
        "select = SelectKBest(score_func=chi2, k=3)\n",
        "z = select.fit_transform(x,y)\n",
        " \n",
        "print(\"After selecting best 3 features:\", z.shape)"
      ],
      "execution_count": 3,
      "outputs": [
        {
          "output_type": "stream",
          "text": [
            "After selecting best 3 features: (150, 3)\n"
          ],
          "name": "stdout"
        }
      ]
    },
    {
      "cell_type": "markdown",
      "metadata": {
        "id": "2Wk_a3e1vgUV"
      },
      "source": [
        "- To **identify** the selected features we use **get_support()** function"
      ]
    },
    {
      "cell_type": "code",
      "metadata": {
        "colab": {
          "base_uri": "https://localhost:8080/"
        },
        "id": "VVY6n_URtdIk",
        "outputId": "e3d5fa0d-f610-4e30-929b-d38188e76f76"
      },
      "source": [
        "filter = select.get_support()\n",
        "features = array(iris.feature_names)\n",
        " \n",
        "print(\"All features:\", features)\n",
        " \n",
        "print(\"\\n\\nSelected best 3:\", features[filter])\n",
        "print(\"\\n\\n\", z) "
      ],
      "execution_count": 4,
      "outputs": [
        {
          "output_type": "stream",
          "text": [
            "All features: ['sepal length (cm)' 'sepal width (cm)' 'petal length (cm)'\n",
            " 'petal width (cm)']\n",
            "\n",
            "\n",
            "Selected best 3: ['sepal length (cm)' 'petal length (cm)' 'petal width (cm)']\n",
            "\n",
            "\n",
            " [[5.1 1.4 0.2]\n",
            " [4.9 1.4 0.2]\n",
            " [4.7 1.3 0.2]\n",
            " [4.6 1.5 0.2]\n",
            " [5.  1.4 0.2]\n",
            " [5.4 1.7 0.4]\n",
            " [4.6 1.4 0.3]\n",
            " [5.  1.5 0.2]\n",
            " [4.4 1.4 0.2]\n",
            " [4.9 1.5 0.1]\n",
            " [5.4 1.5 0.2]\n",
            " [4.8 1.6 0.2]\n",
            " [4.8 1.4 0.1]\n",
            " [4.3 1.1 0.1]\n",
            " [5.8 1.2 0.2]\n",
            " [5.7 1.5 0.4]\n",
            " [5.4 1.3 0.4]\n",
            " [5.1 1.4 0.3]\n",
            " [5.7 1.7 0.3]\n",
            " [5.1 1.5 0.3]\n",
            " [5.4 1.7 0.2]\n",
            " [5.1 1.5 0.4]\n",
            " [4.6 1.  0.2]\n",
            " [5.1 1.7 0.5]\n",
            " [4.8 1.9 0.2]\n",
            " [5.  1.6 0.2]\n",
            " [5.  1.6 0.4]\n",
            " [5.2 1.5 0.2]\n",
            " [5.2 1.4 0.2]\n",
            " [4.7 1.6 0.2]\n",
            " [4.8 1.6 0.2]\n",
            " [5.4 1.5 0.4]\n",
            " [5.2 1.5 0.1]\n",
            " [5.5 1.4 0.2]\n",
            " [4.9 1.5 0.2]\n",
            " [5.  1.2 0.2]\n",
            " [5.5 1.3 0.2]\n",
            " [4.9 1.4 0.1]\n",
            " [4.4 1.3 0.2]\n",
            " [5.1 1.5 0.2]\n",
            " [5.  1.3 0.3]\n",
            " [4.5 1.3 0.3]\n",
            " [4.4 1.3 0.2]\n",
            " [5.  1.6 0.6]\n",
            " [5.1 1.9 0.4]\n",
            " [4.8 1.4 0.3]\n",
            " [5.1 1.6 0.2]\n",
            " [4.6 1.4 0.2]\n",
            " [5.3 1.5 0.2]\n",
            " [5.  1.4 0.2]\n",
            " [7.  4.7 1.4]\n",
            " [6.4 4.5 1.5]\n",
            " [6.9 4.9 1.5]\n",
            " [5.5 4.  1.3]\n",
            " [6.5 4.6 1.5]\n",
            " [5.7 4.5 1.3]\n",
            " [6.3 4.7 1.6]\n",
            " [4.9 3.3 1. ]\n",
            " [6.6 4.6 1.3]\n",
            " [5.2 3.9 1.4]\n",
            " [5.  3.5 1. ]\n",
            " [5.9 4.2 1.5]\n",
            " [6.  4.  1. ]\n",
            " [6.1 4.7 1.4]\n",
            " [5.6 3.6 1.3]\n",
            " [6.7 4.4 1.4]\n",
            " [5.6 4.5 1.5]\n",
            " [5.8 4.1 1. ]\n",
            " [6.2 4.5 1.5]\n",
            " [5.6 3.9 1.1]\n",
            " [5.9 4.8 1.8]\n",
            " [6.1 4.  1.3]\n",
            " [6.3 4.9 1.5]\n",
            " [6.1 4.7 1.2]\n",
            " [6.4 4.3 1.3]\n",
            " [6.6 4.4 1.4]\n",
            " [6.8 4.8 1.4]\n",
            " [6.7 5.  1.7]\n",
            " [6.  4.5 1.5]\n",
            " [5.7 3.5 1. ]\n",
            " [5.5 3.8 1.1]\n",
            " [5.5 3.7 1. ]\n",
            " [5.8 3.9 1.2]\n",
            " [6.  5.1 1.6]\n",
            " [5.4 4.5 1.5]\n",
            " [6.  4.5 1.6]\n",
            " [6.7 4.7 1.5]\n",
            " [6.3 4.4 1.3]\n",
            " [5.6 4.1 1.3]\n",
            " [5.5 4.  1.3]\n",
            " [5.5 4.4 1.2]\n",
            " [6.1 4.6 1.4]\n",
            " [5.8 4.  1.2]\n",
            " [5.  3.3 1. ]\n",
            " [5.6 4.2 1.3]\n",
            " [5.7 4.2 1.2]\n",
            " [5.7 4.2 1.3]\n",
            " [6.2 4.3 1.3]\n",
            " [5.1 3.  1.1]\n",
            " [5.7 4.1 1.3]\n",
            " [6.3 6.  2.5]\n",
            " [5.8 5.1 1.9]\n",
            " [7.1 5.9 2.1]\n",
            " [6.3 5.6 1.8]\n",
            " [6.5 5.8 2.2]\n",
            " [7.6 6.6 2.1]\n",
            " [4.9 4.5 1.7]\n",
            " [7.3 6.3 1.8]\n",
            " [6.7 5.8 1.8]\n",
            " [7.2 6.1 2.5]\n",
            " [6.5 5.1 2. ]\n",
            " [6.4 5.3 1.9]\n",
            " [6.8 5.5 2.1]\n",
            " [5.7 5.  2. ]\n",
            " [5.8 5.1 2.4]\n",
            " [6.4 5.3 2.3]\n",
            " [6.5 5.5 1.8]\n",
            " [7.7 6.7 2.2]\n",
            " [7.7 6.9 2.3]\n",
            " [6.  5.  1.5]\n",
            " [6.9 5.7 2.3]\n",
            " [5.6 4.9 2. ]\n",
            " [7.7 6.7 2. ]\n",
            " [6.3 4.9 1.8]\n",
            " [6.7 5.7 2.1]\n",
            " [7.2 6.  1.8]\n",
            " [6.2 4.8 1.8]\n",
            " [6.1 4.9 1.8]\n",
            " [6.4 5.6 2.1]\n",
            " [7.2 5.8 1.6]\n",
            " [7.4 6.1 1.9]\n",
            " [7.9 6.4 2. ]\n",
            " [6.4 5.6 2.2]\n",
            " [6.3 5.1 1.5]\n",
            " [6.1 5.6 1.4]\n",
            " [7.7 6.1 2.3]\n",
            " [6.3 5.6 2.4]\n",
            " [6.4 5.5 1.8]\n",
            " [6.  4.8 1.8]\n",
            " [6.9 5.4 2.1]\n",
            " [6.7 5.6 2.4]\n",
            " [6.9 5.1 2.3]\n",
            " [5.8 5.1 1.9]\n",
            " [6.8 5.9 2.3]\n",
            " [6.7 5.7 2.5]\n",
            " [6.7 5.2 2.3]\n",
            " [6.3 5.  1.9]\n",
            " [6.5 5.2 2. ]\n",
            " [6.2 5.4 2.3]\n",
            " [5.9 5.1 1.8]]\n"
          ],
          "name": "stdout"
        }
      ]
    },
    {
      "cell_type": "markdown",
      "metadata": {
        "id": "9qrduywnvrkc"
      },
      "source": [
        "### **2) SelectKBest for regression**"
      ]
    },
    {
      "cell_type": "code",
      "metadata": {
        "colab": {
          "base_uri": "https://localhost:8080/"
        },
        "id": "XeqbpLnStdCs",
        "outputId": "cfb4b08d-a007-4629-81f5-5ff8229adebe"
      },
      "source": [
        "boston = load_boston()\n",
        "X = boston.data\n",
        "y = boston.target\n",
        "\n",
        "print(\"Feature data dimension: \", X.shape)"
      ],
      "execution_count": 5,
      "outputs": [
        {
          "output_type": "stream",
          "text": [
            "Feature data dimension:  (506, 13)\n"
          ],
          "name": "stdout"
        }
      ]
    },
    {
      "cell_type": "markdown",
      "metadata": {
        "id": "JMg9iCC3wAS5"
      },
      "source": [
        "- For **regression**, we'll set **'f_regression'**  method as a **scoring function.**\n",
        "\n",
        "- The **target number of features** to select is **8**."
      ]
    },
    {
      "cell_type": "code",
      "metadata": {
        "colab": {
          "base_uri": "https://localhost:8080/"
        },
        "id": "cNZmawoGtc8k",
        "outputId": "6a3bf8ed-135f-4193-89b1-cc81ce7b73b4"
      },
      "source": [
        "select1 = SelectKBest(score_func=f_regression, k=8)\n",
        "z1 = select1.fit_transform(X, y) \n",
        " \n",
        "print(\"After selecting best 8 features:\", z1.shape)"
      ],
      "execution_count": 7,
      "outputs": [
        {
          "output_type": "stream",
          "text": [
            "After selecting best 8 features: (506, 8)\n"
          ],
          "name": "stdout"
        }
      ]
    },
    {
      "cell_type": "code",
      "metadata": {
        "colab": {
          "base_uri": "https://localhost:8080/"
        },
        "id": "f_HcN72wwioA",
        "outputId": "83fe5806-79e2-4ff6-e5d5-8c8682aefdbd"
      },
      "source": [
        "filter1 = select1.get_support()\n",
        "features1 = array(boston.feature_names)\n",
        " \n",
        "print(\"All features:\", features1)\n",
        " \n",
        "print(\"\\n\\nSelected best 8:\", features1[filter1])\n",
        "print(\"\\n\\n\", z1)"
      ],
      "execution_count": 11,
      "outputs": [
        {
          "output_type": "stream",
          "text": [
            "All features: ['CRIM' 'ZN' 'INDUS' 'CHAS' 'NOX' 'RM' 'AGE' 'DIS' 'RAD' 'TAX' 'PTRATIO'\n",
            " 'B' 'LSTAT']\n",
            "\n",
            "\n",
            "Selected best 8: ['CRIM' 'INDUS' 'NOX' 'RM' 'RAD' 'TAX' 'PTRATIO' 'LSTAT']\n",
            "\n",
            "\n",
            " [[6.3200e-03 2.3100e+00 5.3800e-01 ... 2.9600e+02 1.5300e+01 4.9800e+00]\n",
            " [2.7310e-02 7.0700e+00 4.6900e-01 ... 2.4200e+02 1.7800e+01 9.1400e+00]\n",
            " [2.7290e-02 7.0700e+00 4.6900e-01 ... 2.4200e+02 1.7800e+01 4.0300e+00]\n",
            " ...\n",
            " [6.0760e-02 1.1930e+01 5.7300e-01 ... 2.7300e+02 2.1000e+01 5.6400e+00]\n",
            " [1.0959e-01 1.1930e+01 5.7300e-01 ... 2.7300e+02 2.1000e+01 6.4800e+00]\n",
            " [4.7410e-02 1.1930e+01 5.7300e-01 ... 2.7300e+02 2.1000e+01 7.8800e+00]]\n"
          ],
          "name": "stdout"
        }
      ]
    }
  ]
}