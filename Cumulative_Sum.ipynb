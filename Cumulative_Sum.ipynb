{
  "nbformat": 4,
  "nbformat_minor": 0,
  "metadata": {
    "colab": {
      "name": "Cumulative Sum.ipynb",
      "provenance": [],
      "authorship_tag": "ABX9TyMyu94U+9BBzvEJEJi7ZmDM",
      "include_colab_link": true
    },
    "kernelspec": {
      "name": "python3",
      "display_name": "Python 3"
    }
  },
  "cells": [
    {
      "cell_type": "markdown",
      "metadata": {
        "id": "view-in-github",
        "colab_type": "text"
      },
      "source": [
        "<a href=\"https://colab.research.google.com/github/sureshmecad/Google-Colab/blob/master/Cumulative_Sum.ipynb\" target=\"_parent\"><img src=\"https://colab.research.google.com/assets/colab-badge.svg\" alt=\"Open In Colab\"/></a>"
      ]
    },
    {
      "cell_type": "markdown",
      "metadata": {
        "id": "7nf2uqWGiRHV"
      },
      "source": [
        "## Cumulative Sum"
      ]
    },
    {
      "cell_type": "code",
      "metadata": {
        "id": "qRHKK46rEEA1",
        "outputId": "06e258ac-72d3-448a-86d8-df528269ea08",
        "colab": {
          "base_uri": "https://localhost:8080/",
          "height": 136
        }
      },
      "source": [
        "# importing pandas module \n",
        "import pandas as pd \n",
        "  \n",
        "# importing numpy module \n",
        "import numpy as np \n",
        "  \n",
        "# making list of values \n",
        "values = [3, 4, np.nan, 7, 2, 0] \n",
        "\n",
        "# making series from list \n",
        "series = pd.Series(values)\n",
        "series"
      ],
      "execution_count": 3,
      "outputs": [
        {
          "output_type": "execute_result",
          "data": {
            "text/plain": [
              "0    3.0\n",
              "1    4.0\n",
              "2    NaN\n",
              "3    7.0\n",
              "4    2.0\n",
              "5    0.0\n",
              "dtype: float64"
            ]
          },
          "metadata": {
            "tags": []
          },
          "execution_count": 3
        }
      ]
    },
    {
      "cell_type": "code",
      "metadata": {
        "id": "2QsJZkswEfW8",
        "outputId": "f54ed868-aea4-4032-c608-765e5a1532a2",
        "colab": {
          "base_uri": "https://localhost:8080/",
          "height": 136
        }
      },
      "source": [
        "# calling method \n",
        "cumsum = series.cumsum() \n",
        "  \n",
        "# display \n",
        "cumsum "
      ],
      "execution_count": 4,
      "outputs": [
        {
          "output_type": "execute_result",
          "data": {
            "text/plain": [
              "0     3.0\n",
              "1     7.0\n",
              "2     NaN\n",
              "3    14.0\n",
              "4    16.0\n",
              "5    16.0\n",
              "dtype: float64"
            ]
          },
          "metadata": {
            "tags": []
          },
          "execution_count": 4
        }
      ]
    },
    {
      "cell_type": "markdown",
      "metadata": {
        "id": "Z7tcWtiWE8cp"
      },
      "source": [
        "Explanation\n",
        "Cumulative sum is sum of current and all previous values. As shown in above output, the addition was done as follows\n",
        "\n",
        "3\n",
        "\n",
        "3+4 = 7\n",
        "\n",
        "7+NaN = NaN\n",
        "\n",
        "7+7 = 14\n",
        "\n",
        "14+2 = 16\n",
        "\n",
        "16+0 = 16"
      ]
    },
    {
      "cell_type": "markdown",
      "metadata": {
        "id": "iLz88rLRF9QQ"
      },
      "source": [
        "--------------------"
      ]
    },
    {
      "cell_type": "markdown",
      "metadata": {
        "id": "KcxvZAeGFbEm"
      },
      "source": [
        "## skipna=False\n",
        "- In this example, a series is created just like in the above example. But the skipna parameter is kept False. Hence NULL values won’t be ignored and it would be added every time after it’s occurrence.\n",
        "- As it can be seen in output, all the values after first occurrence of NaN are also NaN since any number + NaN is also NaN."
      ]
    },
    {
      "cell_type": "code",
      "metadata": {
        "id": "alFlMWgoEfak",
        "outputId": "1831def3-aa44-4a6e-fefa-d5152e2d369e",
        "colab": {
          "base_uri": "https://localhost:8080/",
          "height": 170
        }
      },
      "source": [
        "# making list of values \n",
        "values = [1, 20, 13, np.nan, 0, 1, 5, 23] \n",
        "  \n",
        "# making series from list \n",
        "series = pd.Series(values) \n",
        "series"
      ],
      "execution_count": 5,
      "outputs": [
        {
          "output_type": "execute_result",
          "data": {
            "text/plain": [
              "0     1.0\n",
              "1    20.0\n",
              "2    13.0\n",
              "3     NaN\n",
              "4     0.0\n",
              "5     1.0\n",
              "6     5.0\n",
              "7    23.0\n",
              "dtype: float64"
            ]
          },
          "metadata": {
            "tags": []
          },
          "execution_count": 5
        }
      ]
    },
    {
      "cell_type": "code",
      "metadata": {
        "id": "0JLXUJfXFrDV",
        "outputId": "6f88ee03-319d-46cb-da82-780f11f03756",
        "colab": {
          "base_uri": "https://localhost:8080/",
          "height": 170
        }
      },
      "source": [
        "# calling method \n",
        "cumsum = series.cumsum(skipna = False) \n",
        "  \n",
        "# display \n",
        "cumsum "
      ],
      "execution_count": 6,
      "outputs": [
        {
          "output_type": "execute_result",
          "data": {
            "text/plain": [
              "0     1.0\n",
              "1    21.0\n",
              "2    34.0\n",
              "3     NaN\n",
              "4     NaN\n",
              "5     NaN\n",
              "6     NaN\n",
              "7     NaN\n",
              "dtype: float64"
            ]
          },
          "metadata": {
            "tags": []
          },
          "execution_count": 6
        }
      ]
    },
    {
      "cell_type": "markdown",
      "metadata": {
        "id": "FFPTpetrGD8I"
      },
      "source": [
        "--------------------"
      ]
    },
    {
      "cell_type": "code",
      "metadata": {
        "id": "QaQJtnExGFtw"
      },
      "source": [
        ""
      ],
      "execution_count": null,
      "outputs": []
    }
  ]
}