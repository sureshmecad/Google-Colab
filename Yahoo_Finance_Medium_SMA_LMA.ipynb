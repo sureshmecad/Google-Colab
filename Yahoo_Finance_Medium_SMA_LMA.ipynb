{
  "nbformat": 4,
  "nbformat_minor": 0,
  "metadata": {
    "colab": {
      "name": "Yahoo Finance_Medium_SMA_LMA.ipynb",
      "provenance": [],
      "authorship_tag": "ABX9TyOegRrS4jNcyc4du21PWntY",
      "include_colab_link": true
    },
    "kernelspec": {
      "name": "python3",
      "display_name": "Python 3"
    }
  },
  "cells": [
    {
      "cell_type": "markdown",
      "metadata": {
        "id": "view-in-github",
        "colab_type": "text"
      },
      "source": [
        "<a href=\"https://colab.research.google.com/github/sureshmecad/Google-Colab/blob/master/Yahoo_Finance_Medium_SMA_LMA.ipynb\" target=\"_parent\"><img src=\"https://colab.research.google.com/assets/colab-badge.svg\" alt=\"Open In Colab\"/></a>"
      ]
    },
    {
      "cell_type": "markdown",
      "metadata": {
        "id": "S_mBysKZ4IpS"
      },
      "source": [
        "https://towardsdatascience.com/downloading-historical-stock-prices-in-python-93f85f059c1f"
      ]
    },
    {
      "cell_type": "markdown",
      "metadata": {
        "id": "4ZI82ByS4Zy5"
      },
      "source": [
        "### Downloading historical stock prices in Python\n",
        "- We will be looking at a quick and automated way to download the historical stock prices in Python. This article will cover creating the analytical dataset to aid in analyzing the stock market"
      ]
    },
    {
      "cell_type": "markdown",
      "metadata": {
        "id": "66Qix0775Bxi"
      },
      "source": [
        "### Step 1: Download the required packages\n",
        "- What we need is pandas (the bread and butter for data science in python), yfinance for downloading the historical stock prices from yahoo finance, datetime and time which provides functions to manipulate dates and times, requests for sending HTTP requests and io for handling strings."
      ]
    },
    {
      "cell_type": "code",
      "metadata": {
        "id": "tgU2iWPB4Ljo"
      },
      "source": [
        "import pandas as pd\n",
        "import yfinance as yf\n",
        "import datetime\n",
        "import time\n",
        "import requests\n",
        "import io"
      ],
      "execution_count": null,
      "outputs": []
    },
    {
      "cell_type": "markdown",
      "metadata": {
        "id": "LLfPoakS5iG0"
      },
      "source": [
        "### Step 2: Set the date range\n",
        "- Next, we want to provide the start and end dates, during which period we want the daily stock prices. Below, I have provided the start date as 1st February 2020 (approximate beginning of this year’s misery) and end date as 11th October 2020, the current date when I executed this code. You could set the start and end date to anything you like- but what I am trying to analyze is the price fluctuation from pre-pandemic times till now."
      ]
    },
    {
      "cell_type": "code",
      "metadata": {
        "id": "vxlkK5qf4LgI"
      },
      "source": [
        "start = datetime.datetime(2020,2,1)\n",
        "end = datetime.datetime(2020,10,11)"
      ],
      "execution_count": null,
      "outputs": []
    },
    {
      "cell_type": "markdown",
      "metadata": {
        "id": "LToTK3rE5xnU"
      },
      "source": [
        "### Step 3: Get the Stock Ticker Symbols\n",
        "- We want to get the stock ticker symbols listed on NASDAQ. You can skip this step if you know exactly the companies you want the historical stock prices for (example: Tesla -> TSLA, Facebook -> FB etc). But the idea here is to look beyond the popular companies and unearth some interesting price movements for the not-so-well-known companies.\n",
        "The code below would access the URL containing a CSV file with the company names and their stock symbol, and convert it to a pandas dataframe."
      ]
    },
    {
      "cell_type": "code",
      "metadata": {
        "id": "jPeaLhPN4LcR"
      },
      "source": [
        "url=\"https://pkgstore.datahub.io/core/nasdaq-listings/nasdaq-listed_csv/data/7665719fb51081ba0bd834fde71ce822/nasdaq-listed_csv.csv\"\n",
        "s = requests.get(url).content\n",
        "companies = pd.read_csv(io.StringIO(s.decode('utf-8')))"
      ],
      "execution_count": null,
      "outputs": []
    },
    {
      "cell_type": "markdown",
      "metadata": {
        "id": "QmsmeuTf5-2F"
      },
      "source": [
        "- Some of the companies provided in this dataset may be delisted or may not be available to download.\n",
        "\n",
        "- Let’s take a look at how this dataset looks like:\n",
        "\n",
        "- From this dataset, let’s extract only the Symbols and convert them into a list."
      ]
    },
    {
      "cell_type": "code",
      "metadata": {
        "id": "fPJTXVix4LYZ"
      },
      "source": [
        "Symbols = companies['Symbol'].tolist()"
      ],
      "execution_count": null,
      "outputs": []
    },
    {
      "cell_type": "markdown",
      "metadata": {
        "id": "cTTevgsH6MrG"
      },
      "source": [
        "### Step 4: Download the historical stock prices\n",
        "- Iterate over each stock symbol and using yahoo finance API, download the daily stock prices between the start and end dates.\n",
        "\n",
        "- Append all the individual stock info and create the analytical dataset. Also, note that some symbols may be unavailable to download, for which we have added the ‘try’ and ‘except’ clauses to handle them."
      ]
    },
    {
      "cell_type": "code",
      "metadata": {
        "id": "Aaq_QPGu4LUv"
      },
      "source": [
        "# create empty dataframe\n",
        "stock_final = pd.DataFrame()\n",
        "# iterate over each symbol\n",
        "for i in Symbols:  \n",
        "    \n",
        "    # print the symbol which is being downloaded\n",
        "    print( str(Symbols.index(i)) + str(' : ') + i, sep=',', end=',', flush=True)  \n",
        "    \n",
        "    try:\n",
        "        # download the stock price \n",
        "        stock = []\n",
        "        stock = yf.download(i,start=start, end=end, progress=False)\n",
        "        \n",
        "        # append the individual stock prices \n",
        "        if len(stock) == 0:\n",
        "            None\n",
        "        else:\n",
        "            stock['Name']=i\n",
        "            stock_final = stock_final.append(stock,sort=False)\n",
        "    except Exception:\n",
        "        None"
      ],
      "execution_count": null,
      "outputs": []
    },
    {
      "cell_type": "code",
      "metadata": {
        "id": "R4RBfCMy4LHQ"
      },
      "source": [
        "# This is how the final dataset looks like.\n",
        "stock_final.head()"
      ],
      "execution_count": null,
      "outputs": []
    },
    {
      "cell_type": "markdown",
      "metadata": {
        "id": "42KeLcWK5FVK"
      },
      "source": [
        "-------------------------------------------------------------"
      ]
    },
    {
      "cell_type": "markdown",
      "metadata": {
        "id": "MZNh5CT4PQrE"
      },
      "source": [
        "https://towardsdatascience.com/data-science-in-finance-56a4d99279f7"
      ]
    },
    {
      "cell_type": "markdown",
      "metadata": {
        "id": "ZTlrt_7zQMvw"
      },
      "source": [
        "- The moving average strategy suggests **buying** a stock when **shorter SMA crosses over longer SMA** and **selling** it when **shorter SMA crosses down the longer one**. The picture below shows the **buy signal** (SMA_20, the **red line crosses over the blue line**, SMA_50) and the exit point as vice versa."
      ]
    },
    {
      "cell_type": "markdown",
      "metadata": {
        "id": "Up6bNgP-Rt52"
      },
      "source": [
        "- image 1"
      ]
    },
    {
      "cell_type": "markdown",
      "metadata": {
        "id": "V4AhgIczRd32"
      },
      "source": [
        "### 1- Data extraction and preparation"
      ]
    },
    {
      "cell_type": "markdown",
      "metadata": {
        "id": "z24beuSMR0c2"
      },
      "source": [
        "- Historical stock price data can be found from various sources but the simplest one is **Yahoo Finance**. To do this, we need to **import yfinance library** and other related libraries which will be used on data manipulation using pandas."
      ]
    },
    {
      "cell_type": "code",
      "metadata": {
        "id": "QFFWZ0nhSvTx"
      },
      "source": [
        "import numpy as np\n",
        "import pandas as pd\n",
        "import yfinance as yf\n",
        "import datetime as dt\n",
        "import matplotlib.pyplot as plt\n",
        "import mplfinance as mpf"
      ],
      "execution_count": null,
      "outputs": []
    },
    {
      "cell_type": "markdown",
      "metadata": {
        "id": "VcuH3-XYSboQ"
      },
      "source": [
        "- First of all, we need to define the time range that we will examine the strategy. To use **yfinace library**, the **date should be in the format of YYYY-MM-DD**. Define the start date as your own favorite time. You can do the same for the end date but I prefer the **end date as today**. We can define it as below:"
      ]
    },
    {
      "cell_type": "code",
      "metadata": {
        "id": "jARB4xbCSsZx"
      },
      "source": [
        "start = '2016-01-01'                # format: YYYY-MM-DD\n",
        "end = dt.datetime.now()             # today"
      ],
      "execution_count": null,
      "outputs": []
    },
    {
      "cell_type": "markdown",
      "metadata": {
        "id": "tYqjk6YeS9I3"
      },
      "source": [
        "- In the next step, store your favorite stock symbol ticker string in a stock variable. We are going to use it in yahoo finance library to download as a data frame:"
      ]
    },
    {
      "cell_type": "code",
      "metadata": {
        "id": "z1deBsgwSseA"
      },
      "source": [
        "stock='AMD'\n",
        "df = yf.download(stock,start, end, interval='1d')\n",
        "df.head()"
      ],
      "execution_count": null,
      "outputs": []
    },
    {
      "cell_type": "markdown",
      "metadata": {
        "id": "KOpeaJzHTpIR"
      },
      "source": [
        "### 2- Moving Average Calculation"
      ]
    },
    {
      "cell_type": "markdown",
      "metadata": {
        "id": "VwHNoIR3TuSq"
      },
      "source": [
        "- Let’s define the short and long simple moving average, SMA variable, and store them in the list named SMAs here."
      ]
    },
    {
      "cell_type": "code",
      "metadata": {
        "id": "em_bTNBaSsh4"
      },
      "source": [
        "short_sma= 20\n",
        "long_sma = 50\n",
        "SMAs=[short_sma, long_sma]"
      ],
      "execution_count": null,
      "outputs": []
    },
    {
      "cell_type": "markdown",
      "metadata": {
        "id": "lB_coqv0UWrD"
      },
      "source": [
        "- We can calculate **moving average** one by one for **each SMA using rolling and mean function** but to make it more flexible for more than two SMAs, we may use **for loop** such as:"
      ]
    },
    {
      "cell_type": "code",
      "metadata": {
        "id": "HIIHpS2SSsl6"
      },
      "source": [
        "for i in SMAs:\n",
        "    df[\"SMA_\"+str(i)]= df.iloc[:,4].rolling(window=i).mean()"
      ],
      "execution_count": null,
      "outputs": []
    },
    {
      "cell_type": "markdown",
      "metadata": {
        "id": "JSUDxxqHVGL0"
      },
      "source": [
        "### 3- SMAs Relative Position Recognition"
      ]
    },
    {
      "cell_type": "markdown",
      "metadata": {
        "id": "ScdCtlGBWg4o"
      },
      "source": [
        "- if **shorter SMA is higher than longer SMA**, we are in the **up-trend** area and appropriate to have a position and sell it in the opposite condition."
      ]
    },
    {
      "cell_type": "code",
      "metadata": {
        "id": "dkEN_OJxSsqA"
      },
      "source": [
        "position=0 # 1 means we have already entered poistion, 0 means not already entered\n",
        "counter=0\n",
        "percentChange=[]   # empty list to collect %changes \n",
        "for i in df.index:\n",
        "    SMA_short=df['SMA_20']\n",
        "    SMA_long =df['SMA_50']\n",
        "    close=df['Adj Close'][i]\n",
        "    \n",
        "    if(SMA_short[i] > SMA_long[i]):                          #line 9\n",
        "        print('Up trend')\n",
        "        if(position==0):\n",
        "            buyP=close   #buy price\n",
        "            position=1   # turn position\n",
        "            print(\"Buy at the price\"+str(buyP))\n",
        "        \n",
        "    elif(SMA_short[i] < SMA_long[i]):\n",
        "        print('Down trend')\n",
        "        if(position==1):   # have a poistion in down trend\n",
        "            position=0     # selling position\n",
        "            sellP=close    # sell price\n",
        "            print(\"Sell at the price\"+str(sellP))\n",
        "            perc=(sellP/buyP-1)*100\n",
        "            percentChange.append(perc)                      #line 23\n",
        "    if(counter==df[\"Adj Close\"].count()-1 and position==1):\n",
        "        position=0\n",
        "        sellP=close\n",
        "        print(\"Sell at the price\"+str(sellP))\n",
        "        perc=(sellP/buyP-1)*100\n",
        "        percentChange.append(perc)\n",
        "counter+=1\n",
        "print(percentChange)"
      ],
      "execution_count": null,
      "outputs": []
    },
    {
      "cell_type": "markdown",
      "metadata": {
        "id": "EH0lUzCBXd9w"
      },
      "source": [
        "- This is a for loop block of code that will iterate over data set we previously read into df variable. After defining close price, short and long SMAs from the data frame, it will go into two different branches using if statement based on short and long SMA values (line 9). If **short SMA is above long SMA, it prints out the trend direction (‘Up trend’)** and if there is not existing position in the portfolio, it will buy a position (signal) based on the close price of that day. If short SMA reads smaller values than long SMA, it is in Down trend. If we have already a position, we should sell at the adjusted close price. Using append function in pandas (line 23), we will store the results to a percentChange variable list as defined in the previous line. The last part of block code, starting line24, is to examine whether there is an open position we are counting down to end of the data frame."
      ]
    },
    {
      "cell_type": "markdown",
      "metadata": {
        "id": "LiET-kc6XtzY"
      },
      "source": [
        "### 4- Statistics"
      ]
    },
    {
      "cell_type": "markdown",
      "metadata": {
        "id": "kWb4FUV9YCzR"
      },
      "source": [
        "- After defining some variables such as gains and losses with the quantity of them, we may use for loop again over individual values in perecntChange to find out statistical information. Positive values in the list refer to the gain and will be added up in gains variable. The negative values are losses and will be stored in losses variable. We can print out the total return as percent and round the value up to 2 decimal places."
      ]
    },
    {
      "cell_type": "code",
      "metadata": {
        "id": "_lRuvAaESst4"
      },
      "source": [
        "gains=0\n",
        "numGains=0\n",
        "losses=0\n",
        "numLosses=0\n",
        "totReturn=1\n",
        "for i in percentChange:\n",
        "    if(i>0):\n",
        "        gains+=i\n",
        "        numGains+=1\n",
        "    else:\n",
        "        losses+=i\n",
        "        numLosses+=1\n",
        "    totReturn = totReturn*((i/100)+1)\n",
        "totReturn=round((totReturn-1)*100,2)\n",
        "print(\"This statistics is from \"+str(df.index[0])+\" up to now with \"+str(numGains+numLosses)+\" trades:\")\n",
        "print(\"SMAs used: \"+str(SMAs))\n",
        "print(\"Total return over \"+str(numGains+numLosses)+ \" trades: \"+ str(totReturn)+\"%\" )"
      ],
      "execution_count": null,
      "outputs": []
    },
    {
      "cell_type": "markdown",
      "metadata": {
        "id": "7aQ2RFnwYQcp"
      },
      "source": [
        "- To calculate average gain and loss, we may simply use if statement to see if the number of gains is bigger than zero or not. If so, the average gain can be calculated by gains divided by a number of gains. If the number of losses is a positive value, it will calculate average losses as well. Maximum gain and loss can also be an attractive point of the trades strategy."
      ]
    },
    {
      "cell_type": "code",
      "metadata": {
        "id": "Hc1-ScGWSsyA"
      },
      "source": [
        "if (numGains>0):\n",
        "    avgGain=gains/numGains\n",
        "    maxReturn= str(max(percentChange))\n",
        "else:\n",
        "    avgGain=0\n",
        "    maxReturn='unknown'\n",
        "if(numLosses>0):\n",
        "    avgLoss=losses/numLosses\n",
        "    maxLoss=str(min(percentChange))\n",
        "    ratioRR=str(-avgGain/avgLoss)  # risk-reward ratio\n",
        "else:\n",
        "    avgLoss=0\n",
        "    maxLoss='unknown'\n",
        "    ratioRR='inf'\n",
        "print(\"Average Gain: \"+ str(avgGain))\n",
        "print(\"Average Loss: \"+ str(avgLoss))\n",
        "print(\"Max Return: \"+ maxReturn)\n",
        "print(\"Max Loss: \"+ maxLoss)\n",
        "print(\"Gain/loss ratio: \"+ ratioRR)"
      ],
      "execution_count": null,
      "outputs": []
    },
    {
      "cell_type": "markdown",
      "metadata": {
        "id": "h3Z2jzncYbg6"
      },
      "source": [
        "- For this example, the average gain for a single stock share is 62 dollars, the average loss is almost 8 dollars. The maximum return is 153 and the maximum loss is 16 dollars.\n",
        "\n",
        "- Batting average is calculated by dividing the number of gains over the total number of trades. This can be a sign of accuracy to enter for a position ranges between 0 and 1. 1 is the most accurate bat."
      ]
    },
    {
      "cell_type": "code",
      "metadata": {
        "id": "k51KqtX7Ss2A"
      },
      "source": [
        "if(numGains>0 or numLosses>0):\n",
        "    batAvg=numGains/(numGains+numLosses)\n",
        "else:\n",
        "    batAvg=0\n",
        "print(\"Batting Avg: \"+ str(batAvg))"
      ],
      "execution_count": null,
      "outputs": []
    },
    {
      "cell_type": "markdown",
      "metadata": {
        "id": "cFNgU_MjYkXh"
      },
      "source": [
        "### 5- Plotting"
      ]
    },
    {
      "cell_type": "markdown",
      "metadata": {
        "id": "XO9uyELhYo0C"
      },
      "source": [
        "- Although you can use seaborn or matplotlib libraries to plot the stock price, the mplfinance library is perfectly designed specifically for the stock price plot. Its function accept various attributes such as figure size, price plotting type (line, candlestick, …) and moving average."
      ]
    },
    {
      "cell_type": "code",
      "metadata": {
        "id": "XCPmN7pnYhJc"
      },
      "source": [
        "mpf.plot(df, type = 'ohlc',figratio=(16,6), \n",
        "         mav=(short_sma,long_sma), \n",
        "         volume=True, title= str(stock), \n",
        "         style='default')"
      ],
      "execution_count": null,
      "outputs": []
    },
    {
      "cell_type": "markdown",
      "metadata": {
        "id": "t-6sGLLJY39D"
      },
      "source": [
        "------------------------------------------------"
      ]
    },
    {
      "cell_type": "code",
      "metadata": {
        "id": "PmCyUVEvYhND"
      },
      "source": [
        "import numpy as np\n",
        "import pandas as pd\n",
        "\n",
        "# Matplotlib and Seaborn\n",
        "import matplotlib.pyplot as plt\n",
        "%matplotlib inline\n",
        "import seaborn as sns\n",
        "\n",
        "# style\n",
        "plt.style.use(\"fivethirtyeight\")"
      ],
      "execution_count": null,
      "outputs": []
    },
    {
      "cell_type": "code",
      "metadata": {
        "id": "cikVO1nHYhRK",
        "outputId": "ce438649-a4da-4e6b-c647-a60123fb7d5a",
        "colab": {
          "resources": {
            "http://localhost:8080/nbextensions/google.colab/files.js": {
              "data": "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",
              "ok": true,
              "headers": [
                [
                  "content-type",
                  "application/javascript"
                ]
              ],
              "status": 200,
              "status_text": ""
            }
          },
          "base_uri": "https://localhost:8080/",
          "height": 72
        }
      },
      "source": [
        "from google.colab import files\n",
        "uploaded = files.upload()"
      ],
      "execution_count": null,
      "outputs": [
        {
          "output_type": "display_data",
          "data": {
            "text/html": [
              "\n",
              "     <input type=\"file\" id=\"files-ed2d4722-8545-488a-ae95-cd3a277c3db5\" name=\"files[]\" multiple disabled\n",
              "        style=\"border:none\" />\n",
              "     <output id=\"result-ed2d4722-8545-488a-ae95-cd3a277c3db5\">\n",
              "      Upload widget is only available when the cell has been executed in the\n",
              "      current browser session. Please rerun this cell to enable.\n",
              "      </output>\n",
              "      <script src=\"/nbextensions/google.colab/files.js\"></script> "
            ],
            "text/plain": [
              "<IPython.core.display.HTML object>"
            ]
          },
          "metadata": {
            "tags": []
          }
        },
        {
          "output_type": "stream",
          "text": [
            "Saving streaming_stocks_data.csv to streaming_stocks_data.csv\n"
          ],
          "name": "stdout"
        }
      ]
    },
    {
      "cell_type": "code",
      "metadata": {
        "id": "9JA1YVFTaijB",
        "outputId": "36f625d0-93a1-439b-8b2d-382f65bd4965",
        "colab": {
          "base_uri": "https://localhost:8080/",
          "height": 204
        }
      },
      "source": [
        "# Loading Stocks data\n",
        "df = pd.read_csv(\"streaming_stocks_data.csv\")\n",
        "df.columns = ['timestamp','last_price','volume','scrip_id']\n",
        "df.head()"
      ],
      "execution_count": null,
      "outputs": [
        {
          "output_type": "execute_result",
          "data": {
            "text/html": [
              "<div>\n",
              "<style scoped>\n",
              "    .dataframe tbody tr th:only-of-type {\n",
              "        vertical-align: middle;\n",
              "    }\n",
              "\n",
              "    .dataframe tbody tr th {\n",
              "        vertical-align: top;\n",
              "    }\n",
              "\n",
              "    .dataframe thead th {\n",
              "        text-align: right;\n",
              "    }\n",
              "</style>\n",
              "<table border=\"1\" class=\"dataframe\">\n",
              "  <thead>\n",
              "    <tr style=\"text-align: right;\">\n",
              "      <th></th>\n",
              "      <th>timestamp</th>\n",
              "      <th>last_price</th>\n",
              "      <th>volume</th>\n",
              "      <th>scrip_id</th>\n",
              "    </tr>\n",
              "  </thead>\n",
              "  <tbody>\n",
              "    <tr>\n",
              "      <th>0</th>\n",
              "      <td>2020-08-03 09:16:00+05:30</td>\n",
              "      <td>100.65</td>\n",
              "      <td>74643</td>\n",
              "      <td>14</td>\n",
              "    </tr>\n",
              "    <tr>\n",
              "      <th>1</th>\n",
              "      <td>2020-08-03 09:17:00+05:30</td>\n",
              "      <td>100.60</td>\n",
              "      <td>58859</td>\n",
              "      <td>14</td>\n",
              "    </tr>\n",
              "    <tr>\n",
              "      <th>2</th>\n",
              "      <td>2020-08-03 09:18:00+05:30</td>\n",
              "      <td>100.65</td>\n",
              "      <td>30118</td>\n",
              "      <td>14</td>\n",
              "    </tr>\n",
              "    <tr>\n",
              "      <th>3</th>\n",
              "      <td>2020-08-03 09:19:00+05:30</td>\n",
              "      <td>100.60</td>\n",
              "      <td>49734</td>\n",
              "      <td>14</td>\n",
              "    </tr>\n",
              "    <tr>\n",
              "      <th>4</th>\n",
              "      <td>2020-08-03 09:20:00+05:30</td>\n",
              "      <td>100.30</td>\n",
              "      <td>33832</td>\n",
              "      <td>14</td>\n",
              "    </tr>\n",
              "  </tbody>\n",
              "</table>\n",
              "</div>"
            ],
            "text/plain": [
              "                   timestamp  last_price  volume  scrip_id\n",
              "0  2020-08-03 09:16:00+05:30      100.65   74643        14\n",
              "1  2020-08-03 09:17:00+05:30      100.60   58859        14\n",
              "2  2020-08-03 09:18:00+05:30      100.65   30118        14\n",
              "3  2020-08-03 09:19:00+05:30      100.60   49734        14\n",
              "4  2020-08-03 09:20:00+05:30      100.30   33832        14"
            ]
          },
          "metadata": {
            "tags": []
          },
          "execution_count": 5
        }
      ]
    },
    {
      "cell_type": "code",
      "metadata": {
        "id": "xwOIAH6qaim_",
        "outputId": "441929fa-ffbd-4a39-a01c-0205e3965711",
        "colab": {
          "base_uri": "https://localhost:8080/",
          "height": 204
        }
      },
      "source": [
        "df = df.set_index(pd.DatetimeIndex(df['timestamp'].values))\n",
        "df.head()"
      ],
      "execution_count": null,
      "outputs": [
        {
          "output_type": "execute_result",
          "data": {
            "text/html": [
              "<div>\n",
              "<style scoped>\n",
              "    .dataframe tbody tr th:only-of-type {\n",
              "        vertical-align: middle;\n",
              "    }\n",
              "\n",
              "    .dataframe tbody tr th {\n",
              "        vertical-align: top;\n",
              "    }\n",
              "\n",
              "    .dataframe thead th {\n",
              "        text-align: right;\n",
              "    }\n",
              "</style>\n",
              "<table border=\"1\" class=\"dataframe\">\n",
              "  <thead>\n",
              "    <tr style=\"text-align: right;\">\n",
              "      <th></th>\n",
              "      <th>timestamp</th>\n",
              "      <th>last_price</th>\n",
              "      <th>volume</th>\n",
              "      <th>scrip_id</th>\n",
              "    </tr>\n",
              "  </thead>\n",
              "  <tbody>\n",
              "    <tr>\n",
              "      <th>2020-08-03 09:16:00+05:30</th>\n",
              "      <td>2020-08-03 09:16:00+05:30</td>\n",
              "      <td>100.65</td>\n",
              "      <td>74643</td>\n",
              "      <td>14</td>\n",
              "    </tr>\n",
              "    <tr>\n",
              "      <th>2020-08-03 09:17:00+05:30</th>\n",
              "      <td>2020-08-03 09:17:00+05:30</td>\n",
              "      <td>100.60</td>\n",
              "      <td>58859</td>\n",
              "      <td>14</td>\n",
              "    </tr>\n",
              "    <tr>\n",
              "      <th>2020-08-03 09:18:00+05:30</th>\n",
              "      <td>2020-08-03 09:18:00+05:30</td>\n",
              "      <td>100.65</td>\n",
              "      <td>30118</td>\n",
              "      <td>14</td>\n",
              "    </tr>\n",
              "    <tr>\n",
              "      <th>2020-08-03 09:19:00+05:30</th>\n",
              "      <td>2020-08-03 09:19:00+05:30</td>\n",
              "      <td>100.60</td>\n",
              "      <td>49734</td>\n",
              "      <td>14</td>\n",
              "    </tr>\n",
              "    <tr>\n",
              "      <th>2020-08-03 09:20:00+05:30</th>\n",
              "      <td>2020-08-03 09:20:00+05:30</td>\n",
              "      <td>100.30</td>\n",
              "      <td>33832</td>\n",
              "      <td>14</td>\n",
              "    </tr>\n",
              "  </tbody>\n",
              "</table>\n",
              "</div>"
            ],
            "text/plain": [
              "                                           timestamp  ...  scrip_id\n",
              "2020-08-03 09:16:00+05:30  2020-08-03 09:16:00+05:30  ...        14\n",
              "2020-08-03 09:17:00+05:30  2020-08-03 09:17:00+05:30  ...        14\n",
              "2020-08-03 09:18:00+05:30  2020-08-03 09:18:00+05:30  ...        14\n",
              "2020-08-03 09:19:00+05:30  2020-08-03 09:19:00+05:30  ...        14\n",
              "2020-08-03 09:20:00+05:30  2020-08-03 09:20:00+05:30  ...        14\n",
              "\n",
              "[5 rows x 4 columns]"
            ]
          },
          "metadata": {
            "tags": []
          },
          "execution_count": 6
        }
      ]
    },
    {
      "cell_type": "code",
      "metadata": {
        "id": "oEO-jcv5aiqn",
        "outputId": "edbba00a-531d-483e-c0ff-4e4aa694b189",
        "colab": {
          "base_uri": "https://localhost:8080/",
          "height": 204
        }
      },
      "source": [
        "df1 = df[0:374]\n",
        "df1.head()"
      ],
      "execution_count": null,
      "outputs": [
        {
          "output_type": "execute_result",
          "data": {
            "text/html": [
              "<div>\n",
              "<style scoped>\n",
              "    .dataframe tbody tr th:only-of-type {\n",
              "        vertical-align: middle;\n",
              "    }\n",
              "\n",
              "    .dataframe tbody tr th {\n",
              "        vertical-align: top;\n",
              "    }\n",
              "\n",
              "    .dataframe thead th {\n",
              "        text-align: right;\n",
              "    }\n",
              "</style>\n",
              "<table border=\"1\" class=\"dataframe\">\n",
              "  <thead>\n",
              "    <tr style=\"text-align: right;\">\n",
              "      <th></th>\n",
              "      <th>timestamp</th>\n",
              "      <th>last_price</th>\n",
              "      <th>volume</th>\n",
              "      <th>scrip_id</th>\n",
              "    </tr>\n",
              "  </thead>\n",
              "  <tbody>\n",
              "    <tr>\n",
              "      <th>2020-08-03 09:16:00+05:30</th>\n",
              "      <td>2020-08-03 09:16:00+05:30</td>\n",
              "      <td>100.65</td>\n",
              "      <td>74643</td>\n",
              "      <td>14</td>\n",
              "    </tr>\n",
              "    <tr>\n",
              "      <th>2020-08-03 09:17:00+05:30</th>\n",
              "      <td>2020-08-03 09:17:00+05:30</td>\n",
              "      <td>100.60</td>\n",
              "      <td>58859</td>\n",
              "      <td>14</td>\n",
              "    </tr>\n",
              "    <tr>\n",
              "      <th>2020-08-03 09:18:00+05:30</th>\n",
              "      <td>2020-08-03 09:18:00+05:30</td>\n",
              "      <td>100.65</td>\n",
              "      <td>30118</td>\n",
              "      <td>14</td>\n",
              "    </tr>\n",
              "    <tr>\n",
              "      <th>2020-08-03 09:19:00+05:30</th>\n",
              "      <td>2020-08-03 09:19:00+05:30</td>\n",
              "      <td>100.60</td>\n",
              "      <td>49734</td>\n",
              "      <td>14</td>\n",
              "    </tr>\n",
              "    <tr>\n",
              "      <th>2020-08-03 09:20:00+05:30</th>\n",
              "      <td>2020-08-03 09:20:00+05:30</td>\n",
              "      <td>100.30</td>\n",
              "      <td>33832</td>\n",
              "      <td>14</td>\n",
              "    </tr>\n",
              "  </tbody>\n",
              "</table>\n",
              "</div>"
            ],
            "text/plain": [
              "                                           timestamp  ...  scrip_id\n",
              "2020-08-03 09:16:00+05:30  2020-08-03 09:16:00+05:30  ...        14\n",
              "2020-08-03 09:17:00+05:30  2020-08-03 09:17:00+05:30  ...        14\n",
              "2020-08-03 09:18:00+05:30  2020-08-03 09:18:00+05:30  ...        14\n",
              "2020-08-03 09:19:00+05:30  2020-08-03 09:19:00+05:30  ...        14\n",
              "2020-08-03 09:20:00+05:30  2020-08-03 09:20:00+05:30  ...        14\n",
              "\n",
              "[5 rows x 4 columns]"
            ]
          },
          "metadata": {
            "tags": []
          },
          "execution_count": 7
        }
      ]
    },
    {
      "cell_type": "code",
      "metadata": {
        "id": "sfGoLuOhaiuG"
      },
      "source": [
        "short_sma= 20\n",
        "long_sma = 50\n",
        "SMAs=[short_sma, long_sma]"
      ],
      "execution_count": null,
      "outputs": []
    },
    {
      "cell_type": "code",
      "metadata": {
        "id": "23txAbszaiyG",
        "outputId": "9b8afcd6-3951-41b3-d7d9-51b30dd28707",
        "colab": {
          "base_uri": "https://localhost:8080/",
          "height": 119
        }
      },
      "source": [
        "for i in SMAs:\n",
        "    df1[\"SMA_\"+str(i)]= df1['last_price'].rolling(window=i).mean()"
      ],
      "execution_count": null,
      "outputs": [
        {
          "output_type": "stream",
          "text": [
            "/usr/local/lib/python3.6/dist-packages/ipykernel_launcher.py:2: SettingWithCopyWarning: \n",
            "A value is trying to be set on a copy of a slice from a DataFrame.\n",
            "Try using .loc[row_indexer,col_indexer] = value instead\n",
            "\n",
            "See the caveats in the documentation: https://pandas.pydata.org/pandas-docs/stable/user_guide/indexing.html#returning-a-view-versus-a-copy\n",
            "  \n"
          ],
          "name": "stderr"
        }
      ]
    },
    {
      "cell_type": "code",
      "metadata": {
        "id": "jW0eeSJhbK8C",
        "outputId": "ee736644-7574-4b0e-b438-a8761ac6c22a",
        "colab": {
          "base_uri": "https://localhost:8080/",
          "height": 1000
        }
      },
      "source": [
        "position=0 # 1 means we have already entered poistion, 0 means not already entered\n",
        "counter=0\n",
        "percentChange=[]   # empty list to collect %changes \n",
        "for i in df1.index:\n",
        "    SMA_short = df1['SMA_20']\n",
        "    SMA_long = df1['SMA_50']\n",
        "    close = df1['last_price'][i]\n",
        "    \n",
        "    if(SMA_short[i] > SMA_long[i]):                               # line 9\n",
        "        print('Up trend')\n",
        "        if(position==0):\n",
        "            buyP=close   # buy price\n",
        "            position=1   # turn position\n",
        "            print(\"Buy at the price\"+str(buyP))\n",
        "        \n",
        "    elif(SMA_short[i] < SMA_long[i]):\n",
        "        print('Down trend')\n",
        "        if(position==1):   # have a poistion in down trend\n",
        "            position=0     # selling position\n",
        "            sellP=close    # sell price\n",
        "            print(\"Sell at the price\"+str(sellP))\n",
        "            perc=(sellP/buyP-1)*100\n",
        "            percentChange.append(perc)                           # line 23\n",
        "    if(counter==df1[\"last_price\"].count()-1 and position==1):\n",
        "        position=0\n",
        "        sellP=close\n",
        "        print(\"Sell at the price\"+str(sellP))\n",
        "        perc=(sellP/buyP-1)*100\n",
        "        percentChange.append(perc)\n",
        "counter+=1\n",
        "print(percentChange)"
      ],
      "execution_count": null,
      "outputs": [
        {
          "output_type": "stream",
          "text": [
            "Down trend\n",
            "Down trend\n",
            "Down trend\n",
            "Down trend\n",
            "Down trend\n",
            "Down trend\n",
            "Down trend\n",
            "Down trend\n",
            "Down trend\n",
            "Down trend\n",
            "Down trend\n",
            "Down trend\n",
            "Down trend\n",
            "Down trend\n",
            "Down trend\n",
            "Down trend\n",
            "Down trend\n",
            "Down trend\n",
            "Down trend\n",
            "Down trend\n",
            "Down trend\n",
            "Down trend\n",
            "Down trend\n",
            "Down trend\n",
            "Up trend\n",
            "Buy at the price101.35\n",
            "Up trend\n",
            "Up trend\n",
            "Up trend\n",
            "Up trend\n",
            "Up trend\n",
            "Up trend\n",
            "Up trend\n",
            "Up trend\n",
            "Up trend\n",
            "Up trend\n",
            "Up trend\n",
            "Up trend\n",
            "Up trend\n",
            "Up trend\n",
            "Up trend\n",
            "Up trend\n",
            "Up trend\n",
            "Up trend\n",
            "Up trend\n",
            "Up trend\n",
            "Up trend\n",
            "Up trend\n",
            "Up trend\n",
            "Up trend\n",
            "Up trend\n",
            "Up trend\n",
            "Up trend\n",
            "Up trend\n",
            "Up trend\n",
            "Up trend\n",
            "Up trend\n",
            "Up trend\n",
            "Up trend\n",
            "Up trend\n",
            "Up trend\n",
            "Up trend\n",
            "Up trend\n",
            "Up trend\n",
            "Up trend\n",
            "Up trend\n",
            "Up trend\n",
            "Up trend\n",
            "Up trend\n",
            "Up trend\n",
            "Up trend\n",
            "Up trend\n",
            "Up trend\n",
            "Up trend\n",
            "Up trend\n",
            "Up trend\n",
            "Up trend\n",
            "Up trend\n",
            "Up trend\n",
            "Up trend\n",
            "Up trend\n",
            "Up trend\n",
            "Up trend\n",
            "Up trend\n",
            "Up trend\n",
            "Up trend\n",
            "Up trend\n",
            "Up trend\n",
            "Down trend\n",
            "Sell at the price101.8\n",
            "Down trend\n",
            "Down trend\n",
            "Down trend\n",
            "Down trend\n",
            "Down trend\n",
            "Down trend\n",
            "Down trend\n",
            "Down trend\n",
            "Down trend\n",
            "Down trend\n",
            "Down trend\n",
            "Down trend\n",
            "Down trend\n",
            "Down trend\n",
            "Down trend\n",
            "Down trend\n",
            "Down trend\n",
            "Down trend\n",
            "Down trend\n",
            "Down trend\n",
            "Down trend\n",
            "Down trend\n",
            "Down trend\n",
            "Down trend\n",
            "Down trend\n",
            "Down trend\n",
            "Down trend\n",
            "Down trend\n",
            "Down trend\n",
            "Down trend\n",
            "Down trend\n",
            "Down trend\n",
            "Down trend\n",
            "Down trend\n",
            "Down trend\n",
            "Down trend\n",
            "Down trend\n",
            "Down trend\n",
            "Down trend\n",
            "Down trend\n",
            "Down trend\n",
            "Down trend\n",
            "Down trend\n",
            "Down trend\n",
            "Down trend\n",
            "Down trend\n",
            "Down trend\n",
            "Down trend\n",
            "Down trend\n",
            "Down trend\n",
            "Down trend\n",
            "Down trend\n",
            "Down trend\n",
            "Down trend\n",
            "Down trend\n",
            "Down trend\n",
            "Down trend\n",
            "Down trend\n",
            "Down trend\n",
            "Down trend\n",
            "Down trend\n",
            "Down trend\n",
            "Down trend\n",
            "Down trend\n",
            "Down trend\n",
            "Down trend\n",
            "Down trend\n",
            "Down trend\n",
            "Down trend\n",
            "Down trend\n",
            "Down trend\n",
            "Down trend\n",
            "Down trend\n",
            "Down trend\n",
            "Down trend\n",
            "Down trend\n",
            "Down trend\n",
            "Down trend\n",
            "Down trend\n",
            "Down trend\n",
            "Down trend\n",
            "Down trend\n",
            "Down trend\n",
            "Down trend\n",
            "Down trend\n",
            "Down trend\n",
            "Down trend\n",
            "Down trend\n",
            "Down trend\n",
            "Down trend\n",
            "Down trend\n",
            "Down trend\n",
            "Down trend\n",
            "Down trend\n",
            "Down trend\n",
            "Down trend\n",
            "Down trend\n",
            "Down trend\n",
            "Down trend\n",
            "Down trend\n",
            "Down trend\n",
            "Down trend\n",
            "Down trend\n",
            "Down trend\n",
            "Down trend\n",
            "Down trend\n",
            "Down trend\n",
            "Up trend\n",
            "Buy at the price101.1\n",
            "Up trend\n",
            "Up trend\n",
            "Up trend\n",
            "Up trend\n",
            "Up trend\n",
            "Up trend\n",
            "Up trend\n",
            "Up trend\n",
            "Up trend\n",
            "Up trend\n",
            "Up trend\n",
            "Up trend\n",
            "Up trend\n",
            "Up trend\n",
            "Up trend\n",
            "Up trend\n",
            "Up trend\n",
            "Up trend\n",
            "Up trend\n",
            "Up trend\n",
            "Up trend\n",
            "Up trend\n",
            "Up trend\n",
            "Up trend\n",
            "Up trend\n",
            "Up trend\n",
            "Up trend\n",
            "Up trend\n",
            "Up trend\n",
            "Up trend\n",
            "Up trend\n",
            "Up trend\n",
            "Up trend\n",
            "Up trend\n",
            "Up trend\n",
            "Up trend\n",
            "Up trend\n",
            "Up trend\n",
            "Up trend\n",
            "Up trend\n",
            "Up trend\n",
            "Up trend\n",
            "Up trend\n",
            "Up trend\n",
            "Down trend\n",
            "Sell at the price100.7\n",
            "Down trend\n",
            "Down trend\n",
            "Down trend\n",
            "Down trend\n",
            "Down trend\n",
            "Down trend\n",
            "Down trend\n",
            "Down trend\n",
            "Down trend\n",
            "Down trend\n",
            "Down trend\n",
            "Down trend\n",
            "Up trend\n",
            "Buy at the price101.3\n",
            "Up trend\n",
            "Up trend\n",
            "Up trend\n",
            "Up trend\n",
            "Up trend\n",
            "Up trend\n",
            "Up trend\n",
            "Up trend\n",
            "Up trend\n",
            "Up trend\n",
            "Up trend\n",
            "Up trend\n",
            "Up trend\n",
            "Up trend\n",
            "Down trend\n",
            "Sell at the price100.9\n",
            "Down trend\n",
            "Down trend\n",
            "Down trend\n",
            "Down trend\n",
            "Down trend\n",
            "Down trend\n",
            "Down trend\n",
            "Down trend\n",
            "Down trend\n",
            "Down trend\n",
            "Down trend\n",
            "Down trend\n",
            "Down trend\n",
            "Down trend\n",
            "Down trend\n",
            "Down trend\n",
            "Down trend\n",
            "Down trend\n",
            "Down trend\n",
            "Down trend\n",
            "Down trend\n",
            "Down trend\n",
            "Down trend\n",
            "Down trend\n",
            "Down trend\n",
            "Down trend\n",
            "Down trend\n",
            "Down trend\n",
            "Down trend\n",
            "Down trend\n",
            "Down trend\n",
            "Down trend\n",
            "Down trend\n",
            "Down trend\n",
            "Down trend\n",
            "Down trend\n",
            "Down trend\n",
            "Down trend\n",
            "Down trend\n",
            "Down trend\n",
            "Down trend\n",
            "Down trend\n",
            "Down trend\n",
            "Down trend\n",
            "Down trend\n",
            "Down trend\n",
            "Down trend\n",
            "Down trend\n",
            "Down trend\n",
            "Down trend\n",
            "Down trend\n",
            "Down trend\n",
            "Down trend\n",
            "Down trend\n",
            "Down trend\n",
            "Down trend\n",
            "[0.44400592007893813, -0.39564787339266827, -0.39486673247778326]\n"
          ],
          "name": "stdout"
        }
      ]
    },
    {
      "cell_type": "code",
      "metadata": {
        "id": "6w2zGmnVbLAY",
        "outputId": "7bbea090-bdb7-4f3f-8c13-028b885e71ed",
        "colab": {
          "base_uri": "https://localhost:8080/",
          "height": 68
        }
      },
      "source": [
        "gains=0\n",
        "numGains=0\n",
        "losses=0\n",
        "numLosses=0\n",
        "totReturn=1\n",
        "for i in percentChange:\n",
        "    if(i>0):\n",
        "        gains+=i\n",
        "        numGains+=1\n",
        "    else:\n",
        "        losses+=i\n",
        "        numLosses+=1\n",
        "    totReturn = totReturn*((i/100)+1)\n",
        "totReturn=round((totReturn-1)*100,2)\n",
        "print(\"This statistics is from \"+str(df1.index[0])+\" up to now with \"+str(numGains+numLosses)+\" trades:\")\n",
        "print(\"SMAs used: \"+str(SMAs))\n",
        "print(\"Total return over \"+str(numGains+numLosses)+ \" trades: \"+ str(totReturn)+\"%\" )"
      ],
      "execution_count": null,
      "outputs": [
        {
          "output_type": "stream",
          "text": [
            "This statistics is from 2020-08-03 09:16:00+05:30 up to now with 3 trades:\n",
            "SMAs used: [20, 50]\n",
            "Total return over 3 trades: -0.35%\n"
          ],
          "name": "stdout"
        }
      ]
    },
    {
      "cell_type": "code",
      "metadata": {
        "id": "itXcufQwbLEP",
        "outputId": "b6b50cf4-5cfd-4eb7-b58c-d6b1b12820ae",
        "colab": {
          "base_uri": "https://localhost:8080/",
          "height": 102
        }
      },
      "source": [
        "if (numGains>0):\n",
        "    avgGain=gains/numGains\n",
        "    maxReturn= str(max(percentChange))\n",
        "else:\n",
        "    avgGain=0\n",
        "    maxReturn='unknown'\n",
        "if(numLosses>0):\n",
        "    avgLoss=losses/numLosses\n",
        "    maxLoss=str(min(percentChange))\n",
        "    ratioRR=str(-avgGain/avgLoss)  # risk-reward ratio\n",
        "else:\n",
        "    avgLoss=0\n",
        "    maxLoss='unknown'\n",
        "    ratioRR='inf'\n",
        "print(\"Average Gain: \"+ str(avgGain))\n",
        "print(\"Average Loss: \"+ str(avgLoss))\n",
        "print(\"Max Return: \"+ maxReturn)\n",
        "print(\"Max Loss: \"+ maxLoss)\n",
        "print(\"Gain/loss ratio: \"+ ratioRR)"
      ],
      "execution_count": null,
      "outputs": [
        {
          "output_type": "stream",
          "text": [
            "Average Gain: 0.44400592007893813\n",
            "Average Loss: -0.39525730293522576\n",
            "Max Return: 0.44400592007893813\n",
            "Max Loss: -0.39564787339266827\n",
            "Gain/loss ratio: 1.1233338809471693\n"
          ],
          "name": "stdout"
        }
      ]
    },
    {
      "cell_type": "code",
      "metadata": {
        "id": "8M1cBzuTbLI3",
        "outputId": "5448a49a-3c71-4290-9bb7-72e29c1d112a",
        "colab": {
          "base_uri": "https://localhost:8080/",
          "height": 34
        }
      },
      "source": [
        "if(numGains>0 or numLosses>0):\n",
        "    batAvg=numGains/(numGains+numLosses)\n",
        "else:\n",
        "    batAvg=0\n",
        "print(\"Batting Avg: \"+ str(batAvg))"
      ],
      "execution_count": null,
      "outputs": [
        {
          "output_type": "stream",
          "text": [
            "Batting Avg: 0.3333333333333333\n"
          ],
          "name": "stdout"
        }
      ]
    },
    {
      "cell_type": "code",
      "metadata": {
        "id": "25jw5w8obLM_",
        "outputId": "b51b069a-e1d7-406d-bcc7-60f04a41b424",
        "colab": {
          "base_uri": "https://localhost:8080/",
          "height": 214
        }
      },
      "source": [
        "mpf.plot(df1, type = 'ohlc',figratio=(16,6), \n",
        "         mav=(short_sma,long_sma), \n",
        "         volume=True, title= str(stock), \n",
        "         style='default')"
      ],
      "execution_count": null,
      "outputs": [
        {
          "output_type": "error",
          "ename": "NameError",
          "evalue": "ignored",
          "traceback": [
            "\u001b[0;31m---------------------------------------------------------------------------\u001b[0m",
            "\u001b[0;31mNameError\u001b[0m                                 Traceback (most recent call last)",
            "\u001b[0;32m<ipython-input-15-156ff8e77af1>\u001b[0m in \u001b[0;36m<module>\u001b[0;34m()\u001b[0m\n\u001b[0;32m----> 1\u001b[0;31m mpf.plot(df1, type = 'ohlc',figratio=(16,6), \n\u001b[0m\u001b[1;32m      2\u001b[0m          \u001b[0mmav\u001b[0m\u001b[0;34m=\u001b[0m\u001b[0;34m(\u001b[0m\u001b[0mshort_sma\u001b[0m\u001b[0;34m,\u001b[0m\u001b[0mlong_sma\u001b[0m\u001b[0;34m)\u001b[0m\u001b[0;34m,\u001b[0m\u001b[0;34m\u001b[0m\u001b[0;34m\u001b[0m\u001b[0m\n\u001b[1;32m      3\u001b[0m          \u001b[0mvolume\u001b[0m\u001b[0;34m=\u001b[0m\u001b[0;32mTrue\u001b[0m\u001b[0;34m,\u001b[0m \u001b[0mtitle\u001b[0m\u001b[0;34m=\u001b[0m \u001b[0mstr\u001b[0m\u001b[0;34m(\u001b[0m\u001b[0mstock\u001b[0m\u001b[0;34m)\u001b[0m\u001b[0;34m,\u001b[0m\u001b[0;34m\u001b[0m\u001b[0;34m\u001b[0m\u001b[0m\n\u001b[1;32m      4\u001b[0m          style='default')\n",
            "\u001b[0;31mNameError\u001b[0m: name 'mpf' is not defined"
          ]
        }
      ]
    },
    {
      "cell_type": "code",
      "metadata": {
        "id": "ZEvYrbKZbLQ2",
        "outputId": "14461579-fd80-4d56-c731-8e40c7c88306",
        "colab": {
          "base_uri": "https://localhost:8080/",
          "height": 830
        }
      },
      "source": [
        "# Visualize the Last Price and the exponential moving averages\n",
        "plt.figure(figsize=(15,12))\n",
        "plt.title('Last Price', fontsize=18)\n",
        "plt.plot(df1['last_price'], label='Last Price', color='blue')\n",
        "plt.plot(SMA_short, label='Short/Fast EMA', color='red')\n",
        "plt.plot(SMA_long, label='Middle/Medium EMA', color='orange')\n",
        "\n",
        "plt.xticks(rotation=45)\n",
        "plt.xlabel('Timestamp', fontsize=18)\n",
        "plt.ylabel('Last Price', fontsize=18)\n",
        "plt.legend(loc='upper left')\n",
        "plt.show()"
      ],
      "execution_count": null,
      "outputs": [
        {
          "output_type": "display_data",
          "data": {
            "image/png": "[encoded data removed]",
            "text/plain": [
              "<Figure size 1080x864 with 1 Axes>"
            ]
          },
          "metadata": {
            "tags": []
          }
        }
      ]
    }
  ]
}