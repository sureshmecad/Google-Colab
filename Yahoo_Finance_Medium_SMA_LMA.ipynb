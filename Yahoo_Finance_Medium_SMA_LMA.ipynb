{
  "nbformat": 4,
  "nbformat_minor": 0,
  "metadata": {
    "colab": {
      "name": "Yahoo Finance_Medium_SMA_LMA.ipynb",
      "provenance": [],
      "authorship_tag": "ABX9TyP9lXXB6XGp5MRcJdy2R5su",
      "include_colab_link": true
    },
    "kernelspec": {
      "name": "python3",
      "display_name": "Python 3"
    }
  },
  "cells": [
    {
      "cell_type": "markdown",
      "metadata": {
        "id": "view-in-github",
        "colab_type": "text"
      },
      "source": [
        "<a href=\"https://colab.research.google.com/github/sureshmecad/Google-Colab/blob/master/Yahoo_Finance_Medium_SMA_LMA.ipynb\" target=\"_parent\"><img src=\"https://colab.research.google.com/assets/colab-badge.svg\" alt=\"Open In Colab\"/></a>"
      ]
    },
    {
      "cell_type": "markdown",
      "metadata": {
        "id": "MZNh5CT4PQrE"
      },
      "source": [
        "https://towardsdatascience.com/data-science-in-finance-56a4d99279f7"
      ]
    },
    {
      "cell_type": "markdown",
      "metadata": {
        "id": "ZTlrt_7zQMvw"
      },
      "source": [
        "- The moving average strategy suggests **buying** a stock when **shorter SMA crosses over longer SMA** and **selling** it when **shorter SMA crosses down the longer one**. The picture below shows the **buy signal** (SMA_20, the **red line crosses over the blue line**, SMA_50) and the exit point as vice versa."
      ]
    },
    {
      "cell_type": "markdown",
      "metadata": {
        "id": "Up6bNgP-Rt52"
      },
      "source": [
        "- image 1"
      ]
    },
    {
      "cell_type": "markdown",
      "metadata": {
        "id": "V4AhgIczRd32"
      },
      "source": [
        "### 1- Data extraction and preparation"
      ]
    },
    {
      "cell_type": "markdown",
      "metadata": {
        "id": "z24beuSMR0c2"
      },
      "source": [
        "- Historical stock price data can be found from various sources but the simplest one is **Yahoo Finance**. To do this, we need to **import yfinance library** and other related libraries which will be used on data manipulation using pandas."
      ]
    },
    {
      "cell_type": "code",
      "metadata": {
        "id": "QFFWZ0nhSvTx"
      },
      "source": [
        "import numpy as np\n",
        "import pandas as pd\n",
        "import yfinance as yf\n",
        "import datetime as dt\n",
        "import matplotlib.pyplot as plt\n",
        "import mplfinance as mpf"
      ],
      "execution_count": null,
      "outputs": []
    },
    {
      "cell_type": "markdown",
      "metadata": {
        "id": "VcuH3-XYSboQ"
      },
      "source": [
        "- First of all, we need to define the time range that we will examine the strategy. To use **yfinace library**, the **date should be in the format of YYYY-MM-DD**. Define the start date as your own favorite time. You can do the same for the end date but I prefer the **end date as today**. We can define it as below:"
      ]
    },
    {
      "cell_type": "code",
      "metadata": {
        "id": "jARB4xbCSsZx"
      },
      "source": [
        "start = '2016-01-01'                # format: YYYY-MM-DD\n",
        "end = dt.datetime.now()             # today"
      ],
      "execution_count": null,
      "outputs": []
    },
    {
      "cell_type": "markdown",
      "metadata": {
        "id": "tYqjk6YeS9I3"
      },
      "source": [
        "- In the next step, store your favorite stock symbol ticker string in a stock variable. We are going to use it in yahoo finance library to download as a data frame:"
      ]
    },
    {
      "cell_type": "code",
      "metadata": {
        "id": "z1deBsgwSseA"
      },
      "source": [
        "stock='AMD'\n",
        "df = yf.download(stock,start, end, interval='1d')\n",
        "df.head()"
      ],
      "execution_count": null,
      "outputs": []
    },
    {
      "cell_type": "markdown",
      "metadata": {
        "id": "KOpeaJzHTpIR"
      },
      "source": [
        "### 2- Moving Average Calculation"
      ]
    },
    {
      "cell_type": "markdown",
      "metadata": {
        "id": "VwHNoIR3TuSq"
      },
      "source": [
        "- Let’s define the short and long simple moving average, SMA variable, and store them in the list named SMAs here."
      ]
    },
    {
      "cell_type": "code",
      "metadata": {
        "id": "em_bTNBaSsh4"
      },
      "source": [
        "short_sma= 20\n",
        "long_sma = 50\n",
        "SMAs=[short_sma, long_sma]"
      ],
      "execution_count": null,
      "outputs": []
    },
    {
      "cell_type": "markdown",
      "metadata": {
        "id": "lB_coqv0UWrD"
      },
      "source": [
        "- We can calculate **moving average** one by one for **each SMA using rolling and mean function** but to make it more flexible for more than two SMAs, we may use **for loop** such as:"
      ]
    },
    {
      "cell_type": "code",
      "metadata": {
        "id": "HIIHpS2SSsl6"
      },
      "source": [
        "for i in SMAs:\n",
        "    df[\"SMA_\"+str(i)]= df.iloc[:,4].rolling(window=i).mean()"
      ],
      "execution_count": null,
      "outputs": []
    },
    {
      "cell_type": "markdown",
      "metadata": {
        "id": "JSUDxxqHVGL0"
      },
      "source": [
        "### 3- SMAs Relative Position Recognition"
      ]
    },
    {
      "cell_type": "markdown",
      "metadata": {
        "id": "ScdCtlGBWg4o"
      },
      "source": [
        "- if **shorter SMA is higher than longer SMA**, we are in the **up-trend** area and appropriate to have a position and sell it in the opposite condition."
      ]
    },
    {
      "cell_type": "code",
      "metadata": {
        "id": "dkEN_OJxSsqA"
      },
      "source": [
        "position=0 # 1 means we have already entered poistion, 0 means not already entered\n",
        "counter=0\n",
        "percentChange=[]   # empty list to collect %changes \n",
        "for i in df.index:\n",
        "    SMA_short=df['SMA_20']\n",
        "    SMA_long =df['SMA_50']\n",
        "    close=df['Adj Close'][i]\n",
        "    \n",
        "    if(SMA_short[i] > SMA_long[i]):                          #line 9\n",
        "        print('Up trend')\n",
        "        if(position==0):\n",
        "            buyP=close   #buy price\n",
        "            position=1   # turn position\n",
        "            print(\"Buy at the price\"+str(buyP))\n",
        "        \n",
        "    elif(SMA_short[i] < SMA_long[i]):\n",
        "        print('Down trend')\n",
        "        if(position==1):   # have a poistion in down trend\n",
        "            position=0     # selling position\n",
        "            sellP=close    # sell price\n",
        "            print(\"Sell at the price\"+str(sellP))\n",
        "            perc=(sellP/buyP-1)*100\n",
        "            percentChange.append(perc)                      #line 23\n",
        "    if(counter==df[\"Adj Close\"].count()-1 and position==1):\n",
        "        position=0\n",
        "        sellP=close\n",
        "        print(\"Sell at the price\"+str(sellP))\n",
        "        perc=(sellP/buyP-1)*100\n",
        "        percentChange.append(perc)\n",
        "counter+=1\n",
        "print(percentChange)"
      ],
      "execution_count": null,
      "outputs": []
    },
    {
      "cell_type": "markdown",
      "metadata": {
        "id": "EH0lUzCBXd9w"
      },
      "source": [
        "- This is a for loop block of code that will iterate over data set we previously read into df variable. After defining close price, short and long SMAs from the data frame, it will go into two different branches using if statement based on short and long SMA values (line 9). If **short SMA is above long SMA, it prints out the trend direction (‘Up trend’)** and if there is not existing position in the portfolio, it will buy a position (signal) based on the close price of that day. If short SMA reads smaller values than long SMA, it is in Down trend. If we have already a position, we should sell at the adjusted close price. Using append function in pandas (line 23), we will store the results to a percentChange variable list as defined in the previous line. The last part of block code, starting line24, is to examine whether there is an open position we are counting down to end of the data frame."
      ]
    },
    {
      "cell_type": "markdown",
      "metadata": {
        "id": "LiET-kc6XtzY"
      },
      "source": [
        "### 4- Statistics"
      ]
    },
    {
      "cell_type": "markdown",
      "metadata": {
        "id": "kWb4FUV9YCzR"
      },
      "source": [
        "- After defining some variables such as gains and losses with the quantity of them, we may use for loop again over individual values in perecntChange to find out statistical information. Positive values in the list refer to the gain and will be added up in gains variable. The negative values are losses and will be stored in losses variable. We can print out the total return as percent and round the value up to 2 decimal places."
      ]
    },
    {
      "cell_type": "code",
      "metadata": {
        "id": "_lRuvAaESst4"
      },
      "source": [
        "gains=0\n",
        "numGains=0\n",
        "losses=0\n",
        "numLosses=0\n",
        "totReturn=1\n",
        "for i in percentChange:\n",
        "    if(i>0):\n",
        "        gains+=i\n",
        "        numGains+=1\n",
        "    else:\n",
        "        losses+=i\n",
        "        numLosses+=1\n",
        "    totReturn = totReturn*((i/100)+1)\n",
        "totReturn=round((totReturn-1)*100,2)\n",
        "print(\"This statistics is from \"+str(df.index[0])+\" up to now with \"+str(numGains+numLosses)+\" trades:\")\n",
        "print(\"SMAs used: \"+str(SMAs))\n",
        "print(\"Total return over \"+str(numGains+numLosses)+ \" trades: \"+ str(totReturn)+\"%\" )"
      ],
      "execution_count": null,
      "outputs": []
    },
    {
      "cell_type": "markdown",
      "metadata": {
        "id": "7aQ2RFnwYQcp"
      },
      "source": [
        "- To calculate average gain and loss, we may simply use if statement to see if the number of gains is bigger than zero or not. If so, the average gain can be calculated by gains divided by a number of gains. If the number of losses is a positive value, it will calculate average losses as well. Maximum gain and loss can also be an attractive point of the trades strategy."
      ]
    },
    {
      "cell_type": "code",
      "metadata": {
        "id": "Hc1-ScGWSsyA"
      },
      "source": [
        "if (numGains>0):\n",
        "    avgGain=gains/numGains\n",
        "    maxReturn= str(max(percentChange))\n",
        "else:\n",
        "    avgGain=0\n",
        "    maxReturn='unknown'\n",
        "if(numLosses>0):\n",
        "    avgLoss=losses/numLosses\n",
        "    maxLoss=str(min(percentChange))\n",
        "    ratioRR=str(-avgGain/avgLoss)  # risk-reward ratio\n",
        "else:\n",
        "    avgLoss=0\n",
        "    maxLoss='unknown'\n",
        "    ratioRR='inf'\n",
        "print(\"Average Gain: \"+ str(avgGain))\n",
        "print(\"Average Loss: \"+ str(avgLoss))\n",
        "print(\"Max Return: \"+ maxReturn)\n",
        "print(\"Max Loss: \"+ maxLoss)\n",
        "print(\"Gain/loss ratio: \"+ ratioRR)"
      ],
      "execution_count": null,
      "outputs": []
    },
    {
      "cell_type": "markdown",
      "metadata": {
        "id": "h3Z2jzncYbg6"
      },
      "source": [
        "- For this example, the average gain for a single stock share is 62 dollars, the average loss is almost 8 dollars. The maximum return is 153 and the maximum loss is 16 dollars.\n",
        "\n",
        "- Batting average is calculated by dividing the number of gains over the total number of trades. This can be a sign of accuracy to enter for a position ranges between 0 and 1. 1 is the most accurate bat."
      ]
    },
    {
      "cell_type": "code",
      "metadata": {
        "id": "k51KqtX7Ss2A"
      },
      "source": [
        "if(numGains>0 or numLosses>0):\n",
        "    batAvg=numGains/(numGains+numLosses)\n",
        "else:\n",
        "    batAvg=0\n",
        "print(\"Batting Avg: \"+ str(batAvg))"
      ],
      "execution_count": null,
      "outputs": []
    },
    {
      "cell_type": "markdown",
      "metadata": {
        "id": "cFNgU_MjYkXh"
      },
      "source": [
        "### 5- Plotting"
      ]
    },
    {
      "cell_type": "markdown",
      "metadata": {
        "id": "XO9uyELhYo0C"
      },
      "source": [
        "- Although you can use seaborn or matplotlib libraries to plot the stock price, the mplfinance library is perfectly designed specifically for the stock price plot. Its function accept various attributes such as figure size, price plotting type (line, candlestick, …) and moving average."
      ]
    },
    {
      "cell_type": "code",
      "metadata": {
        "id": "XCPmN7pnYhJc"
      },
      "source": [
        "mpf.plot(df, type = 'ohlc',figratio=(16,6), \n",
        "         mav=(short_sma,long_sma), \n",
        "         volume=True, title= str(stock), \n",
        "         style='default')"
      ],
      "execution_count": null,
      "outputs": []
    },
    {
      "cell_type": "markdown",
      "metadata": {
        "id": "t-6sGLLJY39D"
      },
      "source": [
        "------------------------------------------------"
      ]
    },
    {
      "cell_type": "code",
      "metadata": {
        "id": "PmCyUVEvYhND"
      },
      "source": [
        ""
      ],
      "execution_count": null,
      "outputs": []
    },
    {
      "cell_type": "code",
      "metadata": {
        "id": "cikVO1nHYhRK"
      },
      "source": [
        ""
      ],
      "execution_count": null,
      "outputs": []
    }
  ]
}