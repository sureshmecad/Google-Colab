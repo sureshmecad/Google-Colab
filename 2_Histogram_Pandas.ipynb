{
  "nbformat": 4,
  "nbformat_minor": 0,
  "metadata": {
    "colab": {
      "name": "2_Histogram_Pandas.ipynb",
      "provenance": [],
      "collapsed_sections": [],
      "authorship_tag": "ABX9TyNkE3nm7IXKTHu2Iiiivy2n",
      "include_colab_link": true
    },
    "kernelspec": {
      "name": "python3",
      "display_name": "Python 3"
    },
    "language_info": {
      "name": "python"
    }
  },
  "cells": [
    {
      "cell_type": "markdown",
      "metadata": {
        "id": "view-in-github",
        "colab_type": "text"
      },
      "source": [
        "<a href=\"https://colab.research.google.com/github/sureshmecad/Google-Colab/blob/master/2_Histogram_Pandas.ipynb\" target=\"_parent\"><img src=\"https://colab.research.google.com/assets/colab-badge.svg\" alt=\"Open In Colab\"/></a>"
      ]
    },
    {
      "cell_type": "markdown",
      "metadata": {
        "id": "ksaccO2CxheL"
      },
      "source": [
        "- https://www.dataindependent.com/pandas/pandas-histogram/\n",
        "\n",
        "- https://practicaldatascience.co.uk/data-science/how-to-visualise-data-using-histograms-in-pandas ---> Good info"
      ]
    },
    {
      "cell_type": "markdown",
      "metadata": {
        "id": "TfRcdQWxhwV4"
      },
      "source": [
        "- **Pandas.DataFrame.hist()** function is useful in understanding the **distribution of numeric variables.**"
      ]
    },
    {
      "cell_type": "markdown",
      "metadata": {
        "id": "3Hj1eojpiHi2"
      },
      "source": [
        "- DataFrame.hist(\n",
        "  \n",
        "  column=None,\n",
        "  \n",
        "  by=None,\n",
        "  \n",
        "  grid=True,\n",
        "  \n",
        "  xlabelsize=None,\n",
        "  \n",
        "  xrot=None,\n",
        "  \n",
        "  ylabelsize=None,\n",
        "  \n",
        "  yrot=None,\n",
        "  \n",
        "  ax=None,\n",
        "  \n",
        "  sharex=False,\n",
        "  \n",
        "  sharey=False,\n",
        "  \n",
        "  figsize=None,\n",
        "  \n",
        "  layout=None,\n",
        "  \n",
        "  bins=10,\n",
        "  \n",
        "  backend=None,\n",
        "  \n",
        "  legend=False, **kwargs)**"
      ]
    },
    {
      "cell_type": "markdown",
      "metadata": {
        "id": "PFgcV5mRiBf8"
      },
      "source": [
        "- **dataframe.hist()**"
      ]
    },
    {
      "cell_type": "markdown",
      "metadata": {
        "id": "pfYh31Se-BHc"
      },
      "source": [
        "- **xlabelsize** – The size of the x-axis labels in integer.\n",
        "\n",
        "- **ylabelsize** – The size of the y-axis labels in integer.\n",
        "\n",
        "- **xrot** – The clockwise rotation that is to be done on the labels on the x-axis.\n",
        "\n",
        "- **yrot** – The clockwise rotation that is to be done on the labels on the y-axis.\n",
        "\n",
        "- **color** = The colour of the plot."
      ]
    },
    {
      "cell_type": "markdown",
      "metadata": {
        "id": "ZqMHFlVkmZte"
      },
      "source": [
        "-------------------------"
      ]
    },
    {
      "cell_type": "markdown",
      "metadata": {
        "id": "SlRN1Wfdmah2"
      },
      "source": [
        "- There are **multiple ways** to make a **histogram plot in pandas**. We are going to mainly focus on the first"
      ]
    },
    {
      "cell_type": "code",
      "metadata": {
        "id": "sH-clwz4WB1F"
      },
      "source": [
        "1. pd.DataFrame.hist(column='your_data_column')\n",
        "2. pd.DataFrame.plot(kind='hist')\n",
        "3. pd.DataFrame.plot.hist()"
      ],
      "execution_count": null,
      "outputs": []
    },
    {
      "cell_type": "code",
      "metadata": {
        "id": "9XdKmIF_0M1H"
      },
      "source": [
        "df.hist(column=['v1','v2'])\n",
        "\n",
        "hist = df[['v1','v2']].hist()\n",
        "\n",
        "hist = df.hist(column=['v1'], by=df['c'])"
      ],
      "execution_count": null,
      "outputs": []
    },
    {
      "cell_type": "markdown",
      "metadata": {
        "id": "51MlLwngmxOu"
      },
      "source": [
        "--------------------"
      ]
    },
    {
      "cell_type": "code",
      "metadata": {
        "id": "ByDuFtsnmxzW"
      },
      "source": [
        "import pandas as pd\n",
        "import numpy as np\n",
        "import matplotlib.pyplot as plt"
      ],
      "execution_count": null,
      "outputs": []
    },
    {
      "cell_type": "code",
      "metadata": {
        "colab": {
          "base_uri": "https://localhost:8080/",
          "height": 202
        },
        "id": "D-ofQnNUm8qv",
        "outputId": "c2d5163f-ac95-4239-c208-31c86134efa8"
      },
      "source": [
        "np.random.seed(seed=42)\n",
        "data_points = 1000\n",
        "\n",
        "df = pd.DataFrame(data=list(zip(np.random.choice([\"Math\", \"English\"], size=data_points),\n",
        "                                np.random.beta(15, 10, size=data_points),\n",
        "                                np.random.beta(30, 4, size=data_points))),\n",
        "            columns=['Major', 'Test1', 'Test2'])\n",
        "\n",
        "df.head()"
      ],
      "execution_count": null,
      "outputs": [
        {
          "output_type": "execute_result",
          "data": {
            "text/html": [
              "<div>\n",
              "<style scoped>\n",
              "    .dataframe tbody tr th:only-of-type {\n",
              "        vertical-align: middle;\n",
              "    }\n",
              "\n",
              "    .dataframe tbody tr th {\n",
              "        vertical-align: top;\n",
              "    }\n",
              "\n",
              "    .dataframe thead th {\n",
              "        text-align: right;\n",
              "    }\n",
              "</style>\n",
              "<table border=\"1\" class=\"dataframe\">\n",
              "  <thead>\n",
              "    <tr style=\"text-align: right;\">\n",
              "      <th></th>\n",
              "      <th>Major</th>\n",
              "      <th>Test1</th>\n",
              "      <th>Test2</th>\n",
              "    </tr>\n",
              "  </thead>\n",
              "  <tbody>\n",
              "    <tr>\n",
              "      <th>0</th>\n",
              "      <td>Math</td>\n",
              "      <td>0.488752</td>\n",
              "      <td>0.778087</td>\n",
              "    </tr>\n",
              "    <tr>\n",
              "      <th>1</th>\n",
              "      <td>English</td>\n",
              "      <td>0.504609</td>\n",
              "      <td>0.894973</td>\n",
              "    </tr>\n",
              "    <tr>\n",
              "      <th>2</th>\n",
              "      <td>Math</td>\n",
              "      <td>0.380567</td>\n",
              "      <td>0.864508</td>\n",
              "    </tr>\n",
              "    <tr>\n",
              "      <th>3</th>\n",
              "      <td>Math</td>\n",
              "      <td>0.703682</td>\n",
              "      <td>0.846423</td>\n",
              "    </tr>\n",
              "    <tr>\n",
              "      <th>4</th>\n",
              "      <td>Math</td>\n",
              "      <td>0.383640</td>\n",
              "      <td>0.904955</td>\n",
              "    </tr>\n",
              "  </tbody>\n",
              "</table>\n",
              "</div>"
            ],
            "text/plain": [
              "     Major     Test1     Test2\n",
              "0     Math  0.488752  0.778087\n",
              "1  English  0.504609  0.894973\n",
              "2     Math  0.380567  0.864508\n",
              "3     Math  0.703682  0.846423\n",
              "4     Math  0.383640  0.904955"
            ]
          },
          "metadata": {},
          "execution_count": 2
        }
      ]
    },
    {
      "cell_type": "markdown",
      "metadata": {
        "id": "5AyME1ACnEia"
      },
      "source": [
        "### **1. Default Histogram Plot**"
      ]
    },
    {
      "cell_type": "code",
      "metadata": {
        "colab": {
          "base_uri": "https://localhost:8080/",
          "height": 281
        },
        "id": "AuqB2Ahmm9z_",
        "outputId": "b3807523-42dd-4cd9-bccd-1f691af556bf"
      },
      "source": [
        "df.hist(column='Test1');"
      ],
      "execution_count": null,
      "outputs": [
        {
          "output_type": "display_data",
          "data": {
            "image/png": "[encoded data removed]",
            "text/plain": [
              "<Figure size 432x288 with 1 Axes>"
            ]
          },
          "metadata": {
            "needs_background": "light"
          }
        }
      ]
    },
    {
      "cell_type": "markdown",
      "metadata": {
        "id": "GbrtFqgHnEhW"
      },
      "source": [
        "### **2. Histogram plot w/ 30 bins**"
      ]
    },
    {
      "cell_type": "markdown",
      "metadata": {
        "id": "9BP93qRzn5CM"
      },
      "source": [
        "- The easy way to think about bins is **\"how many bars do you want in your bar chart?\"** The **more bins, the higher resolution** your data. Picking the number of bins is both an art and a science. Play around with a few values and see what you like.\n",
        "\n",
        "- In this case, 2 bins doesn't tell me much, 200 is too many, but 35 feels nice."
      ]
    },
    {
      "cell_type": "code",
      "metadata": {
        "colab": {
          "base_uri": "https://localhost:8080/",
          "height": 281
        },
        "id": "5u3pz6YNness",
        "outputId": "65e0e6c2-4210-4b23-f632-774847092eeb"
      },
      "source": [
        "df.hist(column='Test1', bins=2);"
      ],
      "execution_count": null,
      "outputs": [
        {
          "output_type": "display_data",
          "data": {
            "image/png": "[encoded data removed]",
            "text/plain": [
              "<Figure size 432x288 with 1 Axes>"
            ]
          },
          "metadata": {
            "needs_background": "light"
          }
        }
      ]
    },
    {
      "cell_type": "code",
      "metadata": {
        "colab": {
          "base_uri": "https://localhost:8080/",
          "height": 281
        },
        "id": "tY-uU0e_wKmY",
        "outputId": "54d9722e-5222-41b3-c33c-b21e18fe0fd9"
      },
      "source": [
        "df.hist(column='Test1', bins=200);"
      ],
      "execution_count": null,
      "outputs": [
        {
          "output_type": "display_data",
          "data": {
            "image/png": "[encoded data removed]",
            "text/plain": [
              "<Figure size 432x288 with 1 Axes>"
            ]
          },
          "metadata": {
            "needs_background": "light"
          }
        }
      ]
    },
    {
      "cell_type": "code",
      "metadata": {
        "colab": {
          "base_uri": "https://localhost:8080/",
          "height": 281
        },
        "id": "98VEqABswNVX",
        "outputId": "e9412bd0-8876-4da7-a8b8-64a65a6dec5c"
      },
      "source": [
        "df.hist(column='Test1', bins=35);"
      ],
      "execution_count": null,
      "outputs": [
        {
          "output_type": "display_data",
          "data": {
            "image/png": "[encoded data removed]",
            "text/plain": [
              "<Figure size 432x288 with 1 Axes>"
            ]
          },
          "metadata": {
            "needs_background": "light"
          }
        }
      ]
    },
    {
      "cell_type": "markdown",
      "metadata": {
        "id": "txGwQasSwUPW"
      },
      "source": [
        "### **3. Histogram plot w/ custom bins**"
      ]
    },
    {
      "cell_type": "code",
      "metadata": {
        "colab": {
          "base_uri": "https://localhost:8080/",
          "height": 281
        },
        "id": "JOlF4qTEwV3_",
        "outputId": "623c3ec7-9183-41dc-b8dc-84137c7061a5"
      },
      "source": [
        "df.hist(column='Test1', bins=[0,.5,.75,1]);"
      ],
      "execution_count": null,
      "outputs": [
        {
          "output_type": "display_data",
          "data": {
            "image/png": "[encoded data removed]",
            "text/plain": [
              "<Figure size 432x288 with 1 Axes>"
            ]
          },
          "metadata": {
            "needs_background": "light"
          }
        }
      ]
    },
    {
      "cell_type": "markdown",
      "metadata": {
        "id": "DZWEzgxwwfBQ"
      },
      "source": [
        "### **4. Plotting multiple groups**"
      ]
    },
    {
      "cell_type": "code",
      "metadata": {
        "colab": {
          "base_uri": "https://localhost:8080/",
          "height": 338
        },
        "id": "pqijr0muwgqA",
        "outputId": "63ea4cb7-3559-426a-bd83-d57050c094bb"
      },
      "source": [
        "df.hist(column='Test1', by='Major')"
      ],
      "execution_count": null,
      "outputs": [
        {
          "output_type": "execute_result",
          "data": {
            "text/plain": [
              "array([<matplotlib.axes._subplots.AxesSubplot object at 0x7f54b3c4be50>,\n",
              "       <matplotlib.axes._subplots.AxesSubplot object at 0x7f54b3b76d10>],\n",
              "      dtype=object)"
            ]
          },
          "metadata": {},
          "execution_count": 8
        },
        {
          "output_type": "display_data",
          "data": {
            "image/png": "[encoded data removed]",
            "text/plain": [
              "<Figure size 432x288 with 2 Axes>"
            ]
          },
          "metadata": {
            "needs_background": "light"
          }
        }
      ]
    },
    {
      "cell_type": "code",
      "metadata": {
        "colab": {
          "base_uri": "https://localhost:8080/",
          "height": 281
        },
        "id": "njXp-cqZ3rfC",
        "outputId": "fb069f83-25ca-46e0-9920-bd9e9bb31566"
      },
      "source": [
        "df.hist();"
      ],
      "execution_count": null,
      "outputs": [
        {
          "output_type": "display_data",
          "data": {
            "image/png": "[encoded data removed]",
            "text/plain": [
              "<Figure size 432x288 with 2 Axes>"
            ]
          },
          "metadata": {
            "needs_background": "light"
          }
        }
      ]
    },
    {
      "cell_type": "markdown",
      "metadata": {
        "id": "xZnucc1Mw9c5"
      },
      "source": [
        "### **5. Extra customized scatter plot using the general DataFrame.plot() and .hist() parameters**"
      ]
    },
    {
      "cell_type": "code",
      "metadata": {
        "colab": {
          "base_uri": "https://localhost:8080/",
          "height": 444
        },
        "id": "Vkj1AL6pw_P5",
        "outputId": "d312e7a4-2a74-4d01-9028-d3ab00f1ccc5"
      },
      "source": [
        "df.hist(column='Test1',\n",
        "        grid=False,\n",
        "        figsize=(10, 7),\n",
        "        legend=True,\n",
        "        bins=30,\n",
        "        orientation='horizontal',\n",
        "        color='#FFCF56');"
      ],
      "execution_count": null,
      "outputs": [
        {
          "output_type": "display_data",
          "data": {
            "image/png": "[encoded data removed]",
            "text/plain": [
              "<Figure size 720x504 with 1 Axes>"
            ]
          },
          "metadata": {
            "needs_background": "light"
          }
        }
      ]
    },
    {
      "cell_type": "markdown",
      "metadata": {
        "id": "7krxylG3xKOa"
      },
      "source": [
        "### **6. Using all the parameters, but plotting multiple Series**"
      ]
    },
    {
      "cell_type": "code",
      "metadata": {
        "colab": {
          "base_uri": "https://localhost:8080/",
          "height": 530
        },
        "id": "7Zo4uTSvxLyR",
        "outputId": "113bd097-e3fd-4529-ed56-3f830b471ebc"
      },
      "source": [
        "df.plot(kind='hist',\n",
        "        alpha=0.7,\n",
        "        bins=30,\n",
        "        title='Histogram Of Test Scores',\n",
        "        rot=45,\n",
        "        grid=True,\n",
        "        figsize=(12,8),\n",
        "        fontsize=15, \n",
        "        color=['#A0E8AF', '#FFCF56'])\n",
        "\n",
        "plt.xlabel('Test Score')\n",
        "plt.ylabel(\"Number Of Students\");"
      ],
      "execution_count": null,
      "outputs": [
        {
          "output_type": "display_data",
          "data": {
            "image/png": "[encoded data removed]",
            "text/plain": [
              "<Figure size 864x576 with 1 Axes>"
            ]
          },
          "metadata": {
            "needs_background": "light"
          }
        }
      ]
    }
  ]
}