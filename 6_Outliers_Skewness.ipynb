{
  "nbformat": 4,
  "nbformat_minor": 0,
  "metadata": {
    "colab": {
      "name": "6_Outliers_Skewness.ipynb",
      "provenance": [],
      "collapsed_sections": [],
      "authorship_tag": "ABX9TyPub8B4VIc3AMJOjOGPG9Xw",
      "include_colab_link": true
    },
    "kernelspec": {
      "name": "python3",
      "display_name": "Python 3"
    },
    "language_info": {
      "name": "python"
    }
  },
  "cells": [
    {
      "cell_type": "markdown",
      "metadata": {
        "id": "view-in-github",
        "colab_type": "text"
      },
      "source": [
        "<a href=\"https://colab.research.google.com/github/sureshmecad/Google-Colab/blob/master/6_Outliers_Skewness.ipynb\" target=\"_parent\"><img src=\"https://colab.research.google.com/assets/colab-badge.svg\" alt=\"Open In Colab\"/></a>"
      ]
    },
    {
      "cell_type": "markdown",
      "metadata": {
        "id": "yre_IhCwggg0"
      },
      "source": [
        "#### **Identifying Outliers with Skewness**"
      ]
    },
    {
      "cell_type": "markdown",
      "metadata": {
        "id": "eFU5nAdUgmzL"
      },
      "source": [
        "- Several machine learning algorithms make the assumption that the data follow a normal (or Gaussian) distribution. This is easy to check with the skewness value, which explains the extent to which the data is normally distributed. Ideally, the **skewness value should be between -1 and +1**, and any major deviation from this range indicates the presence of extreme values.\n",
        "\n",
        "- The first line of code below prints the skewness value for the 'Income' variable, while the second line prints the summary statistics."
      ]
    },
    {
      "cell_type": "code",
      "metadata": {
        "id": "VyXn3bXugZbv"
      },
      "source": [
        "print(df['Income'].skew())\n",
        "df['Income'].describe()"
      ],
      "execution_count": null,
      "outputs": []
    },
    {
      "cell_type": "code",
      "metadata": {
        "id": "XsCwV5nhgxAL"
      },
      "source": [
        "6.499\n",
        "\n",
        "    count       600.000000\n",
        "    mean       7210.720000\n",
        "    std        8224.445086\n",
        "    min         200.000000\n",
        "    25%        3832.500000\n",
        "    50%        5075.000000\n",
        "    75%        7641.500000\n",
        "    max      108000.000000\n",
        "    Name: Income, dtype: float64"
      ],
      "execution_count": null,
      "outputs": []
    },
    {
      "cell_type": "markdown",
      "metadata": {
        "id": "EWgEDk12gzYj"
      },
      "source": [
        "- The **skewness** value of **6.5** shows that the variable **'Income'** has a **right-skewed distribution**, indicating the presence of extreme higher values. The **maximum 'Income'** value of **USD 108,000** proves this point."
      ]
    }
  ]
}