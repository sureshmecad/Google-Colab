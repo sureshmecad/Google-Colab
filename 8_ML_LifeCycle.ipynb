{
  "nbformat": 4,
  "nbformat_minor": 0,
  "metadata": {
    "colab": {
      "name": "8_ML_LifeCycle.ipynb",
      "provenance": [],
      "authorship_tag": "ABX9TyOdWAyapkZPZwwWNC5bnmpY",
      "include_colab_link": true
    },
    "kernelspec": {
      "name": "python3",
      "display_name": "Python 3"
    }
  },
  "cells": [
    {
      "cell_type": "markdown",
      "metadata": {
        "id": "view-in-github",
        "colab_type": "text"
      },
      "source": [
        "<a href=\"https://colab.research.google.com/github/sureshmecad/Google-Colab/blob/master/8_ML_LifeCycle.ipynb\" target=\"_parent\"><img src=\"https://colab.research.google.com/assets/colab-badge.svg\" alt=\"Open In Colab\"/></a>"
      ]
    },
    {
      "cell_type": "markdown",
      "metadata": {
        "id": "DzhOAgtjYJiD"
      },
      "source": [
        "https://tribe.datamites.com/posts/general-life-cycle-for-capstone-and-client-projects"
      ]
    },
    {
      "cell_type": "markdown",
      "metadata": {
        "id": "CBTbW0aqZs7c"
      },
      "source": [
        "### General Life Cycle For Capstone and Client Projects"
      ]
    },
    {
      "cell_type": "markdown",
      "metadata": {
        "id": "iMc-P_7hZsv-"
      },
      "source": [
        "**Step 1:-**  Identify the business case and categorize the type of problem to solve. i.e Regression,Classification,Time Series Analysis.\r\n",
        "\r\n",
        "**Step 2 :-** Data Collection\r\n",
        "\r\n",
        "**Step 3 :-** Identify the independent and dependent variable.\r\n",
        "\r\n",
        "**Step 4 :-** Get the insights from data and find out which variables are impacting the target variable with the help of domain knowledge.(EDA)\r\n",
        "\r\n",
        "**Step 5 :-** Data Preprocessing as required by dataset\r\n",
        "\r\n",
        " - Remove unwanted columns like ids,columns with most of the values missing.\r\n",
        "\r\n",
        "- Impute missing values\r\n",
        "\r\n",
        "- Check for outliers\r\n",
        "\r\n",
        "- Convert categorical to numerical\r\n",
        "\r\n",
        "- Feature scaling\r\n",
        "\r\n",
        "- Handle imbalance dataset\r\n",
        "\r\n",
        "- Format  the data\r\n",
        "\r\n",
        "- Clean the data\r\n",
        "\r\n",
        "**Step 6 :-** Feature Selection (few suggestions for the same)\r\n",
        "\r\n",
        "- Pearson Correlation\r\n",
        "\r\n",
        "- ExtraTree Classifier\r\n",
        "\r\n",
        "- HeatMap etc\r\n",
        "\r\n",
        "**Step 7 :-** Model Selection and Building\r\n",
        "\r\n",
        " - Selecting a model for the  problem you are solving is a crucial step.There are 2 ways to handle the model selection,\r\n",
        "\r\n",
        " - Test all possible algorithms on your data to see which works best for you. There are both pros and cons to this approach. The pros would be that you would definitely know that one algorithm or a set of algorithms are better choices for your problem statement. The approach is computationally costly when you have huge datasets.\r\n",
        "\r\n",
        " - Another approach is to try and understand what the algorithm does before deciding if it is a good fit for your problem or not. Do not be afraid to go into the basics of the algorithm itself. The more you understand how the algorithm works and its limitations, the better your chances are of identifying whether it is a good choice for your problem or not.\r\n",
        "\r\n",
        " - Once you have narrowed down your algorithms, the next step is to build the model and train it on your data.\r\n",
        "\r\n",
        "**Step 8:-** Hyperparameter tuning\r\n",
        "\r\n",
        " - Hyperparameter tuning is a process to set values to parameters of models, which model cannot set by itself. So manually we need to tune them. Hyperparameter optimizes the performance of the model.\r\n",
        "\r\n",
        " - There are 2 approaches which are widely used to tune hyperparameters,based on type of problem you can go for below methods\r\n",
        "\r\n",
        "  - GridSearchCV\r\n",
        "\r\n",
        "  - RandomizedSerchCV\r\n",
        "\r\n",
        "**Step 9:-** Model Evaluation\r\n",
        "\r\n",
        " - Choose a good evaluation metric pertinent to your problem. Many people go with accuracy in tasks such as classification, regression, etc merely because it is the easiest metric to understand but it might not be the case always.\r\n",
        "  \r\n",
        " - Here are some possible scores for binary class classification problems.\r\n",
        "\r\n",
        "  1. Confusion matrix\r\n",
        "\r\n",
        "  2. Accuracy\r\n",
        "\r\n",
        "  3. Precision\r\n",
        "\r\n",
        "  4. Recall\r\n",
        "\r\n",
        "  5. Specificity\r\n",
        "\r\n",
        "  6. F1 score\r\n",
        "\r\n",
        "  7. Precision-Recall or PR curve\r\n",
        "\r\n",
        "  8. ROC (Receiver Operating Characteristics) curve\r\n",
        "\r\n",
        "  9. PR vs ROC curve.\r\n",
        "\r\n",
        "\r\n",
        " - For regression problems we can look at\r\n",
        "\r\n",
        "  1. Log Loss\r\n",
        "\r\n",
        "  2. RMSE\r\n",
        "\r\n",
        "  3. R Squared/Adjusted R squared\r\n",
        "\r\n",
        "This article will give you how to start capstone projects. You are not bound to use the method mentioned in the article always. We expect to you explore and apply on the your datasets."
      ]
    },
    {
      "cell_type": "code",
      "metadata": {
        "id": "5F6C5rCvXxNK"
      },
      "source": [
        ""
      ],
      "execution_count": null,
      "outputs": []
    }
  ]
}