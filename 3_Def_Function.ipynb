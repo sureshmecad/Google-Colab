{
  "nbformat": 4,
  "nbformat_minor": 0,
  "metadata": {
    "colab": {
      "name": "3. Def_Function.ipynb",
      "provenance": [],
      "authorship_tag": "ABX9TyOx0T/gDf/07aDSexUDeV7x",
      "include_colab_link": true
    },
    "kernelspec": {
      "name": "python3",
      "display_name": "Python 3"
    }
  },
  "cells": [
    {
      "cell_type": "markdown",
      "metadata": {
        "id": "view-in-github",
        "colab_type": "text"
      },
      "source": [
        "<a href=\"https://colab.research.google.com/github/sureshmecad/Google-Colab/blob/master/3_Def_Function.ipynb\" target=\"_parent\"><img src=\"https://colab.research.google.com/assets/colab-badge.svg\" alt=\"Open In Colab\"/></a>"
      ]
    },
    {
      "cell_type": "markdown",
      "metadata": {
        "id": "vTZqXGUtfH6e"
      },
      "source": [
        "https://www.learnbyexample.org/python-functions/"
      ]
    },
    {
      "cell_type": "markdown",
      "metadata": {
        "id": "cXmtrBTOfbkw"
      },
      "source": [
        "- Functions are the first step to code reuse. They allow you to define a reusable block of code that can be used repeatedly in a program.\n",
        "\n",
        "- Python provides several built-in functions such as print(), len() or type(), but you can also define your own functions to use within your programs."
      ]
    },
    {
      "cell_type": "markdown",
      "metadata": {
        "id": "8OQNgZDzg901"
      },
      "source": [
        "Syntax"
      ]
    },
    {
      "cell_type": "markdown",
      "metadata": {
        "id": "EyhLe2VnhPJi"
      },
      "source": [
        "### Create a Function\n",
        "- To define a Python function, use **def** keyword. Here’s the simplest possible function that prints ‘Hello, World!’ on the screen."
      ]
    },
    {
      "cell_type": "code",
      "metadata": {
        "id": "VZab4wkEhXqU"
      },
      "source": [
        "def hello():\n",
        "    print('Hello, World!')"
      ],
      "execution_count": 1,
      "outputs": []
    },
    {
      "cell_type": "markdown",
      "metadata": {
        "id": "S22vUIsUhi5z"
      },
      "source": [
        "### Call a Function\n",
        "- The **def** statement only creates a function but does not call it. After the **def** has run, you can can call (run) the function by adding parentheses after the function’s name."
      ]
    },
    {
      "cell_type": "code",
      "metadata": {
        "id": "yye8ycObhXuU",
        "outputId": "825cf95a-f38b-4858-9502-fa391e1e720d",
        "colab": {
          "base_uri": "https://localhost:8080/",
          "height": 34
        }
      },
      "source": [
        "def hello():\n",
        "    print('Hello, World!')\n",
        "  \n",
        "hello()"
      ],
      "execution_count": 2,
      "outputs": [
        {
          "output_type": "stream",
          "text": [
            "Hello, World!\n"
          ],
          "name": "stdout"
        }
      ]
    },
    {
      "cell_type": "markdown",
      "metadata": {
        "id": "_xAfWeyjilIL"
      },
      "source": [
        "### Pass Arguments\n",
        "- You can send information to a function by passing values, known as **arguments.** Arguments are declared after the function name in parentheses.\n",
        "\n",
        "- When you call a function with arguments, the values of those arguments are copied to their corresponding parameters inside the function."
      ]
    },
    {
      "cell_type": "code",
      "metadata": {
        "id": "w09mEXpnhXy0",
        "outputId": "af8d60db-7f38-423e-d12a-314802a5b609",
        "colab": {
          "base_uri": "https://localhost:8080/",
          "height": 51
        }
      },
      "source": [
        "# Pass single argument to a function\n",
        "\n",
        "def hello(name):\n",
        "    print('Hello,', name)\n",
        "\n",
        "hello('Bob')\n",
        "# Prints Hello, Bob\n",
        "hello('Sam')\n",
        "# Prints Hello, Sam"
      ],
      "execution_count": 3,
      "outputs": [
        {
          "output_type": "stream",
          "text": [
            "Hello, Bob\n",
            "Hello, Sam\n"
          ],
          "name": "stdout"
        }
      ]
    },
    {
      "cell_type": "code",
      "metadata": {
        "id": "A6lnWILTi_E0",
        "outputId": "817ce9a0-7a15-47d5-f27e-a63ffc547679",
        "colab": {
          "base_uri": "https://localhost:8080/",
          "height": 34
        }
      },
      "source": [
        "# You can send as many arguments as you like, separated by commas ,\n",
        "\n",
        "# Pass two arguments\n",
        "def func(name, job):\n",
        "    print(name, 'is a', job)\n",
        "\n",
        "func('Bob', 'developer')"
      ],
      "execution_count": 5,
      "outputs": [
        {
          "output_type": "stream",
          "text": [
            "Bob is a developer\n"
          ],
          "name": "stdout"
        }
      ]
    },
    {
      "cell_type": "markdown",
      "metadata": {
        "id": "zGDTTe05h76L"
      },
      "source": [
        "-------------------------------"
      ]
    },
    {
      "cell_type": "markdown",
      "metadata": {
        "id": "38fBEnVeu6Bz"
      },
      "source": [
        "\n",
        "- **Types of Arguments**\n",
        "Python handles function arguments in a very flexible manner, compared to other languages. It supports multiple types of arguments in the function definition. Here’s the list:\n",
        "\n",
        "  1. Positional Arguments\n",
        "  2. Keyword Arguments\n",
        "  3. Default Arguments\n",
        "  4. Variable Length Positional Arguments (*args)\n",
        "  5. Variable Length Keyword Arguments (**kwargs)"
      ]
    },
    {
      "cell_type": "code",
      "metadata": {
        "id": "K2HI9JbHlVxc"
      },
      "source": [
        "import numpy as np\n",
        "import pandas as pd"
      ],
      "execution_count": null,
      "outputs": []
    },
    {
      "cell_type": "code",
      "metadata": {
        "id": "V4I_be89oPof",
        "outputId": "af1c7742-8817-47e4-d29e-9df737716719",
        "colab": {
          "base_uri": "https://localhost:8080/",
          "height": 51
        }
      },
      "source": [
        "def greet():\n",
        "  print(\"Hello\")\n",
        "  print(\"Good Morning\")\n",
        "\n",
        "greet()"
      ],
      "execution_count": null,
      "outputs": [
        {
          "output_type": "stream",
          "text": [
            "Hello\n",
            "Good Morning\n"
          ],
          "name": "stdout"
        }
      ]
    },
    {
      "cell_type": "markdown",
      "metadata": {
        "id": "rTHge9zYE6bl"
      },
      "source": [
        "---------------"
      ]
    },
    {
      "cell_type": "code",
      "metadata": {
        "id": "VW_i9ENSr4O5",
        "outputId": "031a126f-66c7-45f8-a387-65dba9959315",
        "colab": {
          "base_uri": "https://localhost:8080/",
          "height": 34
        }
      },
      "source": [
        "def add(x,y):\n",
        "  c = x+y\n",
        "  print(c)\n",
        "\n",
        "add(5,4)"
      ],
      "execution_count": null,
      "outputs": [
        {
          "output_type": "stream",
          "text": [
            "9\n"
          ],
          "name": "stdout"
        }
      ]
    },
    {
      "cell_type": "code",
      "metadata": {
        "id": "Z7ieRG0KsW5R",
        "outputId": "0fed24d7-36f3-48ac-e96b-8a3efa24ad6b",
        "colab": {
          "base_uri": "https://localhost:8080/",
          "height": 34
        }
      },
      "source": [
        "add(15,5)"
      ],
      "execution_count": null,
      "outputs": [
        {
          "output_type": "stream",
          "text": [
            "20\n"
          ],
          "name": "stdout"
        }
      ]
    },
    {
      "cell_type": "code",
      "metadata": {
        "id": "Gl2zidjhE9yo",
        "outputId": "d12015d6-6238-4b79-9bf7-ab8e65242f71",
        "colab": {
          "base_uri": "https://localhost:8080/",
          "height": 34
        }
      },
      "source": [
        "def Add(num1, num2):\n",
        "  print(num1 + num2)\n",
        "\n",
        "Add(5, 5)"
      ],
      "execution_count": null,
      "outputs": [
        {
          "output_type": "stream",
          "text": [
            "10\n"
          ],
          "name": "stdout"
        }
      ]
    },
    {
      "cell_type": "code",
      "metadata": {
        "id": "a_04JXE3F_W7",
        "outputId": "3839b392-7ea8-497c-a0ce-b0eb38147186",
        "colab": {
          "base_uri": "https://localhost:8080/",
          "height": 34
        }
      },
      "source": [
        "def returnAdd(num1, num2):\n",
        "  return(num1 + num2)\n",
        "\n",
        "sum = returnAdd(15, 5)\n",
        "\n",
        "print(sum)"
      ],
      "execution_count": null,
      "outputs": [
        {
          "output_type": "stream",
          "text": [
            "20\n"
          ],
          "name": "stdout"
        }
      ]
    },
    {
      "cell_type": "markdown",
      "metadata": {
        "id": "drQ8NXPeE0rK"
      },
      "source": [
        "---------------"
      ]
    },
    {
      "cell_type": "code",
      "metadata": {
        "id": "c6jJk7LxtqKs",
        "outputId": "88fbfbbf-ac5d-4a0b-f4f3-96bd0ed25776",
        "colab": {
          "base_uri": "https://localhost:8080/",
          "height": 34
        }
      },
      "source": [
        "def add(x,y):\n",
        "  c = x+y\n",
        "  return c\n",
        "\n",
        "result = add(5,4)\n",
        "print(result)"
      ],
      "execution_count": null,
      "outputs": [
        {
          "output_type": "stream",
          "text": [
            "9\n"
          ],
          "name": "stdout"
        }
      ]
    },
    {
      "cell_type": "code",
      "metadata": {
        "id": "3k2oL1tgtqOC",
        "outputId": "80bf4f21-8b9b-492b-c344-8b52fcfbb954",
        "colab": {
          "base_uri": "https://localhost:8080/",
          "height": 34
        }
      },
      "source": [
        "def add_sub(x,y):\n",
        "  c = x+y\n",
        "  d = x-y\n",
        "  return c,d\n",
        "\n",
        "result1, result2 = add_sub(5,4)\n",
        "print(result1, result2)"
      ],
      "execution_count": null,
      "outputs": [
        {
          "output_type": "stream",
          "text": [
            "9 1\n"
          ],
          "name": "stdout"
        }
      ]
    },
    {
      "cell_type": "code",
      "metadata": {
        "id": "fMr3FIrK7176",
        "outputId": "ab41de58-d7b5-4b9c-e4d2-5aaf64481ce9",
        "colab": {
          "base_uri": "https://localhost:8080/",
          "height": 51
        }
      },
      "source": [
        "def example():\n",
        "  print(\"basic function\")\n",
        "  z = 3+9\n",
        "  print(z)\n",
        "\n",
        "example()"
      ],
      "execution_count": null,
      "outputs": [
        {
          "output_type": "stream",
          "text": [
            "basic function\n",
            "12\n"
          ],
          "name": "stdout"
        }
      ]
    },
    {
      "cell_type": "markdown",
      "metadata": {
        "id": "pUYqdPPloyg3"
      },
      "source": [
        "---------------------------------------------"
      ]
    },
    {
      "cell_type": "code",
      "metadata": {
        "id": "dOG7oKDYNwA7"
      },
      "source": [
        "def add(x, y=5):\n",
        "  return x + y"
      ],
      "execution_count": null,
      "outputs": []
    },
    {
      "cell_type": "code",
      "metadata": {
        "id": "5720oHbeOBRt",
        "outputId": "2ba5b0ca-f67c-42e2-d9d1-01425b2bd8ff",
        "colab": {
          "base_uri": "https://localhost:8080/",
          "height": 34
        }
      },
      "source": [
        "add(4)"
      ],
      "execution_count": null,
      "outputs": [
        {
          "output_type": "execute_result",
          "data": {
            "text/plain": [
              "9"
            ]
          },
          "metadata": {
            "tags": []
          },
          "execution_count": 2
        }
      ]
    },
    {
      "cell_type": "code",
      "metadata": {
        "id": "54BoOcM8OBVU",
        "outputId": "33707b4e-c367-4d7d-ffdf-ad3c282ebb0e",
        "colab": {
          "base_uri": "https://localhost:8080/",
          "height": 34
        }
      },
      "source": [
        "add(8,3)"
      ],
      "execution_count": null,
      "outputs": [
        {
          "output_type": "execute_result",
          "data": {
            "text/plain": [
              "11"
            ]
          },
          "metadata": {
            "tags": []
          },
          "execution_count": 3
        }
      ]
    },
    {
      "cell_type": "markdown",
      "metadata": {
        "id": "RXGbzzm1OFyA"
      },
      "source": [
        "------------"
      ]
    },
    {
      "cell_type": "markdown",
      "metadata": {
        "id": "HG_FPkkLTb1f"
      },
      "source": [
        "## Number of Arguments"
      ]
    },
    {
      "cell_type": "code",
      "metadata": {
        "id": "iISLicKE1Z4D",
        "outputId": "683ac0d9-9d65-4919-96a6-554a389fddea",
        "colab": {
          "base_uri": "https://localhost:8080/",
          "height": 34
        }
      },
      "source": [
        "def my_function():\n",
        "  print(\"Hello from a function\")\n",
        "\n",
        "my_function() "
      ],
      "execution_count": null,
      "outputs": [
        {
          "output_type": "stream",
          "text": [
            "Hello from a function\n"
          ],
          "name": "stdout"
        }
      ]
    },
    {
      "cell_type": "code",
      "metadata": {
        "id": "l3lTwnQe2ivk",
        "outputId": "630703be-de2c-4195-9cec-e1c42b6dab22",
        "colab": {
          "base_uri": "https://localhost:8080/",
          "height": 68
        }
      },
      "source": [
        "def my_function(fname):\n",
        "  print(fname + \" Anuganti\")\n",
        "\n",
        "my_function(\"Suresh\")\n",
        "my_function(\"Saanvi\")\n",
        "my_function(\"Tanvee\")"
      ],
      "execution_count": null,
      "outputs": [
        {
          "output_type": "stream",
          "text": [
            "Suresh Anuganti\n",
            "Saanvi Anuganti\n",
            "Tanvee Anuganti\n"
          ],
          "name": "stdout"
        }
      ]
    },
    {
      "cell_type": "code",
      "metadata": {
        "id": "jZrTTm-c3Yu_",
        "outputId": "bc1dc81b-b3b6-4419-828c-193e8bde4547",
        "colab": {
          "base_uri": "https://localhost:8080/",
          "height": 85
        }
      },
      "source": [
        "def my_function(Country = \"Norway\"):\n",
        "  print(\"I am from \" + Country)\n",
        "\n",
        "my_function(\"Sweden\")\n",
        "my_function(\"India\")\n",
        "my_function()\n",
        "my_function(\"Brazil\")"
      ],
      "execution_count": null,
      "outputs": [
        {
          "output_type": "stream",
          "text": [
            "I am from Sweden\n",
            "I am from India\n",
            "I am from Norway\n",
            "I am from Brazil\n"
          ],
          "name": "stdout"
        }
      ]
    },
    {
      "cell_type": "markdown",
      "metadata": {
        "id": "NdHWyyZ6VTFE"
      },
      "source": [
        "- This function **expects 2 arguments**, and **gets 2 arguments**"
      ]
    },
    {
      "cell_type": "code",
      "metadata": {
        "id": "nrfwIv6XT5vk",
        "outputId": "9b830103-d822-4ac9-ee71-6c4eea561c62",
        "colab": {
          "base_uri": "https://localhost:8080/",
          "height": 34
        }
      },
      "source": [
        "def my_function(fname, lname):\n",
        "  print(fname + \" \" + lname)\n",
        "\n",
        "my_function(\"Suresh\", \"Anuganti\")"
      ],
      "execution_count": null,
      "outputs": [
        {
          "output_type": "stream",
          "text": [
            "Suresh Anuganti\n"
          ],
          "name": "stdout"
        }
      ]
    },
    {
      "cell_type": "markdown",
      "metadata": {
        "id": "U7dzAxW_Vm-y"
      },
      "source": [
        "- If you try to call the function with **1 or 3 arguments**, you will get an **error**:\n",
        "- This function **expects 2 arguments**, but **gets only 1**:"
      ]
    },
    {
      "cell_type": "code",
      "metadata": {
        "id": "peedXE5ZU86m",
        "outputId": "9a5a3ae2-7cef-4ef2-d4e7-39b22c30e156",
        "colab": {
          "base_uri": "https://localhost:8080/",
          "height": 197
        }
      },
      "source": [
        "def my_function(fname, lname):\n",
        "  print(fname + \" \" + lname)\n",
        "\n",
        "my_function(\"Suresh\")"
      ],
      "execution_count": null,
      "outputs": [
        {
          "output_type": "error",
          "ename": "TypeError",
          "evalue": "ignored",
          "traceback": [
            "\u001b[0;31m---------------------------------------------------------------------------\u001b[0m",
            "\u001b[0;31mTypeError\u001b[0m                                 Traceback (most recent call last)",
            "\u001b[0;32m<ipython-input-6-35a7e831c811>\u001b[0m in \u001b[0;36m<module>\u001b[0;34m()\u001b[0m\n\u001b[1;32m      4\u001b[0m   \u001b[0mprint\u001b[0m\u001b[0;34m(\u001b[0m\u001b[0mfname\u001b[0m \u001b[0;34m+\u001b[0m \u001b[0;34m\" \"\u001b[0m \u001b[0;34m+\u001b[0m \u001b[0mlname\u001b[0m\u001b[0;34m)\u001b[0m\u001b[0;34m\u001b[0m\u001b[0;34m\u001b[0m\u001b[0m\n\u001b[1;32m      5\u001b[0m \u001b[0;34m\u001b[0m\u001b[0m\n\u001b[0;32m----> 6\u001b[0;31m \u001b[0mmy_function\u001b[0m\u001b[0;34m(\u001b[0m\u001b[0;34m\"Suresh\"\u001b[0m\u001b[0;34m)\u001b[0m\u001b[0;34m\u001b[0m\u001b[0;34m\u001b[0m\u001b[0m\n\u001b[0m",
            "\u001b[0;31mTypeError\u001b[0m: my_function() missing 1 required positional argument: 'lname'"
          ]
        }
      ]
    },
    {
      "cell_type": "markdown",
      "metadata": {
        "id": "ETEG4pe41adx"
      },
      "source": [
        "--------------------------------------"
      ]
    },
    {
      "cell_type": "markdown",
      "metadata": {
        "id": "yyyGAAPQEh7q"
      },
      "source": [
        "## 1. Positional Arguments"
      ]
    },
    {
      "cell_type": "markdown",
      "metadata": {
        "id": "0Ck-4LbDErGx"
      },
      "source": [
        "- The most common are positional arguments, whose values are copied to their corresponding parameters in order."
      ]
    },
    {
      "cell_type": "code",
      "metadata": {
        "id": "oV04PQLvEkOR",
        "outputId": "28812949-8b6c-4db3-fbdb-a884a5744149",
        "colab": {
          "base_uri": "https://localhost:8080/",
          "height": 34
        }
      },
      "source": [
        "def func(name, job):\n",
        "    print(name, 'is a', job)\n",
        "\n",
        "func('Bob', 'developer')"
      ],
      "execution_count": null,
      "outputs": [
        {
          "output_type": "stream",
          "text": [
            "Bob is a developer\n"
          ],
          "name": "stdout"
        }
      ]
    },
    {
      "cell_type": "markdown",
      "metadata": {
        "id": "--8dhTCQEzyJ"
      },
      "source": [
        "- The only downside of positional arguments is that you need to **pass arguments in the order in which they are defined**."
      ]
    },
    {
      "cell_type": "code",
      "metadata": {
        "id": "HaE0IhKuEzNC",
        "outputId": "d93f475e-3dc8-47d6-f06c-b7bad1162cbe",
        "colab": {
          "base_uri": "https://localhost:8080/",
          "height": 34
        }
      },
      "source": [
        "def func(name, job):\n",
        "    print(name, 'is a', job)\n",
        "\n",
        "func('developer', 'Bob')"
      ],
      "execution_count": null,
      "outputs": [
        {
          "output_type": "stream",
          "text": [
            "developer is a Bob\n"
          ],
          "name": "stdout"
        }
      ]
    },
    {
      "cell_type": "markdown",
      "metadata": {
        "id": "Mg4-tWd1GsuP"
      },
      "source": [
        "---------------------------------------------------"
      ]
    },
    {
      "cell_type": "markdown",
      "metadata": {
        "id": "BJmBVhw4XlN0"
      },
      "source": [
        "## 2. Keyword Arguments"
      ]
    },
    {
      "cell_type": "markdown",
      "metadata": {
        "id": "w2brZBEtjpmk"
      },
      "source": [
        "- To avoid positional argument confusion, you can pass arguments using the names of their corresponding parameters.\n",
        "\n",
        "- In this case, the order of the arguments no longer matters because arguments are matched by name, not by position."
      ]
    },
    {
      "cell_type": "code",
      "metadata": {
        "id": "VACqpOSkj2cF",
        "outputId": "7fb3b082-59a5-44f6-b318-c96fe4ee5435",
        "colab": {
          "base_uri": "https://localhost:8080/",
          "height": 51
        }
      },
      "source": [
        "# Keyword arguments can be put in any order\n",
        "def func(name, job):\n",
        "    print(name, 'is a', job)\n",
        "\n",
        "func(name='Bob', job='developer')\n",
        "# Prints Bob is a developer\n",
        "\n",
        "func(job='developer', name='Bob')\n",
        "# Prints Bob is a developer"
      ],
      "execution_count": 6,
      "outputs": [
        {
          "output_type": "stream",
          "text": [
            "Bob is a developer\n",
            "Bob is a developer\n"
          ],
          "name": "stdout"
        }
      ]
    },
    {
      "cell_type": "markdown",
      "metadata": {
        "id": "KGFNHqHaj40q"
      },
      "source": [
        "- It is possible to combine positional and keyword arguments in a single call. If you do so, specify the positional arguments before keyword arguments."
      ]
    },
    {
      "cell_type": "code",
      "metadata": {
        "id": "WNAJ_gTQXbHg",
        "outputId": "5ecbeb7d-a232-410d-da3c-9764b285d0b2",
        "colab": {
          "base_uri": "https://localhost:8080/",
          "height": 34
        }
      },
      "source": [
        "def my_function(child3, child2, child1):\n",
        "  print(\"The youngest child is \" + child3)\n",
        "\n",
        "my_function(child1 = \"Emil\", child2 = \"Tobias\", child3 = \"Linus\")\n"
      ],
      "execution_count": null,
      "outputs": [
        {
          "output_type": "stream",
          "text": [
            "The youngest child is Linus\n"
          ],
          "name": "stdout"
        }
      ]
    },
    {
      "cell_type": "markdown",
      "metadata": {
        "id": "oYLu4E_GGCXa"
      },
      "source": [
        "------------------------------------------------"
      ]
    },
    {
      "cell_type": "markdown",
      "metadata": {
        "id": "VWS-IrOgGF3j"
      },
      "source": [
        "## 3. Default Arguments"
      ]
    },
    {
      "cell_type": "markdown",
      "metadata": {
        "id": "-oF6J_vPGRub"
      },
      "source": [
        "- You can specify default values for arguments when defining a function. The default value is used if the function is called without a corresponding argument.\n",
        "\n",
        "- In short, defaults allow you to make selected arguments optional."
      ]
    },
    {
      "cell_type": "code",
      "metadata": {
        "id": "Ywhp3qIbGGyV",
        "outputId": "da6ea18f-fe25-49e1-be20-efa2e363fffc",
        "colab": {
          "base_uri": "https://localhost:8080/",
          "height": 51
        }
      },
      "source": [
        "# Set default value 'developer' to a 'job' parameter\n",
        "def func(name, job='developer'):\n",
        "    print(name, 'is a', job)\n",
        "\n",
        "func('Bob', 'manager')\n",
        "# Prints Bob is a manager\n",
        "\n",
        "func('Bob')\n",
        "# Prints Bob is a developer"
      ],
      "execution_count": null,
      "outputs": [
        {
          "output_type": "stream",
          "text": [
            "Bob is a manager\n",
            "Bob is a developer\n"
          ],
          "name": "stdout"
        }
      ]
    },
    {
      "cell_type": "markdown",
      "metadata": {
        "id": "g071WOpwGHZz"
      },
      "source": [
        "--------------------------------------"
      ]
    },
    {
      "cell_type": "markdown",
      "metadata": {
        "id": "bz38op3AWfWv"
      },
      "source": [
        "## 4. Variable Length Positional Arguments (*args);  Arbitrary Arguments"
      ]
    },
    {
      "cell_type": "markdown",
      "metadata": {
        "id": "2U1L6a0vWmK9"
      },
      "source": [
        "- Variable length arguments are useful when you want to create functions that take unlimited number of arguments. Unlimited in the sense that you do not know beforehand how many arguments can be passed to your function by the user.\n",
        "\n",
        "- This feature is often referred to as var-args.\n",
        "\n",
        "- If you do not know **how many arguments** that will be passed into your function, add a *** before the parameter name** in the function definition.\n",
        "\n",
        "- This way the function will receive a **tuple** of arguments, and can access the items accordingly:"
      ]
    },
    {
      "cell_type": "markdown",
      "metadata": {
        "id": "HP9HFsa7kldU"
      },
      "source": [
        "### *args\n",
        "- When you prefix a parameter with an asterisk * , it collects all the unmatched positional arguments into a tuple. Because it is a normal tuple object, you can perform any operation that a tuple supports, like indexing, iteration etc.\n",
        "\n",
        "- Following function prints all the arguments passed to the function as a tuple."
      ]
    },
    {
      "cell_type": "code",
      "metadata": {
        "id": "mVeAI2AAks9t",
        "outputId": "36479668-a65a-4c56-bc02-355953a58b7d",
        "colab": {
          "base_uri": "https://localhost:8080/",
          "height": 34
        }
      },
      "source": [
        "# You don’t need to call this keyword parameter args, but it is standard practice.\n",
        "\n",
        "def print_arguments(*args):\n",
        "    print(args)\n",
        "\n",
        "print_arguments(1, 54, 60, 8, 98, 12)"
      ],
      "execution_count": 8,
      "outputs": [
        {
          "output_type": "stream",
          "text": [
            "(1, 54, 60, 8, 98, 12)\n"
          ],
          "name": "stdout"
        }
      ]
    },
    {
      "cell_type": "code",
      "metadata": {
        "id": "pK8GppD4WcYX",
        "outputId": "bb0c7ebf-f6ed-455e-9a1e-d48a0471ea7e",
        "colab": {
          "base_uri": "https://localhost:8080/",
          "height": 34
        }
      },
      "source": [
        "def my_function(*kids):\n",
        "  print(\"The youngest child is \" + kids[2])\n",
        "\n",
        "my_function(\"Emil\", \"Tobias\", \"Linus\")"
      ],
      "execution_count": null,
      "outputs": [
        {
          "output_type": "stream",
          "text": [
            "The youngest child is Linus\n"
          ],
          "name": "stdout"
        }
      ]
    },
    {
      "cell_type": "markdown",
      "metadata": {
        "id": "BihO-H9UF_0E"
      },
      "source": [
        "------------------------------------------"
      ]
    },
    {
      "cell_type": "markdown",
      "metadata": {
        "id": "NwyDBB_zXoff"
      },
      "source": [
        "## 5. Variable Length Keyword Arguments (**kwargs); Arbitrary Keyword Arguments"
      ]
    },
    {
      "cell_type": "markdown",
      "metadata": {
        "id": "-0MnuuLpX1Kn"
      },
      "source": [
        "### **kwargs\n",
        "- The ** syntax is similar, but it only works for keyword arguments. It collects them into a new dictionary, where the argument names are the keys, and their values are the corresponding dictionary values.\n",
        "\n",
        "- If you do not know **how many keyword arguments** that will be passed into your function, add two asterisk: **** before the parameter** name in the function definition.\n",
        "\n",
        "- This way the function will receive a **dictionary** of arguments, and can access the items accordingly:"
      ]
    },
    {
      "cell_type": "code",
      "metadata": {
        "id": "lEjltyJqlDbl",
        "outputId": "3dc0eeb0-5ad1-455b-85ad-15daa9a21486",
        "colab": {
          "base_uri": "https://localhost:8080/",
          "height": 34
        }
      },
      "source": [
        "def print_arguments(**kwargs):\n",
        "    print(kwargs)\n",
        "\n",
        "print_arguments(name='Bob', age=25, job='dev')"
      ],
      "execution_count": 9,
      "outputs": [
        {
          "output_type": "stream",
          "text": [
            "{'name': 'Bob', 'age': 25, 'job': 'dev'}\n"
          ],
          "name": "stdout"
        }
      ]
    },
    {
      "cell_type": "code",
      "metadata": {
        "id": "pmMwHPErXpGH",
        "outputId": "b972a479-ed45-4a44-aaf4-a038bf463e67",
        "colab": {
          "base_uri": "https://localhost:8080/",
          "height": 34
        }
      },
      "source": [
        "def my_function(**kid):\n",
        "  print(\"His last name is \" + kid[\"lname\"])\n",
        "\n",
        "my_function(fname = \"Tobias\", lname = \"Refsnes\")"
      ],
      "execution_count": null,
      "outputs": [
        {
          "output_type": "stream",
          "text": [
            "His last name is Refsnes\n"
          ],
          "name": "stdout"
        }
      ]
    },
    {
      "cell_type": "markdown",
      "metadata": {
        "id": "8ArdR8IeWcy1"
      },
      "source": [
        "----------------"
      ]
    },
    {
      "cell_type": "markdown",
      "metadata": {
        "id": "g-2jjESP5O1i"
      },
      "source": [
        "## 6. Return\n",
        "- To return a value from a function, simply use a return statement. Once a return statement is executed, nothing else in the function body is executed."
      ]
    },
    {
      "cell_type": "code",
      "metadata": {
        "id": "LF7_QTmQlgsW",
        "outputId": "e13ecf02-46b9-4196-cef7-3dde8f1cce0a",
        "colab": {
          "base_uri": "https://localhost:8080/",
          "height": 34
        }
      },
      "source": [
        "# Return sum of two values\n",
        "def sum(a, b):\n",
        "    return a + b\n",
        "\n",
        "x = sum(3, 4)\n",
        "print(x)\n",
        "# Prints 7"
      ],
      "execution_count": 10,
      "outputs": [
        {
          "output_type": "stream",
          "text": [
            "7\n"
          ],
          "name": "stdout"
        }
      ]
    },
    {
      "cell_type": "markdown",
      "metadata": {
        "id": "grtmEnxhllT8"
      },
      "source": [
        "- Remember! a python function always returns a value. So, if you do not include any return statement, it automatically returns None."
      ]
    },
    {
      "cell_type": "code",
      "metadata": {
        "id": "_tlSAocSl0OY",
        "outputId": "3f15e601-7995-4571-d170-11464579764b",
        "colab": {
          "base_uri": "https://localhost:8080/",
          "height": 34
        }
      },
      "source": [
        "b = 30\n",
        "def fun(a, b=b):\n",
        "  return a+b\n",
        "\n",
        "print(fun(1))"
      ],
      "execution_count": null,
      "outputs": [
        {
          "output_type": "stream",
          "text": [
            "31\n"
          ],
          "name": "stdout"
        }
      ]
    },
    {
      "cell_type": "code",
      "metadata": {
        "id": "M3quB5ic4PXw",
        "outputId": "b29189a0-430d-450a-e935-eaf202451d52",
        "colab": {
          "base_uri": "https://localhost:8080/",
          "height": 68
        }
      },
      "source": [
        "# Return values\n",
        "def my_function(x):\n",
        "  return 5 * x\n",
        "\n",
        "print(my_function(3))\n",
        "print(my_function(5))\n",
        "print(my_function(9))"
      ],
      "execution_count": null,
      "outputs": [
        {
          "output_type": "stream",
          "text": [
            "15\n",
            "25\n",
            "45\n"
          ],
          "name": "stdout"
        }
      ]
    },
    {
      "cell_type": "markdown",
      "metadata": {
        "id": "BKb_hsZklqKr"
      },
      "source": [
        "### 7. Return Multiple Values\n",
        "- Python has the ability to return multiple values, something missing from many other languages. You can do this by separating return values with a comma."
      ]
    },
    {
      "cell_type": "code",
      "metadata": {
        "id": "7w3yjnklludU",
        "outputId": "c3c7d534-c9df-4c58-da86-378183d10986",
        "colab": {
          "base_uri": "https://localhost:8080/",
          "height": 34
        }
      },
      "source": [
        "# Return addition and subtraction in a tuple\n",
        "def func(a, b):\n",
        "    return a+b, a-b\n",
        "\n",
        "result = func(3, 2)\n",
        "\n",
        "print(result)"
      ],
      "execution_count": 11,
      "outputs": [
        {
          "output_type": "stream",
          "text": [
            "(5, 1)\n"
          ],
          "name": "stdout"
        }
      ]
    },
    {
      "cell_type": "markdown",
      "metadata": {
        "id": "P2jF-x1clxnS"
      },
      "source": [
        "- When you return multiple values, Python actually packs them in a single tuple and returns it. You can then use multiple assignment to unpack the parts of the returned tuple."
      ]
    },
    {
      "cell_type": "code",
      "metadata": {
        "id": "e8z3K7Zxlug1",
        "outputId": "d244d0c0-70cb-461c-9555-c697f6dcbe20",
        "colab": {
          "base_uri": "https://localhost:8080/",
          "height": 51
        }
      },
      "source": [
        "# Unpack returned tuple\n",
        "def func(a, b):\n",
        "    return a+b, a-b\n",
        "\n",
        "add, sub = func(3, 2)\n",
        "\n",
        "print(add)\n",
        "# Prints 5\n",
        "print(sub)\n",
        "# Prints 1"
      ],
      "execution_count": 12,
      "outputs": [
        {
          "output_type": "stream",
          "text": [
            "5\n",
            "1\n"
          ],
          "name": "stdout"
        }
      ]
    },
    {
      "cell_type": "markdown",
      "metadata": {
        "id": "Tb18SR7qo1W-"
      },
      "source": [
        "--------------------------------"
      ]
    },
    {
      "cell_type": "markdown",
      "metadata": {
        "id": "-vMdy8fr5Ujx"
      },
      "source": [
        "## 8. Recursion\n",
        "- A recursive function is a function that calls itself and repeats its behavior until some condition is met to return a result.\n",
        "\n",
        "- In below example, **countdown()** is a recursive function that calls itself (recurse) to countdown. If **num** is 0 or negative, it prints the word “Stop”. Otherwise, it prints **num** and then calls itself, passing **num-1** as an argument."
      ]
    },
    {
      "cell_type": "code",
      "metadata": {
        "id": "Keniuoh9nGbL",
        "outputId": "d951efc5-8bf1-4424-ae8a-67a421231639",
        "colab": {
          "base_uri": "https://localhost:8080/",
          "height": 119
        }
      },
      "source": [
        "def countdown(num):\n",
        "    if num <= 0:\n",
        "        print('Stop')\n",
        "    else:\n",
        "        print(num)\n",
        "        countdown(num-1)\n",
        "\n",
        "countdown(5)"
      ],
      "execution_count": 13,
      "outputs": [
        {
          "output_type": "stream",
          "text": [
            "5\n",
            "4\n",
            "3\n",
            "2\n",
            "1\n",
            "Stop\n"
          ],
          "name": "stdout"
        }
      ]
    },
    {
      "cell_type": "code",
      "metadata": {
        "id": "FEFqdqfzmwO3",
        "outputId": "0a909a1a-0405-46c4-a953-43cf2f5b3df2",
        "colab": {
          "base_uri": "https://localhost:8080/",
          "height": 187
        }
      },
      "source": [
        "def tri_recursion(k):\n",
        "  if(k>0):\n",
        "    result = k+tri_recursion(k-1)\n",
        "    print(result)\n",
        "  else:\n",
        "    result = 0\n",
        "  return result\n",
        "\n",
        "print(\"\\n\\nRecursion Example Results\")\n",
        "tri_recursion(6)"
      ],
      "execution_count": null,
      "outputs": [
        {
          "output_type": "stream",
          "text": [
            "\n",
            "\n",
            "Recursion Example Results\n",
            "1\n",
            "3\n",
            "6\n",
            "10\n",
            "15\n",
            "21\n"
          ],
          "name": "stdout"
        },
        {
          "output_type": "execute_result",
          "data": {
            "text/plain": [
              "21"
            ]
          },
          "metadata": {
            "tags": []
          },
          "execution_count": 21
        }
      ]
    },
    {
      "cell_type": "markdown",
      "metadata": {
        "id": "5irm837NIJXu"
      },
      "source": [
        "-------------"
      ]
    },
    {
      "cell_type": "code",
      "metadata": {
        "id": "lo0sYHrRIIlh",
        "outputId": "6eedb99a-29b6-4407-c976-e806ed307aaa",
        "colab": {
          "base_uri": "https://localhost:8080/",
          "height": 34
        }
      },
      "source": [
        "def Hello():\n",
        "  return \"Hello World\"\n",
        "\n",
        "print(Hello())"
      ],
      "execution_count": null,
      "outputs": [
        {
          "output_type": "stream",
          "text": [
            "Hello World\n"
          ],
          "name": "stdout"
        }
      ]
    },
    {
      "cell_type": "code",
      "metadata": {
        "id": "YrmDu0OcIZ5K",
        "outputId": "4329a9a4-14d1-4fdf-8e9c-32f873202b30",
        "colab": {
          "base_uri": "https://localhost:8080/",
          "height": 34
        }
      },
      "source": [
        "def Hello():\n",
        "  return \"Hello World\"\n",
        "\n",
        "print(Hello().upper())"
      ],
      "execution_count": null,
      "outputs": [
        {
          "output_type": "stream",
          "text": [
            "HELLO WORLD\n"
          ],
          "name": "stdout"
        }
      ]
    },
    {
      "cell_type": "markdown",
      "metadata": {
        "id": "bfb1pY96J7SN"
      },
      "source": [
        "-------"
      ]
    },
    {
      "cell_type": "code",
      "metadata": {
        "id": "zZH_ga8QJ8WF",
        "outputId": "eef8f5f9-c383-4532-c64d-a136256b58be",
        "colab": {
          "base_uri": "https://localhost:8080/",
          "height": 51
        }
      },
      "source": [
        "# * ---> List & ** ---> Dictionary\n",
        "def student_info(*args, **kwargs):\n",
        "  print(args)\n",
        "  print(kwargs)\n",
        "\n",
        "courses = ['Math', 'Arts']\n",
        "info = {'name': 'John', 'age': 26}\n",
        "\n",
        "student_info(courses, info)"
      ],
      "execution_count": null,
      "outputs": [
        {
          "output_type": "stream",
          "text": [
            "(['Math', 'Arts'], {'name': 'John', 'age': 26})\n",
            "{}\n"
          ],
          "name": "stdout"
        }
      ]
    },
    {
      "cell_type": "code",
      "metadata": {
        "id": "dijvjvMJLFP9",
        "outputId": "65b847f1-aaec-42f7-e318-386a94cb2076",
        "colab": {
          "base_uri": "https://localhost:8080/",
          "height": 51
        }
      },
      "source": [
        "def student_info(*args, **kwargs):\n",
        "  print(args)\n",
        "  print(kwargs)\n",
        "\n",
        "courses = ['Math', 'Arts']\n",
        "info = {'name': 'John', 'age': 26}\n",
        "\n",
        "student_info(*courses, **info)"
      ],
      "execution_count": null,
      "outputs": [
        {
          "output_type": "stream",
          "text": [
            "('Math', 'Arts')\n",
            "{'name': 'John', 'age': 26}\n"
          ],
          "name": "stdout"
        }
      ]
    },
    {
      "cell_type": "markdown",
      "metadata": {
        "id": "MCbV3ZOUN77O"
      },
      "source": [
        "-----------------"
      ]
    },
    {
      "cell_type": "code",
      "metadata": {
        "id": "qb9JPhqvLRMT",
        "outputId": "00b20127-fea9-42ed-a9a1-eed360f0f604",
        "colab": {
          "base_uri": "https://localhost:8080/",
          "height": 34
        }
      },
      "source": [
        "# Number of days per month. First value placeholder for indexing purposes\n",
        "month_days = [0, 31, 28, 31, 30, 31, 30, 31, 31, 30, 31, 30, 31]\n",
        "\n",
        "def is_leap(year):\n",
        "  return year % 4 == 0 and (year % 100 !=0 or year % 400 == 0)\n",
        "\n",
        "def days_in_month(year, month):\n",
        "  if not 1 <= month <=12:\n",
        "    return 'Invalid Month'\n",
        "\n",
        "  if month == 2 and is_leap(year):\n",
        "    return 29\n",
        "\n",
        "  return month_days[month]\n",
        "\n",
        "print(is_leap(2017))"
      ],
      "execution_count": null,
      "outputs": [
        {
          "output_type": "stream",
          "text": [
            "False\n"
          ],
          "name": "stdout"
        }
      ]
    },
    {
      "cell_type": "code",
      "metadata": {
        "id": "ClTLnMD_N-Gz",
        "outputId": "7c2cc8d8-a8ef-4ee1-9380-1a3bce6da378",
        "colab": {
          "base_uri": "https://localhost:8080/",
          "height": 34
        }
      },
      "source": [
        "# Number of days per month. First value placeholder for indexing purposes\n",
        "month_days = [0, 31, 28, 31, 30, 31, 30, 31, 31, 30, 31, 30, 31]\n",
        "\n",
        "def is_leap(year):\n",
        "  return year % 4 == 0 and (year % 100 !=0 or year % 400 == 0)\n",
        "\n",
        "def days_in_month(year, month):\n",
        "  if not 1 <= month <=12:\n",
        "    return 'Invalid Month'\n",
        "\n",
        "  if month == 2 and is_leap(year):\n",
        "    return 29\n",
        "\n",
        "  return month_days[month]\n",
        "\n",
        "print(days_in_month(2017, 2))"
      ],
      "execution_count": null,
      "outputs": [
        {
          "output_type": "stream",
          "text": [
            "28\n"
          ],
          "name": "stdout"
        }
      ]
    },
    {
      "cell_type": "markdown",
      "metadata": {
        "id": "OW1BohazOhIZ"
      },
      "source": [
        "--------------"
      ]
    },
    {
      "cell_type": "code",
      "metadata": {
        "id": "1gryfBlaOk31"
      },
      "source": [
        ""
      ],
      "execution_count": null,
      "outputs": []
    }
  ]
}