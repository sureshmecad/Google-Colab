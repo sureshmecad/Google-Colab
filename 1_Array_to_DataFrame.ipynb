{
  "nbformat": 4,
  "nbformat_minor": 0,
  "metadata": {
    "colab": {
      "name": "1_Array-to-DataFrame.ipynb",
      "provenance": [],
      "collapsed_sections": [],
      "authorship_tag": "ABX9TyNeRPkTIhprJQODexJiVKm1",
      "include_colab_link": true
    },
    "kernelspec": {
      "name": "python3",
      "display_name": "Python 3"
    },
    "language_info": {
      "name": "python"
    }
  },
  "cells": [
    {
      "cell_type": "markdown",
      "metadata": {
        "id": "view-in-github",
        "colab_type": "text"
      },
      "source": [
        "<a href=\"https://colab.research.google.com/github/sureshmecad/Google-Colab/blob/master/1_Array_to_DataFrame.ipynb\" target=\"_parent\"><img src=\"https://colab.research.google.com/assets/colab-badge.svg\" alt=\"Open In Colab\"/></a>"
      ]
    },
    {
      "cell_type": "markdown",
      "metadata": {
        "id": "xgbIJGNlGsRK"
      },
      "source": [
        "- https://machinelearningmastery.com/calculate-feature-importance-with-python/ ---> Feature importance bar Graph"
      ]
    },
    {
      "cell_type": "markdown",
      "metadata": {
        "id": "ib7ITCRpG0S4"
      },
      "source": [
        "-----------------"
      ]
    },
    {
      "cell_type": "code",
      "metadata": {
        "id": "mKUx3Vy-1z5G"
      },
      "source": [
        "import numpy as np"
      ],
      "execution_count": 16,
      "outputs": []
    },
    {
      "cell_type": "code",
      "metadata": {
        "colab": {
          "base_uri": "https://localhost:8080/",
          "height": 112
        },
        "id": "Wi5RJ50I1svW",
        "outputId": "d54059e2-956c-4b62-a59e-15a452a046f3"
      },
      "source": [
        "numpy_data = np.array([[1, 2], [3, 4]])\n",
        "\n",
        "df = pd.DataFrame(data=numpy_data, index=[\"row1\", \"row2\"], columns=[\"column1\", \"column2\"])\n",
        "df"
      ],
      "execution_count": 17,
      "outputs": [
        {
          "output_type": "execute_result",
          "data": {
            "text/html": [
              "<div>\n",
              "<style scoped>\n",
              "    .dataframe tbody tr th:only-of-type {\n",
              "        vertical-align: middle;\n",
              "    }\n",
              "\n",
              "    .dataframe tbody tr th {\n",
              "        vertical-align: top;\n",
              "    }\n",
              "\n",
              "    .dataframe thead th {\n",
              "        text-align: right;\n",
              "    }\n",
              "</style>\n",
              "<table border=\"1\" class=\"dataframe\">\n",
              "  <thead>\n",
              "    <tr style=\"text-align: right;\">\n",
              "      <th></th>\n",
              "      <th>column1</th>\n",
              "      <th>column2</th>\n",
              "    </tr>\n",
              "  </thead>\n",
              "  <tbody>\n",
              "    <tr>\n",
              "      <th>row1</th>\n",
              "      <td>1</td>\n",
              "      <td>2</td>\n",
              "    </tr>\n",
              "    <tr>\n",
              "      <th>row2</th>\n",
              "      <td>3</td>\n",
              "      <td>4</td>\n",
              "    </tr>\n",
              "  </tbody>\n",
              "</table>\n",
              "</div>"
            ],
            "text/plain": [
              "      column1  column2\n",
              "row1        1        2\n",
              "row2        3        4"
            ]
          },
          "metadata": {},
          "execution_count": 17
        }
      ]
    },
    {
      "cell_type": "markdown",
      "metadata": {
        "id": "ixVss6nQ1rV-"
      },
      "source": [
        "---------------------------"
      ]
    },
    {
      "cell_type": "code",
      "metadata": {
        "colab": {
          "base_uri": "https://localhost:8080/"
        },
        "id": "88QpWUX-uO6e",
        "outputId": "e50806c1-1552-46a8-d942-b87d341f724f"
      },
      "source": [
        "from google.colab import drive\n",
        "drive.mount(\"/content/drive\")"
      ],
      "execution_count": 1,
      "outputs": [
        {
          "output_type": "stream",
          "name": "stdout",
          "text": [
            "Mounted at /content/drive\n"
          ]
        }
      ]
    },
    {
      "cell_type": "code",
      "metadata": {
        "id": "aN6jE52luqOO"
      },
      "source": [
        "import pandas as pd"
      ],
      "execution_count": 2,
      "outputs": []
    },
    {
      "cell_type": "code",
      "metadata": {
        "colab": {
          "base_uri": "https://localhost:8080/",
          "height": 206
        },
        "id": "JL8Q_uMtutZm",
        "outputId": "b59c9fc4-0765-48a4-cb40-dd61cf428e97"
      },
      "source": [
        "train = pd.read_csv(\"/content/drive/MyDrive/TMLC/Seoul-Bike-Trip-Duration.zip\")\n",
        "train.head()"
      ],
      "execution_count": 3,
      "outputs": [
        {
          "output_type": "execute_result",
          "data": {
            "text/html": [
              "<div>\n",
              "<style scoped>\n",
              "    .dataframe tbody tr th:only-of-type {\n",
              "        vertical-align: middle;\n",
              "    }\n",
              "\n",
              "    .dataframe tbody tr th {\n",
              "        vertical-align: top;\n",
              "    }\n",
              "\n",
              "    .dataframe thead th {\n",
              "        text-align: right;\n",
              "    }\n",
              "</style>\n",
              "<table border=\"1\" class=\"dataframe\">\n",
              "  <thead>\n",
              "    <tr style=\"text-align: right;\">\n",
              "      <th></th>\n",
              "      <th>Unnamed: 0</th>\n",
              "      <th>Duration</th>\n",
              "      <th>Distance</th>\n",
              "      <th>PLong</th>\n",
              "      <th>PLatd</th>\n",
              "      <th>DLong</th>\n",
              "      <th>DLatd</th>\n",
              "      <th>Haversine</th>\n",
              "      <th>Pmonth</th>\n",
              "      <th>Pday</th>\n",
              "      <th>Phour</th>\n",
              "      <th>Pmin</th>\n",
              "      <th>PDweek</th>\n",
              "      <th>Dmonth</th>\n",
              "      <th>Dday</th>\n",
              "      <th>Dhour</th>\n",
              "      <th>Dmin</th>\n",
              "      <th>DDweek</th>\n",
              "      <th>Temp</th>\n",
              "      <th>Precip</th>\n",
              "      <th>Wind</th>\n",
              "      <th>Humid</th>\n",
              "      <th>Solar</th>\n",
              "      <th>Snow</th>\n",
              "      <th>GroundTemp</th>\n",
              "      <th>Dust</th>\n",
              "    </tr>\n",
              "  </thead>\n",
              "  <tbody>\n",
              "    <tr>\n",
              "      <th>0</th>\n",
              "      <td>0</td>\n",
              "      <td>3</td>\n",
              "      <td>50</td>\n",
              "      <td>37.544666</td>\n",
              "      <td>126.888359</td>\n",
              "      <td>37.544666</td>\n",
              "      <td>126.888359</td>\n",
              "      <td>0.000000</td>\n",
              "      <td>1</td>\n",
              "      <td>1</td>\n",
              "      <td>0</td>\n",
              "      <td>0</td>\n",
              "      <td>0</td>\n",
              "      <td>1</td>\n",
              "      <td>1</td>\n",
              "      <td>0</td>\n",
              "      <td>4</td>\n",
              "      <td>0</td>\n",
              "      <td>-3.2</td>\n",
              "      <td>0.0</td>\n",
              "      <td>0.5</td>\n",
              "      <td>40.0</td>\n",
              "      <td>0.0</td>\n",
              "      <td>0.0</td>\n",
              "      <td>-2.2</td>\n",
              "      <td>25.0</td>\n",
              "    </tr>\n",
              "    <tr>\n",
              "      <th>1</th>\n",
              "      <td>1</td>\n",
              "      <td>24</td>\n",
              "      <td>7670</td>\n",
              "      <td>37.506199</td>\n",
              "      <td>127.003944</td>\n",
              "      <td>37.551250</td>\n",
              "      <td>127.035103</td>\n",
              "      <td>5.713529</td>\n",
              "      <td>1</td>\n",
              "      <td>1</td>\n",
              "      <td>0</td>\n",
              "      <td>0</td>\n",
              "      <td>0</td>\n",
              "      <td>1</td>\n",
              "      <td>1</td>\n",
              "      <td>0</td>\n",
              "      <td>25</td>\n",
              "      <td>0</td>\n",
              "      <td>-3.2</td>\n",
              "      <td>0.0</td>\n",
              "      <td>0.5</td>\n",
              "      <td>40.0</td>\n",
              "      <td>0.0</td>\n",
              "      <td>0.0</td>\n",
              "      <td>-2.2</td>\n",
              "      <td>25.0</td>\n",
              "    </tr>\n",
              "    <tr>\n",
              "      <th>2</th>\n",
              "      <td>2</td>\n",
              "      <td>8</td>\n",
              "      <td>1390</td>\n",
              "      <td>37.544590</td>\n",
              "      <td>127.057083</td>\n",
              "      <td>37.537014</td>\n",
              "      <td>127.061096</td>\n",
              "      <td>0.913702</td>\n",
              "      <td>1</td>\n",
              "      <td>1</td>\n",
              "      <td>0</td>\n",
              "      <td>0</td>\n",
              "      <td>0</td>\n",
              "      <td>1</td>\n",
              "      <td>1</td>\n",
              "      <td>0</td>\n",
              "      <td>9</td>\n",
              "      <td>0</td>\n",
              "      <td>-3.2</td>\n",
              "      <td>0.0</td>\n",
              "      <td>0.5</td>\n",
              "      <td>40.0</td>\n",
              "      <td>0.0</td>\n",
              "      <td>0.0</td>\n",
              "      <td>-2.2</td>\n",
              "      <td>25.0</td>\n",
              "    </tr>\n",
              "    <tr>\n",
              "      <th>3</th>\n",
              "      <td>3</td>\n",
              "      <td>8</td>\n",
              "      <td>1820</td>\n",
              "      <td>37.571102</td>\n",
              "      <td>127.023560</td>\n",
              "      <td>37.561447</td>\n",
              "      <td>127.034920</td>\n",
              "      <td>1.468027</td>\n",
              "      <td>1</td>\n",
              "      <td>1</td>\n",
              "      <td>0</td>\n",
              "      <td>1</td>\n",
              "      <td>0</td>\n",
              "      <td>1</td>\n",
              "      <td>1</td>\n",
              "      <td>0</td>\n",
              "      <td>10</td>\n",
              "      <td>0</td>\n",
              "      <td>-3.2</td>\n",
              "      <td>0.0</td>\n",
              "      <td>0.5</td>\n",
              "      <td>40.0</td>\n",
              "      <td>0.0</td>\n",
              "      <td>0.0</td>\n",
              "      <td>-2.2</td>\n",
              "      <td>25.0</td>\n",
              "    </tr>\n",
              "    <tr>\n",
              "      <th>4</th>\n",
              "      <td>4</td>\n",
              "      <td>4</td>\n",
              "      <td>850</td>\n",
              "      <td>37.573242</td>\n",
              "      <td>127.015907</td>\n",
              "      <td>37.565849</td>\n",
              "      <td>127.016403</td>\n",
              "      <td>0.823227</td>\n",
              "      <td>1</td>\n",
              "      <td>1</td>\n",
              "      <td>0</td>\n",
              "      <td>1</td>\n",
              "      <td>0</td>\n",
              "      <td>1</td>\n",
              "      <td>1</td>\n",
              "      <td>0</td>\n",
              "      <td>6</td>\n",
              "      <td>0</td>\n",
              "      <td>-3.2</td>\n",
              "      <td>0.0</td>\n",
              "      <td>0.5</td>\n",
              "      <td>40.0</td>\n",
              "      <td>0.0</td>\n",
              "      <td>0.0</td>\n",
              "      <td>-2.2</td>\n",
              "      <td>25.0</td>\n",
              "    </tr>\n",
              "  </tbody>\n",
              "</table>\n",
              "</div>"
            ],
            "text/plain": [
              "   Unnamed: 0  Duration  Distance      PLong  ...  Solar  Snow  GroundTemp  Dust\n",
              "0           0         3        50  37.544666  ...    0.0   0.0        -2.2  25.0\n",
              "1           1        24      7670  37.506199  ...    0.0   0.0        -2.2  25.0\n",
              "2           2         8      1390  37.544590  ...    0.0   0.0        -2.2  25.0\n",
              "3           3         8      1820  37.571102  ...    0.0   0.0        -2.2  25.0\n",
              "4           4         4       850  37.573242  ...    0.0   0.0        -2.2  25.0\n",
              "\n",
              "[5 rows x 26 columns]"
            ]
          },
          "metadata": {},
          "execution_count": 3
        }
      ]
    },
    {
      "cell_type": "code",
      "metadata": {
        "colab": {
          "base_uri": "https://localhost:8080/"
        },
        "id": "LAhinnMxvD8c",
        "outputId": "08d477c8-575b-415d-a171-104718180725"
      },
      "source": [
        "train.shape"
      ],
      "execution_count": 4,
      "outputs": [
        {
          "output_type": "execute_result",
          "data": {
            "text/plain": [
              "(9601139, 26)"
            ]
          },
          "metadata": {},
          "execution_count": 4
        }
      ]
    },
    {
      "cell_type": "code",
      "metadata": {
        "id": "rOBUjeP2vHVf"
      },
      "source": [
        "# Dropping irrelevant column from the dataset i.e Unnamed: 0\n",
        "train.drop('Unnamed: 0', axis=1, inplace=True)"
      ],
      "execution_count": 5,
      "outputs": []
    },
    {
      "cell_type": "code",
      "metadata": {
        "colab": {
          "base_uri": "https://localhost:8080/"
        },
        "id": "tc9MU-ntvD7f",
        "outputId": "89af5a82-e9be-4396-e2e5-189eb8616e07"
      },
      "source": [
        "train = train.loc[0:100000, :]\n",
        "print(train.head())\n",
        "print(train.shape)"
      ],
      "execution_count": 6,
      "outputs": [
        {
          "output_type": "stream",
          "name": "stdout",
          "text": [
            "   Duration  Distance      PLong       PLatd  ...  Solar  Snow  GroundTemp  Dust\n",
            "0         3        50  37.544666  126.888359  ...    0.0   0.0        -2.2  25.0\n",
            "1        24      7670  37.506199  127.003944  ...    0.0   0.0        -2.2  25.0\n",
            "2         8      1390  37.544590  127.057083  ...    0.0   0.0        -2.2  25.0\n",
            "3         8      1820  37.571102  127.023560  ...    0.0   0.0        -2.2  25.0\n",
            "4         4       850  37.573242  127.015907  ...    0.0   0.0        -2.2  25.0\n",
            "\n",
            "[5 rows x 25 columns]\n",
            "(100001, 25)\n"
          ]
        }
      ]
    },
    {
      "cell_type": "code",
      "metadata": {
        "id": "C8bnb6zCvDuX"
      },
      "source": [
        "# Splitting data into Labels and target\n",
        "X = train.drop('Duration', axis=1)\n",
        "y = train['Duration']"
      ],
      "execution_count": 7,
      "outputs": []
    },
    {
      "cell_type": "code",
      "metadata": {
        "id": "WSlbGJdHvddY"
      },
      "source": [
        "# Splitting the dataset into train and test set\n",
        "from sklearn.model_selection import train_test_split\n",
        "X_train, X_test, y_train, y_test = train_test_split(X, y, test_size=0.2, random_state=0)"
      ],
      "execution_count": 8,
      "outputs": []
    },
    {
      "cell_type": "code",
      "metadata": {
        "id": "VGnRwlrpvdcX"
      },
      "source": [
        "from sklearn.linear_model import LinearRegression\n",
        "\n",
        "LR = LinearRegression()\n",
        "LR.fit(X_train, y_train)\n",
        "y_pred_LR = LR.predict(X_test)"
      ],
      "execution_count": 9,
      "outputs": []
    },
    {
      "cell_type": "code",
      "metadata": {
        "colab": {
          "base_uri": "https://localhost:8080/"
        },
        "id": "vh2kbdW2vdY_",
        "outputId": "0ad7e668-ff6a-4fb7-ed19-063ef5029e42"
      },
      "source": [
        "LR.coef_"
      ],
      "execution_count": 10,
      "outputs": [
        {
          "output_type": "execute_result",
          "data": {
            "text/plain": [
              "array([ 4.19415088e-04, -2.59036936e+00,  3.12694387e-01,  2.64944982e+00,\n",
              "       -9.11920926e-02, -7.60795337e-02, -1.13425713e-10, -1.27061928e+03,\n",
              "       -5.30040356e+01, -8.83247788e-01,  3.58149458e-01, -2.04636308e-12,\n",
              "        1.27062339e+03,  5.30162963e+01,  8.83047812e-01, -3.47813595e-01,\n",
              "        1.20306143e-02,  8.85884505e-01, -5.43552603e-02, -4.29226609e-03,\n",
              "        4.46115940e-01,  6.46507798e-02,  6.49206385e-03,  1.27946585e-03])"
            ]
          },
          "metadata": {},
          "execution_count": 10
        }
      ]
    },
    {
      "cell_type": "code",
      "metadata": {
        "colab": {
          "base_uri": "https://localhost:8080/",
          "height": 801
        },
        "id": "h9l6DOz8vdU8",
        "outputId": "aeb1625d-46f4-42f0-b927-cff168ca85c9"
      },
      "source": [
        "feature_importance = pd.DataFrame(LR.coef_, index=X.columns).sort_values(0, ascending=True)\n",
        "feature_importance"
      ],
      "execution_count": 35,
      "outputs": [
        {
          "output_type": "execute_result",
          "data": {
            "text/html": [
              "<div>\n",
              "<style scoped>\n",
              "    .dataframe tbody tr th:only-of-type {\n",
              "        vertical-align: middle;\n",
              "    }\n",
              "\n",
              "    .dataframe tbody tr th {\n",
              "        vertical-align: top;\n",
              "    }\n",
              "\n",
              "    .dataframe thead th {\n",
              "        text-align: right;\n",
              "    }\n",
              "</style>\n",
              "<table border=\"1\" class=\"dataframe\">\n",
              "  <thead>\n",
              "    <tr style=\"text-align: right;\">\n",
              "      <th></th>\n",
              "      <th>0</th>\n",
              "    </tr>\n",
              "  </thead>\n",
              "  <tbody>\n",
              "    <tr>\n",
              "      <th>Pday</th>\n",
              "      <td>-1.270619e+03</td>\n",
              "    </tr>\n",
              "    <tr>\n",
              "      <th>Phour</th>\n",
              "      <td>-5.300404e+01</td>\n",
              "    </tr>\n",
              "    <tr>\n",
              "      <th>PLong</th>\n",
              "      <td>-2.590369e+00</td>\n",
              "    </tr>\n",
              "    <tr>\n",
              "      <th>Pmin</th>\n",
              "      <td>-8.832478e-01</td>\n",
              "    </tr>\n",
              "    <tr>\n",
              "      <th>DDweek</th>\n",
              "      <td>-3.478136e-01</td>\n",
              "    </tr>\n",
              "    <tr>\n",
              "      <th>DLatd</th>\n",
              "      <td>-9.119209e-02</td>\n",
              "    </tr>\n",
              "    <tr>\n",
              "      <th>Haversine</th>\n",
              "      <td>-7.607953e-02</td>\n",
              "    </tr>\n",
              "    <tr>\n",
              "      <th>Wind</th>\n",
              "      <td>-5.435526e-02</td>\n",
              "    </tr>\n",
              "    <tr>\n",
              "      <th>Humid</th>\n",
              "      <td>-4.292266e-03</td>\n",
              "    </tr>\n",
              "    <tr>\n",
              "      <th>Pmonth</th>\n",
              "      <td>-1.134257e-10</td>\n",
              "    </tr>\n",
              "    <tr>\n",
              "      <th>Dmonth</th>\n",
              "      <td>-2.046363e-12</td>\n",
              "    </tr>\n",
              "    <tr>\n",
              "      <th>Distance</th>\n",
              "      <td>4.194151e-04</td>\n",
              "    </tr>\n",
              "    <tr>\n",
              "      <th>Dust</th>\n",
              "      <td>1.279466e-03</td>\n",
              "    </tr>\n",
              "    <tr>\n",
              "      <th>GroundTemp</th>\n",
              "      <td>6.492064e-03</td>\n",
              "    </tr>\n",
              "    <tr>\n",
              "      <th>Temp</th>\n",
              "      <td>1.203061e-02</td>\n",
              "    </tr>\n",
              "    <tr>\n",
              "      <th>Snow</th>\n",
              "      <td>6.465078e-02</td>\n",
              "    </tr>\n",
              "    <tr>\n",
              "      <th>PLatd</th>\n",
              "      <td>3.126944e-01</td>\n",
              "    </tr>\n",
              "    <tr>\n",
              "      <th>PDweek</th>\n",
              "      <td>3.581495e-01</td>\n",
              "    </tr>\n",
              "    <tr>\n",
              "      <th>Solar</th>\n",
              "      <td>4.461159e-01</td>\n",
              "    </tr>\n",
              "    <tr>\n",
              "      <th>Dmin</th>\n",
              "      <td>8.830478e-01</td>\n",
              "    </tr>\n",
              "    <tr>\n",
              "      <th>Precip</th>\n",
              "      <td>8.858845e-01</td>\n",
              "    </tr>\n",
              "    <tr>\n",
              "      <th>DLong</th>\n",
              "      <td>2.649450e+00</td>\n",
              "    </tr>\n",
              "    <tr>\n",
              "      <th>Dhour</th>\n",
              "      <td>5.301630e+01</td>\n",
              "    </tr>\n",
              "    <tr>\n",
              "      <th>Dday</th>\n",
              "      <td>1.270623e+03</td>\n",
              "    </tr>\n",
              "  </tbody>\n",
              "</table>\n",
              "</div>"
            ],
            "text/plain": [
              "                       0\n",
              "Pday       -1.270619e+03\n",
              "Phour      -5.300404e+01\n",
              "PLong      -2.590369e+00\n",
              "Pmin       -8.832478e-01\n",
              "DDweek     -3.478136e-01\n",
              "DLatd      -9.119209e-02\n",
              "Haversine  -7.607953e-02\n",
              "Wind       -5.435526e-02\n",
              "Humid      -4.292266e-03\n",
              "Pmonth     -1.134257e-10\n",
              "Dmonth     -2.046363e-12\n",
              "Distance    4.194151e-04\n",
              "Dust        1.279466e-03\n",
              "GroundTemp  6.492064e-03\n",
              "Temp        1.203061e-02\n",
              "Snow        6.465078e-02\n",
              "PLatd       3.126944e-01\n",
              "PDweek      3.581495e-01\n",
              "Solar       4.461159e-01\n",
              "Dmin        8.830478e-01\n",
              "Precip      8.858845e-01\n",
              "DLong       2.649450e+00\n",
              "Dhour       5.301630e+01\n",
              "Dday        1.270623e+03"
            ]
          },
          "metadata": {},
          "execution_count": 35
        }
      ]
    },
    {
      "cell_type": "code",
      "metadata": {
        "colab": {
          "base_uri": "https://localhost:8080/",
          "height": 610
        },
        "id": "IN7hYFBEvdPh",
        "outputId": "e78b0789-32d1-46b2-8a43-d59a394c290b"
      },
      "source": [
        "feature_importance.plot(kind='barh', figsize=(10,10))"
      ],
      "execution_count": 38,
      "outputs": [
        {
          "output_type": "execute_result",
          "data": {
            "text/plain": [
              "<matplotlib.axes._subplots.AxesSubplot at 0x7f39e9c8d790>"
            ]
          },
          "metadata": {},
          "execution_count": 38
        },
        {
          "output_type": "display_data",
          "data": {
            "image/png": "[encoded data removed]",
            "text/plain": [
              "<Figure size 720x720 with 1 Axes>"
            ]
          },
          "metadata": {
            "needs_background": "light"
          }
        }
      ]
    },
    {
      "cell_type": "markdown",
      "metadata": {
        "id": "tDP7_yWMGSad"
      },
      "source": [
        "----------------"
      ]
    },
    {
      "cell_type": "code",
      "metadata": {
        "colab": {
          "base_uri": "https://localhost:8080/",
          "height": 707
        },
        "id": "mSghz8SMGTCV",
        "outputId": "f234aaa6-e38e-44fc-fa4a-ae79858c891a"
      },
      "source": [
        "# get importance\n",
        "importance = LR.coef_\n",
        "\n",
        "# summarize feature importance\n",
        "for i,v in enumerate(importance):\n",
        "\tprint('Feature: %0d, Score: %.5f' % (i,v))\n",
        "\n",
        "# plot feature importance\n",
        "plt.bar([x for x in range(len(importance))], importance)\n",
        "plt.show()"
      ],
      "execution_count": 39,
      "outputs": [
        {
          "output_type": "stream",
          "name": "stdout",
          "text": [
            "Feature: 0, Score: 0.00042\n",
            "Feature: 1, Score: -2.59037\n",
            "Feature: 2, Score: 0.31269\n",
            "Feature: 3, Score: 2.64945\n",
            "Feature: 4, Score: -0.09119\n",
            "Feature: 5, Score: -0.07608\n",
            "Feature: 6, Score: -0.00000\n",
            "Feature: 7, Score: -1270.61928\n",
            "Feature: 8, Score: -53.00404\n",
            "Feature: 9, Score: -0.88325\n",
            "Feature: 10, Score: 0.35815\n",
            "Feature: 11, Score: -0.00000\n",
            "Feature: 12, Score: 1270.62339\n",
            "Feature: 13, Score: 53.01630\n",
            "Feature: 14, Score: 0.88305\n",
            "Feature: 15, Score: -0.34781\n",
            "Feature: 16, Score: 0.01203\n",
            "Feature: 17, Score: 0.88588\n",
            "Feature: 18, Score: -0.05436\n",
            "Feature: 19, Score: -0.00429\n",
            "Feature: 20, Score: 0.44612\n",
            "Feature: 21, Score: 0.06465\n",
            "Feature: 22, Score: 0.00649\n",
            "Feature: 23, Score: 0.00128\n"
          ]
        },
        {
          "output_type": "display_data",
          "data": {
            "image/png": "[encoded data removed]",
            "text/plain": [
              "<Figure size 432x288 with 1 Axes>"
            ]
          },
          "metadata": {
            "needs_background": "light"
          }
        }
      ]
    }
  ]
}