{
  "nbformat": 4,
  "nbformat_minor": 0,
  "metadata": {
    "kernelspec": {
      "display_name": "Python 3",
      "language": "python",
      "name": "python3"
    },
    "language_info": {
      "codemirror_mode": {
        "name": "ipython",
        "version": 3
      },
      "file_extension": ".py",
      "mimetype": "text/x-python",
      "name": "python",
      "nbconvert_exporter": "python",
      "pygments_lexer": "ipython3",
      "version": "3.7.2"
    },
    "colab": {
      "name": "2_boxplot-cars.ipynb",
      "provenance": [],
      "collapsed_sections": [],
      "include_colab_link": true
    }
  },
  "cells": [
    {
      "cell_type": "markdown",
      "metadata": {
        "id": "view-in-github",
        "colab_type": "text"
      },
      "source": [
        "<a href=\"https://colab.research.google.com/github/sureshmecad/Google-Colab/blob/master/2_boxplot_cars.ipynb\" target=\"_parent\"><img src=\"https://colab.research.google.com/assets/colab-badge.svg\" alt=\"Open In Colab\"/></a>"
      ]
    },
    {
      "cell_type": "markdown",
      "metadata": {
        "id": "SEZuBLzziS4Y"
      },
      "source": [
        "# Seaborn: boxplot"
      ]
    },
    {
      "cell_type": "code",
      "metadata": {
        "id": "yIpjCkp1iS4d"
      },
      "source": [
        "from matplotlib import pyplot as plt\n",
        "import seaborn as sns"
      ],
      "execution_count": 1,
      "outputs": []
    },
    {
      "cell_type": "code",
      "metadata": {
        "colab": {
          "base_uri": "https://localhost:8080/"
        },
        "id": "oFhvLvhHiS4e",
        "outputId": "cc1182f1-b65d-406a-ab9e-e5a3381d76b4"
      },
      "source": [
        "cars = sns.load_dataset('mpg').dropna()\n",
        "\n",
        "cars.shape"
      ],
      "execution_count": 2,
      "outputs": [
        {
          "output_type": "execute_result",
          "data": {
            "text/plain": [
              "(392, 9)"
            ]
          },
          "metadata": {},
          "execution_count": 2
        }
      ]
    },
    {
      "cell_type": "code",
      "metadata": {
        "colab": {
          "base_uri": "https://localhost:8080/",
          "height": 206
        },
        "id": "mMeie3pciS4g",
        "outputId": "3960415e-3862-404e-b8a3-acad1e162151"
      },
      "source": [
        "cars.head()"
      ],
      "execution_count": 3,
      "outputs": [
        {
          "output_type": "execute_result",
          "data": {
            "text/html": [
              "<div>\n",
              "<style scoped>\n",
              "    .dataframe tbody tr th:only-of-type {\n",
              "        vertical-align: middle;\n",
              "    }\n",
              "\n",
              "    .dataframe tbody tr th {\n",
              "        vertical-align: top;\n",
              "    }\n",
              "\n",
              "    .dataframe thead th {\n",
              "        text-align: right;\n",
              "    }\n",
              "</style>\n",
              "<table border=\"1\" class=\"dataframe\">\n",
              "  <thead>\n",
              "    <tr style=\"text-align: right;\">\n",
              "      <th></th>\n",
              "      <th>mpg</th>\n",
              "      <th>cylinders</th>\n",
              "      <th>displacement</th>\n",
              "      <th>horsepower</th>\n",
              "      <th>weight</th>\n",
              "      <th>acceleration</th>\n",
              "      <th>model_year</th>\n",
              "      <th>origin</th>\n",
              "      <th>name</th>\n",
              "    </tr>\n",
              "  </thead>\n",
              "  <tbody>\n",
              "    <tr>\n",
              "      <th>0</th>\n",
              "      <td>18.0</td>\n",
              "      <td>8</td>\n",
              "      <td>307.0</td>\n",
              "      <td>130.0</td>\n",
              "      <td>3504</td>\n",
              "      <td>12.0</td>\n",
              "      <td>70</td>\n",
              "      <td>usa</td>\n",
              "      <td>chevrolet chevelle malibu</td>\n",
              "    </tr>\n",
              "    <tr>\n",
              "      <th>1</th>\n",
              "      <td>15.0</td>\n",
              "      <td>8</td>\n",
              "      <td>350.0</td>\n",
              "      <td>165.0</td>\n",
              "      <td>3693</td>\n",
              "      <td>11.5</td>\n",
              "      <td>70</td>\n",
              "      <td>usa</td>\n",
              "      <td>buick skylark 320</td>\n",
              "    </tr>\n",
              "    <tr>\n",
              "      <th>2</th>\n",
              "      <td>18.0</td>\n",
              "      <td>8</td>\n",
              "      <td>318.0</td>\n",
              "      <td>150.0</td>\n",
              "      <td>3436</td>\n",
              "      <td>11.0</td>\n",
              "      <td>70</td>\n",
              "      <td>usa</td>\n",
              "      <td>plymouth satellite</td>\n",
              "    </tr>\n",
              "    <tr>\n",
              "      <th>3</th>\n",
              "      <td>16.0</td>\n",
              "      <td>8</td>\n",
              "      <td>304.0</td>\n",
              "      <td>150.0</td>\n",
              "      <td>3433</td>\n",
              "      <td>12.0</td>\n",
              "      <td>70</td>\n",
              "      <td>usa</td>\n",
              "      <td>amc rebel sst</td>\n",
              "    </tr>\n",
              "    <tr>\n",
              "      <th>4</th>\n",
              "      <td>17.0</td>\n",
              "      <td>8</td>\n",
              "      <td>302.0</td>\n",
              "      <td>140.0</td>\n",
              "      <td>3449</td>\n",
              "      <td>10.5</td>\n",
              "      <td>70</td>\n",
              "      <td>usa</td>\n",
              "      <td>ford torino</td>\n",
              "    </tr>\n",
              "  </tbody>\n",
              "</table>\n",
              "</div>"
            ],
            "text/plain": [
              "    mpg  cylinders  displacement  ...  model_year  origin                       name\n",
              "0  18.0          8         307.0  ...          70     usa  chevrolet chevelle malibu\n",
              "1  15.0          8         350.0  ...          70     usa          buick skylark 320\n",
              "2  18.0          8         318.0  ...          70     usa         plymouth satellite\n",
              "3  16.0          8         304.0  ...          70     usa              amc rebel sst\n",
              "4  17.0          8         302.0  ...          70     usa                ford torino\n",
              "\n",
              "[5 rows x 9 columns]"
            ]
          },
          "metadata": {},
          "execution_count": 3
        }
      ]
    },
    {
      "cell_type": "markdown",
      "metadata": {
        "heading_collapsed": true,
        "id": "cHUyP8xKiS4g"
      },
      "source": [
        "## Intro Visuals"
      ]
    },
    {
      "cell_type": "code",
      "metadata": {
        "hidden": true,
        "id": "oDTN4gTyiS4h"
      },
      "source": [
        "import pandas as pd\n",
        "import numpy as np"
      ],
      "execution_count": 4,
      "outputs": []
    },
    {
      "cell_type": "code",
      "metadata": {
        "hidden": true,
        "id": "vgG9T2IfiS4h"
      },
      "source": [
        "sns.set_style('white')\n",
        "plt.rc('xtick', labelsize=14)\n",
        "plt.rc('ytick', labelsize=14)"
      ],
      "execution_count": 5,
      "outputs": []
    },
    {
      "cell_type": "code",
      "metadata": {
        "hidden": true,
        "id": "5SYHxnNUiS4i"
      },
      "source": [
        "blue, orange, green, red = sns.color_palette()[:4]"
      ],
      "execution_count": 6,
      "outputs": []
    },
    {
      "cell_type": "code",
      "metadata": {
        "hidden": true,
        "id": "rV01hgUtiS4j"
      },
      "source": [
        "pts = [1, 1.5, (7/3), 3, 3.75, 4.25, 5, 19/3, 8, 12]"
      ],
      "execution_count": 7,
      "outputs": []
    },
    {
      "cell_type": "code",
      "metadata": {
        "hidden": true,
        "colab": {
          "base_uri": "https://localhost:8080/",
          "height": 296
        },
        "id": "ONnAp7U4iS4k",
        "outputId": "ceae2d09-9bae-4c0e-aa3e-aaa36fcf297f"
      },
      "source": [
        "plt.figure(figsize=(8, 4))\n",
        "plt.scatter(pts, [0]*len(pts), s=100, zorder=1, color=green)\n",
        "plt.axhline(0, color='gray', zorder=0)\n",
        "plt.ylim(-0.02, 0.55)\n",
        "plt.xlim(-2, 14)\n",
        "plt.box(False)\n",
        "plt.xticks(range(13))\n",
        "plt.yticks([])\n",
        "plt.tight_layout();"
      ],
      "execution_count": 8,
      "outputs": [
        {
          "output_type": "display_data",
          "data": {
            "image/png": "[encoded data removed]",
            "text/plain": [
              "<Figure size 576x288 with 1 Axes>"
            ]
          },
          "metadata": {}
        }
      ]
    },
    {
      "cell_type": "code",
      "metadata": {
        "hidden": true,
        "colab": {
          "base_uri": "https://localhost:8080/"
        },
        "id": "7uGzEnp5iS4l",
        "outputId": "fc16c971-36b7-40d1-96d8-d6a725a1d424"
      },
      "source": [
        "pd.Series(pts).describe()"
      ],
      "execution_count": 9,
      "outputs": [
        {
          "output_type": "execute_result",
          "data": {
            "text/plain": [
              "count    10.000000\n",
              "mean      4.716667\n",
              "std       3.341010\n",
              "min       1.000000\n",
              "25%       2.500000\n",
              "50%       4.000000\n",
              "75%       6.000000\n",
              "max      12.000000\n",
              "dtype: float64"
            ]
          },
          "metadata": {},
          "execution_count": 9
        }
      ]
    },
    {
      "cell_type": "code",
      "metadata": {
        "hidden": true,
        "colab": {
          "base_uri": "https://localhost:8080/",
          "height": 296
        },
        "id": "yL1E_mXWiS4m",
        "outputId": "04666318-51a8-415b-fee9-56079d7ef0c6"
      },
      "source": [
        "plt.figure(figsize=(8, 4))\n",
        "plt.scatter(pts, [0]*len(pts), s=100, zorder=1, color=green)\n",
        "plt.axvline(4, ymin=0.2, ymax=0.5, color='#3E3E3E')  #median at 4\n",
        "plt.axhline(0, color='gray', zorder=0)\n",
        "plt.ylim(-0.02, 0.55)\n",
        "plt.xlim(-2, 14)\n",
        "plt.box(False)\n",
        "plt.xticks(range(13))\n",
        "plt.yticks([])\n",
        "plt.tight_layout();"
      ],
      "execution_count": 10,
      "outputs": [
        {
          "output_type": "display_data",
          "data": {
            "image/png": "[encoded data removed]",
            "text/plain": [
              "<Figure size 576x288 with 1 Axes>"
            ]
          },
          "metadata": {}
        }
      ]
    },
    {
      "cell_type": "code",
      "metadata": {
        "hidden": true,
        "colab": {
          "base_uri": "https://localhost:8080/",
          "height": 296
        },
        "id": "eRN3NH_biS4m",
        "outputId": "f36e76c9-f6bf-487b-8a9d-2235f3464246"
      },
      "source": [
        "plt.figure(figsize=(8, 4))\n",
        "plt.scatter(pts, [0]*len(pts), s=100, zorder=1, color=green)\n",
        "plt.axvline(4, ymin=0.2, ymax=0.5, color='#3E3E3E') \n",
        "plt.axvline(2.5, ymin=0.2, ymax=0.5, color='#3E3E3E') #25th percentile\n",
        "plt.axhline(0, color='gray', zorder=0)\n",
        "plt.ylim(-0.02, 0.55)\n",
        "plt.xlim(-2, 14)\n",
        "plt.box(False)\n",
        "plt.xticks(range(13))\n",
        "plt.yticks([])\n",
        "plt.tight_layout();"
      ],
      "execution_count": 11,
      "outputs": [
        {
          "output_type": "display_data",
          "data": {
            "image/png": "[encoded data removed]",
            "text/plain": [
              "<Figure size 576x288 with 1 Axes>"
            ]
          },
          "metadata": {}
        }
      ]
    },
    {
      "cell_type": "code",
      "metadata": {
        "hidden": true,
        "colab": {
          "base_uri": "https://localhost:8080/",
          "height": 296
        },
        "id": "HWDhiztciS4n",
        "outputId": "a1b15c29-dfb8-48b4-e9e1-e10b4b5d09ea"
      },
      "source": [
        "plt.figure(figsize=(8, 4))\n",
        "plt.scatter(pts, [0]*len(pts), s=100, zorder=1, color=green)\n",
        "plt.axvline(4, ymin=0.2, ymax=0.5, color='#3E3E3E')  \n",
        "plt.axvline(2.5, ymin=0.2, ymax=0.5, color='#3E3E3E')  \n",
        "plt.axvline(6, ymin=0.2, ymax=0.5, color='#3E3E3E')   #75th percentile\n",
        "plt.axhline(0, color='gray', zorder=0)\n",
        "plt.ylim(-0.02, 0.55)\n",
        "plt.xlim(-2, 14)\n",
        "plt.box(False)\n",
        "plt.xticks(range(13))\n",
        "plt.yticks([])\n",
        "plt.tight_layout();"
      ],
      "execution_count": 12,
      "outputs": [
        {
          "output_type": "display_data",
          "data": {
            "image/png": "[encoded data removed]",
            "text/plain": [
              "<Figure size 576x288 with 1 Axes>"
            ]
          },
          "metadata": {}
        }
      ]
    },
    {
      "cell_type": "code",
      "metadata": {
        "hidden": true,
        "colab": {
          "base_uri": "https://localhost:8080/",
          "height": 296
        },
        "id": "bxT9zpJciS4o",
        "outputId": "b614a46d-5e02-4c7f-bffe-3b6ae1cfbab3"
      },
      "source": [
        "plt.figure(figsize=(8, 4))\n",
        "plt.scatter(pts, [0]*len(pts), s=100, zorder=1, color=green)\n",
        "plt.axvline(4, ymin=0.2, ymax=0.5, color='#3E3E3E')\n",
        "plt.axvline(2.5, ymin=0.2, ymax=0.5, color='#3E3E3E')\n",
        "plt.axvline(6, ymin=0.2, ymax=0.5, color='#3E3E3E')\n",
        "plt.axhline(0.092, xmin=(4.5/16), xmax=0.5, color='#3E3E3E')  #connect box\n",
        "plt.axhline(0.268, xmin=(4.5/16), xmax=0.5, color='#3E3E3E')  #connect box\n",
        "plt.axhline(0, color='gray', zorder=0)\n",
        "plt.ylim(-0.02, 0.55)\n",
        "plt.xlim(-2, 14)\n",
        "plt.box(False)\n",
        "plt.xticks(range(13))\n",
        "plt.yticks([])\n",
        "plt.tight_layout();"
      ],
      "execution_count": 13,
      "outputs": [
        {
          "output_type": "display_data",
          "data": {
            "image/png": "[encoded data removed]",
            "text/plain": [
              "<Figure size 576x288 with 1 Axes>"
            ]
          },
          "metadata": {}
        }
      ]
    },
    {
      "cell_type": "code",
      "metadata": {
        "hidden": true,
        "id": "OPJJLH-4iS4o"
      },
      "source": [
        "xvals=np.linspace(2.5, 6, 100)"
      ],
      "execution_count": 14,
      "outputs": []
    },
    {
      "cell_type": "code",
      "metadata": {
        "hidden": true,
        "colab": {
          "base_uri": "https://localhost:8080/",
          "height": 296
        },
        "id": "_Z3tk3LOiS4p",
        "outputId": "d552d412-2db4-4f92-ac44-2eae33b98604"
      },
      "source": [
        "plt.figure(figsize=(8, 4))\n",
        "plt.scatter(pts, [0]*len(pts), s=100, zorder=1, color=green)\n",
        "plt.axvline(4, ymin=0.2, ymax=0.5, color='#3E3E3E')\n",
        "plt.axvline(2.5, ymin=0.2, ymax=0.5, color='#3E3E3E')\n",
        "plt.axvline(6, ymin=0.2, ymax=0.5, color='#3E3E3E')\n",
        "plt.axhline(0.092, xmin=(4.5/16), xmax=0.5, color='#3E3E3E')\n",
        "plt.axhline(0.268, xmin=(4.5/16), xmax=0.5, color='#3E3E3E')\n",
        "plt.gca().fill_between(xvals, 0.092, 0.268, color=green)  #add color\n",
        "plt.axhline(0, color='gray', zorder=0)\n",
        "plt.ylim(-0.02, 0.55)\n",
        "plt.xlim(-2, 14)\n",
        "plt.box(False)\n",
        "plt.xticks(range(13))\n",
        "plt.yticks([])\n",
        "plt.tight_layout();"
      ],
      "execution_count": 15,
      "outputs": [
        {
          "output_type": "display_data",
          "data": {
            "image/png": "[encoded data removed]",
            "text/plain": [
              "<Figure size 576x288 with 1 Axes>"
            ]
          },
          "metadata": {}
        }
      ]
    },
    {
      "cell_type": "code",
      "metadata": {
        "hidden": true,
        "colab": {
          "base_uri": "https://localhost:8080/",
          "height": 296
        },
        "id": "D7MdPk-piS4q",
        "outputId": "51c78a83-ceb9-4236-9949-eccb99f3f91f"
      },
      "source": [
        "plt.figure(figsize=(8, 4))\n",
        "plt.scatter(pts, [0]*len(pts), s=100, zorder=1, color=green)\n",
        "plt.axvline(4, ymin=0.2, ymax=0.5, color='#3E3E3E')\n",
        "plt.axvline(2.5, ymin=0.2, ymax=0.5, color='#3E3E3E')\n",
        "plt.axvline(6, ymin=0.2, ymax=0.5, color='#3E3E3E')\n",
        "plt.axhline(0.092, xmin=(4.5/16), xmax=0.5, color='#3E3E3E')\n",
        "plt.axhline(0.268, xmin=(4.5/16), xmax=0.5, color='#3E3E3E')\n",
        "plt.axhline(0.18, xmin=(3/16), xmax=(4.5/16), color='#3E3E3E') #add lower whisker\n",
        "plt.axvline(1, ymin=0.3, ymax=0.4, color='#3E3E3E')            #add lower whisker\n",
        "plt.gca().fill_between(xvals, 0.092, 0.268, color=green)\n",
        "plt.axhline(0, color='gray', zorder=0)    \n",
        "plt.ylim(-0.02, 0.55)\n",
        "plt.xlim(-2, 14)\n",
        "plt.box(False)\n",
        "plt.xticks(range(13))\n",
        "plt.yticks([])\n",
        "plt.tight_layout();"
      ],
      "execution_count": 16,
      "outputs": [
        {
          "output_type": "display_data",
          "data": {
            "image/png": "[encoded data removed]",
            "text/plain": [
              "<Figure size 576x288 with 1 Axes>"
            ]
          },
          "metadata": {}
        }
      ]
    },
    {
      "cell_type": "code",
      "metadata": {
        "hidden": true,
        "colab": {
          "base_uri": "https://localhost:8080/",
          "height": 296
        },
        "id": "vTil9TF0iS4s",
        "outputId": "44e2425c-a852-4e00-da46-6efe1d0ce624"
      },
      "source": [
        "plt.figure(figsize=(8, 4))\n",
        "plt.scatter(pts, [0]*len(pts), s=100, zorder=1, color=green)\n",
        "plt.axvline(4, ymin=0.2, ymax=0.5, color='#3E3E3E')\n",
        "plt.axvline(2.5, ymin=0.2, ymax=0.5, color='#3E3E3E')\n",
        "plt.axvline(6, ymin=0.2, ymax=0.5, color='#3E3E3E')\n",
        "plt.axhline(0.092, xmin=(4.5/16), xmax=0.5, color='#3E3E3E')\n",
        "plt.axhline(0.268, xmin=(4.5/16), xmax=0.5, color='#3E3E3E')\n",
        "plt.axhline(0.18, xmin=(3/16), xmax=(4.5/16), color='#3E3E3E')\n",
        "plt.axvline(1, ymin=0.3, ymax=0.4, color='#3E3E3E')\n",
        "plt.axhline(0.18, xmin=(8/16), xmax=(13.25/16), color='#3E3E3E', linestyle='--')  #add hypothetical upper whisker\n",
        "plt.axvline(11.25, ymin=0.3, ymax=0.4, color='#3E3E3E')    #add hypothetical upper whisker\n",
        "plt.gca().fill_between(xvals, 0.092, 0.268, color=green)\n",
        "plt.axhline(0, color='gray', zorder=0)\n",
        "plt.ylim(-0.02, 0.55)\n",
        "plt.xlim(-2, 14)\n",
        "plt.box(False)\n",
        "plt.xticks(range(13))\n",
        "plt.yticks([])\n",
        "plt.tight_layout();"
      ],
      "execution_count": 17,
      "outputs": [
        {
          "output_type": "display_data",
          "data": {
            "image/png": "[encoded data removed]",
            "text/plain": [
              "<Figure size 576x288 with 1 Axes>"
            ]
          },
          "metadata": {}
        }
      ]
    },
    {
      "cell_type": "code",
      "metadata": {
        "hidden": true,
        "colab": {
          "base_uri": "https://localhost:8080/",
          "height": 296
        },
        "id": "g9cJBWVfiS4s",
        "outputId": "fbacb79d-d947-47c1-9d8d-2d41cfc7a11f"
      },
      "source": [
        "plt.figure(figsize=(8, 4))\n",
        "plt.scatter(pts, [0]*len(pts), s=100, zorder=1, color=green)\n",
        "plt.axvline(4, ymin=0.2, ymax=0.5, color='#3E3E3E')\n",
        "plt.axvline(2.5, ymin=0.2, ymax=0.5, color='#3E3E3E')\n",
        "plt.axvline(6, ymin=0.2, ymax=0.5, color='#3E3E3E')\n",
        "plt.axhline(0.092, xmin=(4.5/16), xmax=0.5, color='#3E3E3E')\n",
        "plt.axhline(0.268, xmin=(4.5/16), xmax=0.5, color='#3E3E3E')\n",
        "plt.axhline(0.18, xmin=(3/16), xmax=(4.5/16), color='#3E3E3E')\n",
        "plt.axvline(1, ymin=0.3, ymax=0.4, color='#3E3E3E')\n",
        "plt.axhline(0.18, xmin=(8/16), xmax=(10/16), color='#3E3E3E') #add upper whisker\n",
        "plt.axvline(8, ymin=0.3, ymax=0.4, color='#3E3E3E')           #add upper whisker\n",
        "plt.gca().fill_between(xvals, 0.092, 0.268, color=green)\n",
        "plt.axhline(0, color='gray', zorder=0)\n",
        "plt.ylim(-0.02, 0.55)\n",
        "plt.xlim(-2, 14)\n",
        "plt.box(False)\n",
        "plt.xticks(range(13))\n",
        "plt.yticks([])\n",
        "plt.tight_layout();"
      ],
      "execution_count": 18,
      "outputs": [
        {
          "output_type": "display_data",
          "data": {
            "image/png": "[encoded data removed]",
            "text/plain": [
              "<Figure size 576x288 with 1 Axes>"
            ]
          },
          "metadata": {}
        }
      ]
    },
    {
      "cell_type": "code",
      "metadata": {
        "hidden": true,
        "colab": {
          "base_uri": "https://localhost:8080/",
          "height": 296
        },
        "id": "3_bVLxcCiS4t",
        "outputId": "df77572c-b8f6-44fb-f2a2-273ec1cee320"
      },
      "source": [
        "plt.figure(figsize=(8, 4))\n",
        "plt.scatter(pts, [0]*len(pts), s=100, zorder=1, color=green)\n",
        "plt.axvline(4, ymin=0.2, ymax=0.5, color='#3E3E3E')\n",
        "plt.axvline(2.5, ymin=0.2, ymax=0.5, color='#3E3E3E')\n",
        "plt.axvline(6, ymin=0.2, ymax=0.5, color='#3E3E3E')\n",
        "plt.axhline(0.092, xmin=(4.5/16), xmax=0.5, color='#3E3E3E')\n",
        "plt.axhline(0.268, xmin=(4.5/16), xmax=0.5, color='#3E3E3E')\n",
        "plt.axhline(0.18, xmin=(3/16), xmax=(4.5/16), color='#3E3E3E')\n",
        "plt.axvline(1, ymin=0.3, ymax=0.4, color='#3E3E3E')\n",
        "plt.axhline(0.18, xmin=(8/16), xmax=(10/16), color='#3E3E3E')\n",
        "plt.axvline(8, ymin=0.3, ymax=0.4, color='#3E3E3E')\n",
        "plt.scatter(12, 0.18, marker=\"d\", s=30, color='#3E3E3E')  #add flier\n",
        "plt.gca().fill_between(xvals, 0.092, 0.268, color=green)\n",
        "plt.axhline(0, color='gray', zorder=0)\n",
        "plt.ylim(-0.02, 0.55)\n",
        "plt.xlim(-2, 14)\n",
        "plt.box(False)\n",
        "plt.xticks(range(13))\n",
        "plt.yticks([])\n",
        "plt.tight_layout();"
      ],
      "execution_count": 19,
      "outputs": [
        {
          "output_type": "display_data",
          "data": {
            "image/png": "[encoded data removed]",
            "text/plain": [
              "<Figure size 576x288 with 1 Axes>"
            ]
          },
          "metadata": {}
        }
      ]
    },
    {
      "cell_type": "code",
      "metadata": {
        "hidden": true,
        "colab": {
          "base_uri": "https://localhost:8080/",
          "height": 354
        },
        "id": "-kLwG2OSiS4u",
        "outputId": "17e598b8-7b6d-492c-e9f4-10d40e1ddce0"
      },
      "source": [
        "#check manual against seaborn plot\n",
        "\n",
        "plt.figure(figsize=(8,4))\n",
        "sns.boxplot(pts, color=green, width=0.3)\n",
        "sns.despine()\n",
        "plt.xlim(-1, 13)\n",
        "plt.tight_layout();"
      ],
      "execution_count": 20,
      "outputs": [
        {
          "output_type": "stream",
          "name": "stderr",
          "text": [
            "/usr/local/lib/python3.7/dist-packages/seaborn/_decorators.py:43: FutureWarning: Pass the following variable as a keyword arg: x. From version 0.12, the only valid positional argument will be `data`, and passing other arguments without an explicit keyword will result in an error or misinterpretation.\n",
            "  FutureWarning\n"
          ]
        },
        {
          "output_type": "display_data",
          "data": {
            "image/png": "[encoded data removed]",
            "text/plain": [
              "<Figure size 576x288 with 1 Axes>"
            ]
          },
          "metadata": {}
        }
      ]
    },
    {
      "cell_type": "code",
      "metadata": {
        "hidden": true,
        "id": "s3KB9Xl-iS4u"
      },
      "source": [
        "plt.rc('xtick', labelsize=10)\n",
        "plt.rc('ytick', labelsize=10)"
      ],
      "execution_count": 21,
      "outputs": []
    },
    {
      "cell_type": "markdown",
      "metadata": {
        "id": "xMYx_4KRiS4u"
      },
      "source": [
        "## Basics"
      ]
    },
    {
      "cell_type": "code",
      "metadata": {
        "id": "Tpkxs_qciS4u"
      },
      "source": [
        "sns.set_style('whitegrid')"
      ],
      "execution_count": 22,
      "outputs": []
    },
    {
      "cell_type": "code",
      "metadata": {
        "colab": {
          "base_uri": "https://localhost:8080/"
        },
        "id": "JOptlWSWiS4v",
        "outputId": "0a9b915e-1e19-4282-e972-433ba6c40692"
      },
      "source": [
        "cars.cylinders.value_counts()"
      ],
      "execution_count": 23,
      "outputs": [
        {
          "output_type": "execute_result",
          "data": {
            "text/plain": [
              "4    199\n",
              "8    103\n",
              "6     83\n",
              "3      4\n",
              "5      3\n",
              "Name: cylinders, dtype: int64"
            ]
          },
          "metadata": {},
          "execution_count": 23
        }
      ]
    },
    {
      "cell_type": "markdown",
      "metadata": {
        "id": "sKCp7upjiS4v"
      },
      "source": [
        "Filter down to only cars with even number of cylinders"
      ]
    },
    {
      "cell_type": "code",
      "metadata": {
        "id": "HYdJneK7iS4w"
      },
      "source": [
        "cars = cars[cars.cylinders.isin([4,6,8])]"
      ],
      "execution_count": 24,
      "outputs": []
    },
    {
      "cell_type": "code",
      "metadata": {
        "colab": {
          "base_uri": "https://localhost:8080/",
          "height": 335
        },
        "id": "CHr_1NHMiS4w",
        "outputId": "f9a12e20-78b8-4007-ac47-605755a41cbd"
      },
      "source": [
        "sns.boxplot(cars.mpg);"
      ],
      "execution_count": 25,
      "outputs": [
        {
          "output_type": "stream",
          "name": "stderr",
          "text": [
            "/usr/local/lib/python3.7/dist-packages/seaborn/_decorators.py:43: FutureWarning: Pass the following variable as a keyword arg: x. From version 0.12, the only valid positional argument will be `data`, and passing other arguments without an explicit keyword will result in an error or misinterpretation.\n",
            "  FutureWarning\n"
          ]
        },
        {
          "output_type": "display_data",
          "data": {
            "image/png": "[encoded data removed]",
            "text/plain": [
              "<Figure size 432x288 with 1 Axes>"
            ]
          },
          "metadata": {}
        }
      ]
    },
    {
      "cell_type": "code",
      "metadata": {
        "colab": {
          "base_uri": "https://localhost:8080/"
        },
        "id": "fBBsPyzxiS4w",
        "outputId": "41954bfc-80e8-49a2-cb54-c29a9949c842"
      },
      "source": [
        "cars.mpg.describe()"
      ],
      "execution_count": 26,
      "outputs": [
        {
          "output_type": "execute_result",
          "data": {
            "text/plain": [
              "count    385.000000\n",
              "mean      23.445455\n",
              "std        7.836911\n",
              "min        9.000000\n",
              "25%       17.000000\n",
              "50%       23.000000\n",
              "75%       29.000000\n",
              "max       46.600000\n",
              "Name: mpg, dtype: float64"
            ]
          },
          "metadata": {},
          "execution_count": 26
        }
      ]
    },
    {
      "cell_type": "code",
      "metadata": {
        "colab": {
          "base_uri": "https://localhost:8080/",
          "height": 278
        },
        "id": "NszKpOOWiS4x",
        "outputId": "cd7d11cb-f81a-45bd-9eb4-db4e625c40a8"
      },
      "source": [
        "sns.boxplot(x=cars.origin, y=cars.mpg);"
      ],
      "execution_count": 27,
      "outputs": [
        {
          "output_type": "display_data",
          "data": {
            "image/png": "[encoded data removed]",
            "text/plain": [
              "<Figure size 432x288 with 1 Axes>"
            ]
          },
          "metadata": {}
        }
      ]
    },
    {
      "cell_type": "code",
      "metadata": {
        "colab": {
          "base_uri": "https://localhost:8080/",
          "height": 278
        },
        "id": "K1FDH2QEiS4x",
        "outputId": "1a84f162-dfd0-4df3-8cce-4bdf016934ef"
      },
      "source": [
        "sns.boxplot(x='origin', y='mpg', data=cars);"
      ],
      "execution_count": 28,
      "outputs": [
        {
          "output_type": "display_data",
          "data": {
            "image/png": "[encoded data removed]",
            "text/plain": [
              "<Figure size 432x288 with 1 Axes>"
            ]
          },
          "metadata": {}
        }
      ]
    },
    {
      "cell_type": "markdown",
      "metadata": {
        "id": "VGRGrIX6iS4x"
      },
      "source": [
        "### Hue"
      ]
    },
    {
      "cell_type": "markdown",
      "metadata": {
        "id": "Yvlhvh4SiS4y"
      },
      "source": [
        "#### By Cylinders"
      ]
    },
    {
      "cell_type": "code",
      "metadata": {
        "colab": {
          "base_uri": "https://localhost:8080/",
          "height": 278
        },
        "id": "BjFsTGqwiS4y",
        "outputId": "b5eef11a-ee73-497f-8a95-22769f36e6a6"
      },
      "source": [
        "sns.boxplot(x='origin', y='mpg', hue='cylinders', data=cars);"
      ],
      "execution_count": 29,
      "outputs": [
        {
          "output_type": "display_data",
          "data": {
            "image/png": "[encoded data removed]",
            "text/plain": [
              "<Figure size 432x288 with 1 Axes>"
            ]
          },
          "metadata": {}
        }
      ]
    },
    {
      "cell_type": "markdown",
      "metadata": {
        "id": "zAbKOqf8iS4y"
      },
      "source": [
        "#### By Model Year"
      ]
    },
    {
      "cell_type": "code",
      "metadata": {
        "colab": {
          "base_uri": "https://localhost:8080/"
        },
        "id": "9mJZbHCoiS4z",
        "outputId": "e7e7870d-ad6e-47c5-e53a-d3764a325383"
      },
      "source": [
        "cars.model_year.describe()"
      ],
      "execution_count": 30,
      "outputs": [
        {
          "output_type": "execute_result",
          "data": {
            "text/plain": [
              "count    385.000000\n",
              "mean      75.961039\n",
              "std        3.692058\n",
              "min       70.000000\n",
              "25%       73.000000\n",
              "50%       76.000000\n",
              "75%       79.000000\n",
              "max       82.000000\n",
              "Name: model_year, dtype: float64"
            ]
          },
          "metadata": {},
          "execution_count": 30
        }
      ]
    },
    {
      "cell_type": "code",
      "metadata": {
        "id": "xR2MGpOqiS4z"
      },
      "source": [
        "cars['newer_model'] = cars.model_year > 76"
      ],
      "execution_count": 31,
      "outputs": []
    },
    {
      "cell_type": "code",
      "metadata": {
        "colab": {
          "base_uri": "https://localhost:8080/",
          "height": 278
        },
        "id": "J8_k76DUiS4z",
        "outputId": "5e914070-9ed8-455e-baf1-12a3cd068bc9"
      },
      "source": [
        "sns.boxplot(x='origin', y='mpg', hue='newer_model', data=cars);"
      ],
      "execution_count": 32,
      "outputs": [
        {
          "output_type": "display_data",
          "data": {
            "image/png": "[encoded data removed]",
            "text/plain": [
              "<Figure size 432x288 with 1 Axes>"
            ]
          },
          "metadata": {}
        }
      ]
    },
    {
      "cell_type": "markdown",
      "metadata": {
        "id": "DCTlLdnfiS4z"
      },
      "source": [
        "## Styling Options"
      ]
    },
    {
      "cell_type": "markdown",
      "metadata": {
        "id": "ZgERF8OliS4z"
      },
      "source": [
        "### order"
      ]
    },
    {
      "cell_type": "code",
      "metadata": {
        "colab": {
          "base_uri": "https://localhost:8080/",
          "height": 278
        },
        "id": "uAAox2MgiS40",
        "outputId": "4010a0a6-abe9-449f-cbab-3e30fd26cfea"
      },
      "source": [
        "sns.boxplot(x='mpg', y='origin',   \n",
        "            data=cars\n",
        "           );"
      ],
      "execution_count": 33,
      "outputs": [
        {
          "output_type": "display_data",
          "data": {
            "image/png": "[encoded data removed]",
            "text/plain": [
              "<Figure size 432x288 with 1 Axes>"
            ]
          },
          "metadata": {}
        }
      ]
    },
    {
      "cell_type": "code",
      "metadata": {
        "colab": {
          "base_uri": "https://localhost:8080/",
          "height": 278
        },
        "id": "i32CqrWCiS40",
        "outputId": "c39e6dbc-203c-4a8e-df8a-a59deffb48bb"
      },
      "source": [
        "sns.boxplot(x='mpg', y='origin', \n",
        "            data=cars,\n",
        "            order=['japan', 'europe', 'usa']\n",
        "           );"
      ],
      "execution_count": 34,
      "outputs": [
        {
          "output_type": "display_data",
          "data": {
            "image/png": "[encoded data removed]",
            "text/plain": [
              "<Figure size 432x288 with 1 Axes>"
            ]
          },
          "metadata": {}
        }
      ]
    },
    {
      "cell_type": "code",
      "metadata": {
        "colab": {
          "base_uri": "https://localhost:8080/",
          "height": 278
        },
        "id": "5gnnnIAtiS40",
        "outputId": "5b9ba6ca-83d6-4b28-861e-df2816cd49ac"
      },
      "source": [
        "sns.boxplot(x='mpg', y='origin', hue='newer_model',\n",
        "            data=cars,\n",
        "            order=['japan', 'europe', 'usa'],\n",
        "            hue_order=[True, False]\n",
        "           );"
      ],
      "execution_count": 35,
      "outputs": [
        {
          "output_type": "display_data",
          "data": {
            "image/png": "[encoded data removed]",
            "text/plain": [
              "<Figure size 432x288 with 1 Axes>"
            ]
          },
          "metadata": {}
        }
      ]
    },
    {
      "cell_type": "markdown",
      "metadata": {
        "id": "OXDt0szciS40"
      },
      "source": [
        "### color"
      ]
    },
    {
      "cell_type": "code",
      "metadata": {
        "colab": {
          "base_uri": "https://localhost:8080/",
          "height": 278
        },
        "id": "4QqB68TJiS40",
        "outputId": "e0bb767d-4af2-49a5-9022-06d3da6154b0"
      },
      "source": [
        "sns.boxplot(x='mpg', y='origin',  \n",
        "            data=cars, \n",
        "            color='g'\n",
        "           );"
      ],
      "execution_count": 36,
      "outputs": [
        {
          "output_type": "display_data",
          "data": {
            "image/png": "[encoded data removed]",
            "text/plain": [
              "<Figure size 432x288 with 1 Axes>"
            ]
          },
          "metadata": {}
        }
      ]
    },
    {
      "cell_type": "code",
      "metadata": {
        "colab": {
          "base_uri": "https://localhost:8080/",
          "height": 278
        },
        "id": "HOuqH7yLiS40",
        "outputId": "ca71a57f-e29e-4d55-d142-2797fe4b1c00"
      },
      "source": [
        "sns.boxplot(x='mpg', y='origin', hue='newer_model',\n",
        "            data=cars,\n",
        "            color='g'\n",
        "           );"
      ],
      "execution_count": 37,
      "outputs": [
        {
          "output_type": "display_data",
          "data": {
            "image/png": "[encoded data removed]",
            "text/plain": [
              "<Figure size 432x288 with 1 Axes>"
            ]
          },
          "metadata": {}
        }
      ]
    },
    {
      "cell_type": "markdown",
      "metadata": {
        "id": "OzalFy81iS41"
      },
      "source": [
        "### width"
      ]
    },
    {
      "cell_type": "code",
      "metadata": {
        "colab": {
          "base_uri": "https://localhost:8080/",
          "height": 278
        },
        "id": "EWXU23LpiS41",
        "outputId": "7c186de9-ce5c-4411-b279-ef357a9e9302"
      },
      "source": [
        "sns.boxplot(x='mpg', y='origin', \n",
        "            data=cars,\n",
        "            width=0.5\n",
        "           ); "
      ],
      "execution_count": 38,
      "outputs": [
        {
          "output_type": "display_data",
          "data": {
            "image/png": "[encoded data removed]",
            "text/plain": [
              "<Figure size 432x288 with 1 Axes>"
            ]
          },
          "metadata": {}
        }
      ]
    },
    {
      "cell_type": "markdown",
      "metadata": {
        "id": "0aJA1B0eiS41"
      },
      "source": [
        "### linewidth"
      ]
    },
    {
      "cell_type": "code",
      "metadata": {
        "colab": {
          "base_uri": "https://localhost:8080/",
          "height": 278
        },
        "id": "ms25Y5BDiS41",
        "outputId": "12f21b26-f101-4ddd-fc82-e5d8923dc32a"
      },
      "source": [
        "sns.boxplot(x='mpg', y='origin', \n",
        "            data=cars,\n",
        "            linewidth=2.5\n",
        "           );"
      ],
      "execution_count": 39,
      "outputs": [
        {
          "output_type": "display_data",
          "data": {
            "image/png": "[encoded data removed]",
            "text/plain": [
              "<Figure size 432x288 with 1 Axes>"
            ]
          },
          "metadata": {}
        }
      ]
    },
    {
      "cell_type": "markdown",
      "metadata": {
        "id": "iiNMC6AhiS41"
      },
      "source": [
        "### whis"
      ]
    },
    {
      "cell_type": "code",
      "metadata": {
        "colab": {
          "base_uri": "https://localhost:8080/",
          "height": 278
        },
        "id": "slBnqSA4iS41",
        "outputId": "544daa5c-f76e-4030-ebc8-4c99f75c47ac"
      },
      "source": [
        "sns.boxplot(x='mpg', y='origin', \n",
        "            data=cars,\n",
        "            whis=1\n",
        "           );"
      ],
      "execution_count": 40,
      "outputs": [
        {
          "output_type": "display_data",
          "data": {
            "image/png": "[encoded data removed]",
            "text/plain": [
              "<Figure size 432x288 with 1 Axes>"
            ]
          },
          "metadata": {}
        }
      ]
    },
    {
      "cell_type": "code",
      "metadata": {
        "colab": {
          "base_uri": "https://localhost:8080/",
          "height": 278
        },
        "id": "IZ6sYbHliS42",
        "outputId": "02e1abc8-0aad-496b-8a7f-740a56dd2049"
      },
      "source": [
        "sns.boxplot(x='mpg', y='origin', \n",
        "            data=cars,\n",
        "            whis=2\n",
        "           );"
      ],
      "execution_count": 41,
      "outputs": [
        {
          "output_type": "display_data",
          "data": {
            "image/png": "[encoded data removed]",
            "text/plain": [
              "<Figure size 432x288 with 1 Axes>"
            ]
          },
          "metadata": {}
        }
      ]
    },
    {
      "cell_type": "markdown",
      "metadata": {
        "id": "Itexr3lliS42"
      },
      "source": [
        "### fliersize"
      ]
    },
    {
      "cell_type": "code",
      "metadata": {
        "colab": {
          "base_uri": "https://localhost:8080/",
          "height": 278
        },
        "id": "HMQj0JUZiS42",
        "outputId": "a2f9080d-c3a6-4478-f7c1-761ad497e51b"
      },
      "source": [
        "sns.boxplot(x='mpg', y='origin', \n",
        "            data=cars,\n",
        "            fliersize=2\n",
        "           );"
      ],
      "execution_count": 42,
      "outputs": [
        {
          "output_type": "display_data",
          "data": {
            "image/png": "[encoded data removed]",
            "text/plain": [
              "<Figure size 432x288 with 1 Axes>"
            ]
          },
          "metadata": {}
        }
      ]
    },
    {
      "cell_type": "code",
      "metadata": {
        "colab": {
          "base_uri": "https://localhost:8080/",
          "height": 278
        },
        "id": "k-LHQF9DiS42",
        "outputId": "a2309013-34e2-43e9-b8e7-1cbe77d8663e"
      },
      "source": [
        "sns.boxplot(x='mpg', y='origin', \n",
        "            data=cars,\n",
        "            fliersize=10\n",
        "           );"
      ],
      "execution_count": 43,
      "outputs": [
        {
          "output_type": "display_data",
          "data": {
            "image/png": "[encoded data removed]",
            "text/plain": [
              "<Figure size 432x288 with 1 Axes>"
            ]
          },
          "metadata": {}
        }
      ]
    },
    {
      "cell_type": "markdown",
      "metadata": {
        "id": "WAziFQC8iS42"
      },
      "source": [
        "### showcaps\n",
        "\n",
        "Check the [matplotlib documentation](https://matplotlib.org/api/_as_gen/matplotlib.pyplot.boxplot.html) for even more styling options"
      ]
    },
    {
      "cell_type": "code",
      "metadata": {
        "colab": {
          "base_uri": "https://localhost:8080/",
          "height": 278
        },
        "id": "lwn2ApUgiS43",
        "outputId": "e1c7358b-9278-4fcc-e49b-90dff184f893"
      },
      "source": [
        "sns.boxplot(x='mpg', y='origin', \n",
        "            data=cars,\n",
        "            showcaps=False\n",
        "           );"
      ],
      "execution_count": 44,
      "outputs": [
        {
          "output_type": "display_data",
          "data": {
            "image/png": "[encoded data removed]",
            "text/plain": [
              "<Figure size 432x288 with 1 Axes>"
            ]
          },
          "metadata": {}
        }
      ]
    },
    {
      "cell_type": "code",
      "metadata": {
        "id": "0jcIxPk4iS43"
      },
      "source": [
        ""
      ],
      "execution_count": 44,
      "outputs": []
    }
  ]
}