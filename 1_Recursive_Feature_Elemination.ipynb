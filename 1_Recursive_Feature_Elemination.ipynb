{
  "nbformat": 4,
  "nbformat_minor": 0,
  "metadata": {
    "colab": {
      "name": "1_Recursive-Feature-Elemination.ipynb",
      "provenance": [],
      "collapsed_sections": [],
      "authorship_tag": "ABX9TyMfzmLjT91W/QRrbG7ZuuSn",
      "include_colab_link": true
    },
    "kernelspec": {
      "name": "python3",
      "display_name": "Python 3"
    },
    "language_info": {
      "name": "python"
    }
  },
  "cells": [
    {
      "cell_type": "markdown",
      "metadata": {
        "id": "view-in-github",
        "colab_type": "text"
      },
      "source": [
        "<a href=\"https://colab.research.google.com/github/sureshmecad/Google-Colab/blob/master/1_Recursive_Feature_Elemination.ipynb\" target=\"_parent\"><img src=\"https://colab.research.google.com/assets/colab-badge.svg\" alt=\"Open In Colab\"/></a>"
      ]
    },
    {
      "cell_type": "markdown",
      "metadata": {
        "id": "XcxxTsdDQ565"
      },
      "source": [
        "- https://www.youtube.com/watch?v=Yo1vYRdJ95k  ---> Recursive Feature Elimination Technique ---> Unfold Datascience\n",
        "\n",
        "- https://www.linkedin.com/pulse/what-recursive-feature-elimination-amit-mittal/  ---> LinkedIn"
      ]
    },
    {
      "cell_type": "markdown",
      "metadata": {
        "id": "eBgFxkn-bV1g"
      },
      "source": [
        "---------"
      ]
    },
    {
      "cell_type": "code",
      "metadata": {
        "id": "CHNEC8VsbW6g"
      },
      "source": [
        "# We use the following two commands to fit RFE,.\n",
        "\n",
        "rfe = RFE(estimator = lm, n_features_to_select = 7, step = 1)\n",
        "\n",
        "rfe = rfe.fit(X_train, y_train)"
      ],
      "execution_count": null,
      "outputs": []
    },
    {
      "cell_type": "markdown",
      "metadata": {
        "id": "myCVRLqBbf96"
      },
      "source": [
        "- Here, **lm is a linear regression** model **already trained** on the training set using **all features.**\n",
        "\n",
        "- Once the model is fit, we can get the **best or top-n, 7 in this case,** features for our model by running the following commands."
      ]
    },
    {
      "cell_type": "code",
      "metadata": {
        "id": "QIeOMtzebtUr"
      },
      "source": [
        "col = X_train.columns[rfe.support_]\n",
        "\n",
        "X_train = X_train[col]"
      ],
      "execution_count": null,
      "outputs": []
    },
    {
      "cell_type": "markdown",
      "metadata": {
        "id": "78sgIu5Ibt7D"
      },
      "source": [
        "- Now, **X_train** will contain data **only for top-n features.** There are two majorly attributes used with RFE."
      ]
    },
    {
      "cell_type": "markdown",
      "metadata": {
        "id": "-jYfj1-wb0Yb"
      },
      "source": [
        "-----------------"
      ]
    },
    {
      "cell_type": "code",
      "metadata": {
        "id": "lEZp4c6VOfdf"
      },
      "source": [
        "from sklearn.feature_selection import RFE"
      ],
      "execution_count": null,
      "outputs": []
    },
    {
      "cell_type": "code",
      "metadata": {
        "id": "BKYkkhlzQInP"
      },
      "source": [
        "select = RFE(RandomForestClassifier(n_estimators=100,random_state=42),n_features_to_select=10)\n",
        "select.fit(X_train,y_train)\n",
        "X_train_selected = select.transform(X_train)"
      ],
      "execution_count": null,
      "outputs": []
    },
    {
      "cell_type": "code",
      "metadata": {
        "id": "XJRO52ixQNqn"
      },
      "source": [
        "print(\"X_train.shape: {}\".format(X_train.shape))\n",
        "print(\"X_train_selected.shape: {}\".format(X_train_selected.shape))"
      ],
      "execution_count": null,
      "outputs": []
    },
    {
      "cell_type": "code",
      "metadata": {
        "id": "zH9gWccPQXav"
      },
      "source": [
        "mask = select.get_support()\n",
        "plt.matshow(mask.reshape(1,-1),cmap='gray_r')\n",
        "plt.xlabel(\"Sample index\")\n",
        "plt.yticks(())\n",
        "plt.show()"
      ],
      "execution_count": null,
      "outputs": []
    },
    {
      "cell_type": "code",
      "metadata": {
        "id": "KPYeKAdoQZ7v"
      },
      "source": [
        "X_test_selected = select.transform(X_test)\n",
        "\n",
        "model.fit(X_train,y_train)\n",
        "print(\"Scoree with all features: {:,.3f}\".format(model.score(X_test,y_test)))\n",
        "\n",
        "model.fit(X_train_selected,y_train)\n",
        "print(\"Scoree with selected features: {:,.3f}\".format(model.score(X_test_selected,y_test)))"
      ],
      "execution_count": null,
      "outputs": []
    }
  ]
}