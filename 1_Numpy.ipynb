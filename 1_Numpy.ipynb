{
  "nbformat": 4,
  "nbformat_minor": 0,
  "metadata": {
    "colab": {
      "name": "1_Numpy.ipynb",
      "provenance": [],
      "collapsed_sections": [],
      "authorship_tag": "ABX9TyOvJMFJmeaRhaRy7Bor+3Lk",
      "include_colab_link": true
    },
    "kernelspec": {
      "name": "python3",
      "display_name": "Python 3"
    },
    "language_info": {
      "name": "python"
    }
  },
  "cells": [
    {
      "cell_type": "markdown",
      "metadata": {
        "id": "view-in-github",
        "colab_type": "text"
      },
      "source": [
        "<a href=\"https://colab.research.google.com/github/sureshmecad/Google-Colab/blob/master/1_Numpy.ipynb\" target=\"_parent\"><img src=\"https://colab.research.google.com/assets/colab-badge.svg\" alt=\"Open In Colab\"/></a>"
      ]
    },
    {
      "cell_type": "markdown",
      "metadata": {
        "id": "DA3EQUxUHuYw"
      },
      "source": [
        "\n",
        "### Indexing and Slicing:\n",
        "https://regenerativetoday.com/indexing-and-slicing-of-1d-2d-and-3d-arrays-using-numpy/\n",
        "\n",
        "https://www.pluralsight.com/guides/working-numpy-arrays-indexing-slicing-guide"
      ]
    },
    {
      "cell_type": "code",
      "metadata": {
        "id": "Y9MtV7604HwA"
      },
      "source": [
        "import numpy as np"
      ],
      "execution_count": 2,
      "outputs": []
    },
    {
      "cell_type": "markdown",
      "metadata": {
        "id": "XCIlPjdP4eTi"
      },
      "source": [
        "### **1) Addition**"
      ]
    },
    {
      "cell_type": "code",
      "metadata": {
        "colab": {
          "base_uri": "https://localhost:8080/"
        },
        "id": "nbrmxnrR4a8Z",
        "outputId": "dd6a3632-6895-4708-f581-ec69aa382272"
      },
      "source": [
        "# What will be the output of\n",
        "np.add(1.0, 4.0) # Where np is numpy"
      ],
      "execution_count": null,
      "outputs": [
        {
          "output_type": "execute_result",
          "data": {
            "text/plain": [
              "5.0"
            ]
          },
          "metadata": {
            "tags": []
          },
          "execution_count": 3
        }
      ]
    },
    {
      "cell_type": "markdown",
      "metadata": {
        "id": "jJZhCo7SI-Ag"
      },
      "source": [
        "----------------------------"
      ]
    },
    {
      "cell_type": "markdown",
      "metadata": {
        "id": "fgQC6Yhr4g7a"
      },
      "source": [
        "### **2) Subtraction**"
      ]
    },
    {
      "cell_type": "code",
      "metadata": {
        "colab": {
          "base_uri": "https://localhost:8080/"
        },
        "id": "TBGwudLe1OP8",
        "outputId": "1c030391-fe91-4b3e-85e4-e557d74881b0"
      },
      "source": [
        "# What will be the output of\n",
        "np.subtract(1.0, 4.0) # Where np is numpy"
      ],
      "execution_count": null,
      "outputs": [
        {
          "output_type": "execute_result",
          "data": {
            "text/plain": [
              "-3.0"
            ]
          },
          "metadata": {
            "tags": []
          },
          "execution_count": 2
        }
      ]
    },
    {
      "cell_type": "markdown",
      "metadata": {
        "id": "VHBpu8B9I8Vw"
      },
      "source": [
        "-----------------------------"
      ]
    },
    {
      "cell_type": "markdown",
      "metadata": {
        "id": "vLzyEYy_Godt"
      },
      "source": [
        "### **3) dot Product**"
      ]
    },
    {
      "cell_type": "markdown",
      "metadata": {
        "id": "tflyVtFtGxh-"
      },
      "source": [
        "#### **Syntax**\n",
        "\n",
        "**numpy.dot(a, b, out=None)**"
      ]
    },
    {
      "cell_type": "markdown",
      "metadata": {
        "id": "j-hLtvAkHA7Q"
      },
      "source": [
        "|Parameter   |Description                       |\n",
        "|------------|----------------------------------|\n",
        "|a           |[mandatory] First argument for dot product operation|\n",
        "|b           |[mandatory] Second argument for dot product operation|\n",
        "|out         |[optional] This argument is used for performance. This has to be a C-contiguous array, and the dtype must be the dtype that would be returned for dot(a,b).|"
      ]
    },
    {
      "cell_type": "markdown",
      "metadata": {
        "id": "n7F1BaPxHlRS"
      },
      "source": [
        "##### **Example 1: Numpy Dot Product of Scalars**"
      ]
    },
    {
      "cell_type": "code",
      "metadata": {
        "colab": {
          "base_uri": "https://localhost:8080/"
        },
        "id": "WxpHRAM8Hb4n",
        "outputId": "01301cfb-6062-40aa-e797-2a88eacd8514"
      },
      "source": [
        "a = 3 \n",
        "b = 4\n",
        "output = np.dot(a,b)\n",
        "print(output)"
      ],
      "execution_count": 4,
      "outputs": [
        {
          "output_type": "stream",
          "text": [
            "12\n"
          ],
          "name": "stdout"
        }
      ]
    },
    {
      "cell_type": "markdown",
      "metadata": {
        "id": "uicMg0VZHrPS"
      },
      "source": [
        "**Explanation**\n",
        "\n",
        "output = a * b\n",
        "       = 3 * 4\n",
        "       = 12"
      ]
    },
    {
      "cell_type": "markdown",
      "metadata": {
        "id": "g90OFGuCHxdC"
      },
      "source": [
        "##### **Example 2: Numpy Dot Product of 1D Arrays (Vectors)**"
      ]
    },
    {
      "cell_type": "code",
      "metadata": {
        "colab": {
          "base_uri": "https://localhost:8080/"
        },
        "id": "Je1xNVMcH3ba",
        "outputId": "f4c27f08-a23f-44e8-8c3a-25eb9a47ae05"
      },
      "source": [
        "#initialize arrays\n",
        "A = np.array([2, 1, 5, 4])\n",
        "B = np.array([3, 4, 7, 8])\n",
        "\n",
        "#dot product\n",
        "output = np.dot(A, B)\n",
        "\n",
        "print(output)"
      ],
      "execution_count": 5,
      "outputs": [
        {
          "output_type": "stream",
          "text": [
            "77\n"
          ],
          "name": "stdout"
        }
      ]
    },
    {
      "cell_type": "markdown",
      "metadata": {
        "id": "8am3djbwIBAc"
      },
      "source": [
        "**Dot Product**\n",
        "\n",
        "output = [2, 1, 5, 4].[3, 4, 7, 8]\n",
        "       = 2*3 + 1*4 + 5*7 + 4*8\n",
        "       = 77"
      ]
    },
    {
      "cell_type": "code",
      "metadata": {
        "colab": {
          "base_uri": "https://localhost:8080/"
        },
        "id": "u8PRrDV-FUVw",
        "outputId": "aaf3947a-01e6-42bf-9e4f-9b31a9589e02"
      },
      "source": [
        "a = [[1, 0], [0, 1]]\n",
        "b = [[4, 1], [2, 2]]\n",
        "np.dot(a, b)"
      ],
      "execution_count": 3,
      "outputs": [
        {
          "output_type": "execute_result",
          "data": {
            "text/plain": [
              "array([[4, 1],\n",
              "       [2, 2]])"
            ]
          },
          "metadata": {
            "tags": []
          },
          "execution_count": 3
        }
      ]
    },
    {
      "cell_type": "markdown",
      "metadata": {
        "id": "QYIWQC0OIYAm"
      },
      "source": [
        "##### **Example 3: Numpy Dot Product of 2-D Arrays (Matrix)**"
      ]
    },
    {
      "cell_type": "code",
      "metadata": {
        "id": "oiGaaBJSIbed"
      },
      "source": [
        "#initialize arrays\n",
        "A = np.array([[2, 1], [5, 4]])\n",
        "B = np.array([[3, 4], [7, 8]])\n",
        "\n",
        "#dot product\n",
        "output = np.dot(A, B)\n",
        "\n",
        "print(output)"
      ],
      "execution_count": null,
      "outputs": []
    },
    {
      "cell_type": "markdown",
      "metadata": {
        "id": "jCc4JOxvIqc3"
      },
      "source": [
        "output\n",
        "\n",
        "       = [[2, 1], [5, 4]].[[3, 4], [7, 8]]\n",
        "\n",
        "       = [[2*3+1*7, 2*4+1*8], [5*3+4*7, 5*4+4*8]]\n",
        "\n",
        "       = [[13, 16], [43, 52]]"
      ]
    },
    {
      "cell_type": "markdown",
      "metadata": {
        "id": "KyrsotMuI404"
      },
      "source": [
        "---------------------------"
      ]
    },
    {
      "cell_type": "markdown",
      "metadata": {
        "id": "oZmnBbkODItl"
      },
      "source": [
        "### **4) Array**"
      ]
    },
    {
      "cell_type": "code",
      "metadata": {
        "colab": {
          "base_uri": "https://localhost:8080/"
        },
        "id": "9GaMg_-oDHFG",
        "outputId": "2f91bd83-ebd7-43d5-8096-8e03d089b39f"
      },
      "source": [
        "arr = np.array([[1, 2, 3, 4], [5, 6, 7, 8]])\n",
        "\n",
        "print(arr)\n",
        "\n",
        "print('\\nShape of the Array:',arr.shape)"
      ],
      "execution_count": null,
      "outputs": [
        {
          "output_type": "stream",
          "text": [
            "[[1 2 3 4]\n",
            " [5 6 7 8]]\n",
            "\n",
            "Shape of the Array: (2, 4)\n"
          ],
          "name": "stdout"
        }
      ]
    },
    {
      "cell_type": "code",
      "metadata": {
        "colab": {
          "base_uri": "https://localhost:8080/"
        },
        "id": "boeBvhW3FJpH",
        "outputId": "d29e39cf-3d4f-4302-d03a-40d7fcf6464c"
      },
      "source": [
        "# Python program to demonstrate \n",
        "# basic array characteristics\n",
        "import numpy as np\n",
        "  \n",
        "# Creating array object\n",
        "arr = np.array( [[ 1, 2, 3],\n",
        "                 [ 4, 2, 5]] )\n",
        "  \n",
        "# Printing type of arr object\n",
        "print(\"Array is of type: \", type(arr))\n",
        "  \n",
        "# Printing array dimensions (axes)\n",
        "print(\"No. of dimensions: \", arr.ndim)\n",
        "  \n",
        "# Printing shape of array\n",
        "print(\"Shape of array: \", arr.shape)\n",
        "  \n",
        "# Printing size (total number of elements) of array\n",
        "print(\"Size of array: \", arr.size)\n",
        "  \n",
        "# Printing type of elements in array\n",
        "print(\"Array stores elements of type: \", arr.dtype)"
      ],
      "execution_count": null,
      "outputs": [
        {
          "output_type": "stream",
          "text": [
            "Array is of type:  <class 'numpy.ndarray'>\n",
            "No. of dimensions:  2\n",
            "Shape of array:  (2, 3)\n",
            "Size of array:  6\n",
            "Array stores elements of type:  int64\n"
          ],
          "name": "stdout"
        }
      ]
    },
    {
      "cell_type": "markdown",
      "metadata": {
        "id": "rYW9k8MSI6dQ"
      },
      "source": [
        "------------------------"
      ]
    }
  ]
}