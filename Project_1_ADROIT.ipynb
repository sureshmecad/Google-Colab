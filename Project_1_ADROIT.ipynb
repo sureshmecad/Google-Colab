{
  "nbformat": 4,
  "nbformat_minor": 0,
  "metadata": {
    "colab": {
      "name": "Project-1_ADROIT.ipynb",
      "provenance": [],
      "collapsed_sections": [],
      "include_colab_link": true
    },
    "kernelspec": {
      "name": "python3",
      "display_name": "Python 3"
    },
    "language_info": {
      "name": "python"
    }
  },
  "cells": [
    {
      "cell_type": "markdown",
      "metadata": {
        "id": "view-in-github",
        "colab_type": "text"
      },
      "source": [
        "<a href=\"https://colab.research.google.com/github/sureshmecad/Google-Colab/blob/master/Project_1_ADROIT.ipynb\" target=\"_parent\"><img src=\"https://colab.research.google.com/assets/colab-badge.svg\" alt=\"Open In Colab\"/></a>"
      ]
    },
    {
      "cell_type": "markdown",
      "metadata": {
        "id": "YUp_hEUItAx2"
      },
      "source": [
        "### **Project 1**\n",
        "\n",
        "#### **ADROIT: Android malware detection using meta-information**"
      ]
    },
    {
      "cell_type": "markdown",
      "metadata": {
        "id": "9-ajw-Rntqx5"
      },
      "source": [
        "##### **Company :** The Machine Learning Company\n",
        "\n",
        "##### **Role :** Machine Learning Intern\n",
        "\n",
        "##### **Author :** Anuganti Suresh"
      ]
    },
    {
      "cell_type": "markdown",
      "metadata": {
        "id": "rEOpTFxhuB8j"
      },
      "source": [
        "#### **Problem Statement**\n",
        "\n",
        "- The task is to **classify** whether an android app is **benign or malware.**"
      ]
    },
    {
      "cell_type": "markdown",
      "metadata": {
        "id": "zRnmZx_suIBN"
      },
      "source": [
        "#### **Dataset Information:**\n",
        "\n",
        "- **Number of Rows :** 23533\n",
        "\n",
        "- **Number of Columns :** 184"
      ]
    },
    {
      "cell_type": "markdown",
      "metadata": {
        "id": "FWyXh7v5323y"
      },
      "source": [
        "|Feature               |Description                               |\n",
        "|----------------------|------------------------------------------|\n",
        "|App                   |Name of the App                           |\n",
        "|Package               |Name of the Package                       |\n",
        "|Category              |The category in which app belongs         |\n",
        "|Description           |The description of the app                |\n",
        "|Rating                |Rating of the app                         |\n",
        "|Number of Ratings     |Number of times the app is rated          |\n",
        "|Price                 |Price of the App                          |\n",
        "|Related Apps          |Apps having similar characteristics       |\n",
        "|Dangerous Permission  |Number of potentially dangerous permissions|\n",
        "|Safe Permissions      |Number of safe permissions                 |\n",
        "|Class                 |Category of the app {Benign (0) or malware (1)}|"
      ]
    },
    {
      "cell_type": "markdown",
      "metadata": {
        "id": "hVA-FbYquSmO"
      },
      "source": [
        "---------------"
      ]
    },
    {
      "cell_type": "markdown",
      "metadata": {
        "id": "VsocnqRVHW_5"
      },
      "source": [
        "### Import Libraries \n"
      ]
    },
    {
      "cell_type": "code",
      "metadata": {
        "id": "_a6gGwKJHThd"
      },
      "source": [
        "# Read Data\n",
        "import numpy as np                     # Linear Algebra (calculate the mean and standard deviation)\n",
        "import pandas as pd                    # manipulate data, data processing, load csv file I/O (e.g. pd.read_csv)\n",
        "\n",
        "# Visualization\n",
        "import seaborn as sns                  # Visualization using seaborn\n",
        "import matplotlib.pyplot as plt        # Visualization using matplotlib\n",
        "%matplotlib inline\n",
        "\n",
        "# style\n",
        "plt.style.use(\"fivethirtyeight\")       # Set Graphs Background style using matplotlib\n",
        "sns.set_style(\"darkgrid\")              # Set Graphs Background style using seaborn\n",
        "\n",
        "import warnings                        # Ignore Warnings\n",
        "warnings.filterwarnings(\"ignore\")"
      ],
      "execution_count": null,
      "outputs": []
    },
    {
      "cell_type": "code",
      "metadata": {
        "id": "7QvUNpLqpe8J"
      },
      "source": [
        "from sklearn.ensemble import RandomForestClassifier\n",
        "from sklearn.tree import DecisionTreeClassifier\n",
        "from sklearn.naive_bayes import MultinomialNB\n",
        "from sklearn.neighbors import KNeighborsClassifier\n",
        "from sklearn.ensemble import AdaBoostClassifier"
      ],
      "execution_count": null,
      "outputs": []
    },
    {
      "cell_type": "markdown",
      "metadata": {
        "id": "nwX0JDAKHcE3"
      },
      "source": [
        "### Import Data And Preprocessing"
      ]
    },
    {
      "cell_type": "code",
      "metadata": {
        "id": "z369RAT1TBdh",
        "colab": {
          "base_uri": "https://localhost:8080/"
        },
        "outputId": "89a9d1d3-b9ad-4585-aed6-5c5a83c0927d"
      },
      "source": [
        "from google.colab import drive\n",
        "drive.mount('/content/drive')"
      ],
      "execution_count": 4,
      "outputs": [
        {
          "output_type": "stream",
          "text": [
            "Mounted at /content/drive\n"
          ],
          "name": "stdout"
        }
      ]
    },
    {
      "cell_type": "code",
      "metadata": {
        "id": "x-xCn9-1HkFu"
      },
      "source": [
        "Android = pd.read_csv(\"/content/drive/MyDrive/TMLC/Android.zip\")"
      ],
      "execution_count": 6,
      "outputs": []
    },
    {
      "cell_type": "code",
      "metadata": {
        "id": "A4jv6pUyHkCS",
        "colab": {
          "base_uri": "https://localhost:8080/",
          "height": 1000
        },
        "outputId": "5f8d668e-02b1-4eb7-f42e-07d32be37876"
      },
      "source": [
        "display(Android.head())\n",
        "display(Android.tail())"
      ],
      "execution_count": 7,
      "outputs": [
        {
          "output_type": "display_data",
          "data": {
            "text/html": [
              "<div>\n",
              "<style scoped>\n",
              "    .dataframe tbody tr th:only-of-type {\n",
              "        vertical-align: middle;\n",
              "    }\n",
              "\n",
              "    .dataframe tbody tr th {\n",
              "        vertical-align: top;\n",
              "    }\n",
              "\n",
              "    .dataframe thead th {\n",
              "        text-align: right;\n",
              "    }\n",
              "</style>\n",
              "<table border=\"1\" class=\"dataframe\">\n",
              "  <thead>\n",
              "    <tr style=\"text-align: right;\">\n",
              "      <th></th>\n",
              "      <th>App</th>\n",
              "      <th>Package</th>\n",
              "      <th>Category</th>\n",
              "      <th>Description</th>\n",
              "      <th>Rating</th>\n",
              "      <th>Number of ratings</th>\n",
              "      <th>Price</th>\n",
              "      <th>Related apps</th>\n",
              "      <th>Dangerous permissions count</th>\n",
              "      <th>Safe permissions count</th>\n",
              "      <th>Default : Access DRM content. (S)</th>\n",
              "      <th>Default : Access Email provider data (S)</th>\n",
              "      <th>Default : Access all system downloads (S)</th>\n",
              "      <th>Default : Access download manager. (S)</th>\n",
              "      <th>Default : Advanced download manager functions. (S)</th>\n",
              "      <th>Default : Audio File Access (S)</th>\n",
              "      <th>Default : Install DRM content. (S)</th>\n",
              "      <th>Default : Modify Google service configuration (S)</th>\n",
              "      <th>Default : Modify Google settings (S)</th>\n",
              "      <th>Default : Move application resources (S)</th>\n",
              "      <th>Default : Read Google settings (S)</th>\n",
              "      <th>Default : Send download notifications. (S)</th>\n",
              "      <th>Default : Voice Search Shortcuts (S)</th>\n",
              "      <th>Default : access SurfaceFlinger (S)</th>\n",
              "      <th>Default : access checkin properties (S)</th>\n",
              "      <th>Default : access the cache filesystem (S)</th>\n",
              "      <th>Default : access to passwords for Google accounts (S)</th>\n",
              "      <th>Default : act as an account authenticator (S)</th>\n",
              "      <th>Default : bind to a wallpaper (S)</th>\n",
              "      <th>Default : bind to an input method (S)</th>\n",
              "      <th>Default : change screen orientation (S)</th>\n",
              "      <th>Default : coarse (network-based) location (S)</th>\n",
              "      <th>Default : control location update notifications (S)</th>\n",
              "      <th>Default : control system backup and restore (S)</th>\n",
              "      <th>Default : delete applications (S)</th>\n",
              "      <th>Default : delete other applications' caches (S)</th>\n",
              "      <th>Default : delete other applications' data (S)</th>\n",
              "      <th>Default : directly call any phone numbers (S)</th>\n",
              "      <th>Default : directly install applications (S)</th>\n",
              "      <th>Default : disable or modify status bar (S)</th>\n",
              "      <th>...</th>\n",
              "      <th>Your accounts : access other Google services (D)</th>\n",
              "      <th>Your accounts : act as an account authenticator (D)</th>\n",
              "      <th>Your accounts : act as the AccountManagerService (S)</th>\n",
              "      <th>Your accounts : contacts data in Google accounts (D)</th>\n",
              "      <th>Your accounts : discover known accounts (S)</th>\n",
              "      <th>Your accounts : manage the accounts list (D)</th>\n",
              "      <th>Your accounts : read Google service configuration (S)</th>\n",
              "      <th>Your accounts : use the authentication credentials of an account (D)</th>\n",
              "      <th>Your accounts : view configured accounts (S)</th>\n",
              "      <th>Your location : access extra location provider commands (S)</th>\n",
              "      <th>Your location : coarse (network-based) location (D)</th>\n",
              "      <th>Your location : fine (GPS) location (D)</th>\n",
              "      <th>Your location : mock location sources for testing (D)</th>\n",
              "      <th>Your messages : Read Email attachments (D)</th>\n",
              "      <th>Your messages : Send Gmail (S)</th>\n",
              "      <th>Your messages : edit SMS or MMS (D)</th>\n",
              "      <th>Your messages : modify Gmail (D)</th>\n",
              "      <th>Your messages : read Gmail (D)</th>\n",
              "      <th>Your messages : read Gmail attachment previews (D)</th>\n",
              "      <th>Your messages : read SMS or MMS (D)</th>\n",
              "      <th>Your messages : read instant messages (D)</th>\n",
              "      <th>Your messages : receive MMS (D)</th>\n",
              "      <th>Your messages : receive SMS (D)</th>\n",
              "      <th>Your messages : receive WAP (D)</th>\n",
              "      <th>Your messages : send SMS-received broadcast (S)</th>\n",
              "      <th>Your messages : send WAP-PUSH-received broadcast (S)</th>\n",
              "      <th>Your messages : write instant messages (D)</th>\n",
              "      <th>Your personal information : add or modify calendar events and send email to guests (D)</th>\n",
              "      <th>Your personal information : choose widgets (S)</th>\n",
              "      <th>Your personal information : read Browser's history and bookmarks (D)</th>\n",
              "      <th>Your personal information : read calendar events (D)</th>\n",
              "      <th>Your personal information : read contact data (D)</th>\n",
              "      <th>Your personal information : read sensitive log data (D)</th>\n",
              "      <th>Your personal information : read user defined dictionary (D)</th>\n",
              "      <th>Your personal information : retrieve system internal state (S)</th>\n",
              "      <th>Your personal information : set alarm in alarm clock (S)</th>\n",
              "      <th>Your personal information : write Browser's history and bookmarks (D)</th>\n",
              "      <th>Your personal information : write contact data (D)</th>\n",
              "      <th>Your personal information : write to user defined dictionary (S)</th>\n",
              "      <th>Class</th>\n",
              "    </tr>\n",
              "  </thead>\n",
              "  <tbody>\n",
              "    <tr>\n",
              "      <th>0</th>\n",
              "      <td>Canada Post Corporation</td>\n",
              "      <td>com.canadapost.android</td>\n",
              "      <td>Business</td>\n",
              "      <td>Canada Post Mobile App gives you access to som...</td>\n",
              "      <td>3.1</td>\n",
              "      <td>77</td>\n",
              "      <td>0.00</td>\n",
              "      <td>{com.adaffix.pub.ca.android, com.kevinquan.gas...</td>\n",
              "      <td>7.0</td>\n",
              "      <td>1</td>\n",
              "      <td>0</td>\n",
              "      <td>0</td>\n",
              "      <td>0</td>\n",
              "      <td>0</td>\n",
              "      <td>0</td>\n",
              "      <td>0</td>\n",
              "      <td>0</td>\n",
              "      <td>0</td>\n",
              "      <td>0</td>\n",
              "      <td>0</td>\n",
              "      <td>0</td>\n",
              "      <td>0</td>\n",
              "      <td>0</td>\n",
              "      <td>0</td>\n",
              "      <td>0</td>\n",
              "      <td>0</td>\n",
              "      <td>0</td>\n",
              "      <td>0</td>\n",
              "      <td>0</td>\n",
              "      <td>0</td>\n",
              "      <td>0</td>\n",
              "      <td>0</td>\n",
              "      <td>0</td>\n",
              "      <td>0</td>\n",
              "      <td>0</td>\n",
              "      <td>0</td>\n",
              "      <td>0</td>\n",
              "      <td>0</td>\n",
              "      <td>0</td>\n",
              "      <td>0</td>\n",
              "      <td>...</td>\n",
              "      <td>0</td>\n",
              "      <td>0</td>\n",
              "      <td>0</td>\n",
              "      <td>0</td>\n",
              "      <td>0</td>\n",
              "      <td>0</td>\n",
              "      <td>0</td>\n",
              "      <td>0</td>\n",
              "      <td>0</td>\n",
              "      <td>0</td>\n",
              "      <td>0</td>\n",
              "      <td>1</td>\n",
              "      <td>0</td>\n",
              "      <td>0</td>\n",
              "      <td>0</td>\n",
              "      <td>0</td>\n",
              "      <td>0</td>\n",
              "      <td>0</td>\n",
              "      <td>0</td>\n",
              "      <td>0</td>\n",
              "      <td>0</td>\n",
              "      <td>0</td>\n",
              "      <td>0</td>\n",
              "      <td>0</td>\n",
              "      <td>0</td>\n",
              "      <td>0</td>\n",
              "      <td>0</td>\n",
              "      <td>0</td>\n",
              "      <td>0</td>\n",
              "      <td>0</td>\n",
              "      <td>0</td>\n",
              "      <td>1</td>\n",
              "      <td>0</td>\n",
              "      <td>0</td>\n",
              "      <td>0</td>\n",
              "      <td>0</td>\n",
              "      <td>0</td>\n",
              "      <td>1</td>\n",
              "      <td>0</td>\n",
              "      <td>0</td>\n",
              "    </tr>\n",
              "    <tr>\n",
              "      <th>1</th>\n",
              "      <td>Word Farm</td>\n",
              "      <td>com.realcasualgames.words</td>\n",
              "      <td>Brain &amp; Puzzle</td>\n",
              "      <td>Speed and strategy combine in this exciting wo...</td>\n",
              "      <td>4.3</td>\n",
              "      <td>199</td>\n",
              "      <td>0.00</td>\n",
              "      <td>{air.com.zubawing.FastWordLite, com.joybits.do...</td>\n",
              "      <td>3.0</td>\n",
              "      <td>2</td>\n",
              "      <td>0</td>\n",
              "      <td>0</td>\n",
              "      <td>0</td>\n",
              "      <td>0</td>\n",
              "      <td>0</td>\n",
              "      <td>0</td>\n",
              "      <td>0</td>\n",
              "      <td>0</td>\n",
              "      <td>0</td>\n",
              "      <td>0</td>\n",
              "      <td>0</td>\n",
              "      <td>0</td>\n",
              "      <td>0</td>\n",
              "      <td>0</td>\n",
              "      <td>0</td>\n",
              "      <td>0</td>\n",
              "      <td>0</td>\n",
              "      <td>0</td>\n",
              "      <td>0</td>\n",
              "      <td>0</td>\n",
              "      <td>0</td>\n",
              "      <td>0</td>\n",
              "      <td>0</td>\n",
              "      <td>0</td>\n",
              "      <td>0</td>\n",
              "      <td>0</td>\n",
              "      <td>0</td>\n",
              "      <td>0</td>\n",
              "      <td>0</td>\n",
              "      <td>0</td>\n",
              "      <td>...</td>\n",
              "      <td>0</td>\n",
              "      <td>0</td>\n",
              "      <td>0</td>\n",
              "      <td>0</td>\n",
              "      <td>1</td>\n",
              "      <td>0</td>\n",
              "      <td>0</td>\n",
              "      <td>0</td>\n",
              "      <td>0</td>\n",
              "      <td>0</td>\n",
              "      <td>0</td>\n",
              "      <td>0</td>\n",
              "      <td>0</td>\n",
              "      <td>0</td>\n",
              "      <td>0</td>\n",
              "      <td>0</td>\n",
              "      <td>0</td>\n",
              "      <td>0</td>\n",
              "      <td>0</td>\n",
              "      <td>0</td>\n",
              "      <td>0</td>\n",
              "      <td>0</td>\n",
              "      <td>0</td>\n",
              "      <td>0</td>\n",
              "      <td>0</td>\n",
              "      <td>0</td>\n",
              "      <td>0</td>\n",
              "      <td>0</td>\n",
              "      <td>0</td>\n",
              "      <td>0</td>\n",
              "      <td>0</td>\n",
              "      <td>0</td>\n",
              "      <td>0</td>\n",
              "      <td>0</td>\n",
              "      <td>0</td>\n",
              "      <td>0</td>\n",
              "      <td>0</td>\n",
              "      <td>0</td>\n",
              "      <td>0</td>\n",
              "      <td>0</td>\n",
              "    </tr>\n",
              "    <tr>\n",
              "      <th>2</th>\n",
              "      <td>Fortunes of War FREE</td>\n",
              "      <td>fortunesofwar.free</td>\n",
              "      <td>Cards &amp; Casino</td>\n",
              "      <td>Fortunes of War is a fast-paced, easy to learn...</td>\n",
              "      <td>4.1</td>\n",
              "      <td>243</td>\n",
              "      <td>0.00</td>\n",
              "      <td>{com.kevinquan.condado, hu.monsta.pazaak, net....</td>\n",
              "      <td>1.0</td>\n",
              "      <td>1</td>\n",
              "      <td>0</td>\n",
              "      <td>0</td>\n",
              "      <td>0</td>\n",
              "      <td>0</td>\n",
              "      <td>0</td>\n",
              "      <td>0</td>\n",
              "      <td>0</td>\n",
              "      <td>0</td>\n",
              "      <td>0</td>\n",
              "      <td>0</td>\n",
              "      <td>0</td>\n",
              "      <td>0</td>\n",
              "      <td>0</td>\n",
              "      <td>0</td>\n",
              "      <td>0</td>\n",
              "      <td>0</td>\n",
              "      <td>0</td>\n",
              "      <td>0</td>\n",
              "      <td>0</td>\n",
              "      <td>0</td>\n",
              "      <td>0</td>\n",
              "      <td>0</td>\n",
              "      <td>0</td>\n",
              "      <td>0</td>\n",
              "      <td>0</td>\n",
              "      <td>0</td>\n",
              "      <td>0</td>\n",
              "      <td>0</td>\n",
              "      <td>0</td>\n",
              "      <td>0</td>\n",
              "      <td>...</td>\n",
              "      <td>0</td>\n",
              "      <td>0</td>\n",
              "      <td>0</td>\n",
              "      <td>0</td>\n",
              "      <td>0</td>\n",
              "      <td>0</td>\n",
              "      <td>0</td>\n",
              "      <td>0</td>\n",
              "      <td>0</td>\n",
              "      <td>0</td>\n",
              "      <td>0</td>\n",
              "      <td>0</td>\n",
              "      <td>0</td>\n",
              "      <td>0</td>\n",
              "      <td>0</td>\n",
              "      <td>0</td>\n",
              "      <td>0</td>\n",
              "      <td>0</td>\n",
              "      <td>0</td>\n",
              "      <td>0</td>\n",
              "      <td>0</td>\n",
              "      <td>0</td>\n",
              "      <td>0</td>\n",
              "      <td>0</td>\n",
              "      <td>0</td>\n",
              "      <td>0</td>\n",
              "      <td>0</td>\n",
              "      <td>0</td>\n",
              "      <td>0</td>\n",
              "      <td>0</td>\n",
              "      <td>0</td>\n",
              "      <td>0</td>\n",
              "      <td>0</td>\n",
              "      <td>0</td>\n",
              "      <td>0</td>\n",
              "      <td>0</td>\n",
              "      <td>0</td>\n",
              "      <td>0</td>\n",
              "      <td>0</td>\n",
              "      <td>0</td>\n",
              "    </tr>\n",
              "    <tr>\n",
              "      <th>3</th>\n",
              "      <td>Better Keyboard: Avatar Purple</td>\n",
              "      <td>com.cc.betterkeyboard.skins.avatarpurple</td>\n",
              "      <td>Libraries &amp; Demo</td>\n",
              "      <td>Skin for Better Keyboard featuring a glossy fe...</td>\n",
              "      <td>3.6</td>\n",
              "      <td>2589</td>\n",
              "      <td>0.00</td>\n",
              "      <td>{eu.gdumoulin.betterandroid.skins.transparent....</td>\n",
              "      <td>0.0</td>\n",
              "      <td>0</td>\n",
              "      <td>0</td>\n",
              "      <td>0</td>\n",
              "      <td>0</td>\n",
              "      <td>0</td>\n",
              "      <td>0</td>\n",
              "      <td>0</td>\n",
              "      <td>0</td>\n",
              "      <td>0</td>\n",
              "      <td>0</td>\n",
              "      <td>0</td>\n",
              "      <td>0</td>\n",
              "      <td>0</td>\n",
              "      <td>0</td>\n",
              "      <td>0</td>\n",
              "      <td>0</td>\n",
              "      <td>0</td>\n",
              "      <td>0</td>\n",
              "      <td>0</td>\n",
              "      <td>0</td>\n",
              "      <td>0</td>\n",
              "      <td>0</td>\n",
              "      <td>0</td>\n",
              "      <td>0</td>\n",
              "      <td>0</td>\n",
              "      <td>0</td>\n",
              "      <td>0</td>\n",
              "      <td>0</td>\n",
              "      <td>0</td>\n",
              "      <td>0</td>\n",
              "      <td>0</td>\n",
              "      <td>...</td>\n",
              "      <td>0</td>\n",
              "      <td>0</td>\n",
              "      <td>0</td>\n",
              "      <td>0</td>\n",
              "      <td>0</td>\n",
              "      <td>0</td>\n",
              "      <td>0</td>\n",
              "      <td>0</td>\n",
              "      <td>0</td>\n",
              "      <td>0</td>\n",
              "      <td>0</td>\n",
              "      <td>0</td>\n",
              "      <td>0</td>\n",
              "      <td>0</td>\n",
              "      <td>0</td>\n",
              "      <td>0</td>\n",
              "      <td>0</td>\n",
              "      <td>0</td>\n",
              "      <td>0</td>\n",
              "      <td>0</td>\n",
              "      <td>0</td>\n",
              "      <td>0</td>\n",
              "      <td>0</td>\n",
              "      <td>0</td>\n",
              "      <td>0</td>\n",
              "      <td>0</td>\n",
              "      <td>0</td>\n",
              "      <td>0</td>\n",
              "      <td>0</td>\n",
              "      <td>0</td>\n",
              "      <td>0</td>\n",
              "      <td>0</td>\n",
              "      <td>0</td>\n",
              "      <td>0</td>\n",
              "      <td>0</td>\n",
              "      <td>0</td>\n",
              "      <td>0</td>\n",
              "      <td>0</td>\n",
              "      <td>0</td>\n",
              "      <td>0</td>\n",
              "    </tr>\n",
              "    <tr>\n",
              "      <th>4</th>\n",
              "      <td>Boxing Day</td>\n",
              "      <td>indiaNIC.android.BoxingDay</td>\n",
              "      <td>Lifestyle</td>\n",
              "      <td>Boxing Day by Christopher Jaymes&lt;p&gt;Based on a ...</td>\n",
              "      <td>0.0</td>\n",
              "      <td>0</td>\n",
              "      <td>5.99</td>\n",
              "      <td>NaN</td>\n",
              "      <td>1.0</td>\n",
              "      <td>0</td>\n",
              "      <td>0</td>\n",
              "      <td>0</td>\n",
              "      <td>0</td>\n",
              "      <td>0</td>\n",
              "      <td>0</td>\n",
              "      <td>0</td>\n",
              "      <td>0</td>\n",
              "      <td>0</td>\n",
              "      <td>0</td>\n",
              "      <td>0</td>\n",
              "      <td>0</td>\n",
              "      <td>0</td>\n",
              "      <td>0</td>\n",
              "      <td>0</td>\n",
              "      <td>0</td>\n",
              "      <td>0</td>\n",
              "      <td>0</td>\n",
              "      <td>0</td>\n",
              "      <td>0</td>\n",
              "      <td>0</td>\n",
              "      <td>0</td>\n",
              "      <td>0</td>\n",
              "      <td>0</td>\n",
              "      <td>0</td>\n",
              "      <td>0</td>\n",
              "      <td>0</td>\n",
              "      <td>0</td>\n",
              "      <td>0</td>\n",
              "      <td>0</td>\n",
              "      <td>0</td>\n",
              "      <td>...</td>\n",
              "      <td>0</td>\n",
              "      <td>0</td>\n",
              "      <td>0</td>\n",
              "      <td>0</td>\n",
              "      <td>0</td>\n",
              "      <td>0</td>\n",
              "      <td>0</td>\n",
              "      <td>0</td>\n",
              "      <td>0</td>\n",
              "      <td>0</td>\n",
              "      <td>0</td>\n",
              "      <td>0</td>\n",
              "      <td>0</td>\n",
              "      <td>0</td>\n",
              "      <td>0</td>\n",
              "      <td>0</td>\n",
              "      <td>0</td>\n",
              "      <td>0</td>\n",
              "      <td>0</td>\n",
              "      <td>0</td>\n",
              "      <td>0</td>\n",
              "      <td>0</td>\n",
              "      <td>0</td>\n",
              "      <td>0</td>\n",
              "      <td>0</td>\n",
              "      <td>0</td>\n",
              "      <td>0</td>\n",
              "      <td>0</td>\n",
              "      <td>0</td>\n",
              "      <td>0</td>\n",
              "      <td>0</td>\n",
              "      <td>0</td>\n",
              "      <td>0</td>\n",
              "      <td>0</td>\n",
              "      <td>0</td>\n",
              "      <td>0</td>\n",
              "      <td>0</td>\n",
              "      <td>0</td>\n",
              "      <td>0</td>\n",
              "      <td>1</td>\n",
              "    </tr>\n",
              "  </tbody>\n",
              "</table>\n",
              "<p>5 rows × 184 columns</p>\n",
              "</div>"
            ],
            "text/plain": [
              "                              App  ... Class\n",
              "0         Canada Post Corporation  ...     0\n",
              "1                       Word Farm  ...     0\n",
              "2            Fortunes of War FREE  ...     0\n",
              "3  Better Keyboard: Avatar Purple  ...     0\n",
              "4                      Boxing Day  ...     1\n",
              "\n",
              "[5 rows x 184 columns]"
            ]
          },
          "metadata": {
            "tags": []
          }
        },
        {
          "output_type": "display_data",
          "data": {
            "text/html": [
              "<div>\n",
              "<style scoped>\n",
              "    .dataframe tbody tr th:only-of-type {\n",
              "        vertical-align: middle;\n",
              "    }\n",
              "\n",
              "    .dataframe tbody tr th {\n",
              "        vertical-align: top;\n",
              "    }\n",
              "\n",
              "    .dataframe thead th {\n",
              "        text-align: right;\n",
              "    }\n",
              "</style>\n",
              "<table border=\"1\" class=\"dataframe\">\n",
              "  <thead>\n",
              "    <tr style=\"text-align: right;\">\n",
              "      <th></th>\n",
              "      <th>App</th>\n",
              "      <th>Package</th>\n",
              "      <th>Category</th>\n",
              "      <th>Description</th>\n",
              "      <th>Rating</th>\n",
              "      <th>Number of ratings</th>\n",
              "      <th>Price</th>\n",
              "      <th>Related apps</th>\n",
              "      <th>Dangerous permissions count</th>\n",
              "      <th>Safe permissions count</th>\n",
              "      <th>Default : Access DRM content. (S)</th>\n",
              "      <th>Default : Access Email provider data (S)</th>\n",
              "      <th>Default : Access all system downloads (S)</th>\n",
              "      <th>Default : Access download manager. (S)</th>\n",
              "      <th>Default : Advanced download manager functions. (S)</th>\n",
              "      <th>Default : Audio File Access (S)</th>\n",
              "      <th>Default : Install DRM content. (S)</th>\n",
              "      <th>Default : Modify Google service configuration (S)</th>\n",
              "      <th>Default : Modify Google settings (S)</th>\n",
              "      <th>Default : Move application resources (S)</th>\n",
              "      <th>Default : Read Google settings (S)</th>\n",
              "      <th>Default : Send download notifications. (S)</th>\n",
              "      <th>Default : Voice Search Shortcuts (S)</th>\n",
              "      <th>Default : access SurfaceFlinger (S)</th>\n",
              "      <th>Default : access checkin properties (S)</th>\n",
              "      <th>Default : access the cache filesystem (S)</th>\n",
              "      <th>Default : access to passwords for Google accounts (S)</th>\n",
              "      <th>Default : act as an account authenticator (S)</th>\n",
              "      <th>Default : bind to a wallpaper (S)</th>\n",
              "      <th>Default : bind to an input method (S)</th>\n",
              "      <th>Default : change screen orientation (S)</th>\n",
              "      <th>Default : coarse (network-based) location (S)</th>\n",
              "      <th>Default : control location update notifications (S)</th>\n",
              "      <th>Default : control system backup and restore (S)</th>\n",
              "      <th>Default : delete applications (S)</th>\n",
              "      <th>Default : delete other applications' caches (S)</th>\n",
              "      <th>Default : delete other applications' data (S)</th>\n",
              "      <th>Default : directly call any phone numbers (S)</th>\n",
              "      <th>Default : directly install applications (S)</th>\n",
              "      <th>Default : disable or modify status bar (S)</th>\n",
              "      <th>...</th>\n",
              "      <th>Your accounts : access other Google services (D)</th>\n",
              "      <th>Your accounts : act as an account authenticator (D)</th>\n",
              "      <th>Your accounts : act as the AccountManagerService (S)</th>\n",
              "      <th>Your accounts : contacts data in Google accounts (D)</th>\n",
              "      <th>Your accounts : discover known accounts (S)</th>\n",
              "      <th>Your accounts : manage the accounts list (D)</th>\n",
              "      <th>Your accounts : read Google service configuration (S)</th>\n",
              "      <th>Your accounts : use the authentication credentials of an account (D)</th>\n",
              "      <th>Your accounts : view configured accounts (S)</th>\n",
              "      <th>Your location : access extra location provider commands (S)</th>\n",
              "      <th>Your location : coarse (network-based) location (D)</th>\n",
              "      <th>Your location : fine (GPS) location (D)</th>\n",
              "      <th>Your location : mock location sources for testing (D)</th>\n",
              "      <th>Your messages : Read Email attachments (D)</th>\n",
              "      <th>Your messages : Send Gmail (S)</th>\n",
              "      <th>Your messages : edit SMS or MMS (D)</th>\n",
              "      <th>Your messages : modify Gmail (D)</th>\n",
              "      <th>Your messages : read Gmail (D)</th>\n",
              "      <th>Your messages : read Gmail attachment previews (D)</th>\n",
              "      <th>Your messages : read SMS or MMS (D)</th>\n",
              "      <th>Your messages : read instant messages (D)</th>\n",
              "      <th>Your messages : receive MMS (D)</th>\n",
              "      <th>Your messages : receive SMS (D)</th>\n",
              "      <th>Your messages : receive WAP (D)</th>\n",
              "      <th>Your messages : send SMS-received broadcast (S)</th>\n",
              "      <th>Your messages : send WAP-PUSH-received broadcast (S)</th>\n",
              "      <th>Your messages : write instant messages (D)</th>\n",
              "      <th>Your personal information : add or modify calendar events and send email to guests (D)</th>\n",
              "      <th>Your personal information : choose widgets (S)</th>\n",
              "      <th>Your personal information : read Browser's history and bookmarks (D)</th>\n",
              "      <th>Your personal information : read calendar events (D)</th>\n",
              "      <th>Your personal information : read contact data (D)</th>\n",
              "      <th>Your personal information : read sensitive log data (D)</th>\n",
              "      <th>Your personal information : read user defined dictionary (D)</th>\n",
              "      <th>Your personal information : retrieve system internal state (S)</th>\n",
              "      <th>Your personal information : set alarm in alarm clock (S)</th>\n",
              "      <th>Your personal information : write Browser's history and bookmarks (D)</th>\n",
              "      <th>Your personal information : write contact data (D)</th>\n",
              "      <th>Your personal information : write to user defined dictionary (S)</th>\n",
              "      <th>Class</th>\n",
              "    </tr>\n",
              "  </thead>\n",
              "  <tbody>\n",
              "    <tr>\n",
              "      <th>29994</th>\n",
              "      <td>Beechwood Hotel</td>\n",
              "      <td>smartstay.beechwood</td>\n",
              "      <td>Travel &amp; Local</td>\n",
              "      <td>Beechwood is an Android hotel app for guests, ...</td>\n",
              "      <td>5.0</td>\n",
              "      <td>2</td>\n",
              "      <td>0.00</td>\n",
              "      <td>{com.bluewaterpages, com.travelconnection.luxu...</td>\n",
              "      <td>3.0</td>\n",
              "      <td>1</td>\n",
              "      <td>0</td>\n",
              "      <td>0</td>\n",
              "      <td>0</td>\n",
              "      <td>0</td>\n",
              "      <td>0</td>\n",
              "      <td>0</td>\n",
              "      <td>0</td>\n",
              "      <td>0</td>\n",
              "      <td>0</td>\n",
              "      <td>0</td>\n",
              "      <td>0</td>\n",
              "      <td>0</td>\n",
              "      <td>0</td>\n",
              "      <td>0</td>\n",
              "      <td>0</td>\n",
              "      <td>0</td>\n",
              "      <td>0</td>\n",
              "      <td>0</td>\n",
              "      <td>0</td>\n",
              "      <td>0</td>\n",
              "      <td>0</td>\n",
              "      <td>0</td>\n",
              "      <td>0</td>\n",
              "      <td>0</td>\n",
              "      <td>0</td>\n",
              "      <td>0</td>\n",
              "      <td>0</td>\n",
              "      <td>0</td>\n",
              "      <td>0</td>\n",
              "      <td>1</td>\n",
              "      <td>...</td>\n",
              "      <td>0</td>\n",
              "      <td>0</td>\n",
              "      <td>0</td>\n",
              "      <td>0</td>\n",
              "      <td>0</td>\n",
              "      <td>0</td>\n",
              "      <td>0</td>\n",
              "      <td>0</td>\n",
              "      <td>0</td>\n",
              "      <td>0</td>\n",
              "      <td>0</td>\n",
              "      <td>1</td>\n",
              "      <td>0</td>\n",
              "      <td>0</td>\n",
              "      <td>0</td>\n",
              "      <td>0</td>\n",
              "      <td>0</td>\n",
              "      <td>0</td>\n",
              "      <td>0</td>\n",
              "      <td>0</td>\n",
              "      <td>0</td>\n",
              "      <td>0</td>\n",
              "      <td>0</td>\n",
              "      <td>0</td>\n",
              "      <td>0</td>\n",
              "      <td>0</td>\n",
              "      <td>0</td>\n",
              "      <td>0</td>\n",
              "      <td>0</td>\n",
              "      <td>0</td>\n",
              "      <td>0</td>\n",
              "      <td>0</td>\n",
              "      <td>0</td>\n",
              "      <td>0</td>\n",
              "      <td>0</td>\n",
              "      <td>0</td>\n",
              "      <td>0</td>\n",
              "      <td>0</td>\n",
              "      <td>0</td>\n",
              "      <td>1</td>\n",
              "    </tr>\n",
              "    <tr>\n",
              "      <th>29995</th>\n",
              "      <td>ZDefense: Tower Defense</td>\n",
              "      <td>mobi.zstudio.avi.full</td>\n",
              "      <td>Arcade &amp; Action</td>\n",
              "      <td>Explosive Tower Defense!&lt;p&gt;Top Tower Defense G...</td>\n",
              "      <td>4.6</td>\n",
              "      <td>56</td>\n",
              "      <td>2.99</td>\n",
              "      <td>{com.entwicklerx.swampdefense, com.digimentgam...</td>\n",
              "      <td>3.0</td>\n",
              "      <td>3</td>\n",
              "      <td>0</td>\n",
              "      <td>0</td>\n",
              "      <td>0</td>\n",
              "      <td>0</td>\n",
              "      <td>0</td>\n",
              "      <td>0</td>\n",
              "      <td>0</td>\n",
              "      <td>0</td>\n",
              "      <td>0</td>\n",
              "      <td>0</td>\n",
              "      <td>0</td>\n",
              "      <td>0</td>\n",
              "      <td>0</td>\n",
              "      <td>0</td>\n",
              "      <td>0</td>\n",
              "      <td>0</td>\n",
              "      <td>0</td>\n",
              "      <td>0</td>\n",
              "      <td>0</td>\n",
              "      <td>0</td>\n",
              "      <td>0</td>\n",
              "      <td>0</td>\n",
              "      <td>0</td>\n",
              "      <td>0</td>\n",
              "      <td>0</td>\n",
              "      <td>0</td>\n",
              "      <td>0</td>\n",
              "      <td>0</td>\n",
              "      <td>0</td>\n",
              "      <td>0</td>\n",
              "      <td>...</td>\n",
              "      <td>0</td>\n",
              "      <td>0</td>\n",
              "      <td>0</td>\n",
              "      <td>0</td>\n",
              "      <td>1</td>\n",
              "      <td>0</td>\n",
              "      <td>0</td>\n",
              "      <td>0</td>\n",
              "      <td>0</td>\n",
              "      <td>0</td>\n",
              "      <td>0</td>\n",
              "      <td>0</td>\n",
              "      <td>0</td>\n",
              "      <td>0</td>\n",
              "      <td>0</td>\n",
              "      <td>0</td>\n",
              "      <td>0</td>\n",
              "      <td>0</td>\n",
              "      <td>0</td>\n",
              "      <td>0</td>\n",
              "      <td>0</td>\n",
              "      <td>0</td>\n",
              "      <td>0</td>\n",
              "      <td>0</td>\n",
              "      <td>0</td>\n",
              "      <td>0</td>\n",
              "      <td>0</td>\n",
              "      <td>0</td>\n",
              "      <td>0</td>\n",
              "      <td>0</td>\n",
              "      <td>0</td>\n",
              "      <td>0</td>\n",
              "      <td>0</td>\n",
              "      <td>0</td>\n",
              "      <td>0</td>\n",
              "      <td>0</td>\n",
              "      <td>0</td>\n",
              "      <td>0</td>\n",
              "      <td>0</td>\n",
              "      <td>1</td>\n",
              "    </tr>\n",
              "    <tr>\n",
              "      <th>29996</th>\n",
              "      <td>Super Task Killer FREE</td>\n",
              "      <td>com.netqin.aotkiller</td>\n",
              "      <td>Tools</td>\n",
              "      <td>Get it for FREE. Quickly Kill running apps. Fr...</td>\n",
              "      <td>4.2</td>\n",
              "      <td>6101</td>\n",
              "      <td>0.00</td>\n",
              "      <td>{com.guardam.TaskKiller, com.netqin.authtoken_...</td>\n",
              "      <td>4.0</td>\n",
              "      <td>3</td>\n",
              "      <td>0</td>\n",
              "      <td>0</td>\n",
              "      <td>0</td>\n",
              "      <td>0</td>\n",
              "      <td>0</td>\n",
              "      <td>0</td>\n",
              "      <td>0</td>\n",
              "      <td>0</td>\n",
              "      <td>0</td>\n",
              "      <td>0</td>\n",
              "      <td>0</td>\n",
              "      <td>0</td>\n",
              "      <td>0</td>\n",
              "      <td>0</td>\n",
              "      <td>0</td>\n",
              "      <td>0</td>\n",
              "      <td>0</td>\n",
              "      <td>0</td>\n",
              "      <td>0</td>\n",
              "      <td>0</td>\n",
              "      <td>0</td>\n",
              "      <td>0</td>\n",
              "      <td>0</td>\n",
              "      <td>0</td>\n",
              "      <td>0</td>\n",
              "      <td>0</td>\n",
              "      <td>0</td>\n",
              "      <td>0</td>\n",
              "      <td>0</td>\n",
              "      <td>0</td>\n",
              "      <td>...</td>\n",
              "      <td>0</td>\n",
              "      <td>0</td>\n",
              "      <td>0</td>\n",
              "      <td>0</td>\n",
              "      <td>0</td>\n",
              "      <td>0</td>\n",
              "      <td>0</td>\n",
              "      <td>0</td>\n",
              "      <td>0</td>\n",
              "      <td>0</td>\n",
              "      <td>0</td>\n",
              "      <td>0</td>\n",
              "      <td>0</td>\n",
              "      <td>0</td>\n",
              "      <td>0</td>\n",
              "      <td>0</td>\n",
              "      <td>0</td>\n",
              "      <td>0</td>\n",
              "      <td>0</td>\n",
              "      <td>0</td>\n",
              "      <td>0</td>\n",
              "      <td>0</td>\n",
              "      <td>0</td>\n",
              "      <td>0</td>\n",
              "      <td>0</td>\n",
              "      <td>0</td>\n",
              "      <td>0</td>\n",
              "      <td>0</td>\n",
              "      <td>0</td>\n",
              "      <td>0</td>\n",
              "      <td>0</td>\n",
              "      <td>0</td>\n",
              "      <td>0</td>\n",
              "      <td>0</td>\n",
              "      <td>0</td>\n",
              "      <td>0</td>\n",
              "      <td>0</td>\n",
              "      <td>0</td>\n",
              "      <td>0</td>\n",
              "      <td>1</td>\n",
              "    </tr>\n",
              "    <tr>\n",
              "      <th>29997</th>\n",
              "      <td>Ambassador Hotel Taipei</td>\n",
              "      <td>VMC.Ambassadorhotel</td>\n",
              "      <td>Travel &amp; Local</td>\n",
              "      <td>Key features of this App: &lt;br&gt;1. View photos o...</td>\n",
              "      <td>3.4</td>\n",
              "      <td>5</td>\n",
              "      <td>0.00</td>\n",
              "      <td>{com.hyxen.app.NewTaipeiTravel, j2ab.android.t...</td>\n",
              "      <td>3.0</td>\n",
              "      <td>0</td>\n",
              "      <td>0</td>\n",
              "      <td>0</td>\n",
              "      <td>0</td>\n",
              "      <td>0</td>\n",
              "      <td>0</td>\n",
              "      <td>0</td>\n",
              "      <td>0</td>\n",
              "      <td>0</td>\n",
              "      <td>0</td>\n",
              "      <td>0</td>\n",
              "      <td>0</td>\n",
              "      <td>0</td>\n",
              "      <td>0</td>\n",
              "      <td>0</td>\n",
              "      <td>0</td>\n",
              "      <td>0</td>\n",
              "      <td>0</td>\n",
              "      <td>0</td>\n",
              "      <td>0</td>\n",
              "      <td>0</td>\n",
              "      <td>0</td>\n",
              "      <td>0</td>\n",
              "      <td>0</td>\n",
              "      <td>0</td>\n",
              "      <td>0</td>\n",
              "      <td>0</td>\n",
              "      <td>0</td>\n",
              "      <td>0</td>\n",
              "      <td>0</td>\n",
              "      <td>0</td>\n",
              "      <td>...</td>\n",
              "      <td>0</td>\n",
              "      <td>0</td>\n",
              "      <td>0</td>\n",
              "      <td>0</td>\n",
              "      <td>0</td>\n",
              "      <td>0</td>\n",
              "      <td>0</td>\n",
              "      <td>0</td>\n",
              "      <td>0</td>\n",
              "      <td>0</td>\n",
              "      <td>1</td>\n",
              "      <td>1</td>\n",
              "      <td>0</td>\n",
              "      <td>0</td>\n",
              "      <td>0</td>\n",
              "      <td>0</td>\n",
              "      <td>0</td>\n",
              "      <td>0</td>\n",
              "      <td>0</td>\n",
              "      <td>0</td>\n",
              "      <td>0</td>\n",
              "      <td>0</td>\n",
              "      <td>0</td>\n",
              "      <td>0</td>\n",
              "      <td>0</td>\n",
              "      <td>0</td>\n",
              "      <td>0</td>\n",
              "      <td>0</td>\n",
              "      <td>0</td>\n",
              "      <td>0</td>\n",
              "      <td>0</td>\n",
              "      <td>0</td>\n",
              "      <td>0</td>\n",
              "      <td>0</td>\n",
              "      <td>0</td>\n",
              "      <td>0</td>\n",
              "      <td>0</td>\n",
              "      <td>0</td>\n",
              "      <td>0</td>\n",
              "      <td>1</td>\n",
              "    </tr>\n",
              "    <tr>\n",
              "      <th>29998</th>\n",
              "      <td>Brain Ball Game</td>\n",
              "      <td>myapp.lecz.android.tiltmazes</td>\n",
              "      <td>Brain &amp; Puzzle</td>\n",
              "      <td>A ball sits in a flat tray containing one or m...</td>\n",
              "      <td>3.0</td>\n",
              "      <td>2</td>\n",
              "      <td>0.00</td>\n",
              "      <td>{com.twistedmirror.alberiplus, com.freesoul.Mo...</td>\n",
              "      <td>3.0</td>\n",
              "      <td>2</td>\n",
              "      <td>0</td>\n",
              "      <td>0</td>\n",
              "      <td>0</td>\n",
              "      <td>0</td>\n",
              "      <td>0</td>\n",
              "      <td>0</td>\n",
              "      <td>0</td>\n",
              "      <td>0</td>\n",
              "      <td>0</td>\n",
              "      <td>0</td>\n",
              "      <td>0</td>\n",
              "      <td>0</td>\n",
              "      <td>0</td>\n",
              "      <td>0</td>\n",
              "      <td>0</td>\n",
              "      <td>0</td>\n",
              "      <td>0</td>\n",
              "      <td>0</td>\n",
              "      <td>0</td>\n",
              "      <td>0</td>\n",
              "      <td>0</td>\n",
              "      <td>0</td>\n",
              "      <td>0</td>\n",
              "      <td>0</td>\n",
              "      <td>0</td>\n",
              "      <td>0</td>\n",
              "      <td>0</td>\n",
              "      <td>0</td>\n",
              "      <td>0</td>\n",
              "      <td>0</td>\n",
              "      <td>...</td>\n",
              "      <td>0</td>\n",
              "      <td>0</td>\n",
              "      <td>0</td>\n",
              "      <td>0</td>\n",
              "      <td>0</td>\n",
              "      <td>0</td>\n",
              "      <td>0</td>\n",
              "      <td>0</td>\n",
              "      <td>0</td>\n",
              "      <td>0</td>\n",
              "      <td>0</td>\n",
              "      <td>0</td>\n",
              "      <td>0</td>\n",
              "      <td>0</td>\n",
              "      <td>0</td>\n",
              "      <td>0</td>\n",
              "      <td>0</td>\n",
              "      <td>0</td>\n",
              "      <td>0</td>\n",
              "      <td>0</td>\n",
              "      <td>0</td>\n",
              "      <td>0</td>\n",
              "      <td>0</td>\n",
              "      <td>0</td>\n",
              "      <td>0</td>\n",
              "      <td>0</td>\n",
              "      <td>0</td>\n",
              "      <td>0</td>\n",
              "      <td>0</td>\n",
              "      <td>0</td>\n",
              "      <td>0</td>\n",
              "      <td>0</td>\n",
              "      <td>0</td>\n",
              "      <td>0</td>\n",
              "      <td>0</td>\n",
              "      <td>0</td>\n",
              "      <td>0</td>\n",
              "      <td>0</td>\n",
              "      <td>0</td>\n",
              "      <td>1</td>\n",
              "    </tr>\n",
              "  </tbody>\n",
              "</table>\n",
              "<p>5 rows × 184 columns</p>\n",
              "</div>"
            ],
            "text/plain": [
              "                           App  ... Class\n",
              "29994          Beechwood Hotel  ...     1\n",
              "29995  ZDefense: Tower Defense  ...     1\n",
              "29996   Super Task Killer FREE  ...     1\n",
              "29997  Ambassador Hotel Taipei  ...     1\n",
              "29998          Brain Ball Game  ...     1\n",
              "\n",
              "[5 rows x 184 columns]"
            ]
          },
          "metadata": {
            "tags": []
          }
        }
      ]
    },
    {
      "cell_type": "code",
      "metadata": {
        "id": "JNwM7Q6Cx2yh",
        "colab": {
          "base_uri": "https://localhost:8080/"
        },
        "outputId": "6854f7a1-98f7-464c-acaf-2a1ad406ed56"
      },
      "source": [
        "Android.shape"
      ],
      "execution_count": null,
      "outputs": [
        {
          "output_type": "execute_result",
          "data": {
            "text/plain": [
              "(29999, 184)"
            ]
          },
          "metadata": {
            "tags": []
          },
          "execution_count": 9
        }
      ]
    },
    {
      "cell_type": "code",
      "metadata": {
        "id": "XpyGDP56x2u5",
        "colab": {
          "base_uri": "https://localhost:8080/"
        },
        "outputId": "08cf54d9-87bd-4c74-9486-ad845eddec5d"
      },
      "source": [
        "Android.info()"
      ],
      "execution_count": null,
      "outputs": [
        {
          "output_type": "stream",
          "text": [
            "<class 'pandas.core.frame.DataFrame'>\n",
            "RangeIndex: 29999 entries, 0 to 29998\n",
            "Columns: 184 entries, App to Class\n",
            "dtypes: float64(3), int64(176), object(5)\n",
            "memory usage: 42.1+ MB\n"
          ],
          "name": "stdout"
        }
      ]
    },
    {
      "cell_type": "markdown",
      "metadata": {
        "id": "PqTodp86HkkE"
      },
      "source": [
        "### Exploratory Data Analysis"
      ]
    },
    {
      "cell_type": "markdown",
      "metadata": {
        "id": "X-ftHqz4yEji"
      },
      "source": [
        "#### **1) Missing Values**"
      ]
    },
    {
      "cell_type": "code",
      "metadata": {
        "id": "QTvBRcMCHn9s",
        "colab": {
          "base_uri": "https://localhost:8080/"
        },
        "outputId": "3b9fa934-b8c8-421a-ca83-fba016c93a8a"
      },
      "source": [
        "Android.isnull().sum()"
      ],
      "execution_count": null,
      "outputs": [
        {
          "output_type": "execute_result",
          "data": {
            "text/plain": [
              "App                                                                      1\n",
              "Package                                                                  0\n",
              "Category                                                                 0\n",
              "Description                                                              3\n",
              "Rating                                                                   0\n",
              "                                                                        ..\n",
              "Your personal information : set alarm in alarm clock (S)                 0\n",
              "Your personal information : write Browser's history and bookmarks (D)    0\n",
              "Your personal information : write contact data (D)                       0\n",
              "Your personal information : write to user defined dictionary (S)         0\n",
              "Class                                                                    0\n",
              "Length: 184, dtype: int64"
            ]
          },
          "metadata": {
            "tags": []
          },
          "execution_count": 13
        }
      ]
    },
    {
      "cell_type": "code",
      "metadata": {
        "id": "3jEGR00iHoYs"
      },
      "source": [
        ""
      ],
      "execution_count": null,
      "outputs": []
    },
    {
      "cell_type": "code",
      "metadata": {
        "id": "Gj0P4BNaHpCv"
      },
      "source": [
        ""
      ],
      "execution_count": null,
      "outputs": []
    },
    {
      "cell_type": "markdown",
      "metadata": {
        "id": "dyzHlUFgHvZ5"
      },
      "source": [
        "# Modelling "
      ]
    },
    {
      "cell_type": "code",
      "metadata": {
        "id": "a9T8s2l2Huqv"
      },
      "source": [
        ""
      ],
      "execution_count": null,
      "outputs": []
    },
    {
      "cell_type": "code",
      "metadata": {
        "id": "CQPqdM4qH1DM"
      },
      "source": [
        ""
      ],
      "execution_count": null,
      "outputs": []
    },
    {
      "cell_type": "code",
      "metadata": {
        "id": "NJqs2j5XH0zD"
      },
      "source": [
        ""
      ],
      "execution_count": null,
      "outputs": []
    },
    {
      "cell_type": "markdown",
      "metadata": {
        "id": "B8jY87LbH1no"
      },
      "source": [
        "# Model Evaluation\n"
      ]
    },
    {
      "cell_type": "code",
      "metadata": {
        "id": "flQvmqHMH37_"
      },
      "source": [
        ""
      ],
      "execution_count": null,
      "outputs": []
    },
    {
      "cell_type": "code",
      "metadata": {
        "id": "pQu8HQuqH4f3"
      },
      "source": [
        ""
      ],
      "execution_count": null,
      "outputs": []
    },
    {
      "cell_type": "code",
      "metadata": {
        "id": "FBJfZzvjH45o"
      },
      "source": [
        ""
      ],
      "execution_count": null,
      "outputs": []
    },
    {
      "cell_type": "markdown",
      "metadata": {
        "id": "9UNaTZIsH5dF"
      },
      "source": [
        "# Hyperparameter Tuning"
      ]
    },
    {
      "cell_type": "code",
      "metadata": {
        "id": "aLG2GwohIF9V"
      },
      "source": [
        ""
      ],
      "execution_count": null,
      "outputs": []
    },
    {
      "cell_type": "code",
      "metadata": {
        "id": "fpA51uFcIG0N"
      },
      "source": [
        ""
      ],
      "execution_count": null,
      "outputs": []
    },
    {
      "cell_type": "code",
      "metadata": {
        "id": "TbElqTDCIGoY"
      },
      "source": [
        ""
      ],
      "execution_count": null,
      "outputs": []
    },
    {
      "cell_type": "markdown",
      "metadata": {
        "id": "IwOCa6MvIVYV"
      },
      "source": [
        "# Prediction"
      ]
    },
    {
      "cell_type": "code",
      "metadata": {
        "id": "pzngdLskIkYh"
      },
      "source": [
        ""
      ],
      "execution_count": null,
      "outputs": []
    },
    {
      "cell_type": "code",
      "metadata": {
        "id": "KWFHM9cwIkVY"
      },
      "source": [
        ""
      ],
      "execution_count": null,
      "outputs": []
    },
    {
      "cell_type": "code",
      "metadata": {
        "id": "wF3jrCyRIkS1"
      },
      "source": [
        ""
      ],
      "execution_count": null,
      "outputs": []
    },
    {
      "cell_type": "code",
      "metadata": {
        "id": "9kVTg1bVIkPq"
      },
      "source": [
        ""
      ],
      "execution_count": null,
      "outputs": []
    },
    {
      "cell_type": "code",
      "metadata": {
        "id": "FBRZUJXmIkND"
      },
      "source": [
        ""
      ],
      "execution_count": null,
      "outputs": []
    },
    {
      "cell_type": "markdown",
      "metadata": {
        "id": "uQM8EDLXIHKR"
      },
      "source": [
        "# Model Explainability (Explainable AI)"
      ]
    },
    {
      "cell_type": "code",
      "metadata": {
        "id": "BUdAwyokIL1Y"
      },
      "source": [
        ""
      ],
      "execution_count": null,
      "outputs": []
    },
    {
      "cell_type": "code",
      "metadata": {
        "id": "W9zA11SmIMMe"
      },
      "source": [
        ""
      ],
      "execution_count": null,
      "outputs": []
    },
    {
      "cell_type": "code",
      "metadata": {
        "id": "Tkrs2JheIMdp"
      },
      "source": [
        ""
      ],
      "execution_count": null,
      "outputs": []
    }
  ]
}