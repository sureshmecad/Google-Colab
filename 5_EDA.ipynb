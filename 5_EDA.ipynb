{
  "nbformat": 4,
  "nbformat_minor": 0,
  "metadata": {
    "colab": {
      "name": "5_EDA.ipynb",
      "provenance": [],
      "authorship_tag": "ABX9TyPTQpG+tcZhUdIexg/rIICM",
      "include_colab_link": true
    },
    "kernelspec": {
      "name": "python3",
      "display_name": "Python 3"
    }
  },
  "cells": [
    {
      "cell_type": "markdown",
      "metadata": {
        "id": "view-in-github",
        "colab_type": "text"
      },
      "source": [
        "<a href=\"https://colab.research.google.com/github/sureshmecad/Google-Colab/blob/master/5_EDA.ipynb\" target=\"_parent\"><img src=\"https://colab.research.google.com/assets/colab-badge.svg\" alt=\"Open In Colab\"/></a>"
      ]
    },
    {
      "cell_type": "markdown",
      "metadata": {
        "id": "wSDSaEYoAxbd"
      },
      "source": [
        "### Exploratory Data Analysis\n",
        "- Exploratory data analysis is an approach to analyzing data sets by summarizing their main characteristics with visualizations.\n",
        "\n",
        "1. Read and examine a dataset and classify variables by their type: **quantitative vs. categorical**\n",
        "\n",
        "2. Handle **categorical variables**\n",
        "\n",
        "3. Perform **univariate and bivariate analysis** and derive meaningful insights about the dataset\n",
        "\n",
        "4. Identify and treat **missing values**\n",
        "\n",
        "5. Remove dataset **outliers**\n",
        "\n",
        "6. Build a **correlation matrix** to identify relevant variables"
      ]
    },
    {
      "cell_type": "markdown",
      "metadata": {
        "id": "KhEJZIo1d7nZ"
      },
      "source": [
        "## 3. Perform **univariate and bivariate analysis** and derive meaningful insights about the dataset"
      ]
    },
    {
      "cell_type": "markdown",
      "metadata": {
        "id": "q10HO5SkIaMe"
      },
      "source": [
        "1. Categorical\n",
        "\n",
        " - Categorical data :\n",
        "\n",
        "     1. Numerical Summaries\n",
        "     2. Histograms\n",
        "     3. Pie Charts\n",
        "\n",
        "2. Univariate Analysis\n",
        "\n",
        "  - **Univariate Analysis** : data consists of only **one variable (only x value).**\n",
        "\n",
        "     1. Line Plots / Bar Charts\n",
        "\n",
        "     2. Histograms\n",
        "\n",
        "     3. Box Plots\n",
        "\n",
        "     4. Count Plots\n",
        "\n",
        "     5. Descriptive Statistics techniques\n",
        "\n",
        "     6. Violin Plot\n",
        "\n",
        "3. Bivariate Analysis\n",
        "\n",
        "  - **Bivariate Analysis** : data involves **two different variables.**\n",
        "\n",
        "     1. Bar Charts\n",
        "\n",
        "     2. Scatter Plots\n",
        "\n",
        "     3. FacetGrid\n",
        "\n",
        "  - There are three types of bivariate analysis\n",
        "\n",
        "     1. Numerical & Numerical\n",
        "\n",
        "     2. Categorical & Categorical\n",
        "\n",
        "     3. Numerical & Categorical\n",
        "\n",
        "\n",
        "4. Multivariate Analysis\n",
        "\n",
        "    1. Pair Plot"
      ]
    },
    {
      "cell_type": "markdown",
      "metadata": {
        "id": "F4OkWQT8MTEn"
      },
      "source": [
        "### Univariate Analysis\n",
        "\n",
        "- **1. Categorical columns**\n",
        "   - we plot **histograms**, we use the **value_count() and plot.bar()** functions to draw a **bar plot**, which is commonly used for representing categorical data using rectangular bars with value counts of the categorical values.\n",
        "\n",
        "   - sales_data['MarketingType'].value_counts().plot.bar(title='Freq dist of Marketing Type')\n",
        "\n",
        "   - Similarly, by changing the column name in the code above, we can analyze every categorical column.\n",
        "\n",
        "\n",
        "- **2. Numerical columns**\n",
        "\n",
        "    - univariate distribution of the **numerical columns** which contains the histograms. We use **displot** of the seaborn library to plot this graph:"
      ]
    },
    {
      "cell_type": "markdown",
      "metadata": {
        "id": "H4E6Y_cngwqp"
      },
      "source": [
        "## 5. **Outlier** detection analysis"
      ]
    },
    {
      "cell_type": "markdown",
      "metadata": {
        "id": "OkYIInBpg4C4"
      },
      "source": [
        "- Outlier might indicate a **mistake in the data (like a typo, or a measuring error, seasonal effects etc)**, in which case it should be **corrected or removed** from the data before calculating **summary statistics or deriving insights from the data**, failing to which will lead to incorrect analysis."
      ]
    },
    {
      "cell_type": "markdown",
      "metadata": {
        "id": "0IJUPZfDeh1s"
      },
      "source": [
        "## 6. Build a **correlation matrix** to identify relevant variables"
      ]
    },
    {
      "cell_type": "markdown",
      "metadata": {
        "id": "aaaZ5wHEeiTE"
      },
      "source": [
        "- To measure how strong a **relationship is between two variables**. Each attribute of the dataset is compared with the other attributes to find out the correlation coefficient. This analysis allows you to see which pairs have the **highest correlation**, the pairs which are highly correlated represent the same variance of the dataset thus we can further analyze them to understand which attribute among the pairs are most significant for building the model."
      ]
    },
    {
      "cell_type": "markdown",
      "metadata": {
        "id": "1N9G3jRMfM2V"
      },
      "source": [
        "- **Correlation** value lies between **-1 to +1.**\n",
        "\n",
        "- **Highly correlated** variables will have correlation value **close to +1**\n",
        "\n",
        "- **Less correlated** variables will have correlation value **close to -1**\n",
        "\n",
        "- The **diagonal elements** of the matrix value are **always 1** as we are finding the **correlation between the same columns**"
      ]
    },
    {
      "cell_type": "code",
      "metadata": {
        "id": "-wbFPI45AuF6"
      },
      "source": [
        ""
      ],
      "execution_count": null,
      "outputs": []
    }
  ]
}