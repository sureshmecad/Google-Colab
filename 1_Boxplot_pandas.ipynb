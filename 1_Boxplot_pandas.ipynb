{
  "nbformat": 4,
  "nbformat_minor": 0,
  "metadata": {
    "colab": {
      "name": "1_Boxplot_pandas.ipynb",
      "provenance": [],
      "collapsed_sections": [],
      "authorship_tag": "ABX9TyOIaUJLMJFF4aY/tUWxUAHL",
      "include_colab_link": true
    },
    "kernelspec": {
      "name": "python3",
      "display_name": "Python 3"
    },
    "language_info": {
      "name": "python"
    }
  },
  "cells": [
    {
      "cell_type": "markdown",
      "metadata": {
        "id": "view-in-github",
        "colab_type": "text"
      },
      "source": [
        "<a href=\"https://colab.research.google.com/github/sureshmecad/Google-Colab/blob/master/1_Boxplot_pandas.ipynb\" target=\"_parent\"><img src=\"https://colab.research.google.com/assets/colab-badge.svg\" alt=\"Open In Colab\"/></a>"
      ]
    },
    {
      "cell_type": "markdown",
      "metadata": {
        "id": "3XqqOb21vCNS"
      },
      "source": [
        "DataFrame.boxplot(\n",
        "\n",
        "  - column=None,\n",
        "\n",
        "  - by=None,\n",
        "\n",
        "  - ax=None,\n",
        "\n",
        "  - fontsize=None,\n",
        "\n",
        "  - rot=0,\n",
        "\n",
        "  - grid=True,\n",
        "\n",
        "  - figsize=None,\n",
        "\n",
        "  - layout=None,\n",
        "\n",
        "  - return_type=None,\n",
        "\n",
        "  - backend=None,\n",
        "\n",
        "  - **kwargs)"
      ]
    },
    {
      "cell_type": "markdown",
      "metadata": {
        "id": "YsoPwXMJvI7h"
      },
      "source": [
        "------------------"
      ]
    },
    {
      "cell_type": "markdown",
      "metadata": {
        "id": "cjFWRz2tyarr"
      },
      "source": [
        "- Boxplots can be created for every column in the dataframe by **df.boxplot()** or indicating the **columns** to be used:"
      ]
    },
    {
      "cell_type": "code",
      "metadata": {
        "id": "d6M8zte8yk5a"
      },
      "source": [
        "import numpy as np\n",
        "import pandas as pd"
      ],
      "execution_count": 3,
      "outputs": []
    },
    {
      "cell_type": "code",
      "metadata": {
        "colab": {
          "base_uri": "https://localhost:8080/",
          "height": 355
        },
        "id": "bf6M-maovAEr",
        "outputId": "13dc66a9-c16a-42f8-de32-5d4ca6795fec"
      },
      "source": [
        "np.random.seed(1234)\n",
        "\n",
        "df = pd.DataFrame(np.random.randn(10, 4),\n",
        "                  columns=['Col1', 'Col2', 'Col3', 'Col4'])\n",
        "df"
      ],
      "execution_count": 5,
      "outputs": [
        {
          "output_type": "execute_result",
          "data": {
            "text/html": [
              "<div>\n",
              "<style scoped>\n",
              "    .dataframe tbody tr th:only-of-type {\n",
              "        vertical-align: middle;\n",
              "    }\n",
              "\n",
              "    .dataframe tbody tr th {\n",
              "        vertical-align: top;\n",
              "    }\n",
              "\n",
              "    .dataframe thead th {\n",
              "        text-align: right;\n",
              "    }\n",
              "</style>\n",
              "<table border=\"1\" class=\"dataframe\">\n",
              "  <thead>\n",
              "    <tr style=\"text-align: right;\">\n",
              "      <th></th>\n",
              "      <th>Col1</th>\n",
              "      <th>Col2</th>\n",
              "      <th>Col3</th>\n",
              "      <th>Col4</th>\n",
              "    </tr>\n",
              "  </thead>\n",
              "  <tbody>\n",
              "    <tr>\n",
              "      <th>0</th>\n",
              "      <td>0.471435</td>\n",
              "      <td>-1.190976</td>\n",
              "      <td>1.432707</td>\n",
              "      <td>-0.312652</td>\n",
              "    </tr>\n",
              "    <tr>\n",
              "      <th>1</th>\n",
              "      <td>-0.720589</td>\n",
              "      <td>0.887163</td>\n",
              "      <td>0.859588</td>\n",
              "      <td>-0.636524</td>\n",
              "    </tr>\n",
              "    <tr>\n",
              "      <th>2</th>\n",
              "      <td>0.015696</td>\n",
              "      <td>-2.242685</td>\n",
              "      <td>1.150036</td>\n",
              "      <td>0.991946</td>\n",
              "    </tr>\n",
              "    <tr>\n",
              "      <th>3</th>\n",
              "      <td>0.953324</td>\n",
              "      <td>-2.021255</td>\n",
              "      <td>-0.334077</td>\n",
              "      <td>0.002118</td>\n",
              "    </tr>\n",
              "    <tr>\n",
              "      <th>4</th>\n",
              "      <td>0.405453</td>\n",
              "      <td>0.289092</td>\n",
              "      <td>1.321158</td>\n",
              "      <td>-1.546906</td>\n",
              "    </tr>\n",
              "    <tr>\n",
              "      <th>5</th>\n",
              "      <td>-0.202646</td>\n",
              "      <td>-0.655969</td>\n",
              "      <td>0.193421</td>\n",
              "      <td>0.553439</td>\n",
              "    </tr>\n",
              "    <tr>\n",
              "      <th>6</th>\n",
              "      <td>1.318152</td>\n",
              "      <td>-0.469305</td>\n",
              "      <td>0.675554</td>\n",
              "      <td>-1.817027</td>\n",
              "    </tr>\n",
              "    <tr>\n",
              "      <th>7</th>\n",
              "      <td>-0.183109</td>\n",
              "      <td>1.058969</td>\n",
              "      <td>-0.397840</td>\n",
              "      <td>0.337438</td>\n",
              "    </tr>\n",
              "    <tr>\n",
              "      <th>8</th>\n",
              "      <td>1.047579</td>\n",
              "      <td>1.045938</td>\n",
              "      <td>0.863717</td>\n",
              "      <td>-0.122092</td>\n",
              "    </tr>\n",
              "    <tr>\n",
              "      <th>9</th>\n",
              "      <td>0.124713</td>\n",
              "      <td>-0.322795</td>\n",
              "      <td>0.841675</td>\n",
              "      <td>2.390961</td>\n",
              "    </tr>\n",
              "  </tbody>\n",
              "</table>\n",
              "</div>"
            ],
            "text/plain": [
              "       Col1      Col2      Col3      Col4\n",
              "0  0.471435 -1.190976  1.432707 -0.312652\n",
              "1 -0.720589  0.887163  0.859588 -0.636524\n",
              "2  0.015696 -2.242685  1.150036  0.991946\n",
              "3  0.953324 -2.021255 -0.334077  0.002118\n",
              "4  0.405453  0.289092  1.321158 -1.546906\n",
              "5 -0.202646 -0.655969  0.193421  0.553439\n",
              "6  1.318152 -0.469305  0.675554 -1.817027\n",
              "7 -0.183109  1.058969 -0.397840  0.337438\n",
              "8  1.047579  1.045938  0.863717 -0.122092\n",
              "9  0.124713 -0.322795  0.841675  2.390961"
            ]
          },
          "metadata": {},
          "execution_count": 5
        }
      ]
    },
    {
      "cell_type": "code",
      "metadata": {
        "colab": {
          "base_uri": "https://localhost:8080/",
          "height": 264
        },
        "id": "taSrq9sxy0VD",
        "outputId": "7f39b321-0e03-4597-f66d-573ad7371c2b"
      },
      "source": [
        "boxplot = df.boxplot(column=['Col1', 'Col2', 'Col3'])"
      ],
      "execution_count": 6,
      "outputs": [
        {
          "output_type": "display_data",
          "data": {
            "image/png": "[encoded data removed]",
            "text/plain": [
              "<Figure size 432x288 with 1 Axes>"
            ]
          },
          "metadata": {
            "needs_background": "light"
          }
        }
      ]
    },
    {
      "cell_type": "code",
      "metadata": {
        "colab": {
          "base_uri": "https://localhost:8080/",
          "height": 290
        },
        "id": "bGktcT7ozBsj",
        "outputId": "d326f171-07bb-41da-8683-4a36448bbcd4"
      },
      "source": [
        "boxplot = df.boxplot(grid=False, rot=45, fontsize=15)"
      ],
      "execution_count": 7,
      "outputs": [
        {
          "output_type": "display_data",
          "data": {
            "image/png": "[encoded data removed]",
            "text/plain": [
              "<Figure size 432x288 with 1 Axes>"
            ]
          },
          "metadata": {
            "needs_background": "light"
          }
        }
      ]
    }
  ]
}