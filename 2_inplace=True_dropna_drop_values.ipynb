{
  "nbformat": 4,
  "nbformat_minor": 0,
  "metadata": {
    "colab": {
      "name": "2_inplace=True_dropna-drop-values.ipynb",
      "provenance": [],
      "collapsed_sections": [],
      "authorship_tag": "ABX9TyOoMwzKfuILCfe0BEkPOh1+",
      "include_colab_link": true
    },
    "kernelspec": {
      "name": "python3",
      "display_name": "Python 3"
    },
    "language_info": {
      "name": "python"
    }
  },
  "cells": [
    {
      "cell_type": "markdown",
      "metadata": {
        "id": "view-in-github",
        "colab_type": "text"
      },
      "source": [
        "<a href=\"https://colab.research.google.com/github/sureshmecad/Google-Colab/blob/master/2_inplace%3DTrue_dropna_drop_values.ipynb\" target=\"_parent\"><img src=\"https://colab.research.google.com/assets/colab-badge.svg\" alt=\"Open In Colab\"/></a>"
      ]
    },
    {
      "cell_type": "markdown",
      "metadata": {
        "id": "BW9QGVlcOg9o"
      },
      "source": [
        "- By default, the **dropna** method **does not directly modify** the DataFrame you’re working with.\n",
        "\n",
        "- By default, dropna actually **creates a new DataFrame** and keeps the **original DataFrame unchanged.**\n",
        "\n",
        "- Syntactically, the **default** for the inplace parameter is **inplace = False.** This causes the method to leave the **original DataFrame unchanged,** and **create a new DataFrame as an output.**\n",
        "\n",
        "- If you set **inplace = True**, the dropna method will **directly modify your original DataFrame (and won’t produce a new output).** That means that if you set **inplace = True**, dropna will **drop all missing values** from your **original dataset**. It will overwrite your data, so be careful with it!"
      ]
    },
    {
      "cell_type": "code",
      "metadata": {
        "id": "5H8w6ePEOL1T"
      },
      "source": [
        "import numpy as np\n",
        "import pandas as pd"
      ],
      "execution_count": null,
      "outputs": []
    },
    {
      "cell_type": "code",
      "metadata": {
        "colab": {
          "base_uri": "https://localhost:8080/"
        },
        "id": "xl0Un_MYPHE_",
        "outputId": "54d85696-a743-46bd-9ecf-67ce03866b34"
      },
      "source": [
        "sales_data = pd.DataFrame({\"name\":[\"William\",\"Emma\",\"Sofia\",\"Markus\",\"Edward\",\"Thomas\",\"Ethan\",np.nan,\"Arun\",\"Anika\",\"Paulo\"],\n",
        "                           \"region\":[np.nan,\"North\",\"East\",\"South\",\"West\",\"West\",\"South\",np.nan,\"West\",\"East\",\"South\"],\n",
        "                           \"sales\":[50000,52000,90000,np.nan,42000,72000,49000,np.nan,67000,65000,67000],\n",
        "                           \"expenses\":[42000,43000,np.nan,44000,38000,39000,42000,np.nan,39000,44000,45000]})\n",
        "\n",
        "print(sales_data)"
      ],
      "execution_count": null,
      "outputs": [
        {
          "output_type": "stream",
          "text": [
            "       name region    sales  expenses\n",
            "0   William    NaN  50000.0   42000.0\n",
            "1      Emma  North  52000.0   43000.0\n",
            "2     Sofia   East  90000.0       NaN\n",
            "3    Markus  South      NaN   44000.0\n",
            "4    Edward   West  42000.0   38000.0\n",
            "5    Thomas   West  72000.0   39000.0\n",
            "6     Ethan  South  49000.0   42000.0\n",
            "7       NaN    NaN      NaN       NaN\n",
            "8      Arun   West  67000.0   39000.0\n",
            "9     Anika   East  65000.0   44000.0\n",
            "10    Paulo  South  67000.0   45000.0\n"
          ],
          "name": "stdout"
        }
      ]
    },
    {
      "cell_type": "markdown",
      "metadata": {
        "id": "uZFLIUx1P0wv"
      },
      "source": [
        "- The **rows** have **missing values:** rows 0, 2, 3, and 7 all contain missing values.\n",
        "\n",
        "- Some of the **rows** only contain **one missing value**\n",
        "\n",
        "- but in **row 7**, **all** of the values are **missing.**"
      ]
    },
    {
      "cell_type": "code",
      "metadata": {
        "colab": {
          "base_uri": "https://localhost:8080/",
          "height": 263
        },
        "id": "Sh_8ERdVQM9I",
        "outputId": "cd523423-897f-4dcd-abab-4b6521b16932"
      },
      "source": [
        "sales_data.dropna()"
      ],
      "execution_count": null,
      "outputs": [
        {
          "output_type": "execute_result",
          "data": {
            "text/html": [
              "<div>\n",
              "<style scoped>\n",
              "    .dataframe tbody tr th:only-of-type {\n",
              "        vertical-align: middle;\n",
              "    }\n",
              "\n",
              "    .dataframe tbody tr th {\n",
              "        vertical-align: top;\n",
              "    }\n",
              "\n",
              "    .dataframe thead th {\n",
              "        text-align: right;\n",
              "    }\n",
              "</style>\n",
              "<table border=\"1\" class=\"dataframe\">\n",
              "  <thead>\n",
              "    <tr style=\"text-align: right;\">\n",
              "      <th></th>\n",
              "      <th>name</th>\n",
              "      <th>region</th>\n",
              "      <th>sales</th>\n",
              "      <th>expenses</th>\n",
              "    </tr>\n",
              "  </thead>\n",
              "  <tbody>\n",
              "    <tr>\n",
              "      <th>1</th>\n",
              "      <td>Emma</td>\n",
              "      <td>North</td>\n",
              "      <td>52000.0</td>\n",
              "      <td>43000.0</td>\n",
              "    </tr>\n",
              "    <tr>\n",
              "      <th>4</th>\n",
              "      <td>Edward</td>\n",
              "      <td>West</td>\n",
              "      <td>42000.0</td>\n",
              "      <td>38000.0</td>\n",
              "    </tr>\n",
              "    <tr>\n",
              "      <th>5</th>\n",
              "      <td>Thomas</td>\n",
              "      <td>West</td>\n",
              "      <td>72000.0</td>\n",
              "      <td>39000.0</td>\n",
              "    </tr>\n",
              "    <tr>\n",
              "      <th>6</th>\n",
              "      <td>Ethan</td>\n",
              "      <td>South</td>\n",
              "      <td>49000.0</td>\n",
              "      <td>42000.0</td>\n",
              "    </tr>\n",
              "    <tr>\n",
              "      <th>8</th>\n",
              "      <td>Arun</td>\n",
              "      <td>West</td>\n",
              "      <td>67000.0</td>\n",
              "      <td>39000.0</td>\n",
              "    </tr>\n",
              "    <tr>\n",
              "      <th>9</th>\n",
              "      <td>Anika</td>\n",
              "      <td>East</td>\n",
              "      <td>65000.0</td>\n",
              "      <td>44000.0</td>\n",
              "    </tr>\n",
              "    <tr>\n",
              "      <th>10</th>\n",
              "      <td>Paulo</td>\n",
              "      <td>South</td>\n",
              "      <td>67000.0</td>\n",
              "      <td>45000.0</td>\n",
              "    </tr>\n",
              "  </tbody>\n",
              "</table>\n",
              "</div>"
            ],
            "text/plain": [
              "      name region    sales  expenses\n",
              "1     Emma  North  52000.0   43000.0\n",
              "4   Edward   West  42000.0   38000.0\n",
              "5   Thomas   West  72000.0   39000.0\n",
              "6    Ethan  South  49000.0   42000.0\n",
              "8     Arun   West  67000.0   39000.0\n",
              "9    Anika   East  65000.0   44000.0\n",
              "10   Paulo  South  67000.0   45000.0"
            ]
          },
          "metadata": {
            "tags": []
          },
          "execution_count": 4
        }
      ]
    },
    {
      "cell_type": "markdown",
      "metadata": {
        "id": "UiMXW-owTQQr"
      },
      "source": [
        "- Remember when we created our DataFrame, **rows 0, 2, 3, and 7** all contained **missing values.**\n",
        "\n",
        "- After using **dropna()**, **rows 0, 2, 3, and 7** have all been **removed**.\n",
        "\n",
        "- It removes rows with missing values (it understands that NaN is a missing value).\n",
        "\n",
        "- Notice that the code **removed every row** that contained any **missing value.** If **even one** of the values was missing, the **whole row was deleted**. That’s the **default behavior.** By default the how parameter is set to **how = 'any'**, so with this code, if any of the values are missing, the whole row is removed.\n",
        "\n",
        "- This code did **not directly change** the **sales_data** DataFrame. It only **created a new DataFrame.**"
      ]
    },
    {
      "cell_type": "code",
      "metadata": {
        "colab": {
          "base_uri": "https://localhost:8080/",
          "height": 385
        },
        "id": "N-T5yF4hTRFJ",
        "outputId": "67be0510-5315-4f8e-b590-5a9132878ce5"
      },
      "source": [
        "sales_data"
      ],
      "execution_count": null,
      "outputs": [
        {
          "output_type": "execute_result",
          "data": {
            "text/html": [
              "<div>\n",
              "<style scoped>\n",
              "    .dataframe tbody tr th:only-of-type {\n",
              "        vertical-align: middle;\n",
              "    }\n",
              "\n",
              "    .dataframe tbody tr th {\n",
              "        vertical-align: top;\n",
              "    }\n",
              "\n",
              "    .dataframe thead th {\n",
              "        text-align: right;\n",
              "    }\n",
              "</style>\n",
              "<table border=\"1\" class=\"dataframe\">\n",
              "  <thead>\n",
              "    <tr style=\"text-align: right;\">\n",
              "      <th></th>\n",
              "      <th>name</th>\n",
              "      <th>region</th>\n",
              "      <th>sales</th>\n",
              "      <th>expenses</th>\n",
              "    </tr>\n",
              "  </thead>\n",
              "  <tbody>\n",
              "    <tr>\n",
              "      <th>0</th>\n",
              "      <td>William</td>\n",
              "      <td>NaN</td>\n",
              "      <td>50000.0</td>\n",
              "      <td>42000.0</td>\n",
              "    </tr>\n",
              "    <tr>\n",
              "      <th>1</th>\n",
              "      <td>Emma</td>\n",
              "      <td>North</td>\n",
              "      <td>52000.0</td>\n",
              "      <td>43000.0</td>\n",
              "    </tr>\n",
              "    <tr>\n",
              "      <th>2</th>\n",
              "      <td>Sofia</td>\n",
              "      <td>East</td>\n",
              "      <td>90000.0</td>\n",
              "      <td>NaN</td>\n",
              "    </tr>\n",
              "    <tr>\n",
              "      <th>3</th>\n",
              "      <td>Markus</td>\n",
              "      <td>South</td>\n",
              "      <td>NaN</td>\n",
              "      <td>44000.0</td>\n",
              "    </tr>\n",
              "    <tr>\n",
              "      <th>4</th>\n",
              "      <td>Edward</td>\n",
              "      <td>West</td>\n",
              "      <td>42000.0</td>\n",
              "      <td>38000.0</td>\n",
              "    </tr>\n",
              "    <tr>\n",
              "      <th>5</th>\n",
              "      <td>Thomas</td>\n",
              "      <td>West</td>\n",
              "      <td>72000.0</td>\n",
              "      <td>39000.0</td>\n",
              "    </tr>\n",
              "    <tr>\n",
              "      <th>6</th>\n",
              "      <td>Ethan</td>\n",
              "      <td>South</td>\n",
              "      <td>49000.0</td>\n",
              "      <td>42000.0</td>\n",
              "    </tr>\n",
              "    <tr>\n",
              "      <th>7</th>\n",
              "      <td>NaN</td>\n",
              "      <td>NaN</td>\n",
              "      <td>NaN</td>\n",
              "      <td>NaN</td>\n",
              "    </tr>\n",
              "    <tr>\n",
              "      <th>8</th>\n",
              "      <td>Arun</td>\n",
              "      <td>West</td>\n",
              "      <td>67000.0</td>\n",
              "      <td>39000.0</td>\n",
              "    </tr>\n",
              "    <tr>\n",
              "      <th>9</th>\n",
              "      <td>Anika</td>\n",
              "      <td>East</td>\n",
              "      <td>65000.0</td>\n",
              "      <td>44000.0</td>\n",
              "    </tr>\n",
              "    <tr>\n",
              "      <th>10</th>\n",
              "      <td>Paulo</td>\n",
              "      <td>South</td>\n",
              "      <td>67000.0</td>\n",
              "      <td>45000.0</td>\n",
              "    </tr>\n",
              "  </tbody>\n",
              "</table>\n",
              "</div>"
            ],
            "text/plain": [
              "       name region    sales  expenses\n",
              "0   William    NaN  50000.0   42000.0\n",
              "1      Emma  North  52000.0   43000.0\n",
              "2     Sofia   East  90000.0       NaN\n",
              "3    Markus  South      NaN   44000.0\n",
              "4    Edward   West  42000.0   38000.0\n",
              "5    Thomas   West  72000.0   39000.0\n",
              "6     Ethan  South  49000.0   42000.0\n",
              "7       NaN    NaN      NaN       NaN\n",
              "8      Arun   West  67000.0   39000.0\n",
              "9     Anika   East  65000.0   44000.0\n",
              "10    Paulo  South  67000.0   45000.0"
            ]
          },
          "metadata": {
            "tags": []
          },
          "execution_count": 5
        }
      ]
    },
    {
      "cell_type": "markdown",
      "metadata": {
        "id": "I0rr4Knrl7bh"
      },
      "source": [
        "##### **MODIFY THE DATAFRAME “IN PLACE”**"
      ]
    },
    {
      "cell_type": "markdown",
      "metadata": {
        "id": "YJ6NVTa4ldjf"
      },
      "source": [
        "- Finally, we’re going to modify the DataFrame **“in place”**.\n",
        "\n",
        "- That means that we’re going to directly delete rows from the input DataFrame.\n",
        "\n",
        "- I’m going to create a copy of sales_data. Just in case you want to keep playing with the original sales_data DataFrame, we’ll copy it an use the copy in this example."
      ]
    },
    {
      "cell_type": "code",
      "metadata": {
        "id": "Lp-mJ5Jqlil_"
      },
      "source": [
        "sales_data_copy = sales_data.copy()\n",
        "\n",
        "sales_data_copy.dropna(inplace = True)"
      ],
      "execution_count": null,
      "outputs": []
    },
    {
      "cell_type": "markdown",
      "metadata": {
        "id": "2PMpivl0ldiP"
      },
      "source": [
        "- Notice that when you run the code, it **doesn’t send any output to the console.**\n",
        "\n",
        "- That’s because when you use **inplace = True**, **dropna doesn’t create a new DataFrame.** It directly **modifies** the **original DataFrame.** In this case, dropna directly deleted rows from sales_data_copy."
      ]
    },
    {
      "cell_type": "code",
      "metadata": {
        "colab": {
          "base_uri": "https://localhost:8080/"
        },
        "id": "nDdHzHqblvx4",
        "outputId": "b5d2d75e-8561-4d80-ae1a-f1df486d59c3"
      },
      "source": [
        "print(sales_data_copy)"
      ],
      "execution_count": null,
      "outputs": [
        {
          "output_type": "stream",
          "text": [
            "      name region    sales  expenses\n",
            "1     Emma  North  52000.0   43000.0\n",
            "4   Edward   West  42000.0   38000.0\n",
            "5   Thomas   West  72000.0   39000.0\n",
            "6    Ethan  South  49000.0   42000.0\n",
            "8     Arun   West  67000.0   39000.0\n",
            "9    Anika   East  65000.0   44000.0\n",
            "10   Paulo  South  67000.0   45000.0\n"
          ],
          "name": "stdout"
        }
      ]
    },
    {
      "cell_type": "markdown",
      "metadata": {
        "id": "gwPdq8QLqQs1"
      },
      "source": [
        "- Notice that the **missing values** have been **removed** from **sales_data_copy.**\n",
        "\n",
        "- Just remember, when you use **inplace = True**, the dropna is going to delete any rows from your data with missing values."
      ]
    },
    {
      "cell_type": "markdown",
      "metadata": {
        "id": "uwX2gDV6qQrf"
      },
      "source": [
        "#### **WHY DIDN’T DROPNA DROP THE VALUES?**\n"
      ]
    },
    {
      "cell_type": "markdown",
      "metadata": {
        "id": "ueYkLe52tiGy"
      },
      "source": [
        "- Remember: by **default**, the dropna method **does not** modify the **original DataFrame.**\n",
        "\n",
        "- **Dropna** creates a **new DataFrame** as an output.\n",
        "\n",
        "- If you’re working in an IDE, this **output will not be saved**, and will instead be **sent to the console.**\n",
        "\n",
        "- If you want to save the output, you need to **save the output** (typically with a **new variable name**) like this:"
      ]
    },
    {
      "cell_type": "code",
      "metadata": {
        "id": "q1smAomEtoY5"
      },
      "source": [
        "sales_data_noNA = sales_data.dropna()"
      ],
      "execution_count": null,
      "outputs": []
    },
    {
      "cell_type": "markdown",
      "metadata": {
        "id": "CubqwXnItr76"
      },
      "source": [
        "- In this case, the new DataFrame **sales_data_noNA** will be the **new DataFrame without missing values**, and **sales_data will remain unchanged.**\n",
        "\n",
        "- Alternatively, you could also use the inplace parameter and set **inplace = True** to directly **modify the original DataFrame.**"
      ]
    },
    {
      "cell_type": "code",
      "metadata": {
        "id": "Iadom8Q1tv7J"
      },
      "source": [
        "sales_data.dropna(inplace = True)"
      ],
      "execution_count": null,
      "outputs": []
    }
  ]
}