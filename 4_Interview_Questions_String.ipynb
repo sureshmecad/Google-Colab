{
  "nbformat": 4,
  "nbformat_minor": 0,
  "metadata": {
    "colab": {
      "name": "4_Interview-Questions_String.ipynb",
      "provenance": [],
      "collapsed_sections": [],
      "authorship_tag": "ABX9TyMcQ4K5acRom7oCxl8EDZ7L",
      "include_colab_link": true
    },
    "kernelspec": {
      "name": "python3",
      "display_name": "Python 3"
    },
    "language_info": {
      "name": "python"
    }
  },
  "cells": [
    {
      "cell_type": "markdown",
      "metadata": {
        "id": "view-in-github",
        "colab_type": "text"
      },
      "source": [
        "<a href=\"https://colab.research.google.com/github/sureshmecad/Google-Colab/blob/master/4_Interview_Questions_String.ipynb\" target=\"_parent\"><img src=\"https://colab.research.google.com/assets/colab-badge.svg\" alt=\"Open In Colab\"/></a>"
      ]
    },
    {
      "cell_type": "markdown",
      "metadata": {
        "id": "hwMlT17IqZdq"
      },
      "source": [
        "https://towardsdatascience.com/41-questions-to-test-your-knowledge-of-python-strings-9eb473aa8fe8"
      ]
    },
    {
      "cell_type": "markdown",
      "metadata": {
        "id": "A-RgXPYpqfmA"
      },
      "source": [
        "### **1. How would you confirm that 2 strings have the same identity?**"
      ]
    },
    {
      "cell_type": "markdown",
      "metadata": {
        "id": "LNDmaO_NrvA-"
      },
      "source": [
        "- The **is** operator returns **True** if 2 names point to the same location in memory. This is what we’re referring to when we talk about identity.\n",
        "\n",
        "- Don’t confuse **is** with **==**, the latter which only tests equality."
      ]
    },
    {
      "cell_type": "code",
      "metadata": {
        "colab": {
          "base_uri": "https://localhost:8080/"
        },
        "id": "Mczh5QhsqKif",
        "outputId": "7deb2e24-b475-4d49-f99b-018b8f0ab66d"
      },
      "source": [
        "animals           = ['python','gopher']\n",
        "more_animals      = animals\n",
        "\n",
        "print(animals == more_animals)\n",
        "print(animals is more_animals)"
      ],
      "execution_count": 1,
      "outputs": [
        {
          "output_type": "stream",
          "text": [
            "True\n",
            "True\n"
          ],
          "name": "stdout"
        }
      ]
    },
    {
      "cell_type": "code",
      "metadata": {
        "colab": {
          "base_uri": "https://localhost:8080/"
        },
        "id": "LhREv25urNww",
        "outputId": "1367df6b-6330-4bf3-f4e4-76466b595684"
      },
      "source": [
        "even_more_animals = ['python','gopher']\n",
        "\n",
        "print(animals == even_more_animals)\n",
        "print(animals is even_more_animals)"
      ],
      "execution_count": 2,
      "outputs": [
        {
          "output_type": "stream",
          "text": [
            "True\n",
            "False\n"
          ],
          "name": "stdout"
        }
      ]
    },
    {
      "cell_type": "markdown",
      "metadata": {
        "id": "0po9cEqor_Qo"
      },
      "source": [
        "- Notice above how **animals** and **even_more_animals** have a different identity even though they are equal.\n",
        "\n",
        "- Additionally, the **id()** function returns the **id** of a memory address associated with a name. Two objects with the same identity will return the same **id**."
      ]
    },
    {
      "cell_type": "code",
      "metadata": {
        "colab": {
          "base_uri": "https://localhost:8080/"
        },
        "id": "OXC8CT46sM_K",
        "outputId": "1124e106-8db9-4f79-90c6-d9034fb2bf37"
      },
      "source": [
        "name = 'object'\n",
        "id(name)"
      ],
      "execution_count": 3,
      "outputs": [
        {
          "output_type": "execute_result",
          "data": {
            "text/plain": [
              "140311318893488"
            ]
          },
          "metadata": {
            "tags": []
          },
          "execution_count": 3
        }
      ]
    }
  ]
}