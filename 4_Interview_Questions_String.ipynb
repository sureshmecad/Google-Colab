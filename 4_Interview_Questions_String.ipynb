{
  "nbformat": 4,
  "nbformat_minor": 0,
  "metadata": {
    "colab": {
      "name": "4_Interview-Questions_String.ipynb",
      "provenance": [],
      "collapsed_sections": [],
      "authorship_tag": "ABX9TyMhFGEYcesQfrpxoGK2E+F7",
      "include_colab_link": true
    },
    "kernelspec": {
      "name": "python3",
      "display_name": "Python 3"
    },
    "language_info": {
      "name": "python"
    }
  },
  "cells": [
    {
      "cell_type": "markdown",
      "metadata": {
        "id": "view-in-github",
        "colab_type": "text"
      },
      "source": [
        "<a href=\"https://colab.research.google.com/github/sureshmecad/Google-Colab/blob/master/4_Interview_Questions_String.ipynb\" target=\"_parent\"><img src=\"https://colab.research.google.com/assets/colab-badge.svg\" alt=\"Open In Colab\"/></a>"
      ]
    },
    {
      "cell_type": "markdown",
      "metadata": {
        "id": "hwMlT17IqZdq"
      },
      "source": [
        "https://towardsdatascience.com/41-questions-to-test-your-knowledge-of-python-strings-9eb473aa8fe8"
      ]
    },
    {
      "cell_type": "markdown",
      "metadata": {
        "id": "A-RgXPYpqfmA"
      },
      "source": [
        "### **1. How would you confirm that 2 strings have the same identity?**"
      ]
    },
    {
      "cell_type": "markdown",
      "metadata": {
        "id": "LNDmaO_NrvA-"
      },
      "source": [
        "- The **is** operator returns **True** if 2 names point to the same location in memory. This is what we’re referring to when we talk about identity.\n",
        "\n",
        "- Don’t confuse **is** with **==**, the latter which only tests equality."
      ]
    },
    {
      "cell_type": "code",
      "metadata": {
        "colab": {
          "base_uri": "https://localhost:8080/"
        },
        "id": "Mczh5QhsqKif",
        "outputId": "1c1f3da2-5e3f-4a36-cddf-bacbb90d4a4d"
      },
      "source": [
        "animals           = ['python','gopher']\n",
        "more_animals      = animals\n",
        "\n",
        "print(animals == more_animals)\n",
        "print(animals is more_animals)\n",
        "\n",
        "print(id(animals))\n",
        "print(id(more_animals))"
      ],
      "execution_count": 4,
      "outputs": [
        {
          "output_type": "stream",
          "text": [
            "True\n",
            "True\n",
            "140278850688656\n",
            "140278850688656\n"
          ],
          "name": "stdout"
        }
      ]
    },
    {
      "cell_type": "code",
      "metadata": {
        "colab": {
          "base_uri": "https://localhost:8080/"
        },
        "id": "LhREv25urNww",
        "outputId": "f0699bb5-186c-4728-d076-a4b2b1fc2faf"
      },
      "source": [
        "even_more_animals = ['python','gopher']\n",
        "\n",
        "print(animals == even_more_animals)\n",
        "print(animals is even_more_animals)\n",
        "\n",
        "print(id(animals))\n",
        "print(id(even_more_animals))"
      ],
      "execution_count": 5,
      "outputs": [
        {
          "output_type": "stream",
          "text": [
            "True\n",
            "False\n",
            "140278850688656\n",
            "140278789514736\n"
          ],
          "name": "stdout"
        }
      ]
    },
    {
      "cell_type": "markdown",
      "metadata": {
        "id": "0po9cEqor_Qo"
      },
      "source": [
        "- Notice above how **animals** and **even_more_animals** have a different identity even though they are equal.\n",
        "\n",
        "- Additionally, the **id()** function returns the **id** of a memory address associated with a name. Two objects with the same identity will return the same **id**."
      ]
    },
    {
      "cell_type": "code",
      "metadata": {
        "id": "OXC8CT46sM_K",
        "colab": {
          "base_uri": "https://localhost:8080/"
        },
        "outputId": "fe0fabf9-d579-4b25-e35f-194d3a7bd284"
      },
      "source": [
        "name = 'object'\n",
        "id(name)"
      ],
      "execution_count": 6,
      "outputs": [
        {
          "output_type": "execute_result",
          "data": {
            "text/plain": [
              "140279414723504"
            ]
          },
          "metadata": {
            "tags": []
          },
          "execution_count": 6
        }
      ]
    },
    {
      "cell_type": "markdown",
      "metadata": {
        "id": "5TH0e5a2Eiiy"
      },
      "source": [
        "-----------------------"
      ]
    },
    {
      "cell_type": "markdown",
      "metadata": {
        "id": "kHbWAq_XEkCK"
      },
      "source": [
        "#### **2. How would you check if each word in a string begins with a capital letter?**"
      ]
    },
    {
      "cell_type": "code",
      "metadata": {
        "colab": {
          "base_uri": "https://localhost:8080/"
        },
        "id": "cBaLBkYBIbDQ",
        "outputId": "aa29b98e-fe0c-4004-c1b0-e8610f08dc13"
      },
      "source": [
        "# The istitle() function checks if each word is capitalized\n",
        "\n",
        "print( 'The Hilton'.istitle() ) \n",
        "print( 'The dog'.istitle() ) \n",
        "print( 'sticky rice'.istitle() ) "
      ],
      "execution_count": 7,
      "outputs": [
        {
          "output_type": "stream",
          "text": [
            "True\n",
            "False\n",
            "False\n"
          ],
          "name": "stdout"
        }
      ]
    },
    {
      "cell_type": "markdown",
      "metadata": {
        "id": "AmU3BSauLizo"
      },
      "source": [
        "------------"
      ]
    },
    {
      "cell_type": "markdown",
      "metadata": {
        "id": "nnB1dIA-Lj1w"
      },
      "source": [
        "#### **3. Check if a string contains a specific substring**\n",
        "\n",
        "- The **in** operator will return **True** if a string contains a **substring.**"
      ]
    },
    {
      "cell_type": "code",
      "metadata": {
        "colab": {
          "base_uri": "https://localhost:8080/"
        },
        "id": "dQVQ6v54Lmn_",
        "outputId": "e98d0fde-e5c6-46ad-e9d7-0cf60110d25b"
      },
      "source": [
        "print( 'plane' in 'The worlds fastest plane' )\n",
        "print( 'car' in 'The worlds fastest plane' )"
      ],
      "execution_count": 8,
      "outputs": [
        {
          "output_type": "stream",
          "text": [
            "True\n",
            "False\n"
          ],
          "name": "stdout"
        }
      ]
    },
    {
      "cell_type": "markdown",
      "metadata": {
        "id": "6ynSVQqUL5eA"
      },
      "source": [
        "-----------------------"
      ]
    },
    {
      "cell_type": "markdown",
      "metadata": {
        "id": "3X2AeYUCP2Wz"
      },
      "source": [
        "#### **4. Find the index of the first occurrence of a substring in a string**"
      ]
    },
    {
      "cell_type": "markdown",
      "metadata": {
        "id": "HbtyAClXP79j"
      },
      "source": [
        "- There are 2 different functions that will return the starting index, **find() and index()**. They have slightly different behaviour.\n",
        "\n",
        "- **find()** returns **-1** if the substring is not found."
      ]
    },
    {
      "cell_type": "code",
      "metadata": {
        "colab": {
          "base_uri": "https://localhost:8080/"
        },
        "id": "-vQTPLg8L6u4",
        "outputId": "e9741f1f-9d6d-4feb-bd56-70b31289d80d"
      },
      "source": [
        "print('The worlds fastest plane'.find('plane'))\n",
        "print('The worlds fastest plane'.find('car'))"
      ],
      "execution_count": 10,
      "outputs": [
        {
          "output_type": "stream",
          "text": [
            "19\n",
            "-1\n"
          ],
          "name": "stdout"
        }
      ]
    },
    {
      "cell_type": "markdown",
      "metadata": {
        "id": "O8-ZZh3hQSUM"
      },
      "source": [
        "- **index()** will throw a **ValueError**."
      ]
    },
    {
      "cell_type": "code",
      "metadata": {
        "colab": {
          "base_uri": "https://localhost:8080/",
          "height": 197
        },
        "id": "1wuwMpy_QYny",
        "outputId": "5f69e105-56ae-4517-a4ff-f958e4050e6f"
      },
      "source": [
        "print('The worlds fastest plane'.index('plane'))\n",
        "print('The worlds fastest plane'.index('car'))"
      ],
      "execution_count": 11,
      "outputs": [
        {
          "output_type": "stream",
          "text": [
            "19\n"
          ],
          "name": "stdout"
        },
        {
          "output_type": "error",
          "ename": "ValueError",
          "evalue": "ignored",
          "traceback": [
            "\u001b[0;31m---------------------------------------------------------------------------\u001b[0m",
            "\u001b[0;31mValueError\u001b[0m                                Traceback (most recent call last)",
            "\u001b[0;32m<ipython-input-11-0faaa241f2fc>\u001b[0m in \u001b[0;36m<module>\u001b[0;34m()\u001b[0m\n\u001b[1;32m      1\u001b[0m \u001b[0mprint\u001b[0m\u001b[0;34m(\u001b[0m\u001b[0;34m'The worlds fastest plane'\u001b[0m\u001b[0;34m.\u001b[0m\u001b[0mindex\u001b[0m\u001b[0;34m(\u001b[0m\u001b[0;34m'plane'\u001b[0m\u001b[0;34m)\u001b[0m\u001b[0;34m)\u001b[0m\u001b[0;34m\u001b[0m\u001b[0;34m\u001b[0m\u001b[0m\n\u001b[0;32m----> 2\u001b[0;31m \u001b[0mprint\u001b[0m\u001b[0;34m(\u001b[0m\u001b[0;34m'The worlds fastest plane'\u001b[0m\u001b[0;34m.\u001b[0m\u001b[0mindex\u001b[0m\u001b[0;34m(\u001b[0m\u001b[0;34m'car'\u001b[0m\u001b[0;34m)\u001b[0m\u001b[0;34m)\u001b[0m\u001b[0;34m\u001b[0m\u001b[0;34m\u001b[0m\u001b[0m\n\u001b[0m",
            "\u001b[0;31mValueError\u001b[0m: substring not found"
          ]
        }
      ]
    },
    {
      "cell_type": "markdown",
      "metadata": {
        "id": "iA5OYNk1Qqtk"
      },
      "source": [
        "--------------"
      ]
    },
    {
      "cell_type": "markdown",
      "metadata": {
        "id": "cn2qykkFQvpu"
      },
      "source": [
        "#### **5. Count the total number of characters in a string**"
      ]
    },
    {
      "cell_type": "markdown",
      "metadata": {
        "id": "cZL_M8kpQ0wJ"
      },
      "source": [
        "- **len()** will return the **length** of a string."
      ]
    },
    {
      "cell_type": "code",
      "metadata": {
        "colab": {
          "base_uri": "https://localhost:8080/"
        },
        "id": "1TIafNPjQr3-",
        "outputId": "9e8d3e55-31c2-4e35-d4e9-f9d2cd37ac47"
      },
      "source": [
        "len('The first president of the organization..')"
      ],
      "execution_count": 12,
      "outputs": [
        {
          "output_type": "execute_result",
          "data": {
            "text/plain": [
              "41"
            ]
          },
          "metadata": {
            "tags": []
          },
          "execution_count": 12
        }
      ]
    },
    {
      "cell_type": "markdown",
      "metadata": {
        "id": "JH2_MMg_Q7xh"
      },
      "source": [
        "--------------"
      ]
    },
    {
      "cell_type": "code",
      "metadata": {
        "id": "3bZx1X_-Q8lj"
      },
      "source": [
        ""
      ],
      "execution_count": null,
      "outputs": []
    }
  ]
}