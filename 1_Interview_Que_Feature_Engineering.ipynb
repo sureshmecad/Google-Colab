{
  "nbformat": 4,
  "nbformat_minor": 0,
  "metadata": {
    "colab": {
      "name": "1_Interview-Que_Feature-Engineering.ipynb",
      "provenance": [],
      "collapsed_sections": [],
      "authorship_tag": "ABX9TyP34xA4EpThaUl3Vq3jVX1H",
      "include_colab_link": true
    },
    "kernelspec": {
      "name": "python3",
      "display_name": "Python 3"
    },
    "language_info": {
      "name": "python"
    }
  },
  "cells": [
    {
      "cell_type": "markdown",
      "metadata": {
        "id": "view-in-github",
        "colab_type": "text"
      },
      "source": [
        "<a href=\"https://colab.research.google.com/github/sureshmecad/Google-Colab/blob/master/1_Interview_Que_Feature_Engineering.ipynb\" target=\"_parent\"><img src=\"https://colab.research.google.com/assets/colab-badge.svg\" alt=\"Open In Colab\"/></a>"
      ]
    },
    {
      "cell_type": "markdown",
      "metadata": {
        "id": "Nbh9ydFHzj9M"
      },
      "source": [
        "### **Mention why feature engineering is important in model building and list out some of the techniques used for feature engineering?**"
      ]
    },
    {
      "cell_type": "markdown",
      "metadata": {
        "id": "iw4KOg0czuLq"
      },
      "source": [
        "------------------------------"
      ]
    },
    {
      "cell_type": "markdown",
      "metadata": {
        "id": "B7JNKERGzvn8"
      },
      "source": [
        "- Algorithms necessitate features with some specific characteristics to work appropriately. The data is initially in a raw form. You need to **extract features** from this **data** before **supplying it to the algorithm**. This process is **called feature engineering.**\n",
        "\n",
        "\n",
        "- When you have relevant features, the complexity of the algorithms reduces. Then, even if a non-ideal algorithm is used, results come out to be accurate."
      ]
    },
    {
      "cell_type": "markdown",
      "metadata": {
        "id": "TvGefs6q1HOW"
      },
      "source": [
        "- Feature engineering primarily has two goals:\n",
        "\n",
        " - 1) Prepare the suitable input data set to be compatible with the machine learning algorithm constraints.\n",
        " \n",
        " - 2) Enhance the performance of machine learning models."
      ]
    },
    {
      "cell_type": "markdown",
      "metadata": {
        "id": "IRDMYfAd1CNe"
      },
      "source": [
        "- Some of the **techniques** used for feature engineering include\n",
        "\n",
        " - Imputation\n",
        " - Binning\n",
        " - Outliers Handling\n",
        " - Log transform\n",
        " - Grouping operations\n",
        " - One-Hot encoding\n",
        " - Feature split\n",
        " - Scaling\n",
        " - Extracting date"
      ]
    }
  ]
}