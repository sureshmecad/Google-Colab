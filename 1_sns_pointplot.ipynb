{
  "nbformat": 4,
  "nbformat_minor": 0,
  "metadata": {
    "colab": {
      "name": "1_sns_pointplot.ipynb",
      "provenance": [],
      "collapsed_sections": [],
      "authorship_tag": "ABX9TyMSD/2OzbX5mhwxMyV0ArrI",
      "include_colab_link": true
    },
    "kernelspec": {
      "name": "python3",
      "display_name": "Python 3"
    },
    "language_info": {
      "name": "python"
    }
  },
  "cells": [
    {
      "cell_type": "markdown",
      "metadata": {
        "id": "view-in-github",
        "colab_type": "text"
      },
      "source": [
        "<a href=\"https://colab.research.google.com/github/sureshmecad/Google-Colab/blob/master/1_sns_pointplot.ipynb\" target=\"_parent\"><img src=\"https://colab.research.google.com/assets/colab-badge.svg\" alt=\"Open In Colab\"/></a>"
      ]
    },
    {
      "cell_type": "code",
      "metadata": {
        "colab": {
          "base_uri": "https://localhost:8080/"
        },
        "id": "pYoNouLKbEbo",
        "outputId": "8443a2fd-465e-4e57-e0b3-f3c18de2c351"
      },
      "source": [
        "from google.colab import drive\n",
        "drive.mount('/content/drive')"
      ],
      "execution_count": 3,
      "outputs": [
        {
          "output_type": "stream",
          "name": "stdout",
          "text": [
            "Mounted at /content/drive\n"
          ]
        }
      ]
    },
    {
      "cell_type": "code",
      "metadata": {
        "id": "zuq89belbxwz"
      },
      "source": [
        "import pandas as pd\n",
        "import matplotlib.pyplot as plt\n",
        "import seaborn as sns"
      ],
      "execution_count": 4,
      "outputs": []
    },
    {
      "cell_type": "code",
      "metadata": {
        "colab": {
          "base_uri": "https://localhost:8080/",
          "height": 202
        },
        "id": "fuuEWFu3b6sr",
        "outputId": "f4fdcd0c-3802-40bb-a4ec-811052574438"
      },
      "source": [
        "train = pd.read_csv(\"/content/drive/MyDrive/TMLC/Seoul-Bike-Trip-Duration.zip\")\n",
        "train.head()"
      ],
      "execution_count": 5,
      "outputs": [
        {
          "output_type": "execute_result",
          "data": {
            "text/html": [
              "<div>\n",
              "<style scoped>\n",
              "    .dataframe tbody tr th:only-of-type {\n",
              "        vertical-align: middle;\n",
              "    }\n",
              "\n",
              "    .dataframe tbody tr th {\n",
              "        vertical-align: top;\n",
              "    }\n",
              "\n",
              "    .dataframe thead th {\n",
              "        text-align: right;\n",
              "    }\n",
              "</style>\n",
              "<table border=\"1\" class=\"dataframe\">\n",
              "  <thead>\n",
              "    <tr style=\"text-align: right;\">\n",
              "      <th></th>\n",
              "      <th>Unnamed: 0</th>\n",
              "      <th>Duration</th>\n",
              "      <th>Distance</th>\n",
              "      <th>PLong</th>\n",
              "      <th>PLatd</th>\n",
              "      <th>DLong</th>\n",
              "      <th>DLatd</th>\n",
              "      <th>Haversine</th>\n",
              "      <th>Pmonth</th>\n",
              "      <th>Pday</th>\n",
              "      <th>Phour</th>\n",
              "      <th>Pmin</th>\n",
              "      <th>PDweek</th>\n",
              "      <th>Dmonth</th>\n",
              "      <th>Dday</th>\n",
              "      <th>Dhour</th>\n",
              "      <th>Dmin</th>\n",
              "      <th>DDweek</th>\n",
              "      <th>Temp</th>\n",
              "      <th>Precip</th>\n",
              "      <th>Wind</th>\n",
              "      <th>Humid</th>\n",
              "      <th>Solar</th>\n",
              "      <th>Snow</th>\n",
              "      <th>GroundTemp</th>\n",
              "      <th>Dust</th>\n",
              "    </tr>\n",
              "  </thead>\n",
              "  <tbody>\n",
              "    <tr>\n",
              "      <th>0</th>\n",
              "      <td>0</td>\n",
              "      <td>3</td>\n",
              "      <td>50</td>\n",
              "      <td>37.544666</td>\n",
              "      <td>126.888359</td>\n",
              "      <td>37.544666</td>\n",
              "      <td>126.888359</td>\n",
              "      <td>0.000000</td>\n",
              "      <td>1</td>\n",
              "      <td>1</td>\n",
              "      <td>0</td>\n",
              "      <td>0</td>\n",
              "      <td>0</td>\n",
              "      <td>1</td>\n",
              "      <td>1</td>\n",
              "      <td>0</td>\n",
              "      <td>4</td>\n",
              "      <td>0</td>\n",
              "      <td>-3.2</td>\n",
              "      <td>0.0</td>\n",
              "      <td>0.5</td>\n",
              "      <td>40.0</td>\n",
              "      <td>0.0</td>\n",
              "      <td>0.0</td>\n",
              "      <td>-2.2</td>\n",
              "      <td>25.0</td>\n",
              "    </tr>\n",
              "    <tr>\n",
              "      <th>1</th>\n",
              "      <td>1</td>\n",
              "      <td>24</td>\n",
              "      <td>7670</td>\n",
              "      <td>37.506199</td>\n",
              "      <td>127.003944</td>\n",
              "      <td>37.551250</td>\n",
              "      <td>127.035103</td>\n",
              "      <td>5.713529</td>\n",
              "      <td>1</td>\n",
              "      <td>1</td>\n",
              "      <td>0</td>\n",
              "      <td>0</td>\n",
              "      <td>0</td>\n",
              "      <td>1</td>\n",
              "      <td>1</td>\n",
              "      <td>0</td>\n",
              "      <td>25</td>\n",
              "      <td>0</td>\n",
              "      <td>-3.2</td>\n",
              "      <td>0.0</td>\n",
              "      <td>0.5</td>\n",
              "      <td>40.0</td>\n",
              "      <td>0.0</td>\n",
              "      <td>0.0</td>\n",
              "      <td>-2.2</td>\n",
              "      <td>25.0</td>\n",
              "    </tr>\n",
              "    <tr>\n",
              "      <th>2</th>\n",
              "      <td>2</td>\n",
              "      <td>8</td>\n",
              "      <td>1390</td>\n",
              "      <td>37.544590</td>\n",
              "      <td>127.057083</td>\n",
              "      <td>37.537014</td>\n",
              "      <td>127.061096</td>\n",
              "      <td>0.913702</td>\n",
              "      <td>1</td>\n",
              "      <td>1</td>\n",
              "      <td>0</td>\n",
              "      <td>0</td>\n",
              "      <td>0</td>\n",
              "      <td>1</td>\n",
              "      <td>1</td>\n",
              "      <td>0</td>\n",
              "      <td>9</td>\n",
              "      <td>0</td>\n",
              "      <td>-3.2</td>\n",
              "      <td>0.0</td>\n",
              "      <td>0.5</td>\n",
              "      <td>40.0</td>\n",
              "      <td>0.0</td>\n",
              "      <td>0.0</td>\n",
              "      <td>-2.2</td>\n",
              "      <td>25.0</td>\n",
              "    </tr>\n",
              "    <tr>\n",
              "      <th>3</th>\n",
              "      <td>3</td>\n",
              "      <td>8</td>\n",
              "      <td>1820</td>\n",
              "      <td>37.571102</td>\n",
              "      <td>127.023560</td>\n",
              "      <td>37.561447</td>\n",
              "      <td>127.034920</td>\n",
              "      <td>1.468027</td>\n",
              "      <td>1</td>\n",
              "      <td>1</td>\n",
              "      <td>0</td>\n",
              "      <td>1</td>\n",
              "      <td>0</td>\n",
              "      <td>1</td>\n",
              "      <td>1</td>\n",
              "      <td>0</td>\n",
              "      <td>10</td>\n",
              "      <td>0</td>\n",
              "      <td>-3.2</td>\n",
              "      <td>0.0</td>\n",
              "      <td>0.5</td>\n",
              "      <td>40.0</td>\n",
              "      <td>0.0</td>\n",
              "      <td>0.0</td>\n",
              "      <td>-2.2</td>\n",
              "      <td>25.0</td>\n",
              "    </tr>\n",
              "    <tr>\n",
              "      <th>4</th>\n",
              "      <td>4</td>\n",
              "      <td>4</td>\n",
              "      <td>850</td>\n",
              "      <td>37.573242</td>\n",
              "      <td>127.015907</td>\n",
              "      <td>37.565849</td>\n",
              "      <td>127.016403</td>\n",
              "      <td>0.823227</td>\n",
              "      <td>1</td>\n",
              "      <td>1</td>\n",
              "      <td>0</td>\n",
              "      <td>1</td>\n",
              "      <td>0</td>\n",
              "      <td>1</td>\n",
              "      <td>1</td>\n",
              "      <td>0</td>\n",
              "      <td>6</td>\n",
              "      <td>0</td>\n",
              "      <td>-3.2</td>\n",
              "      <td>0.0</td>\n",
              "      <td>0.5</td>\n",
              "      <td>40.0</td>\n",
              "      <td>0.0</td>\n",
              "      <td>0.0</td>\n",
              "      <td>-2.2</td>\n",
              "      <td>25.0</td>\n",
              "    </tr>\n",
              "  </tbody>\n",
              "</table>\n",
              "</div>"
            ],
            "text/plain": [
              "   Unnamed: 0  Duration  Distance      PLong  ...  Solar  Snow  GroundTemp  Dust\n",
              "0           0         3        50  37.544666  ...    0.0   0.0        -2.2  25.0\n",
              "1           1        24      7670  37.506199  ...    0.0   0.0        -2.2  25.0\n",
              "2           2         8      1390  37.544590  ...    0.0   0.0        -2.2  25.0\n",
              "3           3         8      1820  37.571102  ...    0.0   0.0        -2.2  25.0\n",
              "4           4         4       850  37.573242  ...    0.0   0.0        -2.2  25.0\n",
              "\n",
              "[5 rows x 26 columns]"
            ]
          },
          "metadata": {},
          "execution_count": 5
        }
      ]
    },
    {
      "cell_type": "code",
      "metadata": {
        "colab": {
          "base_uri": "https://localhost:8080/",
          "height": 387
        },
        "id": "LKRN2pNYaE-h",
        "outputId": "7c219d41-586e-4ba5-e6b0-dc97781daec9"
      },
      "source": [
        "# Perform point plot between Phour and Duration values\n",
        "plt.figure(figsize=(20,6))\n",
        "sns.pointplot(x=\"Phour\", y=\"Duration\", data=train, palette='rainbow');"
      ],
      "execution_count": 6,
      "outputs": [
        {
          "output_type": "display_data",
          "data": {
            "image/png": "[encoded data removed]",
            "text/plain": [
              "<Figure size 1440x432 with 1 Axes>"
            ]
          },
          "metadata": {
            "needs_background": "light"
          }
        }
      ]
    }
  ]
}