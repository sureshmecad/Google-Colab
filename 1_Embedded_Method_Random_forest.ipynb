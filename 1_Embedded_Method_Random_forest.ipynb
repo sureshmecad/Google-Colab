{
  "nbformat": 4,
  "nbformat_minor": 0,
  "metadata": {
    "colab": {
      "name": "1_Embedded-Method_Random-forest.ipynb",
      "provenance": [],
      "collapsed_sections": [],
      "include_colab_link": true
    },
    "kernelspec": {
      "display_name": "Python 3",
      "language": "python",
      "name": "python3"
    },
    "language_info": {
      "codemirror_mode": {
        "name": "ipython",
        "version": 3
      },
      "file_extension": ".py",
      "mimetype": "text/x-python",
      "name": "python",
      "nbconvert_exporter": "python",
      "pygments_lexer": "ipython3",
      "version": "3.8.5"
    }
  },
  "cells": [
    {
      "cell_type": "markdown",
      "metadata": {
        "id": "view-in-github",
        "colab_type": "text"
      },
      "source": [
        "<a href=\"https://colab.research.google.com/github/sureshmecad/Google-Colab/blob/master/1_Embedded_Method_Random_forest.ipynb\" target=\"_parent\"><img src=\"https://colab.research.google.com/assets/colab-badge.svg\" alt=\"Open In Colab\"/></a>"
      ]
    },
    {
      "cell_type": "markdown",
      "metadata": {
        "id": "2mbn3b9yaA_M"
      },
      "source": [
        "# Embedded Method using random forest\n",
        "\n",
        "<p style='text-align: right;'> 25 points</p>\n"
      ]
    },
    {
      "cell_type": "markdown",
      "metadata": {
        "id": "L_zWHzwRaA_N"
      },
      "source": [
        "Reference: https://www.youtube.com/watch?v=em4OFr-4C34"
      ]
    },
    {
      "cell_type": "markdown",
      "metadata": {
        "id": "2UmCKQ_maA_N"
      },
      "source": [
        "Feature selection using Random forest comes under the category of Embedded methods. Embedded methods combine the qualities of filter and wrapper methods. They are implemented by algorithms that have their own built-in feature selection methods. Some of the benefits of embedded methods are :\n",
        "1. They are highly accurate.\n",
        "2. They generalize better.\n",
        "3. They are interpretable"
      ]
    },
    {
      "cell_type": "code",
      "metadata": {
        "id": "-IU4tYxLaA_N"
      },
      "source": [
        "#Importing libraries RandomForestClassifier and SelectFromModel\n",
        "from sklearn.ensemble import RandomForestClassifier\n",
        "from sklearn.feature_selection import SelectFromModel"
      ],
      "execution_count": null,
      "outputs": []
    },
    {
      "cell_type": "code",
      "metadata": {
        "id": "RRqVnzypaA_N",
        "colab": {
          "base_uri": "https://localhost:8080/",
          "height": 204
        },
        "outputId": "e85453c0-1baa-4917-fcf7-b6db158b5af9"
      },
      "source": [
        "# load the csv file using pandas and print the head values\n",
        "diabetes = pd.read_csv(\"diabetes1.csv\")\n",
        "\n",
        "# print diabetes.head()\n",
        "diabetes.head()"
      ],
      "execution_count": null,
      "outputs": [
        {
          "output_type": "execute_result",
          "data": {
            "text/html": [
              "<div>\n",
              "<style scoped>\n",
              "    .dataframe tbody tr th:only-of-type {\n",
              "        vertical-align: middle;\n",
              "    }\n",
              "\n",
              "    .dataframe tbody tr th {\n",
              "        vertical-align: top;\n",
              "    }\n",
              "\n",
              "    .dataframe thead th {\n",
              "        text-align: right;\n",
              "    }\n",
              "</style>\n",
              "<table border=\"1\" class=\"dataframe\">\n",
              "  <thead>\n",
              "    <tr style=\"text-align: right;\">\n",
              "      <th></th>\n",
              "      <th>Pregnancies</th>\n",
              "      <th>Glucose</th>\n",
              "      <th>BloodPressure</th>\n",
              "      <th>SkinThickness</th>\n",
              "      <th>Insulin</th>\n",
              "      <th>BMI</th>\n",
              "      <th>DiabetesPedigreeFunction</th>\n",
              "      <th>Age</th>\n",
              "      <th>Outcome</th>\n",
              "    </tr>\n",
              "  </thead>\n",
              "  <tbody>\n",
              "    <tr>\n",
              "      <th>0</th>\n",
              "      <td>6</td>\n",
              "      <td>148</td>\n",
              "      <td>72</td>\n",
              "      <td>35</td>\n",
              "      <td>0</td>\n",
              "      <td>33.6</td>\n",
              "      <td>0.627</td>\n",
              "      <td>50</td>\n",
              "      <td>1</td>\n",
              "    </tr>\n",
              "    <tr>\n",
              "      <th>1</th>\n",
              "      <td>1</td>\n",
              "      <td>85</td>\n",
              "      <td>66</td>\n",
              "      <td>29</td>\n",
              "      <td>0</td>\n",
              "      <td>26.6</td>\n",
              "      <td>0.351</td>\n",
              "      <td>31</td>\n",
              "      <td>0</td>\n",
              "    </tr>\n",
              "    <tr>\n",
              "      <th>2</th>\n",
              "      <td>8</td>\n",
              "      <td>183</td>\n",
              "      <td>64</td>\n",
              "      <td>0</td>\n",
              "      <td>0</td>\n",
              "      <td>23.3</td>\n",
              "      <td>0.672</td>\n",
              "      <td>32</td>\n",
              "      <td>1</td>\n",
              "    </tr>\n",
              "    <tr>\n",
              "      <th>3</th>\n",
              "      <td>1</td>\n",
              "      <td>89</td>\n",
              "      <td>66</td>\n",
              "      <td>23</td>\n",
              "      <td>94</td>\n",
              "      <td>28.1</td>\n",
              "      <td>0.167</td>\n",
              "      <td>21</td>\n",
              "      <td>0</td>\n",
              "    </tr>\n",
              "    <tr>\n",
              "      <th>4</th>\n",
              "      <td>0</td>\n",
              "      <td>137</td>\n",
              "      <td>40</td>\n",
              "      <td>35</td>\n",
              "      <td>168</td>\n",
              "      <td>43.1</td>\n",
              "      <td>2.288</td>\n",
              "      <td>33</td>\n",
              "      <td>1</td>\n",
              "    </tr>\n",
              "  </tbody>\n",
              "</table>\n",
              "</div>"
            ],
            "text/plain": [
              "   Pregnancies  Glucose  BloodPressure  ...  DiabetesPedigreeFunction  Age  Outcome\n",
              "0            6      148             72  ...                     0.627   50        1\n",
              "1            1       85             66  ...                     0.351   31        0\n",
              "2            8      183             64  ...                     0.672   32        1\n",
              "3            1       89             66  ...                     0.167   21        0\n",
              "4            0      137             40  ...                     2.288   33        1\n",
              "\n",
              "[5 rows x 9 columns]"
            ]
          },
          "metadata": {
            "tags": []
          },
          "execution_count": 61
        }
      ]
    },
    {
      "cell_type": "markdown",
      "metadata": {
        "id": "eis3XxBoaA_N"
      },
      "source": [
        "In all feature selection procedures, it is a good practice to select the features by examining only the training set. This is to avoid overfitting.\n",
        "So considering we have a train and a test dataset. We select the features from the train set and then transfer the changes to the test set later"
      ]
    },
    {
      "cell_type": "code",
      "metadata": {
        "id": "-8fQ5eJ2aA_N"
      },
      "source": [
        "# assign features to X and target 'outcome' to Y(Think why the 'outcome' column is taken as the target)\n",
        "X = diabetes.drop('Outcome', axis = 1)\n",
        "\n",
        "y = diabetes[\"Outcome\"]"
      ],
      "execution_count": null,
      "outputs": []
    },
    {
      "cell_type": "code",
      "metadata": {
        "id": "JzmmICFDaA_O"
      },
      "source": [
        "# import test_train_split module\n",
        "from sklearn.model_selection import train_test_split\n",
        "# splitting of dataset(test_size=0.3)\n",
        "X_train, X_test, y_train, y_test = train_test_split(X,y,test_size=0.3,random_state=0)"
      ],
      "execution_count": null,
      "outputs": []
    },
    {
      "cell_type": "markdown",
      "metadata": {
        "id": "qkqa6Um1aA_O"
      },
      "source": [
        "Here We will do the model fitting and feature selection altogether in one line of code.\n",
        "\n",
        "Firstly, specify the random forest instance, indicating the number of trees.\n",
        "\n",
        "Then use selectFromModel object from sklearn to automatically select the features. Simple right?. Don't worry trust your code. It helps.\n",
        "\n",
        "Reference link to use selectFromModel: https://scikit-learn.org/stable/modules/generated/sklearn.feature_selection.SelectFromModel.html"
      ]
    },
    {
      "cell_type": "code",
      "metadata": {
        "id": "Al2ufXNJaA_O"
      },
      "source": [
        "#create an instance of Select from Model. Pass an object of Random Forest Classifier with n_estimators=100 as argument. \n",
        "from sklearn.feature_selection import SelectFromModel\n",
        "from sklearn.ensemble import RandomForestClassifier\n",
        "\n",
        "sel = SelectFromModel(estimator=RandomForestClassifier(n_estimators=100))\n",
        "\n",
        "# fit sel on training data\n",
        "fit = sel.fit(X_train, y_train)"
      ],
      "execution_count": null,
      "outputs": []
    },
    {
      "cell_type": "markdown",
      "metadata": {
        "id": "tHfjj4e1aA_O"
      },
      "source": [
        "SelectFromModel will select those features which importance is greater than the mean importance of all the features by default, but we can alter this threshold if we want.\n",
        "\n",
        " To see which features are important we can use get_support method on the fitted model."
      ]
    },
    {
      "cell_type": "code",
      "metadata": {
        "id": "Q78HzXvuaA_O",
        "colab": {
          "base_uri": "https://localhost:8080/"
        },
        "outputId": "578b736e-21c4-4980-dc3a-35991297fa84"
      },
      "source": [
        "# Using sel.get_support() print the boolean values for the features selected. \n",
        "\n",
        "sel_support = sel.get_support()\n",
        "sel_support"
      ],
      "execution_count": null,
      "outputs": [
        {
          "output_type": "execute_result",
          "data": {
            "text/plain": [
              "array([False,  True, False, False, False,  True,  True,  True])"
            ]
          },
          "metadata": {
            "tags": []
          },
          "execution_count": 65
        }
      ]
    },
    {
      "cell_type": "code",
      "metadata": {
        "id": "n0QQz4dJaA_O",
        "colab": {
          "base_uri": "https://localhost:8080/"
        },
        "outputId": "ee6cdce9-d42a-4446-cfb8-31f1684e8b08"
      },
      "source": [
        "#make a list named selected_feat with all columns which are True\n",
        "selected_feat= X_train.loc[:,sel_support].columns.tolist()\n",
        "\n",
        "# print length of selected_feat\n",
        "print(str(len(selected_feat)), 'selected features')"
      ],
      "execution_count": null,
      "outputs": [
        {
          "output_type": "stream",
          "text": [
            "4 selected features\n"
          ],
          "name": "stdout"
        }
      ]
    },
    {
      "cell_type": "code",
      "metadata": {
        "id": "k-jhkiEMaA_P",
        "colab": {
          "base_uri": "https://localhost:8080/"
        },
        "outputId": "f98a1e03-313b-4c7f-890b-ed8ee865e2a2"
      },
      "source": [
        "# Print selected_feat\n",
        "print(selected_feat)"
      ],
      "execution_count": null,
      "outputs": [
        {
          "output_type": "stream",
          "text": [
            "['Glucose', 'BMI', 'DiabetesPedigreeFunction', 'Age']\n"
          ],
          "name": "stdout"
        }
      ]
    },
    {
      "cell_type": "markdown",
      "metadata": {
        "id": "CxjroAyoaA_P"
      },
      "source": [
        "Well done Champ!. Let us impliment SelectFromModel using LinearSVC model also"
      ]
    },
    {
      "cell_type": "markdown",
      "metadata": {
        "id": "9f5LIF2aaA_P"
      },
      "source": [
        "## Feature selection using SelectFromModel\n",
        "\n",
        "<p style='text-align: right;'> 25 points</p>\n",
        "\n",
        "\n",
        "SelectFromModel is a meta-transformer that can be used along with any estimator that has a coef_ or featureimportances attribute after fitting. The features are considered unimportant and removed, if the corresponding coef_ or featureimportances values are below the provided threshold parameter. Apart from specifying the threshold numerically, there are built-in heuristics for finding a threshold using a string argument. Available heuristics are “mean”, “median” and float multiples of these like “0.1*mean”.\n",
        "\n",
        "Lets use selectfrommodel again with LinearSVC"
      ]
    },
    {
      "cell_type": "code",
      "metadata": {
        "id": "E_dlEtc6aA_P"
      },
      "source": [
        "# import LinearSVC \n",
        "from sklearn.svm import LinearSVC"
      ],
      "execution_count": null,
      "outputs": []
    },
    {
      "cell_type": "code",
      "metadata": {
        "id": "SdtiWO58aA_P",
        "colab": {
          "base_uri": "https://localhost:8080/"
        },
        "outputId": "7bbc7fea-1b0e-42aa-8808-0f10ceb3beb4"
      },
      "source": [
        "#Use SelectFromModel with LinearSVC() as its parameter and save it in variable 'm'\n",
        "\n",
        "m = SelectFromModel(estimator=LinearSVC())\n",
        "\n",
        "#fit m with X and Y\n",
        "fit = m.fit(X, y)"
      ],
      "execution_count": null,
      "outputs": [
        {
          "output_type": "stream",
          "text": [
            "/usr/local/lib/python3.7/dist-packages/sklearn/svm/_base.py:947: ConvergenceWarning: Liblinear failed to converge, increase the number of iterations.\n",
            "  \"the number of iterations.\", ConvergenceWarning)\n"
          ],
          "name": "stderr"
        }
      ]
    },
    {
      "cell_type": "code",
      "metadata": {
        "id": "XTLjIGLNaA_Q",
        "colab": {
          "base_uri": "https://localhost:8080/"
        },
        "outputId": "26e0e189-174f-4e3f-9eae-1b4f886791c0"
      },
      "source": [
        "#make a list named selected_feat with all columns which are supported\n",
        "sel_support = m.get_support()\n",
        "\n",
        "selected_feat= X.loc[:,sel_support].columns.tolist()\n",
        "\n",
        "print(selected_feat)"
      ],
      "execution_count": null,
      "outputs": [
        {
          "output_type": "stream",
          "text": [
            "['Pregnancies', 'DiabetesPedigreeFunction']\n"
          ],
          "name": "stdout"
        }
      ]
    }
  ]
}