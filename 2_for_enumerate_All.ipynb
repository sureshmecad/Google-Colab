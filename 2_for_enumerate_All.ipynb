{
  "nbformat": 4,
  "nbformat_minor": 0,
  "metadata": {
    "colab": {
      "name": "2_for-enumerate-All.ipynb",
      "provenance": [],
      "collapsed_sections": [],
      "authorship_tag": "ABX9TyP/PF/lxaIcY5At5m05gt8p",
      "include_colab_link": true
    },
    "kernelspec": {
      "name": "python3",
      "display_name": "Python 3"
    },
    "language_info": {
      "name": "python"
    }
  },
  "cells": [
    {
      "cell_type": "markdown",
      "metadata": {
        "id": "view-in-github",
        "colab_type": "text"
      },
      "source": [
        "<a href=\"https://colab.research.google.com/github/sureshmecad/Google-Colab/blob/master/2_for_enumerate_All.ipynb\" target=\"_parent\"><img src=\"https://colab.research.google.com/assets/colab-badge.svg\" alt=\"Open In Colab\"/></a>"
      ]
    },
    {
      "cell_type": "markdown",
      "metadata": {
        "id": "7Q-oNtml6bzp"
      },
      "source": [
        "### **1) Enumerate as a List**"
      ]
    },
    {
      "cell_type": "code",
      "metadata": {
        "id": "-bVo8cli6ITc"
      },
      "source": [
        "A = ['Apple', 'Mango', 'Banana', 'Orange']"
      ],
      "execution_count": 1,
      "outputs": []
    },
    {
      "cell_type": "code",
      "metadata": {
        "colab": {
          "base_uri": "https://localhost:8080/"
        },
        "id": "wvBrqIds6fTZ",
        "outputId": "0b9ac1ec-36c3-4b46-b4b9-0eb774f3602c"
      },
      "source": [
        "type(A)"
      ],
      "execution_count": 2,
      "outputs": [
        {
          "output_type": "execute_result",
          "data": {
            "text/plain": [
              "list"
            ]
          },
          "metadata": {},
          "execution_count": 2
        }
      ]
    },
    {
      "cell_type": "code",
      "metadata": {
        "colab": {
          "base_uri": "https://localhost:8080/"
        },
        "id": "FgDNaAiF6fP4",
        "outputId": "78627605-5790-4792-b36e-01732f2a880b"
      },
      "source": [
        "list(enumerate(A))"
      ],
      "execution_count": 3,
      "outputs": [
        {
          "output_type": "execute_result",
          "data": {
            "text/plain": [
              "[(0, 'Apple'), (1, 'Mango'), (2, 'Banana'), (3, 'Orange')]"
            ]
          },
          "metadata": {},
          "execution_count": 3
        }
      ]
    },
    {
      "cell_type": "code",
      "metadata": {
        "colab": {
          "base_uri": "https://localhost:8080/"
        },
        "id": "9QHR9e9M6fMZ",
        "outputId": "fdaddcfe-b263-4f46-e934-5d694a64849a"
      },
      "source": [
        "list(enumerate(('India', 'US', 'Japan', 'Russia')))"
      ],
      "execution_count": 4,
      "outputs": [
        {
          "output_type": "execute_result",
          "data": {
            "text/plain": [
              "[(0, 'India'), (1, 'US'), (2, 'Japan'), (3, 'Russia')]"
            ]
          },
          "metadata": {},
          "execution_count": 4
        }
      ]
    },
    {
      "cell_type": "markdown",
      "metadata": {
        "id": "rgKH6aAj6rh4"
      },
      "source": [
        "### **2) Enumerate as a Tuple**"
      ]
    },
    {
      "cell_type": "code",
      "metadata": {
        "colab": {
          "base_uri": "https://localhost:8080/"
        },
        "id": "jLckPyW66sZK",
        "outputId": "2e816f23-eeed-4021-8675-9fc06a5be5c6"
      },
      "source": [
        "tuple(enumerate(A))"
      ],
      "execution_count": 5,
      "outputs": [
        {
          "output_type": "execute_result",
          "data": {
            "text/plain": [
              "((0, 'Apple'), (1, 'Mango'), (2, 'Banana'), (3, 'Orange'))"
            ]
          },
          "metadata": {},
          "execution_count": 5
        }
      ]
    },
    {
      "cell_type": "markdown",
      "metadata": {
        "id": "7rUH0OoB6w36"
      },
      "source": [
        "### **3) Enumerate as a Set**"
      ]
    },
    {
      "cell_type": "code",
      "metadata": {
        "colab": {
          "base_uri": "https://localhost:8080/"
        },
        "id": "0egmPm3w6tC5",
        "outputId": "9424ac85-afbf-4ab2-a9f5-55f33180c5ff"
      },
      "source": [
        "set(enumerate(A))"
      ],
      "execution_count": 6,
      "outputs": [
        {
          "output_type": "execute_result",
          "data": {
            "text/plain": [
              "{(0, 'Apple'), (1, 'Mango'), (2, 'Banana'), (3, 'Orange')}"
            ]
          },
          "metadata": {},
          "execution_count": 6
        }
      ]
    },
    {
      "cell_type": "markdown",
      "metadata": {
        "id": "tKYxwGD963i7"
      },
      "source": [
        "### **4) Enumerate as a Dictionary**"
      ]
    },
    {
      "cell_type": "code",
      "metadata": {
        "colab": {
          "base_uri": "https://localhost:8080/"
        },
        "id": "GVCj2flu6s8h",
        "outputId": "7d0e0ce0-91bb-4a3e-92e3-7936bb6232f0"
      },
      "source": [
        "dict(enumerate(A))"
      ],
      "execution_count": 7,
      "outputs": [
        {
          "output_type": "execute_result",
          "data": {
            "text/plain": [
              "{0: 'Apple', 1: 'Mango', 2: 'Banana', 3: 'Orange'}"
            ]
          },
          "metadata": {},
          "execution_count": 7
        }
      ]
    },
    {
      "cell_type": "code",
      "metadata": {
        "colab": {
          "base_uri": "https://localhost:8080/"
        },
        "id": "0rEikaXF6szJ",
        "outputId": "a019fa01-490c-40b1-cf70-27b691841eb3"
      },
      "source": [
        "dict(enumerate({'India', 'US', 'Japan', 'Russia'}))"
      ],
      "execution_count": 8,
      "outputs": [
        {
          "output_type": "execute_result",
          "data": {
            "text/plain": [
              "{0: 'Russia', 1: 'Japan', 2: 'US', 3: 'India'}"
            ]
          },
          "metadata": {},
          "execution_count": 8
        }
      ]
    },
    {
      "cell_type": "markdown",
      "metadata": {
        "id": "EZzdbagu6_PD"
      },
      "source": [
        "### **5) Enumerate as a String**"
      ]
    },
    {
      "cell_type": "code",
      "metadata": {
        "colab": {
          "base_uri": "https://localhost:8080/"
        },
        "id": "jOJb02WD6svR",
        "outputId": "6b3bbd0e-4d67-4725-f6ad-9b8a316bc855"
      },
      "source": [
        "x = 'Python'\n",
        "\n",
        "list(enumerate(x))"
      ],
      "execution_count": 9,
      "outputs": [
        {
          "output_type": "execute_result",
          "data": {
            "text/plain": [
              "[(0, 'P'), (1, 'y'), (2, 't'), (3, 'h'), (4, 'o'), (5, 'n')]"
            ]
          },
          "metadata": {},
          "execution_count": 9
        }
      ]
    },
    {
      "cell_type": "code",
      "metadata": {
        "colab": {
          "base_uri": "https://localhost:8080/"
        },
        "id": "EETt3_iV7C51",
        "outputId": "fcebf7d8-fe6a-40fe-f02a-d01ab126b32f"
      },
      "source": [
        "y = 'Python is fun'\n",
        "\n",
        "list(enumerate(y))"
      ],
      "execution_count": 10,
      "outputs": [
        {
          "output_type": "execute_result",
          "data": {
            "text/plain": [
              "[(0, 'P'),\n",
              " (1, 'y'),\n",
              " (2, 't'),\n",
              " (3, 'h'),\n",
              " (4, 'o'),\n",
              " (5, 'n'),\n",
              " (6, ' '),\n",
              " (7, 'i'),\n",
              " (8, 's'),\n",
              " (9, ' '),\n",
              " (10, 'f'),\n",
              " (11, 'u'),\n",
              " (12, 'n')]"
            ]
          },
          "metadata": {},
          "execution_count": 10
        }
      ]
    },
    {
      "cell_type": "markdown",
      "metadata": {
        "id": "pAF_2_AY7PSz"
      },
      "source": [
        "----------------------"
      ]
    },
    {
      "cell_type": "markdown",
      "metadata": {
        "id": "fN2GXcia7I7z"
      },
      "source": [
        "- To **iterate over the indices** in a sequence, we use the **enumerate()** function"
      ]
    },
    {
      "cell_type": "code",
      "metadata": {
        "colab": {
          "base_uri": "https://localhost:8080/"
        },
        "id": "mAVoriVl7C0T",
        "outputId": "d9b6e9e2-154d-4497-e0f9-a09c48a319a2"
      },
      "source": [
        "colors = [\"yellow\", \"black\", \"green\", \"purple\"]\n",
        "\n",
        "for index,value in enumerate(colors):\n",
        "  print(index,value)"
      ],
      "execution_count": 11,
      "outputs": [
        {
          "output_type": "stream",
          "name": "stdout",
          "text": [
            "0 yellow\n",
            "1 black\n",
            "2 green\n",
            "3 purple\n"
          ]
        }
      ]
    },
    {
      "cell_type": "markdown",
      "metadata": {
        "id": "BtbPzVk-7Qhd"
      },
      "source": [
        "-------------"
      ]
    },
    {
      "cell_type": "markdown",
      "metadata": {
        "id": "5NMoI8NM7SOM"
      },
      "source": [
        "### **How to use enumerate() in Python?**"
      ]
    },
    {
      "cell_type": "code",
      "metadata": {
        "colab": {
          "base_uri": "https://localhost:8080/"
        },
        "id": "9gvuMr2v7CuU",
        "outputId": "62d25263-7446-4348-b3c2-37806b6ebe86"
      },
      "source": [
        "characters = [\"Krillian\", \"Goku\", \"Vegeta\", \"Gohan\", \"Piccolo\"]\n",
        "\n",
        "# enumerate() returns a sequence of (index, item) tuples\n",
        "\n",
        "list(enumerate(characters))"
      ],
      "execution_count": 12,
      "outputs": [
        {
          "output_type": "execute_result",
          "data": {
            "text/plain": [
              "[(0, 'Krillian'), (1, 'Goku'), (2, 'Vegeta'), (3, 'Gohan'), (4, 'Piccolo')]"
            ]
          },
          "metadata": {},
          "execution_count": 12
        }
      ]
    },
    {
      "cell_type": "code",
      "metadata": {
        "colab": {
          "base_uri": "https://localhost:8080/"
        },
        "id": "HWdgzfZF7Cor",
        "outputId": "915a4a4c-f1fa-4b0d-d344-b2c7a0739737"
      },
      "source": [
        "# Use enumerate() in a for loop to get an item and its index\n",
        "\n",
        "for index, character in enumerate(characters):\n",
        "    print(index, character)"
      ],
      "execution_count": 13,
      "outputs": [
        {
          "output_type": "stream",
          "name": "stdout",
          "text": [
            "0 Krillian\n",
            "1 Goku\n",
            "2 Vegeta\n",
            "3 Gohan\n",
            "4 Piccolo\n"
          ]
        }
      ]
    },
    {
      "cell_type": "markdown",
      "metadata": {
        "id": "QHpjPJs_7Znd"
      },
      "source": [
        "##### **Why might you want to use enumerate?**\n",
        "\n",
        "##### **Example: store index positions of duplicate items**"
      ]
    },
    {
      "cell_type": "code",
      "metadata": {
        "colab": {
          "base_uri": "https://localhost:8080/"
        },
        "id": "yKIDk80s7ahr",
        "outputId": "8441dfaa-79ed-4935-e75a-75043af36ef6"
      },
      "source": [
        "characters = [\"Krillin\", \"Goku\", \"Goku\", \"Gohan\", \"Piccolo\",\n",
        "              \"Krillin\", \"Goku\", \"Vegeta\", \"Gohan\", \"Piccolo\",\n",
        "              \"Piccolo\", \"Goku\", \"Vegeta\", \"Goku\", \"Piccolo\"]\n",
        "        \n",
        "character_map = {character:[] for character in set(characters)}\n",
        "\n",
        "print(character_map)"
      ],
      "execution_count": 14,
      "outputs": [
        {
          "output_type": "stream",
          "name": "stdout",
          "text": [
            "{'Piccolo': [], 'Gohan': [], 'Krillin': [], 'Goku': [], 'Vegeta': []}\n"
          ]
        }
      ]
    },
    {
      "cell_type": "code",
      "metadata": {
        "colab": {
          "base_uri": "https://localhost:8080/"
        },
        "id": "MQHRlKRP7a0B",
        "outputId": "6fde8b70-c393-48d8-82da-cf3c9ddea7ab"
      },
      "source": [
        "# Use enumerate to store the index for each occurence\n",
        "for index, character in enumerate(characters):\n",
        "    character_map[character].append(index)\n",
        "    \n",
        "character_map"
      ],
      "execution_count": 15,
      "outputs": [
        {
          "output_type": "execute_result",
          "data": {
            "text/plain": [
              "{'Gohan': [3, 8],\n",
              " 'Goku': [1, 2, 6, 11, 13],\n",
              " 'Krillin': [0, 5],\n",
              " 'Piccolo': [4, 9, 10, 14],\n",
              " 'Vegeta': [7, 12]}"
            ]
          },
          "metadata": {},
          "execution_count": 15
        }
      ]
    },
    {
      "cell_type": "markdown",
      "metadata": {
        "id": "GVq3IIMr7jOF"
      },
      "source": [
        "-------------------"
      ]
    },
    {
      "cell_type": "markdown",
      "metadata": {
        "id": "qaWnuKJN7kDN"
      },
      "source": [
        "#### The standard for loop works great if inside the loop you **only need the item and not its index.**"
      ]
    },
    {
      "cell_type": "code",
      "metadata": {
        "colab": {
          "base_uri": "https://localhost:8080/"
        },
        "id": "xOBhTHHp7aud",
        "outputId": "093a8ff3-b426-44a4-bd94-ac358b7476bc"
      },
      "source": [
        "color = [\"red\", \"blue\", \"yellow\"]\n",
        "\n",
        "for i in color:\n",
        "  print(i)"
      ],
      "execution_count": 16,
      "outputs": [
        {
          "output_type": "stream",
          "name": "stdout",
          "text": [
            "red\n",
            "blue\n",
            "yellow\n"
          ]
        }
      ]
    },
    {
      "cell_type": "markdown",
      "metadata": {
        "id": "V9pmeLnn7ofV"
      },
      "source": [
        "#### If you need the **index** inside the loop you can use **range(len(list))**.Then you can always get the list item if needed by using the index."
      ]
    },
    {
      "cell_type": "code",
      "metadata": {
        "colab": {
          "base_uri": "https://localhost:8080/"
        },
        "id": "qRFvh12-7anK",
        "outputId": "c2e88094-b758-44ea-9ad8-78b5a40dbba8"
      },
      "source": [
        "for i in range(len(color)):\n",
        "  print(i, color[i])"
      ],
      "execution_count": 17,
      "outputs": [
        {
          "output_type": "stream",
          "name": "stdout",
          "text": [
            "0 red\n",
            "1 blue\n",
            "2 yellow\n"
          ]
        }
      ]
    },
    {
      "cell_type": "code",
      "metadata": {
        "colab": {
          "base_uri": "https://localhost:8080/"
        },
        "id": "RRNhsSVW7s3m",
        "outputId": "f0d9561a-a38d-493b-81e4-6d32e599086e"
      },
      "source": [
        "for i in range(len(color)):\n",
        "  print(\"color\", i, '=', color[i])"
      ],
      "execution_count": 18,
      "outputs": [
        {
          "output_type": "stream",
          "name": "stdout",
          "text": [
            "color 0 = red\n",
            "color 1 = blue\n",
            "color 2 = yellow\n"
          ]
        }
      ]
    },
    {
      "cell_type": "markdown",
      "metadata": {
        "id": "JaNDU3by7wl1"
      },
      "source": [
        "#### Best option if you need **both index and item** inside the loop is to use Python's **enumerate** function. Enumerate works in both Python 2.x and 3.x"
      ]
    },
    {
      "cell_type": "code",
      "metadata": {
        "colab": {
          "base_uri": "https://localhost:8080/"
        },
        "id": "jyN4JnG17xh-",
        "outputId": "691a38df-8b07-4b24-eaca-51428857f863"
      },
      "source": [
        "color = [\"red\", \"blue\", \"yellow\"]\n",
        "\n",
        "for i,j in enumerate(color):\n",
        "  print(i,j)"
      ],
      "execution_count": 19,
      "outputs": [
        {
          "output_type": "stream",
          "name": "stdout",
          "text": [
            "0 red\n",
            "1 blue\n",
            "2 yellow\n"
          ]
        }
      ]
    },
    {
      "cell_type": "code",
      "metadata": {
        "colab": {
          "base_uri": "https://localhost:8080/"
        },
        "id": "MtWIERXy70gP",
        "outputId": "0425676b-a408-448e-967d-ff0c3c9ca2d1"
      },
      "source": [
        "color = [\"red\", \"blue\", \"yellow\"]\n",
        "\n",
        "for i,j in enumerate(color):\n",
        "  print(\"color\", i, '=', j)"
      ],
      "execution_count": 20,
      "outputs": [
        {
          "output_type": "stream",
          "name": "stdout",
          "text": [
            "color 0 = red\n",
            "color 1 = blue\n",
            "color 2 = yellow\n"
          ]
        }
      ]
    },
    {
      "cell_type": "code",
      "metadata": {
        "colab": {
          "base_uri": "https://localhost:8080/"
        },
        "id": "URdKW-Em70Rd",
        "outputId": "0b431889-2132-4662-fd90-3235286644db"
      },
      "source": [
        "color = [\"red\", \"blue\", \"yellow\"]\n",
        "\n",
        "for i,j in enumerate(color,1):        # starts index from one\n",
        "  print(i,j)"
      ],
      "execution_count": 21,
      "outputs": [
        {
          "output_type": "stream",
          "name": "stdout",
          "text": [
            "1 red\n",
            "2 blue\n",
            "3 yellow\n"
          ]
        }
      ]
    }
  ]
}