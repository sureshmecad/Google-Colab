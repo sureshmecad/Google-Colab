{
  "nbformat": 4,
  "nbformat_minor": 0,
  "metadata": {
    "colab": {
      "name": "1_NaN-NULL-infinity-values.ipynb",
      "provenance": [],
      "collapsed_sections": [],
      "authorship_tag": "ABX9TyMQ8dYeTV3hdzwOPcZ3JBoN",
      "include_colab_link": true
    },
    "kernelspec": {
      "name": "python3",
      "display_name": "Python 3"
    },
    "language_info": {
      "name": "python"
    }
  },
  "cells": [
    {
      "cell_type": "markdown",
      "metadata": {
        "id": "view-in-github",
        "colab_type": "text"
      },
      "source": [
        "<a href=\"https://colab.research.google.com/github/sureshmecad/Google-Colab/blob/master/1_NaN_NULL_infinity_values.ipynb\" target=\"_parent\"><img src=\"https://colab.research.google.com/assets/colab-badge.svg\" alt=\"Open In Colab\"/></a>"
      ]
    },
    {
      "cell_type": "markdown",
      "metadata": {
        "id": "aprnjvc2qv75"
      },
      "source": [
        "#### **DataFrame.isinf()**\n",
        "\n",
        "#### **np.isfinite(dataframe_name)**"
      ]
    },
    {
      "cell_type": "markdown",
      "metadata": {
        "id": "170j43hxrk_7"
      },
      "source": [
        "-----------------"
      ]
    },
    {
      "cell_type": "code",
      "metadata": {
        "colab": {
          "base_uri": "https://localhost:8080/"
        },
        "id": "dCs3pUU7WwIq",
        "outputId": "c6ff4b0d-4873-40ff-e0ca-d08f89ff6beb"
      },
      "source": [
        "from google.colab import drive\n",
        "drive.mount('/content/drive')"
      ],
      "execution_count": 2,
      "outputs": [
        {
          "output_type": "stream",
          "name": "stdout",
          "text": [
            "Mounted at /content/drive\n"
          ]
        }
      ]
    },
    {
      "cell_type": "code",
      "metadata": {
        "id": "1PI4Zz2UYo6O"
      },
      "source": [
        "import numpy as np\n",
        "import pandas as pd"
      ],
      "execution_count": 8,
      "outputs": []
    },
    {
      "cell_type": "markdown",
      "metadata": {
        "id": "RQHxXxtcnOu-"
      },
      "source": [
        "### **Check if dataframe contains infinity**"
      ]
    },
    {
      "cell_type": "markdown",
      "metadata": {
        "id": "uo7afF6NnbU2"
      },
      "source": [
        "- There are various cases where a data frame can contain **infinity** as value.\n",
        "\n",
        "- **np.inf** for **positive infinity**\n",
        "\n",
        "- **np.inf** for **negative infinity**"
      ]
    },
    {
      "cell_type": "markdown",
      "metadata": {
        "id": "JVJJdiOan58j"
      },
      "source": [
        "#### **Method1**\n",
        "- Use **DataFrame.isinf()** function to check whether the dataframe contains **infinity or not**. It returns **boolean value**.\n",
        "\n",
        "- If it contains any **infinity**, it will return **True**. **Else**, it will return **False**. "
      ]
    },
    {
      "cell_type": "code",
      "metadata": {
        "colab": {
          "base_uri": "https://localhost:8080/",
          "height": 202
        },
        "id": "67d7OiulnLQV",
        "outputId": "302f6bad-164a-4275-b92e-32297537a732"
      },
      "source": [
        "# Create dataframe using dictionary\n",
        "data = {'Student ID': [10, 11, 12, 13, 14], \n",
        "        'Age': [23, 22, 24, 22, 25],\n",
        "        'Weight': [66, 72, np.inf, 68, -np.inf]}\n",
        "  \n",
        "df = pd.DataFrame(data)\n",
        "df"
      ],
      "execution_count": 10,
      "outputs": [
        {
          "output_type": "execute_result",
          "data": {
            "text/html": [
              "<div>\n",
              "<style scoped>\n",
              "    .dataframe tbody tr th:only-of-type {\n",
              "        vertical-align: middle;\n",
              "    }\n",
              "\n",
              "    .dataframe tbody tr th {\n",
              "        vertical-align: top;\n",
              "    }\n",
              "\n",
              "    .dataframe thead th {\n",
              "        text-align: right;\n",
              "    }\n",
              "</style>\n",
              "<table border=\"1\" class=\"dataframe\">\n",
              "  <thead>\n",
              "    <tr style=\"text-align: right;\">\n",
              "      <th></th>\n",
              "      <th>Student ID</th>\n",
              "      <th>Age</th>\n",
              "      <th>Weight</th>\n",
              "    </tr>\n",
              "  </thead>\n",
              "  <tbody>\n",
              "    <tr>\n",
              "      <th>0</th>\n",
              "      <td>10</td>\n",
              "      <td>23</td>\n",
              "      <td>66.0</td>\n",
              "    </tr>\n",
              "    <tr>\n",
              "      <th>1</th>\n",
              "      <td>11</td>\n",
              "      <td>22</td>\n",
              "      <td>72.0</td>\n",
              "    </tr>\n",
              "    <tr>\n",
              "      <th>2</th>\n",
              "      <td>12</td>\n",
              "      <td>24</td>\n",
              "      <td>inf</td>\n",
              "    </tr>\n",
              "    <tr>\n",
              "      <th>3</th>\n",
              "      <td>13</td>\n",
              "      <td>22</td>\n",
              "      <td>68.0</td>\n",
              "    </tr>\n",
              "    <tr>\n",
              "      <th>4</th>\n",
              "      <td>14</td>\n",
              "      <td>25</td>\n",
              "      <td>-inf</td>\n",
              "    </tr>\n",
              "  </tbody>\n",
              "</table>\n",
              "</div>"
            ],
            "text/plain": [
              "   Student ID  Age  Weight\n",
              "0          10   23    66.0\n",
              "1          11   22    72.0\n",
              "2          12   24     inf\n",
              "3          13   22    68.0\n",
              "4          14   25    -inf"
            ]
          },
          "metadata": {},
          "execution_count": 10
        }
      ]
    },
    {
      "cell_type": "code",
      "metadata": {
        "colab": {
          "base_uri": "https://localhost:8080/"
        },
        "id": "m86ACqqInLJW",
        "outputId": "b5bdae10-2daf-42fe-99ba-71db4a51f6d0"
      },
      "source": [
        "# checking for infinity\n",
        "ds = df.isin([np.inf, -np.inf])\n",
        "print(ds)"
      ],
      "execution_count": 11,
      "outputs": [
        {
          "output_type": "stream",
          "name": "stdout",
          "text": [
            "   Student ID    Age  Weight\n",
            "0       False  False   False\n",
            "1       False  False   False\n",
            "2       False  False    True\n",
            "3       False  False   False\n",
            "4       False  False    True\n"
          ]
        }
      ]
    },
    {
      "cell_type": "code",
      "metadata": {
        "colab": {
          "base_uri": "https://localhost:8080/"
        },
        "id": "7KModaYFnLEF",
        "outputId": "b9cbe546-6a3a-4674-cf2e-77b1fdf76882"
      },
      "source": [
        "# printing the count of infinity values\n",
        "count = np.isinf(df).values.sum()\n",
        "print(\"It contains \" + str(count) + \" infinite values\")"
      ],
      "execution_count": 12,
      "outputs": [
        {
          "output_type": "stream",
          "name": "stdout",
          "text": [
            "It contains 2 infinite values\n"
          ]
        }
      ]
    },
    {
      "cell_type": "code",
      "metadata": {
        "colab": {
          "base_uri": "https://localhost:8080/"
        },
        "id": "mUXjX3WcnK95",
        "outputId": "2f9dc1c8-90d2-4431-85a5-0e0871f03744"
      },
      "source": [
        "# counting infinity in a particular column name\n",
        "c = np.isinf(df['Weight']).values.sum()\n",
        "print(\"It contains \" + str(c) + \" infinite values\")"
      ],
      "execution_count": 13,
      "outputs": [
        {
          "output_type": "stream",
          "name": "stdout",
          "text": [
            "It contains 2 infinite values\n"
          ]
        }
      ]
    },
    {
      "cell_type": "code",
      "metadata": {
        "colab": {
          "base_uri": "https://localhost:8080/"
        },
        "id": "F92GYC3enK1m",
        "outputId": "ed9f74fd-fea7-4bd0-b1d6-3e3ca18321d8"
      },
      "source": [
        "# printing column name where infinity is present\n",
        "col_name = df.columns.to_series()[np.isinf(df).any()]\n",
        "print(col_name)"
      ],
      "execution_count": 14,
      "outputs": [
        {
          "output_type": "stream",
          "name": "stdout",
          "text": [
            "Weight    Weight\n",
            "dtype: object\n"
          ]
        }
      ]
    },
    {
      "cell_type": "code",
      "metadata": {
        "colab": {
          "base_uri": "https://localhost:8080/"
        },
        "id": "VrgnNRnxpV0L",
        "outputId": "a9f3d4dd-0bc8-44ff-fcb9-ba2a38b09c23"
      },
      "source": [
        "# printing row index with infinity\n",
        "r = df.index[np.isinf(df).any(1)]\n",
        "print(r)"
      ],
      "execution_count": 15,
      "outputs": [
        {
          "output_type": "stream",
          "name": "stdout",
          "text": [
            "Int64Index([2, 4], dtype='int64')\n"
          ]
        }
      ]
    },
    {
      "cell_type": "markdown",
      "metadata": {
        "id": "MKjYsKUNqQJx"
      },
      "source": [
        "--------------------------"
      ]
    },
    {
      "cell_type": "markdown",
      "metadata": {
        "id": "-yOtF6bNq_GQ"
      },
      "source": [
        "#### **Method2**\n",
        "- Use **np.isfinite(dataframe_name)** to check the presence of infinite value(s). It returns boolean value. It will return **False** for **infinite values** and it will return **True** for **finite values.**"
      ]
    },
    {
      "cell_type": "code",
      "metadata": {
        "colab": {
          "base_uri": "https://localhost:8080/",
          "height": 202
        },
        "id": "VNNqO_1hpVwF",
        "outputId": "598b2968-0d50-4e6a-ca9c-6c5f0534436d"
      },
      "source": [
        "# Create dataframe using dictionary\n",
        "df1 = {'Student ID': [10, 11, 12, 13, 14], 'Age': [\n",
        "    23, 22, 24, 22, 25], 'Weight': [66, 72, np.inf, 68, -np.inf]}\n",
        "  \n",
        "df1 = pd.DataFrame(data)\n",
        "  \n",
        "d = np.isfinite(df1)\n",
        "  \n",
        "display(d)"
      ],
      "execution_count": 18,
      "outputs": [
        {
          "output_type": "display_data",
          "data": {
            "text/html": [
              "<div>\n",
              "<style scoped>\n",
              "    .dataframe tbody tr th:only-of-type {\n",
              "        vertical-align: middle;\n",
              "    }\n",
              "\n",
              "    .dataframe tbody tr th {\n",
              "        vertical-align: top;\n",
              "    }\n",
              "\n",
              "    .dataframe thead th {\n",
              "        text-align: right;\n",
              "    }\n",
              "</style>\n",
              "<table border=\"1\" class=\"dataframe\">\n",
              "  <thead>\n",
              "    <tr style=\"text-align: right;\">\n",
              "      <th></th>\n",
              "      <th>Student ID</th>\n",
              "      <th>Age</th>\n",
              "      <th>Weight</th>\n",
              "    </tr>\n",
              "  </thead>\n",
              "  <tbody>\n",
              "    <tr>\n",
              "      <th>0</th>\n",
              "      <td>True</td>\n",
              "      <td>True</td>\n",
              "      <td>True</td>\n",
              "    </tr>\n",
              "    <tr>\n",
              "      <th>1</th>\n",
              "      <td>True</td>\n",
              "      <td>True</td>\n",
              "      <td>True</td>\n",
              "    </tr>\n",
              "    <tr>\n",
              "      <th>2</th>\n",
              "      <td>True</td>\n",
              "      <td>True</td>\n",
              "      <td>False</td>\n",
              "    </tr>\n",
              "    <tr>\n",
              "      <th>3</th>\n",
              "      <td>True</td>\n",
              "      <td>True</td>\n",
              "      <td>True</td>\n",
              "    </tr>\n",
              "    <tr>\n",
              "      <th>4</th>\n",
              "      <td>True</td>\n",
              "      <td>True</td>\n",
              "      <td>False</td>\n",
              "    </tr>\n",
              "  </tbody>\n",
              "</table>\n",
              "</div>"
            ],
            "text/plain": [
              "   Student ID   Age  Weight\n",
              "0        True  True    True\n",
              "1        True  True    True\n",
              "2        True  True   False\n",
              "3        True  True    True\n",
              "4        True  True   False"
            ]
          },
          "metadata": {}
        }
      ]
    },
    {
      "cell_type": "markdown",
      "metadata": {
        "id": "KgP-MwA1vFzF"
      },
      "source": [
        "### **Remove infinite values**\n",
        "\n",
        "- https://www.geeksforgeeks.org/remove-infinite-values-from-a-given-pandas-dataframe/"
      ]
    },
    {
      "cell_type": "markdown",
      "metadata": {
        "id": "5bG5q4JXvyoG"
      },
      "source": [
        "- you can **remove Inf values** by **converting** those to **first NaN and then removing the NaNs.**\n",
        "\n",
        "       data.replace([np.inf, -np.inf], np.nan, inplace=True).dropna(inplace = True)\n",
        "       \n",
        "       df.replace([np.inf, -np.inf], np.nan).dropna(subset=[\"col1\", \"col2\"], how=\"all\")\n",
        "\n",
        "- The above single line would handle the **conversion and dropping of useless data.**"
      ]
    },
    {
      "cell_type": "code",
      "metadata": {
        "colab": {
          "base_uri": "https://localhost:8080/",
          "height": 202
        },
        "id": "cY9ofoAiqRbS",
        "outputId": "4dda8ef8-3408-4633-9216-24f4359add51"
      },
      "source": [
        "# Create a dictionary for the dataframe\n",
        "dict = {'Name': ['Sumit Tyagi', 'Sukritin', 'Akriti Goel',\n",
        "                 'Sanskriti', 'Abhishek Jain'],\n",
        "        'Age': [22, 20, np.inf, -np.inf, 22], \n",
        "        'Marks': [90, 84, 33, 87, 82]}\n",
        "  \n",
        "# Converting Dictionary to Pandas Dataframe\n",
        "df2 = pd.DataFrame(dict)\n",
        "  \n",
        "# Print Dataframe\n",
        "df2"
      ],
      "execution_count": 19,
      "outputs": [
        {
          "output_type": "execute_result",
          "data": {
            "text/html": [
              "<div>\n",
              "<style scoped>\n",
              "    .dataframe tbody tr th:only-of-type {\n",
              "        vertical-align: middle;\n",
              "    }\n",
              "\n",
              "    .dataframe tbody tr th {\n",
              "        vertical-align: top;\n",
              "    }\n",
              "\n",
              "    .dataframe thead th {\n",
              "        text-align: right;\n",
              "    }\n",
              "</style>\n",
              "<table border=\"1\" class=\"dataframe\">\n",
              "  <thead>\n",
              "    <tr style=\"text-align: right;\">\n",
              "      <th></th>\n",
              "      <th>Name</th>\n",
              "      <th>Age</th>\n",
              "      <th>Marks</th>\n",
              "    </tr>\n",
              "  </thead>\n",
              "  <tbody>\n",
              "    <tr>\n",
              "      <th>0</th>\n",
              "      <td>Sumit Tyagi</td>\n",
              "      <td>22.0</td>\n",
              "      <td>90</td>\n",
              "    </tr>\n",
              "    <tr>\n",
              "      <th>1</th>\n",
              "      <td>Sukritin</td>\n",
              "      <td>20.0</td>\n",
              "      <td>84</td>\n",
              "    </tr>\n",
              "    <tr>\n",
              "      <th>2</th>\n",
              "      <td>Akriti Goel</td>\n",
              "      <td>inf</td>\n",
              "      <td>33</td>\n",
              "    </tr>\n",
              "    <tr>\n",
              "      <th>3</th>\n",
              "      <td>Sanskriti</td>\n",
              "      <td>-inf</td>\n",
              "      <td>87</td>\n",
              "    </tr>\n",
              "    <tr>\n",
              "      <th>4</th>\n",
              "      <td>Abhishek Jain</td>\n",
              "      <td>22.0</td>\n",
              "      <td>82</td>\n",
              "    </tr>\n",
              "  </tbody>\n",
              "</table>\n",
              "</div>"
            ],
            "text/plain": [
              "            Name   Age  Marks\n",
              "0    Sumit Tyagi  22.0     90\n",
              "1       Sukritin  20.0     84\n",
              "2    Akriti Goel   inf     33\n",
              "3      Sanskriti  -inf     87\n",
              "4  Abhishek Jain  22.0     82"
            ]
          },
          "metadata": {},
          "execution_count": 19
        }
      ]
    },
    {
      "cell_type": "code",
      "metadata": {
        "colab": {
          "base_uri": "https://localhost:8080/",
          "height": 141
        },
        "id": "tVlArI1ZpVsM",
        "outputId": "ade295fe-6684-4901-d44b-e958621fd8b6"
      },
      "source": [
        "# Replacing infinite with nan\n",
        "df2.replace([np.inf, -np.inf], np.nan, inplace=True)\n",
        "  \n",
        "# Dropping all the rows with nan values\n",
        "df2.dropna(inplace=True)\n",
        "  \n",
        "# Printing df2\n",
        "df2"
      ],
      "execution_count": 20,
      "outputs": [
        {
          "output_type": "execute_result",
          "data": {
            "text/html": [
              "<div>\n",
              "<style scoped>\n",
              "    .dataframe tbody tr th:only-of-type {\n",
              "        vertical-align: middle;\n",
              "    }\n",
              "\n",
              "    .dataframe tbody tr th {\n",
              "        vertical-align: top;\n",
              "    }\n",
              "\n",
              "    .dataframe thead th {\n",
              "        text-align: right;\n",
              "    }\n",
              "</style>\n",
              "<table border=\"1\" class=\"dataframe\">\n",
              "  <thead>\n",
              "    <tr style=\"text-align: right;\">\n",
              "      <th></th>\n",
              "      <th>Name</th>\n",
              "      <th>Age</th>\n",
              "      <th>Marks</th>\n",
              "    </tr>\n",
              "  </thead>\n",
              "  <tbody>\n",
              "    <tr>\n",
              "      <th>0</th>\n",
              "      <td>Sumit Tyagi</td>\n",
              "      <td>22.0</td>\n",
              "      <td>90</td>\n",
              "    </tr>\n",
              "    <tr>\n",
              "      <th>1</th>\n",
              "      <td>Sukritin</td>\n",
              "      <td>20.0</td>\n",
              "      <td>84</td>\n",
              "    </tr>\n",
              "    <tr>\n",
              "      <th>4</th>\n",
              "      <td>Abhishek Jain</td>\n",
              "      <td>22.0</td>\n",
              "      <td>82</td>\n",
              "    </tr>\n",
              "  </tbody>\n",
              "</table>\n",
              "</div>"
            ],
            "text/plain": [
              "            Name   Age  Marks\n",
              "0    Sumit Tyagi  22.0     90\n",
              "1       Sukritin  20.0     84\n",
              "4  Abhishek Jain  22.0     82"
            ]
          },
          "metadata": {},
          "execution_count": 20
        }
      ]
    },
    {
      "cell_type": "markdown",
      "metadata": {
        "id": "nI4cMHRvuiCy"
      },
      "source": [
        "--------------------------"
      ]
    },
    {
      "cell_type": "markdown",
      "metadata": {
        "id": "5CmBqRSNwRHf"
      },
      "source": [
        "#### **Medical Appointment No Shows**"
      ]
    },
    {
      "cell_type": "code",
      "metadata": {
        "colab": {
          "base_uri": "https://localhost:8080/",
          "height": 202
        },
        "id": "61nrRIf5Y6g-",
        "outputId": "fbfc9222-5846-41a6-f5f2-c2425fe3b351"
      },
      "source": [
        "train = pd.read_csv(\"/content/drive/MyDrive/Datasets/Medical_Appointment_No_Shows.zip\")\n",
        "train.head()"
      ],
      "execution_count": 4,
      "outputs": [
        {
          "output_type": "execute_result",
          "data": {
            "text/html": [
              "<div>\n",
              "<style scoped>\n",
              "    .dataframe tbody tr th:only-of-type {\n",
              "        vertical-align: middle;\n",
              "    }\n",
              "\n",
              "    .dataframe tbody tr th {\n",
              "        vertical-align: top;\n",
              "    }\n",
              "\n",
              "    .dataframe thead th {\n",
              "        text-align: right;\n",
              "    }\n",
              "</style>\n",
              "<table border=\"1\" class=\"dataframe\">\n",
              "  <thead>\n",
              "    <tr style=\"text-align: right;\">\n",
              "      <th></th>\n",
              "      <th>PatientId</th>\n",
              "      <th>AppointmentID</th>\n",
              "      <th>Gender</th>\n",
              "      <th>ScheduledDay</th>\n",
              "      <th>AppointmentDay</th>\n",
              "      <th>Age</th>\n",
              "      <th>Neighbourhood</th>\n",
              "      <th>Scholarship</th>\n",
              "      <th>Hipertension</th>\n",
              "      <th>Diabetes</th>\n",
              "      <th>Alcoholism</th>\n",
              "      <th>Handcap</th>\n",
              "      <th>SMS_received</th>\n",
              "      <th>No-show</th>\n",
              "    </tr>\n",
              "  </thead>\n",
              "  <tbody>\n",
              "    <tr>\n",
              "      <th>0</th>\n",
              "      <td>2.987250e+13</td>\n",
              "      <td>5642903</td>\n",
              "      <td>F</td>\n",
              "      <td>2016-04-29T18:38:08Z</td>\n",
              "      <td>2016-04-29T00:00:00Z</td>\n",
              "      <td>62</td>\n",
              "      <td>JARDIM DA PENHA</td>\n",
              "      <td>0</td>\n",
              "      <td>1</td>\n",
              "      <td>0</td>\n",
              "      <td>0</td>\n",
              "      <td>0</td>\n",
              "      <td>0</td>\n",
              "      <td>No</td>\n",
              "    </tr>\n",
              "    <tr>\n",
              "      <th>1</th>\n",
              "      <td>5.589978e+14</td>\n",
              "      <td>5642503</td>\n",
              "      <td>M</td>\n",
              "      <td>2016-04-29T16:08:27Z</td>\n",
              "      <td>2016-04-29T00:00:00Z</td>\n",
              "      <td>56</td>\n",
              "      <td>JARDIM DA PENHA</td>\n",
              "      <td>0</td>\n",
              "      <td>0</td>\n",
              "      <td>0</td>\n",
              "      <td>0</td>\n",
              "      <td>0</td>\n",
              "      <td>0</td>\n",
              "      <td>No</td>\n",
              "    </tr>\n",
              "    <tr>\n",
              "      <th>2</th>\n",
              "      <td>4.262962e+12</td>\n",
              "      <td>5642549</td>\n",
              "      <td>F</td>\n",
              "      <td>2016-04-29T16:19:04Z</td>\n",
              "      <td>2016-04-29T00:00:00Z</td>\n",
              "      <td>62</td>\n",
              "      <td>MATA DA PRAIA</td>\n",
              "      <td>0</td>\n",
              "      <td>0</td>\n",
              "      <td>0</td>\n",
              "      <td>0</td>\n",
              "      <td>0</td>\n",
              "      <td>0</td>\n",
              "      <td>No</td>\n",
              "    </tr>\n",
              "    <tr>\n",
              "      <th>3</th>\n",
              "      <td>8.679512e+11</td>\n",
              "      <td>5642828</td>\n",
              "      <td>F</td>\n",
              "      <td>2016-04-29T17:29:31Z</td>\n",
              "      <td>2016-04-29T00:00:00Z</td>\n",
              "      <td>8</td>\n",
              "      <td>PONTAL DE CAMBURI</td>\n",
              "      <td>0</td>\n",
              "      <td>0</td>\n",
              "      <td>0</td>\n",
              "      <td>0</td>\n",
              "      <td>0</td>\n",
              "      <td>0</td>\n",
              "      <td>No</td>\n",
              "    </tr>\n",
              "    <tr>\n",
              "      <th>4</th>\n",
              "      <td>8.841186e+12</td>\n",
              "      <td>5642494</td>\n",
              "      <td>F</td>\n",
              "      <td>2016-04-29T16:07:23Z</td>\n",
              "      <td>2016-04-29T00:00:00Z</td>\n",
              "      <td>56</td>\n",
              "      <td>JARDIM DA PENHA</td>\n",
              "      <td>0</td>\n",
              "      <td>1</td>\n",
              "      <td>1</td>\n",
              "      <td>0</td>\n",
              "      <td>0</td>\n",
              "      <td>0</td>\n",
              "      <td>No</td>\n",
              "    </tr>\n",
              "  </tbody>\n",
              "</table>\n",
              "</div>"
            ],
            "text/plain": [
              "      PatientId  AppointmentID Gender  ... Handcap SMS_received  No-show\n",
              "0  2.987250e+13        5642903      F  ...       0            0       No\n",
              "1  5.589978e+14        5642503      M  ...       0            0       No\n",
              "2  4.262962e+12        5642549      F  ...       0            0       No\n",
              "3  8.679512e+11        5642828      F  ...       0            0       No\n",
              "4  8.841186e+12        5642494      F  ...       0            0       No\n",
              "\n",
              "[5 rows x 14 columns]"
            ]
          },
          "metadata": {},
          "execution_count": 4
        }
      ]
    },
    {
      "cell_type": "markdown",
      "metadata": {
        "id": "ufS6y8mxZhrt"
      },
      "source": [
        "##### **Looking for NaN/ Empty values**"
      ]
    },
    {
      "cell_type": "markdown",
      "metadata": {
        "id": "RA_h_wWHZyrn"
      },
      "source": [
        "- The most frustrating part about having to work with such a huge data size is that it is impossible to verify data visually. Having **NaN/NULL/inf** values in the dataset is one such problem that will have you pull your hair out because these can be hard to identify. I remember when I first coded a linear regression predictor, my loss would constantly rise to infinity without any explanation. It took me **two days of searching to realize that my dataset had infinity values.**\n",
        "\n",
        "- So whenever you get a dataset, the **first step** should always be to **identify NaN/NULL/inf values**. The below example shows how that can be done."
      ]
    },
    {
      "cell_type": "code",
      "metadata": {
        "colab": {
          "base_uri": "https://localhost:8080/",
          "height": 48
        },
        "id": "weztubsvZYSv",
        "outputId": "077c5b19-b8d5-4ab1-ede6-96a002a8438b"
      },
      "source": [
        "train[train.isna().any(axis=1)]"
      ],
      "execution_count": 6,
      "outputs": [
        {
          "output_type": "execute_result",
          "data": {
            "text/html": [
              "<div>\n",
              "<style scoped>\n",
              "    .dataframe tbody tr th:only-of-type {\n",
              "        vertical-align: middle;\n",
              "    }\n",
              "\n",
              "    .dataframe tbody tr th {\n",
              "        vertical-align: top;\n",
              "    }\n",
              "\n",
              "    .dataframe thead th {\n",
              "        text-align: right;\n",
              "    }\n",
              "</style>\n",
              "<table border=\"1\" class=\"dataframe\">\n",
              "  <thead>\n",
              "    <tr style=\"text-align: right;\">\n",
              "      <th></th>\n",
              "      <th>PatientId</th>\n",
              "      <th>AppointmentID</th>\n",
              "      <th>Gender</th>\n",
              "      <th>ScheduledDay</th>\n",
              "      <th>AppointmentDay</th>\n",
              "      <th>Age</th>\n",
              "      <th>Neighbourhood</th>\n",
              "      <th>Scholarship</th>\n",
              "      <th>Hipertension</th>\n",
              "      <th>Diabetes</th>\n",
              "      <th>Alcoholism</th>\n",
              "      <th>Handcap</th>\n",
              "      <th>SMS_received</th>\n",
              "      <th>No-show</th>\n",
              "    </tr>\n",
              "  </thead>\n",
              "  <tbody>\n",
              "  </tbody>\n",
              "</table>\n",
              "</div>"
            ],
            "text/plain": [
              "Empty DataFrame\n",
              "Columns: [PatientId, AppointmentID, Gender, ScheduledDay, AppointmentDay, Age, Neighbourhood, Scholarship, Hipertension, Diabetes, Alcoholism, Handcap, SMS_received, No-show]\n",
              "Index: []"
            ]
          },
          "metadata": {},
          "execution_count": 6
        }
      ]
    },
    {
      "cell_type": "code",
      "metadata": {
        "colab": {
          "base_uri": "https://localhost:8080/"
        },
        "id": "HRpAzaAPuXRq",
        "outputId": "4e829783-5f4b-4374-9667-56e455d6d360"
      },
      "source": [
        "# checking for infinity\n",
        "ds = train.isin([np.inf, -np.inf])\n",
        "print(ds)"
      ],
      "execution_count": 16,
      "outputs": [
        {
          "output_type": "stream",
          "name": "stdout",
          "text": [
            "        PatientId  AppointmentID  Gender  ...  Handcap  SMS_received  No-show\n",
            "0           False          False   False  ...    False         False    False\n",
            "1           False          False   False  ...    False         False    False\n",
            "2           False          False   False  ...    False         False    False\n",
            "3           False          False   False  ...    False         False    False\n",
            "4           False          False   False  ...    False         False    False\n",
            "...           ...            ...     ...  ...      ...           ...      ...\n",
            "110522      False          False   False  ...    False         False    False\n",
            "110523      False          False   False  ...    False         False    False\n",
            "110524      False          False   False  ...    False         False    False\n",
            "110525      False          False   False  ...    False         False    False\n",
            "110526      False          False   False  ...    False         False    False\n",
            "\n",
            "[110527 rows x 14 columns]\n"
          ]
        }
      ]
    },
    {
      "cell_type": "code",
      "metadata": {
        "colab": {
          "base_uri": "https://localhost:8080/"
        },
        "id": "wIrq-VCNubIS",
        "outputId": "c33c3876-b683-45a1-d6c2-3d54a4ca7283"
      },
      "source": [
        "# printing the count of infinity values\n",
        "count = np.isinf(ds).values.sum()\n",
        "print(\"It contains \" + str(count) + \" infinite values\")"
      ],
      "execution_count": 17,
      "outputs": [
        {
          "output_type": "stream",
          "name": "stdout",
          "text": [
            "It contains 0 infinite values\n"
          ]
        }
      ]
    }
  ]
}