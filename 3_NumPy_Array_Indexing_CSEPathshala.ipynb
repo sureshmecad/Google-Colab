{
  "nbformat": 4,
  "nbformat_minor": 0,
  "metadata": {
    "colab": {
      "name": "3_NumPy Array Indexing_CSEPathshala.ipynb",
      "provenance": [],
      "collapsed_sections": [],
      "authorship_tag": "ABX9TyNmgIrSlmQ6HUgQilFsmal7",
      "include_colab_link": true
    },
    "kernelspec": {
      "name": "python3",
      "display_name": "Python 3"
    },
    "language_info": {
      "name": "python"
    }
  },
  "cells": [
    {
      "cell_type": "markdown",
      "metadata": {
        "id": "view-in-github",
        "colab_type": "text"
      },
      "source": [
        "<a href=\"https://colab.research.google.com/github/sureshmecad/Google-Colab/blob/master/3_NumPy_Array_Indexing_CSEPathshala.ipynb\" target=\"_parent\"><img src=\"https://colab.research.google.com/assets/colab-badge.svg\" alt=\"Open In Colab\"/></a>"
      ]
    },
    {
      "cell_type": "markdown",
      "metadata": {
        "id": "ZJEZPBgcF3iu"
      },
      "source": [
        "* [1) Access Array Elements](#1)\n",
        "\n",
        "* [2) Accessing 2-D Array Elements](#2)\n",
        "\n",
        "* [3) Accessing 3-D Array Elements](#3)\n",
        "\n",
        "* [4) Negative Indexing](#4)\n",
        "\n",
        "* [5) Boolean Indexing](#5)"
      ]
    },
    {
      "cell_type": "code",
      "metadata": {
        "id": "jaE4HPUhqJ05"
      },
      "source": [
        "import numpy as np"
      ],
      "execution_count": 1,
      "outputs": []
    },
    {
      "cell_type": "markdown",
      "metadata": {
        "id": "g5SR4UpQBYVG"
      },
      "source": [
        "### **1) Access Array Elements**"
      ]
    },
    {
      "cell_type": "markdown",
      "metadata": {
        "id": "_HzHaxIGurxG"
      },
      "source": [
        "- NumPy array indexing is the same as accessing array elements\n",
        "\n",
        "- we can access an array element by refering to its index number\n",
        "\n",
        "- The indexes in NumPy arrays start with 0, meaning that the first element has index 0, and the second has index 1 etc\n"
      ]
    },
    {
      "cell_type": "code",
      "metadata": {
        "colab": {
          "base_uri": "https://localhost:8080/"
        },
        "id": "8RhFFMXWwHhf",
        "outputId": "0ed60065-79f4-49d8-ab34-598b518e5c04"
      },
      "source": [
        "arr = np.array([1,2,3,4])\n",
        "\n",
        "print(arr[0])   # Get the first element from the following array\n",
        "\n",
        "print(arr[1])   # Get the second element from the following array"
      ],
      "execution_count": 2,
      "outputs": [
        {
          "output_type": "stream",
          "name": "stdout",
          "text": [
            "1\n",
            "2\n"
          ]
        }
      ]
    },
    {
      "cell_type": "code",
      "metadata": {
        "colab": {
          "base_uri": "https://localhost:8080/"
        },
        "id": "HeSh6LLNwHbl",
        "outputId": "1528be6f-7528-43b5-becd-de9551663c9d"
      },
      "source": [
        "# Get third and fourth elements from the following array and add them\n",
        "arr = np.array([1,2,3,4])\n",
        "print(arr[2] + arr[3])"
      ],
      "execution_count": 3,
      "outputs": [
        {
          "output_type": "stream",
          "name": "stdout",
          "text": [
            "7\n"
          ]
        }
      ]
    },
    {
      "cell_type": "markdown",
      "metadata": {
        "id": "L6QjrJfRyGvW"
      },
      "source": [
        "### **2) Accessing 2-D Array Elements**"
      ]
    },
    {
      "cell_type": "markdown",
      "metadata": {
        "id": "G0cghIJ0DzrH"
      },
      "source": [
        "- To access elements from 2-D arrays we can use comma seperated integers representing the dimension and the index of the element."
      ]
    },
    {
      "cell_type": "markdown",
      "metadata": {
        "id": "lByy9UlqMToi"
      },
      "source": [
        "- Values in a **2-D array** can be accessed using the general notation below:\n",
        "\n",
        "       <value> = <array>[row,col]\n",
        "\n",
        "       a = np.array([[2,3,4],[6,7,8]])\n",
        "       print(a)\n",
        "       value = a[1,2]\n",
        "       print(value)\n",
        "\n",
        "       [[2 3 4]\n",
        "        [6 7 8]]\n",
        "\n",
        "       8\n",
        "\n",
        "- We can access the value **8** in the array above by calling the **row and column index [1,2]**.\n",
        "\n",
        "- This corresponds to the **2nd row (remember row 0 is the first row)** and the **3rd column (column 0 is the first column)**"
      ]
    },
    {
      "cell_type": "code",
      "metadata": {
        "colab": {
          "base_uri": "https://localhost:8080/"
        },
        "id": "58cHOMLKEmur",
        "outputId": "bf4106fc-e799-4b34-a6dd-dcf62dd451b6"
      },
      "source": [
        "# Access the 2nd element on 1st dim\n",
        "\n",
        "arr = np.array([[1,2,3,4,5], [6,7,8,9,10]])\n",
        "\n",
        "print('2nd element on 1st dim: ', arr[0, 1])"
      ],
      "execution_count": 18,
      "outputs": [
        {
          "output_type": "stream",
          "name": "stdout",
          "text": [
            "2nd element on 1st dim:  2\n"
          ]
        }
      ]
    },
    {
      "cell_type": "code",
      "metadata": {
        "colab": {
          "base_uri": "https://localhost:8080/"
        },
        "id": "xS5Z6lqyE9CV",
        "outputId": "9d60dd17-b191-475a-cb51-ad05e5a9dc30"
      },
      "source": [
        "# Access the 5th element on 2nd dim\n",
        "\n",
        "arr = np.array([[1,2,3,4,5], [6,7,8,9,10]])\n",
        "print('5th element on 2nd dim: ', arr[1, 4])"
      ],
      "execution_count": 19,
      "outputs": [
        {
          "output_type": "stream",
          "name": "stdout",
          "text": [
            "5th element on 2nd dim:  10\n"
          ]
        }
      ]
    },
    {
      "cell_type": "code",
      "metadata": {
        "colab": {
          "base_uri": "https://localhost:8080/"
        },
        "id": "9KtpBL7kwHSQ",
        "outputId": "95218fc6-9fe6-4d4a-888b-3ea06da0dd2a"
      },
      "source": [
        "list1 = [1,2,3,4,5]\n",
        "list2 = [6,7,8,9,10]\n",
        "\n",
        "arr = np.array([list1, list2])\n",
        "print(arr)\n",
        "print(arr.ndim)\n",
        "print(arr.shape)\n",
        "print(arr[0,0])\n",
        "print(arr[0,1])\n",
        "print(arr[1,0])"
      ],
      "execution_count": 5,
      "outputs": [
        {
          "output_type": "stream",
          "name": "stdout",
          "text": [
            "[[ 1  2  3  4  5]\n",
            " [ 6  7  8  9 10]]\n",
            "2\n",
            "(2, 5)\n",
            "1\n",
            "2\n",
            "6\n"
          ]
        }
      ]
    },
    {
      "cell_type": "code",
      "metadata": {
        "colab": {
          "base_uri": "https://localhost:8080/"
        },
        "id": "1pIhwY9MwHNN",
        "outputId": "45200c98-72b1-4e44-9c47-e5049768cf26"
      },
      "source": [
        "list1 = [1,2,3,4,5]\n",
        "\n",
        "arr = np.array(list1)\n",
        "print(arr[[1,3]])"
      ],
      "execution_count": 6,
      "outputs": [
        {
          "output_type": "stream",
          "name": "stdout",
          "text": [
            "[2 4]\n"
          ]
        }
      ]
    },
    {
      "cell_type": "markdown",
      "metadata": {
        "id": "B-Fa_UCr0fl1"
      },
      "source": [
        "### **3) Accessing 3-D Array Elements**"
      ]
    },
    {
      "cell_type": "markdown",
      "metadata": {
        "id": "qtiQe_sCFqC0"
      },
      "source": [
        "- To access elements from 3-D arrays we can use comma seperated integers representing the dimensions and the index of the element."
      ]
    },
    {
      "cell_type": "code",
      "metadata": {
        "colab": {
          "base_uri": "https://localhost:8080/"
        },
        "id": "PTnAaBEJwHFd",
        "outputId": "a8e967e6-faad-408c-9ef8-bc59b9833e22"
      },
      "source": [
        "arr = np.array([[[1,2,3]]])\n",
        "print(arr[0,0,2])"
      ],
      "execution_count": 7,
      "outputs": [
        {
          "output_type": "stream",
          "name": "stdout",
          "text": [
            "3\n"
          ]
        }
      ]
    },
    {
      "cell_type": "code",
      "metadata": {
        "colab": {
          "base_uri": "https://localhost:8080/"
        },
        "id": "12BkhX0owHBF",
        "outputId": "53de1533-b368-4aca-88ca-6b4bd37c1b0a"
      },
      "source": [
        "arr = np.array([[[1,2,3],[4,5,6]]])\n",
        "print(arr)\n",
        "print(arr[0,1,0])"
      ],
      "execution_count": 8,
      "outputs": [
        {
          "output_type": "stream",
          "name": "stdout",
          "text": [
            "[[[1 2 3]\n",
            "  [4 5 6]]]\n",
            "4\n"
          ]
        }
      ]
    },
    {
      "cell_type": "code",
      "metadata": {
        "colab": {
          "base_uri": "https://localhost:8080/"
        },
        "id": "GlP942VywG9N",
        "outputId": "51b46585-a517-45ad-cc40-7f112917f220"
      },
      "source": [
        "arr = np.array([[[1,2,3],[4,5,6]],[[7,8,9],[10,11,12]]])\n",
        "print(arr)\n",
        "print(arr[1,1,2])"
      ],
      "execution_count": 10,
      "outputs": [
        {
          "output_type": "stream",
          "name": "stdout",
          "text": [
            "[[[ 1  2  3]\n",
            "  [ 4  5  6]]\n",
            "\n",
            " [[ 7  8  9]\n",
            "  [10 11 12]]]\n",
            "12\n"
          ]
        }
      ]
    },
    {
      "cell_type": "code",
      "metadata": {
        "colab": {
          "base_uri": "https://localhost:8080/"
        },
        "id": "VsY7O_dsHWJS",
        "outputId": "bbe6988c-30c8-4b0c-bec1-123581e17010"
      },
      "source": [
        "arr = np.array([[[1,2,3],[4,5,6]],[[7,8,9],[10,11,12]]])\n",
        "print(arr)\n",
        "print(arr[0,1,2])"
      ],
      "execution_count": 20,
      "outputs": [
        {
          "output_type": "stream",
          "name": "stdout",
          "text": [
            "[[[ 1  2  3]\n",
            "  [ 4  5  6]]\n",
            "\n",
            " [[ 7  8  9]\n",
            "  [10 11 12]]]\n",
            "6\n"
          ]
        }
      ]
    },
    {
      "cell_type": "markdown",
      "metadata": {
        "id": "j2cZ-wcyHmBa"
      },
      "source": [
        "**arr[0, 1, 2] prints the value 6**\n",
        "\n",
        "#### **And this is why:**\n",
        "\n",
        "- The **first number** represents the **first dimension**, which contains **two arrays:**\n",
        "\n",
        "      [[1, 2, 3], [4, 5, 6]]\n",
        "\n",
        "      and:\n",
        "\n",
        "      [[7, 8, 9], [10, 11, 12]]\n",
        "\n",
        "- Since we **selected 0**, we are left with the **first array**:\n",
        "\n",
        "      [[1, 2, 3], [4, 5, 6]]\n",
        "\n",
        "- The **second number** represents the **second dimension**, which also contains **two arrays**:\n",
        "\n",
        "      [1, 2, 3]\n",
        "\n",
        "      and:\n",
        "\n",
        "      [4, 5, 6]\n",
        "\n",
        "- Since we **selected 1**, we are left with the **second array**:\n",
        "\n",
        "      [4, 5, 6]\n",
        "\n",
        "- The **third number** represents the **third dimension**, which contains **three values**:\n",
        "\n",
        "      4\n",
        "\n",
        "      5\n",
        "\n",
        "      6\n",
        "\n",
        "- Since we **selected 2**, we end up with the **third value**:\n",
        "\n",
        "      6"
      ]
    },
    {
      "cell_type": "markdown",
      "metadata": {
        "id": "Uj3U4L1w58jf"
      },
      "source": [
        "### **4) Negative Indexing**\n",
        "\n",
        "- is used to access an array from the end"
      ]
    },
    {
      "cell_type": "code",
      "metadata": {
        "colab": {
          "base_uri": "https://localhost:8080/"
        },
        "id": "58yXbfQzwG4H",
        "outputId": "0ed03eff-e516-404e-96c7-7bca52c6d735"
      },
      "source": [
        "arr = np.array([1,2,3,4,5])\n",
        "print(arr[-1])"
      ],
      "execution_count": 12,
      "outputs": [
        {
          "output_type": "stream",
          "name": "stdout",
          "text": [
            "5\n"
          ]
        }
      ]
    },
    {
      "cell_type": "code",
      "metadata": {
        "colab": {
          "base_uri": "https://localhost:8080/"
        },
        "id": "zIG4R4yywGxO",
        "outputId": "580387be-aa78-48e1-b710-7d8800245e0f"
      },
      "source": [
        "arr = np.array([[1,2,3,4,5]])\n",
        "print(arr[0,-2])"
      ],
      "execution_count": 13,
      "outputs": [
        {
          "output_type": "stream",
          "name": "stdout",
          "text": [
            "4\n"
          ]
        }
      ]
    },
    {
      "cell_type": "code",
      "metadata": {
        "colab": {
          "base_uri": "https://localhost:8080/"
        },
        "id": "EwoRyiUH7H1i",
        "outputId": "7e04d67b-202b-45db-9b14-b31f80882cb1"
      },
      "source": [
        "arr = np.array([[1,2,3,4,5],[6,7,8,9,10]])\n",
        "print(arr[1,-1])"
      ],
      "execution_count": 14,
      "outputs": [
        {
          "output_type": "stream",
          "name": "stdout",
          "text": [
            "10\n"
          ]
        }
      ]
    },
    {
      "cell_type": "markdown",
      "metadata": {
        "id": "uhTL8Hsg7nu5"
      },
      "source": [
        "### **5) Boolean Indexing**\n",
        "\n",
        "- In addition to use indexing to access elements in an array, there is another very cool way to access elements in a NumPy array."
      ]
    },
    {
      "cell_type": "code",
      "metadata": {
        "colab": {
          "base_uri": "https://localhost:8080/"
        },
        "id": "LrA4QGSQ7Ho8",
        "outputId": "84b14c0e-d01c-4183-f45c-40e94aed4f06"
      },
      "source": [
        "list = [6,7,8,9,10]\n",
        "arr = np.array(list)\n",
        "print(arr)\n",
        "print(arr>7)"
      ],
      "execution_count": 15,
      "outputs": [
        {
          "output_type": "stream",
          "name": "stdout",
          "text": [
            "[ 6  7  8  9 10]\n",
            "[False False  True  True  True]\n"
          ]
        }
      ]
    },
    {
      "cell_type": "code",
      "metadata": {
        "colab": {
          "base_uri": "https://localhost:8080/"
        },
        "id": "xgjd5pU57HoL",
        "outputId": "96ba4cb5-cce2-4c20-977c-c00c1069d416"
      },
      "source": [
        "list = [6,7,8,9,10]\n",
        "arr = np.array(list)\n",
        "print(arr)\n",
        "print(arr>7)\n",
        "print(arr[arr>7])"
      ],
      "execution_count": 16,
      "outputs": [
        {
          "output_type": "stream",
          "name": "stdout",
          "text": [
            "[ 6  7  8  9 10]\n",
            "[False False  True  True  True]\n",
            "[ 8  9 10]\n"
          ]
        }
      ]
    },
    {
      "cell_type": "code",
      "metadata": {
        "colab": {
          "base_uri": "https://localhost:8080/"
        },
        "id": "6ZYTlnPZ9k1W",
        "outputId": "f49ff0b6-91b9-4aec-d3db-b7ff1015daf8"
      },
      "source": [
        "num = np.arange(20)\n",
        "print(num)\n",
        "odd_num = num[num % 2 == 1]\n",
        "print(odd_num)"
      ],
      "execution_count": 17,
      "outputs": [
        {
          "output_type": "stream",
          "name": "stdout",
          "text": [
            "[ 0  1  2  3  4  5  6  7  8  9 10 11 12 13 14 15 16 17 18 19]\n",
            "[ 1  3  5  7  9 11 13 15 17 19]\n"
          ]
        }
      ]
    },
    {
      "cell_type": "markdown",
      "metadata": {
        "id": "AxRMgedIqhAq"
      },
      "source": [
        "### **Reference**"
      ]
    },
    {
      "cell_type": "markdown",
      "metadata": {
        "id": "nozr53mZqjq5"
      },
      "source": [
        "- https://www.youtube.com/watch?v=uqcXaSf7bG0&list=PLzx-_kRo3HZtP3tWaieUPwAh9K4I00_6p&index=3\n",
        "\n",
        "- https://www.w3schools.com/python/numpy/numpy_array_indexing.asp"
      ]
    }
  ]
}