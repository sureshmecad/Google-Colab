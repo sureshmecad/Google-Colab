{
  "nbformat": 4,
  "nbformat_minor": 0,
  "metadata": {
    "colab": {
      "name": "1_String-All-Operations.ipynb",
      "provenance": [],
      "collapsed_sections": [],
      "authorship_tag": "ABX9TyMPpdKCeUCqgGk4mSzxxdmv",
      "include_colab_link": true
    },
    "kernelspec": {
      "name": "python3",
      "display_name": "Python 3"
    }
  },
  "cells": [
    {
      "cell_type": "markdown",
      "metadata": {
        "id": "view-in-github",
        "colab_type": "text"
      },
      "source": [
        "<a href=\"https://colab.research.google.com/github/sureshmecad/Google-Colab/blob/master/1_String_All_Operations.ipynb\" target=\"_parent\"><img src=\"https://colab.research.google.com/assets/colab-badge.svg\" alt=\"Open In Colab\"/></a>"
      ]
    },
    {
      "cell_type": "markdown",
      "metadata": {
        "id": "m88bcsi5mP8G"
      },
      "source": [
        "|Method          |Description                                             |\n",
        "|----------------|--------------------------------------------------------|\n",
        "|capitalize()    |Converts the first character to upper case                   |\n",
        "|lower()         |Converts a string into lower case                           | \n",
        "|upper()         |Converts a string into upper case                            |\n",
        "|title()         |Converts the first character of each word to upper case      |\n",
        "|islower()       |Returns True if all characters in the string are lower case  |\n",
        "|isupper()       |Returns True if all characters in the string are upper case  |\n",
        "|isdigit()       |Returns True if all characters in the string are digits      |\n",
        "|isalpha()       |Returns True if all characters in the string are in the alphabet|\n",
        "|isspace()       |Returns True if all characters in the string are whitespaces|\n",
        "|isalnum()       |Returns True if all characters in the string are alphanumeric|\n",
        "|istitle()       |Returns True if the string follows the rules of a title      |\n",
        "|find()          |Searches the string for a specified value and returns the position of where it was found|\n",
        "|index()         |Searches the string for a specified value and returns the position of where it was found|\n",
        "|join            |method takes all items in an iterable and joins them into one string|\n",
        "|split()         |Splits the string at the specified separator, and returns a list|\n",
        "|len()           |Returns the number of characters in the string, array, list, tuple, dictionary etc.|\n",
        "|replace         |Returns a string where a specified value is replaced with a specified value|\n",
        "|count()         |Returns the number of times a specified value occurs in a string|\n",
        "|Indexing        |\n",
        "|Slicing         |\n",
        "|Repetition      |\n",
        "|Formating       |\n",
        "|Concatenation   |"
      ]
    },
    {
      "cell_type": "markdown",
      "metadata": {
        "id": "VweBSe4C_aOw"
      },
      "source": [
        "#### **7.1) capitalize()**\n",
        "\n",
        "**string.capitalize()**\n",
        "\n",
        "- In Python, the capitalize() method converts **first** character of a string to **uppercase** letter and **lowercases all other characters**, if any.\n",
        "\n",
        "- The **capitalize()** function **doesn't** take any parameter.\n",
        "\n",
        "- Returns a copy of the string with its **first character capitalized.**\n",
        "\n"
      ]
    },
    {
      "cell_type": "code",
      "metadata": {
        "colab": {
          "base_uri": "https://localhost:8080/"
        },
        "id": "BqO3LQ2C9x_j",
        "outputId": "c6443ed7-90fc-4acb-e30e-5196e0c2fcb0"
      },
      "source": [
        "# What will be the output of the following Python Code?\n",
        "x = \"python hub\"\n",
        "print(x.capitalize())"
      ],
      "execution_count": null,
      "outputs": [
        {
          "output_type": "stream",
          "text": [
            "Python hub\n"
          ],
          "name": "stdout"
        }
      ]
    },
    {
      "cell_type": "code",
      "metadata": {
        "colab": {
          "base_uri": "https://localhost:8080/"
        },
        "id": "V-z-VYDUyEzf",
        "outputId": "72170c7b-2c67-4c9e-fde1-34e48d59e905"
      },
      "source": [
        "y = \"happy\"\n",
        "print(y.capitalize())"
      ],
      "execution_count": null,
      "outputs": [
        {
          "output_type": "stream",
          "text": [
            "Happy\n"
          ],
          "name": "stdout"
        }
      ]
    },
    {
      "cell_type": "code",
      "metadata": {
        "colab": {
          "base_uri": "https://localhost:8080/"
        },
        "id": "b8BVHMyryOsb",
        "outputId": "d7164a3c-09fe-4a36-c011-4083c3575656"
      },
      "source": [
        "print(\"happy\".capitalize())"
      ],
      "execution_count": null,
      "outputs": [
        {
          "output_type": "stream",
          "text": [
            "Happy\n"
          ],
          "name": "stdout"
        }
      ]
    },
    {
      "cell_type": "markdown",
      "metadata": {
        "id": "-mN_kuCWjbEE"
      },
      "source": [
        "#### **7.2) lower()**\n",
        "**string.lower()**\n",
        "- Returns a **copy** of the string converted to **lowercase.**"
      ]
    },
    {
      "cell_type": "code",
      "metadata": {
        "colab": {
          "base_uri": "https://localhost:8080/"
        },
        "id": "xZAc9AGmk1ry",
        "outputId": "7c96896a-f55f-49e8-8a27-a3e3890cb7c4"
      },
      "source": [
        "x = \"AMAZING\"\n",
        "print(x.lower())"
      ],
      "execution_count": null,
      "outputs": [
        {
          "output_type": "stream",
          "text": [
            "amazing\n"
          ],
          "name": "stdout"
        }
      ]
    },
    {
      "cell_type": "code",
      "metadata": {
        "colab": {
          "base_uri": "https://localhost:8080/"
        },
        "id": "CUEqx80-lSA7",
        "outputId": "96e04e72-7619-4a03-9840-acb8fc789fe6"
      },
      "source": [
        "print(\"AMAZING\".lower())"
      ],
      "execution_count": null,
      "outputs": [
        {
          "output_type": "stream",
          "text": [
            "amazing\n"
          ],
          "name": "stdout"
        }
      ]
    },
    {
      "cell_type": "markdown",
      "metadata": {
        "id": "bSDH3RsriFH8"
      },
      "source": [
        "#### **7.3) upper()**\n",
        "**string.upper()**\n",
        "- Returns a **copy** of the string converted to **uppercase**."
      ]
    },
    {
      "cell_type": "code",
      "metadata": {
        "colab": {
          "base_uri": "https://localhost:8080/"
        },
        "id": "Pp7gwampiLdH",
        "outputId": "818ee831-1d28-450c-8308-272330e44be9"
      },
      "source": [
        "x = \"cool\"\n",
        "print(x.upper())"
      ],
      "execution_count": null,
      "outputs": [
        {
          "output_type": "stream",
          "text": [
            "COOL\n"
          ],
          "name": "stdout"
        }
      ]
    },
    {
      "cell_type": "code",
      "metadata": {
        "colab": {
          "base_uri": "https://localhost:8080/"
        },
        "id": "opO339S1i4pG",
        "outputId": "17798d89-c561-4072-bd77-2a7253aae180"
      },
      "source": [
        "print(\"cool\".upper())"
      ],
      "execution_count": null,
      "outputs": [
        {
          "output_type": "stream",
          "text": [
            "COOL\n"
          ],
          "name": "stdout"
        }
      ]
    },
    {
      "cell_type": "markdown",
      "metadata": {
        "id": "cej1GwlmoWKa"
      },
      "source": [
        "#### **7.4) title()**\n",
        "**string.title()**\n",
        "- Returns a **copy** of the string with its **first character in each word** to **Uppercase** and remaining characters to **Lowercase**"
      ]
    },
    {
      "cell_type": "code",
      "metadata": {
        "colab": {
          "base_uri": "https://localhost:8080/"
        },
        "id": "aeCnDESGpJem",
        "outputId": "3a752fa8-17a3-4a89-ab80-10f26dd6482f"
      },
      "source": [
        "x = \"green plants\"\n",
        "print(x.title())"
      ],
      "execution_count": null,
      "outputs": [
        {
          "output_type": "stream",
          "text": [
            "Green Plants\n"
          ],
          "name": "stdout"
        }
      ]
    },
    {
      "cell_type": "code",
      "metadata": {
        "colab": {
          "base_uri": "https://localhost:8080/"
        },
        "id": "ygGqanbypT1e",
        "outputId": "27fb33a7-8e70-4bf6-c305-13bac2d0825a"
      },
      "source": [
        "print(\"green plants\".title())"
      ],
      "execution_count": null,
      "outputs": [
        {
          "output_type": "stream",
          "text": [
            "Green Plants\n"
          ],
          "name": "stdout"
        }
      ]
    },
    {
      "cell_type": "markdown",
      "metadata": {
        "id": "v8tAM-1rrrUn"
      },
      "source": [
        "#### **7.5) islower()**\n",
        "**string.islower()**\n",
        "\n",
        "- Returns **'True'** if all cased characters in the string are **lowercase**, otherwise **'False\"**."
      ]
    },
    {
      "cell_type": "code",
      "metadata": {
        "colab": {
          "base_uri": "https://localhost:8080/"
        },
        "id": "3ghCRchUuDca",
        "outputId": "56d75dff-0490-40f6-a5b5-ed27640cfd25"
      },
      "source": [
        "x = \"cloud\"\n",
        "\n",
        "print(x.islower())"
      ],
      "execution_count": null,
      "outputs": [
        {
          "output_type": "stream",
          "text": [
            "True\n"
          ],
          "name": "stdout"
        }
      ]
    },
    {
      "cell_type": "code",
      "metadata": {
        "colab": {
          "base_uri": "https://localhost:8080/"
        },
        "id": "zefWQBB7t4DZ",
        "outputId": "158a1efa-f2bf-47f1-c166-620e6855a66f"
      },
      "source": [
        "x = \"Cloud\"\n",
        "\n",
        "print(x.islower())"
      ],
      "execution_count": null,
      "outputs": [
        {
          "output_type": "stream",
          "text": [
            "False\n"
          ],
          "name": "stdout"
        }
      ]
    },
    {
      "cell_type": "code",
      "metadata": {
        "colab": {
          "base_uri": "https://localhost:8080/"
        },
        "id": "mvNKP1J8uGyo",
        "outputId": "b4fea889-5fca-45d1-e6f7-0e7fdb02ff51"
      },
      "source": [
        "x = \"CLOUD\"\n",
        "\n",
        "print(x.islower())"
      ],
      "execution_count": null,
      "outputs": [
        {
          "output_type": "stream",
          "text": [
            "False\n"
          ],
          "name": "stdout"
        }
      ]
    },
    {
      "cell_type": "markdown",
      "metadata": {
        "id": "qgvnfh98gNfh"
      },
      "source": [
        "#### **7.6) isupper()**\n",
        "**string.isupper()**\n",
        "- Returns **'True'** if all cased characters in the string are **uppercase**, otherwise **'False'**."
      ]
    },
    {
      "cell_type": "code",
      "metadata": {
        "colab": {
          "base_uri": "https://localhost:8080/"
        },
        "id": "0MuTJXo4gUVS",
        "outputId": "8e65c147-c8e7-4071-be24-9f636c866b42"
      },
      "source": [
        "x = \"FUN\"\n",
        "print(x.isupper())"
      ],
      "execution_count": null,
      "outputs": [
        {
          "output_type": "stream",
          "text": [
            "True\n"
          ],
          "name": "stdout"
        }
      ]
    },
    {
      "cell_type": "code",
      "metadata": {
        "colab": {
          "base_uri": "https://localhost:8080/"
        },
        "id": "sSVVBHSthVek",
        "outputId": "d48961e4-422f-4924-b446-0c5df62aecb4"
      },
      "source": [
        "x = \"Fun\"\n",
        "print(x.isupper())"
      ],
      "execution_count": null,
      "outputs": [
        {
          "output_type": "stream",
          "text": [
            "False\n"
          ],
          "name": "stdout"
        }
      ]
    },
    {
      "cell_type": "code",
      "metadata": {
        "colab": {
          "base_uri": "https://localhost:8080/"
        },
        "id": "WXCk08zBhZhM",
        "outputId": "47b459ea-344d-4308-8dda-bd74a31e4bd2"
      },
      "source": [
        "x = \"fun\"\n",
        "print(x.isupper())"
      ],
      "execution_count": null,
      "outputs": [
        {
          "output_type": "stream",
          "text": [
            "False\n"
          ],
          "name": "stdout"
        }
      ]
    },
    {
      "cell_type": "markdown",
      "metadata": {
        "id": "zIElc1Sujco5"
      },
      "source": [
        "#### **7.7) isdigit()**"
      ]
    },
    {
      "cell_type": "markdown",
      "metadata": {
        "id": "QQsSG40Ujkvq"
      },
      "source": [
        "- **string.isdigit()**\n",
        "\n",
        "- Returns **'True'** if all the characters in the string are **digits**, otherwise **False.**"
      ]
    },
    {
      "cell_type": "code",
      "metadata": {
        "colab": {
          "base_uri": "https://localhost:8080/"
        },
        "id": "EOllf3GPkTWJ",
        "outputId": "b6e713c5-9489-4263-e9ed-2c12f3b787ad"
      },
      "source": [
        "x = \"12345\"\n",
        "print(x.isdigit())"
      ],
      "execution_count": null,
      "outputs": [
        {
          "output_type": "stream",
          "text": [
            "True\n"
          ],
          "name": "stdout"
        }
      ]
    },
    {
      "cell_type": "code",
      "metadata": {
        "colab": {
          "base_uri": "https://localhost:8080/"
        },
        "id": "Z6IPvj3ZlW1K",
        "outputId": "5d3f6c48-2d0a-4cd0-ae15-f8afde4d8216"
      },
      "source": [
        "x =\"sa\"\n",
        "print(x.isdigit())"
      ],
      "execution_count": null,
      "outputs": [
        {
          "output_type": "stream",
          "text": [
            "False\n"
          ],
          "name": "stdout"
        }
      ]
    },
    {
      "cell_type": "code",
      "metadata": {
        "colab": {
          "base_uri": "https://localhost:8080/"
        },
        "id": "yYUxJCC3lfn_",
        "outputId": "52761518-fe1f-40d3-bb9e-1f3416ef1935"
      },
      "source": [
        "x = \"sa123\"\n",
        "print(x.isdigit())"
      ],
      "execution_count": null,
      "outputs": [
        {
          "output_type": "stream",
          "text": [
            "False\n"
          ],
          "name": "stdout"
        }
      ]
    },
    {
      "cell_type": "markdown",
      "metadata": {
        "id": "Jm2AqcgJRhhy"
      },
      "source": [
        "#### **7.8) isalpha**\n",
        "- **string.isalpha**\n",
        "\n",
        "- Returns **'True'** if all characters in the string are **alphabetic** and there is **atleast one character**, otherwise **'False'**."
      ]
    },
    {
      "cell_type": "code",
      "metadata": {
        "colab": {
          "base_uri": "https://localhost:8080/"
        },
        "id": "YhMzp8axSVIt",
        "outputId": "2a5e8c13-ab4f-4844-b584-bf2039018b6b"
      },
      "source": [
        "x = 'wow'\n",
        "print(x.isalpha())"
      ],
      "execution_count": null,
      "outputs": [
        {
          "output_type": "stream",
          "text": [
            "True\n"
          ],
          "name": "stdout"
        }
      ]
    },
    {
      "cell_type": "code",
      "metadata": {
        "colab": {
          "base_uri": "https://localhost:8080/"
        },
        "id": "KDg6YRi0Seyg",
        "outputId": "521e9ec8-b027-4a10-ee8d-8c6a0a8823c3"
      },
      "source": [
        "x = 'wow123'\n",
        "print(x.isalpha())"
      ],
      "execution_count": null,
      "outputs": [
        {
          "output_type": "stream",
          "text": [
            "False\n"
          ],
          "name": "stdout"
        }
      ]
    },
    {
      "cell_type": "code",
      "metadata": {
        "colab": {
          "base_uri": "https://localhost:8080/"
        },
        "id": "AAaWdAHHSkxv",
        "outputId": "a9cbb7d2-1b33-4610-b1ce-90edd3a952ba"
      },
      "source": [
        "x = '12345'\n",
        "print(x.isalpha())"
      ],
      "execution_count": null,
      "outputs": [
        {
          "output_type": "stream",
          "text": [
            "False\n"
          ],
          "name": "stdout"
        }
      ]
    },
    {
      "cell_type": "markdown",
      "metadata": {
        "id": "qHXNWFzvMkqz"
      },
      "source": [
        "#### **7.9) isspace()**\n",
        "\n",
        "- **string.isspace()**\n",
        "\n",
        "- Returns **'True'** if there are only whitespace characters in the string, otherwise **'False'**."
      ]
    },
    {
      "cell_type": "code",
      "metadata": {
        "colab": {
          "base_uri": "https://localhost:8080/"
        },
        "id": "qgX453XKNM2V",
        "outputId": "d4d2acee-f2fa-4d5c-ddd4-3c5440ffc63e"
      },
      "source": [
        "x = \" \"\n",
        "print(x.isspace())"
      ],
      "execution_count": null,
      "outputs": [
        {
          "output_type": "stream",
          "text": [
            "True\n"
          ],
          "name": "stdout"
        }
      ]
    },
    {
      "cell_type": "code",
      "metadata": {
        "colab": {
          "base_uri": "https://localhost:8080/"
        },
        "id": "A4M6R_0BNWGD",
        "outputId": "c9f4f23d-a53f-4d47-e7b4-23398d75d6ec"
      },
      "source": [
        "x = \"\"\n",
        "print(x.isspace())"
      ],
      "execution_count": null,
      "outputs": [
        {
          "output_type": "stream",
          "text": [
            "False\n"
          ],
          "name": "stdout"
        }
      ]
    },
    {
      "cell_type": "markdown",
      "metadata": {
        "id": "Hn7usrWdOI18"
      },
      "source": [
        "#### **7.10) isalnum()**\n",
        "\n",
        "- **string.isalnum()**\n",
        "\n",
        "- Returns **'True'** if the characters in the string are alphanumeric (alphabets or numbers) and there is at least one character, otherwise **'False'**."
      ]
    },
    {
      "cell_type": "code",
      "metadata": {
        "colab": {
          "base_uri": "https://localhost:8080/"
        },
        "id": "EnYmtmAVO-Cx",
        "outputId": "57356044-60b7-4ceb-910f-b90cd61193b3"
      },
      "source": [
        "x = \"love\"\n",
        "print(x.isalnum())"
      ],
      "execution_count": null,
      "outputs": [
        {
          "output_type": "stream",
          "text": [
            "True\n"
          ],
          "name": "stdout"
        }
      ]
    },
    {
      "cell_type": "code",
      "metadata": {
        "colab": {
          "base_uri": "https://localhost:8080/"
        },
        "id": "vF6jaw1TPU-l",
        "outputId": "aea19b80-1c3f-4cfe-8c87-03223fa1be9d"
      },
      "source": [
        "x = \"love123\"\n",
        "print(x.isalnum())"
      ],
      "execution_count": null,
      "outputs": [
        {
          "output_type": "stream",
          "text": [
            "True\n"
          ],
          "name": "stdout"
        }
      ]
    },
    {
      "cell_type": "code",
      "metadata": {
        "colab": {
          "base_uri": "https://localhost:8080/"
        },
        "id": "h1aEe63BPYbY",
        "outputId": "e4414032-943c-4006-8692-8456fc639aa5"
      },
      "source": [
        "x = \"12345\"\n",
        "print(x.isalnum())"
      ],
      "execution_count": null,
      "outputs": [
        {
          "output_type": "stream",
          "text": [
            "True\n"
          ],
          "name": "stdout"
        }
      ]
    },
    {
      "cell_type": "markdown",
      "metadata": {
        "id": "HKnvyJ6kJOLC"
      },
      "source": [
        "#### **7.11) istitle()**\n",
        "\n",
        "- **Syntax**\n",
        "\n",
        " - **string.istitle()**\n",
        "\n",
        "- The **istitle()** method returns **True** if all words in a text start with a **upper case** letter, AND the rest of the word are **lower case** letters, otherwise **False**.\n",
        "\n",
        "- **Symbols and numbers are ignored.**"
      ]
    },
    {
      "cell_type": "code",
      "metadata": {
        "colab": {
          "base_uri": "https://localhost:8080/"
        },
        "id": "fxRNpvJUJ7kP",
        "outputId": "f017d8a5-cdbc-4094-c6bd-d9fa7c00810c"
      },
      "source": [
        "# Check if each word start with an upper case letter:\n",
        "\n",
        "txt = \"Hello, And Welcome To My World!\"\n",
        "\n",
        "x = txt.istitle()\n",
        "\n",
        "print(x)"
      ],
      "execution_count": null,
      "outputs": [
        {
          "output_type": "stream",
          "text": [
            "True\n"
          ],
          "name": "stdout"
        }
      ]
    },
    {
      "cell_type": "code",
      "metadata": {
        "colab": {
          "base_uri": "https://localhost:8080/"
        },
        "id": "y9q-LRcHKpE3",
        "outputId": "ac5b5214-b538-4980-ac7d-b8d4908fc0db"
      },
      "source": [
        "# Check if each word start with an upper case letter:\n",
        "\n",
        "a = \"HELLO, AND WELCOME TO MY WORLD\"\n",
        "b = \"Hello\"\n",
        "c = \"22 Names\"\n",
        "d = \"This Is %'!?\"\n",
        "\n",
        "print(a.istitle())\n",
        "print(b.istitle())\n",
        "print(c.istitle())\n",
        "print(d.istitle())"
      ],
      "execution_count": null,
      "outputs": [
        {
          "output_type": "stream",
          "text": [
            "False\n",
            "True\n",
            "True\n",
            "True\n"
          ],
          "name": "stdout"
        }
      ]
    },
    {
      "cell_type": "markdown",
      "metadata": {
        "id": "AN_jvmqPNMBy"
      },
      "source": [
        "#### **7.12) find()**\n",
        "\n",
        "- The **find()** method finds the **first occurrence** of the specified value.\n",
        "\n",
        "- The **find()** method returns **-1** if the value is **not found**.\n",
        "\n",
        "- The **find()** method is almost the same as the **index()** method, the only difference is that the index() method raises an exception if the value is not found."
      ]
    },
    {
      "cell_type": "markdown",
      "metadata": {
        "id": "EeprtuBeNyOs"
      },
      "source": [
        "#### **Syntax**\n",
        "\n",
        "- **string.find(value, start, end)**"
      ]
    },
    {
      "cell_type": "code",
      "metadata": {
        "colab": {
          "base_uri": "https://localhost:8080/"
        },
        "id": "31rX90KoyJvS",
        "outputId": "59dc92b3-fdc8-4964-9751-6c2ba6eb8a01"
      },
      "source": [
        "x = \"save water, save life\"\n",
        "y = x.find('save')\n",
        "print(y)"
      ],
      "execution_count": null,
      "outputs": [
        {
          "output_type": "stream",
          "text": [
            "0\n"
          ],
          "name": "stdout"
        }
      ]
    },
    {
      "cell_type": "code",
      "metadata": {
        "colab": {
          "base_uri": "https://localhost:8080/"
        },
        "id": "vG4bf2OkNTXs",
        "outputId": "3eb3f1b0-72a8-4272-ef4f-01e93c685421"
      },
      "source": [
        "# Where in the text is the word \"welcome\"?:\n",
        "\n",
        "txt = \"Hello, welcome to my world.\"\n",
        "\n",
        "x = txt.find(\"welcome\")\n",
        "\n",
        "print(x)"
      ],
      "execution_count": null,
      "outputs": [
        {
          "output_type": "stream",
          "text": [
            "7\n"
          ],
          "name": "stdout"
        }
      ]
    },
    {
      "cell_type": "code",
      "metadata": {
        "colab": {
          "base_uri": "https://localhost:8080/"
        },
        "id": "r75MgVCoOGrl",
        "outputId": "e73491a0-1a8c-4cf0-8983-a6bc10ca90d4"
      },
      "source": [
        "# Where in the text is the first occurrence of the letter \"e\"?:\n",
        "\n",
        "txt = \"Hello, welcome to my world.\"\n",
        "\n",
        "x = txt.find(\"e\")\n",
        "\n",
        "print(x)"
      ],
      "execution_count": null,
      "outputs": [
        {
          "output_type": "stream",
          "text": [
            "1\n"
          ],
          "name": "stdout"
        }
      ]
    },
    {
      "cell_type": "code",
      "metadata": {
        "colab": {
          "base_uri": "https://localhost:8080/"
        },
        "id": "6akPIqGEOPQI",
        "outputId": "77d010c2-2669-4cbe-f9a5-6f59af2a9c0b"
      },
      "source": [
        "# Where in the text is the first occurrence of the letter \"e\" when you only search between position 5 and 10?:\n",
        "\n",
        "txt = \"Hello, welcome to my world.\"\n",
        "\n",
        "x = txt.find(\"e\", 5, 10)\n",
        "\n",
        "print(x)"
      ],
      "execution_count": null,
      "outputs": [
        {
          "output_type": "stream",
          "text": [
            "8\n"
          ],
          "name": "stdout"
        }
      ]
    },
    {
      "cell_type": "code",
      "metadata": {
        "colab": {
          "base_uri": "https://localhost:8080/",
          "height": 214
        },
        "id": "5JYg7xlBOcne",
        "outputId": "d25ea980-2975-47ef-c56f-6a7780bb8819"
      },
      "source": [
        "# If the value is not found, the find() method returns -1, but the index() method will raise an exception:\n",
        "\n",
        "txt = \"Hello, welcome to my world.\"\n",
        "\n",
        "print(txt.find(\"q\"))\n",
        "print(txt.index(\"q\"))"
      ],
      "execution_count": null,
      "outputs": [
        {
          "output_type": "stream",
          "text": [
            "-1\n"
          ],
          "name": "stdout"
        },
        {
          "output_type": "error",
          "ename": "ValueError",
          "evalue": "ignored",
          "traceback": [
            "\u001b[0;31m---------------------------------------------------------------------------\u001b[0m",
            "\u001b[0;31mValueError\u001b[0m                                Traceback (most recent call last)",
            "\u001b[0;32m<ipython-input-6-c4dd1b9e4d17>\u001b[0m in \u001b[0;36m<module>\u001b[0;34m()\u001b[0m\n\u001b[1;32m      4\u001b[0m \u001b[0;34m\u001b[0m\u001b[0m\n\u001b[1;32m      5\u001b[0m \u001b[0mprint\u001b[0m\u001b[0;34m(\u001b[0m\u001b[0mtxt\u001b[0m\u001b[0;34m.\u001b[0m\u001b[0mfind\u001b[0m\u001b[0;34m(\u001b[0m\u001b[0;34m\"q\"\u001b[0m\u001b[0;34m)\u001b[0m\u001b[0;34m)\u001b[0m\u001b[0;34m\u001b[0m\u001b[0;34m\u001b[0m\u001b[0m\n\u001b[0;32m----> 6\u001b[0;31m \u001b[0mprint\u001b[0m\u001b[0;34m(\u001b[0m\u001b[0mtxt\u001b[0m\u001b[0;34m.\u001b[0m\u001b[0mindex\u001b[0m\u001b[0;34m(\u001b[0m\u001b[0;34m\"q\"\u001b[0m\u001b[0;34m)\u001b[0m\u001b[0;34m)\u001b[0m\u001b[0;34m\u001b[0m\u001b[0;34m\u001b[0m\u001b[0m\n\u001b[0m",
            "\u001b[0;31mValueError\u001b[0m: substring not found"
          ]
        }
      ]
    },
    {
      "cell_type": "markdown",
      "metadata": {
        "id": "MiGOWI9hOvr6"
      },
      "source": [
        "#### **7.13) index()**\n",
        "\n",
        "- The **index()** method finds the **first occurrence** of the specified value.\n",
        "\n",
        "- The **index()** method raises an exception if the value is not found.\n",
        "\n",
        "- The **index()** method is almost the same as the **find()** method, the only difference is that the find() method returns **-1** if the value is not found. "
      ]
    },
    {
      "cell_type": "markdown",
      "metadata": {
        "id": "7p8B0yFsPR0U"
      },
      "source": [
        "#### **Syntax**\n",
        "\n",
        "- **string.index(value, start, end)**"
      ]
    },
    {
      "cell_type": "code",
      "metadata": {
        "colab": {
          "base_uri": "https://localhost:8080/"
        },
        "id": "X1byrucFPP5v",
        "outputId": "9a8ab31b-0234-4ca6-827f-068ef9e834f9"
      },
      "source": [
        "# Where in the text is the word \"welcome\"?:\n",
        "\n",
        "txt = \"Hello, welcome to my world.\"\n",
        "\n",
        "x = txt.index(\"welcome\")\n",
        "\n",
        "print(x)"
      ],
      "execution_count": null,
      "outputs": [
        {
          "output_type": "stream",
          "text": [
            "7\n"
          ],
          "name": "stdout"
        }
      ]
    },
    {
      "cell_type": "code",
      "metadata": {
        "colab": {
          "base_uri": "https://localhost:8080/"
        },
        "id": "yjqdDGqsPfiS",
        "outputId": "fb976da1-8dcc-413e-fa4e-b43051d38e37"
      },
      "source": [
        "# Where in the text is the first occurrence of the letter \"e\"?:\n",
        "\n",
        "txt = \"Hello, welcome to my world.\"\n",
        "\n",
        "x = txt.index(\"e\")\n",
        "\n",
        "print(x)"
      ],
      "execution_count": null,
      "outputs": [
        {
          "output_type": "stream",
          "text": [
            "1\n"
          ],
          "name": "stdout"
        }
      ]
    },
    {
      "cell_type": "code",
      "metadata": {
        "colab": {
          "base_uri": "https://localhost:8080/"
        },
        "id": "2Bsj7e6bPlSj",
        "outputId": "a6a2d564-3791-4915-b0df-7ef41882117d"
      },
      "source": [
        "# Where in the text is the first occurrence of the letter \"e\" when you only search between position 5 and 10?:\n",
        "\n",
        "txt = \"Hello, welcome to my world.\"\n",
        "\n",
        "x = txt.index(\"e\", 5, 10)\n",
        "\n",
        "print(x)"
      ],
      "execution_count": null,
      "outputs": [
        {
          "output_type": "stream",
          "text": [
            "8\n"
          ],
          "name": "stdout"
        }
      ]
    },
    {
      "cell_type": "code",
      "metadata": {
        "colab": {
          "base_uri": "https://localhost:8080/",
          "height": 214
        },
        "id": "U5Pw27rIPqXJ",
        "outputId": "25960bff-19ef-4aac-d063-c74c1d51195a"
      },
      "source": [
        "# If the value is not found, the find() method returns -1, but the index() method will raise an exception:\n",
        "\n",
        "txt = \"Hello, welcome to my world.\"\n",
        "\n",
        "print(txt.find(\"q\"))\n",
        "print(txt.index(\"q\"))"
      ],
      "execution_count": null,
      "outputs": [
        {
          "output_type": "stream",
          "text": [
            "-1\n"
          ],
          "name": "stdout"
        },
        {
          "output_type": "error",
          "ename": "ValueError",
          "evalue": "ignored",
          "traceback": [
            "\u001b[0;31m---------------------------------------------------------------------------\u001b[0m",
            "\u001b[0;31mValueError\u001b[0m                                Traceback (most recent call last)",
            "\u001b[0;32m<ipython-input-10-c4dd1b9e4d17>\u001b[0m in \u001b[0;36m<module>\u001b[0;34m()\u001b[0m\n\u001b[1;32m      4\u001b[0m \u001b[0;34m\u001b[0m\u001b[0m\n\u001b[1;32m      5\u001b[0m \u001b[0mprint\u001b[0m\u001b[0;34m(\u001b[0m\u001b[0mtxt\u001b[0m\u001b[0;34m.\u001b[0m\u001b[0mfind\u001b[0m\u001b[0;34m(\u001b[0m\u001b[0;34m\"q\"\u001b[0m\u001b[0;34m)\u001b[0m\u001b[0;34m)\u001b[0m\u001b[0;34m\u001b[0m\u001b[0;34m\u001b[0m\u001b[0m\n\u001b[0;32m----> 6\u001b[0;31m \u001b[0mprint\u001b[0m\u001b[0;34m(\u001b[0m\u001b[0mtxt\u001b[0m\u001b[0;34m.\u001b[0m\u001b[0mindex\u001b[0m\u001b[0;34m(\u001b[0m\u001b[0;34m\"q\"\u001b[0m\u001b[0;34m)\u001b[0m\u001b[0;34m)\u001b[0m\u001b[0;34m\u001b[0m\u001b[0;34m\u001b[0m\u001b[0m\n\u001b[0m",
            "\u001b[0;31mValueError\u001b[0m: substring not found"
          ]
        }
      ]
    },
    {
      "cell_type": "markdown",
      "metadata": {
        "id": "WwtIazGNwu-l"
      },
      "source": [
        "#### **7.14) join**\n",
        "- refer in **List**"
      ]
    },
    {
      "cell_type": "markdown",
      "metadata": {
        "id": "SrzApKeEyt_4"
      },
      "source": [
        "#### **7.15) split**\n",
        "\n",
        "- The split() method splits a string into a list.\n",
        "\n",
        "- You can specify the separator, default separator is any whitespace.\n",
        "\n",
        "**Syntax**\n",
        "- **string.split(separator, maxsplit)**"
      ]
    },
    {
      "cell_type": "code",
      "metadata": {
        "colab": {
          "base_uri": "https://localhost:8080/"
        },
        "id": "LEoEcZASzJLr",
        "outputId": "0c55b320-88a4-4bec-c54d-2dde4e77fc04"
      },
      "source": [
        "# Split the string, using comma, followed by a space, as a separator\n",
        "\n",
        "txt = \"hello, my name is Peter, I am 26 years old\"\n",
        "\n",
        "x = txt.split(\", \")\n",
        "\n",
        "print(x)"
      ],
      "execution_count": null,
      "outputs": [
        {
          "output_type": "stream",
          "text": [
            "['hello', 'my name is Peter', 'I am 26 years old']\n"
          ],
          "name": "stdout"
        }
      ]
    },
    {
      "cell_type": "code",
      "metadata": {
        "colab": {
          "base_uri": "https://localhost:8080/"
        },
        "id": "IUG1nbU3zaim",
        "outputId": "2fc64f0b-bb9e-401d-d4f7-e4df19d738dc"
      },
      "source": [
        "# Use a hash character as a separator\n",
        "\n",
        "txt = \"apple#banana#cherry#orange\"\n",
        "\n",
        "x = txt.split(\"#\")\n",
        "\n",
        "print(x)"
      ],
      "execution_count": null,
      "outputs": [
        {
          "output_type": "stream",
          "text": [
            "['apple', 'banana', 'cherry', 'orange']\n"
          ],
          "name": "stdout"
        }
      ]
    },
    {
      "cell_type": "code",
      "metadata": {
        "colab": {
          "base_uri": "https://localhost:8080/"
        },
        "id": "rl3aMnYZzlOo",
        "outputId": "6030dd73-aecc-4ce8-c943-2915f3f27c52"
      },
      "source": [
        "txt = \"apple#banana#cherry#orange\"\n",
        "\n",
        "# setting the maxsplit parameter to 1, will return a list with 2 elements!\n",
        "x = txt.split(\"#\", 1)\n",
        "\n",
        "print(x)"
      ],
      "execution_count": null,
      "outputs": [
        {
          "output_type": "stream",
          "text": [
            "['apple', 'banana#cherry#orange']\n"
          ],
          "name": "stdout"
        }
      ]
    },
    {
      "cell_type": "markdown",
      "metadata": {
        "id": "kDhCMLvxSLEY"
      },
      "source": [
        "#### **7.16) len()**\n",
        "\n",
        "- Returns the number of characters in the **string, array, list, tuple, dictionary** etc."
      ]
    },
    {
      "cell_type": "code",
      "metadata": {
        "colab": {
          "base_uri": "https://localhost:8080/"
        },
        "id": "SJaX0e0lSQB1",
        "outputId": "5c8ce019-1cd6-47b8-8747-af8eec7a9fd3"
      },
      "source": [
        "x = \"Save Water! Save Water!\"\n",
        "print(len(x))"
      ],
      "execution_count": null,
      "outputs": [
        {
          "output_type": "stream",
          "text": [
            "23\n"
          ],
          "name": "stdout"
        }
      ]
    },
    {
      "cell_type": "code",
      "metadata": {
        "colab": {
          "base_uri": "https://localhost:8080/"
        },
        "id": "j-oMuNu_SvSv",
        "outputId": "65cc757d-345d-4105-8857-c405f1e0f161"
      },
      "source": [
        "x = [1, 2, 3, 4, 5, 6, 7, 8, 9]\n",
        "print(len(x))"
      ],
      "execution_count": null,
      "outputs": [
        {
          "output_type": "stream",
          "text": [
            "9\n"
          ],
          "name": "stdout"
        }
      ]
    },
    {
      "cell_type": "code",
      "metadata": {
        "colab": {
          "base_uri": "https://localhost:8080/"
        },
        "id": "66Ncs_ktS6A1",
        "outputId": "7485c912-73dd-490c-912c-b81b71d95f49"
      },
      "source": [
        "x = {'x':2, 'y':6}\n",
        "print(len(x))"
      ],
      "execution_count": null,
      "outputs": [
        {
          "output_type": "stream",
          "text": [
            "2\n"
          ],
          "name": "stdout"
        }
      ]
    },
    {
      "cell_type": "markdown",
      "metadata": {
        "id": "CwE5eYuTwsQR"
      },
      "source": [
        "#### **7.17) replace**"
      ]
    },
    {
      "cell_type": "markdown",
      "metadata": {
        "id": "wNIn6ym4wzMJ"
      },
      "source": [
        "**string.replace()**\n",
        "\n",
        "- Returns a copy of the string where **all occurrences of a substring** are **replaced** with another **substring**."
      ]
    },
    {
      "cell_type": "code",
      "metadata": {
        "colab": {
          "base_uri": "https://localhost:8080/"
        },
        "id": "fy_ZJVrcxWHW",
        "outputId": "64e634a1-99ad-441e-ee78-9fd2fef43d9d"
      },
      "source": [
        "x = \"Be still!\"\n",
        "y = x.replace('still', 'yourself')\n",
        "print(y)"
      ],
      "execution_count": null,
      "outputs": [
        {
          "output_type": "stream",
          "text": [
            "Be yourself!\n"
          ],
          "name": "stdout"
        }
      ]
    },
    {
      "cell_type": "markdown",
      "metadata": {
        "id": "4Cmt1_NjTwgP"
      },
      "source": [
        "#### **7.18) count**"
      ]
    },
    {
      "cell_type": "markdown",
      "metadata": {
        "id": "vIRaZMUSfymS"
      },
      "source": [
        "- The **count()** is a built-in function in Python. It will return the **total count** of a given element in a **string**.\n",
        "\n",
        "- The counting **begins from the start** of the string **till the end**.\n",
        "\n",
        "- It is also possible to specify the **start and end index** from where you want the **search to begin.**"
      ]
    },
    {
      "cell_type": "markdown",
      "metadata": {
        "id": "BEL8RtUsWDE-"
      },
      "source": [
        "- The **count()** method returns the **number of times** a specified value appears in the **string**\n",
        "\n",
        "- The string **count()** method returns the **number of occurrences** of a **substring** in the given string.\n",
        "\n",
        "- In simple words, count() method searches the substring in the given string and returns how many times the substring is present in it.\n",
        "\n",
        "- It also takes optional parameters start and end to specify the starting and ending positions in the string respectively."
      ]
    },
    {
      "cell_type": "markdown",
      "metadata": {
        "id": "w8L3AKnfWdF_"
      },
      "source": [
        "#### **Syntax**\n",
        "\n",
        "**string.count(char or substring, start, end)**"
      ]
    },
    {
      "cell_type": "markdown",
      "metadata": {
        "id": "mCVLqlybgwQE"
      },
      "source": [
        "- **Char or substring:** You can specify a **single character or substring** you are wants to search in the given string. It will return you the count of the character or substring in the given string.\n",
        "\n",
        "- **start:** (optional) It indicates the **start index from where the search will begin**. If not given, it will **start from 0**. For example, you want to search for a character from the **middle of the string**. You can give the **start value** to your count function.\n",
        "\n",
        "- **end:** (optional) It indicates the **end index where the search ends**. If not given, it will search **till the end** of the list or string given. For example, you don't want to scan the entire string and limit the search till a specific point you can give the value to end in your count function, and the count will take care of searching till that point."
      ]
    },
    {
      "cell_type": "markdown",
      "metadata": {
        "id": "zpENn79DgJtK"
      },
      "source": [
        "##### **Example 1: Count number of occurrences of a given substring**"
      ]
    },
    {
      "cell_type": "code",
      "metadata": {
        "colab": {
          "base_uri": "https://localhost:8080/"
        },
        "id": "l9-qBMNngQzX",
        "outputId": "5ec4ee5b-6070-49e0-950a-650267c6197b"
      },
      "source": [
        "# define string\n",
        "string = \"Python is awesome, isn't it?\"\n",
        "substring = \"is\"\n",
        "\n",
        "count = string.count(substring)\n",
        "\n",
        "# print count\n",
        "print(\"The count is:\", count)"
      ],
      "execution_count": null,
      "outputs": [
        {
          "output_type": "stream",
          "text": [
            "The count is: 2\n"
          ],
          "name": "stdout"
        }
      ]
    },
    {
      "cell_type": "code",
      "metadata": {
        "colab": {
          "base_uri": "https://localhost:8080/"
        },
        "id": "bzyeqQDTiQUN",
        "outputId": "b2e741d3-5cb8-4e9a-8527-4f55e9251d2f"
      },
      "source": [
        "str1 = \"Hello World\"\n",
        "str_count1 = str1.count('o')  # counting the character “o” in the givenstring\n",
        "print(\"The count of 'o' is\", str_count1)"
      ],
      "execution_count": null,
      "outputs": [
        {
          "output_type": "stream",
          "text": [
            "The count of 'o' is 2\n"
          ],
          "name": "stdout"
        }
      ]
    },
    {
      "cell_type": "code",
      "metadata": {
        "colab": {
          "base_uri": "https://localhost:8080/"
        },
        "id": "HEkSpsNeiaUX",
        "outputId": "65b0f2a5-c6b3-48fe-db90-4b3f96cb765e"
      },
      "source": [
        "str1 = \"Welcome to Guru99 Tutorials!\"\n",
        "str_count1 = str1.count('u')  # counting the character “u” in the given string\n",
        "print(\"The count of 'u' is\", str_count1)"
      ],
      "execution_count": null,
      "outputs": [
        {
          "output_type": "stream",
          "text": [
            "The count of 'u' is 3\n"
          ],
          "name": "stdout"
        }
      ]
    },
    {
      "cell_type": "code",
      "metadata": {
        "colab": {
          "base_uri": "https://localhost:8080/"
        },
        "id": "H32TM9J7ijrR",
        "outputId": "7eb3d5b9-0f6c-4d23-a123-17e1bf597a76"
      },
      "source": [
        "str1 = \"Welcome to Guru99 - Free Training Tutorials and Videos for IT Courses\"\n",
        "str_count1 = str1.count('to') # counting the substring “to” in the givenstring\n",
        "print(\"The count of 'to' is\", str_count1)"
      ],
      "execution_count": null,
      "outputs": [
        {
          "output_type": "stream",
          "text": [
            "The count of 'to' is 2\n"
          ],
          "name": "stdout"
        }
      ]
    },
    {
      "cell_type": "markdown",
      "metadata": {
        "id": "6CyHOwCegi9T"
      },
      "source": [
        "##### **Example 2: Count number of occurrences of a given substring using start and end**"
      ]
    },
    {
      "cell_type": "code",
      "metadata": {
        "colab": {
          "base_uri": "https://localhost:8080/"
        },
        "id": "z92sEhzbiV8X",
        "outputId": "50bb84b3-4d3d-4b2a-f23f-7b37f9e112bc"
      },
      "source": [
        "str_count2 = str1.count('o', 0,5)\n",
        "print(\"The count of 'o' usingstart/end is\", str_count2)"
      ],
      "execution_count": null,
      "outputs": [
        {
          "output_type": "stream",
          "text": [
            "The count of 'o' usingstart/end is 1\n"
          ],
          "name": "stdout"
        }
      ]
    },
    {
      "cell_type": "code",
      "metadata": {
        "colab": {
          "base_uri": "https://localhost:8080/"
        },
        "id": "ugieBITTiexU",
        "outputId": "d7cc0443-1586-4930-eed8-7d20de1502ed"
      },
      "source": [
        "str_count2 = str1.count('u', 6,15)\n",
        "print(\"The count of 'u' usingstart/end is\", str_count2)"
      ],
      "execution_count": null,
      "outputs": [
        {
          "output_type": "stream",
          "text": [
            "The count of 'u' usingstart/end is 2\n"
          ],
          "name": "stdout"
        }
      ]
    },
    {
      "cell_type": "code",
      "metadata": {
        "colab": {
          "base_uri": "https://localhost:8080/"
        },
        "id": "7Pk0P0KVimx3",
        "outputId": "d363d5a7-56ee-4c6f-9eea-ca2a5afdc00d"
      },
      "source": [
        "str_count2 = str1.count('to', 6,15)\n",
        "print(\"The count of 'to' usingstart/end is\", str_count2)"
      ],
      "execution_count": null,
      "outputs": [
        {
          "output_type": "stream",
          "text": [
            "The count of 'to' usingstart/end is 1\n"
          ],
          "name": "stdout"
        }
      ]
    },
    {
      "cell_type": "code",
      "metadata": {
        "colab": {
          "base_uri": "https://localhost:8080/"
        },
        "id": "Gt5KcF1zgmJ5",
        "outputId": "f572b07f-55d2-4c49-f6a4-caa00434724e"
      },
      "source": [
        "# define string\n",
        "string = \"Python is awesome, isn't it?\"\n",
        "substring = \"i\"\n",
        "\n",
        "# count after first 'i' and before the last 'i'\n",
        "count = string.count(substring, 8, 25)\n",
        "\n",
        "# print count\n",
        "print(\"The count is:\", count)"
      ],
      "execution_count": null,
      "outputs": [
        {
          "output_type": "stream",
          "text": [
            "The count is: 1\n"
          ],
          "name": "stdout"
        }
      ]
    },
    {
      "cell_type": "markdown",
      "metadata": {
        "id": "LYJOg6PIgrpa"
      },
      "source": [
        "- Here, the counting starts **after the first i** has been encountered, i.e. **7th** index position.\n",
        "\n",
        "- And, it **ends before the last i**, i.e. **25th** index position."
      ]
    },
    {
      "cell_type": "markdown",
      "metadata": {
        "id": "znvTchDBiwzi"
      },
      "source": [
        "#### **Question 1**"
      ]
    },
    {
      "cell_type": "code",
      "metadata": {
        "colab": {
          "base_uri": "https://localhost:8080/"
        },
        "id": "bpe7RrDmT2Vf",
        "outputId": "4099798b-c042-48cc-e415-d1cdcac9cfbf"
      },
      "source": [
        "txt = \"I love apples, apple are my favorite fruit\"\n",
        "\n",
        "x = txt.count(\"apple\", 10, 24)\n",
        "\n",
        "print(x)"
      ],
      "execution_count": null,
      "outputs": [
        {
          "output_type": "stream",
          "text": [
            "1\n"
          ],
          "name": "stdout"
        }
      ]
    },
    {
      "cell_type": "markdown",
      "metadata": {
        "id": "b7gRn6eYuu0c"
      },
      "source": [
        "#### **7.16) index**"
      ]
    },
    {
      "cell_type": "markdown",
      "metadata": {
        "id": "PMoY4OZgNByp"
      },
      "source": [
        "![string index.jpeg](data:image/jpeg;base64,/9j/4AAQSkZJRgABAQEAYABgAAD/4SZqRXhpZgAATU0AKgAAAAgABgALAAIAAAAmAAAIYgESAAMAAAABAAEAAAExAAIAAAAmAAAIiAEyAAIAAAAUAAAIrodpAAQAAAABAAAIwuocAAcAAAgMAAAAVgAAEUYc6gAAAAgAAAAAAAAAAAAAAAAAAAAAAAAAAAAAAAAAAAAAAAAAAAAAAAAAAAAAAAAAAAAAAAAAAAAAAAAAAAAAAAAAAAAAAAAAAAAAAAAAAAAAAAAAAAAAAAAAAAAAAAAAAAAAAAAAAAAAAAAAAAAAAAAAAAAAAAAAAAAAAAAAAAAAAAAAAAAAAAAAAAAAAAAAAAAAAAAAAAAAAAAAAAAAAAAAAAAAAAAAAAAAAAAAAAAAAAAAAAAAAAAAAAAAAAAAAAAAAAAAAAAAAAAAAAAAAAAAAAAAAAAAAAAAAAAAAAAAAAAAAAAAAAAAAAAAAAAAAAAAAAAAAAAAAAAAAAAAAAAAAAAAAAAAAAAAAAAAAAAAAAAAAAAAAAAAAAAAAAAAAAAAAAAAAAAAAAAAAAAAAAAAAAAAAAAAAAAAAAAAAAAAAAAAAAAAAAAAAAAAAAAAAAAAAAAAAAAAAAAAAAAAAAAAAAAAAAAAAAAAAAAAAAAAAAAAAAAAAAAAAAAAAAAAAAAAAAAAAAAAAAAAAAAAAAAAAAAAAAAAAAAAAAAAAAAAAAAAAAAAAAAAAAAAAAAAAAAAAAAAAAAAAAAAAAAAAAAAAAAAAAAAAAAAAAAAAAAAAAAAAAAAAAAAAAAAAAAAAAAAAAAAAAAAAAAAAAAAAAAAAAAAAAAAAAAAAAAAAAAAAAAAAAAAAAAAAAAAAAAAAAAAAAAAAAAAAAAAAAAAAAAAAAAAAAAAAAAAAAAAAAAAAAAAAAAAAAAAAAAAAAAAAAAAAAAAAAAAAAAAAAAAAAAAAAAAAAAAAAAAAAAAAAAAAAAAAAAAAAAAAAAAAAAAAAAAAAAAAAAAAAAAAAAAAAAAAAAAAAAAAAAAAAAAAAAAAAAAAAAAAAAAAAAAAAAAAAAAAAAAAAAAAAAAAAAAAAAAAAAAAAAAAAAAAAAAAAAAAAAAAAAAAAAAAAAAAAAAAAAAAAAAAAAAAAAAAAAAAAAAAAAAAAAAAAAAAAAAAAAAAAAAAAAAAAAAAAAAAAAAAAAAAAAAAAAAAAAAAAAAAAAAAAAAAAAAAAAAAAAAAAAAAAAAAAAAAAAAAAAAAAAAAAAAAAAAAAAAAAAAAAAAAAAAAAAAAAAAAAAAAAAAAAAAAAAAAAAAAAAAAAAAAAAAAAAAAAAAAAAAAAAAAAAAAAAAAAAAAAAAAAAAAAAAAAAAAAAAAAAAAAAAAAAAAAAAAAAAAAAAAAAAAAAAAAAAAAAAAAAAAAAAAAAAAAAAAAAAAAAAAAAAAAAAAAAAAAAAAAAAAAAAAAAAAAAAAAAAAAAAAAAAAAAAAAAAAAAAAAAAAAAAAAAAAAAAAAAAAAAAAAAAAAAAAAAAAAAAAAAAAAAAAAAAAAAAAAAAAAAAAAAAAAAAAAAAAAAAAAAAAAAAAAAAAAAAAAAAAAAAAAAAAAAAAAAAAAAAAAAAAAAAAAAAAAAAAAAAAAAAAAAAAAAAAAAAAAAAAAAAAAAAAAAAAAAAAAAAAAAAAAAAAAAAAAAAAAAAAAAAAAAAAAAAAAAAAAAAAAAAAAAAAAAAAAAAAAAAAAAAAAAAAAAAAAAAAAAAAAAAAAAAAAAAAAAAAAAAAAAAAAAAAAAAAAAAAAAAAAAAAAAAAAAAAAAAAAAAAAAAAAAAAAAAAAAAAAAAAAAAAAAAAAAAAAAAAAAAAAAAAAAAAAAAAAAAAAAAAAAAAAAAAAAAAAAAAAAAAAAAAAAAAAAAAAAAAAAAAAAAAAAAAAAAAAAAAAAAAAAAAAAAAAAAAAAAAAAAAAAAAAAAAAAAAAAAAAAAAAAAAAAAAAAAAAAAAAAAAAAAAAAAAAAAAAAAAAAAAAAAAAAAAAAAAAAAAAAAAAAAAAAAAAAAAAAAAAAAAAAAAAAAAAAAAAAAAAAAAAAAAAAAAAAAAAAAAAAAAAAAAAAAAAAAAAAAAAAAAAAAAAAAAAAAAAAAAAAAAAAAAAAAAAAAAAAAAAAAAAAAAAAAAAAAAAAAAAAAAAAAAAAAAAAAAAAAAAAAAAAAAAAAAAAAAAAAAAAAAAAAAAAAAAAAAAAAAAAAAAAAAAAAAAAAAAAAAAAAAAAAAAAAAAAAAAAAAAAAAAAAAAAAAAAAAAAAAAAAAAAAAAAAAAAAAAAAAAAAAAAAAAAAAAAAAAAAAAAAAAAAAAAAAAAAAAAAAAAAAAAAAAAAAAAAAAAAAAAAAAAAAAAAAAAAAAAAAAAAAAAAAAAAAAAAAAAAAAAAAAAAAAAAAAAAAAAAAAAAAAAAAAAAAAAAAAAAAAAAAAAAAAAAAAAAAAAAAAAAAAAAAAAAAAAAAAAAAAAAAAAAAAAAAAAAAAAAAAAAAAAAAAAAAAAAAAAAAAAAAAAAAAAAAAAAAAAAAAAAAAAAAAAAAAAAAAAAAAAAAAAAAAAAAAAAAAAAAAAAAAAAAAAAAAAAAAAAAAAAAAAAAAAAAAAAAAAAAAAAAAAAAAAAAAAAAAAAAAAAAAAAAAAAAAAAAAAAAAAAAAAAAAAAAAAAAAAAAAAAAAAAAAAAAAAAAAAAAAAAAAAAAAAAAAAAAAAAAAAAAAAAAAAAAAAAAAAAAAAAAAAAAAAAAAAAAAAAAAAAAAAAAAAAAAAAAAAAAAAAAAAAAAAAAAAAAAAAAAAAAAAAAAAAAAAAAAAAAAAAAAAAAAAAAAAAAAAAAAAAAAAAAAAAAAAAAAAAAAAAAAAAAAAAAAAAAAAAAAAAAAAAAAAAAAAAAAAAAAAAAAAAAFdpbmRvd3MgUGhvdG8gRWRpdG9yIDEwLjAuMTAwMTEuMTYzODQAV2luZG93cyBQaG90byBFZGl0b3IgMTAuMC4xMDAxMS4xNjM4NAAyMDIxOjA3OjA2IDE1OjM3OjE5AAAGkAMAAgAAABQAABEckAQAAgAAABQAABEwkpEAAgAAAAM1NwAAkpIAAgAAAAM1NwAAoAEAAwAAAAEAAQAA6hwABwAACAwAAAkQAAAAABzqAAAACAAAAAAAAAAAAAAAAAAAAAAAAAAAAAAAAAAAAAAAAAAAAAAAAAAAAAAAAAAAAAAAAAAAAAAAAAAAAAAAAAAAAAAAAAAAAAAAAAAAAAAAAAAAAAAAAAAAAAAAAAAAAAAAAAAAAAAAAAAAAAAAAAAAAAAAAAAAAAAAAAAAAAAAAAAAAAAAAAAAAAAAAAAAAAAAAAAAAAAAAAAAAAAAAAAAAAAAAAAAAAAAAAAAAAAAAAAAAAAAAAAAAAAAAAAAAAAAAAAAAAAAAAAAAAAAAAAAAAAAAAAAAAAAAAAAAAAAAAAAAAAAAAAAAAAAAAAAAAAAAAAAAAAAAAAAAAAAAAAAAAAAAAAAAAAAAAAAAAAAAAAAAAAAAAAAAAAAAAAAAAAAAAAAAAAAAAAAAAAAAAAAAAAAAAAAAAAAAAAAAAAAAAAAAAAAAAAAAAAAAAAAAAAAAAAAAAAAAAAAAAAAAAAAAAAAAAAAAAAAAAAAAAAAAAAAAAAAAAAAAAAAAAAAAAAAAAAAAAAAAAAAAAAAAAAAAAAAAAAAAAAAAAAAAAAAAAAAAAAAAAAAAAAAAAAAAAAAAAAAAAAAAAAAAAAAAAAAAAAAAAAAAAAAAAAAAAAAAAAAAAAAAAAAAAAAAAAAAAAAAAAAAAAAAAAAAAAAAAAAAAAAAAAAAAAAAAAAAAAAAAAAAAAAAAAAAAAAAAAAAAAAAAAAAAAAAAAAAAAAAAAAAAAAAAAAAAAAAAAAAAAAAAAAAAAAAAAAAAAAAAAAAAAAAAAAAAAAAAAAAAAAAAAAAAAAAAAAAAAAAAAAAAAAAAAAAAAAAAAAAAAAAAAAAAAAAAAAAAAAAAAAAAAAAAAAAAAAAAAAAAAAAAAAAAAAAAAAAAAAAAAAAAAAAAAAAAAAAAAAAAAAAAAAAAAAAAAAAAAAAAAAAAAAAAAAAAAAAAAAAAAAAAAAAAAAAAAAAAAAAAAAAAAAAAAAAAAAAAAAAAAAAAAAAAAAAAAAAAAAAAAAAAAAAAAAAAAAAAAAAAAAAAAAAAAAAAAAAAAAAAAAAAAAAAAAAAAAAAAAAAAAAAAAAAAAAAAAAAAAAAAAAAAAAAAAAAAAAAAAAAAAAAAAAAAAAAAAAAAAAAAAAAAAAAAAAAAAAAAAAAAAAAAAAAAAAAAAAAAAAAAAAAAAAAAAAAAAAAAAAAAAAAAAAAAAAAAAAAAAAAAAAAAAAAAAAAAAAAAAAAAAAAAAAAAAAAAAAAAAAAAAAAAAAAAAAAAAAAAAAAAAAAAAAAAAAAAAAAAAAAAAAAAAAAAAAAAAAAAAAAAAAAAAAAAAAAAAAAAAAAAAAAAAAAAAAAAAAAAAAAAAAAAAAAAAAAAAAAAAAAAAAAAAAAAAAAAAAAAAAAAAAAAAAAAAAAAAAAAAAAAAAAAAAAAAAAAAAAAAAAAAAAAAAAAAAAAAAAAAAAAAAAAAAAAAAAAAAAAAAAAAAAAAAAAAAAAAAAAAAAAAAAAAAAAAAAAAAAAAAAAAAAAAAAAAAAAAAAAAAAAAAAAAAAAAAAAAAAAAAAAAAAAAAAAAAAAAAAAAAAAAAAAAAAAAAAAAAAAAAAAAAAAAAAAAAAAAAAAAAAAAAAAAAAAAAAAAAAAAAAAAAAAAAAAAAAAAAAAAAAAAAAAAAAAAAAAAAAAAAAAAAAAAAAAAAAAAAAAAAAAAAAAAAAAAAAAAAAAAAAAAAAAAAAAAAAAAAAAAAAAAAAAAAAAAAAAAAAAAAAAAAAAAAAAAAAAAAAAAAAAAAAAAAAAAAAAAAAAAAAAAAAAAAAAAAAAAAAAAAAAAAAAAAAAAAAAAAAAAAAAAAAAAAAAAAAAAAAAAAAAAAAAAAAAAAAAAAAAAAAAAAAAAAAAAAAAAAAAAAAAAAAAAAAAAAAAAAAAAAAAAAAAAAAAAAAAAAAAAAAAAAAAAAAAAAAAAAAAAAAAAAAAAAAAAAAAAAAAAAAAAAAAAAAAAAAAAAAAAAAAAAAAAAAAAAAAAAAAAAAAAAAAAAAAAAAAAAAAAAAAAAAAAAAAAAAAAAAAAAAAAAAAAAAAAAAAAAAAAAAAAAAAAAAAAAAAAAAAAAAAAAAAAAAAAAAAAAAAAAAAAAAAAAAAAAAAAAAAAAAAAAAAAAAAAAAAAAAAAAAAAAAAAAAAAAAAAAAAAAAAAAAAAAAAAAAAAAAAAAAAAAAAAAAAAAAAAAAAAAAAAAAAAAAAAAAAAAAAAAAAAAAAAAAAAAAAAAAAAAAAAAAAAAAAAAAAAAAAAAAAAAAAAAAAAAAAAAAAAAAAAAAAAAAAAAAAAAAAAAAAAAAAAAAAAAAAAAAAAAAAAAAAAAAAAAAAAAAAAAAAAAAAAAAAAAAAAAAAAAAAAAAAAAAAAAAAAAAAAAAAAAAAAAAAAAAAAAAAAAAAAAAAAAAAAAAAAAAAAAAAAAAAAAAAAAAAAAAAAAAAAAAAAAAAAAAAAAAAAAAAAAAAAAAAAAAAAAAAAAAAAAAAAAAAAAAAAAAAAAAAAAAAAAAAAAAAAAAAAAAAAAAAAAAAAAAAAAAAAAAAAAAAAAAAAAAAAAAAAAAAAAAAAAAAAAAAAAAAAAAAAAAAAAAAAAAAAAAAAAAAAAAAAAAAAAAAAAAAAAAAAAAAAAAAAAAAAAAAAAAAAAAAAAAAAAAAAAAAAAAAAAAAAAAAAAAAAAAAAAAAAAAAAAAAAAAAAAAAAAAAAAAAAAAAAAAAAAAAAAAAAAAAAAAAAAAAAAAAAMjAyMTowNzowNiAxNToxMzoxOQAyMDIxOjA3OjA2IDE1OjEzOjE5AAAAAAYBAwADAAAAAQAGAAABGgAFAAAAAQAAEZQBGwAFAAAAAQAAEZwBKAADAAAAAQACAAACAQAEAAAAAQAAEaQCAgAEAAAAAQAAFL4AAAAAAAAAYAAAAAEAAABgAAAAAf/Y/9sAQwAIBgYHBgUIBwcHCQkICgwUDQwLCwwZEhMPFB0aHx4dGhwcICQuJyAiLCMcHCg3KSwwMTQ0NB8nOT04MjwuMzQy/9sAQwEJCQkMCwwYDQ0YMiEcITIyMjIyMjIyMjIyMjIyMjIyMjIyMjIyMjIyMjIyMjIyMjIyMjIyMjIyMjIyMjIyMjIy/8AAEQgAmQEAAwEhAAIRAQMRAf/EAB8AAAEFAQEBAQEBAAAAAAAAAAABAgMEBQYHCAkKC//EALUQAAIBAwMCBAMFBQQEAAABfQECAwAEEQUSITFBBhNRYQcicRQygZGhCCNCscEVUtHwJDNicoIJChYXGBkaJSYnKCkqNDU2Nzg5OkNERUZHSElKU1RVVldYWVpjZGVmZ2hpanN0dXZ3eHl6g4SFhoeIiYqSk5SVlpeYmZqio6Slpqeoqaqys7S1tre4ubrCw8TFxsfIycrS09TV1tfY2drh4uPk5ebn6Onq8fLz9PX29/j5+v/EAB8BAAMBAQEBAQEBAQEAAAAAAAABAgMEBQYHCAkKC//EALURAAIBAgQEAwQHBQQEAAECdwABAgMRBAUhMQYSQVEHYXETIjKBCBRCkaGxwQkjM1LwFWJy0QoWJDThJfEXGBkaJicoKSo1Njc4OTpDREVGR0hJSlNUVVZXWFlaY2RlZmdoaWpzdHV2d3h5eoKDhIWGh4iJipKTlJWWl5iZmqKjpKWmp6ipqrKztLW2t7i5usLDxMXGx8jJytLT1NXW19jZ2uLj5OXm5+jp6vLz9PX29/j5+v/aAAwDAQACEQMRAD8A8AooAKKACigAooAKKACrkGk6jcrA0Fjcyi4LCEpET5hX7231x3xQBVWN3bailm9AM0PG8bBXRlJ7EYoA6LVfCT2Fvbva3iX8077RDAhLAeTHKTxnoJCP+AmsqXRNVguGt5tNu45ljMzRvCwYIBktjHTHegC1o3hXWNdlEdjZSvugknQ7Dh1jHzbTjk54+pAqW68Jalb6Ba6ulvPLFKZRMFhb/R9jbfnPQZOfyoAzF0y/ewa/WzuGs0ba04jJQH0LdM0+fRdUtrJby4066itXxtneFghyMj5sY5HNAGl4j8NR6DFDJHqcN55k0kWIxjG0Ic9eh3/oa5+gAooAKKACigAooAKKACigAooAKKACigAooAK7vwx4p0vSPB99otzNdebqW8NLGmRZ/LgFe5L9Gxj5aAOV0fVP7H1H7UsTTYUrgTPEef8AaQg/rTtc1c61epcGFotsYTa1xJL3J6uSe/TOKANn4bTLB4+06V3dFRZmLJ94fuX5HvW3aeIon1jwxp2j3V3qk0F3J5k14nl+YsxVTFjLfLgNnJ/iNACz+K9JtPHtylu09rodtZT6XamEbyilGXzMZGcuS/XvUGj+M7PTY/Dlq13dNa2Ul39sUKcSrKeOM85Hr0oAdY+MdJg0m1d57xZrbTJrA6akY8iZnDgSFt3H3gx+XOVGKr6h4ytryC+tvPuWtpdCtrGGJgdonjMRJxnAHyPz7+9AHCUUAFFABRQAUUAFFABRQAUUAFFABRQAUUAFFABRQAUUAAJByKASDkHBoAKKACigAooAKKACigAooAKKACigAooAKKACigAooAKKACigAooAKKACigBcH0pKACigAooAKKACigAooAKKACigAooAKKACigAooAK6fSvBN1q2nWN2mpafA1/M8FrBPIweWRSAV4UgdRySBzQBG3hSaz0i01S9vbKMXEjJFaOz+bIUfaw4XAx6k/rWpL8Prm81S6jt7rTbInVJdOt7WSaRi8q4O1Tt5HzAbmx70AZd94ctbTwZZax/aEf2ue5mhe2O7PybOny4yN2Tk9CMd6jt7Szj8GyXUyKbq7vhBFK2cQoihnOB6l0/AGgDbtPCF34a17S5r+axmFw7PbxqfNE0YTKy4IxsORjPXB44o8JWuia/dyRanpss91NI815eCUW8NnABkuoXjOc8EY6ADmgCLR5ba4sNJt723t57VdVNrnyVVzE6jOWADEjdkZJwcVympWbafql1ZMctbzPET6lSR/SgCrRQAUUAFFABRQAUUAFFAHrH/C2PCf8A0SvQ/wDvpP8A41R/wtjwn/0SvQ/++k/+NUAH/C2PCf8A0SvQ/wDvpP8A41R/wtjwn/0SvQ/++k/+NUAH/C2PCf8A0SvQ/wDvpP8A41R/wtjwn/0SvQ/++k/+NUAH/C2PCf8A0SvQ/wDvpP8A41R/wtjwn/0SvQ/++k/+NUAH/C2PCf8A0SvQ/wDvpP8A41R/wtjwn/0SvQ/++k/+NUAH/C2PCf8A0SvQ/wDvpP8A41VqP41aDCtssXw20pBauZLcLKo8piQSV/dcHIHI9KAEm+M/h+5SJJ/hrpMqxFmjDyqQhY5Yj91xk8mpf+F5aP8AaEuP+Feab5yXBulk89dwmOMyA+V944HPXgUAV5PjH4clt0t5Phlo7wo7OkbSIVVmxuIHldTgZ+gpP+FweGvswtv+FYaN5AcyCPzE2hiACceV1wB+VAHYfET4jaN4T8XjR5fBGnag1hBGsE8jqpjRlztUeWdoGccGuSi+M3h6G1mtYvhppCW8+PNiWVQsmORuHlc4oAbH8Y/DkKosXwy0dAkglQLIg2uP4h+66+9Ml+LnheaV5ZfhdoryOxZnZ0JYnqSfKoAZ/wALY8J/9Er0P/vpP/jVH/C2PCf/AESvQ/8AvpP/AI1QAf8AC2PCf/RK9D/76T/41R/wtjwn/wBEr0P/AL6T/wCNUAH/AAtjwn/0SvQ/++k/+NUf8LY8J/8ARK9D/wC+k/8AjVAB/wALY8J/9Er0P/vpP/jVH/C2PCf/AESvQ/8AvpP/AI1QAf8AC2PCf/RK9D/76T/41R/wtjwn/wBEr0P/AL6T/wCNUAH/AAtjwn/0SvQ/++k/+NUf8LY8J/8ARK9D/wC+k/8AjVAHk9FABRQAUUAFFABRQAUUAFFABRQB6V8d/wDkqt9/1wh/9AFea0AFFABRQAUUAFFABRQAUUAFFAE1raXN9crb2lvLPM/3Y4kLMfoBT7nTr2ylkjurSeCSIgSLJGVKZ6Zz0zU80b8t9R2Y6z028v0uXtYGlW2iM0xX+BAQCT+dVKoQqqzMFUEsTgADrU15ZXWn3T2t5bTW9wmN8UyFGXIzyDz0oAl0/Sr7VpJksLaS4aCFp5Ag+7Gv3mPsKp0AXLDSr7VDcCyt3m+zQtPLt/gjXqx9hVOgAooAKKACigD0r47/APJVb7/rhD/6AK81oAKKACpbe2nvLhLe2hkmmc4WONSzMfYChtJXYE11peoWMskV3Y3MEkYDOksTKVB6EgjgUWOmXmpGf7HA0v2eFp5dv8KL1apUk1zLYdipijFUInu7K60+4NveW01vMoBMcqFWAIyOD7VLpulX2sXLW2n20lxMqNIUQchVGSfwFAFOrenaXe6tO8NjbtPIkbSsq9kUZY/gKAKmKKAO2+F7XsfippLF4lZbdw4lhd1ZSQCp2AlfrXoOpWMkmk+K7HT7a5/0iWKSBry0klaYCPDKrMpbg8KT0zxXm4n+N935m0PhINTsEudX16GLw5FHYLprJYPFppUvMwQnnb1BBAPGKvahp2m3mqLbL4ftlhGq2v2X/QPKEkezMuTtGRw3B9KwfOrWb0/4BSscl8RbBU1rw/8AYLSzFtMxWJ7WNQ8zhxncFRfUADBr0nUFtJvEF/fNoS3jXWt2+ZbnS2kP2TyUWQjcnABBFejhXeijGfxEGmWFnpvh68isNJ+yySW+pQSJ/ZsnnSs7HydrheE24GCfT04g1TRdNm03SI9J8OW8G2a2O6ewYvAAP3vmL5PzgjIOXbJIxiugkbq+iaVNf38un+H0j059Fu4baD+ymEi3Zf5WJ29SPunPA9Kdqmm6Vdz3Nmvhq0WL7Vp32E/2cYvNYsPPBbaMjGRg0AcZ8ZrKC3i0qXT7TTotPaSdVltkVZJGDZwwCLgKCAOv1zXk1ABRQAUUAelfHf8A5Krff9cIf/QBXmtABRQAV1vw4+2p4ytprBkWaJHYmSJ5FxtIIITkA5xkdM1nWs6cr9hx3R6ldWmY/FFpY21yDd20Hky3lpJOpcZ3orMpYqBjbnoeRiql5ZRS6lqlrH4bhSwGjuLaVNMIZ7plQddvUEHHT9a8mPN1f9WRu7Fi+0/Tbhp7X/hHrZUFxp4s82Bi81iw84Fto7cHNct8VdPjU6SNNs7FbWWaVEe2jUSSvuGFICKcAEAdfzrTDuSqxUm/6QpW5XY9BuY4JNd1G+fQhdtNe6esclzpjSYgCKsxG5eMDP8ASn6NY2GlxXRsNKFnun1BZAdMk82VX3eRscL8qBeMcV6xgZuoaJYy+EdLt9L8Nww3YFqC89i3mQSKw8xmXyfnUjOcuc9hU2p6LpE2sRy6f4eWLThZ30bwnSmDG4bOx/un5T/CP4fagClqWnWDaG1ifDlsh+zaYtuzaaY2kuTIqyqX2g8jAOT396w/jNp1vZ6bYtp1np0dkLyaNprdEWQt1CECNSFUZA5PvQB48CR0JFL5j/32/OlZAHmP/fb86fHcTwypLFNIkiHcrqxBU+oPaiy7ASXmoXuoT+fe3c9zNjHmTSF2x9TUG9/7x/OhJJWQBvf+8fzo3v8A3m/OmAb3/vH86dHPNFIskcro6HcrKxBB9QaAJ7/U7/VJhNqF9c3coG0PcStIQPTJNVKACigAooA9K+O//JVb7/rhD/6AK81oAKKAClBI6EigBfMf++350eY/99vzpWQDknljdXSV1dTlWDYIPqKlvdSvtSlEt9eXF1IowHnlLkD0yTRyq97Bcg3v/eP50b3/ALzfnTAN7/3m/Oje/wDeP50AKssiMGWRlZTkEHkGrN/quo6o6PqF/dXbINqm4maQqPQZPFAFOigAooAKKACigAooAKKACigAooA9K+O//JVb7/rhD/6AK81oAKKACigAooAKKACigAooAKKACigAooAKKACigAooAKKACigAooA9K+O//JVb7/rhD/6AK81oAKKACigAooAKKACigAooAKKACigAooAKKACigAooAKKACigAooA9K+O//JVb7/rhD/6AK81oAKKACigAooAKKACigAooAKKACigC7fQ28SRGFskg5+YHPTn278e1QRLGYZy/3goKHPfI/wAalN2NpRiptLb/AIAlugkuI0bGCwBy2P17Ut0iJdSJH9wNgc5p31J5VyX8yW9jhj8nysAmMFwGB5p32eD+zPO85TPvA2Z6LzSu7GnJDmkuyEs4oJIp/NIDBMoSQAD+fNU6a3M5JKKaCimZhRQAUUAelfHf/kqt9/1wh/8AQBXmtABRQAUUAFFABRQAUUAFFABRQAUUALgn1NJQBNaW017eQ2lum+eZxHGucZYnAHPvW9oPhObVfE13ol5KbOe1iuHlwofDRKxK9cdVxnNAHOHNHNACc0UAFFABRQAUUAelfHf/AJKrff8AXCH/ANAFea0AFFABRQAUUAFFABRQAUUAFFABRQB7jdXnivTtH8Dx+GtLWW2u9NhFwUs1kE75wUkbacDHqR1JrIS20S58f+KvBdqIFsdTcrZSYGILpRuUK3ZS25PyoAgvb6Hw78QfC/h/Sjb7NGljguJtiv5k8jDziSR2JKj0xxWxYatqcvxy1OTUYlP2OHUFt0eBUDRqshXOANwPqc5oA5291RvGPw5uNT1pLf7Zp2qQxJcwwLG3kyK2UIUAEDbkV2flXx8bzeHH0e2HgVbVisgtVMXkeVkTedjO7POc9aAOTtvEF54X+GHh+40pbVJ7jULpJJpLZJGZF2fLlgcA55rnPibZW2n/ABG1m3tIUhhEqsscYwq7kVjgdhkmgDkqKACigAooA9K+O/8AyVW+/wCuEP8A6AK81oAKKACigAqzZWy3EkhkYrHGhdioyce350m7K5dOPPNRZNLp2USW2LPG65+fgjnGPzp39kTbIyHiy4YkFwNoU4Oaj2i6nT9UlJvl2Im024R9rKP4ujDnADH9CKbc2L292tvuR2YAghuOapTTZnLDzim2S6Npcmta1Z6ZFLHFJdSrEryHCqScc1UuITb3EkJZGMbFSyNuU47g9xVHOR0UAFFAHV6t461G7s9JttOubzT0stOjspVhuWUTFSx3EDH97oc1R8J6/D4b8QR6vNZ/a5YEdoFZsBZSMK59cE5x7UAY81xLPdSXMkjNNI5kZyeSxOSfzq5Pr+sXN2t3Pqt7LcLGYVledi4Q5BXOc45PHvQBUW7uUtXtVnlW3kYO8QchGYdCR0JFWTrerHTv7OOp3hsen2bz28v/AL5zigCs15cvbR2zXErW8TFo4i5KoT1IHQE0lzdXF7cNcXU8k8z/AHpJXLM3bknmgCKigAooAKKAPSvjv/yVW+/64Q/+gCvNaACigAooAKlgnktpRJG2GHHTIP1Hehq5UZOLUkWBqt0JjLvXJXbjYu0DOeBjA5p0OqzRHJCvhWA3KDjd1+v0qHBHRHF1E7sb/al1iQF1PmZzlBxkYOOOOOOKhe7lkuEnfaXUAD5Rg46ZHemopGc685qzFsr2fT7+C9tn2XEEiyxtgHDA5HB4qKaVp55JmCqzsWIRQoGfQDgD2qjEZRQAUUAXV09zaSz7l+THAIOR35H4Uy0tBcyKGbapJBI5PTPTrU8xt7LWKb3IjA3nvFwGQkHLAdKsXGnvbrb5IzMu7k4A9smhsUaTak+w2e0ENpFNk7nYhgRwMeh70RWe+CWRmxsQOMYI+h54PtRfQfslzW8htpa/aZlUsFUttzkZ/Kq560+pm42imJRTJCigAooA9K+O/wDyVW+/64Q/+gCvNaACigAooAKKACigAooAKKACigAooAcHYKVDEKeoz1pFdkYMrFWHQg0WHdhk5zSliQASSB0osF2BdmUKWJC9BnpSrLIiMquwVvvAHrSsPmd7jQSpyCQR3FJTJCigAooAKKAPSvjv/wAlVvv+uEP/AKAK81oAKKACigAooAKKACigAooAKKACigAooAKKACigAooAKKACigAooA9K+O//ACVW+/64Q/8AoArzWgAooAKKACigAooAKKACigAooA//2f/hMehodHRwOi8vbnMuYWRvYmUuY29tL3hhcC8xLjAvADw/eHBhY2tldCBiZWdpbj0n77u/JyBpZD0nVzVNME1wQ2VoaUh6cmVTek5UY3prYzlkJz8+DQo8eDp4bXBtZXRhIHhtbG5zOng9ImFkb2JlOm5zOm1ldGEvIj48cmRmOlJERiB4bWxuczpyZGY9Imh0dHA6Ly93d3cudzMub3JnLzE5OTkvMDIvMjItcmRmLXN5bnRheC1ucyMiPjxyZGY6RGVzY3JpcHRpb24gcmRmOmFib3V0PSJ1dWlkOmZhZjViZGQ1LWJhM2QtMTFkYS1hZDMxLWQzM2Q3NTE4MmYxYiIgeG1sbnM6eG1wPSJodHRwOi8vbnMuYWRvYmUuY29tL3hhcC8xLjAvIj48eG1wOkNyZWF0b3JUb29sPldpbmRvd3MgUGhvdG8gRWRpdG9yIDEwLjAuMTAwMTEuMTYzODQ8L3htcDpDcmVhdG9yVG9vbD48eG1wOkNyZWF0ZURhdGU+MjAyMS0wNy0wNlQxNToxMzoxOS41NzI8L3htcDpDcmVhdGVEYXRlPjwvcmRmOkRlc2NyaXB0aW9uPjwvcmRmOlJERj48L3g6eG1wbWV0YT4NCiAgICAgICAgICAgICAgICAgICAgICAgICAgICAgICAgICAgICAgICAgICAgICAgICAgICAgICAgICAgICAgICAgICAgICAgICAgICAgICAgICAgICAgICAgICAgICAgICAgICAKICAgICAgICAgICAgICAgICAgICAgICAgICAgICAgICAgICAgICAgICAgICAgICAgICAgICAgICAgICAgICAgICAgICAgICAgICAgICAgICAgICAgICAgICAgICAgICAgICAgIAogICAgICAgICAgICAgICAgICAgICAgICAgICAgICAgICAgICAgICAgICAgICAgICAgICAgICAgICAgICAgICAgICAgICAgICAgICAgICAgICAgICAgICAgICAgICAgICAgICAgCiAgICAgICAgICAgICAgICAgICAgICAgICAgICAgICAgICAgICAgICAgICAgICAgICAgICAgICAgICAgICAgICAgICAgICAgICAgICAgICAgICAgICAgICAgICAgICAgICAgICAKICAgICAgICAgICAgICAgICAgICAgICAgICAgICAgICAgICAgICAgICAgICAgICAgICAgICAgICAgICAgICAgICAgICAgICAgICAgICAgICAgICAgICAgICAgICAgICAgICAgIAogICAgICAgICAgICAgICAgICAgICAgICAgICAgICAgICAgICAgICAgICAgICAgICAgICAgICAgICAgICAgICAgICAgICAgICAgICAgICAgICAgICAgICAgICAgICAgICAgICAgCiAgICAgICAgICAgICAgICAgICAgICAgICAgICAgICAgICAgICAgICAgICAgICAgICAgICAgICAgICAgICAgICAgICAgICAgICAgICAgICAgICAgICAgICAgICAgICAgICAgICAKICAgICAgICAgICAgICAgICAgICAgICAgICAgICAgICAgICAgICAgICAgICAgICAgICAgICAgICAgICAgICAgICAgICAgICAgICAgICAgICAgICAgICAgICAgICAgICAgICAgIAogICAgICAgICAgICAgICAgICAgICAgICAgICAgICAgICAgICAgICAgICAgICAgICAgICAgICAgICAgICAgICAgICAgICAgICAgICAgICAgICAgICAgICAgICAgICAgICAgICAgCiAgICAgICAgICAgICAgICAgICAgICAgICAgICAgICAgICAgICAgICAgICAgICAgICAgICAgICAgICAgICAgICAgICAgICAgICAgICAgICAgICAgICAgICAgICAgICAgICAgICAKICAgICAgICAgICAgICAgICAgICAgICAgICAgICAgICAgICAgICAgICAgICAgICAgICAgICAgICAgICAgICAgICAgICAgICAgICAgICAgICAgICAgICAgICAgICAgICAgICAgIAogICAgICAgICAgICAgICAgICAgICAgICAgICAgICAgICAgICAgICAgICAgICAgICAgICAgICAgICAgICAgICAgICAgICAgICAgICAgICAgICAgICAgICAgICAgICAgICAgICAgCiAgICAgICAgICAgICAgICAgICAgICAgICAgICAgICAgICAgICAgICAgICAgICAgICAgICAgICAgICAgICAgICAgICAgICAgICAgICAgICAgICAgICAgICAgICAgICAgICAgICAKICAgICAgICAgICAgICAgICAgICAgICAgICAgICAgICAgICAgICAgICAgICAgICAgICAgICAgICAgICAgICAgICAgICAgICAgICAgICAgICAgICAgICAgICAgICAgICAgICAgIAogICAgICAgICAgICAgICAgICAgICAgICAgICAgICAgICAgICAgICAgICAgICAgICAgICAgICAgICAgICAgICAgICAgICAgICAgICAgICAgICAgICAgICAgICAgICAgICAgICAgCiAgICAgICAgICAgICAgICAgICAgICAgICAgICAgICAgICAgICAgICAgICAgICAgICAgICAgICAgICAgICAgICAgICAgICAgICAgICAgICAgICAgICAgICAgICAgICAgICAgICAKICAgICAgICAgICAgICAgICAgICAgICAgICAgICAgICAgICAgICAgICAgICAgICAgICAgICAgICAgICAgICAgICAgICAgICAgICAgICAgICAgICAgICAgICAgICAgICAgICAgIAogICAgICAgICAgICAgICAgICAgICAgICAgICAgICAgICAgICAgICAgICAgICAgICAgICAgICAgICAgICAgICAgICAgICAgICAgICAgICAgICAgICAgICAgICAgICAgICAgICAgCiAgICAgICAgICAgICAgICAgICAgICAgICAgICAgICAgICAgICAgICAgICAgICAgICAgICAgICAgICAgICAgICAgICAgICAgICAgICAgICAgICAgICAgICAgICAgICAgICAgICAKICAgICAgICAgICAgICAgICAgICAgICAgICAgICAgICAgICAgICAgICAgICAgICAgICAgICAgICAgICAgICAgICAgICAgICAgICAgICAgICAgICAgICAgICAgICAgICAgICAgIAogICAgICAgICAgICAgICAgICAgICAgICAgICAgICAgICAgICAgICAgICAgICAgICAgICAgICAgICAgICAgICAgICAgICAgICAgICAgICAgICAgICAgICAgICAgICAgICAgICAgCiAgICAgICAgICAgICAgICAgICAgICAgICAgICAgICAgICAgICAgICAgICAgICAgICAgICAgICAgICAgICAgICAgICAgICAgICAgICAgICAgICAgICAgICAgICAgICAgICAgICAKICAgICAgICAgICAgICAgICAgICAgICAgICAgICAgICAgICAgICAgICAgICAgICAgICAgICAgICAgICAgICAgICAgICAgICAgICAgICAgICAgICAgICAgICAgICAgICAgICAgIAogICAgICAgICAgICAgICAgICAgICAgICAgICAgICAgICAgICAgICAgICAgICAgICAgICAgICAgICAgICAgICAgICAgICAgICAgICAgICAgICAgICAgICAgICAgICAgICAgICAgCiAgICAgICAgICAgICAgICAgICAgICAgICAgICAgICAgICAgICAgICAgICAgICAgICAgICAgICAgICAgICAgICAgICAgICAgICAgICAgICAgICAgICAgICAgICAgICAgICAgICAKICAgICAgICAgICAgICAgICAgICAgICAgICAgICAgICAgICAgICAgICAgICAgICAgICAgICAgICAgICAgICAgICAgICAgICAgICAgICAgICAgICAgICAgICAgICAgICAgICAgIAogICAgICAgICAgICAgICAgICAgICAgICAgICAgICAgICAgICAgICAgICAgICAgICAgICAgICAgICAgICAgICAgICAgICAgICAgICAgICAgICAgICAgICAgICAgICAgICAgICAgCiAgICAgICAgICAgICAgICAgICAgICAgICAgICAgICAgICAgICAgICAgICAgICAgICAgICAgICAgICAgICAgICAgICAgICAgICAgICAgICAgICAgICAgICAgICAgICAgICAgICAKICAgICAgICAgICAgICAgICAgICAgICAgICAgICAgICAgICAgICAgICAgICAgICAgICAgICAgICAgICAgICAgICAgICAgICAgICAgICAgICAgICAgICAgICAgICAgICAgICAgIAogICAgICAgICAgICAgICAgICAgICAgICAgICAgICAgICAgICAgICAgICAgICAgICAgICAgICAgICAgICAgICAgICAgICAgICAgICAgICAgICAgICAgICAgICAgICAgICAgICAgCiAgICAgICAgICAgICAgICAgICAgICAgICAgICAgICAgICAgICAgICAgICAgICAgICAgICAgICAgICAgICAgICAgICAgICAgICAgICAgICAgICAgICAgICAgICAgICAgICAgICAKICAgICAgICAgICAgICAgICAgICAgICAgICAgICAgICAgICAgICAgICAgICAgICAgICAgICAgICAgICAgICAgICAgICAgICAgICAgICAgICAgICAgICAgICAgICAgICAgICAgIAogICAgICAgICAgICAgICAgICAgICAgICAgICAgICAgICAgICAgICAgICAgICAgICAgICAgICAgICAgICAgICAgICAgICAgICAgICAgICAgICAgICAgICAgICAgICAgICAgICAgCiAgICAgICAgICAgICAgICAgICAgICAgICAgICAgICAgICAgICAgICAgICAgICAgICAgICAgICAgICAgICAgICAgICAgICAgICAgICAgICAgICAgICAgICAgICAgICAgICAgICAKICAgICAgICAgICAgICAgICAgICAgICAgICAgICAgICAgICAgICAgICAgICAgICAgICAgICAgICAgICAgICAgICAgICAgICAgICAgICAgICAgICAgICAgICAgICAgICAgICAgIAogICAgICAgICAgICAgICAgICAgICAgICAgICAgICAgICAgICAgICAgICAgICAgICAgICAgICAgICAgICAgICAgICAgICAgICAgICAgICAgICAgICAgICAgICAgICAgICAgICAgCiAgICAgICAgICAgICAgICAgICAgICAgICAgICAgICAgICAgICAgICAgICAgICAgICAgICAgICAgICAgICAgICAgICAgICAgICAgICAgICAgICAgICAgICAgICAgICAgICAgICAKICAgICAgICAgICAgICAgICAgICAgICAgICAgICAgICAgICAgICAgICAgICAgICAgICAgICAgICAgICAgICAgICAgICAgICAgICAgICAgICAgICAgICAgICAgICAgICAgICAgIAogICAgICAgICAgICAgICAgICAgICAgICAgICAgICAgICAgICAgICAgICAgICAgICAgICAgICAgICAgICAgICAgICAgICAgICAgICAgICAgICAgICAgICAgICAgICAgICAgICAgCiAgICAgICAgICAgICAgICAgICAgICAgICAgICAgICAgICAgICAgICAgICAgICAgICAgICAgICAgICAgICAgICAgICAgICAgICAgICAgICAgICAgICAgICAgICAgICAgICAgICAKICAgICAgICAgICAgICAgICAgICAgICAgICAgICAgICAgICAgICAgICAgICAgICAgICAgICAgICAgICAgICAgICAgICAgICAgICAgICAgICAgICAgICAgICAgICAgICAgICAgIAogICAgICAgICAgICAgICAgICAgICAgICAgICAgICAgICAgICAgICAgICAgICAgICAgICAgICAgICAgICAgICAgICAgICAgICAgICAgICAgICAgICAgICAgICAgICAgICAgICAgCiAgICAgICAgICAgICAgICAgICAgICAgICAgICAgICAgICAgICAgICAgICAgICAgICAgICAgICAgICAgICAgICAgICAgICAgICAgICAgICAgICAgICAgICAgICAgICAgICAgICAKICAgICAgICAgICAgICAgICAgICAgICAgICAgICAgICAgICAgICAgICAgICAgICAgICAgICAgICAgICAgICAgICAgICAgICAgICAgICAgICAgICAgICAgICAgICAgICAgICAgIAogICAgICAgICAgICAgICAgICAgICAgICAgICAgICAgICAgICAgICAgICAgICAgICAgICAgICAgICAgICAgICAgICAgICAgICAgICAgICAgICAgICAgICAgICAgICAgICAgICAgCiAgICAgICAgICAgICAgICAgICAgICAgICAgICAgICAgICAgICAgICAgICAgICAgICAgICAgICAgICAgICAgICAgICAgICAgICAgICAgICAgICAgICAgICAgICAgICAgICAgICAKICAgICAgICAgICAgICAgICAgICAgICAgICAgICAgICAgICAgICAgICAgICAgICAgICAgICAgICAgICAgICAgICAgICAgICAgICAgICAgICAgICAgICAgICAgICAgICAgICAgIAogICAgICAgICAgICAgICAgICAgICAgICAgICAgICAgICAgICAgICAgICAgICAgICAgICAgICAgICAgICAgICAgICAgICAgICAgICAgICAgICAgICAgICAgICAgICAgICAgICAgCiAgICAgICAgICAgICAgICAgICAgICAgICAgICAgICAgICAgICAgICAgICAgICAgICAgICAgICAgICAgICAgICAgICAgICAgICAgICAgICAgICAgICAgICAgICAgICAgICAgICAKICAgICAgICAgICAgICAgICAgICAgICAgICAgICAgICAgICAgICAgICAgICAgICAgICAgICAgICAgICAgICAgICAgICAgICAgICAgICAgICAgICAgICAgICAgICAgICAgICAgIAogICAgICAgICAgICAgICAgICAgICAgICAgICAgICAgICAgICAgICAgICAgICAgICAgICAgICAgICAgICAgICAgICAgICAgICAgICAgICAgICAgICAgICAgICAgICAgICAgICAgCiAgICAgICAgICAgICAgICAgICAgICAgICAgICAgICAgICAgICAgICAgICAgICAgICAgICAgICAgICAgICAgICAgICAgICAgICAgICAgICAgICAgICAgICAgICAgICAgICAgICAKICAgICAgICAgICAgICAgICAgICAgICAgICAgICAgICAgICAgICAgICAgICAgICAgICAgICAgICAgICAgICAgICAgICAgICAgICAgICAgICAgICAgICAgICAgICAgICAgICAgIAogICAgICAgICAgICAgICAgICAgICAgICAgICAgICAgICAgICAgICAgICAgICAgICAgICAgICAgICAgICAgICAgICAgICAgICAgICAgICAgICAgICAgICAgICAgICAgICAgICAgCiAgICAgICAgICAgICAgICAgICAgICAgICAgICAgICAgICAgICAgICAgICAgICAgICAgICAgICAgICAgICAgICAgICAgICAgICAgICAgICAgICAgICAgICAgICAgICAgICAgICAKICAgICAgICAgICAgICAgICAgICAgICAgICAgICAgICAgICAgICAgICAgICAgICAgICAgICAgICAgICAgICAgICAgICAgICAgICAgICAgICAgICAgICAgICAgICAgICAgICAgIAogICAgICAgICAgICAgICAgICAgICAgICAgICAgICAgICAgICAgICAgICAgICAgICAgICAgICAgICAgICAgICAgICAgICAgICAgICAgICAgICAgICAgICAgICAgICAgICAgICAgCiAgICAgICAgICAgICAgICAgICAgICAgICAgICAgICAgICAgICAgICAgICAgICAgICAgICAgICAgICAgICAgICAgICAgICAgICAgICAgICAgICAgICAgICAgICAgICAgICAgICAKICAgICAgICAgICAgICAgICAgICAgICAgICAgICAgICAgICAgICAgICAgICAgICAgICAgICAgICAgICAgICAgICAgICAgICAgICAgICAgICAgICAgICAgICAgICAgICAgICAgIAogICAgICAgICAgICAgICAgICAgICAgICAgICAgICAgICAgICAgICAgICAgICAgICAgICAgICAgICAgICAgICAgICAgICAgICAgICAgICAgICAgICAgICAgICAgICAgICAgICAgCiAgICAgICAgICAgICAgICAgICAgICAgICAgICAgICAgICAgICAgICAgICAgICAgICAgICAgICAgICAgICAgICAgICAgICAgICAgICAgICAgICAgICAgICAgICAgICAgICAgICAKICAgICAgICAgICAgICAgICAgICAgICAgICAgICAgICAgICAgICAgICAgICAgICAgICAgICAgICAgICAgICAgICAgICAgICAgICAgICAgICAgICAgICAgICAgICAgICAgICAgIAogICAgICAgICAgICAgICAgICAgICAgICAgICAgICAgICAgICAgICAgICAgICAgICAgICAgICAgICAgICAgICAgICAgICAgICAgICAgICAgICAgICAgICAgICAgICAgICAgICAgCiAgICAgICAgICAgICAgICAgICAgICAgICAgICAgICAgICAgICAgICAgICAgICAgICAgICAgICAgICAgICAgICAgICAgICAgICAgICAgICAgICAgICAgICAgICAgICAgICAgICAKICAgICAgICAgICAgICAgICAgICAgICAgICAgICAgICAgICAgICAgICAgICAgICAgICAgICAgICAgICAgICAgICAgICAgICAgICAgICAgICAgICAgICAgICAgICAgICAgICAgIAogICAgICAgICAgICAgICAgICAgICAgICAgICAgICAgICAgICAgICAgICAgICAgICAgICAgICAgICAgICAgICAgICAgICAgICAgICAgICAgICAgICAgICAgICAgICAgICAgICAgCiAgICAgICAgICAgICAgICAgICAgICAgICAgICAgICAgICAgICAgICAgICAgICAgICAgICAgICAgICAgICAgICAgICAgICAgICAgICAgICAgICAgICAgICAgICAgICAgICAgICAKICAgICAgICAgICAgICAgICAgICAgICAgICAgICAgICAgICAgICAgICAgICAgICAgICAgICAgICAgICAgICAgICAgICAgICAgICAgICAgICAgICAgICAgICAgICAgICAgICAgIAogICAgICAgICAgICAgICAgICAgICAgICAgICAgICAgICAgICAgICAgICAgICAgICAgICAgICAgICAgICAgICAgICAgICAgICAgICAgICAgICAgICAgICAgICAgICAgICAgICAgCiAgICAgICAgICAgICAgICAgICAgICAgICAgICAgICAgICAgICAgICAgICAgICAgICAgICAgICAgICAgICAgICAgICAgICAgICAgICAgICAgICAgICAgICAgICAgICAgICAgICAKICAgICAgICAgICAgICAgICAgICAgICAgICAgICAgICAgICAgICAgICAgICAgICAgICAgICAgICAgICAgICAgICAgICAgICAgICAgICAgICAgICAgICAgICAgICAgICAgICAgIAogICAgICAgICAgICAgICAgICAgICAgICAgICAgICAgICAgICAgICAgICAgICAgICAgICAgICAgICAgICAgICAgICAgICAgICAgICAgICAgICAgICAgICAgICAgICAgICAgICAgCiAgICAgICAgICAgICAgICAgICAgICAgICAgICAgICAgICAgICAgICAgICAgICAgICAgICAgICAgICAgICAgICAgICAgICAgICAgICAgICAgICAgICAgICAgICAgICAgICAgICAKICAgICAgICAgICAgICAgICAgICAgICAgICAgICAgICAgICAgICAgICAgICAgICAgICAgICAgICAgICAgICAgICAgICAgICAgICAgICAgICAgICAgICAgICAgICAgICAgICAgIAogICAgICAgICAgICAgICAgICAgICAgICAgICAgICAgICAgICAgICAgICAgICAgICAgICAgICAgICAgICAgICAgICAgICAgICAgICAgICAgICAgICAgICAgICAgICAgICAgICAgCiAgICAgICAgICAgICAgICAgICAgICAgICAgICAgICAgICAgICAgICAgICAgICAgICAgICAgICAgICAgICAgICAgICAgICAgICAgICAgICAgICAgICAgICAgICAgICAgICAgICAKICAgICAgICAgICAgICAgICAgICAgICAgICAgICAgICAgICAgICAgICAgICAgICAgICAgICAgICAgICAgICAgICAgICAgICAgICAgICAgICAgICAgICAgICAgICAgICAgICAgIAogICAgICAgICAgICAgICAgICAgICAgICAgICAgICAgICAgICAgICAgICAgICAgICAgICAgICAgICAgICAgICAgICAgICAgICAgICAgICAgICAgICAgICAgICAgICAgICAgICAgCiAgICAgICAgICAgICAgICAgICAgICAgICAgICAgICAgICAgICAgICAgICAgICAgICAgICAgICAgICAgICAgICAgICAgICAgICAgICAgICAgICAgICAgICAgICAgICAgICAgICAKICAgICAgICAgICAgICAgICAgICAgICAgICAgICAgICAgICAgICAgICAgICAgICAgICAgICAgICAgICAgICAgICAgICAgICAgICAgICAgICAgICAgICAgICAgICAgICAgICAgIAogICAgICAgICAgICAgICAgICAgICAgICAgICAgICAgICAgICAgICAgICAgICAgICAgICAgICAgICAgICAgICAgICAgICAgICAgICAgICAgICAgICAgICAgICAgICAgICAgICAgCiAgICAgICAgICAgICAgICAgICAgICAgICAgICAgICAgICAgICAgICAgICAgICAgICAgICAgICAgICAgICAgICAgICAgICAgICAgICAgICAgICAgICAgICAgICAgICAgICAgICAKICAgICAgICAgICAgICAgICAgICAgICAgICAgICAgICAgICAgICAgICAgICAgICAgICAgICAgICAgICAgICAgICAgICAgICAgICAgICAgICAgICAgICAgICAgICAgICAgICAgIAogICAgICAgICAgICAgICAgICAgICAgICAgICAgICAgICAgICAgICAgICAgICAgICAgICAgICAgICAgICAgICAgICAgICAgICAgICAgICAgICAgICAgICAgICAgICAgICAgICAgCiAgICAgICAgICAgICAgICAgICAgICAgICAgICAgICAgICAgICAgICAgICAgICAgICAgICAgICAgICAgICAgICAgICAgICAgICAgICAgICAgICAgICAgICAgICAgICAgICAgICAKICAgICAgICAgICAgICAgICAgICAgICAgICAgICAgICAgICAgICAgICAgICAgICAgICAgICAgICAgICAgICAgICAgICAgICAgICAgICAgICAgICAgICAgICAgICAgICAgICAgIAogICAgICAgICAgICAgICAgICAgICAgICAgICAgICAgICAgICAgICAgICAgICAgICAgICAgICAgICAgICAgICAgICAgICAgICAgICAgICAgICAgICAgICAgICAgICAgICAgICAgCiAgICAgICAgICAgICAgICAgICAgICAgICAgICAgICAgICAgICAgICAgICAgICAgICAgICAgICAgICAgICAgICAgICAgICAgICAgICAgICAgICAgICAgICAgICAgICAgICAgICAKICAgICAgICAgICAgICAgICAgICAgICAgICAgICAgICAgICAgICAgICAgICAgICAgICAgICAgICAgICAgICAgICAgICAgICAgICAgICAgICAgICAgICAgICAgICAgICAgICAgIAogICAgICAgICAgICAgICAgICAgICAgICAgICAgICAgICAgICAgICAgICAgICAgICAgICAgICAgICAgICAgICAgICAgICAgICAgICAgICAgICAgICAgICAgICAgICAgICAgICAgCiAgICAgICAgICAgICAgICAgICAgICAgICAgICAgICAgICAgICAgICAgICAgICAgICAgICAgICAgICAgICAgICAgICAgICAgICAgICAgICAgICAgICAgICAgICAgICAgICAgICAKICAgICAgICAgICAgICAgICAgICAgICAgICAgICAgICAgICAgICAgICAgICAgICAgICAgICAgICAgICAgICAgICAgICAgICAgICAgICAgICAgICAgICAgICAgICAgICAgICAgIAogICAgICAgICAgICAgICAgICAgICAgICAgICAgICAgICAgICAgICAgICAgICAgICAgICAgICAgICAgICAgICAgICAgICAgICAgICAgICAgICAgICAgICAgICAgICAgICAgICAgCiAgICAgICAgICAgICAgICAgICAgICAgICAgICAgICAgICAgICAgICAgICAgICAgICAgICAgICAgICAgICAgICAgICAgICAgICAgICAgICAgICAgICAgICAgICAgICAgICAgICAKICAgICAgICAgICAgICAgICAgICAgICAgICAgICAgICAgICAgICAgICAgICAgICAgICAgICAgICAgICAgICAgICAgICAgICAgICAgICAgICAgICAgICAgICAgICAgICAgICAgIAogICAgICAgICAgICAgICAgICAgICAgICAgICAgICAgICAgICAgICAgICAgICAgICAgICAgICAgICAgICAgICAgICAgICAgICAgICAgICAgICAgICAgICAgICAgICAgICAgICAgCiAgICAgICAgICAgICAgICAgICAgICAgICAgICAgICAgICAgICAgICAgICAgICAgICAgICAgICAgICAgICAgICAgICAgICAgICAgICAgICAgICAgICAgICAgICAgICAgICAgICAKICAgICAgICAgICAgICAgICAgICAgICAgICAgICAgICAgICAgICAgICAgICAgICAgICAgICAgICAgICAgICAgICAgICAgICAgICAgICAgICAgICAgICAgICAgICAgICAgICAgIAogICAgICAgICAgICAgICAgICAgICAgICAgICAgICAgICAgICAgICAgICAgICAgICAgICAgICAgICAgICAgICAgICAgICAgICAgICAgICAgICAgICAgICAgICAgICAgICAgICAgCiAgICAgICAgICAgICAgICAgICAgICAgICAgICAgICAgICAgICAgICAgICAgICAgICAgICAgICAgICAgICAgICAgICAgICAgICAgICAgICAgICAgICAgICAgICAgICAgICAgICAKICAgICAgICAgICAgICAgICAgICAgICAgICAgICAgICAgICAgICAgICAgICAgICAgICAgICAgICAgICAgICAgICAgICAgICAgICAgICAgICAgICAgICAgICAgICAgICAgICAgIAogICAgICAgICAgICAgICAgICAgICAgICAgICAgICAgICAgICAgICAgICAgICAgICAgICAgICAgICAgICAgICAgICAgICAgICAgICAgICAgICAgICAgICAgICAgICAgICAgICAgCiAgICAgICAgICAgICAgICAgICAgICAgICAgICAgICAgICAgICAgICAgICAgICAgICAgICAgICAgICAgICAgICAgICAgICAgICAgICAgICAgICAgICAgICAgICAgICAgICAgICAKICAgICAgICAgICAgICAgICAgICAgICAgICAgICAgICAgICAgICAgICAgICAgICAgICAgICAgICAgICAgICAgICAgICAgICAgICAgICAgICAgICAgICAgICAgICAgICAgICAgIAogICAgICAgICAgICAgICAgICAgICAgICAgICAgICAgICAgICAgICAgICAgICAgICAgICAgICAgICAgICAgICAgICAgICAgICAgICAgICAgICAgICAgICAgICAgICAgICAgICAgCiAgICAgICAgICAgICAgICAgICAgICAgICAgICAgICAgICAgICAgICAgICAgICAgICAgICAgICAgICAgICAgICAgICAgICAgICAgICAgICAgICAgICAgICAgICAgICAgICAgICAKICAgICAgICAgICAgICAgICAgICAgICAgICAgICAgICAgICAgICAgICAgICAgICAgICAgICAgICAgICAgICAgICAgICAgICAgICAgICAgICAgICAgICAgICAgICAgICAgICAgIAogICAgICAgICAgICAgICAgICAgICAgICAgICAgICAgICAgICAgICAgICAgICAgICAgICAgICAgICAgICAgICAgICAgICAgICAgICAgICAgICAgICAgICAgICAgICAgICAgICAgCiAgICAgICAgICAgICAgICAgICAgICAgICAgICAgICAgICAgICAgICAgICAgICAgICAgICAgICAgICAgICAgICAgICAgICAgICAgICAgICAgICAgICAgICAgICAgICAgICAgICAKICAgICAgICAgICAgICAgICAgICAgICAgICAgICAgICAgICAgICAgICAgICAgICAgICAgICAgICAgICAgICAgICAgICAgICAgICAgICAgICAgICAgICAgICAgICAgICAgICAgIAogICAgICAgICAgICAgICAgICAgICAgICAgICAgICAgICAgICAgICAgICAgICAgICAgICAgICAgICAgICAgICAgICAgICAgICAgICAgICAgICAgICAgICAgICAgICAgICAgICAgCiAgICAgICAgICAgICAgICAgICAgICAgICAgICAgICAgICAgICAgICAgICAgICAgICAgICAgICAgICAgICAgICAgICAgICAgICAgICAgICAgICAgICAgICAgICAgICAgICAgICAKICAgICAgICAgICAgICAgICAgICAgICAgICAgICAgICAgICAgICAgICAgICAgICAgICAgICAgICAgICAgICAgICAgICAgICAgICAgICAgICAgICAgICAgICAgICAgICAgICAgIAogICAgICAgICAgICAgICAgICAgICAgICAgICAgICAgICAgICAgICAgICAgICAgICAgICAgICAgICAgICAgICAgICAgICAgICAgICAgICAgICAgICAgICAgICAgICAgICAgICAgCiAgICAgICAgICAgICAgICAgICAgICAgICAgICAgICAgICAgICAgICAgICAgICAgICAgICAgICAgICAgICAgICAgICAgICAgICAgICAgICAgICAgICAgICAgICAgICAgICAgICAKICAgICAgICAgICAgICAgICAgICAgICAgICAgICAgICAgICAgICAgICAgICAgICAgICAgICAgICAgICAgICAgICAgICAgICAgICAgICAgICAgICAgICAgICAgICAgICAgICAgIAogICAgICAgICAgICAgICAgICAgICAgICAgICAgICAgICAgICAgICAgICAgICAgICAgICAgICAgICAgICAgICAgICAgICAgICAgICAgICAgICAgICAgICAgICAgICAgICAgICAgCiAgICAgICAgICAgICAgICAgICAgICAgICAgICAgICAgICAgICAgICAgICAgICAgICAgICAgICAgICAgICAgICAgICAgICAgICAgICAgICAgICAgICAgICAgICAgICAgICAgICAKICAgICAgICAgICAgICAgICAgICAgICAgICAgICAgICAgICAgICAgICAgICAgICAgICAgICAgICAgICAgICAgICAgICAgICAgICAgICAgICAgICAgICAgICAgICAgICAgICAgIAogICAgICAgICAgICAgICAgICAgICAgICAgICAgICAgICAgICAgICAgICAgICAgICAgICAgICAgICAgICAgICAgICAgICAgICAgICAgICAgICAgICAgICAgICAgICAgICAgICAgCiAgICAgICAgICAgICAgICAgICAgICAgICAgICAgICAgICAgICAgICAgICAgICAgICAgICAgICAgICAgICAgICAgICAgICAgICAgICAgICAgICAgICAgICAgICAgICAgICAgICAKICAgICAgICAgICAgICAgICAgICAgICAgICAgICAgICAgICAgICAgICAgICAgICAgICAgICAgICAgICAgICAgICAgIDw/eHBhY2tldCBlbmQ9J3cnPz7/2wBDAAMCAgMCAgMDAwMEAwMEBQgFBQQEBQoHBwYIDAoMDAsKCwsNDhIQDQ4RDgsLEBYQERMUFRUVDA8XGBYUGBIUFRT/2wBDAQMEBAUEBQkFBQkUDQsNFBQUFBQUFBQUFBQUFBQUFBQUFBQUFBQUFBQUFBQUFBQUFBQUFBQUFBQUFBQUFBQUFBT/wAARCAHvAzsDASIAAhEBAxEB/8QAHwAAAQUBAQEBAQEAAAAAAAAAAAECAwQFBgcICQoL/8QAtRAAAgEDAwIEAwUFBAQAAAF9AQIDAAQRBRIhMUEGE1FhByJxFDKBkaEII0KxwRVS0fAkM2JyggkKFhcYGRolJicoKSo0NTY3ODk6Q0RFRkdISUpTVFVWV1hZWmNkZWZnaGlqc3R1dnd4eXqDhIWGh4iJipKTlJWWl5iZmqKjpKWmp6ipqrKztLW2t7i5usLDxMXGx8jJytLT1NXW19jZ2uHi4+Tl5ufo6erx8vP09fb3+Pn6/8QAHwEAAwEBAQEBAQEBAQAAAAAAAAECAwQFBgcICQoL/8QAtREAAgECBAQDBAcFBAQAAQJ3AAECAxEEBSExBhJBUQdhcRMiMoEIFEKRobHBCSMzUvAVYnLRChYkNOEl8RcYGRomJygpKjU2Nzg5OkNERUZHSElKU1RVVldYWVpjZGVmZ2hpanN0dXZ3eHl6goOEhYaHiImKkpOUlZaXmJmaoqOkpaanqKmqsrO0tba3uLm6wsPExcbHyMnK0tPU1dbX2Nna4uPk5ebn6Onq8vP09fb3+Pn6/9oADAMBAAIRAxEAPwD8rKKKKACiiigAooooAKKKKACiiigAooooAKKKKACiiigAooooAKKKKACiiigAooooAKKKKACiiigAooooAKKKKACiiigAooooAKKKKACiiigAooooAKKKKACijvivXvgv+y/48+PWh61qXhHSRqNrpTKLmTzApj+VmPH0xQB5DRXufgX9kD4ifEjwjrPiTQtFjn0rSJ5ra7laT7jxgFv514reWps5HhkVkuI3KOvbjrQBWooooAKKKKACiipFUEZAydvOfWgCOip2h2hhtztGS3OR6/zrf8C+BtS+I3ifTPD2h2wudX1CXybeFmwGOM8/n+lAHM0V6F8avgj4o+AviiLw94t08adqrW6z+Wr7htJYZ/SvPaACiiigAooooAKKKKACiu9+DfwY8TfHTxS/hzwnYf2hqzQmVIy4UYBHNehaP+xj8SvEXxL1jwDYaFE/ibTbdbqe3E5/dxhlVm/Nl/OgDwCiuk8deCdQ+H/iLUtD1iEW+pWM3lSRqcgHnIrm6ACiiigAooooAKKKKACiiigAooooAKKKKACiiigAooooAKKKKACiiigAooooAKKKKACiiigAooooAKKKKACiiigAooooAKKKKACiiigAooooAKKKKACiiigAooooAKKKKACiiigAooooAKKKKACiiigAooooAKKKKACiiigAooooAKKKKACiiigAooooAKO9FHfNAHaeBvg/4w+I1nc3fhzw5f63bWxKyyWabthABOfwI/OsC68N3lnqMljNbTxX0cgia2eP5wx6DGfavcP2NP2mtZ/Z0+JljdwXLnQbyYRahZu2ImQ4BY8HnH8q/TfVP2Lfh18RfjNofxvs7q2XwjJatqF9aj7jSAAq2c/w89u9AH4/eK/gl428EaBBrWu+GNR0rS52CR3V0m1HYgkAfgCfwrhmUDpyMZFfXv8AwUJ/atuPjp4+l8P6NO8fgrRJfKtbeNsxyOoK7+g6AkfjXyCX3dR9MUAKoBcBuFzyasGyK7d2Rnk9en5VN4d1SPRde03UJbWO+itbmOdrWb7kwVgxRvY4x+Nfcqf8FCPh/ZWcUEn7N/h2eWGFY2ke/wAbzj73+poA+Evsb/3h+R/wqF0Mb7TX3nH/AMFFvh633v2afDQ/7f8AP/tGvjD4jeJrbxp4617XLPSo9DtNRvp7yHToX3JbJI5ZYlOBkKDgcDpQBzUa7mOa/Sj/AIJI+I7XQ/CPxpF5dwW8f2GB4llm2F22zBgMn021+a6tt561o6b4g1DRxKLG7ntFmGJBDKU3jpg4+tAH6nfsS+OItP8A2TPjxbve20DLqd5c20MkoD7pFwe/I+QY/GvzM0DwfrPxG8SHS9D0+fVdUkeWZre2Xc2M8n6f41kWfijUdPtbi2tb25tILj/WxwzMok/3h3/+vX1l/wAEqZPtH7XOkwgEeZYXHPU8BW59c4oA+edD+BPjfxNqN3p2meF9Uub+0yJoVgPykdRmsjxZ8M/EfgOYR+I9FvtGLcL9piI3H0FfqP8Atsft43v7N/xHu/B/w58PaRZ6tG4m1LUpo97y7lJwAMbee+TmtX9nz4taD/wUc+GHifwZ8QNA0+28Y2dq5tbq3++xZSBIBjjBIOM0AflD4L+GviH4h6k+n+HdJutWvo0MjW1uuXK+1UfEnhPUfCGqXGl6zY3Gnalattmt7hdrCvbvgr4+vv2TP2nobqWSXydI1FrS8jZuJIg2CT6cV9Rf8FYvg1Z3uqeHfi1omJNK1mCOO5mgjyvzAbZOvfjigD4F8DfCrxJ8SJriHwzot7rcsI3SLax52jvmtP4f/DPWdW+JVjoa+HrnU7y3ukW7sUQlo134O/HtX6Rfss6On7IX7Emv/EfUrf7J4h1yIyWizMAdjL8mDj0NfDH7Pv7SXiv4Y/GlvFWkvDLqGtXIjuvtaCTcHckEemAcfhQB9d/8FD/2SbfT9H+G3/Cs/ALpdSW0g1FNMjbJYpGf3mc89a+RP2RtHu9B/a4+H2n3sDW99Bqwjnjk4aNgr5B/Kv0n/wCChv7Xnj79m3Q/hrdeFpLAXOvwST3b3FtuBKJGTgZ4zvH02981+dH7MvjS++I37a3gvxBqar9u1LW2uZhENq5ZGOAPTigD3z/gqJ8N/FHxO/arEfhzQdQ1d4NHjD/ZIS+FDnn82FfEHi74Y+IvALiPxHo2oaPM33Eu7fYG/HPFfr1/wUI/bY1b9mHxVp+keD9H0yTxPqNvHK+o3S72jhBYGPYME5bac7v4elZPww8XaB/wUi/Zu8WQeMtFsrTxdpNsxF9ZKQyso3hgCeMlcde9AH48R2qsxEjGMAgFj0GT1+ldl4R+CvjLx1G8uheHNR1O3X/ltDCSp+nFeg/ss/Af/hdH7SHh7wRclzaC8ka94z+6hJZgR7hSPxr7n/aw/bYH7ImuW3wx+E+haVZPpaKt1ezReYc46FRj+dAH5f8AizwBr/gW8+yeINGvdJnB2kXMZUE+3FM8L+CdV8aaxFo+iWM2oapKCVghGScV+rXwj+JGhf8ABRX4I+JtC8YeH9Pg8baXbNJFdWqje7AZBxgY/M18kf8ABPXQ7jwz+2poekXQIuLO4uLaZXGfmjcoQfxFAHgtl+z14/1TUrrTbPwhrU2o2vE1sttkocA8njsc/jXN+Kvh14i8C3aWviHRr3R5pBlBdRFM1+qf7c/7f2sfs6fGO98G+ANE0lNbgEUupajd25ZmLxq6oACP4GXnNTax4y0X9u79hbxZ4y17QrPT/Efh+aSFp7aPBWZEjc474IcUAfHf/BL/AFi30H9rjQJZpo7eGS0uIXed8AfdPXIr66/Zt8ZW8n/BT34p3l1fWsFo3h6dBI0oVGxcW+ACT1r8mrXUbvR7qG4tLiW2uVX5ZoXKOOSOCKmTxNqUN3Ldw3t1FeSctcrOwlb2LZ5HtQB6L+1JfpqPx68dz+Ykok1OQo6ncCMnoc15NU0129yZGlPmSu25pWJLE/WoKACiiigAooooAKKKKACiiigAooooAKKKKACiiigAooooAKKKKACiiigAooooAKKKKACiiigAooooAKKKKACiiigAooooAKKKKACiiigAooooAKKKKACiiigAooooAKKKKACiiigAooooAKKKKACiiigAooooAKKKKACiiigAooooAKKKKACiiigAooooAKXj1pKcjBTnGaAPVv2a/gfq/wAffidpPhjS4TJE8yyXbE4VIs8nIH1r9mLX4yfCj4WeItC/Zze4L/atPe1knDr5cTEAFWYnOWzxx2r8l/2bf2yde/Zl0TVrTw3oOlXGoak7FtTulJmiUoq7VwOg25+pNeU698UNe8QeNrnxXd6jI+uTXQuTdL2IOQBnoOaAPW/21P2b9S/Z3+K+oaUIi2hahMbrT5lOVZTnjccc8187SRGPOeo6j0r6T+M37dXi348fDKz8GeKtH0m8Sz2GDVDGftKMoIBz9CRXzhPciRXVd2xsHDeooAs+G9St9H1/Tb+7sU1S0tbmOeaxlbatwisC0ZI6BgMZ96+1oP28Pg0lrFA/7M+hzhY1VmfVXBJH/bOvhkdD9KRSRQB92f8ADeXwb7/swaD/AODV/wD41Xxt8Q/EVh4s8ca7rWmaWmh6fqF9PdQaZG25LSN5GZYlPcKCFzjtXPbm/vUjc0AJRQKKAFr6/wD+CU8nl/theH3zgLZXWf8Avivj+vsH/glQ3l/tfaJIXVUWxuQwb+IFQMD8SPyoA9J/4KVfsy+O3+P2r+MdN0C71bRNXRVSazQyFG2nhh2r13/gmV8BdW+BemeKvit8QLR/D1pHYuIEujscRKu5yVPsDiuD/aO/b0+JP7PH7R3jrw/pkttrWirOrW9pqKblhGCOPzr5j+O37eHxO+P2kjSNZ1GPTtL5BtrDKIwPUEelAHmfxg8ZweOfiX4l1+IlbfUtRkkQgc+VuPb1r9Qf2B/EWh/tZ/szXHwr8aSPeXegyrEm9QSYFPyYOc5xivyFhm3AqBgsoTd2Hqa/Uv8A4JteF4fgl8CfGnxl1n/RYpbd5LXe2VfAOAAOeaAOR/4KxfGKzsdS8NfCLQ2kh0rRLSM3MceNmNoCqMHqAADkCvgDwPIn/CYaM28Bft0J54wu4dfwq58XfiVqHxc+I3iLxbqUjNPq17Lc+W3Plq7lgo9hnFcpDN5MgKtswcqwzlcHINAH6n/8FY/Auv8Ajrwf8H7jQNKuNUgs7OQSyWyFx88cOCMdvkP6V8Ofsb2Nxp/7Vnw9jlTyp7fVtkkb8FSEYcg16n8Pf+CoHxP8B+CLLwzLbaXrlpaRtBFNfxlpFXGBjivn/wAO/G7V/DXxmh+JFvBavq8V414sJT92GPp+dAH1F/wV4mZv2o7UFyzR6RbsgBGOXb39q9d/4I4P52n/ABUXOQ1mPk7elfC/7SH7Rmt/tL+PIPFniG3tba/itUthHbKQCFYnr+NdF+zP+2L4o/Zfj12Lw7aWd2msKI5vtAICjP09KAPSf2N/idpvwj/bmg1DVHENpeajdacZMDahlLRgk9hlhXd/8FIv2W/GTfGrUPHXh7R5tf0DXwsiTWCmXYcfxccV8Ka14kn1rXrvV5H8m5urhrlvIGNjE54NfTXwj/4KUfFb4VeH4NGFza67ptuAsUOpIXIH15oA+qf+Cc3wk1j9nXwH40+KXjy1bQbeS0fyIrk7XYAH+E188/sQ+Jo/F37fVlr0QPlarqV9eJ0ziSZ3GfTgivLfj7+298SP2hofsmt6kum6SvA02wBSPHoRXCfA/wCNep/APx9pvjDQYba41GzVgkdwD3P0oA9m/wCCoF0G/bc+IKjlVOn9PUWNvX0x+wW3mf8ABOn41vjIbVLrIyBz9mtv/rV+fHx6+Meq/H74p6x461uGGDU9V8kzR2/3B5cKRDH4IK9B+Df7ZXir4K/BXxN8NNJ0+xuNI1+6kuriefPmKzxxxkDjpiMfrQB4JdNmQDOcA/zNQ1Lcv5km7er7vmO0EAZ7VDQAUUUUAFFFFABRRRQAUUUUAFFFFABRRRQAUUUUAFFFFABRRRQAUUUUAFFFFABRRRQAUUUUAFFFFABRRRQAUUUUAFFFFABRRRQAUUUUAFFFFABRRRQAUUUUAFFFFABRRRQAUUUUAFFFFABRRRQAUUUUAFFFFABRRRQAUUUUAFFFFABRRRQAUUUUAFFFFABRRRQAUUUUAFFFFABRRRQAUUUUAFFFFABRRRQAV6X+z78dtZ/Z2+Itv4w0K2t7vUIYWhCXQyuGIJP14/WvNKKAO8+NHxa1P43fEDVPGGsxwwajqBBkjgztrg6KKAFjcoQcZxX0p46/bj8X+NvgjY/C9NP07SPD9pGqZs1Ks4HrXzVRQA6TG9iMYzxim0UUAFFFFABRRRQAUUUUAFFFFABRRRQAUUUUAFFFFABRRRQAUUUUAFFFFABRRRQAUUUUAFFFFABRRRQAUUUUAFFFFABRRRQAUUUUAFFFFABRRRQAUUUUAFFFFABRRRQAUUUUAFFFFABRRRQAUUUUAFFFFABRRRQAUUUUAFFFFABRRRQAUUUUAFFFFABRRRQAUUUUAFFFFABRRRQAUUUUAFFFFABRRRQAUUUUAFFFFABRRRQAUUUUAFFFFABRRRQAUUUUAFFFFABRRRQAUUUUAFFFFABRRRQAUUUUAFFFFABRRRQAUUUUAFFFFABRRRQAUUUUAFFFFABRRRQAUUUUAFFFFABRRRQAUUUUAFFFFABRRRQAUUUUAFFFFABRRRQAUUUUAFFFFABRRRQAUUUUAFFFFABRRRQAUUUUAFFFFABRRRQAUUUUAFFFFABRRRQAUUUUAFFFFABRRRQAUUUUAFFFFABRRRQAUUUUAFFFFABRRRQAUUUUAFFFFABRRRQAUUUUAFFFFABRRRQAUUUUAFFFFABRRRQAUUUUAFFFFABRRRQAUUUUAFFFFABRRRQAUUUUAFFFFABRRRQAUUUUAFFFFABRRRQAUUUUAFFFFABRRRQAUUUUAFFFFABRRRQAUUUUAFFFFABRRRQAUUUUAFFFFABRRRQAUUUUAFFFFABRRRQAUUUUAFFFFABRRRQAUUUUAFFFFABRRRQAUUUUAFFFFABRRRQAUUUUAFFFFABRRRQAUUUUAFFFFABRRRQAUUUUAFFFFABRRRQAUUUUAFFJuo3UALRRRQAUm72pw54zj3rc8GeDNY8eeILPQ9BsJdT1W8kEcFrCPncn0zQBg5PpS16H8XvgP4y+BmtRaX4x0r+y7uVPMRTIrAj8DXnmRQAUUZpyoXUlRnFADaKkELMCR0Gfbp/+ukaMpnJ5BxQAylXlgKKVR84AG76c0AG31P1ptfUXjb9jGb4f/sz6V8U9Z8SQ219qJBttFeEiR1PTvXy8y7e4oASnKobOTj04puRU8ByuFGH4IP50AL9l+b74K9yO3FRSRmPaezciv0L+CHw/+CHg39ivTfit8SfBd54juZ9Wk0+RrCUCXrlcKxAxwe/evlP9pDxZ8NPHHjK3uPhX4WvvDGhxW+JItQZTI7AjnCswAH170AeO0LhiBXpHwp/Z1+IXxuu2g8GeGLvWwoy00ZVI1HHJZyPWul+KH7Gvxb+DemNqfijwfdWemxqGe6ikjlVMkAZ2tnqR2oA8Yt7VriRVVlG44yTinfZdpVWbDnJwMH+tdR8M73w/ofjrQr3xTYyat4ejukkv7O2/1ksIYF0GcDJXI61+hPw78P8A7M37RHw5+Jl94N+GmqaNqHhnRpL8tqM6KGCqThSjNz9RQB+ZbQFMZ43cioz1ODkete8fso/s52/7S3xDuvCz+IYvD10to1xbvJEXErAZC9a8w+JPw91T4Z+Ntc8N6uvl3+l3cltJuUrv2sV3gehxmgDlaKUjaxHpSUAFFFFABRRRQAUUUUAFFFFABRRRQAUUUUAFFFFABRRRQAUUUUAFFFFABRRRQAUUUUAFFFFABRRRQAUUUUAFFFFABRRRQAUUUUAFFFFABRRRQAUUUUAFFFFABRRRQAUUUUAFFFFABRRRQAUUUUAFFFFABRRRQAUUUUAFFFFABRRRQAUUUUAFFFFABRRRQAUUUUAFFFFABQq7m54FFFAHTeFPhr4k8dW2oXHh7RbzV4NPVWuntYi/lBs4J+u0/lWv4Z+A/wAQPGVvJPo/hDV7+GMkPJDasQuOuTj/ADivvv8A4IriKe8+LUFyFltTbWLPG6hgBmfJx9KrfGz/AIKd6/8AD/4k6n4b+G/h/S7fw5pNw0DNIgDTuGO/tzQB+cet+GNU8NXr2mqadd6fcoSDFdQtG3H1FXPB/gPxD4+1mPSfD2kXWr6jIpZbe1j3tgDJP5V+rPjzTvB37f37Iet+O7bQ4bDxroC+fJ9hT52kVWBRsDpgk/hXzP8A8EoxLH+1lZ2xVVYWNwkmcMARG369qAPlzR/gP8Q9e1G6sdP8Ga1e3Nq+ydIbJ22EdQTjFbfwxl8dfBj41aLd6RpN1B4x02/SKCwmiIcyk4CkV+hn7Yn/AAUIvf2fvidqngv4eeHtPt57WVZby+kQHzmzkg18dfA/4k6l8Xv24vBPirVpIf7T1XxRal4wf3fzSCgDK/bA+LHxL+MHjjT9S+JXh6XwzqMdophtXtmiJTHBwwFeWXHwW8dx6Lp+snwlrL6ZqRzZ3S2bss4PQrgdD2PQ19jf8FhV2/tFaQgyqjSIz8xyOntX2Lp/xusfgL/wT/8Ah74w1Cwg1W8h0S0FnFKgZfMMK44/KgD8ftd+APxE8N6WL/UvBms2tkV3+e1o5Xb65Ari7fT52kijWNzKzY2INzEngDA5zkHiv1O/ZQ/4KIeI/wBoH4vW3gDxv4f0qfS9cBjjjgQHZkZxjHWvjX9r7wna/Av9q/xNYaEscCaffxX1tAR8iFlDhT6dj+NAH1z8Dv2V9B1j9gnW9W1PwDdXHjtjcC1SS1dpzwpUqoBOOtfnH44+GHi34ew2cnibw5qmgC8yYRqFq8O/B7bgPWv2b+Df7UHijxP+wrrPxRuYrOPX9OE9vCka4iHlqgBwB71+VX7TH7WHi39p06HL4pjtYpdNRlT7MCu7d3Ix7UAeGL14r1H9mn4ZyfFn48eB/CgTdHf6lCsy5A/dK4aU8+iBj+FeXCvsL/glrp0OpftoeFVkwwghvZUbqNwtpCP5UAdd/wAFSviNBqXxe0zwBpMvl6N4StBALdQQplUcjGPbrXyH4T+DfjT4gWF5e+HPDGqa1bWo3TSWdq8gQfgK9C/bM1ibXv2lPiNfy5Zv7XmiHsuSBXU/sQftTah+zr8ULPz7hj4X1KQQ31m75VVJxuOelAHzf/wj999uay+yzC+WUwNalCJhIDgqU+9nPt2rqvEnwb8beA9Ni1LXvC+p6Vp8hUR3VzbMsb5GRtbGD17V+w15+xn8Pda+OVp8d7LULGHwd9mXU3VJVaKV2UOXJBxznNfnr+3l+1lcftEfEa8sdKuNngzRpvKs4FYKsmBguAOvINAHomoqW/4JK6QBz/xVTHr7GvhrT445ryC3mlW3imlWOSZjwqlua+6b7/lE3po+XA8UtjaCARjP49a+C3YqzY9cYONvU9aAP1d8b/tYeA/2Sf2X/Dmi/CHUtI1jxZeiOK68g7niBjctKcDswUf8CrT/AGBf2rvE37U2veIfh18TIrLXbRtP+0RTLFwBuUc56HJFflDoGm32satbafZ2zXOoXDhLeGOMs7MxxgAdRgk/hX6yfBvwX4W/4Js/AG68d+Lmhm8d6zAqRWxcCY7iMKq9Tg4Jx0ANAH5sftMeCYPhr8cvF/h+1ULa2t8zIB/Cpbpivpr/AIJwfN8Lv2iiOn/CJXH/AKAa+Qfih45vfih461rxTqLZvNSnkmIyPlXkgGvr3/gm3/ySr9ov0/4RK4/9ANAHyh8G/Hl38NfiV4f8R2V41rJZXke91zzEGAOcV9if8FZPh5aDxx4T+IulRxi18U6fHI7R4CsxUHdjrk5r4EVd7Zzt2E559TX6QftrL/wkH/BP/wCA+vTvuvLewtLfe33jthQH+VAH5rSqVkKtwy/KR9OKZUk53TOx7sT+dR0AFFFFABRRRQAUUUUAFFFFABRRRQAUUUUAFFFFABRRRQAUUUUAFFFFABRRRQAUUUUAFFFFABRRRQAUUUUAFFFFABRRRQAUUUUAFFFFABRRRQB9/f8ADlb43/8AQ0/D/wD8GF9/8h0f8OVvjf8A9DT8P/8AwYX3/wAh19Vf8Pqfgh/0K3xA/wDBdY//ACZR/wAPqfgh/wBCt8QP/BdY/wDyZQB8q/8ADlb43/8AQ0/D/wD8GF9/8h0f8OVvjf8A9DT8P/8AwYX3/wAh19Vf8Pqfgh/0K3xA/wDBdY//ACZR/wAPqfgh/wBCt8QP/BdY/wDyZQB8q/8ADlb43/8AQ0/D/wD8GF9/8h0f8OVvjf8A9DT8P/8AwYX3/wAh19Vf8Pqfgh/0K3xA/wDBdY//ACZR/wAPqfgh/wBCt8QP/BdY/wDyZQB8q/8ADlb43/8AQ0/D/wD8GF9/8h0f8OVvjf8A9DT8P/8AwYX3/wAh19Vf8Pqfgh/0K3xA/wDBdY//ACZR/wAPqfgh/wBCt8QP/BdY/wDyZQB8q/8ADlb43/8AQ0/D/wD8GF9/8h0f8OVvjf8A9DT8P/8AwYX3/wAh19Vf8Pqfgh/0K3xA/wDBdY//ACZR/wAPqfgh/wBCt8QP/BdY/wDyZQB8q/8ADlb43/8AQ0/D/wD8GF9/8h0f8OVvjf8A9DT8P/8AwYX3/wAh19Vf8Pqfgh/0K3xA/wDBdY//ACZR/wAPqfgh/wBCt8QP/BdY/wDyZQB8q/8ADlb43/8AQ0/D/wD8GF9/8h0f8OVvjf8A9DT8P/8AwYX3/wAh19Vf8Pqfgh/0K3xA/wDBdY//ACZR/wAPqfgh/wBCt8QP/BdY/wDyZQB8q/8ADlb43/8AQ0/D/wD8GF9/8h0f8OVvjf8A9DT8P/8AwYX3/wAh19Vf8Pqfgh/0K3xA/wDBdY//ACZR/wAPqfgh/wBCt8QP/BdY/wDyZQB8q/8ADlb43/8AQ0/D/wD8GF9/8h0f8OVvjf8A9DT8P/8AwYX3/wAh19Vf8Pqfgh/0K3xA/wDBdY//ACZR/wAPqfgh/wBCt8QP/BdY/wDyZQB8q/8ADlb43/8AQ0/D/wD8GF9/8h0f8OVvjf8A9DT8P/8AwYX3/wAh19Vf8Pqfgh/0K3xA/wDBdY//ACZR/wAPqfgh/wBCt8QP/BdY/wDyZQB8q/8ADlb43/8AQ0/D/wD8GF9/8h0f8OVvjf8A9DT8P/8AwYX3/wAh19Vf8Pqfgh/0K3xA/wDBdY//ACZR/wAPqfgh/wBCt8QP/BdY/wDyZQB8q/8ADlb43/8AQ0/D/wD8GF9/8h0f8OVvjf8A9DT8P/8AwYX3/wAh19Vf8Pqfgh/0K3xA/wDBdY//ACZR/wAPqfgh/wBCt8QP/BdY/wDyZQB8q/8ADlb43/8AQ0/D/wD8GF9/8h0f8OVvjf8A9DT8P/8AwYX3/wAh19Vf8Pqfgh/0K3xA/wDBdY//ACZR/wAPqfgh/wBCt8QP/BdY/wDyZQB8q/8ADlb43/8AQ0/D/wD8GF9/8h0f8OVvjf8A9DT8P/8AwYX3/wAh19Vf8Pqfgh/0K3xA/wDBdY//ACZR/wAPqfgh/wBCt8QP/BdY/wDyZQB8q/8ADlb43/8AQ0/D/wD8GF9/8h0f8OVvjf8A9DT8P/8AwYX3/wAh19Vf8Pqfgh/0K3xA/wDBdY//ACZR/wAPqfgh/wBCt8QP/BdY/wDyZQB8q/8ADlb43/8AQ0/D/wD8GF9/8h0f8OVvjf8A9DT8P/8AwYX3/wAh19Vf8Pqfgh/0K3xA/wDBdY//ACZR/wAPqfgh/wBCt8QP/BdY/wDyZQB8q/8ADlb43/8AQ0/D/wD8GF9/8h0f8OVvjf8A9DT8P/8AwYX3/wAh19Vf8Pqfgh/0K3xA/wDBdY//ACZR/wAPqfgh/wBCt8QP/BdY/wDyZQB8q/8ADlb43/8AQ0/D/wD8GF9/8h0f8OV/jd/0NPw//wDBhff/ACHX1V/w+p+CH/QrfED/AMF1j/8AJlH/AA+p+CH/AEK3xA/8F1j/APJlAGv/AME+f2F/Hf7Kb+PV8Y6v4d1CLxBbW8NudDuZ5WQp5u4v5sMeB84xjPevmv4hf8EfPi14g8Z67qWkeJfBP2C7vpru2+2X14kyiRskOFtWGfoTXvn/AA+o+CH/AEK3xA/8F1j/APJlH/D6j4If9Ct8QP8AwX2P/wAmUAd1+y7+xr4x/Z+/Zy8ZeCLnWdGvvEuuxv5c1vNN9kjcqVGXaIPjnsleV/sV/wDBOf4l/s6/HqLxz4p1vwpe6asE0bQ6Pd3MkxdwQDtkt0XHP96tr/h9R8EP+hW+IH/gvsf/AJMo/wCH1HwQ/wChW+IH/gusf/kygDzH9qD/AIJY/Ff42fGvxH4w0PxB4NtNM1KTfDFqF7dpMv8AvBLVgPwY1hfAP/gkr8XvhZ8avBPi/VvEfgm40zRNXtr+5is768aZ445FZgga1UFsDjJA969s/wCH1PwQ/wChW+IH/gusf/kyk/4fUfBD/oVviB/4LrH/AOTKAKv7ev8AwT2+Iv7UnxYsfE/hTWvC+n2EFgtq0esXVzHKWHUgRwSDH4123xh/Yt8b/EH9jTwd8JNO1Tw/B4k0a1t4Li6ubidbNmjQKxRlhLkZHGUFcn/w+o+CH/QrfED/AMF9j/8AJlH/AA+o+CH/AEK3xA/8F1j/APJlAHm37KP/AAS3+KvwL+PXhfxtr3iDwdd6Vpcxkmh069u3nYbcfKHtkUn6sKuftif8Exfip+0J+0J4n8deHdf8IWWjaoYDDDql5dJcLshSM7lS2deqnGGPFd9/w+p+CH/QrfED/wAF1j/8mUn/AA+o+CH/AEK3xA/8F9j/APJlAHb/AAl/Y38Z+A/2JfEHwd1HVNBm8SX73DRXVrPM1mPM2bdztCHH3TnCHrXxI/8AwRb+NnlBF8UeAR0znUL7tn/pz96+pP8Ah9R8EP8AoVviB/4LrH/5Mo/4fU/BD/oVviB/4LrH/wCTKAPlcf8ABFf43Dr4p8Af+DC+/wDkOvcf2Nf+CZ/xX/Zw/aD8P+O9c17wfe6RYrPHcQabe3bzsJIXjyoe2RTgt3YV3H/D6n4If9Ct8QP/AAXWP/yZSf8AD6n4If8AQrfED/wXWP8A8mUAeUftF/8ABKD4ofFH4xeJvE/hjxD4PtNG1S5+0Rw6leXccynOTuVLZ1/JjXDeF/8Agi78Vk16ybX/ABV4L/sjzVN19hvLt5igPIUNaqM/UivpD/h9T8EP+hW+IH/gvsf/AJMr2D9l/wD4KFfDr9rLx9f+EfCOi+KNO1Ky0yTVZJdbtbaKExJLFEVBjuJDu3TLxjGAeegIB6vp/wAIbXSfhpbfDy1ih/4RiHSl00SPK3n/ACoEB27cdh3r8xfG3/BGT4mT+JtSbwx4r8I/2HLJvtxqV3dRzgHkhlS2YdSejHiv0i/ag/af8K/sm+AbDxd4usNY1HTb3U49Kji0SGKWYSvFLKGIkljG3bC/OSckcdSPmD/h9R8EP+hW+IH/AILrH/5MoAqXH/BPX4iSfsP2fwbXWPC6+J4daOotdfa7n7EYyDwH8jfu9tmPevmqP/gi/wDGxJvMPib4fvjOFOoX2M56/wDHnX1B/wAPqPgh/wBCt8QP/BdY/wDyZR/w+o+CH/QrfED/AMF1j/8AJlAE37Gf/BNF/wBn3U5/FHjS50XxN4sWNltY7V5XtIySCDueJWByOoWuE/ai/wCCe37QX7TXxBuNa1XxX4JttJjJ+w2A1G8xCO2R9kxn6V2v/D6n4If9Ct8QP/BfY/8AyZR/w+o+CH/QrfED/wAF1j/8mUAfL03/AARe+NkkYA8VeAWPq2oXv/yHX0f+yT/wTu+I/wABfBXxX0fxBrXha8ufFmhy6ZYtpt3cukcrLgGUvboQvuoY+1aX/D6j4If9Ct8QP/BfY/8AyZR/w+p+CH/QrfED/wAF9j/8mUAfLqf8EXPjUZAz+KPAJU9cahe9zz/y519Z/tOfsI+Pfi1+zt8NPhr4U1fw5ZP4atIY7ybVLm4jjklVArGMpA5IyD94D6Vnf8PqPgh/0K3xA/8ABfY//JlH/D6j4If9Ct8QP/BdY/8AyZQB8rt/wRX+N7MT/wAJT4A6/wDQRvv/AJDpP+HK3xv/AOhp+H//AIML7/5Dr6q/4fU/BD/oVviB/wCC+x/+TKP+H1PwQ/6Fb4gf+C6x/wDkygD5V/4crfG//oafh/8A+DC+/wDkOj/hyt8b/wDoafh//wCDC+/+Q6+qv+H1PwQ/6Fb4gf8Agusf/kyj/h9T8EP+hW+IH/gusf8A5MoA+Vf+HK3xv/6Gn4f/APgwvv8A5Do/4crfG/8A6Gn4f/8Agwvv/kOvqr/h9T8EP+hW+IH/AILrH/5Mo/4fU/BD/oVviB/4LrH/AOTKAPlX/hyt8b/+hp+H/wD4ML7/AOQ6P+HK3xv/AOhp+H//AIML7/5Dr6q/4fU/BD/oVviB/wCC6x/+TKP+H1PwQ/6Fb4gf+C6x/wDkygD5V/4crfG//oafh/8A+DC+/wDkOj/hyt8b/wDoafh//wCDC+/+Q6+qv+H1PwQ/6Fb4gf8Agusf/kyj/h9T8EP+hW+IH/gusf8A5MoA+Vf+HK3xv/6Gn4f/APgwvv8A5Do/4crfG/8A6Gn4f/8Agwvv/kOvqr/h9T8EP+hW+IH/AILrH/5Mo/4fU/BD/oVviB/4LrH/AOTKAPlX/hyt8b/+hp+H/wD4ML7/AOQ6P+HK3xv/AOhp+H//AIML7/5Dr6q/4fU/BD/oVviB/wCC6x/+TKP+H1PwQ/6Fb4gf+C6x/wDkygD5V/4crfG//oafh/8A+DC+/wDkOj/hyt8b/wDoafh//wCDC+/+Q6+qv+H1PwQ/6Fb4gf8Agusf/kyj/h9T8EP+hW+IH/gusf8A5MoA+Vf+HK3xv/6Gn4f/APgwvv8A5Do/4crfG/8A6Gn4f/8Agwvv/kOvqr/h9T8EP+hW+IH/AILrH/5Mo/4fU/BD/oVviB/4LrH/AOTKAPlX/hyt8b/+hp+H/wD4ML7/AOQ6P+HK3xv/AOhp+H//AIML7/5Dr6q/4fU/BD/oVviB/wCC6x/+TKP+H1PwQ/6Fb4gf+C6x/wDkygD5V/4crfG//oafh/8A+DC+/wDkOj/hyt8b/wDoafh//wCDC+/+Q6+qv+H1PwQ/6Fb4gf8Agusf/kyj/h9T8EP+hW+IH/gusf8A5MoA+Vf+HK3xv/6Gn4f/APgwvv8A5Do/4crfG/8A6Gn4f/8Agwvv/kOvqr/h9T8EP+hW+IH/AILrH/5Mo/4fU/BD/oVviB/4LrH/AOTKAPlX/hyt8b/+hp+H/wD4ML7/AOQ6P+HK3xv/AOhp+H//AIML7/5Dr6q/4fU/BD/oVviB/wCC6x/+TKP+H1PwQ/6Fb4gf+C6x/wDkygD5V/4crfG//oafh/8A+DC+/wDkOj/hyt8b/wDoafh//wCDC+/+Q6+qv+H1PwQ/6Fb4gf8Agusf/kyj/h9T8EP+hW+IH/gusf8A5MoA+Vf+HK3xv/6Gn4f/APgwvv8A5Do/4crfG/8A6Gn4f/8Agwvv/kOvqr/h9T8EP+hW+IH/AILrH/5Mo/4fU/BD/oVviB/4LrH/AOTKAPlX/hyt8b/+hp+H/wD4ML7/AOQ6P+HK3xv/AOhp+H//AIML7/5Dr6q/4fU/BD/oVviB/wCC6x/+TKP+H1PwQ/6Fb4gf+C6x/wDkygD5V/4crfG//oafh/8A+DC+/wDkOj/hyt8b/wDoafh//wCDC+/+Q6+qv+H1PwQ/6Fb4gf8Agusf/kyj/h9T8EP+hW+IH/gusf8A5MoA+Vf+HK3xv/6Gn4f/APgwvv8A5Do/4crfG/8A6Gn4f/8Agwvv/kOvqr/h9T8EP+hW+IH/AILrH/5Mo/4fU/BD/oVviB/4LrH/AOTKAPlX/hyt8b/+hp+H/wD4ML7/AOQ6P+HK3xv/AOhp+H//AIML7/5Dr6q/4fU/BD/oVviB/wCC6x/+TKP+H1PwQ/6Fb4gf+C6x/wDkygD5V/4crfG//oafh/8A+DC+/wDkOj/hyt8b/wDoafh//wCDC+/+Q6+qv+H1PwQ/6Fb4gf8Agusf/kyj/h9T8EP+hW+IH/gusf8A5MoA+Vf+HK3xv/6Gn4f/APgwvv8A5Do/4crfG/8A6Gn4f/8Agwvv/kOvqr/h9T8EP+hW+IH/AILrH/5Mo/4fU/BD/oVviB/4LrH/AOTKAPxXooooAKKKKACiiigAooooAKKKKACiiigAooooAKKKKACiiigAooooAKKKKACiiigAooooAKKKKACiiigAooooAKKKKACiiigAooooAKKKKACiiigAooooAKKKKACiiigAooooAK+/v+CKv/J03in/ALEy6/8AS6xr4Br7+/4Iq/8AJ03in/sTLr/0usaAPqr/AILVf8ms+Fv+xztf/SG+r8V6/aj/AILVf8ms+Fv+xztf/SG+r8V6ACiiigAooooAKKKKACiiigAooooAKKKKACiiigAooooAKKKKACiiigAooooAKKKKACiiigAooooAKKKKACiiigAooooAKKKKACiiigAooooAKKKKACiiigAooooAKKKKACiiigAooooAKKKKACiiigAooooAKKKKACiiigAooooAKKKKACiiigAooooAKKKKACiiigAooooAKKKKACiiigAooooAKKKKACiiigAooooAKKKKACiiigAooooAKKKKACiiigAooooAK+/v+CKv/J03in/sTLr/ANLrGvgGvv7/AIIq/wDJ03in/sTLr/0usaAPqr/gtV/yaz4W/wCxztf/AEhvq/Fev2o/4LVf8ms+Fv8Asc7X/wBIb6vxXoAKKKKACiiigAooooAKKKKACiiigAooooAKKKKACiiigAooooAKKKKACiiigAooooAKKKKACiiigAooooAKKKKACiiigAooooAKKKKACiiigAooooAKKKKACiiigAooooAKKKKACiiigAoopcUDEopaSgQUUUUAFFLSUAFFFFMAooopAFFFFABRRRQAUUUUAFFFFABRRRQAUUUUAFFFFABRRRQAUUUUAFFFFABRRRQAUUUUAFFFFABRRRQAUUUUAFFFFABRRRQAUUUUAFff3/BFX/k6bxT/ANiZdf8ApdY18A19/f8ABFX/AJOm8U/9iZdf+l1jQB9Vf8Fqv+TWfC3/AGOdr/6Q31fivX7Uf8Fqv+TWfC3/AGOdr/6Q31fivQAUUUUAFFFFABRRRQAUUUUAFFFFABRRRQAUUUUAFFFFABRRS4oGJRS0lAgooooAKKKWgBKKUjHvSUAFFFFABRRRQAUUUUAFFFFABRRRQAUUUUAFFFFABRRRQAUUUUAFFFFABRRRQAUUUUAFFLTlj3dWxQAipuzyBj1OKAM9s19u/st/8E5b74xeE7TxT4p1ibQNFvjutILWHzLiVRnLHcAqjpjnnNe3+Iv+CTngq402f+xvG2rWt3CnmM95bRyxqPVijZUD2zXg1c8wVOr7Jy120Or6tU5eZrQ/LNkIGcYHvTa9F0r4P3vi/wCLI8C+Hb2DVryS/axhu41ZY5NrEGTpkLxnpn2rqf2lP2UfEn7MmqaRYa/qemalNqMTyKdOdyE2lQQd6L/e7V6rxVD2kafN7z2Rl7KVr20PEacF3AmnrbuylhggHHBzT1tnOFxuGedvNdXS5kRrGecjBFDqUPIr9Af2HdF/Zyu/hLet8Sn0CTxM124mXW5zG6R4+XysdT1/SvjD4s2ehx/EfxBB4YcHw+l7KLIg5Hl54xgniuKniVUrSpOO3U0cLRUrnFMaSrH2V2XPHuM8/lTHt5IwCwwK7rGdiKipo7VpFyCMdBnOPzoNrIrYKkfhUvR2Y7ENLtyM5wOmae0LBsdTUunwrcXkMTEhZGVSy9QCQDj3oEQFcf8A6jSFcfSv08+IP/BK/wAGeEP2f9Q+IEPjDWJry10ZdTW1aFPL3FA2M596/MhrZ8Fs59OeTQBDRUot3ZSRg84wOTSSQmM8kH6HP/6qAI6esLvyFJHqBTlt2bkYyOo7j8K/Rv8A4Jc/swfDb4+eCvGV1458Mxa7c2F9FFbyvcOhjQxgkYU+vrQB+cUkTR43AqT2IIplfQv7dfw38PfC39pXxT4Z8K6dHpej2Xl+VbI7NgFck5Y14BHatJnaQx9qAIaKlMDL3BPopz/Kl+yvjOV9vmFAENPWIujMOi9eDSrCSAcjGcda7j4K23htvip4Yi8ZGP8A4Rl72MX29wE8vPOSCOKAOF8s5wMH6HNDLt9x61+i37fuk/sx2fwl02T4Vv4ePif7Svl/2HciRjFjkyc4BzX52tG0hOAAOvXj86AIaKm+yvnqpX+8DkUwRkjNADKKmitnmGVx75OKQ2zjP3fzFAEVFOZSuPQ9KbQAUUUUAFFFFABRRRQAUUUUAFFFFABRRRQAUUUUAFff3/BFX/k6bxT/ANiZdf8ApdY18A19/f8ABFX/AJOm8U/9iZdf+l1jQB9Vf8Fqv+TWfC3/AGOdr/6Q31fivX7Uf8Fqv+TWfC3/AGOdr/6Q31fivQAUUUUAFFFFABRRRQAUUUUAFFFFABRRRQAUUUUAFFLTljLcbsc0DEVNykgj8xSqN3QE/hX27+yz/wAE5b74xeEbPxV4q1iXQNEvjm1htYDJcSqM5Y5AVR0xzzmvbvEf/BJ3wVNpczaN421a2uo0LmS8topUAHdijZUD8a8GrnmCp1fYuWu2h0fVqnLzNaH5aMhwDjApleiaV8H73xf8Wh4G8O3tvqt3JftZQ3aKyxSbWI8zpkLx6Z9q6r9pP9lLxJ+zLqmk2Gv6npmpTahE8qHTnchNpUEHei8/MOleq8VQ9oqXN7z2Rn7OVr9DxGnBcgnNSLbuylhgj605LVyQMb+eQvNdPS9zIj8lsH27ZoZCnUYr9Af2HdH/AGdbz4T3rfEo+H38Sm7YTDWrjy3WPHyiIZyT1/SvjD4s2ehR/EfxBB4XYHw+l7KLIg5Hl54x1yK46eKU6sqTjt1NHBcqkcW+OwptT/ZXK5yPpkZ/Kke1ePG4YFd1jMhoqeO1aTpjrj2/Og2cinDDH61L0dmO19iClC8ZJwM4zTzCee5qXT4FuLyKJiQruqll6gEgEj3oEVyNvf8AnSsu3HfNfp38Qv8Aglf4M8Ifs+6j4/h8YaxNeWuirqS2rQp5e4oGIzn3r8yGtn+9xycdeTQBDRUv2dypIGTnGByaRoinUj8/84oAjqRYZJFyqsw9QOKVLdmz0+mefyr9G/8Aglx+y/8ADX4+eCfGV1468Mxa5dWF9FFBK87oY0KZIwpHf1oA/OKSJowCwwfQgg0yvoT9u34c+HvhZ+0p4o8MeFdNj0rR7Ix+VbRuzAArknJNfP8AHbs/3fm+goAjoqRoGXIOCfRef5Uq27sM/Lj/AHhQBFT1jLozDovWlWEtg5XBOOv9K7n4K2/htvip4Zi8Zsg8MNeoL/e+E8vPO4gjigDhfLJzjBxz1ppGK/Rn9v3R/wBmOx+EemS/Cx/D48Ufa08oaFciRmhwd3mDJwe34V+dbwnG7IC9OvP5UAQ0VN9lf5T8u0/xbgR+lM8s4z+NADKKmhtnnxswfxo+yvz93H+8KAIaKcylcZ6HpTaAFqW3X94MfezgVGq7qlhXdIPqO1NK9w66H7dfsm+NvDvxe/Zu0LTdL1D9/Z6UNM1GGCQC4gdQQXC5HXPHrg18rfGn9kv41fBW31LXvh1431bxD4eKyCe1juZBdIjA7t0Z4IwexrkfCf7D/wAcPAdj4f8AGXwv8QWt42oWUN8qWd8ttMgdchHR8K35mv0M+A914/k+HtjL8UobGHxNG0n2uS3kRh9nC8mTaSufxr8ixlSWVYt18NUjOM3rHqe3TvVp8s+h8Rf8EwbT4fN4g1P+0bWe8+JcLSS2zTIdkMSg7ueu7J54/GvqL9pz4tfB74ctZ2nxL0+1vtRvLKZrBrrTPtbKcYbD/wAHJX6/hXyv+xTqWlzft1eOW0yUDT7pL9LYRDhvmHSvTf8AgoZ+zX8QvjxrPg298G6R/atrZW00dy6zpGIiWVgWBIPQHoK6cRShLO6VWtNxTV/w2FT93DyRzv8AwTX8B+DfHXgvx9e6t4Z0jV0/tcJbzX1isjxxsr4CZ+724r1i2+Hn7Pv7MtjrNlqk3hv/AISC9E9wY9ZRJZgGUlURf4cZ6Vwf/BKjTbjR/AfxBsrhPLuLfWI4JCuWG9VcH9a+M/29p7ib9qrxwJi+I7lETcpHAjWumlRq47OK1H2rUFqRJwp0Iytqz7l/YD+HXgbx38F7rVdT8JaBq80mvXYSa902OVwhIKgMeg56V4p+yt4F8Pa1+3L490i+0HTL/SLQ3hg065tlaBCGA4XHFfQP/BL9W/4ZqhBDHGs3A4BbsnoK8c/ZCVx+318RX8uTbuvT9w5++KzVSrGtjoxlstB8sXCDse9/Erwv+zz+z74pt/E/inQdKtL/AFpljtbP7B5sUbKMMyqOMZI61kftgfs1+APiF8C9Y8T6NoWm6TqljYf2nZ3+m2v2cTJgNtZR1yK8K/4KwSSDxr8O0HmNGLOdsAHGfMTn619eePGA/Y61FyRu/wCEQVuTg58gdj/SvFj9Yw9LB4l1W5Tep1S9m5ShbRHyv/wTh/Zb8F+LPAtx4/8AFGk2/iC8e8e2tbO8AeGJUGWYoQQTkjGa97+Dfi34XfHnxX4x8PJ8LdBsn8NTeU0l1pls4mUEqSMxnbyOmea8b/4JVzeLJPCvipPNt28H284ItZo2eb7Qy5+XsFIB79cV6prHx2HwwuvEB8Gfs8eKo9WuZma4ul09Y7a5kU8OzI7EiuzMZ162NrU+a70traxlDkjTTsfH/wDwUo8QeD9N8eWHgfw74H07wte6MTLdXWm2sMC3O9fl/wBWBnH+0K+OdKK/2pb7fu+YvX/eFd18fvFninx98TtZ1/xfa3Njrl5KXltbqNkaFf4VAIHAFcRpEJ/tC3YfNiRRhQT/ABCv03A05UcNCEndpbnj1XebaP6CfjowX9hvX/8AsUo//RKV8d/8Ek/hL4M+JHwr8bT+JfC+l69LHqMcUUl/aJLJGDEchGPSvsL45fP+w7r3Y/8ACJR59v3K182f8EW90fwi8cFlbadVjwNp6+XXeZHqnhbSv2Xvgv8AFqP4V2ujaMfGOoSmQw3mni5Ks/ITe2QnHavmb/gq5+yv4J+HfhnQfiB4S0i38P3U18bK8srOMJHOW5Vwo4yDXDfEyaVv+CqULyGdA3iCHbhCDt2D2r6l/wCCwzKv7PeiPwCutxt064H60AbP7HP7JHw6+C/wB03xZ4q0TSdS1a6sv7SvtS1O2EywoV3YG4cDB9Oten/sr+Ivgx4uvvF2ufB6W1VLidBqdpZwmFEmHAO3GOV9Kt2OnN8cv2N7fTPD06GTV/DSW1vLv2gSeWBgntyK8M/4Jl/sw+Pf2ebHxhc+ONOGkzX0scVtbCQSMyqMGQhc4B/OgD5d/aE+B5/aI/4KY6x4M85YLW4ljmuX5z5SRgtggelfbnjjwt8E/wBj7wro2nH4VyeJBcMIVOm6GuoTt2aSRmwFGe2c188af4003wP/AMFctan1d/skF/amyhklGB5rxrt5Privsb9p34jfFz4faTp198LfA9p41IJS7tJZHEoz0KhRgrjvmgD5k/bi/Y7+Hnjb4D3XxL8D+H4/Cus6dbC+MUFr9m82E8sHjxy3NVf+CcetfCj9oP4Xt4Z8QeCfC7+L9Fi8qdn0yIS3EBX5ZVbrkdD71k/H79pL9o2T9n/xdc+OPg/pXhDw7LAtlNPcXTCY7+BsTHIHWuJ/4JF/s6axeeKLz4qX7z2Ok26NaWMSnYLpz94kd0FAH0f+z3/wT18JfCXxx4+13xRpuk61pl9cMdHtr6BZYobbG5iQeAQc9Ow618Z/FL4h+Aviv+3F4L8MeFPCmg2Hg3TtWjsW+xWEYS+O75jIo4PPGfQV+rl/r/hn456B438I6LrWbq2V9Kv5bQFZLWV0zwSPQjmvxX8D/BnXPgf+3F4V8J6tBMz2evp5MxRsTR7shwcc5oA+2f8AgqV8HPA/gH9nGLU/DnhDQNBvZNZhie607TY4ZCm1sjivTP2bf2Z/hl8TP2P/AAQ+veEdHM95o8U1zqKWiCbjksT17etYv/BXnP8Awyxb4RiTrsJxtPcPXqn7LMpg/YX8JOFZZF8LOeF+YfujQBz3wLf9mn4mTa34A8EeHPDuqSaJGI7u2m0tfNcA7WcOwz19K/Pz9rb9kfQfB/7Z3hvwLoe3S9B8VyxTJEOkCs5VlXj2P513H/BItpW/aN8dmTzWDadJ8zKST++bqcVqf8FTJtWtf2vvhlNoc/2fWBY2/wBiaTKoshuHGSfT6ZoA+l/jFpHwb/YQ+GPh+dPhnpuuG8u49N86WziuJpGKgl2MnT8K7T4zeG/hF8OfgnqXxHufhToF/Db6el21pDpkAmAkGBgnA4J55rb+MGoNpfwk8Lr48+Guo/FjUVaOS4t/DlotwsEoUHzf3jJx9OeK+Gv27f2qfiV8RPhnN4U0z4TeJPAvg6QL9qu9WsykrRqcBflJXbx60AfnH4r1O31rxFqF/a2y2VvdTvNHbRjCxKxJCj6A1kVLcKVkySGBHDDuKioAKKKKACiiigAooooAKKKKACiiigAooooAKKKKACvv7/gir/ydN4p/7Ey6/wDS6xr4Br7+/wCCKv8AydN4p/7Ey6/9LrGgD6q/4LVf8ms+Fv8Asc7X/wBIb6vxXr9qP+C1X/JrPhb/ALHO1/8ASG+r8V6ACiiigAooooAKKKKACiiigAooooAKKKKACiiigAqaBfmGOTUaruzU0P3lwcfMO3SmlzXC/Y/bb9k7xt4f+Lv7Nug6XpN/tubTShpuoRW8oE9u4BBcJnvnI+lfLHxp/ZK+NXwUj1PX/hz431XxD4edXE1qlxILtVYHdujPykYJ6GuS8J/sP/HDwHYaB4y+F/iG1vZNQsob9Us75beVQ67gro+1W/M1+hnwIu/iBJ8PbF/inHYw+JY2f7Y1vIjA24XkybTtB/HvX5HjJyyrGOvhqkZxm9Y9T3Kb9pS5ZrY+Iv8AgmDaeAG8Qakuo2kt58S4Wklt2njOyGJQd3P97J54/GvqP9p34s/B74cNZ2nxL02zvtSvLKdrFrrSxdOpxhsNn5PmK18rfsU6hpU37dfjg6VIqaddJfJbLF0Pzfw16Z/wUL/Zs+IHx31jwZfeDtIXU7Szt5orhxOiCIlgw3KTk8A9BW+IpQlndKrWm4pq/wCGxNN2w8kkc9/wTX8C+DfHPg3x7eat4Y0jV4/7YCW019YrI8cTq+Amfu9q9Ztfh3+z5+zHZ6xZatceG/8AhIbwT3Bi1hFlmAZSVRF/hAyOK4H/AIJWadPofgP4g2VyPKuLfWY4JdoLYZVccevNfGv7e01zN+1X44WQOVjuo0XcpHAjSumlRq47OK1H2rUI6kScKdFStqz7k/YD+HHgfx18GbrVdT8I+H9Xmk167CT32mxyyCMlSoVz90DP6V4p+yt4F8Pa1+3L480m90DTL7SLU3hg065tw0CEMANoxwK+gP8AgmCGj/ZqgBDn/idXA4BOOE9q8e/ZCR/+G+/iM/lyEA3p4Qkkbx2xURq1VWx0Yy+FaD5YyhB2Pe/iV4X/AGef2ffFFt4o8U6DpNrfa0VjtrP7B5sUbKMMVQcY5HWsb9r/APZs+H3j/wCBeseKNG0DT9K1Wxsf7Ss9Q022+ziVNoYq6jqCO9eF/wDBWCSRPGnw7T955Ys52GVYLkyJzzX1z4+X/jDvUWJw3/CIhjk4OfIHqa8eHt8PSweJdVuU3qbyVNylFLY+W/8Agm/+y/4L8XeBbn4geKtItvEN4141va2d5GHgiVF5JQggnJGK99+Dfi34X/HrxZ4w8PJ8LdCs28NTeSZLvS7VhMMkHH7s7eR0zzXjH/BKuXxXN4V8VR+fbv4QgnBW1ljZ5/tBXIK9gpAOefTivVdY+PH/AArC68Q/8Id+zx4ri1m6mZri6TT1S2uJAcCRmR2JHpxXVmE8RWx1enzXelvetYinyRpJtHx9/wAFKNd8G6f460/wR4d8E6b4XvdFBlurrTbWGBbjeuVH7sDOPcV8c6SV/tO3C5x5i9fqK7v4/wDi7xR4++J2sa94us7iw1y7kLTWtxGyNCo+6uCBwBXDaPbt9ugYAt+8UYUE9xX6dgacqOGhCTu0tzyKrvN2P6CvjowX9hvX/X/hEo//AESlfHn/AASR+E/gv4jfCvxpP4l8L6Xr00epRxxSX9oksiAxchGPSvsH45fP+w7r2OD/AMIknHp+5Wvmz/gi0Gj+EXjfKttOrREfKf8AnnXcZHqPhbSf2YPgx8Wk+Fdto2jHxhqExkMN5YC5Ks/IQu3CfSvmn/gq3+yv4K+HPhjQvH/hPSLbQLma9NleWVnGEjnLch8DgEVwnxMnlb/gqrAWaf5/EMAXCkHGwAA8V9T/APBYZ1X9nrQnI27dbjbkdQB0oA2P2Of2Sfhz8F/gDpvizxVoek6jq1zZDUr3U9SthMIUK7sDcOBj2616h+yx4h+DHi6+8W678HprUJcTp/adpZwmFFm6A7cAcj0q3Y6b/wALw/Y3t9N8PToZtX8NJa20m/YPMEYG0nsMivDP+CZX7L/j39new8YXPjjThpM99NHFbWwlEjOqDBkO3OAe3egD5e/aE+CDftD/APBTDWPBfmrBaXEscty/IPlpGC2MA9jX23448I/BP9j/AMK6PYf8Kql8SrcMIVOnaINQnPYySO2Ao/HPtXzzp/jTTPBH/BXLWp9Wf7JBf2psoZZRtHmvGu3JP0r7E/ac+I/xd+Huk6de/C7wPaeNuSl3azSt5y56FQowVx3zQB8yftwfse/Dvxv8Bbn4meB/D8XhXWdOthfGOC1+zebCeWDx92FV/wDgnJrPwn/aE+FzeGvEHgjwvJ4v0WPypy+mR+bcQFflmVuuRnB96yPj9+0h+0W37Pvi258b/CDSvCPhyWBbGae4u38/95wNiHqAa4n/AIJF/s76vdeJ7z4q37XFjpNuhs7GFSUF055YkY+ZBn86APpD9nv/AIJ6+EfhL468e674o03Sdb0u9uGbR7e+gWWKG2I3MSGHykHP4CvjL4pfELwH8Vv24fBfhjwn4U0Gw8G6dq0diy2dhGI787vmaRRweePoK/VvUPEHhn44aD438IaNrLfabZX0q+mtVZZLWV0zwSPQjkV+LHgf4M658D/24vCvhTVredns9fTyJjG37+PdkOCQM5oA+2P+CpfwZ8C+A/2cY9S8OeD9A0G9k1mGJ7rTdNjhk24bIyuOpr079mn9mP4X/Ez9j/wUfEHhDSfM1DRopLzUYLVI7k4GS3mD5u1Yn/BXhS37LNsArEnXID9091evVv2W3a3/AGGPCTAMrr4WflQdw/dGgDnfgaf2Z/idca18P/Avhzw5qTaHGIrq1m0lPNdQdpbzSMscjrX59/tbfsjaD4P/AG0PDngbQ8aVoHiuWKZIhwIFZyrKvHsfzruf+CRhlP7RnjtpDMwbTn+ZlYlv3zZ5xWn/AMFSrjVbf9r74ZTaDP8AZtYWyt/sTSAqiSG4cZY+n59KAPpj4w6T8HP2EPhj4enj+Gem659svI9N86WziuJpGKjLsZOn4V2fxm8M/CH4b/BHUviNc/CjQL+G3sEuntYdMh84eYOCCcAYJ55rb+MGpf2T8JfC48ffDPUPizqKtG89v4dtFuFgmCg+b+8KcfTmvhr9uz9qr4lfEX4aS+FNL+E/iPwL4OcL9qu9WsykpjU4CjaSoXj1oA/OLxXqdvrXiLUL+1tksre6neZLaMfLErMSFH0BrJqWePy2HIZT0YdCKioAVWxW54P0KTxJ4j03S4p0tnvbhLcTS/cTccbj7CsPPB9akjmEfzDhxgqwyCPxoaurIOtz9n/hv4T+OPgHwzYaKPiJ8Otb0+xgjhtRepLujQKAFzHtP55qh8WPh38cvipoM+izfFHwP4f024G2aPRxMrOvcFnycfTFfkAvia+wd11cOc5y0zn/ANmo/wCElvf+e8v/AH9k/wDiq+QeQ/vnXjJX9DvjinFcp+hPw6/4J7+Ofhf4wsfE+gfFPwtaatZyeYkm+Rg3sfl5B719O6hD8c77S3tk8ZfDG1uJEKPeLBKZDkEE8rxX4tf8JLeN1nlP/bV//iqX/hJbz/nvL/39f/4qtK2TVsTUjUqVE3HyFHEcqsfq58DfgD8VfgDa61b6D48+Ht6ur3hvrltQilciTDfdwOB8xry74tf8E9/F/wAYPHmp+LdX+Ing231LUZBJOlr5ixghQOAQfSvz0/4SW8/57y/9/X/+Ko/4Sa8/57zf9/H/APiq2p5ZiKVV1o1FzPfQUqyklG2x+tHwM+C3xb/Z+8Fnwv4e8c/Du6sFnaZH1COV3y2M8gD0rnPh/wDssfEf4a/FrWfiLpPjvwA+u6mZDJFcJKYBvPOB2r8uv+ElvP8AnvLj/ro//wAVSf8ACSXY/wCW0v8A39f/AOKrFZPXXPJ1FeW+gvbbJdD9Pvj9+yb8Rf2kNS0a+8T+PPAFnNpUbxwrpscsakMQTu455Aq/8d774v8Aw5/Z11mzvvE/w+1LRbTTFsGgsYn+1SR4CfLuHJ/Gvyy/4SS7/wCe8v8A39f/AOKqObXrm4UJJPM8X8URlYq31BJrWGTT/dxnNNRemgvrDu9D9a/2L/hTb/Bv9nVfHWgwXvirX9WsTeNpkFwUidgSAqp3I9a7H4R/tF/Frx14wttK1v4L6v4Y0yR9kl/PfTR7ARwVR1G78M1+Z3wV/bY+JnwJ0xdL0DVIrrSFJ22GowiWNM9QpyCB9DXoniD/AIKkfGXWrF7aCXR9GZhtM2n2RDgexd25+mK8HE5DiatWq2lLme/Y7KeKjGCTPRf+CtDaEvi7wcsX2c+IBbzLeGFQGKbgF3nufrXyV+zn8H7n45fErTvC9pqljo1xM29bzUg3kqy8gNj6VxfjDxrrPjzXbnWNc1G41LUZ2LSXFw25j/hWTa3b2cgkiZo5V+66kqw/EEV9ll2FeCw0KDd7Hm1ZqpNyR+4HiX4d/HXxZ8M73wNdfED4XppNxYf2a7xxTCTywgUe2eK479m/9mD4ufst+H9U0nwj8RPhpdwahcLcyHU4pnYMBj5SuMDFfj4viK+X/l6n9/30n/xVB8SX/wDz8zH/ALbSf/FV6RkfqprH7CPxF1z46J8WLn4k/D3/AISYXa3ZijSbyNw6cHmu6/aI/Z0+MX7TXg+Dw54q+Inw1gsoLoXaSWMcyvuAxg5z2r8cv+Ekvv8An5mH0mk/+Ko/4SO+/wCfmb/v9J/8VQB+yn7PPwC+Nv7OXhl/DukfFPwDruhht0VnqwlYQn0UgZA9q6Sw8C/tE6f47v8AxT/wtv4d3T3cItxpc8cotYlByNuOc+5r8R/+Ekvv+fmf/v8ASf8AxVIfEl/2uZj9ZpP/AIqgD9Qfi9/wTx+IPxm+KFz4+1T4r+CdO164dZGbTzKiIyjClcg819F/Dvw/+0J4B0C20m4+J/w28TpbRiOO61VJvOCgdCUxn8a/DP8A4SS//wCfiX/v9J/8VS/8JJfd7iX/AL/Sf/FUAfs9+0F8EfjX+0d4Tl8L678SvhvpugySJLLbafHNmVlORuJ5rd8G/D/44/D7wPZeFfD/AI1+E+m6bZWwtrfyYJw8fGC+cnLV+In/AAkl9/z8zf8Af6T/AOKo/wCEkvv+fmb/AL/Sf/FUAfrf8D/2Rfi98AfGWveJNB+K/gXU7zWyWvY9UErxyMW3bxjow6fStn4n/sy/FT4tfELwp411rxr8LY9e8OzCW3uLWCdfMAbID8/NX47/APCR33/PzN/3+k/+Ko/4SS+/5+Zv+/0n/wAVQB+yv7QfwA+Mf7Sngf8A4RTxT8QPhnZ6b9rS7DadHMrgqCB1z61s+C/hZ8cvAvww07wHpvxC+F39iWenNpyyTQzNKYypGcjjvX4o/wDCSX3/AD8zf9/pP/iqQ+JL/tczf9/pP/iqAP1g/Z//AGJfiP8As1+LtW8T+GPiN8OrnUL+Ly5lvopmjALZOMHgV5743+H/AIg/aa/b00HwT8TtZ0MjRrDzI7rwqrwxyqp3hVLZJbcTzxX5xDxFeng3Ew/2lmkz/wChVqeEviLrfgfxPZ+ItE1Cew1u1O6O8RizHjGDk8igD9zPjt8b/iV8B9S0bw34E+EGtfELTorNVbUo7xztYZARtin5sAHn1ru/DPje/wDiF8BdX1j4l+DpPBZkspjd6Vqc29VATg5YDH09q/KrR/8Agrv8dNK06O2kHh7UJEUAXF1YMX4GOdrivKvjd+3Z8Wvj9psmmeJddS10mX/XafpMRgik/wB7LEn86APEPFjWzeItRNlgWn2mXygOgXecY/CsipJpBKwIXaAMBR0FR0AFFFFABRRRQAUUUUAFFFFABRRRQAUUUUAFFFFABX39/wAEVf8Ak6bxT/2Jl1/6XWNfANff3/BFX/k6bxT/ANiZdf8ApdY0AfVX/Bar/k1nwt/2Odr/AOkN9X4r1+1H/Bar/k1nwt/2Odr/AOkN9X4r0AFFFFABRRRQAUUUUAFFFFABRRRQAUUUUAFFFFACg1t+ENDfxL4j03So51tnvblIBNJ9xNxxuPsKxM/KafHL5fI4YchhnIpSV1ZC63P2g+G/hX44eA/DNlon/Cw/h3rum2dvHDbLfRyhkQKABuj2n881n/FT4d/HP4qaDNok3xS8D+H9MnG2aLR/OVmX+6WfJx9MV+QC+JL8A7ru4Yk/xTOf/Zqd/wAJLe/895f+/sn/AMVXyLyL9868ZK/oegsU4rlP0I+Hn/BPfxx8LvGFj4n8P/FPwvaavZyeYknmOwPsfl5z3r6d1GH4532mPbR+MPhjbXDoUa7EMrSHIwT93g1+LX/CTX3/AD3l/wC/sn/xVH/CTXveeU/9tX/+Kqq+S1sVUjUqVE3HyCOI5Vyn6ufBD9n74rfAW01q20Dx38O72PV7z7dctqUMrHzMN93A4GWrzD4t/wDBPfxf8YPHmp+LNX+IngyDUtScSTpa+YsYIULwMH0r88v+Emvf+e8v/f1//iqX/hJrztPN/wB/X/8Aiq3p5ZiKVV1o1FzPfQmVZSSi0frP8Dfgr8Wv2f8AwWfDHh7xx8O7uwWdp0e/ild8tjPIHtXPfDv9lb4j/DX4rax8RNL8d/D+TXtSaQyxXMczQAOcnA7V+XB8TXrf8t5P+/r/APxVH/CS3nXz5Qf+ur//ABVY/wBj17zl7RXlvoL22yXQ/T/9oD9kv4jftG6lo194m8d/D+0n0uN44V02OWNSGIJ3Z68gVe+O978YPhv+znrNne+KPh/qeiWmmLp7w2cT/apI9oTC5HJr8sv+Eku/+e0v/f1//iqZPr1zcR7GnmKd0MrFT9QSa2hk8/3cZzTUXpoJ4hrZbn61fsX/AAptfgz+zuvjrQor3xTrur2Ju3023udkUhBwFVOpI6dK7L4SftHfFnx74wt9J1v4L6t4X0t22S6hcX80exexCOoDfhmvzM+C/wC2v8S/gXpi6XoGpxXWkqcrY6hCJY1z1C85A+hr0PXv+Co3xk1ixa2tn0bR2YbTNY2RD4+ru36YrwMRkOJq1qspJS5no9bo7KeJhCCR6P8A8FaDoSeLvB6wG3PiAW8wvPKUBihYbd5HU/Wvkv8AZ1+D118c/iXp3he11Ow0W4nYul7qQYwqV5AbHauJ8ZeNNZ8ea5PrGu6jcanqM5zJcXDbmP09B7VlWd49m4kiZo5V6OpKn8wa+0y/CvB4aFBu7R5tWanNyR+3/ib4c/HXxZ8NLzwPdfEH4XJpVxYf2a7xwzeZ5YQKPbPFcd+zf+zD8XP2W/D2qaR4Q+I3w1ubfULlbmT+04p3YMBj5SuMDFfj6viK+X/l6n9/30n/AMVQfEl9/wA/Mx/7bSf/ABVeiZH6q6t+wh8Q9a+O0fxYufiT8Pz4lS8W9EcaTeRvXp8pNdx+0R+zn8Yv2mPB1v4c8VfEP4a29lBci7V9PjmV94yOc5r8cx4kvv8An5m/7/Sf/FUf8JJff8/M/wD3+k/+KoA/ZP8AZ6+Afxt/Zx8Mt4d0f4p/D/XdEDborPVvNKwn0UgZA9q6XT/A37RFj47v/FP/AAtv4d3T3cPkf2XNHN9liUHI245z7mvxH/4SS+/5+Jj/ANtpP/iqQ+JL/wD5+Jf+/wBJ/wDFUAfqB8X/APgnj8QPjL8ULnx7qvxW8E6fr1w6yM2ntKiRsowpUEdeK+jPhz4f/aD8A+H7bSbj4nfDfxNHbRiOK51VJvNCjsSmM/jX4Z/8JJfd7iX/AL/Sf/FUv/CSX3/PxN/3+k/+KoA/Z39oL4H/ABr/AGjPCcvhfXPiT8N9N0GSRJZbbT45syspyNxPb6Vv+Dvh/wDG/wCH/giz8L+H/Gvwm0zTrK1+zW/lW0++PjBfOfvGvxD/AOEkvv8An5m/7/Sf/FUf8JJff8/M3/f6T/4qgD9cPgf+yL8XPgD4y13xJoPxX8B6nea2zNex6okrxuxbdv4P3gTj6VsfFD9mX4qfFv4geFPGeteNvhZFr/h2YS29xa286ebhsgSc/NX47/8ACSX3/PzN/wB/pP8A4qj/AISS+/5+Zv8Av9J/8VQB+y37QXwB+Mf7SngT/hFPFPj/AOGdpp32xLsNp0cyuGUED72cnmtrwX8Lvjj4F+F+m+A9O+IHwvOjWennTlkmhmaUxlcZ7DvX4n/8JJff8/M3/f6T/wCKo/4SS+/5+Z/+/wBJ/wDFUAfq/wDs/wD7E3xJ/Zp8Xav4o8LfEf4d3Go6hF5UqX8crRgFsnbg8V5544+H/iD9pn9vXQfBfxP1rRG/sex8yO78Lo8McyqTIAGYkltxPJxX5yf8JHe/8/Ewz1YTSZ/9DrU8JfEjXfBHiez8R6LqM9hrlo26O8jcsx9jk8igD9y/j18bviR8CNR0Xw54F+D2tfELT4rNVOpRXchCkZARtin5sAHn1rufC/jjUPiB8BNY1j4m+Dn8FeZZTG60vUp/MUKI+DlgMfSvyt0f/grx8ddJ09baQeH9RkUAC4urBi/AxztcZryr43ft2fFn4/aa+meI9dSz0iQfvbHSYDBFJ/vAsxP50AeH+LGtm8RaibIAWZuZTCF6Bd5xisipJpBIwKqEAGNo6VHQAUUUUAFFFFABRRRQAUUUUAFFFFABRRRQAUUUUALSUUUAFFFFABRRRQAUUUUAFFFFABRRRQAUUUUAFFFFABRRRQAUUUUAFFFFABRRRQAUUUUAFFFFABRRRQAUUUUAFFFFABRRRQAV9/f8EVf+TpvFP/YmXX/pdY18A19/f8EVf+TpvFP/AGJl1/6XWNAH1V/wWq/5NZ8Lf9jna/8ApDfV+K9ftR/wWq/5NZ8Lf9jna/8ApDfV+K9ABRRRQAUUUUAFFFFABRRRQAUUUUAFFFFABRRRQAUUUUAFFFFABS0lFABRRRQAUUUUAFFFFABRRRQAUUUUAFFFFABRRRQAUUUUAFFFFABRRRQAUUUUAFFFFABRRRQAUUUUAFFFFABRRRQAUUUUAFFFFABRRRQAUUUUAFFFFABRRRQAUUUUAFFFFABRRRQAUUUUAFFFFABRRRQAUUUUAFFFFABRRRQAUUUUAFFFFABRRRQAUUUUAFFFFABRRRQAUUUUAFFFFABRRRQAV9/f8EVf+TpvFP8A2Jl1/wCl1jXwDX39/wAEVf8Ak6bxT/2Jl1/6XWNAH1V/wWq/5NZ8Lf8AY52v/pDfV+K9ftR/wWq/5NZ8Lf8AY52v/pDfV+K9ABRRRQAUUUUAFFFFABRRRQAUUUUAFFFFABRRRQAUUUUAFFFFABRRRQAUUUUAFFFFABRRRQAUUUUAFFFFABRRRQAUUUUAFFFFABRRRQAUUUUAFFFFABRRRQAUUUUAFFFFABRRRQAUUUUAFFFFABRRRQAUUUUAFFFFABRRRQAUUUUAFFFFABRRRQAUUUUAFFFFABRRRQAUUUUAFFFFABRRRQAUUUUAFFFFABRRRQAUUUUAFFFFABRRRQAUUUUAFFFFABRRRQAUUUUAFff3/BFX/k6bxT/2Jl1/6XWNfANff3/BFX/k6bxT/wBiZdf+l1jQB9Vf8Fqv+TWfC3/Y52v/AKQ31fivX7Uf8Fqv+TWfC3/Y52v/AKQ31fivQAUUUUAFFFFABRRRQAUUUUAFFFFABRRRQAUUUUAFFFFABRRRQAUUUUAFFFFABRRRQAUUUUAFFFFABRRRQAUUUUAFFFFABRRRQAUUUUAFFFFABRRRQAUUUUAFFFFABRRRQAUUUUAFFFFABRRRQAUUUUAFFFFABRRRQAUUUUAFFFFABRRRQAUUUUAFFFFABRRRQAUUUUAFFFFABRRRQAUUUUAFFFFABRRRQAUUUUAFFFFABRRRQAUUUUAFFFFABRRRQAUUUUAFFFFABX39/wAEVf8Ak6bxT/2Jl1/6XWNfANff3/BFX/k6bxT/ANiZdf8ApdY0AfVX/Bar/k1nwt/2Odr/AOkN9X4r1+1H/Bar/k1nwt/2Odr/AOkN9X4r0AFFFFABRRRQAUUUUAFFFFABRRRQAUUUUAFFFFABRRRQAUUUUAFFFFABRRRQAUUUUAFFFFABRRRQAUUUUAFFFFABRRRQAUUUUAFFFFABRRRQAUUUUAFFFFABRRRQAUUUUAFFFFABRRRQAUUUUAFFFFABRRRQAUUUUAFFFFABRRRQAUUUUAFFFFABRRRQAUUUUAFFFFABRRRQAUUUUAFFFFABRRRQAUUUUAFFFFABRRRQAUUUUAFFFFABRRRQAUUUUAFFFFABRRRQAV9/f8EVf+TpvFP/AGJl1/6XWNfANff3/BFX/k6bxT/2Jl1/6XWNAH1V/wAFqv8Ak1nwt/2Odr/6Q31fivX7Uf8ABar/AJNZ8Lf9jna/+kN9X4r0AFFFFABRRRQAUUUUAFFFFABRRRQAUUUUAFFFFABRRRQAUUUUAFFFFABRRRQAUUUUAFFFFABRRRQAUUUUAFFFFABRRRQAUUUUAFFFFABRRRQAUUUUAFFFFABRRRQAUUUUAFFFFABRRRQAUUUUAFFFFABRSge9GKAEooooAKKXHGaVV3DOaBDaKU8UlAwopQKMUAJRS0lABRS0cetACUUuKSgYUUuPlJpdvvQFhtFLiigQlFLt4zSsu04oAbRS0lABRRRQAUUUUAFFFFABRRRQAUUUUAFFFFABRRRQAUUUUAFFFFABRRRQAV9/f8EVf+TpvFP/AGJl1/6XWNfANff3/BFX/k6bxT/2Jl1/6XWNAH1V/wAFqv8Ak1nwt/2Odr/6Q31fivX7Uf8ABar/AJNZ8Lf9jna/+kN9X4r0AFFFFABRRRQAUUUUAFFFFABRRRQAUUUUAFFFFABRRRQAUUUUAFFFFABRRRQAUUUUAFFFFABRRRQAUUUUAFFFFABRRRQAUUUUAFFFFABRRRQAUUUUAFFFFABRRRQAUUUUAFFFFABRRRQAUUUUAFFFFAEsSlgQBk5xU0mnzRxh2RlB9Riuy+D+j2+qeIne6iWaG1he5MbDIbauQK7fTdbX4kaXrVhfWdtH9ltmngkiiCGPb2461yTquMrJH0WEyuNej7SUtXe3yPDpAOMelMqa5+WTHpUNde+p8/KLi2mKOeKs21jNcozxxs6r1IBNV1616v8AA3UpftWpaaNht57aSRw6BuVQ4+lZVJcqud2Bw8cVWVOXU8qkTbt9ajq3qQC3T445JqpVxd1c46kPZzcewtSxxmThQSaiHrXU+A9csPD+pNd3dgNQdUPlIwBVW7Eg9aU3ZXNKFONWooydjn5rOWEjepTP94YqAqK9l8aX39ufD2LUtVtYbfUXuAtsUiCF4scnjqAeK8bf7xIGBU0586OvH4OOFkowd7jKnt7WS4YLEjSN/dUZNQhc85xXT+A9euPDusJNbXK2jv8AIZXUEAHvyK0k+WNzlw9JV6sacna5hXWnT2e3zo2jDf3lIqoRivafjcJdTsdNurWW3u9KRNgu7cL80nU7sdD9a8ZkXvWNGp7SN2duZYP6lWdJO66MRVyv404R5bApq/XFb/hHwzc+KNXgs7dcl2yzHoqjqSfStZSVOLlI4aFGeImqcFqzHmt5EjR2jZEPRiODULrivbPixp+nWngnRYdOiX7PFK6GUDl2A5OfrXijqFGfWsaNVVY8yO/NMueW1vZN3Gr93FTw2r3cm2NSzD+FRk1Cq7ec8V6N8EprS08UST3Nxb2+23k2NcEbd2OOvvVzfKro5sHQ+s1405Ox59dWE1qV86N488DcpFVyMV6r8VotZvrOyury9tL+x+7HcWgG0HrtOB1ry2RcAHjNFOfOrmmOwrwdZ02R0UUVqeaFFFFABRRRQAUUUUAFFFFABRRRQAUUUUAFFFFABRRRQAUUUUAFff3/AARV/wCTpvFP/YmXX/pdY18A19/f8EVf+TpvFP8A2Jl1/wCl1jQB9Vf8Fqv+TWfC3/Y52v8A6Q31fivX7Uf8Fqv+TWfC3/Y52v8A6Q31fivQAUUUUAFFFFABRRRQAUUUUAFFFFABRRRQAUUUUAFFFFABRRRQAUUUUAFFFFABRRRQAUUUUAFFFFABRRRQAUUUUAFFFFABRRRQAUUUUAFFFFABRRRQAUUUUAFFFFABRRRQAUUUUAFFFFABRRRQAUUUUAdl8L/EkHhrxAJrskWk0bwS7f7rKRmu3juNC8B6Pq1xZaxHqd1fQmGFIVI2Bu7ZrxuGQRt8wyPSpFuugOdg7VzSpc0rnvYXNHhqXs+W9tvmRTNufNR0+SQOcimV07HhSfM7sei5U133wd1S00fX7qS8nW3ja0lQFu5KkAVwMcgVSCKkW42cgEGs5x5lY68LWeHqRqLoP1Fg15IQcjNVaklk8zbx0GKjq0rKyOepP2k3LuPXG012vwt0vSdR1pTrF5Ha2kQ3t5hxvx0FcPUsc3l9CRUzjzxsb4WssPVVSSvY9c+K9vbalCdQTxDYXCxDZDZwbvlXsBxivIW+6B3qVroyLhiTULMCRgVnRp+zjynRmGLWMre1SsOXhK67wJp/h/VZLi21q7exkdf3FyCdiN/tAdq4/cNoHenJLt6CtHHmRx0KqpzUpRvY9Q8VX2keH/Bv/CP6fqP9qSS3H2iWZBiNcDAAzzXlzfMT6U4zlvvc8U3cOwqadPkR14zGfW5p8tkhQNuDjNd98OPiBZeD7e+im037TNdDZ5wfaVTuPxrgC3ygd6TdTnTVSNmYYXFVMJUVSG6PbfF3jHw3qXgK1ggswLgs/lxCUkwnPU/WvFJGy3HTpR5h6ZO2kLDPA4qaVJU1ZHZmOYzzGanUWqF6KMH3rrPAum6HqktzBq969hKyjyJgMord93t9K5HdwOKcsvHv7VclzKxx4asqFRTkrnp/izUtI0Hwavh7TtRGqvJcm4lnjUhBxtAGee1eXydSAcgGnNOWwGH5UwsOwqacOQ1xmL+tTUuWyQMu3HvzTaczbse1NrU88KKKKACiiigAooooAKKKKACiiigAooooAKKKKACiiigAooooAK+/v+CKv/J03in/ALEy6/8AS6xr4Br7+/4Iq/8AJ03in/sTLr/0usaAPqr/AILVf8ms+Fv+xztf/SG+r8V6/aj/AILVf8ms+Fv+xztf/SG+r8V6ACiiigAooooAKKKKACiiigAooooAKKKKACiiigAooooAKKKKACiiigAooooAKKKKACiiigAooooAKKKKACiiigAooooAKKKKACiiigAooooAKKKKACiiigAooooAKKKKACiiigAooooAKKKKACiiigAopQuaVULdOTQA2il2nOOv0oII60AJRRRQAUUUZoAKKBzXWfC/4cal8WPHGj+FtIeFNR1OcW8RmbCgnuaAOTpa97/aU/Yy8b/ss2ej3Hi6awdNUleKAWcu85UZOfSvBfu4zyOCaAPVPhD+y/8AEb46abe6h4L8Oza1aWcqwzyRMAEYjIHPtXn/AIo8MX/g3Xr3RtUga11GzlaGeFuqMpwRX62/8EVyf+FT+Ohk5OrRD/yGa/NP9qeMt+0V8Qu+NYnH/j1AHlFFKVK9RSUAFFFKB3PAoASil29ORRQAlFFLgmgBKKdt7A5NIyleDQAlFFFABRRRQAUUUUAFFFFABRRRQAUUUUAFFFFABRRRQAUUUUAFFFFABX39/wAEVf8Ak6bxT/2Jl1/6XWNfANff3/BFX/k6bxT/ANiZdf8ApdY0AfVX/Bar/k1nwt/2Odr/AOkN9X4r1+1H/Bar/k1nwt/2Odr/AOkN9X4r0AFFFFABRRRQAUUUUAFFFFABRRRQAUUUUAFFFFABRRRQAUUUUAFFFFABRRRQAUUUUAFFFFABRRRQAUUUUAFFFFABRRRQAUUUUAFFFFABRRRQAUUUUAFFFFABRRRQAUUUUAFFFFABRRRQAUUUUAFFFFAGh4f0s65ren6cH8o3dxHAJMZ2lmC5/Wvuv4n/APBIj4heDZdATw9rVn4o/tG4WCYxxNGttn+Ns9R1r4l+Ho/4rnw8f+ojb/8Ao1a/oX/aw+OP/DPfwL1/xikIuby1iWO1iJAzM+FU/gTmgD4n8K/8EXtMGlJ/wkvxDuBqjDmPTbVPLDeg3HJr56/ae/4JgeOfgfpNzr2hX6eL9BtVMlw8MJSa3T1Yd/wrwvxf+1z8VPGHiT+3LrxrrFveGQuiW1yyRxc5wqjjH19K/Tv/AIJrftdal+0h4f1jwN43db/WtNtw6zTYP2yBsqwcdyMigD8YjCBJt34GcAkEV9naH/wS98Z+LPhCnxB0HxbouradJp/26O1hjk8xyBkxjtuFec/t7fB20+Bv7SWv6Hp0TR6XcbdQtoyMKglJJUewIr7Q/wCCQf7Qw1XR9b+FGrMJXtlN3paSN1Q5EkY9+aAPypvLOSxneGVSsiMUdSMFWBwR+Fdt8Efg3rfx4+I2leDtACi/v32iWQEpGvdmx2Fe5f8ABRj9n5/gv+0DqD2Vq0Gga9/p9iwX5dzH94g+hP619bf8Eh/2fv8AhH/DWsfFbVoFjlvA1rpssgxshGfMk56cjFAHxt+1X+wvrf7J+i6Ve694t0jVZ9SnaKCzskkWQqo5f5u2eK9U/wCCcP7HvjDx94w8OfFO0ubO28OaRqRLecx8yUp95VH415p/wUQ+Pz/G39oPUzays2i6JmwsV3ZX5T87j6mtX9gf9oDx54d+MHgXwJpniK6tPDF5qwM1goBRi/3s/lQB+ln7e37HWt/taad4WtdG16w0STSZ5Zme9idhJuXGBtHb3r8mv2tv2Q9Y/ZL1zQ9M1jXbHXJdUtmuUkso3QJtbaQd3vX6P/8ABVj46eN/gjovgi58HeIrzQ3vrmZZvs5HzbRnnNfk98Vvjl40+N15ZXXjPXrrXrmyQxW8lzjMaMckDHvQB+oP/BFeQL8KPHXHTVof/RZrzS//AOCW/jT45fFbxn4p1rWLXwppV/q9xLbwyxtJNJGWOG44Ar0r/giyxX4S+OwBn/iaxHjsTH1ryT/goJ+35420/wCLOq+A/BGrT+HtH0kiC4urJh508w5Jz2HagDmPjh/wSL8f/D/QZtX8K63aeMIbdS8lnFE0U4UckjPB4r4L1LT59KvJrS5jaG4hYpJG6lSrA4IIr9S/+Cav7dXizx94+/4Vz461Bta+1RFtP1G6I81WUco3qCK8W/4KzfA+w+G/xu0/xHpVutpa+JLZriaFFwqSq2Dj69aAPhm3t3upUjjVnkc7VVRkk9gPevtb9n7/AIJW/En4waPb65rN5a+D9KnQSRfa0Zp5FI6hR/Wpf+CV/wCzzp/xg+Md9ruuW63ekeGUjnWFxlZJ2J2j8AM175/wUc/bz8QfDjxhN8M/h/c/2RcWcai/1C3wHjbtHH6YFAHFePP+CM/izTNFkuvDPjOx1m8VNwtLm3aIyewboPxr4D+JHwx8Q/CbxVd+HfE2nTaZqtq22SGRTj6qehHuK+jv2fP+Ci3xR+Fvjm1udb8RXninQriZUvbPUn3/ALs8FlPY195f8FGvg/oHx4/Zrt/idpFvGuq6Xax30F1Go3PbuAWQkdcZ70Afkd8FPhTd/Gr4n6B4LsbyGwu9Xn+zx3NwCY4zgnJA5I47V9Va5/wST+LWkeOtM0KwutP1WxuovOn1hFZILUbiMMG5JwM4HrXjv7BqAftdfDY5znUAeP8Acav1Z/4KPftXax+zH8ONIj8NIq+IdckkhgupAD9nVQCWA7nmgD5duv8AgivrD6KHtviHYtqGM4ltHWIn09etfDv7QH7NfjT9nDxYuieLbEQGUM1tdw5aG4UEjcp98dK9B8C/8FAvjP4Q8Z22vT+Mr/VovOD3NleMGjlXPK46Div0b/4KG6Ppfxo/YltfHNxai21C2gttTtjgFozIACufTmgD8TmXbjnNNp8n3zznvTKACiiigAooooAKKKKACiiigAooooAKKKKACiiigAooooAKKKKACvv7/gir/wAnTeKf+xMuv/S6xr4Br7+/4Iq/8nTeKf8AsTLr/wBLrGgD6q/4LVf8ms+Fv+xztf8A0hvq/Fev2o/4LVf8ms+Fv+xztf8A0hvq/FegAooooAKKKKACiiigAooooAKKKKACiiigAooooAKKKKACiiigAooooAKKKWgBKKsW9qbhTtb5s4C45Nb0Hw7166thPDptxLEedyxnFZyqRi7NnXRwtfEJypQbSOZoq9c6Pc2MhjuY2gcdQ6kGqzQlSRmrTTV0YTpzpy5ZqzIqKf5fzEZ5pfKOCc+1MjfYjoqTyWHJ4FL5PzYDA0eQiKinbaSgBKKkSEv3pTCdxAOTSuMiop8kflnBPNN/nTEJRS0lABRS479qXaf8igBtFLSUAFFFFABRRRQAUUUUAFFFFABRRRQAUUUUAFFFFAHQ/D0/8Vx4eH/URt//AEatftx/wVO8J6h4q/ZL1IWEbSfY7uC7mVR/yzQgmvxG+H3/ACPXh7/sI2//AKNWv6Lfj18Q/BXgDwdbr4+eNfD+sSrpsn2gZiy4/ioA/m5kh3tuVgVPOTx9RX6Ff8Eb/Buqz/GDxL4ligY6TZ6b9mebBAaV2BCj3wCfwr37WP8Agld8FPHmsNreheK7y00W6PnC2sp43h554JOVFejeNvjB8G/+CffwffRfDc9pcar5ZW1srN1luLmYDG+QjoBnvQB8Df8ABXLxNaa9+1ILW2IaTTdKgt52Ug/Pkk9PrXzV+z/8WL34K/FXw94ssXdHsLtHl2HBeLOGX8jWF8T/AB9qXxQ8cat4p1eUzahqVw88jE9MnhR9BxXNQlAPmBwTg+49KAP3c/ay+Bun/tsfAHw7qvhwRS6kJIL2zuFI4R8ecmfpUP7VnjHSf2O/2ORoOiutreNZppFjHGwDNIw+d/5muX/4JH+NPEPiL9nu90/V4JP7N0q7EOm3Mh4ljIJYD6Gvin/gqh+0D/wtD47f8Izp1x5uheGYzboI2yjzscu31HSgD4pvJnuLh5ZHZ5HJdmbqzEnJr2/9h/j9qb4dMf4NURv0rwyRkONoPHrXoHwF8eW/wz+LXhPxLchjBp2pRTzbevlg80AfpB/wWw58N/Dgf3by5B/74r8niuO+c4Nfvf8AtG/ADwl+3t8MvD17pviRbQW7C7tNQtdsoXeo3Ky54Nfkd+2R+zCf2XPiNaeHo9Y/tu1ubYTpdbAuecEYFAH6Bf8ABFf/AJJR45x31aIH6eWa/NT9qpi37RXxCyST/bFwOfZq/R7/AIIy61YaX8K/HAur22tydViIE0yoSBEegJ5r83f2pJFn/aE8eyxsHjk1ed1ZSCCC3rQB23/BP+QJ+1l8O0+YGTUNmR6FTX2f/wAFtFC2Xw3kI+cy3Ck+wA4r4o/YLuI7P9q/4eXM0ixRQ6iHZpGCgDaR1NfZ3/BabVLLV9M+HP2O9t7rZNc7vJlV8fKPQ0AQ/wDBFbxJZW7fEXSZJF+3P5F0sX8RReCR9K+Uv+CjHgzWPDH7WnjebUYnEOpXX2y0kYHDwsBgjPXHSvP/ANmX4+ar+zf8WNK8XaazPBG4jvLdf+W8BPzL+XSv138UeG/gV/wUa+H9hfvq1vb6mi/u5klRL21PXyyG6gUAfh1pmmz6jcRW1upkuLhxBFGoyWYkACv3P+IVqfhj/wAE77vTtdlENzD4ZS2KyHrIwGFHvXJfCn/gnv8ABj9m7XP+Ey8ReI21iSw/fRNrEkccUWO4UH5j718nf8FHv26tP+NU0XgPwZMZPC1nJuurpOFuXBwAn+yBQB4J+weMftafDqQ/w6gGx6/Kf8a+0f8Agtow+x/DTjkPdj8ttfFn7Cs8cX7U3gCaR1jRb/5nkYKAMepr7K/4LSahZ6rY/DprO7guljlu95glV9uduM4PtQB+XK/6sn2/wr9tv2jlDf8ABMmI9f8AiQ2J/lX4lKucoDkngY9yK/av9oLWLC6/4JqLaR39s1yuhWaeSsyl8jGeM0AfifIeRTafIMN+GaZQAUUUUAFFFFABRRRQAUUUUAFFFFABRRRQAUUUUAFFFFABRRRQAV9/f8EVf+TpvFP/AGJl1/6XWNfANff3/BFX/k6bxT/2Jl1/6XWNAH1V/wAFqv8Ak1nwt/2Odr/6Q31fivX7Uf8ABar/AJNZ8Lf9jna/+kN9X4r0AFFFFABRRRQAUUUUAFFFFABRRRQAUUUUAFFFFABRRRQAUUUUAFFFFABS4opQ3SgOp678GfDdkun6p4h1OFZ7XTl3LEw4ducCquqfHLxBNqDtb3BtLZGwlvCoCgdhW18IZj4h8B+IPD0RAu5AJYV/vcHNeXX2g3NvdSxTo0UyNt2sDnNeUlCdaXtD9CrVq+Ey/DywKeu9l1PWtSmtfix4BvNT+zrDrOnDdK0a48xfX68V5Ra+E9R1DRb3VIYt1pasFlfPQnpXq/gexl8D/DPXNQv/ANx/aCeRCjjBPB5rP8GA3Xwq8UrGNw8yPIB9jzU06jhzJbXOvH4H677GVbSo4XZ5t4f8I6h4mF21hF532WMyyYPRRXZ/B/4dR+LNUnfUYGlsI1ZWZTj58cCtr4JW5tbTxOxBTNi67vTg1X+Bt5MvjaS3Dt9naGRjHnjIXrirqYicoyUXscmX5Xh6NXDTxEbqbd0cn40+HWo+F76GCWDy47lj5HzA5Gas2/wU8UTTmNLEhgASXYAcjIqrqmp3Nx4uAnnklEdwVUOxIUZ7V6J8cdc1az1rT7eCaWK0NvGylSRuOOtL29WLjFPdDjl2X1liK7jK0ZWSR5P4m8F6n4UuFh1CBomPTjg/Q1HqPhG/03w/Z6tPFttLokRvnrjrXq/iGafVvg3aXerZe6iuSkEj/eK+n0qj4wi8/wCDfhnYpYCV+nQVrTxEmveMMTkuHjKo6N7ct0nuedWvhHUZPDcuuJDusI5PLaTPQ/SvQ/AnwpHiLwTqV9NaNJeSAGzk3Y56GptLheH4D3yyKyhrsEccdKm+GOoXR+G/iorK4EEa+X8x+X6elc1avOUW4PZndluV4ShiILExupwvbzPKPFnhy88L6o9jfJsuIxyoIOKyVjLAYGSau6zdSXl0ZJ5WllPLNIxJP51DZsI2WTPK4OK9SN1FX3Pga6pfWGoK0bjb7TrjT9guIniLDI3jGRVX6V1nj7xhe+Ln097yJYjbQiFNq7cj1rk+maqLbWpGIpxp1HGGxYsbOS/uoreJC8sriNFHUsTgD86/QvxR/wAE4dZvP2VvBGpeH/CjD4jXEzS6n5l0qjyMZB5OOlfnjDK0EiyIzK6nIKnBB7Ee9for8Y/HXiK1/wCCbfwn1a317UYtSm1OSKS8juWWR1HG0tnpirOY/PXXtEuvDer3emX0fk3lrK0UyZzhgcEZrPqxfTy3U7zTu0szsWeRyWLHPXPeq9ABRRRQAUUUUAFFFFABRRRQAUUUUAFFFFABRRRQB0Hw/wD+R68Pf9hG3/8ARi1+yX/BXyQf8Mv2PRv+JtB39VPNfi5oerPoesWWoRKrS2syToGHG5SCP1FfSv7RX/BQbx1+0n4BXwj4j03TINPS4WdZLZCJMrnHP40AeA2PxE8S6Pbm2stf1S1gzjyo7uRRj6A1i32rXWpzNLdzy3MjHJeaQu35mqrtu5PJz1ptADnbeRWr4U8OXvizxBp2kaehlvL64S2iRRklmOKyK7r4L/Fa6+CvxA03xdYadaalfae/mQxXq5jDdjigD9r/ABFf6T+wp+xSLeNo4r6y03yYQhwZb2VeSM+9fhPr+rXGu6tdX927S3d1K80ztyS7HJNe+ftMftzeO/2pNH03SfEkNnY6dZSGfyLEFRI/Ytn0r50Ztx5OT3zQA2nI2zn8x602igDsfDHxe8ZeC7RrXRPE2qaXat1t7a6ZExjHQGsTxB4q1bxVdC61jUrvUrnG3zLuZpGA9ATWTRQBpaZ4g1LR1dbG/urMMdxFvMyAn14NU7q6kvJmlldpJGJZpHJLMT3JqGigCezvZ7C4Se2meCZDlZI2KsD9RVnUde1DVRGLu9ubpUOVW4laTBPUjJrPooAeH2rgZx1q9o/iDUdBnE+nXtxYzD+O2laP8eDWdRQB0mrfEPxHr8Qi1TXNSv4h/BPdO4P5muekk8zHbHbsKZRQBZsb6bTplntpZIJ0OUkiYqyn2IqzqHiC/wBVVReXlzd7clfPmZ8E9SMms2igCRXVcfLk4IOfpWi/ijVZbP7JJqN5JaEKphadim0dsZxWVRQA5iD0GKbRRQAUUUUAFFFFABRRRQAUUUUAFFFFABRRRQAUUUUAFFFFABRRRQAV9/f8EVf+TpvFP/YmXX/pdY18A19/f8EVf+TpvFP/AGJl1/6XWNAH1V/wWq/5NZ8Lf9jna/8ApDfV+K9ftR/wWq/5NZ8Lf9jna/8ApDfV+K9ABRRRQAUUUUAFFFFABRRRQAUUUUAFFFFABRRRQAUUUUAFFFFABRRRQAUUUUAbHh3xBd+HbpbyymaC4jYFWU16Wvx7E0Svd+H7C7u1H/Hw0eGJ9TXj6SbQQRmkZgegrnnRhUd2j2cJm2LwMHTpT91nXeMPiNqXjS5RrxtsEf3LePhF/Cp/AfxCuPBsl0iQR3drcDEtvMPkauM3KF4B3UvnbWJUYzVexhyciRksyxSr/Wua8z1hvjaLW1u7ax0OzsIbiNo2WIcnPfNch4N8WTeE9ei1SNBJwQ0Z7g8EVyzTA44PvzTmmTcNoYfU1HsIRTXc6amcYypOFWUtYbHceI/FGleJPEthcafpa6b84EoRs+YxPWvUfif8QIfDOsRafd6TaapGII3TzxynHY186xzGOZZFJDKcgjtV7VNeudYmE13LJcS7du6Q5OKznhVKcX0R6OH4grUaFaKS5ptM6bxv8Rrrxgtvb+SlnZwj91bxcKKveFvio/h/RP7JvNOt9Vs1fekVyOFPtXnTSZxjgCl8wE5cE/StfYxtynlrNsX7d1nLVqx6Z4k+MEuteG5dGj0y2tbZ23IsIx5fsKzvh/8AENPCMV9aXVmt9Y3ahZIWOM4rg2kyenHak3Uvq8FHlQ5Zxip1lXlLVKxr+KNSs9U1aa4sbMWVsx+WEHOKzrRjFIr7d21gcHoahyNvvSrIVzW1tLHkyqSlPn6s6bx14yHjCWxcWUFl9mhEW2BcBvc+9ctTnYNjAptUtgq1HUm5S3FUjoc49q+s/hH+2toXhv4GwfDDx/8AD638caLYySS6c8kvltbsw6+/NfJdGKZkXtavINQ1S6uLW2FnbSSs8dupyI1JyFH0qjRRQAUUUUAFFFFABRRRQAUUUUAFFFFABRRRQAUUUUAFLRTvL6nPAoAZRTtpxmhlwAc5oHYbRT1UMOWxRs680CGUU8xkAe9DRlce9C1AZRRRQAUU4Llc5xRsI68UDsNop5j4yDkUbPekFhlFSCPOPmGKR4yhAzRcQyinbeDSY96YxKKe0eOc5oKYOCRSuIZRTmXHfNJTHa2glFPEfTmh49pwDmlcNnZjKKUjFJTEFFFFABRRRQAUUUUAFFFFABRRRQAUUUUAFFFFABRRRQAUUUUAFff3/BFX/k6bxT/2Jl1/6XWNfANff3/BFX/k6bxT/wBiZdf+l1jQB9Vf8Fqv+TWfC3/Y52v/AKQ31fivX7Uf8Fqv+TWfC3/Y52v/AKQ31fivQAUUUUAFFFFABRRRQAUUUUAFFFFABRRRQAUUUUAFFFFABRRRQAUUUUAFFFFABRRRQAUUUUAFFFFABRRRQAUUUUAFFFFABRRRQAUUUUAFFFFABRRRQAUUUUAFFFFABRRRQAUUUUAFFFFABRRRQAUUUtADl+6R3qWGFmbAGT3q94fj0yS4/wCJnLNFBxzCAT+tdf4a0nw9qHjbS7WwmuJrOST96LoBc+gGKznNxi9Dvw+GVWcU3uzO8ReCk0Dw/pd1LOf7QuwXNuB9xOxJ9649lGTX0SupDxpr1/pGq6ZDHbxxyIkmzBhCA7Tmvn++jCXUiBsqpIB9RXPh6spLU9bOsBSwjjKk7pldAfLJAyKfCNwC9yaLZoxIiykiLcN23riuo1GDw2tnu024vXvMr8siAJ710N2ueJTp+0s2zorb4b6Fb+G7DUNU1qS0uLyNnSJId44OOTXnF/ClvdOkbFowSFYjGR617L4f8TarGdJ0PUNIimtgoiVJIcsyMeWBNeZePNNt9J8U6ha2rboIZWVf8Kwo1JOTTPfzTC0adGM6Jz6rmk2nmnKdrA9K6uGHwvJpQEl1fi+2/dCLs3fWupux83Tp8/UwdK0+XUp1t4IzJLIwVQoySfSul+IXgF/A5sEkm82W4gEzrj7hP8Ndn8HfCpt9NvddXyZrtMpaxvIoKnHL8ntVj41eHb+TR9Jvrl4mEFvtlPmAsWJJ/GvOliP36gj7Klk8I5VLFS1keKf6zgcU6MI20MSOecVY02O0a8T7Y7x22fmMYBb8K3tYsdBmNrHoU15cXUjhdtygUDPpiu658hCimlJM63Tfhx4e1Xw3c38GtyE28PmSboMKG/u5zya8ruIzFKRnIHQn0r2b4dyajp1wPCup2Als5nJmjZcEDH3t1eT+JbWKz1m8hhbdFHMyq3qAeKwoybm0z6LNKNKOHpVIRs7amYuevan7VbGDRDtLKHJC55K9a6y7t/C39kKba5v21DGSsiAJmuh6HzdOnzy3Nnw/8M7O80m0utS1eHT3vc/Z4ypct2ycHjmuR8UeG7jwrq81jc48yM87eQR2Ndp4D8O7bX+3tZkkGlWh/dR5+aVuoVfbNcn428RTeJPEFxfXCbGkPCDsOw/KuWE+abij6LGUKUMFGco2l0OefntigIScHgfSnLyQc4Irp9Jh8MSaaG1G5v0vOcrBGpQ+nJrsPnYU092avhLwPp/iLwrql8dRaK/sozN9mEedyj3rg5PlbH93ivVfhZsGh+L/ACdzRrYsAxHOCe9eWXCjzGxxWFOV5yTPWxtKFPD0px3a1Im6Cm0tJXQeHsFFFFABRRRQAUUUUAFFFFABRRRQAUUUUAFFFFABRRRQAUUUUAFff3/BFX/k6bxT/wBiZdf+l1jXwDX39/wRV/5Om8U/9iZdf+l1jQB9Vf8ABar/AJNZ8Lf9jna/+kN9X4r1+1H/AAWq/wCTWfC3/Y52v/pDfV+K9ABRRRQAUUUUAFFFFABRRRQAUUUUAFFFFABRRRQAUUUUAFFFFABRRRQAUUUUAFFFFABRRRQAUUUUAFFFFABRRRQAUUUUAFFFFABRRRQAUUUUAFFFFABRRRQAUUUUAFFFFABRRRQAUUUUAFFFFABRRRQBJG23OBmrFjqEthcJNCzJIjBlZeCDVVSOcik71LV9GaQqOEuaO53OqfFzX9S017OS5CRyLtdkQBn+pri2kJyT1qMsD2pKSgo7GtfEVcRb2juAJqRZDHgr1+tR54NGapo51Jxd0d3p/wAYfEWnaWlnHeBkjXbHI6BnUegNcZeXT307zSMXdyWZmOSSepqupxQzVKglqjoqYipUioyeg8EN1o3Y6cUw+1GTTObWOxetb6a3Q7JWRc/dzxWjrnjC/wDEVraQXT5S1Ty02jHHXn1rB3ClV9ucCo9nG97anUsVXjTdNS07D1Y7SMZJ9adbs8cgZWIZTkEHpUQcbenNHmHORWjRzp8qutzuZPi94hbTRZtdAYXb5uweZj03VxE0xmkLMSxJzzTd49KbUqKR0VcTVrJRm9hd2BxT45CpqKnbqZzqTi9D0bSvjNrWm6Pb6eiWslvAMIslurfnkVyHijxJdeKNSa9u1jWVhgiKMIPyFZKybRTWOaiNNRba6ndWxtavTVKb91CljxRuOByTSUlannm7oPi698O2moQ2jKq3sXkygjqtYxbcM96jpeKSitWaTqSnFRb0QUlOZs4ptMzCiiigAooooAKKKKACiiigAooooAKKKKACiiigAooooAKKKKACvv7/AIIq/wDJ03in/sTLr/0usa+Aa+/v+CKv/J03in/sTLr/ANLrGgD6q/4LVf8AJrPhb/sc7X/0hvq/Fev2o/4LVf8AJrPhb/sc7X/0hvq/FegAooooAKKKKACiiigAooooAKKKKACiiigAooooAKKKKACiiigAooooAKKKKACiiigAooooAKKKKACiiigAooooAKKKKACiiigAooooAKKKKACiiigAooooAKKKKACiiigAooooAKKKKACiiigAooooAKKKKACiiigAooooAKKKKACiiigAooooAKKKKACiiigAooooAKKKKACiiigAooooAKKKKACiiigAooooAKKKKACiiigAooooAKKKKACiiigAooooAKKKKACvv7/gir/ydN4p/wCxMuv/AEusa+Aa+/v+CKv/ACdN4p/7Ey6/9LrGgD6q/wCC1X/JrPhb/sc7X/0hvq/Fev2o/wCC1X/JrPhb/sc7X/0hvq/FegAooooAKKKKACiiigAooooAKKKKACiiigAooooAKKKKACiiigAooooAKKKKACiiigAooooAKKKKACiiigAooooAKKKKACiiigAooooAKKKKACiiigAooooAKKKKACiiigAooooA/9k=)"
      ]
    },
    {
      "cell_type": "code",
      "metadata": {
        "colab": {
          "base_uri": "https://localhost:8080/"
        },
        "id": "8FX_wxi1MVvg",
        "outputId": "02d907d0-64db-49cf-b4f3-eab5f1703fc4"
      },
      "source": [
        "# string indexing\n",
        "\n",
        "x = \"python\"\n",
        "print(x[2])"
      ],
      "execution_count": null,
      "outputs": [
        {
          "output_type": "stream",
          "text": [
            "t\n"
          ],
          "name": "stdout"
        }
      ]
    },
    {
      "cell_type": "markdown",
      "metadata": {
        "id": "rmNTCOWuwIrD"
      },
      "source": [
        "#### **7.17) slicing**"
      ]
    },
    {
      "cell_type": "markdown",
      "metadata": {
        "id": "UKOaXRDeY--W"
      },
      "source": [
        "![1.JPG](data:image/jpeg;base64,/9j/4AAQSkZJRgABAQEAYABgAAD/4REiRXhpZgAATU0AKgAAAAgABAE7AAIAAAAdAAAISodpAAQAAAABAAAIaJydAAEAAAA6AAAQ4OocAAcAAAgMAAAAPgAAAAAc6gAAAAgAAAAAAAAAAAAAAAAAAAAAAAAAAAAAAAAAAAAAAAAAAAAAAAAAAAAAAAAAAAAAAAAAAAAAAAAAAAAAAAAAAAAAAAAAAAAAAAAAAAAAAAAAAAAAAAAAAAAAAAAAAAAAAAAAAAAAAAAAAAAAAAAAAAAAAAAAAAAAAAAAAAAAAAAAAAAAAAAAAAAAAAAAAAAAAAAAAAAAAAAAAAAAAAAAAAAAAAAAAAAAAAAAAAAAAAAAAAAAAAAAAAAAAAAAAAAAAAAAAAAAAAAAAAAAAAAAAAAAAAAAAAAAAAAAAAAAAAAAAAAAAAAAAAAAAAAAAAAAAAAAAAAAAAAAAAAAAAAAAAAAAAAAAAAAAAAAAAAAAAAAAAAAAAAAAAAAAAAAAAAAAAAAAAAAAAAAAAAAAAAAAAAAAAAAAAAAAAAAAAAAAAAAAAAAAAAAAAAAAAAAAAAAAAAAAAAAAAAAAAAAAAAAAAAAAAAAAAAAAAAAAAAAAAAAAAAAAAAAAAAAAAAAAAAAAAAAAAAAAAAAAAAAAAAAAAAAAAAAAAAAAAAAAAAAAAAAAAAAAAAAAAAAAAAAAAAAAAAAAAAAAAAAAAAAAAAAAAAAAAAAAAAAAAAAAAAAAAAAAAAAAAAAAAAAAAAAAAAAAAAAAAAAAAAAAAAAAAAAAAAAAAAAAAAAAAAAAAAAAAAAAAAAAAAAAAAAAAAAAAAAAAAAAAAAAAAAAAAAAAAAAAAAAAAAAAAAAAAAAAAAAAAAAAAAAAAAAAAAAAAAAAAAAAAAAAAAAAAAAAAAAAAAAAAAAAAAAAAAAAAAAAAAAAAAAAAAAAAAAAAAAAAAAAAAAAAAAAAAAAAAAAAAAAAAAAAAAAAAAAAAAAAAAAAAAAAAAAAAAAAAAAAAAAAAAAAAAAAAAAAAAAAAAAAAAAAAAAAAAAAAAAAAAAAAAAAAAAAAAAAAAAAAAAAAAAAAAAAAAAAAAAAAAAAAAAAAAAAAAAAAAAAAAAAAAAAAAAAAAAAAAAAAAAAAAAAAAAAAAAAAAAAAAAAAAAAAAAAAAAAAAAAAAAAAAAAAAAAAAAAAAAAAAAAAAAAAAAAAAAAAAAAAAAAAAAAAAAAAAAAAAAAAAAAAAAAAAAAAAAAAAAAAAAAAAAAAAAAAAAAAAAAAAAAAAAAAAAAAAAAAAAAAAAAAAAAAAAAAAAAAAAAAAAAAAAAAAAAAAAAAAAAAAAAAAAAAAAAAAAAAAAAAAAAAAAAAAAAAAAAAAAAAAAAAAAAAAAAAAAAAAAAAAAAAAAAAAAAAAAAAAAAAAAAAAAAAAAAAAAAAAAAAAAAAAAAAAAAAAAAAAAAAAAAAAAAAAAAAAAAAAAAAAAAAAAAAAAAAAAAAAAAAAAAAAAAAAAAAAAAAAAAAAAAAAAAAAAAAAAAAAAAAAAAAAAAAAAAAAAAAAAAAAAAAAAAAAAAAAAAAAAAAAAAAAAAAAAAAAAAAAAAAAAAAAAAAAAAAAAAAAAAAAAAAAAAAAAAAAAAAAAAAAAAAAAAAAAAAAAAAAAAAAAAAAAAAAAAAAAAAAAAAAAAAAAAAAAAAAAAAAAAAAAAAAAAAAAAAAAAAAAAAAAAAAAAAAAAAAAAAAAAAAAAAAAAAAAAAAAAAAAAAAAAAAAAAAAAAAAAAAAAAAAAAAAAAAAAAAAAAAAAAAAAAAAAAAAAAAAAAAAAAAAAAAAAAAAAAAAAAAAAAAAAAAAAAAAAAAAAAAAAAAAAAAAAAAAAAAAAAAAAAAAAAAAAAAAAAAAAAAAAAAAAAAAAAAAAAAAAAAAAAAAAAAAAAAAAAAAAAAAAAAAAAAAAAAAAAAAAAAAAAAAAAAAAAAAAAAAAAAAAAAAAAAAAAAAAAAAAAAAAAAAAAAAAAAAAAAAAAAAAAAAAAAAAAAAAAAAAAAAAAAAAAAAAAAAAAAAAAAAAAAAAAAAAAAAAAAAAAAAAAAAAAAAAAAAAAAAAAAAAAAAAAAAAAAAAAAAAAAAAAAAAAAAAAAAAAAAAAAAAAAAAAAAAAAAAAAAAAAAAAAAAAAAAAAAAAAAAAAAAAAAAAAAAAAAAAAAAAAAAAAAAAAAAAAAAAAAAAAAAAAAAAAAAAAAAAAAAAAAAAAAAAAAAAAAAAAAAAAAAAAAAAAAAAAAAAAAAAAAAAAAAAAAAAAAAAAAAAAAAAAAAAAAAAAAAAAAAAAAAAAAAAAAAAAAAAAAAAAAAAAAAAAAAAAAAAAAAAAAAAAAAAAAAAAAAAAAAAAAAAAAAAAAAAAAAAAAAAAAAAAAAAAAAAAAAAAAAAAAAAAAAAAAAAAAAAAAAAAAAAAAAAAAAAAAAAAAAAAAAAAAAAAAAAAAAAAAAAAAAAAAAAAAAAAAAAAAAAAAAAAAAAAAAAAAAAAAAAAAAAAAAAAAAAAAAAAAAAAAAAAAAAAAAAAAAAAAAAAAAAAAAAAAAAAAAAAAAAAAAAAAAAAAAAAAAAAAAAAAAAAAAAAAAAAAAAAAAAAAAAAAAAAAAAAAAAAAAAAAAAAAAAAAAAAAAAAAAAAAAAAAAAAAAAAAAAAAAAAAAAAAAAAAAAAAAAAAAAAAAAAAAAAAAAAAAAAAAAAAAAAAAAAAAAAAAAAAAAAAAAAAAAAAAAAAAAAAAAAAAAAAAAAAAAAAAAAAAAAAAAAAAAAAAAAAAAAAAAAAAAAAAAAAAAAAAAAAAAAAAAAAAAAAAAAAAAAAAAAAAAAAAAAAAAAAAAAAAAAAAAAAAAAAAAAAAAAEFudWdhbnRpIFN1cmVzaCAoQ29uc3VsdGFudCkAAAAFkAMAAgAAABQAABC2kAQAAgAAABQAABDKkpEAAgAAAAMyMAAAkpIAAgAAAAMyMAAA6hwABwAACAwAAAiqAAAAABzqAAAACAAAAAAAAAAAAAAAAAAAAAAAAAAAAAAAAAAAAAAAAAAAAAAAAAAAAAAAAAAAAAAAAAAAAAAAAAAAAAAAAAAAAAAAAAAAAAAAAAAAAAAAAAAAAAAAAAAAAAAAAAAAAAAAAAAAAAAAAAAAAAAAAAAAAAAAAAAAAAAAAAAAAAAAAAAAAAAAAAAAAAAAAAAAAAAAAAAAAAAAAAAAAAAAAAAAAAAAAAAAAAAAAAAAAAAAAAAAAAAAAAAAAAAAAAAAAAAAAAAAAAAAAAAAAAAAAAAAAAAAAAAAAAAAAAAAAAAAAAAAAAAAAAAAAAAAAAAAAAAAAAAAAAAAAAAAAAAAAAAAAAAAAAAAAAAAAAAAAAAAAAAAAAAAAAAAAAAAAAAAAAAAAAAAAAAAAAAAAAAAAAAAAAAAAAAAAAAAAAAAAAAAAAAAAAAAAAAAAAAAAAAAAAAAAAAAAAAAAAAAAAAAAAAAAAAAAAAAAAAAAAAAAAAAAAAAAAAAAAAAAAAAAAAAAAAAAAAAAAAAAAAAAAAAAAAAAAAAAAAAAAAAAAAAAAAAAAAAAAAAAAAAAAAAAAAAAAAAAAAAAAAAAAAAAAAAAAAAAAAAAAAAAAAAAAAAAAAAAAAAAAAAAAAAAAAAAAAAAAAAAAAAAAAAAAAAAAAAAAAAAAAAAAAAAAAAAAAAAAAAAAAAAAAAAAAAAAAAAAAAAAAAAAAAAAAAAAAAAAAAAAAAAAAAAAAAAAAAAAAAAAAAAAAAAAAAAAAAAAAAAAAAAAAAAAAAAAAAAAAAAAAAAAAAAAAAAAAAAAAAAAAAAAAAAAAAAAAAAAAAAAAAAAAAAAAAAAAAAAAAAAAAAAAAAAAAAAAAAAAAAAAAAAAAAAAAAAAAAAAAAAAAAAAAAAAAAAAAAAAAAAAAAAAAAAAAAAAAAAAAAAAAAAAAAAAAAAAAAAAAAAAAAAAAAAAAAAAAAAAAAAAAAAAAAAAAAAAAAAAAAAAAAAAAAAAAAAAAAAAAAAAAAAAAAAAAAAAAAAAAAAAAAAAAAAAAAAAAAAAAAAAAAAAAAAAAAAAAAAAAAAAAAAAAAAAAAAAAAAAAAAAAAAAAAAAAAAAAAAAAAAAAAAAAAAAAAAAAAAAAAAAAAAAAAAAAAAAAAAAAAAAAAAAAAAAAAAAAAAAAAAAAAAAAAAAAAAAAAAAAAAAAAAAAAAAAAAAAAAAAAAAAAAAAAAAAAAAAAAAAAAAAAAAAAAAAAAAAAAAAAAAAAAAAAAAAAAAAAAAAAAAAAAAAAAAAAAAAAAAAAAAAAAAAAAAAAAAAAAAAAAAAAAAAAAAAAAAAAAAAAAAAAAAAAAAAAAAAAAAAAAAAAAAAAAAAAAAAAAAAAAAAAAAAAAAAAAAAAAAAAAAAAAAAAAAAAAAAAAAAAAAAAAAAAAAAAAAAAAAAAAAAAAAAAAAAAAAAAAAAAAAAAAAAAAAAAAAAAAAAAAAAAAAAAAAAAAAAAAAAAAAAAAAAAAAAAAAAAAAAAAAAAAAAAAAAAAAAAAAAAAAAAAAAAAAAAAAAAAAAAAAAAAAAAAAAAAAAAAAAAAAAAAAAAAAAAAAAAAAAAAAAAAAAAAAAAAAAAAAAAAAAAAAAAAAAAAAAAAAAAAAAAAAAAAAAAAAAAAAAAAAAAAAAAAAAAAAAAAAAAAAAAAAAAAAAAAAAAAAAAAAAAAAAAAAAAAAAAAAAAAAAAAAAAAAAAAAAAAAAAAAAAAAAAAAAAAAAAAAAAAAAAAAAAAAAAAAAAAAAAAAAAAAAAAAAAAAAAAAAAAAAAAAAAAAAAAAAAAAAAAAAAAAAAAAAAAAAAAAAAAAAAAAAAAAAAAAAAAAAAAAAAAAAAAAAAAAAAAAAAAAAAAAAAAAAAAAAAAAAAAAAAAAAAAAAAAAAAAAAAAAAAAAAAAAAAAAAAAAAAAAAAAAAAAAAAAAAAAAAAAAAAAAAAAAAAAAAAAAAAAAAAAAAAAAAAAAAAAAAAAAAAAAAAAAAAAAAAAAAAAAAAAAAAAAAAAAAAAAAAAAAAAAAAAAAAAAAAAAAAAAAAAAAAAAAAAAAAAAAAAAAAAAAAAAAAAAAAAAAAAAAAAAAAAAAAAAAAAAAAAAAAAAAAAAAAAAAAAAAAAAAAAAAAAAAAAAAAAAAAAAAAAAAAAAAAAAAAAAAAAAAAAAAAAAAAAAAAAAAAAAAAAAAAAAAAAAAAAAAAAAAAAAAAAAAAAAAAAAAAAAAAAAAAAAAAAAAAAAAAAAAAAAAAAAAAAAAAAAAAAAAAAAAAAAAAAAAAAAAAAAAAAAAAAAAAAAAAAAAAAAAAAAAAAAAAAAAAAAAAAAAAAAAAAAAAAAAAAAAAAAAAAAAAAAAAAAAAAAAAAAAAAAAAAAAAAAAAAAAAAAAAAAAAAAAAAAAAAAAAAAAAAAAAAAAAAAAAAAAAAAAAAAAAAAAAAAAAAAAAAAAAAAAAAAAAAAAAAAAAAAAAAAAAAAAAAAAAAAAAAAAAAAAAAAAAAAAAAAAAAAAAAAAAAAAAAAAAAAAAAAAAAAAAAAAAAAAAAAAAAAAAAAAAAAAAAAAAAAAAAAAAAAAAAAAAAAAAAAAAAAAAAAAAAAAAAAAAAAAAAAAAAAAAAAAAAAAAAAAAAAAAAAAAAAAAAAAAAAAAAAAAAAAAAAAAAAAAAAAAAAAAAAAAAAAAAAAAAAAAAAAAAAAAAAAAAAAAAAAAAAAAAAAAAAAAAAAAAAAAAAAAAAAAAAAAAAAAAAAMjAyMTowNzoxMSAxNzoxNDozNgAyMDIxOjA3OjExIDE3OjE0OjM2AAAAQQBuAHUAZwBhAG4AdABpACAAUwB1AHIAZQBzAGgAIAAoAEMAbwBuAHMAdQBsAHQAYQBuAHQAKQAAAP/hCy9odHRwOi8vbnMuYWRvYmUuY29tL3hhcC8xLjAvADw/eHBhY2tldCBiZWdpbj0n77u/JyBpZD0nVzVNME1wQ2VoaUh6cmVTek5UY3prYzlkJz8+DQo8eDp4bXBtZXRhIHhtbG5zOng9ImFkb2JlOm5zOm1ldGEvIj48cmRmOlJERiB4bWxuczpyZGY9Imh0dHA6Ly93d3cudzMub3JnLzE5OTkvMDIvMjItcmRmLXN5bnRheC1ucyMiPjxyZGY6RGVzY3JpcHRpb24gcmRmOmFib3V0PSJ1dWlkOmZhZjViZGQ1LWJhM2QtMTFkYS1hZDMxLWQzM2Q3NTE4MmYxYiIgeG1sbnM6ZGM9Imh0dHA6Ly9wdXJsLm9yZy9kYy9lbGVtZW50cy8xLjEvIi8+PHJkZjpEZXNjcmlwdGlvbiByZGY6YWJvdXQ9InV1aWQ6ZmFmNWJkZDUtYmEzZC0xMWRhLWFkMzEtZDMzZDc1MTgyZjFiIiB4bWxuczp4bXA9Imh0dHA6Ly9ucy5hZG9iZS5jb20veGFwLzEuMC8iPjx4bXA6Q3JlYXRlRGF0ZT4yMDIxLTA3LTExVDE3OjE0OjM2LjE5ODwveG1wOkNyZWF0ZURhdGU+PC9yZGY6RGVzY3JpcHRpb24+PHJkZjpEZXNjcmlwdGlvbiByZGY6YWJvdXQ9InV1aWQ6ZmFmNWJkZDUtYmEzZC0xMWRhLWFkMzEtZDMzZDc1MTgyZjFiIiB4bWxuczpkYz0iaHR0cDovL3B1cmwub3JnL2RjL2VsZW1lbnRzLzEuMS8iPjxkYzpjcmVhdG9yPjxyZGY6U2VxIHhtbG5zOnJkZj0iaHR0cDovL3d3dy53My5vcmcvMTk5OS8wMi8yMi1yZGYtc3ludGF4LW5zIyI+PHJkZjpsaT5BbnVnYW50aSBTdXJlc2ggKENvbnN1bHRhbnQpPC9yZGY6bGk+PC9yZGY6U2VxPg0KCQkJPC9kYzpjcmVhdG9yPjwvcmRmOkRlc2NyaXB0aW9uPjwvcmRmOlJERj48L3g6eG1wbWV0YT4NCiAgICAgICAgICAgICAgICAgICAgICAgICAgICAgICAgICAgICAgICAgICAgICAgICAgICAgICAgICAgICAgICAgICAgICAgICAgICAgICAgICAgICAgICAgICAgICAgICAgICAKICAgICAgICAgICAgICAgICAgICAgICAgICAgICAgICAgICAgICAgICAgICAgICAgICAgICAgICAgICAgICAgICAgICAgICAgICAgICAgICAgICAgICAgICAgICAgICAgICAgIAogICAgICAgICAgICAgICAgICAgICAgICAgICAgICAgICAgICAgICAgICAgICAgICAgICAgICAgICAgICAgICAgICAgICAgICAgICAgICAgICAgICAgICAgICAgICAgICAgICAgCiAgICAgICAgICAgICAgICAgICAgICAgICAgICAgICAgICAgICAgICAgICAgICAgICAgICAgICAgICAgICAgICAgICAgICAgICAgICAgICAgICAgICAgICAgICAgICAgICAgICAKICAgICAgICAgICAgICAgICAgICAgICAgICAgICAgICAgICAgICAgICAgICAgICAgICAgICAgICAgICAgICAgICAgICAgICAgICAgICAgICAgICAgICAgICAgICAgICAgICAgIAogICAgICAgICAgICAgICAgICAgICAgICAgICAgICAgICAgICAgICAgICAgICAgICAgICAgICAgICAgICAgICAgICAgICAgICAgICAgICAgICAgICAgICAgICAgICAgICAgICAgCiAgICAgICAgICAgICAgICAgICAgICAgICAgICAgICAgICAgICAgICAgICAgICAgICAgICAgICAgICAgICAgICAgICAgICAgICAgICAgICAgICAgICAgICAgICAgICAgICAgICAKICAgICAgICAgICAgICAgICAgICAgICAgICAgICAgICAgICAgICAgICAgICAgICAgICAgICAgICAgICAgICAgICAgICAgICAgICAgICAgICAgICAgICAgICAgICAgICAgICAgIAogICAgICAgICAgICAgICAgICAgICAgICAgICAgICAgICAgICAgICAgICAgICAgICAgICAgICAgICAgICAgICAgICAgICAgICAgICAgICAgICAgICAgICAgICAgICAgICAgICAgCiAgICAgICAgICAgICAgICAgICAgICAgICAgICAgICAgICAgICAgICAgICAgICAgICAgICAgICAgICAgICAgICAgICAgICAgICAgICAgICAgICAgICAgICAgICAgICAgICAgICAKICAgICAgICAgICAgICAgICAgICAgICAgICAgICAgICAgICAgICAgICAgICAgICAgICAgICAgICAgICAgICAgICAgICAgICAgICAgICAgICAgICAgICAgICAgICAgICAgICAgIAogICAgICAgICAgICAgICAgICAgICAgICAgICAgICAgICAgICAgICAgICAgICAgICAgICAgICAgICAgICAgICAgICAgICAgICAgICAgICAgICAgICAgICAgICAgICAgICAgICAgCiAgICAgICAgICAgICAgICAgICAgICAgICAgICAgICAgICAgICAgICAgICAgICAgICAgICAgICAgICAgICAgICAgICAgICAgICAgICAgICAgICAgICAgICAgICAgICAgICAgICAKICAgICAgICAgICAgICAgICAgICAgICAgICAgICAgICAgICAgICAgICAgICAgICAgICAgICAgICAgICAgICAgICAgICAgICAgICAgICAgICAgICAgICAgICAgICAgICAgICAgIAogICAgICAgICAgICAgICAgICAgICAgICAgICAgICAgICAgICAgICAgICAgICAgICAgICAgICAgICAgICAgICAgICAgICAgICAgICAgICAgICAgICAgICAgICAgICAgICAgICAgCiAgICAgICAgICAgICAgICAgICAgICAgICAgICAgICAgICAgICAgICAgICAgICAgICAgICAgICAgICAgICAgICAgICAgICAgICAgICAgICAgICAgICAgICAgICAgICAgICAgICAKICAgICAgICAgICAgICAgICAgICAgICAgICAgICAgICAgICAgICAgICAgICAgICAgICAgICAgICAgICAgICAgICAgICAgICAgICAgICAgICAgICAgICAgICAgICAgICAgICAgIAogICAgICAgICAgICAgICAgICAgICAgICAgICAgICAgICAgICAgICAgICAgICAgICAgICAgICAgICAgICAgICAgICAgICAgICAgICAgICAgICAgICAgICAgICAgICAgICAgICAgCiAgICAgICAgICAgICAgICAgICAgICAgICAgICAgICAgICAgICAgICAgICAgICAgICAgICAgICAgICAgICAgICAgICAgICAgICAgICAgICAgICAgICAgICAgICAgICAgICAgICAKICAgICAgICAgICAgICAgICAgICAgICAgICAgICAgICAgICAgICAgICAgICAgICAgICAgICAgICAgICAgICAgICAgICAgICAgICAgICAgICAgICAgICAgICAgICAgICAgICAgIAogICAgICAgICAgICAgICAgICAgICAgICAgICAgPD94cGFja2V0IGVuZD0ndyc/Pv/bAEMABwUFBgUEBwYFBggHBwgKEQsKCQkKFQ8QDBEYFRoZGBUYFxseJyEbHSUdFxgiLiIlKCkrLCsaIC8zLyoyJyorKv/bAEMBBwgICgkKFAsLFCocGBwqKioqKioqKioqKioqKioqKioqKioqKioqKioqKioqKioqKioqKioqKioqKioqKioqKv/AABEIAhoB7wMBIgACEQEDEQH/xAAfAAABBQEBAQEBAQAAAAAAAAAAAQIDBAUGBwgJCgv/xAC1EAACAQMDAgQDBQUEBAAAAX0BAgMABBEFEiExQQYTUWEHInEUMoGRoQgjQrHBFVLR8CQzYnKCCQoWFxgZGiUmJygpKjQ1Njc4OTpDREVGR0hJSlNUVVZXWFlaY2RlZmdoaWpzdHV2d3h5eoOEhYaHiImKkpOUlZaXmJmaoqOkpaanqKmqsrO0tba3uLm6wsPExcbHyMnK0tPU1dbX2Nna4eLj5OXm5+jp6vHy8/T19vf4+fr/xAAfAQADAQEBAQEBAQEBAAAAAAAAAQIDBAUGBwgJCgv/xAC1EQACAQIEBAMEBwUEBAABAncAAQIDEQQFITEGEkFRB2FxEyIygQgUQpGhscEJIzNS8BVictEKFiQ04SXxFxgZGiYnKCkqNTY3ODk6Q0RFRkdISUpTVFVWV1hZWmNkZWZnaGlqc3R1dnd4eXqCg4SFhoeIiYqSk5SVlpeYmZqio6Slpqeoqaqys7S1tre4ubrCw8TFxsfIycrS09TV1tfY2dri4+Tl5ufo6ery8/T19vf4+fr/2gAMAwEAAhEDEQA/APm2iiigAzRRRQAUUUUAFFFFABRRRQAUVe0TSLrX9atNK05PMubuVYo1JwMk9T7V9P6b+z/4A8OaRD/wmGp7rqUAGSa5WBC3cKDQB8pUV7R8afhb4S8FaRZ6n4d1eWR7yTbHasyyBlA5YOMcDj1610Xw9+E3w18ReCtKvdZ1cxandJ+8gW/jQ78kABSM+lAHzriivrm+/Z5+GelxrJqV9d2iMcK096iAn6la8Z8R+CPDNr8b7Dw1ody11pFw8SvIk6yH5hzhgMUAeWUV9Z6p8Avhbonlf2xqV1ZecdsZnvUQOfQZWuM+Jn7PVloXhibXvB99NdQW6ebLBMQ2Y+7Kw68c0AfP9Fdf8L/DVh4t+I2m6Lq3m/ZblmD+U21uFJ6811Hx1+Hmi/D3WNKtdA+0eXdQu8nnyBjkEAYwB60AeUUV9N+Df2fvCniX4Z6Zq0sl9FqN9ZLKXWUbFcjrt29M+9fO/iDQb3wzr93pGqxGK5tZCjj1x3HsRyKAMyivoLx58GvC3h34MjxPp/2w35t7eT95KCmX254x7mvJPAfgXU/H3iOPS9KUKPvTTuPlhTuT/hQBzFFfWcXwD+G3huxiXxLqbPM4x5tzdLCGPsP/AK5rlfiN+z/oNh4UuPEPhDVwsNvH5rR3EqvHIv8AsuO/55oA+dqKVhhsCkoAKK92+EHwJsvFGgDxH4tuZIbCTJggjIUso6uzHoOD+VdnqvwP+F2o6TdXGja39mNrG0kk0F2k6xgDJLL/APXoA+VqK6/4b+HNO8U/EnTtF1BpWsrmUozRnYxGOPXFdj8evhpoXw6fRF8P/aNt8JzKZ5Ax+TZjGAP7xoA8fopV+8M9M19C6j8F/Ctt8Bh4ui+2f2l/ZMd5zMNm9lBPGOnPrQB880Vp+HvD2o+KNbg0rRrZri6nOFUdAO5J7AV9K+Gv2avDOmack/jDUJbm425kCSCKJD6ZPJ+vFAHyvRX1N4q+BPw5XwzfarpuqTWaWkTSNLFOsyDA7j/69eXfA74e6J8QfEOqWeuG4MFrAskZgcISSxHOQaAPKqMV23xR8Lad4R+JN1omled9jhKY81wzcjnnAr2/xX+zX4fTwjcz+F2vP7USLzIVmlDK5Azt6DrQB8tUVt+G9HS/8aadpGppJGk14kEyDhhlsEexr1D47fCvw78PNK0ufQPtXmXUzI/nyhhgLnjAFAHilFei/Cr4S3/xG1BpGkNnpcBxNclckn+6o7mvcpPgf8KdL2afqd/svHAA+0X6pIfcLQB8kUV7P8Y/gpY+BNLTW9D1PzbF5AhguGHmAnoVI+8K8YoAKK2/Bml2+teMtL0293fZ7q4WKTYcHBPY16h8dvhZ4e+Hml6XPoH2rfdSssnnyhuAM8YAoA8Uor6N+E3wR8KeNPh1aa1qxvRdyvIreVKFXg4HGK8Z8e+DbzwP4wu9IvVYpG+6CUjAkjJ+Vvy6++aAOYor6Jg+CvhSX4HnxY323+0f7Na5AEw2bwD229OPWvnY9aACiiigAooooAKKKKACiiigAooooAKKKKACiiigAooooAKKKKACiiigDovAHiGLwp480nWrhN8NrOGkA67SME/kTX1Z458EaH8avD9lqGkayBJChME0TbkOezDt/OvmT4ZfD65+Ivif+zYZDb28cbSTzgZ2ADjj3OBXoujfB/4peCPFMb+GbgeR5gzNFNhHXP8AEp9u1AHnvxB8AeKPA88Ntr6yS2mSLa4Vi0beoHofasXwY7f8J1oC5OP7St+M/wDTVa+tfj09onwbvhqpja4JjEWf+eue34bq+SPBv/I+6D/2Erf/ANGrQB9J/tTEr4G0faSP9MPT/cr5++GTFvifoJY5P2xOv1r6A/ao/wCRF0f/AK/D/wCgV8/fDH/kp2g/9fifzoA+ofjn8OdZ+IVjpMGhmFWtZWaRpX24BGKk8VXtp8OvgW+maxepNcrp5tI8nmaQrjgelT/Fb4hzfDzWPDt2+ZNOupZIbyMD+HAww9x/jXNfGv4eR/ELwzb+KfDEhubqGEOERsiaLGeB6igDxL4E8/GnRP8Aro//AKCa7z9q/wD5GbQf+vaX/wBCWuF+BaNH8a9FR1Kssjgg9vlNd1+1f/yM2g/9e0v/AKEtAHr/AIE1ePQPgBo+rXClorPSlmcDqQq5NcF8evA9t4x8K2/jnw7ieSKBXlMYz50JGQ31Ga6O04/ZM/7l5v8A0Wa4P9nP4iRvDJ4H12QPDLlrPzDxg/ej+ncfU0Adt8Wv+TZV/wCvOz/9kqj+zDo1vb/D261ZVH2i6umVnxztTgCuh+PsEdv8D9ThhUJHH5CIoHCgSKAK8+/Zh8bWsNveeFLyVY5Hfz7Xccb/AO8v170Aeb+KrjW/in8Y7zT4Jv3kl3JBaRyttWNFJCj24Fdmfgh8UG8N/wBgPqVsdM83zvs/2jjdjH5e1aHj34LeLdP+Ik/ib4fMSLmdrgGOQI8EjElse2Sa9S+Htp4k8KeE72/+JGuPc3DfvG86Tctuig8Z9Tn+VAHxl4h0S58OeIb3R74qbizlMUmw5GR6Vm1veN9ZTxF451fV4hhLy6eVR7E8ViwRPPPHDGpZ5GCqB3JoA+svg14s0Hxl8LF8H3l0sF5DbtbSwb9rujE4dfXr+H415z45+AXiPwra3d/4Xu5dSsNjebFGSJQnfK/xDHpSXf7OXiuw0jT9T0C5Wa9aJZJoA/lvE/X5T3r3b4T2fi/TvB5t/H83mXMcn7ku+5hHjozd6APlv4H5/wCFzaFn/nuf5GvT/wBrb/WeFvpdf+0q5Lwc9lJ+1QW0rZ9kOrTmHyx8pXc2Me2K9T/aF+HviLx1JoP/AAjlmtyLMT+cS4XG7y8df900AfJI619i6x/yaQv/AGLsP/oC18xeLvh94g8DtbDxHaC2NzkxYcNnHXpX07q//JpK/wDYuw/+gLQBx/7KugQGy1nX5FVp/MW1jPdQBub89y/lXBfHbx5q+t+P7/SftEkNhpsvkxwoxAYjqx962P2bfHdp4e1++0LVZ1gt9U2tC7HCrKuRj8Qf0rsvi78BbvxTr76/4Skh8+6+a4glbaHb+8DQB80Jqd7HBJCl1MsUow6Bzhh7ivcf2Ujnxdrn/Xon/oRrmrr9njxlp+gX2qX0dvGLSIyCFJN7yAemK6X9lMY8Xa5/16J/6EaAOR+PX/JbNR+sf8q+tfEHiiz8K6bYXOpMEt7iaO3MhOAhbgE+1fJXx6/5LZqP1j/lXuP7SJK/B+Mg4IuYcH0oA5b4mfDZdH+LGgeLdIj/ANBv9RiFyqjiOXcPm+jD9c1Z/aw/5AWgf9fL/wDoNb3wL8fW3jrwmug64Vm1LTAoxJz5sanKP9QRj8BWD+1h/wAgLQP+vl//AEGgDt/h/Fb+EfgDZahaRjcumm9fA+87LuP618xeGvDXiX4s+Kr57W6SXUMG4leeTA69q+hvgX4rsPGHwwXw7duv2qxgNrLCTy0eMAj8K84X4M/EnwV4quG8DXLLbTEql3FMEPl54DfSgBda+CHxO1fTba31jUba4ttPjIhR7jOxeteESp5cjJ/dJFfb0+qXXw8+Etxc+MNWN/qUdu5aSV8mSVh8qD8cCviKVt8zv/eYmgDpPht/yUrQf+v2P+de7/tYf8gPQf8ArvJ/6CK8I+G3/JStB/6/Y/517v8AtYf8gPQf+u8n/oIoA6/4ATfZ/gfZzYz5bzNj1wxrJ+Jfh6w+MHwttfEvh8CS+t4vNi2jLMP44j7g5/KtH4E/8kEh+lx/M15J+z98Rx4b8Qv4d1WXGm6i/wC7LHiKXp+RoA9ftkaP9ll0kUqy6LICCOR1r4zPWvvT4hW8Nr8JfEEVqixxDT5iqqMAZBP9a+Cz1oAKKKKACiiigAooooAKKKKACiiigAooooAKKKBQAUV0PhfwRrvjFp18P2guWgAMgMiptB+pFdA/wP8AHqIW/sYNjstxGT+Qauapi8PSlyVKiT7Noai3sefUVpahoOpaVqn9nanavaXQYAxzDZjPQ89veuj1H4SeMdL0aXVbvSwLOKPzGkSZH+X1wDmrlXpQtzSSvtrv6BZnFUVZs7C51C9htLOIyzzOEjjXqxPaur1r4T+LfD2ltqGr6fHb2ysFLNcR9T0GM5zVTrU6clCckm9l3CzMHw74o1jwrqIvtAvpbOcdWQ8MPQg8EV6la/tP+M4bby5rbTZpMYEjRMD+QbFcvH8EvHU0KSR6QpV1DKftMYyDz/ep3/CjvHv/AEB0/wDAmP8A+Krm+v4RO3tY/eh8suxj+NPiN4j8eXSSa/eb44+Y4Il2xp9B/U1z+m30ul6ra6hb7fOtZkmj3DI3KQRn8RWrpvgrXNW8TXHh+xtVk1K3LiSLzFGNpw3JOOtQ+JfC2q+EtTXT9dtxb3LRiQIHDfKenIPtXQqtNz5FJX3t1sKzOi8b/FzxF8QNLgsNeFoIbeTzE8iIqc4xzljXKaHq9xoOtWuqWWw3FrIJI94yuR6it3Qfhl4p8S6MNU0ewWezyw8wzIvI68E5rlHQo5VuoODTjUhOTjFptb+QWZ2fjv4q+IPiHbWsGvi1CWrl4/s8ZTkjHOSau+EPjZ4t8F6KNL0ua3mtVYlEuoy+z2GCOKx/DPw38UeLo/O0bTHkt848+QhEz/vHANaet/BnxpoVo9zcaX58KDLtbOJNo9SBzWEsbhoVPZyqJS7XVx8rtexl23xA1Oy8e/8ACXWVtZW+obzJsjiIi3EYJ27u/XrT/HXxF1n4hXlrc68LcS2qMkfkRlRgkE5yT6VypUg4PWux0z4U+LtY0KPV9O0wTWckZkRxMmSBnPy5z2repVp0lepJJeYkm9jQi+NXiiLwJ/wiQWx/s37IbPmFt+wjHXd1/CuF0+/uNM1CC9spGingcSRuOCCKiaJ0lMbgqynBB7Gurvfhf4r07w7/AG5d6eqaf5Kz+b5yH5GAIOAc9xROrTptKckr7eYWbNjxT8cfFfjDwzNoesfYjazbd5ihKsdpBHO49x6V59aXdxY3SXNnM8E0bBkkjbDKR3BqKr2jaNe6/qsGm6XF511OwWNNwG4/U1bairsR6ho37SnjXTLJLa6+xahsXAluIjvP1KkA/lXM+NPi94s8cw/ZtVvlis85+y2y7EP16k/ias/8KN8e9tHU/S5j/wDiq5rxF4M1/wAKSKuvabNaB/uOwyrfRhxXPTxeHqy5adRN+TRTi1ujC605HaKRXjYqynIIPQ10HhfwNr3jHz/+EftBc/Z8eZmVU256dSK3pPgj48ijLHRt2BnCTxsfyBoqYvD05ck5pPs2g5W9UjS8N/tB+N/D1mlo9zBqMKDC/bELMB6bgQT+NO8T/tCeNPEenyWSzW+nQSja/wBkQq5HpuJOPwrzbUdNvNJvpLPUraS2uYzh4pVKsPwNQRRPNIscSlnY4VQMkmuhNNXWxJqeGPEt74U8R22tab5ZurZtyeapZc+4yK9J/wCGm/Hn93S//AZv/i6wNM+B/jjU7UXC6WturDIW4lWNj+BORXP+JvAniLwgy/27p0lvG5wko+ZGPoGHFc1PGYapP2cKicu10U4tK9i/46+J2u/EM2h18WoNpu8s28ZXr65J9K0rn41eJ7rwKPCUi2X9mfZFs+IW37FAA53dePSvPO9dH4Z8CeIfFzsNC0+S4RDh5T8qL/wI8VvUqQpR55uy7sSTexzqOUYMpIIOQQelem+F/j7418NWaWn2qHULeMbUW8QsVH+8CD+dVdT+B3jjTbVrhtMW4VRllt5Vdh+AOa4CaCS3maKZCkiHDKwwQfQis6OJo4hXozUvR3Bprc9V1/8AaN8a61ZSWsLWdhHIu1mt4jux9WJrkPA/xE1r4f6ldX2hC3aW6QJL58ZYYBzxgj1q3pPwi8Za3pVvqOm6YstrcIHjf7RGuQfYnNN1b4S+NNFsnu77RZPIQZd4nWTaPfaTUfXMNzcntFftdD5X2MfxT4rv/F3iWXXNVEIu5du4RKVXjpwSa6Xxf8ZfE3jjw9/Y2tiyFsHVx5MJVsr05LGuAZSvBqS0tZr26jt7ZDJNKwRFHUk11bEmn4V8U6n4N1+HWNElEd1FkDcMqwPUEdxW746+KviD4h2Vrba+LQLauXj8iIqckY5yxqt4i+Gfinwrpg1DW9O8i2LhN4lVsE9M4J9K5Os6dWFWPNTaa8htNbmjofiDVPDmpx3+i3klpcxnIeM/oR3FerW37T/jSGz8qa302aTGBK0TA/XAbFcJ4e+GXinxRpI1LRbBZ7UsVDmZFyR14Jrm7+wuNM1CeyvY/KuLeQxyIf4WBwRRGrTnJwjJNrdBZm74v+IPiLxxdrN4gvmmVP8AVwoNsafRf8a5mus8N/DPxT4r0w6homnCe2DlPMMqJyPqRXP6hpl1peqTafex+XcwSGORMg4YHBGaI1ac5OEZJtbrsFmO0XVp9D1m11OzCGe1kEkYcZGR611Hjv4q+IPiHa2tvr4tAlq5eM28RU5IxzkmkvfhL4x0/RX1W60sLaJEJmcTISFIznAOe9cWBk4FKnWp1U3TknbsDTW56H4Y+Nnifwl4YTQNLWyNkm7/AFsRLHd153D+VefpM8c4ljYq6tuBHY12F18JvGFlocur3WmCOyihM7uZkyExnOM5rD8OeF9U8V6mdP0OAT3QjMmwuF+UYzyeO9KOIoyi5xkmlvrsFmdte/H3xjqHhiXQbw2UlrNbG2dzC3mFSMZzu649q8xPWtrxH4T1fwnqKWOu2wt7h0DqodW4PfIJ9K2pfhP4wh0I6w2l5shD5xdZkY7MZztBz0oeIoxjGTkrPbXf0CzOLoqWCB7m4SGLBeRgqgnqTwK6fxD8NPFHhbSV1LWrBYLVnCBxMjckEjgHParlUpwkoyaTe3mFmcnRUsFvLdTpDbxtJK52qijJY+gFegWHwL8c39qJ/wCzEtwRkJPMqN+RORWdfE0MOk601G/d2BRb2POqK6DxJ4J8QeEpFXXdOktlc4ST7yN9GHFc+a0p1IVI80HdeQNNbhRRRViCiiigAooooAKB1ooFNAe9/syf8fmt/wDXNP51r658VfEWj/GKXw/BFHdacLhIhF5XzAHHIYc96yP2Y/8Aj81z/rmn867bxL8V/BPhTxVd219pEr6rAcPPFaR5Y44+cnNfnWMgp51Xj7H2t4rTTTbU646U1rYy/wBo/TLR/BdlqhjUXkN2sSPjkoysSPzUVD8CfHseu6O3hbWGEtxbxnyfN582Puvvj+VeVfFD4p3PxBuoYYrc2em2xJihLZZmP8TH19q47Q9XvND1q11HTpjFcW8gdGHt2PtXr4fJKlTKFhMQ/fV2n/K+hm6iVTmR9PeEPg/ZeF/Huoa85je1U5soz/yyB5J/DoK8m+NPxGPibxMunaa5/s3TZMLg8SyA8t9Owr2j4t63e6V8JLm+sJPJnmEcZcdQH4OK+Q2Ys2Scn1rDh+hVxs3mGLfNKPux8raNjqtRXJE+hfhb8Yte8UeMdP0G/gtFtWjZS0aEN8qEj+Vbvxh+J2s+AdY0620qG2kjuoDI3mrkghsV5F8Cf+Stab/uS/8Aopq6r9pz/kY9E/682/8AQzWdbLsJ/btOl7Ncrg3bzvuNTl7Ju5n/AAQ1KXWvjRd6lcqoluoJ5nCjgMzKTipP2hdOvLz4kRSWlrNKgsYwWRCRnLVn/s8f8lP/AO3GX+a17D4/+MOn+A/Ea6VeaNLeSNAs3mJKF4JPGCD6U8ZVr0M/Tw1Pnfs1pe2gRSdL3n1Ifgdby2vwkEVzE8UglnJV1weprwf4beEU8Z/EKLTrj/j1jLTT+6qen45r6f8AB3i+Dxv4NfWLSzezjfzE8t2DH5cjqAK8J/Z9vYbb4nXUMzANc2zrHnuQwOPyrlwOIxEY5hW5eWe9t7PUckvcXQ9R+JPxItPhjp1lpejWUL3bp+6hxhIoxxkgVgfDn46TeJ/EcWjeILOCF7o7YJYcgbuykH1rl/2j9EvYvFVlq/ls1nLbCESAZCupJwfzrhvhXo15q/xH0hbONmFvcpNKwHCKpySa6cHlOX1so9vUV5OLbl1T/wCAKVSaqWR2/wC0F4JtND1S117S4Vgh1BmWaNBgCQfxfj/PNew/CLavwl0NmwAIGJJ/3mri/wBpW+hi8J6VYEgzS3BcDuFUYz+tdB4MYp+zirKSGXSLkgjsdsleVi51cZkeGVV6uaV/LVJlxtGq7Hlnx08AjQtfXX9Li22N++ZVUcRyf4GvUfGwH/DOZ/7BFtj/AL5SqHw68Q2XxS+HVxoGu7XvYI/KlLdWH8Mg962fiPYtpnwJvbB23ta2EUJb+8V2rn9KrEYqq62FwWI/iU5peq6MIxVnKOzR8hV23we/5KxoX/XyK4mu2+D3/JWNC/6+RX6Djf8Adqn+F/kcsd0e4/Gb4ga54HvdKGhNHtuVYyo8Qbdg1vaoYfGfwXubvWrRYWn057gow/1ciqSCM+4/WpPiD408K+Eriy/4SrTWvHlBaBhbJLswefvEYrx/4kfHWPxFocui+GbKW0tZwFlnmIDMv90KOB+dfm+W4Gti6GGdCjyuLu591c65yUXK7+Rrfsy4E+vem2P+dbv/AAszxBD8b5vC3kx3Gmm58kAR/Mi465H9awf2Y+ZNe/3Y/wCdey6deaLf6rqY0+2t/wC0rOUxXDeUok3Y4JbqQfWtc4rUqWZ4h1aXOuVL0emoqabgrM8e/aZ0+0S30S/SJEuneSJnA+Z1wp5+h/nTv2evA1pJYSeKtQhSabzDFaB1yEx1Ye9ed/GLXvEGr+NJbfxJD9l+x5S3t1J2KhP3ge+eOfb2r3H4B3cN58KIbeNsSW9xIkgH8OTkV6eMjXwXD8KfPq7Jtdn5kRtKrc5Hxn+0Jdab4juLHw3Z201tbyGMzzZPmEHBIweldx4J8WaX8XvBt5banZRrIp8q6tzyBuHyuufofoRXyx4i0W90DX7vTdSjaO4glZWBHXnqPUGvdP2adFvLez1jVp0ZLa4aKKEkY8wruLEfTcKrNsrwOEyz2+HXLKNmpLdv/ghTnKU7M8tn+H8y/Fz/AIRBC2DdiMSY58vOd35fyr6I8Z+JtN+Efge1i0yzj348m1gHAJA5Y+v1rzubxJYL+1ZFckr5SP8AYt2eC5QoDn6sK1v2kdHu7vRdL1O3VpILV2SYKM7c9Cfas8ZKWNxmDw+L0hKPM13l2CPuxk47mB4c/aJ1ZNUA8S2UU1ixOTbptZPTHrXmfjvxN/wl3iq51YWaWiSHaiImMgdCfU1638M/iB4Ul0vRfDMnhf7ZqX+qec2sbAksTuJPOAD+lWv2jLDS9O8L6UtjY2lrM95n9zCqMyhG9B0ziu/DVcNg80VCGH5JT0TvpZdbEyTlC9zrPC9/PpH7PdvqFmwW4ttL82MkZ+YDjiofg3471fx3p2ojX4Iy1qyBZlj2hw27Ix04x+taHgW9tNP+B+n3mpxCazh08PMhUEMoHPB61o67qEum/D2bU/AVjaTsYhLCkShVKkcsAvUj0r4yryVJV8P7P351GlN6W17nQr2Tv0Pl74r2NrpvxP1q1sFVIEnyqr0BIBI/M10vwA8MHWfHY1GaPdb6avmZI4L/AMNebane3WpapcXeoMz3U0haVm6liea+rvgv4XPh/wCG9vI6hLzUB9ockdMj5R+AxX3eeYt5flnK5e9JKN/zf3HNTjzTN7xLY6f428K61osTpK8e6Fh18uYKGH8x+dfF17ayWV9NbTDEkLlGHoQcV9deAPAms+Etd1i91PWYr+LVJPOZEjK7ZMnnk+hx+Arw747+FhoPj1r63TbbakvnLgcBx94fyNeRw3iKGHxNTA0p80WlJPztqi6ybXM0e0/Ay2+y/CbTmfjzGkc592NeT/Hrwi9n8QLa/sY/3esheAvSUfKR+Pyn8a9Q0530X9m+OaIlXTSfNUg4IJXNbmm2+m/EXwv4c1q6UO0DLdL7SAFWH03D9BXlUMZPA4+tmEtYOcov80aNc0FA0vBOgQ+GPCGnaTGqq0UIMnqzHlj+Zr5d+JVl5Xxk1OEjPm3u7/vo5r6IsfE/9ofGy+0WJwYbHSiWAPBkMiZ/TFeP/EXSjc/tHWtqowbqa36++K7Mh9rSx9WVZ6zhz/e7k1bOKt3PpCewhm0ptNlUNC8PkkHuuMV8qeHfh7JL8bh4buIswWlyZZcjgxL8w/A8D8a98+IXik+Gdf8AC7s+Ibm8eOYZ4KkAfzIrcGhaXp3iG98UMAtxLaCOWXsI1+Yn+X5V5OXY2tltCU3tWT5f8Sdi5RU36EnieyS98G6rZ4G2W0kjwO3ykV84fs7/APJU2H/TjL/Na9u+HXiE+LPCmp3r5Pm3lwFUnO1STgflXi/wBiMHxfuYm6x2k6n8GUV6WW0p4bAY7DTesV+aJk05RaH/ALR3HxCtf+vJP/Qmr6D8LeW3gfSVmClHs41IbocqOK+fP2j/APkoVr/15J/6E1ep+K7may/Z+S5tXaOaGyhdGU4IIxzU5hRdfLMBSTtzNK4RdpyZ478SvATeDPiNaS2UZGmX1yksBA4jJYZT8P5Yr1b9oHA+FMWP+fuL/wBBarWg3unfGX4c2/2vamoWroZT3imXHzD2br+PtVb9oNSnwriUnJW8iBP/AAFq0eNqV8dhMPX/AIlOTT89rP5i5bRk1szB/Z78FWiaTJ4pvYlkuHcx224Z2AdWHvVDxr8ftStPElxYeF7eD7LayGMyypuaQg4J9hXb/Ay6hvvhLb28L4kheSOQehPSvDdBurf4d/FK4bxZpzXkVs0kbQtGG35PDYbg+tduGpQxuZYqeKjzyhpGL7eRLbjCKj1Oo8Y/G1fFPw9/sk6Sq6jcHbcM6bkQD+Jc9z+leLsMGvszwXe+GfGuiHVbLwzb2kHmFF+0WkYL4HUYHTmvkrxYYT4u1T7MFEX2l9gQYGM9q9XI8VRlKrhqVJ0+R6q99WRUi9G3cx6KKK+lMQooooAKKKMUAFKKSloA9e+BPjLQvCNxqr+IL4Wi3CKIyY2bcQf9kGuQ+KOsWWvfELUdS0qfz7SdwY5NpXIwOx5rkKSvPp4ClTxcsYr80lZ9iuZuPKBp8RxIueOaZilr0CT6F+KfxH8LeIPhY+laTqi3F4WiPlCJx9088kYr55paMVxYHBUsDSdKle129fMqUnJ3Z23wk13TvDnxEsdS1i4FvaRLIHkKlsZRgOBz1NdB8dvF2i+Lta0u40C9F3HBbMkjBGXB3E/xAV5TRUywNKWMjjHfmSt5WDmfLynoHwZ8R6X4X8e/2hrd0LW1+yyR+YVLfMSuBgAntU3xs8S6V4q8cx3+hXQurYWiR7wpX5gWyMEA9685opvA0njfruvNa3lYOZ8vKfQfwk+I/hfw18NRpms6otvd+ZK3lGJ24J45AIrw2w1e50fXY9T02Uxzwy742H1rOoqcPl9GhVq1Y71Hd3BzbSXY+nvD/wAa/CHijRVsvF0cdpOQBLHPHvic+oParsvxO+G3g+zlk0I20krD/VWMXLn03Yx+tfKf0o5ryJcM4NydpSUX9lPQ09tI6jx143v/ABz4gk1C/wD3cY+SCAHIjTsP8a9h8N/ErwtYfBIaFc6oqaj/AGbPB5PlOfnYPgZxjuO9fO1LXq4nLcPiKNOi1aMGmreRCm02zo/BHiy68HeKrbVLViURsTR54kQ9RXuvxG+K3hDxB8ONTsNL1QSXdzEAkJhcHOQcZIxXzPRUYvKsNi8RTxE170NrfqEZuKaXUK6r4a6tZaH8QtK1LVJvItbecPJJtJ2j6DmuVoxXpVYKrCUJbNWJTsewfHjxnoPi6bSm8P34uxbo4kxGy7cnj7wFeP0Ulc+DwlPB0I0Key7jlLmd2exfAfxpoXhF9WPiC+FoLgIIyUZs4PP3Qazrz4lf2L8Z9Q8RaDcG5066n/eLyolj47HvXl4orneWYeWIqV5K7muVrpYfO7JH0D8UPEvw88f+HEmg1mO31e3j3wFreTLcZMbHb/k15v8ADT4j3fw/1p32G50+cgXEAPX/AGl964ajFFDLKFLCvCO8oPo9fuBzblzH1e3xB+F3iqNLvVZbIzAfdvISHX26c1heMfjpoOkaJJpvghVmuNpSOVI9kUI9RnGTXzbSV5tLhvCQmnKUpRW0W9C3WlYsPezyX5vGlbzy/mGTPO7Oc5r6I8EfHTRdV0VNL8cIIpgmx53j3xzD1YDoa+cBRXqY7LsPj6ahVW2zWjXoRGbi7o+qF8cfCrwgsl9oxszcuD8tnEWdvbPb9K8I+I/xAuvH+vC7mj8i1gBS3gznaPU+5rjqKwwOT0MHV9tdznteTu7DlUclY+grD4jeFovgS2gSamo1I6aYPI8p/v46Zxj9awvg18WofDEb6H4lmYaYctBMQW8lu64HODXjVFR/YmEdKrSkm1UfM/J+Qe0ldPses+NYfh/qvj6w1TSNaiTT7i4U6hCIJBsGclgNvOcY49a674n/ABi01/DFtZeBNWJuWkHmSRRsnloo6DcB1r54orSWU0akqTqty9nte346ah7Rq9up2mn/ABV8XW2pW082t3Usccqs8bPwwB5FelfFvxr4O8b+A41stUQ6rbMk0URhcEk8MuduOhP5V4DRWtXLMNOtTrxXLKG1rL7xKbSaPoXxH8SfC7/BM+H9O1RZb/7CluIhE45AAPJGKy/g18U9K8LeEb7S/EFy0ZikMtoNjNkEcrwOOR+teHUVzf2JhXh54d3cZS5n6j9pK9z1D4beO7TTvi1d6/r915FvdrL5khUt15UYHPYVueKPGPhnUPjvoniG21JZNOtzG083lMNpX2IzXidFdE8soTr+31T5eX5C53ax7N8dPHmi+Kxoo8OX4uhatI8hCMu0nbjqB6Vta98ZNKvvgz/Z9tcN/bc9stvLFsYbR0Y7sY+7/Ovn+isY5LhFRpUWm1Td1/wR+0ldvue7/BL4ieHfC/hS8sfEGoi1le4LoDG7ZBH+yDXN/DXxRonh34wanq+oXoh02QXCxTbGOQzgrwBnpXllFaSyqhKVeV3+9VpfloLnenkelfGvxNpPivxlb3ug3YurdbZYy4Rl+YE8cgetd54p+I/hbUPgs2h2uqB9QNnHF5PlOPmGMjJGK+eaKmWUYeVOjTd7UndfLuP2ju33O3+FnjmTwR4sjuJWY6fcEJdIP7v97HqK9L+M/wAR/C3inwGNP0PUxdXP2pJNgidflAbJyQB3FfPuKMVVfKsNXxcMZJe/Ht19RKbUeU7r4Z/Ei78A6uzlGuNOnIFxADj/AIEPevcLjxv8KvFqR32sy2TTqOl1EVce3TmvlWissbk2HxdX293CfeLs36jjUcVY+hvHXxx0ez0CTRvAqZZkMYnWPZHEvQ7R1Jr56kcySF2OSxySe9NoNdeBy+hgKbhSW+rb3fqTKTk9QooorvJCijFFAAOtdLpOqeG7WxVNU0OS8uATukF0UB/ACuaozVwm4O6InBTVmdn/AG/4L/6FSb/wOb/Cj+3/AAX/ANCrL/4HN/hXGZozWv1iXZfcjL6vHu/vZ2f9v+C/+hUm/wDA5v8ACj+3/Bf/AEKk3/gc3+FcZmjNH1iXZfcg+rw7v72dn/b/AIL/AOhUl/8AA5v8KP7f8Gf9CpN/4HN/hXGZozR9Yl2X3IPq8e7+9nZjX/Bn/Qqy/wDgc3+FH9v+DP8AoVZf/A5v8K4zNFH1iXZfcg+rw7v72dmdf8Gf9CrN/wCBzf4Uf2/4L/6FSb/wOb/CuMzRR9Yl2X3IPq8O7+9nZ/8ACQeC/wDoVJv/AAOb/Cj/AISDwZ/0Ksv/AIHN/hXGZozR9Yl2X3IPq8e7+9nZ/wBv+DP+hVl/8Dm/wo/t/wAGf9CrL/4Gt/hXGZozR9Yl2X3IPq8e7+9nZ/2/4M/6FWb/AMDm/wAKP7f8Gf8AQqy/+Bzf4VxmaM0fWJdl9yD6vDu/vZ2f9veDP+hUm/8AA5v8KP7f8F/9CrL/AOBzf4VxmaM0fWJdl9yD6vHu/vZ2f9v+DP8AoVZf/A5v8KP7f8Gf9CrL/wCBzf4VxmaM0fWJdl9yD6vHu/vZ2f8Ab/gz/oVZf/A5v8KU694MH/MrS/8Agc3+FcXmjNH1iXZfcg+rx7v72dn/AG/4M/6FWX/wOb/Cj+3/AAZ/0Ksv/gc3+FcZmjNH1iXZfcg+rx7v72dn/wAJB4M/6FWX/wADm/wo/t/wX/0Kk3/gc3+FcZmjNHt5dl9yD6vDu/vZ2f8Ab/gz/oVZf/A5v8KP7f8ABn/Qqy/+Bzf4VxmaM0fWJdl9yD6vHu/vZ2f9veDP+hVl/wDA5v8ACj+3/Bf/AEKkv/gc3+FcZRmj6xLsvuQfV49397Oz/t/wX/0Kk3/gc3+FH9v+C/8AoVZf/A5v8K4zNGaPrEuy+5B9Xj3f3s7P+3/Bf/QqTf8Agc3+FH9v+DP+hUm/8Dm/wrjM0Zo+sS7L7kH1ePd/ezs/7f8ABn/Qqy/+Bzf4Uf2/4L/6FWb/AMDm/wAK4zNGaPrEuy+5B9Xj3f3s7P8At/wX/wBCpN/4HN/hR/b/AIL/AOhUm/8AA5v8K4zNGaPrEuy+5B9Xj3f3s7P+3/BnbwpN/wCBzf4Uf2/4M/6FSX/wOb/CuMzRmj6xLsvuQfV49397Oz/4SDwZ/wBCrL/4HN/hR/b/AIL/AOhVl/8AA5v8K4yij6xLsvuQfV49397Oz/t/wX/0Kk3/AIHN/hR/b/gv/oVJv/A5v8K4zNGaPrEuy+5B9Xh3f3s7P+3/AAZ/0Kk3/gc3+FH9v+C/+hUm/wDA5v8ACuMzRR9Yl2X3IPq8O7+9nZ/294M/6FSb/wADm/wo/t/wZ/0Ks3/gc3+FcZmjNH1iXZfcg+rw7v72dn/b/gz/AKFWX/wOb/Cj/hIPBf8A0Kk3/gc3+FcZmjNH1iXZfcg+rw7v72dn/wAJB4M/6FSb/wADm/wo/t/wZ/0Kk3/gc3+FcZmjNH1iXZfcg+rw7v72dn/b/gz/AKFSb/wOb/Cj+3/Bn/QqTf8Agc3+FcZmjNH1iXZfcg+rw7v73/mdn/b/AIL/AOhUm/8AA5v8KP7f8F/9CpN/4HN/hXGUZo+sS7L7kH1eHd/ezs/7f8Gf9CpN/wCBzf4Uf2/4MP8AzKso/wC35v8ACuMzRmj6xLsvuQfV49397/zNfXbzSbyaNtF057BAMOrTGTcfXmsiiisZScndm8YqKsgoooqRhRRRQAUUUUAFFFFABRRRQAUUUUAFFFFABRRRQAUUUUAFFFFABRRRQAUUUUAFFFFABRRRQAUUUUAFFFFABRRRQAUUUUAFFFFABRRRQAUUUUAFFFFABRRRQAUUUUAFFFFABRRRQAUUUGgAooooAKKKKACiiigAooooAKKKKACiijFABRRiigAoooxQAUUYoxQAUVv+C/DJ8X+KrTRVuVtWuSwErDIGFLdPwrtNP+DD3/jnVfDg1iJX06FZWm8s4bPbFYVMRSptqbtZX+RShJq6PLKK1v7Gz4sOirOG/wBM+zCYDg/PtzXsJ/ZouB/zMVuPrERW6d9STwiivRvHPwa1rwXpral58V/YqcPLCDmP3IPavOaACiiigAorffwXrUfg+PxPJbBdLkfYspcZJyR069QayLCBbnUraCTOyWZUbHoSBQBXor1n4v8Aw20XwPo+nXOkGcvdSbX8188bc8V5NQAUUUUAFFFFABRRRQAUUUUAFFFFABRRRQAUV6r8Fvh1o3j1dYOtNMDZeV5flPt+9vzn/vkV5vq9qllrF3bQ58uGZ0XPoCRQBSooooAKKKMUAFFd74J+Gn/CYeF9T1hNTjtjp5bfCyElgE3Z/HkU6X4ZeX8Kz4zGpxmPC/6NsOcmQJjP45rB4ikpct9b2+bL5JWucBRSmkrcgKKKKACiiigAoHNFbPhLTk1Xxbp1lN/q5ZgGHqBz/SlKSinJ9BpXdjb8L/DLV/EduLpjHZWjfdkmzl/oBXawfBHTlT/SNUnkb/YQKP5muq8Z+Jl8HeH4rmC0E2XWGOMcKvBPP5U7wT4pPizRGvXtvs8kb7GUHIz7V87VxmLlD20NInZGnTT5XucVqHwRjMRbS9UIcDhJ04P4j/CvMtd0C/8ADuoNZ6nCYpByp6q49Qe9fUtcX8U9Ig1HwVc3Tovn2ZWSN8cgZAI/WnhMyquooVdUwqUI2uj57xRSmkr6I4gooooAKKKKACiiigAooooAK9R+CHgbS/GevXja2DLb2MauIAceYWJ6kc4GK8uBrsPAGpeKdEv59W8IWs1y1uoW6SOMupU5wGA57HmuLHwqzws4UZcsmtGVG3Nqev65qXwu0rVptE1zwc9ksbbBc/Ztob3DA5r581SS1l1S5fTojDatIxijJJ2rngZPtX1P4Q8SWfxX02507xT4Ye2mgjy7TRnYc8fKxAIPtXzT400iDQPGWqaXaSeZBa3Lxxt7A8V42S1bVamHqKSqRSveXMvVeppUWia2MqxSGW+hS5cpC0ih2HZc8n8q9WHhD4Y7RnxNKDjn5x/8TXlVhNHb30M0yeZHHIrMn94A5Ir1Zfif4LCgHwdGSB/dSvq6fL1PLxSqO3Jf5W/Up6t4V+HVvpF1Lp/iKWW5SItFGWHzNjgfdry1utep6t8RvCN7o91bWnhRIJpYyqShU+Qkda8sJpTtfQvCqoovnv8AO36G74K8RL4V8YWGtSQNOlq5ZolbaWBBGM/jXb6T8X7fTviPrHiV9MleHUYvLW3EwBT0ycc15VRXJUw9Oo25LdW+R2qTWxu6JcfbPHtlckbfO1BJMemZAa93+Pmj61q40QaBbXNw8bS+Z9nz8uduM14D4W/5G3Sv+vuL/wBDFfSvxi+IereAI9MbR4rWQ3hkEnnoWxtxjGCPWtkrKxInlX2i/s83kHi6X/TBYyI3nNubkHYue56Vw/wY8PeFvGPhe/0/VNKt5dUtiQs7Z3FWHynr2OfyFeceLfiR4i8ZosWsXQFupyIIV2pn6d6v/CDxOPDHxDs5pX2210fs83PGG6H8DimBa8BeA/7T+Lv9galD5lvYyyPcow4ZE6Z9idv51r/FK18HaP8AETT9Jt9MW1sLXa2oG1++2TkgZPUCvb7XQbHwz4q8ReMLgqsVxaozN6BQxf8APalfJHiLV5dd8R32pzkl7qZpD7ZNAH1T4gvfCWlfCvT7jVNLMvh8xQtDahckBl3LkZ688896+c/EV/oGpePrW48KWRstPMsIWErjDbuT1Ne1ePLG61P9nbRodPgkuZBZ2TlIkLNgRDPA+tfPVtp95p3iGwiv7aa2kaeNgk0ZQ4LDnBoA+pfiXH4Wh0nT9T8aK89paPmK1X/lq5XpjjPFc5deDfAnxD+Hd1rHhfTY7CaFH8t4k8tkdRkqyjg1R/aRY/8ACM6KueDPn/xyp/gT/wAkd1v/AK+Jv/RQoA8S8DeFZfGPjKz0WNzEsrEyyAZ2IoyT/T8a9w1mH4U/Dy6h0PVNGju7koDJI0XmsoPdiTx+Fec/Aa/gsfivCtwwT7RDJDGT/e4YD/x01pfG3wjrt38SZbyx066uoLxE8t4YmcZAwRx0oAsfF34YaTpOhQeKvCfyafOVMkIYsoDDKuuegPpUnwK8G6H4u0PX49ZsI7iaMxpDM3WLcr8j8QD+Fdh8RR/wj/7O9jpepFUuxbW9qYyefMVRux9MVlfsyf8AIP8AEH/XSD+T0AT6Gvwns/EKeEU0tL68eTyPtVxFvDydMbieOfQV518Z/BFh4L8UwLo4ZLO9h85Iic+WckEAnnHGayfCJJ+M2l5Of+Jyn/o2u+/aXH/E+0T/AK9D/wChmgCx8Nvhr4dsvAzeMfG0YuIjGZUhkzsSMHGSB94k9vpWf4r8TfCvVPCeoJo2hLbaoqYtSIfKyxON2VPbrg+ldzLZz+Kv2a4rXRV86Y2SqsadWZJAWH1wpr56/wCEO8RC0ubqXR7yG3tULzSywsioB15OP0oA7X4OfDa18aX1zqGsFv7Ms2CsinBlfGcZ7ACvQba6+EereIG8KwaJAkzOYUnWHaGcdQHznPFVv2druKfwdrelxyKLrzzJtJ5CtGFB/MV514Y+H/iSL4p2dlNp11GbW9WSW4aNgmxG3bt3TBA/WgCn8U/Ag8C+KBb2rtJZXKebbs/UDPKk98V6p4W8BeEfBnw6g8R+NLOO7muIVmcTLuCbhlUVemaxP2k76CbXNHsY3BnhhdpAOwYjH54rsfiZY3Hi74J2E+hRPc5iguVjiXLFcZPA7jPSgDW+FL+Dr2TV9S8ERvarceUt1aMMCMrv2kDJxncfyr5sOjT+IPiNJpNoQJbzUGiViM7cuefwr2n9nLQNT0m11271OzntYrowpD5yFCxTfuODzj5hXmngy+g0/wCOltPdMEjOoyR7m6KWJUH8yKAPS9b0r4d/CyCz0/UvD7azdzpuaWSPe2OhY54H0Arnfid8PNBk8GQ+NPB8RtbVwrTW+CFCtxuAPQg8EdK9B+Kfi7W/CmoWstj4YtdXtJIsNPJEXKNn7vA4rzTxb8UPFOteAbqyv/CkenaXdFYftAjdArZ3ALkAfwmgCz8EPBeieLfDmujV7GOeeN0jhmfOYtytyPxwfwqz4ksvhr4O8I6noEXk33iFYGT7Q0e9llx2PRcH0rV/Zp/5Amu/9fEX/oLV8/6jK82ozySMWdpGLEnOTmgDsvAnxDi8IeG9d0yWxe5bVI9iSLJt8s7SvTHPWnP8RIm+D7eDPsLiVpg/2nzBjG9Wxtx7etcFRWDw9Jy5mtb3+aK55WsFFFFbkhRRRQAUYorpPBHhd/FXiKOzLFLdB5k7jso7fUnAqZzUIuUtkNK7sjn44JZf9VGz/wC6pNdD4J3af40026vI5IoIpcu5jOAMGvoPTdC0zSLVbewsoYkUYzsBY/U96ueRF/zyj/74FeHUzaMk4qOh1xw73uc9e+I/C+p2jW2oTRXED/eSSJiP5VLo2seHoVi03RXiiUnCRRxlQT+VbnkRf88k/wC+RSiGNWBEaAjoQoryHUp8vKk7ep0Wle4+uc+IAz8P9Xx/zxH/AKGtdHWB4358Fal/uJ/6MWpw/wDGj6oc/hZ83fYro/8ALtL/AN+zUckEsWPNjdM/3lIr6tghi+zx/uo/uD+AelVtS0LTdXtWg1CzikRhjOwAj6Gvb/tiKlZxOX6vpoz5XxRXReNvDLeF/EUlmrF4HHmQOR1U+vuK5017UJKcVKOzOVpp2YUUUVQgooooAKKKKACuu8CfETVfAF1czaTHDKt0FEscy5DAZx9OprkaKzqUoVYOFRXTGm07o9e1D9orxLdWbw2VlZWLOMGWNcsPce9eTXNzLd3Mk9w7SSyMWdmPJJ6moqKxw+Dw+Fv7GCjcbk5bgKWkorqJFzSUUUAFFFFAFnTr19O1K3vIlDPBIsihuhIOf6V1Pjv4lap4/is01W3t4vshYoYVIznGc/lXG0UAFdF4Z8FeIfE0iS6Fp1xPEJgjToh2RtweW7cEGudrsvB/xR8Q+CNMnsdEkgWKeTzW8yIOQ2AM8+wFAHs/xq8QP4e+F9noLXIk1C+VIZWB5KKAWP5gD8a+Zq09e8Ran4l1V9R1m6e6uH43N0A9AOgHtWZQB6X4T+OHiLwtokWlrDb3tvANsXnA7kX0z3Fcx4n8bX/ivxVHruoRwrPHs2pGMLhTkCubooA7Xxx8T9V8eWNra6pb28SWrbkMSkEnGOaf4S+Kmr+D/Dd1ounW9tJb3LMztKpJBZdpx+FcPRQBNDdS212lzbO0UqPvR0OCpzkEV6ppn7RHimxsUt7q3tL10XAmkXDH64615LRQB0vjHx5rXje+W41mcFY/9VDGMJH9BWh4E+J+q+ALS8g0q2tpBdsrO0y5I2g4x+dcVRQBqadrs+m+KLfXIUQ3EFyLlVI+XcG3VseOfiFqXj66tZ9Whgie1j8tPJGMjOa5OigDtPBPxS1/wNG8GmyJNaOdzW8wyufUelbXij456/4n0G40l7S0tLe5QpL5akkg9eT0rzGigDW8OeJtT8K6umo6NcGGdeD3DD0I7ivSZP2jvEzWhjjsbGOYrjzgpJ+uK8gooAvatrF7rmqTahqc7XFzM2Xdj1rtPBfxk8QeDNN/s63WG8tFOY45wf3f0Pp7V57RQB6jD8ffFcWtz6gfszrLGI1tin7uMAnkD15615veX0l3qM142EklkMh29iTniq1FAHqOhfHzxPo+mx2d1Hb6kkY2q9wPmx7nvWT43+LOt+OdOj0+/htrezjkEoihT+IAjOfxNcJRQB23gX4oat4BtLqDSre2lW6dXczKTgqCBj864yaUzTNIQAWJOBTKKACiiigAooooAKKKKACvZPghAgsNVuMfvDJGmfbBrxuvY/ghOhsdVt9w3h43A9sEV5+Y3+rSsbUf4iPVaKKa7+XGznooJr5E9IGdV5Zgo96Tzov+ei/nXJaPotr4os/7X14NdtcO/kxFyI4UDEABemeOtaH/AAgvhv8A6BcX611SpUYPlnJ39P8Agmacnqjd86L/AJ6L+dc94yuoZ9EfSoJBJeXzpFFEpyx+cEnHoADUn/CC+G/+gXF+Zq9pvh7SdIkMmm2EMEhGDIqDdj0z1pwdCnJSTba8v+CJqTVi/EpWFFPUKAfyp9FFcj11NLHlfxvtEOnaZeY+dZHiz6ggH+leNmvZfjfdINM0y06yNK8mPQAAf1rxqvr8uv8AVonnVvjYUUUV3mIUUUUAFFFFABRRRQAUUUUAFFFFABRRRQAUUUUAFFFFABRRRQAUUUUAFFFFABRRRQAUUUUAFFFFABRRRQAUUUUAFFFFABRRRQAUUUUAFFFFABRRRQAUUUUAFABPSirlmuIS4++zbV9qAKxhkAyY2x64plaQdd0mySQtGCTnoaTyInmYsvBj3YHagDOrpPA/ih/CniKO8IL28g8udB3U9x7jrWOY4XtxMiEBWwRnrT/s8azuzL+7CbgKmcIzi4y2Y02ndH0xp2vaXq1mlzYXsUsbDP3wCPYjtVi5uIRay5mjGY2/jHpXzF55j05ShZMnHytippZ2M8SSSSkug53nivFeUR5rqR0/WXbY+gfBH/ImWH0f/wBGNW/WB8P4wvgDSy/OI2H/AI+1dJ5a71wPlIrxcSv30vU6ofCiq1zCjFWlQEdQWFJ9qg/57R/99isrWND8Lxxz6lrFrbx85kmlYjJ/OoNN8MeE9Vt0ubGytp4Gzh43JB/WqVKly8zb+7/gi5pdDd+1Qf8APaP/AL7FU9S17S9ItGudQvYYo1GcbwWb6DvXgnjZYrLxhf2dgZLeOObaiK5wBWM4WSb7PI0jMB95mJ5r1YZTCSUnLQ53iGtLGh428USeKfEEl2MrboPLgQ9l9fqa55kZcbwRnpmrQihhtw8qlmZiB7VPJCJ7hAc7Qma92EIwiox2Ryttu7Myir0lvHsDBQpDcgNnIpl4sMTGONDu4Oc1QipRRRQAUUUUAFFFFABRRRQAUUUUAFFFFABRRRQAUUUUAFFFFABRRRQACvQvBHwpu/Fejvq93fQ6bp6HAlkGS3qfpXnor274deJfDuv/AA/fwV4huTYSEkRSbtocZ3DnoCD69a83MqtejQ56PdXsrtLq7G1GMZStI5jxV8Lrbw5ZW+oR+IbW7s5Z1hYoPmXPfAPOKo+PfhtceC7WyvI7xL+zvFys0a4APUfmDmp/H/wz1PwZCt0l4L7S5GwkycbSemR0/EV3fwxv7Px94Dm8J66fMmsWVomJyxjB4x9OR9MVw1MbUo4eGKjU54J+9prb/NGipqUnBqz6HB/8Kza3+G58V6lqKWoYZitjHlpMnC8+/J+grW0f4JXmt+DINbs9SjMlxb+alsYzycfdzmmfGnxUl9rMPh3TDs0/SlCFV6NJjH6Dj8TXd2Pid/CPwo8H6nyYN6R3CD+JCCD+XWsa2Kx6w9OpB2lOWi8rNpfgVGFLnaeyR4b4c8PSa74stdDd/s0txL5RZ1zsPPUfhXU2/wAL438e6h4butagtvscAlFxIuA5+XjGf9r9K9A1nwnHZfGPw94m0oK2n6ncB2aPlQ5UnP0Yc15t8YSf+Foalgkfc/8AQRXVSxs8XVjGlKylBv0d7ESpqEW33OtPwCQWn2o+JrUW/wDz18v5fzzXn/jbwlF4S1aGyg1KHURJEJDJF0HJGOvtXpd0SP2XgQef3fP/AG1FeU+ENGk8Q+LtP05ORNMN59FHJqcvq4iSq1K9S8YOStZLbqFWMdFFbneab8Dru/8ACMWrNqSxXMtq1yloY+SAMgZ9+PzrzrRNMg1HxBb6df3YsY5ZfLaZlyIznHPtmvo/UdT1O0+MWk2VpYXJ0WKyNq8ixHYrNg5z7bEH514d8UfD58N+Pr63jGIZm8+E/wCy3NRluOrV5unVkveXNG3RXeny0CrTjFXithvj34fXvgjV4LWSUXcNwoMMyLgMehH1q94l+GbeFfBdprGq6lGl5d48uxCfNzycn2BH51678No/+E0+HumP4osvPewuP9Gml6yheAf6e+K8d+LWuahq/j69iv0kgjs2MMEDH7qj+L8eufp6UYPHYjEYn6q3rTvzPv2t+o504xhz99jhqKu6VpV5rWpRWGmw+dczHbHHkDcfxrX13wD4k8N6eL3WtNa2tywQOZFbk9uCa92VWnGSg5K76HNytq5zdFFFaCCiiigAooooAKKKKACrVrKoUxudvO5W9DVWigDTMgTc37nkfNj+KooLjdJK74HyYAqjRQBYkufMiESoqLnJx3qa4lC2SRbwzd8elUaKAJxcf6P5TKCOx9KVrovNHJtA2DH1qvRQB9D/AAs1yHUfBcNsuDJaEpImemSSD+v6V2fmncCBwOgr5Y0TX9Q8P3wutLuGifow6q49CO9em6f8b4RCF1TSGMgHLwS4B/Aj+tfPYzLqrqOdLVM7KdaPLaR2/jTw2/irQWsopxBIHDqWGQT6GjwdoP8Awh3h0wXNwj7WaWVxwq8D/CuSm+N2mCM+RpFy79t0oUfyNcR4o+JereJIXtRts7NusUXVvqe/6VFLB4ucPZT0je45VKafMtzL8Xa1Hq3iW/urZQsc0xZT3IzWV9uP3vLXzMY31VJzRX0cYqKSRxbssJdFYvLdFcZyM9jTjeOZlkCgYGMetVaKYE73AIASJUGcnHeh5Vnn3y5Ud9tQUUATutuEPlu5bsCKgoooAKKKKACiiigAooooAKKKKACiiigAooxRigAooooAKKKKACiiigAHWvVPDngfwZ4h8MWVxJ4oi0zUgp+0xSyKMNk9mI7Y6V5XSgkd658RSnVilCbi+6t+pcZJPVXPaviL4m0PS/hzB4Q0nVBq842B51bcFCnPUcZ9q534IarZaT43muNUvYLOD7I6755QikkrgZNeb5J70ZxXLHLqccNPD3b5r3fW7KdVual2NrxfPHc+MNUmgkWWKS6dkdGyGG7ggivQfFWsabc/AfQNPg1C2lvIWTzLdJVLpweq5zXkmaM8YroqYaM/Z3fwO6+6xKm1fzPePhB4+0x9A/sTxPeQQGwcPay3MgQbewBPcc/hXnXxXvbXUPiNf3On3MVzA4TbLC4ZT8o7iuMBx0ozmuejl1KhipYmDd5dOhUqspQUGeyXWuaU37OY0xNRtTffJm285fM4kB+7nPSs/wCCMmi6XqWoa1rWoWls8EXl28c8yozE8kgE89q8s3HGKQNjoaHl8PY1KKk7Tbb+e4/avmUrbHqF78cvE/8Aak5tZLcWwmby1MWTszxzn0rqPHkfhzx9c+Hbwa/ptvIxCXha5RTHGRuOQT1yMfjXg+aAxHep/svDwnCpRXI43263XUPbSaalrc9i+IfxGh0vVNM0jwXPGunaSVcNA4ZJGHbI6gD9c0vxMl8O+NPCtn4p02/s4NXSMLc2bTKJHXp93OSQf0PtXjhOTyc0u44p08tpUnTlBtON9e997g60pXT6ljTtRutJv47zT5mguIjlJF6qa09X8Za9r1kLTV9TnuoA24I54z61hUZr0HThKSm0rrqZXdrBRRRViCiiigAooooAKKKKACiiigAooooAKKKKACiiigApaSigBaQ0UUAFFFFABRRRQAUUUUAFFFFABRRRQAUUUUAFFFFABRRRQAoGaXy2xnaceuK6P4fafp+qeO9KstZYLZzTqsm44BHpmvonxhNJ4PdFsPANtqmhLGN88ABdPXK4z+NeTjMyWGrwoKF5SV90vz6+RcYcyueLfB3wNpfjrxBe2WtPcJFBbGVTA4U53AdwfWmaF4T8MT/E7UtF8RanLYaXayypHLvAZipwAWII/Su2+Al3Ff8AxM1+6t7VbSKW1ZkgUYEY8xcCoPh7YWmo/tAa/Df20VzEJLg7JVDDO49jXBXxlSGJxCk2oxpp2W6et7FqKsvU8j8SWWn6f4kv7XRrlruximZYJm6uvrWZsbGdpx64r2Pw/wCBrLxT8etbsriFV02xnkleFBgEBgFX2H+FbniP4qeFPD+vXWhW/hO2ubO1JiMiqoyw9iP611/2k+eNGjBzlyqT1Ssn38yeTS7Pn/bSlCOoI/Cvcvg14N07WbPVPFepacLvypWFrZqMjPXp39K7LStIbx/a3+meLPAo0IBM2twqbeee+ByKzxGd0qFWcHG6hbmd1pfst38hxpto+WsV1Pw88IHxl4qisZHaK0jBlupR/BGOv41g6rZHTdXu7Jjk28zR59cHFelfD2X+xfhH4x1mIYuJEWzRweVDD/E17qaaujI8+8RnTH8RXi6BE8enrIUgDtuZlHG4n3xn8aoGzuVTe1vKE/vFDiuy+FVtYXfjTbqCwu4gka2jmI2vLxtBz+Na+seN/HPh7UHh1nToI4txAilsx5bD2PetFHS7OaVaXtPZxWpxfhXw1ceKNdj063Yx7gzNIVyFAGSayp7eSB2V0YBTjJXFen/BzXrxvFk1jiEQzRyzNiMZ3bSevp7VyHiLxrq+vwmz1A25iSTcvlwKhz9RTcVyJijUqOvKFtFY52O3mm/1UUj/AO6pNNeN42KurKw7EYrvNE8YeK49Jt7Hw7pCbIRhpYbIyM5z1JxWx8QbaXUPh1pWu6tpv2HV/PaCbEXl7xjgkUct02gddxmoyW7tueWeU+AdjYbocdamjsLqS4ihFvKHmYKgKH5ifSvWLG603RPgxomtXVnFc3kU8wtkkUYZy55b1AxXO6X8Rdc1PxlpMtz9l3CdYF226gKruuce/A5ocErXYo15z5nGO1/wOb8T+Gp/Dety6dIzTmNVZpAhA5GaxCMV6v8AFDxtq9l4o1HR4Tb/AGR4whDQKWwV5+brXlLHccmlNJSsi8POdSkpT6oTFSRwSzNthieQ+iqTTK9k04alpvwu0298CWcN1ctk6hIsQllRvTHXFKMbjrVfZpeZ49JBLC22WN0b0ZSK3rjwjd23gu18QyMdl1cNCkOznAH3s/XI/CrWv+N9a1m2htdWt7ZZbeXfv+zhHJ9G9q9B1rxrq9l8ItA1SE2/2i4mdH3QKVwC2MDt0q4xi7mVSrVjyWS1fc8UKMGwQQfQipDZ3Aj8zyJdn97YcfnXoPgK1g8Q61rPibxFEk8Om27XbwqoVZHAyBj04zUS/F3Wv7Q/fWtg1iWwbX7ONu30FTyq12y3Wm5OMI3tuefYp4t5mk2LFIX/ALoU5/Ku4+Jfh200jWNP1LSo/LsNWgS5jTsjHll/UH8a634ieJv+ERvrAaFZ2sd9c2cbTXDxBiFA4AHbvVcm9+hP1m/LyL4r/geNSQSQttljdD6MuKjNet2N+vxJ8C6wNVtoBq2lxefFPEgUsvocV5KaiUbbGtKq5tpqzQlPSJ5GxGjOfRRmmivWPAUM0fw7vbvwtawXevrPh1kUO6R/7INEY8zsFar7KPMeVyWs0P8AroZI/TcpFbOn+Fbq/wDCmo64pKxWLRqE2EmQs2OPp1rY17x14kvNPuNI160hVmIyZLXZJHg9vSuv0DxdqcPwZ1O+j+ziayniii/cjbtLKOR3PNUoxbMqlWrGCaS1a6njrxshw6sp9xinraTvGZEgkZB1YISK7fwwlx8SPH1sut+WURC8ohjCBkUZxgetdHfeJ/GdvrDQ6P4ZeHSIZNkVv/Z5IdAccnHU0KF1cc67jLkS1tfc8gxT1t5mfYsTl/7oU5r0D4p6Bb6Xr2nX1nam0TUoRK9uRjy3GNwx2611HxL8T/8ACIa7FFoFpaxXtxAjzzvEGIGOAB24p+zte/Qn605cihG/Nf8AA8WeGSFtssbI3owwa7vw/wCFNL8U/DvVJ9OEkfiDSf8ASHTflZ4O+B2Irbt79PiP4B1c6nbQLq+kqJormJApkU54IH0NZnwMvzafFGzt2+aG+ilt5UPRlKE4/MColGxtSq8901Zo85IwSDwaK1vFOnjSvFep2Kfdt7l4x+BrJqTYKKKKACiiigAooooAKKKKACiiigAooooAKKKKACiiigAooooAKKKKANrwloq+IfE1ppjXi2X2h9onfoh7V9L+BdL8W+FJnh8U+IrO90OOI7WkfLLjpgnkD2r5QVivKnFSveXMibHuJGX+6XJH5V5WY5fLHR5HNKPpd+qfRlwly6n0F8LL7S7j42eKbnSmjSxkhbyiCAp+dc4/HNZvwxljX9oLXpGdVRnuMMWwD8xrwtZGQ5ViPXFHmNuLb2ye+aynlEJOr7/xwUPu6j59j3Dwr4stPDX7QniD+0J0itb+eSIyk/Krbsqc+nWr3ib4Gxax4pu9Yt9dtINMupDMxJyy55OD0rwDcTyTz61Kby5Mfl+fJs/u7zj8qHlc4VY1qFXlfKovS90tg51azR7x8FfE+mWel6t4QudRFnO8rG0ud23OeOD655q/P4S+I9l58978QDFZxKzCX7Q2WAHpmvnMMQcg8+tSveXMkeySeRl9GcmlLKX9YlWpzXvWunFPVduwc+lmOv5pLi/nlnlM0jyEvIxyWOetemeB4jq/wV8YabCf38DLdhe5VRn+leV5rs/hh4uh8J+KN+ogvpl7Gbe8T1Q9/wAOte30sZnOaTpWpapdsmkW8s88SmQrEMsAO/616j4C1Pxde6lHoniKwmvdIkVln+2RZ8pQDzuPSvPdQuT4Y8V3beFdWZoUkPkXUBKlozyAfwxn3FSXvxA8VajatbXet3TwsMMoYLuHvjGa0hJR1OWvSlVXKkv1R1nw5Wys/jBc21lIv2c+fHAc9Rg4FcjJ4cvtP8Qxx6zZTQW4u1jkd0IXBb1+lYdvdT2lylxbSvFMjbldGwQfXNa+q+MvEGuWa2urapPdQKwYI5GMjvx1NHMmrAqMo1OZPdWfyPSPiFc+LdP1+PS/DEV1baSkSfZ1skIVxjqSOpqPxzBf2vwa0yHV7hp74XhMxd9zISCdpPqK4G18feKbKxFnba3dxwKMKu7O0egPUVlz61qNzYtZ3F5NLbtKZTG7ZBf+99apzWtupjDCyXLe3uv5s7rW8/8AChfDvp9rn/8AQ2rh9AlSDxJps0hwkd3E7H0AcE02XWL+bSYdMlupGs4WLRwk/KpPUiqIODxUSldpnTSpckZRfVv8T0f4t6Bqb+Nrm/hs5ZbSaJZFmRSVxjnmuWl8HapD4Lg8USpGunTymKNi43MwJB+X8DTk8ceJF0w6b/bFybNk8tombIK9MZPOMVreMPFllqPg/wAN+H9IeU2+nWoa4Drt3XDcuR7Zok03dBQhOnBQl0OIFdVpFp4w0GO31HR4b6GOdA8ckIJVx+HWuVroNM8c+JdIs1tdO1i5ht0GFj3ZVfoD0pRtfUuopONopP1O78ZGXWPhdb614osktNb+0iOJ9gjeaPuSKi1LT7rWfgRoQ0uF7o2ty4mWIbimS3UfiPzrzrVte1TXJxNq99NduOAZWzj6DtU+jeKtb8PK66NqU9oshyyo3yk+uDxV86b1OVYecYKz1Tv5eh2nwxwG1/wtfn7LdanZvFEJvl/eYIAP51y6+BPEb6x/Z/8AZNysu/aSYzgc9c+lY91ql5e6i9/d3Mkl3I29pifmJ9c1sn4h+LDa/Zzrt2Y8bfv84+vWlzJqzNPZ1IycoW1Ol+LGpQG80TQLeRZf7ItEjldTn94QAw/JR+da3xc8MajqVxpmpabbSXSLZRxyrENxTjjI968k3tLcB5GLuzZLMcknNepfE/XtV0DxZYzaPfzWjNp0IPltgMMdx0NUmpJtmDpypzpxi9VcXwdpt14P8A+ItY1mNrU3tv8AZreOQYZz1zj8a4fTPBuq6t4X1DX7RI/sGnkCd3kCnJxwB36iqmseJdY191fWNRnuyv3RI3C/QdK6R/F9lafByLwvpxkF5dX7XV8xXA24AVQe/TNRJp6I6qVOUXKUt2cPW/o2meJbe3TWNDguxHuKie3B4I7cVgVsaR4s13QYzHpGpz2sZOSiN8pP0PFSt9TSopONo/ielvcal4j+Gurz+OrHy5LJV+xXksWyRm/u+/8A9esrwnazar8GPEVhYIZ7pZ45fKQZYqGBJA+gNcRrHirXNfULrGp3F0gOQjt8oP0HFQaTrup6Dcm40i9mtJSMFo2xkehHetOdXORYeag1fW9/JHXfDO7bwv49t/7YR7NbiNog0o27SwwD+daHiH/hZGka1NbRXurTQFyYJIZGZXXPBBFcDq2u6lrt4LrVruS6nACh36gelaVl4/8AFOn2otrTW7qOJRhVLbto9s9KFJWsVKhJz9orXtrcPEsviRr60TxW920oXdELpiWCk9s/Su++MfhfUdQ1q21PTbaS6T7OkcoiG4xkDjIHqK8tvNVv9Y1BbjU7ua6nJA3yuWP0r0r4qeIdX0Dx8suj6hPaFrOLd5bYDfL3HQ001yu5nUjNVqfLa9n6dBvhbTLnwf8ADvX9W1uNrVr6MW9tFIMM555x+P6Vl/A6xe9+LOmMv3LdZZnbsoCMMn8SK5DWPEesa/Kr6xqE92V+6JG4X6DoK7Pwjr+leDPAOr39vdLL4h1NDZwRIDm3iP3nJ9emPoKiUk0kuh00acoOUpPVnJeMb5NS8aaveQ/6ue7kdfoWrFpWYuxLHJJ5pKg3CiiigAooooAKKKKACiiigAooooAKKKKACiiigAooooAKKKKACiiigAooooAKKKKAClpKKAFpKKKACjNFFABkmiiigAooooAKKKKACiiigAooooAKKKKACiiigAooooAUHBzVm91G71GVZL+4kndVCq0hyQB0FVaKAsr3A0UUUAFFFFABRRRQAtJRRQAoOCCODVm+1G81KcTX9xJcSAbd0jZOPSqtFABS7j60lFABRRRQAUUUUAFFFFABRRRQAUUUUAFFFFABRRRQAUUUUAFFFGKACijFPiiMsqRqcFmAGaAGUV6b4l+CGq+FvDL6zqOtaTtWFZltlmYSuGI6KVGetTeEPgL4g8VaDFq8t7ZaVaznEBvHIaX6AA0AeWUV0njbwLrHgPXDputxqGI3RTRnKSr6g1zeKACius8AfDvWPiJq8tjo3lxiGMySzzZCIOwJAPJq9Y/C+9vPHt/4VfVtOtLmxZlae5lKRuQcYBx1oA4Wiut+IXw+1D4dazBpuq3NvcSzwCdWtySuCSO4HpXJUAFFFFABRRRQAUUUUAFFFFABRRRQAUUUUAFFFFABRRRQAUUUUAFLirWlLC2sWi3S7oDMgkXPVcjP6V6L8WPDGh+HPHem6Votp9nheKMyqXLZLN7+1c8q8Y1o0XvJN/db/MdtLnl9FfVnjHwH8H/Aa2H/AAkmnzQi+DCN42dslducgdPvCuC+K3wd0fSPC9p4q8EXEk+m3LorQsd2A5wpU8dyBg+tdAjxCitbWvC+t+HViOt6XdWImz5ZniK7/pmnWnhLXr7Rn1az0m7m0+PO+5WIlBjrzQBj0V6r4Y+Ct/r3wz1LxLILqK6hBNlZrb5a59+Tn9KzPh14butO+MWg6V4l0t4TLcLvtrqLG5T6g9qAPPcY60Yr2v40+AtQ1P4pS2vg/QZJIIbSPelpDhFJyeccZ6V5Hqmjajod4bTV7KezuB/yzmQqf160AUcUleqfEnwroWifDvwtqWk2vlXeoxB533k7vkB6fWvK658PiI4in7SG12vudhtWdgoooroEFFFFABRRRQAUUUUAFFFFABRRRQAUUUUAFFFFABRRRQAUUUUAFey/AXwzoeuf2vdanaQX97aKpt7af7pyDzj6gDNeNV6D8NPDtvqwuLuHxYnh/VLaRfJ3Nt3qRzyCK8/MoueFlFTcfNX/AE1LhpI3vijqMcWktYah4Ci0TUGlHlXkSDYyA84Ydc15Naf8fsP/AF0X+dfQnxK8TWEPwmbRNY12113WpHXy5IAPlwwO724zz718+Wn/AB+w/wDXRf51jlE5Tw75o2s2uuvmr62Ce57d+0Ypk1vwlFuIWTTY1PPqa0/2irubTPDfhDTbKRooFgMmEOPmVVA/mayv2kQ41PwtIgPy6WnIHQ5ror6Twr8aPAWhJfeIrfR9U0xQkyzYyRgBsZ9cA5r1iCH42SR3vwt8Da5qMfmzuIzLnqwKAkV518QdZ8O+Otb0W08BaGbOUxiGREjCmRyeBgdcetdL8bPGGh62+g+EtAvVl07TNqS3C8qDgLx64FZfiKz0X4PeMdC1nwbqsWuSiEyvHOwZQSCOduOCD09qAPWPAH2PwH4o0LwFpe2S+nSS61e4A/iEbFUz9f5V4f8AEzevx01cjIB1M4Pr81epfD39oCbxH44t7XxFpuiaZbSK5kvURldSFOPmLHqeK4P4t+Mv+Et+J0VvaQ2jWmn3Xlw3FqD+/Ut95jnk0Aav7Uf/ACPuk/8AYLT/ANDevEa9u/aj/wCR90n/ALBaf+hvXiNABRRRQAUUUUAAq3pumXmr3i2mnW8lxOwJEca5Jx7VUrQ0bWr7QNSS/wBKm8i5QEK4AOARg9aa31JlzWfLuX7jwT4itbiCC40m6SW4bbEhiILn0FJdeC/ENk8K3ek3ULTv5cQeIje3oPert18SPFF7eWt1c6kzzWjF4W8tRtJGPSkvviP4o1KS2e81JpGtZfNiPlqNrevAqvcME8RpdLz3Kl54I8RafEkl7pF3CjyLGrNEQCzHAH4mi+8E+ItNs2ur7SLqCBSAXeMgDJwKuah8SPFGqwxxX2pNKkcqzKPLUYZTkHgetJqnxH8T6xp7WWo6k01uxBZCijJByOg9aPcBPEaXS89ytd+BvEljayXN3o13FDEMu7REBRQ/gbxJHZNdyaPdrbrH5pkMRwFxnP0xVy/+JvirU7CazvdTaS3mXbIhjUbh+VEvxM8VTaY2nyaoxtmh8lk8teUxjGcelHuBfEaaL8dimngbxJJZi7j0e7aApvEgiOCvrXPHrXWRfEvxVDpwsY9UYWyx+WE8tfu4xjpXKMctmk7dDSn7S757fISiiipNQooooAVGKOrKcFTkGtqXXNS8QeJbO81i8mvLjzY08yVtxwGGBWJVjT5Fi1K2kkOFSZWY+gBFKyvfqB9l/GHwh4a8Vpov/CWeII9GitfNMe91Xzd2zdjPptH515V8YPiL4bh+H9l4F8GXQvLeExiSdDkKqHcAG7ncBVP9ofx54f8AGtr4eXw5qC3ZtDcecACNu4R4/wDQTXhvJpgfTXix/wDhav7ONjrSfvdR0zaZe7Bl+V/z6034lXg+HX7Pei+FYG2XmooolXoQOJJP/HmUVjfsx6vLPeav4ZuoWmsLmLz+RlVYcHP1Fcl+0F4p/wCEj+J1xBDLvtdMQW0YB43Dlz9cnH4UAeweGPGWtyfsyXviFrrGo2aSLDKFA2hSAOPpXj/gHxXq3jH47eHdS12fz7n7Ske/aBwOldf8KvHng+b4TXngnxjfmwWVnG/kbkbHQ9iMVy9lN4H8I/GnQrvw3qsk+jWrrJcXMxzhu/agD0L42fFjxD4L8f2uleH3it4fIjnnOwFpWLEYJ9MKKrftNQw3XhHwvrDxKLuYgMwHZo9xH5ivN/jh4m0rxX8SV1LRLtbq0+yxp5gBAyCcj9a6j43eO/DvirwH4csdD1BLm5s2XzkCkFcRY/nQB5BqHiDVNVsLWy1C9mntrNdlvE7ZWMYxgVmUUUklFWSAKKKKYBRRRQAUUUUAFFFFABRRRQAUUUUAFFFFABRRRQAUUUUAFFFFABS5xSUUALnPWnRSeXKrjqpBFMooA9M8S/G7WPFPhd9F1HSdK2NCsK3CwnzUC46MTx0rzTJzSUUALmkJJoooAK6PwX4yn8Faw2o2tjZ30jRlPLvIt6j3A9a5yigDq/iB8QNS+ImsW+o6tBbwSwQCBVt1IBUEnuT61ylFFABRRRQAUUUUAFFFFABRRRQAZooooAKKKKACiiigAooooAKKKKACiiigApUPzDtSUUAe+N8dfC/h3w/c2/gLwwdP1C4Ta88gAUHHXgkn6cV4Rc3Et1cyz3Dl5ZXLu56sSck1FRQAUZoooAKM0UUAFFFFABRRRQAUUUUAFFFFABRRRQAUUUUAFFFFABRRRQAUUUUAFFFFABRRRQAUUVp6P4d1bxBOYdFsJr2RRlhEudv1PaplJRV5OyAzKK2ta8Ja74dRX1rTLizRjhWkX5SfTPSmeE9Og1fxdpmnXe4wXVykUm04OCccURlGa5ou6AyKK9i+LPhLwB4U1mHw9o41K21JZozcTzsJIlhYckYwSRwa6LTfB/wVi1Cx8PTane6nqd6yRrcxMQgdsADgYHJ96oD57orvviB8M7vwz8Rn8NaL5motMqyWyqvzsp5wfcVlaF8P9b1nxxD4We2a0v2fEqzLjylxksfbH8xQBy1Fe833h74K+DLltI1661TVtSi+WeS3xsRu47f1rA+EHhzwH4w1aTRNfg1FtRmldrVoHCxiMDPzdTmgDyWitnxhp1vo/jTWNNsgwt7S9lhiDHJ2qxAyfwrGoAKKKKACirENsZEctuGFyOOtEVqXUMzqm7gZ70AV6KuJbokUjTAlo2wQD1qmeWOOBQAUUUYoAKKMUYoAKKMUYoAKKMUUAFFFFABRRRQAUVc0jyP7as/taCSDz08xT/Eu4ZH5V6V8Y/CVhp3jyx0bwnpXlSSWy5gg3MXck88k9q55YiMa0aL3km/ut/mO2lzymnrE7glVJA9BXsvi/wDZ+1XSPDmh3Hh61vNS1G6iZr+LKbYGwpAHT1I79K6P9mTRrOd/EsOsWFvO9u0alZ4lfYfmzjOa6BHzpRXax/CrxtqtnLqtj4fuJLN2Lq42ruHqFJBI/CuPmtpYLh7eaNo5kba0bDDA+mKAIqK7PTPhH451fTxe2Hh65eAjcGcqhI9QGIJ/KuX1HS73Sb57LUraW1uYzhopV2kGgCpRXUr8NfF7S2Ma6FdM1+nmW20AiRcA5zngfMOuOtR+JPh54o8JW6XHiDSJrSByAJSVZc+mVJxQBzWKK9Y8FeHtC1D4J+J9Xv8AT45dQstwhnZmyp2gjgHFeUN1rno141ZTil8Lt+FxtWEoooroEFFFFABRRRQAUUUUAFFFFABRRRQAUUUUAFFFFABRRRQAUUUUAAr2n4I+M9D0jRNU0DVrz+y7m+k3Q33TGVxjd2xjPPrXi1d34K8WeFNJ0WbT/FXhhdVLzGSOdWCugwBtz1xxXn5jQWIwzptN7bWv+OhcHZ3Op+MHh7xTpnh+0nvvEH9u6G02YZifmRiDjPqMd68++H//ACUTQv8Ar+j/APQq6bx78ULTxH4atPDnh/Sf7M0q3YPsZ9zMR0GfTmuY8AEL8QtDLEAC9jyT/vUsthWhh1Guknd9tul7aX7hO19Ds/2jP+SzX2P+eEP/AKDWx8K/A9p4ZsoviJ48mFpp1oRJZQN9+eT+EgfXp61ofHLRLjSvinD4zvrWC80XzYE8sSqWlKrkqR+FWtW/aH8Ha7DDDrHgD7bHAMRJPJGwT6ArxXokHm2ufFTVr74ov4x08CC4RsW6ONwWMDAU+vFeifAXxBdeL/jNq2ta26NfTWBwVXGMFRwPoBXL3Hjvwnc+P9K13TvBcFjp9jGVnsAqYmYkkNwMZAPeqE/xETT/AIpP4z8LWMemQs+37IMbXXADAgcckZoA9V8Ja34O8WfEDUfBM3g6FYmM3+mS/NK7rksW9M84/CuJ+F2jR+H/ANpiTSYG3R2ctxEh9QAcVtn46eHbC6vNZ0XwXDb+ILiE77ksuCSOvAzVH4GaRquvfEUeNJ/K8hZJRdSPKAxdl7A/WgDy/wCI0bj4k+I2Knb/AGnPzj/poa52CHzWOThVGSa6rx7IH+IfihHcEHUZ2Xn/AKaGuZikSAgqd4ZcOtADo4IZLhAj7lPUEYqTEcschMYQxHt3FQPOoRVgTZg5yTzTZbqWVdrHjvgdaAL43C4WTcBAy461CLiNY/LLlCp4IGciqGTRQBZN0AZQikq4x8xpkMkaLzEHb1J4qGgUAek2vw30m+0KLUpfFWnwSyQeYbbeu5TjO3r1pmlfDbStQ8PQajN4qsLeWSLzDbu67lPp1rzrcR0Jpd59TV80exzOlV/n/BHomh/DXStW0WC+uPFen2cku7MMjqGXBI9fbNJoXw30rV9LF1P4rsLRzIymKR1B4OM8nvXnm8+p/OjcfU0c0ewOlU1tP8Eeh6J8N9K1a3nln8V2FoY7iSEK7rlwrYDDnoetGi/DfS9UW7M3iqxtfs908CiR1HmBcYYc9DmvPN59TQHI6E0c0ewOlVd7T/BHoWl/DjStQutQhl8VWNsLScxI7uoEox94c9K5HxLpMOh6/Pp9texX0cW3E8RBV8gHjH1xWXvb1P50hJPWk2raI0hCaleUriUUUVJqFFFFACqSrAjgjvW/pvizW4/FNpq39pTtfo6otwzZYDOMc1z9PhcxTxyDqjBh+BpWV7gfVH7QPjHXvCmi+F5tB1Oeyku0l85oj9/Cx4z+Z/Osn9laaS6k8TzTsXkkaJnY9yd2TT9Z+IHwu+IvhTSU8ZT3EFzp8f8AqkDBg5UBsEdQdormvgl8Q/CngO/8Rf2ncSwW11Kv2QCMsSgJ6/mKYGp8Mfix4j8S/GZbC6uiNMumkVLLA2RKPugfSq2saFp9/wDtgpYTwKbeS4SV49vDMIA38xmvPPhZ4j03wx8U7TWNWlaOyiaQs6ruPI44rU8b/EK2b45N4y8MyNLDHJE8ZZdpbEYVgR+YoA7v42fFLxP4S+Jkem6Dem0s7SCN/JQDbITyQfbjFWv2mNKtZtF0DXxCsd5M5ikIGCy7dwzTdV8Y/CD4gXlrr/ikXFrqMKKJIsNh8c4OOorgvjN8VYfH+pWlppUbxaVYEmIuMNIx43Y7cUAew/FDxZqPg/4IeG7vRJPIvLiC2hE4A3IvkgnH1wKo6ZrV543/AGWdavvEL/a7iGKcCVx8xKAMp+tcN8V/iP4d8U/Cnw9omj3Mkl7YiETo0ZUDbEFPPfmk8IfEfw9pP7PuseFb25kXVLpbgRxiMkHeoC80AePQ6vf2unz2FvdzR2k5zLCrYV/qKpZoPWikklsAUUUUwCiiigAooooAKKKKACiiigAooooAKKKKACiiigAooooAKKKKACiiigC3DbLsUyBmZhkIDjj3NS+TsYPCGhlA3KVb096VGDwhuQrJsJAztNAZYYQcO/l9Gxwc0ATT3cs0cSXdxcXKSc4llZgDUHloXa243K25D/SmLc7bNSCpdW6GoY58XHnSgsevHrQBZaYJqLhzhSNpqFnjS2eHdv8AmypAqvJIZJGc9WOabQBZa8YtGyfKyrg9809NWvoV2291NApOSsUhQE/QVTooAdJI8sjPKzO7HJZjkk/Wm0UUAFFFFABRRRQAUUUUAFFFFABRRRQAUUUUAFFFFABRRRQAUUUUAFFFFABmjJoooAKM0UUAGaM0UUAGaM0UUAFFFFABRRRQAUUUUAFFFFABRRRQAUUUUAFFFFABRRRQAUUUUAFFFFABRRRQAUUVo6P4f1XX7n7Po1jNeSgZKxLnA9/SlKSirydkBRjleI5jYr9KHnkl++5b61s634N8Q+HIll1vSrizjY4Duvyk+mRVfwzYQ6p4o06xutxhuLhI32nBwTilGUZrmi7oDLor2P4peBvB2heI7bwp4Tg1Aa5JcRqzTyBoyjjjHfOSK6wfCj4Y6Lq2neENfvNQfxBfxjE8bYVXPQY6DnpkGqA+cKK7PxN8NtY0f4h3XhXTYJNQuIzuh8teZEIyG/Km+DfhzqvirxwfDkqNZSwZa7aReYFHXI9aAOOor2nXNJ+DHh+xvtNjutV1HV4YZES4XHl+cFOM4xxux2ry6y8K61qekXWq6fps89ha586dF+VKAMeivVfAvh74ZL4UGteOdauXuWlaL+z7cbWTHf1PGDnI61pfEH4aeFNJ8N6N4z8LXV1JoN5cxxz28pywQk5Kn/gJGDQB4xRXsvjjwR4Ki+EVt4u8IRX6G4uPKAu5AeAcHgfSvGqACiiigAooooAKKMUYoAKKMUYoAKKkSCST7iE0zYd23HOcUAJRVt7eGPKO7eZjPA4qVQIo4AsSurj5iRmgClFE0jcKSB1xU72n+kFFOFA3ZPpVgqBFLBEwVw+euMjFI9wsckb5DnbtfFAESWiCSMli8bHHpUN0FWYoi7dvH1qSS4TA8vezZzuc1G04e4MsiBs9VoAhxRippbgyLtCIq+iiu/8AF3gDS/D/AMM/D3iO1u7iW51ZELxvjYhKBjjAz1NY1K0KUoxlvJ2XruNJs86or33w18C/CeofDjTvFHiDxDeaelzHvlOUCIdxUDlfas/xd8BbO08H3HiTwVr39sWdshkkRgpJVfvEMOOB2xWwjxKiuy8BfDbVPH818umyRwx2UPmySSg4PoBjvXJ3FncWuPtEEkQPTehGfzoAhoqzb6be3alrW0nnUdTHGWA/KoXjeJykqMjA8hhgigBmKK9I8VfD7S9D+Feh+J7W7uJLrUmAeJ9uxeDnHGeorzc1hQrwxEHOnsm180NprRhRRRW4gooooAKKKKACiiigAooooAKKKKACiiigAooooAKKKKACiiigAooooAK9d+CPjfRPDa6ppmuTtYnUAoivVXPl4BGCe3XOa8irtvA/jLRPDthd2fiDw3b6zFcOHVpAN0ZAxwTXDmFFV8NKm03fto/xKi7O52nxa8P+I7TwpBer4mbX/DjTh42ZgWRjkDkdRzXmfgj/AJHvRv8Ar8j/APQq6jxt8U08ReGoPDuiaTHpOlROH8pTknHIH0zzXLeCmC+OdGZiABeRkk9vmqMthXp4flrqzu+23S9tLhO19D2D4hSRxftZae8xAQS22Sf92nfEq2um/an0LYGw91ZFPdRIM/1qp+0P4e1Gz8bnxjbXFubSV4Y4WjlBcOq5zgfSiy/aJtfJtLzWfCltfa5Zx7Ib44BHGM56j8K9Ekl+NPizUPCPx0XVdAlRLyGzjRtybgcr0I+laH7PWqP4i8VeM9V1lvNvbm2R5CnDEHfux+QrzXRfic0PxQk8YeIrCPU3l3boCOFyMDbn0pmm/E+60H4m3nivQrSO1ju5G32X8BQ4+U4+mfrQB7H4AvvCvxPvta8K3HhG2sIraF2huE5kGG25Jx97JzXiln451/wpo2seFtMuUGn3MjpKCmT6HB7Zru739oK0ttPvf+ET8LWukalfqRPeIBnJ6njqfrXI+GviNYaH4B1nQLvRIr251EsVu3AyhIxz9KAKnw5+Hd/461ojP2fSrb57y8c4SJfTPrXS/GDx9peo6dY+DfCA/wCJHpJGZf8Ans4BGR7cn65q34M+Omn+E/Adv4bk8MRXsahvPdnAExZicsMc9QPwql4k+JOgeMtFbQdH8E6fpV5eyxxx3cYUFDvHfHfpQBr6t/yaPpP/AF/N/wChmvD6+g/Hehz+Fv2a9O0TUJrd7yG9LMsMgcYLEjpXz5QAUVLbwiUsXOEUZJq2IIwpJhXaBn73zUAZ9S28YkuI0Y7QzAFvQetWo7aIGTI34UMvuKN6JFHcIgT5trKOhoA7XWvAGg6doz3tl4rtbyZSuIE2ZOTz/F2qzqPw78PadpVxc2/iy0up1jBSBdu4nI4+9XA3KiO1+Q5VnyKGuYzJHNuO4ABlq+aPY5VRq9Z/gjutT+Hvh2z8OTahbeLbW5uI41YW67csSQCPve5/KptR8AeH7XQZrm38T2k88cJdbddu5mxnH3s/pXnP2nb5oUfLJ69qQ3k/l7d5xRzR7D9lU/nf4Ho+o+B9DsfD32+38XWs00UW4W67csfT72aZP4A8OnR5NRXxdaNcfZTOLYFcl9mdn3uueK81Lse5oDMOhNHNHsHsqn8/5Hpcng3QF0FtSPim0a7W2Mgt/l3Ftudv3uvavOBcSx5VXIFRlmPUk000m09kaU4SjfmlcUsSSSck0lFFSahRRRQADrXQ6r4z1TWfC+maBeNGbLTM+QFTDcjHJ71z1AqZQjJptbbAfXeleErnxv8Asy6RodlcQ20s8IIkmztGJWPYGqDwaT8Fvgzq2i6lrMF9qN7FKqQxtks7rtAC9cDqSaw9b17Tx+yfY2NvqMIvkjTMKSjeP3rdutfOUk8spzJIzn1Y5qgPqr9nLWTdfDXVkWzt4Rp0rKHRcNL8m7LHv1rxvXfHN38WfEPh/StQsbSyRbryg1smCRIVBz+C12/7NvirSrDT9b0DU72O1kvSJIjKwUOSu0gE965Dxj4MsPhXrei6np2vW+rTLd+aYYsZjVCpGfrk/lQB6x8SPHlv8GBpXh/wvolm26HfI0q9QMDt1J55rC+NGgaR4k+FWlfEDTbKOyu50iaZUAG5XHQ47g961/Fuh+FPjlbabrdj4kt9OureLZNFKRkA8kEHoQa5v4z+MtB074e6d4A8NXi3wtVjWaVDuCqg4GfU0AeR6p411TV/CeneHrtozZacWMIVMNye5zz1rnDRRUxhGCtFWAKKKKoAooooAKKKKACiiigAooooAKKKKACiiigAooooAKKKKACiiigAooooAKM0UUAFKGIOQcGkooAcZHb7zE/U02iigAooooAKKKKAClBKnIODSUUAPaWRxhnJHuaZRRQBZtCG8yPoWHy/UVZCgTGTZIWYYK44H41m9KeZpCuN7Y+tAFtLhVvAD8iKuznmq007yHazZUHjAxUWaKAJprjzI0RV2qvbNQ5oooAKKKKACiiigAooooAKKKKACiiigAooooAXcT1NJRRQAAkdDSlieppKKAF3H1oLE9TSUUAFFFFABRRRQAUUUUAFFFFABRRRQAUUUUAFFFFABRRRQAUUUUAFFFFABRRRQAUUUUAFFFehfDD4ZDx6b65u742VjYAGV0XLNkE8fgKwr4inh6bq1XZIaTbsjz2lAycV6T4w8EeC9L8Ozaj4c8VtfXMMgjNpIg3MScegxivOI/8AWr/vCnRrQrw54X+aa/MGrGpJ4T1+KxN5Jo16lsE3mYwMFC+ucdKj0jw5rGvSMmjabdXxX732eIvj8q98+NvizWdD+H/hTTtMvDDaalpgS5jCg+YAkeOo469q0Nc1q8+EHwD0F/DHlwX1/InmTNGGOWUuTzwegFbCPmnUNNvNLu2tdRtpbadPvRyoVYfgarV9HfF6OLxn8E/D/jW6ijTUSI1lkRcZDcEfTNeceP8A4faF4V8H6Jquk+IBqFzfoDNBuU7MqDkY5AB45oA84oAycCrOm28d5qlrbTTCCOaZI3lPSMEgFvwzmvQfH3hTR/hp4k0efw/q8WtgqJ3SUI6gg9CBwQfSgDkbTwX4kvrH7ZZ6Hfz2+N3mx27FcfXFULTSNQ1C+NnY2U9xcrkmGOMswx14Fe8+GPjx4y8WfETS9N0qztrbT5JFR7SKENhO53Hkfhisv40+IpPB3xsbUfCFwtnetaKtw8SqfmYnPBBGcYoA8b1LRNS0ZkXVbG4s2cZQTxlNw9s1Rr3r9p6Z573wzLKdzvYFmPqSa8FoAKKKKACiigUAFFLS4NADaKXFGDQAlFOwaTBoASilxRg0AJRRRQAUUUUAT2No9/qFvaREB55FjUnpknFdD4t8Ban4O1m103VHhae6RXTy3yME4Ga5y0mNveQzL1jcMPwNd1488bw+O/H1hqVrbPbRJ5UQR2BPDCuaTre3ior3LO/rpb9R6WOh/wCGaPGpjVg9j8wyAZxmuI8ZfDvxD4EnjTX7MxJKcRzIdyMfTI7+1fSPx903xffv4c/4Qkah5itP9oNlKU/557d2COPvVQ+Mjtafs/afZeKpVk1tjAMkguZAwLkf8BzXSI+Z7fw7qt1oc+sQWM76fbttluVQlEPoTWYa+vdKPgWw/Z8+1fYLqfw45LTRyE+bK27BY4I7ivENP8K6D8SPi5Dpfgy3m07RZIxJIHJLRqoG48k9SQPxoA8xor6autG+C2ieK4vBd3pU0t+zrA10ZHO2RuAC27g89q8x+J/wqfwh8QLPRtIeSe11Mg2e/lhlsbT64NAHmdFfS+r+DPhX8J9L0+28YWU2q6ldJudtzEn1O0MAFz0rzlvDfhjx58XtP0TwHFLZ6VdANKzMxYAAs+NxOOBQB5rZW/2q+gtydvmyBM46ZOK9A+LPwq/4VlJpq/2l9u+3K5/1e3btx/jXqXiXQvg94Z1628Kz2lxb6mCmL2J2YxMcYLEnH6VT/at5uvDOTuyk3PrytAHzlW74R8J33jHW10rS2jW4ZGceY2BgDJr6C1P4S/DvSPD+ieJdeY2GnJbK91Ekjk3UrKCo5P14GK82PjXwr4Z+Lya54T09xo0UGwQLlWYlcE8571jiHVVGTo/FbT1GrX1PONa0qbRNau9MumVprSVopChyMg4OKoVp+IdTGs+I9Q1JFKLd3MkwUnJAZiQP1rMrSHNyLm3EFFFFUAUUUUAFFFFABRRRQAUUUUAFFFFABRRRQAUUUUAAr0n4U614w8P/AG298L6S2q2JZUu4FXdnrjpyD15xXm1dB4Z8ca/4Q80aDfvbLMQZFAyGI6cVzYul7ajKnyp36PYqLs7ntXxC8N6J4i+F9z4ufQpNB1WEAmJ1CFzuAII75zwcCvniP/Wr/vCui8RfEHxL4rhWHW9TknhU5EQ4XP0Fc4jYkUn1rmy3C1cLRcKsr66buy7XY5yTeh7p+0H/AMip4D/7B/8A7JHXR+PtNvfiL+z74auvDVu99NaPGZYIeWGEKHj1BIrA8f8Air4d+M/AOlRS6zcrq2k2CxwQpAwV5Nqggkj/AGa8t8L/ABF8T+DY5IvD+qS20Uhy0XVSfXBr0iD2j4nRt4V/Zw8P+GtRxHqMpi3Qk/MCOT/hXi3iLwF4k8MaNYanrdi0FnfKDA5kDZ4zjAPHBqj4h8W614q1EXuvX8t3Mowpc8KPYdqta/498Q+J9HstM1m/a4tLEYgQjGOMc+vAoAwbS3lu7yK2tkMk0ziONB1ZicAfnXU6x8NvFOia3p+k6rpzx3mo4FsgkVt5JxjINcrbXElpdRXFu5SWJw6OOqsDkH866fVPiX4p1jXLDV9Q1JpL3T8fZpNoHl474oA9/wBK8Can8JPBefDGhy654rv48S3KbfLthjoMkdP1r578Y6H4n0nWxc+MrSe3vL5jLunYEyc8ngn1rc/4Xn8Qf+hhn/IU2w8VQePPFFu3xU1y5FlbwuI5kTcytxgYA74oA7f9pj/j48Lf9g/+teEV618dvGnh/wAYX2inwzeNdQ2dqYnZo2Qg546j0ryWgAooooAKVevNJRQB6Zp3j/wna6LBaXPhOOaeOII82V+Zsdah8PeOvC2l6Fb2epeFo725j3b5yR8+WJH6HFedZorT2jOV4Wm776+bPRdD8deF9NsJIb7wtHdStcSSLISOFY8L+FJpHjrwvY3moSXnheO5S5uDJCpI/dJ/drzrNLS52N4am776+bPRLHx14Xttc1K7n8LJLb3RQww5H7nCgHt3PNLH468Lp4nm1B/C6NaParClqSuFcMSX/LivOqKOdg8NTff72ehz+OPDEnia1v08MRraRQskltkYdj0bp2rM8beKND8Q21omiaIultCzGQqR84OMdK4+ihzbVio4eEZKSvp5sQ0UGioNwooooAKt6X/yF7P/AK7p/wChCqlOjkaKRZEOGUggjsaAPrf9oL4ga/4GtfD7eG7pLc3nn+aSgbO0R46/7xr5f8R+Ldb8WXoutf1Ca8lX7pc4C/QDgUuveL9e8Tx26a/qlxfrb58oTvu2ZxnH1wPyrFoA+oPC2k3fiz9k5dI0JFub07x5W4A5EhOOe9cP8H4Ln4afGq30/wAWxCwmvbMxDe6kKXIK5IOOdhFebeH/ABx4j8LRPFoGrXNlHIcskT4BP0qjq2v6nruqHUdWvZbq7IA86RstgdOaAPePFnwY8T6p8cW1eztlk0m6vY7lrpZVHlqCCRjOc8dqtfGnxnp1h8YvCm2RJ/7GkSS52HO07s7T+FeNW/xT8bWtgLK38R3yQBdoUSngema5a4uZrq4ee5kaWVzuZ2OST9aAPpv48/DbXPHuraT4h8JRLqUJsxAyRyKMAMzK4JIBB3n8q4P4a6NdfC/47aNZ+K2ht5Z4WztfcE8xHVQT0znH51wmj/ErxfoNiLPStevLe3X7saycL9KxdU1vUta1I6hql5NdXZxmaRstx05oA97+J/wh8S618XX1rTYUfS7qSOR7p5VVYQMbt2TntS/tU7TN4XEZ3KI5QCO/3a8cuviR4uvdJGmXWvXktoAB5TSHBHpWbrHinWtfS2XWdRnvFtV2wiVs7BxwPyFAHv8A+0Cx/wCFKeEsE4M0OR/2wavmutjVvF+v65psGn6tqtzd2luQYYZXyqEDAwPocVjUALSUUUAFFFFABRRRQAUUUUAFFFFABRRRQAUUUUAFFFFABRRRQAUUUUAFFFFABRRRQAUUUUAFFFFABRRRQAZooooAKKKKACiiigAooooAKKKKACiiigAooooAKKKKACiiigAooooAKKKKACiiigAooooAKKKKACiiigAooooAKKKKACiiigAooooAKKKKACiiigAooooAKKKKACiiigAooooAKKK7DwN8NtY8ePO2mmKG2t8CW4mOFUnt9ayq1qdGDqVHZLqNJvRHH0V6N4t+DupeFNBk1dtUsL21iYK/lP8AMCTjGK86NKjXp1489J3QNNC+WcZptfTfjPxPF4L+CfhaSz0ewuZNTsRDK80XK/ul+YEd+a+ZWO5yemTmthCUV3lx8J9XtvhhF42e6tzZyAMIQfnCk4B/+tXCxSeVMkmAdrBsHvQAmxvSkIwa+mbLxLH42/Z68S6ndaPp9nPZw+RG1vFg8BecnnNfMx60AFFFFABRRRQAUUUUAFFFFABRRRQAUUUUAFFFFABRRRigAooooAKKKKAAAlgByTU8trPAyieJ4y3QMpGabayGK7ikHBRwf1r1745a9p+uePNFbS7mK4iht0UvEwIyZCcfrXPOtKNeFJR0aeva1vzuO2lzyY6beKMtazAdclDVZkKHDAg+hr7J+LPxMvvhrofh6bTrC1u/tqssgnB4CqnTBH96uU+L+l6T4v8AgxY+OJLCPTtQPkyFlQBtruEKnuRzkfSugR8wUV6P8QPhDe+BvDtjrS6lDqVleMAJIUICgjKnPvTtE+D13qvwxuPGlzqkNlaRBysTxks4U4GDnu3FAHm1W9L0u81rUoNP0yBri6uHCRRJ1YnsK+kPAfwW07/hU+pSaw2nS6jqMRMF2wEgtBt457HnJrhfD/gn/hBfjx4X0/8AtS31LzLiOTzbf7o56daAPM/EPhnVvCuoLY69ZyWdy8YlEcgwdpJAP6Gsqvq34sfCS58e/EGLUZtWtdKsks0t0eblpHDuSAMj+8K8N+JXwr1T4cXduL2eO7tLrIhuIlwCR2I7GgDhKK9W8DfAjVvFmhprOoahb6Rp8gzFJOMlx64yMCoPH/wR1fwXpA1e2vYdW0zgPPbjGzPqPT3oA8wor0fwN8HdU8eeEb3WdJvIlktpfKW2deZDx37da60fszahNpUsln4ksLm/jXL2qLnB9M5oA8LorZ03wtquq+KR4es7Zm1EzGEx/wB1gcHPsMV7An7Mlwlusd74r0+3vmXP2cr/AFzQB4NRXX+H/hxq3ifxpceHdGkiuHt3ZZLkH92FBxuz6V6Pdfsy3v2WVdM8S2N5fwrlrUJg59M5oA8JqS3t5Lq4jggUvJIwVFHcnoK1rbwrq1x4uTw2lsw1Jp/I8phjDe/tjmvYl/Zx1DR5LK6TX7Ge/jkSQ2WNrNg5IBJoA8e8R+Dte8JSQp4h06axacFoxKMbgKxK+hv2rgW1vQAO9u/H/Aq5jw58Ab/UPD8Gr+ItbtNBguQDCtwMswPTPIxmgDyCiu8+Inwq1b4f+RcXE8V9p1wcRXcA+Un0PpW5p/wC13V/DWh6vpt5DMmqqrMpUj7OpGcsaAPK4oZJnCRIzueiqMk0ksbxSFJFZWHUMMEV7BaeEYPhP8aPDsF9rFvdxuhllnUbVjyrrg8+tcV8UtQt9T+JWr3VnKssDzfI6HII9q5/bS+sey5dLXv87WHbS5yNFFFdAgooooAKKKKACvVfhH8SbLwfY3uk6/ZSS6ZfvlpoxkocYII7jGOnNeVV33gX4kW/hPRrjS7/AMP2mr2803nZmOGU4A44PpXDj6CxGHdNx5r9L2/EqLs7nZ+Pvhzo0vgafxV4H1ad9OUiSW0dyyEZxkZ6EZ6GvDjXpni74xT6/wCGm0DSdIt9H06QjzEhbJYZzjoMc15pWWWU8TTouOIet3bvbpdrqOdm9D3v4z/8kP8AAP8A1wX/ANFJXgdfT/jnwXf+MvgZ4TbTJrdRptiJ5vNfHy+UvT34r5hI2uR6GvTINh9S8QN4bWze5vzo4b5Y2LeTn27VjV6RdfFj7R8IYvBP9jwK0YC/aweSAc5xjrXnUUZlmSNersFGfegD3j4d/wDJsPjH/eb/ANlrwQ9a+ndN8GX/AIJ/Zy8T2WqSwPLdRefH5L7vlIX9a+Yj1oAKKKKACiiigAooooABXW+BrDwrfT3Q8YX0tpGqjyTGcZOef4TXJClzTTsyJxco2TsekXOi/DpfFVnBBrFwdKeB2uJSTuVx90D5P6Uaxovw5h1DS10vWLiW3knK3jMTmOPHBHyDv9a83z70Z96rm8jBUJXT53oeleIdG+HFrpRfQtYuJ7oyoNjkn5d3zH7g7ZqXV9D+GcOg3Mula3cy36wkwxsThnxwPuDv715hn3ozT512D6vLT33oeo2Oh/DF9At5b3W7pL9rZWljBOBLt5H3OmfeovDmi/De40WCTXtZnhvjkSRoTgcnH8B7YrzPPvRn3o512E8PKz99npGg6N8ObgXn9taxcQlLhlt9hPzR9ifkNch4sttHtPEE8Phu5e509dvlSv1bgZ7DvntWNn3ozUt3VrGsaTjLm5m/ISiiipNgooooAKsWJ/4mNt/11X+YqvT4JfJuI5cZ2MGx64NAH2Z8U/GHhzwjoegTeKPD6ayJkP2dWVT5ZCrn73rkflXz/wDE/wCM134+sIdJstPTStJhcMIEfJcjpnAAwPQCqvxL+Ldx8R9M0qzuNKisRpu7ayTF9+4KOcgY+7XnYBY4FAH0p4Ff/hZv7Od/4bkYPqGl4jhz1O3mP8McfhUHx1v4/Bnwt8O+BbFwskkSvcBD1VBz+DOWP4VX/Z08MeK9D8UXl9qGn3OnaS9qRK13E0YkPVSuRz65rzP4xeKl8XfEzUr2CTfawt9mt+cjYnHH1O4/jQB674BBf9kbXtuS2266dfuivH/hFu/4W94c35P+mp1+tbHw1+NF74B0a40ebTIdT06Zi3lSPt2k9exyDUGr/FkX/wAQ9H8T2mgWtkulEFLSF8LJhieSB70AdR+09qF0PiXp1sJnWGHT45I0ViArGR8t9eB+QrqP2iSZPg94SkclnaeLJPU5gavF/iV8QJfiN4nh1m4sUsnjt1g8pJC4IDM2ckD+9Wv49+L1x478JaToU+kxWaaa6MsyTFy+1CnIwMdc0Aer/HMuvwP8O/2DuGnHyt5j6bNny5x70vwsMz/sx68NcLfZh9o+zmX+5tXGM/7e6vNvA/x21PwroKaJqmmwazp0QxFHO2Cg9OhyKj8e/HLVPGGif2LY6fBo+mE/PDAcl/YnAwPagD0j4D3Mtn8CPFdzA22WETyI3owhJB/MVy/7Ml3PJ8SdRV5nYTWjM4Zs7jnqa5PwZ8XLjwf4D1bwzFpMV1HqayK07TFSm9NvAwc4rM+G3xDl+HPiObVrfT475pYTF5byFAMnrkA0Aet/DFIf+GpPFG8LvBufLB9fMGcV5p8YW1U/GLWfNa4EvngQYJztwMbcdvpWOPH2o2/xGn8YaYq2l3LctP5Qbco3HlT6ivT5P2mPPjE914PsJdQUYE7Pnn15XNAGx+zDGsNv4mjkUrqSbQVcYYLg/wBa4v4OvrH/AAvtN/n+aZ5vtu7PTnO78cVymg/EzWfDvjq68Tad5aTXcjPNAf8AVuGOSteiXH7TEy28sumeFbG01CZcPch8nPr93mgDrYE0/wD4bC/d+Xv+xsSB/wA9PLOfx21518VZdaH7QcnlG4Ey3UX2Tbn7uRjFee23jDV7bxkvidblm1JZ/OMjdz3H0xxXqmqftKXl/Zo8Phuxi1NVAF6x3lD6gEUAdH+0mI/+E68Iicjy+N+fTzOa6z4y3fga0sNEPjjT9Wu7TYwtm0/Hlrwv3ssvOMY/Gvnz4l/FO6+JNxp093p0dlJYxFMxylt5JznoMV0nh39oG+svD0WjeJ9EtdetoVCxtOcMAOgPBzQBpfEL4oeDtc+E6eF/DNlq0fkSR+Q97Eu1QpyRuDk5xXY+ItXvdF/ZL0e402dreaS3ghMiHDBWBzg/hXjvxA+KMfjPS7bTLHw/Z6PaW8vmKIOWY4xzwKk1n4u3GsfCiy8DvpMUUNoIwt2JiWbZ/s49/WgDz2a4muH3zyySt/ediT+tRk5oooAKKKKACiiigAooooAKWkooAKKKKAJluplXaJGAxjGahNFFABRnFFFAEpuJSOZG9OtRE5NFFABRRRQAUUUUAFFFFABRRRQAUUUUAFFFFABRRRQAUUUUAFFFFABRRRQAUUUUAFKDg0lFAHoOp/G7xvqug/2PNqax2nliIiGJUZlAxgsBmvPicnNFFABRRRQAUUUUAFFFFABRRRQAUUUUAFFFFABRRRQAUUUUAFFFFABRRRQAUUUUAFFFFABRRRQAUYor0b4afC4eOLK91O/v/sOnWTbZJFGWJxk/gBWGIxFPDU3VquyQ0m3ZHnOKMV6Z4v8AAng/SvDc2p+HfFSahLE6p9mbbuYk47V5madCvCvDnhf5q35g1Y3U8EeKZLEXsfh3VWtWj8wTrZSFCmM7t2MYx3rCIwcHrX0r8SPFWr+GPgb4NGi3RthfWYhuMKDvTyl45+pr5rJyxJ71sISivTbn4aaTB8GovF6a4r374JtMrgZONvrkV5mKAEor0zxH8NNI0b4T6f4pttcW4vbkpvtcrgbjyB3yK8zoAdFE80gjiUs7HCqBkk1e1TQNW0QRHWNNu7DzgTF9pgaPeB3GRz1FemfCLWfA3hqxOq6xbve+I/tSQ2tu65RQxADj/Guq/atbdd+FnxjdBOcfjHQB4tD4I8U3Fmt3b+HNVltnXes6WUhQr67sYxWERjrX0l8BfFesa94Z1/TNUuzPaadYBbaMqB5YwRXzcfvH60AJRRRQAUUUUAFFGKMUAFFLijFACUUYoxQAUUYoxQAUUUUAFFFFAD4YnnmSGJdzyMFUDuTWrr/hXWfC9xFBr1jJZySpvRXx8y5xnj3FZUEhiuI5BwVYGvTvi14v0nx/400ptHmkktlhS3ZnQqQS/PX61zTqVVXhCMfdad32ta33jsrHl1FfR+qfs7eHdD1lLrWNeNloKwKWknkVXeYk5UHsMY/OuA0L4WW/jT4qajonhi8B0Szk3G9Lb8R8DIPckmukR5fRX0FB8JfhnrerXPhrw/4lujrsAYfPgozL1x2P4V5xoPwu1XVfilJ4MnIhnt3b7RL1Cxrj5h9QRj60Acnoekza7r1lpVqVWe9nSCMucAMzADP4mtvx78PtW+Hmq2+n628DS3EXnIYH3DbnHPHtXuFl8KfAPh7x9o9npniZl8Q2V5DP9mncHzSrBtuOxIHFc9+1FDJc/EPRYYVLPJZBVA7kyEUAeDUV9BR/BDwb4T0SzuPiN4he0vLwfLFGwVVPcDucZ5Ncj8VvhCvgfT7TWtEvDqGi3jBVlbGUJGR06g+tAHldFe3eCvgroz+CYvFfxA1ZtOsJ1DxIjBTtPQkn19BXNfEXwx4F0m306fwRrj6ibuRlkiLBvLAxye4znvQB5tRX0PqnwE8KaJp+na1rPiCWx0mSBXuDKRuaRgCqr+v5VlePPgvoFp8Pm8X+CNTku7KNd7rIQwZO5B9R6UAeG0V6l8KfhEPHNjda1rN4bDRbNiryjGXIGTgnoACOa7CX4JeC/Fmj3kvw28QNd31oPmikcMrH09Rn1oA8m8CeANV+IOqzafojQLNDF5rec+0YzisPWNMm0TWrzS7oqZ7OZ4ZChyNynBx+Ve1fsx20tn8SNXtp1KSxWjIynqCGreufhT4D1bx5qdhr/iRv+Eg1C8lmW2gcARhmLKv1wRxQB81AZp7QyIiu6Mqt90kcGvQfEvw3tPCfxUh8Oa3qq22my4kF6V5EZzjj1yMV7t8TfCPgJPCug6d4k1aTSrS0TbaNGBmX5e/FAHyLRXtHgr4TeG/G/g3XL7TNQujqOmzSpHGCNsijJjb15H61h/B/4XJ8QfEGoW2qyTW1lYxZlkixkSFsBefo35UAcX4d8Ka34su5Lbw9YSXs0S73SPGQOmea27z4RePLC3ae58M3wjQZYpHvwPoua9Z+Atjpum/GPxFZaJM81lb25jikkIy4DgZ4ra8KeOfHV98db/RLgyXOiR3k0ZDwgLHGGO0hsfSgD5o03Q9R1fVk0zTrV5ryQkLCOGJAyRz9DTNW0i+0PUpbDVbdre6iOHjbGVr2fx3f6P4N/abi1LiG0j2y3QiXOGZGB4H1BrzD4g63a+IvHmqapYOz21xMWjZlwSPpXPz1frHJy+5a9/O+33D0sc3RRRXQIKKKKACiiigAr0/4VeMvEHg+yupbTR5NV0W4k23EaoTtfHYj2PevMK6/wd8Ste8EWk1ro7wGCZ/MeOaPcN2MZ/KuTG0fb0HT5VK/R6fiVF2dz1X4g+FPDHiX4az+MtH0uTRruFQ5jZPL38gEFenfqK+fDXZ+K/il4k8X2P2LUriOK0yCYYE2qxHrXGGufLMPXw9FwrSvq7a3suiv1HNpvQ98+M//ACQ/wB/1wX/0UleBV9H+J38IeM/g94dsJ/F1lY3uk2IcwEhmd/LA2dRg5XFfOLACQjsDXpkG9J4Q8RxeFV1+SwnXSGPy3B+6awK7Gb4na/P8P4/B8kkJ0yMAD5PnwDkDNccPegDfvfCHiLT/AA7Brd/p88WlzECOdvunPSvUG+InwkOhm3Hgdvtnk7PP2D7+PvdfWuC1b4n6/rXga28KXskJ0+2K7dseHIXoCc1xtAGhoXPiTTvT7XF/6GK92/as/wCPjwr/ANcJ/wD2nXz9a3D2l3FcRY8yFw65HcHIrpPGfxC1zx41mfEEsUhslZYfLj24DYz3/wBkUAeofs2f8eHi/wD68h/WvBj94/Wvo34UHwf4K8IaheS+L7KW91axAe0YhWhbGducnNfObfeNACUUUUAFSWzxx3UTzLujVwWX1GeRUdFAHqeqeMvh5c6FdW9h4WaG7kgZIpdo+VyOD19aLHxl8PIfD9vbXXhZpL1LZY5Jto+aQLgt17nmvLKK09ozl+qwta7+9np3h3xf4AsNBgttY8NNd3iZ8ybYPm5JHf0xUPh/xX4EsXvzq3hxroTXBeD5R+7TsvWvN6KXOxvDQd9Xr5s9LsvFngKLxRqV3c+G2k0+dIxbQbR+6IHzHr3NRv4q8Cnxml+nhwjSxaeW1rtHMu7O/r6cV5xRRzsPq8b3u9rbs9J1bxZ4EutW0ubT/DhgtrebddR7R+9XHTrUHjHxR4J1XQWtvDvh82F4XUiYqBgDqOtee0Uc7COGhFp3enmwNFFFQdIUUUUAFXNIP/E7sf8Ar4j/APQhVOpLeZre5jmj+/GwZc+oOaAPo79rGaRbfwtErsEb7QzKDwSBFg/qfzqr+ypf20d9r1g7gXc0aSRg/wASqSD/ADFeR+NfiPr3j9bIeIZYZPsIcQmOPbjdjOeefuisLRdb1Dw/qkWo6RdSWt1CcpJGcEf/AFqAPoib4gXXhvxTJbWnwgtY9RglZFuLWLBbnqHCd/rUHwt8UNr37SWsX+q2P9mXl3ZNH9lZ8lXXywRn1wua4gftHeOfswjMtkZAMeb9n+b69a8+XxTqyeKT4iiu3j1MzGYzrwdx60Aes6r4J8TN+0olythcPA2rR3IuQp2eWGUk7unQGt/4631vpnxw8JXl8u+3hjjeRSM5AlNed6t8ffHGraeto99FbgEEyQRbXbBzyc+1cv4y8dax471GC91+SN54IvKRo02/LnP9aAPbf2lPDGta9rOi6potvNfWTWvlBYFL7W3Ft3HqGHPtV34mq2gfsu6Xo+sHbqLrBGqMctuDhz+Sg15R4c+OnjPw3pUenWt5FcW0K7Yluo95QegORxXN+L/HWu+N75LnX7xpjGMRxqNqJ9BQB9A/EbS7zxV+zp4fbw3E92IYoHeKEZbAXB4Hoa+eLrwrrmjW9re6tp09pbzS7I2mXbvIxnAPPetvwd8XfFfgmyNnpN4j2uciC4Teqn29Kg8Z/E/xD47a2/t2aIx2rFoo4o9qgnqf0oA9m/aQdh8LfCqgkKZYiR/2wNL4ZOf2OtUzz+6uP/QjXi3i34l6/wCNNHstM1uWFreyYNCI49pGF2jPPPFFp8TPEFl4Dm8IQSwjSplZXUx/N8xyec0Ae3fDD/if/sxato2i/NqUfnI8anDMxbcPzU4rP/Zq8Ma3oXiPWdR1mynsbQWnlEzqUy28Hv6BTzXiXhPxtrngrUDd6BeNAzjDoRlHHuK6jxF8dfGniTSpNPubyK2glXbILWPYXHoTk0Aek/BO8t9Q+PXi27siDBOJXjI7gvXn1tPI37TjszsW/t6UZz2DsK5Pwb461jwLqc1/oMkaTzR+W5kTeMZzVRPE9/H4wPiVWT+0Dcm6Lbfl8wkknH1NAHqv7TWB8UrE/wDTnH/6G1dl+0Zo2o614W8NNpFlNeBDljChbGU46V4D4w8bat451ZNS16SN7iOMRKY02jaCT0/Gus0f4++NNG0WLTYbm3mihQJG80O51Ue+aALnwE8UP4U+Jf8AZWobkt9RzazxvxtkB4z+OR+Neza3Y23wj+HPjHULUiKfUrtzbEdcuAFH4FnNeHfD34c+KPiFrq+I7IxR239oF7m5aQKUfIdsL1/irq/2l/GSXupaf4XsboTR2K+bdFTkGQjCg+4GfzoAj/Zbcv4+1V25LWeT7/OKv+N/2ifEGkeItY0bStO0+3NrdSwLcbGZztYjPXGePSvHvBnjrWPAmoTXugSRJPNH5bGRNwxnPrWPq2p3Gtavd6lelTcXcrTSlRgFmOTx9TQAmqapd6zqc+oalO9xdXD75JHPLGqmaKKACiiigAooooAKKKKACiiigAooooAXJpKKKACiiigAooooAKKKKADJ9aKKKACiiigAooooAKKKKACiiigAooooAKKKKACiiigAooooAKKKKACiiigAooooAKKKKACiiigAooooAKKKKACiiigAooooAKKKKANjTPFmu6NYSWWlardWltKxZ4oZSqscYzx9KypZXnkaSV2d2OSzHJJplFABRRRQAUUUUAFFFFABRRRQB//Z)"
      ]
    },
    {
      "cell_type": "code",
      "metadata": {
        "colab": {
          "base_uri": "https://localhost:8080/"
        },
        "id": "qk2kYqhQwMME",
        "outputId": "572dfe1a-06a8-44ae-cfab-374a5bcc7477"
      },
      "source": [
        "# string Slicing\n",
        "\n",
        "x = \"python\"\n",
        "print(x[0:4])"
      ],
      "execution_count": null,
      "outputs": [
        {
          "output_type": "stream",
          "text": [
            "pyth\n"
          ],
          "name": "stdout"
        }
      ]
    },
    {
      "cell_type": "code",
      "metadata": {
        "colab": {
          "base_uri": "https://localhost:8080/"
        },
        "id": "GQC-pIY3wpjj",
        "outputId": "fcd9f614-6f04-4442-faa9-ae2a7574b6f0"
      },
      "source": [
        "# string Slicing\n",
        "\n",
        "x = \"python\"\n",
        "print(x[0:5:2])"
      ],
      "execution_count": null,
      "outputs": [
        {
          "output_type": "stream",
          "text": [
            "pto\n"
          ],
          "name": "stdout"
        }
      ]
    },
    {
      "cell_type": "markdown",
      "metadata": {
        "id": "NuXwfEyQl4FW"
      },
      "source": [
        "#### **7.18) Repetition**"
      ]
    },
    {
      "cell_type": "code",
      "metadata": {
        "colab": {
          "base_uri": "https://localhost:8080/"
        },
        "id": "-3lUUsQFmIL-",
        "outputId": "c95c0f38-5966-4d06-8dae-1a01eee225ac"
      },
      "source": [
        "x = \"hope-\"\n",
        "print(x*3)\n",
        "\n",
        "# print(\"hope-\"*3)"
      ],
      "execution_count": null,
      "outputs": [
        {
          "output_type": "stream",
          "text": [
            "hope-hope-hope-\n"
          ],
          "name": "stdout"
        }
      ]
    },
    {
      "cell_type": "markdown",
      "metadata": {
        "id": "9CATYMEfm0MJ"
      },
      "source": [
        "#### **7.19) Formating**"
      ]
    },
    {
      "cell_type": "code",
      "metadata": {
        "colab": {
          "base_uri": "https://localhost:8080/"
        },
        "id": "3zKPuJVfm6Bt",
        "outputId": "e2021373-b248-48fe-b6dd-849723efd97c"
      },
      "source": [
        "name = \"Rahul\"\n",
        "age = 18\n",
        "print(f\"Hello {name} your age is {age}\")"
      ],
      "execution_count": null,
      "outputs": [
        {
          "output_type": "stream",
          "text": [
            "Hello Rahul your age is 18\n"
          ],
          "name": "stdout"
        }
      ]
    },
    {
      "cell_type": "markdown",
      "metadata": {
        "id": "jkAUhXlQnXLQ"
      },
      "source": [
        "#### **7.20) Concatenation**\n",
        "- Addition of strings is called string concatenation."
      ]
    },
    {
      "cell_type": "code",
      "metadata": {
        "colab": {
          "base_uri": "https://localhost:8080/"
        },
        "id": "uvmKsVKWnd_m",
        "outputId": "f3740aa3-2860-449a-cfdf-692528405d52"
      },
      "source": [
        "x = \"Hello\"\n",
        "y = \"World\"\n",
        "print(x+y)"
      ],
      "execution_count": null,
      "outputs": [
        {
          "output_type": "stream",
          "text": [
            "HelloWorld\n"
          ],
          "name": "stdout"
        }
      ]
    },
    {
      "cell_type": "code",
      "metadata": {
        "colab": {
          "base_uri": "https://localhost:8080/"
        },
        "id": "WW0E1cLo_gmO",
        "outputId": "41a11384-599a-4fa2-de64-f80a469e11d0"
      },
      "source": [
        "x = \"Pythoncommunity\"\n",
        "y = x\n",
        "res = y + \"xx\"\n",
        "print(res)"
      ],
      "execution_count": null,
      "outputs": [
        {
          "output_type": "stream",
          "text": [
            "Pythoncommunityxx\n"
          ],
          "name": "stdout"
        }
      ]
    },
    {
      "cell_type": "markdown",
      "metadata": {
        "id": "8BsYBVhmvK2u"
      },
      "source": [
        "#### **7.21) General**"
      ]
    },
    {
      "cell_type": "code",
      "metadata": {
        "colab": {
          "base_uri": "https://localhost:8080/"
        },
        "id": "u2cVJUp1aywK",
        "outputId": "efa26128-622b-409e-89cc-85689580e676"
      },
      "source": [
        "# Length of string in python\n",
        "\n",
        "string = input(\"enter the string:\")\n",
        "count=0\n",
        "for i in string:\n",
        "  count=count+1\n",
        "\n",
        "print(\"length of string:\")\n",
        "print(count)"
      ],
      "execution_count": null,
      "outputs": [
        {
          "output_type": "stream",
          "text": [
            "enter the string:python\n",
            "length of string:\n",
            "6\n"
          ],
          "name": "stdout"
        }
      ]
    },
    {
      "cell_type": "code",
      "metadata": {
        "id": "EgnUZN2b7ZFu",
        "colab": {
          "base_uri": "https://localhost:8080/",
          "height": 35
        },
        "outputId": "22cbc5bc-b973-4246-f41d-3c70c70a1e20"
      },
      "source": [
        "a = ['gg','ca']\n",
        "max(a)"
      ],
      "execution_count": null,
      "outputs": [
        {
          "output_type": "execute_result",
          "data": {
            "application/vnd.google.colaboratory.intrinsic+json": {
              "type": "string"
            },
            "text/plain": [
              "'gg'"
            ]
          },
          "metadata": {
            "tags": []
          },
          "execution_count": 52
        }
      ]
    },
    {
      "cell_type": "code",
      "metadata": {
        "id": "IG8OZO8A7jiB",
        "colab": {
          "base_uri": "https://localhost:8080/",
          "height": 180
        },
        "outputId": "58636897-bfd4-4adc-a197-257b602b417f"
      },
      "source": [
        "a = ['gg',0]\n",
        "max(a)"
      ],
      "execution_count": null,
      "outputs": [
        {
          "output_type": "error",
          "ename": "TypeError",
          "evalue": "ignored",
          "traceback": [
            "\u001b[0;31m---------------------------------------------------------------------------\u001b[0m",
            "\u001b[0;31mTypeError\u001b[0m                                 Traceback (most recent call last)",
            "\u001b[0;32m<ipython-input-53-1bb0236a3336>\u001b[0m in \u001b[0;36m<module>\u001b[0;34m()\u001b[0m\n\u001b[1;32m      1\u001b[0m \u001b[0ma\u001b[0m \u001b[0;34m=\u001b[0m \u001b[0;34m[\u001b[0m\u001b[0;34m'gg'\u001b[0m\u001b[0;34m,\u001b[0m\u001b[0;36m0\u001b[0m\u001b[0;34m]\u001b[0m\u001b[0;34m\u001b[0m\u001b[0;34m\u001b[0m\u001b[0m\n\u001b[0;32m----> 2\u001b[0;31m \u001b[0mmax\u001b[0m\u001b[0;34m(\u001b[0m\u001b[0ma\u001b[0m\u001b[0;34m)\u001b[0m\u001b[0;34m\u001b[0m\u001b[0;34m\u001b[0m\u001b[0m\n\u001b[0m",
            "\u001b[0;31mTypeError\u001b[0m: '>' not supported between instances of 'int' and 'str'"
          ]
        }
      ]
    },
    {
      "cell_type": "markdown",
      "metadata": {
        "id": "jJcyIKvtHTn9"
      },
      "source": [
        "#### **Question 1**"
      ]
    },
    {
      "cell_type": "code",
      "metadata": {
        "colab": {
          "base_uri": "https://localhost:8080/"
        },
        "id": "xb6IijwdHXtH",
        "outputId": "70ae1260-516e-4d0d-d234-1d35a75a20da"
      },
      "source": [
        "x = 'python'\n",
        "print(x.find('p'))"
      ],
      "execution_count": null,
      "outputs": [
        {
          "output_type": "stream",
          "text": [
            "0\n"
          ],
          "name": "stdout"
        }
      ]
    },
    {
      "cell_type": "code",
      "metadata": {
        "colab": {
          "base_uri": "https://localhost:8080/"
        },
        "id": "Y-veRzs6HuIk",
        "outputId": "6f2c582e-2cf4-4be0-e058-4c582c4b74b3"
      },
      "source": [
        "y = 'python'\n",
        "print(y.find('P'))"
      ],
      "execution_count": null,
      "outputs": [
        {
          "output_type": "stream",
          "text": [
            "-1\n"
          ],
          "name": "stdout"
        }
      ]
    },
    {
      "cell_type": "markdown",
      "metadata": {
        "id": "eD1tu1gmIUuF"
      },
      "source": [
        "- **'python'** all are small letters and find value is **P** capital letter\n",
        "\n",
        "- **find** method returns **-1** if value not found\n",
        "\n",
        "- **index()** method raises an exception if the value is not found"
      ]
    },
    {
      "cell_type": "markdown",
      "metadata": {
        "id": "wA3obYcpwed0"
      },
      "source": [
        "#### **Question 2**"
      ]
    },
    {
      "cell_type": "code",
      "metadata": {
        "colab": {
          "base_uri": "https://localhost:8080/"
        },
        "id": "kVxBfF65wjoc",
        "outputId": "a47ee91f-034f-4566-bd3b-95e8a54aadd9"
      },
      "source": [
        "s = 'apple'\n",
        "x = s.find('p')\n",
        "y = s.find('f')\n",
        "z = s.find('')\n",
        "print(x + y +z)\n",
        "\n",
        "print(x)\n",
        "print(y)\n",
        "print(z)"
      ],
      "execution_count": null,
      "outputs": [
        {
          "output_type": "stream",
          "text": [
            "0\n",
            "1\n",
            "-1\n",
            "0\n"
          ],
          "name": "stdout"
        }
      ]
    },
    {
      "cell_type": "markdown",
      "metadata": {
        "id": "RxFOM5Z8XEjf"
      },
      "source": [
        "#### **Question 3**"
      ]
    },
    {
      "cell_type": "code",
      "metadata": {
        "colab": {
          "base_uri": "https://localhost:8080/",
          "height": 318
        },
        "id": "xOdmo900XQPC",
        "outputId": "2fc6ff17-2051-4901-b2f8-beab8dc7ad54"
      },
      "source": [
        "x = \"Hello\" + \"world\"\n",
        "y = len(x)\n",
        " \n",
        "print (x)\n",
        "print (y)\n",
        " \n",
        "print (y+x)"
      ],
      "execution_count": null,
      "outputs": [
        {
          "output_type": "stream",
          "text": [
            "Helloworld\n",
            "10\n"
          ],
          "name": "stdout"
        },
        {
          "output_type": "error",
          "ename": "TypeError",
          "evalue": "ignored",
          "traceback": [
            "\u001b[0;31m---------------------------------------------------------------------------\u001b[0m",
            "\u001b[0;31mTypeError\u001b[0m                                 Traceback (most recent call last)",
            "\u001b[0;32m<ipython-input-2-4369aae37980>\u001b[0m in \u001b[0;36m<module>\u001b[0;34m()\u001b[0m\n\u001b[1;32m      5\u001b[0m \u001b[0mprint\u001b[0m \u001b[0;34m(\u001b[0m\u001b[0my\u001b[0m\u001b[0;34m)\u001b[0m\u001b[0;34m\u001b[0m\u001b[0;34m\u001b[0m\u001b[0m\n\u001b[1;32m      6\u001b[0m \u001b[0;34m\u001b[0m\u001b[0m\n\u001b[0;32m----> 7\u001b[0;31m \u001b[0mprint\u001b[0m \u001b[0;34m(\u001b[0m\u001b[0my\u001b[0m\u001b[0;34m+\u001b[0m\u001b[0mx\u001b[0m\u001b[0;34m)\u001b[0m\u001b[0;34m\u001b[0m\u001b[0;34m\u001b[0m\u001b[0m\n\u001b[0m",
            "\u001b[0;31mTypeError\u001b[0m: unsupported operand type(s) for +: 'int' and 'str'"
          ]
        }
      ]
    },
    {
      "cell_type": "code",
      "metadata": {
        "colab": {
          "base_uri": "https://localhost:8080/"
        },
        "id": "Khnln6h8YlZD",
        "outputId": "45aa5b40-bf35-496d-cde1-8945f9861cf6"
      },
      "source": [
        "x = \"Hello\" + \"world\"\n",
        "y = len(x)\n",
        " \n",
        "print (x)\n",
        "print (y)\n",
        " \n",
        "print (str(y)+x)"
      ],
      "execution_count": null,
      "outputs": [
        {
          "output_type": "stream",
          "text": [
            "Helloworld\n",
            "10\n",
            "10Helloworld\n"
          ],
          "name": "stdout"
        }
      ]
    },
    {
      "cell_type": "code",
      "metadata": {
        "colab": {
          "base_uri": "https://localhost:8080/"
        },
        "id": "O3tr_7f5bHhc",
        "outputId": "4cbaf1ae-2ed4-472c-cfde-3391568d2189"
      },
      "source": [
        " x = \"Hello\" + \"world\"\n",
        "y = len(x)\n",
        " \n",
        "print (y, x)"
      ],
      "execution_count": null,
      "outputs": [
        {
          "output_type": "stream",
          "text": [
            "10 Helloworld\n"
          ],
          "name": "stdout"
        }
      ]
    },
    {
      "cell_type": "markdown",
      "metadata": {
        "id": "bt4f5xMiZUD_"
      },
      "source": [
        "#### **Question 4**"
      ]
    },
    {
      "cell_type": "code",
      "metadata": {
        "colab": {
          "base_uri": "https://localhost:8080/"
        },
        "id": "Z3BQCESsZZi0",
        "outputId": "10167dd3-9bd3-4cdf-a83b-517019e1368b"
      },
      "source": [
        "y = str(123)\n",
        "x = \"Hello\" * 3\n",
        "print (x, y)"
      ],
      "execution_count": null,
      "outputs": [
        {
          "output_type": "stream",
          "text": [
            "HelloHelloHello 123\n"
          ],
          "name": "stdout"
        }
      ]
    },
    {
      "cell_type": "markdown",
      "metadata": {
        "id": "C7xFhdQ1PMcH"
      },
      "source": [
        "#### **Question 5**"
      ]
    },
    {
      "cell_type": "code",
      "metadata": {
        "colab": {
          "base_uri": "https://localhost:8080/"
        },
        "id": "N9yt1ZEMPPvG",
        "outputId": "90f6c622-97da-4007-fb4e-283850b98545"
      },
      "source": [
        "txt = \"I love apples, apple are my favorite fruit\"\n",
        "x = txt.count(\"apple\")\n",
        "print(x)"
      ],
      "execution_count": null,
      "outputs": [
        {
          "output_type": "stream",
          "text": [
            "2\n"
          ],
          "name": "stdout"
        }
      ]
    },
    {
      "cell_type": "markdown",
      "metadata": {
        "id": "3nNL5Y1NR4o2"
      },
      "source": [
        "##### **Question 5:**\n",
        "#### **How do you capitalize all strings in list?**"
      ]
    },
    {
      "cell_type": "markdown",
      "metadata": {
        "id": "4s5SSXybTlrn"
      },
      "source": [
        "##### **Method 1:**"
      ]
    },
    {
      "cell_type": "code",
      "metadata": {
        "colab": {
          "base_uri": "https://localhost:8080/"
        },
        "id": "esqUH2E0SDvA",
        "outputId": "9356c889-22fc-4faa-8167-f725b9ea7a77"
      },
      "source": [
        "t = [\"montag\", \"dienstag\", \"mittwoch\", \"donnerstag\"]\n",
        "\n",
        "print([i.title() for i in t])"
      ],
      "execution_count": null,
      "outputs": [
        {
          "output_type": "stream",
          "text": [
            "['Montag', 'Dienstag', 'Mittwoch', 'Donnerstag']\n"
          ],
          "name": "stdout"
        }
      ]
    },
    {
      "cell_type": "markdown",
      "metadata": {
        "id": "GkJlbHjsTrxX"
      },
      "source": [
        "##### **Method 2**"
      ]
    },
    {
      "cell_type": "code",
      "metadata": {
        "colab": {
          "base_uri": "https://localhost:8080/"
        },
        "id": "MLHvbg5_TwUB",
        "outputId": "60932870-0b71-4c56-a378-f745bee9f070"
      },
      "source": [
        "print([i.capitalize() for i in t])"
      ],
      "execution_count": null,
      "outputs": [
        {
          "output_type": "stream",
          "text": [
            "['Montag', 'Dienstag', 'Mittwoch', 'Donnerstag']\n"
          ],
          "name": "stdout"
        }
      ]
    },
    {
      "cell_type": "markdown",
      "metadata": {
        "id": "x9V-EQyGTtf9"
      },
      "source": [
        "##### **Method 3**"
      ]
    },
    {
      "cell_type": "code",
      "metadata": {
        "colab": {
          "base_uri": "https://localhost:8080/"
        },
        "id": "zQW6ZBfqTvnz",
        "outputId": "90a19d3e-f31b-4fcc-843d-66c8edcd3126"
      },
      "source": [
        "new = []\n",
        "for i in t:\n",
        "  new += [i.title()]\n",
        "\n",
        "new"
      ],
      "execution_count": null,
      "outputs": [
        {
          "output_type": "execute_result",
          "data": {
            "text/plain": [
              "['Montag', 'Dienstag', 'Mittwoch', 'Donnerstag']"
            ]
          },
          "metadata": {
            "tags": []
          },
          "execution_count": 14
        }
      ]
    },
    {
      "cell_type": "code",
      "metadata": {
        "colab": {
          "base_uri": "https://localhost:8080/"
        },
        "id": "o4waYeRJ1Sqx",
        "outputId": "5968d408-88e6-453e-bfeb-adeb32e08251"
      },
      "source": [
        "new = []\n",
        "for i in t:\n",
        "  new.append(i.title())\n",
        "\n",
        "new"
      ],
      "execution_count": null,
      "outputs": [
        {
          "output_type": "execute_result",
          "data": {
            "text/plain": [
              "['Montag', 'Dienstag', 'Mittwoch', 'Donnerstag']"
            ]
          },
          "metadata": {
            "tags": []
          },
          "execution_count": 17
        }
      ]
    },
    {
      "cell_type": "markdown",
      "metadata": {
        "id": "5PKUAi-o5Fs3"
      },
      "source": [
        "##### **Method 4**"
      ]
    },
    {
      "cell_type": "code",
      "metadata": {
        "colab": {
          "base_uri": "https://localhost:8080/",
          "height": 163
        },
        "id": "NeCpHHrF5KEI",
        "outputId": "3e04509c-9a44-4c55-fe52-4f7dc7963c8f"
      },
      "source": [
        "list(map(lambda x: x.upper(), [\"saturday\", \"sunday\", \"monday\", \"friday\"]))"
      ],
      "execution_count": null,
      "outputs": [
        {
          "output_type": "error",
          "ename": "TypeError",
          "evalue": "ignored",
          "traceback": [
            "\u001b[0;31m---------------------------------------------------------------------------\u001b[0m",
            "\u001b[0;31mTypeError\u001b[0m                                 Traceback (most recent call last)",
            "\u001b[0;32m<ipython-input-24-0f0b1391ae13>\u001b[0m in \u001b[0;36m<module>\u001b[0;34m()\u001b[0m\n\u001b[0;32m----> 1\u001b[0;31m \u001b[0mlist\u001b[0m\u001b[0;34m(\u001b[0m\u001b[0mmap\u001b[0m\u001b[0;34m(\u001b[0m\u001b[0;32mlambda\u001b[0m \u001b[0mx\u001b[0m\u001b[0;34m:\u001b[0m \u001b[0mx\u001b[0m\u001b[0;34m.\u001b[0m\u001b[0mupper\u001b[0m\u001b[0;34m(\u001b[0m\u001b[0;34m)\u001b[0m\u001b[0;34m,\u001b[0m \u001b[0;34m[\u001b[0m\u001b[0;34m\"saturday\"\u001b[0m\u001b[0;34m,\u001b[0m \u001b[0;34m\"sunday\"\u001b[0m\u001b[0;34m,\u001b[0m \u001b[0;34m\"monday\"\u001b[0m\u001b[0;34m,\u001b[0m \u001b[0;34m\"friday\"\u001b[0m\u001b[0;34m]\u001b[0m\u001b[0;34m)\u001b[0m\u001b[0;34m)\u001b[0m\u001b[0;34m\u001b[0m\u001b[0;34m\u001b[0m\u001b[0m\n\u001b[0m",
            "\u001b[0;31mTypeError\u001b[0m: 'list' object is not callable"
          ]
        }
      ]
    },
    {
      "cell_type": "markdown",
      "metadata": {
        "id": "uEMcoH7b7Il_"
      },
      "source": [
        "##### **Question 6:**\n",
        "#### **How to make the elements in a list of strings uppercase?**"
      ]
    },
    {
      "cell_type": "code",
      "metadata": {
        "colab": {
          "base_uri": "https://localhost:8080/",
          "height": 197
        },
        "id": "kaBTNguD7K8Q",
        "outputId": "3d60b6b8-8d91-4559-e7a6-98c0df3e60fe"
      },
      "source": [
        "# map function\n",
        "\n",
        "Str = [\"john\", \"bob\", \"peter\", \"mike\"]\n",
        "\n",
        "list(map(str.upper, Str))"
      ],
      "execution_count": null,
      "outputs": [
        {
          "output_type": "error",
          "ename": "TypeError",
          "evalue": "ignored",
          "traceback": [
            "\u001b[0;31m---------------------------------------------------------------------------\u001b[0m",
            "\u001b[0;31mTypeError\u001b[0m                                 Traceback (most recent call last)",
            "\u001b[0;32m<ipython-input-26-b53dd68b2ea2>\u001b[0m in \u001b[0;36m<module>\u001b[0;34m()\u001b[0m\n\u001b[1;32m      1\u001b[0m \u001b[0mStr\u001b[0m \u001b[0;34m=\u001b[0m \u001b[0;34m[\u001b[0m\u001b[0;34m\"john\"\u001b[0m\u001b[0;34m,\u001b[0m \u001b[0;34m\"bob\"\u001b[0m\u001b[0;34m,\u001b[0m \u001b[0;34m\"peter\"\u001b[0m\u001b[0;34m,\u001b[0m \u001b[0;34m\"mike\"\u001b[0m\u001b[0;34m]\u001b[0m\u001b[0;34m\u001b[0m\u001b[0;34m\u001b[0m\u001b[0m\n\u001b[1;32m      2\u001b[0m \u001b[0;34m\u001b[0m\u001b[0m\n\u001b[0;32m----> 3\u001b[0;31m \u001b[0mlist\u001b[0m\u001b[0;34m(\u001b[0m\u001b[0mmap\u001b[0m\u001b[0;34m(\u001b[0m\u001b[0mstr\u001b[0m\u001b[0;34m.\u001b[0m\u001b[0mupper\u001b[0m\u001b[0;34m,\u001b[0m \u001b[0mStr\u001b[0m\u001b[0;34m)\u001b[0m\u001b[0;34m)\u001b[0m\u001b[0;34m\u001b[0m\u001b[0;34m\u001b[0m\u001b[0m\n\u001b[0m",
            "\u001b[0;31mTypeError\u001b[0m: 'list' object is not callable"
          ]
        }
      ]
    },
    {
      "cell_type": "code",
      "metadata": {
        "colab": {
          "base_uri": "https://localhost:8080/"
        },
        "id": "Wfkq18e-81gE",
        "outputId": "7874234f-a8a7-4008-b84a-3b829d582a87"
      },
      "source": [
        "# List Comprehension\n",
        "\n",
        "Str = [\"john\", \"bob\", \"peter\", \"mike\"]\n",
        "\n",
        "print([i.upper() for i in Str])"
      ],
      "execution_count": null,
      "outputs": [
        {
          "output_type": "stream",
          "text": [
            "['JOHN', 'BOB', 'PETER', 'MIKE']\n"
          ],
          "name": "stdout"
        }
      ]
    },
    {
      "cell_type": "code",
      "metadata": {
        "colab": {
          "base_uri": "https://localhost:8080/"
        },
        "id": "544-xoX89VcT",
        "outputId": "cc9b24ce-553f-452a-a0a7-7902501b1332"
      },
      "source": [
        "# for loop with list append\n",
        "\n",
        "list = []\n",
        "for i in Str:\n",
        "  list.append(i.upper())\n",
        "\n",
        "print(list)"
      ],
      "execution_count": null,
      "outputs": [
        {
          "output_type": "stream",
          "text": [
            "['JOHN', 'BOB', 'PETER', 'MIKE']\n"
          ],
          "name": "stdout"
        }
      ]
    },
    {
      "cell_type": "code",
      "metadata": {
        "colab": {
          "base_uri": "https://localhost:8080/"
        },
        "id": "ZCSgMa1V-FfO",
        "outputId": "1c8ed188-42fd-4007-c241-1208808567dc"
      },
      "source": [
        "# for loop with range\n",
        "\n",
        "for i in range(len(Str)):\n",
        "  Str[i] = Str[i].upper()\n",
        "\n",
        "print(Str)"
      ],
      "execution_count": null,
      "outputs": [
        {
          "output_type": "stream",
          "text": [
            "['JOHN', 'BOB', 'PETER', 'MIKE']\n"
          ],
          "name": "stdout"
        }
      ]
    },
    {
      "cell_type": "markdown",
      "metadata": {
        "id": "eC6lwFYw50mQ"
      },
      "source": [
        "##### **Question 7:**\n",
        "#### **How to make the elements in a list of strings lowercase?**"
      ]
    },
    {
      "cell_type": "code",
      "metadata": {
        "colab": {
          "base_uri": "https://localhost:8080/",
          "height": 163
        },
        "id": "tFCAFJSQ5uHr",
        "outputId": "ed8d4a18-faf8-4994-e79f-c7c5a384a627"
      },
      "source": [
        "list(map(lambda x: x.lower(), [\"saturday\", \"sunday\", \"monday\", \"friday\"]))"
      ],
      "execution_count": null,
      "outputs": [
        {
          "output_type": "error",
          "ename": "TypeError",
          "evalue": "ignored",
          "traceback": [
            "\u001b[0;31m---------------------------------------------------------------------------\u001b[0m",
            "\u001b[0;31mTypeError\u001b[0m                                 Traceback (most recent call last)",
            "\u001b[0;32m<ipython-input-25-d45a98b67185>\u001b[0m in \u001b[0;36m<module>\u001b[0;34m()\u001b[0m\n\u001b[0;32m----> 1\u001b[0;31m \u001b[0mlist\u001b[0m\u001b[0;34m(\u001b[0m\u001b[0mmap\u001b[0m\u001b[0;34m(\u001b[0m\u001b[0;32mlambda\u001b[0m \u001b[0mx\u001b[0m\u001b[0;34m:\u001b[0m \u001b[0mx\u001b[0m\u001b[0;34m.\u001b[0m\u001b[0mlower\u001b[0m\u001b[0;34m(\u001b[0m\u001b[0;34m)\u001b[0m\u001b[0;34m,\u001b[0m \u001b[0;34m[\u001b[0m\u001b[0;34m\"saturday\"\u001b[0m\u001b[0;34m,\u001b[0m \u001b[0;34m\"sunday\"\u001b[0m\u001b[0;34m,\u001b[0m \u001b[0;34m\"monday\"\u001b[0m\u001b[0;34m,\u001b[0m \u001b[0;34m\"friday\"\u001b[0m\u001b[0;34m]\u001b[0m\u001b[0;34m)\u001b[0m\u001b[0;34m)\u001b[0m\u001b[0;34m\u001b[0m\u001b[0;34m\u001b[0m\u001b[0m\n\u001b[0m",
            "\u001b[0;31mTypeError\u001b[0m: 'list' object is not callable"
          ]
        }
      ]
    },
    {
      "cell_type": "markdown",
      "metadata": {
        "id": "NAv2eeatCNo3"
      },
      "source": [
        "##### **Question 8:**\n",
        "#### **How do you reverse the string without take another string?**"
      ]
    },
    {
      "cell_type": "markdown",
      "metadata": {
        "id": "aNrulQpTChpq"
      },
      "source": [
        "###### **Method 1**"
      ]
    },
    {
      "cell_type": "code",
      "metadata": {
        "colab": {
          "base_uri": "https://localhost:8080/",
          "height": 231
        },
        "id": "hnrM9E1eCV0Q",
        "outputId": "6a5ad7e6-91ad-44e6-a740-d6febb83e429"
      },
      "source": [
        "string = \"Jahnavi\"\n",
        "string = list(string)\n",
        "string.reverse()\n",
        "for i in string:\n",
        "  print(i, end='')"
      ],
      "execution_count": null,
      "outputs": [
        {
          "output_type": "error",
          "ename": "TypeError",
          "evalue": "ignored",
          "traceback": [
            "\u001b[0;31m---------------------------------------------------------------------------\u001b[0m",
            "\u001b[0;31mTypeError\u001b[0m                                 Traceback (most recent call last)",
            "\u001b[0;32m<ipython-input-37-46cb7ed6dc0d>\u001b[0m in \u001b[0;36m<module>\u001b[0;34m()\u001b[0m\n\u001b[1;32m      1\u001b[0m \u001b[0mstring\u001b[0m \u001b[0;34m=\u001b[0m \u001b[0;34m\"Jahnavi\"\u001b[0m\u001b[0;34m\u001b[0m\u001b[0;34m\u001b[0m\u001b[0m\n\u001b[0;32m----> 2\u001b[0;31m \u001b[0mstring\u001b[0m \u001b[0;34m=\u001b[0m \u001b[0mlist\u001b[0m\u001b[0;34m(\u001b[0m\u001b[0mstring\u001b[0m\u001b[0;34m)\u001b[0m\u001b[0;34m\u001b[0m\u001b[0;34m\u001b[0m\u001b[0m\n\u001b[0m\u001b[1;32m      3\u001b[0m \u001b[0mstring\u001b[0m\u001b[0;34m.\u001b[0m\u001b[0mreverse\u001b[0m\u001b[0;34m(\u001b[0m\u001b[0;34m)\u001b[0m\u001b[0;34m\u001b[0m\u001b[0;34m\u001b[0m\u001b[0m\n\u001b[1;32m      4\u001b[0m \u001b[0;32mfor\u001b[0m \u001b[0mi\u001b[0m \u001b[0;32min\u001b[0m \u001b[0mstring\u001b[0m\u001b[0;34m:\u001b[0m\u001b[0;34m\u001b[0m\u001b[0;34m\u001b[0m\u001b[0m\n\u001b[1;32m      5\u001b[0m   \u001b[0mprint\u001b[0m\u001b[0;34m(\u001b[0m\u001b[0mi\u001b[0m\u001b[0;34m,\u001b[0m \u001b[0mend\u001b[0m\u001b[0;34m=\u001b[0m\u001b[0;34m''\u001b[0m\u001b[0;34m)\u001b[0m\u001b[0;34m\u001b[0m\u001b[0;34m\u001b[0m\u001b[0m\n",
            "\u001b[0;31mTypeError\u001b[0m: 'list' object is not callable"
          ]
        }
      ]
    },
    {
      "cell_type": "markdown",
      "metadata": {
        "id": "fzKVxWVSCorv"
      },
      "source": [
        "###### **Method 2**"
      ]
    },
    {
      "cell_type": "code",
      "metadata": {
        "colab": {
          "base_uri": "https://localhost:8080/"
        },
        "id": "p9W6ku1KCqIR",
        "outputId": "463f5b4d-b015-4aa2-9710-adc4c4aa7727"
      },
      "source": [
        "# string slicing\n",
        "\n",
        "string = \"Python\"\n",
        "print(string[::-1])"
      ],
      "execution_count": null,
      "outputs": [
        {
          "output_type": "stream",
          "text": [
            "nohtyP\n"
          ],
          "name": "stdout"
        }
      ]
    },
    {
      "cell_type": "markdown",
      "metadata": {
        "id": "jnFyewFXCqrr"
      },
      "source": [
        "###### **Method 3**"
      ]
    },
    {
      "cell_type": "code",
      "metadata": {
        "colab": {
          "base_uri": "https://localhost:8080/"
        },
        "id": "iTylbGFDCsdJ",
        "outputId": "b181d839-4f5d-43a5-a9a9-eae05a816111"
      },
      "source": [
        "# for loop\n",
        "\n",
        "string = \"Quora\"\n",
        "for i in range(1, len(string)+1):\n",
        "  print(string[-i], end='')"
      ],
      "execution_count": null,
      "outputs": [
        {
          "output_type": "stream",
          "text": [
            "arouQ"
          ],
          "name": "stdout"
        }
      ]
    }
  ]
}