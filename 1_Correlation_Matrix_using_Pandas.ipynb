{
  "nbformat": 4,
  "nbformat_minor": 0,
  "metadata": {
    "colab": {
      "name": "1_Correlation Matrix using Pandas.ipynb",
      "provenance": [],
      "collapsed_sections": [],
      "authorship_tag": "ABX9TyOSSRz1yr7AyKaluSM7YH5e",
      "include_colab_link": true
    },
    "kernelspec": {
      "name": "python3",
      "display_name": "Python 3"
    },
    "language_info": {
      "name": "python"
    }
  },
  "cells": [
    {
      "cell_type": "markdown",
      "metadata": {
        "id": "view-in-github",
        "colab_type": "text"
      },
      "source": [
        "<a href=\"https://colab.research.google.com/github/sureshmecad/Google-Colab/blob/master/1_Correlation_Matrix_using_Pandas.ipynb\" target=\"_parent\"><img src=\"https://colab.research.google.com/assets/colab-badge.svg\" alt=\"Open In Colab\"/></a>"
      ]
    },
    {
      "cell_type": "code",
      "metadata": {
        "colab": {
          "base_uri": "https://localhost:8080/"
        },
        "id": "JCT916KclpDf",
        "outputId": "ad1a5b30-b021-456b-80fe-de4cc857a241"
      },
      "source": [
        "import pandas as pd\n",
        "\n",
        "data = {'A': [45,37,42,35,39],\n",
        "        'B': [38,31,26,28,33],\n",
        "        'C': [10,15,17,21,12]\n",
        "        }\n",
        "\n",
        "df = pd.DataFrame(data,columns=['A','B','C'])\n",
        "print (df)"
      ],
      "execution_count": 1,
      "outputs": [
        {
          "output_type": "stream",
          "name": "stdout",
          "text": [
            "    A   B   C\n",
            "0  45  38  10\n",
            "1  37  31  15\n",
            "2  42  26  17\n",
            "3  35  28  21\n",
            "4  39  33  12\n"
          ]
        }
      ]
    },
    {
      "cell_type": "markdown",
      "metadata": {
        "id": "fD4L8JkKl-lM"
      },
      "source": [
        "### **Create a Correlation Matrix using Pandas**"
      ]
    },
    {
      "cell_type": "code",
      "metadata": {
        "colab": {
          "base_uri": "https://localhost:8080/"
        },
        "id": "jS7oVOGhl4hU",
        "outputId": "aed2ccb3-b3a2-40d9-9970-edf3aa004228"
      },
      "source": [
        "corrMatrix = df.corr()\n",
        "print (corrMatrix)"
      ],
      "execution_count": 2,
      "outputs": [
        {
          "output_type": "stream",
          "name": "stdout",
          "text": [
            "          A         B         C\n",
            "A  1.000000  0.518457 -0.701886\n",
            "B  0.518457  1.000000 -0.860941\n",
            "C -0.701886 -0.860941  1.000000\n"
          ]
        }
      ]
    },
    {
      "cell_type": "markdown",
      "metadata": {
        "id": "aVywQQYTl-jm"
      },
      "source": [
        "### **Get a Visual Representation of the Correlation Matrix using Seaborn and Matplotlib**"
      ]
    },
    {
      "cell_type": "code",
      "metadata": {
        "id": "lf620ufSmFqU"
      },
      "source": [
        "import seaborn as sn\n",
        "import matplotlib.pyplot as plt"
      ],
      "execution_count": 3,
      "outputs": []
    },
    {
      "cell_type": "code",
      "metadata": {
        "colab": {
          "base_uri": "https://localhost:8080/",
          "height": 268
        },
        "id": "QjNiu8AnmNC1",
        "outputId": "40a7da31-0e10-44bb-e762-0743a56f00e7"
      },
      "source": [
        "sn.heatmap(corrMatrix, annot=True)\n",
        "plt.show()"
      ],
      "execution_count": 4,
      "outputs": [
        {
          "output_type": "display_data",
          "data": {
            "image/png": "[encoded data removed]",
            "text/plain": [
              "<Figure size 432x288 with 2 Axes>"
            ]
          },
          "metadata": {
            "needs_background": "light"
          }
        }
      ]
    }
  ]
}